{
 "cells": [
  {
   "cell_type": "markdown",
   "id": "70062fcb-b994-459b-a0a2-b9ae4c0f2ff9",
   "metadata": {
    "tags": []
   },
   "source": [
    "# ReAct智能应用架构深度剖析"
   ]
  },
  {
   "cell_type": "markdown",
   "id": "9135577f-796a-4316-9638-39e19218447e",
   "metadata": {},
   "source": [
    "## 1. ReAct Agent 基本理论"
   ]
  },
  {
   "cell_type": "markdown",
   "id": "6113eea3-d8d9-4fd3-a70f-96d4c6af569d",
   "metadata": {},
   "source": [
    "&emsp;&emsp;ReAct Agent 也称为 `ReAct`，是一个用于提示大语言模型的框架，它首次在 2022 年 10 月的论文[《ReAct：Synergizing Reasoning and Acting in Language Models》](https://arxiv.org/pdf/2210.03629)中引入，并于2023 年 3 月修订。该框架的开发是为了协同大语言模型中的推理和行动，使它们更加强大、通用和可解释。通过交叉推理和行动，**ReAct 使智能体能够动态地在产生想法和特定于任务的行动之间交替。**"
   ]
  },
  {
   "cell_type": "markdown",
   "id": "78d258b7-8776-41c8-a675-157e297f7e2c",
   "metadata": {},
   "source": [
    "> ReAct：https://react-lm.github.io/"
   ]
  },
  {
   "cell_type": "markdown",
   "id": "f3405274-5b55-4953-93e6-70760ee2d093",
   "metadata": {},
   "source": [
    "&emsp;&emsp;ReAct 框架有两个过程，由 `Reason` 和 `Act` 结合而来。从本质上讲，这种方法的灵感来自于人类如何通过和谐地结合思维和行动来执行任务，就像我们上面“我想去北京旅游”这个真实示例一样。\n",
    "\n",
    "&emsp;&emsp;首先第一部分 Reason，它基于一种推理技术——[思想链（CoT）](https://arxiv.org/pdf/2201.11903)， CoT是一种提示工程，通过将输入分解为多个逻辑思维步骤，帮助大语言模型执行推理并解决复杂问题。这使得大模型能够按顺序规划和解决任务的每个部分，从而更准确地获得最终结果，具体包括：\n",
    "\n",
    "- 分解问题：当面对复杂的任务时，CoT 方法不是通过单个步骤解决它，而是将任务分解为更小的步骤，每个步骤解决不同方面的问题。\n",
    "- 顺序思维：思维链中的每一步都建立在上一步的结果之上。这样，模型就能从头到尾构造出一条逻辑推理链。"
   ]
  },
  {
   "cell_type": "markdown",
   "id": "7566d34e-b72e-4634-9c53-46e0a52b590d",
   "metadata": {},
   "source": [
    "&emsp;&emsp;比如，一家商店以 100 元的价格出售产品。如果商店降价20%，然后加价10%，产品的最终价格是多少？\n",
    "- 步骤 1 — 计算降价20%后的价格：如果原价是100元，商店降价20%，我们计算降价后的价格： 10 x (1–0.2) = 80.\n",
    "- 步骤 2 — 计算上涨 10% 后的价格：降价后，产品价格为 80 元。现在商店涨价10%：80 x (1 + 0.1) = 88.\n",
    "- 结论：先降价后加价后，产品最终售价为88元。"
   ]
  },
  {
   "cell_type": "markdown",
   "id": "a20caa3c-dad1-442c-b5f4-fc3e821cd6d0",
   "metadata": {},
   "source": [
    "&emsp;&emsp;由`ReAct`思想抽象出来的代理工程，其基本示例如下所示："
   ]
  },
  {
   "cell_type": "code",
   "execution_count": 122,
   "id": "ba0fd67a-9f5d-4820-8446-a1f42951e459",
   "metadata": {},
   "outputs": [],
   "source": [
    "prompt = \"\"\"\n",
    "You run in a loop of Thought, Action, Observation, Answer.\n",
    "At the end of the loop you output an Answer\n",
    "Use Thought to describe your thoughts about the question you have been asked.\n",
    "Use Action to run one of the actions available to you.\n",
    "Observation will be the result of running those actions.\n",
    "Answer will be the result of analysing the Observation\n",
    "\n",
    "Your available actions are:\n",
    "\n",
    "calculate:\n",
    "e.g. calculate: 4 * 7 / 3\n",
    "Runs a calculation and returns the number - uses Python so be sure to use floating point syntax if necessary\n",
    "\n",
    "wikipedia:\n",
    "e.g. wikipedia: Django\n",
    "Returns a summary from searching Wikipedia\n",
    "\n",
    "Always look things up on Wikipedia if you have the opportunity to do so.\n",
    "\n",
    "Example session:\n",
    "\n",
    "Question: What is the capital of France?\n",
    "\n",
    "Thought: I should look up France on Wikipedia\n",
    "\n",
    "Action: wikipedia: France\n",
    "\n",
    "You should then call the appropriate action and determine the answer from \n",
    "the result\n",
    "\n",
    "You then output:\n",
    "\n",
    "Answer: The capital of France is Paris\n",
    "\"\"\""
   ]
  },
  {
   "cell_type": "markdown",
   "id": "e60322ce-7a88-4f27-aaa0-08e4556ceb76",
   "metadata": {},
   "source": [
    "&emsp;&emsp;对应的中文版本："
   ]
  },
  {
   "cell_type": "code",
   "execution_count": 127,
   "id": "03eff498-722b-45d9-85f0-ddbfd4420a18",
   "metadata": {},
   "outputs": [],
   "source": [
    "prompt = \"\"\"\n",
    "\n",
    "您在一个由“思考、行动、观察、回答”组成的循环中运行。\n",
    "在循环的最后，您输出一个答案。\n",
    "使用“思考”来描述您对所提问题的思考。\n",
    "使用“行动”来执行您可用的动作之一。\n",
    "“观察”将是执行这些动作的结果。\n",
    "“回答”将是分析“观察”结果后得出的答案。\n",
    "\n",
    "您可用的动作包括：\n",
    "\n",
    "calculate（计算）:\n",
    "例如：calculate: 4 * 7 / 3\n",
    "执行计算并返回数字 - 使用Python，如有必要请确保使用浮点数语法\n",
    "\n",
    "wikipedia（维基百科）:\n",
    "例如：wikipedia: Django\n",
    "返回从维基百科搜索的摘要\n",
    "\n",
    "如果有机会，请始终在维基百科上查找信息。\n",
    "\n",
    "示例会话：\n",
    "\n",
    "问题：法国的首都是什么？\n",
    "\n",
    "思考：我应该在维基百科上查找关于法国的信息\n",
    "\n",
    "行动：wikipedia: France\n",
    "\n",
    "然后您应该调用适当的动作，并从结果中确定答案\n",
    "\n",
    "您然后输出：\n",
    "\n",
    "回答：法国的首都是巴黎\n",
    "\n",
    "\"\"\""
   ]
  },
  {
   "cell_type": "markdown",
   "id": "141375aa-31af-4a60-af3a-58d2c094e22e",
   "metadata": {},
   "source": [
    "&emsp;&emsp;如上示例所示：在`ReAct`框架下的代理工程描述中，明确的是**代理的任务和执行过程。**面对不同的场景，其实我们**只需要改变的是：1. 代理的身份设定 2. 代理完成任务所需要的工具。**代理的身份通常通过`system`角色来定义，而所需的工具及其应用则是上一节课中我们重点讨论的`Function Calling`中，关于外部工具的定义和使用方法。。只不过，在代理框架下这些工具的应用方法需要进行适当的调整以适应不同的需求。"
   ]
  },
  {
   "cell_type": "markdown",
   "id": "8e99f1c8-47d6-487e-8bd4-4bfa9439e178",
   "metadata": {},
   "source": [
    "&emsp;&emsp;接下来，我们就进入到代码实战环节，实际的操作一下如何用`Python`复现`ReAct`框架实现自主代理的逻辑。"
   ]
  },
  {
   "cell_type": "markdown",
   "id": "474bb693-a3a4-4ae5-afe0-3207399531ec",
   "metadata": {},
   "source": [
    "## 2. 手写一个 ReAct Agent"
   ]
  },
  {
   "cell_type": "markdown",
   "id": "25083a0f-319a-400a-bbd3-bb0390ae00e9",
   "metadata": {},
   "source": [
    "&emsp;&emsp;**代理的一个主要组成部分是系统提示词**，一般是通过 'role' : 'system' 来设定，比如："
   ]
  },
  {
   "cell_type": "code",
   "execution_count": 11,
   "id": "a6f7f6af-de66-461c-8793-357fda97ea19",
   "metadata": {},
   "outputs": [],
   "source": [
    "from openai import OpenAI\n",
    "client = OpenAI(api_key=\"xxx\" ,\n",
    "                base_url=\"https://chatapi.littlewheat.com/v1\")"
   ]
  },
  {
   "cell_type": "code",
   "execution_count": 21,
   "id": "8321949d-ce90-4d4d-afcb-3b74c46c3292",
   "metadata": {},
   "outputs": [],
   "source": [
    "response = client.chat.completions.create(\n",
    "  model=\"gpt-4o\",\n",
    "  messages=[\n",
    "    {\"role\": \"system\", \"content\": \"你是一位专业的人工智能领域的教授，具备30年的教学经验\"},\n",
    "    {\"role\": \"user\", \"content\": \"请你详细的介绍一下：什么是人工智能？\"},\n",
    "  ]\n",
    ")"
   ]
  },
  {
   "cell_type": "code",
   "execution_count": 22,
   "id": "83ac7e07-666c-4db6-8afc-6a237190c26a",
   "metadata": {},
   "outputs": [
    {
     "name": "stdout",
     "output_type": "stream",
     "text": [
      "人工智能（AI，Artificial Intelligence）是计算机科学的一个分支，致力于开发能够执行通常需要人类智能才能完成的任务的算法和系统。AI的目标是模仿人类的感知、推理、学习和决策能力，使机器能够自动完成复杂的任务。\n",
      "\n",
      "以下是关于人工智能的一些关键概念：\n",
      "\n",
      "1. **历史背景与发展**：\n",
      "   - 人工智能的概念可以追溯到20世纪50年代，当时以阿兰·图灵为代表的计算机科学家们设想了机器模拟人类智能的可能。\n",
      "   - AI的发展历程可以大致分为几个阶段，包括最初的逻辑推理、后来的专家系统、以及当前主导的机器学习和深度学习。\n",
      "\n",
      "2. **基本组件和概念**：\n",
      "   - **机器学习**：AI的一个核心子领域，涉及设计和使用算法处理和学习数据，从而改进任务的执行。机器学习进一步分为监督学习、无监督学习和强化学习。\n",
      "   - **深度学习**：机器学习的一个复杂分支，基于多层神经网络架构，用于处理更复杂的数据类型和任务，如图像和语音识别。\n",
      "   - **自然语言处理（NLP）**：使计算机理解、解释和生成人类语言的能力，是实现人机交互和信息提取的重要技术。\n",
      "   - **计算机视觉**：使机器能够“看”并解释视觉数据，应用于图像识别、目标检测等任务。\n",
      "   - **机器人技术**：结合AI和工程学，使机器具备感知和动作能力，以执行物理任务。\n",
      "\n",
      "3. **应用领域**：\n",
      "   - AI已经广泛应用于许多领域，包括医疗诊断、金融服务（如欺诈检测）、自动驾驶、个性化推荐系统、智能助理（如Siri和Alexa）、工业自动化等。\n",
      "\n",
      "4. **挑战和伦理问题**：\n",
      "   - AI的发展也带来了一些挑战，如数据隐私、安全性、算法偏见、失业等。\n",
      "   - 伦理问题包括AI对社会的影响、责任归属、以及如何防止滥用AI技术等。\n",
      "\n",
      "5. **未来发展**：\n",
      "   - 人工智能正朝着更具通用性的方向发展，逐渐从特定任务走向可以解决更复杂和多样问题的通用人工智能（AGI）。\n",
      "   - 在技术创新中，不断优化的模型和数据集以及提高的计算能力将推动AI向新的高度发展。\n",
      "\n",
      "通过理解和发展这些领域，AI继续改变着我们的生活、工作和社会的方方面面。\n"
     ]
    }
   ],
   "source": [
    "print(response.choices[0].message.content)"
   ]
  },
  {
   "cell_type": "markdown",
   "id": "a06295dd-45c4-42ac-92aa-c166559d0359",
   "metadata": {},
   "source": [
    "&emsp;&emsp;在这个示例中，`system`角色被设置为“你是一位专业的人工智能领域的教授，具备50年的教学经验”。这一设定使得大模型能够从一个人工智能教授的角度出发，详尽介绍人工智能的定义、分类、应用、挑战和未来展望。这种详细的介绍反映了教授丰富的知识和对领域的深刻理解。"
   ]
  },
  {
   "cell_type": "markdown",
   "id": "a983c7cc-aca4-4875-9148-ad60acabb2bf",
   "metadata": {},
   "source": [
    "&emsp;&emsp;我们再来测试不同的身份设定，会得到怎样不同的回答，代码如下所示："
   ]
  },
  {
   "cell_type": "code",
   "execution_count": 23,
   "id": "dc8f24b6-616c-400a-96f9-1b9235cc90a3",
   "metadata": {},
   "outputs": [],
   "source": [
    "response = client.chat.completions.create(\n",
    "  model=\"gpt-4o\",\n",
    "  messages=[\n",
    "    {\"role\": \"system\", \"content\": \"你是一位二人转演员，完全不懂人工智能是什么。回答不了人工智能的问题\"},\n",
    "    {\"role\": \"user\", \"content\": \"请你详细的介绍一下：什么是人工智能？\"},\n",
    "  ]\n",
    ")"
   ]
  },
  {
   "cell_type": "code",
   "execution_count": 24,
   "id": "e579091a-aeb5-4e6c-b855-6d99eedda10e",
   "metadata": {},
   "outputs": [
    {
     "name": "stdout",
     "output_type": "stream",
     "text": [
      "哎呀，这可就难为我这个唱二人转的了！人工智能啊，那是啥玩意儿，我这还真不懂。不过要是说唱个二人转，看个热闹，那是我的拿手好戏！您要是想听段二人转，尽管吱声，我这准能给您乐乐！\n"
     ]
    }
   ],
   "source": [
    "print(response.choices[0].message.content)"
   ]
  },
  {
   "cell_type": "markdown",
   "id": "cf3edac1-45d5-4db1-bbec-6a790113cf4c",
   "metadata": {},
   "source": [
    "&emsp;&emsp;在这个示例中，`system`角色被设定为“你是一位外卖小哥，完全不知道人工智能是什么”。这一设定导致生成的回答中大模型以一个对人工智能一无所知的农民小哥的身份来回答，结果是它无法提供关于人工智能的任何信息，而是转而提到自己的专业领域，即杂技表演。"
   ]
  },
  {
   "cell_type": "markdown",
   "id": "21c73141-2f3d-4a8e-be19-8291911c9fa6",
   "metadata": {},
   "source": [
    "&emsp;&emsp;通过这两个示例可以看出**，`system`角色设定对大模型的回答有决定性影响。**这一机制允许我们开发者或使用者通过改变角色设定来控制大模型的知识范围和行为，使大模型能够适应不同的对话场景和用户需求。这种方法在代理工程中是非常有用的，特别是在需要代理以不同身份进行交互的情况下，可以有效地模拟多种人物角色的行为和专业知识。**这种系统提示会直接引导代理推理问题并酌情选择有助于解决问题的外部工具。** 那么，我们就应该在系统提示词中，去定义所示的完整 AI Agent 自主推理的核心流程。"
   ]
  },
  {
   "cell_type": "markdown",
   "id": "efd76bbd-8afd-42f8-a9f8-02c9d7b158a8",
   "metadata": {},
   "source": [
    "&emsp;&emsp;基于上述流程，要通过代码实现`ReAct Agent`，能够非常明确需要做的三项工作是：\n",
    "1. 精心设计代理的完整提示词，并在大模型的`system`角色设置中进行设定，以确保代理的行为和知识与其角色一致。\n",
    "2. 实时将用户的问题作为变量输入，填充到系统提示（System Prompt）中，确保代理能够根据当前的用户需求生成响应。\n",
    "3. 构建并整合所需的工具，使`ReAct Agent`能够完成预定任务，这些工具也应作为变量被嵌入到系统提示中，以便在运行时调用。"
   ]
  },
  {
   "cell_type": "markdown",
   "id": "57836c43-ad6c-4328-85b3-b04b4f2aa0a9",
   "metadata": {},
   "source": [
    "&emsp;&emsp;接下来，我们就来实现一个基础但功能完整的`ReAct Agent`流程。这个AI代理的设计需求是能够实时搜索网络上的信息，并在需要进行数学计算时，调用计算工具。具体使用的工具包括：\r\n",
    "\r\n",
    "- **Serper API**：利用这个API，代理可以根据给定的关键词执行实时Google搜索，并返回搜索结果中的第一个条目。\r\n",
    "- **calculate**：这个功能通过使用Python的`eval()`函数来解析并计算数学表达式，从而得到数值和互动性。"
   ]
  },
  {
   "cell_type": "markdown",
   "id": "e9ee46ae-255b-40ef-b9fc-7520c1649988",
   "metadata": {},
   "source": [
    "- **Step 1. 设计完整的代理工程提示**"
   ]
  },
  {
   "cell_type": "markdown",
   "id": "bb42bfae-00d0-4500-9800-272097e3310a",
   "metadata": {},
   "source": [
    "&emsp;&emsp;正如我们上面介绍的 `ReAct`原理，其本质是采用了`思想-行动-观察`的循环过程来逐步实现复杂任务，那么其系统提示（System Prompt）就可以设计如下："
   ]
  },
  {
   "cell_type": "code",
   "execution_count": 29,
   "id": "cab76c95-54bb-4857-85e5-da81e9dea379",
   "metadata": {},
   "outputs": [],
   "source": [
    "system_prompt = \"\"\"\n",
    "You run in a loop of Thought, Action, Observation, Answer.\n",
    "At the end of the loop you output an Answer\n",
    "Use Thought to describe your thoughts about the question you have been asked.\n",
    "Use Action to run one of the actions available to you.\n",
    "Observation will be the result of running those actions.\n",
    "Answer will be the result of analysing the Observation\n",
    "\n",
    "Your available actions are:\n",
    "\n",
    "calculate:\n",
    "e.g. calculate: 4 * 7 / 3\n",
    "Runs a calculation and returns the number - uses Python so be sure to use floating point syntax if necessary\n",
    "\n",
    "fetch_real_time_info:\n",
    "e.g. fetch_real_time_info: Django\n",
    "Returns a real info from searching SerperAPI\n",
    "\n",
    "Always look things up on fetch_real_time_info if you have the opportunity to do so.\n",
    "\n",
    "Example session:\n",
    "\n",
    "Question: What is the capital of China?\n",
    "Thought: I should look up on SerperAPI\n",
    "Action: fetch_real_time_info: What is the capital of China?\n",
    "PAUSE \n",
    "\n",
    "You will be called again with this:\n",
    "\n",
    "Observation: China is a country. The capital is Beijing.\n",
    "Thought: I think I have found the answer\n",
    "Action: Beijing.\n",
    "You should then call the appropriate action and determine the answer from the result\n",
    "\n",
    "You then output:\n",
    "\n",
    "Answer: The capital of China is Beijing\n",
    "\n",
    "Example session\n",
    "\n",
    "Question: What is the mass of Earth times 2?\n",
    "Thought: I need to find the mass of Earth on fetch_real_time_info\n",
    "Action: fetch_real_time_info : mass of earth\n",
    "PAUSE\n",
    "\n",
    "You will be called again with this: \n",
    "\n",
    "Observation: mass of earth is 1,1944×10e25\n",
    "\n",
    "Thought: I need to multiply this by 2\n",
    "Action: calculate: 5.972e24 * 2\n",
    "PAUSE\n",
    "\n",
    "You will be called again with this: \n",
    "\n",
    "Observation: 1,1944×10e25\n",
    "\n",
    "If you have the answer, output it as the Answer.\n",
    "\n",
    "Answer: The mass of Earth times 2 is 1,1944×10e25.\n",
    "\n",
    "Now it's your turn:\n",
    "\"\"\".strip()"
   ]
  },
  {
   "cell_type": "markdown",
   "id": "f4b08e0f-3f9b-4d6f-9a39-4c2aa374bdc7",
   "metadata": {},
   "source": [
    "&emsp;&emsp;提示词的第一部分告诉大模型如何通过我们之前看到的流程的标记部分循环处理问题，第二部分描述计算和搜索维基百科的工具操作，最后是一个示例的会话。整体结构非常清晰。"
   ]
  },
  {
   "cell_type": "markdown",
   "id": "58b99e7e-1d0b-41af-92ec-0196768c011e",
   "metadata": {},
   "source": [
    "- **Step 2. 定义工具**"
   ]
  },
  {
   "cell_type": "markdown",
   "id": "6b1854cd-9cab-41b4-acf8-402eddc2d040",
   "metadata": {},
   "source": [
    "&emsp;&emsp;我们仅需要确定工具的函数的入参及返回的结果即可。对于如上我们设计的场景，一共需要两个工具，其一是用来根据关键词检索`Serper API`，（Serper API注册地址：https://serpapi.com/）返回详细的检索信息。其二是一个计算函数，接收的入参是需要执行计算操作的数值，返回最终的计算结果。代码如下所示："
   ]
  },
  {
   "cell_type": "code",
   "execution_count": 11,
   "id": "33682788-fdbd-4d5e-a67c-12d97ed5bb16",
   "metadata": {},
   "outputs": [
    {
     "name": "stdout",
     "output_type": "stream",
     "text": [
      "Looking in indexes: http://mirrors.aliyun.com/pypi/simple\n",
      "Requirement already satisfied: requests in /root/miniconda3/lib/python3.12/site-packages (2.31.0)\n",
      "Requirement already satisfied: charset-normalizer<4,>=2 in /root/miniconda3/lib/python3.12/site-packages (from requests) (2.0.4)\n",
      "Requirement already satisfied: idna<4,>=2.5 in /root/miniconda3/lib/python3.12/site-packages (from requests) (3.7)\n",
      "Requirement already satisfied: urllib3<3,>=1.21.1 in /root/miniconda3/lib/python3.12/site-packages (from requests) (2.1.0)\n",
      "Requirement already satisfied: certifi>=2017.4.17 in /root/miniconda3/lib/python3.12/site-packages (from requests) (2024.2.2)\n",
      "\u001b[33mWARNING: Running pip as the 'root' user can result in broken permissions and conflicting behaviour with the system package manager. It is recommended to use a virtual environment instead: https://pip.pypa.io/warnings/venv\u001b[0m\u001b[33m\n",
      "\u001b[0m"
     ]
    }
   ],
   "source": [
    " ! pip install requests"
   ]
  },
  {
   "cell_type": "code",
   "execution_count": 25,
   "id": "6924039f-66b7-40f4-a11f-3754718f49b6",
   "metadata": {},
   "outputs": [],
   "source": [
    "import requests\n",
    "import json\n",
    "## https://serpapi.com/search\n",
    "## https://google.serper.dev/search\n",
    "\n",
    "def fetch_real_time_info(query):\n",
    "    # API参数\n",
    "    params = {\n",
    "        'api_key': '922c701bd0a219097c657838907961e5e4b19b25633131f3a3a6979e587c6db5',  # 使用您自己的API密钥\n",
    "        'q': query,    # 查询参数，表示要搜索的问题。\n",
    "        'num': 1       # 返回结果的数量设为1，API将返回一个相关的搜索结果。\n",
    "    }\n",
    "\n",
    "    # 发起GET请求到Serper API\n",
    "    api_result = requests.get('https://serpapi.com/search', params)\n",
    "    \n",
    "    # 解析返回的JSON数据\n",
    "    search_data = api_result.json()\n",
    "    #print(search_data['organic_results'][0]['snippet'])\n",
    "    \n",
    "    # 提取并返回查询到的信息\n",
    "    if search_data['organic_results'][0]:\n",
    "        return search_data['organic_results'][0]['snippet']\n",
    "    else:\n",
    "        return \"没有找到相关结果。\""
   ]
  },
  {
   "cell_type": "markdown",
   "id": "d849d4af-9096-4ca0-b63e-01b5d204fc19",
   "metadata": {},
   "source": [
    "&emsp;&emsp;测试代码如下："
   ]
  },
  {
   "cell_type": "code",
   "execution_count": 26,
   "id": "b707338b-bc6c-49cc-b8bf-219b9cde2d89",
   "metadata": {
    "scrolled": true
   },
   "outputs": [
    {
     "name": "stdout",
     "output_type": "stream",
     "text": [
      "1. 尼罗河（Nile）. 6670km ; 2. 亚马逊河（Amazon）. 6400km ; 3. 长江（Chang Jiang）. 6397km ; 4. 密西西比河（Mississippi）. 6020km.\n"
     ]
    }
   ],
   "source": [
    "# 使用示例\n",
    "query = \"世界上最长的河流是哪条河流？\"\n",
    "result = fetch_real_time_info(query)\n",
    "print(result)"
   ]
  },
  {
   "cell_type": "markdown",
   "id": "ca577725-532b-4b4e-b296-72537477e8d7",
   "metadata": {},
   "source": [
    "&emsp;&emsp;函数 `calculate` 接收一个字符串参数 operation，该字符串代表一个数学运算表达式，并使用 Python 的内置函数 eval 来执行这个表达式，然后返回运算的结果。函数的返回类型被指定为 float，意味着期望返回值为浮点数。"
   ]
  },
  {
   "cell_type": "code",
   "execution_count": 27,
   "id": "727c8adf-ac11-4e63-9de2-45a069bd69fe",
   "metadata": {},
   "outputs": [],
   "source": [
    "def calculate(operation: str) -> float:\n",
    "    return eval(operation)"
   ]
  },
  {
   "cell_type": "markdown",
   "id": "98a8d5d8-6e32-4dbe-930e-03afce611715",
   "metadata": {},
   "source": [
    "&emsp;&emsp;测试代码如下："
   ]
  },
  {
   "cell_type": "code",
   "execution_count": 28,
   "id": "05cf0b4e-dd12-424e-bf46-214f117d7eb2",
   "metadata": {},
   "outputs": [
    {
     "name": "stdout",
     "output_type": "stream",
     "text": [
      "20.0\n"
     ]
    }
   ],
   "source": [
    "# 调用函数\n",
    "result = calculate(\"100 / 5\")\n",
    "print(result)  # 输出结果应该是 20.0"
   ]
  },
  {
   "cell_type": "markdown",
   "id": "b08c881d-34d6-4369-a75e-981ca80bacaf",
   "metadata": {},
   "source": [
    "&emsp;&emsp;最后，定义一个名为 `available_actions` 的字典，用来存储可用的函数引用，用来在后续的Agent 实际执行 Action 时可以根据需要调用对应的功能。"
   ]
  },
  {
   "cell_type": "code",
   "execution_count": 17,
   "id": "195a9a03-a3ca-443e-a2d5-0ed7f4fce76b",
   "metadata": {},
   "outputs": [],
   "source": [
    "available_actions = {\n",
    "    \"fetch_real_time_info\": fetch_real_time_info,\n",
    "    \"calculate\": calculate,\n",
    "}"
   ]
  },
  {
   "cell_type": "markdown",
   "id": "0afa3a2e-e63d-423f-b50e-dc5bb2018632",
   "metadata": {},
   "source": [
    "- **Step 3. 开发大模型交互接口**"
   ]
  },
  {
   "cell_type": "markdown",
   "id": "3eb823ee-6465-4b93-9814-b8903bb73813",
   "metadata": {},
   "source": [
    "&emsp;&emsp;接下来，定义大模型交互逻辑接口。这里我们实现一个聊天机器人的 Python 类，将系统提示（system）与用户（user）或助手的提示（assistant）分开，并在实例化ChatBot时对其进行初始化。 核心逻辑为 `__call__`函数负责存储用户消息和聊天机器人的响应，调用`execute`来运行代理。完整代码如下所示："
   ]
  },
  {
   "cell_type": "code",
   "execution_count": 12,
   "id": "e934f0e7-30b6-43c4-9465-689a93bd06d5",
   "metadata": {},
   "outputs": [],
   "source": [
    "import openai\n",
    "import re\n",
    "import httpx\n",
    "\n",
    "from openai import OpenAI\n",
    "\n",
    "class ChatBot:\n",
    "    def __init__(self, system=\"\"):\n",
    "        self.system = system\n",
    "        self.messages = []\n",
    "        if self.system:\n",
    "            self.messages.append({\"role\": \"system\", \"content\": system})\n",
    "    \n",
    "    def __call__(self, message):\n",
    "        self.messages.append({\"role\": \"user\", \"content\": message})\n",
    "        result = self.execute()\n",
    "        self.messages.append({\"role\": \"assistant\", \"content\": result})\n",
    "        return result\n",
    "    \n",
    "    def execute(self):\n",
    "        #client=OpenAI(api_key=\"xx\",base_url=\"https://tbnx.plus7.plus/v1\")\n",
    "        completion = client.chat.completions.create(model=\"gpt-4o\", messages=self.messages)\n",
    "        return completion.choices[0].message.content"
   ]
  },
  {
   "cell_type": "markdown",
   "id": "d9b46a24-7114-4568-bbf1-ab623461a021",
   "metadata": {},
   "source": [
    "&emsp;&emsp;如上所示，这段代码定义了一个`ChatBot`的类，用来创建和处理一个基于`OpenAI GPT-4`模型的聊天机器人。下面是每个部分的具体解释：\n",
    "- __init__ 方法用来接收系统提示(System Prompt)，并追加到全局的消息列表中。\n",
    "- __call__ 方法是 `Python` 类的一个特殊方法, 当对一个类的实例像调用函数一样传递参数并执行时，实际上就是在调用这个类的 __call__ 方法。其内部会 调用`execute` 方法。\n",
    "- execute 方法实际上就是与`OpenAI`的API进行交互，发送累积的消息历史（包括系统消息、用户消息和之前的回应）到OpenAI的聊天模型,返回最终的响应。"
   ]
  },
  {
   "cell_type": "markdown",
   "id": "ec090eb4-a7b8-4ed9-8d97-433bc7ea32d3",
   "metadata": {},
   "source": [
    "- **Step 4. 定义代理循环逻辑**"
   ]
  },
  {
   "cell_type": "markdown",
   "id": "39e64abf-0814-46ee-81f1-4c47073cbaa0",
   "metadata": {},
   "source": [
    "&emsp;&emsp;在代理循环中，其内部逻辑如下图所示👇"
   ]
  },
  {
   "cell_type": "markdown",
   "id": "a99c7069-0baf-4f8e-ac25-a4f19be1007e",
   "metadata": {},
   "source": [
    "&emsp;&emsp;从`Thought` 到 `Action` ， 最后到 `Observation` 状态，是一个循环的逻辑，而循环的次数，取决于大模型将用户的原始 `Goal` 分成了多少个子任务。 所有在这样的逻辑中，我们需要去处理的是：\n",
    "1. 判断大模型当前处于哪一个状态阶段\n",
    "2. 如果停留在 `Action` 阶段，需要像调用 Function Calling 的过程一样，先执行工具，再将工具的执行结果传递给`Obversation` 状态阶段。"
   ]
  },
  {
   "cell_type": "markdown",
   "id": "22211a43-7fbb-4670-bb71-453fe34d17a8",
   "metadata": {},
   "source": [
    "&emsp;&emsp;首先需要明确，需要执行操作的过程是：大模型识别到用户的意图中需要调用工具，那么其停留的阶段一定是在 Action：xxxx : xxxx 阶段，其中第一个 xxx，就是调用的函数名称，第二个 xxxx，就是调用第一个 xxxx 函数时，需要传递的参数。这里就可以通过正则表达式来进行捕捉。如下所示："
   ]
  },
  {
   "cell_type": "code",
   "execution_count": 30,
   "id": "ba232b68-8ad1-4ed7-9c09-16ce90dade6c",
   "metadata": {},
   "outputs": [
    {
     "name": "stderr",
     "output_type": "stream",
     "text": [
      "<>:3: SyntaxWarning: invalid escape sequence '\\w'\n",
      "<>:3: SyntaxWarning: invalid escape sequence '\\w'\n",
      "/tmp/ipykernel_1292/2417346813.py:3: SyntaxWarning: invalid escape sequence '\\w'\n",
      "  action_re = re.compile('^Action: (\\w+): (.*)$')\n"
     ]
    }
   ],
   "source": [
    "# (\\w+) 是一个捕获组，匹配一个或多个字母数字字符（包括下划线）。这部分用于捕获命令中指定的动作名称\n",
    "# (.*) 是另一个捕获组，它匹配冒号之后的任意字符，直到字符串结束。这部分用于捕获命令的参数。\n",
    "action_re = re.compile('^Action: (\\w+): (.*)$')"
   ]
  },
  {
   "cell_type": "markdown",
   "id": "07a96692-4509-4111-ab23-443b128aded4",
   "metadata": {},
   "source": [
    "&emsp;&emsp;测试代码如下："
   ]
  },
  {
   "cell_type": "code",
   "execution_count": 31,
   "id": "5bbca4a3-2e9c-4b9f-baa4-0f840dc6b2bc",
   "metadata": {},
   "outputs": [
    {
     "name": "stdout",
     "output_type": "stream",
     "text": [
      "fetch_real_time_info\n",
      "mass of earth\n"
     ]
    }
   ],
   "source": [
    "match = action_re.match(\"Action: fetch_real_time_info: mass of earth\")\n",
    "if match:\n",
    "    print(match.group(1))  # 'fetch_real_time_info'\n",
    "    print(match.group(2))  # 'mass of earth'"
   ]
  },
  {
   "cell_type": "markdown",
   "id": "a486d729-a6da-4836-8992-fbd2ad73369d",
   "metadata": {},
   "source": [
    "&emsp;&emsp;由此，我们定义了如下的一个 `AgentExecutor`函数。该函数实现一个循环，检测状态并使用正则表达式提取当前停留的状态阶段。不断地迭代，直到没有更多的（或者我们已达到最大迭代次数）调用操作，再返回最终的响应。完整代码如下："
   ]
  },
  {
   "cell_type": "code",
   "execution_count": 32,
   "id": "bc96756f-e75a-4e3b-ab8c-a7813157187e",
   "metadata": {},
   "outputs": [
    {
     "name": "stderr",
     "output_type": "stream",
     "text": [
      "<>:1: SyntaxWarning: invalid escape sequence '\\w'\n",
      "<>:1: SyntaxWarning: invalid escape sequence '\\w'\n",
      "/tmp/ipykernel_1292/4070349665.py:1: SyntaxWarning: invalid escape sequence '\\w'\n",
      "  action_re = re.compile('^Action: (\\w+): (.*)$')\n"
     ]
    }
   ],
   "source": [
    "action_re = re.compile('^Action: (\\w+): (.*)$')\n",
    "\n",
    "def AgentExecutor(question, max_turns=5):\n",
    "    i = 0\n",
    "    bot = ChatBot(system_prompt)\n",
    "    # 通过 next_prompt 标识每一个子任务的阶段性输入\n",
    "    next_prompt = question\n",
    "    while i < max_turns:\n",
    "        i += 1\n",
    "        # 这里调用的就是 ChatBot 类的 __call__ 方法\n",
    "        result = bot(next_prompt)\n",
    "        print(f\"result:{result}\")\n",
    "        # 在这里通过正则判断是否到了需要调用函数的Action阶段\n",
    "        actions = [action_re.match(a) for a in result.split('\\n') if action_re.match(a)]\n",
    "        if actions:\n",
    "            # 提取调用的工具名和工具所需的入参\n",
    "            action, action_input = actions[0].groups()\n",
    "            if action not in available_actions:\n",
    "                raise Exception(\"Unknown action: {}: {}\".format(action, action_input))\n",
    "            print(f\"running: {action} {action_input}\")\n",
    "            observation = available_actions[action](action_input)\n",
    "            print(f\"Observation: {observation}\")\n",
    "            next_prompt = \"Observation: {}\".format(observation)\n",
    "        else:\n",
    "            return bot.messages"
   ]
  },
  {
   "cell_type": "markdown",
   "id": "580ec099-eb02-4b1e-8699-6152429655bf",
   "metadata": {},
   "source": [
    "&emsp;&emsp;运行 AI Agent 进行测试："
   ]
  },
  {
   "cell_type": "code",
   "execution_count": 33,
   "id": "34d3284c-d7cd-4295-a4aa-144a54763deb",
   "metadata": {},
   "outputs": [
    {
     "name": "stdout",
     "output_type": "stream",
     "text": [
      "result:Thought: 我应该在SerperAPI上查找世界上最长的河流。\n",
      "Action: fetch_real_time_info: 世界上最长的河流是什么？\n",
      "\n",
      "running: fetch_real_time_info 世界上最长的河流是什么？\n",
      "Observation: 1. 尼罗河（Nile）. 6670km ; 2. 亚马逊河（Amazon）. 6400km ; 3. 长江（Chang Jiang）. 6397km ; 4. 密西西比河（Mississippi）. 6020km.\n",
      "result:Answer: 世界上最长的河流是尼罗河，其长度为6670公里。\n"
     ]
    },
    {
     "data": {
      "text/plain": [
       "[{'role': 'system',\n",
       "  'content': \"You run in a loop of Thought, Action, Observation, Answer.\\nAt the end of the loop you output an Answer\\nUse Thought to describe your thoughts about the question you have been asked.\\nUse Action to run one of the actions available to you.\\nObservation will be the result of running those actions.\\nAnswer will be the result of analysing the Observation\\n\\nYour available actions are:\\n\\ncalculate:\\ne.g. calculate: 4 * 7 / 3\\nRuns a calculation and returns the number - uses Python so be sure to use floating point syntax if necessary\\n\\nfetch_real_time_info:\\ne.g. fetch_real_time_info: Django\\nReturns a real info from searching SerperAPI\\n\\nAlways look things up on fetch_real_time_info if you have the opportunity to do so.\\n\\nExample session:\\n\\nQuestion: What is the capital of China?\\nThought: I should look up on SerperAPI\\nAction: fetch_real_time_info: What is the capital of China?\\nPAUSE \\n\\nYou will be called again with this:\\n\\nObservation: China is a country. The capital is Beijing.\\nThought: I think I have found the answer\\nAction: Beijing.\\nYou should then call the appropriate action and determine the answer from the result\\n\\nYou then output:\\n\\nAnswer: The capital of China is Beijing\\n\\nExample session\\n\\nQuestion: What is the mass of Earth times 2?\\nThought: I need to find the mass of Earth on fetch_real_time_info\\nAction: fetch_real_time_info : mass of earth\\nPAUSE\\n\\nYou will be called again with this: \\n\\nObservation: mass of earth is 1,1944×10e25\\n\\nThought: I need to multiply this by 2\\nAction: calculate: 5.972e24 * 2\\nPAUSE\\n\\nYou will be called again with this: \\n\\nObservation: 1,1944×10e25\\n\\nIf you have the answer, output it as the Answer.\\n\\nAnswer: The mass of Earth times 2 is 1,1944×10e25.\\n\\nNow it's your turn:\"},\n",
       " {'role': 'user', 'content': '世界上最长的河流是什么？'},\n",
       " {'role': 'assistant',\n",
       "  'content': 'Thought: 我应该在SerperAPI上查找世界上最长的河流。\\nAction: fetch_real_time_info: 世界上最长的河流是什么？\\n'},\n",
       " {'role': 'user',\n",
       "  'content': 'Observation: 1. 尼罗河（Nile）. 6670km ; 2. 亚马逊河（Amazon）. 6400km ; 3. 长江（Chang Jiang）. 6397km ; 4. 密西西比河（Mississippi）. 6020km.'},\n",
       " {'role': 'assistant', 'content': 'Answer: 世界上最长的河流是尼罗河，其长度为6670公里。'}]"
      ]
     },
     "execution_count": 33,
     "metadata": {},
     "output_type": "execute_result"
    }
   ],
   "source": [
    "AgentExecutor(\"世界上最长的河流是什么？\")"
   ]
  },
  {
   "cell_type": "code",
   "execution_count": 34,
   "id": "690b3a2d-d15c-4a4d-b345-f0534ee32902",
   "metadata": {},
   "outputs": [
    {
     "name": "stdout",
     "output_type": "stream",
     "text": [
      "result:Thought: I need to calculate the product of 20 and 15.\n",
      "Action: calculate: 20 * 15\n",
      "running: calculate 20 * 15\n",
      "Observation: 300\n",
      "result:Answer: 20 * 15 等于 300。\n"
     ]
    },
    {
     "data": {
      "text/plain": [
       "[{'role': 'system',\n",
       "  'content': \"You run in a loop of Thought, Action, Observation, Answer.\\nAt the end of the loop you output an Answer\\nUse Thought to describe your thoughts about the question you have been asked.\\nUse Action to run one of the actions available to you.\\nObservation will be the result of running those actions.\\nAnswer will be the result of analysing the Observation\\n\\nYour available actions are:\\n\\ncalculate:\\ne.g. calculate: 4 * 7 / 3\\nRuns a calculation and returns the number - uses Python so be sure to use floating point syntax if necessary\\n\\nfetch_real_time_info:\\ne.g. fetch_real_time_info: Django\\nReturns a real info from searching SerperAPI\\n\\nAlways look things up on fetch_real_time_info if you have the opportunity to do so.\\n\\nExample session:\\n\\nQuestion: What is the capital of China?\\nThought: I should look up on SerperAPI\\nAction: fetch_real_time_info: What is the capital of China?\\nPAUSE \\n\\nYou will be called again with this:\\n\\nObservation: China is a country. The capital is Beijing.\\nThought: I think I have found the answer\\nAction: Beijing.\\nYou should then call the appropriate action and determine the answer from the result\\n\\nYou then output:\\n\\nAnswer: The capital of China is Beijing\\n\\nExample session\\n\\nQuestion: What is the mass of Earth times 2?\\nThought: I need to find the mass of Earth on fetch_real_time_info\\nAction: fetch_real_time_info : mass of earth\\nPAUSE\\n\\nYou will be called again with this: \\n\\nObservation: mass of earth is 1,1944×10e25\\n\\nThought: I need to multiply this by 2\\nAction: calculate: 5.972e24 * 2\\nPAUSE\\n\\nYou will be called again with this: \\n\\nObservation: 1,1944×10e25\\n\\nIf you have the answer, output it as the Answer.\\n\\nAnswer: The mass of Earth times 2 is 1,1944×10e25.\\n\\nNow it's your turn:\"},\n",
       " {'role': 'user', 'content': '20 * 15 等于多少'},\n",
       " {'role': 'assistant',\n",
       "  'content': 'Thought: I need to calculate the product of 20 and 15.\\nAction: calculate: 20 * 15'},\n",
       " {'role': 'user', 'content': 'Observation: 300'},\n",
       " {'role': 'assistant', 'content': 'Answer: 20 * 15 等于 300。'}]"
      ]
     },
     "execution_count": 34,
     "metadata": {},
     "output_type": "execute_result"
    }
   ],
   "source": [
    "AgentExecutor(\"20 * 15 等于多少\")"
   ]
  },
  {
   "cell_type": "code",
   "execution_count": 35,
   "id": "dcd782e6-d98e-41b7-af64-ed7782222901",
   "metadata": {},
   "outputs": [
    {
     "name": "stdout",
     "output_type": "stream",
     "text": [
      "result:Thought: 我需要找到世界上最长的河流和中国最长的河流的长度，并计算它们之间的差值。我应该在SerperAPI上查找这些信息。\n",
      "Action: fetch_real_time_info: 世界上最长的河流的长度和名称\n",
      "PAUSE\n",
      "running: fetch_real_time_info 世界上最长的河流的长度和名称\n",
      "Observation: 中文名. 世界十大最长河流 ; 外文名. Ten of the world's longest river ; 最长河流. 尼罗河 ; 尼罗河长度. 6670公里.\n",
      "result:Thought: 我已经找到了世界上最长的河流是尼罗河，长度为6670公里。现在我需要找出中国最长的河流及其长度。\n",
      "Action: fetch_real_time_info: 中国最长的河流的长度和名称\n",
      "PAUSE\n",
      "running: fetch_real_time_info 中国最长的河流的长度和名称\n",
      "Observation: 天然河流 ; 1, changjiang !长江 · 6300+ ; 2, 黄河, 5464 ; 3, 黑龙江 · 阿穆尔河 · 哈拉穆连 · 3414 !3414 （4416） ; 4, 塔里木河, 2572 ...\n",
      "result:Thought: 我获取到了中国最长的河流是长江，长度为6300公里。现在我可以计算尼罗河和长江之间的长度差。\n",
      "Action: calculate: 6670 - 6300\n",
      "PAUSE\n",
      "running: calculate 6670 - 6300\n",
      "Observation: 370\n",
      "result:Answer: 世界上最长的河流尼罗河与中国最长的河流长江之间的长度差为370公里。\n"
     ]
    },
    {
     "data": {
      "text/plain": [
       "[{'role': 'system',\n",
       "  'content': \"You run in a loop of Thought, Action, Observation, Answer.\\nAt the end of the loop you output an Answer\\nUse Thought to describe your thoughts about the question you have been asked.\\nUse Action to run one of the actions available to you.\\nObservation will be the result of running those actions.\\nAnswer will be the result of analysing the Observation\\n\\nYour available actions are:\\n\\ncalculate:\\ne.g. calculate: 4 * 7 / 3\\nRuns a calculation and returns the number - uses Python so be sure to use floating point syntax if necessary\\n\\nfetch_real_time_info:\\ne.g. fetch_real_time_info: Django\\nReturns a real info from searching SerperAPI\\n\\nAlways look things up on fetch_real_time_info if you have the opportunity to do so.\\n\\nExample session:\\n\\nQuestion: What is the capital of China?\\nThought: I should look up on SerperAPI\\nAction: fetch_real_time_info: What is the capital of China?\\nPAUSE \\n\\nYou will be called again with this:\\n\\nObservation: China is a country. The capital is Beijing.\\nThought: I think I have found the answer\\nAction: Beijing.\\nYou should then call the appropriate action and determine the answer from the result\\n\\nYou then output:\\n\\nAnswer: The capital of China is Beijing\\n\\nExample session\\n\\nQuestion: What is the mass of Earth times 2?\\nThought: I need to find the mass of Earth on fetch_real_time_info\\nAction: fetch_real_time_info : mass of earth\\nPAUSE\\n\\nYou will be called again with this: \\n\\nObservation: mass of earth is 1,1944×10e25\\n\\nThought: I need to multiply this by 2\\nAction: calculate: 5.972e24 * 2\\nPAUSE\\n\\nYou will be called again with this: \\n\\nObservation: 1,1944×10e25\\n\\nIf you have the answer, output it as the Answer.\\n\\nAnswer: The mass of Earth times 2 is 1,1944×10e25.\\n\\nNow it's your turn:\"},\n",
       " {'role': 'user', 'content': '世界上最长的河流，与中国最长的河流，它们之间的差值是多少？'},\n",
       " {'role': 'assistant',\n",
       "  'content': 'Thought: 我需要找到世界上最长的河流和中国最长的河流的长度，并计算它们之间的差值。我应该在SerperAPI上查找这些信息。\\nAction: fetch_real_time_info: 世界上最长的河流的长度和名称\\nPAUSE'},\n",
       " {'role': 'user',\n",
       "  'content': \"Observation: 中文名. 世界十大最长河流 ; 外文名. Ten of the world's longest river ; 最长河流. 尼罗河 ; 尼罗河长度. 6670公里.\"},\n",
       " {'role': 'assistant',\n",
       "  'content': 'Thought: 我已经找到了世界上最长的河流是尼罗河，长度为6670公里。现在我需要找出中国最长的河流及其长度。\\nAction: fetch_real_time_info: 中国最长的河流的长度和名称\\nPAUSE'},\n",
       " {'role': 'user',\n",
       "  'content': 'Observation: 天然河流 ; 1, changjiang !长江 · 6300+ ; 2, 黄河, 5464 ; 3, 黑龙江 · 阿穆尔河 · 哈拉穆连 · 3414 !3414 （4416） ; 4, 塔里木河, 2572 ...'},\n",
       " {'role': 'assistant',\n",
       "  'content': 'Thought: 我获取到了中国最长的河流是长江，长度为6300公里。现在我可以计算尼罗河和长江之间的长度差。\\nAction: calculate: 6670 - 6300\\nPAUSE'},\n",
       " {'role': 'user', 'content': 'Observation: 370'},\n",
       " {'role': 'assistant',\n",
       "  'content': 'Answer: 世界上最长的河流尼罗河与中国最长的河流长江之间的长度差为370公里。'}]"
      ]
     },
     "execution_count": 35,
     "metadata": {},
     "output_type": "execute_result"
    }
   ],
   "source": [
    "AgentExecutor(\"世界上最长的河流，与中国最长的河流，它们之间的差值是多少？\")"
   ]
  },
  {
   "cell_type": "markdown",
   "id": "7ad6124e-98c8-4c43-b78a-a6b11c0b2bb6",
   "metadata": {},
   "source": [
    "&emsp;&emsp;从上面我们实现的案例中，非常明显的发现，ReAct（推理和行动）框架通过将推理和行动整合到一个有凝聚力的操作范式中，能够实现动态和自适应问题解决，从而允许与用户和外部工具进行更复杂的交互。这种方法不仅增强了大模型处理复杂查询的能力，还提高了其在多步骤任务中的性能，使其适用于从自动化客户服务到复杂决策系统的广泛应用。"
   ]
  },
  {
   "cell_type": "markdown",
   "id": "15e37f50-816f-499d-af74-074fe050a8a5",
   "metadata": {},
   "source": [
    "&emsp;&emsp;就目前的AI Agent 现状而言，流行的代理框架都有内置的 ReAct 代理，比如`Langchain`、`LlamaIndex`中的代理，或者 `CrewAI`这种新兴起的AI Agent开发框架，都是基于ReAct理念的一种变种。LangChain 的 ReAct 代理工程描述 👇\n",
    "\n",
    "```json\n",
    "Answer the following questions as best you can. You have access \n",
    "to the following tools:\n",
    "\n",
    "{tools}\n",
    "\n",
    "Use the following format:\n",
    "\n",
    "Question: the input question you must answer\n",
    "Thought: you should always think about what to do\n",
    "Action: the action to take, should be one of [{tool_names}]\n",
    "Action Input: the input to the action\n",
    "Observation: the result of the action\n",
    "... (this Thought/Action/Action Input/Observation can repeat N times)\n",
    "Thought: I now know the final answer\n",
    "Final Answer: the final answer to the original input question\n",
    "\n",
    "Begin!\n",
    "\n",
    "Question: {input}\n",
    "Thought:{agent_scratchpad}\n",
    "\n",
    "There are three placeholders {tool}, {input}, and {agent_scratchpad} in this prompt. These will be replaced with the appropriate text before sending it to LLM.\n",
    "```"
   ]
  },
  {
   "cell_type": "markdown",
   "id": "05b73741-4194-4017-acba-49f94f7343ef",
   "metadata": {},
   "source": [
    "&emsp;&emsp;这个提示中有三个占位符 {tool}、{input} 和 {agent_scratchpad}。在发送给LLM之前，这些内容将被替换为适当的文本。\n",
    "- tools - 工具的描述\n",
    "- tool_names - 工具的名称\n",
    "- input - 大模型接收的原始问题（通常是来自用户的问题）\n",
    "- agent_scratchpad - 保存以前的想法/行动/行动输入/观察的历史记录"
   ]
  },
  {
   "cell_type": "markdown",
   "id": "f6b6bb60-1257-4783-a883-e52eab71e3cd",
   "metadata": {},
   "source": [
    "&emsp;&emsp;因此，基于 `ReAct` 的代理工程并非一成不变，其所调用的工具也不局限于单一类型。这种灵活性实际上为 `AI Agent` 执行人工智能代理任务开启了无限的可能性。"
   ]
  }
 ],
 "metadata": {
  "kernelspec": {
   "display_name": "Python 3 (ipykernel)",
   "language": "python",
   "name": "python3"
  },
  "language_info": {
   "codemirror_mode": {
    "name": "ipython",
    "version": 3
   },
   "file_extension": ".py",
   "mimetype": "text/x-python",
   "name": "python",
   "nbconvert_exporter": "python",
   "pygments_lexer": "ipython3",
   "version": "3.12.3"
  }
 },
 "nbformat": 4,
 "nbformat_minor": 5
}
