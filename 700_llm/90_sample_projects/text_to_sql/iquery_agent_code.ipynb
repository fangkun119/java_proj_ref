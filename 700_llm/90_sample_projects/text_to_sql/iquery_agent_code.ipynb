{
 "cells": [
  {
   "cell_type": "markdown",
   "id": "10eed526-2541-4de4-8c80-ce61b6d6bf5d",
   "metadata": {},
   "source": [
    "# iQuery Agent代码落地"
   ]
  },
  {
   "cell_type": "code",
   "execution_count": null,
   "id": "5934f97a-de91-4e17-960b-9f21017652ec",
   "metadata": {},
   "outputs": [],
   "source": [
    "## 导入依赖\n",
    "import openai\n",
    "import os\n",
    "import numpy as np\n",
    "import pandas as pd\n",
    "import json\n",
    "import io\n",
    "from openai import OpenAI\n",
    "import inspect\n",
    "import pymysql\n",
    "import tiktoken\n",
    "from docx import Document\n",
    "import matplotlib.pyplot as plt\n",
    "import seaborn as sns\n",
    "import tempfile\n",
    "import ast\n",
    "from IPython.display import display, Markdown, Code\n",
    "import shutil\n",
    "import copy\n",
    "from openai import  APIConnectionError,AuthenticationError\n",
    "\n",
    "# 把API KEY设置到环境变量中\n",
    "openai.api_key = os.getenv(\"OPENAI_API_KEY\")\n",
    "openai.api_base=\"https://api.openai.com/v1\"\n",
    "\n",
    "client = OpenAI(api_key=openai.api_key ,base_url=openai.api_base)"
   ]
  },
  {
   "cell_type": "markdown",
   "id": "a8989da2-1887-4091-80e7-9212e840b2fd",
   "metadata": {},
   "source": [
    "# 1 Memory功能实现之在线云盘函数开发"
   ]
  },
  {
   "cell_type": "code",
   "execution_count": 4,
   "id": "da1258cc-16f5-4892-8fdc-1b4e2efba108",
   "metadata": {
    "tags": []
   },
   "outputs": [],
   "source": [
    "import os\n",
    "\n",
    "def create_or_get_folder(folder_name):\n",
    "    \"\"\"\n",
    "    根据项目创建云盘目录\n",
    "    \"\"\"\n",
    "    base_path = \"/root/autodl-tmp/iquery项目/iquery云盘\"\n",
    "    full_path = os.path.join(base_path, folder_name)\n",
    "    # 如果目录不存在，则创建它\n",
    "    if not os.path.exists(full_path):\n",
    "        os.makedirs(full_path)\n",
    "        print(f\"目录 {folder_name} 创建成功\")\n",
    "    else:\n",
    "        print(f\"目录 {folder_name} 已存在\")\n",
    "    return full_path"
   ]
  },
  {
   "cell_type": "code",
   "execution_count": 6,
   "id": "bb62f5b5-ed91-4c57-bcae-7510aec6e0a4",
   "metadata": {
    "tags": []
   },
   "outputs": [
    {
     "name": "stdout",
     "output_type": "stream",
     "text": [
      "目录 测试函数 已存在\n",
      "/root/autodl-tmp/iquery项目/iquery云盘/测试函数\n"
     ]
    }
   ],
   "source": [
    "print(create_or_get_folder(folder_name = \"测试函数\"))"
   ]
  },
  {
   "cell_type": "code",
   "execution_count": 7,
   "id": "70493da8-87cc-47f2-8ed4-dd387439f4b1",
   "metadata": {
    "tags": []
   },
   "outputs": [],
   "source": [
    "def create_or_get_doc(folder_name, doc_name):\n",
    "    \"\"\"\n",
    "    创建或获取文件路径\n",
    "    \"\"\"\n",
    "    base_path = \"/root/autodl-tmp/iquery项目/iquery云盘\"\n",
    "    full_path_folder=os.path.join(base_path,folder_name)\n",
    "    file_path_doc = os.path.join(base_path+\"/\"+folder_name, f'{doc_name}.doc')\n",
    "    \n",
    "    \n",
    "     # 检查目录是否存在，如果不存在则创建\n",
    "    if not os.path.exists(full_path_folder):\n",
    "        os.makedirs(full_path_folder)\n",
    "    \n",
    "    # 检查文件是否存在\n",
    "    if os.path.exists(file_path_doc):\n",
    "        # 文件存在，打开并追加内容\n",
    "        document = Document(file_path_doc)\n",
    "    else:\n",
    "        # 文件不存在，创建一个新的文档对象\n",
    "        document = Document()\n",
    "       # 保存文档\n",
    "    document.save(file_path_doc)\n",
    "    \n",
    "    return file_path_doc"
   ]
  },
  {
   "cell_type": "code",
   "execution_count": 8,
   "id": "c7371389-3837-42d0-8085-c303910e9cee",
   "metadata": {
    "tags": []
   },
   "outputs": [
    {
     "data": {
      "text/plain": [
       "'/root/autodl-tmp/iquery项目/iquery云盘/测试函数/数据分析.doc'"
      ]
     },
     "execution_count": 8,
     "metadata": {},
     "output_type": "execute_result"
    }
   ],
   "source": [
    "create_or_get_doc(folder_name=\"测试函数\",doc_name=\"数据分析\")"
   ]
  },
  {
   "cell_type": "code",
   "execution_count": 9,
   "id": "10584c24-7a67-43c2-a50a-6257f0293d12",
   "metadata": {
    "tags": []
   },
   "outputs": [],
   "source": [
    "def append_content_in_doc(folder_name, doc_name, qa_string):\n",
    "    \"\"\"\"\n",
    "    往文件里追加内容\n",
    "    @param folder_name=目录名，doc_name=文件名，qa_string=追加的内容\n",
    "    \"\"\"\n",
    "    base_path = \"/root/autodl-tmp/iquery项目/iquery云盘\"\n",
    "    ## 目录地址\n",
    "    full_path_folder=base_path+\"/\"+folder_name\n",
    "    ## 文件地址\n",
    "    full_path_doc = os.path.join(full_path_folder, doc_name)+\".doc\"  \n",
    "\n",
    "    # 检查目录是否存在，如果不存在则创建\n",
    "    if not os.path.exists(full_path_folder):\n",
    "        os.makedirs(full_path_folder)\n",
    "    \n",
    "    # 检查文件是否存在\n",
    "    if os.path.exists(full_path_doc):\n",
    "        # 文件存在，打开并追加内容\n",
    "        document = Document(full_path_doc)\n",
    "    else:\n",
    "        # 文件不存在，创建一个新的文档对象\n",
    "        document = Document()\n",
    "    # 追加内容\n",
    "    document.add_paragraph(qa_string)\n",
    "    # 保存文档\n",
    "    document.save(full_path_doc)\n",
    "    print(f\"内容已追加到 {doc_name}\")"
   ]
  },
  {
   "cell_type": "code",
   "execution_count": 10,
   "id": "74fcd458-1150-4d12-b76a-6fb2f0a81ccc",
   "metadata": {
    "tags": []
   },
   "outputs": [
    {
     "name": "stdout",
     "output_type": "stream",
     "text": [
      "内容已追加到 数据分析\n"
     ]
    }
   ],
   "source": [
    "my_dict = \"天青色等烟雨，而我在等你\"\n",
    "append_content_in_doc(folder_name=\"测试函数\",doc_name=\"数据分析\",qa_string=my_dict)"
   ]
  },
  {
   "cell_type": "code",
   "execution_count": 12,
   "id": "f39a6722-9c72-426a-98d1-c839a7685f47",
   "metadata": {
    "tags": []
   },
   "outputs": [],
   "source": [
    "## 实现根据项目和文件获取文件内容的方法\n",
    "\n",
    "from docx import Document\n",
    "import os\n",
    "\n",
    "def get_file_content(folder_name, doc_name):\n",
    "    \"\"\"\n",
    "    实现根据项目名和文件名获取文件内容的方法\n",
    "    @param project_name:项目名，file_name：文件名\n",
    "    @return 文件内容\n",
    "    \"\"\"\n",
    "    # 构建文件的完整路径\n",
    "    base_path = \"/root/autodl-tmp/iquery项目/iquery云盘\"\n",
    "    file_path = os.path.join(folder_name, doc_name)\n",
    "    full_path = os.path.join(base_path, file_path)+\".doc\"\n",
    " \n",
    "    # 确保文件存在\n",
    "    if not os.path.exists(full_path):\n",
    "        return \"文件不存在\"\n",
    "    \n",
    "    try:\n",
    "        # 加载文档\n",
    "        doc = Document(full_path)\n",
    "        content = []\n",
    "        \n",
    "        # 遍历文档中的每个段落，并收集文本\n",
    "        for para in doc.paragraphs:\n",
    "            content.append(para.text)\n",
    "        \n",
    "        # 将所有段落文本合并成一个字符串返回\n",
    "        return '\\n'.join(content)\n",
    "    except Exception as e:\n",
    "        return f\"读取文件时发生错误: {e}\""
   ]
  },
  {
   "cell_type": "code",
   "execution_count": 13,
   "id": "59b5b5af-f889-4813-9eff-35e6b3e96631",
   "metadata": {
    "tags": []
   },
   "outputs": [
    {
     "data": {
      "text/plain": [
       "'天青色等烟雨，而我在等你'"
      ]
     },
     "execution_count": 13,
     "metadata": {},
     "output_type": "execute_result"
    }
   ],
   "source": [
    "get_file_content(folder_name=\"测试函数\",doc_name=\"数据分析\")"
   ]
  },
  {
   "cell_type": "code",
   "execution_count": 14,
   "id": "c295ab24-e40a-4900-b2d7-f96b934098db",
   "metadata": {
    "tags": []
   },
   "outputs": [],
   "source": [
    "from docx import Document\n",
    "\n",
    "def clear_content_in_doc(folder_name, doc_name):\n",
    "    # 打开文档\n",
    "    base_path = \"/root/autodl-tmp/iquery项目/iquery云盘\"\n",
    "    file_path = os.path.join(base_path+\"/\"+folder_name, f'{doc_name}.doc')\n",
    "    doc = Document(file_path)\n",
    "\n",
    "    # 遍历每一个段落，设置其文本为空字符串\n",
    "    for p in doc.paragraphs:\n",
    "        for run in p.runs:\n",
    "            run.text = ''\n",
    "\n",
    "    # 保存修改后的文档\n",
    "    doc.save(file_path)\n",
    "    print(\"文档内容清除完毕\")\n",
    "\n"
   ]
  },
  {
   "cell_type": "code",
   "execution_count": 15,
   "id": "22761428-cdd7-4bd8-ab80-03a281895200",
   "metadata": {
    "tags": []
   },
   "outputs": [
    {
     "name": "stdout",
     "output_type": "stream",
     "text": [
      "文档内容清除完毕\n"
     ]
    }
   ],
   "source": [
    "clear_content_in_doc(folder_name=\"测试函数\",doc_name=\"数据分析\")"
   ]
  },
  {
   "cell_type": "code",
   "execution_count": 16,
   "id": "3b4223dc-254c-47cc-8a49-f55f0700f0b1",
   "metadata": {
    "tags": []
   },
   "outputs": [],
   "source": [
    "def list_files_in_folder(folder_name):\n",
    "    \"\"\"\n",
    "    列举当前文件夹的全部文件\n",
    "    \"\"\"\n",
    "    base_path = \"/root/autodl-tmp/iquery项目/iquery云盘\"\n",
    "    full_path = os.path.join(base_path,folder_name )\n",
    "    file_names = [f for f in os.listdir(full_path) if os.path.isfile(os.path.join(full_path, f))]\n",
    "        \n",
    "    return file_names"
   ]
  },
  {
   "cell_type": "code",
   "execution_count": 17,
   "id": "1ae26256-4fc7-4c59-a91d-b1e99b350340",
   "metadata": {
    "tags": []
   },
   "outputs": [
    {
     "data": {
      "text/plain": [
       "['数据分析.doc']"
      ]
     },
     "execution_count": 17,
     "metadata": {},
     "output_type": "execute_result"
    }
   ],
   "source": [
    "list_files_in_folder(folder_name=\"测试函数\")"
   ]
  },
  {
   "cell_type": "code",
   "execution_count": 18,
   "id": "d6c52526-ebb5-4f16-9ddf-8ea0ceef3408",
   "metadata": {
    "tags": []
   },
   "outputs": [],
   "source": [
    "def rename_doc(folder_name, doc_name, new_name):\n",
    "    \"\"\"\n",
    "    修改指定的文档名称\n",
    "    \"\"\"\n",
    "    base_path = \"/root/autodl-tmp/iquery项目/iquery云盘\"\n",
    "    file_path = os.path.join(base_path+\"/\"+folder_name, f'{doc_name}.doc')\n",
    "    new_file_path = os.path.join(base_path+\"/\"+folder_name, f'{new_name}.doc')\n",
    "    # 重命名文件\n",
    "    os.rename(file_path, new_file_path)\n",
    "      \n",
    "    return new_name"
   ]
  },
  {
   "cell_type": "code",
   "execution_count": 19,
   "id": "c22816ee-47cb-4699-9f38-6391e9318a79",
   "metadata": {
    "tags": []
   },
   "outputs": [
    {
     "data": {
      "text/plain": [
       "'数据可视化分析报告'"
      ]
     },
     "execution_count": 19,
     "metadata": {},
     "output_type": "execute_result"
    }
   ],
   "source": [
    "rename_doc(folder_name=\"测试函数\",doc_name=\"数据分析\",new_name=\"数据可视化分析报告\")"
   ]
  },
  {
   "cell_type": "code",
   "execution_count": 20,
   "id": "93fd490f-ccdf-4958-8190-027931f593ce",
   "metadata": {
    "tags": []
   },
   "outputs": [],
   "source": [
    "def delete_all_files_in_folder(folder_name):\n",
    "    \"\"\"\n",
    "    删除某文件夹内全部文件\n",
    "    \"\"\"\n",
    "    # 定义要删除的目录路径\n",
    "    base_path = \"/root/autodl-tmp/iquery项目/iquery云盘\"\n",
    "    full_path = os.path.join(base_path,folder_name)\n",
    "    # 遍历整个目录\n",
    "    for filename in os.listdir(full_path):\n",
    "        # 构造文件或者文件夹的绝对路径\n",
    "        file_path = os.path.join(full_path, filename)\n",
    "        try:\n",
    "            # 如果是文件，则删除文件\n",
    "            if os.path.isfile(file_path) or os.path.islink(file_path):\n",
    "                os.unlink(file_path)\n",
    "            # 如果是文件夹，则删除文件夹\n",
    "            elif os.path.isdir(file_path):\n",
    "                shutil.rmtree(file_path)\n",
    "                print(\"文件已清除完毕\")\n",
    "        except Exception as e:\n",
    "            print('Failed to delete %s. Reason: %s' % (file_path, e))\n",
    "    "
   ]
  },
  {
   "cell_type": "code",
   "execution_count": 21,
   "id": "0b6a0627-ba51-4c41-abda-00ed3f79ddad",
   "metadata": {
    "tags": []
   },
   "outputs": [],
   "source": [
    "delete_all_files_in_folder(folder_name = \"测试函数\")"
   ]
  },
  {
   "cell_type": "code",
   "execution_count": 22,
   "id": "5a463290-99f5-4124-b50e-d65e7aa8eeba",
   "metadata": {
    "tags": []
   },
   "outputs": [],
   "source": [
    "from docx import Document\n",
    "import matplotlib.pyplot as plt\n",
    "import os\n",
    "import tempfile\n",
    "\n",
    "def append_img_in_doc(folder_name, doc_name, img):\n",
    "    \"\"\"\"\n",
    "    往文件里追加图片\n",
    "    @param folder_name=目录名，doc_name=文件名，img=图片对象，数据类型为matplotlib.figure.Figure对象\n",
    "    \"\"\"\n",
    "    base_path = \"/root/autodl-tmp/iquery项目/iquery云盘\"\n",
    "    ## 目录地址\n",
    "    full_path_folder=base_path+\"/\"+folder_name\n",
    "    ## 文件地址\n",
    "    full_path_doc = os.path.join(full_path_folder, doc_name)+\".doc\"\n",
    "    \n",
    "\n",
    "    # 检查目录是否存在，如果不存在则创建\n",
    "    if not os.path.exists(full_path_folder):\n",
    "        os.makedirs(full_path_folder)\n",
    "    \n",
    "    # 检查文件是否存在\n",
    "    if os.path.exists(full_path_doc):\n",
    "        print(full_path_doc)\n",
    "        # 文件存在，打开并追加内容\n",
    "        document = Document(full_path_doc)\n",
    "    else:\n",
    "        # 文件不存在，创建一个新的文档对象\n",
    "        document = Document()\n",
    "\n",
    "    # 追加图片\n",
    "    # 将matplotlib的Figure对象保存为临时图片文件\n",
    "    with tempfile.NamedTemporaryFile(delete=False, suffix='.png') as tmpfile:\n",
    "        img.savefig(tmpfile.name, format='png')\n",
    "        # 将图片插入到.docx文档中\n",
    "        document.add_picture(tmpfile.name)\n",
    "    \n",
    "    # 保存文档\n",
    "    document.save(full_path_doc)\n",
    "    print(f\"图片已追加到 {doc_name}\")"
   ]
  },
  {
   "cell_type": "code",
   "execution_count": 23,
   "id": "7449390a-1927-4287-978c-382eaeb645aa",
   "metadata": {
    "tags": []
   },
   "outputs": [
    {
     "data": {
      "text/plain": [
       "[<matplotlib.lines.Line2D at 0x7f80155b7c70>]"
      ]
     },
     "execution_count": 23,
     "metadata": {},
     "output_type": "execute_result"
    },
    {
     "data": {
      "image/png": "[encoded data removed]",
      "text/plain": [
       "<Figure size 640x480 with 1 Axes>"
      ]
     },
     "metadata": {},
     "output_type": "display_data"
    }
   ],
   "source": [
    "import matplotlib.pyplot as plt\n",
    "\n",
    "# 创建一个图形\n",
    "fig, ax = plt.subplots()\n",
    "ax.plot([1, 2, 3, 4, 5])"
   ]
  },
  {
   "cell_type": "code",
   "execution_count": 24,
   "id": "0e5b7153-647c-40cd-bf3d-f87f9bf9b3f2",
   "metadata": {
    "tags": []
   },
   "outputs": [
    {
     "name": "stdout",
     "output_type": "stream",
     "text": [
      "图片已追加到 数据分析\n"
     ]
    }
   ],
   "source": [
    "append_img_in_doc(folder_name=\"测试函数\",doc_name=\"数据分析\",img=fig)"
   ]
  },
  {
   "cell_type": "markdown",
   "id": "6dc7027a-a50e-4cea-9ece-e3305c6acb42",
   "metadata": {},
   "source": [
    "# 2. Memory功能实现之在线云盘类封装"
   ]
  },
  {
   "cell_type": "code",
   "execution_count": 25,
   "id": "7bb325bc-726a-49a2-821e-f5b0e932e79a",
   "metadata": {
    "tags": []
   },
   "outputs": [],
   "source": [
    "class CloudFile():\n",
    "    \"\"\"\n",
    "    用于操作云盘文件\n",
    "    \"\"\"\n",
    "    def __init__(self, \n",
    "                 project_name, \n",
    "                 part_name, \n",
    "                 doc_content = None):\n",
    "        # 项目名称，即项目文件夹名称\n",
    "        self.project_name = project_name\n",
    "        # 项目某部分名称，即项目文件名称\n",
    "        self.part_name = part_name\n",
    "         # 项目文件夹ID\n",
    "        # 若项目文件夹ID为空，则获取项目文件夹ID\n",
    "        \n",
    "        folder_path=create_or_get_folder(folder_name=project_name)\n",
    "         \n",
    "        # 创建时获取当前项目中其他文件名称列表\n",
    "        self.doc_list = list_files_in_folder(folder_name=project_name)\n",
    "        \n",
    "\n",
    "        file_path = create_or_get_doc(folder_name=project_name, \n",
    "                                       doc_name=part_name)\n",
    "        \n",
    "        # 项目文件具体内容，相当于多轮对话内容\n",
    "        self.doc_content = doc_content\n",
    "        # 若初始content不为空，则将其追加入文档内\n",
    "        if doc_content != None:\n",
    "            append_content_in_doc(folder_name=project_name, \n",
    "                                  doc_name=part_name, \n",
    "                                  dict_list=doc_content)\n",
    "            \n",
    "\n",
    "    def get_doc_content(self):\n",
    "        \"\"\"\n",
    "        根据项目某文件的文件ID，获取对应的文件内容\n",
    "        \"\"\"     \n",
    "        self.doc_content = get_file_content(folder_name=self.project_name, doc_name=self.part_name)\n",
    "\n",
    "        return self.doc_content\n",
    "\n",
    "    def append_doc_content(self, content):\n",
    "        \"\"\"\n",
    "        根据项目某文件的文件ID，追加文件内容\n",
    "        \"\"\"  \n",
    "        append_content_in_doc(folder_name=self.project_name,\n",
    "                                  doc_name=self.part_name, \n",
    "                                  dict_list=content)\n",
    "\n",
    "    def clear_content(self):\n",
    "        \"\"\"\n",
    "        清空某文件内的全部内容\n",
    "        \"\"\"  \n",
    "        clear_content_in_doc(folder_name=self.project_name, doc_name=self.part_name)\n",
    "\n",
    "    def delete_all_files(self):\n",
    "        \"\"\"\n",
    "        删除当前项目文件夹内的全部文件\n",
    "        \"\"\"  \n",
    "        delete_all_files_in_folder(folder_name=self.project_name)\n",
    "\n",
    "    def update_doc_list(self):\n",
    "        \"\"\"\n",
    "        更新当前项目文件夹内的全部文件名称\n",
    "        \"\"\"\n",
    "        self.doc_list = list_files_in_folder(folder_name=self.project_name)\n",
    "\n",
    "    def rename_doc(self, new_name):\n",
    "        \"\"\"\n",
    "        修改当前文件名称\n",
    "        \"\"\"\n",
    "        self.part_name = rename_doc_in_drive(folder_name=self.project_name, doc_name=self.part_name, \n",
    "                                                 new_name=new_name)"
   ]
  },
  {
   "cell_type": "code",
   "execution_count": 26,
   "id": "cca2ac67-794f-44cd-a89a-b5deeeb85127",
   "metadata": {
    "tags": []
   },
   "outputs": [
    {
     "name": "stdout",
     "output_type": "stream",
     "text": [
      "目录 测试项目 创建成功\n"
     ]
    }
   ],
   "source": [
    "# 本地存储测试\n",
    "c1 = CloudFile(project_name='测试项目', part_name='测试文档1')"
   ]
  },
  {
   "cell_type": "code",
   "execution_count": 27,
   "id": "029992f4-b951-481e-91fd-8158dbe29cd1",
   "metadata": {
    "tags": []
   },
   "outputs": [
    {
     "data": {
      "text/plain": [
       "'测试项目'"
      ]
     },
     "execution_count": 27,
     "metadata": {},
     "output_type": "execute_result"
    }
   ],
   "source": [
    "c1.project_name"
   ]
  },
  {
   "cell_type": "code",
   "execution_count": 28,
   "id": "e7606098-caee-4531-b15d-4662d9dc243a",
   "metadata": {
    "tags": []
   },
   "outputs": [
    {
     "data": {
      "text/plain": [
       "'测试文档1'"
      ]
     },
     "execution_count": 28,
     "metadata": {},
     "output_type": "execute_result"
    }
   ],
   "source": [
    "c1.part_name"
   ]
  },
  {
   "cell_type": "code",
   "execution_count": 30,
   "id": "6281475c-4e93-4301-9023-e9e0d46a60ed",
   "metadata": {
    "tags": []
   },
   "outputs": [
    {
     "data": {
      "text/plain": [
       "[]"
      ]
     },
     "execution_count": 30,
     "metadata": {},
     "output_type": "execute_result"
    }
   ],
   "source": [
    "c1.doc_list"
   ]
  },
  {
   "cell_type": "code",
   "execution_count": 32,
   "id": "a1df1b6a-e148-4d46-bd20-c9c31f8d7929",
   "metadata": {
    "tags": []
   },
   "outputs": [],
   "source": [
    "c1.update_doc_list()"
   ]
  },
  {
   "cell_type": "code",
   "execution_count": 33,
   "id": "4df4ebc1-18f2-4899-bc41-3ce870a6adf7",
   "metadata": {
    "tags": []
   },
   "outputs": [
    {
     "data": {
      "text/plain": [
       "['测试文档1.doc']"
      ]
     },
     "execution_count": 33,
     "metadata": {},
     "output_type": "execute_result"
    }
   ],
   "source": [
    "c1.doc_list"
   ]
  },
  {
   "cell_type": "code",
   "execution_count": 35,
   "id": "6491be8e-79a9-4ced-a098-f829008b34b9",
   "metadata": {
    "tags": []
   },
   "outputs": [
    {
     "data": {
      "text/plain": [
       "''"
      ]
     },
     "execution_count": 35,
     "metadata": {},
     "output_type": "execute_result"
    }
   ],
   "source": [
    "c1.get_doc_content()"
   ]
  },
  {
   "cell_type": "markdown",
   "id": "671d563f-a621-4704-a2c6-7ee768501122",
   "metadata": {},
   "source": [
    "# 3. Memory功能实现之消息工具类封装"
   ]
  },
  {
   "cell_type": "code",
   "execution_count": 129,
   "id": "728e6997-7437-43df-9b92-c953217977f4",
   "metadata": {
    "tags": []
   },
   "outputs": [],
   "source": [
    "class MessageManager():\n",
    "    \"\"\"\n",
    "    MessageManager，用于创建Chat模型能够接收和解读的messages对象。该对象是原始Chat模型接收的\\\n",
    "    messages对象的更高级表现形式，MessageManager类对象将字典类型的list作为其属性之一，同时还能\\\n",
    "    能区分系统消息和历史对话消息，并且能够自行计算当前对话的token量，并执能够在append的同时删\\\n",
    "    减最早对话消息，从而能够更加顺畅的输入大模型并完成多轮对话需求。\n",
    "    \"\"\"\n",
    "    \n",
    "    def __init__(self, \n",
    "                 system_content_list=[], \n",
    "                 question='你好。',\n",
    "                 tokens_thr=None, \n",
    "                 project=None):\n",
    "\n",
    "        self.system_content_list = system_content_list\n",
    "        # 系统消息文档列表，相当于外部输入文档列表\n",
    "        system_messages = []\n",
    "        # 除系统消息外历史对话消息\n",
    "        history_messages = []\n",
    "        # 用于保存全部消息的list\n",
    "        messages_all = []\n",
    "        # 系统消息字符串\n",
    "        system_content = ''\n",
    "        # 历史消息字符串，此时为用户输入信息\n",
    "        history_content = question\n",
    "        # 系统消息+历史消息字符串\n",
    "        content_all = ''\n",
    "        # 输入到messages中系统消息个数，初始情况为0\n",
    "        num_of_system_messages = 0\n",
    "        # 全部信息的token数量\n",
    "        all_tokens_count = 0\n",
    "        \n",
    "        encoding = tiktoken.encoding_for_model(\"gpt-3.5-turbo\")\n",
    "        \n",
    "        # 将外部输入文档列表依次保存为系统消息\n",
    "        if system_content_list != []:      \n",
    "            for content in system_content_list:\n",
    "                system_messages.append({\"role\": \"system\", \"content\": content})\n",
    "                # 同时进行全文档拼接\n",
    "                system_content += content\n",
    "                \n",
    "            # 计算系统消息token\n",
    "            system_tokens_count = len(encoding.encode(system_content))\n",
    "            # 拼接系统消息\n",
    "            messages_all += system_messages\n",
    "            # 计算系统消息个数\n",
    "            num_of_system_messages = len(system_content_list)\n",
    "                \n",
    "            # 若存在最大token数量限制\n",
    "            if tokens_thr != None:\n",
    "                # 若系统消息超出限制\n",
    "                if system_tokens_count >= tokens_thr:\n",
    "                    print(\"system_messages的tokens数量超出限制，当前系统消息将不会被输入模型\")            \n",
    "                    # 删除系统消息\n",
    "                    system_messages = []\n",
    "                    messages_all = []\n",
    "                    # 系统消息个数清零\n",
    "                    num_of_system_messages = 0\n",
    "                    # 系统消息token数清零\n",
    "                    system_tokens_count = 0\n",
    "                    \n",
    "            all_tokens_count += system_tokens_count\n",
    "        \n",
    "        # 创建首次对话消息\n",
    "        history_messages = [{\"role\": \"user\", \"content\": question}]\n",
    "        # 创建全部消息列表\n",
    "        messages_all += history_messages\n",
    "        \n",
    "        # 计算用户问题token\n",
    "        user_tokens_count = len(encoding.encode(question))\n",
    "        \n",
    "        # 计算总token数\n",
    "        all_tokens_count += user_tokens_count\n",
    "        \n",
    "        # 若存在最大token限制\n",
    "        if tokens_thr != None:\n",
    "            # 若超出最大token限制\n",
    "            if all_tokens_count >= tokens_thr:\n",
    "                print(\"当前用户问题的tokens数量超出限制，该消息无法被输入到模型中\")  \n",
    "                # 同时清空系统消息和用户消息\n",
    "                history_messages = []\n",
    "                system_messages = []\n",
    "                messages_all = []\n",
    "                num_of_system_messages = 0\n",
    "                all_tokens_count = 0\n",
    "        \n",
    "        # 全部messages信息\n",
    "        self.messages = messages_all\n",
    "        # system_messages信息\n",
    "        self.system_messages = system_messages\n",
    "        # user_messages信息\n",
    "        self.history_messages = history_messages\n",
    "        # messages信息中全部content的token数量\n",
    "        self.tokens_count = all_tokens_count\n",
    "        # 系统信息数量\n",
    "        self.num_of_system_messages = num_of_system_messages\n",
    "        # 最大token数量阈值\n",
    "        self.tokens_thr = tokens_thr\n",
    "        # token数计算编码方式\n",
    "        self.encoding = tiktoken.encoding_for_model(\"gpt-3.5-turbo\")\n",
    "        # message挂靠的项目\n",
    "        self.project = project\n",
    "     \n",
    "    # 删除部分对话信息\n",
    "    # index = -1 表示删除最后一条消息\n",
    "    # index =  1 表示删除第一条消息\n",
    "    def messages_pop(self, manual=False, index=None):\n",
    "        def reduce_tokens(index):\n",
    "            drop_message = self.history_messages.pop(index)\n",
    "            self.tokens_count -= len(self.encoding.encode(str(drop_message)))\n",
    "\n",
    "        if self.tokens_thr is not None:\n",
    "            while self.tokens_count >= self.tokens_thr:\n",
    "                reduce_tokens(-1)\n",
    "\n",
    "        if manual:\n",
    "            if index is None:\n",
    "                reduce_tokens(-1)\n",
    "            elif 0 <= index < len(self.history_messages) or index == -1:\n",
    "                reduce_tokens(index)\n",
    "            else:\n",
    "                raise ValueError(\"Invalid index value: {}\".format(index))\n",
    "\n",
    "        # 更新messages\n",
    "        self.messages = self.system_messages + self.history_messages\n",
    "       \n",
    "    # 增加部分对话信息\n",
    "    def messages_append(self, new_messages):\n",
    "        \n",
    "        # 若是单独一个字典，或JSON格式字典\n",
    "        if type(new_messages) is dict or type(new_messages) is openai.types.chat.chat_completion_message.ChatCompletionMessage:\n",
    "            self.messages.append(new_messages)\n",
    "            self.tokens_count += len(self.encoding.encode(str(new_messages)))\n",
    "            \n",
    "        # 若新消息也是MessageManager对象\n",
    "        elif isinstance(new_messages, MessageManager):\n",
    "            self.messages += new_messages.messages\n",
    "            self.tokens_count += new_messages.tokens_count\n",
    "\n",
    "        # 重新更新history_messages\n",
    "        self.history_messages = self.messages[self.num_of_system_messages: ]\n",
    "        \n",
    "        # 再执行pop，若有需要，则会删除部分历史消息\n",
    "        self.messages_pop()\n",
    "      \n",
    "    # 复制信息\n",
    "    def copy(self):\n",
    "        # 创建一个新的 MessageManager 对象，复制所有重要的属性\n",
    "        system_content_str_list = [message[\"content\"] for message in self.system_messages]\n",
    "        new_obj = MessageManager(\n",
    "            system_content_list=copy.deepcopy(system_content_str_list),  # 使用深复制来复制系统消息\n",
    "            question=self.history_messages[0][\"content\"] if self.history_messages else '',\n",
    "            tokens_thr=self.tokens_thr\n",
    "        )\n",
    "        # 复制任何其他需要复制的属性\n",
    "        new_obj.history_messages = copy.deepcopy(self.history_messages)  # 使用深复制来复制历史消息\n",
    "        new_obj.messages = copy.deepcopy(self.messages)  # 使用深复制来复制所有消息\n",
    "        new_obj.tokens_count = self.tokens_count\n",
    "        new_obj.num_of_system_messages = self.num_of_system_messages\n",
    "        \n",
    "        return new_obj\n",
    "    \n",
    "    # 增加系统消息\n",
    "    def add_system_messages(self, new_system_content):\n",
    "        system_content_list = self.system_content_list\n",
    "        system_messages = []\n",
    "        # 若是字符串，则将其转化为list\n",
    "        if type(new_system_content) == str:\n",
    "            new_system_content = [new_system_content]\n",
    "            \n",
    "        system_content_list.extend(new_system_content)\n",
    "        new_system_content_str = ''\n",
    "        for content in new_system_content:\n",
    "            new_system_content_str += content\n",
    "        new_token_count = len(self.encoding.encode(str(new_system_content_str)))\n",
    "        self.tokens_count += new_token_count\n",
    "        self.system_content_list = system_content_list\n",
    "        for message in system_content_list:\n",
    "            system_messages.append({\"role\": \"system\", \"content\": message})\n",
    "        self.system_messages = system_messages\n",
    "        self.num_of_system_messages = len(system_content_list)\n",
    "        self.messages = system_messages + self.history_messages\n",
    "        \n",
    "        # 再执行pop，若有需要，则会删除部分历史消息\n",
    "        self.messages_pop()\n",
    "        \n",
    "        \n",
    "    # 删除系统消息\n",
    "    def delete_system_messages(self):\n",
    "        system_content_list = self.system_content_list\n",
    "        if system_content_list != []:\n",
    "            system_content_str = ''\n",
    "            for content in system_content_list:\n",
    "                system_content_str += content\n",
    "            delete_token_count = len(self.encoding.encode(str(system_content_str)))\n",
    "            self.tokens_count -= delete_token_count\n",
    "            self.num_of_system_messages = 0\n",
    "            self.system_content_list = []\n",
    "            self.system_messages = []\n",
    "            self.messages = self.history_messages\n",
    "     \n",
    "    # 清除对话消息中的function消息\n",
    "    def delete_function_messages(self):\n",
    "        # 用于删除外部函数消息\n",
    "        history_messages = self.history_messages\n",
    "        # 从后向前迭代列表\n",
    "        for index in range(len(history_messages) - 1, -1, -1):\n",
    "            message = history_messages[index]\n",
    "            ## 这儿估计有问题\n",
    "            if message.get(\"function_call\") or message.get(\"role\") == \"function\":\n",
    "                self.messages_pop(manual=True, index=index)"
   ]
  },
  {
   "cell_type": "code",
   "execution_count": 37,
   "id": "bb09821c-2060-4a02-b071-1494a4d603ff",
   "metadata": {
    "tags": []
   },
   "outputs": [],
   "source": [
    "msg1 = MessageManager()"
   ]
  },
  {
   "cell_type": "code",
   "execution_count": 38,
   "id": "d563674a-6df3-4710-aa98-dbbeaf8f41a4",
   "metadata": {
    "tags": []
   },
   "outputs": [
    {
     "data": {
      "text/plain": [
       "[]"
      ]
     },
     "execution_count": 38,
     "metadata": {},
     "output_type": "execute_result"
    }
   ],
   "source": [
    "msg1.system_messages"
   ]
  },
  {
   "cell_type": "code",
   "execution_count": 39,
   "id": "c81957d8-6547-441f-9e8d-220c21369228",
   "metadata": {
    "tags": []
   },
   "outputs": [
    {
     "data": {
      "text/plain": [
       "[{'role': 'user', 'content': '你好。'}]"
      ]
     },
     "execution_count": 39,
     "metadata": {},
     "output_type": "execute_result"
    }
   ],
   "source": [
    "msg1.history_messages"
   ]
  },
  {
   "cell_type": "code",
   "execution_count": 40,
   "id": "764acced-f7c3-4e94-9165-0b124ab75a00",
   "metadata": {
    "tags": []
   },
   "outputs": [],
   "source": [
    "msg1.messages_append({\"role\": \"user\", \"content\": \"你好，有什么可以帮你？\"})"
   ]
  },
  {
   "cell_type": "code",
   "execution_count": 41,
   "id": "8a41da19-18f5-4234-a81f-aac00730b11b",
   "metadata": {
    "tags": []
   },
   "outputs": [
    {
     "data": {
      "text/plain": [
       "[{'role': 'user', 'content': '你好。'},\n",
       " {'role': 'user', 'content': '你好，有什么可以帮你？'}]"
      ]
     },
     "execution_count": 41,
     "metadata": {},
     "output_type": "execute_result"
    }
   ],
   "source": [
    "msg1.history_messages"
   ]
  },
  {
   "cell_type": "code",
   "execution_count": 42,
   "id": "741e7aea-88f9-4d7c-befa-e8ced581f436",
   "metadata": {
    "tags": []
   },
   "outputs": [
    {
     "data": {
      "text/plain": [
       "26"
      ]
     },
     "execution_count": 42,
     "metadata": {},
     "output_type": "execute_result"
    }
   ],
   "source": [
    "msg1.tokens_count"
   ]
  },
  {
   "cell_type": "code",
   "execution_count": 43,
   "id": "78d76a73-546c-46dc-b325-9bd3a33df8af",
   "metadata": {
    "tags": []
   },
   "outputs": [],
   "source": [
    "msg1.messages_pop()"
   ]
  },
  {
   "cell_type": "code",
   "execution_count": 44,
   "id": "8acc9694-8496-48f2-83f4-bb25455b01fb",
   "metadata": {
    "tags": []
   },
   "outputs": [
    {
     "data": {
      "text/plain": [
       "[{'role': 'user', 'content': '你好。'},\n",
       " {'role': 'user', 'content': '你好，有什么可以帮你？'}]"
      ]
     },
     "execution_count": 44,
     "metadata": {},
     "output_type": "execute_result"
    }
   ],
   "source": [
    "msg1.history_messages"
   ]
  },
  {
   "cell_type": "code",
   "execution_count": 45,
   "id": "37334aa8-bdcf-4b6b-b8b4-7ea8cf0a0261",
   "metadata": {
    "tags": []
   },
   "outputs": [],
   "source": [
    "msg1.messages_pop(manual=True, index=-1)"
   ]
  },
  {
   "cell_type": "code",
   "execution_count": 46,
   "id": "08f7bc9a-c9b6-40af-a6cf-06bb7f6c5b18",
   "metadata": {
    "tags": []
   },
   "outputs": [
    {
     "data": {
      "text/plain": [
       "[{'role': 'user', 'content': '你好。'}]"
      ]
     },
     "execution_count": 46,
     "metadata": {},
     "output_type": "execute_result"
    }
   ],
   "source": [
    "msg1.history_messages"
   ]
  },
  {
   "cell_type": "code",
   "execution_count": 47,
   "id": "363b2099-decc-4d6a-97f0-d95929410135",
   "metadata": {
    "tags": []
   },
   "outputs": [
    {
     "data": {
      "text/plain": [
       "3"
      ]
     },
     "execution_count": 47,
     "metadata": {},
     "output_type": "execute_result"
    }
   ],
   "source": [
    "msg1.tokens_count"
   ]
  },
  {
   "cell_type": "code",
   "execution_count": 48,
   "id": "78caf027-5a37-451f-bc5c-9b658b7699ea",
   "metadata": {
    "tags": []
   },
   "outputs": [],
   "source": [
    "# 数据字典文件\n",
    "with open('/root/autodl-tmp/iQuery项目/data/数据字典/iquery数据字典.md', 'r', encoding='utf-8') as f:\n",
    "    data_dictionary = f.read()"
   ]
  },
  {
   "cell_type": "code",
   "execution_count": 49,
   "id": "5f04bb55-05f8-46d2-8c76-cae4abcb7f38",
   "metadata": {
    "tags": []
   },
   "outputs": [],
   "source": [
    "# 数据分析报告编写专家文档\n",
    "with open('/root/autodl-tmp/iQuery项目/data/业务知识/本公司数据分析师业务介绍.md', 'r', encoding='utf-8') as f:\n",
    "    da_instruct = f.read()"
   ]
  },
  {
   "cell_type": "code",
   "execution_count": 50,
   "id": "f2ec7ca5-f849-408f-909b-2afadf6bb3f3",
   "metadata": {
    "tags": []
   },
   "outputs": [],
   "source": [
    "msg2 = MessageManager(system_content_list=[data_dictionary, da_instruct])"
   ]
  },
  {
   "cell_type": "code",
   "execution_count": 51,
   "id": "5d7266e2-f8cc-4124-a3a7-bbe63c76fada",
   "metadata": {
    "tags": []
   },
   "outputs": [
    {
     "data": {
      "text/plain": [
       "[{'role': 'system',\n",
       "  'content': '# iquery数据字典：iquery数据库数据字典\\n\\n本数据字典记录了iquery数据库中各张数据表的基本情况。\\n\\n## 1.user_demographics数据表\\n\\n- 基本解释\\n\\n  \\u200b\\t\\tuser_demographics数据表记录了电信用户的个人基本情况，主要涵盖客户基本生物属性，包括性别、年龄状况、是否结婚以及是否经济独立等。\\n\\n- 数据来源\\n\\n  \\u200b\\tuser_demographics数据集由一线业务人员人工采集记录，并且通过回访确认相关信息，数据集的准确性和可信度都非常高。\\n\\n- 各字段说明\\n\\n| Column Name | Description | Value Range | Value Explanation | Type |\\n|-------------|-------------|-------------|-------------------|------|\\n| customerID | 客户ID，user_demographics数据表主键 |              | 由数字和字母组成的 | VARCHAR(255) |\\n| gender | 用户的性别 | Female, Male | Female (女性), Male (男性) | VARCHAR(255) |\\n| SeniorCitizen | 是否为老人 | 0, 1 | 0 (不是), 1 (是) | INT |\\n| Partner | 用户是否有伴侣 | Yes, No | Yes (有), No (没有) | VARCHAR(255) |\\n| Dependents | 用户经济是否独立，往往用于判断用户是否已经成年 | No, Yes | Yes (有), No (没有) | VARCHAR(255) |\\n\\n## 2.user_services数据表\\n\\n- 基本解释\\n\\n  \\u200b        user_services数据表记录了每位用户订购电信服务的基本情况，截至目前，电信服务商提供了种类多样的服务，包括电话类服务和网络类服务等，本数据集表记录了每位用户订阅电信服务的基本情况。\\n\\n- 数据来源\\n\\n  \\u200b\\t\\tuser_services数据表由后台系统自动创建生成，并未经过人工校验。\\n\\n- 各字段说明\\n\\n| Column Name | Description | Value Range | Value Explanation | Type |\\n|-------------|-------------|-------------|-------------------|------|\\n| customerID | 客户ID，user_services数据表主键 |  | 由数字和字母组成的 | VARCHAR(255) |\\n| PhoneService | 用户是否有电话服务 | No, Yes | Yes (有), No (没有) | VARCHAR(255) |\\n| MultipleLines | 用户是否开通了多条电话业务 | No phone service, No, Yes | Yes (有多条电话线业务), No (没有多条电话线业务), No phone service (没有电话服务) | VARCHAR(255) |\\n| InternetService | 用户的互联网服务类型 | DSL, Fiber optic, No | DSL (DSL), Fiber optic (光纤), No (没有) | VARCHAR(255) |\\n| OnlineSecurity | 是否开通网络安全服务 | No, Yes, No internet service | Yes（有）、No（无） or No internetservice（没有网路服务） | VARCHAR(255) |\\n| OnlineBackup | 是否开通在线备份服务 | Yes, No, No internet service | Yes（有）、No（无） or No internetservice（没有网路服务） | VARCHAR(255) |\\n| DeviceProtection | 是否开通设备保护服务 | No, Yes, No internet service | Yes（有）、No（无） or No internetservice（没有网路服务） | VARCHAR(255) |\\n| TechSupport | 是否开通技术支持业务 | No, Yes, No internet service | Yes（有）、No（无） or No internetservice（没有网路服务） | VARCHAR(255) |\\n| StreamingTV | 是否开通网络电视 | No, Yes, No internet service | Yes（有）、No（无） or No internetservice（没有网路服务） | VARCHAR(255) |\\n| StreamingMovies | 是否开通网络电影 | No, Yes, No internet service | Yes（有）、No（无） or No internetservice（没有网路服务） | VARCHAR(255) |\\n\\n## 3.user_payments数据表\\n\\n- 基本解释\\n\\n  \\u200b\\t\\tuser_payments数据表记录了每一位用户支付状况，既包括用户的支付方式和合同类型，同时也包含用户具体支付金额，包括月付金额和总金额等。\\n\\n- 数据来源\\n\\n  \\u200b\\t\\tuser_payments数据表由后台自动记录生成，并未经过校验。\\n\\n- 各字段说明\\n\\n| Column Name | Description | Value Range | Value Explanation | Type |\\n|-------------|-------------|-------------|-------------------|------|\\n| customerID | 客户ID，user_payments数据表主键 |  | 由数字和字母组成的 | VARCHAR(255) |\\n| Contract | 合同类型 | Month-to-month, One year, Two year | Month-to-month (月付), One year (一年付), Two year (两年付) | VARCHAR(255) |\\n| PaperlessBilling | 是否无纸化账单 | Yes, No | Yes (是), No (否) | VARCHAR(255) |\\n| PaymentMethod | 支付方式 | Electronic check, Mailed check, Bank transfer (automatic), Credit card (automatic) | Electronic check (电子检查), Mailed check (邮寄支票), Bank transfer (automatic) (银行转账), Credit card (automatic) (信用卡) | VARCHAR(255) |\\n| MonthlyCharges | 月费用 |  | 用户平均每月支付费用 | FLOAT        |\\n| TotalCharges | 总费用 |  | 截至目前用户总消费金额 | VARCHAR(255) |\\n\\n## 4.user_churn\\n\\n- 基本解释\\n\\n  \\u200b\\t\\tuser_churn数据表记录了当前用户流失情况。\\n\\n- 数据来源\\n\\n  \\u200b\\t\\tuser_churn数据表由后台自动创建并记录，当合同截至后但用户未续费，则判断该用户目前处于流失状态。\\n\\n- 各字段说明\\n\\n| Column Name | Description | Value Range | Value Explanation | Type |\\n|-------------|-------------|-------------|-------------------|------|\\n| customerID | 客户ID，user_churn数据表主键 |             | 由数字和字母组成的 | VARCHAR(255) |\\n| Churn | 用户是否流失 | No, Yes | Yes (是), No (否) | VARCHAR(255) |\\n\\n'},\n",
       " {'role': 'system',\n",
       "  'content': '1.你是一名资深数据分析师，擅长挖掘数字规律并进行深度分析，并擅长编写数据分析报告。\\n\\n2.目前你正在参与一个名为电信用户行为分析的数据分析项目当中，这个项目的核心目的是分析当前电信用户相关数据，并对用户流失情况进行分析。\\n\\n3.电信用户流失项目允许使用存储在MySQL中的一个名为iquery的数据集，该数据集中包含了全部和电信用户流失相关的数据集。\\n\\n4.你目前的核心职责是编写数据分析报告，你能够获得一系列技术人员探索得到的基本结论，也就是一系列前期问答文本，需要在此基础之上编写完善、权威、且容易阅读的数据分析报告。\\n\\n5.你编写的数据分析报告需要分模块进行编写，一篇完整的数据分析报告必须包括以下四个内容模块，分别为数据探索、数据质量校验、数据清洗、数据分析，以下分别解释每个内容模块必须包含的内容：\\n\\n- **问题定义**：明确要回答的问题或达到的目标。\\n- **数据获取**：找到并收集需要的数据。数据可以来自多种来源，比如数据库，网络，第三方API等。\\n- **数据清洗和预处理**：去除无用、重复、错误的数据，处理缺失值，可能还需要进行数据类型转换、数据归一化等操作。\\n- **数据探索和理解**：通过统计分析，可视化等方式对数据进行深入理解，找到数据的规律和特点。\\n- **数据建模**：选择合适的算法和模型，如回归分析，决策树，神经网络等，对数据进行建模。\\n- **模型训练和评估**：使用训练数据集对模型进行训练，并用测试数据集进行模型评估，如准确率，召回率，F1值等。\\n- **结果解释和报告**：将分析和模型结果进行整理和解释，形成报告，为决策提供支持。\\n- **模型部署和监控**：将模型部署到实际业务中，并进行持续的监控和优化。'}]"
      ]
     },
     "execution_count": 51,
     "metadata": {},
     "output_type": "execute_result"
    }
   ],
   "source": [
    "msg2.system_messages"
   ]
  },
  {
   "cell_type": "code",
   "execution_count": 52,
   "id": "d847a134-b532-4f11-9da5-4285fc8b008b",
   "metadata": {
    "tags": []
   },
   "outputs": [
    {
     "data": {
      "text/plain": [
       "[{'role': 'user', 'content': '你好。'}]"
      ]
     },
     "execution_count": 52,
     "metadata": {},
     "output_type": "execute_result"
    }
   ],
   "source": [
    "msg2.history_messages"
   ]
  },
  {
   "cell_type": "code",
   "execution_count": 53,
   "id": "8e896ce1-1a41-46a9-81f4-bbca3166b69a",
   "metadata": {
    "tags": []
   },
   "outputs": [],
   "source": [
    "msg3 = msg2.copy()"
   ]
  },
  {
   "cell_type": "code",
   "execution_count": 57,
   "id": "cc834c0c-9fb8-4371-a6f2-10bfc9ba9653",
   "metadata": {
    "tags": []
   },
   "outputs": [
    {
     "data": {
      "text/plain": [
       "[{'role': 'system',\n",
       "  'content': '# iquery数据字典：iquery数据库数据字典\\n\\n本数据字典记录了iquery数据库中各张数据表的基本情况。\\n\\n## 1.user_demographics数据表\\n\\n- 基本解释\\n\\n  \\u200b\\t\\tuser_demographics数据表记录了电信用户的个人基本情况，主要涵盖客户基本生物属性，包括性别、年龄状况、是否结婚以及是否经济独立等。\\n\\n- 数据来源\\n\\n  \\u200b\\tuser_demographics数据集由一线业务人员人工采集记录，并且通过回访确认相关信息，数据集的准确性和可信度都非常高。\\n\\n- 各字段说明\\n\\n| Column Name | Description | Value Range | Value Explanation | Type |\\n|-------------|-------------|-------------|-------------------|------|\\n| customerID | 客户ID，user_demographics数据表主键 |              | 由数字和字母组成的 | VARCHAR(255) |\\n| gender | 用户的性别 | Female, Male | Female (女性), Male (男性) | VARCHAR(255) |\\n| SeniorCitizen | 是否为老人 | 0, 1 | 0 (不是), 1 (是) | INT |\\n| Partner | 用户是否有伴侣 | Yes, No | Yes (有), No (没有) | VARCHAR(255) |\\n| Dependents | 用户经济是否独立，往往用于判断用户是否已经成年 | No, Yes | Yes (有), No (没有) | VARCHAR(255) |\\n\\n## 2.user_services数据表\\n\\n- 基本解释\\n\\n  \\u200b        user_services数据表记录了每位用户订购电信服务的基本情况，截至目前，电信服务商提供了种类多样的服务，包括电话类服务和网络类服务等，本数据集表记录了每位用户订阅电信服务的基本情况。\\n\\n- 数据来源\\n\\n  \\u200b\\t\\tuser_services数据表由后台系统自动创建生成，并未经过人工校验。\\n\\n- 各字段说明\\n\\n| Column Name | Description | Value Range | Value Explanation | Type |\\n|-------------|-------------|-------------|-------------------|------|\\n| customerID | 客户ID，user_services数据表主键 |  | 由数字和字母组成的 | VARCHAR(255) |\\n| PhoneService | 用户是否有电话服务 | No, Yes | Yes (有), No (没有) | VARCHAR(255) |\\n| MultipleLines | 用户是否开通了多条电话业务 | No phone service, No, Yes | Yes (有多条电话线业务), No (没有多条电话线业务), No phone service (没有电话服务) | VARCHAR(255) |\\n| InternetService | 用户的互联网服务类型 | DSL, Fiber optic, No | DSL (DSL), Fiber optic (光纤), No (没有) | VARCHAR(255) |\\n| OnlineSecurity | 是否开通网络安全服务 | No, Yes, No internet service | Yes（有）、No（无） or No internetservice（没有网路服务） | VARCHAR(255) |\\n| OnlineBackup | 是否开通在线备份服务 | Yes, No, No internet service | Yes（有）、No（无） or No internetservice（没有网路服务） | VARCHAR(255) |\\n| DeviceProtection | 是否开通设备保护服务 | No, Yes, No internet service | Yes（有）、No（无） or No internetservice（没有网路服务） | VARCHAR(255) |\\n| TechSupport | 是否开通技术支持业务 | No, Yes, No internet service | Yes（有）、No（无） or No internetservice（没有网路服务） | VARCHAR(255) |\\n| StreamingTV | 是否开通网络电视 | No, Yes, No internet service | Yes（有）、No（无） or No internetservice（没有网路服务） | VARCHAR(255) |\\n| StreamingMovies | 是否开通网络电影 | No, Yes, No internet service | Yes（有）、No（无） or No internetservice（没有网路服务） | VARCHAR(255) |\\n\\n## 3.user_payments数据表\\n\\n- 基本解释\\n\\n  \\u200b\\t\\tuser_payments数据表记录了每一位用户支付状况，既包括用户的支付方式和合同类型，同时也包含用户具体支付金额，包括月付金额和总金额等。\\n\\n- 数据来源\\n\\n  \\u200b\\t\\tuser_payments数据表由后台自动记录生成，并未经过校验。\\n\\n- 各字段说明\\n\\n| Column Name | Description | Value Range | Value Explanation | Type |\\n|-------------|-------------|-------------|-------------------|------|\\n| customerID | 客户ID，user_payments数据表主键 |  | 由数字和字母组成的 | VARCHAR(255) |\\n| Contract | 合同类型 | Month-to-month, One year, Two year | Month-to-month (月付), One year (一年付), Two year (两年付) | VARCHAR(255) |\\n| PaperlessBilling | 是否无纸化账单 | Yes, No | Yes (是), No (否) | VARCHAR(255) |\\n| PaymentMethod | 支付方式 | Electronic check, Mailed check, Bank transfer (automatic), Credit card (automatic) | Electronic check (电子检查), Mailed check (邮寄支票), Bank transfer (automatic) (银行转账), Credit card (automatic) (信用卡) | VARCHAR(255) |\\n| MonthlyCharges | 月费用 |  | 用户平均每月支付费用 | FLOAT        |\\n| TotalCharges | 总费用 |  | 截至目前用户总消费金额 | VARCHAR(255) |\\n\\n## 4.user_churn\\n\\n- 基本解释\\n\\n  \\u200b\\t\\tuser_churn数据表记录了当前用户流失情况。\\n\\n- 数据来源\\n\\n  \\u200b\\t\\tuser_churn数据表由后台自动创建并记录，当合同截至后但用户未续费，则判断该用户目前处于流失状态。\\n\\n- 各字段说明\\n\\n| Column Name | Description | Value Range | Value Explanation | Type |\\n|-------------|-------------|-------------|-------------------|------|\\n| customerID | 客户ID，user_churn数据表主键 |             | 由数字和字母组成的 | VARCHAR(255) |\\n| Churn | 用户是否流失 | No, Yes | Yes (是), No (否) | VARCHAR(255) |\\n\\n'},\n",
       " {'role': 'system',\n",
       "  'content': '1.你是一名资深数据分析师，擅长挖掘数字规律并进行深度分析，并擅长编写数据分析报告。\\n\\n2.目前你正在参与一个名为电信用户行为分析的数据分析项目当中，这个项目的核心目的是分析当前电信用户相关数据，并对用户流失情况进行分析。\\n\\n3.电信用户流失项目允许使用存储在MySQL中的一个名为iquery的数据集，该数据集中包含了全部和电信用户流失相关的数据集。\\n\\n4.你目前的核心职责是编写数据分析报告，你能够获得一系列技术人员探索得到的基本结论，也就是一系列前期问答文本，需要在此基础之上编写完善、权威、且容易阅读的数据分析报告。\\n\\n5.你编写的数据分析报告需要分模块进行编写，一篇完整的数据分析报告必须包括以下四个内容模块，分别为数据探索、数据质量校验、数据清洗、数据分析，以下分别解释每个内容模块必须包含的内容：\\n\\n- **问题定义**：明确要回答的问题或达到的目标。\\n- **数据获取**：找到并收集需要的数据。数据可以来自多种来源，比如数据库，网络，第三方API等。\\n- **数据清洗和预处理**：去除无用、重复、错误的数据，处理缺失值，可能还需要进行数据类型转换、数据归一化等操作。\\n- **数据探索和理解**：通过统计分析，可视化等方式对数据进行深入理解，找到数据的规律和特点。\\n- **数据建模**：选择合适的算法和模型，如回归分析，决策树，神经网络等，对数据进行建模。\\n- **模型训练和评估**：使用训练数据集对模型进行训练，并用测试数据集进行模型评估，如准确率，召回率，F1值等。\\n- **结果解释和报告**：将分析和模型结果进行整理和解释，形成报告，为决策提供支持。\\n- **模型部署和监控**：将模型部署到实际业务中，并进行持续的监控和优化。'},\n",
       " {'role': 'user', 'content': '你好。'}]"
      ]
     },
     "execution_count": 57,
     "metadata": {},
     "output_type": "execute_result"
    }
   ],
   "source": [
    "msg3.messages"
   ]
  },
  {
   "cell_type": "code",
   "execution_count": 58,
   "id": "3c8a6c7f-4343-45a7-9bd3-8a283beced31",
   "metadata": {
    "tags": []
   },
   "outputs": [
    {
     "data": {
      "text/plain": [
       "2163"
      ]
     },
     "execution_count": 58,
     "metadata": {},
     "output_type": "execute_result"
    }
   ],
   "source": [
    "msg3.tokens_count"
   ]
  },
  {
   "cell_type": "code",
   "execution_count": 55,
   "id": "e263e326-e123-4e40-986e-4381fa0ed747",
   "metadata": {
    "tags": []
   },
   "outputs": [
    {
     "name": "stdout",
     "output_type": "stream",
     "text": [
      "system_messages的tokens数量超出限制，当前系统消息将不会被输入模型\n"
     ]
    }
   ],
   "source": [
    "msg4 = MessageManager(system_content_list=[data_dictionary, da_instruct],tokens_thr=2000)"
   ]
  },
  {
   "cell_type": "code",
   "execution_count": 56,
   "id": "c6fc533d-f831-4ac6-9dcc-7abf065d28fd",
   "metadata": {
    "tags": []
   },
   "outputs": [
    {
     "data": {
      "text/plain": [
       "[{'role': 'user', 'content': '你好。'}]"
      ]
     },
     "execution_count": 56,
     "metadata": {},
     "output_type": "execute_result"
    }
   ],
   "source": [
    "msg4.messages"
   ]
  },
  {
   "cell_type": "markdown",
   "id": "203f721e-543d-47c4-9186-c66220d6d044",
   "metadata": {},
   "source": [
    "# 4.Tools功能之函数封装"
   ]
  },
  {
   "cell_type": "code",
   "execution_count": 59,
   "id": "cb577995-6796-4182-83c3-838f4d2b5770",
   "metadata": {
    "tags": []
   },
   "outputs": [],
   "source": [
    "## mysql\n",
    "def sql_inter(sql_query, g='globals()'):\n",
    "    \"\"\"\n",
    "    用于获取iquery数据库中各张表的有关相关信息，\\\n",
    "    核心功能是将输入的SQL代码传输至iquery数据库所在的MySQL环境中进行运行，\\\n",
    "    并最终返回SQL代码运行结果。需要注意的是，本函数是借助pymysql来连接MySQL数据库。\n",
    "    :param sql_query: 字符串形式的SQL查询语句，用于执行对MySQL中iquery数据库中各张表进行查询，并获得各表中的各类相关信息\n",
    "    :param g: g，字符串形式变量，表示环境变量，无需设置，保持默认参数即可\n",
    "    :return：sql_query在MySQL中的运行结果。\n",
    "    \"\"\"\n",
    "    \n",
    "    mysql_pw = \"iquery_agent\"\n",
    "    \n",
    "    connection = pymysql.connect(\n",
    "            host='localhost',  # 数据库地址\n",
    "            user='iquery_agent',  # 数据库用户名\n",
    "            passwd=mysql_pw,  # 数据库密码\n",
    "            db='iquery',  # 数据库名\n",
    "            charset='utf8'  # 字符集选择utf8\n",
    "        )\n",
    "    \n",
    "    try:\n",
    "        with connection.cursor() as cursor:\n",
    "            # SQL查询语句\n",
    "            sql = sql_query\n",
    "            cursor.execute(sql)\n",
    "\n",
    "            # 获取查询结果\n",
    "            results = cursor.fetchall()\n",
    "\n",
    "    finally:\n",
    "        connection.close()\n",
    "    \n",
    "    \n",
    "    return json.dumps(results)"
   ]
  },
  {
   "cell_type": "code",
   "execution_count": 61,
   "id": "de93d59f-f257-40c5-be01-5aefecd54070",
   "metadata": {
    "tags": []
   },
   "outputs": [
    {
     "data": {
      "text/plain": [
       "'[[5353]]'"
      ]
     },
     "execution_count": 61,
     "metadata": {},
     "output_type": "execute_result"
    }
   ],
   "source": [
    "sql_inter(sql_query='SELECT COUNT(*) FROM user_demographics;', g=globals())"
   ]
  },
  {
   "cell_type": "code",
   "execution_count": 62,
   "id": "c4ce7b99-e93c-436f-bcd4-6f240b961366",
   "metadata": {
    "tags": []
   },
   "outputs": [],
   "source": [
    "def extract_data(sql_query,df_name,g='globals()'):\n",
    "    \"\"\"\n",
    "    用于借助pymysql，将MySQL中的iquery数据库中的表读取并保存到本地Python环境中。\n",
    "    :param sql_query: 字符串形式的SQL查询语句，用于提取MySQL中iquery数据库中的某张表。\n",
    "    :param df_name: 将MySQL数据库中提取的表格进行本地保存时的变量名，以字符串形式表示。\n",
    "    :param g: g，字符串形式变量，表示环境变量，无需设置，保持默认参数即可\n",
    "    :return：表格读取和保存结果\n",
    "    \"\"\"\n",
    "    \n",
    "    mysql_pw = \"iquery_agent\"\n",
    "    \n",
    "    connection = pymysql.connect(\n",
    "            host='localhost',  # 数据库地址\n",
    "            user='iquery_agent',  # 数据库用户名\n",
    "            passwd=mysql_pw,  # 数据库密码\n",
    "            db='iquery',  # 数据库名\n",
    "            charset='utf8'  # 字符集选择utf8\n",
    "        )\n",
    "    \n",
    "    \n",
    "    globals()[df_name] = pd.read_sql(sql_query, connection)\n",
    "    \n",
    "    return \"已成功完成%s变量创建\" % df_name"
   ]
  },
  {
   "cell_type": "code",
   "execution_count": 63,
   "id": "f5f69203-b23a-4bee-8d13-fd9fd0342f99",
   "metadata": {
    "tags": []
   },
   "outputs": [
    {
     "name": "stderr",
     "output_type": "stream",
     "text": [
      "/tmp/ipykernel_795/749747702.py:21: UserWarning: pandas only supports SQLAlchemy connectable (engine/connection) or database string URI or sqlite3 DBAPI2 connection. Other DBAPI2 objects are not tested. Please consider using SQLAlchemy.\n",
      "  globals()[df_name] = pd.read_sql(sql_query, connection)\n"
     ]
    },
    {
     "data": {
      "text/plain": [
       "'已成功完成user_demographics_df变量创建'"
      ]
     },
     "execution_count": 63,
     "metadata": {},
     "output_type": "execute_result"
    }
   ],
   "source": [
    "extract_data(sql_query = 'SELECT * FROM user_demographics;', \n",
    "             df_name = 'user_demographics_df', \n",
    "             g = globals())"
   ]
  },
  {
   "cell_type": "code",
   "execution_count": 64,
   "id": "db462cb5-5153-4eef-8450-9af8211b5e99",
   "metadata": {
    "tags": []
   },
   "outputs": [
    {
     "data": {
      "text/html": [
       "<div>\n",
       "<style scoped>\n",
       "    .dataframe tbody tr th:only-of-type {\n",
       "        vertical-align: middle;\n",
       "    }\n",
       "\n",
       "    .dataframe tbody tr th {\n",
       "        vertical-align: top;\n",
       "    }\n",
       "\n",
       "    .dataframe thead th {\n",
       "        text-align: right;\n",
       "    }\n",
       "</style>\n",
       "<table border=\"1\" class=\"dataframe\">\n",
       "  <thead>\n",
       "    <tr style=\"text-align: right;\">\n",
       "      <th></th>\n",
       "      <th>customerID</th>\n",
       "      <th>gender</th>\n",
       "      <th>SeniorCitizen</th>\n",
       "      <th>Partner</th>\n",
       "      <th>Dependents</th>\n",
       "    </tr>\n",
       "  </thead>\n",
       "  <tbody>\n",
       "    <tr>\n",
       "      <th>0</th>\n",
       "      <td>0003-MKNFE</td>\n",
       "      <td>Male</td>\n",
       "      <td>0</td>\n",
       "      <td>No</td>\n",
       "      <td>No</td>\n",
       "    </tr>\n",
       "    <tr>\n",
       "      <th>1</th>\n",
       "      <td>0004-TLHLJ</td>\n",
       "      <td>Male</td>\n",
       "      <td>0</td>\n",
       "      <td>No</td>\n",
       "      <td>No</td>\n",
       "    </tr>\n",
       "    <tr>\n",
       "      <th>2</th>\n",
       "      <td>0011-IGKFF</td>\n",
       "      <td>Male</td>\n",
       "      <td>1</td>\n",
       "      <td>Yes</td>\n",
       "      <td>No</td>\n",
       "    </tr>\n",
       "    <tr>\n",
       "      <th>3</th>\n",
       "      <td>0013-EXCHZ</td>\n",
       "      <td>Female</td>\n",
       "      <td>1</td>\n",
       "      <td>Yes</td>\n",
       "      <td>No</td>\n",
       "    </tr>\n",
       "    <tr>\n",
       "      <th>4</th>\n",
       "      <td>0013-SMEOE</td>\n",
       "      <td>Female</td>\n",
       "      <td>1</td>\n",
       "      <td>Yes</td>\n",
       "      <td>No</td>\n",
       "    </tr>\n",
       "  </tbody>\n",
       "</table>\n",
       "</div>"
      ],
      "text/plain": [
       "   customerID  gender  SeniorCitizen Partner Dependents\n",
       "0  0003-MKNFE    Male              0      No         No\n",
       "1  0004-TLHLJ    Male              0      No         No\n",
       "2  0011-IGKFF    Male              1     Yes         No\n",
       "3  0013-EXCHZ  Female              1     Yes         No\n",
       "4  0013-SMEOE  Female              1     Yes         No"
      ]
     },
     "execution_count": 64,
     "metadata": {},
     "output_type": "execute_result"
    }
   ],
   "source": [
    "user_demographics_df.head()"
   ]
  },
  {
   "cell_type": "code",
   "execution_count": 65,
   "id": "62c7e81c-f2c8-43fd-8ea2-9fe673b39073",
   "metadata": {
    "tags": []
   },
   "outputs": [],
   "source": [
    "def python_inter(py_code,g='globals()'):\n",
    "    \"\"\"\n",
    "    用于对iquery数据库中各张数据表进行查询和处理，并获取最终查询或处理结果。\n",
    "    :param py_code: 字符串形式的Python代码，用于执行对iquery数据库中各张数据表进行操作\n",
    "    :param g: g，字符串形式变量，表示环境变量，无需设置，保持默认参数即可\n",
    "    :return：代码运行的最终结果\n",
    "    \"\"\"    \n",
    "    # 添加图片对象，如果存在绘图代码，则创建fig对象\n",
    "    py_code = insert_fig_object(py_code)\n",
    "    global_vars_before = set(globals().keys())\n",
    "    try:\n",
    "        exec(py_code, globals())\n",
    "    except Exception as e:\n",
    "        return str(e)\n",
    "    global_vars_after = set(globals().keys())\n",
    "    new_vars = global_vars_after - global_vars_before\n",
    "    if new_vars:\n",
    "        result = {var: globals()[var] for var in new_vars}\n",
    "        return str(result)\n",
    "    else:\n",
    "        try:\n",
    "            return str(eval(py_code, globals()))\n",
    "        except Exception as e:\n",
    "            return \"已经顺利执行代码\""
   ]
  },
  {
   "cell_type": "code",
   "execution_count": 506,
   "id": "30b39f54-e660-49a2-abb1-5249de2e235e",
   "metadata": {
    "tags": []
   },
   "outputs": [],
   "source": [
    "def insert_fig_object(code_str,g='globals()'):\n",
    "    \"\"\"\n",
    "    为图片创建fig对象\n",
    "    :param g: g，字符串形式变量，表示环境变量，无需设置，保持默认参数即可\n",
    "    \"\"\"\n",
    "    #print(\"开始画图了\")\n",
    "    global fig\n",
    "    # 检查是否已存在 fig 对象的创建\n",
    "    if 'fig = plt.figure' in code_str or 'fig, ax = plt.subplots()' in code_str:\n",
    "        return code_str  # 如果存在，则返回原始代码字符串\n",
    "\n",
    "    # 定义可能的库别名和全名\n",
    "    plot_aliases = ['plt.', 'matplotlib.pyplot.','plot']\n",
    "    sns_aliases = ['sns.', 'seaborn.']\n",
    "\n",
    "    # 寻找第一次出现绘图相关代码的位置\n",
    "    first_plot_occurrence = min((code_str.find(alias) for alias in plot_aliases + sns_aliases if code_str.find(alias) >= 0), default=-1)\n",
    " \n",
    "    # 如果找到绘图代码，则在该位置之前插入 fig 对象的创建\n",
    "    if first_plot_occurrence != -1:\n",
    "        plt_figure_index = code_str.find('plt.figure')\n",
    "        if plt_figure_index != -1:\n",
    "            # 寻找 plt.figure 后的括号位置，以确定是否有参数\n",
    "            closing_bracket_index = code_str.find(')', plt_figure_index)\n",
    "            # 如果找到了 plt.figure()，则替换为 fig = plt.figure()\n",
    "            modified_str = code_str[:plt_figure_index] + 'fig = ' + code_str[plt_figure_index:closing_bracket_index + 1] + code_str[closing_bracket_index + 1:]\n",
    "        else:\n",
    "            modified_str = code_str[:first_plot_occurrence] + 'fig = plt.figure()\\n' + code_str[first_plot_occurrence:]\n",
    "        return modified_str\n",
    "    else:\n",
    "        return code_str  # 如果没有找到绘图代码，则返回原始代码字符串"
   ]
  },
  {
   "cell_type": "code",
   "execution_count": 67,
   "id": "5cdd856a-4fa7-4234-bff6-e687e1c49815",
   "metadata": {
    "tags": []
   },
   "outputs": [
    {
     "data": {
      "image/png": "[encoded data removed]",
      "text/plain": [
       "<Figure size 640x480 with 1 Axes>"
      ]
     },
     "metadata": {},
     "output_type": "display_data"
    }
   ],
   "source": [
    "import matplotlib.pyplot as plt\n",
    "# 数据\n",
    "categories = ['Category 1', 'Category 2', 'Category 3', 'Category 4']\n",
    "values = [4, 7, 1, 8]\n",
    "\n",
    "# 创建 Figure 对象\n",
    "fig, ax = plt.subplots()\n",
    "\n",
    "# 在 Axes 对象 ax 上创建条形图\n",
    "ax.bar(categories, values)\n",
    "\n",
    "# 添加标题和标签\n",
    "ax.set_title('Bar Chart Example')\n",
    "ax.set_xlabel('Categories')\n",
    "ax.set_ylabel('Values')\n",
    "\n",
    "# 显示图表\n",
    "plt.show()"
   ]
  },
  {
   "cell_type": "code",
   "execution_count": 68,
   "id": "616eb459-779e-4032-ba7d-2a246de50383",
   "metadata": {
    "tags": []
   },
   "outputs": [],
   "source": [
    "code_string = \"\"\"\n",
    "import matplotlib.pyplot as plt\n",
    "# 数据\n",
    "categories = ['Category 1', 'Category 2', 'Category 3', 'Category 4']\n",
    "values = [4, 7, 1, 8]\n",
    "\n",
    "# 创建 Figure 对象\n",
    "fig, ax = plt.subplots()\n",
    "\n",
    "# 在 Axes 对象 ax 上创建条形图\n",
    "ax.bar(categories, values)\n",
    "\n",
    "# 添加标题和标签\n",
    "ax.set_title('Bar Chart Example')\n",
    "ax.set_xlabel('Categories')\n",
    "ax.set_ylabel('Values')\n",
    "\n",
    "# 显示图表\n",
    "plt.show()\n",
    "\"\"\""
   ]
  },
  {
   "cell_type": "code",
   "execution_count": 69,
   "id": "548ec468-47c2-4c79-857f-d31d48622e98",
   "metadata": {
    "tags": []
   },
   "outputs": [
    {
     "name": "stdout",
     "output_type": "stream",
     "text": [
      "\n",
      "import matplotlib.pyplot as plt\n",
      "# 数据\n",
      "categories = ['Category 1', 'Category 2', 'Category 3', 'Category 4']\n",
      "values = [4, 7, 1, 8]\n",
      "\n",
      "# 创建 Figure 对象\n",
      "fig, ax = plt.subplots()\n",
      "\n",
      "# 在 Axes 对象 ax 上创建条形图\n",
      "ax.bar(categories, values)\n",
      "\n",
      "# 添加标题和标签\n",
      "ax.set_title('Bar Chart Example')\n",
      "ax.set_xlabel('Categories')\n",
      "ax.set_ylabel('Values')\n",
      "\n",
      "# 显示图表\n",
      "plt.show()\n",
      "\n"
     ]
    }
   ],
   "source": [
    "print(code_string)"
   ]
  },
  {
   "cell_type": "code",
   "execution_count": 70,
   "id": "1830e04e-7625-41dd-9c78-2f86bc97a6de",
   "metadata": {
    "tags": []
   },
   "outputs": [
    {
     "name": "stdout",
     "output_type": "stream",
     "text": [
      "开始画图了\n",
      "\n",
      "import matplotlib.pyplot as plt\n",
      "# 数据\n",
      "categories = ['Category 1', 'Category 2', 'Category 3', 'Category 4']\n",
      "values = [4, 7, 1, 8]\n",
      "\n",
      "# 创建 Figure 对象\n",
      "fig, ax = plt.subplots()\n",
      "\n",
      "# 在 Axes 对象 ax 上创建条形图\n",
      "ax.bar(categories, values)\n",
      "\n",
      "# 添加标题和标签\n",
      "ax.set_title('Bar Chart Example')\n",
      "ax.set_xlabel('Categories')\n",
      "ax.set_ylabel('Values')\n",
      "\n",
      "# 显示图表\n",
      "plt.show()\n",
      "\n"
     ]
    }
   ],
   "source": [
    "print(insert_fig_object(code_str = code_string, g=globals()))"
   ]
  },
  {
   "cell_type": "code",
   "execution_count": 71,
   "id": "6f4e9333-571a-4faf-b4a9-2f71070effdd",
   "metadata": {
    "tags": []
   },
   "outputs": [
    {
     "name": "stdout",
     "output_type": "stream",
     "text": [
      "开始画图了\n"
     ]
    },
    {
     "data": {
      "image/png": "[encoded data removed]",
      "text/plain": [
       "<Figure size 640x480 with 1 Axes>"
      ]
     },
     "metadata": {},
     "output_type": "display_data"
    },
    {
     "data": {
      "text/plain": [
       "'已经顺利执行代码'"
      ]
     },
     "execution_count": 71,
     "metadata": {},
     "output_type": "execute_result"
    }
   ],
   "source": [
    "python_inter(py_code = code_string, g=globals())"
   ]
  },
  {
   "cell_type": "code",
   "execution_count": 72,
   "id": "c86ff7ef-15c8-45ca-ab49-eaefdc83eccc",
   "metadata": {
    "tags": []
   },
   "outputs": [
    {
     "data": {
      "image/png": "[encoded data removed]",
      "text/plain": [
       "<Figure size 640x480 with 1 Axes>"
      ]
     },
     "execution_count": 72,
     "metadata": {},
     "output_type": "execute_result"
    }
   ],
   "source": [
    "fig"
   ]
  },
  {
   "cell_type": "code",
   "execution_count": 73,
   "id": "3cfff5de-0505-45bc-87b5-85b229a637a8",
   "metadata": {
    "tags": []
   },
   "outputs": [],
   "source": [
    "def auto_functions(functions_list):\n",
    "    \"\"\"\n",
    "    Chat模型的functions参数编写函数\n",
    "    :param functions_list: 包含一个或者多个函数对象的列表；\n",
    "    :return：满足Chat模型functions参数要求的functions对象\n",
    "    \"\"\"\n",
    "    def functions_generate(functions_list):\n",
    "        # 创建空列表，用于保存每个函数的描述字典\n",
    "        functions = []\n",
    "        # 对每个外部函数进行循环\n",
    "        for function in functions_list:\n",
    "            # 读取函数对象的函数说明\n",
    "            function_description = inspect.getdoc(function)\n",
    "            # 读取函数的函数名字符串\n",
    "            function_name = function.__name__\n",
    "\n",
    "            system_prompt = '以下是某的函数说明：%s' % function_description\n",
    "            user_prompt = '根据这个函数的函数说明，请帮我创建一个JSON格式的字典，这个字典有如下5点要求：\\\n",
    "                           1.字典总共有三个键值对；\\\n",
    "                           2.第一个键值对的Key是字符串name，value是该函数的名字：%s，也是字符串；\\\n",
    "                           3.第二个键值对的Key是字符串description，value是该函数的函数的功能说明，也是字符串；\\\n",
    "                           4.第三个键值对的Key是字符串parameters，value是一个JSON Schema对象，用于说明该函数的参数输入规范。\\\n",
    "                           5.输出结果必须是一个JSON格式的字典，只输出这个字典即可，前后不需要任何前后修饰或说明的语句' % function_name\n",
    "\n",
    "            response = client.chat.completions.create(\n",
    "                              model=\"gpt-3.5-turbo\",\n",
    "                              messages=[\n",
    "                                {\"role\": \"system\", \"content\": system_prompt},\n",
    "                                {\"role\": \"user\", \"content\": user_prompt}\n",
    "                              ]\n",
    "                            )\n",
    "            json_function_description=json.loads(response.choices[0].message.content.replace(\"```\",\"\").replace(\"json\",\"\"))\n",
    "            json_str={\"type\": \"function\",\"function\":json_function_description}\n",
    "            functions.append(json_str)\n",
    "        return functions\n",
    "    \n",
    "    max_attempts = 4\n",
    "    attempts = 0\n",
    "\n",
    "    while attempts < max_attempts:\n",
    "        try:\n",
    "            functions = functions_generate(functions_list)\n",
    "            break  # 如果代码成功执行，跳出循环\n",
    "        except Exception as e:\n",
    "            attempts += 1  # 增加尝试次数\n",
    "            print(\"发生错误：\", e)\n",
    "            if attempts == max_attempts:\n",
    "                print(\"已达到最大尝试次数，程序终止。\")\n",
    "                raise  # 重新引发最后一个异常\n",
    "            else:\n",
    "                print(\"正在重新运行...\")\n",
    "    return functions"
   ]
  },
  {
   "cell_type": "code",
   "execution_count": 74,
   "id": "a550c28f-e2b9-44b5-b1d7-db1af8408ecb",
   "metadata": {
    "tags": []
   },
   "outputs": [],
   "source": [
    "class AvailableFunctions():\n",
    "    \"\"\"\n",
    "    外部函数类，主要负责承接外部函数调用时相关功能支持。类属性包括外部函数列表、外部函数参数说明列表、以及调用方式说明三项。\n",
    "    \"\"\"\n",
    "    def __init__(self, functions_list=[], functions=[], function_call=\"auto\"):\n",
    "        self.functions_list = functions_list\n",
    "        self.functions = functions\n",
    "        self.functions_dic = None\n",
    "        self.function_call = None\n",
    "        # 当外部函数列表不为空、且外部函数参数解释为空时，调用auto_functions创建外部函数解释列表\n",
    "        if functions_list != []:\n",
    "            self.functions_dic = {func.__name__: func for func in functions_list}\n",
    "            self.function_call = function_call\n",
    "            if functions == []:\n",
    "                self.functions = auto_functions(functions_list)\n",
    "       \n",
    "    # 增加外部函数方法，并且同时可以更换外部函数调用规则\n",
    "    def add_function(self, new_function, function_description=None, function_call_update=None):\n",
    "        self.functions_list.append(new_function)\n",
    "        self.functions_dic[new_function.__name__] = new_function\n",
    "        if function_description == None:\n",
    "            new_function_description = auto_functions([new_function])\n",
    "            self.functions.append(new_function_description)\n",
    "        else:\n",
    "            self.functions.append(function_description)\n",
    "        if function_call_update != None:\n",
    "            self.function_call = function_call_update"
   ]
  },
  {
   "cell_type": "code",
   "execution_count": 77,
   "id": "97ff8b1f-6846-4017-865f-c1d5e7881a58",
   "metadata": {
    "tags": []
   },
   "outputs": [],
   "source": [
    "af = AvailableFunctions(functions_list=[sql_inter, extract_data, python_inter])"
   ]
  },
  {
   "cell_type": "code",
   "execution_count": 390,
   "id": "78f1c0a5-d855-4386-9c75-0f2ada47128b",
   "metadata": {
    "tags": []
   },
   "outputs": [
    {
     "data": {
      "text/plain": [
       "[<function __main__.sql_inter(sql_query, g='globals()')>,\n",
       " <function __main__.extract_data(sql_query, df_name, g='globals()')>,\n",
       " <function __main__.python_inter(py_code, g='globals()')>]"
      ]
     },
     "execution_count": 390,
     "metadata": {},
     "output_type": "execute_result"
    }
   ],
   "source": [
    "af.functions_list"
   ]
  },
  {
   "cell_type": "code",
   "execution_count": 391,
   "id": "ca996bce-a46b-4049-8854-44cf51a331a1",
   "metadata": {
    "tags": []
   },
   "outputs": [
    {
     "data": {
      "text/plain": [
       "{'sql_inter': <function __main__.sql_inter(sql_query, g='globals()')>,\n",
       " 'extract_data': <function __main__.extract_data(sql_query, df_name, g='globals()')>,\n",
       " 'python_inter': <function __main__.python_inter(py_code, g='globals()')>}"
      ]
     },
     "execution_count": 391,
     "metadata": {},
     "output_type": "execute_result"
    }
   ],
   "source": [
    "af.functions_dic"
   ]
  },
  {
   "cell_type": "code",
   "execution_count": 392,
   "id": "a9f04089-d1dc-44f0-af06-76104a3a1a86",
   "metadata": {
    "tags": []
   },
   "outputs": [
    {
     "data": {
      "text/plain": [
       "'auto'"
      ]
     },
     "execution_count": 392,
     "metadata": {},
     "output_type": "execute_result"
    }
   ],
   "source": [
    "af.function_call"
   ]
  },
  {
   "cell_type": "code",
   "execution_count": 394,
   "id": "d895168b-b54a-4c3a-8084-85af3d6c1dc6",
   "metadata": {
    "tags": []
   },
   "outputs": [
    {
     "data": {
      "text/plain": [
       "[{'type': 'function',\n",
       "  'function': {'name': 'sql_inter',\n",
       "   'description': '用于获取iquery数据库中各张表的有关相关信息，核心功能是将输入的SQL代码传输至iquery数据库所在的MySQL环境中进行运行，并最终返回SQL代码运行结果。',\n",
       "   'parameters': {'type': 'object',\n",
       "    'properties': {'sql_query': {'type': 'string',\n",
       "      'description': '字符串形式的SQL查询语句，用于执行对MySQL中iquery数据库中各张表进行查询，并获得各表中的各类相关信息。'},\n",
       "     'g': {'type': 'string',\n",
       "      'description': 'g，字符串形式变量，表示环境变量，无需设置，保持默认参数即可。'}},\n",
       "    'required': ['sql_query', 'g']}}},\n",
       " {'type': 'function',\n",
       "  'function': {'name': 'extract_data',\n",
       "   'description': '用于借助pymysql，将MySQL中的iquery数据库中的表读取并保存到本地Python环境中。',\n",
       "   'parameters': {'type': 'object',\n",
       "    'properties': {'sql_query': {'type': 'string',\n",
       "      'description': '字符串形式的SQL查询语句，用于提取MySQL中iquery数据库中的某张表。'},\n",
       "     'df_name': {'type': 'string',\n",
       "      'description': '将MySQL数据库中提取的表格进行本地保存时的变量名，以字符串形式表示。'},\n",
       "     'g': {'type': 'string', 'description': 'g，字符串形式变量，表示环境变量，无需设置，保持默认参数即可'}},\n",
       "    'required': ['sql_query', 'df_name']}}},\n",
       " {'type': 'function',\n",
       "  'function': {'name': 'python_inter',\n",
       "   'description': '用于对iquery数据库中各张数据表进行查询和处理，并获取最终查询或处理结果。',\n",
       "   'parameters': {'$schema': 'http://-schema.org/draft-07/schema#',\n",
       "    'type': 'object',\n",
       "    'properties': {'py_code': {'type': 'string',\n",
       "      'description': '字符串形式的Python代码，用于执行对iquery数据库中各张数据表进行操作'},\n",
       "     'g': {'type': 'string', 'description': 'g，字符串形式变量，表示环境变量，无需设置，保持默认参数即可'}},\n",
       "    'required': ['py_code', 'g']}}}]"
      ]
     },
     "execution_count": 394,
     "metadata": {},
     "output_type": "execute_result"
    }
   ],
   "source": [
    "af.functions"
   ]
  },
  {
   "cell_type": "markdown",
   "id": "0ad107b2-b5f8-49ad-85c2-da3a13d0e74f",
   "metadata": {},
   "source": [
    "# 5. planning功能设计"
   ]
  },
  {
   "cell_type": "markdown",
   "id": "053cd412-1fe5-4c50-bbeb-7c5f214d8fec",
   "metadata": {},
   "source": [
    "## 5.1 Planning功能之人类意图挖掘"
   ]
  },
  {
   "cell_type": "code",
   "execution_count": 428,
   "id": "707a8d19-6fd7-4c43-982a-a6740f01fdb2",
   "metadata": {
    "tags": []
   },
   "outputs": [],
   "source": [
    "msg_error_test = MessageManager(system_content_list=[data_dictionary], question=\"分析iquery数据库中的这四张表，帮我梳理一个数据分析的基本思路\")"
   ]
  },
  {
   "cell_type": "code",
   "execution_count": 429,
   "id": "1762c3bd-93a8-4ab9-bdbf-2faa84b122f8",
   "metadata": {
    "tags": []
   },
   "outputs": [
    {
     "data": {
      "text/plain": [
       "ChatCompletion(id='chatcmpl-rtFBgtNzSwoMmJONpYdGjHIWTLmXE', choices=[Choice(finish_reason='tool_calls', index=0, logprobs=None, message=ChatCompletionMessage(content='', role='assistant', function_call=None, tool_calls=[ChatCompletionMessageToolCall(id='call_nu8zFoKl61VDF6yaCnWFRhpY', function=Function(arguments='{\"g\": \"test\", \"sql_query\": \"DESC user_demographics;\"}', name='sql_inter'), type='function'), ChatCompletionMessageToolCall(id='call_RaTHPfo93K3DWByG9n4gW7w1', function=Function(arguments='{\"g\": \"test\", \"sql_query\": \"DESC user_services;\"}', name='sql_inter'), type='function'), ChatCompletionMessageToolCall(id='call_8lpOxl8fp7HZzurhQMbrBT4u', function=Function(arguments='{\"g\": \"test\", \"sql_query\": \"DESC user_payments;\"}', name='sql_inter'), type='function'), ChatCompletionMessageToolCall(id='call_L1KekwoNcrc2oELyiAWPjnbR', function=Function(arguments='{\"g\": \"test\", \"sql_query\": \"DESC user_churn;\"}', name='sql_inter'), type='function')]))], created=1710948365, model='gpt-3.5-turbo', object='chat.completion', system_fingerprint='', usage=CompletionUsage(completion_tokens=105, prompt_tokens=1948, total_tokens=2053))"
      ]
     },
     "execution_count": 429,
     "metadata": {},
     "output_type": "execute_result"
    }
   ],
   "source": [
    "second_response = client.chat.completions.create(\n",
    "                        model='gpt-3.5-turbo',\n",
    "                        messages=msg_error_test.messages, \n",
    "                        tools=af.functions, \n",
    "                        tool_choice=\"auto\"\n",
    "                        ) \n",
    "second_response"
   ]
  },
  {
   "cell_type": "code",
   "execution_count": 395,
   "id": "8bb91443-d345-4274-b1a2-d3b9d987b7a9",
   "metadata": {
    "tags": []
   },
   "outputs": [],
   "source": [
    "from openai import  APIConnectionError,AuthenticationError"
   ]
  },
  {
   "cell_type": "code",
   "execution_count": null,
   "id": "bebea26a-eb34-48aa-8660-8cd444785e7e",
   "metadata": {},
   "outputs": [],
   "source": [
    "messages = msg_error_test.copy()\n",
    "try:\n",
    "    response = client.chat.completions.create(\n",
    "                            model='gpt-3.5-turbo',\n",
    "                            messages=messages.messages, \n",
    "                            tools=af.functions, \n",
    "                            tool_choice=af.function_call\n",
    "                            ) \n",
    "#1. 问的问题比较泛\n",
    "#2. key不稳定\n",
    "#3. token不够\n",
    "#4. 低版本的大模型\n",
    "#5. 大家也可以收集自己平时开发遇到的报错（不同版本的openai报错还不一样）\n",
    "except AuthenticationError as e:\n",
    "    # APIConnectionError默认是用户需求不清导致无法返回结果\n",
    "    msg_temp = messages.copy()\n",
    "    # 获取用户问题\n",
    "    question = msg_temp.messages[-1][\"content\"]\n",
    "    # 提醒用户修改提问的提示模板\n",
    "    new_prompt = \"以下是用户提问：%s。该问题有些复杂，且用户意图并不清晰。\\\n",
    "                请编写一段话，来引导用户重新提问。\" % question\n",
    "    # 修改msg_temp并重新提问\n",
    "    try:\n",
    "        msg_temp.messages[-1][\"content\"] = new_prompt\n",
    "        # 修改用户问题并直接提问\n",
    "        \n",
    "        response = client.chat.completions.create(\n",
    "                        model='gpt-3.5-turbo',\n",
    "                        messages=msg_temp.messages, \n",
    "                        tools=af.functions, \n",
    "                        tool_choice=af.function_call\n",
    "                        )\n",
    "        \n",
    "                    \n",
    "        # 打印gpt返回的提示修改原问题的描述语句\n",
    "        display(Markdown(response.choices[0].message.content))     \n",
    "        user_input = input(\"请重新输入问题，输入“退出”可以退出当前对话\")\n",
    "        if user_input != \"退出\":\n",
    "            messages.history_messages[-1][\"content\"] = user_input\n",
    "            response = client.chat.completions.create(\n",
    "                            model='gpt-3.5-turbo',\n",
    "                            messages=messages.messages, \n",
    "                            tools=af.functions, \n",
    "                            tool_choice=af.function_call\n",
    "                            ) \n",
    "\n",
    "                        \n",
    "    # 若在提示用户修改原问题时遇到链接错误，则直接暂停1分钟后继续执行While循环\n",
    "    except AuthenticationError as e:\n",
    "        print(f\"当前遇到了一个链接问题: {str(e)}\")\n",
    "        print(\"由于Limit Rate限制，即将等待1分钟后继续运行...\")\n",
    "        time.sleep(60)  # 等待1分钟\n",
    "        print(\"已等待60秒，即将开始重新调用模型并进行回答...\")"
   ]
  },
  {
   "cell_type": "markdown",
   "id": "d01a7204-b10a-4254-86dc-1b7d00c4414c",
   "metadata": {},
   "source": [
    "## 5.2 Planning功能之增加Few-SHOT和COT思维链能力"
   ]
  },
  {
   "cell_type": "markdown",
   "id": "c88515f1-0680-4425-b656-e898fa50e100",
   "metadata": {},
   "source": [
    "给few-shot例子，遇到复杂问题，进行步骤拆解"
   ]
  },
  {
   "cell_type": "code",
   "execution_count": 430,
   "id": "3c3e5fba-c748-43ca-82f0-6dd4d3e30ba7",
   "metadata": {
    "tags": []
   },
   "outputs": [],
   "source": [
    "def add_task_decomposition_prompt(messages):\n",
    "    \n",
    "    \"\"\"\n",
    "    当开启增强模式时，任何问题首次尝试作答时都会调用本函数，创建一个包含任务拆解Few-shot的新的message。\n",
    "    :param model: 必要参数，表示调用的大模型名称\n",
    "    :param messages: 必要参数，ChatMessages类型对象，用于存储对话消息\n",
    "    :param available_functions: 可选参数，AvailableFunctions类型对象，用于表示开启对话时外部函数基本情况。\\\n",
    "    默认值为None，表示不存在外部函数。\n",
    "    :return: task_decomp_few_shot，一个包含任务拆解Few-shot提示示例的message\n",
    "    \"\"\"\n",
    "    \n",
    "    # 任务拆解Few-shot\n",
    "    # 第一个提示示例\n",
    "    user_question1 = '请问什么是机器学习？'\n",
    "    user_message1_content = \"现有用户问题如下：“%s”。为了回答这个问题，总共需要分几步来执行呢？\\\n",
    "    若无需拆分执行步骤，请直接回答原始问题。\" % user_question1\n",
    "    assistant_message1_content = '机器学习是一种人工智能（AI）的形式，它允许计算机自主学习和改进，而不需要被明确编程。\\\n",
    "    在机器学习过程中，计算机发现如何执行任务，主要是通过学习数据模式和使数据驱动决策。这可能涉及在大量数据中寻找和识别模式，然后根据这些信息进行预测，或者通过反复执行和调整来优化特定任务的性能。。\\\n",
    "    机器学习可以分为监督学习、无监督学习和强化学习等类型。。\\\n",
    "    机器学习在许多领域都有应用，包括自然语言处理、计算机视觉、推荐系统、医疗诊断、金融市场预测等等。'\n",
    "\n",
    "    # 第二个提示示例\n",
    "    user_question2 = '请帮我介绍下OpenAI。'\n",
    "    user_message2_content = \"现有用户问题如下：“%s”。为了回答这个问题，总共需要分几步来执行呢？\\\n",
    "    若无需拆分执行步骤，请直接回答原始问题。\" % user_question2\n",
    "    assistant_message2_content = 'OpenAI是一家开发和应用友好人工智能的公司，\\\n",
    "    它的目标是确保人工通用智能（AGI）对所有人都有益，以及随着AGI部署，尽可能多的人都能受益。\\\n",
    "    OpenAI致力在商业利益和人类福祉之间做出正确的平衡，本质上是一家人道主义公司。\\\n",
    "    OpenAI开发了诸如GPT-3这样的先进模型，在自然语言处理等诸多领域表现出色。'\n",
    "\n",
    "    # 第三个提示示例\n",
    "    user_question3 = '围绕数据库中的user_payments表，我想要检查该表是否存在缺失值'\n",
    "    user_message3_content = \"现有用户问题如下：“%s”。为了回答这个问题，总共需要分几步来执行呢？\\\n",
    "    若无需拆分执行步骤，请直接回答原始问题。\" % user_question3\n",
    "    assistant_message3_content = '为了检查user_payments数据集是否存在缺失值，我们将执行如下步骤：\\\n",
    "    \\n\\n步骤1：使用`extract_data`函数将user_payments数据表读取到当前的Python环境中。\\\n",
    "    \\n\\n步骤2：使用`python_inter`函数执行Python代码检查数据集的缺失值。'\n",
    "\n",
    "    # 第四个提示示例\n",
    "    user_question4 =  '我想寻找合适的缺失值填补方法，来填补user_payments数据集中的缺失值。'\n",
    "    user_message4_content = \"现有用户问题如下：“%s”。为了回答这个问题，总共需要分几步来执行呢？\\\n",
    "    若无需拆分执行步骤，请直接回答原始问题。\" % user_question4\n",
    "    assistant_message4_content = '为了找到合适的缺失值填充方法，我们需要执行以下三步：\\\n",
    "    \\n\\n步骤1：分析user_payments数据集中的缺失值情况。通过查看各字段的缺失率和观察缺失值分布，了解其缺失幅度和模式。\\\n",
    "    \\n\\n步骤2：确定值填补策略。基于观察结果和特定字段的性质确定恰当的填补策略，例如使用众数、中位数、均值或建立模型进行填补等。\\\n",
    "    \\n\\n步骤3：进行缺失值填补。根据确定的填补策略，执行填补操作，然后验证填补效果。'\n",
    "    \n",
    "    # 在保留原始问题的情况下加入Few-shot\n",
    "    task_decomp_few_shot = messages.copy()\n",
    "    task_decomp_few_shot.messages_pop(manual=True, index=-1)\n",
    "    task_decomp_few_shot.messages_append({\"role\": \"user\", \"content\": user_message1_content})\n",
    "    task_decomp_few_shot.messages_append({\"role\": \"assistant\", \"content\": assistant_message1_content})\n",
    "    task_decomp_few_shot.messages_append({\"role\": \"user\", \"content\": user_message2_content})\n",
    "    task_decomp_few_shot.messages_append({\"role\": \"assistant\", \"content\": assistant_message2_content})\n",
    "    task_decomp_few_shot.messages_append({\"role\": \"user\", \"content\": user_message3_content})\n",
    "    task_decomp_few_shot.messages_append({\"role\": \"assistant\", \"content\": assistant_message3_content})\n",
    "    task_decomp_few_shot.messages_append({\"role\": \"user\", \"content\": user_message4_content})\n",
    "    task_decomp_few_shot.messages_append({\"role\": \"assistant\", \"content\": assistant_message4_content})\n",
    "    \n",
    "    user_question = messages.history_messages[-1][\"content\"]\n",
    "\n",
    "    new_question = \"现有用户问题如下：“%s”。为了回答这个问题，总共需要分几步来执行呢？\\\n",
    "    若无需拆分执行步骤，请直接回答原始问题。\" % user_question\n",
    "    question_message = messages.history_messages[-1].copy()\n",
    "    question_message[\"content\"] = new_question\n",
    "    task_decomp_few_shot.messages_append(question_message)\n",
    "    \n",
    "    return task_decomp_few_shot"
   ]
  },
  {
   "cell_type": "code",
   "execution_count": 431,
   "id": "456a8547-79ba-4944-88b8-c701a6ce48e5",
   "metadata": {
    "tags": []
   },
   "outputs": [],
   "source": [
    "msg1 = MessageManager(system_content_list=[data_dictionary], question=\"请帮我查看user_demographics数据表中总共有多少条数据？\")"
   ]
  },
  {
   "cell_type": "code",
   "execution_count": 432,
   "id": "b5f27cc6-fcf9-4675-bac9-fa9f1935efd0",
   "metadata": {
    "tags": []
   },
   "outputs": [],
   "source": [
    "msg2= msg1.copy()"
   ]
  },
  {
   "cell_type": "code",
   "execution_count": 218,
   "id": "9cf01fd9-9ddc-4e7e-9c4d-231401a0e4d8",
   "metadata": {
    "tags": []
   },
   "outputs": [],
   "source": [
    "msg1_get_decomposition = add_task_decomposition_prompt(messages=msg1)"
   ]
  },
  {
   "cell_type": "code",
   "execution_count": 433,
   "id": "0764af5b-fb5b-4d7a-8edd-589a8da54d8a",
   "metadata": {
    "tags": []
   },
   "outputs": [
    {
     "data": {
      "text/plain": [
       "[{'role': 'user',\n",
       "  'content': '现有用户问题如下：“请什么是机器学习？”。为了回答这个问题，总共需要分几步来执行呢？    若无需拆分执行步骤，请直接回答原始问题。'},\n",
       " {'role': 'assistant',\n",
       "  'content': '机器学习是一种人工智能（AI）的形式，它允许计算机自主学习和改进，而不需要被明确编程。    在机器学习过程中，计算机发现如何执行任务，主要是通过学习数据模式和使数据驱动决策。这可能涉及在大量数据中寻找和识别模式，然后根据这些信息进行预测，或者通过反复执行和调整来优化特定任务的性能。。    机器学习可以分为监督学习、无监督学习和强化学习等类型。。    机器学习在许多领域都有应用，包括自然语言处理、计算机视觉、推荐系统、医疗诊断、金融市场预测等等。'},\n",
       " {'role': 'user',\n",
       "  'content': '现有用户问题如下：“请帮我介绍下OpenAI。”。为了回答这个问题，总共需要分几步来执行呢？    若无需拆分执行步骤，请直接回答原始问题。'},\n",
       " {'role': 'assistant',\n",
       "  'content': 'OpenAI是一家开发和应用友好人工智能的公司，    它的目标是确保人工通用智能（AGI）对所有人都有益，以及随着AGI部署，尽可能多的人都能受益。    OpenAI致力在商业利益和人类福祉之间做出正确的平衡，本质上是一家人道主义公司。    OpenAI开发了诸如GPT-3这样的先进模型，在自然语言处理等诸多领域表现出色。'},\n",
       " {'role': 'user',\n",
       "  'content': '现有用户问题如下：“围绕数据库中的user_payments表，我想要检查该表是否存在缺失值”。为了回答这个问题，总共需要分几步来执行呢？    若无需拆分执行步骤，请直接回答原始问题。'},\n",
       " {'role': 'assistant',\n",
       "  'content': '为了检查user_payments数据集是否存在缺失值，我们将执行如下步骤：    \\n\\n步骤1：使用`extract_data`函数将user_payments数据表读取到当前的Python环境中。    \\n\\n步骤2：使用`python_inter`函数执行Python代码检查数据集的缺失值。'},\n",
       " {'role': 'user',\n",
       "  'content': '现有用户问题如下：“我想寻找合适的缺失值填补方法，来填补user_payments数据集中的缺失值。”。为了回答这个问题，总共需要分几步来执行呢？    若无需拆分执行步骤，请直接回答原始问题。'},\n",
       " {'role': 'assistant',\n",
       "  'content': '为了找到合适的缺失值填充方法，我们需要执行以下三步：    \\n\\n步骤1：分析user_payments数据集中的缺失值情况。通过查看各字段的缺失率和观察缺失值分布，了解其缺失幅度和模式。    \\n\\n步骤2：确定值填补策略。基于观察结果和特定字段的性质确定恰当的填补策略，例如使用众数、中位数、均值或建立模型进行填补等。    \\n\\n步骤3：进行缺失值填补。根据确定的填补策略，执行填补操作，然后验证填补效果。'},\n",
       " {'role': 'user',\n",
       "  'content': '现有用户问题如下：“请帮我查看user_demographics数据表中总共有多少条数据？”。为了回答这个问题，总共需要分几步来执行呢？    若无需拆分执行步骤，请直接回答原始问题。'}]"
      ]
     },
     "execution_count": 433,
     "metadata": {},
     "output_type": "execute_result"
    }
   ],
   "source": [
    "msg1_get_decomposition.history_messages"
   ]
  },
  {
   "cell_type": "code",
   "execution_count": null,
   "id": "856d8efc-f483-4dfa-b31a-df738b1b6324",
   "metadata": {},
   "outputs": [],
   "source": [
    "添加思维链模版\n",
    "\n",
    "开发着模式下，让提示词增加思维链"
   ]
  },
  {
   "cell_type": "code",
   "execution_count": 226,
   "id": "d7494289-4045-4abc-84df-bbb4cf284850",
   "metadata": {
    "tags": []
   },
   "outputs": [],
   "source": [
    "def modify_prompt(messages, action='add', enable_md_output=True, enable_COT=True):\n",
    "    \"\"\"\n",
    "    当开启开发者模式时，会让用户选择是否添加COT提示模板或其他提示模板，并创建一个经过修改的新的message。\n",
    "    :param messages: 必要参数，MessageManager类型对象，用于存储对话消息\n",
    "    :param action: 'add' 或 'remove'，决定是添加还是移除提示\n",
    "    :param enable_md_output: 是否启用 markdown 格式输出\n",
    "    :param enable_COT: 是否启用 COT 提示\n",
    "    :return: messages，一个经过提示词修改的message\n",
    "    \"\"\"\n",
    "    \n",
    "    # 思考链提示词模板\n",
    "    cot_prompt = \"请一步步思考并得出结论。\"\n",
    "    \n",
    "    # 输出markdown提示词模板\n",
    "    md_prompt = \"任何回答都请以markdown格式进行输出。\"\n",
    "    # 如果是添加提示词\n",
    "    if action == 'add':\n",
    "        if enable_COT:\n",
    "            ## openai.types.chat.chat_completion_message.ChatCompletionMessage\n",
    "            if type(messages.messages[-1]) is openai.types.chat.chat_completion_message.ChatCompletionMessage:    \n",
    "                messages.messages[-1].content += cot_prompt\n",
    "                messages.history_messages[-1].content += cot_prompt\n",
    "            else:\n",
    "                messages.messages[-1][\"content\"] += cot_prompt\n",
    "                messages.history_messages[-1][\"content\"] += cot_prompt\n",
    "\n",
    "        if enable_md_output:\n",
    "            if type(messages.messages[-1]) is openai.types.chat.chat_completion_message.ChatCompletionMessage:\n",
    "                messages.messages[-1].content += md_prompt\n",
    "                messages.history_messages[-1].content += md_prompt\n",
    "            else:\n",
    "                messages.messages[-1][\"content\"] += md_prompt\n",
    "                messages.history_messages[-1][\"content\"] += md_prompt\n",
    "       \n",
    "    # 如果是将指定提示词删除\n",
    "    elif action == 'remove':\n",
    "        if enable_md_output:\n",
    "            if type(messages.messages[-1]) is openai.types.chat.chat_completion_message.ChatCompletionMessage:\n",
    "                messages.messages[-1].content = messages.messages[-1].content.replace(md_prompt, \"\")\n",
    "                messages.history_messages[-1].content = messages.history_messages[-1].content.replace(md_prompt, \"\")\n",
    "            else:\n",
    "                messages.messages[-1][\"content\"] = messages.messages[-1][\"content\"].replace(md_prompt, \"\")\n",
    "                messages.history_messages[-1][\"content\"] = messages.history_messages[-1][\"content\"].replace(md_prompt, \"\")\n",
    "        \n",
    "        if enable_COT:\n",
    "            if type(messages.messages[-1]) is openai.types.chat.chat_completion_message.ChatCompletionMessage:\n",
    "                messages.messages[-1].content = messages.messages[-1].content.replace(cot_prompt, \"\")\n",
    "                messages.history_messages[-1].content = messages.history_messages[-1].content.replace(cot_prompt, \"\")\n",
    "            else:\n",
    "                messages.messages[-1][\"content\"] = messages.messages[-1][\"content\"].replace(cot_prompt, \"\")\n",
    "                messages.history_messages[-1][\"content\"] = messages.history_messages[-1][\"content\"].replace(cot_prompt, \"\")\n",
    "\n",
    "    return messages"
   ]
  },
  {
   "cell_type": "code",
   "execution_count": 434,
   "id": "6dc8e955-37a7-4af9-a813-352a59e3a095",
   "metadata": {
    "tags": []
   },
   "outputs": [
    {
     "data": {
      "text/plain": [
       "[{'role': 'user', 'content': '请帮我查看user_demographics数据表中总共有多少条数据？'}]"
      ]
     },
     "execution_count": 434,
     "metadata": {},
     "output_type": "execute_result"
    }
   ],
   "source": [
    "msg2.history_messages"
   ]
  },
  {
   "cell_type": "code",
   "execution_count": 435,
   "id": "fa4c8025-fa1a-4707-9f41-9e15ab49dff0",
   "metadata": {
    "tags": []
   },
   "outputs": [
    {
     "data": {
      "text/plain": [
       "<__main__.MessageManager at 0x7f800e8a6dc0>"
      ]
     },
     "execution_count": 435,
     "metadata": {},
     "output_type": "execute_result"
    }
   ],
   "source": [
    "msg2_COT = modify_prompt(messages=msg2, action='add', enable_md_output=False, enable_COT=True)\n"
   ]
  },
  {
   "cell_type": "code",
   "execution_count": 436,
   "id": "d680a2a5-326c-4bdb-b1c2-db7c0e94fa57",
   "metadata": {
    "tags": []
   },
   "outputs": [
    {
     "data": {
      "text/plain": [
       "[{'role': 'user',\n",
       "  'content': '请帮我查看user_demographics数据表中总共有多少条数据？请一步步思考并得出结论。'}]"
      ]
     },
     "execution_count": 436,
     "metadata": {},
     "output_type": "execute_result"
    }
   ],
   "source": [
    "msg2_COT.history_messages"
   ]
  },
  {
   "cell_type": "code",
   "execution_count": 437,
   "id": "ddbe21e3-b2d9-46c8-803e-49a55db5ed61",
   "metadata": {
    "tags": []
   },
   "outputs": [
    {
     "data": {
      "text/plain": [
       "{'role': 'user', 'content': '请帮我查看user_demographics数据表中总共有多少条数据？请一步步思考并得出结论。'}"
      ]
     },
     "execution_count": 437,
     "metadata": {},
     "output_type": "execute_result"
    }
   ],
   "source": [
    "msg2_COT.messages[-1]"
   ]
  },
  {
   "cell_type": "code",
   "execution_count": 227,
   "id": "d688cba4-e56e-4b0b-a48f-2eef022dfc5e",
   "metadata": {
    "tags": []
   },
   "outputs": [
    {
     "data": {
      "text/plain": [
       "[{'role': 'user',\n",
       "  'content': '请帮我查看user_demographics数据表中总共有多少条数据？请一步步思考并得出结论。'}]"
      ]
     },
     "execution_count": 227,
     "metadata": {},
     "output_type": "execute_result"
    }
   ],
   "source": [
    "msg2_COT.history_messages"
   ]
  },
  {
   "cell_type": "code",
   "execution_count": 438,
   "id": "6221fe30-a789-4b11-a95c-e6d1258491fd",
   "metadata": {
    "tags": []
   },
   "outputs": [],
   "source": [
    "msg2 = modify_prompt(messages=msg2_COT, action='remove', enable_md_output=False, enable_COT=True)"
   ]
  },
  {
   "cell_type": "code",
   "execution_count": 439,
   "id": "70abacb9-22ae-4715-8449-d146fd9cacbf",
   "metadata": {
    "tags": []
   },
   "outputs": [
    {
     "data": {
      "text/plain": [
       "[{'role': 'user', 'content': '请帮我查看user_demographics数据表中总共有多少条数据？'}]"
      ]
     },
     "execution_count": 439,
     "metadata": {},
     "output_type": "execute_result"
    }
   ],
   "source": [
    "msg2.history_messages"
   ]
  },
  {
   "cell_type": "code",
   "execution_count": 440,
   "id": "8c646425-b598-42c9-95d2-cccbadb64fe0",
   "metadata": {
    "tags": []
   },
   "outputs": [],
   "source": [
    "msg2 = modify_prompt(messages=msg2_COT, action='add', enable_md_output=True, enable_COT=True)"
   ]
  },
  {
   "cell_type": "code",
   "execution_count": 441,
   "id": "8814fa3d-8708-4741-a535-7fb2b4f3bac2",
   "metadata": {
    "tags": []
   },
   "outputs": [
    {
     "data": {
      "text/plain": [
       "[{'role': 'user',\n",
       "  'content': '请帮我查看user_demographics数据表中总共有多少条数据？请一步步思考并得出结论。任何回答都请以markdown格式进行输出。'}]"
      ]
     },
     "execution_count": 441,
     "metadata": {},
     "output_type": "execute_result"
    }
   ],
   "source": [
    "msg2_COT.history_messages"
   ]
  },
  {
   "cell_type": "markdown",
   "id": "628b38c4-fb40-497c-8947-515aead4803e",
   "metadata": {},
   "source": [
    "## 5.3 Planning功能之与大模型首次交互逻辑封装"
   ]
  },
  {
   "cell_type": "code",
   "execution_count": null,
   "id": "f3582dbf-0cbc-4f78-b20f-6070c4a9bbb2",
   "metadata": {},
   "outputs": [],
   "source": [
    "### 第一次跟GPT模型进行交互，然后看他返回来的结果\n",
    "解析结果有两种可能：\n",
    "1. 返回来调用的外部函数\n",
    "2. 返回来调用的直接的结果"
   ]
  },
  {
   "cell_type": "code",
   "execution_count": 520,
   "id": "d64b4195-7cb2-40dd-ace6-c385e906e40a",
   "metadata": {
    "tags": []
   },
   "outputs": [],
   "source": [
    "def get_first_response(model, \n",
    "                     messages, \n",
    "                     available_functions=None,\n",
    "                     is_developer_mode=False,\n",
    "                     is_expert_mode=False):\n",
    "    \n",
    "    \"\"\"\n",
    "    负责调用Chat模型并获得模型回答函数，并且当在调用GPT模型时遇到Rate limit时可以选择暂时休眠1分钟后再运行。\\\n",
    "    同时对于意图不清的问题，会提示用户修改输入的prompt，以获得更好的模型运行结果。\n",
    "    :param model: 必要参数，表示调用的大模型名称\n",
    "    :param messages: 必要参数，MessageManager类型对象，用于存储对话消息\n",
    "    :param available_functions: 可选参数，AvailableFunctions类型对象，用于表示开启对话时外部函数基本情况。\\\n",
    "    默认为None，表示没有外部函数\n",
    "    :param is_developer_mode: 表示是否开启开发者模式，默认为False。\\\n",
    "    开启开发者模式时，会自动添加提示词模板，并且会在每次执行代码前、以及返回结果之后询问用户意见，并会根据用户意见进行修改。\n",
    "    :param is_expert_mode: 可选参数，表示是否开启专家模式，默认为False。\\\n",
    "    开启增强模式时，会自动启动复杂任务拆解流程，并且在进行代码debug时会自动执行deep debug。\n",
    "    :return: 返回模型返回的response message\n",
    "    \"\"\"\n",
    "    \n",
    "    # 如果开启开发者模式，则进行提示词修改，首次运行是增加提示词\n",
    "    if is_developer_mode:\n",
    "        messages = modify_prompt(messages, action='add')\n",
    "        \n",
    "    # 如果是专家模式，则增加复杂任务拆解流程\n",
    "    if is_expert_mode:\n",
    "        messages = add_task_decomposition_prompt(messages)\n",
    "\n",
    "    # 考虑到可能存在通信报错问题，因此循环调用Chat模型进行执行\n",
    "    while True:\n",
    "        try:\n",
    "            # 若不存在外部函数\n",
    "            if available_functions == None:\n",
    "                response = client.chat.completions.create(\n",
    "                    model=model,\n",
    "                    messages=messages.messages)   \n",
    "                \n",
    "            # 若存在外部函数，此时functions和function_call参数信息都从AvailableFunctions对象中获取\n",
    "            else:\n",
    "                #print(\"这儿我也测试一下,调用cleint之前的messages长什么样----\")\n",
    "                #print(messages.messages)\n",
    "                response = client.chat.completions.create(\n",
    "                    model=model,\n",
    "                    messages=messages.messages, \n",
    "                    tools=available_functions.functions, \n",
    "                    tool_choice=available_functions.function_call\n",
    "                    )   \n",
    "            break  # 如果成功获取响应，退出循环\n",
    "            \n",
    "        except AuthenticationError as e:\n",
    "            # APIConnectionError默认是用户需求不清导致无法返回结果\n",
    "            # 若开启专家模式，此时提示用户重新输入需求\n",
    "            if is_expert_mode:\n",
    "                # 创建临时消息列表\n",
    "                msg_temp = messages.copy()\n",
    "                # 获取用户问题\n",
    "                question = msg_temp.messages[-1][\"content\"]\n",
    "                # 提醒用户修改提问的提示模板\n",
    "                new_prompt = \"以下是用户提问：%s。该问题有些复杂，且用户意图并不清晰。\\\n",
    "                请编写一段话，来引导用户重新提问。\" % question\n",
    "                # 修改msg_temp并重新提问\n",
    "                try:\n",
    "                    msg_temp.messages[-1][\"content\"] = new_prompt\n",
    "                    # 修改用户问题并直接提问\n",
    "                    response = client.chat.completions.create(\n",
    "                        model=model,\n",
    "                        messages=msg_temp.messages)\n",
    "                    \n",
    "                    # 打印gpt返回的提示修改原问题的描述语句\n",
    "                    display(Markdown(response.choices[0].message.content))\n",
    "                    # 引导用户重新输入问题或者退出\n",
    "                    user_input = input(\"请重新输入问题，输入“退出”可以退出当前对话\")\n",
    "                    if user_input == \"退出\":\n",
    "                        print(\"当前模型无法返回结果，已经退出\")\n",
    "                        return None\n",
    "                    else:\n",
    "                        # 修改原始问题\n",
    "                        messages.history_messages[-1][\"content\"] = user_input\n",
    "                        \n",
    "                        # 再次进行提问\n",
    "                        response_message = get_first_response(model=model, \n",
    "                                                            messages=messages, \n",
    "                                                            available_functions=available_functions,\n",
    "                                                            is_developer_mode=is_developer_mode,\n",
    "                                                            is_expert_mode=is_expert_mode)\n",
    "                        \n",
    "                        return response_message\n",
    "                # 若在提示用户修改原问题时遇到链接错误，则直接暂停1分钟后继续执行While循环\n",
    "                except AuthenticationError as e:\n",
    "                    print(f\"当前遇到了一个链接问题: {str(e)}\")\n",
    "                    print(\"由于Limit Rate限制，即将等待1分钟后继续运行...\")\n",
    "                    time.sleep(60)  # 等待1分钟\n",
    "                    print(\"已等待60秒，即将开始重新调用模型并进行回答...\")\n",
    "            \n",
    "            # 若未开启增强模式       \n",
    "            else:        \n",
    "                # 打印错误的核心信息\n",
    "                print(f\"当前遇到了一个链接问题: {str(e)}\")\n",
    "                # 如果是开发者模式\n",
    "                if is_developer_mode:\n",
    "                    # 选择等待、更改模型或者直接报错退出\n",
    "                    user_input = input(\"请选择等待1分钟（1），或者更换模型（2），或者报错退出（3）\")\n",
    "                    if user_input == '1':\n",
    "                        print(\"好的，将等待1分钟后继续运行...\")\n",
    "                        time.sleep(60)  # 等待1分钟\n",
    "                        print(\"已等待60秒，即将开始新的一轮问答...\")\n",
    "                    elif user_input == '2':\n",
    "                        model = input(\"好的，请输出新模型名称\")\n",
    "                    else:\n",
    "                        raise e  # 如果用户选择退出，恢复提示并抛出异常\n",
    "                # 如果不是开发者模式\n",
    "                else:\n",
    "                    print(\"由于Limit Rate限制，即将等待1分钟后继续运行...\")\n",
    "                    time.sleep(60)  # 等待1分钟\n",
    "                    print(\"已等待60秒，即将开始重新调用模型并进行回答...\")\n",
    "\n",
    "    # 还原原始的message对象\n",
    "    if is_developer_mode:\n",
    "        messages = modify_prompt(messages, action='remove')\n",
    "        \n",
    "    return response.choices[0].message"
   ]
  },
  {
   "cell_type": "code",
   "execution_count": 444,
   "id": "706c469a-679c-4bb2-9aa5-275019f2835b",
   "metadata": {
    "tags": []
   },
   "outputs": [],
   "source": [
    "# 测试1：基本问答效果测试\n",
    "msg1 = MessageManager(system_content_list=[data_dictionary], question=\"请帮我简单介绍下iquery数据库中的这四张表\")"
   ]
  },
  {
   "cell_type": "code",
   "execution_count": 445,
   "id": "b50cd798-2d8c-4dd2-b087-c2ba6c972971",
   "metadata": {
    "tags": []
   },
   "outputs": [
    {
     "data": {
      "text/plain": [
       "ChatCompletionMessage(content='1. **user_demographics数据表**\\n   - 描述了电信用户的个人基本信息，包括性别、年龄、是否结婚、是否经济独立等。\\n   - 数据来源于一线业务人员的人工采集，并经过回访确认，数据可信度高。\\n\\n2. **user_services数据表**\\n   - 记录了每位用户订购的电信服务情况，包括电话服务、互联网服务类型、在线安全服务等。\\n   - 表中的数据由后台系统自动生成，未经人工校验。\\n\\n3. **user_payments数据表**\\n   - 记录了用户的支付方式、合同类型以及付费金额。\\n   - 数据由后台自动记录生成，并未经过校验。\\n\\n4. **user_churn数据表**\\n   - 记录了用户流失情况，即用户是否已停止使用电信服务。\\n   - 数据由后台系统自动生成，并在合同截至后但用户未续费时记录用户的流失状态。', role='assistant', function_call=None, tool_calls=None)"
      ]
     },
     "execution_count": 445,
     "metadata": {},
     "output_type": "execute_result"
    }
   ],
   "source": [
    "msg1_response = get_first_response(model='gpt-3.5-turbo', \n",
    "                                 messages=msg1, \n",
    "                                 available_functions=None,\n",
    "                                 is_developer_mode=False,\n",
    "                                 is_expert_mode=False)\n",
    "msg1_response"
   ]
  },
  {
   "cell_type": "code",
   "execution_count": 405,
   "id": "79b61f3c-7614-4400-a7f2-ab3ec0014c4c",
   "metadata": {
    "tags": []
   },
   "outputs": [],
   "source": [
    "# 测试2：function call功能测试\n",
    "msg2 = MessageManager(system_content_list=[data_dictionary], question=\"请帮我查看user_demographics数据表中总共有多少条数据。\")"
   ]
  },
  {
   "cell_type": "code",
   "execution_count": 446,
   "id": "82c87861-094f-4b81-bcf8-10f2cb275932",
   "metadata": {
    "collapsed": true,
    "jupyter": {
     "outputs_hidden": true
    },
    "tags": []
   },
   "outputs": [
    {
     "data": {
      "text/plain": [
       "[{'type': 'function',\n",
       "  'function': {'name': 'sql_inter',\n",
       "   'description': '用于获取iquery数据库中各张表的有关相关信息，核心功能是将输入的SQL代码传输至iquery数据库所在的MySQL环境中进行运行，并最终返回SQL代码运行结果。',\n",
       "   'parameters': {'type': 'object',\n",
       "    'properties': {'sql_query': {'type': 'string',\n",
       "      'description': '字符串形式的SQL查询语句，用于执行对MySQL中iquery数据库中各张表进行查询，并获得各表中的各类相关信息。'},\n",
       "     'g': {'type': 'string',\n",
       "      'description': 'g，字符串形式变量，表示环境变量，无需设置，保持默认参数即可。'}},\n",
       "    'required': ['sql_query', 'g']}}},\n",
       " {'type': 'function',\n",
       "  'function': {'name': 'extract_data',\n",
       "   'description': '用于借助pymysql，将MySQL中的iquery数据库中的表读取并保存到本地Python环境中。',\n",
       "   'parameters': {'type': 'object',\n",
       "    'properties': {'sql_query': {'type': 'string',\n",
       "      'description': '字符串形式的SQL查询语句，用于提取MySQL中iquery数据库中的某张表。'},\n",
       "     'df_name': {'type': 'string',\n",
       "      'description': '将MySQL数据库中提取的表格进行本地保存时的变量名，以字符串形式表示。'},\n",
       "     'g': {'type': 'string', 'description': 'g，字符串形式变量，表示环境变量，无需设置，保持默认参数即可'}},\n",
       "    'required': ['sql_query', 'df_name']}}},\n",
       " {'type': 'function',\n",
       "  'function': {'name': 'python_inter',\n",
       "   'description': '用于对iquery数据库中各张数据表进行查询和处理，并获取最终查询或处理结果。',\n",
       "   'parameters': {'$schema': 'http://-schema.org/draft-07/schema#',\n",
       "    'type': 'object',\n",
       "    'properties': {'py_code': {'type': 'string',\n",
       "      'description': '字符串形式的Python代码，用于执行对iquery数据库中各张数据表进行操作'},\n",
       "     'g': {'type': 'string', 'description': 'g，字符串形式变量，表示环境变量，无需设置，保持默认参数即可'}},\n",
       "    'required': ['py_code', 'g']}}}]"
      ]
     },
     "execution_count": 446,
     "metadata": {},
     "output_type": "execute_result"
    }
   ],
   "source": [
    "af.functions"
   ]
  },
  {
   "cell_type": "code",
   "execution_count": 447,
   "id": "d0895247-f66d-4a0d-8714-03b30c6c7bc7",
   "metadata": {
    "tags": []
   },
   "outputs": [
    {
     "data": {
      "text/plain": [
       "ChatCompletionMessage(content='', role='assistant', function_call=None, tool_calls=[ChatCompletionMessageToolCall(id='call_6SCLn6Og66FP37Kt4BTE2KOO', function=Function(arguments='{\"g\":\"host=\\'localhost\\',user=\\'iquery\\',password=\\'pwd\\',database=\\'iquery\\'\",\"sql_query\":\"SELECT COUNT(*) AS total_rows FROM user_demographics\"}', name='sql_inter'), type='function')])"
      ]
     },
     "execution_count": 447,
     "metadata": {},
     "output_type": "execute_result"
    }
   ],
   "source": [
    "msg2_response = get_first_response(model='gpt-3.5-turbo', \n",
    "                                 messages=msg2, \n",
    "                                 available_functions=af,\n",
    "                                 is_developer_mode=False,\n",
    "                                 is_expert_mode=False)\n",
    "msg2_response"
   ]
  },
  {
   "cell_type": "code",
   "execution_count": 449,
   "id": "0ca8f6e5-d406-40c8-85b1-bdbe1adbe1ed",
   "metadata": {
    "tags": []
   },
   "outputs": [],
   "source": [
    "# 测试3：专家功能测试\n",
    "msg3 = MessageManager(system_content_list=[data_dictionary], question=\"请帮我查看user_demographics数据表中缺失值情况。\")"
   ]
  },
  {
   "cell_type": "code",
   "execution_count": 450,
   "id": "c03869f7-a0bb-4097-ab04-75d5a44be848",
   "metadata": {
    "tags": []
   },
   "outputs": [],
   "source": [
    "msg3_response = get_first_response(model='gpt-3.5-turbo', \n",
    "                                 messages=msg3, \n",
    "                                 available_functions=af,\n",
    "                                 is_developer_mode=False,\n",
    "                                 is_expert_mode=True)"
   ]
  },
  {
   "cell_type": "code",
   "execution_count": 451,
   "id": "d4fb68f3-0aee-4bac-bea0-aff52d841d0d",
   "metadata": {
    "tags": []
   },
   "outputs": [
    {
     "data": {
      "text/plain": [
       "ChatCompletionMessage(content='为了查看user_demographics数据表中的缺失值情况，我们需要执行如下步骤：    \\n\\n步骤1：使用`extract_data`函数将user_demographics数据表读取到当前的Python环境中。    \\n\\n步骤2：使用Python代码检查数据集中的缺失值情况。', role='assistant', function_call=None, tool_calls=None)"
      ]
     },
     "execution_count": 451,
     "metadata": {},
     "output_type": "execute_result"
    }
   ],
   "source": [
    "msg3_response"
   ]
  },
  {
   "cell_type": "code",
   "execution_count": 452,
   "id": "c0f61657-efe2-45ec-8f11-47802bfdf051",
   "metadata": {
    "tags": []
   },
   "outputs": [],
   "source": [
    "# 测试4：开发者模式测试\n",
    "msg4 = MessageManager(system_content_list=[data_dictionary], question=\"请帮我查看iquery数据库中user_demographics数据表中缺失值情况。\")"
   ]
  },
  {
   "cell_type": "code",
   "execution_count": 453,
   "id": "9108b86b-01e8-4b37-93fe-3c223822edc0",
   "metadata": {
    "tags": []
   },
   "outputs": [
    {
     "data": {
      "text/plain": [
       "ChatCompletionMessage(content=None, role='assistant', function_call=None, tool_calls=[ChatCompletionMessageToolCall(id='call_tAm2t5BPE5iq8SeFrgTPb2KT', function=Function(arguments='{\"sql_query\":\"SELECT * FROM user_demographics WHERE gender IS NULL OR SeniorCitizen IS NULL OR Partner IS NULL OR Dependents IS NULL\",\"g\":\"\"}', name='sql_inter'), type='function')])"
      ]
     },
     "execution_count": 453,
     "metadata": {},
     "output_type": "execute_result"
    }
   ],
   "source": [
    "msg4_response = get_first_response(model='gpt-3.5-turbo', \n",
    "                                 messages=msg4, \n",
    "                                 available_functions=af,\n",
    "                                 is_developer_mode=True,\n",
    "                                 is_expert_mode=False)\n",
    "msg4_response"
   ]
  },
  {
   "cell_type": "code",
   "execution_count": null,
   "id": "c01acdd8-a6b3-47d1-87dd-6ed0d077b873",
   "metadata": {},
   "outputs": [],
   "source": []
  },
  {
   "cell_type": "code",
   "execution_count": 454,
   "id": "ac57d943-9875-4744-b832-3ddd68b151c9",
   "metadata": {
    "tags": []
   },
   "outputs": [],
   "source": [
    "# 测试5：专家模式下下用户意图探究能力测试\n",
    "## 不好复现，一般key不稳定的时候容易出现，还有低版本的大模型，或者是token不够的时候，容易出现报错。\n",
    "msg5 = MessageManager(system_content_list=[data_dictionary], question=\"分析iquery数据库中的这四张表，帮我梳理一个数据分析的基本思路\")"
   ]
  },
  {
   "cell_type": "code",
   "execution_count": 455,
   "id": "c4c0b56d-c765-4b9e-b151-2761a4366ab3",
   "metadata": {
    "tags": []
   },
   "outputs": [
    {
     "data": {
      "text/plain": [
       "ChatCompletionMessage(content='为了梳理一个数据分析的基本思路，我们需要执行以下步骤：\\n\\n步骤1：理解数据表的基本信息。查看每张表的列名、数据类型、缺失值情况，以及数据分布等。\\n\\n步骤2：探索数据特征。对每张表的特征进行统计描述、可视化分析，以了解数据的分布、趋势和相关性。\\n\\n步骤3：探索表间的关系。通过表内和表间的关联字段，探索各表之间的关系，了解不同表的数据之间的联系和相互影响。\\n\\n步骤4：制定分析目标和问题。根据数据特征和关系，确定分析的具体目标和问题，例如用户流失预测、服务订购趋势分析等。\\n\\n步骤5：进行数据分析。根据确定的目标和问题，选择合适的分析方法，建立模型或进行统计分析，得出结论并提出建议。\\n\\n步骤6：可视化呈现和报告输出。通过可视化工具展现分析结果，并撰写数据分析报告，向相关人员进行沟通分享。', role='assistant', function_call=None, tool_calls=None)"
      ]
     },
     "execution_count": 455,
     "metadata": {},
     "output_type": "execute_result"
    }
   ],
   "source": [
    "msg5_response = get_first_response(model='gpt-3.5-turbo', \n",
    "                                 messages=msg5, \n",
    "                                 available_functions=af,\n",
    "                                 is_developer_mode=False,\n",
    "                                 is_expert_mode=True)\n",
    "msg5_response"
   ]
  },
  {
   "cell_type": "code",
   "execution_count": 456,
   "id": "26fff427-77ac-438e-a1e5-cb45e6b4fb0a",
   "metadata": {
    "tags": []
   },
   "outputs": [],
   "source": [
    "# 测试6：开发者模式下用户意图探究能力测试\n",
    "## 开发者模型最大的特点就是可以让用户选择，可以选择等1分钟，也可以选择退出\n",
    "msg6 = MessageManager(system_content_list=[data_dictionary], question=\"分析iquery数据库中的这四张表，帮我梳理一个数据分析的基本思路\")"
   ]
  },
  {
   "cell_type": "code",
   "execution_count": 457,
   "id": "e763c3df-b6a1-479c-b743-bb4e7617b719",
   "metadata": {
    "tags": []
   },
   "outputs": [],
   "source": [
    "msg6_response = get_first_response(model='gpt-3.5-turbo', \n",
    "                                 messages=msg6, \n",
    "                                 available_functions=af,\n",
    "                                 is_developer_mode=True,\n",
    "                                 is_expert_mode=False)"
   ]
  },
  {
   "cell_type": "code",
   "execution_count": 458,
   "id": "bf7242d7-1a7c-4f7c-b24d-6479d4eb034e",
   "metadata": {
    "tags": []
   },
   "outputs": [
    {
     "data": {
      "text/plain": [
       "ChatCompletionMessage(content='### 数据分析的基本思路\\n\\n1. **理解数据表和字段含义**\\n   \\n   - 首先需要理解每张表的含义以及各个字段的具体解释，这样才能确保后续分析不会出错。\\n   \\n   \\n2. **数据质量检查**\\n\\n   - 检查数据是否存在缺失值、异常值或重复值，确保数据的准确性和完整性。\\n   \\n   \\n3. **探索性数据分析（EDA）**\\n\\n   - **用户基本情况(user_demographics)**\\n     \\n     - 分析性别比例、年龄分布、老人比例等，了解用户的基本生物属性。\\n     - 探索用户是否有伴侣、是否经济独立的情况。\\n     \\n   \\n   - **用户订购服务情况(user_services)**\\n     \\n     - 分析用户电话服务、互联网服务类型的分布情况。\\n     - 探索用户是否开通了多条电话业务以及网络安全、在线备份等其他服务。\\n     \\n     \\n   - **用户支付情况(user_payments)**\\n     \\n     - 分析用户的合同类型分布、账单类型以及支付方式的占比。\\n     - 探索用户的月费用和总费用情况，对用户的支付行为进行分析。\\n     \\n     \\n   - **用户流失情况(user_churn)**\\n     \\n     - 分析用户的流失比例，了解用户是否存在大规模流失的情况。\\n     - 探索流失用户与非流失用户在其他方面的区别，寻找可能影响用户流失的因素。\\n   \\n   \\n4. **特征工程**\\n\\n   - 可以进行特征衍生、特征转换等操作，为建模做准备。\\n   \\n   \\n5. **建模分析**\\n\\n   - 根据分析目的，选择合适的模型进行建模分析，例如逻辑回归、决策树等。\\n   \\n   \\n6. **模型评估和优化**\\n\\n   - 对模型进行评估，如准确率、召回率等指标，并进行模型优化。\\n   \\n   \\n7. **结论与建议**\\n\\n   - 结合数据分析结果，给出相应的结论和建议，帮助业务决策和改进。\\n\\n### 结论\\n\\n通过对iquery数据库中的四张表进行数据分析，我们可以全面了解用户的基本情况、订购服务情况、支付情况以及流失情况。通过分析这些信息，可以挖掘潜在的用户行为特征，为电信公司提供精准的运营建议和决策支持。', role='assistant', function_call=None, tool_calls=None)"
      ]
     },
     "execution_count": 458,
     "metadata": {},
     "output_type": "execute_result"
    }
   ],
   "source": [
    "msg6_response"
   ]
  },
  {
   "cell_type": "markdown",
   "id": "6f5f4710-e974-488c-ab39-f8c1719a0a9d",
   "metadata": {},
   "source": [
    "## 5.4 Planning功能之function call执行结果消息封装"
   ]
  },
  {
   "cell_type": "raw",
   "id": "a7e04388-2158-48bf-ac0a-01a122170b6f",
   "metadata": {},
   "source": [
    "ChatCompletionMessage(content='', role='assistant', function_call=None, tool_calls=[ChatCompletionMessageToolCall(id='call_6SCLn6Og66FP37Kt4BTE2KOO', function=Function(arguments='{\"g\":\"host=\\'localhost\\',user=\\'iquery\\',password=\\'pwd\\',database=\\'iquery\\'\",\"sql_query\":\"SELECT COUNT(*) AS total_rows FROM user_demographics\"}', name='sql_inter'), type='function')])"
   ]
  },
  {
   "cell_type": "code",
   "execution_count": 459,
   "id": "3fdfb873-244c-4ed3-86e2-c4c4d210765f",
   "metadata": {
    "tags": []
   },
   "outputs": [],
   "source": [
    "def function_to_call(available_functions, function_call_message):\n",
    "    \"\"\"\n",
    "    根据一条函数调用消息function_call_message，返回一条函数运行结果消息function_response_messages。\n",
    "    :param available_functions: 必要参数，要求输入一个AvailableFunctions对象，以说明当前外部函数基本情况\n",
    "    :param function_call_message: 必要参数，要求输入一条外部函数调用的message\n",
    "    :return: function_response_messages，输出又外部函数运行结果所组成的message\n",
    "    \"\"\"\n",
    "    \n",
    "    # 获取调用外部函数的函数名称\n",
    "    tool_call = function_call_message.tool_calls[0]\n",
    "    function_name = tool_call.function.name\n",
    "    \n",
    "    # 根据函数名称获取对应的外部函数对象\n",
    "    fuction_to_call = available_functions.functions_dic[function_name]\n",
    "    \n",
    "    # 提取function_call_message中调用外部函数的函数参数\n",
    "    # 即大模型编写的SQL或者Python代码\n",
    "    function_args = json.loads(tool_call.function.arguments)\n",
    "    \n",
    "    # 将参数带入到外部函数中并运行\n",
    "    try:\n",
    "        # 将当前操作空间中的全局变量添加到外部函数中\n",
    "        function_args['g']=globals()\n",
    "        \n",
    "        # 运行外部函数\n",
    "        function_response = fuction_to_call(**function_args)\n",
    "      \n",
    "    # 若外部函数运行报错，则提取报错信息\n",
    "    except Exception as e:\n",
    "        function_response = \"函数运行报错如下:\" + str(e)\n",
    "        \n",
    "    # 创建function_response_messages\n",
    "    # 该message包含外部函数顺利运行或报错信息\n",
    "    \n",
    "    function_response_messages = {\n",
    "        \"tool_call_id\": tool_call.id,\n",
    "        \"role\": \"tool\",\n",
    "        \"name\": function_name,\n",
    "        \"content\": function_response,\n",
    "    }\n",
    "    \n",
    "    return function_response_messages"
   ]
  },
  {
   "cell_type": "code",
   "execution_count": 460,
   "id": "e3c9fe5e-2983-48f3-b65c-fe3562961e78",
   "metadata": {
    "tags": []
   },
   "outputs": [],
   "source": [
    "msg = MessageManager(system_content_list=[data_dictionary], question=\"请帮我查看user_demographics数据表中总共有多少条数据。\")"
   ]
  },
  {
   "cell_type": "code",
   "execution_count": 461,
   "id": "756fa12d-eb42-4f35-95d8-a3cc09b57caf",
   "metadata": {
    "tags": []
   },
   "outputs": [
    {
     "data": {
      "text/plain": [
       "ChatCompletionMessage(content=None, role='assistant', function_call=None, tool_calls=[ChatCompletionMessageToolCall(id='call_Uu2zou0s3gEeiGgbIztbmTCM', function=Function(arguments='{\"sql_query\":\"SELECT COUNT(*) FROM user_demographics\",\"g\":\"\"}', name='sql_inter'), type='function')])"
      ]
     },
     "execution_count": 461,
     "metadata": {},
     "output_type": "execute_result"
    }
   ],
   "source": [
    "msg_response = get_first_response(model='gpt-3.5-turbo', \n",
    "                                 messages=msg, \n",
    "                                 available_functions=af)\n",
    "msg_response"
   ]
  },
  {
   "cell_type": "code",
   "execution_count": 462,
   "id": "87e9d508-5739-4ed3-81d5-8d0b8d22fe6e",
   "metadata": {
    "tags": []
   },
   "outputs": [
    {
     "data": {
      "text/plain": [
       "{'tool_call_id': 'call_Uu2zou0s3gEeiGgbIztbmTCM',\n",
       " 'role': 'tool',\n",
       " 'name': 'sql_inter',\n",
       " 'content': '[[5353]]'}"
      ]
     },
     "execution_count": 462,
     "metadata": {},
     "output_type": "execute_result"
    }
   ],
   "source": [
    "function_response_messages = function_to_call(available_functions=af, function_call_message=msg_response)\n",
    "function_response_messages"
   ]
  },
  {
   "cell_type": "code",
   "execution_count": 463,
   "id": "c7a7325a-1a7c-4731-9270-8b70c808953a",
   "metadata": {
    "tags": []
   },
   "outputs": [],
   "source": [
    "msg = MessageManager(system_content_list=[data_dictionary], question=\"user_servics是当前Python环境中的一个DataFrame，请帮我查看user_demographi中缺失值情况。\")"
   ]
  },
  {
   "cell_type": "code",
   "execution_count": 464,
   "id": "f2f890f4-8eb6-400a-a7b5-ce7fcc1e39e9",
   "metadata": {
    "tags": []
   },
   "outputs": [
    {
     "data": {
      "text/plain": [
       "ChatCompletionMessage(content='', role='assistant', function_call=None, tool_calls=[ChatCompletionMessageToolCall(id='call_UI3uIkYe6ugHgxEZDihdAMuZ', function=Function(arguments='{\"g\":\"my_secret\",\"py_code\":\"user_services.info()\"}', name='python_inter'), type='function')])"
      ]
     },
     "execution_count": 464,
     "metadata": {},
     "output_type": "execute_result"
    }
   ],
   "source": [
    "msg_response = get_first_response(model='gpt-3.5-turbo', \n",
    "                                 messages=msg, \n",
    "                                 available_functions=af)\n",
    "msg_response"
   ]
  },
  {
   "cell_type": "code",
   "execution_count": 466,
   "id": "a2510e51-943b-406c-879b-f7007b0dd105",
   "metadata": {
    "tags": []
   },
   "outputs": [
    {
     "name": "stdout",
     "output_type": "stream",
     "text": [
      "开始画图了\n",
      "<class 'pandas.core.frame.DataFrame'>\n",
      "RangeIndex: 5734 entries, 0 to 5733\n",
      "Data columns (total 10 columns):\n",
      " #   Column            Non-Null Count  Dtype \n",
      "---  ------            --------------  ----- \n",
      " 0   customerID        5734 non-null   object\n",
      " 1   PhoneService      5734 non-null   object\n",
      " 2   MultipleLines     5734 non-null   object\n",
      " 3   InternetService   5734 non-null   object\n",
      " 4   OnlineSecurity    5734 non-null   object\n",
      " 5   OnlineBackup      5734 non-null   object\n",
      " 6   DeviceProtection  5734 non-null   object\n",
      " 7   TechSupport       5734 non-null   object\n",
      " 8   StreamingTV       5734 non-null   object\n",
      " 9   StreamingMovies   5734 non-null   object\n",
      "dtypes: object(10)\n",
      "memory usage: 448.1+ KB\n",
      "<class 'pandas.core.frame.DataFrame'>\n",
      "RangeIndex: 5734 entries, 0 to 5733\n",
      "Data columns (total 10 columns):\n",
      " #   Column            Non-Null Count  Dtype \n",
      "---  ------            --------------  ----- \n",
      " 0   customerID        5734 non-null   object\n",
      " 1   PhoneService      5734 non-null   object\n",
      " 2   MultipleLines     5734 non-null   object\n",
      " 3   InternetService   5734 non-null   object\n",
      " 4   OnlineSecurity    5734 non-null   object\n",
      " 5   OnlineBackup      5734 non-null   object\n",
      " 6   DeviceProtection  5734 non-null   object\n",
      " 7   TechSupport       5734 non-null   object\n",
      " 8   StreamingTV       5734 non-null   object\n",
      " 9   StreamingMovies   5734 non-null   object\n",
      "dtypes: object(10)\n",
      "memory usage: 448.1+ KB\n"
     ]
    },
    {
     "data": {
      "text/plain": [
       "{'tool_call_id': 'call_UI3uIkYe6ugHgxEZDihdAMuZ',\n",
       " 'role': 'tool',\n",
       " 'name': 'python_inter',\n",
       " 'content': 'None'}"
      ]
     },
     "execution_count": 466,
     "metadata": {},
     "output_type": "execute_result"
    }
   ],
   "source": [
    "## 按道理是有问题的，但是大模型太强了，还是识别出来了应该怎么解决这个问题，所有这儿本来想演示错误，没有演示出来。\n",
    "error_function_response_messages = function_to_call(available_functions=af, function_call_message=msg_response)\n",
    "error_function_response_messages"
   ]
  },
  {
   "cell_type": "markdown",
   "id": "eb22e196-aca5-44d1-89c8-0302d4a7c27f",
   "metadata": {},
   "source": [
    "## 5.5 Planning功能之完成用户一次完整交互"
   ]
  },
  {
   "cell_type": "code",
   "execution_count": 494,
   "id": "7cd52754-177c-4928-91b1-6b4b04482755",
   "metadata": {
    "tags": []
   },
   "outputs": [],
   "source": [
    "def one_chat_response(model, \n",
    "                      messages, \n",
    "                      available_functions=None,\n",
    "                      is_developer_mode=False,\n",
    "                      is_expert_mode=False, \n",
    "                      delete_some_messages=False, \n",
    "                      is_task_decomposition=False):\n",
    "    \n",
    "    \"\"\"\n",
    "    负责完整执行一次对话的最高层函数，需要注意的是，一次对话中可能会多次调用大模型，而本函数则是完成一次对话的主函数。\\\n",
    "    要求输入的messages中最后一条消息必须是能正常发起对话的消息。\\\n",
    "    该函数通过调用get_gpt_response来获取模型输出结果，并且会根据返回结果的不同，例如是文本结果还是代码结果，\\\n",
    "    灵活调用不同函数对模型输出结果进行后处理。\\\n",
    "    :param model: 必要参数，表示调用的大模型名称\n",
    "    :param messages: 必要参数，ChatMessages类型对象，用于存储对话消息\n",
    "    :param available_functions: 可选参数，AvailableFunctions类型对象，用于表示开启对话时外部函数基本情况。\\\n",
    "    默认为None，表示没有外部函数\n",
    "    :param is_developer_mode: 表示是否开启开发者模式，默认为False。\\\n",
    "    开启开发者模式时，会自动添加提示词模板，并且会在每次执行代码前、以及返回结果之后询问用户意见，并会根据用户意见进行修改。\n",
    "    :param is_expert_mode: 可选参数，表示是否开启专家模式，默认为False。\\\n",
    "    开启增强模式时，会自动启动复杂任务拆解流程，并且在进行代码debug时会自动执行deep debug。\n",
    "    :param delete_some_messages: 可选参数，表示在拼接messages时是否删除中间若干条消息，默认为Fasle。\n",
    "    :param is_task_decomposition: 可选参数，是否是当前执行任务是否是审查任务拆解结果，默认为False。\n",
    "    :return: 拼接本次问答最终结果的messages\n",
    "    \"\"\"\n",
    "    \n",
    "    # 当且仅当围绕复杂任务拆解结果进行修改时，才会出现is_task_decomposition=True的情况\n",
    "    # 当is_task_decomposition=True时，不再重新创建response_message\n",
    "    if not is_task_decomposition:\n",
    "        # 先获取单次大模型调用结果\n",
    "        # 此时response_message是大模型调用返回的message\n",
    "        response_message = get_first_response(model=model, \n",
    "                                            messages=messages, \n",
    "                                            available_functions=available_functions,\n",
    "                                            is_developer_mode=is_developer_mode,\n",
    "                                            is_expert_mode=is_expert_mode)\n",
    "    \n",
    "    # 复杂条件判断，若is_task_decomposition = True，\n",
    "    # 或者是专家模式且是执行function response任务时\n",
    "    # （需要注意的是，当is_task_decomposition = True时，并不存在response_message对象）\n",
    "    if is_task_decomposition or (is_expert_mode and response_message.tool_calls):\n",
    "        # 将is_task_decomposition修改为True，表示当前执行任务为复杂任务拆解\n",
    "        # 专家模式下需要使用tools的时候，会开启任务拆解\n",
    "        is_task_decomposition = True\n",
    "        # 在拆解任务时，将增加了任务拆解的few-shot-message命名为text_response_messages\n",
    "        task_decomp_few_shot = add_task_decomposition_prompt(messages)\n",
    "        # print(\"正在进行任务分解，请稍后...\")\n",
    "        # 同时更新response_message，此时response_message就是任务拆解之后的response\n",
    "        response_message = get_first_response(model=model, \n",
    "                                            messages=task_decomp_few_shot, \n",
    "                                            available_functions=available_functions,\n",
    "                                            is_developer_mode=is_developer_mode,\n",
    "                                            is_expert_mode=is_expert_mode)\n",
    "        # 若拆分任务的提示无效，此时response_message有可能会再次创建一个function call message\n",
    "        if response_message.tool_calls:\n",
    "            print(\"当前任务无需拆解，可以直接运行。\")\n",
    "\n",
    "    # 若本次调用是由修改对话需求产生，则按照参数设置删除原始message中的若干条消息\n",
    "    # 需要注意的是，删除中间若干条消息，必须在创建完新的response_message之后再执行\n",
    "    if delete_some_messages:\n",
    "        for i in range(delete_some_messages):\n",
    "            messages.messages_pop(manual=True, index=-1)\n",
    "    \n",
    "    # 注意，执行到此处时，一定会有一个response_message\n",
    "    # 接下来分response_message不同类型，执行不同流程\n",
    "    # 若是文本响应类任务（包括普通文本响应和和复杂任务拆解审查两种情况，都可以使用相同代码）\n",
    "    if not response_message.tool_calls:\n",
    "        # 将message保存为text_answer_message\n",
    "        text_answer_message = response_message \n",
    "        # 并带入is_text_response_valid对文本内容进行审查\n",
    "        messages = handle_text_response(model=model, \n",
    "                                          messages=messages, \n",
    "                                          text_answer_message=text_answer_message,\n",
    "                                          available_functions=available_functions,\n",
    "                                          is_developer_mode=is_developer_mode,\n",
    "                                          is_expert_mode=is_expert_mode, \n",
    "                                          delete_some_messages=delete_some_messages,\n",
    "                                          is_task_decomposition=is_task_decomposition)\n",
    "    \n",
    "    \n",
    "    \n",
    "    # 若是function response任务\n",
    "    elif response_message.tool_calls:\n",
    "        # 创建调用外部函数的function_call_message\n",
    "        # 在当前Agent中，function_call_message是一个包含SQL代码或者Python代码的JSON对象\n",
    "        function_call_message = response_message \n",
    "        # 将function_call_message带入代码审查和运行函数is_code_response_valid\n",
    "        # 并最终获得外部函数运行之后的问答结果\n",
    "        messages = handle_code_response(model=model, \n",
    "                                          messages=messages, \n",
    "                                          function_call_message=function_call_message,\n",
    "                                          available_functions=available_functions,\n",
    "                                          is_developer_mode=is_developer_mode,\n",
    "                                          is_expert_mode=is_expert_mode, \n",
    "                                          delete_some_messages=delete_some_messages)\n",
    "    \n",
    "    return messages    "
   ]
  },
  {
   "cell_type": "code",
   "execution_count": 507,
   "id": "c12af761-fcd3-403f-a427-81a53a70d686",
   "metadata": {
    "tags": []
   },
   "outputs": [],
   "source": [
    "# 判断代码输出结果是否符合要求，输入function call message，输出function response message\n",
    "def handle_code_response(model, \n",
    "                           messages, \n",
    "                           function_call_message,\n",
    "                           available_functions=None,\n",
    "                           is_developer_mode=False,\n",
    "                           is_expert_mode=False, \n",
    "                           delete_some_messages=False):\n",
    "    \n",
    "    \n",
    "    \"\"\"\n",
    "    负责完整执行一次外部函数调用的最高层函数，要求输入的msg最后一条消息必须是包含function call的消息。\\\n",
    "    函数的最终任务是将function call的消息中的代码带入外部函数并完成代码运行，并且支持交互式代码编写或自动代码编写运行不同模式。\\\n",
    "    当函数运行得到一条包含外部函数运行结果的function message之后，会继续将其带入check_get_final_function_response函数，\\\n",
    "    用于最终将function message转化为assistant message，并完成本次对话。\n",
    "    :param model: 必要参数，表示调用的大模型名称\n",
    "    :param messages: 必要参数，ChatMessages类型对象，用于存储对话消息\n",
    "    :param function_call_message: 必要参数，用于表示上层函数创建的一条包含function call消息的message\n",
    "    :param available_functions: 可选参数，AvailableFunctions类型对象，用于表示开启对话时外部函数基本情况。\\\n",
    "    默认为None，表示没有外部函数\n",
    "    :param is_developer_mode: 表示是否开启开发者模式，默认为False。\\\n",
    "    开启开发者模式时，会自动添加提示词模板，并且会在每次执行代码前、以及返回结果之后询问用户意见，并会根据用户意见进行修改。\n",
    "    :param is_expert_mode: 可选参数，表示是否开启专家模式，默认为False。\\\n",
    "    开启增强模式时，会自动启动复杂任务拆解流程，并且在进行代码debug时会自动执行deep debug。\n",
    "    :param delete_some_messages: 可选参数，表示在拼接messages时是否删除中间若干条消息，默认为Fasle。\n",
    "    :return: message，拼接了最新大模型回答结果的message\n",
    "    \"\"\"\n",
    "    \n",
    "    # 为打印代码和修改代码（增加创建图像对家部分代码）做准备\n",
    "    # 创建字符串类型json格式的message对象\n",
    "    code_json_str = function_call_message.tool_calls[0].function.arguments\n",
    "    # print(\"========这儿可能有问题======\")\n",
    "    # print(function_call_message)\n",
    "    # print(function_call_message.tool_calls[0].function.arguments)\n",
    "    # 将json转化为字典\n",
    "    try:\n",
    "        code_dict = json.loads(code_json_str)\n",
    "    except Exception as e:\n",
    "        print(\"json字符解析错误，正在重新创建代码...\")\n",
    "        # 递归调用上层函数get_chat_response，并返回最终message结果\n",
    "        # 需要注意的是，如果上层函数再次创建了function_call_message\n",
    "        # 则会再次调用is_code_response_valid，而无需在当前函数中再次执行\n",
    "        messages = one_chat_response(model=model, \n",
    "                                     messages=messages, \n",
    "                                     available_functions=available_functions,\n",
    "                                     is_developer_mode=is_developer_mode,\n",
    "                                     is_expert_mode=is_expert_mode, \n",
    "                                     delete_some_messages=delete_some_messages)\n",
    "        \n",
    "        return messages\n",
    "        \n",
    "    # 若顺利将json转化为字典，则继续执行以下代码\n",
    "    # 创建convert_to_markdown内部函数，用于辅助打印代码结果\n",
    "    def convert_to_markdown(code, language):\n",
    "        return f\"```{language}\\n{code}\\n```\"\n",
    "\n",
    "    # 提取代码部分参数\n",
    "    # 如果是SQL，则按照Markdown中SQL格式打印代码\n",
    "    if code_dict.get('sql_query'):\n",
    "        code = code_dict['sql_query'] \n",
    "        markdown_code = convert_to_markdown(code, 'sql')\n",
    "        print(\"即将执行以下代码：\")\n",
    "        \n",
    "    # 如果是Python，则按照Markdown中Python格式打印代码\n",
    "    elif code_dict.get('py_code'):\n",
    "        code = code_dict['py_code']\n",
    "        markdown_code = convert_to_markdown(code, 'python')\n",
    "        print(\"即将执行以下代码：\")\n",
    "        \n",
    "    else:\n",
    "        markdown_code = code_dict\n",
    "        \n",
    "    display(Markdown(markdown_code))\n",
    "        \n",
    "      \n",
    "    # 若是开发者模式，则提示用户先对代码进行审查然后再运行\n",
    "    if is_developer_mode:         \n",
    "        user_input = input(\"是直接运行代码（1），还是反馈修改意见，并让模型对代码进行修改后再运行（2）\")\n",
    "        if user_input == '1':\n",
    "            print(\"好的，正在运行代码，请稍后...\")\n",
    "                \n",
    "        else:\n",
    "            modify_input = input(\"好的，请输入修改意见：\")\n",
    "            # 记录模型当前创建的代码\n",
    "            messages.messages_append(function_call_message)\n",
    "            # 记录修改意见\n",
    "            messages.messages_append({\"role\": \"user\", \"content\": modify_input})\n",
    "            \n",
    "            # 调用get_chat_response函数并重新获取回答结果\n",
    "            # 需要注意，此时需要设置delete_some_messages=2，删除中间对话(前一版代码、修改建议）以节省token\n",
    "            messages = one_chat_response(model=model, \n",
    "                                         messages=messages, \n",
    "                                         available_functions=available_functions,\n",
    "                                         is_developer_mode=is_developer_mode,\n",
    "                                         is_expert_mode=is_expert_mode, \n",
    "                                         delete_some_messages=2)\n",
    "            \n",
    "            return messages\n",
    "                \n",
    "    # 若不是开发者模式，或者开发者模式下user_input == '1'\n",
    "    # 则调用function_to_call函数，并获取最终外部函数运行结果\n",
    "    # 在当前Agent中，外部函数运行结果就是SQL或者Python运行结果，或代码运行报错结果\n",
    "    function_response_message = function_to_call(available_functions=available_functions, \n",
    "                                                 function_call_message=function_call_message)  \n",
    "    \n",
    "    # 将function_response_message带入check_get_final_function_response进行审查\n",
    "    messages = check_function_response(model=model, \n",
    "                                                 messages=messages, \n",
    "                                                 function_call_message=function_call_message,\n",
    "                                                 function_response_message=function_response_message,\n",
    "                                                 available_functions=available_functions,\n",
    "                                                 is_developer_mode=is_developer_mode,\n",
    "                                                 is_expert_mode=is_expert_mode, \n",
    "                                                 delete_some_messages=delete_some_messages)\n",
    "    \n",
    "    return messages"
   ]
  },
  {
   "cell_type": "code",
   "execution_count": 470,
   "id": "bf4c1db9-02ce-47c9-a00d-f195167ebd35",
   "metadata": {
    "tags": []
   },
   "outputs": [],
   "source": [
    "# 判断代码输出结果是否符合要求，输入function response message，输出基于外部函数运行结果的message\n",
    "def check_function_response(model, \n",
    "                            messages, \n",
    "                            function_call_message,\n",
    "                            function_response_message,\n",
    "                            available_functions=None,\n",
    "                            is_developer_mode=False,\n",
    "                            is_expert_mode=False, \n",
    "                            delete_some_messages=False):\n",
    "    \n",
    "    \"\"\"\n",
    "    负责执行外部函数运行结果审查工作。若外部函数运行结果消息function_response_message并不存在报错信息，\\\n",
    "    则将其拼接入message中，并将其带入get_chat_response函数并获取下一轮对话结果。而如果function_response_message中存在报错信息，\\\n",
    "    则开启自动debug模式。本函数将借助类似Autogen的模式，复制多个Agent，并通过彼此对话的方式来完成debug。\n",
    "    :param model: 必要参数，表示调用的大模型名称\n",
    "    :param messages: 必要参数，ChatMessages类型对象，用于存储对话消息\n",
    "    :param function_call_message: 必要参数，用于表示上层函数创建的一条包含function call消息的message\n",
    "    :param function_response_message: 必要参数，用于表示上层函数创建的一条包含外部函数运行结果的message\n",
    "    :param available_functions: 可选参数，AvailableFunctions类型对象，用于表示开启对话时外部函数基本情况。\\\n",
    "    默认为None，表示没有外部函数\n",
    "    :param is_developer_mode: 表示是否开启开发者模式，默认为False。\\\n",
    "    开启开发者模式时，会自动添加提示词模板，并且会在每次执行代码前、以及返回结果之后询问用户意见，并会根据用户意见进行修改。\n",
    "    :param is_expert_mode: 可选参数，表示是否开启专家模式，默认为False。\\\n",
    "    开启增强模式时，会自动启动复杂任务拆解流程，并且在进行代码debug时会自动执行deep debug。\n",
    "    :param delete_some_messages: 可选参数，表示在拼接messages时是否删除中间若干条消息，默认为Fasle。\n",
    "    :return: message，拼接了最新大模型回答结果的message\n",
    "    \"\"\"    \n",
    "    \n",
    "    # 获取外部函数运行结果内容\n",
    "    fun_res_content = function_response_message[\"content\"]\n",
    "    \n",
    "    # 若function_response中包含错误\n",
    "    if \"报错\" in fun_res_content:\n",
    "        # 打印报错信息\n",
    "        print(fun_res_content)\n",
    "        \n",
    "        # 根据是否是增强模式，选择执行高效debug或深度debug\n",
    "        # 高效debug和深度debug区别只在于提示内容和提示流程的不同\n",
    "        \n",
    "        # 创建不同模式bubug的提示词\n",
    "        # 高效debug只包含一条提示，只调用一次大模型即可完成自动debug工作\n",
    "        # 深度debug则包含三次提示，需要调用三次大模型进行深度总结并完成debug工作\n",
    "        if not is_expert_mode:\n",
    "            # 执行高效debug\n",
    "            display(Markdown(\"**即将执行高效debug，正在实例化Efficient Debug Agent...**\"))\n",
    "            debug_prompt_list = ['你编写的代码报错了，请根据报错信息修改代码并重新执行。']\n",
    "            \n",
    "        else:\n",
    "            # 执行深度debug\n",
    "            display(Markdown(\"**即将执行深度debug，该debug过程将自动执行多轮对话，请耐心等待。正在实例化Deep Debug Agent...**\"))\n",
    "            display(Markdown(\"**正在实例化deep debug Agent...**\"))\n",
    "            debug_prompt_list = [\"之前执行的代码报错了，你觉得代码哪里编写错了？\", \n",
    "                                 \"好的。那么根据你的分析，为了解决这个错误，从理论上来说，应该如何操作呢？\", \n",
    "                                 \"非常好，接下来请按照你的逻辑编写相应代码并运行。\"]\n",
    "        \n",
    "        # 复制msg，相当于创建一个新的Agent进行debug\n",
    "        # 需要注意的是，此时msg最后一条消息是user message，而不是任何函数调用相关message\n",
    "        msg_debug = messages.copy()        \n",
    "        # 追加function_call_message\n",
    "        # 当前function_call_message中包含编错的代码\n",
    "        msg_debug.messages_append(function_call_message)\n",
    "        # 追加function_response_message\n",
    "        # 当前function_response_message包含错误代码的运行报错信息\n",
    "        msg_debug.messages_append(function_response_message)        \n",
    "        \n",
    "        # 依次输入debug的prompt，来引导大模型完成debug\n",
    "        for debug_prompt in debug_prompt_list:\n",
    "            msg_debug.messages_append({\"role\": \"user\", \"content\": debug_prompt})\n",
    "            display(Markdown(\"**From Debug iQuery Agent:**\"))\n",
    "            display(Markdown(debug_prompt))\n",
    "            \n",
    "            # 再次调用get_chat_response，在当前debug的prompt下，get_chat_response会返回修改意见或修改之后的代码\n",
    "            # 打印提示信息\n",
    "            display(Markdown(\"**From iQuery Agent:**\"))\n",
    "            msg_debug = one_chat_response(model=model, \n",
    "                                          messages=msg_debug, \n",
    "                                          available_functions=available_functions,\n",
    "                                          is_developer_mode=is_developer_mode,\n",
    "                                          is_expert_mode=False, \n",
    "                                          delete_some_messages=delete_some_messages)\n",
    "        \n",
    "        messages = msg_debug.copy()     \n",
    "                 \n",
    "    # 若function message不包含报错信息    \n",
    "    # 需要将function message传递给模型\n",
    "    else:\n",
    "        print(\"外部函数已执行完毕，正在解析运行结果...\")\n",
    "        messages.messages_append(function_call_message)\n",
    "        messages.messages_append(function_response_message)\n",
    "        messages = one_chat_response(model=model, \n",
    "                                     messages=messages, \n",
    "                                     available_functions=available_functions,\n",
    "                                     is_developer_mode=is_developer_mode,\n",
    "                                     is_expert_mode=is_expert_mode, \n",
    "                                     delete_some_messages=delete_some_messages)\n",
    "        \n",
    "    return messages"
   ]
  },
  {
   "cell_type": "code",
   "execution_count": 500,
   "id": "3cd54d32-183b-42df-89c6-97b390913662",
   "metadata": {
    "tags": []
   },
   "outputs": [],
   "source": [
    "def handle_text_response(model, \n",
    "                           messages, \n",
    "                           text_answer_message,\n",
    "                           available_functions=None,\n",
    "                           is_developer_mode=False,\n",
    "                           is_expert_mode=False, \n",
    "                           delete_some_messages=False,\n",
    "                           is_task_decomposition=False):\n",
    "    \n",
    "    \"\"\"\n",
    "    负责执行文本内容创建审查工作。运行模式可分为快速模式和人工审查模式。在快速模式下，模型将迅速创建文本并保存至msg对象中，\\\n",
    "    而如果是人工审查模式，则需要先经过人工确认，函数才会保存大模型创建的文本内容，并且在这个过程中，\\\n",
    "    也可以选择让模型根据用户输入的修改意见重新修改文本。\n",
    "    :param model: 必要参数，表示调用的大模型名称\n",
    "    :param messages: 必要参数，ChatMessages类型对象，用于存储对话消息\n",
    "    :param text_answer_message: 必要参数，用于表示上层函数创建的一条包含文本内容的message\n",
    "    :param available_functions: 可选参数，AvailableFunctions类型对象，用于表示开启对话时外部函数基本情况。\\\n",
    "    默认为None，表示没有外部函数\n",
    "    :param is_developer_mode: 表示是否开启开发者模式，默认为False。\\\n",
    "    开启开发者模式时，会自动添加提示词模板，并且会在每次执行代码前、以及返回结果之后询问用户意见，并会根据用户意见进行修改。\n",
    "    :param is_expert_mode: 可选参数，表示是否开启专家模式，默认为False。\\\n",
    "    开启增强模式时，会自动启动复杂任务拆解流程，并且在进行代码debug时会自动执行deep debug。\n",
    "    :param delete_some_messages: 可选参数，表示在拼接messages时是否删除中间若干条消息，默认为Fasle。\n",
    "    :param is_task_decomposition: 可选参数，是否是当前执行任务是否是审查任务拆解结果，默认为False。\n",
    "    :return: message，拼接了最新大模型回答结果的message\n",
    "    \"\"\"    \n",
    "    \n",
    "    # 从text_answer_message中获取模型回答结果并打印\n",
    "    answer_content = text_answer_message.content\n",
    "    # print(\"看看这个值is_task_decomposition\")\n",
    "    # print(is_task_decomposition)\n",
    "    print(\"模型回答：\\n\")\n",
    "    display(Markdown(answer_content))\n",
    "    \n",
    "    # 创建指示变量user_input，用于记录用户修改意见，默认为None\n",
    "    user_input = None\n",
    "    \n",
    "    # 若是开发者模式，或者是增强模式下任务拆解结果，则引导用户对其进行审查\n",
    "    # 若是开发者模式而非任务拆解\n",
    "    if not is_task_decomposition and is_developer_mode:\n",
    "        user_input = input(\"请问是否记录回答结果（1），\\\n",
    "        或者对当前结果提出修改意见（2），\\\n",
    "        或者重新进行提问（3），\\\n",
    "        或者直接退出对话（4）\")\n",
    "        if user_input == '1':\n",
    "            # 若记录回答结果，则将其添加入msg对象中\n",
    "            messages.messages_append(text_answer_message)\n",
    "            print(\"本次对话结果已保存\")\n",
    "    \n",
    "    ## 添加了一个逻辑，如果是任务拆解，或者是专家模式\n",
    "    # 专家模式会把is_task_decomposition设置为true，因此来自专家模式的递归调用 is_task_decomposition都为True\n",
    "    # 若是任务拆解\n",
    "    elif is_task_decomposition or is_expert_mode:\n",
    "        user_input = input(\"请问是否按照该流程执行任务（1），\\\n",
    "        或者对当前执行流程提出修改意见（2），\\\n",
    "        或者重新进行提问（3），\\\n",
    "        或者直接退出对话（4）\")\n",
    "        if user_input == '1':\n",
    "            # 任务拆解中，如果选择执行该流程\n",
    "            messages.messages_append(text_answer_message)\n",
    "            print(\"好的，即将逐步执行上述流程\")\n",
    "            messages.messages_append({\"role\": \"user\", \"content\": \"非常好，请按照该流程逐步执行。\"})\n",
    "            is_task_decomposition = False\n",
    "            is_expert_mode = False\n",
    "            messages = one_chat_response(model=model, \n",
    "                                         messages=messages, \n",
    "                                         available_functions=available_functions,\n",
    "                                         is_developer_mode=is_developer_mode,\n",
    "                                         is_expert_mode=is_expert_mode, \n",
    "                                         delete_some_messages=delete_some_messages, \n",
    "                                         is_task_decomposition=is_task_decomposition)\n",
    "            \n",
    "       \n",
    "    if user_input != None:\n",
    "        if user_input == '1':\n",
    "            pass\n",
    "        elif user_input == '2':\n",
    "            new_user_content = input(\"好的，输入对模型结果的修改意见：\")\n",
    "            print(\"好的，正在进行修改。\")\n",
    "            # 在messages中暂时记录上一轮回答的内容\n",
    "            messages.messages_append(text_answer_message)\n",
    "            # 记录用户提出的修改意见\n",
    "            messages.messages_append({\"role\": \"user\", \"content\": new_user_content})\n",
    "\n",
    "            # 再次调用主函数进行回答，为了节省token，\n",
    "            # 调用大模型之后，删除用户修改意见和第一版模型回答结果，因此这里可以设置delete_some_messages=2\n",
    "            # 这样history最新的两条信息分别是：用户的原始问题，大模型根据修改建议给出的新答案\n",
    "            # 此外，这里需要设置is_task_decomposition=is_task_decomposition\n",
    "            # 当需要修改复杂任务拆解结果时，会自动带入is_task_decomposition=True\n",
    "            messages = one_chat_response(model=model, \n",
    "                                         messages=messages, \n",
    "                                         available_functions=available_functions,\n",
    "                                         is_developer_mode=is_developer_mode,\n",
    "                                         is_expert_mode=is_expert_mode, \n",
    "                                         delete_some_messages=2, \n",
    "                                         is_task_decomposition=is_task_decomposition)\n",
    "\n",
    "        elif user_input == '3':\n",
    "            new_user_content = input(\"好的，请重新提出问题：\")\n",
    "            # 修改问题\n",
    "            # 用户对大模型给出的答案不满意，因此答案不记录在history中\n",
    "            # history中最新一条信息是用户的提问，现在用新的提问替换旧的提问\n",
    "            messages.messages[-1][\"content\"] = new_user_content\n",
    "            # 再次调用主函数进行回答\n",
    "            messages = one_chat_response(model=model, \n",
    "                                         messages=messages, \n",
    "                                         available_functions=available_functions,\n",
    "                                         is_developer_mode=is_developer_mode,\n",
    "                                         is_expert_mode=is_expert_mode, \n",
    "                                         delete_some_messages=delete_some_messages, \n",
    "                                         is_task_decomposition=is_task_decomposition)\n",
    "\n",
    "        else:\n",
    "            print(\"好的，已退出当前对话\")\n",
    "        \n",
    "    # 若不是开发者模式\n",
    "    else:\n",
    "        # 记录返回消息\n",
    "        messages.messages_append(text_answer_message)\n",
    "    \n",
    "    return messages"
   ]
  },
  {
   "cell_type": "code",
   "execution_count": 472,
   "id": "68687e72-837a-4669-a5cf-ebeadff11ff2",
   "metadata": {
    "collapsed": true,
    "jupyter": {
     "outputs_hidden": true
    },
    "tags": []
   },
   "outputs": [
    {
     "data": {
      "text/plain": [
       "'# iquery数据字典：iquery数据库数据字典\\n\\n本数据字典记录了iquery数据库中各张数据表的基本情况。\\n\\n## 1.user_demographics数据表\\n\\n- 基本解释\\n\\n  \\u200b\\t\\tuser_demographics数据表记录了电信用户的个人基本情况，主要涵盖客户基本生物属性，包括性别、年龄状况、是否结婚以及是否经济独立等。\\n\\n- 数据来源\\n\\n  \\u200b\\tuser_demographics数据集由一线业务人员人工采集记录，并且通过回访确认相关信息，数据集的准确性和可信度都非常高。\\n\\n- 各字段说明\\n\\n| Column Name | Description | Value Range | Value Explanation | Type |\\n|-------------|-------------|-------------|-------------------|------|\\n| customerID | 客户ID，user_demographics数据表主键 |              | 由数字和字母组成的 | VARCHAR(255) |\\n| gender | 用户的性别 | Female, Male | Female (女性), Male (男性) | VARCHAR(255) |\\n| SeniorCitizen | 是否为老人 | 0, 1 | 0 (不是), 1 (是) | INT |\\n| Partner | 用户是否有伴侣 | Yes, No | Yes (有), No (没有) | VARCHAR(255) |\\n| Dependents | 用户经济是否独立，往往用于判断用户是否已经成年 | No, Yes | Yes (有), No (没有) | VARCHAR(255) |\\n\\n## 2.user_services数据表\\n\\n- 基本解释\\n\\n  \\u200b        user_services数据表记录了每位用户订购电信服务的基本情况，截至目前，电信服务商提供了种类多样的服务，包括电话类服务和网络类服务等，本数据集表记录了每位用户订阅电信服务的基本情况。\\n\\n- 数据来源\\n\\n  \\u200b\\t\\tuser_services数据表由后台系统自动创建生成，并未经过人工校验。\\n\\n- 各字段说明\\n\\n| Column Name | Description | Value Range | Value Explanation | Type |\\n|-------------|-------------|-------------|-------------------|------|\\n| customerID | 客户ID，user_services数据表主键 |  | 由数字和字母组成的 | VARCHAR(255) |\\n| PhoneService | 用户是否有电话服务 | No, Yes | Yes (有), No (没有) | VARCHAR(255) |\\n| MultipleLines | 用户是否开通了多条电话业务 | No phone service, No, Yes | Yes (有多条电话线业务), No (没有多条电话线业务), No phone service (没有电话服务) | VARCHAR(255) |\\n| InternetService | 用户的互联网服务类型 | DSL, Fiber optic, No | DSL (DSL), Fiber optic (光纤), No (没有) | VARCHAR(255) |\\n| OnlineSecurity | 是否开通网络安全服务 | No, Yes, No internet service | Yes（有）、No（无） or No internetservice（没有网路服务） | VARCHAR(255) |\\n| OnlineBackup | 是否开通在线备份服务 | Yes, No, No internet service | Yes（有）、No（无） or No internetservice（没有网路服务） | VARCHAR(255) |\\n| DeviceProtection | 是否开通设备保护服务 | No, Yes, No internet service | Yes（有）、No（无） or No internetservice（没有网路服务） | VARCHAR(255) |\\n| TechSupport | 是否开通技术支持业务 | No, Yes, No internet service | Yes（有）、No（无） or No internetservice（没有网路服务） | VARCHAR(255) |\\n| StreamingTV | 是否开通网络电视 | No, Yes, No internet service | Yes（有）、No（无） or No internetservice（没有网路服务） | VARCHAR(255) |\\n| StreamingMovies | 是否开通网络电影 | No, Yes, No internet service | Yes（有）、No（无） or No internetservice（没有网路服务） | VARCHAR(255) |\\n\\n## 3.user_payments数据表\\n\\n- 基本解释\\n\\n  \\u200b\\t\\tuser_payments数据表记录了每一位用户支付状况，既包括用户的支付方式和合同类型，同时也包含用户具体支付金额，包括月付金额和总金额等。\\n\\n- 数据来源\\n\\n  \\u200b\\t\\tuser_payments数据表由后台自动记录生成，并未经过校验。\\n\\n- 各字段说明\\n\\n| Column Name | Description | Value Range | Value Explanation | Type |\\n|-------------|-------------|-------------|-------------------|------|\\n| customerID | 客户ID，user_payments数据表主键 |  | 由数字和字母组成的 | VARCHAR(255) |\\n| Contract | 合同类型 | Month-to-month, One year, Two year | Month-to-month (月付), One year (一年付), Two year (两年付) | VARCHAR(255) |\\n| PaperlessBilling | 是否无纸化账单 | Yes, No | Yes (是), No (否) | VARCHAR(255) |\\n| PaymentMethod | 支付方式 | Electronic check, Mailed check, Bank transfer (automatic), Credit card (automatic) | Electronic check (电子检查), Mailed check (邮寄支票), Bank transfer (automatic) (银行转账), Credit card (automatic) (信用卡) | VARCHAR(255) |\\n| MonthlyCharges | 月费用 |  | 用户平均每月支付费用 | FLOAT        |\\n| TotalCharges | 总费用 |  | 截至目前用户总消费金额 | VARCHAR(255) |\\n\\n## 4.user_churn\\n\\n- 基本解释\\n\\n  \\u200b\\t\\tuser_churn数据表记录了当前用户流失情况。\\n\\n- 数据来源\\n\\n  \\u200b\\t\\tuser_churn数据表由后台自动创建并记录，当合同截至后但用户未续费，则判断该用户目前处于流失状态。\\n\\n- 各字段说明\\n\\n| Column Name | Description | Value Range | Value Explanation | Type |\\n|-------------|-------------|-------------|-------------------|------|\\n| customerID | 客户ID，user_churn数据表主键 |             | 由数字和字母组成的 | VARCHAR(255) |\\n| Churn | 用户是否流失 | No, Yes | Yes (是), No (否) | VARCHAR(255) |\\n\\n'"
      ]
     },
     "execution_count": 472,
     "metadata": {},
     "output_type": "execute_result"
    }
   ],
   "source": [
    "data_dictionary"
   ]
  },
  {
   "cell_type": "markdown",
   "id": "81aadc10-1e35-4d5c-9f0d-9c93a37b7944",
   "metadata": {},
   "source": [
    "### 测试1：普通问答"
   ]
  },
  {
   "cell_type": "code",
   "execution_count": 474,
   "id": "63000b9b-6cb8-4196-b0da-774d4a03604f",
   "metadata": {
    "tags": []
   },
   "outputs": [],
   "source": [
    "mm1 = MessageManager(system_content_list=[data_dictionary], question=\"请帮我简单介绍iquery数据库基本情况。\")"
   ]
  },
  {
   "cell_type": "code",
   "execution_count": 475,
   "id": "6c1598e8-aef3-4b50-a3b1-1b50343cd44c",
   "metadata": {
    "tags": []
   },
   "outputs": [
    {
     "name": "stdout",
     "output_type": "stream",
     "text": [
      "模型回答：\n",
      "\n"
     ]
    },
    {
     "data": {
      "text/markdown": [
       "iquery数据库是一个用于存储和管理电信用户信息的数据库，主要包括四张数据表：user_demographics、user_services、user_payments和user_churn。\n",
       "\n",
       "- user_demographics数据表记录了电信用户的个人基本情况，包括性别、年龄、是否结婚等信息。\n",
       "- user_services数据表记录了用户订购的电信服务情况，包括电话服务、网络服务等。\n",
       "- user_payments数据表记录了用户的支付情况，包括合同类型、支付方式、月费用等。\n",
       "- user_churn数据表记录了用户的流失情况，即用户是否已经流失。\n",
       "\n",
       "通过这些数据表，我们可以对电信用户的个人信息、服务订购情况、支付情况及流失情况等进行综合分析和处理。"
      ],
      "text/plain": [
       "<IPython.core.display.Markdown object>"
      ]
     },
     "metadata": {},
     "output_type": "display_data"
    }
   ],
   "source": [
    "mm_response1 = one_chat_response(model='gpt-3.5-turbo', \n",
    "                                  messages=mm1)"
   ]
  },
  {
   "cell_type": "code",
   "execution_count": 476,
   "id": "04c1edf4-1094-4276-905a-2ff49d2f7981",
   "metadata": {
    "tags": []
   },
   "outputs": [
    {
     "data": {
      "text/plain": [
       "[{'role': 'user', 'content': '请帮我简单介绍iquery数据库基本情况。'},\n",
       " ChatCompletionMessage(content='iquery数据库是一个用于存储和管理电信用户信息的数据库，主要包括四张数据表：user_demographics、user_services、user_payments和user_churn。\\n\\n- user_demographics数据表记录了电信用户的个人基本情况，包括性别、年龄、是否结婚等信息。\\n- user_services数据表记录了用户订购的电信服务情况，包括电话服务、网络服务等。\\n- user_payments数据表记录了用户的支付情况，包括合同类型、支付方式、月费用等。\\n- user_churn数据表记录了用户的流失情况，即用户是否已经流失。\\n\\n通过这些数据表，我们可以对电信用户的个人信息、服务订购情况、支付情况及流失情况等进行综合分析和处理。', role='assistant', function_call=None, tool_calls=None)]"
      ]
     },
     "execution_count": 476,
     "metadata": {},
     "output_type": "execute_result"
    }
   ],
   "source": [
    "mm_response1.history_messages"
   ]
  },
  {
   "cell_type": "markdown",
   "id": "ad8414b6-7313-431a-bb94-1fdfd0e4bafa",
   "metadata": {},
   "source": [
    "### 测试2：对比开发者模式"
   ]
  },
  {
   "cell_type": "code",
   "execution_count": 479,
   "id": "f4b6565a-056d-49c5-9537-0df21b12a9c1",
   "metadata": {
    "tags": []
   },
   "outputs": [],
   "source": [
    "mm2 = MessageManager(system_content_list=[data_dictionary], question=\"请帮我简单介绍iquery数据库基本情况。\")"
   ]
  },
  {
   "cell_type": "code",
   "execution_count": 480,
   "id": "03dad72b-eea6-4aed-80bf-863d72b8a1e7",
   "metadata": {
    "tags": []
   },
   "outputs": [
    {
     "name": "stdout",
     "output_type": "stream",
     "text": [
      "模型回答：\n",
      "\n"
     ]
    },
    {
     "data": {
      "text/markdown": [
       "### 步骤一：iquery数据库包含的数据表\n",
       "\n",
       "iquery数据库包含以下数据表：\n",
       "\n",
       "1. user_demographics：记录了电信用户的个人基本情况。\n",
       "2. user_services：记录了每位用户订购电信服务的基本情况。\n",
       "3. user_payments：记录了每一位用户的支付状况。\n",
       "4. user_churn：记录了当前用户的流失情况。\n",
       "\n",
       "### 步骤二：各数据表的基本信息\n",
       "\n",
       "1. **user_demographics数据表**：\n",
       "   - 主要记录了客户的基本生物属性，包括性别、年龄状况、是否结婚以及是否经济独立等。\n",
       "   - 数据来源为一线业务人员人工采集记录，并通过回访确认相关信息。\n",
       "   - 包含字段：customerID、gender、SeniorCitizen、Partner、Dependents。\n",
       "\n",
       "2. **user_services数据表**：\n",
       "   - 记录了每位用户订购的电信服务的基本情况，包括电话类服务和网络类服务等。\n",
       "   - 数据来源为后台系统自动创建生成。\n",
       "   - 包含字段：customerID、PhoneService、MultipleLines、InternetService、OnlineSecurity、OnlineBackup、DeviceProtection、TechSupport、StreamingTV、StreamingMovies。\n",
       "\n",
       "3. **user_payments数据表**：\n",
       "   - 记录了每位用户的支付状况，包括支付方式、合同类型以及具体支付金额。\n",
       "   - 数据来源为后台自动记录生成。\n",
       "   - 包含字段：customerID、Contract、PaperlessBilling、PaymentMethod、MonthlyCharges、TotalCharges。\n",
       "\n",
       "4. **user_churn数据表**：\n",
       "   - 记录了当前用户的流失情况，即用户是否已经流失。\n",
       "   - 数据来源为后台自动创建并记录。\n",
       "   - 包含字段：customerID、Churn。\n",
       "\n",
       "### 结论：\n",
       "\n",
       "iquery数据库包含了涵盖电信用户个人基本情况、订购电信服务情况、支付状况和流失情况的多个数据表，每张数据表记录了不同方面的信息。这些数据表可以帮助分析用户行为、预测用户流失情况，以及优化电信服务和支付体验。"
      ],
      "text/plain": [
       "<IPython.core.display.Markdown object>"
      ]
     },
     "metadata": {},
     "output_type": "display_data"
    },
    {
     "name": "stdin",
     "output_type": "stream",
     "text": [
      "请问是否记录回答结果（1），        或者对当前结果提出修改意见（2），        或者重新进行提问（3），        或者直接退出对话（4） 1\n"
     ]
    },
    {
     "name": "stdout",
     "output_type": "stream",
     "text": [
      "本次对话结果已保存\n"
     ]
    }
   ],
   "source": [
    "mm_response2 = one_chat_response(model='gpt-3.5-turbo', \n",
    "                                  messages=mm2, \n",
    "                                  is_developer_mode=True)"
   ]
  },
  {
   "cell_type": "code",
   "execution_count": 505,
   "id": "160d6425-2645-41b3-b6a4-d032bff4df46",
   "metadata": {
    "tags": []
   },
   "outputs": [
    {
     "data": {
      "text/plain": [
       "[{'role': 'user', 'content': '请帮我简单介绍iquery数据库基本情况。'},\n",
       " ChatCompletionMessage(content='### 步骤一：iquery数据库包含的数据表\\n\\niquery数据库包含以下数据表：\\n\\n1. user_demographics：记录了电信用户的个人基本情况。\\n2. user_services：记录了每位用户订购电信服务的基本情况。\\n3. user_payments：记录了每一位用户的支付状况。\\n4. user_churn：记录了当前用户的流失情况。\\n\\n### 步骤二：各数据表的基本信息\\n\\n1. **user_demographics数据表**：\\n   - 主要记录了客户的基本生物属性，包括性别、年龄状况、是否结婚以及是否经济独立等。\\n   - 数据来源为一线业务人员人工采集记录，并通过回访确认相关信息。\\n   - 包含字段：customerID、gender、SeniorCitizen、Partner、Dependents。\\n\\n2. **user_services数据表**：\\n   - 记录了每位用户订购的电信服务的基本情况，包括电话类服务和网络类服务等。\\n   - 数据来源为后台系统自动创建生成。\\n   - 包含字段：customerID、PhoneService、MultipleLines、InternetService、OnlineSecurity、OnlineBackup、DeviceProtection、TechSupport、StreamingTV、StreamingMovies。\\n\\n3. **user_payments数据表**：\\n   - 记录了每位用户的支付状况，包括支付方式、合同类型以及具体支付金额。\\n   - 数据来源为后台自动记录生成。\\n   - 包含字段：customerID、Contract、PaperlessBilling、PaymentMethod、MonthlyCharges、TotalCharges。\\n\\n4. **user_churn数据表**：\\n   - 记录了当前用户的流失情况，即用户是否已经流失。\\n   - 数据来源为后台自动创建并记录。\\n   - 包含字段：customerID、Churn。\\n\\n### 结论：\\n\\niquery数据库包含了涵盖电信用户个人基本情况、订购电信服务情况、支付状况和流失情况的多个数据表，每张数据表记录了不同方面的信息。这些数据表可以帮助分析用户行为、预测用户流失情况，以及优化电信服务和支付体验。', role='assistant', function_call=None, tool_calls=None)]"
      ]
     },
     "execution_count": 505,
     "metadata": {},
     "output_type": "execute_result"
    }
   ],
   "source": [
    "mm_response2.history_messages"
   ]
  },
  {
   "cell_type": "markdown",
   "id": "1c4b4aa0-2174-4742-b601-d83c380568ee",
   "metadata": {},
   "source": [
    "### 测试3：带有Function Calling调用"
   ]
  },
  {
   "cell_type": "code",
   "execution_count": 482,
   "id": "b7efb0c0-94f4-490f-b660-e77146f83847",
   "metadata": {
    "tags": []
   },
   "outputs": [],
   "source": [
    "mm3 = MessageManager(system_content_list=[data_dictionary], question=\"请帮我统计user_demographics总共有多少条数据？\")"
   ]
  },
  {
   "cell_type": "code",
   "execution_count": 483,
   "id": "bbb3b44f-0d69-4022-8837-29721540f4a7",
   "metadata": {
    "tags": []
   },
   "outputs": [
    {
     "name": "stdout",
     "output_type": "stream",
     "text": [
      "========这儿可能有问题======\n",
      "ChatCompletionMessage(content='', role='assistant', function_call=None, tool_calls=[ChatCompletionMessageToolCall(id='call_mUWTgW3GpKSXSmxzOiZ6iKVR', function=Function(arguments='{\"g\":\"sandbox\",\"sql_query\":\"SELECT COUNT(*) AS TotalRows FROM user_demographics\"}', name='sql_inter'), type='function')])\n",
      "{\"g\":\"sandbox\",\"sql_query\":\"SELECT COUNT(*) AS TotalRows FROM user_demographics\"}\n",
      "即将执行以下代码：\n"
     ]
    },
    {
     "data": {
      "text/markdown": [
       "```sql\n",
       "SELECT COUNT(*) AS TotalRows FROM user_demographics\n",
       "```"
      ],
      "text/plain": [
       "<IPython.core.display.Markdown object>"
      ]
     },
     "metadata": {},
     "output_type": "display_data"
    },
    {
     "name": "stdout",
     "output_type": "stream",
     "text": [
      "外部函数已执行完毕，正在解析运行结果...\n",
      "模型回答：\n",
      "\n"
     ]
    },
    {
     "data": {
      "text/markdown": [
       "user_demographics数据表总共有5353条数据。"
      ],
      "text/plain": [
       "<IPython.core.display.Markdown object>"
      ]
     },
     "metadata": {},
     "output_type": "display_data"
    }
   ],
   "source": [
    "mm_response3 = one_chat_response(model='gpt-3.5-turbo', \n",
    "                                  messages=mm3, \n",
    "                                  available_functions=af)"
   ]
  },
  {
   "cell_type": "code",
   "execution_count": 484,
   "id": "0ae7a199-891f-4d76-8093-27c2c635c532",
   "metadata": {
    "tags": []
   },
   "outputs": [
    {
     "data": {
      "text/plain": [
       "[{'role': 'user', 'content': '请帮我统计user_demographics总共有多少条数据？'},\n",
       " ChatCompletionMessage(content='', role='assistant', function_call=None, tool_calls=[ChatCompletionMessageToolCall(id='call_mUWTgW3GpKSXSmxzOiZ6iKVR', function=Function(arguments='{\"g\":\"sandbox\",\"sql_query\":\"SELECT COUNT(*) AS TotalRows FROM user_demographics\"}', name='sql_inter'), type='function')]),\n",
       " {'tool_call_id': 'call_mUWTgW3GpKSXSmxzOiZ6iKVR',\n",
       "  'role': 'tool',\n",
       "  'name': 'sql_inter',\n",
       "  'content': '[[5353]]'},\n",
       " ChatCompletionMessage(content='user_demographics数据表总共有5353条数据。', role='assistant', function_call=None, tool_calls=None)]"
      ]
     },
     "execution_count": 484,
     "metadata": {},
     "output_type": "execute_result"
    }
   ],
   "source": [
    "mm_response3.history_messages"
   ]
  },
  {
   "cell_type": "markdown",
   "id": "2f0830c6-bf50-4854-af67-e98416b48484",
   "metadata": {},
   "source": [
    "### 测试4：复杂问题拆解（偶然演示debug）"
   ]
  },
  {
   "cell_type": "code",
   "execution_count": 307,
   "id": "68e4eba0-26af-4d19-91ba-472f5c43e996",
   "metadata": {
    "tags": []
   },
   "outputs": [],
   "source": [
    "mm4 = MessageManager(system_content_list=[data_dictionary], question=\"请帮我查询iquery数据库中四张表数据量是否一致。\")"
   ]
  },
  {
   "cell_type": "code",
   "execution_count": 308,
   "id": "33871bc7-8f34-4c78-b31d-41b00af38c09",
   "metadata": {
    "tags": []
   },
   "outputs": [
    {
     "name": "stdout",
     "output_type": "stream",
     "text": [
      "即将执行以下代码：\n"
     ]
    },
    {
     "data": {
      "text/markdown": [
       "```sql\n",
       "SELECT COUNT(*) FROM user_demographics; SELECT COUNT(*) FROM user_services; SELECT COUNT(*) FROM user_payments; SELECT COUNT(*) FROM user_churn;\n",
       "```"
      ],
      "text/plain": [
       "<IPython.core.display.Markdown object>"
      ]
     },
     "metadata": {},
     "output_type": "display_data"
    },
    {
     "name": "stdout",
     "output_type": "stream",
     "text": [
      "函数运行报错如下:(1064, \"You have an error in your SQL syntax; check the manual that corresponds to your MySQL server version for the right syntax to use near 'SELECT COUNT(*) FROM user_services; SELECT COUNT(*) FROM user_payments; SELECT C' at line 1\")\n"
     ]
    },
    {
     "data": {
      "text/markdown": [
       "**即将执行高效debug，正在实例化Efficient Debug Agent...**"
      ],
      "text/plain": [
       "<IPython.core.display.Markdown object>"
      ]
     },
     "metadata": {},
     "output_type": "display_data"
    },
    {
     "data": {
      "text/markdown": [
       "**From Debug Agent:**"
      ],
      "text/plain": [
       "<IPython.core.display.Markdown object>"
      ]
     },
     "metadata": {},
     "output_type": "display_data"
    },
    {
     "data": {
      "text/markdown": [
       "你编写的代码报错了，请根据报错信息修改代码并重新执行。"
      ],
      "text/plain": [
       "<IPython.core.display.Markdown object>"
      ]
     },
     "metadata": {},
     "output_type": "display_data"
    },
    {
     "data": {
      "text/markdown": [
       "**From iQuery Agent:**"
      ],
      "text/plain": [
       "<IPython.core.display.Markdown object>"
      ]
     },
     "metadata": {},
     "output_type": "display_data"
    },
    {
     "name": "stdout",
     "output_type": "stream",
     "text": [
      "即将执行以下代码：\n"
     ]
    },
    {
     "data": {
      "text/markdown": [
       "```sql\n",
       "SELECT (SELECT COUNT(*) FROM user_demographics) as count1, (SELECT COUNT(*) FROM user_services) as count2, (SELECT COUNT(*) FROM user_payments) as count3, (SELECT COUNT(*) FROM user_churn) as count4;\n",
       "```"
      ],
      "text/plain": [
       "<IPython.core.display.Markdown object>"
      ]
     },
     "metadata": {},
     "output_type": "display_data"
    },
    {
     "name": "stdout",
     "output_type": "stream",
     "text": [
      "外部函数已执行完毕，正在解析运行结果...\n",
      "模型回答：\n",
      "\n"
     ]
    },
    {
     "data": {
      "text/markdown": [
       "根据查询结果，四张表的数据量如下：\n",
       "\n",
       "- user_demographics表共有5353条数据\n",
       "- user_services表共有5734条数据\n",
       "- user_payments表共有5634条数据\n",
       "- user_churn表共有5684条数据\n",
       "\n",
       "可以看出，四张表的数据量并不一致。请注意检查数据表是否有空值或重复值的情况。"
      ],
      "text/plain": [
       "<IPython.core.display.Markdown object>"
      ]
     },
     "metadata": {},
     "output_type": "display_data"
    }
   ],
   "source": [
    "mm_response4 = one_chat_response(model='gpt-3.5-turbo-16k', \n",
    "                                  messages=mm4, \n",
    "                                  available_functions=af)"
   ]
  },
  {
   "cell_type": "markdown",
   "id": "fa4b4373-e0e8-45f1-bec0-a61ed23e9f76",
   "metadata": {},
   "source": [
    "### 测试6：测试对比有代码调用的Function Calling"
   ]
  },
  {
   "cell_type": "code",
   "execution_count": 485,
   "id": "0d2f2afc-54aa-481a-9fbf-1ca67b9f80e8",
   "metadata": {
    "tags": []
   },
   "outputs": [],
   "source": [
    "mm6 = MessageManager(system_content_list=[], question=\"请帮我将user_services数据表读取到Python环境中，并进行缺失值查找。\")"
   ]
  },
  {
   "cell_type": "code",
   "execution_count": 486,
   "id": "99649958-5030-4981-961d-67877d5e71d7",
   "metadata": {
    "tags": []
   },
   "outputs": [
    {
     "name": "stdout",
     "output_type": "stream",
     "text": [
      "========这儿可能有问题======\n",
      "ChatCompletionMessage(content=None, role='assistant', function_call=None, tool_calls=[ChatCompletionMessageToolCall(id='call_gmmvQyinG247Atm3lf8fZEFU', function=Function(arguments='{\"sql_query\":\"SELECT * FROM user_services\",\"df_name\":\"user_services\"}', name='extract_data'), type='function')])\n",
      "{\"sql_query\":\"SELECT * FROM user_services\",\"df_name\":\"user_services\"}\n",
      "即将执行以下代码：\n"
     ]
    },
    {
     "data": {
      "text/markdown": [
       "```sql\n",
       "SELECT * FROM user_services\n",
       "```"
      ],
      "text/plain": [
       "<IPython.core.display.Markdown object>"
      ]
     },
     "metadata": {},
     "output_type": "display_data"
    },
    {
     "name": "stderr",
     "output_type": "stream",
     "text": [
      "/tmp/ipykernel_795/749747702.py:21: UserWarning: pandas only supports SQLAlchemy connectable (engine/connection) or database string URI or sqlite3 DBAPI2 connection. Other DBAPI2 objects are not tested. Please consider using SQLAlchemy.\n",
      "  globals()[df_name] = pd.read_sql(sql_query, connection)\n"
     ]
    },
    {
     "name": "stdout",
     "output_type": "stream",
     "text": [
      "外部函数已执行完毕，正在解析运行结果...\n",
      "========这儿可能有问题======\n",
      "ChatCompletionMessage(content='', role='assistant', function_call=None, tool_calls=[ChatCompletionMessageToolCall(id='call_mwg78aXXvhVXwf2RQIkc5fUY', function=Function(arguments='{\"g\":\"None\",\"py_code\":\"user_services.isnull().sum()\"}', name='python_inter'), type='function')])\n",
      "{\"g\":\"None\",\"py_code\":\"user_services.isnull().sum()\"}\n",
      "即将执行以下代码：\n"
     ]
    },
    {
     "data": {
      "text/markdown": [
       "```python\n",
       "user_services.isnull().sum()\n",
       "```"
      ],
      "text/plain": [
       "<IPython.core.display.Markdown object>"
      ]
     },
     "metadata": {},
     "output_type": "display_data"
    },
    {
     "name": "stdout",
     "output_type": "stream",
     "text": [
      "开始画图了\n",
      "外部函数已执行完毕，正在解析运行结果...\n",
      "模型回答：\n",
      "\n"
     ]
    },
    {
     "data": {
      "text/markdown": [
       "user_services数据表已成功读取到Python环境中，并进行了缺失值查找。结果显示每列中的缺失值数量为零。 "
      ],
      "text/plain": [
       "<IPython.core.display.Markdown object>"
      ]
     },
     "metadata": {},
     "output_type": "display_data"
    }
   ],
   "source": [
    "mm_response6 = one_chat_response(model='gpt-3.5-turbo', \n",
    "                                  messages=mm6, \n",
    "                                  available_functions=af)"
   ]
  },
  {
   "cell_type": "markdown",
   "id": "a7bebfee-3b8c-4e8f-b197-0877d9333db8",
   "metadata": {},
   "source": [
    "### 测试7：开发者模式下，调用外部的函数（代码解释器）"
   ]
  },
  {
   "cell_type": "code",
   "execution_count": 487,
   "id": "a254a072-2418-4f81-92eb-695805ee8ffd",
   "metadata": {
    "tags": []
   },
   "outputs": [],
   "source": [
    "mm7 = MessageManager(system_content_list=[data_dictionary], question=\"请帮我将user_demographics数据表读取到Python环境中，并对其进行缺失值分析。\")"
   ]
  },
  {
   "cell_type": "code",
   "execution_count": 488,
   "id": "af78f9c8-fdf7-4433-94f9-e9895b0e7f03",
   "metadata": {
    "tags": []
   },
   "outputs": [
    {
     "name": "stdout",
     "output_type": "stream",
     "text": [
      "========这儿可能有问题======\n",
      "ChatCompletionMessage(content=None, role='assistant', function_call=None, tool_calls=[ChatCompletionMessageToolCall(id='call_itEu7z7cO2WIpp9piRJ7Va3S', function=Function(arguments='{\"sql_query\":\"SELECT * FROM user_demographics\",\"df_name\":\"user_demographics\"}', name='extract_data'), type='function')])\n",
      "{\"sql_query\":\"SELECT * FROM user_demographics\",\"df_name\":\"user_demographics\"}\n",
      "即将执行以下代码：\n"
     ]
    },
    {
     "data": {
      "text/markdown": [
       "```sql\n",
       "SELECT * FROM user_demographics\n",
       "```"
      ],
      "text/plain": [
       "<IPython.core.display.Markdown object>"
      ]
     },
     "metadata": {},
     "output_type": "display_data"
    },
    {
     "name": "stdin",
     "output_type": "stream",
     "text": [
      "是直接运行代码（1），还是反馈修改意见，并让模型对代码进行修改后再运行（2） 1\n"
     ]
    },
    {
     "name": "stdout",
     "output_type": "stream",
     "text": [
      "好的，正在运行代码，请稍后...\n"
     ]
    },
    {
     "name": "stderr",
     "output_type": "stream",
     "text": [
      "/tmp/ipykernel_795/749747702.py:21: UserWarning: pandas only supports SQLAlchemy connectable (engine/connection) or database string URI or sqlite3 DBAPI2 connection. Other DBAPI2 objects are not tested. Please consider using SQLAlchemy.\n",
      "  globals()[df_name] = pd.read_sql(sql_query, connection)\n"
     ]
    },
    {
     "name": "stdout",
     "output_type": "stream",
     "text": [
      "外部函数已执行完毕，正在解析运行结果...\n",
      "========这儿可能有问题======\n",
      "ChatCompletionMessage(content='数据已成功提取到名为user_demographics的数据框中。接下来，我们将对该数据框进行缺失值分析。首先，让我们查看数据框中是否存在缺失值。', role='assistant', function_call=None, tool_calls=[ChatCompletionMessageToolCall(id='call_hj4bVKpyaR3n7qYrlBWkBYLZ', function=Function(arguments='{\"py_code\":\"user_demographics_missing = user_demographics.isnull().sum()\\\\nuser_demographics_missing\",\"g\":\"user_demographics\"}', name='python_inter'), type='function')])\n",
      "{\"py_code\":\"user_demographics_missing = user_demographics.isnull().sum()\\nuser_demographics_missing\",\"g\":\"user_demographics\"}\n",
      "即将执行以下代码：\n"
     ]
    },
    {
     "data": {
      "text/markdown": [
       "```python\n",
       "user_demographics_missing = user_demographics.isnull().sum()\n",
       "user_demographics_missing\n",
       "```"
      ],
      "text/plain": [
       "<IPython.core.display.Markdown object>"
      ]
     },
     "metadata": {},
     "output_type": "display_data"
    },
    {
     "name": "stdin",
     "output_type": "stream",
     "text": [
      "是直接运行代码（1），还是反馈修改意见，并让模型对代码进行修改后再运行（2） 1\n"
     ]
    },
    {
     "name": "stdout",
     "output_type": "stream",
     "text": [
      "好的，正在运行代码，请稍后...\n",
      "开始画图了\n",
      "外部函数已执行完毕，正在解析运行结果...\n",
      "模型回答：\n",
      "\n"
     ]
    },
    {
     "data": {
      "text/markdown": [
       "经过缺失值分析发现，user_demographics数据表中不存在缺失值。所有字段均为完整数据，不需要进行缺失值处理。"
      ],
      "text/plain": [
       "<IPython.core.display.Markdown object>"
      ]
     },
     "metadata": {},
     "output_type": "display_data"
    },
    {
     "name": "stdin",
     "output_type": "stream",
     "text": [
      "请问是否记录回答结果（1），        或者对当前结果提出修改意见（2），        或者重新进行提问（3），        或者直接退出对话（4） 1\n"
     ]
    },
    {
     "name": "stdout",
     "output_type": "stream",
     "text": [
      "本次对话结果已保存\n"
     ]
    }
   ],
   "source": [
    "msg_response7 = one_chat_response(model='gpt-3.5-turbo', \n",
    "                                  messages=mm7, \n",
    "                                  available_functions=af, \n",
    "                                  is_developer_mode=True)"
   ]
  },
  {
   "cell_type": "markdown",
   "id": "7fb5a717-faa7-446e-b03c-b6a843bebc61",
   "metadata": {},
   "source": [
    "### 测试8：测试开发者模式(不涉及代码执行)"
   ]
  },
  {
   "cell_type": "code",
   "execution_count": 489,
   "id": "8072586b-3ca0-4651-b949-3043b2567780",
   "metadata": {
    "tags": []
   },
   "outputs": [],
   "source": [
    "mm8 = MessageManager(system_content_list=[data_dictionary], question=\"给我介绍一下iquery数据库\")"
   ]
  },
  {
   "cell_type": "code",
   "execution_count": 490,
   "id": "4b6788e8-3c72-433e-b66c-7e8e0bdf0ead",
   "metadata": {
    "tags": []
   },
   "outputs": [
    {
     "name": "stdout",
     "output_type": "stream",
     "text": [
      "模型回答：\n",
      "\n"
     ]
    },
    {
     "data": {
      "text/markdown": [
       "# iquery数据库介绍\n",
       "\n",
       "iquery数据库是一个记录电信用户信息的数据库，其中包含了多张数据表，每张表都记录了不同方面的用户信息。为了更好地了解iquery数据库，我们可以按照以下步骤进行思考并得出结论。\n",
       "\n",
       "## 步骤一：了解数据库表的基本情况\n",
       "\n",
       "首先，我们需要了解iquery数据库中有哪些数据表，以及每张表所记录的信息。根据提供的数据字典，iquery数据库中包含以下四张数据表：\n",
       "\n",
       "1. user_demographics：记录了电信用户的个人基本情况，包括性别、年龄状况、是否结婚以及是否经济独立等信息。\n",
       "\n",
       "2. user_services：记录了每位用户订购的电信服务的基本情况，包括电话服务、互联网服务以及其他网络类服务等内容。\n",
       "\n",
       "3. user_payments：记录了每一位用户的支付状况，包括支付方式、合同类型以及具体支付金额等信息。\n",
       "\n",
       "4. user_churn：记录了当前用户的流失情况，即用户是否已经取消服务。\n",
       "\n",
       "## 步骤二：了解数据表的字段信息\n",
       "\n",
       "接下来，我们需要详细了解每张表的字段信息，包括字段名称、字段类型以及字段取值范围等。根据数据字典，我们可以得到以下结论：\n",
       "\n",
       "**user_demographics表的字段信息**：\n",
       "\n",
       "- customerID：客户ID，作为user_demographics表的主键，由数字和字母组成的字符串。\n",
       "- gender：用户的性别，取值范围为Female（女性）和Male（男性）。\n",
       "- SeniorCitizen：是否为老人，取值为0（不是）和1（是）。\n",
       "- Partner：用户是否有伴侣，取值为Yes（有）和No（没有）。\n",
       "- Dependents：用户经济是否独立，取值为Yes（有）和No（没有）。\n",
       "\n",
       "**user_services表的字段信息**：\n",
       "\n",
       "- customerID：客户ID，作为user_services表的主键。\n",
       "- PhoneService：用户是否有电话服务，取值为Yes（有）和No（没有）。\n",
       "- MultipleLines：用户是否开通了多条电话业务，取值为No phone service（没有电话服务）、No（没有多条电话线业务）和Yes（有多条电话线业务）。\n",
       "- InternetService：用户的互联网服务类型，取值为DSL（DSL）、Fiber optic（光纤）和No（没有互联网服务）。\n",
       "- 其他字段取值参见数据字典。\n",
       "\n",
       "**user_payments表的字段信息**：\n",
       "\n",
       "- customerID：客户ID，作为user_payments表的主键。\n",
       "- Contract：合同类型，取值为Month-to-month（月付）、One year（一年付）和Two year（两年付）。\n",
       "- PaperlessBilling：是否无纸化账单，取值为Yes（是）和No（否）。\n",
       "- PaymentMethod：支付方式，取值为Electronic check（电子检查）、Mailed check（邮寄支票）、Bank transfer (automatic)（银行转账）和Credit card (automatic)（信用卡）。\n",
       "- MonthlyCharges：月费用，表示用户平均每月支付费用。\n",
       "- TotalCharges：总费用，表示截至目前用户的总消费金额。\n",
       "\n",
       "**user_churn表的字段信息**：\n",
       "\n",
       "- customerID：客户ID，作为user_churn表的主键。\n",
       "- Churn：用户是否流失，取值为Yes（是）和No（否）。\n",
       "\n",
       "## 步骤三：思考数据表之间的关系\n",
       "\n",
       "根据数据字典和字段信息，我们可以初步了解到不同数据表之间存在一定的关系，如user_demographics表中的customerID字段作为主键，与其他数据表中的customerID字段相连接。我们可以通过customerID字段将不同数据表中的相关信息进行关联，以便进一步分析用户的行为和特征。\n",
       "\n",
       "## 结论\n",
       "\n",
       "通过以上分析，我们了解到iquery数据库包含了四张数据表，分别记录了用户的个人基本情况、订购的服务信息、支付状况以及流失情况。不同数据表之间存在一定的关联关系，可以通过customerID字段进行关联分析。在后续的数据处理和分析工作中，可以利用这些数据表来深入了解电信用户的特征、行为和流失情况，以及探索用户留存和提高用户满意度的策略。"
      ],
      "text/plain": [
       "<IPython.core.display.Markdown object>"
      ]
     },
     "metadata": {},
     "output_type": "display_data"
    },
    {
     "name": "stdin",
     "output_type": "stream",
     "text": [
      "请问是否记录回答结果（1），        或者对当前结果提出修改意见（2），        或者重新进行提问（3），        或者直接退出对话（4） 1\n"
     ]
    },
    {
     "name": "stdout",
     "output_type": "stream",
     "text": [
      "本次对话结果已保存\n"
     ]
    }
   ],
   "source": [
    "mm_response8 = one_chat_response(model='gpt-3.5-turbo-16k', \n",
    "                                  messages=mm8, \n",
    "                                  available_functions=af, \n",
    "                                  is_developer_mode=True)"
   ]
  },
  {
   "cell_type": "markdown",
   "id": "599c1494-d89a-4c55-80b7-29f2db929240",
   "metadata": {},
   "source": [
    "### 测试9：测试专家模式"
   ]
  },
  {
   "cell_type": "code",
   "execution_count": 503,
   "id": "03da2aed-0ffb-48ba-9d68-e094312ecb58",
   "metadata": {
    "tags": []
   },
   "outputs": [],
   "source": [
    "mm9 = MessageManager(\n",
    "    system_content_list=[data_dictionary], \n",
    "    question=\"请帮我到数据库中查询user_demographics表，并用可视化的方法分析其中gender字段的取值分布。并给出结果\")"
   ]
  },
  {
   "cell_type": "code",
   "execution_count": 504,
   "id": "15a983d3-1ab1-48c9-82bd-b4248542efa3",
   "metadata": {
    "tags": []
   },
   "outputs": [
    {
     "name": "stdout",
     "output_type": "stream",
     "text": [
      "模型回答：\n",
      "\n"
     ]
    },
    {
     "data": {
      "text/markdown": [
       "为了回答这个问题，总共需要分3步来执行：\n",
       "\n",
       "步骤1：使用`functions.sql_inter`函数查询user_demographics表中的数据，并获取gender字段的取值分布。\n",
       "\n",
       "步骤2：使用数据可视化工具（如Matplotlib、Seaborn等）对gender字段的取值分布进行分析。\n",
       "\n",
       "步骤3：将分析结果以可视化的方式呈现，并提供结果。"
      ],
      "text/plain": [
       "<IPython.core.display.Markdown object>"
      ]
     },
     "metadata": {},
     "output_type": "display_data"
    },
    {
     "name": "stdin",
     "output_type": "stream",
     "text": [
      "请问是否按照该流程执行任务（1），        或者对当前执行流程提出修改意见（2），        或者重新进行提问（3），        或者直接退出对话（4） 1\n"
     ]
    },
    {
     "name": "stdout",
     "output_type": "stream",
     "text": [
      "好的，即将逐步执行上述流程\n",
      "========这儿可能有问题======\n",
      "ChatCompletionMessage(content='', role='assistant', function_call=None, tool_calls=[ChatCompletionMessageToolCall(id='call_gdxt2wGZBn4s19x1PAH7yLnE', function=Function(arguments='{\\n  \"g\": \"default\",\\n  \"sql_query\": \"SELECT gender, count(*) as count FROM user_demographics GROUP BY gender\"\\n}', name='sql_inter'), type='function')])\n",
      "{\n",
      "  \"g\": \"default\",\n",
      "  \"sql_query\": \"SELECT gender, count(*) as count FROM user_demographics GROUP BY gender\"\n",
      "}\n",
      "即将执行以下代码：\n"
     ]
    },
    {
     "data": {
      "text/markdown": [
       "```sql\n",
       "SELECT gender, count(*) as count FROM user_demographics GROUP BY gender\n",
       "```"
      ],
      "text/plain": [
       "<IPython.core.display.Markdown object>"
      ]
     },
     "metadata": {},
     "output_type": "display_data"
    },
    {
     "name": "stdout",
     "output_type": "stream",
     "text": [
      "外部函数已执行完毕，正在解析运行结果...\n",
      "========这儿可能有问题======\n",
      "ChatCompletionMessage(content='根据查询结果，user_demographics表中的gender字段的取值分布如下：\\n\\n- Male（男性）：2744条记录\\n- Female（女性）：2609条记录\\n\\n接下来，我将使用Python的数据可视化工具来分析和可视化这些结果。', role='assistant', function_call=None, tool_calls=[ChatCompletionMessageToolCall(id='call_dA3R6HtO4z2TVpJ7it2GSsCJ', function=Function(arguments='{\\n  \"g\": \"default\",\\n  \"py_code\": \"import matplotlib.pyplot as plt\\\\n\\\\n# 数据\\\\nlabels = [\\'Male\\', \\'Female\\']\\\\nvalues = [2744, 2609]\\\\n\\\\n# 绘制饼图\\\\nplt.figure(figsize=(6, 6))\\\\nplt.pie(values, labels=labels, autopct=\\'%1.1f%%\\', startangle=90)\\\\nplt.axis(\\'equal\\')\\\\nplt.title(\\'Gender Distribution\\')\\\\n\\\\n# 显示图形\\\\nplt.show()\"\\n}', name='python_inter'), type='function')])\n",
      "{\n",
      "  \"g\": \"default\",\n",
      "  \"py_code\": \"import matplotlib.pyplot as plt\\n\\n# 数据\\nlabels = ['Male', 'Female']\\nvalues = [2744, 2609]\\n\\n# 绘制饼图\\nplt.figure(figsize=(6, 6))\\nplt.pie(values, labels=labels, autopct='%1.1f%%', startangle=90)\\nplt.axis('equal')\\nplt.title('Gender Distribution')\\n\\n# 显示图形\\nplt.show()\"\n",
      "}\n",
      "即将执行以下代码：\n"
     ]
    },
    {
     "data": {
      "text/markdown": [
       "```python\n",
       "import matplotlib.pyplot as plt\n",
       "\n",
       "# 数据\n",
       "labels = ['Male', 'Female']\n",
       "values = [2744, 2609]\n",
       "\n",
       "# 绘制饼图\n",
       "plt.figure(figsize=(6, 6))\n",
       "plt.pie(values, labels=labels, autopct='%1.1f%%', startangle=90)\n",
       "plt.axis('equal')\n",
       "plt.title('Gender Distribution')\n",
       "\n",
       "# 显示图形\n",
       "plt.show()\n",
       "```"
      ],
      "text/plain": [
       "<IPython.core.display.Markdown object>"
      ]
     },
     "metadata": {},
     "output_type": "display_data"
    },
    {
     "name": "stdout",
     "output_type": "stream",
     "text": [
      "开始画图了\n"
     ]
    },
    {
     "data": {
      "image/png": "[encoded data removed]",
      "text/plain": [
       "<Figure size 600x600 with 1 Axes>"
      ]
     },
     "metadata": {},
     "output_type": "display_data"
    },
    {
     "name": "stdout",
     "output_type": "stream",
     "text": [
      "外部函数已执行完毕，正在解析运行结果...\n",
      "模型回答：\n",
      "\n"
     ]
    },
    {
     "data": {
      "text/markdown": [
       "根据数据可视化的结果，可以得出以下结论：\n",
       "\n",
       "- 在user_demographics表中，男性（Male）的记录数为2744条，占总数的51.2%。\n",
       "- 女性（Female）的记录数为2609条，占总数的48.8%。\n",
       "\n",
       "绘制的饼图清晰地展示了gender字段的取值分布情况。男性和女性的比例接近，没有明显的偏差。\n",
       "\n",
       "以上是对user_demographics表中gender字段的取值分布进行的分析。"
      ],
      "text/plain": [
       "<IPython.core.display.Markdown object>"
      ]
     },
     "metadata": {},
     "output_type": "display_data"
    }
   ],
   "source": [
    "mm_response9 = one_chat_response(model='gpt-3.5-turbo-16k', \n",
    "                                   messages=mm9, \n",
    "                                   available_functions=af, \n",
    "                                   is_expert_mode=True)"
   ]
  },
  {
   "cell_type": "code",
   "execution_count": 534,
   "id": "134eda15-3a40-43cb-97c0-d375d3fc44cb",
   "metadata": {
    "tags": []
   },
   "outputs": [],
   "source": [
    "# from memory.MessageManager import MessageManager\n",
    "# from planning.Planning import *\n",
    "\n",
    "class iQueryAgent():\n",
    "    def __init__(self,\n",
    "                 api_key,\n",
    "                 model='gpt-3.5-turbo-16k',\n",
    "                 system_content_list=[],\n",
    "                 project=None,\n",
    "                 messages=None,\n",
    "                 available_functions=None,\n",
    "                 is_expert_mode=False,\n",
    "                 is_developer_mode=False):\n",
    "        \"\"\"\n",
    "        初始参数解释：\n",
    "        api_key：必选参数，表示调用OpenAI模型所必须的字符串密钥，没有默认取值，需要用户提前设置才可使用MateGen；\n",
    "        model：可选参数，表示当前选择的Chat模型类型，默认为gpt-3.5-turbo-16k，具体当前OpenAI账户可以调用哪些模型，可以参考官网Limit链接：https://platform.openai.com/account/limits ；\n",
    "        system_content_list：可选参数，表示输入的系统消息或者外部文档，默认为空列表，表示不输入外部文档；\n",
    "        project：可选参数，表示当前对话所归属的项目名称，需要输入CloudFile类对象，用于表示当前对话的本地存储方法，默认为None，表示不进行本地保存；\n",
    "        messages：可选参数，表示当前对话所继承的Messages，需要是MessageManager对象、或者是字典所构成的list，默认为None，表示不继承Messages；\n",
    "        available_functions：可选参数，表示当前对话的外部工具，需要是AvailableFunction对象，默认为None，表示当前对话没有外部函数；\n",
    "        is_expert_mode：可选参数，表示当前对话是否开启专家模式，专家模式下会自动开启复杂任务拆解流程以及深度debug功能，会需要耗费更多的计算时间和金额，不过会换来Agent整体性能提升，默认为False；\n",
    "        is_developer_mode：可选参数，表示当前对话是否开启开发者模式，在开发者模式下，模型会先和用户确认文本或者代码是否正确，再选择是否进行保存或者执行，对于开发者来说借助开发者模式可以极大程度提升模型可用性，但并不推荐新人使用，默认为False；\n",
    "        \"\"\"\n",
    "\n",
    "        self.api_key = api_key\n",
    "        self.model = model\n",
    "        self.project = project\n",
    "        self.system_content_list = system_content_list\n",
    "        tokens_thr = None\n",
    "\n",
    "        # 计算tokens_thr\n",
    "        if '1106' in model:\n",
    "            tokens_thr = 110000\n",
    "        elif '16k' in model:\n",
    "            tokens_thr = 12000\n",
    "        elif 'gpt-4-0613' in model:\n",
    "            tokens_thr = 7000\n",
    "        elif 'gpt-4-turbo-preview' in model:\n",
    "            tokens_thr = 110000\n",
    "        else:\n",
    "            tokens_thr = 3000\n",
    "\n",
    "        self.tokens_thr = tokens_thr\n",
    "\n",
    "        # 创建self.messages属性\n",
    "        self.messages = MessageManager(system_content_list=system_content_list,\n",
    "                                     tokens_thr=tokens_thr)\n",
    "\n",
    "        # 若初始参数messages不为None，则将其加入self.messages中\n",
    "        if messages != None:\n",
    "            self.messages.messages_append(messages)\n",
    "\n",
    "        self.available_functions = available_functions\n",
    "        self.is_expert_mode = is_expert_mode\n",
    "        self.is_developer_mode = is_developer_mode\n",
    "        \n",
    "        title=\"【===================欢迎使用iQuery Agent 智能数据分析平台================================】\"\n",
    "        display(Markdown(title))\n",
    "    \n",
    "    def chat(self, question=None):\n",
    "        \"\"\"\n",
    "        iQueryAgent类主方法，支持单次对话和多轮对话两种模式，当用户没有输入question时开启多轮对话，反之则开启单轮对话。\\\n",
    "        无论开启单论对话或多轮对话，对话结果将会保存在self.messages中，便于下次调用\n",
    "        \"\"\"\n",
    "       \n",
    "        head_str = \"▌ Model set to %s\" % self.model\n",
    "        display(Markdown(head_str))\n",
    "\n",
    "        if question != None:\n",
    "            self.messages.messages_append({\"role\": \"user\", \"content\": question})\n",
    "            self.messages = one_chat_response(model=self.model,\n",
    "                                              messages=self.messages,\n",
    "                                              available_functions=self.available_functions,\n",
    "                                              is_developer_mode=self.is_developer_mode,\n",
    "                                              is_expert_mode=self.is_expert_mode)\n",
    "\n",
    "        else:\n",
    "            while True:\n",
    "                self.messages = one_chat_response(model=self.model,\n",
    "                                                  messages=self.messages,\n",
    "                                                  available_functions=self.available_functions,\n",
    "                                                  is_developer_mode=self.is_developer_mode,\n",
    "                                                  is_expert_mode=self.is_expert_mode)\n",
    "\n",
    "                user_input = input(\"您还有其他问题吗？(输入退出以结束对话): \")\n",
    "                if user_input == \"退出\":\n",
    "                    break\n",
    "                else:\n",
    "                    self.messages.messages_append({\"role\": \"user\", \"content\": user_input})\n",
    "\n",
    "    def reset(self):\n",
    "        \"\"\"\n",
    "        重置当前iQuery Agent对象的messages\n",
    "        \"\"\"\n",
    "        self.messages = MessageManager(system_content_list=self.system_content_list)\n",
    "\n",
    "    def upload_messages(self):\n",
    "        \"\"\"\n",
    "        将当前messages上传至project项目中\n",
    "        \"\"\"\n",
    "        if self.project == None:\n",
    "            print(\"需要先输入project参数（需要是一个CloudFile对象），才可上传messages\")\n",
    "            return None\n",
    "        else:\n",
    "            self.project.append_doc_content(content=self.messages.history_messages)"
   ]
  },
  {
   "cell_type": "code",
   "execution_count": 537,
   "id": "d613393c-1679-41c9-bd7f-7d03161475b5",
   "metadata": {
    "tags": []
   },
   "outputs": [],
   "source": [
    "iquery = iQueryAgent(api_key=\"\",model=\"gpt-3.5-turbo-16k\")"
   ]
  },
  {
   "cell_type": "code",
   "execution_count": 538,
   "id": "f1ef529a-f1e9-4243-a4d0-bbbfdc3c72b7",
   "metadata": {
    "tags": []
   },
   "outputs": [
    {
     "data": {
      "text/markdown": [
       "【===================欢迎使用iQuery Agent 智能数据分析平台================================】"
      ],
      "text/plain": [
       "<IPython.core.display.Markdown object>"
      ]
     },
     "metadata": {},
     "output_type": "display_data"
    },
    {
     "data": {
      "text/markdown": [
       "▌ Model set to gpt-3.5-turbo-16k"
      ],
      "text/plain": [
       "<IPython.core.display.Markdown object>"
      ]
     },
     "metadata": {},
     "output_type": "display_data"
    },
    {
     "name": "stdout",
     "output_type": "stream",
     "text": [
      "模型回答：\n",
      "\n"
     ]
    },
    {
     "data": {
      "text/markdown": [
       "机器学习是一种人工智能的分支，它是通过从数据中自动学习并改进经验来进行决策和预测的技术。它的主要目标是让计算机系统能够根据以往的经验和数据，自动地改善和调整自身的性能，而无需人为地进行编程或明确给出规则。机器学习算法通过对数据的分析和模式的识别，可以进行分类、聚类、预测和优化等任务。\n",
       "\n",
       "机器学习可以分为监督学习、无监督学习和强化学习三个主要类型。在监督学习中，算法通过已标记的训练数据来学习，并通过这些数据来预测或分类新的未标记数据。无监督学习则是通过分析未标记数据的内在结构，来发现数据中的模式和关系。强化学习是通过试错的过程来学习最佳的行为策略，根据环境给予的正反馈来调整算法的输出。\n",
       "\n",
       "机器学习应用广泛，包括自然语言处理、计算机视觉、语音识别、推荐系统和金融市场预测等领域。无论是个人用户还是企业，都可以应用机器学习技术来解决复杂的问题，提高效率和准确性。近年来，随着数据量的增加和计算能力的提升，机器学习在各个领域都得到了重要的应用和研究。"
      ],
      "text/plain": [
       "<IPython.core.display.Markdown object>"
      ]
     },
     "metadata": {},
     "output_type": "display_data"
    }
   ],
   "source": [
    "iquery.chat('请帮我介绍下什么是机器学习？')"
   ]
  },
  {
   "cell_type": "code",
   "execution_count": 539,
   "id": "ce901d46-26a7-4015-b4d9-6cf79684ef4e",
   "metadata": {
    "tags": []
   },
   "outputs": [
    {
     "data": {
      "text/markdown": [
       "【===================欢迎使用iQuery Agent 智能数据分析平台================================】"
      ],
      "text/plain": [
       "<IPython.core.display.Markdown object>"
      ]
     },
     "metadata": {},
     "output_type": "display_data"
    },
    {
     "data": {
      "text/markdown": [
       "▌ Model set to gpt-3.5-turbo-16k"
      ],
      "text/plain": [
       "<IPython.core.display.Markdown object>"
      ]
     },
     "metadata": {},
     "output_type": "display_data"
    },
    {
     "name": "stdout",
     "output_type": "stream",
     "text": [
      "模型回答：\n",
      "\n"
     ]
    },
    {
     "data": {
      "text/markdown": [
       "上次回答的问题是 \"请帮我介绍下什么是机器学习？\"。"
      ],
      "text/plain": [
       "<IPython.core.display.Markdown object>"
      ]
     },
     "metadata": {},
     "output_type": "display_data"
    }
   ],
   "source": [
    "iquery.chat(\"请问你上次回答的问题是什么？\")"
   ]
  },
  {
   "cell_type": "code",
   "execution_count": 540,
   "id": "b5cfa2a5-4fb8-472a-b5fd-92ea04665794",
   "metadata": {
    "tags": []
   },
   "outputs": [],
   "source": [
    "iquery = iQueryAgent(api_key=\"\",model=\"gpt-3.5-turbo-16k\", \n",
    "                       available_functions=af)"
   ]
  },
  {
   "cell_type": "code",
   "execution_count": 541,
   "id": "ca310dc1-6599-4194-bc34-03cb883ee1b8",
   "metadata": {
    "tags": []
   },
   "outputs": [
    {
     "data": {
      "text/markdown": [
       "【===================欢迎使用iQuery Agent 智能数据分析平台================================】"
      ],
      "text/plain": [
       "<IPython.core.display.Markdown object>"
      ]
     },
     "metadata": {},
     "output_type": "display_data"
    },
    {
     "data": {
      "text/markdown": [
       "▌ Model set to gpt-3.5-turbo-16k"
      ],
      "text/plain": [
       "<IPython.core.display.Markdown object>"
      ]
     },
     "metadata": {},
     "output_type": "display_data"
    },
    {
     "name": "stdout",
     "output_type": "stream",
     "text": [
      "模型回答：\n",
      "\n"
     ]
    },
    {
     "data": {
      "text/markdown": [
       "你好！有什么可以帮助您的吗？"
      ],
      "text/plain": [
       "<IPython.core.display.Markdown object>"
      ]
     },
     "metadata": {},
     "output_type": "display_data"
    },
    {
     "name": "stdin",
     "output_type": "stream",
     "text": [
      "您还有其他问题吗？(输入退出以结束对话):  介绍一下iQuery数据库\n"
     ]
    },
    {
     "name": "stdout",
     "output_type": "stream",
     "text": [
      "模型回答：\n",
      "\n"
     ]
    },
    {
     "data": {
      "text/markdown": [
       "iQuery是一个用于数据分析和处理的数据库系统。它是基于MySQL的一个扩展，提供了更强大的数据处理和查询功能。iQuery包含了一些特有的功能，如窗口函数、数据透视表、数据统计函数等，使得数据分析更加方便和高效。\n",
       "\n",
       "iQuery的设计目标是提供一个简单易用的数据库系统，同时保持高性能和可扩展性。它支持标准的SQL查询语言，并且可以通过扩展的函数和操作符来处理更复杂的数据操作。\n",
       "\n",
       "通过iQuery，您可以轻松地处理大规模的数据集，并进行复杂的计算和分析。它可以用于各种数据分析任务，如统计分析、数据挖掘、机器学习等。此外，iQuery还提供了和Python的集成接口，可以方便地使用Python进行数据处理和可视化。\n",
       "\n",
       "总的来说，iQuery是一个强大而灵活的数据库系统，可以满足各种数据分析的需求，并提供了与Python的无缝集成，使得数据分析工作更加高效和便捷。"
      ],
      "text/plain": [
       "<IPython.core.display.Markdown object>"
      ]
     },
     "metadata": {},
     "output_type": "display_data"
    },
    {
     "name": "stdin",
     "output_type": "stream",
     "text": [
      "您还有其他问题吗？(输入退出以结束对话):  退出\n"
     ]
    }
   ],
   "source": [
    "iquery.chat()"
   ]
  },
  {
   "cell_type": "code",
   "execution_count": 542,
   "id": "9ff3a408-3241-415e-a781-c1d92191dbd5",
   "metadata": {},
   "outputs": [],
   "source": [
    "iquery = iQueryAgent(api_key=\"gpt-3.5-turbo-16k\", \n",
    "                     system_content_list=[data_dictionary],\n",
    "                       available_functions=af)"
   ]
  },
  {
   "cell_type": "code",
   "execution_count": 543,
   "id": "c5f5c7e0-edd1-4ac8-829f-506724f7d756",
   "metadata": {
    "tags": []
   },
   "outputs": [
    {
     "data": {
      "text/markdown": [
       "【===================欢迎使用iQuery Agent 智能数据分析平台================================】"
      ],
      "text/plain": [
       "<IPython.core.display.Markdown object>"
      ]
     },
     "metadata": {},
     "output_type": "display_data"
    },
    {
     "data": {
      "text/markdown": [
       "▌ Model set to gpt-3.5-turbo-16k"
      ],
      "text/plain": [
       "<IPython.core.display.Markdown object>"
      ]
     },
     "metadata": {},
     "output_type": "display_data"
    },
    {
     "name": "stdout",
     "output_type": "stream",
     "text": [
      "模型回答：\n",
      "\n"
     ]
    },
    {
     "data": {
      "text/markdown": [
       "你好！有什么可以帮助您的吗？"
      ],
      "text/plain": [
       "<IPython.core.display.Markdown object>"
      ]
     },
     "metadata": {},
     "output_type": "display_data"
    },
    {
     "name": "stdin",
     "output_type": "stream",
     "text": [
      "您还有其他问题吗？(输入退出以结束对话):  介绍一下iquery数据库\n"
     ]
    },
    {
     "name": "stdout",
     "output_type": "stream",
     "text": [
      "模型回答：\n",
      "\n"
     ]
    },
    {
     "data": {
      "text/markdown": [
       "iquery是一个虚构的数据库，用于存储和管理电信用户的相关数据。它包含了几张数据表，每张表都包含了不同方面的用户信息，比如个人基本信息、订购的服务、支付状况和流失情况等。\n",
       "\n",
       "以下是iquery数据库中的几张数据表：\n",
       "\n",
       "1. user_demographics：记录了电信用户的个人基本情况，如性别、年龄状况、是否结婚以及是否经济独立等。\n",
       "2. user_services：记录了每位用户订购电信服务的基本情况，包括电话服务、多线业务、互联网服务等。\n",
       "3. user_payments：记录了每一位用户的支付情况，包括支付方式、合同类型和支付金额等。\n",
       "4. user_churn：记录了当前用户的流失情况，即是否已经终止了合同。\n",
       "\n",
       "这些数据表包含了电信用户的各种信息，可以用于分析用户行为、预测用户流失等任务。数据表中的数据通过SQL查询和分析可以得出有关用户的统计和洞察，帮助电信公司做出更好的决策和优化策略。\n",
       "\n",
       "请问还有其他关于iquery数据库的问题吗？"
      ],
      "text/plain": [
       "<IPython.core.display.Markdown object>"
      ]
     },
     "metadata": {},
     "output_type": "display_data"
    },
    {
     "name": "stdin",
     "output_type": "stream",
     "text": [
      "您还有其他问题吗？(输入退出以结束对话):  解释一下user_demographics里面的字段信息\n"
     ]
    },
    {
     "name": "stdout",
     "output_type": "stream",
     "text": [
      "模型回答：\n",
      "\n"
     ]
    },
    {
     "data": {
      "text/markdown": [
       "在iquery数据库的user_demographics数据表中，有以下字段信息：\n",
       "\n",
       "1. customerID：客户ID，是user_demographics数据表的主键，由数字和字母组成的唯一标识符。\n",
       "\n",
       "2. gender：用户的性别，取值为Female（女性）或Male（男性）。\n",
       "\n",
       "3. SeniorCitizen：是否为老人，取值为0（不是）或1（是）。用于区分是否是65岁及以上的用户。\n",
       "\n",
       "4. Partner：用户是否有伴侣，取值为Yes（有）或No（没有）。\n",
       "\n",
       "5. Dependents：用户经济是否独立，往往用于判断用户是否已经成年，取值为Yes（有）或No（没有）。\n",
       "\n",
       "这些字段提供了关于用户的基本个人情况的信息，可以用于分析用户特征和行为，比如了解不同性别、年龄和家庭状况对电信服务偏好和购买决策的影响。\n",
       "\n",
       "如果还有其他关于user_demographics数据表的字段信息的问题，请随时提问。"
      ],
      "text/plain": [
       "<IPython.core.display.Markdown object>"
      ]
     },
     "metadata": {},
     "output_type": "display_data"
    },
    {
     "name": "stdin",
     "output_type": "stream",
     "text": [
      "您还有其他问题吗？(输入退出以结束对话):  根据gender的不同取值，计算一下占比\n"
     ]
    },
    {
     "name": "stdout",
     "output_type": "stream",
     "text": [
      "即将执行以下代码：\n"
     ]
    },
    {
     "data": {
      "text/markdown": [
       "```sql\n",
       "SELECT gender, COUNT(*) AS count, (COUNT(*) / (SELECT COUNT(*) FROM user_demographics)) * 100 AS percentage FROM user_demographics GROUP BY gender\n",
       "```"
      ],
      "text/plain": [
       "<IPython.core.display.Markdown object>"
      ]
     },
     "metadata": {},
     "output_type": "display_data"
    },
    {
     "name": "stdout",
     "output_type": "stream",
     "text": [
      "函数运行报错如下:Object of type Decimal is not JSON serializable\n"
     ]
    },
    {
     "data": {
      "text/markdown": [
       "**即将执行高效debug，正在实例化Efficient Debug Agent...**"
      ],
      "text/plain": [
       "<IPython.core.display.Markdown object>"
      ]
     },
     "metadata": {},
     "output_type": "display_data"
    },
    {
     "data": {
      "text/markdown": [
       "**From Debug iQuery Agent:**"
      ],
      "text/plain": [
       "<IPython.core.display.Markdown object>"
      ]
     },
     "metadata": {},
     "output_type": "display_data"
    },
    {
     "data": {
      "text/markdown": [
       "你编写的代码报错了，请根据报错信息修改代码并重新执行。"
      ],
      "text/plain": [
       "<IPython.core.display.Markdown object>"
      ]
     },
     "metadata": {},
     "output_type": "display_data"
    },
    {
     "data": {
      "text/markdown": [
       "**From iQuery Agent:**"
      ],
      "text/plain": [
       "<IPython.core.display.Markdown object>"
      ]
     },
     "metadata": {},
     "output_type": "display_data"
    },
    {
     "name": "stdout",
     "output_type": "stream",
     "text": [
      "即将执行以下代码：\n"
     ]
    },
    {
     "data": {
      "text/markdown": [
       "```sql\n",
       "SELECT gender, COUNT(*) AS count, (COUNT(*) / CAST((SELECT COUNT(*) FROM user_demographics) AS DECIMAL)) * 100 AS percentage FROM user_demographics GROUP BY gender\n",
       "```"
      ],
      "text/plain": [
       "<IPython.core.display.Markdown object>"
      ]
     },
     "metadata": {},
     "output_type": "display_data"
    },
    {
     "name": "stdout",
     "output_type": "stream",
     "text": [
      "函数运行报错如下:Object of type Decimal is not JSON serializable\n"
     ]
    },
    {
     "data": {
      "text/markdown": [
       "**即将执行高效debug，正在实例化Efficient Debug Agent...**"
      ],
      "text/plain": [
       "<IPython.core.display.Markdown object>"
      ]
     },
     "metadata": {},
     "output_type": "display_data"
    },
    {
     "data": {
      "text/markdown": [
       "**From Debug iQuery Agent:**"
      ],
      "text/plain": [
       "<IPython.core.display.Markdown object>"
      ]
     },
     "metadata": {},
     "output_type": "display_data"
    },
    {
     "data": {
      "text/markdown": [
       "你编写的代码报错了，请根据报错信息修改代码并重新执行。"
      ],
      "text/plain": [
       "<IPython.core.display.Markdown object>"
      ]
     },
     "metadata": {},
     "output_type": "display_data"
    },
    {
     "data": {
      "text/markdown": [
       "**From iQuery Agent:**"
      ],
      "text/plain": [
       "<IPython.core.display.Markdown object>"
      ]
     },
     "metadata": {},
     "output_type": "display_data"
    },
    {
     "name": "stdout",
     "output_type": "stream",
     "text": [
      "即将执行以下代码：\n"
     ]
    },
    {
     "data": {
      "text/markdown": [
       "```sql\n",
       "SELECT gender, COUNT(*) AS count, (COUNT(*) / CAST((SELECT COUNT(*) FROM user_demographics) AS DECIMAL(8,2))) * 100 AS percentage FROM user_demographics GROUP BY gender\n",
       "```"
      ],
      "text/plain": [
       "<IPython.core.display.Markdown object>"
      ]
     },
     "metadata": {},
     "output_type": "display_data"
    },
    {
     "name": "stdout",
     "output_type": "stream",
     "text": [
      "函数运行报错如下:Object of type Decimal is not JSON serializable\n"
     ]
    },
    {
     "data": {
      "text/markdown": [
       "**即将执行高效debug，正在实例化Efficient Debug Agent...**"
      ],
      "text/plain": [
       "<IPython.core.display.Markdown object>"
      ]
     },
     "metadata": {},
     "output_type": "display_data"
    },
    {
     "data": {
      "text/markdown": [
       "**From Debug iQuery Agent:**"
      ],
      "text/plain": [
       "<IPython.core.display.Markdown object>"
      ]
     },
     "metadata": {},
     "output_type": "display_data"
    },
    {
     "data": {
      "text/markdown": [
       "你编写的代码报错了，请根据报错信息修改代码并重新执行。"
      ],
      "text/plain": [
       "<IPython.core.display.Markdown object>"
      ]
     },
     "metadata": {},
     "output_type": "display_data"
    },
    {
     "data": {
      "text/markdown": [
       "**From iQuery Agent:**"
      ],
      "text/plain": [
       "<IPython.core.display.Markdown object>"
      ]
     },
     "metadata": {},
     "output_type": "display_data"
    },
    {
     "name": "stdout",
     "output_type": "stream",
     "text": [
      "即将执行以下代码：\n"
     ]
    },
    {
     "data": {
      "text/markdown": [
       "```sql\n",
       "SELECT gender, COUNT(*) AS count, (COUNT(*) / CAST((SELECT COUNT(*) FROM user_demographics) AS DECIMAL(10,2))) * 100 AS percentage FROM user_demographics GROUP BY gender\n",
       "```"
      ],
      "text/plain": [
       "<IPython.core.display.Markdown object>"
      ]
     },
     "metadata": {},
     "output_type": "display_data"
    },
    {
     "name": "stdout",
     "output_type": "stream",
     "text": [
      "函数运行报错如下:Object of type Decimal is not JSON serializable\n"
     ]
    },
    {
     "data": {
      "text/markdown": [
       "**即将执行高效debug，正在实例化Efficient Debug Agent...**"
      ],
      "text/plain": [
       "<IPython.core.display.Markdown object>"
      ]
     },
     "metadata": {},
     "output_type": "display_data"
    },
    {
     "data": {
      "text/markdown": [
       "**From Debug iQuery Agent:**"
      ],
      "text/plain": [
       "<IPython.core.display.Markdown object>"
      ]
     },
     "metadata": {},
     "output_type": "display_data"
    },
    {
     "data": {
      "text/markdown": [
       "你编写的代码报错了，请根据报错信息修改代码并重新执行。"
      ],
      "text/plain": [
       "<IPython.core.display.Markdown object>"
      ]
     },
     "metadata": {},
     "output_type": "display_data"
    },
    {
     "data": {
      "text/markdown": [
       "**From iQuery Agent:**"
      ],
      "text/plain": [
       "<IPython.core.display.Markdown object>"
      ]
     },
     "metadata": {},
     "output_type": "display_data"
    },
    {
     "name": "stdout",
     "output_type": "stream",
     "text": [
      "即将执行以下代码：\n"
     ]
    },
    {
     "data": {
      "text/markdown": [
       "```sql\n",
       "SELECT gender, COUNT(*) AS count, ROUND((COUNT(*) / (SELECT COUNT(*) FROM user_demographics) * 100), 2) AS percentage FROM user_demographics GROUP BY gender\n",
       "```"
      ],
      "text/plain": [
       "<IPython.core.display.Markdown object>"
      ]
     },
     "metadata": {},
     "output_type": "display_data"
    },
    {
     "name": "stdout",
     "output_type": "stream",
     "text": [
      "函数运行报错如下:Object of type Decimal is not JSON serializable\n"
     ]
    },
    {
     "data": {
      "text/markdown": [
       "**即将执行高效debug，正在实例化Efficient Debug Agent...**"
      ],
      "text/plain": [
       "<IPython.core.display.Markdown object>"
      ]
     },
     "metadata": {},
     "output_type": "display_data"
    },
    {
     "data": {
      "text/markdown": [
       "**From Debug iQuery Agent:**"
      ],
      "text/plain": [
       "<IPython.core.display.Markdown object>"
      ]
     },
     "metadata": {},
     "output_type": "display_data"
    },
    {
     "data": {
      "text/markdown": [
       "你编写的代码报错了，请根据报错信息修改代码并重新执行。"
      ],
      "text/plain": [
       "<IPython.core.display.Markdown object>"
      ]
     },
     "metadata": {},
     "output_type": "display_data"
    },
    {
     "data": {
      "text/markdown": [
       "**From iQuery Agent:**"
      ],
      "text/plain": [
       "<IPython.core.display.Markdown object>"
      ]
     },
     "metadata": {},
     "output_type": "display_data"
    },
    {
     "name": "stdout",
     "output_type": "stream",
     "text": [
      "即将执行以下代码：\n"
     ]
    },
    {
     "data": {
      "text/markdown": [
       "```sql\n",
       "SELECT gender, COUNT(*) AS count, ROUND((COUNT(*) / (SELECT COUNT(*) FROM user_demographics) * 100), 2) AS percentage FROM user_demographics GROUP BY gender\n",
       "```"
      ],
      "text/plain": [
       "<IPython.core.display.Markdown object>"
      ]
     },
     "metadata": {},
     "output_type": "display_data"
    },
    {
     "name": "stdout",
     "output_type": "stream",
     "text": [
      "函数运行报错如下:Object of type Decimal is not JSON serializable\n"
     ]
    },
    {
     "data": {
      "text/markdown": [
       "**即将执行高效debug，正在实例化Efficient Debug Agent...**"
      ],
      "text/plain": [
       "<IPython.core.display.Markdown object>"
      ]
     },
     "metadata": {},
     "output_type": "display_data"
    },
    {
     "data": {
      "text/markdown": [
       "**From Debug iQuery Agent:**"
      ],
      "text/plain": [
       "<IPython.core.display.Markdown object>"
      ]
     },
     "metadata": {},
     "output_type": "display_data"
    },
    {
     "data": {
      "text/markdown": [
       "你编写的代码报错了，请根据报错信息修改代码并重新执行。"
      ],
      "text/plain": [
       "<IPython.core.display.Markdown object>"
      ]
     },
     "metadata": {},
     "output_type": "display_data"
    },
    {
     "data": {
      "text/markdown": [
       "**From iQuery Agent:**"
      ],
      "text/plain": [
       "<IPython.core.display.Markdown object>"
      ]
     },
     "metadata": {},
     "output_type": "display_data"
    },
    {
     "name": "stdout",
     "output_type": "stream",
     "text": [
      "即将执行以下代码：\n"
     ]
    },
    {
     "data": {
      "text/markdown": [
       "```sql\n",
       "SELECT gender, COUNT(*) AS count, ROUND((COUNT(*) / (SELECT COUNT(*) FROM user_demographics) * 100), 2) AS percentage FROM user_demographics GROUP BY gender\n",
       "```"
      ],
      "text/plain": [
       "<IPython.core.display.Markdown object>"
      ]
     },
     "metadata": {},
     "output_type": "display_data"
    },
    {
     "name": "stdout",
     "output_type": "stream",
     "text": [
      "函数运行报错如下:Object of type Decimal is not JSON serializable\n"
     ]
    },
    {
     "data": {
      "text/markdown": [
       "**即将执行高效debug，正在实例化Efficient Debug Agent...**"
      ],
      "text/plain": [
       "<IPython.core.display.Markdown object>"
      ]
     },
     "metadata": {},
     "output_type": "display_data"
    },
    {
     "data": {
      "text/markdown": [
       "**From Debug iQuery Agent:**"
      ],
      "text/plain": [
       "<IPython.core.display.Markdown object>"
      ]
     },
     "metadata": {},
     "output_type": "display_data"
    },
    {
     "data": {
      "text/markdown": [
       "你编写的代码报错了，请根据报错信息修改代码并重新执行。"
      ],
      "text/plain": [
       "<IPython.core.display.Markdown object>"
      ]
     },
     "metadata": {},
     "output_type": "display_data"
    },
    {
     "data": {
      "text/markdown": [
       "**From iQuery Agent:**"
      ],
      "text/plain": [
       "<IPython.core.display.Markdown object>"
      ]
     },
     "metadata": {},
     "output_type": "display_data"
    },
    {
     "name": "stdout",
     "output_type": "stream",
     "text": [
      "即将执行以下代码：\n"
     ]
    },
    {
     "data": {
      "text/markdown": [
       "```sql\n",
       "SELECT gender, COUNT(*) AS count, ROUND((COUNT(*) * 100 / (SELECT COUNT(*) FROM user_demographics)), 2) AS percentage FROM user_demographics GROUP BY gender\n",
       "```"
      ],
      "text/plain": [
       "<IPython.core.display.Markdown object>"
      ]
     },
     "metadata": {},
     "output_type": "display_data"
    },
    {
     "name": "stdout",
     "output_type": "stream",
     "text": [
      "函数运行报错如下:Object of type Decimal is not JSON serializable\n"
     ]
    },
    {
     "data": {
      "text/markdown": [
       "**即将执行高效debug，正在实例化Efficient Debug Agent...**"
      ],
      "text/plain": [
       "<IPython.core.display.Markdown object>"
      ]
     },
     "metadata": {},
     "output_type": "display_data"
    },
    {
     "data": {
      "text/markdown": [
       "**From Debug iQuery Agent:**"
      ],
      "text/plain": [
       "<IPython.core.display.Markdown object>"
      ]
     },
     "metadata": {},
     "output_type": "display_data"
    },
    {
     "data": {
      "text/markdown": [
       "你编写的代码报错了，请根据报错信息修改代码并重新执行。"
      ],
      "text/plain": [
       "<IPython.core.display.Markdown object>"
      ]
     },
     "metadata": {},
     "output_type": "display_data"
    },
    {
     "data": {
      "text/markdown": [
       "**From iQuery Agent:**"
      ],
      "text/plain": [
       "<IPython.core.display.Markdown object>"
      ]
     },
     "metadata": {},
     "output_type": "display_data"
    },
    {
     "name": "stdout",
     "output_type": "stream",
     "text": [
      "即将执行以下代码：\n"
     ]
    },
    {
     "data": {
      "text/markdown": [
       "```sql\n",
       "SELECT gender, COUNT(*) AS count, ROUND((COUNT(*) * 100 / CAST((SELECT COUNT(*) FROM user_demographics) AS DECIMAL(10,2))), 2) AS percentage FROM user_demographics GROUP BY gender\n",
       "```"
      ],
      "text/plain": [
       "<IPython.core.display.Markdown object>"
      ]
     },
     "metadata": {},
     "output_type": "display_data"
    },
    {
     "name": "stdout",
     "output_type": "stream",
     "text": [
      "函数运行报错如下:Object of type Decimal is not JSON serializable\n"
     ]
    },
    {
     "data": {
      "text/markdown": [
       "**即将执行高效debug，正在实例化Efficient Debug Agent...**"
      ],
      "text/plain": [
       "<IPython.core.display.Markdown object>"
      ]
     },
     "metadata": {},
     "output_type": "display_data"
    },
    {
     "data": {
      "text/markdown": [
       "**From Debug iQuery Agent:**"
      ],
      "text/plain": [
       "<IPython.core.display.Markdown object>"
      ]
     },
     "metadata": {},
     "output_type": "display_data"
    },
    {
     "data": {
      "text/markdown": [
       "你编写的代码报错了，请根据报错信息修改代码并重新执行。"
      ],
      "text/plain": [
       "<IPython.core.display.Markdown object>"
      ]
     },
     "metadata": {},
     "output_type": "display_data"
    },
    {
     "data": {
      "text/markdown": [
       "**From iQuery Agent:**"
      ],
      "text/plain": [
       "<IPython.core.display.Markdown object>"
      ]
     },
     "metadata": {},
     "output_type": "display_data"
    },
    {
     "name": "stdout",
     "output_type": "stream",
     "text": [
      "即将执行以下代码：\n"
     ]
    },
    {
     "data": {
      "text/markdown": [
       "```sql\n",
       "SELECT gender, COUNT(*) AS count, ROUND((COUNT(*) * 100) / (SELECT COUNT(*) FROM user_demographics), 2) AS percentage FROM user_demographics GROUP BY gender\n",
       "```"
      ],
      "text/plain": [
       "<IPython.core.display.Markdown object>"
      ]
     },
     "metadata": {},
     "output_type": "display_data"
    },
    {
     "name": "stdout",
     "output_type": "stream",
     "text": [
      "函数运行报错如下:Object of type Decimal is not JSON serializable\n"
     ]
    },
    {
     "data": {
      "text/markdown": [
       "**即将执行高效debug，正在实例化Efficient Debug Agent...**"
      ],
      "text/plain": [
       "<IPython.core.display.Markdown object>"
      ]
     },
     "metadata": {},
     "output_type": "display_data"
    },
    {
     "data": {
      "text/markdown": [
       "**From Debug iQuery Agent:**"
      ],
      "text/plain": [
       "<IPython.core.display.Markdown object>"
      ]
     },
     "metadata": {},
     "output_type": "display_data"
    },
    {
     "data": {
      "text/markdown": [
       "你编写的代码报错了，请根据报错信息修改代码并重新执行。"
      ],
      "text/plain": [
       "<IPython.core.display.Markdown object>"
      ]
     },
     "metadata": {},
     "output_type": "display_data"
    },
    {
     "data": {
      "text/markdown": [
       "**From iQuery Agent:**"
      ],
      "text/plain": [
       "<IPython.core.display.Markdown object>"
      ]
     },
     "metadata": {},
     "output_type": "display_data"
    },
    {
     "name": "stdout",
     "output_type": "stream",
     "text": [
      "即将执行以下代码：\n"
     ]
    },
    {
     "data": {
      "text/markdown": [
       "```sql\n",
       "SELECT gender, COUNT(*) AS count, ROUND((COUNT(*) * 100.0) / (SELECT COUNT(*) FROM user_demographics), 2) AS percentage FROM user_demographics GROUP BY gender\n",
       "```"
      ],
      "text/plain": [
       "<IPython.core.display.Markdown object>"
      ]
     },
     "metadata": {},
     "output_type": "display_data"
    },
    {
     "name": "stdout",
     "output_type": "stream",
     "text": [
      "函数运行报错如下:Object of type Decimal is not JSON serializable\n"
     ]
    },
    {
     "data": {
      "text/markdown": [
       "**即将执行高效debug，正在实例化Efficient Debug Agent...**"
      ],
      "text/plain": [
       "<IPython.core.display.Markdown object>"
      ]
     },
     "metadata": {},
     "output_type": "display_data"
    },
    {
     "data": {
      "text/markdown": [
       "**From Debug iQuery Agent:**"
      ],
      "text/plain": [
       "<IPython.core.display.Markdown object>"
      ]
     },
     "metadata": {},
     "output_type": "display_data"
    },
    {
     "data": {
      "text/markdown": [
       "你编写的代码报错了，请根据报错信息修改代码并重新执行。"
      ],
      "text/plain": [
       "<IPython.core.display.Markdown object>"
      ]
     },
     "metadata": {},
     "output_type": "display_data"
    },
    {
     "data": {
      "text/markdown": [
       "**From iQuery Agent:**"
      ],
      "text/plain": [
       "<IPython.core.display.Markdown object>"
      ]
     },
     "metadata": {},
     "output_type": "display_data"
    },
    {
     "name": "stdout",
     "output_type": "stream",
     "text": [
      "即将执行以下代码：\n"
     ]
    },
    {
     "data": {
      "text/markdown": [
       "```sql\n",
       "SELECT gender, COUNT(*) AS count, ROUND((COUNT(*) * 100.0 / (SELECT COUNT(*) FROM user_demographics)), 2) AS percentage FROM user_demographics GROUP BY gender\n",
       "```"
      ],
      "text/plain": [
       "<IPython.core.display.Markdown object>"
      ]
     },
     "metadata": {},
     "output_type": "display_data"
    },
    {
     "name": "stdout",
     "output_type": "stream",
     "text": [
      "函数运行报错如下:Object of type Decimal is not JSON serializable\n"
     ]
    },
    {
     "data": {
      "text/markdown": [
       "**即将执行高效debug，正在实例化Efficient Debug Agent...**"
      ],
      "text/plain": [
       "<IPython.core.display.Markdown object>"
      ]
     },
     "metadata": {},
     "output_type": "display_data"
    },
    {
     "data": {
      "text/markdown": [
       "**From Debug iQuery Agent:**"
      ],
      "text/plain": [
       "<IPython.core.display.Markdown object>"
      ]
     },
     "metadata": {},
     "output_type": "display_data"
    },
    {
     "data": {
      "text/markdown": [
       "你编写的代码报错了，请根据报错信息修改代码并重新执行。"
      ],
      "text/plain": [
       "<IPython.core.display.Markdown object>"
      ]
     },
     "metadata": {},
     "output_type": "display_data"
    },
    {
     "data": {
      "text/markdown": [
       "**From iQuery Agent:**"
      ],
      "text/plain": [
       "<IPython.core.display.Markdown object>"
      ]
     },
     "metadata": {},
     "output_type": "display_data"
    },
    {
     "name": "stdout",
     "output_type": "stream",
     "text": [
      "即将执行以下代码：\n"
     ]
    },
    {
     "data": {
      "text/markdown": [
       "```sql\n",
       "SELECT gender, COUNT(*) AS count, ROUND((COUNT(*) * 100 / CAST((SELECT COUNT(*) FROM user_demographics) AS DECIMAL(10,2))), 2) AS percentage FROM user_demographics GROUP BY gender\n",
       "```"
      ],
      "text/plain": [
       "<IPython.core.display.Markdown object>"
      ]
     },
     "metadata": {},
     "output_type": "display_data"
    },
    {
     "name": "stdout",
     "output_type": "stream",
     "text": [
      "函数运行报错如下:Object of type Decimal is not JSON serializable\n"
     ]
    },
    {
     "data": {
      "text/markdown": [
       "**即将执行高效debug，正在实例化Efficient Debug Agent...**"
      ],
      "text/plain": [
       "<IPython.core.display.Markdown object>"
      ]
     },
     "metadata": {},
     "output_type": "display_data"
    },
    {
     "data": {
      "text/markdown": [
       "**From Debug iQuery Agent:**"
      ],
      "text/plain": [
       "<IPython.core.display.Markdown object>"
      ]
     },
     "metadata": {},
     "output_type": "display_data"
    },
    {
     "data": {
      "text/markdown": [
       "你编写的代码报错了，请根据报错信息修改代码并重新执行。"
      ],
      "text/plain": [
       "<IPython.core.display.Markdown object>"
      ]
     },
     "metadata": {},
     "output_type": "display_data"
    },
    {
     "data": {
      "text/markdown": [
       "**From iQuery Agent:**"
      ],
      "text/plain": [
       "<IPython.core.display.Markdown object>"
      ]
     },
     "metadata": {},
     "output_type": "display_data"
    },
    {
     "name": "stdout",
     "output_type": "stream",
     "text": [
      "即将执行以下代码：\n"
     ]
    },
    {
     "data": {
      "text/markdown": [
       "```sql\n",
       "SELECT gender, COUNT(*) AS count, ROUND((COUNT(*) * 100.0 / (SELECT COUNT(*) FROM user_demographics)), 2) AS percentage FROM user_demographics GROUP BY gender\n",
       "```"
      ],
      "text/plain": [
       "<IPython.core.display.Markdown object>"
      ]
     },
     "metadata": {},
     "output_type": "display_data"
    },
    {
     "name": "stdout",
     "output_type": "stream",
     "text": [
      "函数运行报错如下:Object of type Decimal is not JSON serializable\n"
     ]
    },
    {
     "data": {
      "text/markdown": [
       "**即将执行高效debug，正在实例化Efficient Debug Agent...**"
      ],
      "text/plain": [
       "<IPython.core.display.Markdown object>"
      ]
     },
     "metadata": {},
     "output_type": "display_data"
    },
    {
     "data": {
      "text/markdown": [
       "**From Debug iQuery Agent:**"
      ],
      "text/plain": [
       "<IPython.core.display.Markdown object>"
      ]
     },
     "metadata": {},
     "output_type": "display_data"
    },
    {
     "data": {
      "text/markdown": [
       "你编写的代码报错了，请根据报错信息修改代码并重新执行。"
      ],
      "text/plain": [
       "<IPython.core.display.Markdown object>"
      ]
     },
     "metadata": {},
     "output_type": "display_data"
    },
    {
     "data": {
      "text/markdown": [
       "**From iQuery Agent:**"
      ],
      "text/plain": [
       "<IPython.core.display.Markdown object>"
      ]
     },
     "metadata": {},
     "output_type": "display_data"
    },
    {
     "name": "stdout",
     "output_type": "stream",
     "text": [
      "即将执行以下代码：\n"
     ]
    },
    {
     "data": {
      "text/markdown": [
       "```sql\n",
       "SELECT gender, COUNT(*) AS count, ROUND((COUNT(*) * 100.0 / (SELECT COUNT(*) FROM user_demographics)), 2) AS percentage FROM user_demographics GROUP BY gender\n",
       "```"
      ],
      "text/plain": [
       "<IPython.core.display.Markdown object>"
      ]
     },
     "metadata": {},
     "output_type": "display_data"
    },
    {
     "name": "stdout",
     "output_type": "stream",
     "text": [
      "函数运行报错如下:Object of type Decimal is not JSON serializable\n"
     ]
    },
    {
     "data": {
      "text/markdown": [
       "**即将执行高效debug，正在实例化Efficient Debug Agent...**"
      ],
      "text/plain": [
       "<IPython.core.display.Markdown object>"
      ]
     },
     "metadata": {},
     "output_type": "display_data"
    },
    {
     "data": {
      "text/markdown": [
       "**From Debug iQuery Agent:**"
      ],
      "text/plain": [
       "<IPython.core.display.Markdown object>"
      ]
     },
     "metadata": {},
     "output_type": "display_data"
    },
    {
     "data": {
      "text/markdown": [
       "你编写的代码报错了，请根据报错信息修改代码并重新执行。"
      ],
      "text/plain": [
       "<IPython.core.display.Markdown object>"
      ]
     },
     "metadata": {},
     "output_type": "display_data"
    },
    {
     "data": {
      "text/markdown": [
       "**From iQuery Agent:**"
      ],
      "text/plain": [
       "<IPython.core.display.Markdown object>"
      ]
     },
     "metadata": {},
     "output_type": "display_data"
    },
    {
     "name": "stdout",
     "output_type": "stream",
     "text": [
      "即将执行以下代码：\n"
     ]
    },
    {
     "data": {
      "text/markdown": [
       "```sql\n",
       "SELECT gender, COUNT(*) AS count, ROUND((COUNT(*) * 100.0 / (SELECT COUNT(*) FROM user_demographics)), 2) AS percentage FROM user_demographics GROUP BY gender\n",
       "```"
      ],
      "text/plain": [
       "<IPython.core.display.Markdown object>"
      ]
     },
     "metadata": {},
     "output_type": "display_data"
    },
    {
     "name": "stdout",
     "output_type": "stream",
     "text": [
      "函数运行报错如下:Object of type Decimal is not JSON serializable\n"
     ]
    },
    {
     "data": {
      "text/markdown": [
       "**即将执行高效debug，正在实例化Efficient Debug Agent...**"
      ],
      "text/plain": [
       "<IPython.core.display.Markdown object>"
      ]
     },
     "metadata": {},
     "output_type": "display_data"
    },
    {
     "data": {
      "text/markdown": [
       "**From Debug iQuery Agent:**"
      ],
      "text/plain": [
       "<IPython.core.display.Markdown object>"
      ]
     },
     "metadata": {},
     "output_type": "display_data"
    },
    {
     "data": {
      "text/markdown": [
       "你编写的代码报错了，请根据报错信息修改代码并重新执行。"
      ],
      "text/plain": [
       "<IPython.core.display.Markdown object>"
      ]
     },
     "metadata": {},
     "output_type": "display_data"
    },
    {
     "data": {
      "text/markdown": [
       "**From iQuery Agent:**"
      ],
      "text/plain": [
       "<IPython.core.display.Markdown object>"
      ]
     },
     "metadata": {},
     "output_type": "display_data"
    },
    {
     "name": "stdout",
     "output_type": "stream",
     "text": [
      "即将执行以下代码：\n"
     ]
    },
    {
     "data": {
      "text/markdown": [
       "```sql\n",
       "SELECT gender, COUNT(*) AS count, ROUND(CAST((COUNT(*) * 100) AS DECIMAL(8,2)) / (SELECT COUNT(*) FROM user_demographics), 2) AS percentage FROM user_demographics GROUP BY gender\n",
       "```"
      ],
      "text/plain": [
       "<IPython.core.display.Markdown object>"
      ]
     },
     "metadata": {},
     "output_type": "display_data"
    },
    {
     "name": "stdout",
     "output_type": "stream",
     "text": [
      "函数运行报错如下:Object of type Decimal is not JSON serializable\n"
     ]
    },
    {
     "data": {
      "text/markdown": [
       "**即将执行高效debug，正在实例化Efficient Debug Agent...**"
      ],
      "text/plain": [
       "<IPython.core.display.Markdown object>"
      ]
     },
     "metadata": {},
     "output_type": "display_data"
    },
    {
     "data": {
      "text/markdown": [
       "**From Debug iQuery Agent:**"
      ],
      "text/plain": [
       "<IPython.core.display.Markdown object>"
      ]
     },
     "metadata": {},
     "output_type": "display_data"
    },
    {
     "data": {
      "text/markdown": [
       "你编写的代码报错了，请根据报错信息修改代码并重新执行。"
      ],
      "text/plain": [
       "<IPython.core.display.Markdown object>"
      ]
     },
     "metadata": {},
     "output_type": "display_data"
    },
    {
     "data": {
      "text/markdown": [
       "**From iQuery Agent:**"
      ],
      "text/plain": [
       "<IPython.core.display.Markdown object>"
      ]
     },
     "metadata": {},
     "output_type": "display_data"
    },
    {
     "name": "stdout",
     "output_type": "stream",
     "text": [
      "即将执行以下代码：\n"
     ]
    },
    {
     "data": {
      "text/markdown": [
       "```sql\n",
       "SELECT gender, COUNT(*) AS count, ROUND(CAST((COUNT(*) * 100) AS DECIMAL(8,2)) / (SELECT COUNT(*) FROM user_demographics), 2) AS percentage FROM user_demographics GROUP BY gender\n",
       "```"
      ],
      "text/plain": [
       "<IPython.core.display.Markdown object>"
      ]
     },
     "metadata": {},
     "output_type": "display_data"
    },
    {
     "name": "stdout",
     "output_type": "stream",
     "text": [
      "函数运行报错如下:Object of type Decimal is not JSON serializable\n"
     ]
    },
    {
     "data": {
      "text/markdown": [
       "**即将执行高效debug，正在实例化Efficient Debug Agent...**"
      ],
      "text/plain": [
       "<IPython.core.display.Markdown object>"
      ]
     },
     "metadata": {},
     "output_type": "display_data"
    },
    {
     "data": {
      "text/markdown": [
       "**From Debug iQuery Agent:**"
      ],
      "text/plain": [
       "<IPython.core.display.Markdown object>"
      ]
     },
     "metadata": {},
     "output_type": "display_data"
    },
    {
     "data": {
      "text/markdown": [
       "你编写的代码报错了，请根据报错信息修改代码并重新执行。"
      ],
      "text/plain": [
       "<IPython.core.display.Markdown object>"
      ]
     },
     "metadata": {},
     "output_type": "display_data"
    },
    {
     "data": {
      "text/markdown": [
       "**From iQuery Agent:**"
      ],
      "text/plain": [
       "<IPython.core.display.Markdown object>"
      ]
     },
     "metadata": {},
     "output_type": "display_data"
    },
    {
     "name": "stdout",
     "output_type": "stream",
     "text": [
      "即将执行以下代码：\n"
     ]
    },
    {
     "data": {
      "text/markdown": [
       "```sql\n",
       "SELECT gender, COUNT(*) AS count, ROUND(COUNT(*) / (SELECT COUNT(*) FROM user_demographics) * 100, 2) AS percentage FROM user_demographics GROUP BY gender\n",
       "```"
      ],
      "text/plain": [
       "<IPython.core.display.Markdown object>"
      ]
     },
     "metadata": {},
     "output_type": "display_data"
    },
    {
     "name": "stdout",
     "output_type": "stream",
     "text": [
      "函数运行报错如下:Object of type Decimal is not JSON serializable\n"
     ]
    },
    {
     "data": {
      "text/markdown": [
       "**即将执行高效debug，正在实例化Efficient Debug Agent...**"
      ],
      "text/plain": [
       "<IPython.core.display.Markdown object>"
      ]
     },
     "metadata": {},
     "output_type": "display_data"
    },
    {
     "data": {
      "text/markdown": [
       "**From Debug iQuery Agent:**"
      ],
      "text/plain": [
       "<IPython.core.display.Markdown object>"
      ]
     },
     "metadata": {},
     "output_type": "display_data"
    },
    {
     "data": {
      "text/markdown": [
       "你编写的代码报错了，请根据报错信息修改代码并重新执行。"
      ],
      "text/plain": [
       "<IPython.core.display.Markdown object>"
      ]
     },
     "metadata": {},
     "output_type": "display_data"
    },
    {
     "data": {
      "text/markdown": [
       "**From iQuery Agent:**"
      ],
      "text/plain": [
       "<IPython.core.display.Markdown object>"
      ]
     },
     "metadata": {},
     "output_type": "display_data"
    },
    {
     "name": "stdout",
     "output_type": "stream",
     "text": [
      "即将执行以下代码：\n"
     ]
    },
    {
     "data": {
      "text/markdown": [
       "```sql\n",
       "SELECT gender, COUNT(*) AS count, ROUND(CAST(COUNT(*) AS DECIMAL) / (SELECT COUNT(*) FROM user_demographics) * 100, 2) AS percentage FROM user_demographics GROUP BY gender\n",
       "```"
      ],
      "text/plain": [
       "<IPython.core.display.Markdown object>"
      ]
     },
     "metadata": {},
     "output_type": "display_data"
    },
    {
     "name": "stdout",
     "output_type": "stream",
     "text": [
      "函数运行报错如下:Object of type Decimal is not JSON serializable\n"
     ]
    },
    {
     "data": {
      "text/markdown": [
       "**即将执行高效debug，正在实例化Efficient Debug Agent...**"
      ],
      "text/plain": [
       "<IPython.core.display.Markdown object>"
      ]
     },
     "metadata": {},
     "output_type": "display_data"
    },
    {
     "data": {
      "text/markdown": [
       "**From Debug iQuery Agent:**"
      ],
      "text/plain": [
       "<IPython.core.display.Markdown object>"
      ]
     },
     "metadata": {},
     "output_type": "display_data"
    },
    {
     "data": {
      "text/markdown": [
       "你编写的代码报错了，请根据报错信息修改代码并重新执行。"
      ],
      "text/plain": [
       "<IPython.core.display.Markdown object>"
      ]
     },
     "metadata": {},
     "output_type": "display_data"
    },
    {
     "data": {
      "text/markdown": [
       "**From iQuery Agent:**"
      ],
      "text/plain": [
       "<IPython.core.display.Markdown object>"
      ]
     },
     "metadata": {},
     "output_type": "display_data"
    },
    {
     "name": "stdout",
     "output_type": "stream",
     "text": [
      "即将执行以下代码：\n"
     ]
    },
    {
     "data": {
      "text/markdown": [
       "```sql\n",
       "SELECT gender, COUNT(*) AS count, ROUND(CAST(COUNT(*) AS DECIMAL(10,2)) / (SELECT COUNT(*) FROM user_demographics) * 100, 2) AS percentage FROM user_demographics GROUP BY gender\n",
       "```"
      ],
      "text/plain": [
       "<IPython.core.display.Markdown object>"
      ]
     },
     "metadata": {},
     "output_type": "display_data"
    },
    {
     "name": "stdout",
     "output_type": "stream",
     "text": [
      "函数运行报错如下:Object of type Decimal is not JSON serializable\n"
     ]
    },
    {
     "data": {
      "text/markdown": [
       "**即将执行高效debug，正在实例化Efficient Debug Agent...**"
      ],
      "text/plain": [
       "<IPython.core.display.Markdown object>"
      ]
     },
     "metadata": {},
     "output_type": "display_data"
    },
    {
     "data": {
      "text/markdown": [
       "**From Debug iQuery Agent:**"
      ],
      "text/plain": [
       "<IPython.core.display.Markdown object>"
      ]
     },
     "metadata": {},
     "output_type": "display_data"
    },
    {
     "data": {
      "text/markdown": [
       "你编写的代码报错了，请根据报错信息修改代码并重新执行。"
      ],
      "text/plain": [
       "<IPython.core.display.Markdown object>"
      ]
     },
     "metadata": {},
     "output_type": "display_data"
    },
    {
     "data": {
      "text/markdown": [
       "**From iQuery Agent:**"
      ],
      "text/plain": [
       "<IPython.core.display.Markdown object>"
      ]
     },
     "metadata": {},
     "output_type": "display_data"
    },
    {
     "name": "stdout",
     "output_type": "stream",
     "text": [
      "即将执行以下代码：\n"
     ]
    },
    {
     "data": {
      "text/markdown": [
       "```sql\n",
       "SELECT gender, COUNT(*) AS count, ROUND(CAST(COUNT(*) AS DECIMAL(10,2)) / (SELECT COUNT(*) FROM user_demographics) * 100, 2) AS percentage FROM user_demographics GROUP BY gender\n",
       "```"
      ],
      "text/plain": [
       "<IPython.core.display.Markdown object>"
      ]
     },
     "metadata": {},
     "output_type": "display_data"
    },
    {
     "name": "stdout",
     "output_type": "stream",
     "text": [
      "函数运行报错如下:Object of type Decimal is not JSON serializable\n"
     ]
    },
    {
     "data": {
      "text/markdown": [
       "**即将执行高效debug，正在实例化Efficient Debug Agent...**"
      ],
      "text/plain": [
       "<IPython.core.display.Markdown object>"
      ]
     },
     "metadata": {},
     "output_type": "display_data"
    },
    {
     "data": {
      "text/markdown": [
       "**From Debug iQuery Agent:**"
      ],
      "text/plain": [
       "<IPython.core.display.Markdown object>"
      ]
     },
     "metadata": {},
     "output_type": "display_data"
    },
    {
     "data": {
      "text/markdown": [
       "你编写的代码报错了，请根据报错信息修改代码并重新执行。"
      ],
      "text/plain": [
       "<IPython.core.display.Markdown object>"
      ]
     },
     "metadata": {},
     "output_type": "display_data"
    },
    {
     "data": {
      "text/markdown": [
       "**From iQuery Agent:**"
      ],
      "text/plain": [
       "<IPython.core.display.Markdown object>"
      ]
     },
     "metadata": {},
     "output_type": "display_data"
    },
    {
     "name": "stdout",
     "output_type": "stream",
     "text": [
      "即将执行以下代码：\n"
     ]
    },
    {
     "data": {
      "text/markdown": [
       "```sql\n",
       "SELECT gender, COUNT(*) AS count, ROUND(COUNT(*) / (SELECT COUNT(*) FROM user_demographics) * 100, 2) AS percentage FROM user_demographics GROUP BY gender\n",
       "```"
      ],
      "text/plain": [
       "<IPython.core.display.Markdown object>"
      ]
     },
     "metadata": {},
     "output_type": "display_data"
    },
    {
     "name": "stdout",
     "output_type": "stream",
     "text": [
      "函数运行报错如下:Object of type Decimal is not JSON serializable\n"
     ]
    },
    {
     "data": {
      "text/markdown": [
       "**即将执行高效debug，正在实例化Efficient Debug Agent...**"
      ],
      "text/plain": [
       "<IPython.core.display.Markdown object>"
      ]
     },
     "metadata": {},
     "output_type": "display_data"
    },
    {
     "data": {
      "text/markdown": [
       "**From Debug iQuery Agent:**"
      ],
      "text/plain": [
       "<IPython.core.display.Markdown object>"
      ]
     },
     "metadata": {},
     "output_type": "display_data"
    },
    {
     "data": {
      "text/markdown": [
       "你编写的代码报错了，请根据报错信息修改代码并重新执行。"
      ],
      "text/plain": [
       "<IPython.core.display.Markdown object>"
      ]
     },
     "metadata": {},
     "output_type": "display_data"
    },
    {
     "data": {
      "text/markdown": [
       "**From iQuery Agent:**"
      ],
      "text/plain": [
       "<IPython.core.display.Markdown object>"
      ]
     },
     "metadata": {},
     "output_type": "display_data"
    },
    {
     "name": "stdout",
     "output_type": "stream",
     "text": [
      "即将执行以下代码：\n"
     ]
    },
    {
     "data": {
      "text/markdown": [
       "```sql\n",
       "SELECT gender, COUNT(*) AS count, ROUND(CAST(COUNT(*) AS DECIMAL(10,2)) / (SELECT COUNT(*) FROM user_demographics) * 100, 2) AS percentage FROM user_demographics GROUP BY gender\n",
       "```"
      ],
      "text/plain": [
       "<IPython.core.display.Markdown object>"
      ]
     },
     "metadata": {},
     "output_type": "display_data"
    },
    {
     "name": "stdout",
     "output_type": "stream",
     "text": [
      "函数运行报错如下:Object of type Decimal is not JSON serializable\n"
     ]
    },
    {
     "data": {
      "text/markdown": [
       "**即将执行高效debug，正在实例化Efficient Debug Agent...**"
      ],
      "text/plain": [
       "<IPython.core.display.Markdown object>"
      ]
     },
     "metadata": {},
     "output_type": "display_data"
    },
    {
     "data": {
      "text/markdown": [
       "**From Debug iQuery Agent:**"
      ],
      "text/plain": [
       "<IPython.core.display.Markdown object>"
      ]
     },
     "metadata": {},
     "output_type": "display_data"
    },
    {
     "data": {
      "text/markdown": [
       "你编写的代码报错了，请根据报错信息修改代码并重新执行。"
      ],
      "text/plain": [
       "<IPython.core.display.Markdown object>"
      ]
     },
     "metadata": {},
     "output_type": "display_data"
    },
    {
     "data": {
      "text/markdown": [
       "**From iQuery Agent:**"
      ],
      "text/plain": [
       "<IPython.core.display.Markdown object>"
      ]
     },
     "metadata": {},
     "output_type": "display_data"
    },
    {
     "name": "stdout",
     "output_type": "stream",
     "text": [
      "即将执行以下代码：\n"
     ]
    },
    {
     "data": {
      "text/markdown": [
       "```sql\n",
       "SELECT gender, COUNT(*) AS count, ROUND((COUNT(*) / (SELECT COUNT(*) FROM user_demographics)) * 100, 2) AS percentage FROM user_demographics GROUP BY gender\n",
       "```"
      ],
      "text/plain": [
       "<IPython.core.display.Markdown object>"
      ]
     },
     "metadata": {},
     "output_type": "display_data"
    },
    {
     "name": "stdout",
     "output_type": "stream",
     "text": [
      "函数运行报错如下:Object of type Decimal is not JSON serializable\n"
     ]
    },
    {
     "data": {
      "text/markdown": [
       "**即将执行高效debug，正在实例化Efficient Debug Agent...**"
      ],
      "text/plain": [
       "<IPython.core.display.Markdown object>"
      ]
     },
     "metadata": {},
     "output_type": "display_data"
    },
    {
     "data": {
      "text/markdown": [
       "**From Debug iQuery Agent:**"
      ],
      "text/plain": [
       "<IPython.core.display.Markdown object>"
      ]
     },
     "metadata": {},
     "output_type": "display_data"
    },
    {
     "data": {
      "text/markdown": [
       "你编写的代码报错了，请根据报错信息修改代码并重新执行。"
      ],
      "text/plain": [
       "<IPython.core.display.Markdown object>"
      ]
     },
     "metadata": {},
     "output_type": "display_data"
    },
    {
     "data": {
      "text/markdown": [
       "**From iQuery Agent:**"
      ],
      "text/plain": [
       "<IPython.core.display.Markdown object>"
      ]
     },
     "metadata": {},
     "output_type": "display_data"
    },
    {
     "name": "stdout",
     "output_type": "stream",
     "text": [
      "即将执行以下代码：\n"
     ]
    },
    {
     "data": {
      "text/markdown": [
       "```sql\n",
       "SELECT gender, COUNT(*) AS count, ROUND((COUNT(*) * 100.0) / (SELECT COUNT(*) FROM user_demographics), 2) AS percentage FROM user_demographics GROUP BY gender\n",
       "```"
      ],
      "text/plain": [
       "<IPython.core.display.Markdown object>"
      ]
     },
     "metadata": {},
     "output_type": "display_data"
    },
    {
     "name": "stdout",
     "output_type": "stream",
     "text": [
      "函数运行报错如下:Object of type Decimal is not JSON serializable\n"
     ]
    },
    {
     "data": {
      "text/markdown": [
       "**即将执行高效debug，正在实例化Efficient Debug Agent...**"
      ],
      "text/plain": [
       "<IPython.core.display.Markdown object>"
      ]
     },
     "metadata": {},
     "output_type": "display_data"
    },
    {
     "data": {
      "text/markdown": [
       "**From Debug iQuery Agent:**"
      ],
      "text/plain": [
       "<IPython.core.display.Markdown object>"
      ]
     },
     "metadata": {},
     "output_type": "display_data"
    },
    {
     "data": {
      "text/markdown": [
       "你编写的代码报错了，请根据报错信息修改代码并重新执行。"
      ],
      "text/plain": [
       "<IPython.core.display.Markdown object>"
      ]
     },
     "metadata": {},
     "output_type": "display_data"
    },
    {
     "data": {
      "text/markdown": [
       "**From iQuery Agent:**"
      ],
      "text/plain": [
       "<IPython.core.display.Markdown object>"
      ]
     },
     "metadata": {},
     "output_type": "display_data"
    },
    {
     "name": "stdout",
     "output_type": "stream",
     "text": [
      "即将执行以下代码：\n"
     ]
    },
    {
     "data": {
      "text/markdown": [
       "```sql\n",
       "SELECT gender, COUNT(*) AS count, ROUND(CAST((COUNT(*) * 100) AS DECIMAL(8,2)) / (SELECT COUNT(*) FROM user_demographics), 2) AS percentage FROM user_demographics GROUP BY gender\n",
       "```"
      ],
      "text/plain": [
       "<IPython.core.display.Markdown object>"
      ]
     },
     "metadata": {},
     "output_type": "display_data"
    },
    {
     "name": "stdout",
     "output_type": "stream",
     "text": [
      "函数运行报错如下:Object of type Decimal is not JSON serializable\n"
     ]
    },
    {
     "data": {
      "text/markdown": [
       "**即将执行高效debug，正在实例化Efficient Debug Agent...**"
      ],
      "text/plain": [
       "<IPython.core.display.Markdown object>"
      ]
     },
     "metadata": {},
     "output_type": "display_data"
    },
    {
     "data": {
      "text/markdown": [
       "**From Debug iQuery Agent:**"
      ],
      "text/plain": [
       "<IPython.core.display.Markdown object>"
      ]
     },
     "metadata": {},
     "output_type": "display_data"
    },
    {
     "data": {
      "text/markdown": [
       "你编写的代码报错了，请根据报错信息修改代码并重新执行。"
      ],
      "text/plain": [
       "<IPython.core.display.Markdown object>"
      ]
     },
     "metadata": {},
     "output_type": "display_data"
    },
    {
     "data": {
      "text/markdown": [
       "**From iQuery Agent:**"
      ],
      "text/plain": [
       "<IPython.core.display.Markdown object>"
      ]
     },
     "metadata": {},
     "output_type": "display_data"
    },
    {
     "name": "stdout",
     "output_type": "stream",
     "text": [
      "即将执行以下代码：\n"
     ]
    },
    {
     "data": {
      "text/markdown": [
       "```sql\n",
       "SELECT gender, COUNT(*) AS count, ROUND(CAST((COUNT(*) * 100) AS DECIMAL(8,2)) / (SELECT COUNT(*) FROM user_demographics), 2) AS percentage FROM user_demographics GROUP BY gender\n",
       "```"
      ],
      "text/plain": [
       "<IPython.core.display.Markdown object>"
      ]
     },
     "metadata": {},
     "output_type": "display_data"
    },
    {
     "name": "stdout",
     "output_type": "stream",
     "text": [
      "函数运行报错如下:Object of type Decimal is not JSON serializable\n"
     ]
    },
    {
     "data": {
      "text/markdown": [
       "**即将执行高效debug，正在实例化Efficient Debug Agent...**"
      ],
      "text/plain": [
       "<IPython.core.display.Markdown object>"
      ]
     },
     "metadata": {},
     "output_type": "display_data"
    },
    {
     "data": {
      "text/markdown": [
       "**From Debug iQuery Agent:**"
      ],
      "text/plain": [
       "<IPython.core.display.Markdown object>"
      ]
     },
     "metadata": {},
     "output_type": "display_data"
    },
    {
     "data": {
      "text/markdown": [
       "你编写的代码报错了，请根据报错信息修改代码并重新执行。"
      ],
      "text/plain": [
       "<IPython.core.display.Markdown object>"
      ]
     },
     "metadata": {},
     "output_type": "display_data"
    },
    {
     "data": {
      "text/markdown": [
       "**From iQuery Agent:**"
      ],
      "text/plain": [
       "<IPython.core.display.Markdown object>"
      ]
     },
     "metadata": {},
     "output_type": "display_data"
    },
    {
     "name": "stdout",
     "output_type": "stream",
     "text": [
      "即将执行以下代码：\n"
     ]
    },
    {
     "data": {
      "text/markdown": [
       "```sql\n",
       "SELECT gender, COUNT(*) AS count, ROUND((COUNT(*) * 100.0) / (SELECT COUNT(*) FROM user_demographics), 2) AS percentage FROM user_demographics GROUP BY gender\n",
       "```"
      ],
      "text/plain": [
       "<IPython.core.display.Markdown object>"
      ]
     },
     "metadata": {},
     "output_type": "display_data"
    },
    {
     "name": "stdout",
     "output_type": "stream",
     "text": [
      "函数运行报错如下:Object of type Decimal is not JSON serializable\n"
     ]
    },
    {
     "data": {
      "text/markdown": [
       "**即将执行高效debug，正在实例化Efficient Debug Agent...**"
      ],
      "text/plain": [
       "<IPython.core.display.Markdown object>"
      ]
     },
     "metadata": {},
     "output_type": "display_data"
    },
    {
     "data": {
      "text/markdown": [
       "**From Debug iQuery Agent:**"
      ],
      "text/plain": [
       "<IPython.core.display.Markdown object>"
      ]
     },
     "metadata": {},
     "output_type": "display_data"
    },
    {
     "data": {
      "text/markdown": [
       "你编写的代码报错了，请根据报错信息修改代码并重新执行。"
      ],
      "text/plain": [
       "<IPython.core.display.Markdown object>"
      ]
     },
     "metadata": {},
     "output_type": "display_data"
    },
    {
     "data": {
      "text/markdown": [
       "**From iQuery Agent:**"
      ],
      "text/plain": [
       "<IPython.core.display.Markdown object>"
      ]
     },
     "metadata": {},
     "output_type": "display_data"
    },
    {
     "ename": "KeyboardInterrupt",
     "evalue": "",
     "output_type": "error",
     "traceback": [
      "\u001b[0;31m---------------------------------------------------------------------------\u001b[0m",
      "\u001b[0;31mKeyboardInterrupt\u001b[0m                         Traceback (most recent call last)",
      "Cell \u001b[0;32mIn[543], line 1\u001b[0m\n\u001b[0;32m----> 1\u001b[0m \u001b[43miquery\u001b[49m\u001b[38;5;241;43m.\u001b[39;49m\u001b[43mchat\u001b[49m\u001b[43m(\u001b[49m\u001b[43m)\u001b[49m\n",
      "Cell \u001b[0;32mIn[534], line 78\u001b[0m, in \u001b[0;36miQueryAgent.chat\u001b[0;34m(self, question)\u001b[0m\n\u001b[1;32m     76\u001b[0m \u001b[38;5;28;01melse\u001b[39;00m:\n\u001b[1;32m     77\u001b[0m     \u001b[38;5;28;01mwhile\u001b[39;00m \u001b[38;5;28;01mTrue\u001b[39;00m:\n\u001b[0;32m---> 78\u001b[0m         \u001b[38;5;28mself\u001b[39m\u001b[38;5;241m.\u001b[39mmessages \u001b[38;5;241m=\u001b[39m \u001b[43mone_chat_response\u001b[49m\u001b[43m(\u001b[49m\u001b[43mmodel\u001b[49m\u001b[38;5;241;43m=\u001b[39;49m\u001b[38;5;28;43mself\u001b[39;49m\u001b[38;5;241;43m.\u001b[39;49m\u001b[43mmodel\u001b[49m\u001b[43m,\u001b[49m\n\u001b[1;32m     79\u001b[0m \u001b[43m                                          \u001b[49m\u001b[43mmessages\u001b[49m\u001b[38;5;241;43m=\u001b[39;49m\u001b[38;5;28;43mself\u001b[39;49m\u001b[38;5;241;43m.\u001b[39;49m\u001b[43mmessages\u001b[49m\u001b[43m,\u001b[49m\n\u001b[1;32m     80\u001b[0m \u001b[43m                                          \u001b[49m\u001b[43mavailable_functions\u001b[49m\u001b[38;5;241;43m=\u001b[39;49m\u001b[38;5;28;43mself\u001b[39;49m\u001b[38;5;241;43m.\u001b[39;49m\u001b[43mavailable_functions\u001b[49m\u001b[43m,\u001b[49m\n\u001b[1;32m     81\u001b[0m \u001b[43m                                          \u001b[49m\u001b[43mis_developer_mode\u001b[49m\u001b[38;5;241;43m=\u001b[39;49m\u001b[38;5;28;43mself\u001b[39;49m\u001b[38;5;241;43m.\u001b[39;49m\u001b[43mis_developer_mode\u001b[49m\u001b[43m,\u001b[49m\n\u001b[1;32m     82\u001b[0m \u001b[43m                                          \u001b[49m\u001b[43mis_expert_mode\u001b[49m\u001b[38;5;241;43m=\u001b[39;49m\u001b[38;5;28;43mself\u001b[39;49m\u001b[38;5;241;43m.\u001b[39;49m\u001b[43mis_expert_mode\u001b[49m\u001b[43m)\u001b[49m\n\u001b[1;32m     84\u001b[0m         user_input \u001b[38;5;241m=\u001b[39m \u001b[38;5;28minput\u001b[39m(\u001b[38;5;124m\"\u001b[39m\u001b[38;5;124m您还有其他问题吗？(输入退出以结束对话): \u001b[39m\u001b[38;5;124m\"\u001b[39m)\n\u001b[1;32m     85\u001b[0m         \u001b[38;5;28;01mif\u001b[39;00m user_input \u001b[38;5;241m==\u001b[39m \u001b[38;5;124m\"\u001b[39m\u001b[38;5;124m退出\u001b[39m\u001b[38;5;124m\"\u001b[39m:\n",
      "Cell \u001b[0;32mIn[494], line 89\u001b[0m, in \u001b[0;36mone_chat_response\u001b[0;34m(model, messages, available_functions, is_developer_mode, is_expert_mode, delete_some_messages, is_task_decomposition)\u001b[0m\n\u001b[1;32m     86\u001b[0m     function_call_message \u001b[38;5;241m=\u001b[39m response_message \n\u001b[1;32m     87\u001b[0m     \u001b[38;5;66;03m# 将function_call_message带入代码审查和运行函数is_code_response_valid\u001b[39;00m\n\u001b[1;32m     88\u001b[0m     \u001b[38;5;66;03m# 并最终获得外部函数运行之后的问答结果\u001b[39;00m\n\u001b[0;32m---> 89\u001b[0m     messages \u001b[38;5;241m=\u001b[39m \u001b[43mhandle_code_response\u001b[49m\u001b[43m(\u001b[49m\u001b[43mmodel\u001b[49m\u001b[38;5;241;43m=\u001b[39;49m\u001b[43mmodel\u001b[49m\u001b[43m,\u001b[49m\u001b[43m \u001b[49m\n\u001b[1;32m     90\u001b[0m \u001b[43m                                      \u001b[49m\u001b[43mmessages\u001b[49m\u001b[38;5;241;43m=\u001b[39;49m\u001b[43mmessages\u001b[49m\u001b[43m,\u001b[49m\u001b[43m \u001b[49m\n\u001b[1;32m     91\u001b[0m \u001b[43m                                      \u001b[49m\u001b[43mfunction_call_message\u001b[49m\u001b[38;5;241;43m=\u001b[39;49m\u001b[43mfunction_call_message\u001b[49m\u001b[43m,\u001b[49m\n\u001b[1;32m     92\u001b[0m \u001b[43m                                      \u001b[49m\u001b[43mavailable_functions\u001b[49m\u001b[38;5;241;43m=\u001b[39;49m\u001b[43mavailable_functions\u001b[49m\u001b[43m,\u001b[49m\n\u001b[1;32m     93\u001b[0m \u001b[43m                                      \u001b[49m\u001b[43mis_developer_mode\u001b[49m\u001b[38;5;241;43m=\u001b[39;49m\u001b[43mis_developer_mode\u001b[49m\u001b[43m,\u001b[49m\n\u001b[1;32m     94\u001b[0m \u001b[43m                                      \u001b[49m\u001b[43mis_expert_mode\u001b[49m\u001b[38;5;241;43m=\u001b[39;49m\u001b[43mis_expert_mode\u001b[49m\u001b[43m,\u001b[49m\u001b[43m \u001b[49m\n\u001b[1;32m     95\u001b[0m \u001b[43m                                      \u001b[49m\u001b[43mdelete_some_messages\u001b[49m\u001b[38;5;241;43m=\u001b[39;49m\u001b[43mdelete_some_messages\u001b[49m\u001b[43m)\u001b[49m\n\u001b[1;32m     97\u001b[0m \u001b[38;5;28;01mreturn\u001b[39;00m messages\n",
      "Cell \u001b[0;32mIn[507], line 107\u001b[0m, in \u001b[0;36mhandle_code_response\u001b[0;34m(model, messages, function_call_message, available_functions, is_developer_mode, is_expert_mode, delete_some_messages)\u001b[0m\n\u001b[1;32m    103\u001b[0m function_response_message \u001b[38;5;241m=\u001b[39m function_to_call(available_functions\u001b[38;5;241m=\u001b[39mavailable_functions, \n\u001b[1;32m    104\u001b[0m                                              function_call_message\u001b[38;5;241m=\u001b[39mfunction_call_message)  \n\u001b[1;32m    106\u001b[0m \u001b[38;5;66;03m# 将function_response_message带入check_get_final_function_response进行审查\u001b[39;00m\n\u001b[0;32m--> 107\u001b[0m messages \u001b[38;5;241m=\u001b[39m \u001b[43mcheck_function_response\u001b[49m\u001b[43m(\u001b[49m\u001b[43mmodel\u001b[49m\u001b[38;5;241;43m=\u001b[39;49m\u001b[43mmodel\u001b[49m\u001b[43m,\u001b[49m\u001b[43m \u001b[49m\n\u001b[1;32m    108\u001b[0m \u001b[43m                                             \u001b[49m\u001b[43mmessages\u001b[49m\u001b[38;5;241;43m=\u001b[39;49m\u001b[43mmessages\u001b[49m\u001b[43m,\u001b[49m\u001b[43m \u001b[49m\n\u001b[1;32m    109\u001b[0m \u001b[43m                                             \u001b[49m\u001b[43mfunction_call_message\u001b[49m\u001b[38;5;241;43m=\u001b[39;49m\u001b[43mfunction_call_message\u001b[49m\u001b[43m,\u001b[49m\n\u001b[1;32m    110\u001b[0m \u001b[43m                                             \u001b[49m\u001b[43mfunction_response_message\u001b[49m\u001b[38;5;241;43m=\u001b[39;49m\u001b[43mfunction_response_message\u001b[49m\u001b[43m,\u001b[49m\n\u001b[1;32m    111\u001b[0m \u001b[43m                                             \u001b[49m\u001b[43mavailable_functions\u001b[49m\u001b[38;5;241;43m=\u001b[39;49m\u001b[43mavailable_functions\u001b[49m\u001b[43m,\u001b[49m\n\u001b[1;32m    112\u001b[0m \u001b[43m                                             \u001b[49m\u001b[43mis_developer_mode\u001b[49m\u001b[38;5;241;43m=\u001b[39;49m\u001b[43mis_developer_mode\u001b[49m\u001b[43m,\u001b[49m\n\u001b[1;32m    113\u001b[0m \u001b[43m                                             \u001b[49m\u001b[43mis_expert_mode\u001b[49m\u001b[38;5;241;43m=\u001b[39;49m\u001b[43mis_expert_mode\u001b[49m\u001b[43m,\u001b[49m\u001b[43m \u001b[49m\n\u001b[1;32m    114\u001b[0m \u001b[43m                                             \u001b[49m\u001b[43mdelete_some_messages\u001b[49m\u001b[38;5;241;43m=\u001b[39;49m\u001b[43mdelete_some_messages\u001b[49m\u001b[43m)\u001b[49m\n\u001b[1;32m    116\u001b[0m \u001b[38;5;28;01mreturn\u001b[39;00m messages\n",
      "Cell \u001b[0;32mIn[470], line 74\u001b[0m, in \u001b[0;36mcheck_function_response\u001b[0;34m(model, messages, function_call_message, function_response_message, available_functions, is_developer_mode, is_expert_mode, delete_some_messages)\u001b[0m\n\u001b[1;32m     71\u001b[0m         \u001b[38;5;66;03m# 再次调用get_chat_response，在当前debug的prompt下，get_chat_response会返回修改意见或修改之后的代码\u001b[39;00m\n\u001b[1;32m     72\u001b[0m         \u001b[38;5;66;03m# 打印提示信息\u001b[39;00m\n\u001b[1;32m     73\u001b[0m         display(Markdown(\u001b[38;5;124m\"\u001b[39m\u001b[38;5;124m**From iQuery Agent:**\u001b[39m\u001b[38;5;124m\"\u001b[39m))\n\u001b[0;32m---> 74\u001b[0m         msg_debug \u001b[38;5;241m=\u001b[39m \u001b[43mone_chat_response\u001b[49m\u001b[43m(\u001b[49m\u001b[43mmodel\u001b[49m\u001b[38;5;241;43m=\u001b[39;49m\u001b[43mmodel\u001b[49m\u001b[43m,\u001b[49m\u001b[43m \u001b[49m\n\u001b[1;32m     75\u001b[0m \u001b[43m                                      \u001b[49m\u001b[43mmessages\u001b[49m\u001b[38;5;241;43m=\u001b[39;49m\u001b[43mmsg_debug\u001b[49m\u001b[43m,\u001b[49m\u001b[43m \u001b[49m\n\u001b[1;32m     76\u001b[0m \u001b[43m                                      \u001b[49m\u001b[43mavailable_functions\u001b[49m\u001b[38;5;241;43m=\u001b[39;49m\u001b[43mavailable_functions\u001b[49m\u001b[43m,\u001b[49m\n\u001b[1;32m     77\u001b[0m \u001b[43m                                      \u001b[49m\u001b[43mis_developer_mode\u001b[49m\u001b[38;5;241;43m=\u001b[39;49m\u001b[43mis_developer_mode\u001b[49m\u001b[43m,\u001b[49m\n\u001b[1;32m     78\u001b[0m \u001b[43m                                      \u001b[49m\u001b[43mis_expert_mode\u001b[49m\u001b[38;5;241;43m=\u001b[39;49m\u001b[38;5;28;43;01mFalse\u001b[39;49;00m\u001b[43m,\u001b[49m\u001b[43m \u001b[49m\n\u001b[1;32m     79\u001b[0m \u001b[43m                                      \u001b[49m\u001b[43mdelete_some_messages\u001b[49m\u001b[38;5;241;43m=\u001b[39;49m\u001b[43mdelete_some_messages\u001b[49m\u001b[43m)\u001b[49m\n\u001b[1;32m     81\u001b[0m     messages \u001b[38;5;241m=\u001b[39m msg_debug\u001b[38;5;241m.\u001b[39mcopy()     \n\u001b[1;32m     83\u001b[0m \u001b[38;5;66;03m# 若function message不包含报错信息    \u001b[39;00m\n\u001b[1;32m     84\u001b[0m \u001b[38;5;66;03m# 需要将function message传递给模型\u001b[39;00m\n\u001b[1;32m     85\u001b[0m \u001b[38;5;28;01melse\u001b[39;00m:\n",
      "Cell \u001b[0;32mIn[494], line 89\u001b[0m, in \u001b[0;36mone_chat_response\u001b[0;34m(model, messages, available_functions, is_developer_mode, is_expert_mode, delete_some_messages, is_task_decomposition)\u001b[0m\n\u001b[1;32m     86\u001b[0m     function_call_message \u001b[38;5;241m=\u001b[39m response_message \n\u001b[1;32m     87\u001b[0m     \u001b[38;5;66;03m# 将function_call_message带入代码审查和运行函数is_code_response_valid\u001b[39;00m\n\u001b[1;32m     88\u001b[0m     \u001b[38;5;66;03m# 并最终获得外部函数运行之后的问答结果\u001b[39;00m\n\u001b[0;32m---> 89\u001b[0m     messages \u001b[38;5;241m=\u001b[39m \u001b[43mhandle_code_response\u001b[49m\u001b[43m(\u001b[49m\u001b[43mmodel\u001b[49m\u001b[38;5;241;43m=\u001b[39;49m\u001b[43mmodel\u001b[49m\u001b[43m,\u001b[49m\u001b[43m \u001b[49m\n\u001b[1;32m     90\u001b[0m \u001b[43m                                      \u001b[49m\u001b[43mmessages\u001b[49m\u001b[38;5;241;43m=\u001b[39;49m\u001b[43mmessages\u001b[49m\u001b[43m,\u001b[49m\u001b[43m \u001b[49m\n\u001b[1;32m     91\u001b[0m \u001b[43m                                      \u001b[49m\u001b[43mfunction_call_message\u001b[49m\u001b[38;5;241;43m=\u001b[39;49m\u001b[43mfunction_call_message\u001b[49m\u001b[43m,\u001b[49m\n\u001b[1;32m     92\u001b[0m \u001b[43m                                      \u001b[49m\u001b[43mavailable_functions\u001b[49m\u001b[38;5;241;43m=\u001b[39;49m\u001b[43mavailable_functions\u001b[49m\u001b[43m,\u001b[49m\n\u001b[1;32m     93\u001b[0m \u001b[43m                                      \u001b[49m\u001b[43mis_developer_mode\u001b[49m\u001b[38;5;241;43m=\u001b[39;49m\u001b[43mis_developer_mode\u001b[49m\u001b[43m,\u001b[49m\n\u001b[1;32m     94\u001b[0m \u001b[43m                                      \u001b[49m\u001b[43mis_expert_mode\u001b[49m\u001b[38;5;241;43m=\u001b[39;49m\u001b[43mis_expert_mode\u001b[49m\u001b[43m,\u001b[49m\u001b[43m \u001b[49m\n\u001b[1;32m     95\u001b[0m \u001b[43m                                      \u001b[49m\u001b[43mdelete_some_messages\u001b[49m\u001b[38;5;241;43m=\u001b[39;49m\u001b[43mdelete_some_messages\u001b[49m\u001b[43m)\u001b[49m\n\u001b[1;32m     97\u001b[0m \u001b[38;5;28;01mreturn\u001b[39;00m messages\n",
      "Cell \u001b[0;32mIn[507], line 107\u001b[0m, in \u001b[0;36mhandle_code_response\u001b[0;34m(model, messages, function_call_message, available_functions, is_developer_mode, is_expert_mode, delete_some_messages)\u001b[0m\n\u001b[1;32m    103\u001b[0m function_response_message \u001b[38;5;241m=\u001b[39m function_to_call(available_functions\u001b[38;5;241m=\u001b[39mavailable_functions, \n\u001b[1;32m    104\u001b[0m                                              function_call_message\u001b[38;5;241m=\u001b[39mfunction_call_message)  \n\u001b[1;32m    106\u001b[0m \u001b[38;5;66;03m# 将function_response_message带入check_get_final_function_response进行审查\u001b[39;00m\n\u001b[0;32m--> 107\u001b[0m messages \u001b[38;5;241m=\u001b[39m \u001b[43mcheck_function_response\u001b[49m\u001b[43m(\u001b[49m\u001b[43mmodel\u001b[49m\u001b[38;5;241;43m=\u001b[39;49m\u001b[43mmodel\u001b[49m\u001b[43m,\u001b[49m\u001b[43m \u001b[49m\n\u001b[1;32m    108\u001b[0m \u001b[43m                                             \u001b[49m\u001b[43mmessages\u001b[49m\u001b[38;5;241;43m=\u001b[39;49m\u001b[43mmessages\u001b[49m\u001b[43m,\u001b[49m\u001b[43m \u001b[49m\n\u001b[1;32m    109\u001b[0m \u001b[43m                                             \u001b[49m\u001b[43mfunction_call_message\u001b[49m\u001b[38;5;241;43m=\u001b[39;49m\u001b[43mfunction_call_message\u001b[49m\u001b[43m,\u001b[49m\n\u001b[1;32m    110\u001b[0m \u001b[43m                                             \u001b[49m\u001b[43mfunction_response_message\u001b[49m\u001b[38;5;241;43m=\u001b[39;49m\u001b[43mfunction_response_message\u001b[49m\u001b[43m,\u001b[49m\n\u001b[1;32m    111\u001b[0m \u001b[43m                                             \u001b[49m\u001b[43mavailable_functions\u001b[49m\u001b[38;5;241;43m=\u001b[39;49m\u001b[43mavailable_functions\u001b[49m\u001b[43m,\u001b[49m\n\u001b[1;32m    112\u001b[0m \u001b[43m                                             \u001b[49m\u001b[43mis_developer_mode\u001b[49m\u001b[38;5;241;43m=\u001b[39;49m\u001b[43mis_developer_mode\u001b[49m\u001b[43m,\u001b[49m\n\u001b[1;32m    113\u001b[0m \u001b[43m                                             \u001b[49m\u001b[43mis_expert_mode\u001b[49m\u001b[38;5;241;43m=\u001b[39;49m\u001b[43mis_expert_mode\u001b[49m\u001b[43m,\u001b[49m\u001b[43m \u001b[49m\n\u001b[1;32m    114\u001b[0m \u001b[43m                                             \u001b[49m\u001b[43mdelete_some_messages\u001b[49m\u001b[38;5;241;43m=\u001b[39;49m\u001b[43mdelete_some_messages\u001b[49m\u001b[43m)\u001b[49m\n\u001b[1;32m    116\u001b[0m \u001b[38;5;28;01mreturn\u001b[39;00m messages\n",
      "Cell \u001b[0;32mIn[470], line 74\u001b[0m, in \u001b[0;36mcheck_function_response\u001b[0;34m(model, messages, function_call_message, function_response_message, available_functions, is_developer_mode, is_expert_mode, delete_some_messages)\u001b[0m\n\u001b[1;32m     71\u001b[0m         \u001b[38;5;66;03m# 再次调用get_chat_response，在当前debug的prompt下，get_chat_response会返回修改意见或修改之后的代码\u001b[39;00m\n\u001b[1;32m     72\u001b[0m         \u001b[38;5;66;03m# 打印提示信息\u001b[39;00m\n\u001b[1;32m     73\u001b[0m         display(Markdown(\u001b[38;5;124m\"\u001b[39m\u001b[38;5;124m**From iQuery Agent:**\u001b[39m\u001b[38;5;124m\"\u001b[39m))\n\u001b[0;32m---> 74\u001b[0m         msg_debug \u001b[38;5;241m=\u001b[39m \u001b[43mone_chat_response\u001b[49m\u001b[43m(\u001b[49m\u001b[43mmodel\u001b[49m\u001b[38;5;241;43m=\u001b[39;49m\u001b[43mmodel\u001b[49m\u001b[43m,\u001b[49m\u001b[43m \u001b[49m\n\u001b[1;32m     75\u001b[0m \u001b[43m                                      \u001b[49m\u001b[43mmessages\u001b[49m\u001b[38;5;241;43m=\u001b[39;49m\u001b[43mmsg_debug\u001b[49m\u001b[43m,\u001b[49m\u001b[43m \u001b[49m\n\u001b[1;32m     76\u001b[0m \u001b[43m                                      \u001b[49m\u001b[43mavailable_functions\u001b[49m\u001b[38;5;241;43m=\u001b[39;49m\u001b[43mavailable_functions\u001b[49m\u001b[43m,\u001b[49m\n\u001b[1;32m     77\u001b[0m \u001b[43m                                      \u001b[49m\u001b[43mis_developer_mode\u001b[49m\u001b[38;5;241;43m=\u001b[39;49m\u001b[43mis_developer_mode\u001b[49m\u001b[43m,\u001b[49m\n\u001b[1;32m     78\u001b[0m \u001b[43m                                      \u001b[49m\u001b[43mis_expert_mode\u001b[49m\u001b[38;5;241;43m=\u001b[39;49m\u001b[38;5;28;43;01mFalse\u001b[39;49;00m\u001b[43m,\u001b[49m\u001b[43m \u001b[49m\n\u001b[1;32m     79\u001b[0m \u001b[43m                                      \u001b[49m\u001b[43mdelete_some_messages\u001b[49m\u001b[38;5;241;43m=\u001b[39;49m\u001b[43mdelete_some_messages\u001b[49m\u001b[43m)\u001b[49m\n\u001b[1;32m     81\u001b[0m     messages \u001b[38;5;241m=\u001b[39m msg_debug\u001b[38;5;241m.\u001b[39mcopy()     \n\u001b[1;32m     83\u001b[0m \u001b[38;5;66;03m# 若function message不包含报错信息    \u001b[39;00m\n\u001b[1;32m     84\u001b[0m \u001b[38;5;66;03m# 需要将function message传递给模型\u001b[39;00m\n\u001b[1;32m     85\u001b[0m \u001b[38;5;28;01melse\u001b[39;00m:\n",
      "    \u001b[0;31m[... skipping similar frames: check_function_response at line 74 (26 times), handle_code_response at line 107 (26 times), one_chat_response at line 89 (26 times)]\u001b[0m\n",
      "Cell \u001b[0;32mIn[494], line 89\u001b[0m, in \u001b[0;36mone_chat_response\u001b[0;34m(model, messages, available_functions, is_developer_mode, is_expert_mode, delete_some_messages, is_task_decomposition)\u001b[0m\n\u001b[1;32m     86\u001b[0m     function_call_message \u001b[38;5;241m=\u001b[39m response_message \n\u001b[1;32m     87\u001b[0m     \u001b[38;5;66;03m# 将function_call_message带入代码审查和运行函数is_code_response_valid\u001b[39;00m\n\u001b[1;32m     88\u001b[0m     \u001b[38;5;66;03m# 并最终获得外部函数运行之后的问答结果\u001b[39;00m\n\u001b[0;32m---> 89\u001b[0m     messages \u001b[38;5;241m=\u001b[39m \u001b[43mhandle_code_response\u001b[49m\u001b[43m(\u001b[49m\u001b[43mmodel\u001b[49m\u001b[38;5;241;43m=\u001b[39;49m\u001b[43mmodel\u001b[49m\u001b[43m,\u001b[49m\u001b[43m \u001b[49m\n\u001b[1;32m     90\u001b[0m \u001b[43m                                      \u001b[49m\u001b[43mmessages\u001b[49m\u001b[38;5;241;43m=\u001b[39;49m\u001b[43mmessages\u001b[49m\u001b[43m,\u001b[49m\u001b[43m \u001b[49m\n\u001b[1;32m     91\u001b[0m \u001b[43m                                      \u001b[49m\u001b[43mfunction_call_message\u001b[49m\u001b[38;5;241;43m=\u001b[39;49m\u001b[43mfunction_call_message\u001b[49m\u001b[43m,\u001b[49m\n\u001b[1;32m     92\u001b[0m \u001b[43m                                      \u001b[49m\u001b[43mavailable_functions\u001b[49m\u001b[38;5;241;43m=\u001b[39;49m\u001b[43mavailable_functions\u001b[49m\u001b[43m,\u001b[49m\n\u001b[1;32m     93\u001b[0m \u001b[43m                                      \u001b[49m\u001b[43mis_developer_mode\u001b[49m\u001b[38;5;241;43m=\u001b[39;49m\u001b[43mis_developer_mode\u001b[49m\u001b[43m,\u001b[49m\n\u001b[1;32m     94\u001b[0m \u001b[43m                                      \u001b[49m\u001b[43mis_expert_mode\u001b[49m\u001b[38;5;241;43m=\u001b[39;49m\u001b[43mis_expert_mode\u001b[49m\u001b[43m,\u001b[49m\u001b[43m \u001b[49m\n\u001b[1;32m     95\u001b[0m \u001b[43m                                      \u001b[49m\u001b[43mdelete_some_messages\u001b[49m\u001b[38;5;241;43m=\u001b[39;49m\u001b[43mdelete_some_messages\u001b[49m\u001b[43m)\u001b[49m\n\u001b[1;32m     97\u001b[0m \u001b[38;5;28;01mreturn\u001b[39;00m messages\n",
      "Cell \u001b[0;32mIn[507], line 107\u001b[0m, in \u001b[0;36mhandle_code_response\u001b[0;34m(model, messages, function_call_message, available_functions, is_developer_mode, is_expert_mode, delete_some_messages)\u001b[0m\n\u001b[1;32m    103\u001b[0m function_response_message \u001b[38;5;241m=\u001b[39m function_to_call(available_functions\u001b[38;5;241m=\u001b[39mavailable_functions, \n\u001b[1;32m    104\u001b[0m                                              function_call_message\u001b[38;5;241m=\u001b[39mfunction_call_message)  \n\u001b[1;32m    106\u001b[0m \u001b[38;5;66;03m# 将function_response_message带入check_get_final_function_response进行审查\u001b[39;00m\n\u001b[0;32m--> 107\u001b[0m messages \u001b[38;5;241m=\u001b[39m \u001b[43mcheck_function_response\u001b[49m\u001b[43m(\u001b[49m\u001b[43mmodel\u001b[49m\u001b[38;5;241;43m=\u001b[39;49m\u001b[43mmodel\u001b[49m\u001b[43m,\u001b[49m\u001b[43m \u001b[49m\n\u001b[1;32m    108\u001b[0m \u001b[43m                                             \u001b[49m\u001b[43mmessages\u001b[49m\u001b[38;5;241;43m=\u001b[39;49m\u001b[43mmessages\u001b[49m\u001b[43m,\u001b[49m\u001b[43m \u001b[49m\n\u001b[1;32m    109\u001b[0m \u001b[43m                                             \u001b[49m\u001b[43mfunction_call_message\u001b[49m\u001b[38;5;241;43m=\u001b[39;49m\u001b[43mfunction_call_message\u001b[49m\u001b[43m,\u001b[49m\n\u001b[1;32m    110\u001b[0m \u001b[43m                                             \u001b[49m\u001b[43mfunction_response_message\u001b[49m\u001b[38;5;241;43m=\u001b[39;49m\u001b[43mfunction_response_message\u001b[49m\u001b[43m,\u001b[49m\n\u001b[1;32m    111\u001b[0m \u001b[43m                                             \u001b[49m\u001b[43mavailable_functions\u001b[49m\u001b[38;5;241;43m=\u001b[39;49m\u001b[43mavailable_functions\u001b[49m\u001b[43m,\u001b[49m\n\u001b[1;32m    112\u001b[0m \u001b[43m                                             \u001b[49m\u001b[43mis_developer_mode\u001b[49m\u001b[38;5;241;43m=\u001b[39;49m\u001b[43mis_developer_mode\u001b[49m\u001b[43m,\u001b[49m\n\u001b[1;32m    113\u001b[0m \u001b[43m                                             \u001b[49m\u001b[43mis_expert_mode\u001b[49m\u001b[38;5;241;43m=\u001b[39;49m\u001b[43mis_expert_mode\u001b[49m\u001b[43m,\u001b[49m\u001b[43m \u001b[49m\n\u001b[1;32m    114\u001b[0m \u001b[43m                                             \u001b[49m\u001b[43mdelete_some_messages\u001b[49m\u001b[38;5;241;43m=\u001b[39;49m\u001b[43mdelete_some_messages\u001b[49m\u001b[43m)\u001b[49m\n\u001b[1;32m    116\u001b[0m \u001b[38;5;28;01mreturn\u001b[39;00m messages\n",
      "Cell \u001b[0;32mIn[470], line 74\u001b[0m, in \u001b[0;36mcheck_function_response\u001b[0;34m(model, messages, function_call_message, function_response_message, available_functions, is_developer_mode, is_expert_mode, delete_some_messages)\u001b[0m\n\u001b[1;32m     71\u001b[0m         \u001b[38;5;66;03m# 再次调用get_chat_response，在当前debug的prompt下，get_chat_response会返回修改意见或修改之后的代码\u001b[39;00m\n\u001b[1;32m     72\u001b[0m         \u001b[38;5;66;03m# 打印提示信息\u001b[39;00m\n\u001b[1;32m     73\u001b[0m         display(Markdown(\u001b[38;5;124m\"\u001b[39m\u001b[38;5;124m**From iQuery Agent:**\u001b[39m\u001b[38;5;124m\"\u001b[39m))\n\u001b[0;32m---> 74\u001b[0m         msg_debug \u001b[38;5;241m=\u001b[39m \u001b[43mone_chat_response\u001b[49m\u001b[43m(\u001b[49m\u001b[43mmodel\u001b[49m\u001b[38;5;241;43m=\u001b[39;49m\u001b[43mmodel\u001b[49m\u001b[43m,\u001b[49m\u001b[43m \u001b[49m\n\u001b[1;32m     75\u001b[0m \u001b[43m                                      \u001b[49m\u001b[43mmessages\u001b[49m\u001b[38;5;241;43m=\u001b[39;49m\u001b[43mmsg_debug\u001b[49m\u001b[43m,\u001b[49m\u001b[43m \u001b[49m\n\u001b[1;32m     76\u001b[0m \u001b[43m                                      \u001b[49m\u001b[43mavailable_functions\u001b[49m\u001b[38;5;241;43m=\u001b[39;49m\u001b[43mavailable_functions\u001b[49m\u001b[43m,\u001b[49m\n\u001b[1;32m     77\u001b[0m \u001b[43m                                      \u001b[49m\u001b[43mis_developer_mode\u001b[49m\u001b[38;5;241;43m=\u001b[39;49m\u001b[43mis_developer_mode\u001b[49m\u001b[43m,\u001b[49m\n\u001b[1;32m     78\u001b[0m \u001b[43m                                      \u001b[49m\u001b[43mis_expert_mode\u001b[49m\u001b[38;5;241;43m=\u001b[39;49m\u001b[38;5;28;43;01mFalse\u001b[39;49;00m\u001b[43m,\u001b[49m\u001b[43m \u001b[49m\n\u001b[1;32m     79\u001b[0m \u001b[43m                                      \u001b[49m\u001b[43mdelete_some_messages\u001b[49m\u001b[38;5;241;43m=\u001b[39;49m\u001b[43mdelete_some_messages\u001b[49m\u001b[43m)\u001b[49m\n\u001b[1;32m     81\u001b[0m     messages \u001b[38;5;241m=\u001b[39m msg_debug\u001b[38;5;241m.\u001b[39mcopy()     \n\u001b[1;32m     83\u001b[0m \u001b[38;5;66;03m# 若function message不包含报错信息    \u001b[39;00m\n\u001b[1;32m     84\u001b[0m \u001b[38;5;66;03m# 需要将function message传递给模型\u001b[39;00m\n\u001b[1;32m     85\u001b[0m \u001b[38;5;28;01melse\u001b[39;00m:\n",
      "Cell \u001b[0;32mIn[494], line 32\u001b[0m, in \u001b[0;36mone_chat_response\u001b[0;34m(model, messages, available_functions, is_developer_mode, is_expert_mode, delete_some_messages, is_task_decomposition)\u001b[0m\n\u001b[1;32m     27\u001b[0m \u001b[38;5;66;03m# 当且仅当围绕复杂任务拆解结果进行修改时，才会出现is_task_decomposition=True的情况\u001b[39;00m\n\u001b[1;32m     28\u001b[0m \u001b[38;5;66;03m# 当is_task_decomposition=True时，不再重新创建response_message\u001b[39;00m\n\u001b[1;32m     29\u001b[0m \u001b[38;5;28;01mif\u001b[39;00m \u001b[38;5;129;01mnot\u001b[39;00m is_task_decomposition:\n\u001b[1;32m     30\u001b[0m     \u001b[38;5;66;03m# 先获取单次大模型调用结果\u001b[39;00m\n\u001b[1;32m     31\u001b[0m     \u001b[38;5;66;03m# 此时response_message是大模型调用返回的message\u001b[39;00m\n\u001b[0;32m---> 32\u001b[0m     response_message \u001b[38;5;241m=\u001b[39m \u001b[43mget_first_response\u001b[49m\u001b[43m(\u001b[49m\u001b[43mmodel\u001b[49m\u001b[38;5;241;43m=\u001b[39;49m\u001b[43mmodel\u001b[49m\u001b[43m,\u001b[49m\u001b[43m \u001b[49m\n\u001b[1;32m     33\u001b[0m \u001b[43m                                        \u001b[49m\u001b[43mmessages\u001b[49m\u001b[38;5;241;43m=\u001b[39;49m\u001b[43mmessages\u001b[49m\u001b[43m,\u001b[49m\u001b[43m \u001b[49m\n\u001b[1;32m     34\u001b[0m \u001b[43m                                        \u001b[49m\u001b[43mavailable_functions\u001b[49m\u001b[38;5;241;43m=\u001b[39;49m\u001b[43mavailable_functions\u001b[49m\u001b[43m,\u001b[49m\n\u001b[1;32m     35\u001b[0m \u001b[43m                                        \u001b[49m\u001b[43mis_developer_mode\u001b[49m\u001b[38;5;241;43m=\u001b[39;49m\u001b[43mis_developer_mode\u001b[49m\u001b[43m,\u001b[49m\n\u001b[1;32m     36\u001b[0m \u001b[43m                                        \u001b[49m\u001b[43mis_expert_mode\u001b[49m\u001b[38;5;241;43m=\u001b[39;49m\u001b[43mis_expert_mode\u001b[49m\u001b[43m)\u001b[49m\n\u001b[1;32m     38\u001b[0m \u001b[38;5;66;03m# 复杂条件判断，若is_task_decomposition = True，\u001b[39;00m\n\u001b[1;32m     39\u001b[0m \u001b[38;5;66;03m# 或者是专家模式且是执行function response任务时\u001b[39;00m\n\u001b[1;32m     40\u001b[0m \u001b[38;5;66;03m# （需要注意的是，当is_task_decomposition = True时，并不存在response_message对象）\u001b[39;00m\n\u001b[1;32m     41\u001b[0m \u001b[38;5;28;01mif\u001b[39;00m is_task_decomposition \u001b[38;5;129;01mor\u001b[39;00m (is_expert_mode \u001b[38;5;129;01mand\u001b[39;00m response_message\u001b[38;5;241m.\u001b[39mtool_calls):\n\u001b[1;32m     42\u001b[0m     \u001b[38;5;66;03m# 将is_task_decomposition修改为True，表示当前执行任务为复杂任务拆解\u001b[39;00m\n",
      "Cell \u001b[0;32mIn[520], line 42\u001b[0m, in \u001b[0;36mget_first_response\u001b[0;34m(model, messages, available_functions, is_developer_mode, is_expert_mode)\u001b[0m\n\u001b[1;32m     34\u001b[0m         response \u001b[38;5;241m=\u001b[39m client\u001b[38;5;241m.\u001b[39mchat\u001b[38;5;241m.\u001b[39mcompletions\u001b[38;5;241m.\u001b[39mcreate(\n\u001b[1;32m     35\u001b[0m             model\u001b[38;5;241m=\u001b[39mmodel,\n\u001b[1;32m     36\u001b[0m             messages\u001b[38;5;241m=\u001b[39mmessages\u001b[38;5;241m.\u001b[39mmessages)   \n\u001b[1;32m     38\u001b[0m     \u001b[38;5;66;03m# 若存在外部函数，此时functions和function_call参数信息都从AvailableFunctions对象中获取\u001b[39;00m\n\u001b[1;32m     39\u001b[0m     \u001b[38;5;28;01melse\u001b[39;00m:\n\u001b[1;32m     40\u001b[0m         \u001b[38;5;66;03m#print(\"这儿我也测试一下,调用cleint之前的messages长什么样----\")\u001b[39;00m\n\u001b[1;32m     41\u001b[0m         \u001b[38;5;66;03m#print(messages.messages)\u001b[39;00m\n\u001b[0;32m---> 42\u001b[0m         response \u001b[38;5;241m=\u001b[39m \u001b[43mclient\u001b[49m\u001b[38;5;241;43m.\u001b[39;49m\u001b[43mchat\u001b[49m\u001b[38;5;241;43m.\u001b[39;49m\u001b[43mcompletions\u001b[49m\u001b[38;5;241;43m.\u001b[39;49m\u001b[43mcreate\u001b[49m\u001b[43m(\u001b[49m\n\u001b[1;32m     43\u001b[0m \u001b[43m            \u001b[49m\u001b[43mmodel\u001b[49m\u001b[38;5;241;43m=\u001b[39;49m\u001b[43mmodel\u001b[49m\u001b[43m,\u001b[49m\n\u001b[1;32m     44\u001b[0m \u001b[43m            \u001b[49m\u001b[43mmessages\u001b[49m\u001b[38;5;241;43m=\u001b[39;49m\u001b[43mmessages\u001b[49m\u001b[38;5;241;43m.\u001b[39;49m\u001b[43mmessages\u001b[49m\u001b[43m,\u001b[49m\u001b[43m \u001b[49m\n\u001b[1;32m     45\u001b[0m \u001b[43m            \u001b[49m\u001b[43mtools\u001b[49m\u001b[38;5;241;43m=\u001b[39;49m\u001b[43mavailable_functions\u001b[49m\u001b[38;5;241;43m.\u001b[39;49m\u001b[43mfunctions\u001b[49m\u001b[43m,\u001b[49m\u001b[43m \u001b[49m\n\u001b[1;32m     46\u001b[0m \u001b[43m            \u001b[49m\u001b[43mtool_choice\u001b[49m\u001b[38;5;241;43m=\u001b[39;49m\u001b[43mavailable_functions\u001b[49m\u001b[38;5;241;43m.\u001b[39;49m\u001b[43mfunction_call\u001b[49m\n\u001b[1;32m     47\u001b[0m \u001b[43m            \u001b[49m\u001b[43m)\u001b[49m   \n\u001b[1;32m     48\u001b[0m     \u001b[38;5;28;01mbreak\u001b[39;00m  \u001b[38;5;66;03m# 如果成功获取响应，退出循环\u001b[39;00m\n\u001b[1;32m     50\u001b[0m \u001b[38;5;28;01mexcept\u001b[39;00m AuthenticationError \u001b[38;5;28;01mas\u001b[39;00m e:\n\u001b[1;32m     51\u001b[0m     \u001b[38;5;66;03m# APIConnectionError默认是用户需求不清导致无法返回结果\u001b[39;00m\n\u001b[1;32m     52\u001b[0m     \u001b[38;5;66;03m# 若开启专家模式，此时提示用户重新输入需求\u001b[39;00m\n",
      "File \u001b[0;32m~/miniconda3/lib/python3.8/site-packages/openai/_utils/_utils.py:271\u001b[0m, in \u001b[0;36mrequired_args.<locals>.inner.<locals>.wrapper\u001b[0;34m(*args, **kwargs)\u001b[0m\n\u001b[1;32m    269\u001b[0m             msg \u001b[38;5;241m=\u001b[39m \u001b[38;5;124mf\u001b[39m\u001b[38;5;124m\"\u001b[39m\u001b[38;5;124mMissing required argument: \u001b[39m\u001b[38;5;132;01m{\u001b[39;00mquote(missing[\u001b[38;5;241m0\u001b[39m])\u001b[38;5;132;01m}\u001b[39;00m\u001b[38;5;124m\"\u001b[39m\n\u001b[1;32m    270\u001b[0m     \u001b[38;5;28;01mraise\u001b[39;00m \u001b[38;5;167;01mTypeError\u001b[39;00m(msg)\n\u001b[0;32m--> 271\u001b[0m \u001b[38;5;28;01mreturn\u001b[39;00m \u001b[43mfunc\u001b[49m\u001b[43m(\u001b[49m\u001b[38;5;241;43m*\u001b[39;49m\u001b[43margs\u001b[49m\u001b[43m,\u001b[49m\u001b[43m \u001b[49m\u001b[38;5;241;43m*\u001b[39;49m\u001b[38;5;241;43m*\u001b[39;49m\u001b[43mkwargs\u001b[49m\u001b[43m)\u001b[49m\n",
      "File \u001b[0;32m~/miniconda3/lib/python3.8/site-packages/openai/resources/chat/completions.py:648\u001b[0m, in \u001b[0;36mCompletions.create\u001b[0;34m(self, messages, model, frequency_penalty, function_call, functions, logit_bias, logprobs, max_tokens, n, presence_penalty, response_format, seed, stop, stream, temperature, tool_choice, tools, top_logprobs, top_p, user, extra_headers, extra_query, extra_body, timeout)\u001b[0m\n\u001b[1;32m    599\u001b[0m \u001b[38;5;129m@required_args\u001b[39m([\u001b[38;5;124m\"\u001b[39m\u001b[38;5;124mmessages\u001b[39m\u001b[38;5;124m\"\u001b[39m, \u001b[38;5;124m\"\u001b[39m\u001b[38;5;124mmodel\u001b[39m\u001b[38;5;124m\"\u001b[39m], [\u001b[38;5;124m\"\u001b[39m\u001b[38;5;124mmessages\u001b[39m\u001b[38;5;124m\"\u001b[39m, \u001b[38;5;124m\"\u001b[39m\u001b[38;5;124mmodel\u001b[39m\u001b[38;5;124m\"\u001b[39m, \u001b[38;5;124m\"\u001b[39m\u001b[38;5;124mstream\u001b[39m\u001b[38;5;124m\"\u001b[39m])\n\u001b[1;32m    600\u001b[0m \u001b[38;5;28;01mdef\u001b[39;00m \u001b[38;5;21mcreate\u001b[39m(\n\u001b[1;32m    601\u001b[0m     \u001b[38;5;28mself\u001b[39m,\n\u001b[0;32m   (...)\u001b[0m\n\u001b[1;32m    646\u001b[0m     timeout: \u001b[38;5;28mfloat\u001b[39m \u001b[38;5;241m|\u001b[39m httpx\u001b[38;5;241m.\u001b[39mTimeout \u001b[38;5;241m|\u001b[39m \u001b[38;5;28;01mNone\u001b[39;00m \u001b[38;5;241m|\u001b[39m NotGiven \u001b[38;5;241m=\u001b[39m NOT_GIVEN,\n\u001b[1;32m    647\u001b[0m ) \u001b[38;5;241m-\u001b[39m\u001b[38;5;241m>\u001b[39m ChatCompletion \u001b[38;5;241m|\u001b[39m Stream[ChatCompletionChunk]:\n\u001b[0;32m--> 648\u001b[0m     \u001b[38;5;28;01mreturn\u001b[39;00m \u001b[38;5;28;43mself\u001b[39;49m\u001b[38;5;241;43m.\u001b[39;49m\u001b[43m_post\u001b[49m\u001b[43m(\u001b[49m\n\u001b[1;32m    649\u001b[0m \u001b[43m        \u001b[49m\u001b[38;5;124;43m\"\u001b[39;49m\u001b[38;5;124;43m/chat/completions\u001b[39;49m\u001b[38;5;124;43m\"\u001b[39;49m\u001b[43m,\u001b[49m\n\u001b[1;32m    650\u001b[0m \u001b[43m        \u001b[49m\u001b[43mbody\u001b[49m\u001b[38;5;241;43m=\u001b[39;49m\u001b[43mmaybe_transform\u001b[49m\u001b[43m(\u001b[49m\n\u001b[1;32m    651\u001b[0m \u001b[43m            \u001b[49m\u001b[43m{\u001b[49m\n\u001b[1;32m    652\u001b[0m \u001b[43m                \u001b[49m\u001b[38;5;124;43m\"\u001b[39;49m\u001b[38;5;124;43mmessages\u001b[39;49m\u001b[38;5;124;43m\"\u001b[39;49m\u001b[43m:\u001b[49m\u001b[43m \u001b[49m\u001b[43mmessages\u001b[49m\u001b[43m,\u001b[49m\n\u001b[1;32m    653\u001b[0m \u001b[43m                \u001b[49m\u001b[38;5;124;43m\"\u001b[39;49m\u001b[38;5;124;43mmodel\u001b[39;49m\u001b[38;5;124;43m\"\u001b[39;49m\u001b[43m:\u001b[49m\u001b[43m \u001b[49m\u001b[43mmodel\u001b[49m\u001b[43m,\u001b[49m\n\u001b[1;32m    654\u001b[0m \u001b[43m                \u001b[49m\u001b[38;5;124;43m\"\u001b[39;49m\u001b[38;5;124;43mfrequency_penalty\u001b[39;49m\u001b[38;5;124;43m\"\u001b[39;49m\u001b[43m:\u001b[49m\u001b[43m \u001b[49m\u001b[43mfrequency_penalty\u001b[49m\u001b[43m,\u001b[49m\n\u001b[1;32m    655\u001b[0m \u001b[43m                \u001b[49m\u001b[38;5;124;43m\"\u001b[39;49m\u001b[38;5;124;43mfunction_call\u001b[39;49m\u001b[38;5;124;43m\"\u001b[39;49m\u001b[43m:\u001b[49m\u001b[43m \u001b[49m\u001b[43mfunction_call\u001b[49m\u001b[43m,\u001b[49m\n\u001b[1;32m    656\u001b[0m \u001b[43m                \u001b[49m\u001b[38;5;124;43m\"\u001b[39;49m\u001b[38;5;124;43mfunctions\u001b[39;49m\u001b[38;5;124;43m\"\u001b[39;49m\u001b[43m:\u001b[49m\u001b[43m \u001b[49m\u001b[43mfunctions\u001b[49m\u001b[43m,\u001b[49m\n\u001b[1;32m    657\u001b[0m \u001b[43m                \u001b[49m\u001b[38;5;124;43m\"\u001b[39;49m\u001b[38;5;124;43mlogit_bias\u001b[39;49m\u001b[38;5;124;43m\"\u001b[39;49m\u001b[43m:\u001b[49m\u001b[43m \u001b[49m\u001b[43mlogit_bias\u001b[49m\u001b[43m,\u001b[49m\n\u001b[1;32m    658\u001b[0m \u001b[43m                \u001b[49m\u001b[38;5;124;43m\"\u001b[39;49m\u001b[38;5;124;43mlogprobs\u001b[39;49m\u001b[38;5;124;43m\"\u001b[39;49m\u001b[43m:\u001b[49m\u001b[43m \u001b[49m\u001b[43mlogprobs\u001b[49m\u001b[43m,\u001b[49m\n\u001b[1;32m    659\u001b[0m \u001b[43m                \u001b[49m\u001b[38;5;124;43m\"\u001b[39;49m\u001b[38;5;124;43mmax_tokens\u001b[39;49m\u001b[38;5;124;43m\"\u001b[39;49m\u001b[43m:\u001b[49m\u001b[43m \u001b[49m\u001b[43mmax_tokens\u001b[49m\u001b[43m,\u001b[49m\n\u001b[1;32m    660\u001b[0m \u001b[43m                \u001b[49m\u001b[38;5;124;43m\"\u001b[39;49m\u001b[38;5;124;43mn\u001b[39;49m\u001b[38;5;124;43m\"\u001b[39;49m\u001b[43m:\u001b[49m\u001b[43m \u001b[49m\u001b[43mn\u001b[49m\u001b[43m,\u001b[49m\n\u001b[1;32m    661\u001b[0m \u001b[43m                \u001b[49m\u001b[38;5;124;43m\"\u001b[39;49m\u001b[38;5;124;43mpresence_penalty\u001b[39;49m\u001b[38;5;124;43m\"\u001b[39;49m\u001b[43m:\u001b[49m\u001b[43m \u001b[49m\u001b[43mpresence_penalty\u001b[49m\u001b[43m,\u001b[49m\n\u001b[1;32m    662\u001b[0m \u001b[43m                \u001b[49m\u001b[38;5;124;43m\"\u001b[39;49m\u001b[38;5;124;43mresponse_format\u001b[39;49m\u001b[38;5;124;43m\"\u001b[39;49m\u001b[43m:\u001b[49m\u001b[43m \u001b[49m\u001b[43mresponse_format\u001b[49m\u001b[43m,\u001b[49m\n\u001b[1;32m    663\u001b[0m \u001b[43m                \u001b[49m\u001b[38;5;124;43m\"\u001b[39;49m\u001b[38;5;124;43mseed\u001b[39;49m\u001b[38;5;124;43m\"\u001b[39;49m\u001b[43m:\u001b[49m\u001b[43m \u001b[49m\u001b[43mseed\u001b[49m\u001b[43m,\u001b[49m\n\u001b[1;32m    664\u001b[0m \u001b[43m                \u001b[49m\u001b[38;5;124;43m\"\u001b[39;49m\u001b[38;5;124;43mstop\u001b[39;49m\u001b[38;5;124;43m\"\u001b[39;49m\u001b[43m:\u001b[49m\u001b[43m \u001b[49m\u001b[43mstop\u001b[49m\u001b[43m,\u001b[49m\n\u001b[1;32m    665\u001b[0m \u001b[43m                \u001b[49m\u001b[38;5;124;43m\"\u001b[39;49m\u001b[38;5;124;43mstream\u001b[39;49m\u001b[38;5;124;43m\"\u001b[39;49m\u001b[43m:\u001b[49m\u001b[43m \u001b[49m\u001b[43mstream\u001b[49m\u001b[43m,\u001b[49m\n\u001b[1;32m    666\u001b[0m \u001b[43m                \u001b[49m\u001b[38;5;124;43m\"\u001b[39;49m\u001b[38;5;124;43mtemperature\u001b[39;49m\u001b[38;5;124;43m\"\u001b[39;49m\u001b[43m:\u001b[49m\u001b[43m \u001b[49m\u001b[43mtemperature\u001b[49m\u001b[43m,\u001b[49m\n\u001b[1;32m    667\u001b[0m \u001b[43m                \u001b[49m\u001b[38;5;124;43m\"\u001b[39;49m\u001b[38;5;124;43mtool_choice\u001b[39;49m\u001b[38;5;124;43m\"\u001b[39;49m\u001b[43m:\u001b[49m\u001b[43m \u001b[49m\u001b[43mtool_choice\u001b[49m\u001b[43m,\u001b[49m\n\u001b[1;32m    668\u001b[0m \u001b[43m                \u001b[49m\u001b[38;5;124;43m\"\u001b[39;49m\u001b[38;5;124;43mtools\u001b[39;49m\u001b[38;5;124;43m\"\u001b[39;49m\u001b[43m:\u001b[49m\u001b[43m \u001b[49m\u001b[43mtools\u001b[49m\u001b[43m,\u001b[49m\n\u001b[1;32m    669\u001b[0m \u001b[43m                \u001b[49m\u001b[38;5;124;43m\"\u001b[39;49m\u001b[38;5;124;43mtop_logprobs\u001b[39;49m\u001b[38;5;124;43m\"\u001b[39;49m\u001b[43m:\u001b[49m\u001b[43m \u001b[49m\u001b[43mtop_logprobs\u001b[49m\u001b[43m,\u001b[49m\n\u001b[1;32m    670\u001b[0m \u001b[43m                \u001b[49m\u001b[38;5;124;43m\"\u001b[39;49m\u001b[38;5;124;43mtop_p\u001b[39;49m\u001b[38;5;124;43m\"\u001b[39;49m\u001b[43m:\u001b[49m\u001b[43m \u001b[49m\u001b[43mtop_p\u001b[49m\u001b[43m,\u001b[49m\n\u001b[1;32m    671\u001b[0m \u001b[43m                \u001b[49m\u001b[38;5;124;43m\"\u001b[39;49m\u001b[38;5;124;43muser\u001b[39;49m\u001b[38;5;124;43m\"\u001b[39;49m\u001b[43m:\u001b[49m\u001b[43m \u001b[49m\u001b[43muser\u001b[49m\u001b[43m,\u001b[49m\n\u001b[1;32m    672\u001b[0m \u001b[43m            \u001b[49m\u001b[43m}\u001b[49m\u001b[43m,\u001b[49m\n\u001b[1;32m    673\u001b[0m \u001b[43m            \u001b[49m\u001b[43mcompletion_create_params\u001b[49m\u001b[38;5;241;43m.\u001b[39;49m\u001b[43mCompletionCreateParams\u001b[49m\u001b[43m,\u001b[49m\n\u001b[1;32m    674\u001b[0m \u001b[43m        \u001b[49m\u001b[43m)\u001b[49m\u001b[43m,\u001b[49m\n\u001b[1;32m    675\u001b[0m \u001b[43m        \u001b[49m\u001b[43moptions\u001b[49m\u001b[38;5;241;43m=\u001b[39;49m\u001b[43mmake_request_options\u001b[49m\u001b[43m(\u001b[49m\n\u001b[1;32m    676\u001b[0m \u001b[43m            \u001b[49m\u001b[43mextra_headers\u001b[49m\u001b[38;5;241;43m=\u001b[39;49m\u001b[43mextra_headers\u001b[49m\u001b[43m,\u001b[49m\u001b[43m \u001b[49m\u001b[43mextra_query\u001b[49m\u001b[38;5;241;43m=\u001b[39;49m\u001b[43mextra_query\u001b[49m\u001b[43m,\u001b[49m\u001b[43m \u001b[49m\u001b[43mextra_body\u001b[49m\u001b[38;5;241;43m=\u001b[39;49m\u001b[43mextra_body\u001b[49m\u001b[43m,\u001b[49m\u001b[43m \u001b[49m\u001b[43mtimeout\u001b[49m\u001b[38;5;241;43m=\u001b[39;49m\u001b[43mtimeout\u001b[49m\n\u001b[1;32m    677\u001b[0m \u001b[43m        \u001b[49m\u001b[43m)\u001b[49m\u001b[43m,\u001b[49m\n\u001b[1;32m    678\u001b[0m \u001b[43m        \u001b[49m\u001b[43mcast_to\u001b[49m\u001b[38;5;241;43m=\u001b[39;49m\u001b[43mChatCompletion\u001b[49m\u001b[43m,\u001b[49m\n\u001b[1;32m    679\u001b[0m \u001b[43m        \u001b[49m\u001b[43mstream\u001b[49m\u001b[38;5;241;43m=\u001b[39;49m\u001b[43mstream\u001b[49m\u001b[43m \u001b[49m\u001b[38;5;129;43;01mor\u001b[39;49;00m\u001b[43m \u001b[49m\u001b[38;5;28;43;01mFalse\u001b[39;49;00m\u001b[43m,\u001b[49m\n\u001b[1;32m    680\u001b[0m \u001b[43m        \u001b[49m\u001b[43mstream_cls\u001b[49m\u001b[38;5;241;43m=\u001b[39;49m\u001b[43mStream\u001b[49m\u001b[43m[\u001b[49m\u001b[43mChatCompletionChunk\u001b[49m\u001b[43m]\u001b[49m\u001b[43m,\u001b[49m\n\u001b[1;32m    681\u001b[0m \u001b[43m    \u001b[49m\u001b[43m)\u001b[49m\n",
      "File \u001b[0;32m~/miniconda3/lib/python3.8/site-packages/openai/_base_client.py:1167\u001b[0m, in \u001b[0;36mSyncAPIClient.post\u001b[0;34m(self, path, cast_to, body, options, files, stream, stream_cls)\u001b[0m\n\u001b[1;32m   1153\u001b[0m \u001b[38;5;28;01mdef\u001b[39;00m \u001b[38;5;21mpost\u001b[39m(\n\u001b[1;32m   1154\u001b[0m     \u001b[38;5;28mself\u001b[39m,\n\u001b[1;32m   1155\u001b[0m     path: \u001b[38;5;28mstr\u001b[39m,\n\u001b[0;32m   (...)\u001b[0m\n\u001b[1;32m   1162\u001b[0m     stream_cls: \u001b[38;5;28mtype\u001b[39m[_StreamT] \u001b[38;5;241m|\u001b[39m \u001b[38;5;28;01mNone\u001b[39;00m \u001b[38;5;241m=\u001b[39m \u001b[38;5;28;01mNone\u001b[39;00m,\n\u001b[1;32m   1163\u001b[0m ) \u001b[38;5;241m-\u001b[39m\u001b[38;5;241m>\u001b[39m ResponseT \u001b[38;5;241m|\u001b[39m _StreamT:\n\u001b[1;32m   1164\u001b[0m     opts \u001b[38;5;241m=\u001b[39m FinalRequestOptions\u001b[38;5;241m.\u001b[39mconstruct(\n\u001b[1;32m   1165\u001b[0m         method\u001b[38;5;241m=\u001b[39m\u001b[38;5;124m\"\u001b[39m\u001b[38;5;124mpost\u001b[39m\u001b[38;5;124m\"\u001b[39m, url\u001b[38;5;241m=\u001b[39mpath, json_data\u001b[38;5;241m=\u001b[39mbody, files\u001b[38;5;241m=\u001b[39mto_httpx_files(files), \u001b[38;5;241m*\u001b[39m\u001b[38;5;241m*\u001b[39moptions\n\u001b[1;32m   1166\u001b[0m     )\n\u001b[0;32m-> 1167\u001b[0m     \u001b[38;5;28;01mreturn\u001b[39;00m cast(ResponseT, \u001b[38;5;28;43mself\u001b[39;49m\u001b[38;5;241;43m.\u001b[39;49m\u001b[43mrequest\u001b[49m\u001b[43m(\u001b[49m\u001b[43mcast_to\u001b[49m\u001b[43m,\u001b[49m\u001b[43m \u001b[49m\u001b[43mopts\u001b[49m\u001b[43m,\u001b[49m\u001b[43m \u001b[49m\u001b[43mstream\u001b[49m\u001b[38;5;241;43m=\u001b[39;49m\u001b[43mstream\u001b[49m\u001b[43m,\u001b[49m\u001b[43m \u001b[49m\u001b[43mstream_cls\u001b[49m\u001b[38;5;241;43m=\u001b[39;49m\u001b[43mstream_cls\u001b[49m\u001b[43m)\u001b[49m)\n",
      "File \u001b[0;32m~/miniconda3/lib/python3.8/site-packages/openai/_base_client.py:856\u001b[0m, in \u001b[0;36mSyncAPIClient.request\u001b[0;34m(self, cast_to, options, remaining_retries, stream, stream_cls)\u001b[0m\n\u001b[1;32m    847\u001b[0m \u001b[38;5;28;01mdef\u001b[39;00m \u001b[38;5;21mrequest\u001b[39m(\n\u001b[1;32m    848\u001b[0m     \u001b[38;5;28mself\u001b[39m,\n\u001b[1;32m    849\u001b[0m     cast_to: Type[ResponseT],\n\u001b[0;32m   (...)\u001b[0m\n\u001b[1;32m    854\u001b[0m     stream_cls: \u001b[38;5;28mtype\u001b[39m[_StreamT] \u001b[38;5;241m|\u001b[39m \u001b[38;5;28;01mNone\u001b[39;00m \u001b[38;5;241m=\u001b[39m \u001b[38;5;28;01mNone\u001b[39;00m,\n\u001b[1;32m    855\u001b[0m ) \u001b[38;5;241m-\u001b[39m\u001b[38;5;241m>\u001b[39m ResponseT \u001b[38;5;241m|\u001b[39m _StreamT:\n\u001b[0;32m--> 856\u001b[0m     \u001b[38;5;28;01mreturn\u001b[39;00m \u001b[38;5;28;43mself\u001b[39;49m\u001b[38;5;241;43m.\u001b[39;49m\u001b[43m_request\u001b[49m\u001b[43m(\u001b[49m\n\u001b[1;32m    857\u001b[0m \u001b[43m        \u001b[49m\u001b[43mcast_to\u001b[49m\u001b[38;5;241;43m=\u001b[39;49m\u001b[43mcast_to\u001b[49m\u001b[43m,\u001b[49m\n\u001b[1;32m    858\u001b[0m \u001b[43m        \u001b[49m\u001b[43moptions\u001b[49m\u001b[38;5;241;43m=\u001b[39;49m\u001b[43moptions\u001b[49m\u001b[43m,\u001b[49m\n\u001b[1;32m    859\u001b[0m \u001b[43m        \u001b[49m\u001b[43mstream\u001b[49m\u001b[38;5;241;43m=\u001b[39;49m\u001b[43mstream\u001b[49m\u001b[43m,\u001b[49m\n\u001b[1;32m    860\u001b[0m \u001b[43m        \u001b[49m\u001b[43mstream_cls\u001b[49m\u001b[38;5;241;43m=\u001b[39;49m\u001b[43mstream_cls\u001b[49m\u001b[43m,\u001b[49m\n\u001b[1;32m    861\u001b[0m \u001b[43m        \u001b[49m\u001b[43mremaining_retries\u001b[49m\u001b[38;5;241;43m=\u001b[39;49m\u001b[43mremaining_retries\u001b[49m\u001b[43m,\u001b[49m\n\u001b[1;32m    862\u001b[0m \u001b[43m    \u001b[49m\u001b[43m)\u001b[49m\n",
      "File \u001b[0;32m~/miniconda3/lib/python3.8/site-packages/openai/_base_client.py:885\u001b[0m, in \u001b[0;36mSyncAPIClient._request\u001b[0;34m(self, cast_to, options, remaining_retries, stream, stream_cls)\u001b[0m\n\u001b[1;32m    882\u001b[0m     kwargs[\u001b[38;5;124m\"\u001b[39m\u001b[38;5;124mauth\u001b[39m\u001b[38;5;124m\"\u001b[39m] \u001b[38;5;241m=\u001b[39m \u001b[38;5;28mself\u001b[39m\u001b[38;5;241m.\u001b[39mcustom_auth\n\u001b[1;32m    884\u001b[0m \u001b[38;5;28;01mtry\u001b[39;00m:\n\u001b[0;32m--> 885\u001b[0m     response \u001b[38;5;241m=\u001b[39m \u001b[38;5;28;43mself\u001b[39;49m\u001b[38;5;241;43m.\u001b[39;49m\u001b[43m_client\u001b[49m\u001b[38;5;241;43m.\u001b[39;49m\u001b[43msend\u001b[49m\u001b[43m(\u001b[49m\n\u001b[1;32m    886\u001b[0m \u001b[43m        \u001b[49m\u001b[43mrequest\u001b[49m\u001b[43m,\u001b[49m\n\u001b[1;32m    887\u001b[0m \u001b[43m        \u001b[49m\u001b[43mstream\u001b[49m\u001b[38;5;241;43m=\u001b[39;49m\u001b[43mstream\u001b[49m\u001b[43m \u001b[49m\u001b[38;5;129;43;01mor\u001b[39;49;00m\u001b[43m \u001b[49m\u001b[38;5;28;43mself\u001b[39;49m\u001b[38;5;241;43m.\u001b[39;49m\u001b[43m_should_stream_response_body\u001b[49m\u001b[43m(\u001b[49m\u001b[43mrequest\u001b[49m\u001b[38;5;241;43m=\u001b[39;49m\u001b[43mrequest\u001b[49m\u001b[43m)\u001b[49m\u001b[43m,\u001b[49m\n\u001b[1;32m    888\u001b[0m \u001b[43m        \u001b[49m\u001b[38;5;241;43m*\u001b[39;49m\u001b[38;5;241;43m*\u001b[39;49m\u001b[43mkwargs\u001b[49m\u001b[43m,\u001b[49m\n\u001b[1;32m    889\u001b[0m \u001b[43m    \u001b[49m\u001b[43m)\u001b[49m\n\u001b[1;32m    890\u001b[0m \u001b[38;5;28;01mexcept\u001b[39;00m httpx\u001b[38;5;241m.\u001b[39mTimeoutException \u001b[38;5;28;01mas\u001b[39;00m err:\n\u001b[1;32m    891\u001b[0m     log\u001b[38;5;241m.\u001b[39mdebug(\u001b[38;5;124m\"\u001b[39m\u001b[38;5;124mEncountered httpx.TimeoutException\u001b[39m\u001b[38;5;124m\"\u001b[39m, exc_info\u001b[38;5;241m=\u001b[39m\u001b[38;5;28;01mTrue\u001b[39;00m)\n",
      "File \u001b[0;32m~/miniconda3/lib/python3.8/site-packages/httpx/_client.py:908\u001b[0m, in \u001b[0;36mClient.send\u001b[0;34m(self, request, stream, auth, follow_redirects)\u001b[0m\n\u001b[1;32m    900\u001b[0m follow_redirects \u001b[38;5;241m=\u001b[39m (\n\u001b[1;32m    901\u001b[0m     \u001b[38;5;28mself\u001b[39m\u001b[38;5;241m.\u001b[39mfollow_redirects\n\u001b[1;32m    902\u001b[0m     \u001b[38;5;28;01mif\u001b[39;00m \u001b[38;5;28misinstance\u001b[39m(follow_redirects, UseClientDefault)\n\u001b[1;32m    903\u001b[0m     \u001b[38;5;28;01melse\u001b[39;00m follow_redirects\n\u001b[1;32m    904\u001b[0m )\n\u001b[1;32m    906\u001b[0m auth \u001b[38;5;241m=\u001b[39m \u001b[38;5;28mself\u001b[39m\u001b[38;5;241m.\u001b[39m_build_request_auth(request, auth)\n\u001b[0;32m--> 908\u001b[0m response \u001b[38;5;241m=\u001b[39m \u001b[38;5;28;43mself\u001b[39;49m\u001b[38;5;241;43m.\u001b[39;49m\u001b[43m_send_handling_auth\u001b[49m\u001b[43m(\u001b[49m\n\u001b[1;32m    909\u001b[0m \u001b[43m    \u001b[49m\u001b[43mrequest\u001b[49m\u001b[43m,\u001b[49m\n\u001b[1;32m    910\u001b[0m \u001b[43m    \u001b[49m\u001b[43mauth\u001b[49m\u001b[38;5;241;43m=\u001b[39;49m\u001b[43mauth\u001b[49m\u001b[43m,\u001b[49m\n\u001b[1;32m    911\u001b[0m \u001b[43m    \u001b[49m\u001b[43mfollow_redirects\u001b[49m\u001b[38;5;241;43m=\u001b[39;49m\u001b[43mfollow_redirects\u001b[49m\u001b[43m,\u001b[49m\n\u001b[1;32m    912\u001b[0m \u001b[43m    \u001b[49m\u001b[43mhistory\u001b[49m\u001b[38;5;241;43m=\u001b[39;49m\u001b[43m[\u001b[49m\u001b[43m]\u001b[49m\u001b[43m,\u001b[49m\n\u001b[1;32m    913\u001b[0m \u001b[43m\u001b[49m\u001b[43m)\u001b[49m\n\u001b[1;32m    914\u001b[0m \u001b[38;5;28;01mtry\u001b[39;00m:\n\u001b[1;32m    915\u001b[0m     \u001b[38;5;28;01mif\u001b[39;00m \u001b[38;5;129;01mnot\u001b[39;00m stream:\n",
      "File \u001b[0;32m~/miniconda3/lib/python3.8/site-packages/httpx/_client.py:936\u001b[0m, in \u001b[0;36mClient._send_handling_auth\u001b[0;34m(self, request, auth, follow_redirects, history)\u001b[0m\n\u001b[1;32m    933\u001b[0m request \u001b[38;5;241m=\u001b[39m \u001b[38;5;28mnext\u001b[39m(auth_flow)\n\u001b[1;32m    935\u001b[0m \u001b[38;5;28;01mwhile\u001b[39;00m \u001b[38;5;28;01mTrue\u001b[39;00m:\n\u001b[0;32m--> 936\u001b[0m     response \u001b[38;5;241m=\u001b[39m \u001b[38;5;28;43mself\u001b[39;49m\u001b[38;5;241;43m.\u001b[39;49m\u001b[43m_send_handling_redirects\u001b[49m\u001b[43m(\u001b[49m\n\u001b[1;32m    937\u001b[0m \u001b[43m        \u001b[49m\u001b[43mrequest\u001b[49m\u001b[43m,\u001b[49m\n\u001b[1;32m    938\u001b[0m \u001b[43m        \u001b[49m\u001b[43mfollow_redirects\u001b[49m\u001b[38;5;241;43m=\u001b[39;49m\u001b[43mfollow_redirects\u001b[49m\u001b[43m,\u001b[49m\n\u001b[1;32m    939\u001b[0m \u001b[43m        \u001b[49m\u001b[43mhistory\u001b[49m\u001b[38;5;241;43m=\u001b[39;49m\u001b[43mhistory\u001b[49m\u001b[43m,\u001b[49m\n\u001b[1;32m    940\u001b[0m \u001b[43m    \u001b[49m\u001b[43m)\u001b[49m\n\u001b[1;32m    941\u001b[0m     \u001b[38;5;28;01mtry\u001b[39;00m:\n\u001b[1;32m    942\u001b[0m         \u001b[38;5;28;01mtry\u001b[39;00m:\n",
      "File \u001b[0;32m~/miniconda3/lib/python3.8/site-packages/httpx/_client.py:973\u001b[0m, in \u001b[0;36mClient._send_handling_redirects\u001b[0;34m(self, request, follow_redirects, history)\u001b[0m\n\u001b[1;32m    970\u001b[0m \u001b[38;5;28;01mfor\u001b[39;00m hook \u001b[38;5;129;01min\u001b[39;00m \u001b[38;5;28mself\u001b[39m\u001b[38;5;241m.\u001b[39m_event_hooks[\u001b[38;5;124m\"\u001b[39m\u001b[38;5;124mrequest\u001b[39m\u001b[38;5;124m\"\u001b[39m]:\n\u001b[1;32m    971\u001b[0m     hook(request)\n\u001b[0;32m--> 973\u001b[0m response \u001b[38;5;241m=\u001b[39m \u001b[38;5;28;43mself\u001b[39;49m\u001b[38;5;241;43m.\u001b[39;49m\u001b[43m_send_single_request\u001b[49m\u001b[43m(\u001b[49m\u001b[43mrequest\u001b[49m\u001b[43m)\u001b[49m\n\u001b[1;32m    974\u001b[0m \u001b[38;5;28;01mtry\u001b[39;00m:\n\u001b[1;32m    975\u001b[0m     \u001b[38;5;28;01mfor\u001b[39;00m hook \u001b[38;5;129;01min\u001b[39;00m \u001b[38;5;28mself\u001b[39m\u001b[38;5;241m.\u001b[39m_event_hooks[\u001b[38;5;124m\"\u001b[39m\u001b[38;5;124mresponse\u001b[39m\u001b[38;5;124m\"\u001b[39m]:\n",
      "File \u001b[0;32m~/miniconda3/lib/python3.8/site-packages/httpx/_client.py:1009\u001b[0m, in \u001b[0;36mClient._send_single_request\u001b[0;34m(self, request)\u001b[0m\n\u001b[1;32m   1004\u001b[0m     \u001b[38;5;28;01mraise\u001b[39;00m \u001b[38;5;167;01mRuntimeError\u001b[39;00m(\n\u001b[1;32m   1005\u001b[0m         \u001b[38;5;124m\"\u001b[39m\u001b[38;5;124mAttempted to send an async request with a sync Client instance.\u001b[39m\u001b[38;5;124m\"\u001b[39m\n\u001b[1;32m   1006\u001b[0m     )\n\u001b[1;32m   1008\u001b[0m \u001b[38;5;28;01mwith\u001b[39;00m request_context(request\u001b[38;5;241m=\u001b[39mrequest):\n\u001b[0;32m-> 1009\u001b[0m     response \u001b[38;5;241m=\u001b[39m \u001b[43mtransport\u001b[49m\u001b[38;5;241;43m.\u001b[39;49m\u001b[43mhandle_request\u001b[49m\u001b[43m(\u001b[49m\u001b[43mrequest\u001b[49m\u001b[43m)\u001b[49m\n\u001b[1;32m   1011\u001b[0m \u001b[38;5;28;01massert\u001b[39;00m \u001b[38;5;28misinstance\u001b[39m(response\u001b[38;5;241m.\u001b[39mstream, SyncByteStream)\n\u001b[1;32m   1013\u001b[0m response\u001b[38;5;241m.\u001b[39mrequest \u001b[38;5;241m=\u001b[39m request\n",
      "File \u001b[0;32m~/miniconda3/lib/python3.8/site-packages/httpx/_transports/default.py:218\u001b[0m, in \u001b[0;36mHTTPTransport.handle_request\u001b[0;34m(self, request)\u001b[0m\n\u001b[1;32m    205\u001b[0m req \u001b[38;5;241m=\u001b[39m httpcore\u001b[38;5;241m.\u001b[39mRequest(\n\u001b[1;32m    206\u001b[0m     method\u001b[38;5;241m=\u001b[39mrequest\u001b[38;5;241m.\u001b[39mmethod,\n\u001b[1;32m    207\u001b[0m     url\u001b[38;5;241m=\u001b[39mhttpcore\u001b[38;5;241m.\u001b[39mURL(\n\u001b[0;32m   (...)\u001b[0m\n\u001b[1;32m    215\u001b[0m     extensions\u001b[38;5;241m=\u001b[39mrequest\u001b[38;5;241m.\u001b[39mextensions,\n\u001b[1;32m    216\u001b[0m )\n\u001b[1;32m    217\u001b[0m \u001b[38;5;28;01mwith\u001b[39;00m map_httpcore_exceptions():\n\u001b[0;32m--> 218\u001b[0m     resp \u001b[38;5;241m=\u001b[39m \u001b[38;5;28;43mself\u001b[39;49m\u001b[38;5;241;43m.\u001b[39;49m\u001b[43m_pool\u001b[49m\u001b[38;5;241;43m.\u001b[39;49m\u001b[43mhandle_request\u001b[49m\u001b[43m(\u001b[49m\u001b[43mreq\u001b[49m\u001b[43m)\u001b[49m\n\u001b[1;32m    220\u001b[0m \u001b[38;5;28;01massert\u001b[39;00m \u001b[38;5;28misinstance\u001b[39m(resp\u001b[38;5;241m.\u001b[39mstream, typing\u001b[38;5;241m.\u001b[39mIterable)\n\u001b[1;32m    222\u001b[0m \u001b[38;5;28;01mreturn\u001b[39;00m Response(\n\u001b[1;32m    223\u001b[0m     status_code\u001b[38;5;241m=\u001b[39mresp\u001b[38;5;241m.\u001b[39mstatus,\n\u001b[1;32m    224\u001b[0m     headers\u001b[38;5;241m=\u001b[39mresp\u001b[38;5;241m.\u001b[39mheaders,\n\u001b[1;32m    225\u001b[0m     stream\u001b[38;5;241m=\u001b[39mResponseStream(resp\u001b[38;5;241m.\u001b[39mstream),\n\u001b[1;32m    226\u001b[0m     extensions\u001b[38;5;241m=\u001b[39mresp\u001b[38;5;241m.\u001b[39mextensions,\n\u001b[1;32m    227\u001b[0m )\n",
      "File \u001b[0;32m~/miniconda3/lib/python3.8/site-packages/httpcore/_sync/connection_pool.py:253\u001b[0m, in \u001b[0;36mConnectionPool.handle_request\u001b[0;34m(self, request)\u001b[0m\n\u001b[1;32m    251\u001b[0m \u001b[38;5;28;01mexcept\u001b[39;00m \u001b[38;5;167;01mBaseException\u001b[39;00m \u001b[38;5;28;01mas\u001b[39;00m exc:\n\u001b[1;32m    252\u001b[0m     \u001b[38;5;28mself\u001b[39m\u001b[38;5;241m.\u001b[39mresponse_closed(status)\n\u001b[0;32m--> 253\u001b[0m     \u001b[38;5;28;01mraise\u001b[39;00m exc\n\u001b[1;32m    254\u001b[0m \u001b[38;5;28;01melse\u001b[39;00m:\n\u001b[1;32m    255\u001b[0m     \u001b[38;5;28;01mbreak\u001b[39;00m\n",
      "File \u001b[0;32m~/miniconda3/lib/python3.8/site-packages/httpcore/_sync/connection_pool.py:237\u001b[0m, in \u001b[0;36mConnectionPool.handle_request\u001b[0;34m(self, request)\u001b[0m\n\u001b[1;32m    234\u001b[0m         \u001b[38;5;28;01mraise\u001b[39;00m exc\n\u001b[1;32m    236\u001b[0m \u001b[38;5;28;01mtry\u001b[39;00m:\n\u001b[0;32m--> 237\u001b[0m     response \u001b[38;5;241m=\u001b[39m \u001b[43mconnection\u001b[49m\u001b[38;5;241;43m.\u001b[39;49m\u001b[43mhandle_request\u001b[49m\u001b[43m(\u001b[49m\u001b[43mrequest\u001b[49m\u001b[43m)\u001b[49m\n\u001b[1;32m    238\u001b[0m \u001b[38;5;28;01mexcept\u001b[39;00m ConnectionNotAvailable:\n\u001b[1;32m    239\u001b[0m     \u001b[38;5;66;03m# The ConnectionNotAvailable exception is a special case, that\u001b[39;00m\n\u001b[1;32m    240\u001b[0m     \u001b[38;5;66;03m# indicates we need to retry the request on a new connection.\u001b[39;00m\n\u001b[0;32m   (...)\u001b[0m\n\u001b[1;32m    244\u001b[0m     \u001b[38;5;66;03m# might end up as an HTTP/2 connection, but which actually ends\u001b[39;00m\n\u001b[1;32m    245\u001b[0m     \u001b[38;5;66;03m# up as HTTP/1.1.\u001b[39;00m\n\u001b[1;32m    246\u001b[0m     \u001b[38;5;28;01mwith\u001b[39;00m \u001b[38;5;28mself\u001b[39m\u001b[38;5;241m.\u001b[39m_pool_lock:\n\u001b[1;32m    247\u001b[0m         \u001b[38;5;66;03m# Maintain our position in the request queue, but reset the\u001b[39;00m\n\u001b[1;32m    248\u001b[0m         \u001b[38;5;66;03m# status so that the request becomes queued again.\u001b[39;00m\n",
      "File \u001b[0;32m~/miniconda3/lib/python3.8/site-packages/httpcore/_sync/connection.py:90\u001b[0m, in \u001b[0;36mHTTPConnection.handle_request\u001b[0;34m(self, request)\u001b[0m\n\u001b[1;32m     87\u001b[0m     \u001b[38;5;28;01melif\u001b[39;00m \u001b[38;5;129;01mnot\u001b[39;00m \u001b[38;5;28mself\u001b[39m\u001b[38;5;241m.\u001b[39m_connection\u001b[38;5;241m.\u001b[39mis_available():\n\u001b[1;32m     88\u001b[0m         \u001b[38;5;28;01mraise\u001b[39;00m ConnectionNotAvailable()\n\u001b[0;32m---> 90\u001b[0m \u001b[38;5;28;01mreturn\u001b[39;00m \u001b[38;5;28;43mself\u001b[39;49m\u001b[38;5;241;43m.\u001b[39;49m\u001b[43m_connection\u001b[49m\u001b[38;5;241;43m.\u001b[39;49m\u001b[43mhandle_request\u001b[49m\u001b[43m(\u001b[49m\u001b[43mrequest\u001b[49m\u001b[43m)\u001b[49m\n",
      "File \u001b[0;32m~/miniconda3/lib/python3.8/site-packages/httpcore/_sync/http11.py:112\u001b[0m, in \u001b[0;36mHTTP11Connection.handle_request\u001b[0;34m(self, request)\u001b[0m\n\u001b[1;32m    110\u001b[0m \u001b[38;5;28;01mwith\u001b[39;00m Trace(\u001b[38;5;124m\"\u001b[39m\u001b[38;5;124mhttp11.response_closed\u001b[39m\u001b[38;5;124m\"\u001b[39m, request) \u001b[38;5;28;01mas\u001b[39;00m trace:\n\u001b[1;32m    111\u001b[0m     \u001b[38;5;28mself\u001b[39m\u001b[38;5;241m.\u001b[39m_response_closed()\n\u001b[0;32m--> 112\u001b[0m \u001b[38;5;28;01mraise\u001b[39;00m exc\n",
      "File \u001b[0;32m~/miniconda3/lib/python3.8/site-packages/httpcore/_sync/http11.py:91\u001b[0m, in \u001b[0;36mHTTP11Connection.handle_request\u001b[0;34m(self, request)\u001b[0m\n\u001b[1;32m     82\u001b[0m     \u001b[38;5;28mself\u001b[39m\u001b[38;5;241m.\u001b[39m_send_request_body(\u001b[38;5;241m*\u001b[39m\u001b[38;5;241m*\u001b[39mkwargs)\n\u001b[1;32m     83\u001b[0m \u001b[38;5;28;01mwith\u001b[39;00m Trace(\n\u001b[1;32m     84\u001b[0m     \u001b[38;5;124m\"\u001b[39m\u001b[38;5;124mhttp11.receive_response_headers\u001b[39m\u001b[38;5;124m\"\u001b[39m, request, kwargs\n\u001b[1;32m     85\u001b[0m ) \u001b[38;5;28;01mas\u001b[39;00m trace:\n\u001b[1;32m     86\u001b[0m     (\n\u001b[1;32m     87\u001b[0m         http_version,\n\u001b[1;32m     88\u001b[0m         status,\n\u001b[1;32m     89\u001b[0m         reason_phrase,\n\u001b[1;32m     90\u001b[0m         headers,\n\u001b[0;32m---> 91\u001b[0m     ) \u001b[38;5;241m=\u001b[39m \u001b[38;5;28;43mself\u001b[39;49m\u001b[38;5;241;43m.\u001b[39;49m\u001b[43m_receive_response_headers\u001b[49m\u001b[43m(\u001b[49m\u001b[38;5;241;43m*\u001b[39;49m\u001b[38;5;241;43m*\u001b[39;49m\u001b[43mkwargs\u001b[49m\u001b[43m)\u001b[49m\n\u001b[1;32m     92\u001b[0m     trace\u001b[38;5;241m.\u001b[39mreturn_value \u001b[38;5;241m=\u001b[39m (\n\u001b[1;32m     93\u001b[0m         http_version,\n\u001b[1;32m     94\u001b[0m         status,\n\u001b[1;32m     95\u001b[0m         reason_phrase,\n\u001b[1;32m     96\u001b[0m         headers,\n\u001b[1;32m     97\u001b[0m     )\n\u001b[1;32m     99\u001b[0m \u001b[38;5;28;01mreturn\u001b[39;00m Response(\n\u001b[1;32m    100\u001b[0m     status\u001b[38;5;241m=\u001b[39mstatus,\n\u001b[1;32m    101\u001b[0m     headers\u001b[38;5;241m=\u001b[39mheaders,\n\u001b[0;32m   (...)\u001b[0m\n\u001b[1;32m    107\u001b[0m     },\n\u001b[1;32m    108\u001b[0m )\n",
      "File \u001b[0;32m~/miniconda3/lib/python3.8/site-packages/httpcore/_sync/http11.py:155\u001b[0m, in \u001b[0;36mHTTP11Connection._receive_response_headers\u001b[0;34m(self, request)\u001b[0m\n\u001b[1;32m    152\u001b[0m timeout \u001b[38;5;241m=\u001b[39m timeouts\u001b[38;5;241m.\u001b[39mget(\u001b[38;5;124m\"\u001b[39m\u001b[38;5;124mread\u001b[39m\u001b[38;5;124m\"\u001b[39m, \u001b[38;5;28;01mNone\u001b[39;00m)\n\u001b[1;32m    154\u001b[0m \u001b[38;5;28;01mwhile\u001b[39;00m \u001b[38;5;28;01mTrue\u001b[39;00m:\n\u001b[0;32m--> 155\u001b[0m     event \u001b[38;5;241m=\u001b[39m \u001b[38;5;28;43mself\u001b[39;49m\u001b[38;5;241;43m.\u001b[39;49m\u001b[43m_receive_event\u001b[49m\u001b[43m(\u001b[49m\u001b[43mtimeout\u001b[49m\u001b[38;5;241;43m=\u001b[39;49m\u001b[43mtimeout\u001b[49m\u001b[43m)\u001b[49m\n\u001b[1;32m    156\u001b[0m     \u001b[38;5;28;01mif\u001b[39;00m \u001b[38;5;28misinstance\u001b[39m(event, h11\u001b[38;5;241m.\u001b[39mResponse):\n\u001b[1;32m    157\u001b[0m         \u001b[38;5;28;01mbreak\u001b[39;00m\n",
      "File \u001b[0;32m~/miniconda3/lib/python3.8/site-packages/httpcore/_sync/http11.py:191\u001b[0m, in \u001b[0;36mHTTP11Connection._receive_event\u001b[0;34m(self, timeout)\u001b[0m\n\u001b[1;32m    188\u001b[0m     event \u001b[38;5;241m=\u001b[39m \u001b[38;5;28mself\u001b[39m\u001b[38;5;241m.\u001b[39m_h11_state\u001b[38;5;241m.\u001b[39mnext_event()\n\u001b[1;32m    190\u001b[0m \u001b[38;5;28;01mif\u001b[39;00m event \u001b[38;5;129;01mis\u001b[39;00m h11\u001b[38;5;241m.\u001b[39mNEED_DATA:\n\u001b[0;32m--> 191\u001b[0m     data \u001b[38;5;241m=\u001b[39m \u001b[38;5;28;43mself\u001b[39;49m\u001b[38;5;241;43m.\u001b[39;49m\u001b[43m_network_stream\u001b[49m\u001b[38;5;241;43m.\u001b[39;49m\u001b[43mread\u001b[49m\u001b[43m(\u001b[49m\n\u001b[1;32m    192\u001b[0m \u001b[43m        \u001b[49m\u001b[38;5;28;43mself\u001b[39;49m\u001b[38;5;241;43m.\u001b[39;49m\u001b[43mREAD_NUM_BYTES\u001b[49m\u001b[43m,\u001b[49m\u001b[43m \u001b[49m\u001b[43mtimeout\u001b[49m\u001b[38;5;241;43m=\u001b[39;49m\u001b[43mtimeout\u001b[49m\n\u001b[1;32m    193\u001b[0m \u001b[43m    \u001b[49m\u001b[43m)\u001b[49m\n\u001b[1;32m    195\u001b[0m     \u001b[38;5;66;03m# If we feed this case through h11 we'll raise an exception like:\u001b[39;00m\n\u001b[1;32m    196\u001b[0m     \u001b[38;5;66;03m#\u001b[39;00m\n\u001b[1;32m    197\u001b[0m     \u001b[38;5;66;03m#     httpcore.RemoteProtocolError: can't handle event type\u001b[39;00m\n\u001b[0;32m   (...)\u001b[0m\n\u001b[1;32m    201\u001b[0m     \u001b[38;5;66;03m# perspective. Instead we handle this case distinctly and treat\u001b[39;00m\n\u001b[1;32m    202\u001b[0m     \u001b[38;5;66;03m# it as a ConnectError.\u001b[39;00m\n\u001b[1;32m    203\u001b[0m     \u001b[38;5;28;01mif\u001b[39;00m data \u001b[38;5;241m==\u001b[39m \u001b[38;5;124mb\u001b[39m\u001b[38;5;124m\"\u001b[39m\u001b[38;5;124m\"\u001b[39m \u001b[38;5;129;01mand\u001b[39;00m \u001b[38;5;28mself\u001b[39m\u001b[38;5;241m.\u001b[39m_h11_state\u001b[38;5;241m.\u001b[39mtheir_state \u001b[38;5;241m==\u001b[39m h11\u001b[38;5;241m.\u001b[39mSEND_RESPONSE:\n",
      "File \u001b[0;32m~/miniconda3/lib/python3.8/site-packages/httpcore/backends/sync.py:28\u001b[0m, in \u001b[0;36mSyncStream.read\u001b[0;34m(self, max_bytes, timeout)\u001b[0m\n\u001b[1;32m     26\u001b[0m \u001b[38;5;28;01mwith\u001b[39;00m map_exceptions(exc_map):\n\u001b[1;32m     27\u001b[0m     \u001b[38;5;28mself\u001b[39m\u001b[38;5;241m.\u001b[39m_sock\u001b[38;5;241m.\u001b[39msettimeout(timeout)\n\u001b[0;32m---> 28\u001b[0m     \u001b[38;5;28;01mreturn\u001b[39;00m \u001b[38;5;28;43mself\u001b[39;49m\u001b[38;5;241;43m.\u001b[39;49m\u001b[43m_sock\u001b[49m\u001b[38;5;241;43m.\u001b[39;49m\u001b[43mrecv\u001b[49m\u001b[43m(\u001b[49m\u001b[43mmax_bytes\u001b[49m\u001b[43m)\u001b[49m\n",
      "File \u001b[0;32m~/miniconda3/lib/python3.8/ssl.py:1226\u001b[0m, in \u001b[0;36mSSLSocket.recv\u001b[0;34m(self, buflen, flags)\u001b[0m\n\u001b[1;32m   1222\u001b[0m     \u001b[38;5;28;01mif\u001b[39;00m flags \u001b[38;5;241m!=\u001b[39m \u001b[38;5;241m0\u001b[39m:\n\u001b[1;32m   1223\u001b[0m         \u001b[38;5;28;01mraise\u001b[39;00m \u001b[38;5;167;01mValueError\u001b[39;00m(\n\u001b[1;32m   1224\u001b[0m             \u001b[38;5;124m\"\u001b[39m\u001b[38;5;124mnon-zero flags not allowed in calls to recv() on \u001b[39m\u001b[38;5;132;01m%s\u001b[39;00m\u001b[38;5;124m\"\u001b[39m \u001b[38;5;241m%\u001b[39m\n\u001b[1;32m   1225\u001b[0m             \u001b[38;5;28mself\u001b[39m\u001b[38;5;241m.\u001b[39m\u001b[38;5;18m__class__\u001b[39m)\n\u001b[0;32m-> 1226\u001b[0m     \u001b[38;5;28;01mreturn\u001b[39;00m \u001b[38;5;28;43mself\u001b[39;49m\u001b[38;5;241;43m.\u001b[39;49m\u001b[43mread\u001b[49m\u001b[43m(\u001b[49m\u001b[43mbuflen\u001b[49m\u001b[43m)\u001b[49m\n\u001b[1;32m   1227\u001b[0m \u001b[38;5;28;01melse\u001b[39;00m:\n\u001b[1;32m   1228\u001b[0m     \u001b[38;5;28;01mreturn\u001b[39;00m \u001b[38;5;28msuper\u001b[39m()\u001b[38;5;241m.\u001b[39mrecv(buflen, flags)\n",
      "File \u001b[0;32m~/miniconda3/lib/python3.8/ssl.py:1101\u001b[0m, in \u001b[0;36mSSLSocket.read\u001b[0;34m(self, len, buffer)\u001b[0m\n\u001b[1;32m   1099\u001b[0m         \u001b[38;5;28;01mreturn\u001b[39;00m \u001b[38;5;28mself\u001b[39m\u001b[38;5;241m.\u001b[39m_sslobj\u001b[38;5;241m.\u001b[39mread(\u001b[38;5;28mlen\u001b[39m, buffer)\n\u001b[1;32m   1100\u001b[0m     \u001b[38;5;28;01melse\u001b[39;00m:\n\u001b[0;32m-> 1101\u001b[0m         \u001b[38;5;28;01mreturn\u001b[39;00m \u001b[38;5;28;43mself\u001b[39;49m\u001b[38;5;241;43m.\u001b[39;49m\u001b[43m_sslobj\u001b[49m\u001b[38;5;241;43m.\u001b[39;49m\u001b[43mread\u001b[49m\u001b[43m(\u001b[49m\u001b[38;5;28;43mlen\u001b[39;49m\u001b[43m)\u001b[49m\n\u001b[1;32m   1102\u001b[0m \u001b[38;5;28;01mexcept\u001b[39;00m SSLError \u001b[38;5;28;01mas\u001b[39;00m x:\n\u001b[1;32m   1103\u001b[0m     \u001b[38;5;28;01mif\u001b[39;00m x\u001b[38;5;241m.\u001b[39margs[\u001b[38;5;241m0\u001b[39m] \u001b[38;5;241m==\u001b[39m SSL_ERROR_EOF \u001b[38;5;129;01mand\u001b[39;00m \u001b[38;5;28mself\u001b[39m\u001b[38;5;241m.\u001b[39msuppress_ragged_eofs:\n",
      "\u001b[0;31mKeyboardInterrupt\u001b[0m: "
     ]
    }
   ],
   "source": [
    "iquery.chat()"
   ]
  },
  {
   "cell_type": "code",
   "execution_count": null,
   "id": "5a00365b-af17-43eb-9db2-02b24adce0fa",
   "metadata": {},
   "outputs": [],
   "source": []
  }
 ],
 "metadata": {
  "kernelspec": {
   "display_name": "Python 3 (ipykernel)",
   "language": "python",
   "name": "python3"
  },
  "language_info": {
   "codemirror_mode": {
    "name": "ipython",
    "version": 3
   },
   "file_extension": ".py",
   "mimetype": "text/x-python",
   "name": "python",
   "nbconvert_exporter": "python",
   "pygments_lexer": "ipython3",
   "version": "3.12.0"
  }
 },
 "nbformat": 4,
 "nbformat_minor": 5
}
