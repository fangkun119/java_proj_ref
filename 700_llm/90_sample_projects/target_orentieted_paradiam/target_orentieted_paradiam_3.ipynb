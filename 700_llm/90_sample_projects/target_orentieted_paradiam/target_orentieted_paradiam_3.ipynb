{
 "cells": [
  {
   "cell_type": "markdown",
   "id": "21d61998-7861-488c-971a-0bab7fdd0b40",
   "metadata": {
    "tags": []
   },
   "source": [
    "# 面向目标架构案例实践(下)"
   ]
  },
  {
   "cell_type": "markdown",
   "id": "3ee3fe73-cfbc-4840-804e-1b9256e87439",
   "metadata": {},
   "source": [
    "## 1. 自动代码审查流程"
   ]
  },
  {
   "cell_type": "code",
   "execution_count": 47,
   "id": "5e51c7bc-4ed8-4df4-a4c2-4fa97587af45",
   "metadata": {
    "tags": []
   },
   "outputs": [],
   "source": [
    "import os\n",
    "import openai\n",
    "from openai import OpenAI\n",
    "import shutil\n",
    "\n",
    "import json\n",
    "import io\n",
    "import inspect\n",
    "import requests\n",
    "import re\n",
    "import random\n",
    "import string\n",
    "\n",
    "import openai\n",
    "from openai import OpenAI\n",
    "import os\n",
    "\n",
    "## 初始化客户端\n",
    "api_key = os.getenv(\"ZHIPU_API_KEY\")\n",
    "\n",
    "from zhipuai import ZhipuAI\n",
    "client = ZhipuAI(api_key=api_key)"
   ]
  },
  {
   "cell_type": "markdown",
   "id": "b0431641-3b1b-46ed-aa4c-46e386e2ba63",
   "metadata": {},
   "source": [
    "### 1.1 大模型debug能力测试"
   ]
  },
  {
   "cell_type": "code",
   "execution_count": 3,
   "id": "53b0eed3-e604-4cbe-be60-bb2e46b09e21",
   "metadata": {
    "tags": []
   },
   "outputs": [],
   "source": [
    "def print_multi():\n",
    "    for i in range(1, 10):  # 控制行数，从1到9\n",
    "        for j in range(1, i+1):  # 控制每行的列数，从1到i\n",
    "            print(f\"{j}x{i}={i*j}\", end=\"\\t\")  # 打印乘法表达式，使用\\t进行分隔\n",
    "        print()  # 每完成一行的输出后换行"
   ]
  },
  {
   "cell_type": "code",
   "execution_count": 5,
   "id": "e4f93b5a-dc19-4048-8789-8d8d632e0ce4",
   "metadata": {
    "tags": []
   },
   "outputs": [
    {
     "name": "stdout",
     "output_type": "stream",
     "text": [
      "1x1=1\t\n",
      "1x2=2\t2x2=4\t\n",
      "1x3=3\t2x3=6\t3x3=9\t\n",
      "1x4=4\t2x4=8\t3x4=12\t4x4=16\t\n",
      "1x5=5\t2x5=10\t3x5=15\t4x5=20\t5x5=25\t\n",
      "1x6=6\t2x6=12\t3x6=18\t4x6=24\t5x6=30\t6x6=36\t\n",
      "1x7=7\t2x7=14\t3x7=21\t4x7=28\t5x7=35\t6x7=42\t7x7=49\t\n",
      "1x8=8\t2x8=16\t3x8=24\t4x8=32\t5x8=40\t6x8=48\t7x8=56\t8x8=64\t\n",
      "1x9=9\t2x9=18\t3x9=27\t4x9=36\t5x9=45\t6x9=54\t7x9=63\t8x9=72\t9x9=81\t\n"
     ]
    }
   ],
   "source": [
    "print_multi()"
   ]
  },
  {
   "cell_type": "code",
   "execution_count": 6,
   "id": "4e79f7e6-6239-431d-a7db-6f80d61cfb2f",
   "metadata": {
    "tags": []
   },
   "outputs": [],
   "source": [
    "content=\"\"\"\n",
    "def print_multi():\n",
    "    for i in range(1, 10):  # 控制行数，从1到9\n",
    "        for j in range(1, i+1):  # 控制每行的列数，从1到i\n",
    "            print(f\"{j}x{i}={i j}\", end=\"\\t\")  # 打印乘法表达式，使用\\t进行分隔\n",
    "        print()  # 每完成一行的输出后换行\n",
    "\"\"\""
   ]
  },
  {
   "cell_type": "code",
   "execution_count": 7,
   "id": "81ca13ef-0bc4-4485-b68b-e29230762558",
   "metadata": {
    "tags": []
   },
   "outputs": [],
   "source": [
    "messages = [{\"role\": \"user\",  \"content\": \"现有函数如下：%s，该函数是否有和问题，应该如何修改？\" % content}]"
   ]
  },
  {
   "cell_type": "code",
   "execution_count": 10,
   "id": "7805b640-afdf-401d-8469-8bab29c602c1",
   "metadata": {
    "tags": []
   },
   "outputs": [],
   "source": [
    "response = client.chat.completions.create(\n",
    "                        model=\"glm-4\",\n",
    "                        messages=messages)\n",
    "\n",
    "response_message = response.choices[0].message"
   ]
  },
  {
   "cell_type": "code",
   "execution_count": 28,
   "id": "bfc94578-03dd-4a4f-b19c-1dc1a5d76b81",
   "metadata": {
    "tags": []
   },
   "outputs": [],
   "source": [
    "def extract_code(s):\n",
    "    \"\"\"\n",
    "    如果输入的字符串s是一个包含Python代码的Markdown格式字符串，提取出代码部分。\n",
    "    否则，返回原字符串。\n",
    "\n",
    "    参数:\n",
    "    s: 输入的字符串。\n",
    "\n",
    "    返回:\n",
    "    提取出的代码部分，或原字符串。\n",
    "    \"\"\"\n",
    "    # 判断字符串是否是Markdown格式\n",
    "    if '```python' in s or 'Python' in s or'PYTHON' in s:\n",
    "        # 找到代码块的开始和结束位置\n",
    "        code_start = s.find('def')\n",
    "        code_end = s.find('```\\n', code_start)\n",
    "        # 提取代码部分\n",
    "        code = s[code_start:code_end]\n",
    "    else:\n",
    "        # 如果字符串不是Markdown格式，返回原字符串\n",
    "        code = s\n",
    "\n",
    "    return code"
   ]
  },
  {
   "cell_type": "code",
   "execution_count": 15,
   "id": "6f79226c-f5d1-473e-a7da-9850157c0813",
   "metadata": {
    "tags": []
   },
   "outputs": [],
   "source": [
    "python_code=extract_code(response_message.content)"
   ]
  },
  {
   "cell_type": "code",
   "execution_count": 16,
   "id": "5bd12b3a-3b85-4a37-8c4b-81f13fb36bc8",
   "metadata": {
    "tags": []
   },
   "outputs": [
    {
     "name": "stdout",
     "output_type": "stream",
     "text": [
      "def print_multi():\n",
      "    for i in range(1, 10):  # 控制行数，从1到9\n",
      "        for j in range(1, i+1):  # 控制每行的列数，从1到i\n",
      "            # 使用空格分隔，并且修正了格式化字符串的错误\n",
      "            print(f\"{j}x{i}={i*j}\", end=\" \")\n",
      "        print()  # 每完成一行的输出后换行\n",
      "\n"
     ]
    }
   ],
   "source": [
    "print(python_code)"
   ]
  },
  {
   "cell_type": "code",
   "execution_count": 17,
   "id": "4b1db09c-4227-4144-9767-9864587a86db",
   "metadata": {
    "tags": []
   },
   "outputs": [],
   "source": [
    "exec(python_code)"
   ]
  },
  {
   "cell_type": "code",
   "execution_count": 19,
   "id": "15e5ba85-654e-4b3e-a80a-721a13c2dfed",
   "metadata": {
    "tags": []
   },
   "outputs": [
    {
     "name": "stdout",
     "output_type": "stream",
     "text": [
      "1x1=1 \n",
      "1x2=2 2x2=4 \n",
      "1x3=3 2x3=6 3x3=9 \n",
      "1x4=4 2x4=8 3x4=12 4x4=16 \n",
      "1x5=5 2x5=10 3x5=15 4x5=20 5x5=25 \n",
      "1x6=6 2x6=12 3x6=18 4x6=24 5x6=30 6x6=36 \n",
      "1x7=7 2x7=14 3x7=21 4x7=28 5x7=35 6x7=42 7x7=49 \n",
      "1x8=8 2x8=16 3x8=24 4x8=32 5x8=40 6x8=48 7x8=56 8x8=64 \n",
      "1x9=9 2x9=18 3x9=27 4x9=36 5x9=45 6x9=54 7x9=63 8x9=72 9x9=81 \n"
     ]
    }
   ],
   "source": [
    "print_multi()"
   ]
  },
  {
   "cell_type": "markdown",
   "id": "090e77e5-b985-4a8f-a947-e91d061698bc",
   "metadata": {},
   "source": [
    "总结：我们看到大模型的确有代码修复的能力，但是我们看到的是纯算法的代码，我们继续测试带有业务性质的代码逻辑。"
   ]
  },
  {
   "cell_type": "markdown",
   "id": "b742ff2a-b60b-4534-977f-23d526c689e5",
   "metadata": {},
   "source": [
    "这个地方，我们准备了一个错误的函数，我人为改错的。里面的userId,在函数里面传递传错了，我们看一下大模型是否能正常修改。"
   ]
  },
  {
   "cell_type": "code",
   "execution_count": 20,
   "id": "9de2a392-5d93-4cc4-83bf-0b7ce352376f",
   "metadata": {},
   "outputs": [],
   "source": [
    "with open('./error_function_test/get_latest_email/get_latest_email_module.py' , encoding='utf-8') as f:\n",
    "    content = f.read()"
   ]
  },
  {
   "cell_type": "code",
   "execution_count": 21,
   "id": "6f339582-8f21-4bf9-a4d7-b2f4b5800941",
   "metadata": {
    "tags": []
   },
   "outputs": [
    {
     "name": "stdout",
     "output_type": "stream",
     "text": [
      "def get_latest_email(userId):\n",
      "    \"\"\"\n",
      "    获取最新的一封邮件\n",
      "    参数:\n",
      "    user_id: 要检索邮件的用户的ID。默认值是'me'，数据格式为字符串类型。\n",
      "\n",
      "    返回:\n",
      "    一个列表，其中每个元素都是一个字典，表示一封邮件。每个字典包含以下键：\n",
      "    'from_userid': 发件人ID。\n",
      "    'date': 邮件的发送日期。\n",
      "    'subject': 邮件的主题。\n",
      "    'snippet': 邮件的摘要（前100个字符）。\n",
      "    \"\"\"\n",
      "    mysql_pw=\"gpt\"\n",
      "    \n",
      "    connection = pymysql.connect(\n",
      "    host='localhost',  # 数据库地址\n",
      "    user='gpt',  # 数据库用户名\n",
      "    passwd=mysql_pw,  # 数据库密码\n",
      "    db='my_mail',  # 数据库名\n",
      "    charset='utf8'  # 字符集选择utf8   \n",
      "    )\n",
      "    sql_query=f\"SELECT * FROM mailbox WHERE userid = '{me}' ORDER BY date DESC LIMIT 1\";\n",
      "\n",
      "    try:\n",
      "        with connection.cursor() as cursor:\n",
      "            sql = sql_query\n",
      "            cursor.execute(sql)\n",
      "            results = cursor.fetchall()\n",
      "    finally:\n",
      "        cursor.close()\n",
      "    \n",
      "    column_names = [desc[0] for desc in cursor.description]\n",
      "\n",
      "    # 使用results和column_names创建DataFrame\n",
      "    df = pd.DataFrame(results, columns=column_names)\n",
      "        \n",
      "    return df.to_json(orient = \"records\")  \n",
      "\n"
     ]
    }
   ],
   "source": [
    "print(content)"
   ]
  },
  {
   "cell_type": "code",
   "execution_count": 23,
   "id": "fd3b4c2d-7aa6-47bd-86a4-1ac70a9b02eb",
   "metadata": {
    "tags": []
   },
   "outputs": [],
   "source": [
    "messages = [{\"role\": \"user\",  \"content\": \"现有函数如下：%s，该函数是否有和问题，应该如何修改？\" % content}]"
   ]
  },
  {
   "cell_type": "code",
   "execution_count": 24,
   "id": "93d5b0e3-fe2f-4f1f-898d-ee381b5eb007",
   "metadata": {
    "tags": []
   },
   "outputs": [],
   "source": [
    "response = client.chat.completions.create(\n",
    "                        model=\"glm-4\",\n",
    "                        messages=messages)\n",
    "\n",
    "response_message = response.choices[0].message"
   ]
  },
  {
   "cell_type": "code",
   "execution_count": 26,
   "id": "3193500c-fb89-4821-93e2-29ce91ea8d55",
   "metadata": {
    "tags": []
   },
   "outputs": [
    {
     "name": "stdout",
     "output_type": "stream",
     "text": [
      "该函数存在一些潜在问题和可以改进的地方：\n",
      "\n",
      "1. `userId` 参数未在函数体内正确使用，而是使用了硬编码的 `'me'`。\n",
      "2. 直接使用 `f-string` 将变量 `userId` 插入到 SQL 查询中是不安全的，这可能导致 SQL 注入风险。\n",
      "3. `pymysql` 应该在 `try` 块外创建连接，并在 `finally` 块中关闭连接。\n",
      "4. 函数的注释中提到了返回一个列表，但实际返回的是 JSON 字符串。\n",
      "5. `mysql_pw` 应该从环境变量或配置文件中读取，而不是硬编码在函数中。\n",
      "6. 函数名和变量名应遵循 Python 的命名约定（如使用 `snake_case`）。\n",
      "\n",
      "以下是修改后的代码：\n",
      "\n",
      "```python\n",
      "import pymysql\n",
      "import pandas as pd\n",
      "import json\n",
      "\n",
      "def get_latest_email(user_id: str):\n",
      "    \"\"\"\n",
      "    获取最新的一封邮件\n",
      "    \n",
      "    参数:\n",
      "    user_id: 要检索邮件的用户的ID。默认值是'me'，数据格式为字符串类型。\n",
      "    \n",
      "    返回:\n",
      "    一个字典，代表一封邮件。字典包含以下键：\n",
      "    'from_userid': 发件人ID。\n",
      "    'date': 邮件的发送日期。\n",
      "    'subject': 邮件的主题。\n",
      "    'snippet': 邮件的摘要（前100个字符）。\n",
      "    如果没有找到邮件，返回空字典。\n",
      "    \"\"\"\n",
      "    # 从环境变量或配置文件中读取数据库配置\n",
      "    host = 'localhost'\n",
      "    user = 'gpt'\n",
      "    password = \"your_database_password\"  # 不要在这里硬编码密码\n",
      "    db = 'my_mail'\n",
      "    charset = 'utf8'\n",
      "    \n",
      "    # 创建连接应该在try块外部\n",
      "    connection = pymysql.connect(host=host, user=user, passwd=password, db=db, charset=charset)\n",
      "    \n",
      "    # 使用参数化查询避免SQL注入\n",
      "    sql_query = \"SELECT * FROM mailbox WHERE userid = %s ORDER BY date DESC LIMIT 1\"\n",
      "    \n",
      "    try:\n",
      "        with connection.cursor() as cursor:\n",
      "            cursor.execute(sql_query, (user_id,))\n",
      "            result = cursor.fetchone()\n",
      "            if result:\n",
      "                # 使用列名和查询结果生成字典\n",
      "                column_names = [desc[0] for desc in cursor.description]\n",
      "                email_data = dict(zip(column_names, result))\n",
      "            else:\n",
      "                email_data = {}\n",
      "    finally:\n",
      "        # 确保关闭连接\n",
      "        connection.close()\n",
      "    \n",
      "    # 返回字典而不是JSON字符串\n",
      "    return email_data\n",
      "\n",
      "# 调用函数示例\n",
      "latest_email = get_latest_email('some_user_id')\n",
      "print(latest_email)\n",
      "```\n",
      "\n",
      "在这个修改后的版本中，我做了以下改动：\n",
      "\n",
      "- 将返回类型从 JSON 字符串更改为 Python 字典。\n",
      "- 修正了 SQL 注入问题，通过使用参数化查询。\n",
      "- 将数据库连接的创建移到了 `try` 块的外部，并在 `finally` 块中关闭连接。\n",
      "- 移除了硬编码的数据库密码，并将其替换为注释提示你应该从安全的地方获取密码。\n",
      "- 更改了函数返回值的描述，以反映实际返回的是字典。\n"
     ]
    }
   ],
   "source": [
    "print(response_message.content)"
   ]
  },
  {
   "cell_type": "code",
   "execution_count": 2,
   "id": "e37a77b4-9b2c-4ee1-98c6-129b451ec458",
   "metadata": {
    "tags": []
   },
   "outputs": [],
   "source": [
    "import pymysql\n",
    "import pandas as pd\n",
    "import json\n",
    "\n",
    "def get_latest_email(user_id: str):\n",
    "    \"\"\"\n",
    "    获取最新的一封邮件\n",
    "    \n",
    "    参数:\n",
    "    user_id: 要检索邮件的用户的ID。默认值是'me'，数据格式为字符串类型。\n",
    "    \n",
    "    返回:\n",
    "    一个字典，代表一封邮件。字典包含以下键：\n",
    "    'from_userid': 发件人ID。\n",
    "    'date': 邮件的发送日期。\n",
    "    'subject': 邮件的主题。\n",
    "    'snippet': 邮件的摘要（前100个字符）。\n",
    "    如果没有找到邮件，返回空字典。\n",
    "    \"\"\"\n",
    "    # 从环境变量或配置文件中读取数据库配置\n",
    "    host = 'localhost'\n",
    "    user = 'gpt'\n",
    "    password = \"gpt\"  # 不要在这里硬编码密码\n",
    "    db = 'my_mail'\n",
    "    charset = 'utf8'\n",
    "    \n",
    "    # 创建连接应该在try块外部\n",
    "    connection = pymysql.connect(host=host, user=user, passwd=password, db=db, charset=charset)\n",
    "    \n",
    "    # 使用参数化查询避免SQL注入\n",
    "    sql_query = \"SELECT * FROM mailbox WHERE userid = %s ORDER BY date DESC LIMIT 1\"\n",
    "    \n",
    "    try:\n",
    "        with connection.cursor() as cursor:\n",
    "            cursor.execute(sql_query, (user_id,))\n",
    "            result = cursor.fetchone()\n",
    "            if result:\n",
    "                # 使用列名和查询结果生成字典\n",
    "                column_names = [desc[0] for desc in cursor.description]\n",
    "                email_data = dict(zip(column_names, result))\n",
    "            else:\n",
    "                email_data = {}\n",
    "    finally:\n",
    "        # 确保关闭连接\n",
    "        connection.close()\n",
    "    \n",
    "    # 返回字典而不是JSON字符串\n",
    "    return email_data"
   ]
  },
  {
   "cell_type": "code",
   "execution_count": 3,
   "id": "87e50e17-7b3d-4877-96b8-ad8fdcec5076",
   "metadata": {
    "tags": []
   },
   "outputs": [
    {
     "name": "stdout",
     "output_type": "stream",
     "text": [
      "{'userid': 'me', 'from_userid': '西门吹雪', 'date': '2024-06-07', 'subject': '开会', 'snippet': '明天10点到海淀区叶青大厦5楼502开会', 'status': '已读', 'label': '开会'}\n"
     ]
    }
   ],
   "source": [
    "latest_email = get_latest_email('me')\n",
    "print(latest_email)"
   ]
  },
  {
   "cell_type": "markdown",
   "id": "b47f5db5-d3c5-4501-8b7b-1771ba37fe01",
   "metadata": {},
   "source": [
    "总结：看到大模型对这种有业务性质的代码，也照样能进行改正，我们可以相信大模型。"
   ]
  },
  {
   "cell_type": "markdown",
   "id": "475e49b9-a0e1-4de9-a0ef-6c960855abe9",
   "metadata": {},
   "source": [
    "### 1.2 审查模型构建方案剖析"
   ]
  },
  {
   "cell_type": "markdown",
   "id": "b23f8e01-e8fb-45bd-8bdc-5f4bab0a058a",
   "metadata": {},
   "source": [
    "&emsp;&emsp;尽管上述示例中，我们只提供了函数代码信息，模型即可顺利找出代码问题并进行了有效修改，但实际上，由于此时用于审查的大模型（以下简称审查模型）并不知道该函数创建的前后信息，有时修改之后的模型可能也无法达到要求。例如审查模型并不知道我们业务的背景，我们目前的业务只是我们自己模拟的一个业务而已。\n",
    "\n",
    "同时我们需要函数的输入和输出都是字符串格式等信息，因此审查模型在修改时也很有可能修改得到功能正常但不满足这些背景要求的函数。此外由于在进行函数创建时，为了积累成功函数的提示示例，我们不仅需要功能正常的函数代码，同时也需要各阶段的提示内容，因此对于一个报错函数，仅仅修改代码可能并不足够。基于此，我们不仅需要让审查模型审查代码，同时也需要让其审查整个提示流程，并在必要的时候对提示词进行修改。以此才能真正达到审查之目的，最终修改的结果才能直接使用。"
   ]
  },
  {
   "cell_type": "markdown",
   "id": "4903d0d9-4dd1-473a-91b8-b7ad6b0f2bee",
   "metadata": {},
   "source": [
    "- 我们怎么样让大模型帮我们全流程审核代码呢？"
   ]
  },
  {
   "cell_type": "markdown",
   "id": "33265fd3-917b-4bd5-a625-9774d2f24f8c",
   "metadata": {
    "tags": []
   },
   "source": [
    "**预训练，微调**：这些方案需要的数据量很大，我们压根也没有那么多的样本的数据，而且这种方案门槛很高，成本也很高。所以不现实。"
   ]
  },
  {
   "cell_type": "markdown",
   "id": "25ac8228-cd70-4652-b07e-e5d52d1d30a6",
   "metadata": {
    "tags": []
   },
   "source": [
    "**One-Shot，Few-Shot**：这些方案在简单场景下有用，复杂场景就不管用了，而且如果我们Few-shot的量大的话，我们的上文的Token就不够用，所以这个方案也行不通。"
   ]
  },
  {
   "cell_type": "markdown",
   "id": "a94d92ac-93e1-40a1-ba0e-a9b713311c64",
   "metadata": {},
   "source": [
    "**外挂本地知识库**：大模型本身能力就很强，而且懂的也很多，所以我们换个思路，我们搞一个本地知识库，在本地知识库里激发这个大模型的能力，从而引导这个大模型完成审查任务。"
   ]
  },
  {
   "cell_type": "markdown",
   "id": "3701e229-79c5-476c-a2a8-12f86b5f7212",
   "metadata": {},
   "source": [
    "- 检查大模型本身具备的知识"
   ]
  },
  {
   "cell_type": "markdown",
   "id": "cabc90f5-2b87-4041-9c15-3024cd7d116a",
   "metadata": {},
   "source": [
    "&emsp;&emsp;如何引导和启发一个大语言模型去理解一些陌生的事物？就像老师教学一样，有两个简单高效的方法，其一是是用其已知的知识去类比未知的知识，其二则是将陌生事物视为某些一般概念的特例。例如，当前的外部挂载文档非常重要的一个作用就是要让大语言模型理解现在要审查的多段提示，即要引导大语言模型理解什么是多段提示，但如果从头开始进行相关概念介绍（例如从头介绍两个阶段的提示分别是什么、什么是LtM、什么是问题拆解等）会非常的繁琐且效率很低，因此这里我们可以将多段提示比喻成推理链，借助大语言模型本身对推理链的理解来理解什么是多段提示。当然，这里我们需要简单测试下大语言模型本身是否知道什么是推理链："
   ]
  },
  {
   "cell_type": "code",
   "execution_count": 6,
   "id": "08359e1b-f503-410c-8769-0de70bcd1576",
   "metadata": {
    "tags": []
   },
   "outputs": [],
   "source": [
    "messages = [{\"role\": \"user\",  \"content\": \"请问什么是推理链?\"}]"
   ]
  },
  {
   "cell_type": "code",
   "execution_count": 7,
   "id": "d667f98e-94ea-4a79-8d7b-e8b57eae680a",
   "metadata": {
    "tags": []
   },
   "outputs": [
    {
     "data": {
      "text/plain": [
       "'推理链（Chain of Thought，简称CoT）是一种在大语言模型中用于提升复杂推理任务性能的方法。它主要涉及在生成最终答案之前，让模型明确地输出推理过程中的中间步骤。这种策略的核心思想是模拟人类解决问题时的思考过程，即通过一系列的逻辑推理步骤来逐步解析问题并得出结论。\\n\\n在使用推理链时，模型会被提供一些包含推理步骤的示例，这些示例展示了如何从问题的提出到逐步解决问题，并最终得到答案的过程。通过这样的示例，模型学习到不仅仅关注答案本身，而是要重视达到答案的推理路径。\\n\\n推理链有两种主要类型：\\n\\n1. **Few-Shot CoT**：在这种模式下，模型通过观察并学习少量的包含推理步骤的示例来学会推理。这些示例通常由人工标注提供，作为推理过程的示范。\\n\\n2. **Zero-Shot CoT**：与Few-Shot不同，Zero-Shot CoT不依赖于人工提供的示例。模型直接被指示或者通过内置的指令来生成一系列的推理步骤，而不需要先前的示范。\\n\\n推理链有助于提升模型在算术推理、常识推理和符号推理等领域的性能。它不仅能够提高解题的正确率，而且使模型的推理过程更加透明和可解释。\\n\\n然而，推理链的使用也面临一些挑战，比如需要平衡推理步骤的数量以及确保示例质量的问题。过多的推理步骤可能会导致模型混淆，而质量低下的示例则会影响模型的学习效果。\\n\\n综上所述，推理链是一种促进大型语言模型进行类似人类思维方式的推理策略，旨在通过逐步分析问题来提高模型解决复杂问题的能力。'"
      ]
     },
     "execution_count": 7,
     "metadata": {},
     "output_type": "execute_result"
    }
   ],
   "source": [
    "response = client.chat.completions.create(\n",
    "                        model=\"glm-4\",\n",
    "                        messages=messages)\n",
    "\n",
    "response.choices[0].message.content"
   ]
  },
  {
   "cell_type": "markdown",
   "id": "3eec070c-762c-4eaf-8192-c0896a58107a",
   "metadata": {},
   "source": [
    "而在外部挂载文档中，我们就可以简单将多段提示看成是一种推理链，并且是一种非常特殊的推理链，其特殊之处在于这个推理链专门用于创建一系列关于邮箱的相关函数。这里我们进一步验证如果将多段提示视作推理链的话，大语言模型能否直接理解："
   ]
  },
  {
   "cell_type": "code",
   "execution_count": 8,
   "id": "fe41f733-9519-466b-bc7d-fb7c775b7c10",
   "metadata": {
    "tags": []
   },
   "outputs": [],
   "source": [
    "function_name = 'get_latest_email'"
   ]
  },
  {
   "cell_type": "code",
   "execution_count": 9,
   "id": "1f273d49-81fa-4307-91de-e30b0bafb950",
   "metadata": {
    "tags": []
   },
   "outputs": [],
   "source": [
    "with open('./functions/tested functions/%s/%s_prompt.json' % (function_name, function_name), 'r') as f:\n",
    "    msg = json.load(f)"
   ]
  },
  {
   "cell_type": "code",
   "execution_count": 10,
   "id": "5c4296ef-78f4-4501-82bd-a9ef818cdc30",
   "metadata": {
    "tags": []
   },
   "outputs": [],
   "source": [
    "chain_of_prompt = \"以下是个一个成功运行的推理链条，推理分为三个阶段，各阶段推理内容如下：%s。\" % msg"
   ]
  },
  {
   "cell_type": "code",
   "execution_count": 12,
   "id": "69b97830-031d-4ff2-b163-8e7216109a37",
   "metadata": {
    "tags": []
   },
   "outputs": [
    {
     "name": "stdout",
     "output_type": "stream",
     "text": [
      "这个推理链是一个包含三个阶段的对话过程，目的是为了创建一个Python函数来查看指定邮箱中的最新一封邮件内容。下面是对每个阶段的介绍：\n",
      "\n",
      "### 第一阶段(stage1_CD)\n",
      "- **角色**：用户（User）和助手（Assistant）\n",
      "- **内容**：\n",
      "  - 用户请求助手帮忙查看名为`mailbox`的邮箱中的最新一封邮件。\n",
      "  - 助手分析了用户的需求，并指出可以作为函数参数的信息是“查看谁的邮箱”。\n",
      "\n",
      "### 第二阶段(stage1_CM)\n",
      "- **角色**：用户（User）和助手（Assistant）\n",
      "- **内容**：\n",
      "  - 用户重申了之前的请求，并采纳了助手的分析结果，明确了函数参数的需求。\n",
      "  - 助手根据用户的具体要求，提出要创建一个Python函数，并列出了函数的四个要求：\n",
      "    1. 函数参数`userId`，默认为'me'表示查看自己的邮件。\n",
      "    2. 函数返回结果必须是一个JSON格式的对象，包含最后一封邮件的信息。\n",
      "    3. 所有功能需要封装在一个函数内。\n",
      "    4. 函数内部需要包含中文编写的详细说明文档。\n",
      "\n",
      "### 第三阶段(stage2)\n",
      "- **角色**：用户（User）和助手（Assistant）\n",
      "- **内容**：\n",
      "  - 用户再次提出根据之前要求编写函数的请求。\n",
      "  - 助手提供了一个名为`get_latest_email`的Python函数实现。这个函数使用pymysql连接数据库，查询名为`my_mail`的数据库中的`mailbox`表，并根据日期降序排列，取最新的一封邮件。函数还使用Pandas库来处理查询结果，并将结果转换为JSON格式返回。\n",
      "\n",
      "### 注意事项：\n",
      "1. 在这个推理链中，助手提供的代码示例假设邮箱数据存储在本地MySQL数据库的`my_mail`数据库的`mailbox`表中，这可能并不符合实际应用场景，实际情况下可能需要使用IMAP等协议来连接实际的邮箱服务。\n",
      "2. 代码示例中的敏感信息（如数据库密码）被硬编码在函数中，这是不安全的做法，实际应用中应该使用环境变量或其他安全的方式来存储敏感信息。\n",
      "3. 函数说明文档中提到的返回字段（例如`from_userid`、`date`等）并没有在代码的返回结果中明确体现，实际实现时应该保证文档和代码实现的一致性。\n",
      "\n",
      "这个推理链展示了从用户需求分析到函数实现的整个过程，体现了助手通过逐步分析用户意图和需求，最终提供了一个符合要求的解决方案。\n"
     ]
    }
   ],
   "source": [
    "response = client.chat.completions.create(\n",
    "                        model=\"glm-4\",\n",
    "                        messages=[{\"role\": \"user\",  \"content\": \"以下是一个推理链，用于创建一个满足某个功能的函数，推理链如下：%s。请帮我介绍下这个推理链\" % chain_of_prompt}]\n",
    ")\n",
    "\n",
    "print(response.choices[0].message.content)"
   ]
  },
  {
   "cell_type": "markdown",
   "id": "01134bc3-6c10-48c4-9561-1378d0f1d1ef",
   "metadata": {},
   "source": [
    "赞，这个效果比我预想的还要好，看来大模型能理解我们的这个推理链了。"
   ]
  },
  {
   "cell_type": "markdown",
   "id": "e54db2fc-60d6-4de9-81a5-8ba123773d7a",
   "metadata": {},
   "source": [
    "### 1.3 审查模型构建方案落地"
   ]
  },
  {
   "cell_type": "code",
   "execution_count": 13,
   "id": "05d5fd0e-1288-45dd-b519-00b7fa3e882d",
   "metadata": {
    "tags": []
   },
   "outputs": [
    {
     "name": "stdout",
     "output_type": "stream",
     "text": [
      "1.什么是邮箱项目？邮件项目本身由一系列的程序组成，核心功能是根据用户自然语言描述进行相应的邮箱操作，如查阅邮件、收发邮件等。该场景是我们自己构建的一个场景。\n",
      "主要实现的是对我们my_mail数据库里的数据进行增删查改。\n",
      "\n",
      "2.什么是推理链？在邮箱项目中，推理链特指将用户的需求逐步推导为python函数的过程，也就是说，每个推理链的输入都是用户需求，而推理的结果则是一个可以满足用户需求的函数。每个推理链都有三个推理环节，且都以json格式表示，例如，以下是一个正确的推理链A：\n",
      "\n",
      "```json\n",
      "{\"stage1_CD\": [{\"role\": \"user\", \"content\": \"\\u8bf7\\u5e2e\\u6211\\u67e5\\u4e0bmailbox\\u90ae\\u7bb1\\u91cc\\u6700\\u65b0\\u4e00\\u5c01\\u90ae\\u4ef6\\u5185\\u5bb9\\u3002\"}, {\"role\": \"assistant\", \"content\": \"\\u5f53\\u524d\\u9700\\u6c42\\u4e2d\\u53ef\\u4ee5\\u4f5c\\u4e3a\\u51fd\\u6570\\u53c2\\u6570\\u7684\\u662f\\uff1a1.\\u67e5\\u770b\\u8c01\\u7684\\u90ae\\u7bb1\\u3002\"}], \"stage1_CM\": [{\"role\": \"user\", \"content\": \"\\u8bf7\\u5e2e\\u6211\\u67e5\\u4e0bmailbox\\u90ae\\u7bb1\\u91cc\\u6700\\u65b0\\u4e00\\u5c01\\u90ae\\u4ef6\\u5185\\u5bb9\\u3002\\u5f53\\u524d\\u9700\\u6c42\\u4e2d\\u53ef\\u4ee5\\u4f5c\\u4e3a\\u51fd\\u6570\\u53c2\\u6570\\u7684\\u662f\\uff1a1.\\u67e5\\u770b\\u8c01\\u7684\\u90ae\\u7bb1\\u3002\"}, {\"role\": \"assistant\", \"content\": \"\\u8bf7\\u5e2e\\u6211\\u7f16\\u5199\\u4e00\\u4e2apython\\u51fd\\u6570\\uff0c\\u7528\\u4e8e\\u67e5\\u770b\\u6211\\u7684mailbox\\u90ae\\u7bb1\\u4e2d\\u6700\\u540e\\u4e00\\u5c01\\u90ae\\u4ef6\\u4fe1\\u606f\\uff0c\\u51fd\\u6570\\u8981\\u6c42\\u5982\\u4e0b\\uff1a                 1.\\u51fd\\u6570\\u53c2\\u6570userId\\uff0cuserId\\u662f\\u5b57\\u7b26\\u4e32\\u53c2\\u6570\\uff0c\\u9ed8\\u8ba4\\u60c5\\u51b5\\u4e0b\\u53d6\\u503c\\u4e3a'me'\\uff0c\\u8868\\u793a\\u67e5\\u770b\\u6211\\u7684\\u90ae\\u4ef6\\uff1b                 2.\\u51fd\\u6570\\u8fd4\\u56de\\u7ed3\\u679c\\u662f\\u4e00\\u4e2a\\u5305\\u542b\\u6700\\u540e\\u4e00\\u5c01\\u90ae\\u4ef6\\u4fe1\\u606f\\u7684\\u5bf9\\u8c61\\uff0c\\u8fd4\\u56de\\u7ed3\\u679c\\u672c\\u8eab\\u5fc5\\u987b\\u662f\\u4e00\\u4e2ajson\\u683c\\u5f0f\\u5bf9\\u8c61\\uff1b                 3.\\u8bf7\\u5c06\\u5168\\u90e8\\u529f\\u80fd\\u5c01\\u88c5\\u5728\\u4e00\\u4e2a\\u51fd\\u6570\\u5185\\uff1b                 4.\\u8bf7\\u5728\\u51fd\\u6570\\u7f16\\u5199\\u8fc7\\u7a0b\\u4e2d\\uff0c\\u5728\\u51fd\\u6570\\u5185\\u90e8\\u52a0\\u5165\\u4e2d\\u6587\\u7f16\\u5199\\u7684\\u8be6\\u7ec6\\u7684\\u51fd\\u6570\\u8bf4\\u660e\\u6587\\u6863\\uff0c\\u7528\\u4e8e\\u8bf4\\u660e\\u51fd\\u6570\\u529f\\u80fd\\u3001\\u51fd\\u6570\\u53c2\\u6570\\u60c5\\u51b5\\u4ee5\\u53ca\\u51fd\\u6570\\u8fd4\\u56de\\u7ed3\\u679c\\u7b49\\u4fe1\\u606f\\uff1b\"}], \"stage2\": [{\"role\": \"user\", \"content\": \"\\u8bf7\\u5e2e\\u6211\\u7f16\\u5199\\u4e00\\u4e2apython\\u51fd\\u6570\\uff0c\\u7528\\u4e8e\\u67e5\\u770b\\u6211\\u7684mailbox\\u90ae\\u7bb1\\u4e2d\\u6700\\u540e\\u4e00\\u5c01\\u90ae\\u4ef6\\u4fe1\\u606f\\uff0c\\u51fd\\u6570\\u8981\\u6c42\\u5982\\u4e0b\\uff1a                 1.\\u51fd\\u6570\\u53c2\\u6570userId\\uff0cuserId\\u662f\\u5b57\\u7b26\\u4e32\\u53c2\\u6570\\uff0c\\u9ed8\\u8ba4\\u60c5\\u51b5\\u4e0b\\u53d6\\u503c\\u4e3a'me'\\uff0c\\u8868\\u793a\\u67e5\\u770b\\u6211\\u7684\\u90ae\\u4ef6\\uff1b                 2.\\u51fd\\u6570\\u8fd4\\u56de\\u7ed3\\u679c\\u662f\\u4e00\\u4e2a\\u5305\\u542b\\u6700\\u540e\\u4e00\\u5c01\\u90ae\\u4ef6\\u4fe1\\u606f\\u7684\\u5bf9\\u8c61\\uff0c\\u8fd4\\u56de\\u7ed3\\u679c\\u672c\\u8eab\\u5fc5\\u987b\\u662f\\u4e00\\u4e2ajson\\u683c\\u5f0f\\u5bf9\\u8c61\\uff1b                 3.\\u8bf7\\u5c06\\u5168\\u90e8\\u529f\\u80fd\\u5c01\\u88c5\\u5728\\u4e00\\u4e2a\\u51fd\\u6570\\u5185\\uff1b                 4.\\u8bf7\\u5728\\u51fd\\u6570\\u7f16\\u5199\\u8fc7\\u7a0b\\u4e2d\\uff0c\\u5728\\u51fd\\u6570\\u5185\\u90e8\\u52a0\\u5165\\u4e2d\\u6587\\u7f16\\u5199\\u7684\\u8be6\\u7ec6\\u7684\\u51fd\\u6570\\u8bf4\\u660e\\u6587\\u6863\\uff0c\\u7528\\u4e8e\\u8bf4\\u660e\\u51fd\\u6570\\u529f\\u80fd\\u3001\\u51fd\\u6570\\u53c2\\u6570\\u60c5\\u51b5\\u4ee5\\u53ca\\u51fd\\u6570\\u8fd4\\u56de\\u7ed3\\u679c\\u7b49\\u4fe1\\u606f\\uff1b\"}, {\"role\": \"assistant\", \"content\": \"def get_latest_email(userId):\\n    \\\"\\\"\\\"\\n    \\u83b7\\u53d6\\u6700\\u65b0\\u7684\\u4e00\\u5c01\\u90ae\\u4ef6\\n    \\u53c2\\u6570:\\n    user_id: \\u8981\\u68c0\\u7d22\\u90ae\\u4ef6\\u7684\\u7528\\u6237\\u7684ID\\u3002\\u9ed8\\u8ba4\\u503c\\u662f'me'\\uff0c\\u6570\\u636e\\u683c\\u5f0f\\u4e3a\\u5b57\\u7b26\\u4e32\\u7c7b\\u578b\\u3002\\n\\n    \\u8fd4\\u56de:\\n    \\u4e00\\u4e2a\\u5217\\u8868\\uff0c\\u5176\\u4e2d\\u6bcf\\u4e2a\\u5143\\u7d20\\u90fd\\u662f\\u4e00\\u4e2a\\u5b57\\u5178\\uff0c\\u8868\\u793a\\u4e00\\u5c01\\u90ae\\u4ef6\\u3002\\u6bcf\\u4e2a\\u5b57\\u5178\\u5305\\u542b\\u4ee5\\u4e0b\\u952e\\uff1a\\n    'from_userid': \\u53d1\\u4ef6\\u4ebaID\\u3002\\n    'date': \\u90ae\\u4ef6\\u7684\\u53d1\\u9001\\u65e5\\u671f\\u3002\\n    'subject': \\u90ae\\u4ef6\\u7684\\u4e3b\\u9898\\u3002\\n    'snippet': \\u90ae\\u4ef6\\u7684\\u6458\\u8981\\uff08\\u524d100\\u4e2a\\u5b57\\u7b26\\uff09\\u3002\\n    \\\"\\\"\\\"\\n    mysql_pw=\\\"gpt\\\"\\n    \\n    connection = pymysql.connect(\\n    host='localhost',  # \\u6570\\u636e\\u5e93\\u5730\\u5740\\n    user='gpt',  # \\u6570\\u636e\\u5e93\\u7528\\u6237\\u540d\\n    passwd=mysql_pw,  # \\u6570\\u636e\\u5e93\\u5bc6\\u7801\\n    db='my_mail',  # \\u6570\\u636e\\u5e93\\u540d\\n    charset='utf8'  # \\u5b57\\u7b26\\u96c6\\u9009\\u62e9utf8   \\n    )\\n    sql_query=f\\\"SELECT * FROM mailbox WHERE userid = '{user_id}' ORDER BY date DESC LIMIT 1\\\";\\n\\n    try:\\n        with connection.cursor() as cursor:\\n            sql = sql_query\\n            cursor.execute(sql)\\n            results = cursor.fetchall()\\n    finally:\\n        cursor.close()\\n    \\n    column_names = [desc[0] for desc in cursor.description]\\n\\n    # \\u4f7f\\u7528results\\u548ccolumn_names\\u521b\\u5efaDataFrame\\n    df = pd.DataFrame(results, columns=column_names)\\n        \\n    return df.to_json(orient = \\\"records\\\")  \\n\"}]}\n",
      "```\n",
      "\n",
      "3.对于推理链最后生成的函数，一定要是可以运行的、能够满足用户需求的python函数，且需要有详细的说明文档，说明文档内容包括函数功能、函数参数情况以及函数返回结果等信息；\n",
      "\n",
      "4.你是一个推理链审查助手，善于检测推理链中是否存在错误。接下来我会给你一个错误的推理链，请你对其进行修改；\n",
      "\n",
      "5.当你对推理链进行修改之后，请仿造推理链A的格式，以json格式输出修改之后的推理链。\n"
     ]
    }
   ],
   "source": [
    "with open('./data/推理链.md', 'r', encoding='utf-8') as f:\n",
    "    md_content = f.read()\n",
    "    \n",
    "print(md_content)"
   ]
  },
  {
   "cell_type": "markdown",
   "id": "fe78ab33-f555-4aad-81d1-31e4abd0f048",
   "metadata": {},
   "source": [
    "&emsp;&emsp;这里我们可以简单总结外部挂载文档的5方面信息：1.说明当前项目背景（包括编程要求等）；2.说明审查对象，包括审查对象的性质和形式等；3.说明审查的目标；4.进行身份设置；5.说明审查之后的输出结果。主要内容不要太多，不然没办法给到system"
   ]
  },
  {
   "cell_type": "markdown",
   "id": "42a5b758-a492-48eb-8afc-866823df6e60",
   "metadata": {
    "tags": []
   },
   "source": [
    "### 1.4 审查模型效果验证"
   ]
  },
  {
   "cell_type": "code",
   "execution_count": 15,
   "id": "427ed890-acc1-4f63-80c4-26c7e415b01c",
   "metadata": {
    "tags": []
   },
   "outputs": [],
   "source": [
    "function_name = 'get_latest_email'"
   ]
  },
  {
   "cell_type": "code",
   "execution_count": 16,
   "id": "a743872d-52e5-4485-8e04-31acd50e1e10",
   "metadata": {
    "tags": []
   },
   "outputs": [],
   "source": [
    "with open('./error_function_test/%s/%s_prompt.json' % (function_name, function_name), 'r') as f:\n",
    "    msg = json.load(f)"
   ]
  },
  {
   "cell_type": "code",
   "execution_count": 18,
   "id": "a1b4bba5-4565-4f2c-a0b4-f48da382b386",
   "metadata": {
    "tags": []
   },
   "outputs": [
    {
     "name": "stdout",
     "output_type": "stream",
     "text": [
      "def get_latest_email(userId):\n",
      "    \"\"\"\n",
      "    获取最新的一封邮件\n",
      "    参数:\n",
      "    user_id: 要检索邮件的用户的ID。默认值是'me'，数据格式为字符串类型。\n",
      "\n",
      "    返回:\n",
      "    一个列表，其中每个元素都是一个字典，表示一封邮件。每个字典包含以下键：\n",
      "    'from_userid': 发件人ID。\n",
      "    'date': 邮件的发送日期。\n",
      "    'subject': 邮件的主题。\n",
      "    'snippet': 邮件的摘要（前100个字符）。\n",
      "    \"\"\"\n",
      "    mysql_pw=\"gpt\"\n",
      "    \n",
      "    connection = pymysql.connect(\n",
      "    host='localhost',  # 数据库地址\n",
      "    user='gpt',  # 数据库用户名\n",
      "    passwd=mysql_pw,  # 数据库密码\n",
      "    db='my_mail',  # 数据库名\n",
      "    charset='utf8'  # 字符集选择utf8   \n",
      "    )\n",
      "    sql_query=f\"SELECT * FROM mailbox WHERE userid = '{me}' ORDER BY date DESC LIMIT 1\";\n",
      "\n",
      "    try:\n",
      "        with connection.cursor() as cursor:\n",
      "            sql = sql_query\n",
      "            cursor.execute(sql)\n",
      "            results = cursor.fetchall()\n",
      "    finally:\n",
      "        cursor.close()\n",
      "    \n",
      "    column_names = [desc[0] for desc in cursor.description]\n",
      "\n",
      "    # 使用results和column_names创建DataFrame\n",
      "    df = pd.DataFrame(results, columns=column_names)\n",
      "        \n",
      "    return df.to_json(orient = \"records\")  \n",
      "\n"
     ]
    }
   ],
   "source": [
    "wrong_code = msg['stage2'][1]['content']\n",
    "print(wrong_code)"
   ]
  },
  {
   "cell_type": "code",
   "execution_count": 19,
   "id": "264a00bf-709c-441f-987c-8417c32b9801",
   "metadata": {
    "tags": []
   },
   "outputs": [],
   "source": [
    "exec(wrong_code)"
   ]
  },
  {
   "cell_type": "code",
   "execution_count": 20,
   "id": "d2a70c15-c194-4a66-aacf-b397ca20a971",
   "metadata": {
    "tags": []
   },
   "outputs": [
    {
     "ename": "NameError",
     "evalue": "name 'me' is not defined",
     "output_type": "error",
     "traceback": [
      "\u001b[0;31m---------------------------------------------------------------------------\u001b[0m",
      "\u001b[0;31mNameError\u001b[0m                                 Traceback (most recent call last)",
      "Cell \u001b[0;32mIn[20], line 1\u001b[0m\n\u001b[0;32m----> 1\u001b[0m \u001b[43mget_latest_email\u001b[49m\u001b[43m(\u001b[49m\u001b[43muserId\u001b[49m\u001b[38;5;241;43m=\u001b[39;49m\u001b[38;5;124;43m'\u001b[39;49m\u001b[38;5;124;43mme\u001b[39;49m\u001b[38;5;124;43m'\u001b[39;49m\u001b[43m)\u001b[49m\n",
      "File \u001b[0;32m<string>:23\u001b[0m, in \u001b[0;36mget_latest_email\u001b[0;34m(userId)\u001b[0m\n",
      "\u001b[0;31mNameError\u001b[0m: name 'me' is not defined"
     ]
    }
   ],
   "source": [
    "get_latest_email(userId='me')"
   ]
  },
  {
   "cell_type": "markdown",
   "id": "853f7242-b14d-4bdb-9fc4-8186eda362fd",
   "metadata": {},
   "source": [
    "目前代码是运行不了的"
   ]
  },
  {
   "cell_type": "markdown",
   "id": "6103b4a2-109b-4f04-967d-a1c41f0b95ca",
   "metadata": {},
   "source": [
    "我们尝试用审查模型对齐修改"
   ]
  },
  {
   "cell_type": "code",
   "execution_count": 21,
   "id": "93275d0b-505e-4dcd-910e-c7ce30800b13",
   "metadata": {
    "tags": []
   },
   "outputs": [],
   "source": [
    "response = client.chat.completions.create(\n",
    "                        model=\"glm-4\",\n",
    "                        messages=[\n",
    "                            {\"role\": \"system\",  \"content\": md_content},\n",
    "                            {\"role\": \"user\", \"content\": '请问什么是推理链？'}\n",
    "                        ]\n",
    ")\n"
   ]
  },
  {
   "cell_type": "code",
   "execution_count": 22,
   "id": "c8492849-0f2e-432d-bd3a-5b044a793582",
   "metadata": {
    "tags": []
   },
   "outputs": [
    {
     "name": "stdout",
     "output_type": "stream",
     "text": [
      "推理链是一种在人工智能和机器学习中使用的概念，特别是在自然语言处理和大型语言模型的应用中。它指的是一系列的逻辑步骤或推理步骤，这些步骤将原始问题或请求逐步转化为最终的解答或操作。推理链的目的是模拟人类解决问题时的思考过程，将复杂的任务分解为更小、更易于管理的部分，从而帮助模型更准确地理解和执行用户的意图。\n",
      "\n",
      "在您提供的邮箱项目上下文中，推理链用于将用户的自然语言描述（例如，“请帮我查看邮箱里最新的一封邮件内容”）转化为一系列的编程操作，最终形成一个可以执行的Python函数。这样，用户的需求就可以通过模型生成的代码在技术上得到实现。\n",
      "\n",
      "现在，如果您能提供一个错误的推理链示例，我将帮助您进行审查和修改。请您提供需要修改的推理链。\n"
     ]
    }
   ],
   "source": [
    "\n",
    "print(response.choices[0].message.content)"
   ]
  },
  {
   "cell_type": "markdown",
   "id": "e88f4e7e-fe5a-42dc-9763-bfe2e0b1e035",
   "metadata": {},
   "source": [
    "然后我们引导该模型对此前错误的提示流程进行审查和修改："
   ]
  },
  {
   "cell_type": "code",
   "execution_count": 85,
   "id": "de3ebc27-7baf-49c2-a939-301f9435aa76",
   "metadata": {
    "tags": []
   },
   "outputs": [
    {
     "name": "stdout",
     "output_type": "stream",
     "text": [
      "{\"stage1_CD\": [{\"role\": \"user\", \"content\": \"\\u8bf7\\u5e2e\\u6211\\u67e5\\u4e0bmailbox\\u90ae\\u7bb1\\u91cc\\u6700\\u65b0\\u4e00\\u5c01\\u90ae\\u4ef6\\u5185\\u5bb9\\u3002\"}, {\"role\": \"assistant\", \"content\": \"\\u5f53\\u524d\\u9700\\u6c42\\u4e2d\\u53ef\\u4ee5\\u4f5c\\u4e3a\\u51fd\\u6570\\u53c2\\u6570\\u7684\\u662f\\uff1a1.\\u67e5\\u770b\\u8c01\\u7684\\u90ae\\u7bb1\\u3002\"}], \"stage1_CM\": [{\"role\": \"user\", \"content\": \"\\u8bf7\\u5e2e\\u6211\\u67e5\\u4e0bmailbox\\u90ae\\u7bb1\\u91cc\\u6700\\u65b0\\u4e00\\u5c01\\u90ae\\u4ef6\\u5185\\u5bb9\\u3002\\u5f53\\u524d\\u9700\\u6c42\\u4e2d\\u53ef\\u4ee5\\u4f5c\\u4e3a\\u51fd\\u6570\\u53c2\\u6570\\u7684\\u662f\\uff1a1.\\u67e5\\u770b\\u8c01\\u7684\\u90ae\\u7bb1\\u3002\"}, {\"role\": \"assistant\", \"content\": \"\\u8bf7\\u5e2e\\u6211\\u7f16\\u5199\\u4e00\\u4e2apython\\u51fd\\u6570\\uff0c\\u7528\\u4e8e\\u67e5\\u770b\\u6211\\u7684mailbox\\u90ae\\u7bb1\\u4e2d\\u6700\\u540e\\u4e00\\u5c01\\u90ae\\u4ef6\\u4fe1\\u606f\\uff0c\\u51fd\\u6570\\u8981\\u6c42\\u5982\\u4e0b\\uff1a                 1.\\u51fd\\u6570\\u53c2\\u6570userId\\uff0cuserId\\u662f\\u5b57\\u7b26\\u4e32\\u53c2\\u6570\\uff0c\\u9ed8\\u8ba4\\u60c5\\u51b5\\u4e0b\\u53d6\\u503c\\u4e3a'me'\\uff0c\\u8868\\u793a\\u67e5\\u770b\\u6211\\u7684\\u90ae\\u4ef6\\uff1b                 2.\\u51fd\\u6570\\u8fd4\\u56de\\u7ed3\\u679c\\u662f\\u4e00\\u4e2a\\u5305\\u542b\\u6700\\u540e\\u4e00\\u5c01\\u90ae\\u4ef6\\u4fe1\\u606f\\u7684\\u5bf9\\u8c61\\uff0c\\u8fd4\\u56de\\u7ed3\\u679c\\u672c\\u8eab\\u5fc5\\u987b\\u662f\\u4e00\\u4e2ajson\\u683c\\u5f0f\\u5bf9\\u8c61\\uff1b                 3.\\u8bf7\\u5c06\\u5168\\u90e8\\u529f\\u80fd\\u5c01\\u88c5\\u5728\\u4e00\\u4e2a\\u51fd\\u6570\\u5185\\uff1b                 4.\\u8bf7\\u5728\\u51fd\\u6570\\u7f16\\u5199\\u8fc7\\u7a0b\\u4e2d\\uff0c\\u5728\\u51fd\\u6570\\u5185\\u90e8\\u52a0\\u5165\\u4e2d\\u6587\\u7f16\\u5199\\u7684\\u8be6\\u7ec6\\u7684\\u51fd\\u6570\\u8bf4\\u660e\\u6587\\u6863\\uff0c\\u7528\\u4e8e\\u8bf4\\u660e\\u51fd\\u6570\\u529f\\u80fd\\u3001\\u51fd\\u6570\\u53c2\\u6570\\u60c5\\u51b5\\u4ee5\\u53ca\\u51fd\\u6570\\u8fd4\\u56de\\u7ed3\\u679c\\u7b49\\u4fe1\\u606f\\uff1b\"}], \"stage2\": [{\"role\": \"user\", \"content\": \"\\u8bf7\\u5e2e\\u6211\\u7f16\\u5199\\u4e00\\u4e2apython\\u51fd\\u6570\\uff0c\\u7528\\u4e8e\\u67e5\\u770b\\u6211\\u7684mailbox\\u90ae\\u7bb1\\u4e2d\\u6700\\u540e\\u4e00\\u5c01\\u90ae\\u4ef6\\u4fe1\\u606f\\uff0c\\u51fd\\u6570\\u8981\\u6c42\\u5982\\u4e0b\\uff1a                 1.\\u51fd\\u6570\\u53c2\\u6570userId\\uff0cuserId\\u662f\\u5b57\\u7b26\\u4e32\\u53c2\\u6570\\uff0c\\u9ed8\\u8ba4\\u60c5\\u51b5\\u4e0b\\u53d6\\u503c\\u4e3a'me'\\uff0c\\u8868\\u793a\\u67e5\\u770b\\u6211\\u7684\\u90ae\\u4ef6\\uff1b                 2.\\u51fd\\u6570\\u8fd4\\u56de\\u7ed3\\u679c\\u662f\\u4e00\\u4e2a\\u5305\\u542b\\u6700\\u540e\\u4e00\\u5c01\\u90ae\\u4ef6\\u4fe1\\u606f\\u7684\\u5bf9\\u8c61\\uff0c\\u8fd4\\u56de\\u7ed3\\u679c\\u672c\\u8eab\\u5fc5\\u987b\\u662f\\u4e00\\u4e2ajson\\u683c\\u5f0f\\u5bf9\\u8c61\\uff1b                 3.\\u8bf7\\u5c06\\u5168\\u90e8\\u529f\\u80fd\\u5c01\\u88c5\\u5728\\u4e00\\u4e2a\\u51fd\\u6570\\u5185\\uff1b                 4.\\u8bf7\\u5728\\u51fd\\u6570\\u7f16\\u5199\\u8fc7\\u7a0b\\u4e2d\\uff0c\\u5728\\u51fd\\u6570\\u5185\\u90e8\\u52a0\\u5165\\u4e2d\\u6587\\u7f16\\u5199\\u7684\\u8be6\\u7ec6\\u7684\\u51fd\\u6570\\u8bf4\\u660e\\u6587\\u6863\\uff0c\\u7528\\u4e8e\\u8bf4\\u660e\\u51fd\\u6570\\u529f\\u80fd\\u3001\\u51fd\\u6570\\u53c2\\u6570\\u60c5\\u51b5\\u4ee5\\u53ca\\u51fd\\u6570\\u8fd4\\u56de\\u7ed3\\u679c\\u7b49\\u4fe1\\u606f\\uff1b\"}, {\"role\": \"assistant\", \"content\": \"def get_latest_email(userId):\\n    \\\"\\\"\\\"\\n    \\u83b7\\u53d6\\u6700\\u65b0\\u7684\\u4e00\\u5c01\\u90ae\\u4ef6\\n    \\u53c2\\u6570:\\n    user_id: \\u8981\\u68c0\\u7d22\\u90ae\\u4ef6\\u7684\\u7528\\u6237\\u7684ID\\u3002\\u9ed8\\u8ba4\\u503c\\u662f'me'\\uff0c\\u6570\\u636e\\u683c\\u5f0f\\u4e3a\\u5b57\\u7b26\\u4e32\\u7c7b\\u578b\\u3002\\n\\n    \\u8fd4\\u56de:\\n    \\u4e00\\u4e2a\\u5217\\u8868\\uff0c\\u5176\\u4e2d\\u6bcf\\u4e2a\\u5143\\u7d20\\u90fd\\u662f\\u4e00\\u4e2a\\u5b57\\u5178\\uff0c\\u8868\\u793a\\u4e00\\u5c01\\u90ae\\u4ef6\\u3002\\u6bcf\\u4e2a\\u5b57\\u5178\\u5305\\u542b\\u4ee5\\u4e0b\\u952e\\uff1a\\n    'from_userid': \\u53d1\\u4ef6\\u4ebaID\\u3002\\n    'date': \\u90ae\\u4ef6\\u7684\\u53d1\\u9001\\u65e5\\u671f\\u3002\\n    'subject': \\u90ae\\u4ef6\\u7684\\u4e3b\\u9898\\u3002\\n    'snippet': \\u90ae\\u4ef6\\u7684\\u6458\\u8981\\uff08\\u524d100\\u4e2a\\u5b57\\u7b26\\uff09\\u3002\\n    \\\"\\\"\\\"\\n    mysql_pw=\\\"gpt\\\"\\n    \\n    connection = pymysql.connect(\\n    host='localhost',  # \\u6570\\u636e\\u5e93\\u5730\\u5740\\n    user='gpt',  # \\u6570\\u636e\\u5e93\\u7528\\u6237\\u540d\\n    passwd=mysql_pw,  # \\u6570\\u636e\\u5e93\\u5bc6\\u7801\\n    db='my_mail',  # \\u6570\\u636e\\u5e93\\u540d\\n    charset='utf8'  # \\u5b57\\u7b26\\u96c6\\u9009\\u62e9utf8   \\n    )\\n    sql_query=f\\\"SELECT * FROM mailbox WHERE userid = '{me}' ORDER BY date DESC LIMIT 1\\\";\\n\\n    try:\\n        with connection.cursor() as cursor:\\n            sql = sql_query\\n            cursor.execute(sql)\\n            results = cursor.fetchall()\\n    finally:\\n        cursor.close()\\n    \\n    column_names = [desc[0] for desc in cursor.description]\\n\\n    # \\u4f7f\\u7528results\\u548ccolumn_names\\u521b\\u5efaDataFrame\\n    df = pd.DataFrame(results, columns=column_names)\\n        \\n    return df.to_json(orient = \\\"records\\\")  \\n\"}]}\n"
     ]
    }
   ],
   "source": [
    "msg_str = json.dumps(msg)\n",
    "print(msg_str)"
   ]
  },
  {
   "cell_type": "code",
   "execution_count": 24,
   "id": "c45709c0-a622-4843-934b-b3787f997c1d",
   "metadata": {
    "tags": []
   },
   "outputs": [
    {
     "data": {
      "text/plain": [
       "'以下是一个错误的邮箱项目的推理链，请你按照要求对其进行修改：{\"stage1_CD\": [{\"role\": \"user\", \"content\": \"\\\\u8bf7\\\\u5e2e\\\\u6211\\\\u67e5\\\\u4e0bmailbox\\\\u90ae\\\\u7bb1\\\\u91cc\\\\u6700\\\\u65b0\\\\u4e00\\\\u5c01\\\\u90ae\\\\u4ef6\\\\u5185\\\\u5bb9\\\\u3002\"}, {\"role\": \"assistant\", \"content\": \"\\\\u5f53\\\\u524d\\\\u9700\\\\u6c42\\\\u4e2d\\\\u53ef\\\\u4ee5\\\\u4f5c\\\\u4e3a\\\\u51fd\\\\u6570\\\\u53c2\\\\u6570\\\\u7684\\\\u662f\\\\uff1a1.\\\\u67e5\\\\u770b\\\\u8c01\\\\u7684\\\\u90ae\\\\u7bb1\\\\u3002\"}], \"stage1_CM\": [{\"role\": \"user\", \"content\": \"\\\\u8bf7\\\\u5e2e\\\\u6211\\\\u67e5\\\\u4e0bmailbox\\\\u90ae\\\\u7bb1\\\\u91cc\\\\u6700\\\\u65b0\\\\u4e00\\\\u5c01\\\\u90ae\\\\u4ef6\\\\u5185\\\\u5bb9\\\\u3002\\\\u5f53\\\\u524d\\\\u9700\\\\u6c42\\\\u4e2d\\\\u53ef\\\\u4ee5\\\\u4f5c\\\\u4e3a\\\\u51fd\\\\u6570\\\\u53c2\\\\u6570\\\\u7684\\\\u662f\\\\uff1a1.\\\\u67e5\\\\u770b\\\\u8c01\\\\u7684\\\\u90ae\\\\u7bb1\\\\u3002\"}, {\"role\": \"assistant\", \"content\": \"\\\\u8bf7\\\\u5e2e\\\\u6211\\\\u7f16\\\\u5199\\\\u4e00\\\\u4e2apython\\\\u51fd\\\\u6570\\\\uff0c\\\\u7528\\\\u4e8e\\\\u67e5\\\\u770b\\\\u6211\\\\u7684mailbox\\\\u90ae\\\\u7bb1\\\\u4e2d\\\\u6700\\\\u540e\\\\u4e00\\\\u5c01\\\\u90ae\\\\u4ef6\\\\u4fe1\\\\u606f\\\\uff0c\\\\u51fd\\\\u6570\\\\u8981\\\\u6c42\\\\u5982\\\\u4e0b\\\\uff1a                 1.\\\\u51fd\\\\u6570\\\\u53c2\\\\u6570userId\\\\uff0cuserId\\\\u662f\\\\u5b57\\\\u7b26\\\\u4e32\\\\u53c2\\\\u6570\\\\uff0c\\\\u9ed8\\\\u8ba4\\\\u60c5\\\\u51b5\\\\u4e0b\\\\u53d6\\\\u503c\\\\u4e3a\\'me\\'\\\\uff0c\\\\u8868\\\\u793a\\\\u67e5\\\\u770b\\\\u6211\\\\u7684\\\\u90ae\\\\u4ef6\\\\uff1b                 2.\\\\u51fd\\\\u6570\\\\u8fd4\\\\u56de\\\\u7ed3\\\\u679c\\\\u662f\\\\u4e00\\\\u4e2a\\\\u5305\\\\u542b\\\\u6700\\\\u540e\\\\u4e00\\\\u5c01\\\\u90ae\\\\u4ef6\\\\u4fe1\\\\u606f\\\\u7684\\\\u5bf9\\\\u8c61\\\\uff0c\\\\u8fd4\\\\u56de\\\\u7ed3\\\\u679c\\\\u672c\\\\u8eab\\\\u5fc5\\\\u987b\\\\u662f\\\\u4e00\\\\u4e2ajson\\\\u683c\\\\u5f0f\\\\u5bf9\\\\u8c61\\\\uff1b                 3.\\\\u8bf7\\\\u5c06\\\\u5168\\\\u90e8\\\\u529f\\\\u80fd\\\\u5c01\\\\u88c5\\\\u5728\\\\u4e00\\\\u4e2a\\\\u51fd\\\\u6570\\\\u5185\\\\uff1b                 4.\\\\u8bf7\\\\u5728\\\\u51fd\\\\u6570\\\\u7f16\\\\u5199\\\\u8fc7\\\\u7a0b\\\\u4e2d\\\\uff0c\\\\u5728\\\\u51fd\\\\u6570\\\\u5185\\\\u90e8\\\\u52a0\\\\u5165\\\\u4e2d\\\\u6587\\\\u7f16\\\\u5199\\\\u7684\\\\u8be6\\\\u7ec6\\\\u7684\\\\u51fd\\\\u6570\\\\u8bf4\\\\u660e\\\\u6587\\\\u6863\\\\uff0c\\\\u7528\\\\u4e8e\\\\u8bf4\\\\u660e\\\\u51fd\\\\u6570\\\\u529f\\\\u80fd\\\\u3001\\\\u51fd\\\\u6570\\\\u53c2\\\\u6570\\\\u60c5\\\\u51b5\\\\u4ee5\\\\u53ca\\\\u51fd\\\\u6570\\\\u8fd4\\\\u56de\\\\u7ed3\\\\u679c\\\\u7b49\\\\u4fe1\\\\u606f\\\\uff1b\"}], \"stage2\": [{\"role\": \"user\", \"content\": \"\\\\u8bf7\\\\u5e2e\\\\u6211\\\\u7f16\\\\u5199\\\\u4e00\\\\u4e2apython\\\\u51fd\\\\u6570\\\\uff0c\\\\u7528\\\\u4e8e\\\\u67e5\\\\u770b\\\\u6211\\\\u7684mailbox\\\\u90ae\\\\u7bb1\\\\u4e2d\\\\u6700\\\\u540e\\\\u4e00\\\\u5c01\\\\u90ae\\\\u4ef6\\\\u4fe1\\\\u606f\\\\uff0c\\\\u51fd\\\\u6570\\\\u8981\\\\u6c42\\\\u5982\\\\u4e0b\\\\uff1a                 1.\\\\u51fd\\\\u6570\\\\u53c2\\\\u6570userId\\\\uff0cuserId\\\\u662f\\\\u5b57\\\\u7b26\\\\u4e32\\\\u53c2\\\\u6570\\\\uff0c\\\\u9ed8\\\\u8ba4\\\\u60c5\\\\u51b5\\\\u4e0b\\\\u53d6\\\\u503c\\\\u4e3a\\'me\\'\\\\uff0c\\\\u8868\\\\u793a\\\\u67e5\\\\u770b\\\\u6211\\\\u7684\\\\u90ae\\\\u4ef6\\\\uff1b                 2.\\\\u51fd\\\\u6570\\\\u8fd4\\\\u56de\\\\u7ed3\\\\u679c\\\\u662f\\\\u4e00\\\\u4e2a\\\\u5305\\\\u542b\\\\u6700\\\\u540e\\\\u4e00\\\\u5c01\\\\u90ae\\\\u4ef6\\\\u4fe1\\\\u606f\\\\u7684\\\\u5bf9\\\\u8c61\\\\uff0c\\\\u8fd4\\\\u56de\\\\u7ed3\\\\u679c\\\\u672c\\\\u8eab\\\\u5fc5\\\\u987b\\\\u662f\\\\u4e00\\\\u4e2ajson\\\\u683c\\\\u5f0f\\\\u5bf9\\\\u8c61\\\\uff1b                 3.\\\\u8bf7\\\\u5c06\\\\u5168\\\\u90e8\\\\u529f\\\\u80fd\\\\u5c01\\\\u88c5\\\\u5728\\\\u4e00\\\\u4e2a\\\\u51fd\\\\u6570\\\\u5185\\\\uff1b                 4.\\\\u8bf7\\\\u5728\\\\u51fd\\\\u6570\\\\u7f16\\\\u5199\\\\u8fc7\\\\u7a0b\\\\u4e2d\\\\uff0c\\\\u5728\\\\u51fd\\\\u6570\\\\u5185\\\\u90e8\\\\u52a0\\\\u5165\\\\u4e2d\\\\u6587\\\\u7f16\\\\u5199\\\\u7684\\\\u8be6\\\\u7ec6\\\\u7684\\\\u51fd\\\\u6570\\\\u8bf4\\\\u660e\\\\u6587\\\\u6863\\\\uff0c\\\\u7528\\\\u4e8e\\\\u8bf4\\\\u660e\\\\u51fd\\\\u6570\\\\u529f\\\\u80fd\\\\u3001\\\\u51fd\\\\u6570\\\\u53c2\\\\u6570\\\\u60c5\\\\u51b5\\\\u4ee5\\\\u53ca\\\\u51fd\\\\u6570\\\\u8fd4\\\\u56de\\\\u7ed3\\\\u679c\\\\u7b49\\\\u4fe1\\\\u606f\\\\uff1b\"}, {\"role\": \"assistant\", \"content\": \"def get_latest_email(userId):\\\\n    \\\\\"\\\\\"\\\\\"\\\\n    \\\\u83b7\\\\u53d6\\\\u6700\\\\u65b0\\\\u7684\\\\u4e00\\\\u5c01\\\\u90ae\\\\u4ef6\\\\n    \\\\u53c2\\\\u6570:\\\\n    user_id: \\\\u8981\\\\u68c0\\\\u7d22\\\\u90ae\\\\u4ef6\\\\u7684\\\\u7528\\\\u6237\\\\u7684ID\\\\u3002\\\\u9ed8\\\\u8ba4\\\\u503c\\\\u662f\\'me\\'\\\\uff0c\\\\u6570\\\\u636e\\\\u683c\\\\u5f0f\\\\u4e3a\\\\u5b57\\\\u7b26\\\\u4e32\\\\u7c7b\\\\u578b\\\\u3002\\\\n\\\\n    \\\\u8fd4\\\\u56de:\\\\n    \\\\u4e00\\\\u4e2a\\\\u5217\\\\u8868\\\\uff0c\\\\u5176\\\\u4e2d\\\\u6bcf\\\\u4e2a\\\\u5143\\\\u7d20\\\\u90fd\\\\u662f\\\\u4e00\\\\u4e2a\\\\u5b57\\\\u5178\\\\uff0c\\\\u8868\\\\u793a\\\\u4e00\\\\u5c01\\\\u90ae\\\\u4ef6\\\\u3002\\\\u6bcf\\\\u4e2a\\\\u5b57\\\\u5178\\\\u5305\\\\u542b\\\\u4ee5\\\\u4e0b\\\\u952e\\\\uff1a\\\\n    \\'from_userid\\': \\\\u53d1\\\\u4ef6\\\\u4ebaID\\\\u3002\\\\n    \\'date\\': \\\\u90ae\\\\u4ef6\\\\u7684\\\\u53d1\\\\u9001\\\\u65e5\\\\u671f\\\\u3002\\\\n    \\'subject\\': \\\\u90ae\\\\u4ef6\\\\u7684\\\\u4e3b\\\\u9898\\\\u3002\\\\n    \\'snippet\\': \\\\u90ae\\\\u4ef6\\\\u7684\\\\u6458\\\\u8981\\\\uff08\\\\u524d100\\\\u4e2a\\\\u5b57\\\\u7b26\\\\uff09\\\\u3002\\\\n    \\\\\"\\\\\"\\\\\"\\\\n    mysql_pw=\\\\\"gpt\\\\\"\\\\n    \\\\n    connection = pymysql.connect(\\\\n    host=\\'localhost\\',  # \\\\u6570\\\\u636e\\\\u5e93\\\\u5730\\\\u5740\\\\n    user=\\'gpt\\',  # \\\\u6570\\\\u636e\\\\u5e93\\\\u7528\\\\u6237\\\\u540d\\\\n    passwd=mysql_pw,  # \\\\u6570\\\\u636e\\\\u5e93\\\\u5bc6\\\\u7801\\\\n    db=\\'my_mail\\',  # \\\\u6570\\\\u636e\\\\u5e93\\\\u540d\\\\n    charset=\\'utf8\\'  # \\\\u5b57\\\\u7b26\\\\u96c6\\\\u9009\\\\u62e9utf8   \\\\n    )\\\\n    sql_query=f\\\\\"SELECT * FROM mailbox WHERE userid = \\'{me}\\' ORDER BY date DESC LIMIT 1\\\\\";\\\\n\\\\n    try:\\\\n        with connection.cursor() as cursor:\\\\n            sql = sql_query\\\\n            cursor.execute(sql)\\\\n            results = cursor.fetchall()\\\\n    finally:\\\\n        cursor.close()\\\\n    \\\\n    column_names = [desc[0] for desc in cursor.description]\\\\n\\\\n    # \\\\u4f7f\\\\u7528results\\\\u548ccolumn_names\\\\u521b\\\\u5efaDataFrame\\\\n    df = pd.DataFrame(results, columns=column_names)\\\\n        \\\\n    return df.to_json(orient = \\\\\"records\\\\\")  \\\\n\"}]}'"
      ]
     },
     "execution_count": 24,
     "metadata": {},
     "output_type": "execute_result"
    }
   ],
   "source": [
    "'以下是一个错误的邮箱项目的推理链，请你按照要求对其进行修改：%s' % msg_str"
   ]
  },
  {
   "cell_type": "code",
   "execution_count": 96,
   "id": "ef14561d-1d01-442b-a936-725b03f1bddc",
   "metadata": {
    "tags": []
   },
   "outputs": [],
   "source": [
    "with open('./data/my_mail数据字典.md', 'r', encoding='utf-8') as f:\n",
    "    data_content = f.read()"
   ]
  },
  {
   "cell_type": "code",
   "execution_count": 122,
   "id": "ebececf0-858e-434f-ae21-2a6fef09b3be",
   "metadata": {
    "tags": []
   },
   "outputs": [],
   "source": [
    "response = client.chat.completions.create(\n",
    "                        model=\"glm-4\",\n",
    "                        messages=[\n",
    "                            {\"role\": \"system\", \"content\": data_content},\n",
    "                            {\"role\": \"system\", \"content\": md_content},\n",
    "                            {\"role\": \"user\", \"content\": '以下是一个错误的邮箱项目的推理链，请你按照要求对其进行修改：%s' % msg_str}\n",
    "                          ]\n",
    ")\n"
   ]
  },
  {
   "cell_type": "code",
   "execution_count": 123,
   "id": "531f4b8f-fb9c-4dd6-bfcf-640a6253ce80",
   "metadata": {
    "tags": []
   },
   "outputs": [
    {
     "name": "stdout",
     "output_type": "stream",
     "text": [
      "错误之处在于:\n",
      "\n",
      "- 在最后一步中，assistant提供了一个Python函数，这个函数中有一个错误，即在sql查询中，userid应等于函数参数的userid，但是现在写的是me。对于这个错误的修改，我们应该将sql_query中的me修改为userId。\n",
      "\n",
      "修改后的推理链应如下：\n",
      "\n",
      "```json\n",
      "{\n",
      "\"stage1_CD\": [\n",
      "    {\"role\": \"user\", \"content\": \"请帮我查下mailbox邮件箱里最新一封邮件内容。\"},\n",
      "    {\"role\": \"assistant\", \"content\": \"当前需求中可以作为函数参数的是：1.查看谁的邮件。\"}\n",
      "], \n",
      "\"stage1_CM\": [\n",
      "    {\"role\": \"user\", \"content\": \"请帮我查下mailbox邮件箱里最新一封邮件内容。当前需求中可以作为函数参数的是：1.查看谁的邮件。\"}, \n",
      "    {\"role\": \"assistant\", \"content\": \"请帮我编写一个python函数，用于查看我在mailbox邮件箱中最新一封邮件的信息，函数要求如下：                 1.函数参数userId，userId是字符串参数，默认情况下取值为'me'，表示查看我的邮件；                 2.函数返回结果是一个包含最后一封邮件信息的对象，返回结果本身必须是一个json格式对象；                 3.请将全部功能封装在一个函数里；                 4.请在函数编写过程中，在函数内部加入中文编写的详细的函数说明文档，用于说明函数功能、函数参数情况以及函数返回结果等信息；\"}], \n",
      "\"stage2\": [\n",
      "    {\"role\": \"user\", \"content\": \"请帮我编写一个python函数，用于查看我在mailbox邮件箱中最新一封邮件的信息，函数要求如下：                 1.函数参数userId，userId是字符串参数，默认情况下取值为'me'，表示查看我的邮件；                 2.函数返回结果是一个包含最后一封邮件信息的对象，返回结果本身必须是一个json格式对象；                 3.请将全部功能封装在一个函数里；                 4.请在函数编写过程中，在函数内部加入中文编写的详细的函数说明文档，用于说明函数功能、函数参数情况以及函数返回结果等信息；\"}, \n",
      "    {\"role\": \"assistant\", \"content\": \"def get_latest_email(userId):\\n    \\\"\\\"\\\"\\n    获得最新的一封邮件\\n    参数:\\n    user_id: 要检索邮件的用户的ID。默认值是'me'，数据格式为字符串类型。\\n\\n    返回:\\n    一个列表，其中每个元素都是一个字典，表示一封邮件。每个字典包含以下键：\\n    'from_userid': 发件人ID。\\n    'date': 邮件的发送日期。\\n    'subject': 邮件的主题。\\n    'snippet': 邮件的摘要（前100个字符）。\\n    \\\"\\\"\\\"\\n    mysql_pw=\\\"gpt\\\"\\n    \\n    connection = pymysql.connect(\\n    host='localhost',  # 数据库地址\\n    user='gpt',  # 数据库用户名\\n    passwd=mysql_pw,  # 数据库密码\\n    db='my_mail',  # 数据库名\\n    charset='utf8'  # 字符集选择utf8   \\n    )\\n    sql_query=f\\\"SELECT * FROM mailbox WHERE userid = '{userId}' ORDER BY date DESC LIMIT 1\\\";\\n\\n    try:\\n        with connection.cursor() as cursor:\\n            sql = sql_query\\n            cursor.execute(sql)\\n            results = cursor.fetchall()\\n    finally:\\n        cursor.close()\\n    \\n    column_names = [desc[0] for desc in cursor.description]\\n\\n    # 使用results和column_names创建DataFrame\\n    df = pd.DataFrame(results, columns=column_names)\\n        \\n    return df.to_json(orient = \\\"records\\\")\"}\n",
      "]\n",
      "}\n",
      "```\n",
      "上述推理链中的函数已修正，'{userId}'代替了原本错误的'{me}'\n"
     ]
    }
   ],
   "source": [
    "print(response.choices[0].message.content)"
   ]
  },
  {
   "cell_type": "code",
   "execution_count": 141,
   "id": "6788cae1-77ac-4dfc-88b4-b9ec0a383710",
   "metadata": {
    "tags": []
   },
   "outputs": [],
   "source": [
    "import re\n",
    "\n",
    "def extract_json(s):\n",
    "    pattern = r'```[jJ][sS][oO][nN]\\s*({.*?})\\s*```'\n",
    "    match = re.search(pattern, s, re.DOTALL)\n",
    "    if match:\n",
    "        return match.group(1)\n",
    "    else:\n",
    "        return s"
   ]
  },
  {
   "cell_type": "code",
   "execution_count": 142,
   "id": "4fe0deb9-9d97-4875-9fbf-f516b329a4ab",
   "metadata": {
    "tags": []
   },
   "outputs": [],
   "source": [
    "modified_result=response.choices[0].message.content"
   ]
  },
  {
   "cell_type": "code",
   "execution_count": 143,
   "id": "b6ea2a1b-c830-43cb-ad1c-689050c64c0f",
   "metadata": {
    "tags": []
   },
   "outputs": [
    {
     "name": "stdout",
     "output_type": "stream",
     "text": [
      "{\n",
      "\"stage1_CD\": [\n",
      "    {\"role\": \"user\", \"content\": \"请帮我查下mailbox邮件箱里最新一封邮件内容。\"},\n",
      "    {\"role\": \"assistant\", \"content\": \"当前需求中可以作为函数参数的是：1.查看谁的邮件。\"}\n",
      "], \n",
      "\"stage1_CM\": [\n",
      "    {\"role\": \"user\", \"content\": \"请帮我查下mailbox邮件箱里最新一封邮件内容。当前需求中可以作为函数参数的是：1.查看谁的邮件。\"}, \n",
      "    {\"role\": \"assistant\", \"content\": \"请帮我编写一个python函数，用于查看我在mailbox邮件箱中最新一封邮件的信息，函数要求如下：                 1.函数参数userId，userId是字符串参数，默认情况下取值为'me'，表示查看我的邮件；                 2.函数返回结果是一个包含最后一封邮件信息的对象，返回结果本身必须是一个json格式对象；                 3.请将全部功能封装在一个函数里；                 4.请在函数编写过程中，在函数内部加入中文编写的详细的函数说明文档，用于说明函数功能、函数参数情况以及函数返回结果等信息；\"}], \n",
      "\"stage2\": [\n",
      "    {\"role\": \"user\", \"content\": \"请帮我编写一个python函数，用于查看我在mailbox邮件箱中最新一封邮件的信息，函数要求如下：                 1.函数参数userId，userId是字符串参数，默认情况下取值为'me'，表示查看我的邮件；                 2.函数返回结果是一个包含最后一封邮件信息的对象，返回结果本身必须是一个json格式对象；                 3.请将全部功能封装在一个函数里；                 4.请在函数编写过程中，在函数内部加入中文编写的详细的函数说明文档，用于说明函数功能、函数参数情况以及函数返回结果等信息；\"}, \n",
      "    {\"role\": \"assistant\", \"content\": \"def get_latest_email(userId):\\n    \\\"\\\"\\\"\\n    获得最新的一封邮件\\n    参数:\\n    user_id: 要检索邮件的用户的ID。默认值是'me'，数据格式为字符串类型。\\n\\n    返回:\\n    一个列表，其中每个元素都是一个字典，表示一封邮件。每个字典包含以下键：\\n    'from_userid': 发件人ID。\\n    'date': 邮件的发送日期。\\n    'subject': 邮件的主题。\\n    'snippet': 邮件的摘要（前100个字符）。\\n    \\\"\\\"\\\"\\n    mysql_pw=\\\"gpt\\\"\\n    \\n    connection = pymysql.connect(\\n    host='localhost',  # 数据库地址\\n    user='gpt',  # 数据库用户名\\n    passwd=mysql_pw,  # 数据库密码\\n    db='my_mail',  # 数据库名\\n    charset='utf8'  # 字符集选择utf8   \\n    )\\n    sql_query=f\\\"SELECT * FROM mailbox WHERE userid = '{userId}' ORDER BY date DESC LIMIT 1\\\";\\n\\n    try:\\n        with connection.cursor() as cursor:\\n            sql = sql_query\\n            cursor.execute(sql)\\n            results = cursor.fetchall()\\n    finally:\\n        cursor.close()\\n    \\n    column_names = [desc[0] for desc in cursor.description]\\n\\n    # 使用results和column_names创建DataFrame\\n    df = pd.DataFrame(results, columns=column_names)\\n        \\n    return df.to_json(orient = \\\"records\\\")\"}\n",
      "]\n",
      "}\n"
     ]
    }
   ],
   "source": [
    "json_str=extract_json(modified_result)\n",
    "print(json_str)"
   ]
  },
  {
   "cell_type": "code",
   "execution_count": 144,
   "id": "3a075a42-303d-4109-bb68-9a455891067e",
   "metadata": {
    "tags": []
   },
   "outputs": [
    {
     "data": {
      "text/plain": [
       "'def get_latest_email(userId):\\n    \"\"\"\\n    获得最新的一封邮件\\n    参数:\\n    user_id: 要检索邮件的用户的ID。默认值是\\'me\\'，数据格式为字符串类型。\\n\\n    返回:\\n    一个列表，其中每个元素都是一个字典，表示一封邮件。每个字典包含以下键：\\n    \\'from_userid\\': 发件人ID。\\n    \\'date\\': 邮件的发送日期。\\n    \\'subject\\': 邮件的主题。\\n    \\'snippet\\': 邮件的摘要（前100个字符）。\\n    \"\"\"\\n    mysql_pw=\"gpt\"\\n    \\n    connection = pymysql.connect(\\n    host=\\'localhost\\',  # 数据库地址\\n    user=\\'gpt\\',  # 数据库用户名\\n    passwd=mysql_pw,  # 数据库密码\\n    db=\\'my_mail\\',  # 数据库名\\n    charset=\\'utf8\\'  # 字符集选择utf8   \\n    )\\n    sql_query=f\"SELECT * FROM mailbox WHERE userid = \\'{userId}\\' ORDER BY date DESC LIMIT 1\";\\n\\n    try:\\n        with connection.cursor() as cursor:\\n            sql = sql_query\\n            cursor.execute(sql)\\n            results = cursor.fetchall()\\n    finally:\\n        cursor.close()\\n    \\n    column_names = [desc[0] for desc in cursor.description]\\n\\n    # 使用results和column_names创建DataFrame\\n    df = pd.DataFrame(results, columns=column_names)\\n        \\n    return df.to_json(orient = \"records\")'"
      ]
     },
     "execution_count": 144,
     "metadata": {},
     "output_type": "execute_result"
    }
   ],
   "source": [
    "code = json.loads(json_str)['stage2'][1]['content']\n",
    "code"
   ]
  },
  {
   "cell_type": "code",
   "execution_count": 130,
   "id": "33a1a48d-c626-475b-aa12-7f06c49daf9c",
   "metadata": {
    "tags": []
   },
   "outputs": [
    {
     "name": "stdout",
     "output_type": "stream",
     "text": [
      "def get_latest_email(userId):\n",
      "    \"\"\"\n",
      "    获得最新的一封邮件\n",
      "    参数:\n",
      "    user_id: 要检索邮件的用户的ID。默认值是'me'，数据格式为字符串类型。\n",
      "\n",
      "    返回:\n",
      "    一个列表，其中每个元素都是一个字典，表示一封邮件。每个字典包含以下键：\n",
      "    'from_userid': 发件人ID。\n",
      "    'date': 邮件的发送日期。\n",
      "    'subject': 邮件的主题。\n",
      "    'snippet': 邮件的摘要（前100个字符）。\n",
      "    \"\"\"\n",
      "    mysql_pw=\"gpt\"\n",
      "    \n",
      "    connection = pymysql.connect(\n",
      "    host='localhost',  # 数据库地址\n",
      "    user='gpt',  # 数据库用户名\n",
      "    passwd=mysql_pw,  # 数据库密码\n",
      "    db='my_mail',  # 数据库名\n",
      "    charset='utf8'  # 字符集选择utf8   \n",
      "    )\n",
      "    sql_query=f\"SELECT * FROM mailbox WHERE userid = '{userId}' ORDER BY date DESC LIMIT 1\";\n",
      "\n",
      "    try:\n",
      "        with connection.cursor() as cursor:\n",
      "            sql = sql_query\n",
      "            cursor.execute(sql)\n",
      "            results = cursor.fetchall()\n",
      "    finally:\n",
      "        cursor.close()\n",
      "    \n",
      "    column_names = [desc[0] for desc in cursor.description]\n",
      "\n",
      "    # 使用results和column_names创建DataFrame\n",
      "    df = pd.DataFrame(results, columns=column_names)\n",
      "        \n",
      "    return df.to_json(orient = \"records\")\n"
     ]
    }
   ],
   "source": [
    "python_code=extract_code(code)\n",
    "print(python_code)"
   ]
  },
  {
   "cell_type": "code",
   "execution_count": 134,
   "id": "4e7182da-b39b-466b-99bf-63f014b9d3b3",
   "metadata": {
    "tags": []
   },
   "outputs": [],
   "source": [
    "exec(python_code)"
   ]
  },
  {
   "cell_type": "code",
   "execution_count": 136,
   "id": "0efc8feb-a4ef-4d63-aae3-321f9c04d924",
   "metadata": {
    "tags": []
   },
   "outputs": [
    {
     "name": "stdout",
     "output_type": "stream",
     "text": [
      "[{\"userid\":\"me\",\"from_userid\":\"\\u897f\\u95e8\\u5439\\u96ea\",\"date\":\"2024-06-07\",\"subject\":\"\\u5f00\\u4f1a\",\"snippet\":\"\\u660e\\u592910\\u70b9\\u5230\\u6d77\\u6dc0\\u533a\\u53f6\\u9752\\u5927\\u53a65\\u697c502\\u5f00\\u4f1a\",\"status\":\"\\u5df2\\u8bfb\",\"label\":\"\\u5f00\\u4f1a\"}]\n"
     ]
    }
   ],
   "source": [
    "print(get_latest_email(\"me\"))"
   ]
  },
  {
   "cell_type": "markdown",
   "id": "063683f7-50ef-4a06-9e98-6f4e52a3214c",
   "metadata": {},
   "source": [
    "我们发现根据推理链，大模型也能正确修复我们的代码"
   ]
  },
  {
   "cell_type": "markdown",
   "id": "0fa948ee-d2cf-4a52-92e5-3b19774e5b3d",
   "metadata": {},
   "source": [
    "## 2. 基于大模型的自动Debug的函数"
   ]
  },
  {
   "cell_type": "markdown",
   "id": "2f2ef858-dd97-4840-97c4-303100b324ab",
   "metadata": {},
   "source": [
    "### 2.1 自动Debug函数构建"
   ]
  },
  {
   "cell_type": "markdown",
   "id": "65539b53-009a-49ce-9ac8-73af25117107",
   "metadata": {},
   "source": [
    "- 先定义一个审查函数"
   ]
  },
  {
   "cell_type": "code",
   "execution_count": 147,
   "id": "332d48b0-c9fb-4664-a08d-5dbf13046b00",
   "metadata": {
    "tags": []
   },
   "outputs": [],
   "source": [
    "def prompt_modified(function_name, system_content='./data/推理链.md', model=\"glm-4\", g=globals()):\n",
    "    \"\"\"\n",
    "    邮箱项目的外部函数审查函数，用于审查外部函数创建流程提示是否正确以及最终创建的代码是否正确\n",
    "    :param function_name: 必要参数，字符串类型，表示审查对象名称；\n",
    "    :param system_content: 可选参数，默认取值为字符串推理链修改.md，表示此时审查函数外部挂载文档名称，需要是markdwon格式文档；\n",
    "    :param model: 可选参数，表示调用的Chat模型，默认选glm-4；\n",
    "    :param g: 可选参数，表示extract_function_code函数作用域，默认为globals()，即在当前操作空间全域内生效；\n",
    "    :return：审查结束后新创建的函数名称\n",
    "    \"\"\"\n",
    "    print(\"正在执行审查函数，审查对象：%s\" % function_name)\n",
    "    \n",
    "    with open(\"./data/my_mail数据字典.md\", 'r', encoding='utf-8') as f:\n",
    "        data_content = f.read()\n",
    "        \n",
    "    with open(system_content, 'r', encoding='utf-8') as f:\n",
    "        md_content = f.read()\n",
    "        \n",
    "    # 读取原函数全部提示内容\n",
    "    with open('./functions/untested functions/%s/%s_prompt.json' % (function_name, function_name), 'r') as f:\n",
    "        msg = json.load(f)\n",
    "    \n",
    "    # 将其保存为字符串\n",
    "    msg_str = json.dumps(msg)\n",
    "    \n",
    "    # 进行审查\n",
    "    response = client.chat.completions.create(\n",
    "                        model=model,\n",
    "                        messages=[\n",
    "                            {\"role\": \"system\", \"content\": data_content},\n",
    "                            {\"role\": \"system\", \"content\": md_content},\n",
    "                            {\"role\": \"user\", \"content\": '以下是一个错误的邮箱项目的推理链，请你按照要求对其进行修改：%s' % msg_str}\n",
    "                          ]\n",
    "        )\n",
    "    \n",
    "    modified_result = response.choices[0].message.content\n",
    "    \n",
    "    def extract_json(s):\n",
    "        pattern = r'```[jJ][sS][oO][nN]\\s*({.*?})\\s*```'\n",
    "        match = re.search(pattern, s, re.DOTALL)\n",
    "        if match:\n",
    "            return match.group(1)\n",
    "        else:\n",
    "            return s\n",
    "    \n",
    "    modified_json = extract_json(modified_result)\n",
    "    \n",
    "    # 提取函数源码\n",
    "    code = json.loads(modified_json)['stage2'][1]['content']\n",
    "    \n",
    "    # 提取函数名\n",
    "    match = re.search(r'def (\\w+)', code)\n",
    "    function_name = match.group(1)\n",
    "    \n",
    "    print(\"审查结束，新的函数名称为：%s。\\n正在运行该函数定义过程，并保存函数源码与prompt\" % function_name)\n",
    "    \n",
    "    exec(code, g)\n",
    "    \n",
    "    # 在untested文件夹内创建函数同名文件夹\n",
    "    directory = './functions/untested functions/%s' % function_name\n",
    "    if not os.path.exists(directory):\n",
    "        os.makedirs(directory)\n",
    "        \n",
    "    # 写入函数\n",
    "    with open('./functions/untested functions/%s/%s_module.py' % (function_name, function_name), 'w', encoding='utf-8') as f:\n",
    "        f.write(code)\n",
    "        \n",
    "    # 写入提示\n",
    "    with open('./functions/untested functions/%s/%s_prompt.json' % (function_name, function_name), 'w') as f:\n",
    "        json.dump(json.loads(modified_json), f)\n",
    "    \n",
    "    print('新函数提示示例保存在./functions/untested functions/%s/%s_prompt.json文件中' % (function_name, function_name))\n",
    "    print(\"%s函数已在当前操作空间定义，可以进行效果测试\" % function_name)\n",
    "    \n",
    "    return function_name"
   ]
  },
  {
   "cell_type": "code",
   "execution_count": 157,
   "id": "900267ef-843d-4a42-9035-cbae2cac3a96",
   "metadata": {
    "tags": []
   },
   "outputs": [
    {
     "name": "stdout",
     "output_type": "stream",
     "text": [
      "正在执行审查函数，审查对象：get_latest_email\n",
      "审查结束，新的函数名称为：get_latest_email。\n",
      "正在运行该函数定义过程，并保存函数源码与prompt\n",
      "新函数提示示例保存在./functions/untested functions/get_latest_email/get_latest_email_prompt.json文件中\n",
      "get_latest_email函数已在当前操作空间定义，可以进行效果测试\n"
     ]
    },
    {
     "data": {
      "text/plain": [
       "'get_latest_email'"
      ]
     },
     "execution_count": 157,
     "metadata": {},
     "output_type": "execute_result"
    }
   ],
   "source": [
    "prompt_modified(function_name='get_latest_email', model=\"glm-4\", g=globals())"
   ]
  },
  {
   "cell_type": "code",
   "execution_count": 158,
   "id": "889f4583-f3a3-46d9-9291-53e74dec5db1",
   "metadata": {},
   "outputs": [
    {
     "data": {
      "text/plain": [
       "\u001b[0;31mSignature:\u001b[0m \u001b[0mget_latest_email\u001b[0m\u001b[0;34m(\u001b[0m\u001b[0muserId\u001b[0m\u001b[0;34m=\u001b[0m\u001b[0;34m'me'\u001b[0m\u001b[0;34m)\u001b[0m\u001b[0;34m\u001b[0m\u001b[0;34m\u001b[0m\u001b[0m\n",
       "\u001b[0;31mDocstring:\u001b[0m\n",
       "获取最新的一封邮件\n",
       "参数:\n",
       "userId: 要检索邮件的用户的ID。默认值是'me'，数据格式为字符串类型。\n",
       "\n",
       "返回:\n",
       "一个字典，表示一封邮件。字典包含以下键：\n",
       "'from_userid': 发件人ID。\n",
       "'date': 邮件的发送日期。\n",
       "'subject': 邮件的主题。\n",
       "'snippet': 邮件的摘要（前100个字符）。\n",
       "\u001b[0;31mFile:\u001b[0m      Dynamically generated function. No source code available.\n",
       "\u001b[0;31mType:\u001b[0m      function"
      ]
     },
     "metadata": {},
     "output_type": "display_data"
    }
   ],
   "source": [
    "get_latest_email?"
   ]
  },
  {
   "cell_type": "code",
   "execution_count": 159,
   "id": "2a4f5a81-e4f5-4c7a-b627-a5e8d40d1898",
   "metadata": {},
   "outputs": [
    {
     "data": {
      "text/plain": [
       "'[{\"userid\":\"me\",\"from_userid\":\"\\\\u897f\\\\u95e8\\\\u5439\\\\u96ea\",\"date\":\"2024-06-07\",\"subject\":\"\\\\u5f00\\\\u4f1a\",\"snippet\":\"\\\\u660e\\\\u592910\\\\u70b9\\\\u5230\\\\u6d77\\\\u6dc0\\\\u533a\\\\u53f6\\\\u9752\\\\u5927\\\\u53a65\\\\u697c502\\\\u5f00\\\\u4f1a\",\"status\":\"\\\\u5df2\\\\u8bfb\",\"label\":\"\\\\u5f00\\\\u4f1a\"}]'"
      ]
     },
     "execution_count": 159,
     "metadata": {},
     "output_type": "execute_result"
    }
   ],
   "source": [
    "get_latest_email()"
   ]
  },
  {
   "cell_type": "markdown",
   "id": "e8e6d299-4ae4-4133-9dd1-5f0b253d48b9",
   "metadata": {},
   "source": [
    "结论：\n",
    "审查函数能让大模型输出正确的结果"
   ]
  },
  {
   "cell_type": "markdown",
   "id": "e57db4f7-45af-4a55-9b47-b129af7e77ab",
   "metadata": {},
   "source": [
    "- 构建自动Debug的函数"
   ]
  },
  {
   "cell_type": "code",
   "execution_count": 41,
   "id": "b3771293-3913-4d5c-aa7c-623f8b5ffb72",
   "metadata": {
    "tags": []
   },
   "outputs": [],
   "source": [
    "def extract_function_code(s, detail=0, tested=False, g=globals()):\n",
    "    \"\"\"\n",
    "    函数提取函数，同时执行函数内容，可以选择打印函数信息，并选择代码保存的地址\n",
    "    \"\"\"\n",
    "    def extract_code(s):\n",
    "        \"\"\"\n",
    "        如果输入的字符串s是一个包含Python代码的Markdown格式字符串，提取出代码部分。\n",
    "        否则，返回原字符串。\n",
    "\n",
    "        参数:\n",
    "        s: 输入的字符串。\n",
    "\n",
    "        返回:\n",
    "        提取出的代码部分，或原字符串。\n",
    "        \"\"\"\n",
    "        # 判断字符串是否是Markdown格式\n",
    "        if '```python' in s or 'Python' in s or'PYTHON' in s:\n",
    "            # 找到代码块的开始和结束位置\n",
    "            code_start = s.find('def')\n",
    "            code_end = s.find('```\\n', code_start)\n",
    "            # 提取代码部分\n",
    "            code = s[code_start:code_end]\n",
    "        else:\n",
    "            # 如果字符串不是Markdown格式，返回原字符串\n",
    "            code = s\n",
    "\n",
    "        return code\n",
    "    \n",
    "    # 提取代码字符串\n",
    "    code = extract_code(s)\n",
    "    \n",
    "    # 提取函数名称\n",
    "    match = re.search(r'def (\\w+)', code)\n",
    "    function_name = match.group(1)\n",
    "    \n",
    "    # 在untested文件夹内创建函数同名文件夹\n",
    "    directory = './functions/untested functions/%s' % function_name\n",
    "    if not os.path.exists(directory):\n",
    "        os.makedirs(directory)\n",
    "    \n",
    "    # 将函数写入本地\n",
    "    if tested == False:\n",
    "        with open('./functions/untested functions/%s/%s_module.py' % (function_name, function_name), 'w', encoding='utf-8') as f:\n",
    "            f.write(code)\n",
    "    else:\n",
    "        # 调用remove_to_test函数将函数文件夹转移至tested文件夹内\n",
    "        remove_to_tested(function_name)\n",
    "        with open('./functions/tested functions/%s/%s_module.py' % (function_name, function_name), 'w', encoding='utf-8') as f:\n",
    "            f.write(code)\n",
    "    \n",
    "    # 执行该函数\n",
    "    try:\n",
    "        exec(code, g)\n",
    "    except Exception as e:\n",
    "        print(\"An error occurred while executing the code:\")\n",
    "        print(e)\n",
    "    \n",
    "    # 打印函数名称\n",
    "    if detail == 0:\n",
    "        print(\"The function name is:%s\" % function_name)\n",
    "    \n",
    "    if detail == 1:\n",
    "        if tested == False:\n",
    "            with open('./functions/untested functions/%s/%s_module.py' % (function_name, function_name), 'r', encoding='utf-8') as f:\n",
    "                content = f.read()\n",
    "        else:\n",
    "            with open('./functions/tested functions/%s/%s_module.py' % (function_name, function_name), 'r', encoding='utf-8') as f:   \n",
    "                content = f.read()\n",
    "                \n",
    "        print(content)\n",
    "        \n",
    "    return function_name"
   ]
  },
  {
   "cell_type": "code",
   "execution_count": 42,
   "id": "25d7a3a9-9c3d-4714-aa5b-fd3a3ee053ac",
   "metadata": {
    "tags": []
   },
   "outputs": [],
   "source": [
    "def show_functions(tested=False, if_print=False):\n",
    "    \"\"\"\n",
    "    打印tested或untested文件夹内全部函数\n",
    "    \"\"\"\n",
    "    current_directory = os.getcwd()\n",
    "    if tested == False:\n",
    "        directory = current_directory + '/functions/untested functions'\n",
    "    else:\n",
    "        directory = current_directory + '/functions/tested functions'\n",
    "    files_and_directories = os.listdir(directory)\n",
    "    # 过滤结果，只保留.py文件和非__pycache__文件夹\n",
    "    files_and_directories = files_and_directories = [name for name in files_and_directories if (os.path.splitext(name)[1] == '.py' or os.path.isdir(os.path.join(directory, name))) and name != \".ipynb_checkpoints\"]\n",
    "    \n",
    "    if if_print != False:\n",
    "        for name in files_and_directories:\n",
    "            print(name)\n",
    "    \n",
    "    return files_and_directories"
   ]
  },
  {
   "cell_type": "code",
   "execution_count": 43,
   "id": "44241c6a-59a3-43de-8bcd-45b4e0dc9da8",
   "metadata": {
    "tags": []
   },
   "outputs": [],
   "source": [
    "def code_generate(req, few_shot='all', model='glm-4', g=globals(), detail=0):\n",
    "    \"\"\"\n",
    "    Function calling外部函数自动创建函数，可以根据用户的需求，直接将其翻译为Chat模型可以直接调用的外部函数代码。\n",
    "    :param req: 必要参数，字符串类型，表示输入的用户需求；\n",
    "    :param few_shot: 可选参数，默认取值为字符串all，用于描述Few-shot提示示例的选取方案，当输入字符串all时，则代表提取当前外部函数库中全部测试过的函数作为Few-shot；\\\n",
    "    而如果输入的是一个包含了多个函数名称的list，则表示使用这些函数作为Few-shot。\n",
    "    :param model: 可选参数，表示调用的Chat模型，默认选取glm-4；\n",
    "    :param g: 可选参数，表示extract_function_code函数作用域，默认为globals()，即在当前操作空间全域内生效；\n",
    "    :param detail: 可选参数，默认取值为0，还可以取值为1，表示extract_function_code函数打印新创建的外部函数细节；\n",
    "    :return：新创建的函数名称。需要注意的是，在函数创建时，该函数也会在当前操作空间被定义，后续可以直接调用；\n",
    "    \"\"\"\n",
    "    \n",
    "    # 提取提示示例的函数名称\n",
    "    if few_shot == 'all':\n",
    "        few_shot_functions_name = show_functions(tested=True)\n",
    "    elif type(few_shot) == list:\n",
    "        few_shot_functions_name = few_shot\n",
    "    # few_shot_functions = [globals()[name] for name in few_shot_functions_name]\n",
    "    \n",
    "    # 读取各阶段系统提示\n",
    "    with open('./functions/tested functions/system_messages.json', 'r') as f:\n",
    "        system_messages = json.load(f)\n",
    "        \n",
    "    # 各阶段提示message对象\n",
    "    few_shot_messages_CM = []\n",
    "    few_shot_messages_CD = []\n",
    "    \n",
    "    few_shot_messages = []\n",
    "    \n",
    "    # 先保存第一条消息，也就是system message\n",
    "    few_shot_messages_CD += system_messages[\"system_message_CD\"]\n",
    "    few_shot_messages_CM += system_messages[\"system_message_CM\"]\n",
    "    few_shot_messages += system_messages[\"system_message\"]\n",
    "\n",
    "    # 创建不同阶段提示message\n",
    "    for function_name in few_shot_functions_name:\n",
    "        with open('./functions/tested functions/%s/%s_prompt.json' % (function_name, function_name), 'r') as f:\n",
    "            msg = json.load(f)\n",
    "        few_shot_messages_CD += msg[\"stage1_CD\"]\n",
    "        few_shot_messages_CM += msg[\"stage1_CM\"]\n",
    "        few_shot_messages += msg['stage2']\n",
    "        \n",
    "    # 读取用户需求，作为第一阶段CD环节User content\n",
    "    new_req_CD_input = req\n",
    "    few_shot_messages_CD.append({\"role\": \"user\", \"content\": new_req_CD_input})\n",
    "    \n",
    "    print('第一阶段CD环节提示创建完毕，正在进行CD提示...')\n",
    "    \n",
    "    # 第一阶段CD环节Chat模型调用过程\n",
    "    response = client.chat.completions.create(\n",
    "                        model=model,\n",
    "                        messages=few_shot_messages_CD)\n",
    "    new_req_pi = response.choices[0].message.content\n",
    "    \n",
    "    #print(\"打印内容1：\"+new_req_pi)\n",
    "    \n",
    "    print('第一阶段CD环节提示完毕')\n",
    "    \n",
    "    # 第一阶段CM环节Messages创建\n",
    "    new_req_CM_input = new_req_CD_input + new_req_pi\n",
    "    few_shot_messages_CM.append({\"role\": \"user\", \"content\": new_req_CM_input})\n",
    "    \n",
    "    print('第一阶段CM环节提示创建完毕，正在进行第一阶段CM提示...')\n",
    "    # 第一阶段CM环节Chat模型调用过程\n",
    "    response = client.chat.completions.create(\n",
    "                        model=model,\n",
    "                        messages=few_shot_messages_CM)\n",
    "    new_req_description = response.choices[0].message.content\n",
    "    \n",
    "    #print(\"打印内容2：\"+new_req_description)\n",
    "    #return \"test\"\n",
    "\n",
    "    \n",
    "    print('第一阶段CM环节提示完毕')\n",
    "    \n",
    "    # 第二阶段Messages创建过程\n",
    "    few_shot_messages.append({\"role\": \"user\", \"content\": new_req_description})\n",
    "    \n",
    "    print('第二阶段提示创建完毕，正在进行第二阶段提示...')\n",
    "    \n",
    "    # 第二阶段Chat模型调用过程\n",
    "    response = client.chat.completions.create(\n",
    "                        model=model,\n",
    "                        messages=few_shot_messages)\n",
    "    new_req_function = response.choices[0].message.content\n",
    "    \n",
    "    \n",
    "    print('第二阶段提示完毕，准备运行函数并编写提示示例')\n",
    "    \n",
    "    # 提取函数并运行，创建函数名称对象，统一都写入untested文件夹内\n",
    "    function_name = extract_function_code(s=new_req_function, detail=detail, g=g)\n",
    "    \n",
    "    print('新函数保存在./functions/untested functions/%s/%s_module.py文件中' % (function_name, function_name))\n",
    "    \n",
    "    # 创建该函数提示示例\n",
    "    new_req_messages_CD = [\n",
    "                          {\"role\": \"user\", \"content\": new_req_CD_input},\n",
    "                          {\"role\": \"assistant\", \"content\": new_req_pi}\n",
    "                         ]\n",
    "    new_req_messages_CM = [\n",
    "                          {\"role\": \"user\", \"content\": new_req_CM_input},\n",
    "                          {\"role\": \"assistant\", \"content\":new_req_description}\n",
    "                         ]\n",
    "    \n",
    "    with open('./functions/untested functions/%s/%s_module.py' % (function_name, function_name), encoding='utf-8') as f:\n",
    "        new_req_function = f.read()\n",
    "    \n",
    "    new_req_messages = [\n",
    "                       {\"role\": \"user\", \"content\": new_req_description},\n",
    "                       {\"role\": \"assistant\", \"content\":new_req_function}\n",
    "                      ] \n",
    "    \n",
    "    new_req_prompt = {\n",
    "                     \"stage1_CD\": new_req_messages_CD,\n",
    "                     \"stage1_CM\": new_req_messages_CM,\n",
    "                     \"stage2\": new_req_messages\n",
    "                    }   \n",
    "    \n",
    "    with open('./functions/untested functions/%s/%s_prompt.json' % (function_name, function_name), 'w') as f:\n",
    "        json.dump(new_req_prompt, f)\n",
    "        \n",
    "    print('新函数提示示例保存在./functions/untested functions/%s/%s_prompt.json文件中' % (function_name, function_name))\n",
    "    print('done')\n",
    "    return function_name"
   ]
  },
  {
   "cell_type": "code",
   "execution_count": 161,
   "id": "f4d72e9b-b18b-44d3-99cd-90b1c7c45657",
   "metadata": {
    "tags": []
   },
   "outputs": [],
   "source": [
    "def remove_to_tested(function_name):\n",
    "    \"\"\"\n",
    "    将函数同名文件夹由untested文件夹转移至tested文件夹内。\\\n",
    "    完成转移则说明函数通过测试，可以使用。\n",
    "    \"\"\"\n",
    "    \n",
    "    # 将函数代码写入glmLesson.py文件中\n",
    "    with open('./functions/untested functions/%s/%s_module.py' % (function_name, function_name), encoding='utf-8') as f:\n",
    "        function_code = f.read()\n",
    "    \n",
    "    # 源文件夹路径\n",
    "    src_dir = './functions/untested functions/%s' % function_name\n",
    "\n",
    "    # 目标文件夹路径\n",
    "    dst_dir = './functions/tested functions/%s' % function_name\n",
    "    \n",
    "    # 移动文件夹\n",
    "    shutil.move(src_dir, dst_dir)"
   ]
  },
  {
   "cell_type": "code",
   "execution_count": 35,
   "id": "9ad21335-f58b-4f53-87d2-fb7eb708ce68",
   "metadata": {
    "tags": []
   },
   "outputs": [],
   "source": [
    "def auto_functions(functions_list):\n",
    "    \"\"\"\n",
    "    Chat模型的functions参数编写函数\n",
    "    :param functions_list: 包含一个或者多个函数对象的列表；\n",
    "    :return：满足Chat模型functions参数要求的functions对象\n",
    "    \"\"\"\n",
    "    def functions_generate(functions_list):\n",
    "        # 创建空列表，用于保存每个函数的描述字典\n",
    "        functions = []\n",
    "        # 对每个外部函数进行循环\n",
    "        for function in functions_list:\n",
    "            # 读取函数对象的函数说明\n",
    "            function_description = inspect.getdoc(function)\n",
    "            # 读取函数的函数名字符串\n",
    "            function_name = function.__name__\n",
    "            ## 提示词 one-shot\n",
    "            system_prompt1=\"\"\"输出结果必须是一个JSON格式的字典,举个例子：\n",
    "            [{'type': 'function', 'function': {'name': 'sunwukong_function', 'description': '该函数定义了数据集计算过程，接收一个数据表字符串参数，并返回一个JSON格式的Dataframe类型对象。', 'parameters': {'type': 'object', 'properties': {'data': {'type': 'string', 'description': '带入计算的数据表，用字符串进行表示'}}, 'required': ['data'], 'additionalProperties': False}}}]\n",
    "            \"\"\"\n",
    "            system_prompt2 = '以下是某的函数说明：%s,输出结果必须是一个JSON格式的字典，只输出这个字典即可，前后不需要任何前后修饰或说明的语句' % function_description\n",
    "            user_prompt = '根据这个函数的函数说明，请帮我创建一个JSON格式的字典，这个字典有如下5点要求：\\\n",
    "                           1.字典总共有三个键值对；\\\n",
    "                           2.第一个键值对的Key是字符串name，value是该函数的名字：%s，也是字符串；\\\n",
    "                           3.第二个键值对的Key是字符串description，value是该函数的函数的功能说明，也是字符串；\\\n",
    "                           4.第三个键值对的Key是字符串parameters，value是一个JSON Schema对象，用于说明该函数的参数输入规范。\\\n",
    "                           5.输出结果必须是一个JSON格式的字典，只输出这个字典即可，前后不需要任何前后修饰或说明的语句' % function_name\n",
    "\n",
    "            response = client.chat.completions.create(\n",
    "                              model=\"glm-4\",\n",
    "                              messages=[\n",
    "                                {\"role\": \"system\", \"content\": system_prompt1},\n",
    "                                {\"role\": \"system\", \"content\": system_prompt2},\n",
    "                                {\"role\": \"user\", \"content\": user_prompt}\n",
    "                              ]\n",
    "                            )\n",
    "            json_str=response.choices[0].message.content.replace(\"```json\",\"\").replace(\"```\",\"\")\n",
    "            json_function_description=json.loads(json_str)\n",
    "            json_str={\"type\": \"function\",\"function\":json_function_description}\n",
    "            functions.append(json_str)\n",
    "        return functions\n",
    "    ## 最大可以尝试4次\n",
    "    max_attempts = 4\n",
    "    attempts = 0\n",
    "\n",
    "    while attempts < max_attempts:\n",
    "        try:\n",
    "            functions = functions_generate(functions_list)\n",
    "            break  # 如果代码成功执行，跳出循环\n",
    "        except Exception as e:\n",
    "            attempts += 1  # 增加尝试次数\n",
    "            print(\"发生错误：\", e)\n",
    "            if attempts == max_attempts:\n",
    "                print(\"已达到最大尝试次数，程序终止。\")\n",
    "                raise  # 重新引发最后一个异常\n",
    "            else:\n",
    "                print(\"正在重新运行...\")\n",
    "    return functions"
   ]
  },
  {
   "cell_type": "code",
   "execution_count": 36,
   "id": "90d20177-105b-4602-84ae-22cc6c1adcd3",
   "metadata": {
    "tags": []
   },
   "outputs": [],
   "source": [
    "def run_conversation(messages, functions_list=None, model=\"glm-4\"):\n",
    "    \"\"\"\n",
    "    能够自动执行外部函数调用的对话模型\n",
    "    :param messages: 必要参数，字典类型，输入到Chat模型的messages参数对象\n",
    "    :param functions_list: 可选参数，默认为None，可以设置为包含全部外部函数的列表对象\n",
    "    :param model: Chat模型，可选参数，默认模型为glm-4\n",
    "    :return：Chat模型输出结果\n",
    "    \"\"\"\n",
    "    # 如果没有外部函数库，则执行普通的对话任务\n",
    "    if functions_list == None:\n",
    "        response = client.chat.completions.create(\n",
    "                        model=model,\n",
    "                        messages=messages,\n",
    "                        )\n",
    "        response_message = response.choices[0].message\n",
    "        final_response = response_message.content\n",
    "        \n",
    "    # 若存在外部函数库，则需要灵活选取外部函数并进行回答\n",
    "    else:\n",
    "        # 创建functions对象\n",
    "        tools = auto_functions(functions_list)\n",
    "        \n",
    "        # 创建外部函数库字典\n",
    "        available_functions = {func.__name__: func for func in functions_list}\n",
    "        print(available_functions)\n",
    "\n",
    "        # 第一次调用大模型\n",
    "        response = client.chat.completions.create(\n",
    "                        model=model,\n",
    "                        messages=messages,\n",
    "                        tools=tools,\n",
    "                        tool_choice=\"auto\", )\n",
    "        response_message = response.choices[0].message\n",
    "        \n",
    "       \n",
    "\n",
    "\n",
    "        tool_calls = response_message.tool_calls\n",
    "\n",
    "        if tool_calls:\n",
    "\n",
    "            #messages.append(response.choices[0].message)\n",
    "            ## GLM-4 Function Call的使用方式\n",
    "            messages.append(response.choices[0].message.model_dump())\n",
    "            for tool_call in tool_calls:\n",
    "                function_name = tool_call.function.name\n",
    "                function_to_call = available_functions[function_name]\n",
    "                function_args = json.loads(tool_call.function.arguments)\n",
    "                ## 真正执行外部函数的就是这儿的代码\n",
    "                function_response = function_to_call(**function_args)\n",
    "                messages.append(\n",
    "                    {\n",
    "                        \"role\": \"tool\",\n",
    "                        \"content\": function_response,\n",
    "                        \"tool_call_id\": tool_call.id,\n",
    "                    }\n",
    "                ) \n",
    "            ## 第二次调用模型\n",
    "            second_response = client.chat.completions.create(\n",
    "                model=model,\n",
    "                messages=messages,\n",
    "                tools=tools\n",
    "            ) \n",
    "            # 获取最终结果\n",
    "            print(second_response.choices[0].message)\n",
    "            final_response = second_response.choices[0].message.content\n",
    "        else:\n",
    "            final_response = response_message.content\n",
    "                \n",
    "    return final_response"
   ]
  },
  {
   "cell_type": "code",
   "execution_count": 44,
   "id": "cb59e2c7-c864-4527-97f7-fc2908cb4770",
   "metadata": {
    "tags": []
   },
   "outputs": [],
   "source": [
    "def function_test(function_name, req, few_shot, model=\"glm-4\", g=globals()):\n",
    "\n",
    "    def test_messages(ueser_content):\n",
    "        messages = [{\"role\": \"system\", \"content\": data_content},\n",
    "                     {\"role\": \"system\", \"content\": \"我的邮箱号叫me\"},\n",
    "                    {\"role\": \"user\", \"content\": ueser_content}]\n",
    "        return messages\n",
    "            \n",
    "    messages = test_messages(req)\n",
    "    \n",
    "    new_function = globals()[function_name]\n",
    "    functions_list = [new_function]\n",
    "    \n",
    "    print(\"根据既定用户需求req进行%s函数功能测试，请确保当该函数已经在当前操作空间定义...\" % function_name)\n",
    "    \n",
    "    # 有可能在run_conversation环节报错\n",
    "    # 若没报错，则运行：\n",
    "    try:\n",
    "        ## 直接调用看当前函数给出来的结果是否正确\n",
    "        ## 有两种可能：1，代码能运行 2. 代码不能运行\n",
    "        final_response = run_conversation(messages=messages, functions_list=functions_list, model=model)\n",
    "        print(\"当前函数运行结果：'%s'\" % final_response)\n",
    "        ## 如果代码能运行看一下是否能满足需求\n",
    "        feedback = input(\"函数功能是否满足要求 (yes/no)? \")\n",
    "        if feedback.lower() == 'yes':\n",
    "            print(\"函数功能通过测试，正在将函数写入tested文件夹\")\n",
    "            ## 如果满足就通过测试\n",
    "            remove_to_tested(function_name)\n",
    "            print('done')\n",
    "        else:\n",
    "            ## 如果不满足需求\n",
    "            next_step = input(\"函数功能未通过测试，是1.需要再次进行测试，还是2.进入debug流程？\")\n",
    "            if next_step == '1':\n",
    "                print(\"准备再次测试...\")\n",
    "                ## 再次运行\n",
    "                function_test(function_name, req, few_shot)\n",
    "            else:\n",
    "                ## 进行Debug，选择方案\n",
    "                solution = input(\"请选择debug方案：\\n1.再次执行函数创建流程，并测试结果；\\n2.执行审查函数\\\n",
    "                \\n3.重新输入用户需求；\\n4.退出程序，进行手动尝试\")\n",
    "                if solution == '1':\n",
    "                    # 再次运行函数创建过程\n",
    "                    print(\"好的，正在尝试再次创建函数，请稍等...\")\n",
    "                    few_shot_str = input(\"准备再次测试，请问是1.采用此前Few-shot方案，还是2.带入全部函数示例进行Few-shot？\")\n",
    "                    if few_shot_str == '1':\n",
    "                        function_name = code_generate(req=req, few_shot=few_shot, model=model, g=g)\n",
    "                    else:\n",
    "                        function_name = code_generate(req=req, few_shot='all', model=model, g=g)\n",
    "                    ## 构建完了以后继续运行\n",
    "                    function_test(function_name=function_name, req=req, few_shot=few_shot, g=g)\n",
    "                elif solution == '2':\n",
    "                    # 执行审查函数\n",
    "                    print(\"好的，执行审查函数，请稍等...\")\n",
    "                    function_name = prompt_modified(function_name=function_name, model=\"gpt-3.5-turbo-16k-0613\", g=g)\n",
    "                    # 接下来带入进行测试\n",
    "                    print(\"新函数已创建，接下来带入进行测试...\")\n",
    "                    function_test(function_name=function_name, req=req, few_shot=few_shot, g=g)\n",
    "                elif solution == '3':\n",
    "                    ## 用户重新输入需求，也就意味着重新\n",
    "                    new_req = input(\"好的，请再次输入用户需求，请注意，用户需求描述方法将极大程度影响最终函数创建结果。\")\n",
    "                    few_shot_str = input(\"接下来如何运行代码创建函数？1.采用此前Few-shot方案；\\n2.使用全部外部函数作为Few-shot\")\n",
    "                    if few_shot_str == '1':\n",
    "                        function_name = code_generate(req=new_req, few_shot=few_shot, model=model, g=g)\n",
    "                    else:\n",
    "                        function_name = code_generate(req=new_req, few_shot='all', model=model, g=g)\n",
    "                    function_test(function_name=function_name, req=new_req, few_shot=few_shot, g=g)\n",
    "                elif solution == '4':\n",
    "                    print(\"加油~\")\n",
    "        \n",
    "    # run_conversation报错时则运行：\n",
    "    except Exception as e:\n",
    "        next_step = input(\"run_conversation无法正常运行，接下来是1.再次运行运行run_conversation，还是2.进入debug流程？\")\n",
    "        if next_step == '1':\n",
    "            function_test(function_name, req, few_shot)\n",
    "        else:\n",
    "            solution = input(\"请选择debug方案：\\n1.再次执行函数创建流程，并测试结果；\\n2.执行审查函数\\\n",
    "            \\n3.重新输入用户需求；\\n4.退出程序，进行手动尝试\")\n",
    "            if solution == '1':\n",
    "                # 再次运行函数创建过程\n",
    "                print(\"好的，正在尝试再次创建函数，请稍等...\")\n",
    "                few_shot_str = input(\"准备再次测试，请问是1.采用此前Few-shot方案，还是2.带入全部函数示例进行Few-shot？\")\n",
    "                if few_shot_str == '1':\n",
    "                    function_name = code_generate(req=req, few_shot=few_shot, model=model, g=g)\n",
    "                else:\n",
    "                    function_name = code_generate(req=req, few_shot='all', model=model, g=g)\n",
    "                function_test(function_name=function_name, req=req, few_shot=few_shot, g=g)\n",
    "            elif solution == '2':\n",
    "                # 执行审查函数\n",
    "                print(\"好的，执行审查函数，请稍等...\")\n",
    "                max_attempts = 3\n",
    "                attempts = 0\n",
    "\n",
    "                while attempts < max_attempts:\n",
    "                    try:\n",
    "                        function_name = prompt_modified(function_name=function_name, model=\"gpt-3.5-turbo-16k-0613\", g=g)\n",
    "                        break  # 如果代码成功执行，跳出循环\n",
    "                    except Exception as e:\n",
    "                        attempts += 1  # 增加尝试次数\n",
    "                        print(\"发生错误：\", e)\n",
    "                        if attempts == max_attempts:\n",
    "                            print(\"已达到最大尝试次数，程序终止。\")\n",
    "                            raise  # 重新引发最后一个异常\n",
    "                        else:\n",
    "                            print(\"正在重新运行审查程序...\")\n",
    "                # 接下来带入进行测试\n",
    "                print(\"新函数已创建，接下来带入进行测试...\")\n",
    "                function_test(function_name=function_name, req=req, few_shot=few_shot, g=g)\n",
    "            elif solution == '3':\n",
    "                new_req = input(\"好的，请再次输入用户需求，请注意，用户需求描述方法将极大程度影响最终函数创建结果。\")\n",
    "                few_shot_str = input(\"接下来如何运行代码创建函数？1.采用此前Few-shot方案；\\n2.使用全部外部函数作为Few-shot\")\n",
    "                if few_shot_str == '1':\n",
    "                    function_name = code_generate(req=new_req, few_shot=few_shot, model=model, g=g)\n",
    "                else:\n",
    "                    function_name = code_generate(req=new_req, few_shot='all', model=model, g=g)\n",
    "                function_test(function_name=function_name, req=new_req, few_shot=few_shot, g=g)\n",
    "            elif solution == '4':\n",
    "                print(\"加油~\")"
   ]
  },
  {
   "cell_type": "markdown",
   "id": "8d0efdb0-888b-4063-8f6d-44ecaad9b733",
   "metadata": {},
   "source": [
    "**测试**"
   ]
  },
  {
   "cell_type": "markdown",
   "id": "c3d2b162-2dc3-40e7-a5dd-6e1fcb589da5",
   "metadata": {},
   "source": [
    "准备了一个有问题的函数"
   ]
  },
  {
   "cell_type": "code",
   "execution_count": 167,
   "id": "76264e7f-c54f-4529-8386-5f098a753a37",
   "metadata": {
    "tags": []
   },
   "outputs": [],
   "source": [
    "def get_latest_email(userId):\n",
    "    \"\"\"\n",
    "    获取最新的一封邮件\n",
    "    参数:\n",
    "    user_id: 要检索邮件的用户的ID。默认值是'me'，数据格式为字符串类型。\n",
    "\n",
    "    返回:\n",
    "    一个列表，其中每个元素都是一个字典，表示一封邮件。每个字典包含以下键：\n",
    "    'from_userid': 发件人ID。\n",
    "    'date': 邮件的发送日期。\n",
    "    'subject': 邮件的主题。\n",
    "    'snippet': 邮件的摘要（前100个字符）。\n",
    "    \"\"\"\n",
    "    mysql_pw=\"gpt\"\n",
    "    \n",
    "    connection = pymysql.connect(\n",
    "    host='localhost',  # 数据库地址\n",
    "    user='gpt',  # 数据库用户名\n",
    "    passwd=mysql_pw,  # 数据库密码\n",
    "    db='my_mail',  # 数据库名\n",
    "    charset='utf8'  # 字符集选择utf8   \n",
    "    )\n",
    "    sql_query=f\"SELECT * FROM mailbox WHERE userid = '{me}' ORDER BY date DESC LIMIT 1\";\n",
    "\n",
    "    try:\n",
    "        with connection.cursor() as cursor:\n",
    "            sql = sql_query\n",
    "            cursor.execute(sql)\n",
    "            results = cursor.fetchall()\n",
    "    finally:\n",
    "        cursor.close()\n",
    "    \n",
    "    column_names = [desc[0] for desc in cursor.description]\n",
    "\n",
    "    # 使用results和column_names创建DataFrame\n",
    "    df = pd.DataFrame(results, columns=column_names)\n",
    "        \n",
    "    return df.to_json(orient = \"records\")  "
   ]
  },
  {
   "cell_type": "code",
   "execution_count": 168,
   "id": "71985c58-493d-4a90-9684-60c4baf25ea0",
   "metadata": {
    "tags": []
   },
   "outputs": [
    {
     "name": "stdout",
     "output_type": "stream",
     "text": [
      "根据既定用户需求req进行get_latest_email函数功能测试，请确保当该函数已经在当前操作空间定义...\n"
     ]
    },
    {
     "name": "stdin",
     "output_type": "stream",
     "text": [
      "run_conversation无法正常运行，接下来是1.再次运行运行run_conversation，还是2.进入debug流程？ 1\n"
     ]
    },
    {
     "name": "stdout",
     "output_type": "stream",
     "text": [
      "根据既定用户需求req进行get_latest_email函数功能测试，请确保当该函数已经在当前操作空间定义...\n",
      "当前函数运行结果：'好的，我将连接到数据库，并查询mailbox数据表中最新的一封邮件内容。 \n",
      "\n",
      "```python\n",
      "import mysql.connector\n",
      "\n",
      "# 连接到数据库\n",
      "db = mysql.connector.connect(\n",
      "    host='localhost',\n",
      "    user='gpt',\n",
      "    passwd='gpt',\n",
      "    database='my_mail'\n",
      ")\n",
      "\n",
      "cursor = db.cursor()\n",
      "\n",
      "# 查询最新一封邮件内容\n",
      "query = \"SELECT * FROM mailbox ORDER BY date DESC LIMIT 1\"\n",
      "cursor.execute(query)\n",
      "\n",
      "# 获取查询结果\n",
      "latest_mail = cursor.fetchone()\n",
      "\n",
      "# 关闭数据库连接\n",
      "cursor.close()\n",
      "db.close()\n",
      "\n",
      "# 显示最新一封邮件内容\n",
      "latest_mail\n",
      "```\n",
      "\n",
      "执行以上代码，将会获取并显示最新一封邮件的详细内容。请确认我是否可以执行代码来进行查询。'\n"
     ]
    },
    {
     "name": "stdin",
     "output_type": "stream",
     "text": [
      "函数功能是否满足要求 (yes/no)?  no\n",
      "函数功能未通过测试，是1.需要再次进行测试，还是2.进入debug流程？ 2\n",
      "请选择debug方案：\n",
      "1.再次执行函数创建流程，并测试结果；\n",
      "2.执行审查函数                \n",
      "3.重新输入用户需求；\n",
      "4.退出程序，进行手动尝试 2\n"
     ]
    },
    {
     "name": "stdout",
     "output_type": "stream",
     "text": [
      "好的，执行审查函数，请稍等...\n",
      "正在执行审查函数，审查对象：get_latest_email\n",
      "审查结束，新的函数名称为：get_latest_email。\n",
      "正在运行该函数定义过程，并保存函数源码与prompt\n",
      "新函数提示示例保存在./functions/untested functions/get_latest_email/get_latest_email_prompt.json文件中\n",
      "get_latest_email函数已在当前操作空间定义，可以进行效果测试\n",
      "新函数已创建，接下来带入进行测试...\n",
      "根据既定用户需求req进行get_latest_email函数功能测试，请确保当该函数已经在当前操作空间定义...\n",
      "当前函数运行结果：'最新一封邮件的内容如下：\n",
      "\n",
      "发件人: 西门吹雪\n",
      "收件人: me\n",
      "日期: 2024-06-07\n",
      "主题: 开会\n",
      "邮件摘要: 明天10点到海淀区叶青大厦5楼502开会\n",
      "邮件状态: 已读\n",
      "邮件标签: 开会\n",
      "\n",
      "请注意查收。'\n"
     ]
    },
    {
     "name": "stdin",
     "output_type": "stream",
     "text": [
      "函数功能是否满足要求 (yes/no)?  yes\n"
     ]
    },
    {
     "name": "stdout",
     "output_type": "stream",
     "text": [
      "函数功能通过测试，正在将函数写入tested文件夹\n",
      "done\n"
     ]
    }
   ],
   "source": [
    "function_test(function_name = 'get_latest_email', \n",
    "              req = '请帮我查下mailbox邮箱里最新一封邮件内容。', \n",
    "              few_shot = 'all')"
   ]
  },
  {
   "cell_type": "markdown",
   "id": "6c59595e-ec9a-47f5-8118-e83af36e1533",
   "metadata": {},
   "source": [
    "### 2.2 全自动流程代码编写"
   ]
  },
  {
   "cell_type": "code",
   "execution_count": 195,
   "id": "5f3f57c9-45ef-46c3-b82c-0b608eb5dad5",
   "metadata": {},
   "outputs": [],
   "source": [
    "def req_auto_func(req, few_shot='all', model='glm-4', g=globals(), detail=0):\n",
    "    function_name = code_generate(req, few_shot=few_shot, model=model, g=g, detail=detail)\n",
    "    function_test(function_name=function_name, req=req, few_shot=few_shot, model=model, g=g)"
   ]
  },
  {
   "cell_type": "markdown",
   "id": "a9a550ff-2fe6-4c58-b21c-06129ec6d5e7",
   "metadata": {},
   "source": [
    "## 3. 面向目标编程测试"
   ]
  },
  {
   "cell_type": "markdown",
   "id": "1dff2197-e0bd-41af-8c9e-992b661a1420",
   "metadata": {},
   "source": [
    "- Q1.'请帮我看下我的邮箱里面，来自西门吹雪的邮件总共有几封。'"
   ]
  },
  {
   "cell_type": "code",
   "execution_count": 207,
   "id": "6c5ca0e0-63e9-4506-8363-362fd358aae2",
   "metadata": {
    "tags": []
   },
   "outputs": [
    {
     "name": "stdout",
     "output_type": "stream",
     "text": [
      "第一阶段CD环节提示创建完毕，正在进行CD提示...\n",
      "第一阶段CD环节提示完毕\n",
      "第一阶段CM环节提示创建完毕，正在进行第一阶段CM提示...\n",
      "第一阶段CM环节提示完毕\n",
      "第二阶段提示创建完毕，正在进行第二阶段提示...\n",
      "第二阶段提示完毕，准备运行函数并编写提示示例\n",
      "来自 西门吹雪 的邮件总共有 {\"total_emails\": 2} 封。\n",
      "The function name is:count_emails_from_sender\n",
      "新函数保存在./functions/untested functions/count_emails_from_sender/count_emails_from_sender_module.py文件中\n",
      "新函数提示示例保存在./functions/untested functions/count_emails_from_sender/count_emails_from_sender_prompt.json文件中\n",
      "done\n",
      "根据既定用户需求req进行count_emails_from_sender函数功能测试，请确保当该函数已经在当前操作空间定义...\n",
      "当前函数运行结果：'在mailbox邮箱里，来自西门吹雪的邮件总共有2封。'\n"
     ]
    },
    {
     "name": "stdin",
     "output_type": "stream",
     "text": [
      "函数功能是否满足要求 (yes/no)?  yes\n"
     ]
    },
    {
     "name": "stdout",
     "output_type": "stream",
     "text": [
      "函数功能通过测试，正在将函数写入tested文件夹\n",
      "done\n"
     ]
    }
   ],
   "source": [
    "req_auto_func(req = '请帮我查下mailbox邮箱里，来自西门吹雪的邮件总共有几封。')"
   ]
  },
  {
   "cell_type": "markdown",
   "id": "d367ca64-2100-4639-a124-a2f7167fca74",
   "metadata": {},
   "source": [
    "- Q2.'请帮我统计下我的邮箱里面总共有几封未读邮件'"
   ]
  },
  {
   "cell_type": "code",
   "execution_count": 206,
   "id": "39eb81fe-e830-426b-85b1-732541b80529",
   "metadata": {
    "tags": []
   },
   "outputs": [
    {
     "name": "stdout",
     "output_type": "stream",
     "text": [
      "第一阶段CD环节提示创建完毕，正在进行CD提示...\n",
      "第一阶段CD环节提示完毕\n",
      "第一阶段CM环节提示创建完毕，正在进行第一阶段CM提示...\n",
      "第一阶段CM环节提示完毕\n",
      "第二阶段提示创建完毕，正在进行第二阶段提示...\n",
      "第二阶段提示完毕，准备运行函数并编写提示示例\n",
      "An error occurred while executing the code:\n",
      "invalid syntax (<string>, line 41)\n",
      "The function name is:count_unread_emails\n",
      "新函数保存在./functions/untested functions/count_unread_emails/count_unread_emails_module.py文件中\n",
      "新函数提示示例保存在./functions/untested functions/count_unread_emails/count_unread_emails_prompt.json文件中\n",
      "done\n",
      "根据既定用户需求req进行count_unread_emails函数功能测试，请确保当该函数已经在当前操作空间定义...\n",
      "当前函数运行结果：'在您的邮箱中，您总共有2封未读邮件。'\n"
     ]
    },
    {
     "name": "stdin",
     "output_type": "stream",
     "text": [
      "函数功能是否满足要求 (yes/no)?  yes\n"
     ]
    },
    {
     "name": "stdout",
     "output_type": "stream",
     "text": [
      "函数功能通过测试，正在将函数写入tested文件夹\n",
      "done\n"
     ]
    }
   ],
   "source": [
    "req_auto_func(req = '请帮我统计下我的邮箱里面总共有几封未读邮件')"
   ]
  },
  {
   "cell_type": "markdown",
   "id": "f52d7bae-9662-42c9-ad9f-1ba99ab7b94c",
   "metadata": {},
   "source": [
    "- Q3.'请帮我统计下我的邮箱里面总共有多少封内容包含Q2的邮件。'"
   ]
  },
  {
   "cell_type": "code",
   "execution_count": 215,
   "id": "b0a18d58-14d3-40ad-bbb9-ddc04a8d7146",
   "metadata": {
    "tags": []
   },
   "outputs": [
    {
     "name": "stdout",
     "output_type": "stream",
     "text": [
      "第一阶段CD环节提示创建完毕，正在进行CD提示...\n",
      "第一阶段CD环节提示完毕\n",
      "第一阶段CM环节提示创建完毕，正在进行第一阶段CM提示...\n",
      "第一阶段CM环节提示完毕\n",
      "第二阶段提示创建完毕，正在进行第二阶段提示...\n",
      "第二阶段提示完毕，准备运行函数并编写提示示例\n",
      "The function name is:search_email_by_keyword\n",
      "新函数保存在./functions/untested functions/search_email_by_keyword/search_email_by_keyword_module.py文件中\n",
      "新函数提示示例保存在./functions/untested functions/search_email_by_keyword/search_email_by_keyword_prompt.json文件中\n",
      "done\n",
      "根据既定用户需求req进行search_email_by_keyword函数功能测试，请确保当该函数已经在当前操作空间定义...\n",
      "当前函数运行结果：'为了统计邮箱中包含“Q2”内容的邮件数量，可以使用如下SQL查询：\n",
      "\n",
      "```sql\n",
      "SELECT COUNT(*) AS total_Q2_emails\n",
      "FROM mailbox\n",
      "WHERE userid = 'me' AND snippet LIKE '%Q2%';\n",
      "```\n",
      "\n",
      "这条查询语句的逻辑是：\n",
      "- `SELECT COUNT(*) AS total_Q2_emails`: 计算符合条件的邮件数量，并将结果命名为 `total_Q2_emails`。\n",
      "- `FROM mailbox`: 从 `mailbox` 表中查询数据。\n",
      "- `WHERE userid = 'me' AND snippet LIKE '%Q2%'`: 只选择收件人为 `me` 且内容包含 `Q2` 的邮件。\n",
      "\n",
      "可以通过执行该SQL查询来获得结果。如果需要我来帮你执行查询，请告诉我！'\n"
     ]
    },
    {
     "name": "stdin",
     "output_type": "stream",
     "text": [
      "函数功能是否满足要求 (yes/no)?  no\n",
      "函数功能未通过测试，是1.需要再次进行测试，还是2.进入debug流程？ 1\n"
     ]
    },
    {
     "name": "stdout",
     "output_type": "stream",
     "text": [
      "准备再次测试...\n",
      "根据既定用户需求req进行search_email_by_keyword函数功能测试，请确保当该函数已经在当前操作空间定义...\n",
      "当前函数运行结果：'\n",
      "```\n",
      "import mysql.connector\n",
      "\n",
      "# Connect to the database\n",
      "db_connection = mysql.connector.connect(\n",
      "    host='localhost',\n",
      "    user='gpt',\n",
      "    passwd='gpt',\n",
      "    database='my_mail'\n",
      ")\n",
      "\n",
      "# Create a cursor object\n",
      "cursor = db_connection.cursor()\n",
      "\n",
      "# Define the query to count emails containing 'Q2' in the subject or snippet\n",
      "query = \"\"\"\n",
      "SELECT COUNT(*) \n",
      "FROM mailbox \n",
      "WHERE userid = 'me' AND (subject LIKE '%Q2%' OR snippet LIKE '%Q2%')\n",
      "\"\"\"\n",
      "\n",
      "# Execute the query\n",
      "cursor.execute(query)\n",
      "\n",
      "# Fetch the result\n",
      "result = cursor.fetchone()\n",
      "\n",
      "# Close the cursor and connection\n",
      "cursor.close()\n",
      "db_connection.close()\n",
      "\n",
      "# Output the result\n",
      "result[0]\n",
      "```\n",
      "`Result:` \n",
      "```\n",
      "---------------------------------------------------------------------------\n",
      "ModuleNotFoundError                       Traceback (most recent call last)\n",
      "Cell In[1], line 1\n",
      "----> 1 import mysql.connector\n",
      "      3 # Connect to the database\n",
      "      4 db_connection = mysql.connector.connect(\n",
      "      5     host='localhost',\n",
      "      6     user='gpt',\n",
      "      7     passwd='gpt',\n",
      "      8     database='my_mail'\n",
      "      9 )\n",
      "\n",
      "ModuleNotFoundError: No module named 'mysql'\n",
      "\n",
      "```\n",
      "由于当前环境中没有安装 `mysql.connector` 模块，我将给出连接数据库和执行查询的代码示例。你可以在本地运行此代码：\n",
      "\n",
      "```python\n",
      "import mysql.connector\n",
      "\n",
      "# Connect to the database\n",
      "db_connection = mysql.connector.connect(\n",
      "    host='localhost',\n",
      "    user='gpt',\n",
      "    passwd='gpt',\n",
      "    database='my_mail'\n",
      ")\n",
      "\n",
      "# Create a cursor object\n",
      "cursor = db_connection.cursor()\n",
      "\n",
      "# Define the query to count emails containing 'Q2' in the subject or snippet\n",
      "query = \"\"\"\n",
      "SELECT COUNT(*) \n",
      "FROM mailbox \n",
      "WHERE userid = 'me' AND (subject LIKE '%Q2%' OR snippet LIKE '%Q2%')\n",
      "\"\"\"\n",
      "\n",
      "# Execute the query\n",
      "cursor.execute(query)\n",
      "\n",
      "# Fetch the result\n",
      "result = cursor.fetchone()\n",
      "\n",
      "# Close the cursor and connection\n",
      "cursor.close()\n",
      "db_connection.close()\n",
      "\n",
      "# Output the result\n",
      "print(\"Total emails containing 'Q2':\", result[0])\n",
      "```\n",
      "\n",
      "此代码连接到 `my_mail` 数据库，并统计 `mailbox` 表中 `userid` 为 `me` 且 `subject` 或 `snippet` 中包含 `Q2` 的邮件总数。运行此代码后，你将得到包含 \"Q2\" 的邮件数量。'\n"
     ]
    },
    {
     "name": "stdin",
     "output_type": "stream",
     "text": [
      "函数功能是否满足要求 (yes/no)?  no\n",
      "函数功能未通过测试，是1.需要再次进行测试，还是2.进入debug流程？ 1\n"
     ]
    },
    {
     "name": "stdout",
     "output_type": "stream",
     "text": [
      "准备再次测试...\n",
      "根据既定用户需求req进行search_email_by_keyword函数功能测试，请确保当该函数已经在当前操作空间定义...\n",
      "当前函数运行结果：'相关邮件有1封。具体信息如下：\n",
      "\n",
      "- 邮件发送者：陆小凤\n",
      "\n",
      "- 发送日期：2024-06-03\n",
      "\n",
      "- 主题：2024年Q2规划\n",
      "\n",
      "- 邮件摘要：李先生，您好，我是陆小凤，这是我给您发的邮件，里面是Q2规划：聚焦核心业务，优化流程，提升效率。加强团队协作，培养人才。探索新市场，拓宽业务领域。确保目标达成，实现增长。详细见邮件附件\n",
      "\n",
      "- 邮件状态：未读\n",
      "\n",
      "- 邮件标签：规划'\n"
     ]
    },
    {
     "name": "stdin",
     "output_type": "stream",
     "text": [
      "函数功能是否满足要求 (yes/no)?  yes\n"
     ]
    },
    {
     "name": "stdout",
     "output_type": "stream",
     "text": [
      "函数功能通过测试，正在将函数写入tested文件夹\n",
      "done\n"
     ]
    }
   ],
   "source": [
    "req_auto_func(req = '请帮我统计下我的邮箱里面总共有多少封内容包含Q2的邮件。')"
   ]
  },
  {
   "cell_type": "markdown",
   "id": "70a38c35-8fd9-4941-bd9d-dacbf032b53c",
   "metadata": {},
   "source": [
    "至此，我们就完成了一个高度自动化的编程函数。同时，该流程也是目前业内大语言自动编程最完善、也是单函数编程功能最强的流程之一。接下来我们的编程共工作也将主要依赖该函数完成。"
   ]
  },
  {
   "cell_type": "markdown",
   "id": "589a73e7-580d-4d47-a0e5-330506c90fe9",
   "metadata": {},
   "source": [
    "## 4 大模型进阶复杂任务"
   ]
  },
  {
   "cell_type": "markdown",
   "id": "ed24a177-256f-4d98-b436-5f3d44529feb",
   "metadata": {},
   "source": [
    "### 4.1 大模型编程的瓶颈"
   ]
  },
  {
   "cell_type": "markdown",
   "id": "bf8cffb5-3f0b-4803-b0fa-c781f32482c3",
   "metadata": {},
   "source": [
    "&emsp;&emsp;在完成了全自动代码编写和审查函数之后，我们已经能够引导大模型完成大量代码开发工作了。但是受到大模型本身理解能力和编程能力限制，在面对一些复杂需求或者处理一些大模型本身不太容易理解的问题时（如处理时间类问题），这套流程仍然无法稳定高效的完成相关函数的代码编写工作。当然，问题越难，大模型编写代码的准确率就越低。例如面对如下需求：请帮我看下我的邮箱里面，最早的一封来自西门吹雪的邮件是什么时候，以及邮件的核心内容是什么？在调用此前定义的req_auto_func函数时，经过若干轮的调试和debug，仍然无法获得正确的结果："
   ]
  },
  {
   "cell_type": "code",
   "execution_count": null,
   "id": "490ddd77-38ea-4d43-bc11-4c6be111e5a8",
   "metadata": {
    "tags": []
   },
   "outputs": [],
   "source": [
    "req_auto_func(req = '请帮我看下我的邮箱里面，最早的一封来自西门吹雪的邮件是什么时候，以及邮件的核心内容是什么？')"
   ]
  },
  {
   "cell_type": "code",
   "execution_count": null,
   "id": "1673aa65-31c2-47b2-a45e-7bef746ddb7b",
   "metadata": {},
   "outputs": [],
   "source": []
  },
  {
   "cell_type": "markdown",
   "id": "86dbc327-720e-43b5-a9fd-fa9f4d1250ec",
   "metadata": {},
   "source": [
    "> 需要注意的是，由于大模型编程本身存在一定的不稳定性，因此这里列举的两个需求示例在某些情况下也是能够被编程成功的，但相比于其他简单需求，大模型对于复杂需求的编程准确性明显大幅下降。"
   ]
  },
  {
   "cell_type": "markdown",
   "id": "18673601-985c-453f-884d-dbae23f4bfcb",
   "metadata": {},
   "source": [
    "&emsp;&emsp;经过上述验证不难发现，尽管当前的大模型编程流程已经添加了非常多的提高稳定性的措施（诸如多段提示、提示流程审查和代码审查等），但对于复杂的编程任务，大模型编程的准确率仍然很低。面对这一问题，有什么解决方案呢？需要注意的是，对于大模型工程师来说，如何“用好”大模型始终是岗位核心竞争力，而自然语言编程又是大模型非常重要的应用领域，因此，更进一步的思考和探讨如何进一步提高大模型对复杂问题的编程能力，是非常有必要的。"
   ]
  },
  {
   "cell_type": "markdown",
   "id": "99f04c66-f2ab-407c-a6f4-29fe584ec40d",
   "metadata": {},
   "source": [
    "### 4.2 编程性能瓶颈根源与解决方案"
   ]
  },
  {
   "cell_type": "markdown",
   "id": "885d21e5-40fe-469c-a8e3-8b7e456cfc51",
   "metadata": {},
   "source": [
    "- 编程性能瓶颈根源"
   ]
  },
  {
   "cell_type": "markdown",
   "id": "52e6dbde-f013-4dd6-b2cc-76dc24fe1f7c",
   "metadata": {},
   "source": [
    "&emsp;&emsp;其实大模型对复杂问题的编程能力不足，和大模型对于创作长文本能力不足的原因是一样的——都是因为模型本身并不具备“长期记忆”，而这会导致大模型无法一直围绕某个恒定的目标进行长段的文本生成，需要注意的是，对于大模型来说，代码编写本质上就是按照某种特定格式进行文本创作，本质上并没有区别，而面对复杂需求，往往意味着为了实现该需求需要编写长段的代码，因此受限于大模型编写长段代码能力不足，对于复杂需求的代码编写准确性也随之降低。"
   ]
  },
  {
   "cell_type": "markdown",
   "id": "c29a2640-8369-4b47-9f0c-2866b9ba929b",
   "metadata": {},
   "source": [
    "- 提升长段代码编程稳定性策略"
   ]
  },
  {
   "cell_type": "markdown",
   "id": "b1dc53c8-3556-4c55-a622-6b4d8cd51d60",
   "metadata": {},
   "source": [
    "&emsp;&emsp;而要如何解决这个问题呢？首先需要明确的是，此时大模型所表现出来的问题，并不是需求理解不足，而是在充分理解需求的情况下，也无法编写长段代码来满足需求，也就是说大模型在此前的LtM提示流程下是能够充分理解用户需求的，也能够顺利的辨别需求背后的变量（作为函数参数），问题在于实现该需求层面代码本身编写能力不足。因此我们解决问题的重点是如何提高模型的编程能力（而不是通过提示工程来进一步提升模型理解能力。）。"
   ]
  },
  {
   "cell_type": "markdown",
   "id": "a8d44939-7b4a-4785-99f4-780e9ebc0283",
   "metadata": {},
   "source": [
    "&emsp;&emsp;那么应该如何提升大模型的编写长段代码的稳定性呢？和编写长文本类似，最简单有效的方法就是先列提纲，然后分段编写，最后进行合并，即通过分段完成的方式，来提高模型长文本（长段代码）编写的表现。当然，编程任务还有其特殊之处，例如分段编写的代码需要变量一致，并且前后代码功能需要很好的衔接，此外我们已经编写了非常多辅助代码编写的函数，还需要考虑尽可能借助这些辅助函数来提高开发效率等。而我们也已经积累了较为丰富的大语言模型相关开发流程的设计经验，并且也具备了一定的“调教”大模型的经验，接下来我们在“分段编写再合并”这一基本思路指导下，先尝试头脑风暴，尽可能列举理论上可行的实现方案，然后再选择其一进行落地代码实现。"
   ]
  },
  {
   "cell_type": "markdown",
   "id": "72ab6430-d1b2-43d2-9896-db4713cc250f",
   "metadata": {},
   "source": [
    "- 第一阶段：复杂需求拆解"
   ]
  },
  {
   "cell_type": "markdown",
   "id": "b6fe2ea4-2b89-41d5-aca9-be06eb80a618",
   "metadata": {},
   "source": [
    "&emsp;&emsp;既然是要分段编写代码再进行合并，首先就需要先对原始的复杂需求进行拆解。这个拆解的过程就非常类似于CoT思考链——一步步思考并解决问题。例如对于需求：请将我邮箱里面未读邮件中的有关开会邀请的邮件添加上会议预定的标签。就可以拆分为步，第一步是找到所有未读邮件，第二步是在未读邮件中找到有关会议邀请的邮件，并将其添加会议预定的标签。不难看出，这一拆分过程本身并不复杂，甚至相比CoT，围绕当前邮件项目的复杂任务拆分流程会更加具备确定性，因此也会更加简单。"
   ]
  },
  {
   "cell_type": "markdown",
   "id": "84f3cca7-f6ac-4b37-ba30-1d0af8804cfc",
   "metadata": {},
   "source": [
    "&emsp;&emsp;这里所谓的拆分任务的确定性，主要是因为拆分得到的子任务往往是一些最小功能单位，比如查找邮件、给邮件打标签等。而一旦拆分的子任务属于较为确定性的一类任务，那么这个拆分任务这一过程本身，其实就是一类特殊且简单的拆分任务。而要引导大语言模型完成特殊且较为简单的任务，最好的方式就是输入一些项目背景信息（挂载外部文档）并且提供一些拆解的示例作为Few-shot。"
   ]
  },
  {
   "cell_type": "markdown",
   "id": "839ed799-c7ea-4cc8-b163-b2eef43a5f2c",
   "metadata": {},
   "source": [
    "&emsp;&emsp;这里需要注意的是，在进行子任务时，必须强调子任务需要是能够简单实现的子任务，否则模型在进行子任务拆分时甚至会认为第一步是打开邮箱，而另一方面，只有拆分的子任务是能够简单快速实现的任务，才能尽可能确保子任务对应的代码编写的准确性。而根据我们对大模型性能的了解，这方面信息的顺利传递，不能只通过Few-shot，还必须依靠编写一个外部文档进行项目说明。此外需要注意的是，这里如果找不到合适的任务拆分示例作为Few-shot，也可以在充分描述背景之后让大模型帮我们进行编写。"
   ]
  },
  {
   "cell_type": "markdown",
   "id": "5707cf01-6a46-4577-9a41-435f76842c8c",
   "metadata": {},
   "source": [
    "&emsp;&emsp;而当我们已经完成任务拆分之后，接下来就是考虑如何围绕子任务进行代码编写，以及各部分代码如何拼接等问题了。这些工作我们统一称为复杂任务编程的第二阶段，第二个阶段的实现方法可以有很多种，我们这里依次对其进行介绍："
   ]
  },
  {
   "cell_type": "markdown",
   "id": "1860bbdf-3c1e-4add-a2d6-06c7acee24f0",
   "metadata": {},
   "source": [
    "- 第二阶段方案一：单独创建复杂需求函数"
   ]
  },
  {
   "cell_type": "markdown",
   "id": "d3fccb81-24f9-4139-a6d7-0abb84021e9d",
   "metadata": {},
   "source": [
    "&emsp;&emsp;首先最容易想到的方法，就是在基础已有的基础功能函数基础之上再架设一层高层函数，用于组合基础函数功能，来实现更加复杂的需求。这里所谓的基础功能函数，指的是可以借助code_generate函数进行准确高效编写的基础功能函数，例如此前我们创建的查看未读邮件、发送邮件、邮件汇总等功能函数，而从任务拆分角度来看，这些基础函数就是专门用于去实现子任务的相关函数。而在面对复杂需求时，我们可以围绕拆分出来的子任务先分别编写对应的功能实现函数，然后再编写一个可以调用基础函数的高层函数，用于将基础函数的输出结果进行整合，并最终完成原始复杂任务的处理。"
   ]
  },
  {
   "cell_type": "markdown",
   "id": "202dcfb2-cb7d-4cc1-b0f3-0b90292ee893",
   "metadata": {},
   "source": [
    "例如对于需求：请将我邮箱里面未读邮件中的有关会议邀请的邮件添加上会议预定的标签。就可以拆分为步，第一步是找到所有未读邮件，第二步是在未读邮件中找到有关会议邀请的邮件，并将其添加会议预定的标签。"
   ]
  },
  {
   "cell_type": "markdown",
   "id": "e4abcafc-bc7a-47ed-b3d1-143f80a0ed2f",
   "metadata": {},
   "source": [
    "&emsp;&emsp;例如，对于当前需求“请将我邮箱里面未读邮件中的有关会议邀请的邮件添加上会议预定的标签”（以下简称为复杂需求或者当前需求）来说，我们已经将其拆分为了两个子任务，分别是获取未读邮件列表（以下简称为子任务1），以及从未读邮件中挑选会议相关邮件，并为其添加会议预定标签（以下简称为子任务2）。这两个子任务可以分别借助此前定义好的code_generate函数+function_test函数进行创建，同时需要注意在创建完成子任务2的函数（以下简称为函数2）时，需要确保其输入的参数格式和完成子任务1的函数（以下简称为函数1）的输出结果一致。而当我们创建完函数1和函数2之后，接下来即可定义一个外部函数，用于串联函数1和函数2来进行运行，即可获得最终结果。"
   ]
  },
  {
   "cell_type": "markdown",
   "id": "85c14aac-fc4b-4a01-b0b9-148a8764472e",
   "metadata": {},
   "source": [
    "&emsp;&emsp;不难发现，方案一的这种分层开发的思路其实非常像传统技术团队的研发策略，这种策略便于分工、易于管理，并且有非常明显的阶段性产出，同时如果是人工进行代码编写，也能非常便捷的维持函数1的输出结果和函数2的参数一致。并且，这种开发方案的优势在于代码利用率很高，试想一下，伴随着基础函数库的函数功能不断丰富，会有越来越多的复杂需求或许并不需要单独编写子任务函数，而可以直接从已有的函数库中挑选函数来组合运行。例如，如果现在的需求是在未读邮件中寻找会议相关邮件，并将邮件内容编写为附件本地保存，则在分解任务时，分解得到的第一个子任务——列举未读邮件列表，就可以直接从利用函数1来完成。总的来说，方案一是一种易于管理且代码利用率极高的一个方案。"
   ]
  },
  {
   "cell_type": "markdown",
   "id": "a0c6d03a-2871-4a2f-8d8a-f6121951491f",
   "metadata": {},
   "source": [
    "&emsp;&emsp;但是，该方案也存在一些问题，其中最核心的问题就在于现在是引导大模型进行代码开发，而不是引导人进行代码开发。这其中会存在较为本质的区别，对于程序员来说，能够非常简单的的统一一系列函数的输出和输入格式，但如果是自然语言编程，这一点就很难做到，我们很难向大模型传递“函数1的输出结果要用于函数2，因此函数1需要输出每一封未读邮件的邮件ID，否则函数2就无法定位具体的邮件”。因此，在实际执行方案一时，哪怕函数1和函数2都能顺利编写代码，但二者也很难顺利衔接到一起来进行运行。"
   ]
  },
  {
   "cell_type": "markdown",
   "id": "afbdddc9-b232-4beb-88e8-b198444f6a4f",
   "metadata": {},
   "source": [
    "&emsp;&emsp;其实对于大多数初级大模型工程师来说，都习惯以人的思维思考大模型的运行状态，而实际上，要设计一套引导大模型来执行任务的流程，就必须优先考虑到大模型和人的区别，很多看起来对人类程序员非常友好的流程，却不一定适用于引导大模型来完成。一个为大模型设计的任务流程需要充分发挥大模型的优势，而不能先入为主的优先从人的角度来考虑问题。"
   ]
  },
  {
   "cell_type": "markdown",
   "id": "232a6b01-d895-4a47-aa89-c3fa521951b8",
   "metadata": {},
   "source": [
    "&emsp;&emsp;尽管大模型在函数功能的语义理解层面不如人类程序员，但大模型却有自己的得天独厚的优势——能够不知疲倦的反复高效的创建代码，并且能够对自己编写的代码进行自动审查。因此我们完全可以利用这点，来创建一个更适合大模型来执行的复杂需求函数编写流程。因此，接下来的两个方案不再考虑拆分创建个函数再组合运行的思路，而是考虑采用一个函数来满足复杂需求，并且充分借助大模型能够进行自我审查的特性，来提高这一个函数对需求满足的准确性。"
   ]
  },
  {
   "cell_type": "markdown",
   "id": "89ad6d83-d581-4e3c-b0e9-aaab44301148",
   "metadata": {},
   "source": [
    "- 第二阶段方案二：创建嵌套函数"
   ]
  },
  {
   "cell_type": "markdown",
   "id": "aee0aa69-d03c-4704-bb60-f562a3481c10",
   "metadata": {},
   "source": [
    "&emsp;&emsp;而如何在一个函数内完成复杂需求功能设计，首先能想到的就是创建嵌套函数，即将方案一中的函数1作为内部函数，函数2作为外部函数来创建一个嵌套函数，并由此来满足原始需求。具体执行流程如下：首先我们先单独引导大模型编写函数1和函数2的需求，并且在提示中规定函数1的输出将作为函数2的输入，然后先创建函数2，在创建完函数2的代码之后，再将函数2的参数中原本用于表示函数1输出的参数，改为函数1的参数，然后再将函数2的代码作为提示，并且在提示中说明函数1和2的功能，以及函数1是函数2的内部函数等信息，以此引导大模型创建函数1。此时由于模型是在知道函数1和2之间的关系、以及函数2的代码基础之上创建的函数1，便能够自动判断需要将未读邮件的邮件ID作为函数1的输出，才能让函数2顺利的为某些函数打上标签。在创建完函数1和函数2之后，再将其进行合并（函数1作为函数2的内部函数），并输出最终结果。"
   ]
  },
  {
   "cell_type": "markdown",
   "id": "e66ce709-ec53-467d-ae54-466e92959d1d",
   "metadata": {},
   "source": [
    "&emsp;&emsp;很明显，该流程能够非常好的借助大模型本身的能力，解决此前所面临的函数1和2无法很好的协调输入和输入的问题，同时由于一个复杂需求一个函数，因此也不存在方案一中由于大模型语义理解不稳定性造成潜在风险。总的来说，相比方案一，方案二可以说是能够更好的发挥大模型本身的能力。但是，通过仔细观察上述方案流程不难发现，方案二最核心的问题就在于需要反复给与大模型非常多段的提示（例如函数2的参数修改、函数1和2的关系等），才能很好的引导大模型完成相关工作。尽管我们也可以通过创建某个函数来流程化的批量执行这些提示，但这个流程和此前我们创建的用于编写基础函数的流程差距太大，因此并不能最大程度借鉴此前流程，从而导致需要耗费大量的人工成本、且整体效率较低。"
   ]
  },
  {
   "cell_type": "markdown",
   "id": "d595f29d-b7ec-4615-8a95-beee778ff9a9",
   "metadata": {},
   "source": [
    "&emsp;&emsp;介于此，我们需要在方案二的基础之上，进一步优化整个流程，即在这个复杂函数自动编写流程中，不仅需要扬长避短发挥大模型特性，同时也需要尽可能做到简洁优雅，需要尽可能借用此前基础函数的开发流程，并且保证一个较高的准确性。"
   ]
  },
  {
   "cell_type": "markdown",
   "id": "4d777f20-98af-4ec1-a49d-21c09b18fabf",
   "metadata": {},
   "source": [
    "- 第二阶段方案三：分别创建函数再统一代码"
   ]
  },
  {
   "cell_type": "markdown",
   "id": "53844e64-2946-4dbe-b528-57a61db4ad5c",
   "metadata": {},
   "source": [
    "&emsp;&emsp;而最后一个方案则是在前两个方案基础之上进行优化和迭代的最终版方案，该方案非常不符合人类程序员的一般开发思路，但却是非常适合大语言模型来执行的开发流程，并且能够非常好的复用此前的基础函数的提示和审查流程，从而极大程度提升开发效率。"
   ]
  },
  {
   "cell_type": "markdown",
   "id": "24415233-b938-4647-8eb4-7cddf2a9ba58",
   "metadata": {},
   "source": [
    "&emsp;&emsp;方案三执行流程如下，首先和方案一一样，都是拆分两个子任务，并且分别编写两个函数以满足这两个子任务需求。并且在创建函数1和2时也是采用code_generate+function_test来进行代码编写和审查，但这里需要注意，我们在创建这两个函数时，会先创建函数1，然后将函数的输出结果作为函数2创建时的需求的一部分（注意，这里只涉及需求的拼接，不涉及提示流程的修改）。并且，我们在创建函数1和函数2时，只要求代码通顺即可，并不要求两个函数能够拼凑成一个完整的链路，即不要求函数1的输出结果是函数2的输入。此时根据我们对大模型编程能力的判断，大概率函数1和2能够分别顺利运行，但无法组成一个完整的链路。但没有关系，接下来我们再次调用code_generate+function_test流程来围绕原始需求进行函数编写（以下将该函数称为原始需求函数），并且在这个过程中同时将函数1和2的源码作为system_message带入这个编写过程，此时，大模型有函数1和2的代码作为参考，即可非常顺利的完成原始需求函数编写。需要注意的是，原始需求函数并不是函数1和函数2的拼接，而是在参考了函数1和2的代码基础之上，重新编写的一个独立且完整的函数，因此哪怕函数1和2本身并不能很好的进行衔接，也不会影响原始需求函数的代码正确性。并且，此时有了函数1和2的代码作为参考，大模型围绕复杂需求进行编程的准确性也将大幅提升。更重要的是，这个过程基本是完全复用code_generate+function_test流程，无需进行更复杂大模型提示即可完成，开发效率很高。"
   ]
  },
  {
   "cell_type": "markdown",
   "id": "a9372f6a-4aed-49f3-843f-67a736af6877",
   "metadata": {},
   "source": [
    "### 4.3 复杂任务的编程落地"
   ]
  },
  {
   "cell_type": "markdown",
   "id": "1b8233f6-eaf2-490d-88a1-7f0863f66b4d",
   "metadata": {},
   "source": [
    "- Stage 1.复杂需求拆解"
   ]
  },
  {
   "cell_type": "markdown",
   "id": "36ba835b-6fc8-4ab4-b99a-3ab71fbe3043",
   "metadata": {},
   "source": [
    "&emsp;&emsp;首先，我们需要创建一个专门用于复杂问题拆解的模型。根据此前的分析，该模型同时需要外部挂载文档以说明项目背景和复杂任务拆解的目的，同时还需要一些复杂任务拆解的示例作为Few-shot。"
   ]
  },
  {
   "cell_type": "code",
   "execution_count": 29,
   "id": "6209aaeb-0292-4dcb-9667-26a424a6edca",
   "metadata": {
    "tags": []
   },
   "outputs": [
    {
     "name": "stdout",
     "output_type": "stream",
     "text": [
      "1.什么是邮箱项目？邮件项目本身由一系列的程序组成，核心功能是根据用户自然语言描述进行相应的邮箱操作，如查阅邮件、收发邮件等。该场景是我们自己构建的一个场景。\n",
      "主要实现的是对我们my_mail数据库里的数据进行增删查改。\n",
      "\n",
      "2.什么是任务拆解？在邮箱项目中，任务拆解指的是将用户需求拆解为若干个最小子任务的过程，任务拆解的目标是为了降低完成复杂任务的难度。例如以下就是一个复杂任务拆解过程，原始用户需求为Q：“请帮我查下西门吹雪给我发送了哪些邮件，并对这些邮件内容进行总结”，该需求可以拆分为两个最小子任务，分别是A:“1.查找我和西门吹雪之间通信的邮件列表”，“2.根据某份邮件列表，对这些邮件的主要内容进行总结”；\n",
      "\n",
      "3.什么是最小子任务？最小子任务指的是在在邮箱项目中，在进行复杂任务拆解时拆解得到的最小任务单元。例如获取我和西门吹雪之间的通信列表、围绕某些邮件进行内容总结，就属于最小子任务。最小子任务不可再进行任务拆解，并且最小子任务往往都是较为简单的任务，是一些可以快速的实现的功能；\n",
      "\n",
      "4.若一个任务拆解成了多个最小子任务，那么请注意这多个最小子任务的任务顺序，例如此前的例子中，查找邮件列表就应该发生在对邮件内容进行总结之前。\n",
      "\n",
      "5.你是一名任务拆解助手，负责邮件项目中用户需求拆解。当一个用户需求可以拆解为多个最小子任务时，请对其进行最小子任务的拆解；而当一个用户需求本身就是一个最小子任务时，则无需对其进行拆解。\n"
     ]
    }
   ],
   "source": [
    "with open('./data/复杂任务拆解.md', 'r', encoding='utf-8') as f:\n",
    "    md_content_plus = f.read()\n",
    "    \n",
    "print(md_content_plus)"
   ]
  },
  {
   "cell_type": "markdown",
   "id": "346fd64a-60f0-477c-81b2-bf53aa1bce12",
   "metadata": {},
   "source": [
    "&emsp;&emsp;接下来继续创建Few-shot的提示示例。这里总共编写了四组难度和复杂度各不相同的四个需求进行拆解，具体提示示例如下："
   ]
  },
  {
   "cell_type": "code",
   "execution_count": 4,
   "id": "de8c5ef1-1f08-470d-96fb-89e8c5f24e90",
   "metadata": {
    "tags": []
   },
   "outputs": [],
   "source": [
    "example1_user = 'Q:请帮我查下西门吹雪给我发送了哪些邮件，并对这些邮件内容进行总结。'\n",
    "example1_assistent = 'A:1.请帮我整理西门吹雪发给我的邮件列表。2.对某些给定的邮件进行邮件内容总结。'\n",
    "\n",
    "example2_user = 'Q:请帮我查下最近一封未读邮件的发件人。'\n",
    "example2_assistent = 'A:1.请帮我查下最近一封未读邮件的发件人。'\n",
    "\n",
    "example3_user = 'Q:请分析我邮箱里全部已收到的邮件，告诉我最常联系的人。'\n",
    "example3_assistent = 'A:1.请帮我整理邮箱里全部已收到邮件的邮件列表。2.根据某份邮件列表，分析并找出最常联系的人。'\n",
    "\n",
    "example4_user = 'Q:请在我邮箱里查找6月5号到6号的未读邮件，并找出工作相关的未读邮件，请依次给这些未读邮件回复说我正在休假，同时请将这些邮件转发给我的助理西门吹雪。'\n",
    "example4_assistent = 'A:1.请查找并整理我邮箱里6月5号到6号的未读邮件列表。2.根据某份邮件列表，查找并汇总其中和工作有关的列表。3.根据某份邮件列表，对其逐一进行回复，告诉他们我正在休假。4.根据某份邮件列表，将其逐一转发给我的助理西门吹雪。'"
   ]
  },
  {
   "cell_type": "markdown",
   "id": "93cf2463-86f6-4cce-b543-573288edffb0",
   "metadata": {},
   "source": [
    "需要注意的是，这里我们统一通过Q&A的方式来提示模型不同内容的类型，同时拆解之后的每段文字也都以句号结尾，方便后续进行结构化字符串提取。在创建的四个提示实力中，1、3示例属于一般示例，对于大多数复杂需求来说，拆解为两个子任务基本就基本能够构成较好的自然语言编程引导，而第二个提示示例则是提醒模型，当需求较为简单时，不用进行需求拆解；而最后一个提示的示例，则是一个相对来说非常复杂的需求，总共拆解得到了4个子任务，是为了提醒模型在必要时，可以多拆分一些子任务。"
   ]
  },
  {
   "cell_type": "code",
   "execution_count": 5,
   "id": "1d6b9dac-fdf0-447b-824e-608b0026988f",
   "metadata": {
    "tags": []
   },
   "outputs": [],
   "source": [
    "req = '请查阅我邮箱里面未读邮件，从挑选有公司的邮件，并将其标签改为紧急'"
   ]
  },
  {
   "cell_type": "code",
   "execution_count": 6,
   "id": "ebfd8e7b-8def-4c07-99c6-d6286bc51a3b",
   "metadata": {
    "tags": []
   },
   "outputs": [],
   "source": [
    "system_message = [{\"role\": \"system\", \"content\": md_content_plus}]"
   ]
  },
  {
   "cell_type": "code",
   "execution_count": 7,
   "id": "8246eb01-e4c7-4f2b-8408-2c06cfa7ff47",
   "metadata": {
    "tags": []
   },
   "outputs": [],
   "source": [
    "decomp_few_shot = [{\"role\": \"user\", \"content\": example1_user},\n",
    "                   {\"role\": \"assistant\", \"content\": example1_assistent}, \n",
    "                   {\"role\": \"user\", \"content\": example2_user}, \n",
    "                   {\"role\": \"assistant\", \"content\": example2_assistent}, \n",
    "                   {\"role\": \"user\", \"content\": example3_user}, \n",
    "                   {\"role\": \"assistant\", \"content\": example3_assistent}, \n",
    "                   {\"role\": \"user\", \"content\": example4_user}, \n",
    "                   {\"role\": \"assistant\", \"content\": example4_assistent}]"
   ]
  },
  {
   "cell_type": "code",
   "execution_count": 8,
   "id": "ded99a86-0151-414b-ab8c-59e9cbf5483b",
   "metadata": {
    "tags": []
   },
   "outputs": [
    {
     "data": {
      "text/plain": [
       "[{'role': 'system',\n",
       "  'content': '1.什么是邮箱项目？邮件项目本身由一系列的程序组成，核心功能是根据用户自然语言描述进行相应的邮箱操作，如查阅邮件、收发邮件等。该场景是我们自己构建的一个场景。\\n主要实现的是对我们my_mail数据库里的数据进行增删查改。\\n\\n2.什么是任务拆解？在邮箱项目中，任务拆解指的是将用户需求拆解为若干个最小子任务的过程，任务拆解的目标是为了降低完成复杂任务的难度。例如以下就是一个复杂任务拆解过程，原始用户需求为Q：“请帮我查下西门吹雪给我发送了哪些邮件，并对这些邮件内容进行总结”，该需求可以拆分为两个最小子任务，分别是A:“1.查找我和西门吹雪之间通信的邮件列表”，“2.根据某份邮件列表，对这些邮件的主要内容进行总结”；\\n\\n3.什么是最小子任务？最小子任务指的是在在邮箱项目中，在进行复杂任务拆解时拆解得到的最小任务单元。例如获取我和端木天之间的通信列表、围绕某些邮件进行内容总结，就属于最小子任务。最小子任务不可再进行任务拆解，并且最小子任务往往都是较为简单的任务，是一些可以快速的实现的功能；\\n\\n4.若一个任务拆解成了多个最小子任务，那么请注意这多个最小子任务的任务顺序，例如此前的例子中，查找邮件列表就应该发生在对邮件内容进行总结之前。\\n\\n5.你是一名任务拆解助手，负责智能邮件项目中用户需求拆解。当一个用户需求可以拆解为多个最小子任务时，请对其进行最小子任务的拆解；而当一个用户需求本身就是一个最小子任务时，则无需对其进行拆解。'},\n",
       " {'role': 'user', 'content': 'Q:请帮我查下西门吹雪给我发送了哪些邮件，并对这些邮件内容进行总结。'},\n",
       " {'role': 'assistant', 'content': 'A:1.请帮我整理西门吹雪发给我的邮件列表。2.对某些给定的邮件进行邮件内容总结。'},\n",
       " {'role': 'user', 'content': 'Q:请帮我查下最近一封未读邮件的发件人。'},\n",
       " {'role': 'assistant', 'content': 'A:1.请帮我查下最近一封未读邮件的发件人。'},\n",
       " {'role': 'user', 'content': 'Q:请分析我邮箱里全部已收到的邮件，告诉我最常联系的人。'},\n",
       " {'role': 'assistant',\n",
       "  'content': 'A:1.请帮我整理邮箱里全部已收到邮件的邮件列表。2.根据某份邮件列表，分析并找出最常联系的人。'},\n",
       " {'role': 'user',\n",
       "  'content': 'Q:请在我邮箱里查找6月5号到6号的未读邮件，并找出工作相关的未读邮件，请依次给这些未读邮件回复说我正在休假，同时请将这些邮件转发给我的助理西门吹雪。'},\n",
       " {'role': 'assistant',\n",
       "  'content': 'A:1.请查找并整理我邮箱里6月5号到6号的未读邮件列表。2.根据某份邮件列表，查找并汇总其中和工作有关的列表。3.根据某份邮件列表，对其逐一进行回复，告诉他们我正在休假。4.根据某份邮件列表，将其逐一转发给我的助手西门吹雪。'}]"
      ]
     },
     "execution_count": 8,
     "metadata": {},
     "output_type": "execute_result"
    }
   ],
   "source": [
    "messages = system_message + decomp_few_shot\n",
    "messages"
   ]
  },
  {
   "cell_type": "code",
   "execution_count": 224,
   "id": "032b5261-12a4-4492-86ce-65b415501cea",
   "metadata": {
    "tags": []
   },
   "outputs": [],
   "source": [
    "with open('./functions/tested functions/%s.json' % 'decompose_messages', 'w') as f:\n",
    "    json.dump(messages, f)"
   ]
  },
  {
   "cell_type": "markdown",
   "id": "a194cdd2-c90e-48f6-aabd-1c38167930e0",
   "metadata": {},
   "source": [
    "接下来输入用户需求："
   ]
  },
  {
   "cell_type": "code",
   "execution_count": 9,
   "id": "0f34ca3d-f11e-41bb-899d-d2c32841e6d8",
   "metadata": {
    "tags": []
   },
   "outputs": [],
   "source": [
    "messages.append({\"role\": \"user\", \"content\": req})"
   ]
  },
  {
   "cell_type": "code",
   "execution_count": 10,
   "id": "d2025b93-da43-4266-9ab1-b6691247bdc6",
   "metadata": {
    "tags": []
   },
   "outputs": [
    {
     "data": {
      "text/plain": [
       "[{'role': 'system',\n",
       "  'content': '1.什么是邮箱项目？邮件项目本身由一系列的程序组成，核心功能是根据用户自然语言描述进行相应的邮箱操作，如查阅邮件、收发邮件等。该场景是我们自己构建的一个场景。\\n主要实现的是对我们my_mail数据库里的数据进行增删查改。\\n\\n2.什么是任务拆解？在邮箱项目中，任务拆解指的是将用户需求拆解为若干个最小子任务的过程，任务拆解的目标是为了降低完成复杂任务的难度。例如以下就是一个复杂任务拆解过程，原始用户需求为Q：“请帮我查下西门吹雪给我发送了哪些邮件，并对这些邮件内容进行总结”，该需求可以拆分为两个最小子任务，分别是A:“1.查找我和西门吹雪之间通信的邮件列表”，“2.根据某份邮件列表，对这些邮件的主要内容进行总结”；\\n\\n3.什么是最小子任务？最小子任务指的是在在邮箱项目中，在进行复杂任务拆解时拆解得到的最小任务单元。例如获取我和端木天之间的通信列表、围绕某些邮件进行内容总结，就属于最小子任务。最小子任务不可再进行任务拆解，并且最小子任务往往都是较为简单的任务，是一些可以快速的实现的功能；\\n\\n4.若一个任务拆解成了多个最小子任务，那么请注意这多个最小子任务的任务顺序，例如此前的例子中，查找邮件列表就应该发生在对邮件内容进行总结之前。\\n\\n5.你是一名任务拆解助手，负责智能邮件项目中用户需求拆解。当一个用户需求可以拆解为多个最小子任务时，请对其进行最小子任务的拆解；而当一个用户需求本身就是一个最小子任务时，则无需对其进行拆解。'},\n",
       " {'role': 'user', 'content': 'Q:请帮我查下西门吹雪给我发送了哪些邮件，并对这些邮件内容进行总结。'},\n",
       " {'role': 'assistant', 'content': 'A:1.请帮我整理西门吹雪发给我的邮件列表。2.对某些给定的邮件进行邮件内容总结。'},\n",
       " {'role': 'user', 'content': 'Q:请帮我查下最近一封未读邮件的发件人。'},\n",
       " {'role': 'assistant', 'content': 'A:1.请帮我查下最近一封未读邮件的发件人。'},\n",
       " {'role': 'user', 'content': 'Q:请分析我邮箱里全部已收到的邮件，告诉我最常联系的人。'},\n",
       " {'role': 'assistant',\n",
       "  'content': 'A:1.请帮我整理邮箱里全部已收到邮件的邮件列表。2.根据某份邮件列表，分析并找出最常联系的人。'},\n",
       " {'role': 'user',\n",
       "  'content': 'Q:请在我邮箱里查找6月5号到6号的未读邮件，并找出工作相关的未读邮件，请依次给这些未读邮件回复说我正在休假，同时请将这些邮件转发给我的助理西门吹雪。'},\n",
       " {'role': 'assistant',\n",
       "  'content': 'A:1.请查找并整理我邮箱里6月5号到6号的未读邮件列表。2.根据某份邮件列表，查找并汇总其中和工作有关的列表。3.根据某份邮件列表，对其逐一进行回复，告诉他们我正在休假。4.根据某份邮件列表，将其逐一转发给我的助手西门吹雪。'},\n",
       " {'role': 'user', 'content': '请查阅我邮箱里面未读邮件，从挑选有公司的邮件，并将其标签改为紧急'}]"
      ]
     },
     "execution_count": 10,
     "metadata": {},
     "output_type": "execute_result"
    }
   ],
   "source": [
    "messages"
   ]
  },
  {
   "cell_type": "code",
   "execution_count": 12,
   "id": "9a224a70-4be2-4106-97e4-d7bec6fd4080",
   "metadata": {
    "tags": []
   },
   "outputs": [],
   "source": [
    "response = client.chat.completions.create(\n",
    "                model='glm-4',\n",
    "                messages=messages\n",
    "            )"
   ]
  },
  {
   "cell_type": "code",
   "execution_count": 15,
   "id": "721fe0ee-1f2b-40e0-bc67-96559358ca89",
   "metadata": {
    "tags": []
   },
   "outputs": [
    {
     "name": "stdout",
     "output_type": "stream",
     "text": [
      "对于这个用户需求，可以拆解为以下最小子任务：\n",
      "\n",
      "1. 查阅邮箱中的未读邮件，并整理出未读邮件列表。\n",
      "2. 从未读邮件列表中筛选出包含公司信息的邮件。\n",
      "3. 对于筛选出的公司邮件，将其标签改为“紧急”。 \n",
      "\n",
      "这些子任务按照顺序执行，可以满足用户的需求。\n"
     ]
    }
   ],
   "source": [
    "print(response.choices[0].message.content)"
   ]
  },
  {
   "cell_type": "markdown",
   "id": "f34bb04d-0613-4b56-9987-ce77b55a6844",
   "metadata": {},
   "source": [
    "这里模型将原始需求拆分为了三个子任务。当然对于我们即将要执行的方案三来说，无论拆分多少个子任务，都是可以依次创建对应部分代码并进行合并的。"
   ]
  },
  {
   "cell_type": "code",
   "execution_count": 47,
   "id": "eb23aa19-3074-4b12-af04-e777bbc7d6ba",
   "metadata": {
    "tags": []
   },
   "outputs": [],
   "source": [
    "res=response.choices[0].message.content"
   ]
  },
  {
   "cell_type": "code",
   "execution_count": 17,
   "id": "cb8a54ee-cf95-4ae8-8c30-8199e615c3f9",
   "metadata": {
    "tags": []
   },
   "outputs": [
    {
     "name": "stdout",
     "output_type": "stream",
     "text": [
      " 查阅邮箱中的未读邮件，并整理出未读邮件列表。\n",
      " 从未读邮件列表中筛选出包含公司信息的邮件。\n",
      " 对于筛选出的公司邮件，将其标签改为“紧急”。\n"
     ]
    }
   ],
   "source": [
    "# 使用正则表达式查找以1、2、3开始的句子\n",
    "matches = re.findall(r'\\d\\.(.*?。)', res)\n",
    "\n",
    "for match in matches:\n",
    "    print(match)"
   ]
  },
  {
   "cell_type": "code",
   "execution_count": 18,
   "id": "18aa4a05-599f-4a0c-b69c-b1634b9c6f32",
   "metadata": {
    "tags": []
   },
   "outputs": [],
   "source": [
    "sub_req1 = '查阅邮箱中的未读邮件，并整理出未读邮件列表。'\n",
    "sub_req2 = '从未读邮件列表中筛选出包含公司信息的邮件。'\n",
    "sub_req3 = '对于筛选出的公司邮件，将其标签改为“紧急”。'"
   ]
  },
  {
   "cell_type": "markdown",
   "id": "c47f2faa-c0a7-496e-ad8a-a526128859e7",
   "metadata": {},
   "source": [
    "至此，我们就完成了原始任务的拆解部分工作。当然，我们也可以将上述过程封装为一个完整的函数，方便之后进行灵活调用："
   ]
  },
  {
   "cell_type": "code",
   "execution_count": 52,
   "id": "efb64d45-9725-4af8-8a02-2f57707c90fb",
   "metadata": {
    "tags": []
   },
   "outputs": [],
   "source": [
    "def get_decompose_results(req, model='glm-4'):\n",
    "    \"\"\"\n",
    "    复杂需求拆解函数，能够将用户输入的复杂需求拆解为一系列更容易完成的子任务\n",
    "    :param req: 必选参数，以字符串形式表示，用于表示用户输入的原始需求；\n",
    "    :param model: 拆解需求所使用的大模型；\n",
    "    :return：由子任务所组成的列表；\n",
    "    \"\"\"\n",
    "    \n",
    "    decompose_results = []\n",
    "    \n",
    "    with open('./functions/tested functions/decompose_messages.json', 'r') as f:\n",
    "        decompose_messages = json.load(f)\n",
    "        \n",
    "    decompose_messages.append({\"role\": \"user\", \"content\": req})\n",
    "    \n",
    "    response = client.chat.completions.create(\n",
    "                model=model,\n",
    "                messages=decompose_messages\n",
    "            )\n",
    "    \n",
    "    res = response.choices[0].message.content\n",
    "    \n",
    "    # 使用正则表达式查找以1、2、3开始的句子\n",
    "    matches = re.findall(r'\\d\\.(.*?。)', res)\n",
    "\n",
    "    for match in matches:\n",
    "        decompose_results.append(match)\n",
    "        \n",
    "    return decompose_results"
   ]
  },
  {
   "cell_type": "code",
   "execution_count": 20,
   "id": "2cbdcb1e-a741-46cf-b9d1-b7af62f5165b",
   "metadata": {
    "tags": []
   },
   "outputs": [
    {
     "data": {
      "text/plain": [
       "'请查阅我邮箱里面未读邮件，从挑选有公司的邮件，并将其标签改为紧急'"
      ]
     },
     "execution_count": 20,
     "metadata": {},
     "output_type": "execute_result"
    }
   ],
   "source": [
    "req"
   ]
  },
  {
   "cell_type": "code",
   "execution_count": 25,
   "id": "77bfe8bf-e356-4328-905a-cdf8225aab86",
   "metadata": {
    "tags": []
   },
   "outputs": [
    {
     "data": {
      "text/plain": [
       "[' 请帮我检索并整理出邮箱中的未读邮件列表。',\n",
       " ' 从未读邮件列表中筛选出包含公司信息的邮件。',\n",
       " ' 对筛选出的邮件进行标签添加，将其标记为“紧急”。']"
      ]
     },
     "execution_count": 25,
     "metadata": {},
     "output_type": "execute_result"
    }
   ],
   "source": [
    "get_decompose_results(req)"
   ]
  },
  {
   "cell_type": "code",
   "execution_count": 31,
   "id": "ef477aff-36f0-48c3-8329-04d1a72b8199",
   "metadata": {
    "tags": []
   },
   "outputs": [],
   "source": [
    "def code_generate(req, few_shot='all', model='glm-4', g=globals(), detail=0):\n",
    "    \"\"\"\n",
    "    Function calling外部函数自动创建函数，可以根据用户的需求，直接将其翻译为Chat模型可以直接调用的外部函数代码。\n",
    "    :param req: 必要参数，字符串类型，表示输入的用户需求；\n",
    "    :param few_shot: 可选参数，默认取值为字符串all，用于描述Few-shot提示示例的选取方案，当输入字符串all时，则代表提取当前外部函数库中全部测试过的函数作为Few-shot；\\\n",
    "    而如果输入的是一个包含了多个函数名称的list，则表示使用这些函数作为Few-shot。\n",
    "    :param model: 可选参数，表示调用的Chat模型，默认选取glm-4；\n",
    "    :param g: 可选参数，表示extract_function_code函数作用域，默认为globals()，即在当前操作空间全域内生效；\n",
    "    :param detail: 可选参数，默认取值为0，还可以取值为1，表示extract_function_code函数打印新创建的外部函数细节；\n",
    "    :return：新创建的函数名称。需要注意的是，在函数创建时，该函数也会在当前操作空间被定义，后续可以直接调用；\n",
    "    \"\"\"\n",
    "    \n",
    "    # 提取提示示例的函数名称\n",
    "    if few_shot == 'all':\n",
    "        few_shot_functions_name = show_functions(tested=True)\n",
    "    elif type(few_shot) == list:\n",
    "        few_shot_functions_name = few_shot\n",
    "    # few_shot_functions = [globals()[name] for name in few_shot_functions_name]\n",
    "    \n",
    "    # 读取各阶段系统提示\n",
    "    with open('./functions/tested functions/system_messages.json', 'r') as f:\n",
    "        system_messages = json.load(f)\n",
    "        \n",
    "    # 各阶段提示message对象\n",
    "    few_shot_messages_CM = []\n",
    "    few_shot_messages_CD = []\n",
    "    \n",
    "    few_shot_messages = []\n",
    "    \n",
    "    # 先保存第一条消息，也就是system message\n",
    "    few_shot_messages_CD += system_messages[\"system_message_CD\"]\n",
    "    few_shot_messages_CM += system_messages[\"system_message_CM\"]\n",
    "    few_shot_messages += system_messages[\"system_message\"]\n",
    "\n",
    "    # 创建不同阶段提示message\n",
    "    for function_name in few_shot_functions_name:\n",
    "        with open('./functions/tested functions/%s/%s_prompt.json' % (function_name, function_name), 'r') as f:\n",
    "            msg = json.load(f)\n",
    "        few_shot_messages_CD += msg[\"stage1_CD\"]\n",
    "        few_shot_messages_CM += msg[\"stage1_CM\"]\n",
    "        few_shot_messages += msg['stage2']\n",
    "        \n",
    "    # 读取用户需求，作为第一阶段CD环节User content\n",
    "    new_req_CD_input = req\n",
    "    few_shot_messages_CD.append({\"role\": \"user\", \"content\": new_req_CD_input})\n",
    "    \n",
    "    print('第一阶段CD环节提示创建完毕，正在进行CD提示...')\n",
    "    \n",
    "    # 第一阶段CD环节Chat模型调用过程\n",
    "    response = client.chat.completions.create(\n",
    "                        model=model,\n",
    "                        messages=few_shot_messages_CD)\n",
    "    new_req_pi = response.choices[0].message.content\n",
    "    \n",
    "    #print(\"打印内容1：\"+new_req_pi)\n",
    "    \n",
    "    print('第一阶段CD环节提示完毕')\n",
    "    \n",
    "    # 第一阶段CM环节Messages创建\n",
    "    new_req_CM_input = new_req_CD_input + new_req_pi\n",
    "    few_shot_messages_CM.append({\"role\": \"user\", \"content\": new_req_CM_input})\n",
    "    \n",
    "    print('第一阶段CM环节提示创建完毕，正在进行第一阶段CM提示...')\n",
    "    # 第一阶段CM环节Chat模型调用过程\n",
    "    response = client.chat.completions.create(\n",
    "                        model=model,\n",
    "                        messages=few_shot_messages_CM)\n",
    "    new_req_description = response.choices[0].message.content\n",
    "    \n",
    "    #print(\"打印内容2：\"+new_req_description)\n",
    "    #return \"test\"\n",
    "\n",
    "    \n",
    "    print('第一阶段CM环节提示完毕')\n",
    "    \n",
    "    # 第二阶段Messages创建过程\n",
    "    few_shot_messages.append({\"role\": \"user\", \"content\": new_req_description})\n",
    "    \n",
    "    print('第二阶段提示创建完毕，正在进行第二阶段提示...')\n",
    "    \n",
    "    # 第二阶段Chat模型调用过程\n",
    "    response = client.chat.completions.create(\n",
    "                        model=model,\n",
    "                        messages=few_shot_messages)\n",
    "    new_req_function = response.choices[0].message.content\n",
    "    \n",
    "    \n",
    "    print('第二阶段提示完毕，准备运行函数并编写提示示例')\n",
    "    \n",
    "    # 提取函数并运行，创建函数名称对象，统一都写入untested文件夹内\n",
    "    function_name = extract_function_code(s=new_req_function, detail=detail, g=g)\n",
    "    \n",
    "    print('新函数保存在./functions/untested functions/%s/%s_module.py文件中' % (function_name, function_name))\n",
    "    \n",
    "    # 创建该函数提示示例\n",
    "    new_req_messages_CD = [\n",
    "                          {\"role\": \"user\", \"content\": new_req_CD_input},\n",
    "                          {\"role\": \"assistant\", \"content\": new_req_pi}\n",
    "                         ]\n",
    "    new_req_messages_CM = [\n",
    "                          {\"role\": \"user\", \"content\": new_req_CM_input},\n",
    "                          {\"role\": \"assistant\", \"content\":new_req_description}\n",
    "                         ]\n",
    "    \n",
    "    with open('./functions/untested functions/%s/%s_module.py' % (function_name, function_name), encoding='utf-8') as f:\n",
    "        new_req_function = f.read()\n",
    "    \n",
    "    new_req_messages = [\n",
    "                       {\"role\": \"user\", \"content\": new_req_description},\n",
    "                       {\"role\": \"assistant\", \"content\":new_req_function}\n",
    "                      ] \n",
    "    \n",
    "    new_req_prompt = {\n",
    "                     \"stage1_CD\": new_req_messages_CD,\n",
    "                     \"stage1_CM\": new_req_messages_CM,\n",
    "                     \"stage2\": new_req_messages\n",
    "                    }   \n",
    "    \n",
    "    with open('./functions/untested functions/%s/%s_prompt.json' % (function_name, function_name), 'w') as f:\n",
    "        json.dump(new_req_prompt, f)\n",
    "        \n",
    "    print('新函数提示示例保存在./functions/untested functions/%s/%s_prompt.json文件中' % (function_name, function_name))\n",
    "    print('done')\n",
    "    return function_name"
   ]
  },
  {
   "cell_type": "code",
   "execution_count": 34,
   "id": "cc9f4141-f9af-4af0-88db-03eeaf44a40d",
   "metadata": {
    "tags": []
   },
   "outputs": [
    {
     "name": "stdout",
     "output_type": "stream",
     "text": [
      "第一阶段CD环节提示创建完毕，正在进行CD提示...\n",
      "第一阶段CD环节提示完毕\n",
      "第一阶段CM环节提示创建完毕，正在进行第一阶段CM提示...\n",
      "第一阶段CM环节提示完毕\n",
      "第二阶段提示创建完毕，正在进行第二阶段提示...\n",
      "第二阶段提示完毕，准备运行函数并编写提示示例\n",
      "An error occurred while executing the code:\n",
      "name 'pymysql' is not defined\n",
      "def fetch_unread_emails(user_id='me', max_emails=None):\n",
      "    \"\"\"\n",
      "    获取指定用户ID的未读邮件列表。\n",
      "\n",
      "    参数:\n",
      "    - user_id: 字符串，表示要查询的邮箱用户ID，默认为'me'。\n",
      "    - max_emails: 整数或None，表示要返回的最大邮件数量，如果为None，则返回所有未读邮件。\n",
      "\n",
      "    返回:\n",
      "    - JSON格式的字符串，包含未读邮件列表的详细信息。\n",
      "\n",
      "    示例返回数据结构：\n",
      "    {\n",
      "        \"unread_emails\": [\n",
      "            {\n",
      "                \"from_userid\": \"发件人ID\",\n",
      "                \"date\": \"邮件发送日期\",\n",
      "                \"subject\": \"邮件主题\",\n",
      "                \"snippet\": \"邮件内容摘要\",\n",
      "                \"status\": \"邮件状态\",\n",
      "                \"label\": \"邮件标签\"\n",
      "            },\n",
      "            ...\n",
      "        ]\n",
      "    }\n",
      "    \"\"\"\n",
      "\n",
      "    # 数据库连接配置\n",
      "    config = {\n",
      "        'host': 'localhost',\n",
      "        'user': 'gpt',\n",
      "        'passwd': 'gpt',\n",
      "        'db': 'my_mail',\n",
      "        'charset': 'utf8'\n",
      "    }\n",
      "\n",
      "    # 建立数据库连接\n",
      "    connection = pymysql.connect(**config)\n",
      "    try:\n",
      "        with connection.cursor() as cursor:\n",
      "            # 构造查询语句\n",
      "            query = \"SELECT from_userid, date, subject, snippet, status, label FROM mailbox WHERE userid = %s AND status = '未读'\"\n",
      "            if max_emails is not None:\n",
      "                query += \" LIMIT %s\"\n",
      "                cursor.execute(query, (user_id, max_emails))\n",
      "            else:\n",
      "                cursor.execute(query, (user_id,))\n",
      "\n",
      "            # 获取查询结果\n",
      "            rows = cursor.fetchall()\n",
      "\n",
      "            # 将结果转换为字典列表\n",
      "            unread_emails = [\n",
      "                {\n",
      "                    \"from_userid\": row[0],\n",
      "                    \"date\": row[1],\n",
      "                    \"subject\": row[2],\n",
      "                    \"snippet\": row[3],\n",
      "                    \"status\": row[4],\n",
      "                    \"label\": row[5]\n",
      "                } for row in rows\n",
      "            ]\n",
      "\n",
      "            # 将字典列表转换为JSON格式的字符串\n",
      "            result = json.dumps({\"unread_emails\": unread_emails})\n",
      "\n",
      "            return result\n",
      "    except pymysql.MySQLError as e:\n",
      "        print(f\"数据库操作出错: {e}\")\n",
      "        return json.dumps({\"error\": str(e)})\n",
      "    finally:\n",
      "        if connection:\n",
      "            connection.close()\n",
      "\n",
      "# 使用示例\n",
      "unread_emails_json = fetch_unread_emails('me', 3)\n",
      "print(unread_emails_json)\n",
      "\n",
      "新函数保存在./functions/untested functions/fetch_unread_emails/fetch_unread_emails_module.py文件中\n",
      "新函数提示示例保存在./functions/untested functions/fetch_unread_emails/fetch_unread_emails_prompt.json文件中\n",
      "done\n"
     ]
    }
   ],
   "source": [
    "func1_name = code_generate(sub_req1, few_shot='all', g=globals(), detail=1)"
   ]
  },
  {
   "cell_type": "code",
   "execution_count": 36,
   "id": "c0da8a08-a178-49bf-972d-fac8d20552ad",
   "metadata": {
    "tags": []
   },
   "outputs": [
    {
     "name": "stdout",
     "output_type": "stream",
     "text": [
      "第一阶段CD环节提示创建完毕，正在进行CD提示...\n",
      "第一阶段CD环节提示完毕\n",
      "第一阶段CM环节提示创建完毕，正在进行第一阶段CM提示...\n",
      "第一阶段CM环节提示完毕\n",
      "第二阶段提示创建完毕，正在进行第二阶段提示...\n",
      "第二阶段提示完毕，准备运行函数并编写提示示例\n",
      "An error occurred while executing the code:\n",
      "local variable 'connection' referenced before assignment\n",
      "def retrieve_recent_emails(n, user_id='me'):\n",
      "    \"\"\"\n",
      "    查询指定用户邮箱中最近的几封邮件信息。\n",
      "\n",
      "    参数:\n",
      "    n: 要查询的邮件数量，数据格式为字符串类型。\n",
      "    user_id: 要查询的用户的ID，默认值为'me'，表示当前授权的用户。\n",
      "\n",
      "    返回:\n",
      "    一个JSON格式的对象，包含查询到的邮件列表。\n",
      "    每封邮件包含以下信息：'from_userid', 'date', 'subject', 'snippet'。\n",
      "\n",
      "    示例返回:\n",
      "    {\n",
      "        \"emails\": [\n",
      "            {\"from_userid\": \"sender1\", \"date\": \"2023-04-01\", \"subject\": \"Subject 1\", \"snippet\": \"Mail content snippet 1\"},\n",
      "            {\"from_userid\": \"sender2\", \"date\": \"2023-04-02\", \"subject\": \"Subject 2\", \"snippet\": \"Mail content snippet 2\"}\n",
      "        ]\n",
      "    }\n",
      "    \"\"\"\n",
      "    try:\n",
      "        # 建立数据库连接\n",
      "        connection = pymysql.connect(**DB_CONFIG)\n",
      "        with connection.cursor() as cursor:\n",
      "            # 查询最近的n封邮件\n",
      "            sql_query = f\"SELECT from_userid, date, subject, snippet FROM mailbox WHERE userid = %s ORDER BY date DESC LIMIT %s\"\n",
      "            cursor.execute(sql_query, (user_id, n))\n",
      "            results = cursor.fetchall()\n",
      "\n",
      "            # 将查询结果转换为字典列表\n",
      "            emails = [\n",
      "                {'from_userid': row[0], 'date': row[1], 'subject': row[2], 'snippet': row[3]}\n",
      "                for row in results\n",
      "            ]\n",
      "\n",
      "            # 返回JSON格式的对象\n",
      "            return json.dumps({'emails': emails}, ensure_ascii=False)\n",
      "\n",
      "    except pymysql.MySQLError as e:\n",
      "        print(f\"数据库操作出错: {e}\")\n",
      "        return json.dumps({'error': str(e)})\n",
      "\n",
      "    finally:\n",
      "        if connection:\n",
      "            connection.close()\n",
      "\n",
      "# 示例调用\n",
      "print(retrieve_recent_emails('5', 'me'))\n",
      "\n",
      "新函数保存在./functions/untested functions/retrieve_recent_emails/retrieve_recent_emails_module.py文件中\n",
      "新函数提示示例保存在./functions/untested functions/retrieve_recent_emails/retrieve_recent_emails_prompt.json文件中\n",
      "done\n"
     ]
    }
   ],
   "source": [
    "func2_name = code_generate(sub_req2, few_shot='all', g=globals(), detail=1)"
   ]
  },
  {
   "cell_type": "code",
   "execution_count": 37,
   "id": "ce373a61-c80d-4b9d-89b6-bce1fcba5cb7",
   "metadata": {
    "tags": []
   },
   "outputs": [
    {
     "name": "stdout",
     "output_type": "stream",
     "text": [
      "第一阶段CD环节提示创建完毕，正在进行CD提示...\n",
      "第一阶段CD环节提示完毕\n",
      "第一阶段CM环节提示创建完毕，正在进行第一阶段CM提示...\n",
      "第一阶段CM环节提示完毕\n",
      "第二阶段提示创建完毕，正在进行第二阶段提示...\n",
      "第二阶段提示完毕，准备运行函数并编写提示示例\n",
      "def update_emails_tag(n, user_id='me', tag='紧急'):\n",
      "    \"\"\"\n",
      "    更新邮箱中最近的n封邮件的标签为指定的tag。\n",
      "\n",
      "    参数:\n",
      "    n: 要更新的邮件数量，数据格式为整型。\n",
      "    user_id: 要检索邮件的用户的ID。默认值是'me'，数据格式为字符串类型。\n",
      "    tag: 要设置的邮件标签。默认值是'紧急'，数据格式为字符串类型。\n",
      "\n",
      "    返回:\n",
      "    一个JSON格式对象，包含更新后的邮件信息。\n",
      "\n",
      "    注意:\n",
      "    - 这个函数假设你已经有了数据库连接的相关配置，并且数据库中有一个名为`mailbox`的表。\n",
      "    - 请确保在真实环境中处理SQL注入的安全性问题。\n",
      "    - 这个函数没有实现事务回滚，如果更新失败，需要手动处理异常。\n",
      "    \"\"\"\n",
      "\n",
      "    # 假设这是你的数据库连接配置\n",
      "    config = {\n",
      "        'host': 'localhost',\n",
      "        'user': 'gpt',\n",
      "        'passwd': 'gpt',\n",
      "        'db': 'my_mail',\n",
      "        'charset': 'utf8'\n",
      "    }\n",
      "\n",
      "    try:\n",
      "        # 建立数据库连接\n",
      "        connection = pymysql.connect(**config)\n",
      "        with connection.cursor() as cursor:\n",
      "            # 查询最近的n封邮件\n",
      "            sql_query = f\"SELECT * FROM mailbox WHERE userid = '{user_id}' ORDER BY date DESC LIMIT {n}\"\n",
      "            cursor.execute(sql_query)\n",
      "            emails = cursor.fetchall()\n",
      "\n",
      "            # 更新邮件标签\n",
      "            for email in emails:\n",
      "                email_id = email['id']\n",
      "                update_sql = f\"UPDATE mailbox SET label = '{tag}' WHERE id = {email_id}\"\n",
      "                cursor.execute(update_sql)\n",
      "\n",
      "            # 提交事务\n",
      "            connection.commit()\n",
      "\n",
      "            # 将更新后的邮件信息转换为JSON格式\n",
      "            # 注意：这里假设你想要返回所有的字段，如果你只想返回特定的字段，你需要调整下面的代码\n",
      "            column_names = [desc[0] for desc in cursor.description]\n",
      "            json_emails = [dict(zip(column_names, email)) for email in emails]\n",
      "            return json.dumps(json_emails, ensure_ascii=False)\n",
      "\n",
      "    except pymysql.MySQLError as e:\n",
      "        print(f\"数据库操作出错: {e}\")\n",
      "        # 在实际应用中，这里应该有异常处理的逻辑\n",
      "        return json.dumps({'error': str(e)})\n",
      "    finally:\n",
      "        if connection:\n",
      "            connection.close()\n",
      "\n",
      "# 示例调用\n",
      "# print(update_emails_tag(5))\n",
      "\n",
      "新函数保存在./functions/untested functions/update_emails_tag/update_emails_tag_module.py文件中\n",
      "新函数提示示例保存在./functions/untested functions/update_emails_tag/update_emails_tag_prompt.json文件中\n",
      "done\n"
     ]
    }
   ],
   "source": [
    "func3_name = code_generate(sub_req3, few_shot='all', g=globals(), detail=1)"
   ]
  },
  {
   "cell_type": "code",
   "execution_count": 38,
   "id": "f7ae592a-9241-4163-88dd-8e56af3836db",
   "metadata": {
    "tags": []
   },
   "outputs": [],
   "source": [
    "with open('./functions/untested functions/%s/%s_module.py' % (func1_name, func1_name), encoding='utf-8') as f:\n",
    "    func1_str = f.read()\n",
    "    \n",
    "with open('./functions/untested functions/%s/%s_module.py' % (func2_name, func2_name), encoding='utf-8') as f:\n",
    "    func2_str = f.read()\n",
    "    \n",
    "with open('./functions/untested functions/%s/%s_module.py' % (func3_name, func3_name), encoding='utf-8') as f:\n",
    "    func3_str = f.read()"
   ]
  },
  {
   "cell_type": "markdown",
   "id": "f5b327c8-02a4-40d5-b6d0-9d93994faf27",
   "metadata": {},
   "source": [
    "然后输入到大模型中，令其读取这三段代码并对其进行合并："
   ]
  },
  {
   "cell_type": "code",
   "execution_count": 39,
   "id": "676899ee-5c9d-4628-8b28-ef60c2add37c",
   "metadata": {
    "tags": []
   },
   "outputs": [],
   "source": [
    "response = client.chat.completions.create(\n",
    "  model='glm-4',\n",
    "  messages=[\n",
    "      {\"role\": \"system\", \"content\": '以下是函数1的代码：%s' % func1_str},\n",
    "      {\"role\": \"system\", \"content\": '以下是函数2的代码：%s' % func2_str},\n",
    "      {\"role\": \"system\", \"content\": '以下是函数3的代码：%s' % func3_str},\n",
    "      {\"role\": \"user\", \"content\": '请将函数1、函数2和函数3的代码功能整合到一个函数中，要求该函数功能完整，并且可以满足以下需求：%s' % req}\n",
    "  ]\n",
    ")"
   ]
  },
  {
   "cell_type": "code",
   "execution_count": 40,
   "id": "ea3f8092-c519-4b3d-8fe3-0457c9912f19",
   "metadata": {
    "tags": []
   },
   "outputs": [
    {
     "data": {
      "text/plain": [
       "'下面是一个整合后的函数，它首先获取未读邮件列表，然后挑选出发件人包含“公司”关键词的邮件，并将这些邮件的标签更新为“紧急”。请注意，为了防止SQL注入，我们在使用字符串格式化时使用了参数化查询。\\n\\n```python\\nimport json\\nimport pymysql\\n\\n# 假设这是你的数据库连接配置\\nDB_CONFIG = {\\n    \\'host\\': \\'localhost\\',\\n    \\'user\\': \\'gpt\\',\\n    \\'passwd\\': \\'gpt\\',\\n    \\'db\\': \\'my_mail\\',\\n    \\'charset\\': \\'utf8\\'\\n}\\n\\ndef manage_emails(user_id=\\'me\\', max_emails=None, tag=\\'紧急\\', company_keyword=\\'公司\\'):\\n    \"\"\"\\n    获取并处理指定用户ID的未读邮件列表，挑选含有公司关键词的邮件，并将其标签更新为紧急。\\n\\n    参数:\\n    - user_id: 字符串，表示要查询的邮箱用户ID，默认为\\'me\\'。\\n    - max_emails: 整数或None，表示要返回的最大邮件数量，如果为None，则返回所有未读邮件。\\n    - tag: 字符串，表示要更新的邮件标签，默认为\\'紧急\\'。\\n    - company_keyword: 字符串，表示筛选邮件时使用的公司关键词，默认为\\'公司\\'。\\n\\n    返回:\\n    - JSON格式的字符串，包含处理后的邮件列表和可能出现的错误信息。\\n    \"\"\"\\n\\n    try:\\n        # 建立数据库连接\\n        connection = pymysql.connect(**DB_CONFIG)\\n        with connection.cursor() as cursor:\\n            # 获取未读邮件列表\\n            query = \"SELECT * FROM mailbox WHERE userid = %s AND status = \\'未读\\'\"\\n            if max_emails is not None:\\n                query += \" LIMIT %s\"\\n                cursor.execute(query, (user_id, max_emails))\\n            else:\\n                cursor.execute(query, (user_id,))\\n\\n            # 获取查询结果\\n            rows = cursor.fetchall()\\n\\n            # 筛选含有公司关键词的邮件\\n            company_emails = [row for row in rows if company_keyword in row[\\'from_userid\\']]\\n\\n            # 更新标签为紧急\\n            for email in company_emails:\\n                update_query = \"UPDATE mailbox SET label = %s WHERE id = %s\"\\n                cursor.execute(update_query, (tag, email[\\'id\\']))\\n\\n            # 提交事务\\n            connection.commit()\\n\\n            # 更新后的邮件信息转换为JSON格式\\n            column_names = [desc[0] for desc in cursor.description]\\n            json_emails = [dict(zip(column_names, email)) for email in company_emails]\\n            result = json.dumps(json_emails, ensure_ascii=False)\\n\\n            return result\\n\\n    except pymysql.MySQLError as e:\\n        print(f\"数据库操作出错: {e}\")\\n        return json.dumps({\\'error\\': str(e)})\\n    finally:\\n        if connection:\\n            connection.close()\\n\\n# 示例调用\\nprint(manage_emails(\\'me\\', 10, \\'紧急\\', \\'公司\\'))\\n```\\n\\n请注意，此代码假设`mailbox`表中有一个名为`id`的字段，用于唯一标识每封邮件，以及字段`from_userid`包含发件人的信息。\\n\\n此外，该函数现在将返回所有符合条件的邮件的详细信息，并且假设所有数据库字段都需要返回。如果你只想返回特定的字段，可以调整`column_names`列表来选择你需要的字段。\\n\\n另外，关于SQL注入的防护，上面的代码使用了参数化查询（即在查询中使用占位符`%s`并传递参数），这是一个有效的防止SQL注入的方法。但是，对于筛选关键词`company_keyword`，我没有使用参数化查询，因为参数化查询不适用于LIKE操作。为了防止SQL注入，这里你应该确保`company_keyword`是安全的或者使用其他方法进行转义。由于本例子中`company_keyword`是硬编码的，所以没有这个问题。如果需要从用户输入获取这个值，应确保进行适当的清洗和转义。'"
      ]
     },
     "execution_count": 40,
     "metadata": {},
     "output_type": "execute_result"
    }
   ],
   "source": [
    "python_content = response.choices[0].message.content\n",
    "python_content"
   ]
  },
  {
   "cell_type": "code",
   "execution_count": 41,
   "id": "b29fbd62-3bce-4e6e-82cd-4d0f8f053585",
   "metadata": {
    "tags": []
   },
   "outputs": [
    {
     "name": "stdout",
     "output_type": "stream",
     "text": [
      "An error occurred while executing the code:\n",
      "local variable 'connection' referenced before assignment\n",
      "def manage_emails(user_id='me', max_emails=None, tag='紧急', company_keyword='公司'):\n",
      "    \"\"\"\n",
      "    获取并处理指定用户ID的未读邮件列表，挑选含有公司关键词的邮件，并将其标签更新为紧急。\n",
      "\n",
      "    参数:\n",
      "    - user_id: 字符串，表示要查询的邮箱用户ID，默认为'me'。\n",
      "    - max_emails: 整数或None，表示要返回的最大邮件数量，如果为None，则返回所有未读邮件。\n",
      "    - tag: 字符串，表示要更新的邮件标签，默认为'紧急'。\n",
      "    - company_keyword: 字符串，表示筛选邮件时使用的公司关键词，默认为'公司'。\n",
      "\n",
      "    返回:\n",
      "    - JSON格式的字符串，包含处理后的邮件列表和可能出现的错误信息。\n",
      "    \"\"\"\n",
      "\n",
      "    try:\n",
      "        # 建立数据库连接\n",
      "        connection = pymysql.connect(**DB_CONFIG)\n",
      "        with connection.cursor() as cursor:\n",
      "            # 获取未读邮件列表\n",
      "            query = \"SELECT * FROM mailbox WHERE userid = %s AND status = '未读'\"\n",
      "            if max_emails is not None:\n",
      "                query += \" LIMIT %s\"\n",
      "                cursor.execute(query, (user_id, max_emails))\n",
      "            else:\n",
      "                cursor.execute(query, (user_id,))\n",
      "\n",
      "            # 获取查询结果\n",
      "            rows = cursor.fetchall()\n",
      "\n",
      "            # 筛选含有公司关键词的邮件\n",
      "            company_emails = [row for row in rows if company_keyword in row['from_userid']]\n",
      "\n",
      "            # 更新标签为紧急\n",
      "            for email in company_emails:\n",
      "                update_query = \"UPDATE mailbox SET label = %s WHERE id = %s\"\n",
      "                cursor.execute(update_query, (tag, email['id']))\n",
      "\n",
      "            # 提交事务\n",
      "            connection.commit()\n",
      "\n",
      "            # 更新后的邮件信息转换为JSON格式\n",
      "            column_names = [desc[0] for desc in cursor.description]\n",
      "            json_emails = [dict(zip(column_names, email)) for email in company_emails]\n",
      "            result = json.dumps(json_emails, ensure_ascii=False)\n",
      "\n",
      "            return result\n",
      "\n",
      "    except pymysql.MySQLError as e:\n",
      "        print(f\"数据库操作出错: {e}\")\n",
      "        return json.dumps({'error': str(e)})\n",
      "    finally:\n",
      "        if connection:\n",
      "            connection.close()\n",
      "\n",
      "# 示例调用\n",
      "print(manage_emails('me', 10, '紧急', '公司'))\n",
      "\n"
     ]
    },
    {
     "data": {
      "text/plain": [
       "'manage_emails'"
      ]
     },
     "execution_count": 41,
     "metadata": {},
     "output_type": "execute_result"
    }
   ],
   "source": [
    "extract_function_code(python_content, detail=1, tested=False, g=globals())"
   ]
  },
  {
   "cell_type": "code",
   "execution_count": null,
   "id": "1fd2510a-82bc-48b4-8ca6-e6361f0b85ca",
   "metadata": {},
   "outputs": [],
   "source": [
    "print(manage_emails('me', 10, '紧急', '公司'))"
   ]
  },
  {
   "cell_type": "markdown",
   "id": "94b13eac-c7cd-43a5-b631-cb075f4a1b5e",
   "metadata": {},
   "source": [
    "&emsp;&emsp;需要注意的是，实际操作过程中，这种合并方式的准确率其实和子函数的代码质量有很大的关系，需要注意的是，此时由于大模型由于缺少了LtM提示流程，因此对原始编程需求理解的并不深，只能根据子函数的代码来推断原始需求的实现过程，因此一旦子函数本身质量不高，最终合并得到的函数的准确率也会比较低。而同时我们也知道，子函数的创建本身就是没有审核的，因此子函数的代码质量也极有可能是层次不齐的，因此总的来看，这种合并方式仍然存在一些不太可控的风险。"
   ]
  },
  {
   "cell_type": "markdown",
   "id": "b55fba0f-547f-401f-828d-3189e6a970a3",
   "metadata": {},
   "source": [
    "### 4.4 复杂任务的自动编程落地"
   ]
  },
  {
   "cell_type": "markdown",
   "id": "467c7b2a-8574-4ef7-ad63-0c0f3f5526da",
   "metadata": {},
   "source": [
    "&emsp;&emsp;我们需要修改此前定义的code_generate函数，为其增加一个system_messages参数。该参数默认取值为None，表示导入本地保存的system_messages.json对象，否则输入外部messages作为system_messages:"
   ]
  },
  {
   "cell_type": "code",
   "execution_count": 32,
   "id": "2e5bde75-c050-4e80-b463-4a53f95d4d2a",
   "metadata": {
    "tags": []
   },
   "outputs": [],
   "source": [
    "def code_generate(req, few_shot='all', model='glm-4', g=globals(), detail=0, system_messages=None):\n",
    "    \"\"\"\n",
    "    Function calling外部函数自动创建函数，可以根据用户的需求，直接将其翻译为Chat模型可以直接调用的外部函数代码。\n",
    "    :param req: 必要参数，字符串类型，表示输入的用户需求；\n",
    "    :param few_shot: 可选参数，默认取值为字符串all，用于描述Few-shot提示示例的选取方案，当输入字符串all时，则代表提取当前外部函数库中全部测试过的函数作为Few-shot；\\\n",
    "    而如果输入的是一个包含了多个函数名称的list，则表示使用这些函数作为Few-shot。\n",
    "    :param model: 可选参数，表示调用的Chat模型，默认选取glm-4；\n",
    "    :param g: 可选参数，表示extract_function_code函数作用域，默认为globals()，即在当前操作空间全域内生效；\n",
    "    :param detail: 可选参数，默认取值为0，还可以取值为1，表示extract_function_code函数打印新创建的外部函数细节；\n",
    "    :param system_messages: 可选参数，默认取值为None，此时读取本地system_messages.json作为系统信息，也可以自定义；\n",
    "    :return：新创建的函数名称。需要注意的是，在函数创建时，该函数也会在当前操作空间被定义，后续可以直接调用；\n",
    "    \"\"\"\n",
    "    \n",
    "    # 提取提示示例的函数名称\n",
    "    if few_shot == 'all':\n",
    "        few_shot_functions_name = show_functions(tested=True)\n",
    "    elif type(few_shot) == list:\n",
    "        few_shot_functions_name = few_shot\n",
    "    # few_shot_functions = [globals()[name] for name in few_shot_functions_name]\n",
    "    \n",
    "    # 读取各阶段系统提示\n",
    "    if system_messages == None:\n",
    "        with open('./functions/tested functions/system_messages.json', 'r') as f:\n",
    "            system_messages = json.load(f)\n",
    "        \n",
    "    # 各阶段提示message对象\n",
    "    few_shot_messages_CM = []\n",
    "    few_shot_messages_CD = []\n",
    "    few_shot_messages = []\n",
    "    \n",
    "    # 先保存第一条消息，也就是system message\n",
    "    few_shot_messages_CD += system_messages[\"system_message_CD\"]\n",
    "    few_shot_messages_CM += system_messages[\"system_message_CM\"]\n",
    "    few_shot_messages += system_messages[\"system_message\"]\n",
    "\n",
    "    # 创建不同阶段提示message\n",
    "    for function_name in few_shot_functions_name:\n",
    "        with open('./functions/tested functions/%s/%s_prompt.json' % (function_name, function_name), 'r') as f:\n",
    "            msg = json.load(f)\n",
    "        few_shot_messages_CD += msg[\"stage1_CD\"]\n",
    "        few_shot_messages_CM += msg[\"stage1_CM\"]\n",
    "        few_shot_messages += msg['stage2']\n",
    "        \n",
    "    # 读取用户需求，作为第一阶段CD环节User content\n",
    "    new_req_CD_input = req\n",
    "    few_shot_messages_CD.append({\"role\": \"user\", \"content\": new_req_CD_input})\n",
    "    \n",
    "    print('第一阶段CD环节提示创建完毕，正在进行CD提示...')\n",
    "    \n",
    "    # 第一阶段CD环节Chat模型调用过程\n",
    "    response = client.chat.completions.create(\n",
    "                  model=model,\n",
    "                  messages=few_shot_messages_CD\n",
    "                )\n",
    "    new_req_pi = response.choices[0].message.content\n",
    "    \n",
    "    print('第一阶段CD环节提示完毕')\n",
    "    \n",
    "    # 第一阶段CM环节Messages创建\n",
    "    new_req_CM_input = new_req_CD_input + new_req_pi\n",
    "    few_shot_messages_CM.append({\"role\": \"user\", \"content\": new_req_CM_input})\n",
    "    \n",
    "    print('第一阶段CM环节提示创建完毕，正在进行第一阶段CM提示...')\n",
    "    # 第一阶段CM环节Chat模型调用过程\n",
    "    response = client.chat.completions.create(\n",
    "                      model=model,\n",
    "                      messages=few_shot_messages_CM\n",
    "                    )\n",
    "    new_req_description = response.choices[0].message.content\n",
    "    \n",
    "    print('第一阶段CM环节提示完毕')\n",
    "    \n",
    "    # 第二阶段Messages创建过程\n",
    "    few_shot_messages.append({\"role\": \"user\", \"content\": new_req_description})\n",
    "    \n",
    "    print('第二阶段提示创建完毕，正在进行第二阶段提示...')\n",
    "    \n",
    "    # 第二阶段Chat模型调用过程\n",
    "    response = client.chat.completions.create(\n",
    "                  model=model,\n",
    "                  messages=few_shot_messages\n",
    "                )\n",
    "    new_req_function = response.choices[0].message.content\n",
    "    \n",
    "    print('第二阶段提示完毕，准备运行函数并编写提示示例')\n",
    "    \n",
    "    # 提取函数并运行，创建函数名称对象，统一都写入untested文件夹内\n",
    "    function_name = extract_function_code(s=new_req_function, detail=detail, g=g)\n",
    "    \n",
    "    print('新函数保存在./functions/untested functions/%s/%s_module.py文件中' % (function_name, function_name))\n",
    "    \n",
    "    # 创建该函数提示示例\n",
    "    new_req_messages_CD = [\n",
    "                          {\"role\": \"user\", \"content\": new_req_CD_input},\n",
    "                          {\"role\": \"assistant\", \"content\": new_req_pi}\n",
    "                         ]\n",
    "    new_req_messages_CM = [\n",
    "                          {\"role\": \"user\", \"content\": new_req_CM_input},\n",
    "                          {\"role\": \"assistant\", \"content\":new_req_description}\n",
    "                         ]\n",
    "    \n",
    "    with open('./functions/untested functions/%s/%s_module.py' % (function_name, function_name), encoding='utf-8') as f:\n",
    "        new_req_function = f.read()\n",
    "    \n",
    "    new_req_messages = [\n",
    "                       {\"role\": \"user\", \"content\": new_req_description},\n",
    "                       {\"role\": \"assistant\", \"content\":new_req_function}\n",
    "                      ] \n",
    "    \n",
    "    new_req_prompt = {\n",
    "                     \"stage1_CD\": new_req_messages_CD,\n",
    "                     \"stage1_CM\": new_req_messages_CM,\n",
    "                     \"stage2\": new_req_messages\n",
    "                    }   \n",
    "    \n",
    "    with open('./functions/untested functions/%s/%s_prompt.json' % (function_name, function_name), 'w') as f:\n",
    "        json.dump(new_req_prompt, f)\n",
    "        \n",
    "    print('新函数提示示例保存在./functions/untested functions/%s/%s_prompt.json文件中' % (function_name, function_name))\n",
    "    print('done')\n",
    "    return function_name"
   ]
  },
  {
   "cell_type": "code",
   "execution_count": 67,
   "id": "e67f8db6-c054-4040-8aad-80c263e1db73",
   "metadata": {
    "tags": []
   },
   "outputs": [],
   "source": [
    "with open('./functions/tested functions/system_messages.json', 'r') as f:\n",
    "    system_messages = json.load(f)"
   ]
  },
  {
   "cell_type": "code",
   "execution_count": 68,
   "id": "171cd102-9617-4f36-b7c8-cd0e8d31fde2",
   "metadata": {
    "tags": []
   },
   "outputs": [],
   "source": [
    "res=\"\"\"\n",
    "对于这个用户需求，可以拆解为以下最小子任务：\n",
    "\n",
    "1. 查阅邮箱中的未读邮件，并整理出未读邮件列表。\n",
    "2. 从未读邮件列表中筛选出包含公司信息的邮件。\n",
    "3. 对于筛选出的公司邮件，将其标签改为“紧急”。 \n",
    "\"\"\""
   ]
  },
  {
   "cell_type": "code",
   "execution_count": 69,
   "id": "c0b5af1e-6c00-4a18-8b02-b6c8957aa9ec",
   "metadata": {
    "tags": []
   },
   "outputs": [],
   "source": [
    "decompose_description = ('对于当前编程需求，可以拆解为若干个子需求，也就是：%s。这些子需求的实现方式可以参考：' % res ) + func1_str + func2_str + func3_str"
   ]
  },
  {
   "cell_type": "code",
   "execution_count": 70,
   "id": "8c7961e5-06b0-4b5c-b3a5-4f74b1924913",
   "metadata": {
    "tags": []
   },
   "outputs": [
    {
     "data": {
      "text/plain": [
       "'对于当前编程需求，可以拆解为若干个子需求，也就是：\\n对于这个用户需求，可以拆解为以下最小子任务：\\n\\n1. 查阅邮箱中的未读邮件，并整理出未读邮件列表。\\n2. 从未读邮件列表中筛选出包含公司信息的邮件。\\n3. 对于筛选出的公司邮件，将其标签改为“紧急”。 \\n。这些子需求的实现方式可以参考：def fetch_unread_emails(user_id=\\'me\\', max_emails=None):\\n    \"\"\"\\n    获取指定用户ID的未读邮件列表。\\n\\n    参数:\\n    - user_id: 字符串，表示要查询的邮箱用户ID，默认为\\'me\\'。\\n    - max_emails: 整数或None，表示要返回的最大邮件数量，如果为None，则返回所有未读邮件。\\n\\n    返回:\\n    - JSON格式的字符串，包含未读邮件列表的详细信息。\\n\\n    示例返回数据结构：\\n    {\\n        \"unread_emails\": [\\n            {\\n                \"from_userid\": \"发件人ID\",\\n                \"date\": \"邮件发送日期\",\\n                \"subject\": \"邮件主题\",\\n                \"snippet\": \"邮件内容摘要\",\\n                \"status\": \"邮件状态\",\\n                \"label\": \"邮件标签\"\\n            },\\n            ...\\n        ]\\n    }\\n    \"\"\"\\n\\n    # 数据库连接配置\\n    config = {\\n        \\'host\\': \\'localhost\\',\\n        \\'user\\': \\'gpt\\',\\n        \\'passwd\\': \\'gpt\\',\\n        \\'db\\': \\'my_mail\\',\\n        \\'charset\\': \\'utf8\\'\\n    }\\n\\n    # 建立数据库连接\\n    connection = pymysql.connect(**config)\\n    try:\\n        with connection.cursor() as cursor:\\n            # 构造查询语句\\n            query = \"SELECT from_userid, date, subject, snippet, status, label FROM mailbox WHERE userid = %s AND status = \\'未读\\'\"\\n            if max_emails is not None:\\n                query += \" LIMIT %s\"\\n                cursor.execute(query, (user_id, max_emails))\\n            else:\\n                cursor.execute(query, (user_id,))\\n\\n            # 获取查询结果\\n            rows = cursor.fetchall()\\n\\n            # 将结果转换为字典列表\\n            unread_emails = [\\n                {\\n                    \"from_userid\": row[0],\\n                    \"date\": row[1],\\n                    \"subject\": row[2],\\n                    \"snippet\": row[3],\\n                    \"status\": row[4],\\n                    \"label\": row[5]\\n                } for row in rows\\n            ]\\n\\n            # 将字典列表转换为JSON格式的字符串\\n            result = json.dumps({\"unread_emails\": unread_emails})\\n\\n            return result\\n    except pymysql.MySQLError as e:\\n        print(f\"数据库操作出错: {e}\")\\n        return json.dumps({\"error\": str(e)})\\n    finally:\\n        if connection:\\n            connection.close()\\n\\n# 使用示例\\nunread_emails_json = fetch_unread_emails(\\'me\\', 3)\\nprint(unread_emails_json)\\ndef retrieve_recent_emails(n, user_id=\\'me\\'):\\n    \"\"\"\\n    查询指定用户邮箱中最近的几封邮件信息。\\n\\n    参数:\\n    n: 要查询的邮件数量，数据格式为字符串类型。\\n    user_id: 要查询的用户的ID，默认值为\\'me\\'，表示当前授权的用户。\\n\\n    返回:\\n    一个JSON格式的对象，包含查询到的邮件列表。\\n    每封邮件包含以下信息：\\'from_userid\\', \\'date\\', \\'subject\\', \\'snippet\\'。\\n\\n    示例返回:\\n    {\\n        \"emails\": [\\n            {\"from_userid\": \"sender1\", \"date\": \"2023-04-01\", \"subject\": \"Subject 1\", \"snippet\": \"Mail content snippet 1\"},\\n            {\"from_userid\": \"sender2\", \"date\": \"2023-04-02\", \"subject\": \"Subject 2\", \"snippet\": \"Mail content snippet 2\"}\\n        ]\\n    }\\n    \"\"\"\\n    try:\\n        # 建立数据库连接\\n        connection = pymysql.connect(**DB_CONFIG)\\n        with connection.cursor() as cursor:\\n            # 查询最近的n封邮件\\n            sql_query = f\"SELECT from_userid, date, subject, snippet FROM mailbox WHERE userid = %s ORDER BY date DESC LIMIT %s\"\\n            cursor.execute(sql_query, (user_id, n))\\n            results = cursor.fetchall()\\n\\n            # 将查询结果转换为字典列表\\n            emails = [\\n                {\\'from_userid\\': row[0], \\'date\\': row[1], \\'subject\\': row[2], \\'snippet\\': row[3]}\\n                for row in results\\n            ]\\n\\n            # 返回JSON格式的对象\\n            return json.dumps({\\'emails\\': emails}, ensure_ascii=False)\\n\\n    except pymysql.MySQLError as e:\\n        print(f\"数据库操作出错: {e}\")\\n        return json.dumps({\\'error\\': str(e)})\\n\\n    finally:\\n        if connection:\\n            connection.close()\\n\\n# 示例调用\\nprint(retrieve_recent_emails(\\'5\\', \\'me\\'))\\ndef update_emails_tag(n, user_id=\\'me\\', tag=\\'紧急\\'):\\n    \"\"\"\\n    更新邮箱中最近的n封邮件的标签为指定的tag。\\n\\n    参数:\\n    n: 要更新的邮件数量，数据格式为整型。\\n    user_id: 要检索邮件的用户的ID。默认值是\\'me\\'，数据格式为字符串类型。\\n    tag: 要设置的邮件标签。默认值是\\'紧急\\'，数据格式为字符串类型。\\n\\n    返回:\\n    一个JSON格式对象，包含更新后的邮件信息。\\n\\n    注意:\\n    - 这个函数假设你已经有了数据库连接的相关配置，并且数据库中有一个名为`mailbox`的表。\\n    - 请确保在真实环境中处理SQL注入的安全性问题。\\n    - 这个函数没有实现事务回滚，如果更新失败，需要手动处理异常。\\n    \"\"\"\\n\\n    # 假设这是你的数据库连接配置\\n    config = {\\n        \\'host\\': \\'localhost\\',\\n        \\'user\\': \\'gpt\\',\\n        \\'passwd\\': \\'gpt\\',\\n        \\'db\\': \\'my_mail\\',\\n        \\'charset\\': \\'utf8\\'\\n    }\\n\\n    try:\\n        # 建立数据库连接\\n        connection = pymysql.connect(**config)\\n        with connection.cursor() as cursor:\\n            # 查询最近的n封邮件\\n            sql_query = f\"SELECT * FROM mailbox WHERE userid = \\'{user_id}\\' ORDER BY date DESC LIMIT {n}\"\\n            cursor.execute(sql_query)\\n            emails = cursor.fetchall()\\n\\n            # 更新邮件标签\\n            for email in emails:\\n                email_id = email[\\'id\\']\\n                update_sql = f\"UPDATE mailbox SET label = \\'{tag}\\' WHERE id = {email_id}\"\\n                cursor.execute(update_sql)\\n\\n            # 提交事务\\n            connection.commit()\\n\\n            # 将更新后的邮件信息转换为JSON格式\\n            # 注意：这里假设你想要返回所有的字段，如果你只想返回特定的字段，你需要调整下面的代码\\n            column_names = [desc[0] for desc in cursor.description]\\n            json_emails = [dict(zip(column_names, email)) for email in emails]\\n            return json.dumps(json_emails, ensure_ascii=False)\\n\\n    except pymysql.MySQLError as e:\\n        print(f\"数据库操作出错: {e}\")\\n        # 在实际应用中，这里应该有异常处理的逻辑\\n        return json.dumps({\\'error\\': str(e)})\\n    finally:\\n        if connection:\\n            connection.close()\\n\\n# 示例调用\\n# print(update_emails_tag(5))\\n'"
      ]
     },
     "execution_count": 70,
     "metadata": {},
     "output_type": "execute_result"
    }
   ],
   "source": [
    "decompose_description"
   ]
  },
  {
   "cell_type": "code",
   "execution_count": 71,
   "id": "90b650f0-63ad-451b-8454-563445f2e22d",
   "metadata": {
    "tags": []
   },
   "outputs": [],
   "source": [
    "system_messages['system_message'].append({'role': 'system', 'content': decompose_description})"
   ]
  },
  {
   "cell_type": "code",
   "execution_count": null,
   "id": "bcc582b1-4fb2-4bba-8658-4af45aadafef",
   "metadata": {},
   "outputs": [],
   "source": [
    "然后以此作为system_message带入到code_generate中进行代码创建："
   ]
  },
  {
   "cell_type": "code",
   "execution_count": 72,
   "id": "1ba477d4-a4f6-4b8e-94d4-6e50b756069f",
   "metadata": {
    "tags": []
   },
   "outputs": [
    {
     "name": "stdout",
     "output_type": "stream",
     "text": [
      "第一阶段CD环节提示创建完毕，正在进行CD提示...\n",
      "第一阶段CD环节提示完毕\n",
      "第一阶段CM环节提示创建完毕，正在进行第一阶段CM提示...\n",
      "第一阶段CM环节提示完毕\n",
      "第二阶段提示创建完毕，正在进行第二阶段提示...\n",
      "第二阶段提示完毕，准备运行函数并编写提示示例\n",
      "An error occurred while executing the code:\n",
      "local variable 'cursor' referenced before assignment\n",
      "The function name is:update_mail_label\n",
      "新函数保存在./functions/untested functions/update_mail_label/update_mail_label_module.py文件中\n",
      "新函数提示示例保存在./functions/untested functions/update_mail_label/update_mail_label_prompt.json文件中\n",
      "done\n"
     ]
    },
    {
     "data": {
      "text/plain": [
       "'update_mail_label'"
      ]
     },
     "execution_count": 72,
     "metadata": {},
     "output_type": "execute_result"
    }
   ],
   "source": [
    "code_generate(req, few_shot='all', model='glm-4', g=globals(), detail=0, system_messages=system_messages)"
   ]
  },
  {
   "cell_type": "code",
   "execution_count": 73,
   "id": "964e10b3-2ad6-4b0b-8b5d-537f1070f584",
   "metadata": {
    "tags": []
   },
   "outputs": [
    {
     "data": {
      "text/plain": [
       "\u001b[0;31mSignature:\u001b[0m \u001b[0mupdate_mail_label\u001b[0m\u001b[0;34m(\u001b[0m\u001b[0muser_id\u001b[0m\u001b[0;34m=\u001b[0m\u001b[0;34m'me'\u001b[0m\u001b[0;34m,\u001b[0m \u001b[0mkeyword\u001b[0m\u001b[0;34m=\u001b[0m\u001b[0;34m'公司'\u001b[0m\u001b[0;34m,\u001b[0m \u001b[0mnew_label\u001b[0m\u001b[0;34m=\u001b[0m\u001b[0;34m'紧急'\u001b[0m\u001b[0;34m)\u001b[0m\u001b[0;34m\u001b[0m\u001b[0;34m\u001b[0m\u001b[0m\n",
       "\u001b[0;31mDocstring:\u001b[0m\n",
       "查询指定用户邮箱中包含特定关键词的未读邮件，并将其标签更改为指定的值。\n",
       "\n",
       "参数：\n",
       "user_id (str): 要查询的邮箱用户ID，默认值为'me'。\n",
       "keyword (str): 要查找的邮件内容中的关键词，默认值为“公司”。\n",
       "new_label (str): 要修改的邮件标签，默认值为“紧急”。\n",
       "\n",
       "返回：\n",
       "json对象: 包含修改后的邮件信息的json格式对象。\n",
       "\u001b[0;31mFile:\u001b[0m      Dynamically generated function. No source code available.\n",
       "\u001b[0;31mType:\u001b[0m      function"
      ]
     },
     "metadata": {},
     "output_type": "display_data"
    }
   ],
   "source": [
    "update_mail_label?"
   ]
  },
  {
   "cell_type": "markdown",
   "id": "576530ce-7319-446a-9337-123650cc4744",
   "metadata": {},
   "source": [
    "**生成函数没问题我这儿就不执行了，因为影响数据库中的数据**"
   ]
  },
  {
   "cell_type": "code",
   "execution_count": null,
   "id": "bdb5ea9a-ba63-409c-b959-4531f2fbb836",
   "metadata": {},
   "outputs": [],
   "source": [
    "messages = [{\"role\": \"system\", \"content\": \"我的邮箱号是me\"},\n",
    "            {\"role\": \"user\", \"content\": req}]"
   ]
  },
  {
   "cell_type": "code",
   "execution_count": null,
   "id": "228d97f0-fe75-4f68-ad41-5cf450d0cb08",
   "metadata": {},
   "outputs": [],
   "source": [
    "run_conversation(messages, functions_list=[label_meeting_emails], model=\"glm-4\")"
   ]
  },
  {
   "cell_type": "markdown",
   "id": "7359b0d6-4ee0-44c4-8ce4-145213c09a4b",
   "metadata": {},
   "source": [
    "&emsp;&emsp;这里需要注意的是，我们之所以考虑采用code_generate函数进行对应代码创建，核心原因在于该函数会创建一份完整的prompt提示示例，便于搭配function_test对其进行审查。接下来，我们就尝试围绕修改function_test的测试流程，是的其能够对拆分多个子需求之后的函数创建过程进行审查。"
   ]
  },
  {
   "cell_type": "markdown",
   "id": "2ef5982f-550f-45f4-bfa7-08045a7fc786",
   "metadata": {},
   "source": [
    "&emsp;&emsp;首先需要修改的就是prompt_modified函数，为了更好的协调function_test和code_generate共同进行代码创建和审查，我们需要将这些函数的相关参数进行统一，这里对于prompt_modified函数的修改主要是添加一个system_messages参数，用于表示此时是围绕简单需求进行提示审查还是围绕拆解需求并进行分段代码创建的流程进行提示审查，和code_generate函数类似，默认情况都是取值为None，表示围绕简单需求进行提示审查。而当system_messages取值不为None时，则会提供一个名为《复杂需求推理链》的文档作为提示审查函数外部挂载文档，相比《推理链》文档，该文档只修改了一个部分，即将原先的作为正确示例的prompt.json文档修改为此前我们成功创建的label_meeting_emails函数对应的提示示例，该函数的提示示例（配合复杂需求拆解的system_message）能够更好的表示复杂需求拆解和代码合并流程："
   ]
  },
  {
   "cell_type": "markdown",
   "id": "11a56b6b-d63a-4c6a-ac1e-cf1f2ed8b51f",
   "metadata": {},
   "source": [
    "**我这儿单独提供了一个高质量的prompt：update_mail_lable_prompt.json**"
   ]
  },
  {
   "cell_type": "code",
   "execution_count": 79,
   "id": "73c3227f-f8dc-466d-bd34-4128dbe1cc47",
   "metadata": {
    "tags": []
   },
   "outputs": [],
   "source": [
    " with open('./functions/untested functions/update_mail_lable_plus/update_mail_lable_plus_prompt.json' , 'r') as f:\n",
    "    data = json.load(f)"
   ]
  },
  {
   "cell_type": "code",
   "execution_count": 80,
   "id": "a51fd999-1f1c-4fef-aa6c-885fe7db9149",
   "metadata": {
    "tags": []
   },
   "outputs": [
    {
     "data": {
      "text/plain": [
       "{'stage1_CD': [{'role': 'user', 'content': '请查阅我邮箱里面未读邮件，从挑选有公司的邮件，并将其标签改为紧急'},\n",
       "  {'role': 'assistant',\n",
       "   'content': '请查阅我邮箱里面未读邮件，从挑选有公司的邮件，并将其标签改为紧急当前需求中可以作为函数参数的是：1. 查询谁的邮箱；2. 查找带有特定关键词的邮件（如“公司”）；3. 要修改的邮件标签（如“紧急”）'}],\n",
       " 'stage1_CM': [{'role': 'user',\n",
       "   'content': '请查阅我邮箱里面未读邮件，从挑选有公司的邮件，并将其标签改为紧急请查阅我邮箱里面未读邮件，从挑选有公司的邮件，并将其标签改为紧急当前需求中可以作为函数参数的是：1. 查询谁的邮箱；2. 查找带有特定关键词的邮件（如“公司”）；3. 要修改的邮件标签（如“紧急”）'},\n",
       "  {'role': 'assistant',\n",
       "   'content': \"请帮我编写一个python函数，查阅我邮箱里面未读邮件，从挑选有公司的邮件，并将其标签改为紧急，函数要求如下：                  1.函数参数user_id,keyword,new_label   ，三个参数都是字符串类型，其中keyword表示关键词，tnew_label表示要修改为的新标签，user_id表示要检索邮箱的用户的ID。默认值是'me'，表示当前授权的用户；                  2.函数返回结果是添加标签后的邮件列表，返回结果本身必须是一个json格式对象；                  3.请将全部功能封装在一个函数内；                  4.请在函数编写过程中，在函数内部加入中文编写的详细的函数说明文档，用于说明函数功能、函数参数情况以及函数返回结果等信息；\"}],\n",
       " 'stage2': [{'role': 'user',\n",
       "   'content': \"请帮我编写一个python函数，查阅我邮箱里面未读邮件，从挑选有公司的邮件，并将其标签改为紧急，函数要求如下：                  1.函数参数user_id,keyword,new_label   ，三个参数都是字符串类型，其中keyword表示关键词，tnew_label表示要修改为的新标签，user_id表示要检索邮箱的用户的ID。默认值是'me'，表示当前授权的用户；                  2.函数返回结果是添加标签后的邮件列表，返回结果本身必须是一个json格式对象；                  3.请将全部功能封装在一个函数内；                  4.请在函数编写过程中，在函数内部加入中文编写的详细的函数说明文档，用于说明函数功能、函数参数情况以及函数返回结果等信息；\"},\n",
       "  {'role': 'assistant',\n",
       "   'content': 'def update_mail_label_plus(user_id=\\'me\\', keyword=\\'公司\\', new_label=\\'紧急\\'):\\n    \"\"\"\\n    查询指定用户邮箱中包含特定关键词的未读邮件，并将其标签更改为指定的值。\\n\\n    参数：\\n    user_id: 要查询的邮箱用户ID，默认值为\\'me\\'。\\n    keyword (str): 要查找的邮件内容中的关键词，默认值为“公司”。\\n    new_label (str): 要修改的邮件标签，默认值为“紧急”。\\n\\n    返回：\\n    json对象: 包含修改后的邮件信息的json格式对象。\\n    \"\"\"\\n    # 连接到MySQL数据库\\n    try:\\n        conn = mysql.connector.connect(\\n            host=\\'localhost\\',\\n            user=\\'gpt\\',\\n            passwd=\\'gpt\\',\\n            db=\\'my_mail\\'\\n        )\\n        cursor = conn.cursor()\\n\\n        # 查找包含特定关键词的未读邮件\\n        query = \"\"\"\\n        SELECT userid, from_userid, date, subject, snippet, status, label\\n        FROM mailbox\\n        WHERE userid = %s AND snippet LIKE %s AND status = \\'未读\\'\\n        \"\"\"\\n        cursor.execute(query, (user_id, \\'%\\' + keyword + \\'%\\'))\\n        emails = cursor.fetchall()\\n\\n        # 更新邮件标签\\n        update_query = \"\"\"\\n        UPDATE mailbox\\n        SET label = %s\\n        WHERE userid = %s AND snippet LIKE %s AND status = \\'未读\\'\\n        \"\"\"\\n        cursor.execute(update_query, (new_label, user_id, \\'%\\' + keyword + \\'%\\'))\\n        conn.commit()\\n\\n        # 构造返回结果\\n        email_list = []\\n        for email in emails:\\n            email_dict = {\\n                \\'userid\\': email[0],\\n                \\'from_userid\\': email[1],\\n                \\'date\\': email[2],\\n                \\'subject\\': email[3],\\n                \\'snippet\\': email[4],\\n                \\'status\\': email[5],\\n                \\'label\\': new_label  # 更新后的标签\\n            }\\n            email_list.append(email_dict)\\n\\n        return json.dumps(email_list, ensure_ascii=False)\\n    \\n    except mysql.connector.Error as err:\\n        print(f\"数据库操作出错: {err}\")\\n        return json.dumps({\\'error\\': str(err)}, ensure_ascii=False)\\n    \\n    finally:\\n        # 关闭数据库连接\\n        if cursor:\\n            cursor.close()\\n        if conn:\\n            conn.close()\\n\\n# 示例使用\\nresult = update_mail_label(user_id=\\'me\\', keyword=\\'公司\\', new_label=\\'紧急\\')\\nprint(result)\\n'}]}"
      ]
     },
     "execution_count": 80,
     "metadata": {},
     "output_type": "execute_result"
    }
   ],
   "source": [
    "data"
   ]
  },
  {
   "cell_type": "markdown",
   "id": "a30fd266-d41b-48c6-83e0-56b2f74cca6c",
   "metadata": {},
   "source": [
    "我们用这个数据去修改《复杂任务推理链》"
   ]
  },
  {
   "cell_type": "markdown",
   "id": "cd6f4194-efe4-421c-9412-18257dee892a",
   "metadata": {},
   "source": [
    "重新优化prompt_modified方法"
   ]
  },
  {
   "cell_type": "code",
   "execution_count": 33,
   "id": "88a98389-7708-435c-a301-fe226ec7178f",
   "metadata": {
    "tags": []
   },
   "outputs": [],
   "source": [
    "def prompt_modified(function_name, system_content='复杂任务推理链.md', model=\"glm-4\", g=globals(), system_messages=None):\n",
    "    \"\"\"\n",
    "    邮箱项目的外部函数审查函数，用于审查外部函数创建流程提示是否正确以及最终创建的代码是否正确\n",
    "    :param function_name: 必要参数，字符串类型，表示审查对象名称；\n",
    "    :param system_content: 可选参数，默认取值为字符串推理链修改.md，表示此时审查函数外部挂载文档名称，需要是markdwon格式文档；\n",
    "    :param model: 可选参数，表示调用的Chat模型，默认选取gpt-4；\n",
    "    :param g: 可选参数，表示extract_function_code函数作用域，默认为globals()，即在当前操作空间全域内生效；\n",
    "    :param system_messages: 可选参数，默认取值为None，此时读取本地system_messages.json作为系统信息，也可以自定义；\n",
    "    :return：审查结束后新创建的函数名称\n",
    "    \"\"\"\n",
    "    print(\"正在执行审查函数，审查对象：%s\" % function_name)\n",
    "    \n",
    "    if system_messages != None:\n",
    "        system_content='复杂任务推理链.md'\n",
    "        \n",
    "    with open(system_content, 'r', encoding='utf-8') as f:\n",
    "        md_content = f.read()  \n",
    "        \n",
    "    # 读取原函数全部提示内容\n",
    "    with open('./functions/untested functions/%s/%s_prompt.json' % (function_name, function_name), 'r') as f:\n",
    "        msg = json.load(f)\n",
    "    \n",
    "    # 将其保存为字符串\n",
    "    msg_str = json.dumps(msg)\n",
    "    \n",
    "    # 进行审查\n",
    "    response = client.chat.completions.create(\n",
    "                    model=model,\n",
    "                    messages=[\n",
    "                    {\"role\": \"system\", \"content\": md_content},\n",
    "                    {\"role\": \"user\", \"content\": '以下是一个错误的邮件的推理链，请你按照要求对其进行修改：%s' % msg_str}\n",
    "                    ]\n",
    "                )\n",
    "    \n",
    "    modified_result = response.choices[0].message.content\n",
    "    \n",
    "    def extract_json(s):\n",
    "        pattern = r'```[jJ][sS][oO][nN]\\s*({.*?})\\s*```'\n",
    "        match = re.search(pattern, s, re.DOTALL)\n",
    "        if match:\n",
    "            return match.group(1)\n",
    "        else:\n",
    "            return s\n",
    "    \n",
    "    modified_json = extract_json(modified_result)\n",
    "    \n",
    "    # 提取函数源码\n",
    "    code = json.loads(modified_json)['stage2'][1]['content']\n",
    "    \n",
    "    # 提取函数名\n",
    "    match = re.search(r'def (\\w+)', code)\n",
    "    function_name = match.group(1)\n",
    "    \n",
    "    print(\"审查结束，新的函数名称为：%s。\\n正在运行该函数定义过程，并保存函数源码与prompt\" % function_name)\n",
    "    \n",
    "    exec(code, g)\n",
    "    \n",
    "    # 在untested文件夹内创建函数同名文件夹\n",
    "    directory = './functions/untested functions/%s' % function_name\n",
    "    if not os.path.exists(directory):\n",
    "        os.makedirs(directory)\n",
    "        \n",
    "    # 写入函数\n",
    "    with open('./functions/untested functions/%s/%s_module.py' % (function_name, function_name), 'w', encoding='utf-8') as f:\n",
    "        f.write(code)\n",
    "        \n",
    "    # 写入提示\n",
    "    with open('./functions/untested functions/%s/%s_prompt.json' % (function_name, function_name), 'w') as f:\n",
    "        json.dump(json.loads(modified_json), f)\n",
    "    \n",
    "    print('新函数提示示例保存在./functions/untested functions/%s/%s_prompt.json文件中' % (function_name, function_name))\n",
    "    print(\"%s函数已在当前操作空间定义，可以进行效果测试\" % function_name)\n",
    "    \n",
    "    return function_name"
   ]
  },
  {
   "cell_type": "markdown",
   "id": "48af7418-5231-4b06-a39d-d5d2c88eaabd",
   "metadata": {},
   "source": [
    "&emsp;&emsp;据此，我们就可以进一步围绕function_test函数进行修改。该函数的修改过程并不复杂，核心是需要将审查过程所涉及的一系列的函数（包括自己）添加一个system_messages的参数，同样，默认情况下取值为None，其他时候该参数的取值将输入到code_genetate和prompt_modified函数中："
   ]
  },
  {
   "cell_type": "code",
   "execution_count": 81,
   "id": "6e55225d-58b5-4bad-baa3-a3fcbcabc04f",
   "metadata": {
    "tags": []
   },
   "outputs": [],
   "source": [
    "def function_test(function_name, req, few_shot, model=\"glm-4\", g=globals(), system_messages=None):\n",
    "\n",
    "    def test_messages(ueser_content):\n",
    "        messages = [{\"role\": \"system\", \"content\": \"我的邮箱号是me\"},\n",
    "                    {\"role\": \"user\", \"content\": ueser_content}]\n",
    "        return messages\n",
    "            \n",
    "    messages = test_messages(req)\n",
    "    \n",
    "    new_function = globals()[function_name]\n",
    "    functions_list = [new_function]\n",
    "    \n",
    "    print(\"根据既定用户需求req进行%s函数功能测试，请确保当该函数已经在当前操作空间定义...\" % function_name)\n",
    "    \n",
    "    # 有可能在run_conversation环节报错\n",
    "    # 若没报错，则运行：\n",
    "    try:\n",
    "        final_response = run_conversation(messages=messages, functions_list=functions_list, model=model)\n",
    "        print(\"当前函数运行结果：'%s'\" % final_response)\n",
    "        \n",
    "        feedback = input(\"函数功能是否满足要求 (yes/no)? \")\n",
    "        if feedback.lower() == 'yes':\n",
    "            print(\"函数功能通过测试，正在将函数写入tested文件夹\")\n",
    "            remove_to_tested(function_name)\n",
    "            print('done')\n",
    "        else:\n",
    "            next_step = input(\"函数功能未通过测试，是1.需要再次进行测试，还是2.进入debug流程？\")\n",
    "            if next_step == '1':\n",
    "                print(\"准备再次测试...\")\n",
    "                function_test(function_name=function_name, req=req, few_shot=few_shot, g=g, system_messages=system_messages)\n",
    "            else:\n",
    "                solution = input(\"请选择debug方案：\\n1.再次执行函数创建流程，并测试结果；\\n2.执行审查函数\\\n",
    "                \\n3.重新输入用户需求；\\n4.退出程序，进行手动尝试\")\n",
    "                if solution == '1':\n",
    "                    # 再次运行函数创建过程\n",
    "                    print(\"好的，正在尝试再次创建函数，请稍等...\")\n",
    "                    few_shot_str = input(\"准备再次测试，请问是1.采用此前Few-shot方案，还是2.带入全部函数示例进行Few-shot？\")\n",
    "                    if few_shot_str == '1':\n",
    "                        req_auto_func(req=req, few_shot=few_shot, model=model, g=g)\n",
    "                    else:\n",
    "                        req_auto_func(req=req, few_shot='all', model=model, g=g)\n",
    "                elif solution == '2':\n",
    "                    # 执行审查函数\n",
    "                    print(\"好的，执行审查函数，请稍等...\")\n",
    "                    function_name = prompt_modified(function_name=function_name, model=\"gpt-4\", g=g, system_messages=system_messages)\n",
    "                    # 接下来带入进行测试\n",
    "                    print(\"新函数已创建，接下来带入进行测试...\")\n",
    "                    function_test(function_name=function_name, req=req, few_shot=few_shot, g=g, system_messages=system_messages)\n",
    "                elif solution == '3':\n",
    "                    new_req = input(\"好的，请再次输入用户需求，请注意，用户需求描述方法将极大程度影响最终函数创建结果。\")\n",
    "                    few_shot_str = input(\"接下来如何运行代码创建函数？1.采用此前Few-shot方案；\\n2.使用全部外部函数作为Few-shot\")\n",
    "                    if few_shot_str == '1':\n",
    "                        req_auto_func(req=req, few_shot=few_shot, model=model, g=g)\n",
    "                    else:\n",
    "                        req_auto_func(req=req, few_shot='all', model=model, g=g)\n",
    "                elif solution == '4':\n",
    "                    print(\"好的，预祝debug顺利~\")\n",
    "        \n",
    "    # run_conversation报错时则运行：\n",
    "    except Exception as e:\n",
    "        next_step = input(\"run_conversation无法正常运行，接下来是1.再次运行运行run_conversation，还是2.进入debug流程？\")\n",
    "        if next_step == '1':\n",
    "            function_test(function_name=function_name, req=req, few_shot=few_shot, g=g, system_messages=system_messages)\n",
    "        else:\n",
    "            solution = input(\"请选择debug方案：\\n1.再次执行函数创建流程，并测试结果；\\n2.执行审查函数\\\n",
    "            \\n3.重新输入用户需求；\\n4.退出程序，进行手动尝试\")\n",
    "            if solution == '1':\n",
    "                # 再次运行函数创建过程\n",
    "                print(\"好的，正在尝试再次创建函数，请稍等...\")\n",
    "                few_shot_str = input(\"准备再次测试，请问是1.采用此前Few-shot方案，还是2.带入全部函数示例进行Few-shot？\")\n",
    "                if few_shot_str == '1':\n",
    "                    req_auto_func(req=req, few_shot=few_shot, model=model, g=g)\n",
    "                else:\n",
    "                    req_auto_func(req=req, few_shot='all', model=model, g=g)\n",
    "            elif solution == '2':\n",
    "                # 执行审查函数\n",
    "                print(\"好的，执行审查函数，请稍等...\")\n",
    "                max_attempts = 3\n",
    "                attempts = 0\n",
    "\n",
    "                while attempts < max_attempts:\n",
    "                    try:\n",
    "                        function_name = prompt_modified(function_name=function_name, model=\"gpt-3.5-turbo-16k-0613\", g=g, system_messages=system_messages)\n",
    "                        break  # 如果代码成功执行，跳出循环\n",
    "                    except Exception as e:\n",
    "                        attempts += 1  # 增加尝试次数\n",
    "                        print(\"发生错误：\", e)\n",
    "                        if attempts == max_attempts:\n",
    "                            print(\"已达到最大尝试次数，程序终止。\")\n",
    "                            raise  # 重新引发最后一个异常\n",
    "                        else:\n",
    "                            print(\"正在重新运行审查程序...\")\n",
    "                # 接下来带入进行测试\n",
    "                print(\"新函数已创建，接下来带入进行测试...\")\n",
    "                function_test(function_name=function_name, req=req, few_shot=few_shot, g=g, system_messages=system_messages)\n",
    "            elif solution == '3':\n",
    "                new_req = input(\"好的，请再次输入用户需求，请注意，用户需求描述方法将极大程度影响最终函数创建结果。\")\n",
    "                few_shot_str = input(\"接下来如何运行代码创建函数？1.采用此前Few-shot方案；\\n2.使用全部外部函数作为Few-shot\")\n",
    "                if few_shot_str == '1':\n",
    "                    req_auto_func(req=req, few_shot=few_shot, model=model, g=g)\n",
    "                else:\n",
    "                    req_auto_func(req=req, few_shot='all', model=model, g=g)\n",
    "            elif solution == '4':\n",
    "                print(\"好的，预祝debug顺利~\")"
   ]
  },
  {
   "cell_type": "markdown",
   "id": "6989537b-1e9f-4583-938d-dc2fb71a4992",
   "metadata": {},
   "source": [
    "&emsp;&emsp;至此，我们就完成了code_generate函数和function_test函数修改。当然，为了让整个自动编程流程能够更加自动，接下来我们进一步对req_auto_func函数进行修改。此时该函数不仅承担同时运行code_generate函数和function_test函数的功能，更承担着对原始任务进行拆解的功能，具体函数修改内容如下："
   ]
  },
  {
   "cell_type": "code",
   "execution_count": 77,
   "id": "b2343cc1-d845-4ba9-84ed-7b3392b03855",
   "metadata": {
    "tags": []
   },
   "outputs": [],
   "source": [
    "import time\n",
    "def req_auto_func(req, few_shot='all', model='glm-4', g=globals(), detail=0):\n",
    "    # 默认情况下system_messages = None\n",
    "    system_messages = None\n",
    "    \n",
    "    # 尝试进行任务拆解\n",
    "    try:\n",
    "        decompose_results = get_decompose_results(req=req, model=model)\n",
    "        print(\"代码能执行到这儿吗？\")\n",
    "    except Exception as e:\n",
    "        print(e)\n",
    "        print('暂停1分钟后继续调用模型')\n",
    "        #time.sleep(60)\n",
    "        decompose_results = get_decompose_results(req=req, model=model)\n",
    "        \n",
    "    # 如果只拆解得到多个任务，则创建新的基于任务拆解得到的system_message\n",
    "    if len(decompose_results) != 1:\n",
    "        print('原始需求将拆分为多个子需求并进行分段代码创建与合并')\n",
    "        # 读取原始system_message\n",
    "        with open('./functions/tested functions/system_messages.json', 'r') as f:\n",
    "            system_messages = json.load(f)\n",
    "            \n",
    "        # 用于存储全部需求的函数代码\n",
    "        sub_func_all = ''\n",
    "        # 用于存储全部需求\n",
    "        sub_req_all = ''\n",
    "        # 计数器\n",
    "        i = 0\n",
    "        \n",
    "        for sub_req in decompose_results:\n",
    "            i += 1\n",
    "            # 每个需求依次创建子函数\n",
    "            print('第%s个子需求为：%s' % (i, sub_req))\n",
    "            print('正在创建对应子函数')\n",
    "            try:\n",
    "                sub_func_name = code_generate(sub_req, few_shot=few_shot, g=g, detail=detail, model=model)\n",
    "            except Exception as e:\n",
    "                print(e)\n",
    "                print('暂停1分钟后继续调用模型')\n",
    "                time.sleep(60)\n",
    "                sub_func_name = code_generate(sub_req, few_shot=few_shot, g=g, detail=detail, model=model)\n",
    "                \n",
    "            # 读取子函数源码\n",
    "            with open('./functions/untested functions/%s/%s_module.py' % (sub_func_name, sub_func_name), encoding='utf-8') as f:\n",
    "                sub_func_str = f.read()\n",
    "            # 对子函数源码进行拼接\n",
    "            sub_func_all += sub_func_str\n",
    "            \n",
    "            # 按顺序拼接子需求\n",
    "            sub_req_all += str(i)+('.')\n",
    "            sub_req_all += sub_req            \n",
    "        \n",
    "        print('子需求对应的子函数全部创建完毕，接下来进入到原始需求函数创建过程...')\n",
    "        # 添加一个system_message\n",
    "        decompose_description = '对于当前编程需求，可以拆解为若干个子需求，也就是：%s。这些子需求的实现方式可以参考如下代码：%s' % (sub_req_all, sub_func_all)\n",
    "        system_messages['system_message'].append({'role': 'system', 'content': decompose_description})\n",
    "    \n",
    "    # 进行代码创建和代码审查\n",
    "    try:\n",
    "        function_name = code_generate(req=req, few_shot=few_shot, model=model, g=g, detail=detail, system_messages=system_messages)\n",
    "    except Exception as e:\n",
    "        print(e)\n",
    "        print('暂停1分钟后继续调用模型')\n",
    "        time.sleep(60)\n",
    "        function_name = code_generate(req=req, few_shot=few_shot, model=model, g=g, detail=detail, system_messages=system_messages)\n",
    "        \n",
    "    function_test(function_name=function_name, req=req, few_shot=few_shot, model=model, g=g, system_messages=system_messages)"
   ]
  },
  {
   "cell_type": "code",
   "execution_count": null,
   "id": "b63d136b-59ac-4b3d-b8f5-783970ae850e",
   "metadata": {},
   "outputs": [],
   "source": [
    "# GLM-4模型，GPT-4"
   ]
  },
  {
   "cell_type": "code",
   "execution_count": 88,
   "id": "cc8fd702-f8fc-41bc-8a3c-a943202c8314",
   "metadata": {
    "tags": []
   },
   "outputs": [],
   "source": [
    "req = '在我的邮箱里，查一下陆小凤给我发的邮件，并把标签改为“季度总结”'"
   ]
  },
  {
   "cell_type": "code",
   "execution_count": 89,
   "id": "5cc00b55-0acf-4041-967d-0d9560df4a4d",
   "metadata": {
    "tags": []
   },
   "outputs": [
    {
     "name": "stdout",
     "output_type": "stream",
     "text": [
      "代码能执行到这儿吗？\n",
      "原始需求将拆分为多个子需求并进行分段代码创建与合并\n",
      "第1个子需求为：请帮我查找陆小凤发给我的邮件列表。\n",
      "正在创建对应子函数\n",
      "第一阶段CD环节提示创建完毕，正在进行CD提示...\n",
      "第一阶段CD环节提示完毕\n",
      "第一阶段CM环节提示创建完毕，正在进行第一阶段CM提示...\n",
      "第一阶段CM环节提示完毕\n",
      "第二阶段提示创建完毕，正在进行第二阶段提示...\n",
      "第二阶段提示完毕，准备运行函数并编写提示示例\n",
      "The function name is:get_latest_emails\n",
      "新函数保存在./functions/untested functions/get_latest_emails/get_latest_emails_module.py文件中\n",
      "新函数提示示例保存在./functions/untested functions/get_latest_emails/get_latest_emails_prompt.json文件中\n",
      "done\n",
      "第2个子需求为：根据邮件列表，将这些邮件的标签修改为“季度总结”。\n",
      "正在创建对应子函数\n",
      "第一阶段CD环节提示创建完毕，正在进行CD提示...\n",
      "第一阶段CD环节提示完毕\n",
      "第一阶段CM环节提示创建完毕，正在进行第一阶段CM提示...\n",
      "第一阶段CM环节提示完毕\n",
      "第二阶段提示创建完毕，正在进行第二阶段提示...\n",
      "第二阶段提示完毕，准备运行函数并编写提示示例\n",
      "'NoneType' object has no attribute 'group'\n",
      "暂停1分钟后继续调用模型\n",
      "第一阶段CD环节提示创建完毕，正在进行CD提示...\n",
      "第一阶段CD环节提示完毕\n",
      "第一阶段CM环节提示创建完毕，正在进行第一阶段CM提示...\n",
      "第一阶段CM环节提示完毕\n",
      "第二阶段提示创建完毕，正在进行第二阶段提示...\n",
      "第二阶段提示完毕，准备运行函数并编写提示示例\n",
      "An error occurred while executing the code:\n",
      "local variable 'connection' referenced before assignment\n",
      "The function name is:update_email_labels\n",
      "新函数保存在./functions/untested functions/update_email_labels/update_email_labels_module.py文件中\n",
      "新函数提示示例保存在./functions/untested functions/update_email_labels/update_email_labels_prompt.json文件中\n",
      "done\n",
      "子需求对应的子函数全部创建完毕，接下来进入到原始需求函数创建过程...\n",
      "第一阶段CD环节提示创建完毕，正在进行CD提示...\n",
      "第一阶段CD环节提示完毕\n",
      "第一阶段CM环节提示创建完毕，正在进行第一阶段CM提示...\n",
      "第一阶段CM环节提示完毕\n",
      "第二阶段提示创建完毕，正在进行第二阶段提示...\n",
      "第二阶段提示完毕，准备运行函数并编写提示示例\n",
      "The function name is:query_latest_emails\n",
      "新函数保存在./functions/untested functions/query_latest_emails/query_latest_emails_module.py文件中\n",
      "新函数提示示例保存在./functions/untested functions/query_latest_emails/query_latest_emails_prompt.json文件中\n",
      "done\n",
      "根据既定用户需求req进行query_latest_emails函数功能测试，请确保当该函数已经在当前操作空间定义...\n",
      "{'query_latest_emails': <function query_latest_emails at 0x7efcd97c9a60>}\n"
     ]
    },
    {
     "name": "stdin",
     "output_type": "stream",
     "text": [
      "run_conversation无法正常运行，接下来是1.再次运行运行run_conversation，还是2.进入debug流程？ 2\n",
      "请选择debug方案：\n",
      "1.再次执行函数创建流程，并测试结果；\n",
      "2.执行审查函数            \n",
      "3.重新输入用户需求；\n",
      "4.退出程序，进行手动尝试 4\n"
     ]
    },
    {
     "name": "stdout",
     "output_type": "stream",
     "text": [
      "好的，预祝debug顺利~\n"
     ]
    }
   ],
   "source": [
    "req_auto_func(req=req)"
   ]
  },
  {
   "cell_type": "code",
   "execution_count": null,
   "id": "2e61048d-37eb-427f-a5a2-21a176b878a4",
   "metadata": {},
   "outputs": [],
   "source": []
  }
 ],
 "metadata": {
  "kernelspec": {
   "display_name": "Python 3 (ipykernel)",
   "language": "python",
   "name": "python3"
  },
  "language_info": {
   "codemirror_mode": {
    "name": "ipython",
    "version": 3
   },
   "file_extension": ".py",
   "mimetype": "text/x-python",
   "name": "python",
   "nbconvert_exporter": "python",
   "pygments_lexer": "ipython3",
   "version": "3.12.0"
  }
 },
 "nbformat": 4,
 "nbformat_minor": 5
}
