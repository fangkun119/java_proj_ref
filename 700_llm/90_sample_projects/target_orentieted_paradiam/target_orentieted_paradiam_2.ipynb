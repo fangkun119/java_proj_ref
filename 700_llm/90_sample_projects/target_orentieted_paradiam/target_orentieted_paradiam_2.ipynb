{
 "cells": [
  {
   "cell_type": "markdown",
   "id": "942aacb1-39bf-4c1c-adf9-1421a350fb90",
   "metadata": {},
   "source": [
    "# 面向目标架构案例实践(中)"
   ]
  },
  {
   "cell_type": "markdown",
   "id": "4229c81a-3ae0-46ca-ad56-d9a7fe7d7631",
   "metadata": {},
   "source": [
    "核心目标：实现从需求到代码全流程实现"
   ]
  },
  {
   "cell_type": "code",
   "execution_count": 184,
   "id": "65c5fdcc-7c76-490f-8f2c-23b9bd7d6feb",
   "metadata": {
    "tags": []
   },
   "outputs": [],
   "source": [
    "import os\n",
    "import openai\n",
    "from openai import OpenAI\n",
    "import shutil\n",
    "\n",
    "import json\n",
    "import io\n",
    "import inspect\n",
    "import requests\n",
    "import re\n",
    "import random\n",
    "import string\n",
    "\n",
    "import openai\n",
    "from openai import OpenAI\n",
    "import os\n",
    "\n",
    "## 初始化客户端\n",
    "api_key = os.getenv(\"ZHIPU_API_KEY\")\n",
    "## pip install zhipuai\n",
    "\n",
    "from zhipuai import ZhipuAI\n",
    "client = ZhipuAI(api_key=api_key)"
   ]
  },
  {
   "cell_type": "code",
   "execution_count": 105,
   "id": "6cf0a676-e6fd-4675-aca2-4937c1dd3d6a",
   "metadata": {
    "tags": []
   },
   "outputs": [],
   "source": [
    "def extract_function_code(s_python, detail=0):\n",
    "    \"\"\"\n",
    "    函数提取函数，同时执行函数内容，可以选择打印函数信息\n",
    "    \"\"\"\n",
    "    def extract_code(s_python):\n",
    "        \"\"\"\n",
    "        如果输入的字符串s是一个包含Python代码的Markdown格式字符串，提取出代码部分。\n",
    "        否则，返回原字符串。\n",
    "\n",
    "        参数:\n",
    "        s: 输入的字符串。\n",
    "\n",
    "        返回:\n",
    "        提取出的代码部分，或原字符串。\n",
    "        \"\"\"\n",
    "        # 判断字符串是否是Markdown格式\n",
    "        if '```python' in s_python or 'Python' in s_python or'PYTHON' in s_python:\n",
    "            # 找到代码块的开始和结束位置\n",
    "            code_start = s_python.find('def')\n",
    "            code_end = s_python.find('```\\n', code_start)\n",
    "            # 提取代码部分\n",
    "            code = s_python[code_start:code_end]\n",
    "        else:\n",
    "            # 如果字符串不是Markdown格式，返回原字符串\n",
    "            code = s_python\n",
    "\n",
    "        return code\n",
    "    \n",
    "    # 提取代码字符串\n",
    "    code = extract_code(s_python)\n",
    "    \n",
    "    # 提取函数名称\n",
    "    match = re.search(r'def (\\w+)', code)\n",
    "    function_name = match.group(1)\n",
    "    \n",
    "    # 将函数写入本地\n",
    "    with open('%s.py' % function_name, 'w', encoding='utf-8') as f:\n",
    "        f.write(code)\n",
    "    \n",
    "    # 执行该函数\n",
    "    try:\n",
    "        exec(code, globals())\n",
    "    except Exception as e:\n",
    "        print(\"An error occurred while executing the code:\")\n",
    "        print(e)\n",
    "    \n",
    "    # 打印函数名称\n",
    "    if detail == 0:\n",
    "        print(\"The function name is:%s\" % function_name)\n",
    "    \n",
    "    if detail == 1:\n",
    "        with open('%s.py' % function_name, encoding='utf-8') as f:\n",
    "            content = f.read()\n",
    "        print(content)"
   ]
  },
  {
   "cell_type": "markdown",
   "id": "7ea8e97a-004b-42dc-9dcf-ae65e7fd206d",
   "metadata": {
    "tags": []
   },
   "source": [
    "## 1.借助Few-shot完成需求函数的自动编写"
   ]
  },
  {
   "cell_type": "markdown",
   "id": "10bd2664-a1b6-4f13-a2d1-4d675c787a81",
   "metadata": {},
   "source": [
    "```python\n",
    "get_email_input = \"请帮我查下邮箱里最后一封邮件内容。\"\n",
    "\n",
    "get_email_out = \"请帮我编写一个python函数，用于查看我的mailbox邮箱中最后一封邮件信息，函数要求如下：\\\n",
    "                 1.函数参数userId，userId是字符串参数，默认情况下取值为'me'，表示查看我的邮件；\\\n",
    "                 2.函数返回结果是一个包含最后一封邮件信息的对象，返回结果本身必须是一个json格式对象；\\\n",
    "                 3.请将全部功能封装在一个函数内；\\\n",
    "                 4.请在函数编写过程中，在函数内部加入中文编写的详细的函数说明文档，用于说明函数功能、函数参数情况以及函数返回结果等信息；\"\n",
    "```"
   ]
  },
  {
   "cell_type": "code",
   "execution_count": 5,
   "id": "358c401e-44cf-42ba-a77d-5fa5fa8b2bff",
   "metadata": {
    "tags": []
   },
   "outputs": [],
   "source": [
    "def auto_functions(functions_list):\n",
    "    \"\"\"\n",
    "    Chat模型的functions参数编写函数\n",
    "    :param functions_list: 包含一个或者多个函数对象的列表；\n",
    "    :return：满足Chat模型functions参数要求的functions对象\n",
    "    \"\"\"\n",
    "    def functions_generate(functions_list):\n",
    "        # 创建空列表，用于保存每个函数的描述字典\n",
    "        functions = []\n",
    "        # 对每个外部函数进行循环\n",
    "        for function in functions_list:\n",
    "            # 读取函数对象的函数说明\n",
    "            function_description = inspect.getdoc(function)\n",
    "            # 读取函数的函数名字符串\n",
    "            function_name = function.__name__\n",
    "            ## one-shot\n",
    "            system_prompt1=\"\"\"输出结果必须是一个JSON格式的字典,举个例子：\n",
    "            [{'type': 'function', 'function': {'name': 'sunwukong_function', 'description': '该函数定义了数据集计算过程，接收一个数据表字符串参数，并返回一个JSON格式的Dataframe类型对象。', 'parameters': {'type': 'object', 'properties': {'data': {'type': 'string', 'description': '带入计算的数据表，用字符串进行表示'}}, 'required': ['data'], 'additionalProperties': False}}}]\n",
    "            \"\"\"\n",
    "            system_prompt2 = '以下是某的函数说明：%s,输出结果必须是一个JSON格式的字典，只输出这个字典即可，前后不需要任何前后修饰或说明的语句' % function_description\n",
    "            user_prompt = '根据这个函数的函数说明，请帮我创建一个JSON格式的字典，这个字典有如下5点要求：\\\n",
    "                           1.字典总共有三个键值对；\\\n",
    "                           2.第一个键值对的Key是字符串name，value是该函数的名字：%s，也是字符串；\\\n",
    "                           3.第二个键值对的Key是字符串description，value是该函数的函数的功能说明，也是字符串；\\\n",
    "                           4.第三个键值对的Key是字符串parameters，value是一个JSON Schema对象，用于说明该函数的参数输入规范。\\\n",
    "                           5.输出结果必须是一个JSON格式的字典，只输出这个字典即可，前后不需要任何前后修饰或说明的语句' % function_name\n",
    "\n",
    "            response = client.chat.completions.create(\n",
    "                              model=\"glm-4\",\n",
    "                              messages=[\n",
    "                                {\"role\": \"system\", \"content\": system_prompt1},\n",
    "                                {\"role\": \"system\", \"content\": system_prompt2},\n",
    "                                {\"role\": \"user\", \"content\": user_prompt}\n",
    "                              ]\n",
    "                            )\n",
    "            json_str=response.choices[0].message.content.replace(\"```json\",\"\").replace(\"```\",\"\")\n",
    "            json_function_description=json.loads(json_str)\n",
    "            json_str={\"type\": \"function\",\"function\":json_function_description}\n",
    "            functions.append(json_str)\n",
    "        return functions\n",
    "    ## 最大可以尝试4次\n",
    "    max_attempts = 4\n",
    "    attempts = 0\n",
    "\n",
    "    while attempts < max_attempts:\n",
    "        try:\n",
    "            functions = functions_generate(functions_list)\n",
    "            break  # 如果代码成功执行，跳出循环\n",
    "        except Exception as e:\n",
    "            attempts += 1  # 增加尝试次数\n",
    "            print(\"发生错误：\", e)\n",
    "            if attempts == max_attempts:\n",
    "                print(\"已达到最大尝试次数，程序终止。\")\n",
    "                raise  # 重新引发最后一个异常\n",
    "            else:\n",
    "                print(\"正在重新运行...\")\n",
    "    return functions"
   ]
  },
  {
   "cell_type": "code",
   "execution_count": 2,
   "id": "e11084a3-8119-4060-aa78-b7a983b9793b",
   "metadata": {
    "tags": []
   },
   "outputs": [],
   "source": [
    "import pymysql\n",
    "import numpy as np\n",
    "import pandas as pd\n",
    "\n",
    "def retrieve_emails(n,user_id='me'):\n",
    "    \"\"\"\n",
    "    获取指定数量的最近邮件。\n",
    "    参数:\n",
    "    n: 要检索的邮件的数量,数据格式为int类型。\n",
    "    user_id: 要检索邮件的用户的ID。默认值是'me'，数据格式为字符串类型。\n",
    "\n",
    "    返回:\n",
    "    一个列表，其中每个元素都是一个字典，表示一封邮件。每个字典包含以下键：\n",
    "    'from_userid': 发件人ID。\n",
    "    'date': 邮件的发送日期。\n",
    "    'subject': 邮件的主题。\n",
    "    'snippet': 邮件的摘要（前100个字符）。\n",
    "    \"\"\"\n",
    "    mysql_pw=\"gpt\"\n",
    "    \n",
    "    connection = pymysql.connect(\n",
    "    host='localhost',  # 数据库地址\n",
    "    user='gpt',  # 数据库用户名\n",
    "    passwd=mysql_pw,  # 数据库密码\n",
    "    db='my_mail',  # 数据库名\n",
    "    charset='utf8'  # 字符集选择utf8   \n",
    "    )\n",
    "    sql_query=f\"SELECT * FROM mailbox WHERE userid = '{user_id}' ORDER BY date DESC LIMIT {n}\";\n",
    "\n",
    "    try:\n",
    "        with connection.cursor() as cursor:\n",
    "            sql = sql_query\n",
    "            cursor.execute(sql)\n",
    "            results = cursor.fetchall()\n",
    "    finally:\n",
    "        cursor.close()\n",
    "    \n",
    "    column_names = [desc[0] for desc in cursor.description]\n",
    "\n",
    "    # 使用results和column_names创建DataFrame\n",
    "    df = pd.DataFrame(results, columns=column_names)\n",
    "        \n",
    "    return df.to_json(orient = \"records\")     "
   ]
  },
  {
   "cell_type": "code",
   "execution_count": 3,
   "id": "6e5bf300-74dc-4506-b401-fbccbdc164a4",
   "metadata": {
    "tags": []
   },
   "outputs": [],
   "source": [
    "def get_latest_email(userId):\n",
    "    \"\"\"\n",
    "    获取最新的一封邮件\n",
    "    参数:\n",
    "    user_id: 要检索邮件的用户的ID。默认值是'me'，数据格式为字符串类型。\n",
    "\n",
    "    返回:\n",
    "    一个列表，其中每个元素都是一个字典，表示一封邮件。每个字典包含以下键：\n",
    "    'from_userid': 发件人ID。\n",
    "    'date': 邮件的发送日期。\n",
    "    'subject': 邮件的主题。\n",
    "    'snippet': 邮件的摘要（前100个字符）。\n",
    "    \"\"\"\n",
    "    mysql_pw=\"gpt\"\n",
    "    \n",
    "    connection = pymysql.connect(\n",
    "    host='localhost',  # 数据库地址\n",
    "    user='gpt',  # 数据库用户名\n",
    "    passwd=mysql_pw,  # 数据库密码\n",
    "    db='my_mail',  # 数据库名\n",
    "    charset='utf8'  # 字符集选择utf8   \n",
    "    )\n",
    "    sql_query=f\"SELECT * FROM mailbox WHERE userid = '{user_id}' ORDER BY date DESC LIMIT 1\";\n",
    "\n",
    "    try:\n",
    "        with connection.cursor() as cursor:\n",
    "            sql = sql_query\n",
    "            cursor.execute(sql)\n",
    "            results = cursor.fetchall()\n",
    "    finally:\n",
    "        cursor.close()\n",
    "    \n",
    "    column_names = [desc[0] for desc in cursor.description]\n",
    "\n",
    "    # 使用results和column_names创建DataFrame\n",
    "    df = pd.DataFrame(results, columns=column_names)\n",
    "        \n",
    "    return df.to_json(orient = \"records\")  "
   ]
  },
  {
   "cell_type": "code",
   "execution_count": 4,
   "id": "f599ae70-8ca6-47c3-acaa-ac3751ae98a6",
   "metadata": {
    "tags": []
   },
   "outputs": [],
   "source": [
    "def get_email_count(userId='me'):\n",
    "    \"\"\"\n",
    "    获取指定用户邮箱中的邮件总数。\n",
    "\n",
    "    参数:\n",
    "    userId: 要查询的用户的ID。默认值是'me'，数据格式为字符串类型。\n",
    "\n",
    "    返回:\n",
    "    一个JSON格式对象，包含一个键值对，键为'count'，值为邮件总数。\n",
    "\n",
    "    示例:\n",
    "    {\n",
    "        \"count\": 123\n",
    "    }\n",
    "    \"\"\"\n",
    "\n",
    "    # 数据库连接配置\n",
    "    config = {\n",
    "        'host': 'localhost',\n",
    "        'user': 'gpt',\n",
    "        'passwd': 'gpt',\n",
    "        'db': 'my_mail',\n",
    "        'charset': 'utf8'\n",
    "    }\n",
    "\n",
    "    # 建立数据库连接\n",
    "    try:\n",
    "        connection = pymysql.connect(**config)\n",
    "        with connection.cursor() as cursor:\n",
    "            # 查询邮件总数\n",
    "            sql = f\"SELECT COUNT(*) FROM mailbox WHERE userid = '{userId}'\"\n",
    "            cursor.execute(sql)\n",
    "            result = cursor.fetchone()\n",
    "            email_count = result[0] if result else 0\n",
    "\n",
    "            # 将结果转换为JSON格式\n",
    "            return json.dumps({'count': email_count})\n",
    "    except pymysql.MySQLError as e:\n",
    "        print(f\"数据库操作出错: {e}\")\n",
    "        return json.dumps({'error': str(e)})\n",
    "    finally:\n",
    "        if connection:\n",
    "            connection.close()\n",
    "\n",
    "# 示例调用\n",
    "# print(get_email_count('me'))"
   ]
  },
  {
   "cell_type": "code",
   "execution_count": 35,
   "id": "c0629e84-4a7a-4ee9-8b58-b305402af9a9",
   "metadata": {
    "tags": []
   },
   "outputs": [],
   "source": [
    "functions_list = [get_latest_email, retrieve_emails,get_email_count]"
   ]
  },
  {
   "cell_type": "code",
   "execution_count": 36,
   "id": "bca90df7-e795-43a7-ab9e-7753afe12a82",
   "metadata": {
    "tags": []
   },
   "outputs": [],
   "source": [
    "functions = auto_functions(functions_list)"
   ]
  },
  {
   "cell_type": "code",
   "execution_count": 25,
   "id": "31f9c376-44af-4f91-8520-17f88d41eb43",
   "metadata": {
    "tags": []
   },
   "outputs": [],
   "source": [
    "messages = [{\"role\": \"user\", \"content\": '请帮我看一下邮箱里是否有来自陆小凤的未读邮件，如果有的话请帮我解读下邮件内容。'}]"
   ]
  },
  {
   "cell_type": "code",
   "execution_count": 37,
   "id": "db63f46a-4953-4336-96ef-7ac9feaefb99",
   "metadata": {
    "tags": []
   },
   "outputs": [],
   "source": [
    "response = client.chat.completions.create(\n",
    "                        model=\"glm-4\",\n",
    "                        messages=messages,\n",
    "                        tools=functions,\n",
    "                        tool_choice=\"auto\"\n",
    "                        )\n"
   ]
  },
  {
   "cell_type": "code",
   "execution_count": 38,
   "id": "1e497832-ee30-4f72-b86d-344a4a64c5a5",
   "metadata": {
    "tags": []
   },
   "outputs": [
    {
     "data": {
      "text/plain": [
       "Completion(model='glm-4', created=1717670757, choices=[CompletionChoice(index=0, finish_reason='tool_calls', message=CompletionMessage(content=None, role='assistant', tool_calls=[CompletionMessageToolCall(id='call_8726257747458047499', function=Function(arguments='{\"user_id\":\"me\"}', name='get_latest_email'), type='function', index=0)]))], request_id='8726257747458047499', id='8726257747458047499', usage=CompletionUsage(prompt_tokens=367, completion_tokens=16, total_tokens=383))"
      ]
     },
     "execution_count": 38,
     "metadata": {},
     "output_type": "execute_result"
    }
   ],
   "source": [
    "response"
   ]
  },
  {
   "cell_type": "markdown",
   "id": "e36c98ef-acef-4db2-9f7e-5f715e250b25",
   "metadata": {},
   "source": [
    "我们发现虽然它识别出来需要调用get_latest_email函数，但是其实调用这个函数是解决不了问题的，或者说目前的这些API都支持不了解决这个问题。\n",
    "需要我们去开发新的API去解决问题。"
   ]
  },
  {
   "cell_type": "markdown",
   "id": "4d68e15f-4434-4589-b56d-f67c4acb67cf",
   "metadata": {},
   "source": [
    "接下来我们尝试一下，如果让大模型帮我们从需求到代码全流程实现。"
   ]
  },
  {
   "cell_type": "markdown",
   "id": "eca61f63-ede6-44bd-a987-8ab4358d98e3",
   "metadata": {},
   "source": [
    "为了更加自动的完成这个新增功能的实现过程，我们需要一个提示流程，让Chat模型自行编写用于提示大语言模型创建外部函数的提示词，即我们需要编写一个用于创建提示词的提示词："
   ]
  },
  {
   "cell_type": "code",
   "execution_count": 39,
   "id": "03c2ce1c-fdbd-4cf3-889f-6b456994ee98",
   "metadata": {
    "tags": []
   },
   "outputs": [],
   "source": [
    "get_email_input = \"请帮我查下邮箱里最后一封邮件内容。\"\n",
    "\n",
    "get_email_out = \"请帮我编写一个python函数，用于查看我的mailbox邮箱中最后一封邮件信息，函数要求如下：\\\n",
    "                 1.函数参数userId，userId是字符串参数，默认情况下取值为'me'，表示查看我的邮件；\\\n",
    "                 2.函数返回结果是一个包含最后一封邮件信息的对象，返回结果本身必须是一个json格式对象；\\\n",
    "                 3.请将全部功能封装在一个函数内；\\\n",
    "                 4.请在函数编写过程中，在函数内部加入中文编写的详细的函数说明文档，用于说明函数功能、函数参数情况以及函数返回结果等信息；\"\n",
    "\n",
    "email_counts_input = \"请帮我查下邮箱里现在总共有多少封邮件。\"\n",
    "\n",
    "email_counts_out = \"请帮我编写一个python函数，用于查看我的mailbox邮箱中总共有多少封邮件，函数要求如下：\\\n",
    "                    1.函数参数userId，userId是字符串参数，默认情况下取值为'me'，表示查看我的邮件；\\\n",
    "                    2.函数返回结果是当前邮件总数，返回结果本身必须是一个json格式对象；\\\n",
    "                    3.请将全部功能封装在一个函数内；\\\n",
    "                    4.请在函数编写过程中，在函数内部加入中文编写的详细的函数说明文档，用于说明函数功能、函数参数情况以及函数返回结果等信息；\""
   ]
  },
  {
   "cell_type": "code",
   "execution_count": 367,
   "id": "c26f7317-b04f-49b2-8e30-04d1464e42da",
   "metadata": {
    "tags": []
   },
   "outputs": [
    {
     "data": {
      "text/plain": [
       "'# my_mail数据字典：my_mail数据库数据字典\\n\\n本数据字典记录了my_mail数据库中各张数据表的基本情况。\\n我的my_mail中\\nhost=\\'localhost\\',\\nuser=\\'gpt\\',\\npasswd=\"gpt\",\\ndb=\\'my_mail\\'\\n\\n## 1.mailbox数据表\\n\\n- 基本解释\\n\\n  \\u200b\\t\\tmailbox数据表记录了邮箱里的信息，包含收件人，发件人，发件时间，邮件主题，邮件内容，邮件状态，邮件标签等。\\n\\n- 数据来源\\n\\n  \\u200b\\tmailbox数据集由系统记录，并且校验过相关信息，数据集的准确性和可信度都非常高。\\n\\n- 各字段说明\\n\\n| Column Name | Description | Value Range | Value Explanation | Type |\\n|-------------|-------------|-------------|-------------------|------|\\n| userid | 收件人 |              | 由字符串组成的 | VARCHAR(255) |\\n| from_userid | 发件人 |  | 由字符串组成 | VARCHAR(255) |\\n| date | 发邮件的时间 |  | 日期格式  | VARCHAR(255) |\\n| subject | 邮件主题 |  | 由字符串组成 | VARCHAR(255) |\\n| snippet | 邮件内容 | | 由字符串组成 | VARCHAR(255) |\\n| status | 邮件状态 | 已读，未读 | 已读，未读 | VARCHAR(255) |\\n| label | 邮件标签 |  | 由字符串组成| VARCHAR(255) |\\n\\n- 举个例子：\\n| userid | from_userid | date | subject | snippet |status|label|\\n|-------------|-------------|-------------|-------------------|------|--|--|\\n| me | 陆小凤| 2024-07-07|2024年Q2规划|您好，我是陆小凤|未读|开会|\\n\\n如上表格数据代表的业务逻辑是：陆小凤给me发了一封邮件，邮件的主题是Q2规划，该邮件是未读状态。'"
      ]
     },
     "execution_count": 367,
     "metadata": {},
     "output_type": "execute_result"
    }
   ],
   "source": [
    "# 打开并读取Markdown文件\n",
    "with open('/root/autodl-tmp/面向目标架构落地/data/my_mail数据字典.md', 'r', encoding='utf-8') as f:\n",
    "    md_content = f.read()\n",
    "    \n",
    "md_content"
   ]
  },
  {
   "cell_type": "code",
   "execution_count": 84,
   "id": "f7f091b0-bae9-4359-b12c-ad189ac70db6",
   "metadata": {
    "tags": []
   },
   "outputs": [
    {
     "data": {
      "text/plain": [
       "[{'role': 'system',\n",
       "  'content': \"最后输出的是一个说明，举个例子，输出格式如下：请帮我编写一个python函数，用于查看我的mailbox邮箱中总共有多少封邮件，函数要求如下：                    1.函数参数userId，userId是字符串参数，默认情况下取值为'me'，表示查看我的邮件；                    2.函数返回结果是当前邮件总数，返回结果本身必须是一个json格式对象；                    3.请将全部功能封装在一个函数内；                    4.请在函数编写过程中，在函数内部加入中文编写的详细的函数说明文档，用于说明函数功能、函数参数情况以及函数返回结果等信息；\"},\n",
       " {'role': 'system', 'content': '请模仿下列对话给出的风格，基于我的问题，把我的问题转换成一个说明。注意：不需要有额外输出'},\n",
       " {'role': 'user', 'name': 'example1_user', 'content': '请帮我查下邮箱里最后一封邮件内容。'},\n",
       " {'role': 'assistant',\n",
       "  'name': 'example1_assistant',\n",
       "  'content': \"请帮我编写一个python函数，用于查看我的mailbox邮箱中最后一封邮件信息，函数要求如下：                 1.函数参数userId，userId是字符串参数，默认情况下取值为'me'，表示查看我的邮件；                 2.函数返回结果是一个包含最后一封邮件信息的对象，返回结果本身必须是一个json格式对象；                 3.请将全部功能封装在一个函数内；                 4.请在函数编写过程中，在函数内部加入中文编写的详细的函数说明文档，用于说明函数功能、函数参数情况以及函数返回结果等信息；\"},\n",
       " {'role': 'user', 'name': 'example2_user', 'content': '请帮我查下邮箱里现在总共有多少封邮件。'},\n",
       " {'role': 'assistant',\n",
       "  'name': 'example2_assistant',\n",
       "  'content': \"请帮我编写一个python函数，用于查看我的mailbox邮箱中总共有多少封邮件，函数要求如下：                    1.函数参数userId，userId是字符串参数，默认情况下取值为'me'，表示查看我的邮件；                    2.函数返回结果是当前邮件总数，返回结果本身必须是一个json格式对象；                    3.请将全部功能封装在一个函数内；                    4.请在函数编写过程中，在函数内部加入中文编写的详细的函数说明文档，用于说明函数功能、函数参数情况以及函数返回结果等信息；\"},\n",
       " {'role': 'user',\n",
       "  'name': 'example_user',\n",
       "  'content': '请查下我的邮箱里是否有来陆小凤的未读邮件，并解读最近一封未读邮件的内容'}]"
      ]
     },
     "execution_count": 84,
     "metadata": {},
     "output_type": "execute_result"
    }
   ],
   "source": [
    "user_content = \"请查下我的邮箱里是否有来陆小凤的未读邮件，并解读最近一封未读邮件的内容\"\n",
    "# {\"role\": \"system\", \"content\": md_content},\n",
    "# one-shot  few-shot\n",
    "\n",
    "messages_fewShot_stage1 = [{\"role\": \"system\", \"content\": f\"最后输出的是一个说明，举个例子，输出格式如下：{email_counts_out}\"},\n",
    "                           {\"role\": \"system\", \"content\": \"请模仿下列对话给出的风格，基于我的问题，把我的问题转换成一个说明。注意：不需要有额外输出\"},\n",
    "                          {\"role\": \"user\", \"name\":\"example1_user\", \"content\": get_email_input},\n",
    "                          {\"role\": \"assistant\", \"name\":\"example1_assistant\", \"content\": get_email_out},\n",
    "                          {\"role\": \"user\", \"name\":\"example2_user\", \"content\": email_counts_input},\n",
    "                          {\"role\": \"assistant\", \"name\":\"example2_assistant\", \"content\": email_counts_out},\n",
    "                          {\"role\": \"user\", \"name\":\"example_user\", \"content\": user_content}]\n",
    "messages_fewShot_stage1"
   ]
  },
  {
   "cell_type": "code",
   "execution_count": 116,
   "id": "38b1bfe5-25c5-404e-bfc5-4d0ad348bc6b",
   "metadata": {
    "tags": []
   },
   "outputs": [],
   "source": [
    "response = client.chat.completions.create(\n",
    "                        model=\"glm-4\",\n",
    "                        messages=messages_fewShot_stage1)\n",
    "\n",
    "stage1_content = response.choices[0].message.content"
   ]
  },
  {
   "cell_type": "code",
   "execution_count": 117,
   "id": "41ae0ccd-d412-4c5a-bc3e-a872f3a85f62",
   "metadata": {
    "tags": []
   },
   "outputs": [
    {
     "name": "stdout",
     "output_type": "stream",
     "text": [
      "请编写以下Python函数，以满足查询邮箱中特定发件人的未读邮件数量，并返回最近一封未读邮件的内容。函数要求如下：\n",
      "\n",
      "1. 函数名为`check_mailbox_for_specific_sender`。\n",
      "2. 函数参数`userId`，默认值为字符串`'me'`，表示检查当前用户的邮箱。\n",
      "3. 函数参数`sender`，字符串类型，用于指定要检查的特定发件人邮箱地址。\n",
      "4. 函数返回一个JSON格式的对象，包含以下信息：\n",
      "   - `unread_count`：特定发件人的未读邮件数量。\n",
      "   - `latest_unread_content`（如果存在未读邮件）：最近一封未读邮件的内容。\n",
      "5. 请在函数内部添加中文编写的详细函数说明文档，说明函数的功能、参数和返回结果。\n",
      "\n",
      "以下是对函数说明文档风格的示例：\n",
      "\n",
      "```python\n",
      "def check_mailbox_for_specific_sender(userId='me', sender=None):\n",
      "    \"\"\"\n",
      "    检查指定发件人的未读邮件数量，并返回最近一封未读邮件的内容。\n",
      "\n",
      "    :param userId: 字符串，表示邮箱账户ID，默认为'me'，即当前用户。\n",
      "    :param sender: 字符串，指定要检查的特定发件人的邮箱地址。\n",
      "    :return: JSON对象，包含未读邮件数量和最近一封未读邮件的内容（如果存在）。\n",
      "        {\n",
      "            \"unread_count\": int,  # 特定发件人的未读邮件数量\n",
      "            \"latest_unread_content\": str or None  # 最近一封未读邮件的内容，如果没有未读邮件则为None\n",
      "        }\n",
      "\n",
      "    使用本函数可以方便地跟踪特定联系人的邮件，并快速了解最近一封邮件的内容。\n",
      "    \"\"\"\n",
      "    # 函数实现部分\n",
      "    # ...\n",
      "    pass\n",
      "```\n",
      "\n",
      "请注意，由于实际邮件服务器的访问权限和安全限制，上述函数的实现需要具体的邮件服务API支持，并且需要处理认证和权限问题。此示例仅提供了函数定义和说明文档的结构。\n"
     ]
    }
   ],
   "source": [
    "print(stage1_content)"
   ]
  },
  {
   "cell_type": "code",
   "execution_count": 98,
   "id": "d54b49a4-9078-41d1-abe9-7961691aac33",
   "metadata": {
    "tags": []
   },
   "outputs": [],
   "source": [
    "system_content = md_content"
   ]
  },
  {
   "cell_type": "code",
   "execution_count": 99,
   "id": "a3e05263-5ccc-44ce-8901-a0c49eeb518f",
   "metadata": {
    "tags": []
   },
   "outputs": [],
   "source": [
    "user_example_content = \"请帮我编写一个python函数，用于查看我的mailbox邮箱中最后一封邮件信息，函数要求如下：\\\n",
    "                        1.函数参数userId，userId是字符串参数，默认情况下取值为'me'，表示查看我的邮件；\\\n",
    "                        2.函数返回结果是一个包含最后一封邮件信息的对象，返回结果本身必须是一个json格式对象；\\\n",
    "                        3.请将全部功能封装在一个函数内；\\\n",
    "                        4.请在函数编写过程中，在函数内部加入中文编写的详细的函数说明文档，用于说明函数功能、函数参数情况以及函数返回结果等信息；\""
   ]
  },
  {
   "cell_type": "code",
   "execution_count": 95,
   "id": "8d1c5545-9f8d-42e3-ba3e-013aee63a688",
   "metadata": {
    "tags": []
   },
   "outputs": [],
   "source": [
    "function_name=\"get_latest_email\"\n",
    "with open(f'./functions/tested functions/{function_name}_module.py',encoding='utf-8') as f:\n",
    "    assistant_example_content = f.read()"
   ]
  },
  {
   "cell_type": "code",
   "execution_count": 96,
   "id": "1e8c2ad0-16ac-47a9-b6c9-71b87a0b120f",
   "metadata": {
    "tags": []
   },
   "outputs": [
    {
     "data": {
      "text/plain": [
       "'def get_latest_email(userId):\\n    \"\"\"\\n    获取最新的一封邮件\\n    参数:\\n    user_id: 要检索邮件的用户的ID。默认值是\\'me\\'，数据格式为字符串类型。\\n\\n    返回:\\n    一个列表，其中每个元素都是一个字典，表示一封邮件。每个字典包含以下键：\\n    \\'from_userid\\': 发件人ID。\\n    \\'date\\': 邮件的发送日期。\\n    \\'subject\\': 邮件的主题。\\n    \\'snippet\\': 邮件的摘要（前100个字符）。\\n    \"\"\"\\n    mysql_pw=\"gpt\"\\n    \\n    connection = pymysql.connect(\\n    host=\\'localhost\\',  # 数据库地址\\n    user=\\'gpt\\',  # 数据库用户名\\n    passwd=mysql_pw,  # 数据库密码\\n    db=\\'my_mail\\',  # 数据库名\\n    charset=\\'utf8\\'  # 字符集选择utf8   \\n    )\\n    sql_query=f\"SELECT * FROM mailbox WHERE userid = \\'{user_id}\\' ORDER BY date DESC LIMIT 1\";\\n\\n    try:\\n        with connection.cursor() as cursor:\\n            sql = sql_query\\n            cursor.execute(sql)\\n            results = cursor.fetchall()\\n    finally:\\n        cursor.close()\\n    \\n    column_names = [desc[0] for desc in cursor.description]\\n\\n    # 使用results和column_names创建DataFrame\\n    df = pd.DataFrame(results, columns=column_names)\\n        \\n    return df.to_json(orient = \"records\")  \\n'"
      ]
     },
     "execution_count": 96,
     "metadata": {},
     "output_type": "execute_result"
    }
   ],
   "source": [
    "assistant_example_content"
   ]
  },
  {
   "cell_type": "code",
   "execution_count": 118,
   "id": "d4146105-984f-46af-87a8-40540158c8b7",
   "metadata": {
    "tags": []
   },
   "outputs": [],
   "source": [
    "user_content=stage1_content\n",
    "system_content2=\"你是一个擅长写代码的智能助手，代码写完后，不需要给代码示例调用。不要有额外的输出\"\n",
    "## 节约Token，各位最好给2个以上的few-shot\n",
    "messages_fewShot_stage2 = [{\"role\": \"system\", \"content\": system_content},\n",
    "                           {\"role\": \"system\", \"content\": system_content2},\n",
    "                          {\"role\": \"user\", \"name\":\"example_user\", \"content\": user_example_content},\n",
    "                          {\"role\": \"assistant\", \"name\":\"example_assistant\", \"content\": assistant_example_content},\n",
    "                          {\"role\": \"user\", \"name\":\"example_user\", \"content\": user_content}]"
   ]
  },
  {
   "cell_type": "code",
   "execution_count": 119,
   "id": "af9e77cc-937d-48f9-abbb-c53735a1299f",
   "metadata": {
    "tags": []
   },
   "outputs": [],
   "source": [
    "response = client.chat.completions.create(\n",
    "                        model=\"glm-4\",\n",
    "                        messages=messages_fewShot_stage2)\n",
    "\n",
    "stage2_content = response.choices[0].message.content"
   ]
  },
  {
   "cell_type": "code",
   "execution_count": 122,
   "id": "cda7834e-dd3d-4cec-9303-8f60af22815f",
   "metadata": {
    "tags": []
   },
   "outputs": [
    {
     "name": "stdout",
     "output_type": "stream",
     "text": [
      "以下是按照您的要求编写的函数`check_mailbox_for_specific_sender`，它假设您已经有一个数据库连接的设置，并且可以使用SQL查询来检索邮件数据。\n",
      "\n",
      "```python\n",
      "import json\n",
      "import pymysql\n",
      "from pymysql.cursors import DictCursor\n",
      "\n",
      "def check_mailbox_for_specific_sender(userId='me', sender=None):\n",
      "    \"\"\"\n",
      "    检查指定发件人的未读邮件数量，并返回最近一封未读邮件的内容。\n",
      "\n",
      "    :param userId: 字符串，表示邮箱账户ID，默认为'me'，即当前用户。\n",
      "    :param sender: 字符串，指定要检查的特定发件人的邮箱地址。\n",
      "    :return: JSON对象，包含未读邮件数量和最近一封未读邮件的内容（如果存在）。\n",
      "        {\n",
      "            \"unread_count\": int,  # 特定发件人的未读邮件数量\n",
      "            \"latest_unread_content\": str or None  # 最近一封未读邮件的内容，如果没有未读邮件则为None\n",
      "        }\n",
      "\n",
      "    本函数通过连接到my_mail数据库，查询mailbox表来获取特定发件人的邮件信息。\n",
      "    \"\"\"\n",
      "\n",
      "    # 请确保以下变量已经定义并正确设置\n",
      "    host = 'localhost'\n",
      "    user = 'gpt'\n",
      "    password = 'gpt'\n",
      "    database = 'my_mail'\n",
      "\n",
      "    # 初始化返回值\n",
      "    result = {\n",
      "        \"unread_count\": 0,\n",
      "        \"latest_unread_content\": None\n",
      "    }\n",
      "\n",
      "    # 检查输入参数\n",
      "    if sender is None:\n",
      "        return json.dumps(result)\n",
      "\n",
      "    # 建立数据库连接\n",
      "    connection = pymysql.connect(host, user, password, database, cursorclass=DictCursor)\n",
      "    try:\n",
      "        with connection.cursor() as cursor:\n",
      "            # 查询特定发件人的未读邮件数量\n",
      "            sql_query_count = f\"\"\"\n",
      "            SELECT COUNT(*) AS unread_count\n",
      "            FROM mailbox\n",
      "            WHERE userid = %s AND from_userid = %s AND status = '未读'\n",
      "            \"\"\"\n",
      "            cursor.execute(sql_query_count, (userId, sender))\n",
      "            unread_count_data = cursor.fetchone()\n",
      "            result['unread_count'] = unread_count_data['unread_count']\n",
      "\n",
      "            # 如果存在未读邮件，查询最近一封未读邮件的内容\n",
      "            if result['unread_count'] > 0:\n",
      "                sql_query_latest = f\"\"\"\n",
      "                SELECT *\n",
      "                FROM mailbox\n",
      "                WHERE userid = %s AND from_userid = %s AND status = '未读'\n",
      "                ORDER BY date DESC\n",
      "                LIMIT 1\n",
      "                \"\"\"\n",
      "                cursor.execute(sql_query_latest, (userId, sender))\n",
      "                latest_unread_email = cursor.fetchone()\n",
      "                # 这里只取邮件内容，可以根据需求调整\n",
      "                result['latest_unread_content'] = latest_unread_email['snippet']\n",
      "\n",
      "    finally:\n",
      "        connection.close()\n",
      "\n",
      "    return json.dumps(result)\n",
      "\n",
      "# 调用函数示例\n",
      "# print(check_mailbox_for_specific_sender(userId='me', sender='sender@example.com'))\n",
      "```\n",
      "\n",
      "请注意，上面的代码示例使用了`pymysql`库来与MySQL数据库交互，并假设了数据库连接的参数。在实际使用中，您需要确保这些参数是正确的，并且安全地处理数据库的连接和查询。此外，上面的代码中`%s`是SQL的占位符，用于防止SQL注入攻击，`cursorclass=DictCursor`允许我们以字典的形式获取查询结果。\n",
      "\n",
      "在您的实际应用中，可能还需要考虑异常处理、密码加密存储、以及如何将数据库操作与业务逻辑分离等问题。\n"
     ]
    }
   ],
   "source": [
    "print(stage2_content)"
   ]
  },
  {
   "cell_type": "markdown",
   "id": "75a3e94b-fcf2-4d8c-a618-212b9a958035",
   "metadata": {},
   "source": [
    "提取本地代码"
   ]
  },
  {
   "cell_type": "code",
   "execution_count": 123,
   "id": "771f174f-3df2-4eff-9fe4-5c6a2eb86950",
   "metadata": {
    "tags": []
   },
   "outputs": [
    {
     "name": "stdout",
     "output_type": "stream",
     "text": [
      "def check_mailbox_for_specific_sender(userId='me', sender=None):\n",
      "    \"\"\"\n",
      "    检查指定发件人的未读邮件数量，并返回最近一封未读邮件的内容。\n",
      "\n",
      "    :param userId: 字符串，表示邮箱账户ID，默认为'me'，即当前用户。\n",
      "    :param sender: 字符串，指定要检查的特定发件人的邮箱地址。\n",
      "    :return: JSON对象，包含未读邮件数量和最近一封未读邮件的内容（如果存在）。\n",
      "        {\n",
      "            \"unread_count\": int,  # 特定发件人的未读邮件数量\n",
      "            \"latest_unread_content\": str or None  # 最近一封未读邮件的内容，如果没有未读邮件则为None\n",
      "        }\n",
      "\n",
      "    本函数通过连接到my_mail数据库，查询mailbox表来获取特定发件人的邮件信息。\n",
      "    \"\"\"\n",
      "\n",
      "    # 请确保以下变量已经定义并正确设置\n",
      "    host = 'localhost'\n",
      "    user = 'gpt'\n",
      "    password = 'gpt'\n",
      "    database = 'my_mail'\n",
      "\n",
      "    # 初始化返回值\n",
      "    result = {\n",
      "        \"unread_count\": 0,\n",
      "        \"latest_unread_content\": None\n",
      "    }\n",
      "\n",
      "    # 检查输入参数\n",
      "    if sender is None:\n",
      "        return json.dumps(result)\n",
      "\n",
      "    # 建立数据库连接\n",
      "    connection = pymysql.connect(host, user, password, database, cursorclass=DictCursor)\n",
      "    try:\n",
      "        with connection.cursor() as cursor:\n",
      "            # 查询特定发件人的未读邮件数量\n",
      "            sql_query_count = f\"\"\"\n",
      "            SELECT COUNT(*) AS unread_count\n",
      "            FROM mailbox\n",
      "            WHERE userid = %s AND from_userid = %s AND status = '未读'\n",
      "            \"\"\"\n",
      "            cursor.execute(sql_query_count, (userId, sender))\n",
      "            unread_count_data = cursor.fetchone()\n",
      "            result['unread_count'] = unread_count_data['unread_count']\n",
      "\n",
      "            # 如果存在未读邮件，查询最近一封未读邮件的内容\n",
      "            if result['unread_count'] > 0:\n",
      "                sql_query_latest = f\"\"\"\n",
      "                SELECT *\n",
      "                FROM mailbox\n",
      "                WHERE userid = %s AND from_userid = %s AND status = '未读'\n",
      "                ORDER BY date DESC\n",
      "                LIMIT 1\n",
      "                \"\"\"\n",
      "                cursor.execute(sql_query_latest, (userId, sender))\n",
      "                latest_unread_email = cursor.fetchone()\n",
      "                # 这里只取邮件内容，可以根据需求调整\n",
      "                result['latest_unread_content'] = latest_unread_email['snippet']\n",
      "\n",
      "    finally:\n",
      "        connection.close()\n",
      "\n",
      "    return json.dumps(result)\n",
      "\n",
      "# 调用函数示例\n",
      "# print(check_mailbox_for_specific_sender(userId='me', sender='sender@example.com'))\n",
      "\n"
     ]
    }
   ],
   "source": [
    "extract_function_code(stage2_content, detail=1)"
   ]
  },
  {
   "cell_type": "markdown",
   "id": "fc8abfab-a95c-4f05-b944-ccd5a23616f1",
   "metadata": {},
   "source": [
    "我们使用的这个模型能力比较强，且我们的场景只需要一条SQL语句就解决了，所以大模型生成了正确的代码。\n",
    "但是如果把给需求给到能力弱一点的模型，或者是不是一个SQL就能解决的场景，代码很有可能就会写错。\n",
    "我们的需求是：请帮我看一下邮箱里是否有来自陆小凤的未读邮件，如果有的话请帮我解读下邮件内容。\n",
    "这个需要类比的场景的是，我们干一个事，需要多个步骤，多个参数才能干成。\n",
    "我们这个函数的核心就是让大模型知道需要传进来2个参数才行，一个参数用来决定查谁的邮箱，一个参数用来查询和谁通信。\n",
    "所以面对类似稍微复杂一点的需求，我们要想稳定的结果，可以再使用LtM提示流程完成更稳定的函数编写"
   ]
  },
  {
   "cell_type": "markdown",
   "id": "b1bbcfb0-c017-4e17-9dd5-cbcaf003cf67",
   "metadata": {},
   "source": [
    "## 2.借助LtM提示流程完成更稳定的函数编写"
   ]
  },
  {
   "cell_type": "markdown",
   "id": "4b10af37-a0e7-4406-b630-765b9dee3d87",
   "metadata": {},
   "source": [
    "```python\n",
    "get_email_input = \"请帮我查下邮箱里最后一封邮件内容。\"\n",
    "\n",
    "get_email_out = \"请帮我编写一个python函数，用于查看我的mailbox邮箱中最后一封邮件信息，函数要求如下：\\\n",
    "                 1.函数参数userId，userId是字符串参数，默认情况下取值为'me'，表示查看我的邮件；\\\n",
    "                 2.函数返回结果是一个包含最后一封邮件信息的对象，返回结果本身必须是一个json格式对象；\\\n",
    "                 3.请将全部功能封装在一个函数内；\\\n",
    "                 4.请在函数编写过程中，在函数内部加入中文编写的详细的函数说明文档，用于说明函数功能、函数参数情况以及函数返回结果等信息；\"\n",
    "```"
   ]
  },
  {
   "cell_type": "code",
   "execution_count": null,
   "id": "af8a37f6-deff-4ef2-9ecf-9d9f00eabc39",
   "metadata": {},
   "outputs": [],
   "source": [
    "user_content = \"请查下我的邮箱里是否有来陆小凤的未读邮件，并解读最近一封未读邮件的内容\""
   ]
  },
  {
   "cell_type": "markdown",
   "id": "30135bb2-7e66-4e63-82a3-609cd1afc8ed",
   "metadata": {},
   "source": [
    "&emsp;&emsp;而如果在Few-shot的提示下，第一阶段的指令翻译不是每一次都能给出令人满意的结果，首先我们想到的解决问题的办法就是提供一些更加强有力的提示方法：例如LtM提示法。根据LtM多段提示的策略，外加结合当前指令翻译任务考虑，一种更有希望能够引导模型能够顺利完成指令翻译流程的提示方法是：先引导模型拆解当前需求中的“变量”作为后续函数的参数，然后再基于已经确定的变量，引导模型完成翻译工作。其实就整个指令翻译任务来说，最难的地方也就在于函数参数的理解过程，而一旦模型能够准确的翻译出外部函数需要哪些参数，其他部分的翻译任务自然迎刃而解。"
   ]
  },
  {
   "cell_type": "code",
   "execution_count": 187,
   "id": "ec70c7f6-d2e7-435f-a8d4-e172602af73b",
   "metadata": {
    "tags": []
   },
   "outputs": [],
   "source": [
    "system_content1 = \"为了更好编写满足用户需求的python函数，我们需要先识别用户需求中的变量，以作为python函数的参数。需要注意的是，当前编写的函数中涉及到的邮件收发查阅等功能，都是通过Python来完成。\""
   ]
  },
  {
   "cell_type": "code",
   "execution_count": 188,
   "id": "bd8bbc0a-eacc-46c5-9055-08cae4debe97",
   "metadata": {
    "tags": []
   },
   "outputs": [],
   "source": [
    "input1 = \"请帮我查下mailbox邮箱里最后一封邮件内容。\""
   ]
  },
  {
   "cell_type": "code",
   "execution_count": 189,
   "id": "994d7b6a-8f88-46f1-8708-e004943127a7",
   "metadata": {
    "tags": []
   },
   "outputs": [],
   "source": [
    "pi1 = \"当前需求中可以作为函数参数的是：1.查看谁的邮箱。\""
   ]
  },
  {
   "cell_type": "code",
   "execution_count": 190,
   "id": "41893807-0255-4c60-991f-e11869fbf9e3",
   "metadata": {
    "tags": []
   },
   "outputs": [],
   "source": [
    "input2 = \"请帮我给西门吹雪发送一封邮件，请他明天早上9点半来我办公室开会，商量下半年技术开发计划。\""
   ]
  },
  {
   "cell_type": "code",
   "execution_count": 191,
   "id": "82de4d50-f7c0-4464-9ab6-8d55da22db62",
   "metadata": {
    "tags": []
   },
   "outputs": [],
   "source": [
    "pi2 = \"当前需求中可以作为函数参数的是：1.发送邮件的对象；2.发送邮件的主题；3.邮件具体内容\""
   ]
  },
  {
   "cell_type": "code",
   "execution_count": 192,
   "id": "614d3ace-59da-4f2d-b30a-15ae3a34de50",
   "metadata": {
    "tags": []
   },
   "outputs": [],
   "source": [
    "input3 = \"请查下我的邮箱里是否有来自陆小凤的未读邮件，并解读最近一封未读邮件的内容。\""
   ]
  },
  {
   "cell_type": "code",
   "execution_count": 193,
   "id": "0461eea3-9ac9-4b35-b39d-9549d4cb7779",
   "metadata": {
    "tags": []
   },
   "outputs": [],
   "source": [
    "messages_CD = [{\"role\": \"system\", \"content\": system_content1},\n",
    "                {\"role\": \"user\", \"name\":\"example1_user\", \"content\": input1},\n",
    "                {\"role\": \"assistant\", \"name\":\"example1_assistant\", \"content\": pi1},\n",
    "                {\"role\": \"user\", \"name\":\"example2_user\", \"content\": input2},\n",
    "                {\"role\": \"assistant\", \"name\":\"example2_assistant\", \"content\": pi2},\n",
    "                {\"role\": \"user\", \"name\":\"example_user\", \"content\": input3}]"
   ]
  },
  {
   "cell_type": "code",
   "execution_count": 196,
   "id": "c245bda3-60bc-46f9-bd17-616280dd1c9b",
   "metadata": {
    "tags": []
   },
   "outputs": [],
   "source": [
    "response = client.chat.completions.create(\n",
    "                        model=\"glm-4\",\n",
    "                        messages=messages_CD)\n",
    "\n",
    "pi3 = response.choices[0].message.content"
   ]
  },
  {
   "cell_type": "code",
   "execution_count": 197,
   "id": "8fff2ce5-da56-4564-adaa-0265e3ea162f",
   "metadata": {
    "tags": []
   },
   "outputs": [
    {
     "name": "stdout",
     "output_type": "stream",
     "text": [
      "当前需求中可以作为函数参数的是：1.需要查看的邮箱；2.发件人；3.未读/已读。\n"
     ]
    }
   ],
   "source": [
    "print(pi3)"
   ]
  },
  {
   "cell_type": "markdown",
   "id": "ae4894e9-4e07-4c30-86c3-5f228862e0ac",
   "metadata": {},
   "source": [
    "- LtM Command mapping阶段提示"
   ]
  },
  {
   "cell_type": "code",
   "execution_count": 198,
   "id": "5151efed-a03f-4342-afad-5561012cd36c",
   "metadata": {
    "tags": []
   },
   "outputs": [],
   "source": [
    "system_content2 = md_content"
   ]
  },
  {
   "cell_type": "code",
   "execution_count": 199,
   "id": "f3e25fde-f959-491d-a4e4-ecd1d5ea2442",
   "metadata": {
    "tags": []
   },
   "outputs": [
    {
     "data": {
      "text/plain": [
       "'请帮我查下邮箱里最后一封邮件内容。当前需求中可以作为函数参数的是：1.查看谁的邮箱。'"
      ]
     },
     "execution_count": 199,
     "metadata": {},
     "output_type": "execute_result"
    }
   ],
   "source": [
    "get_email_input = \"请帮我查下邮箱里最后一封邮件内容。\" + pi1\n",
    "get_email_input"
   ]
  },
  {
   "cell_type": "code",
   "execution_count": 200,
   "id": "90a38a14-ce57-40ac-a807-9251f88f4083",
   "metadata": {
    "tags": []
   },
   "outputs": [],
   "source": [
    "get_email_out = \"请帮我编写一个python函数，用于查看我的mailbox邮箱中最后一封邮件信息，函数要求如下：\\\n",
    "                 1.函数参数userId，userId是字符串参数，默认情况下取值为'me'，表示查看我的邮件；\\\n",
    "                 2.函数返回结果是一个包含最后一封邮件信息的对象，返回结果本身必须是一个json格式对象；\\\n",
    "                 3.请将全部功能封装在一个函数内；\\\n",
    "                 4.请在函数编写过程中，在函数内部加入中文编写的详细的函数说明文档，用于说明函数功能、函数参数情况以及函数返回结果等信息；\""
   ]
  },
  {
   "cell_type": "code",
   "execution_count": 201,
   "id": "35b7398f-6ec2-4213-ac12-f05369036a65",
   "metadata": {
    "tags": []
   },
   "outputs": [
    {
     "data": {
      "text/plain": [
       "'请帮我给西门吹雪发送一封mailbox邮件，请他明天早上9点半来我办公室开会，商量下半年技术开发计划。当前需求中可以作为函数参数的是：1.发送邮件的对象；2.发送邮件的主题；3.邮件具体内容'"
      ]
     },
     "execution_count": 201,
     "metadata": {},
     "output_type": "execute_result"
    }
   ],
   "source": [
    "send_email_input = \"请帮我给西门吹雪发送一封mailbox邮件，请他明天早上9点半来我办公室开会，商量下半年技术开发计划。\" + pi2\n",
    "send_email_input"
   ]
  },
  {
   "cell_type": "code",
   "execution_count": 202,
   "id": "0badfbd9-c73f-4051-be82-66a94d47d587",
   "metadata": {
    "tags": []
   },
   "outputs": [],
   "source": [
    "send_email_out = \"请帮我编写一个python函数，用于给叶孤城发送邮件，请他明天早上9点半来我办公室开会，商量下半年技术开发计划，函数要求如下：\\\n",
    "                  1.函数参数form_userid、subject和snippet，三个参数都是字符串类型，其中to表示发送邮件对象，subject表示邮件主题，snippet表示邮件具体内容；\\\n",
    "                  2.函数返回结果是当前邮件发送状态，返回结果本身必须是一个json格式对象；\\\n",
    "                  3.请将全部功能封装在一个函数内；\\\n",
    "                  4.请在函数编写过程中，在函数内部加入中文编写的详细的函数说明文档，用于说明函数功能、函数参数情况以及函数返回结果等信息；\""
   ]
  },
  {
   "cell_type": "code",
   "execution_count": 203,
   "id": "8df5f648-c9a9-44af-b354-35fcea0b8ff5",
   "metadata": {
    "tags": []
   },
   "outputs": [
    {
     "data": {
      "text/plain": [
       "'请查下我的邮箱里是否有来自陆小凤的未读邮件，并解读最近一封未读邮件的内容。当前需求中可以作为函数参数的是：1.需要查看的邮箱；2.发件人；3.未读/已读。'"
      ]
     },
     "execution_count": 203,
     "metadata": {},
     "output_type": "execute_result"
    }
   ],
   "source": [
    "user_content = input3 + pi3\n",
    "user_content"
   ]
  },
  {
   "cell_type": "code",
   "execution_count": 213,
   "id": "7d5abddf-6775-401b-addc-855bd33777a7",
   "metadata": {
    "tags": []
   },
   "outputs": [],
   "source": [
    "messages_CM = [    {\"role\": \"system\", \"content\": md_content},\n",
    "                   {\"role\": \"system\", \"content\": \"结果里不需要给出示例代码\"},\n",
    "               \n",
    "                   {\"role\": \"user\", \"name\":\"example1_user\", \"content\": get_email_input},\n",
    "                   {\"role\": \"assistant\", \"name\":\"example1_assistant\", \"content\": get_email_out},\n",
    "                   {\"role\": \"user\", \"name\":\"example2_user\", \"content\": send_email_input},\n",
    "                   {\"role\": \"assistant\", \"name\":\"example2_assistant\", \"content\": send_email_out},\n",
    "                   {\"role\": \"user\", \"name\":\"example_user\", \"content\": user_content}]"
   ]
  },
  {
   "cell_type": "code",
   "execution_count": 214,
   "id": "9c8bee54-f256-4142-91e4-e3460a5964bb",
   "metadata": {
    "tags": []
   },
   "outputs": [
    {
     "data": {
      "text/plain": [
       "[{'role': 'system',\n",
       "  'content': '# my_mail数据字典：my_mail数据库数据字典\\n\\n本数据字典记录了my_mail数据库中各张数据表的基本情况。\\n我的my_mail中\\nhost=\\'localhost\\',\\nuser=\\'gpt\\',\\npasswd=\"gpt\",\\ndb=\\'my_mail\\'\\n\\n## 1.mailbox数据表\\n\\n- 基本解释\\n\\n  \\u200b\\t\\tmailbox数据表记录了邮箱里的信息，包含收件人，发件人，发件时间，邮件主题，邮件内容，邮件状态，邮件标签等。\\n\\n- 数据来源\\n\\n  \\u200b\\tmailbox数据集由系统记录，并且校验过相关信息，数据集的准确性和可信度都非常高。\\n\\n- 各字段说明\\n\\n| Column Name | Description | Value Range | Value Explanation | Type |\\n|-------------|-------------|-------------|-------------------|------|\\n| userid | 收件人 |              | 由字符串组成的 | VARCHAR(255) |\\n| from_userid | 发件人 |  | 由字符串组成 | VARCHAR(255) |\\n| date | 发邮件的时间 |  | 日期格式  | VARCHAR(255) |\\n| subject | 邮件主题 |  | 由字符串组成 | VARCHAR(255) |\\n| snippet | 邮件内容 | | 由字符串组成 | VARCHAR(255) |\\n| status | 邮件状态 | 已读，未读 | 已读，未读 | VARCHAR(255) |\\n| label | 邮件标签 |  | 由字符串组成| VARCHAR(255) |'},\n",
       " {'role': 'system', 'content': '结果里不需要给出示例代码'},\n",
       " {'role': 'user',\n",
       "  'name': 'example1_user',\n",
       "  'content': '请帮我查下邮箱里最后一封邮件内容。当前需求中可以作为函数参数的是：1.查看谁的邮箱。'},\n",
       " {'role': 'assistant',\n",
       "  'name': 'example1_assistant',\n",
       "  'content': \"请帮我编写一个python函数，用于查看我的mailbox邮箱中最后一封邮件信息，函数要求如下：                 1.函数参数userId，userId是字符串参数，默认情况下取值为'me'，表示查看我的邮件；                 2.函数返回结果是一个包含最后一封邮件信息的对象，返回结果本身必须是一个json格式对象；                 3.请将全部功能封装在一个函数内；                 4.请在函数编写过程中，在函数内部加入中文编写的详细的函数说明文档，用于说明函数功能、函数参数情况以及函数返回结果等信息；\"},\n",
       " {'role': 'user',\n",
       "  'name': 'example2_user',\n",
       "  'content': '请帮我给西门吹雪发送一封mailbox邮件，请他明天早上9点半来我办公室开会，商量下半年技术开发计划。当前需求中可以作为函数参数的是：1.发送邮件的对象；2.发送邮件的主题；3.邮件具体内容'},\n",
       " {'role': 'assistant',\n",
       "  'name': 'example2_assistant',\n",
       "  'content': '请帮我编写一个python函数，用于给叶孤城发送邮件，请他明天早上9点半来我办公室开会，商量下半年技术开发计划，函数要求如下：                  1.函数参数form_userid、subject和snippet，三个参数都是字符串类型，其中to表示发送邮件对象，subject表示邮件主题，snippet表示邮件具体内容；                  2.函数返回结果是当前邮件发送状态，返回结果本身必须是一个json格式对象；                  3.请将全部功能封装在一个函数内；                  4.请在函数编写过程中，在函数内部加入中文编写的详细的函数说明文档，用于说明函数功能、函数参数情况以及函数返回结果等信息；'},\n",
       " {'role': 'user',\n",
       "  'name': 'example_user',\n",
       "  'content': '请查下我的邮箱里是否有来自陆小凤的未读邮件，并解读最近一封未读邮件的内容。当前需求中可以作为函数参数的是：1.需要查看的邮箱；2.发件人；3.未读/已读。'}]"
      ]
     },
     "execution_count": 214,
     "metadata": {},
     "output_type": "execute_result"
    }
   ],
   "source": [
    "messages_CM"
   ]
  },
  {
   "cell_type": "code",
   "execution_count": 215,
   "id": "1ae32afd-d7ec-47fd-8d45-f55f7a2f58a7",
   "metadata": {
    "tags": []
   },
   "outputs": [],
   "source": [
    "response = client.chat.completions.create(\n",
    "                        model=\"glm-4\",\n",
    "                        messages=messages_CM)\n",
    "\n",
    "function_description = response.choices[0].message.content"
   ]
  },
  {
   "cell_type": "code",
   "execution_count": 216,
   "id": "6b11a7f7-c117-4e5f-8d5f-0722a512dd25",
   "metadata": {
    "tags": []
   },
   "outputs": [
    {
     "name": "stdout",
     "output_type": "stream",
     "text": [
      "请帮我编写一个python函数，用于查看我的mailbox邮箱中来自陆小凤的未读邮件，并解读最近一封未读邮件的内容，函数要求如下：                  1.函数参数userId，from_userId和status，其中userId表示需要查看的邮箱，from_userId表示发件人邮箱，status表示邮件状态，未读或已读；                  2.函数返回结果是包含未读邮件内容的对象，如果没有未读邮件，则返回空对象；                  3.请将全部功能封装在一个函数内；                  4.请在函数编写过程中，在函数内部加入详细的函数说明文档，用于说明函数功能、参数情况、返回结果等信息；\n"
     ]
    }
   ],
   "source": [
    "print(function_description)"
   ]
  },
  {
   "cell_type": "markdown",
   "id": "ee483d17-2ca3-4e09-8532-9bbca0858e53",
   "metadata": {},
   "source": [
    "- 函数创建"
   ]
  },
  {
   "cell_type": "code",
   "execution_count": 217,
   "id": "0b91fb35-d270-4c6a-b8a6-8b077a4b273c",
   "metadata": {
    "tags": []
   },
   "outputs": [
    {
     "data": {
      "text/plain": [
       "\"请帮我编写一个python函数，用于查看我的mailbox邮箱中最后一封邮件信息，函数要求如下：                 1.函数参数userId，userId是字符串参数，默认情况下取值为'me'，表示查看我的邮件；                 2.函数返回结果是一个包含最后一封邮件信息的对象，返回结果本身必须是一个json格式对象；                 3.请将全部功能封装在一个函数内；                 4.请在函数编写过程中，在函数内部加入中文编写的详细的函数说明文档，用于说明函数功能、函数参数情况以及函数返回结果等信息；\""
      ]
     },
     "execution_count": 217,
     "metadata": {},
     "output_type": "execute_result"
    }
   ],
   "source": [
    "func1_description = get_email_out\n",
    "func1_description"
   ]
  },
  {
   "cell_type": "code",
   "execution_count": 218,
   "id": "20a9fa8e-77c6-4290-8243-139bbd663127",
   "metadata": {
    "tags": []
   },
   "outputs": [],
   "source": [
    "with open('./functions/tested functions/%s_module.py' % 'get_latest_email', encoding='utf-8') as f:\n",
    "    func1_str = f.read()"
   ]
  },
  {
   "cell_type": "code",
   "execution_count": 219,
   "id": "51bb5d70-b23c-40ac-a69e-1350c7b8ed55",
   "metadata": {
    "tags": []
   },
   "outputs": [
    {
     "data": {
      "text/plain": [
       "'def get_latest_email(userId):\\n    \"\"\"\\n    获取最新的一封邮件\\n    参数:\\n    user_id: 要检索邮件的用户的ID。默认值是\\'me\\'，数据格式为字符串类型。\\n\\n    返回:\\n    一个列表，其中每个元素都是一个字典，表示一封邮件。每个字典包含以下键：\\n    \\'from_userid\\': 发件人ID。\\n    \\'date\\': 邮件的发送日期。\\n    \\'subject\\': 邮件的主题。\\n    \\'snippet\\': 邮件的摘要（前100个字符）。\\n    \"\"\"\\n    mysql_pw=\"gpt\"\\n    \\n    connection = pymysql.connect(\\n    host=\\'localhost\\',  # 数据库地址\\n    user=\\'gpt\\',  # 数据库用户名\\n    passwd=mysql_pw,  # 数据库密码\\n    db=\\'my_mail\\',  # 数据库名\\n    charset=\\'utf8\\'  # 字符集选择utf8   \\n    )\\n    sql_query=f\"SELECT * FROM mailbox WHERE userid = \\'{user_id}\\' ORDER BY date DESC LIMIT 1\";\\n\\n    try:\\n        with connection.cursor() as cursor:\\n            sql = sql_query\\n            cursor.execute(sql)\\n            results = cursor.fetchall()\\n    finally:\\n        cursor.close()\\n    \\n    column_names = [desc[0] for desc in cursor.description]\\n\\n    # 使用results和column_names创建DataFrame\\n    df = pd.DataFrame(results, columns=column_names)\\n        \\n    return df.to_json(orient = \"records\")  \\n'"
      ]
     },
     "execution_count": 219,
     "metadata": {},
     "output_type": "execute_result"
    }
   ],
   "source": [
    "func1_str"
   ]
  },
  {
   "cell_type": "code",
   "execution_count": 222,
   "id": "98f374ca-eeb9-4929-9b30-995fdacc2c6a",
   "metadata": {
    "tags": []
   },
   "outputs": [],
   "source": [
    "system_content3 = \"你是一个智能助手，善于基于用户的需求，通过编写函数解决问题，函数参数必须是字符串类型对象，函数返回结果必须是json表示的字符串对象。\""
   ]
  },
  {
   "cell_type": "code",
   "execution_count": 220,
   "id": "5a887e6c-a266-4fc0-be88-96b145f0f2d6",
   "metadata": {
    "tags": []
   },
   "outputs": [
    {
     "data": {
      "text/plain": [
       "'请帮我编写一个python函数，用于查看我的mailbox邮箱中来自陆小凤的未读邮件，并解读最近一封未读邮件的内容，函数要求如下：                  1.函数参数userId，from_userId和status，其中userId表示需要查看的邮箱，from_userId表示发件人邮箱，status表示邮件状态，未读或已读；                  2.函数返回结果是包含未读邮件内容的对象，如果没有未读邮件，则返回空对象；                  3.请将全部功能封装在一个函数内；                  4.请在函数编写过程中，在函数内部加入详细的函数说明文档，用于说明函数功能、参数情况、返回结果等信息；'"
      ]
     },
     "execution_count": 220,
     "metadata": {},
     "output_type": "execute_result"
    }
   ],
   "source": [
    "function_description"
   ]
  },
  {
   "cell_type": "code",
   "execution_count": 223,
   "id": "5fb72bff-18f8-4ff8-b4fc-61f492e245a2",
   "metadata": {
    "tags": []
   },
   "outputs": [],
   "source": [
    "messages_stage2 = [ {\"role\": \"system\", \"content\": system_content3},\n",
    "                    {\"role\": \"system\", \"content\": md_content},\n",
    "                    {\"role\": \"user\", \"name\":\"example1_user\", \"content\": func1_description},\n",
    "                    {\"role\": \"assistant\", \"name\":\"example1_assistant\", \"content\": func1_str},\n",
    "                    {\"role\": \"user\",\"content\": function_description}]"
   ]
  },
  {
   "cell_type": "code",
   "execution_count": 224,
   "id": "1ad11994-b927-47d9-b043-930f018eabb5",
   "metadata": {
    "tags": []
   },
   "outputs": [],
   "source": [
    "response = client.chat.completions.create(\n",
    "                        model=\"glm-4\",\n",
    "                        messages=messages_stage2)\n",
    "\n",
    "python_code = response.choices[0].message.content"
   ]
  },
  {
   "cell_type": "code",
   "execution_count": 225,
   "id": "841e7091-e6e8-44da-a14b-4969d13ec43e",
   "metadata": {
    "tags": []
   },
   "outputs": [
    {
     "name": "stdout",
     "output_type": "stream",
     "text": [
      "def get_unread_email_content(userId, from_userId, status):\n",
      "    \"\"\"\n",
      "    获取指定邮箱中来自指定发件人且指定状态的未读邮件内容\n",
      "    参数:\n",
      "    userId: 邮箱的用户ID，数据格式为字符串类型。\n",
      "    from_userId: 发件人的用户ID，数据格式为字符串类型。\n",
      "    status: 邮件的状态，取值为'未读'或'已读'，数据格式为字符串类型。\n",
      "\n",
      "    返回:\n",
      "    一个字典对象，表示最近一封满足条件的未读邮件内容。字典包含以下键：\n",
      "    'from_userid': 发件人ID。\n",
      "    'date': 邮件的发送日期。\n",
      "    'subject': 邮件的主题。\n",
      "    'snippet': 邮件的摘要（前100个字符）。\n",
      "    如果没有满足条件的未读邮件，则返回空字典。\n",
      "    \"\"\"\n",
      "    mysql_pw = \"gpt\"\n",
      "    \n",
      "    connection = pymysql.connect(\n",
      "        host='localhost',  # 数据库地址\n",
      "        user='gpt',  # 数据库用户名\n",
      "        passwd=mysql_pw,  # 数据库密码\n",
      "        db='my_mail',  # 数据库名\n",
      "        charset='utf8'  # 字符集选择utf8   \n",
      "    )\n",
      "    \n",
      "    sql_query = f\"SELECT * FROM mailbox WHERE userid = '{userId}' AND from_userid = '{from_userId}' AND status = '{status}' ORDER BY date DESC LIMIT 1\"\n",
      "\n",
      "    try:\n",
      "        with connection.cursor() as cursor:\n",
      "            sql = sql_query\n",
      "            cursor.execute(sql)\n",
      "            result = cursor.fetchone()\n",
      "    finally:\n",
      "        cursor.close()\n",
      "    \n",
      "    if result is not None:\n",
      "        column_names = [desc[0] for desc in cursor.description]\n",
      "        email_content = dict(zip(column_names, result))\n",
      "        return email_content\n",
      "    else:\n",
      "        return {}\n"
     ]
    }
   ],
   "source": [
    "print(python_code)"
   ]
  },
  {
   "cell_type": "code",
   "execution_count": 227,
   "id": "25edb7cb-d937-4ee2-b596-b10b9d410569",
   "metadata": {
    "tags": []
   },
   "outputs": [
    {
     "name": "stdout",
     "output_type": "stream",
     "text": [
      "def get_unread_email_content(userId, from_userId, status):\n",
      "    \"\"\"\n",
      "    获取指定邮箱中来自指定发件人且指定状态的未读邮件内容\n",
      "    参数:\n",
      "    userId: 邮箱的用户ID，数据格式为字符串类型。\n",
      "    from_userId: 发件人的用户ID，数据格式为字符串类型。\n",
      "    status: 邮件的状态，取值为'未读'或'已读'，数据格式为字符串类型。\n",
      "\n",
      "    返回:\n",
      "    一个字典对象，表示最近一封满足条件的未读邮件内容。字典包含以下键：\n",
      "    'from_userid': 发件人ID。\n",
      "    'date': 邮件的发送日期。\n",
      "    'subject': 邮件的主题。\n",
      "    'snippet': 邮件的摘要（前100个字符）。\n",
      "    如果没有满足条件的未读邮件，则返回空字典。\n",
      "    \"\"\"\n",
      "    mysql_pw = \"gpt\"\n",
      "    \n",
      "    connection = pymysql.connect(\n",
      "        host='localhost',  # 数据库地址\n",
      "        user='gpt',  # 数据库用户名\n",
      "        passwd=mysql_pw,  # 数据库密码\n",
      "        db='my_mail',  # 数据库名\n",
      "        charset='utf8'  # 字符集选择utf8   \n",
      "    )\n",
      "    \n",
      "    sql_query = f\"SELECT * FROM mailbox WHERE userid = '{userId}' AND from_userid = '{from_userId}' AND status = '{status}' ORDER BY date DESC LIMIT 1\"\n",
      "\n",
      "    try:\n",
      "        with connection.cursor() as cursor:\n",
      "            sql = sql_query\n",
      "            cursor.execute(sql)\n",
      "            result = cursor.fetchone()\n",
      "    finally:\n",
      "        cursor.close()\n",
      "    \n",
      "    if result is not None:\n",
      "        column_names = [desc[0] for desc in cursor.description]\n",
      "        email_content = dict(zip(column_names, result))\n",
      "        return email_content\n",
      "    else:\n",
      "        return {}\n"
     ]
    }
   ],
   "source": [
    "extract_function_code(python_code, detail=1)"
   ]
  },
  {
   "cell_type": "code",
   "execution_count": 228,
   "id": "70e7c7b9-a262-4a7a-befa-112658c980a9",
   "metadata": {
    "tags": []
   },
   "outputs": [
    {
     "data": {
      "text/plain": [
       "<function __main__.get_unread_email_content(userId, from_userId, status)>"
      ]
     },
     "execution_count": 228,
     "metadata": {},
     "output_type": "execute_result"
    }
   ],
   "source": [
    "get_unread_email_content"
   ]
  },
  {
   "cell_type": "markdown",
   "id": "595fd4db-f0c8-4578-bb97-19448a73ff1b",
   "metadata": {},
   "source": [
    "手动测试一下函数"
   ]
  },
  {
   "cell_type": "code",
   "execution_count": null,
   "id": "6613ccd3-138c-4bdd-92ba-9d786cc48a8e",
   "metadata": {},
   "outputs": [],
   "source": [
    "def get_unread_email_content(userId, from_userId, status):\n",
    "    \"\"\"\n",
    "    获取指定邮箱中来自指定发件人且指定状态的未读邮件内容\n",
    "    参数:\n",
    "    userId: 邮箱的用户ID，数据格式为字符串类型。\n",
    "    from_userId: 发件人的用户ID，数据格式为字符串类型。\n",
    "    status: 邮件的状态，取值为'未读'或'已读'，数据格式为字符串类型。\n",
    "\n",
    "    返回:\n",
    "    一个字典对象，表示最近一封满足条件的未读邮件内容。字典包含以下键：\n",
    "    'from_userid': 发件人ID。\n",
    "    'date': 邮件的发送日期。\n",
    "    'subject': 邮件的主题。\n",
    "    'snippet': 邮件的摘要（前100个字符）。\n",
    "    如果没有满足条件的未读邮件，则返回空字典。\n",
    "    \"\"\"\n",
    "    mysql_pw = \"gpt\"\n",
    "    \n",
    "    connection = pymysql.connect(\n",
    "        host='localhost',  # 数据库地址\n",
    "        user='gpt',  # 数据库用户名\n",
    "        passwd=mysql_pw,  # 数据库密码\n",
    "        db='my_mail',  # 数据库名\n",
    "        charset='utf8'  # 字符集选择utf8   \n",
    "    )\n",
    "    \n",
    "    sql_query = f\"SELECT * FROM mailbox WHERE userid = '{userId}' AND from_userid = '{from_userId}' AND status = '{status}' ORDER BY date DESC LIMIT 1\"\n",
    "\n",
    "    try:\n",
    "        with connection.cursor() as cursor:\n",
    "            sql = sql_query\n",
    "            cursor.execute(sql)\n",
    "            result = cursor.fetchone()\n",
    "    finally:\n",
    "        cursor.close()\n",
    "    \n",
    "    if result is not None:\n",
    "        column_names = [desc[0] for desc in cursor.description]\n",
    "        email_content = dict(zip(column_names, result))\n",
    "        return email_content\n",
    "    else:\n",
    "        return {}"
   ]
  },
  {
   "cell_type": "code",
   "execution_count": 323,
   "id": "8d26e62b-f050-4eec-896a-588bb192f64f",
   "metadata": {
    "tags": []
   },
   "outputs": [
    {
     "data": {
      "text/plain": [
       "{'userid': 'me',\n",
       " 'from_userid': '陆小凤',\n",
       " 'date': '2024-06-03',\n",
       " 'subject': '2024年Q2规划',\n",
       " 'snippet': 'Q2规划：聚焦核心业务，优化流程，提升效率。加强团队协作，培养人才。探索新市场，拓宽业务领域。确保目标达成，实现增长。详细见附件',\n",
       " 'status': '未读',\n",
       " 'label': '规划'}"
      ]
     },
     "execution_count": 323,
     "metadata": {},
     "output_type": "execute_result"
    }
   ],
   "source": [
    "get_unread_email_content(userId='me', from_userId='陆小凤', status= '未读')"
   ]
  },
  {
   "cell_type": "markdown",
   "id": "66419aab-34c3-4e53-8ad6-329ebb1e54d8",
   "metadata": {},
   "source": [
    "- 流程测试"
   ]
  },
  {
   "cell_type": "code",
   "execution_count": 339,
   "id": "112b0c16-1c5a-4ce7-8c0b-7ebcf8c82022",
   "metadata": {
    "tags": []
   },
   "outputs": [],
   "source": [
    "import os\n",
    "import openai\n",
    "from openai import OpenAI\n",
    "import shutil\n",
    "\n",
    "import json\n",
    "import io\n",
    "import inspect\n",
    "import requests\n",
    "import re\n",
    "import random\n",
    "import string\n",
    "\n",
    "## 初始化客户端\n",
    "api_key = os.getenv(\"ZHIPU_API_KEY\")\n",
    "## pip install zhipuai\n",
    "\n",
    "from zhipuai import ZhipuAI\n",
    "client = ZhipuAI(api_key=api_key)"
   ]
  },
  {
   "cell_type": "code",
   "execution_count": 340,
   "id": "813863bf-8968-4240-805f-96263def3397",
   "metadata": {
    "tags": []
   },
   "outputs": [],
   "source": [
    "def auto_functions(functions_list):\n",
    "    \"\"\"\n",
    "    Chat模型的functions参数编写函数\n",
    "    :param functions_list: 包含一个或者多个函数对象的列表；\n",
    "    :return：满足Chat模型functions参数要求的functions对象\n",
    "    \"\"\"\n",
    "    def functions_generate(functions_list):\n",
    "        # 创建空列表，用于保存每个函数的描述字典\n",
    "        functions = []\n",
    "        # 对每个外部函数进行循环\n",
    "        for function in functions_list:\n",
    "            # 读取函数对象的函数说明\n",
    "            function_description = inspect.getdoc(function)\n",
    "            # 读取函数的函数名字符串\n",
    "            function_name = function.__name__\n",
    "            system_prompt1=\"\"\"输出结果必须是一个JSON格式的字典,举个例子：\n",
    "            [{'type': 'function', 'function': {'name': 'sunwukong_function', 'description': '该函数定义了数据集计算过程，接收一个数据表字符串参数，并返回一个JSON格式的Dataframe类型对象。', 'parameters': {'type': 'object', 'properties': {'data': {'type': 'string', 'description': '带入计算的数据表，用字符串进行表示'}}, 'required': ['data'], 'additionalProperties': False}}}]\n",
    "            \"\"\"\n",
    "            system_prompt2 = '以下是某的函数说明：%s,输出结果必须是一个JSON格式的字典，只输出这个字典即可，前后不需要任何前后修饰或说明的语句' % function_description\n",
    "            user_prompt = '根据这个函数的函数说明，请帮我创建一个JSON格式的字典，这个字典有如下5点要求：\\\n",
    "                           1.字典总共有三个键值对；\\\n",
    "                           2.第一个键值对的Key是字符串name，value是该函数的名字：%s，也是字符串；\\\n",
    "                           3.第二个键值对的Key是字符串description，value是该函数的函数的功能说明，也是字符串；\\\n",
    "                           4.第三个键值对的Key是字符串parameters，value是一个JSON Schema对象，用于说明该函数的参数输入规范。\\\n",
    "                           5.输出结果必须是一个JSON格式的字典，只输出这个字典即可，前后不需要任何前后修饰或说明的语句' % function_name\n",
    "\n",
    "            response = client.chat.completions.create(\n",
    "                              model=\"glm-4\",\n",
    "                              messages=[\n",
    "                                {\"role\": \"system\", \"content\": system_prompt1},\n",
    "                                {\"role\": \"system\", \"content\": system_prompt2},\n",
    "                                {\"role\": \"user\", \"content\": user_prompt}\n",
    "                              ]\n",
    "                            )\n",
    "            json_str=response.choices[0].message.content.replace(\"```json\",\"\").replace(\"```\",\"\")\n",
    "            json_function_description=json.loads(json_str)\n",
    "            json_str={\"type\": \"function\",\"function\":json_function_description}\n",
    "            functions.append(json_str)\n",
    "        return functions\n",
    "    ## 最大可以尝试4次\n",
    "    max_attempts = 4\n",
    "    attempts = 0\n",
    "\n",
    "    while attempts < max_attempts:\n",
    "        try:\n",
    "            functions = functions_generate(functions_list)\n",
    "            break  # 如果代码成功执行，跳出循环\n",
    "        except Exception as e:\n",
    "            attempts += 1  # 增加尝试次数\n",
    "            print(\"发生错误：\", e)\n",
    "            if attempts == max_attempts:\n",
    "                print(\"已达到最大尝试次数，程序终止。\")\n",
    "                raise  # 重新引发最后一个异常\n",
    "            else:\n",
    "                print(\"正在重新运行...\")\n",
    "    return functions"
   ]
  },
  {
   "cell_type": "code",
   "execution_count": 341,
   "id": "d3d6678a-a9f8-4f78-b363-c1c2c8bc35d0",
   "metadata": {
    "tags": []
   },
   "outputs": [],
   "source": [
    "functions_list = [get_unread_email_content]"
   ]
  },
  {
   "cell_type": "code",
   "execution_count": 342,
   "id": "36fab7ae-a235-42c6-a2de-0926462d18c8",
   "metadata": {
    "tags": []
   },
   "outputs": [
    {
     "name": "stdout",
     "output_type": "stream",
     "text": [
      "发生错误： Expecting value: line 22 column 29 (char 543)\n",
      "正在重新运行...\n"
     ]
    }
   ],
   "source": [
    "functions = auto_functions(functions_list)"
   ]
  },
  {
   "cell_type": "code",
   "execution_count": 343,
   "id": "18aaf206-a6fd-409d-b7bf-78d8d8c2b312",
   "metadata": {
    "tags": []
   },
   "outputs": [
    {
     "data": {
      "text/plain": [
       "[{'type': 'function',\n",
       "  'function': {'name': 'get_unread_email_content',\n",
       "   'description': '获取指定邮箱中来自指定发件人且指定状态的未读邮件内容',\n",
       "   'parameters': {'type': 'object',\n",
       "    'properties': {'userId': {'type': 'string',\n",
       "      'description': '邮箱的用户ID，数据格式为字符串类型'},\n",
       "     'from_userId': {'type': 'string', 'description': '发件人的用户ID，数据格式为字符串类型'},\n",
       "     'status': {'type': 'string',\n",
       "      'description': \"邮件的状态，取值为'未读'或'已读'，数据格式为字符串类型\"}},\n",
       "    'required': ['userId', 'from_userId', 'status'],\n",
       "    'additionalProperties': False}}}]"
      ]
     },
     "execution_count": 343,
     "metadata": {},
     "output_type": "execute_result"
    }
   ],
   "source": [
    "functions"
   ]
  },
  {
   "cell_type": "code",
   "execution_count": 344,
   "id": "1ff7b15b-e683-433a-bb66-778f0ef83b5d",
   "metadata": {
    "tags": []
   },
   "outputs": [],
   "source": [
    "messages = [{\"role\": \"user\", \"content\": '请查下我的邮箱里是否有来自陆小凤的未读邮件，并解读最近一封未读邮件的内容。'}]\n",
    "response = client.chat.completions.create(\n",
    "                        model=\"glm-4\",\n",
    "                        messages=messages,\n",
    "                        tools=functions,\n",
    "                        tool_choice=\"auto\"\n",
    "                        )\n"
   ]
  },
  {
   "cell_type": "code",
   "execution_count": 345,
   "id": "fa8d9086-3689-4935-94fd-183f8bf93e5e",
   "metadata": {
    "tags": []
   },
   "outputs": [
    {
     "data": {
      "text/plain": [
       "Completion(model='glm-4', created=1717737110, choices=[CompletionChoice(index=0, finish_reason='tool_calls', message=CompletionMessage(content=None, role='assistant', tool_calls=[CompletionMessageToolCall(id='call_8726260736755248628', function=Function(arguments='{\"from_userId\":\"陆小凤\",\"status\":\"未读\",\"userId\":\"我的\"}', name='get_unread_email_content'), type='function', index=0)]))], request_id='8726260736755248628', id='8726260736755248628', usage=CompletionUsage(prompt_tokens=234, completion_tokens=30, total_tokens=264))"
      ]
     },
     "execution_count": 345,
     "metadata": {},
     "output_type": "execute_result"
    }
   ],
   "source": [
    "response"
   ]
  },
  {
   "cell_type": "code",
   "execution_count": 374,
   "id": "e7090d17-d0b1-40ec-9903-dad9755e07ea",
   "metadata": {
    "tags": []
   },
   "outputs": [],
   "source": [
    "def run_conversation(messages, functions_list=None, model=\"glm-4\"):\n",
    "    \"\"\"\n",
    "    能够自动执行外部函数调用的对话模型\n",
    "    :param messages: 必要参数，字典类型，输入到Chat模型的messages参数对象\n",
    "    :param functions_list: 可选参数，默认为None，可以设置为包含全部外部函数的列表对象\n",
    "    :param model: Chat模型，可选参数，默认模型为glm-4\n",
    "    :return：Chat模型输出结果\n",
    "    \"\"\"\n",
    "    # 如果没有外部函数库，则执行普通的对话任务\n",
    "    if functions_list == None:\n",
    "        response = client.chat.completions.create(\n",
    "                        model=model,\n",
    "                        messages=messages,\n",
    "                        )\n",
    "        response_message = response.choices[0].message\n",
    "        final_response = response_message.content\n",
    "        \n",
    "    # 若存在外部函数库，则需要灵活选取外部函数并进行回答\n",
    "    else:\n",
    "        # 创建functions对象\n",
    "        tools = auto_functions(functions_list)\n",
    "        \n",
    "        # 创建外部函数库字典\n",
    "        available_functions = {func.__name__: func for func in functions_list}\n",
    "        print(available_functions)\n",
    "\n",
    "        # 第一次调用大模型\n",
    "        response = client.chat.completions.create(\n",
    "                        model=model,\n",
    "                        messages=messages,\n",
    "                        tools=tools,\n",
    "                        tool_choice=\"auto\", )\n",
    "        response_message = response.choices[0].message\n",
    "        \n",
    "       \n",
    "\n",
    "\n",
    "        tool_calls = response_message.tool_calls\n",
    "\n",
    "        if tool_calls:\n",
    "\n",
    "            #messages.append(response.choices[0].message)\n",
    "            ## GLM-4 Function Call的使用方式\n",
    "            messages.append(response.choices[0].message.model_dump())\n",
    "            for tool_call in tool_calls:\n",
    "                function_name = tool_call.function.name\n",
    "                function_to_call = available_functions[function_name]\n",
    "                function_args = json.loads(tool_call.function.arguments)\n",
    "                ## 真正执行外部函数的就是这儿的代码\n",
    "                function_response = function_to_call(**function_args)\n",
    "                messages.append(\n",
    "                    {\n",
    "                        \"role\": \"tool\",\n",
    "                        \"content\": function_response,\n",
    "                        \"tool_call_id\": tool_call.id,\n",
    "                    }\n",
    "                ) \n",
    "            ## 第二次调用模型\n",
    "            second_response = client.chat.completions.create(\n",
    "                model=model,\n",
    "                messages=messages,\n",
    "                tools=tools\n",
    "            ) \n",
    "            # 获取最终结果\n",
    "            print(second_response.choices[0].message)\n",
    "            final_response = second_response.choices[0].message.content\n",
    "        else:\n",
    "            final_response = response_message.content\n",
    "                \n",
    "    return final_response"
   ]
  },
  {
   "cell_type": "code",
   "execution_count": 375,
   "id": "64df07e9-c9ca-4b56-b6e8-30d927882dec",
   "metadata": {
    "tags": []
   },
   "outputs": [
    {
     "name": "stdout",
     "output_type": "stream",
     "text": [
      "{'get_unread_email_content': <function get_unread_email_content at 0x7f4df90f1e50>}\n",
      "CompletionMessage(content='me的邮箱里来自陆小凤的未读邮件已经找到，最近一封未读邮件的内容是：“您好，我是陆小凤，这封邮件是关于2024年Q2规划的讨论，请您在开会前阅读。”', role='assistant', tool_calls=None)\n"
     ]
    },
    {
     "data": {
      "text/plain": [
       "'me的邮箱里来自陆小凤的未读邮件已经找到，最近一封未读邮件的内容是：“您好，我是陆小凤，这封邮件是关于2024年Q2规划的讨论，请您在开会前阅读。”'"
      ]
     },
     "execution_count": 375,
     "metadata": {},
     "output_type": "execute_result"
    }
   ],
   "source": [
    "messages = [\n",
    "     {\"role\": \"system\", \"content\": md_content},\n",
    "     {\"role\": \"system\", \"content\": \"我的邮箱userId叫me,陆小凤的邮箱id就叫陆小凤\"},\n",
    "     {\"role\": \"user\", \"content\": '请查下我的邮箱里来自陆小凤的未读邮件，并解读最近一封未读邮件的内容。'}\n",
    "]\n",
    "run_conversation(messages, functions_list=functions_list, model=\"glm-4\")"
   ]
  },
  {
   "cell_type": "markdown",
   "id": "6dfd0dba-1454-44e7-8914-0f1ff855dfba",
   "metadata": {},
   "source": [
    "- 测试多轮对话的效果"
   ]
  },
  {
   "cell_type": "code",
   "execution_count": 398,
   "id": "59e9aca0-3c11-40ac-8dfc-a9a9c5a7a6f9",
   "metadata": {
    "tags": []
   },
   "outputs": [],
   "source": [
    "import pymysql\n",
    "import numpy as np\n",
    "import pandas as pd\n",
    "# 这个是自己手写的。\n",
    "def retrieve_emails(n,user_id='me'):\n",
    "    \"\"\"\n",
    "    获取指定数量的新邮件。\n",
    "    参数:\n",
    "    n: 要检索的邮件的数量,数据格式为int类型。\n",
    "    user_id: 要检索邮件的用户的ID。默认值是'me'，数据格式为字符串类型。\n",
    "\n",
    "    返回:\n",
    "    一个列表，其中每个元素都是一个字典，表示一封邮件。每个字典包含以下键：\n",
    "    'from_userid': 发件人ID。\n",
    "    'date': 邮件的发送日期。\n",
    "    'subject': 邮件的主题。\n",
    "    'snippet': 邮件的摘要（前100个字符）。\n",
    "    \"\"\"\n",
    "    mysql_pw=\"gpt\"\n",
    "    \n",
    "    connection = pymysql.connect(\n",
    "    host='localhost',  # 数据库地址\n",
    "    user='gpt',  # 数据库用户名\n",
    "    passwd=mysql_pw,  # 数据库密码\n",
    "    db='my_mail',  # 数据库名\n",
    "    charset='utf8'  # 字符集选择utf8   \n",
    "    )\n",
    "    sql_query=f\"SELECT * FROM mailbox WHERE userid = '{user_id}' ORDER BY date DESC LIMIT {n}\";\n",
    "\n",
    "    try:\n",
    "        with connection.cursor() as cursor:\n",
    "            sql = sql_query\n",
    "            cursor.execute(sql)\n",
    "            results = cursor.fetchall()\n",
    "    finally:\n",
    "        cursor.close()\n",
    "    \n",
    "    column_names = [desc[0] for desc in cursor.description]\n",
    "\n",
    "    # 使用results和column_names创建DataFrame\n",
    "    df = pd.DataFrame(results, columns=column_names)\n",
    "        \n",
    "    return df.to_json(orient = \"records\")     "
   ]
  },
  {
   "cell_type": "code",
   "execution_count": null,
   "id": "83611079-d5b4-49c6-95d1-893a4a555a10",
   "metadata": {},
   "outputs": [],
   "source": []
  },
  {
   "cell_type": "code",
   "execution_count": 377,
   "id": "cbfa720f-c5bb-4303-b7d1-f30e18945d86",
   "metadata": {
    "tags": []
   },
   "outputs": [],
   "source": [
    "## 这个是自动生成的\n",
    "def get_latest_email(userId):\n",
    "    \"\"\"\n",
    "    获取最新的一封邮件\n",
    "    参数:\n",
    "    user_id: 要检索邮件的用户的ID。默认值是'me'，数据格式为字符串类型。\n",
    "\n",
    "    返回:\n",
    "    一个列表，其中每个元素都是一个字典，表示一封邮件。每个字典包含以下键：\n",
    "    'from_userid': 发件人ID。\n",
    "    'date': 邮件的发送日期。\n",
    "    'subject': 邮件的主题。\n",
    "    'snippet': 邮件的摘要（前100个字符）。\n",
    "    \"\"\"\n",
    "    mysql_pw=\"gpt\"\n",
    "    \n",
    "    connection = pymysql.connect(\n",
    "    host='localhost',  # 数据库地址\n",
    "    user='gpt',  # 数据库用户名\n",
    "    passwd=mysql_pw,  # 数据库密码\n",
    "    db='my_mail',  # 数据库名\n",
    "    charset='utf8'  # 字符集选择utf8   \n",
    "    )\n",
    "    sql_query=f\"SELECT * FROM mailbox WHERE userid = '{user_id}' ORDER BY date DESC LIMIT 1\";\n",
    "\n",
    "    try:\n",
    "        with connection.cursor() as cursor:\n",
    "            sql = sql_query\n",
    "            cursor.execute(sql)\n",
    "            results = cursor.fetchall()\n",
    "    finally:\n",
    "        cursor.close()\n",
    "    \n",
    "    column_names = [desc[0] for desc in cursor.description]\n",
    "\n",
    "    # 使用results和column_names创建DataFrame\n",
    "    df = pd.DataFrame(results, columns=column_names)\n",
    "        \n",
    "    return df.to_json(orient = \"records\")  "
   ]
  },
  {
   "cell_type": "code",
   "execution_count": 378,
   "id": "d4614f76-9b82-4456-8053-7bc96789c507",
   "metadata": {
    "tags": []
   },
   "outputs": [],
   "source": [
    "## 这个是自动生成的\n",
    "def get_email_count(userId='me'):\n",
    "    \"\"\"\n",
    "    获取指定用户邮箱中的邮件总数。\n",
    "\n",
    "    参数:\n",
    "    userId: 要查询的用户的ID。默认值是'me'，数据格式为字符串类型。\n",
    "\n",
    "    返回:\n",
    "    一个JSON格式对象，包含一个键值对，键为'count'，值为邮件总数。\n",
    "\n",
    "    示例:\n",
    "    {\n",
    "        \"count\": 123\n",
    "    }\n",
    "    \"\"\"\n",
    "\n",
    "    # 数据库连接配置\n",
    "    config = {\n",
    "        'host': 'localhost',\n",
    "        'user': 'gpt',\n",
    "        'passwd': 'gpt',\n",
    "        'db': 'my_mail',\n",
    "        'charset': 'utf8'\n",
    "    }\n",
    "\n",
    "    # 建立数据库连接\n",
    "    try:\n",
    "        connection = pymysql.connect(**config)\n",
    "        with connection.cursor() as cursor:\n",
    "            # 查询邮件总数\n",
    "            sql = f\"SELECT COUNT(*) FROM mailbox WHERE userid = '{userId}'\"\n",
    "            cursor.execute(sql)\n",
    "            result = cursor.fetchone()\n",
    "            email_count = result[0] if result else 0\n",
    "\n",
    "            # 将结果转换为JSON格式\n",
    "            return json.dumps({'count': email_count})\n",
    "    except pymysql.MySQLError as e:\n",
    "        print(f\"数据库操作出错: {e}\")\n",
    "        return json.dumps({'error': str(e)})\n",
    "    finally:\n",
    "        if connection:\n",
    "            connection.close()\n",
    "\n",
    "# 示例调用\n",
    "# print(get_email_count('me'))"
   ]
  },
  {
   "cell_type": "code",
   "execution_count": 394,
   "id": "82b77b91-c862-46bd-b15c-a88aa6f566fe",
   "metadata": {
    "tags": []
   },
   "outputs": [],
   "source": [
    "## 这个是自动生成的\n",
    "def get_unread_email_content(userId, from_userId, status):\n",
    "    \"\"\"\n",
    "    获取指定邮箱中最近的来自指定发件人且指定状态的未读邮件内容\n",
    "    参数:\n",
    "    userId: 邮箱的用户ID，数据格式为字符串类型。\n",
    "    from_userId: 发件人的用户ID，数据格式为字符串类型。\n",
    "    status: 邮件的状态，取值为'未读'或'已读'，数据格式为字符串类型。\n",
    "\n",
    "    返回:\n",
    "    一个字典对象，表示最近一封满足条件的未读邮件内容。字典包含以下键：\n",
    "    'from_userid': 发件人ID。\n",
    "    'date': 邮件的发送日期。\n",
    "    'subject': 邮件的主题。\n",
    "    'snippet': 邮件的摘要（前100个字符）。\n",
    "    如果没有满足条件的未读邮件，则返回空字典。\n",
    "    \"\"\"\n",
    "    mysql_pw = \"gpt\"\n",
    "    \n",
    "    connection = pymysql.connect(\n",
    "        host='localhost',  # 数据库地址\n",
    "        user='gpt',  # 数据库用户名\n",
    "        passwd=mysql_pw,  # 数据库密码\n",
    "        db='my_mail',  # 数据库名\n",
    "        charset='utf8'  # 字符集选择utf8   \n",
    "    )\n",
    "    \n",
    "    sql_query = f\"SELECT * FROM mailbox WHERE userid = '{userId}' AND from_userid = '{from_userId}' AND status = '{status}' ORDER BY date DESC LIMIT 1\"\n",
    "\n",
    "    try:\n",
    "        with connection.cursor() as cursor:\n",
    "            sql = sql_query\n",
    "            cursor.execute(sql)\n",
    "            result = cursor.fetchone()\n",
    "    finally:\n",
    "        cursor.close()\n",
    "    \n",
    "    if result is not None:\n",
    "        column_names = [desc[0] for desc in cursor.description]\n",
    "        email_content = dict(zip(column_names, result))\n",
    "        return email_content\n",
    "    else:\n",
    "        return {}"
   ]
  },
  {
   "cell_type": "code",
   "execution_count": 395,
   "id": "1e963641-9e54-4056-90bc-261e683d75e2",
   "metadata": {
    "tags": []
   },
   "outputs": [],
   "source": [
    "functions_list = [retrieve_emails, get_email_count, get_unread_email_content]"
   ]
  },
  {
   "cell_type": "code",
   "execution_count": 396,
   "id": "67a8274f-58d4-40f1-8d62-1ab1e8c60abf",
   "metadata": {
    "tags": []
   },
   "outputs": [],
   "source": [
    "def chat_with_model(functions_list=None, \n",
    "                    prompt=\"你好\", \n",
    "                    model=\"glm-4\", \n",
    "                    system_message=[{\"role\": \"system\", \"content\": \"你叫小智\"}]):\n",
    "    \n",
    "    messages = system_message\n",
    "    messages.append({\"role\": \"user\", \"content\": prompt})\n",
    "    \n",
    "    while True:           \n",
    "        answer = run_conversation(messages=messages, \n",
    "                                    functions_list=functions_list, \n",
    "                                    model=model)\n",
    "        \n",
    "        print(f\"智能助手回答: {answer}\")\n",
    "        \n",
    "        \n",
    "        # 询问用户是否还有其他问题\n",
    "        user_input = input(\"您还有其他问题吗？(输入退出以结束对话): \")\n",
    "        if user_input == \"退出\":\n",
    "            break\n",
    "\n",
    "        # 记录用户回答\n",
    "        messages.append({\"role\": \"user\", \"content\": user_input})"
   ]
  },
  {
   "cell_type": "markdown",
   "id": "39cf904d-9072-4540-9a29-543b2f742234",
   "metadata": {},
   "source": [
    "这个while循环里run_conversation方法，里面每次都会把所有函数都初始化一次，大家可以把这儿单独优化一下哈。\n",
    "不需要每次都初始化。"
   ]
  },
  {
   "cell_type": "code",
   "execution_count": 387,
   "id": "eb641995-b8eb-4cb3-b25e-c7e9be15716a",
   "metadata": {
    "tags": []
   },
   "outputs": [],
   "source": [
    "user_prompt=\"请查下me的邮箱里来自陆小凤的未读邮件，并解读最近一封未读邮件的内容。\""
   ]
  },
  {
   "cell_type": "code",
   "execution_count": 399,
   "id": "05390b8c-2508-4d55-803e-75c85588487f",
   "metadata": {
    "tags": []
   },
   "outputs": [
    {
     "name": "stdout",
     "output_type": "stream",
     "text": [
      "{'retrieve_emails': <function retrieve_emails at 0x7f4df80cfc10>, 'get_email_count': <function get_email_count at 0x7f4df80cfaf0>, 'get_unread_email_content': <function get_unread_email_content at 0x7f4df809a1f0>}\n",
      "CompletionMessage(content='me的邮箱里来自陆小凤的未读邮件已经找到，最近一封未读邮件的内容是：“您好，我是陆小凤。这封邮件是关于2024年Q2规划的，我希望能够和你讨论一下我们的计划。请尽快回复我，谢谢。”', role='assistant', tool_calls=None)\n",
      "智能助手回答: me的邮箱里来自陆小凤的未读邮件已经找到，最近一封未读邮件的内容是：“您好，我是陆小凤。这封邮件是关于2024年Q2规划的，我希望能够和你讨论一下我们的计划。请尽快回复我，谢谢。”\n"
     ]
    },
    {
     "name": "stdin",
     "output_type": "stream",
     "text": [
      "您还有其他问题吗？(输入退出以结束对话):  退出\n"
     ]
    }
   ],
   "source": [
    "\n",
    "system_message=[\n",
    "    {\"role\": \"system\", \"content\":md_content},\n",
    "    {\"role\": \"system\", \"content\": \"我的邮箱userId叫me,陆小凤的邮箱id就叫陆小凤，西门吹雪的邮箱id就叫西门吹雪\"}\n",
    "    ]\n",
    "chat_with_model(functions_list=functions_list, prompt=user_prompt,\n",
    "                system_message=system_message)"
   ]
  },
  {
   "cell_type": "markdown",
   "id": "5a2c4c55-6f34-4c9a-81ce-5b5ccb993d40",
   "metadata": {},
   "source": [
    "## 3. 全自动功能函数编程"
   ]
  },
  {
   "cell_type": "markdown",
   "id": "dd527462-7374-44c6-b4d8-a955b18f122f",
   "metadata": {},
   "source": [
    "### 3.1 提示词管理"
   ]
  },
  {
   "cell_type": "code",
   "execution_count": 512,
   "id": "22d55d8e-d4ad-482f-a0e8-ff9014d7b97d",
   "metadata": {
    "tags": []
   },
   "outputs": [],
   "source": [
    "# 第一阶段LtM_CD阶段提示词及输出结果\n",
    "get_latest_email_CD_input = \"请帮我查下mailbox邮箱里最新一封邮件内容。\"\n",
    "get_latest_email_pi = \"当前需求中可以作为函数参数的是：1.查看谁的邮箱。\"\n",
    "get_latest_email_messages_CD = [\n",
    "                                {\"role\": \"user\", \"content\": get_latest_email_CD_input},\n",
    "                                {\"role\": \"assistant\", \"content\": get_latest_email_pi}\n",
    "                                ]\n",
    "\n",
    "# 第一阶段LtM_CM阶段提示词及输出结果\n",
    "get_latest_email_CM_input = get_latest_email_CD_input + get_latest_email_pi\n",
    "get_latest_email_description = \"请帮我编写一个python函数，用于查看我的mailbox邮箱中最后一封邮件信息，函数要求如下：\\\n",
    "                 1.函数参数userId，userId是字符串参数，默认情况下取值为'me'，表示查看我的邮件；\\\n",
    "                 2.函数返回结果是一个包含最后一封邮件信息的对象，返回结果本身必须是一个json格式对象；\\\n",
    "                 3.请将全部功能封装在一个函数内；\\\n",
    "                 4.请在函数编写过程中，在函数内部加入中文编写的详细的函数说明文档，用于说明函数功能、函数参数情况以及函数返回结果等信息；\"\n",
    "get_latest_email_messages_CM = [\n",
    "                                {\"role\": \"user\", \"content\": get_latest_email_CM_input},\n",
    "                                {\"role\": \"assistant\", \"content\":get_latest_email_description}\n",
    "                                ]\n",
    "\n",
    "# 第二阶段提示词及输出结果\n",
    "with open('./functions/tested functions/%s/%s_module.py' % ('get_latest_email', 'get_latest_email'), encoding='utf-8') as f:\n",
    "    get_latest_email_function = f.read()\n",
    "get_latest_email_messages = [\n",
    "                             {\"role\": \"user\", \"content\": get_latest_email_description},\n",
    "                             {\"role\": \"assistant\", \"content\":get_latest_email_function}\n",
    "                             ]  "
   ]
  },
  {
   "cell_type": "code",
   "execution_count": 513,
   "id": "dcf0c3bc-756e-448d-a094-2f06c456cb90",
   "metadata": {
    "tags": []
   },
   "outputs": [],
   "source": [
    "get_latest_email_prompt = {\n",
    "                            \"stage1_CD\": get_latest_email_messages_CD,\n",
    "                            \"stage1_CM\": get_latest_email_messages_CM,\n",
    "                            \"stage2\": get_latest_email_messages\n",
    "                          }   "
   ]
  },
  {
   "cell_type": "code",
   "execution_count": 517,
   "id": "3ed3d1be-247e-4be4-b039-7078d223d4fd",
   "metadata": {
    "tags": []
   },
   "outputs": [
    {
     "data": {
      "text/plain": [
       "{'stage1_CD': [{'role': 'user', 'content': '请帮我查下mailbox邮箱里最新一封邮件内容。'},\n",
       "  {'role': 'assistant', 'content': '当前需求中可以作为函数参数的是：1.查看谁的邮箱。'}],\n",
       " 'stage1_CM': [{'role': 'user',\n",
       "   'content': '请帮我查下mailbox邮箱里最新一封邮件内容。当前需求中可以作为函数参数的是：1.查看谁的邮箱。'},\n",
       "  {'role': 'assistant',\n",
       "   'content': \"请帮我编写一个python函数，用于查看我的mailbox邮箱中最后一封邮件信息，函数要求如下：                 1.函数参数userId，userId是字符串参数，默认情况下取值为'me'，表示查看我的邮件；                 2.函数返回结果是一个包含最后一封邮件信息的对象，返回结果本身必须是一个json格式对象；                 3.请将全部功能封装在一个函数内；                 4.请在函数编写过程中，在函数内部加入中文编写的详细的函数说明文档，用于说明函数功能、函数参数情况以及函数返回结果等信息；\"}],\n",
       " 'stage2': [{'role': 'user',\n",
       "   'content': \"请帮我编写一个python函数，用于查看我的mailbox邮箱中最后一封邮件信息，函数要求如下：                 1.函数参数userId，userId是字符串参数，默认情况下取值为'me'，表示查看我的邮件；                 2.函数返回结果是一个包含最后一封邮件信息的对象，返回结果本身必须是一个json格式对象；                 3.请将全部功能封装在一个函数内；                 4.请在函数编写过程中，在函数内部加入中文编写的详细的函数说明文档，用于说明函数功能、函数参数情况以及函数返回结果等信息；\"},\n",
       "  {'role': 'assistant',\n",
       "   'content': 'def get_latest_email(userId):\\n    \"\"\"\\n    获取最新的一封邮件\\n    参数:\\n    user_id: 要检索邮件的用户的ID。默认值是\\'me\\'，数据格式为字符串类型。\\n\\n    返回:\\n    一个列表，其中每个元素都是一个字典，表示一封邮件。每个字典包含以下键：\\n    \\'from_userid\\': 发件人ID。\\n    \\'date\\': 邮件的发送日期。\\n    \\'subject\\': 邮件的主题。\\n    \\'snippet\\': 邮件的摘要（前100个字符）。\\n    \"\"\"\\n    mysql_pw=\"gpt\"\\n    \\n    connection = pymysql.connect(\\n    host=\\'localhost\\',  # 数据库地址\\n    user=\\'gpt\\',  # 数据库用户名\\n    passwd=mysql_pw,  # 数据库密码\\n    db=\\'my_mail\\',  # 数据库名\\n    charset=\\'utf8\\'  # 字符集选择utf8   \\n    )\\n    sql_query=f\"SELECT * FROM mailbox WHERE userid = \\'{user_id}\\' ORDER BY date DESC LIMIT 1\";\\n\\n    try:\\n        with connection.cursor() as cursor:\\n            sql = sql_query\\n            cursor.execute(sql)\\n            results = cursor.fetchall()\\n    finally:\\n        cursor.close()\\n    \\n    column_names = [desc[0] for desc in cursor.description]\\n\\n    # 使用results和column_names创建DataFrame\\n    df = pd.DataFrame(results, columns=column_names)\\n        \\n    return df.to_json(orient = \"records\")  \\n'}]}"
      ]
     },
     "execution_count": 517,
     "metadata": {},
     "output_type": "execute_result"
    }
   ],
   "source": [
    "get_latest_email_prompt"
   ]
  },
  {
   "cell_type": "code",
   "execution_count": 518,
   "id": "eb710149-00f5-47fe-8a29-34349555038f",
   "metadata": {
    "tags": []
   },
   "outputs": [],
   "source": [
    "with open('./functions/tested functions/%s/%s_prompt.json' % ('get_latest_email','get_latest_email'), 'w') as f:\n",
    "    json.dump(get_latest_email_prompt, f)"
   ]
  },
  {
   "cell_type": "code",
   "execution_count": 515,
   "id": "af7baf67-2353-4a62-89d2-1b14516fe64b",
   "metadata": {
    "tags": []
   },
   "outputs": [],
   "source": [
    "with open('./functions/tested functions/%s/%s_prompt.json' % ('get_latest_email','get_latest_email'), 'r') as f:\n",
    "    data = json.load(f)"
   ]
  },
  {
   "cell_type": "code",
   "execution_count": 498,
   "id": "0856b0c8-c124-40f8-a80e-a668c0ba18d2",
   "metadata": {
    "tags": []
   },
   "outputs": [
    {
     "data": {
      "text/plain": [
       "{'stage1_CD': [{'role': 'user', 'content': '请帮我查下mailbox邮箱里最新一封邮件内容。'},\n",
       "  {'role': 'assistant', 'content': '当前需求中可以作为函数参数的是：1.查看谁的邮箱。'}],\n",
       " 'stage1_CM': [{'role': 'user',\n",
       "   'content': '请帮我查下mailbox邮箱里最新一封邮件内容。当前需求中可以作为函数参数的是：1.查看谁的邮箱。'},\n",
       "  {'role': 'assistant',\n",
       "   'content': \"请帮我编写一个python函数，用于查看我的mailbox邮箱中最后一封邮件信息，函数要求如下：                 1.函数参数userId，userId是字符串参数，默认情况下取值为'me'，表示查看我的邮件；                 2.函数返回结果是一个包含最后一封邮件信息的对象，返回结果本身必须是一个json格式对象；                 3.请将全部功能封装在一个函数内；                 4.请在函数编写过程中，在函数内部加入中文编写的详细的函数说明文档，用于说明函数功能、函数参数情况以及函数返回结果等信息；\"}],\n",
       " 'stage2': [{'role': 'user',\n",
       "   'content': \"请帮我编写一个python函数，用于查看我的mailbox邮箱中最后一封邮件信息，函数要求如下：                 1.函数参数userId，userId是字符串参数，默认情况下取值为'me'，表示查看我的邮件；                 2.函数返回结果是一个包含最后一封邮件信息的对象，返回结果本身必须是一个json格式对象；                 3.请将全部功能封装在一个函数内；                 4.请在函数编写过程中，在函数内部加入中文编写的详细的函数说明文档，用于说明函数功能、函数参数情况以及函数返回结果等信息；\"},\n",
       "  {'role': 'assistant',\n",
       "   'content': 'def get_latest_email(userId):\\n    \"\"\"\\n    获取最新的一封邮件\\n    参数:\\n    user_id: 要检索邮件的用户的ID。默认值是\\'me\\'，数据格式为字符串类型。\\n\\n    返回:\\n    一个列表，其中每个元素都是一个字典，表示一封邮件。每个字典包含以下键：\\n    \\'from_userid\\': 发件人ID。\\n    \\'date\\': 邮件的发送日期。\\n    \\'subject\\': 邮件的主题。\\n    \\'snippet\\': 邮件的摘要（前100个字符）。\\n    \"\"\"\\n    mysql_pw=\"gpt\"\\n    \\n    connection = pymysql.connect(\\n    host=\\'localhost\\',  # 数据库地址\\n    user=\\'gpt\\',  # 数据库用户名\\n    passwd=mysql_pw,  # 数据库密码\\n    db=\\'my_mail\\',  # 数据库名\\n    charset=\\'utf8\\'  # 字符集选择utf8   \\n    )\\n    sql_query=f\"SELECT * FROM mailbox WHERE userid = \\'{user_id}\\' ORDER BY date DESC LIMIT 1\";\\n\\n    try:\\n        with connection.cursor() as cursor:\\n            sql = sql_query\\n            cursor.execute(sql)\\n            results = cursor.fetchall()\\n    finally:\\n        cursor.close()\\n    \\n    column_names = [desc[0] for desc in cursor.description]\\n\\n    # 使用results和column_names创建DataFrame\\n    df = pd.DataFrame(results, columns=column_names)\\n        \\n    return df.to_json(orient = \"records\")  \\n'}]}"
      ]
     },
     "execution_count": 498,
     "metadata": {},
     "output_type": "execute_result"
    }
   ],
   "source": [
    "data"
   ]
  },
  {
   "cell_type": "code",
   "execution_count": 522,
   "id": "488e46e8-94c3-4ad1-a098-3e37308f5a92",
   "metadata": {
    "tags": []
   },
   "outputs": [],
   "source": [
    "retrieve_emails_CD_input = \"请帮我查看下最近3封邮件的邮件内容\"\n",
    "retrieve_emails_pi = \"当前需求中可以作为函数参数的是：1.查询几封邮件；2.查询谁的邮箱\"\n",
    "retrieve_emails_messages_CD = [\n",
    "                          {\"role\": \"user\", \"content\": retrieve_emails_CD_input},\n",
    "                          {\"role\": \"assistant\", \"content\": retrieve_emails_pi}\n",
    "                         ]\n",
    "\n",
    "retrieve_emails_CM_input = retrieve_emails_CD_input + retrieve_emails_pi\n",
    "retrieve_emails_description = \"请帮我编写一个python函数，查询我的邮箱里面最近的几封邮件信息，函数要求如下：\\\n",
    "                  1.函数参数n和user_id，两个参数都是字符串类型，其中n表示查询最近的几封邮件，user_id表示要检索邮件的用户的ID。默认值是'me'，表示当前授权的用户；\\\n",
    "                  2.函数返回结果是查询到的这几封邮件的邮件内容，返回结果本身必须是一个json格式对象；\\\n",
    "                  3.请将全部功能封装在一个函数内；\\\n",
    "                  4.请在函数编写过程中，在函数内部加入中文编写的详细的函数说明文档，用于说明函数功能、函数参数情况以及函数返回结果等信息；\"\n",
    "retrieve_emails_messages_CM = [\n",
    "                          {\"role\": \"user\", \"content\": retrieve_emails_CM_input},\n",
    "                          {\"role\": \"assistant\", \"content\":retrieve_emails_description}\n",
    "                         ]\n",
    "\n",
    "with open('./functions/tested functions/%s/%s_module.py' % ('retrieve_emails','retrieve_emails'), encoding='utf-8') as f:\n",
    "    retrieve_emails_function = f.read()\n",
    "retrieve_emails_messages = [\n",
    "                       {\"role\": \"user\", \"content\": retrieve_emails_description},\n",
    "                       {\"role\": \"assistant\", \"content\":retrieve_emails_function}\n",
    "                      ] "
   ]
  },
  {
   "cell_type": "code",
   "execution_count": 523,
   "id": "a7fb29a5-a38b-496e-86b6-a7e835c63fd2",
   "metadata": {
    "tags": []
   },
   "outputs": [],
   "source": [
    "retrieve_emails_prompt = {\n",
    "                     \"stage1_CD\": retrieve_emails_messages_CD,\n",
    "                     \"stage1_CM\": retrieve_emails_messages_CM,\n",
    "                     \"stage2\": retrieve_emails_messages\n",
    "                    }   "
   ]
  },
  {
   "cell_type": "code",
   "execution_count": 524,
   "id": "917dbe5f-74a1-4a7b-8f66-bfd8cce5c7dd",
   "metadata": {
    "tags": []
   },
   "outputs": [],
   "source": [
    "with open('./functions/tested functions/%s/%s_prompt.json' % ('retrieve_emails','retrieve_emails'), 'w') as f:\n",
    "    json.dump(retrieve_emails_prompt, f)"
   ]
  },
  {
   "cell_type": "code",
   "execution_count": 525,
   "id": "73c056ac-bdde-4925-9481-6ee651bcc5a7",
   "metadata": {
    "tags": []
   },
   "outputs": [],
   "source": [
    "get_email_counts_CD_input = \"请帮我查下邮箱里面总共有多少封邮件。\"\n",
    "get_email_counts_pi = \"当前需求中可以作为函数参数的是：1.查询谁的邮箱\"\n",
    "get_email_counts_messages_CD = [\n",
    "                          {\"role\": \"user\", \"content\": get_email_counts_CD_input},\n",
    "                          {\"role\": \"assistant\", \"content\": get_email_counts_pi}\n",
    "                         ]\n",
    "\n",
    "get_email_counts_CM_input = get_email_counts_CD_input + get_email_counts_pi\n",
    "get_email_counts_description = \"请帮我编写一个python函数，用于查看我的mailbox邮箱中总共有多少封邮件，函数要求如下：\\\n",
    "                  1.函数参数userId，userId是字符串参数，默认情况下取值为'me'，表示查看我的邮件；\\\n",
    "                  2.函数返回结果是查询到的这几封邮件的邮件内容，返回结果本身必须是一个json格式对象；\\\n",
    "                  3.请将全部功能封装在一个函数内；\\\n",
    "                  4.请在函数编写过程中，在函数内部加入中文编写的详细的函数说明文档，用于说明函数功能、函数参数情况以及函数返回结果等信息；\"\n",
    "get_email_counts_messages_CM = [\n",
    "                          {\"role\": \"user\", \"content\": get_email_counts_CM_input},\n",
    "                          {\"role\": \"assistant\", \"content\":get_email_counts_description}\n",
    "                         ]\n",
    "\n",
    "with open('./functions/tested functions/%s/%s_module.py' % ('get_email_count','get_email_count'), encoding='utf-8') as f:\n",
    "    get_email_counts_function = f.read()\n",
    "get_email_counts_messages = [\n",
    "                       {\"role\": \"user\", \"content\": get_email_counts_description},\n",
    "                       {\"role\": \"assistant\", \"content\":get_email_counts_function}\n",
    "                      ] "
   ]
  },
  {
   "cell_type": "code",
   "execution_count": 526,
   "id": "ca9b3086-4f0a-4837-a779-5ae9c48c5669",
   "metadata": {
    "tags": []
   },
   "outputs": [],
   "source": [
    "get_email_counts_prompt = {\n",
    "                     \"stage1_CD\": get_email_counts_messages_CD,\n",
    "                     \"stage1_CM\": get_email_counts_messages_CM,\n",
    "                     \"stage2\": get_email_counts_messages\n",
    "                    }   "
   ]
  },
  {
   "cell_type": "code",
   "execution_count": 528,
   "id": "5528a1ab-96b1-402d-865e-8a58d8bd8918",
   "metadata": {
    "tags": []
   },
   "outputs": [],
   "source": [
    "with open('./functions/tested functions/%s/%s_prompt.json' % ('get_email_count','get_email_count'), 'w') as f:\n",
    "    json.dump(get_email_counts_prompt, f)"
   ]
  },
  {
   "cell_type": "markdown",
   "id": "5459baf5-502e-49a9-9bea-4a0079d26dd9",
   "metadata": {},
   "source": [
    "- 系统提示消息保存"
   ]
  },
  {
   "cell_type": "markdown",
   "id": "f82c771e-e619-433d-b318-8c80283ba7ba",
   "metadata": {},
   "source": [
    "我们当前提示流程中各阶段的系统提示消息，也需要对其进行整理和本地保存："
   ]
  },
  {
   "cell_type": "code",
   "execution_count": 529,
   "id": "cc4a30fd-e8e1-4ea6-9a18-0333982b0d21",
   "metadata": {
    "tags": []
   },
   "outputs": [],
   "source": [
    "system_messages = {\"system_message_CD\": [{\"role\": \"system\", \"content\": md_content}], \n",
    "                   \"system_message_CM\": [{\"role\": \"system\", \"content\":md_content }], \n",
    "                   \"system_message\": [{\"role\": \"system\", \"content\":md_content}]}"
   ]
  },
  {
   "cell_type": "code",
   "execution_count": 530,
   "id": "b9971739-0843-4041-9bc7-119f6ad27151",
   "metadata": {
    "tags": []
   },
   "outputs": [],
   "source": [
    "with open('./functions/tested functions/%s.json' % 'system_messages', 'w') as f:\n",
    "    json.dump(system_messages, f)"
   ]
  },
  {
   "cell_type": "markdown",
   "id": "eecea137-0ff9-4d96-bae6-93710cb61994",
   "metadata": {},
   "source": [
    "- 定义提示词管理的辅助函数"
   ]
  },
  {
   "cell_type": "code",
   "execution_count": 417,
   "id": "ebce998b-73c7-400a-9922-0e7d989211b8",
   "metadata": {
    "tags": []
   },
   "outputs": [],
   "source": [
    "def remove_to_tested(function_name):\n",
    "    \"\"\"\n",
    "    将函数同名文件夹由untested文件夹转移至tested文件夹内。\\\n",
    "    完成转移则说明函数通过测试，可以使用。\n",
    "    \"\"\"\n",
    "    \n",
    "    # 将函数代码写入glmLesson.py文件中\n",
    "    with open('./functions/untested functions/%s/%s_module.py' % (function_name, function_name), encoding='utf-8') as f:\n",
    "        function_code = f.read()\n",
    "    \n",
    "    # 源文件夹路径\n",
    "    src_dir = './functions/untested functions/%s' % function_name\n",
    "\n",
    "    # 目标文件夹路径\n",
    "    dst_dir = './functions/tested functions/%s' % function_name\n",
    "    \n",
    "    # 移动文件夹\n",
    "    shutil.move(src_dir, dst_dir)"
   ]
  },
  {
   "cell_type": "code",
   "execution_count": 418,
   "id": "5bd3afb7-bb55-4fd4-9562-5e5c1f359b9a",
   "metadata": {
    "tags": []
   },
   "outputs": [],
   "source": [
    "def extract_function_code(s, detail=0, tested=False, g=globals()):\n",
    "    \"\"\"\n",
    "    函数提取函数，同时执行函数内容，可以选择打印函数信息，并选择代码保存的地址\n",
    "    \"\"\"\n",
    "    def extract_code(s):\n",
    "        \"\"\"\n",
    "        如果输入的字符串s是一个包含Python代码的Markdown格式字符串，提取出代码部分。\n",
    "        否则，返回原字符串。\n",
    "\n",
    "        参数:\n",
    "        s: 输入的字符串。\n",
    "\n",
    "        返回:\n",
    "        提取出的代码部分，或原字符串。\n",
    "        \"\"\"\n",
    "        # 判断字符串是否是Markdown格式\n",
    "        if '```python' in s or 'Python' in s or'PYTHON' in s:\n",
    "            # 找到代码块的开始和结束位置\n",
    "            code_start = s.find('def')\n",
    "            code_end = s.find('```\\n', code_start)\n",
    "            # 提取代码部分\n",
    "            code = s[code_start:code_end]\n",
    "        else:\n",
    "            # 如果字符串不是Markdown格式，返回原字符串\n",
    "            code = s\n",
    "\n",
    "        return code\n",
    "    \n",
    "    # 提取代码字符串\n",
    "    code = extract_code(s)\n",
    "    \n",
    "    # 提取函数名称\n",
    "    match = re.search(r'def (\\w+)', code)\n",
    "    function_name = match.group(1)\n",
    "    \n",
    "    # 在untested文件夹内创建函数同名文件夹\n",
    "    directory = './functions/untested functions/%s' % function_name\n",
    "    if not os.path.exists(directory):\n",
    "        os.makedirs(directory)\n",
    "    \n",
    "    # 将函数写入本地\n",
    "    if tested == False:\n",
    "        with open('./functions/untested functions/%s/%s_module.py' % (function_name, function_name), 'w', encoding='utf-8') as f:\n",
    "            f.write(code)\n",
    "    else:\n",
    "        # 调用remove_to_test函数将函数文件夹转移至tested文件夹内\n",
    "        remove_to_tested(function_name)\n",
    "        with open('./functions/tested functions/%s/%s_module.py' % (function_name, function_name), 'w', encoding='utf-8') as f:\n",
    "            f.write(code)\n",
    "    \n",
    "    # 执行该函数\n",
    "    try:\n",
    "        exec(code, g)\n",
    "    except Exception as e:\n",
    "        print(\"An error occurred while executing the code:\")\n",
    "        print(e)\n",
    "    \n",
    "    # 打印函数名称\n",
    "    if detail == 0:\n",
    "        print(\"The function name is:%s\" % function_name)\n",
    "    \n",
    "    if detail == 1:\n",
    "        if tested == False:\n",
    "            with open('./functions/untested functions/%s/%s_module.py' % (function_name, function_name), 'r', encoding='utf-8') as f:\n",
    "                content = f.read()\n",
    "        else:\n",
    "            with open('./functions/tested functions/%s/%s_module.py' % (function_name, function_name), 'r', encoding='utf-8') as f:   \n",
    "                content = f.read()\n",
    "                \n",
    "        print(content)\n",
    "        \n",
    "    return function_name"
   ]
  },
  {
   "cell_type": "code",
   "execution_count": 423,
   "id": "aef10a68-36ca-4f1c-8a93-3861157e9457",
   "metadata": {
    "tags": []
   },
   "outputs": [],
   "source": [
    "def show_functions(tested=False, if_print=False):\n",
    "    \"\"\"\n",
    "    打印tested或untested文件夹内全部函数\n",
    "    \"\"\"\n",
    "    current_directory = os.getcwd()\n",
    "    if tested == False:\n",
    "        directory = current_directory + '/functions/untested functions'\n",
    "    else:\n",
    "        directory = current_directory + '/functions/tested functions'\n",
    "    files_and_directories = os.listdir(directory)\n",
    "    # 过滤结果，只保留.py文件和非__pycache__文件夹\n",
    "    files_and_directories = files_and_directories = [name for name in files_and_directories if (os.path.splitext(name)[1] == '.py' or os.path.isdir(os.path.join(directory, name))) and name != \".ipynb_checkpoints\"]\n",
    "    \n",
    "    if if_print != False:\n",
    "        for name in files_and_directories:\n",
    "            print(name)\n",
    "    \n",
    "    return files_and_directories"
   ]
  },
  {
   "cell_type": "code",
   "execution_count": 531,
   "id": "a10550a3-39e0-4611-af96-ae18ac302800",
   "metadata": {
    "tags": []
   },
   "outputs": [
    {
     "data": {
      "text/plain": [
       "['get_latest_email', 'get_email_count', 'retrieve_emails']"
      ]
     },
     "execution_count": 531,
     "metadata": {},
     "output_type": "execute_result"
    }
   ],
   "source": [
    "show_functions(tested=True)"
   ]
  },
  {
   "cell_type": "markdown",
   "id": "6379b941-1e8c-43dc-b01a-295386eed454",
   "metadata": {},
   "source": [
    "并且，我们可以使用如下方法将每个函数名称同名字符串转化为函数："
   ]
  },
  {
   "cell_type": "code",
   "execution_count": 532,
   "id": "241eb76a-a48f-4aff-b7bf-ec116ae301e8",
   "metadata": {
    "tags": []
   },
   "outputs": [
    {
     "data": {
      "text/plain": [
       "<function __main__.get_email_count(userId='me')>"
      ]
     },
     "execution_count": 532,
     "metadata": {},
     "output_type": "execute_result"
    }
   ],
   "source": [
    "globals()['get_email_count']"
   ]
  },
  {
   "cell_type": "code",
   "execution_count": 461,
   "id": "2600cbbb-4fd6-46ff-ab3a-d102a21320ad",
   "metadata": {
    "tags": []
   },
   "outputs": [
    {
     "data": {
      "text/plain": [
       "[<function __main__.get_latest_email(userId)>,\n",
       " <function __main__.get_email_count(userId='me')>,\n",
       " <function __main__.retrieve_emails(n, user_id='me')>]"
      ]
     },
     "execution_count": 461,
     "metadata": {},
     "output_type": "execute_result"
    }
   ],
   "source": [
    "[globals()[name] for name in show_functions(tested=True)]"
   ]
  },
  {
   "cell_type": "markdown",
   "id": "a0cfeb5c-6b7b-4ced-ad95-35f60c823a3a",
   "metadata": {},
   "source": []
  },
  {
   "cell_type": "markdown",
   "id": "dfd1ba16-c55b-46d4-bb53-eddb738a0dc7",
   "metadata": {},
   "source": [
    "## 3.2 code_generate全自动编程函数创建方法"
   ]
  },
  {
   "cell_type": "code",
   "execution_count": 557,
   "id": "df9e74a9-befb-4067-a967-0bd4793cefd0",
   "metadata": {
    "tags": []
   },
   "outputs": [],
   "source": [
    "def code_generate(req, few_shot='all', model='glm-4', g=globals(), detail=0):\n",
    "    \"\"\"\n",
    "    Function calling外部函数自动创建函数，可以根据用户的需求，直接将其翻译为Chat模型可以直接调用的外部函数代码。\n",
    "    :param req: 必要参数，字符串类型，表示输入的用户需求；\n",
    "    :param few_shot: 可选参数，默认取值为字符串all，用于描述Few-shot提示示例的选取方案，当输入字符串all时，则代表提取当前外部函数库中全部测试过的函数作为Few-shot；\\\n",
    "    而如果输入的是一个包含了多个函数名称的list，则表示使用这些函数作为Few-shot。\n",
    "    :param model: 可选参数，表示调用的Chat模型，默认选取glm-4；\n",
    "    :param g: 可选参数，表示extract_function_code函数作用域，默认为globals()，即在当前操作空间全域内生效；\n",
    "    :param detail: 可选参数，默认取值为0，还可以取值为1，表示extract_function_code函数打印新创建的外部函数细节；\n",
    "    :return：新创建的函数名称。需要注意的是，在函数创建时，该函数也会在当前操作空间被定义，后续可以直接调用；\n",
    "    \"\"\"\n",
    "    \n",
    "    # 提取提示示例的函数名称\n",
    "    if few_shot == 'all':\n",
    "        few_shot_functions_name = show_functions(tested=True)\n",
    "    elif type(few_shot) == list:\n",
    "        few_shot_functions_name = few_shot\n",
    "    # few_shot_functions = [globals()[name] for name in few_shot_functions_name]\n",
    "    \n",
    "    # 读取各阶段系统提示\n",
    "    with open('./functions/tested functions/system_messages.json', 'r') as f:\n",
    "        system_messages = json.load(f)\n",
    "        \n",
    "    # 各阶段提示message对象\n",
    "    few_shot_messages_CM = []\n",
    "    few_shot_messages_CD = []\n",
    "    \n",
    "    few_shot_messages = []\n",
    "    \n",
    "    # 先保存第一条消息，也就是system message\n",
    "    few_shot_messages_CD += system_messages[\"system_message_CD\"]\n",
    "    few_shot_messages_CM += system_messages[\"system_message_CM\"]\n",
    "    few_shot_messages += system_messages[\"system_message\"]\n",
    "\n",
    "    # 创建不同阶段提示message\n",
    "    for function_name in few_shot_functions_name:\n",
    "        with open('./functions/tested functions/%s/%s_prompt.json' % (function_name, function_name), 'r') as f:\n",
    "            msg = json.load(f)\n",
    "        few_shot_messages_CD += msg[\"stage1_CD\"]\n",
    "        few_shot_messages_CM += msg[\"stage1_CM\"]\n",
    "        few_shot_messages += msg['stage2']\n",
    "        \n",
    "    # 读取用户需求，作为第一阶段CD环节User content\n",
    "    new_req_CD_input = req\n",
    "    few_shot_messages_CD.append({\"role\": \"user\", \"content\": new_req_CD_input})\n",
    "    \n",
    "    print('第一阶段CD环节提示创建完毕，正在进行CD提示...')\n",
    "    \n",
    "    # 第一阶段CD环节Chat模型调用过程\n",
    "    response = client.chat.completions.create(\n",
    "                        model=model,\n",
    "                        messages=few_shot_messages_CD)\n",
    "    new_req_pi = response.choices[0].message.content\n",
    "    \n",
    "    print('第一阶段CD环节提示完毕')\n",
    "    \n",
    "    # 第一阶段CM环节Messages创建\n",
    "    new_req_CM_input = new_req_CD_input + new_req_pi\n",
    "    few_shot_messages_CM.append({\"role\": \"user\", \"content\": new_req_CM_input})\n",
    "    \n",
    "    print('第一阶段CM环节提示创建完毕，正在进行第一阶段CM提示...')\n",
    "    # 第一阶段CM环节Chat模型调用过程\n",
    "    response = client.chat.completions.create(\n",
    "                        model=model,\n",
    "                        messages=few_shot_messages_CM)\n",
    "    new_req_description = response.choices[0].message.content\n",
    "\n",
    "    \n",
    "    print('第一阶段CM环节提示完毕')\n",
    "    \n",
    "    # 第二阶段Messages创建过程\n",
    "    few_shot_messages.append({\"role\": \"user\", \"content\": new_req_description})\n",
    "    \n",
    "    print('第二阶段提示创建完毕，正在进行第二阶段提示...')\n",
    "    \n",
    "    # 第二阶段Chat模型调用过程\n",
    "    response = client.chat.completions.create(\n",
    "                        model=model,\n",
    "                        messages=few_shot_messages)\n",
    "    new_req_function = response.choices[0].message.content\n",
    "    \n",
    "    \n",
    "    print('第二阶段提示完毕，准备运行函数并编写提示示例')\n",
    "    \n",
    "    # 提取函数并运行，创建函数名称对象，统一都写入untested文件夹内\n",
    "    function_name = extract_function_code(s=new_req_function, detail=detail, g=g)\n",
    "    \n",
    "    print('新函数保存在./functions/untested functions/%s/%s_module.py文件中' % (function_name, function_name))\n",
    "    \n",
    "    # 创建该函数提示示例\n",
    "    new_req_messages_CD = [\n",
    "                          {\"role\": \"user\", \"content\": new_req_CD_input},\n",
    "                          {\"role\": \"assistant\", \"content\": new_req_pi}\n",
    "                         ]\n",
    "    new_req_messages_CM = [\n",
    "                          {\"role\": \"user\", \"content\": new_req_CM_input},\n",
    "                          {\"role\": \"assistant\", \"content\":new_req_description}\n",
    "                         ]\n",
    "    \n",
    "    with open('./functions/untested functions/%s/%s_module.py' % (function_name, function_name), encoding='utf-8') as f:\n",
    "        new_req_function = f.read()\n",
    "    \n",
    "    new_req_messages = [\n",
    "                       {\"role\": \"user\", \"content\": new_req_description},\n",
    "                       {\"role\": \"assistant\", \"content\":new_req_function}\n",
    "                      ] \n",
    "    \n",
    "    new_req_prompt = {\n",
    "                     \"stage1_CD\": new_req_messages_CD,\n",
    "                     \"stage1_CM\": new_req_messages_CM,\n",
    "                     \"stage2\": new_req_messages\n",
    "                    }   \n",
    "    \n",
    "    with open('./functions/untested functions/%s/%s_prompt.json' % (function_name, function_name), 'w') as f:\n",
    "        json.dump(new_req_prompt, f)\n",
    "        \n",
    "    print('新函数提示示例保存在./functions/untested functions/%s/%s_prompt.json文件中' % (function_name, function_name))\n",
    "    print('done')\n",
    "    return function_name"
   ]
  },
  {
   "cell_type": "code",
   "execution_count": 442,
   "id": "cce13eda-60e6-4ccb-833d-944483844979",
   "metadata": {
    "tags": []
   },
   "outputs": [],
   "source": [
    "function_name = 'get_latest_email'"
   ]
  },
  {
   "cell_type": "code",
   "execution_count": 457,
   "id": "162fc384-a20b-4f18-a391-429e5e7e3ad1",
   "metadata": {
    "tags": []
   },
   "outputs": [],
   "source": [
    "with open('./functions/tested functions/%s/%s_prompt.json' % (function_name, function_name), 'r') as f:\n",
    "    msg = json.load(f)"
   ]
  },
  {
   "cell_type": "code",
   "execution_count": 458,
   "id": "8ad75325-9661-464b-b83f-551ae899b3fb",
   "metadata": {
    "tags": []
   },
   "outputs": [
    {
     "data": {
      "text/plain": [
       "[{'role': 'user',\n",
       "  'content': \"请帮我编写一个python函数，用于查看我的Gmail邮箱中最后一封邮件信息，函数要求如下：                 1.函数参数userId，userId是字符串参数，默认情况下取值为'me'，表示查看我的邮件；                 2.函数返回结果是一个包含最后一封邮件信息的对象，返回结果本身必须是一个json格式对象；                 3.请将全部功能封装在一个函数内；                 4.请在函数编写过程中，在函数内部加入中文编写的详细的函数说明文档，用于说明函数功能、函数参数情况以及函数返回结果等信息；\"},\n",
       " {'role': 'assistant',\n",
       "  'content': 'def get_latest_email(userId):\\n    \"\"\"\\n    获取最新的一封邮件\\n    参数:\\n    user_id: 要检索邮件的用户的ID。默认值是\\'me\\'，数据格式为字符串类型。\\n\\n    返回:\\n    一个列表，其中每个元素都是一个字典，表示一封邮件。每个字典包含以下键：\\n    \\'from_userid\\': 发件人ID。\\n    \\'date\\': 邮件的发送日期。\\n    \\'subject\\': 邮件的主题。\\n    \\'snippet\\': 邮件的摘要（前100个字符）。\\n    \"\"\"\\n    mysql_pw=\"gpt\"\\n    \\n    connection = pymysql.connect(\\n    host=\\'localhost\\',  # 数据库地址\\n    user=\\'gpt\\',  # 数据库用户名\\n    passwd=mysql_pw,  # 数据库密码\\n    db=\\'my_mail\\',  # 数据库名\\n    charset=\\'utf8\\'  # 字符集选择utf8   \\n    )\\n    sql_query=f\"SELECT * FROM mailbox WHERE userid = \\'{user_id}\\' ORDER BY date DESC LIMIT 1\";\\n\\n    try:\\n        with connection.cursor() as cursor:\\n            sql = sql_query\\n            cursor.execute(sql)\\n            results = cursor.fetchall()\\n    finally:\\n        cursor.close()\\n    \\n    column_names = [desc[0] for desc in cursor.description]\\n\\n    # 使用results和column_names创建DataFrame\\n    df = pd.DataFrame(results, columns=column_names)\\n        \\n    return df.to_json(orient = \"records\")  \\n'}]"
      ]
     },
     "execution_count": 458,
     "metadata": {},
     "output_type": "execute_result"
    }
   ],
   "source": [
    "msg['stage2']"
   ]
  },
  {
   "cell_type": "code",
   "execution_count": 533,
   "id": "0312760d-2dfa-49b1-96d2-ced9037c1df1",
   "metadata": {
    "tags": []
   },
   "outputs": [],
   "source": [
    "few_shot_functions_name = show_functions(tested=True)"
   ]
  },
  {
   "cell_type": "code",
   "execution_count": 534,
   "id": "250272f8-5a65-4e74-9ff6-20d4c3007c72",
   "metadata": {
    "tags": []
   },
   "outputs": [],
   "source": [
    "# 读取各阶段系统提示\n",
    "with open('./functions/tested functions/system_messages.json', 'r') as f:\n",
    "    system_messages = json.load(f)\n",
    "        \n",
    "# 各阶段提示message对象\n",
    "few_shot_messages_CM = []\n",
    "few_shot_messages_CD = []\n",
    "few_shot_messages = []\n",
    "    \n",
    "# 先保存第一条消息，也就是system message\n",
    "few_shot_messages_CD += system_messages[\"system_message_CD\"]\n",
    "few_shot_messages_CM += system_messages[\"system_message_CM\"]\n",
    "few_shot_messages += system_messages[\"system_message\"]"
   ]
  },
  {
   "cell_type": "code",
   "execution_count": 535,
   "id": "9b83d596-ec18-430b-a1a1-785df7a7f15c",
   "metadata": {
    "tags": []
   },
   "outputs": [
    {
     "name": "stdout",
     "output_type": "stream",
     "text": [
      "get_latest_email\n",
      "get_email_count\n",
      "retrieve_emails\n"
     ]
    }
   ],
   "source": [
    "for function_name in few_shot_functions_name:\n",
    "    print(function_name)\n",
    "    with open('./functions/tested functions/%s/%s_prompt.json' % (function_name, function_name), 'r') as f:\n",
    "        msg = json.load(f)\n",
    "    few_shot_messages_CD += msg[\"stage1_CD\"]\n",
    "    few_shot_messages_CM += msg[\"stage1_CM\"]\n",
    "    few_shot_messages += msg['stage2']"
   ]
  },
  {
   "cell_type": "code",
   "execution_count": 536,
   "id": "e21a63af-d3d7-4192-9f50-888b5b2080d2",
   "metadata": {
    "tags": []
   },
   "outputs": [
    {
     "data": {
      "text/plain": [
       "[{'role': 'system',\n",
       "  'content': '# my_mail数据字典：my_mail数据库数据字典\\n\\n本数据字典记录了my_mail数据库中各张数据表的基本情况。\\n我的my_mail中\\nhost=\\'localhost\\',\\nuser=\\'gpt\\',\\npasswd=\"gpt\",\\ndb=\\'my_mail\\'\\n\\n## 1.mailbox数据表\\n\\n- 基本解释\\n\\n  \\u200b\\t\\tmailbox数据表记录了邮箱里的信息，包含收件人，发件人，发件时间，邮件主题，邮件内容，邮件状态，邮件标签等。\\n\\n- 数据来源\\n\\n  \\u200b\\tmailbox数据集由系统记录，并且校验过相关信息，数据集的准确性和可信度都非常高。\\n\\n- 各字段说明\\n\\n| Column Name | Description | Value Range | Value Explanation | Type |\\n|-------------|-------------|-------------|-------------------|------|\\n| userid | 收件人 |              | 由字符串组成的 | VARCHAR(255) |\\n| from_userid | 发件人 |  | 由字符串组成 | VARCHAR(255) |\\n| date | 发邮件的时间 |  | 日期格式  | VARCHAR(255) |\\n| subject | 邮件主题 |  | 由字符串组成 | VARCHAR(255) |\\n| snippet | 邮件内容 | | 由字符串组成 | VARCHAR(255) |\\n| status | 邮件状态 | 已读，未读 | 已读，未读 | VARCHAR(255) |\\n| label | 邮件标签 |  | 由字符串组成| VARCHAR(255) |\\n\\n- 举个例子：\\n| userid | from_userid | date | subject | snippet |status|label|\\n|-------------|-------------|-------------|-------------------|------|--|--|\\n| me | 陆小凤| 2024-07-07|2024年Q2规划|您好，我是陆小凤|未读|开会|\\n\\n如上表格数据代表的业务逻辑是：陆小凤给me发了一封邮件，邮件的主题是Q2规划，该邮件是未读状态。'},\n",
       " {'role': 'user', 'content': '请帮我查下mailbox邮箱里最新一封邮件内容。'},\n",
       " {'role': 'assistant', 'content': '当前需求中可以作为函数参数的是：1.查看谁的邮箱。'},\n",
       " {'role': 'user', 'content': '请帮我查下邮箱里面总共有多少封邮件。'},\n",
       " {'role': 'assistant', 'content': '当前需求中可以作为函数参数的是：1.查询谁的邮箱'},\n",
       " {'role': 'user', 'content': '请帮我查看下最近3封邮件的邮件内容'},\n",
       " {'role': 'assistant', 'content': '当前需求中可以作为函数参数的是：1.查询几封邮件；2.查询谁的邮箱'}]"
      ]
     },
     "execution_count": 536,
     "metadata": {},
     "output_type": "execute_result"
    }
   ],
   "source": [
    "few_shot_messages_CD"
   ]
  },
  {
   "cell_type": "code",
   "execution_count": 537,
   "id": "63a4df3a-bf69-4db1-b966-7a26a5fd75fb",
   "metadata": {
    "tags": []
   },
   "outputs": [
    {
     "data": {
      "text/plain": [
       "[{'role': 'system',\n",
       "  'content': '# my_mail数据字典：my_mail数据库数据字典\\n\\n本数据字典记录了my_mail数据库中各张数据表的基本情况。\\n我的my_mail中\\nhost=\\'localhost\\',\\nuser=\\'gpt\\',\\npasswd=\"gpt\",\\ndb=\\'my_mail\\'\\n\\n## 1.mailbox数据表\\n\\n- 基本解释\\n\\n  \\u200b\\t\\tmailbox数据表记录了邮箱里的信息，包含收件人，发件人，发件时间，邮件主题，邮件内容，邮件状态，邮件标签等。\\n\\n- 数据来源\\n\\n  \\u200b\\tmailbox数据集由系统记录，并且校验过相关信息，数据集的准确性和可信度都非常高。\\n\\n- 各字段说明\\n\\n| Column Name | Description | Value Range | Value Explanation | Type |\\n|-------------|-------------|-------------|-------------------|------|\\n| userid | 收件人 |              | 由字符串组成的 | VARCHAR(255) |\\n| from_userid | 发件人 |  | 由字符串组成 | VARCHAR(255) |\\n| date | 发邮件的时间 |  | 日期格式  | VARCHAR(255) |\\n| subject | 邮件主题 |  | 由字符串组成 | VARCHAR(255) |\\n| snippet | 邮件内容 | | 由字符串组成 | VARCHAR(255) |\\n| status | 邮件状态 | 已读，未读 | 已读，未读 | VARCHAR(255) |\\n| label | 邮件标签 |  | 由字符串组成| VARCHAR(255) |\\n\\n- 举个例子：\\n| userid | from_userid | date | subject | snippet |status|label|\\n|-------------|-------------|-------------|-------------------|------|--|--|\\n| me | 陆小凤| 2024-07-07|2024年Q2规划|您好，我是陆小凤|未读|开会|\\n\\n如上表格数据代表的业务逻辑是：陆小凤给me发了一封邮件，邮件的主题是Q2规划，该邮件是未读状态。'},\n",
       " {'role': 'user',\n",
       "  'content': '请帮我查下mailbox邮箱里最新一封邮件内容。当前需求中可以作为函数参数的是：1.查看谁的邮箱。'},\n",
       " {'role': 'assistant',\n",
       "  'content': \"请帮我编写一个python函数，用于查看我的mailbox邮箱中最后一封邮件信息，函数要求如下：                 1.函数参数userId，userId是字符串参数，默认情况下取值为'me'，表示查看我的邮件；                 2.函数返回结果是一个包含最后一封邮件信息的对象，返回结果本身必须是一个json格式对象；                 3.请将全部功能封装在一个函数内；                 4.请在函数编写过程中，在函数内部加入中文编写的详细的函数说明文档，用于说明函数功能、函数参数情况以及函数返回结果等信息；\"},\n",
       " {'role': 'user', 'content': '请帮我查下邮箱里面总共有多少封邮件。当前需求中可以作为函数参数的是：1.查询谁的邮箱'},\n",
       " {'role': 'assistant',\n",
       "  'content': \"请帮我编写一个python函数，用于查看我的mailbox邮箱中总共有多少封邮件，函数要求如下：                  1.函数参数userId，userId是字符串参数，默认情况下取值为'me'，表示查看我的邮件；                  2.函数返回结果是查询到的这几封邮件的邮件内容，返回结果本身必须是一个json格式对象；                  3.请将全部功能封装在一个函数内；                  4.请在函数编写过程中，在函数内部加入中文编写的详细的函数说明文档，用于说明函数功能、函数参数情况以及函数返回结果等信息；\"},\n",
       " {'role': 'user',\n",
       "  'content': '请帮我查看下最近3封邮件的邮件内容当前需求中可以作为函数参数的是：1.查询几封邮件；2.查询谁的邮箱'},\n",
       " {'role': 'assistant',\n",
       "  'content': \"请帮我编写一个python函数，查询我的邮箱里面最近的几封邮件信息，函数要求如下：                  1.函数参数n和user_id，两个参数都是字符串类型，其中n表示查询最近的几封邮件，user_id表示要检索邮件的用户的ID。默认值是'me'，表示当前授权的用户；                  2.函数返回结果是查询到的这几封邮件的邮件内容，返回结果本身必须是一个json格式对象；                  3.请将全部功能封装在一个函数内；                  4.请在函数编写过程中，在函数内部加入中文编写的详细的函数说明文档，用于说明函数功能、函数参数情况以及函数返回结果等信息；\"}]"
      ]
     },
     "execution_count": 537,
     "metadata": {},
     "output_type": "execute_result"
    }
   ],
   "source": [
    "few_shot_messages_CM"
   ]
  },
  {
   "cell_type": "code",
   "execution_count": 538,
   "id": "47d93bd2-6f66-47df-a438-7617470d8d8d",
   "metadata": {
    "tags": []
   },
   "outputs": [
    {
     "data": {
      "text/plain": [
       "[{'role': 'system',\n",
       "  'content': '# my_mail数据字典：my_mail数据库数据字典\\n\\n本数据字典记录了my_mail数据库中各张数据表的基本情况。\\n我的my_mail中\\nhost=\\'localhost\\',\\nuser=\\'gpt\\',\\npasswd=\"gpt\",\\ndb=\\'my_mail\\'\\n\\n## 1.mailbox数据表\\n\\n- 基本解释\\n\\n  \\u200b\\t\\tmailbox数据表记录了邮箱里的信息，包含收件人，发件人，发件时间，邮件主题，邮件内容，邮件状态，邮件标签等。\\n\\n- 数据来源\\n\\n  \\u200b\\tmailbox数据集由系统记录，并且校验过相关信息，数据集的准确性和可信度都非常高。\\n\\n- 各字段说明\\n\\n| Column Name | Description | Value Range | Value Explanation | Type |\\n|-------------|-------------|-------------|-------------------|------|\\n| userid | 收件人 |              | 由字符串组成的 | VARCHAR(255) |\\n| from_userid | 发件人 |  | 由字符串组成 | VARCHAR(255) |\\n| date | 发邮件的时间 |  | 日期格式  | VARCHAR(255) |\\n| subject | 邮件主题 |  | 由字符串组成 | VARCHAR(255) |\\n| snippet | 邮件内容 | | 由字符串组成 | VARCHAR(255) |\\n| status | 邮件状态 | 已读，未读 | 已读，未读 | VARCHAR(255) |\\n| label | 邮件标签 |  | 由字符串组成| VARCHAR(255) |\\n\\n- 举个例子：\\n| userid | from_userid | date | subject | snippet |status|label|\\n|-------------|-------------|-------------|-------------------|------|--|--|\\n| me | 陆小凤| 2024-07-07|2024年Q2规划|您好，我是陆小凤|未读|开会|\\n\\n如上表格数据代表的业务逻辑是：陆小凤给me发了一封邮件，邮件的主题是Q2规划，该邮件是未读状态。'},\n",
       " {'role': 'user',\n",
       "  'content': \"请帮我编写一个python函数，用于查看我的mailbox邮箱中最后一封邮件信息，函数要求如下：                 1.函数参数userId，userId是字符串参数，默认情况下取值为'me'，表示查看我的邮件；                 2.函数返回结果是一个包含最后一封邮件信息的对象，返回结果本身必须是一个json格式对象；                 3.请将全部功能封装在一个函数内；                 4.请在函数编写过程中，在函数内部加入中文编写的详细的函数说明文档，用于说明函数功能、函数参数情况以及函数返回结果等信息；\"},\n",
       " {'role': 'assistant',\n",
       "  'content': 'def get_latest_email(userId):\\n    \"\"\"\\n    获取最新的一封邮件\\n    参数:\\n    user_id: 要检索邮件的用户的ID。默认值是\\'me\\'，数据格式为字符串类型。\\n\\n    返回:\\n    一个列表，其中每个元素都是一个字典，表示一封邮件。每个字典包含以下键：\\n    \\'from_userid\\': 发件人ID。\\n    \\'date\\': 邮件的发送日期。\\n    \\'subject\\': 邮件的主题。\\n    \\'snippet\\': 邮件的摘要（前100个字符）。\\n    \"\"\"\\n    mysql_pw=\"gpt\"\\n    \\n    connection = pymysql.connect(\\n    host=\\'localhost\\',  # 数据库地址\\n    user=\\'gpt\\',  # 数据库用户名\\n    passwd=mysql_pw,  # 数据库密码\\n    db=\\'my_mail\\',  # 数据库名\\n    charset=\\'utf8\\'  # 字符集选择utf8   \\n    )\\n    sql_query=f\"SELECT * FROM mailbox WHERE userid = \\'{user_id}\\' ORDER BY date DESC LIMIT 1\";\\n\\n    try:\\n        with connection.cursor() as cursor:\\n            sql = sql_query\\n            cursor.execute(sql)\\n            results = cursor.fetchall()\\n    finally:\\n        cursor.close()\\n    \\n    column_names = [desc[0] for desc in cursor.description]\\n\\n    # 使用results和column_names创建DataFrame\\n    df = pd.DataFrame(results, columns=column_names)\\n        \\n    return df.to_json(orient = \"records\")  \\n'},\n",
       " {'role': 'user',\n",
       "  'content': \"请帮我编写一个python函数，用于查看我的mailbox邮箱中总共有多少封邮件，函数要求如下：                  1.函数参数userId，userId是字符串参数，默认情况下取值为'me'，表示查看我的邮件；                  2.函数返回结果是查询到的这几封邮件的邮件内容，返回结果本身必须是一个json格式对象；                  3.请将全部功能封装在一个函数内；                  4.请在函数编写过程中，在函数内部加入中文编写的详细的函数说明文档，用于说明函数功能、函数参数情况以及函数返回结果等信息；\"},\n",
       " {'role': 'assistant',\n",
       "  'content': 'def get_email_count(userId=\\'me\\'):\\n    \"\"\"\\n    获取指定用户邮箱中的邮件总数。\\n\\n    参数:\\n    userId: 要查询的用户的ID。默认值是\\'me\\'，数据格式为字符串类型。\\n\\n    返回:\\n    一个JSON格式对象，包含一个键值对，键为\\'count\\'，值为邮件总数。\\n\\n    示例:\\n    {\\n        \"count\": 123\\n    }\\n    \"\"\"\\n\\n    # 数据库连接配置\\n    config = {\\n        \\'host\\': \\'localhost\\',\\n        \\'user\\': \\'gpt\\',\\n        \\'passwd\\': \\'gpt\\',\\n        \\'db\\': \\'my_mail\\',\\n        \\'charset\\': \\'utf8\\'\\n    }\\n\\n    # 建立数据库连接\\n    try:\\n        connection = pymysql.connect(**config)\\n        with connection.cursor() as cursor:\\n            # 查询邮件总数\\n            sql = f\"SELECT COUNT(*) FROM mailbox WHERE userid = \\'{userId}\\'\"\\n            cursor.execute(sql)\\n            result = cursor.fetchone()\\n            email_count = result[0] if result else 0\\n\\n            # 将结果转换为JSON格式\\n            return json.dumps({\\'count\\': email_count})\\n    except pymysql.MySQLError as e:\\n        print(f\"数据库操作出错: {e}\")\\n        return json.dumps({\\'error\\': str(e)})\\n    finally:\\n        if connection:\\n            connection.close()\\n\\n# 示例调用\\n# print(get_email_count(\\'me\\'))'},\n",
       " {'role': 'user',\n",
       "  'content': \"请帮我编写一个python函数，查询我的邮箱里面最近的几封邮件信息，函数要求如下：                  1.函数参数n和user_id，两个参数都是字符串类型，其中n表示查询最近的几封邮件，user_id表示要检索邮件的用户的ID。默认值是'me'，表示当前授权的用户；                  2.函数返回结果是查询到的这几封邮件的邮件内容，返回结果本身必须是一个json格式对象；                  3.请将全部功能封装在一个函数内；                  4.请在函数编写过程中，在函数内部加入中文编写的详细的函数说明文档，用于说明函数功能、函数参数情况以及函数返回结果等信息；\"},\n",
       " {'role': 'assistant',\n",
       "  'content': 'import pymysql\\nimport numpy as np\\nimport pandas as pd\\n# 这个是自己手写的。\\ndef retrieve_emails(n,user_id=\\'me\\'):\\n    \"\"\"\\n    获取指定数量的新邮件。\\n    参数:\\n    n: 要检索的邮件的数量,数据格式为int类型。\\n    user_id: 要检索邮件的用户的ID。默认值是\\'me\\'，数据格式为字符串类型。\\n\\n    返回:\\n    一个列表，其中每个元素都是一个字典，表示一封邮件。每个字典包含以下键：\\n    \\'from_userid\\': 发件人ID。\\n    \\'date\\': 邮件的发送日期。\\n    \\'subject\\': 邮件的主题。\\n    \\'snippet\\': 邮件的摘要（前100个字符）。\\n    \"\"\"\\n    mysql_pw=\"gpt\"\\n    \\n    connection = pymysql.connect(\\n    host=\\'localhost\\',  # 数据库地址\\n    user=\\'gpt\\',  # 数据库用户名\\n    passwd=mysql_pw,  # 数据库密码\\n    db=\\'my_mail\\',  # 数据库名\\n    charset=\\'utf8\\'  # 字符集选择utf8   \\n    )\\n    sql_query=f\"SELECT * FROM mailbox WHERE userid = \\'{user_id}\\' ORDER BY date DESC LIMIT {n}\";\\n\\n    try:\\n        with connection.cursor() as cursor:\\n            sql = sql_query\\n            cursor.execute(sql)\\n            results = cursor.fetchall()\\n    finally:\\n        cursor.close()\\n    \\n    column_names = [desc[0] for desc in cursor.description]\\n\\n    # 使用results和column_names创建DataFrame\\n    df = pd.DataFrame(results, columns=column_names)\\n        \\n    return df.to_json(orient = \"records\")     '}]"
      ]
     },
     "execution_count": 538,
     "metadata": {},
     "output_type": "execute_result"
    }
   ],
   "source": [
    "few_shot_messages"
   ]
  },
  {
   "cell_type": "code",
   "execution_count": 539,
   "id": "d307fae1-87d0-4467-a695-e60dd66dbf99",
   "metadata": {
    "tags": []
   },
   "outputs": [],
   "source": [
    "new_req_CD_input = \"请查下我的邮箱里是否有来自陆小凤的未读邮件，有的话请解读下这封未读邮件的内容。\""
   ]
  },
  {
   "cell_type": "code",
   "execution_count": 540,
   "id": "85272c03-9e81-419f-8b1a-a5c9477586d3",
   "metadata": {
    "tags": []
   },
   "outputs": [
    {
     "data": {
      "text/plain": [
       "[{'role': 'system',\n",
       "  'content': '# my_mail数据字典：my_mail数据库数据字典\\n\\n本数据字典记录了my_mail数据库中各张数据表的基本情况。\\n我的my_mail中\\nhost=\\'localhost\\',\\nuser=\\'gpt\\',\\npasswd=\"gpt\",\\ndb=\\'my_mail\\'\\n\\n## 1.mailbox数据表\\n\\n- 基本解释\\n\\n  \\u200b\\t\\tmailbox数据表记录了邮箱里的信息，包含收件人，发件人，发件时间，邮件主题，邮件内容，邮件状态，邮件标签等。\\n\\n- 数据来源\\n\\n  \\u200b\\tmailbox数据集由系统记录，并且校验过相关信息，数据集的准确性和可信度都非常高。\\n\\n- 各字段说明\\n\\n| Column Name | Description | Value Range | Value Explanation | Type |\\n|-------------|-------------|-------------|-------------------|------|\\n| userid | 收件人 |              | 由字符串组成的 | VARCHAR(255) |\\n| from_userid | 发件人 |  | 由字符串组成 | VARCHAR(255) |\\n| date | 发邮件的时间 |  | 日期格式  | VARCHAR(255) |\\n| subject | 邮件主题 |  | 由字符串组成 | VARCHAR(255) |\\n| snippet | 邮件内容 | | 由字符串组成 | VARCHAR(255) |\\n| status | 邮件状态 | 已读，未读 | 已读，未读 | VARCHAR(255) |\\n| label | 邮件标签 |  | 由字符串组成| VARCHAR(255) |\\n\\n- 举个例子：\\n| userid | from_userid | date | subject | snippet |status|label|\\n|-------------|-------------|-------------|-------------------|------|--|--|\\n| me | 陆小凤| 2024-07-07|2024年Q2规划|您好，我是陆小凤|未读|开会|\\n\\n如上表格数据代表的业务逻辑是：陆小凤给me发了一封邮件，邮件的主题是Q2规划，该邮件是未读状态。'},\n",
       " {'role': 'user', 'content': '请帮我查下mailbox邮箱里最新一封邮件内容。'},\n",
       " {'role': 'assistant', 'content': '当前需求中可以作为函数参数的是：1.查看谁的邮箱。'},\n",
       " {'role': 'user', 'content': '请帮我查下邮箱里面总共有多少封邮件。'},\n",
       " {'role': 'assistant', 'content': '当前需求中可以作为函数参数的是：1.查询谁的邮箱'},\n",
       " {'role': 'user', 'content': '请帮我查看下最近3封邮件的邮件内容'},\n",
       " {'role': 'assistant', 'content': '当前需求中可以作为函数参数的是：1.查询几封邮件；2.查询谁的邮箱'},\n",
       " {'role': 'user', 'content': '请查下我的邮箱里是否有来自陆小凤的未读邮件，有的话请解读下这封未读邮件的内容。'}]"
      ]
     },
     "execution_count": 540,
     "metadata": {},
     "output_type": "execute_result"
    }
   ],
   "source": [
    "few_shot_messages_CD.append({\"role\": \"user\", \"content\": new_req_CD_input})\n",
    "few_shot_messages_CD"
   ]
  },
  {
   "cell_type": "markdown",
   "id": "af6c8875-7836-4715-9b8e-6561ab15eefd",
   "metadata": {},
   "source": [
    "第一阶段CD环节提示："
   ]
  },
  {
   "cell_type": "code",
   "execution_count": 543,
   "id": "92961d06-4591-4681-a14f-5112a398b225",
   "metadata": {
    "tags": []
   },
   "outputs": [],
   "source": [
    "response = client.chat.completions.create(\n",
    "                        model=\"glm-4\",\n",
    "                        messages=few_shot_messages_CD)\n",
    "\n",
    "new_req_pi = response.choices[0].message.content"
   ]
  },
  {
   "cell_type": "code",
   "execution_count": 544,
   "id": "6d3d7a8a-0c54-48b0-bae3-f5f7ced18943",
   "metadata": {
    "tags": []
   },
   "outputs": [
    {
     "data": {
      "text/plain": [
       "'为了执行这个查询，我们需要编写一个SQL查询来检查邮箱中来自特定用户（在这个案例中是“陆小凤”）且状态为“未读”的邮件。以下是一个可能的SQL查询示例：\\n\\n```sql\\nSELECT snippet\\nFROM mailbox\\nWHERE userid = \\'me\\' AND from_userid = \\'陆小凤\\' AND status = \\'未读\\'\\nLIMIT 1;\\n```\\n\\n这个查询假设`userid`字段代表收件人，`from_userid`代表发件人，并且`status`字段用来标识邮件是否已读。\\n\\n以下是按照您的请求，用伪代码表示的函数调用：\\n\\n```python\\ndef check_and_read_unread_mail(email_account, sender, status):\\n    # 假设已经建立了数据库连接，并且有一个cursor对象可以执行SQL查询。\\n    query = \"\"\"\\n    SELECT snippet\\n    FROM mailbox\\n    WHERE userid = %s AND from_userid = %s AND status = %s\\n    LIMIT 1;\\n    \"\"\"\\n    cursor.execute(query, (email_account, sender, status))\\n    result = cursor.fetchone()\\n    if result:\\n        # 如果有未读邮件，解读邮件内容\\n        mail_content = result[0]\\n        print(\"来自陆小凤的未读邮件内容如下：\")\\n        print(mail_content)\\n        return True\\n    else:\\n        print(\"没有来自陆小凤的未读邮件。\")\\n        return False\\n\\n# 调用函数\\nhas_unread_mail = check_and_read_unread_mail(\\'me\\', \\'陆小凤\\', \\'未读\\')\\n```\\n\\n请注意，这个伪代码假设您已经有了一个数据库连接和游标（cursor）对象。在实际应用中，你还需要处理数据库连接的建立和关闭，以及错误处理等。\\n\\n如果查询结果存在，函数将打印出邮件内容并返回`True`，否则将打印出没有未读邮件的消息并返回`False`。'"
      ]
     },
     "execution_count": 544,
     "metadata": {},
     "output_type": "execute_result"
    }
   ],
   "source": [
    "new_req_pi"
   ]
  },
  {
   "cell_type": "code",
   "execution_count": null,
   "id": "38ca9198-a4ed-4254-903e-84395aa4bfa2",
   "metadata": {},
   "outputs": [],
   "source": []
  },
  {
   "cell_type": "markdown",
   "id": "3b1995ed-2190-48dc-a1ad-824a50c103c2",
   "metadata": {},
   "source": [
    "第一阶段CM环节提示："
   ]
  },
  {
   "cell_type": "code",
   "execution_count": 545,
   "id": "f4df8b2b-d751-494c-87cd-a48a8094cad9",
   "metadata": {
    "tags": []
   },
   "outputs": [
    {
     "data": {
      "text/plain": [
       "'请查下我的邮箱里是否有来自陆小凤的未读邮件，有的话请解读下这封未读邮件的内容。为了执行这个查询，我们需要编写一个SQL查询来检查邮箱中来自特定用户（在这个案例中是“陆小凤”）且状态为“未读”的邮件。以下是一个可能的SQL查询示例：\\n\\n```sql\\nSELECT snippet\\nFROM mailbox\\nWHERE userid = \\'me\\' AND from_userid = \\'陆小凤\\' AND status = \\'未读\\'\\nLIMIT 1;\\n```\\n\\n这个查询假设`userid`字段代表收件人，`from_userid`代表发件人，并且`status`字段用来标识邮件是否已读。\\n\\n以下是按照您的请求，用伪代码表示的函数调用：\\n\\n```python\\ndef check_and_read_unread_mail(email_account, sender, status):\\n    # 假设已经建立了数据库连接，并且有一个cursor对象可以执行SQL查询。\\n    query = \"\"\"\\n    SELECT snippet\\n    FROM mailbox\\n    WHERE userid = %s AND from_userid = %s AND status = %s\\n    LIMIT 1;\\n    \"\"\"\\n    cursor.execute(query, (email_account, sender, status))\\n    result = cursor.fetchone()\\n    if result:\\n        # 如果有未读邮件，解读邮件内容\\n        mail_content = result[0]\\n        print(\"来自陆小凤的未读邮件内容如下：\")\\n        print(mail_content)\\n        return True\\n    else:\\n        print(\"没有来自陆小凤的未读邮件。\")\\n        return False\\n\\n# 调用函数\\nhas_unread_mail = check_and_read_unread_mail(\\'me\\', \\'陆小凤\\', \\'未读\\')\\n```\\n\\n请注意，这个伪代码假设您已经有了一个数据库连接和游标（cursor）对象。在实际应用中，你还需要处理数据库连接的建立和关闭，以及错误处理等。\\n\\n如果查询结果存在，函数将打印出邮件内容并返回`True`，否则将打印出没有未读邮件的消息并返回`False`。'"
      ]
     },
     "execution_count": 545,
     "metadata": {},
     "output_type": "execute_result"
    }
   ],
   "source": [
    "new_req_CM_input = new_req_CD_input + new_req_pi\n",
    "new_req_CM_input"
   ]
  },
  {
   "cell_type": "code",
   "execution_count": 546,
   "id": "f74b5947-4dcf-4b8b-b4ed-60ed5f23a026",
   "metadata": {
    "tags": []
   },
   "outputs": [
    {
     "data": {
      "text/plain": [
       "[{'role': 'system',\n",
       "  'content': '# my_mail数据字典：my_mail数据库数据字典\\n\\n本数据字典记录了my_mail数据库中各张数据表的基本情况。\\n我的my_mail中\\nhost=\\'localhost\\',\\nuser=\\'gpt\\',\\npasswd=\"gpt\",\\ndb=\\'my_mail\\'\\n\\n## 1.mailbox数据表\\n\\n- 基本解释\\n\\n  \\u200b\\t\\tmailbox数据表记录了邮箱里的信息，包含收件人，发件人，发件时间，邮件主题，邮件内容，邮件状态，邮件标签等。\\n\\n- 数据来源\\n\\n  \\u200b\\tmailbox数据集由系统记录，并且校验过相关信息，数据集的准确性和可信度都非常高。\\n\\n- 各字段说明\\n\\n| Column Name | Description | Value Range | Value Explanation | Type |\\n|-------------|-------------|-------------|-------------------|------|\\n| userid | 收件人 |              | 由字符串组成的 | VARCHAR(255) |\\n| from_userid | 发件人 |  | 由字符串组成 | VARCHAR(255) |\\n| date | 发邮件的时间 |  | 日期格式  | VARCHAR(255) |\\n| subject | 邮件主题 |  | 由字符串组成 | VARCHAR(255) |\\n| snippet | 邮件内容 | | 由字符串组成 | VARCHAR(255) |\\n| status | 邮件状态 | 已读，未读 | 已读，未读 | VARCHAR(255) |\\n| label | 邮件标签 |  | 由字符串组成| VARCHAR(255) |\\n\\n- 举个例子：\\n| userid | from_userid | date | subject | snippet |status|label|\\n|-------------|-------------|-------------|-------------------|------|--|--|\\n| me | 陆小凤| 2024-07-07|2024年Q2规划|您好，我是陆小凤|未读|开会|\\n\\n如上表格数据代表的业务逻辑是：陆小凤给me发了一封邮件，邮件的主题是Q2规划，该邮件是未读状态。'},\n",
       " {'role': 'user',\n",
       "  'content': '请帮我查下mailbox邮箱里最新一封邮件内容。当前需求中可以作为函数参数的是：1.查看谁的邮箱。'},\n",
       " {'role': 'assistant',\n",
       "  'content': \"请帮我编写一个python函数，用于查看我的mailbox邮箱中最后一封邮件信息，函数要求如下：                 1.函数参数userId，userId是字符串参数，默认情况下取值为'me'，表示查看我的邮件；                 2.函数返回结果是一个包含最后一封邮件信息的对象，返回结果本身必须是一个json格式对象；                 3.请将全部功能封装在一个函数内；                 4.请在函数编写过程中，在函数内部加入中文编写的详细的函数说明文档，用于说明函数功能、函数参数情况以及函数返回结果等信息；\"},\n",
       " {'role': 'user', 'content': '请帮我查下邮箱里面总共有多少封邮件。当前需求中可以作为函数参数的是：1.查询谁的邮箱'},\n",
       " {'role': 'assistant',\n",
       "  'content': \"请帮我编写一个python函数，用于查看我的mailbox邮箱中总共有多少封邮件，函数要求如下：                  1.函数参数userId，userId是字符串参数，默认情况下取值为'me'，表示查看我的邮件；                  2.函数返回结果是查询到的这几封邮件的邮件内容，返回结果本身必须是一个json格式对象；                  3.请将全部功能封装在一个函数内；                  4.请在函数编写过程中，在函数内部加入中文编写的详细的函数说明文档，用于说明函数功能、函数参数情况以及函数返回结果等信息；\"},\n",
       " {'role': 'user',\n",
       "  'content': '请帮我查看下最近3封邮件的邮件内容当前需求中可以作为函数参数的是：1.查询几封邮件；2.查询谁的邮箱'},\n",
       " {'role': 'assistant',\n",
       "  'content': \"请帮我编写一个python函数，查询我的邮箱里面最近的几封邮件信息，函数要求如下：                  1.函数参数n和user_id，两个参数都是字符串类型，其中n表示查询最近的几封邮件，user_id表示要检索邮件的用户的ID。默认值是'me'，表示当前授权的用户；                  2.函数返回结果是查询到的这几封邮件的邮件内容，返回结果本身必须是一个json格式对象；                  3.请将全部功能封装在一个函数内；                  4.请在函数编写过程中，在函数内部加入中文编写的详细的函数说明文档，用于说明函数功能、函数参数情况以及函数返回结果等信息；\"},\n",
       " {'role': 'user',\n",
       "  'content': '请查下我的邮箱里是否有来自陆小凤的未读邮件，有的话请解读下这封未读邮件的内容。为了执行这个查询，我们需要编写一个SQL查询来检查邮箱中来自特定用户（在这个案例中是“陆小凤”）且状态为“未读”的邮件。以下是一个可能的SQL查询示例：\\n\\n```sql\\nSELECT snippet\\nFROM mailbox\\nWHERE userid = \\'me\\' AND from_userid = \\'陆小凤\\' AND status = \\'未读\\'\\nLIMIT 1;\\n```\\n\\n这个查询假设`userid`字段代表收件人，`from_userid`代表发件人，并且`status`字段用来标识邮件是否已读。\\n\\n以下是按照您的请求，用伪代码表示的函数调用：\\n\\n```python\\ndef check_and_read_unread_mail(email_account, sender, status):\\n    # 假设已经建立了数据库连接，并且有一个cursor对象可以执行SQL查询。\\n    query = \"\"\"\\n    SELECT snippet\\n    FROM mailbox\\n    WHERE userid = %s AND from_userid = %s AND status = %s\\n    LIMIT 1;\\n    \"\"\"\\n    cursor.execute(query, (email_account, sender, status))\\n    result = cursor.fetchone()\\n    if result:\\n        # 如果有未读邮件，解读邮件内容\\n        mail_content = result[0]\\n        print(\"来自陆小凤的未读邮件内容如下：\")\\n        print(mail_content)\\n        return True\\n    else:\\n        print(\"没有来自陆小凤的未读邮件。\")\\n        return False\\n\\n# 调用函数\\nhas_unread_mail = check_and_read_unread_mail(\\'me\\', \\'陆小凤\\', \\'未读\\')\\n```\\n\\n请注意，这个伪代码假设您已经有了一个数据库连接和游标（cursor）对象。在实际应用中，你还需要处理数据库连接的建立和关闭，以及错误处理等。\\n\\n如果查询结果存在，函数将打印出邮件内容并返回`True`，否则将打印出没有未读邮件的消息并返回`False`。'}]"
      ]
     },
     "execution_count": 546,
     "metadata": {},
     "output_type": "execute_result"
    }
   ],
   "source": [
    "few_shot_messages_CM.append({\"role\": \"user\", \"content\": new_req_CM_input})\n",
    "few_shot_messages_CM"
   ]
  },
  {
   "cell_type": "code",
   "execution_count": 547,
   "id": "49c6594a-0395-4ff8-b507-de8b2fe354a1",
   "metadata": {
    "tags": []
   },
   "outputs": [],
   "source": [
    "response = client.chat.completions.create(\n",
    "                        model=\"glm-4\",\n",
    "                        messages=few_shot_messages_CM)\n",
    "\n",
    "new_req_description = response.choices[0].message.content"
   ]
  },
  {
   "cell_type": "code",
   "execution_count": 548,
   "id": "a4952f82-c72f-416a-9a67-7f8d584868be",
   "metadata": {
    "tags": []
   },
   "outputs": [
    {
     "data": {
      "text/plain": [
       "'以下是按照您的要求，编写的Python函数，该函数会查询数据库中来自特定发件人的未读邮件，并返回邮件内容。这个例子假设您已经有一个数据库连接对象（这里命名为`db_connection`），并且您的数据库环境已经设置好了。\\n\\n```python\\nimport json\\nimport pymysql  # 或者您使用的其他数据库连接库\\n\\n# 假设已经定义了数据库连接信息\\nhost = \\'localhost\\'\\nuser = \\'gpt\\'\\npasswd = \"gpt\"\\ndb = \\'my_mail\\'\\n\\n# 建立数据库连接\\ndb_connection = pymysql.connect(host=host, user=user, passwd=passwd, db=db)\\n\\ndef check_and_read_unread_mail(user_id=\\'me\\', sender=\\'陆小凤\\'):\\n    \"\"\"\\n    检查指定用户邮箱中来自特定发件人的未读邮件。\\n\\n    参数:\\n    user_id (str): 收件人的用户ID，默认为\\'me\\'。\\n    sender (str): 发件人的名称，默认为\\'陆小凤\\'。\\n\\n    返回:\\n    json: 包含邮件内容的JSON对象。如果未找到邮件，则返回空JSON对象。\\n\\n    示例:\\n    >>> check_and_read_unread_mail(\\'me\\', \\'陆小凤\\')\\n    {\\'snippet\\': \\'邮件内容\\'}\\n    \"\"\"\\n    try:\\n        # 创建一个游标对象\\n        with db_connection.cursor() as cursor:\\n            # 执行SQL查询\\n            query = \"\"\"\\n            SELECT snippet, subject, date\\n            FROM mailbox\\n            WHERE userid = %s AND from_userid = %s AND status = \\'未读\\'\\n            ORDER BY date DESC\\n            LIMIT 1;\\n            \"\"\"\\n            cursor.execute(query, (user_id, sender))\\n            result = cursor.fetchone()\\n            if result:\\n                # 如果找到未读邮件，构建JSON对象\\n                mail_info = {\\n                    \\'snippet\\': result[0],\\n                    \\'subject\\': result[1],\\n                    \\'date\\': result[2]\\n                }\\n                return json.dumps(mail_info, ensure_ascii=False)\\n            else:\\n                # 如果没有找到邮件，返回空JSON对象\\n                return json.dumps({})\\n    except Exception as e:\\n        print(f\"数据库操作出错: {e}\")\\n        return json.dumps({})\\n    finally:\\n        # 关闭数据库连接\\n        db_connection.close()\\n\\n# 调用函数并打印结果\\nprint(check_and_read_unread_mail(\\'me\\', \\'陆小凤\\'))\\n```\\n\\n请注意，这里使用了`pymysql`作为数据库连接库，您可能需要根据实际情况安装这个库或替换成其他数据库连接库，如`sqlite3`、`psycopg2`等。此外，上面的代码中包含了错误处理和数据库连接的关闭操作，确保了资源的正确释放。\\n\\n另外，函数返回的是一个JSON格式的字符串，如果需要返回的是JSON对象，您可以在调用函数后使用`json.loads()`方法来反序列化JSON字符串。'"
      ]
     },
     "execution_count": 548,
     "metadata": {},
     "output_type": "execute_result"
    }
   ],
   "source": [
    "new_req_description"
   ]
  },
  {
   "cell_type": "code",
   "execution_count": null,
   "id": "5482ebe9-2c29-4b5d-b23c-6e83e94935cd",
   "metadata": {},
   "outputs": [],
   "source": [
    "第二阶段提示"
   ]
  },
  {
   "cell_type": "code",
   "execution_count": 549,
   "id": "8c058c94-956b-4416-b43e-aa48ad8c3fda",
   "metadata": {
    "tags": []
   },
   "outputs": [
    {
     "data": {
      "text/plain": [
       "[{'role': 'system',\n",
       "  'content': '# my_mail数据字典：my_mail数据库数据字典\\n\\n本数据字典记录了my_mail数据库中各张数据表的基本情况。\\n我的my_mail中\\nhost=\\'localhost\\',\\nuser=\\'gpt\\',\\npasswd=\"gpt\",\\ndb=\\'my_mail\\'\\n\\n## 1.mailbox数据表\\n\\n- 基本解释\\n\\n  \\u200b\\t\\tmailbox数据表记录了邮箱里的信息，包含收件人，发件人，发件时间，邮件主题，邮件内容，邮件状态，邮件标签等。\\n\\n- 数据来源\\n\\n  \\u200b\\tmailbox数据集由系统记录，并且校验过相关信息，数据集的准确性和可信度都非常高。\\n\\n- 各字段说明\\n\\n| Column Name | Description | Value Range | Value Explanation | Type |\\n|-------------|-------------|-------------|-------------------|------|\\n| userid | 收件人 |              | 由字符串组成的 | VARCHAR(255) |\\n| from_userid | 发件人 |  | 由字符串组成 | VARCHAR(255) |\\n| date | 发邮件的时间 |  | 日期格式  | VARCHAR(255) |\\n| subject | 邮件主题 |  | 由字符串组成 | VARCHAR(255) |\\n| snippet | 邮件内容 | | 由字符串组成 | VARCHAR(255) |\\n| status | 邮件状态 | 已读，未读 | 已读，未读 | VARCHAR(255) |\\n| label | 邮件标签 |  | 由字符串组成| VARCHAR(255) |\\n\\n- 举个例子：\\n| userid | from_userid | date | subject | snippet |status|label|\\n|-------------|-------------|-------------|-------------------|------|--|--|\\n| me | 陆小凤| 2024-07-07|2024年Q2规划|您好，我是陆小凤|未读|开会|\\n\\n如上表格数据代表的业务逻辑是：陆小凤给me发了一封邮件，邮件的主题是Q2规划，该邮件是未读状态。'},\n",
       " {'role': 'user',\n",
       "  'content': \"请帮我编写一个python函数，用于查看我的mailbox邮箱中最后一封邮件信息，函数要求如下：                 1.函数参数userId，userId是字符串参数，默认情况下取值为'me'，表示查看我的邮件；                 2.函数返回结果是一个包含最后一封邮件信息的对象，返回结果本身必须是一个json格式对象；                 3.请将全部功能封装在一个函数内；                 4.请在函数编写过程中，在函数内部加入中文编写的详细的函数说明文档，用于说明函数功能、函数参数情况以及函数返回结果等信息；\"},\n",
       " {'role': 'assistant',\n",
       "  'content': 'def get_latest_email(userId):\\n    \"\"\"\\n    获取最新的一封邮件\\n    参数:\\n    user_id: 要检索邮件的用户的ID。默认值是\\'me\\'，数据格式为字符串类型。\\n\\n    返回:\\n    一个列表，其中每个元素都是一个字典，表示一封邮件。每个字典包含以下键：\\n    \\'from_userid\\': 发件人ID。\\n    \\'date\\': 邮件的发送日期。\\n    \\'subject\\': 邮件的主题。\\n    \\'snippet\\': 邮件的摘要（前100个字符）。\\n    \"\"\"\\n    mysql_pw=\"gpt\"\\n    \\n    connection = pymysql.connect(\\n    host=\\'localhost\\',  # 数据库地址\\n    user=\\'gpt\\',  # 数据库用户名\\n    passwd=mysql_pw,  # 数据库密码\\n    db=\\'my_mail\\',  # 数据库名\\n    charset=\\'utf8\\'  # 字符集选择utf8   \\n    )\\n    sql_query=f\"SELECT * FROM mailbox WHERE userid = \\'{user_id}\\' ORDER BY date DESC LIMIT 1\";\\n\\n    try:\\n        with connection.cursor() as cursor:\\n            sql = sql_query\\n            cursor.execute(sql)\\n            results = cursor.fetchall()\\n    finally:\\n        cursor.close()\\n    \\n    column_names = [desc[0] for desc in cursor.description]\\n\\n    # 使用results和column_names创建DataFrame\\n    df = pd.DataFrame(results, columns=column_names)\\n        \\n    return df.to_json(orient = \"records\")  \\n'},\n",
       " {'role': 'user',\n",
       "  'content': \"请帮我编写一个python函数，用于查看我的mailbox邮箱中总共有多少封邮件，函数要求如下：                  1.函数参数userId，userId是字符串参数，默认情况下取值为'me'，表示查看我的邮件；                  2.函数返回结果是查询到的这几封邮件的邮件内容，返回结果本身必须是一个json格式对象；                  3.请将全部功能封装在一个函数内；                  4.请在函数编写过程中，在函数内部加入中文编写的详细的函数说明文档，用于说明函数功能、函数参数情况以及函数返回结果等信息；\"},\n",
       " {'role': 'assistant',\n",
       "  'content': 'def get_email_count(userId=\\'me\\'):\\n    \"\"\"\\n    获取指定用户邮箱中的邮件总数。\\n\\n    参数:\\n    userId: 要查询的用户的ID。默认值是\\'me\\'，数据格式为字符串类型。\\n\\n    返回:\\n    一个JSON格式对象，包含一个键值对，键为\\'count\\'，值为邮件总数。\\n\\n    示例:\\n    {\\n        \"count\": 123\\n    }\\n    \"\"\"\\n\\n    # 数据库连接配置\\n    config = {\\n        \\'host\\': \\'localhost\\',\\n        \\'user\\': \\'gpt\\',\\n        \\'passwd\\': \\'gpt\\',\\n        \\'db\\': \\'my_mail\\',\\n        \\'charset\\': \\'utf8\\'\\n    }\\n\\n    # 建立数据库连接\\n    try:\\n        connection = pymysql.connect(**config)\\n        with connection.cursor() as cursor:\\n            # 查询邮件总数\\n            sql = f\"SELECT COUNT(*) FROM mailbox WHERE userid = \\'{userId}\\'\"\\n            cursor.execute(sql)\\n            result = cursor.fetchone()\\n            email_count = result[0] if result else 0\\n\\n            # 将结果转换为JSON格式\\n            return json.dumps({\\'count\\': email_count})\\n    except pymysql.MySQLError as e:\\n        print(f\"数据库操作出错: {e}\")\\n        return json.dumps({\\'error\\': str(e)})\\n    finally:\\n        if connection:\\n            connection.close()\\n\\n# 示例调用\\n# print(get_email_count(\\'me\\'))'},\n",
       " {'role': 'user',\n",
       "  'content': \"请帮我编写一个python函数，查询我的邮箱里面最近的几封邮件信息，函数要求如下：                  1.函数参数n和user_id，两个参数都是字符串类型，其中n表示查询最近的几封邮件，user_id表示要检索邮件的用户的ID。默认值是'me'，表示当前授权的用户；                  2.函数返回结果是查询到的这几封邮件的邮件内容，返回结果本身必须是一个json格式对象；                  3.请将全部功能封装在一个函数内；                  4.请在函数编写过程中，在函数内部加入中文编写的详细的函数说明文档，用于说明函数功能、函数参数情况以及函数返回结果等信息；\"},\n",
       " {'role': 'assistant',\n",
       "  'content': 'import pymysql\\nimport numpy as np\\nimport pandas as pd\\n# 这个是自己手写的。\\ndef retrieve_emails(n,user_id=\\'me\\'):\\n    \"\"\"\\n    获取指定数量的新邮件。\\n    参数:\\n    n: 要检索的邮件的数量,数据格式为int类型。\\n    user_id: 要检索邮件的用户的ID。默认值是\\'me\\'，数据格式为字符串类型。\\n\\n    返回:\\n    一个列表，其中每个元素都是一个字典，表示一封邮件。每个字典包含以下键：\\n    \\'from_userid\\': 发件人ID。\\n    \\'date\\': 邮件的发送日期。\\n    \\'subject\\': 邮件的主题。\\n    \\'snippet\\': 邮件的摘要（前100个字符）。\\n    \"\"\"\\n    mysql_pw=\"gpt\"\\n    \\n    connection = pymysql.connect(\\n    host=\\'localhost\\',  # 数据库地址\\n    user=\\'gpt\\',  # 数据库用户名\\n    passwd=mysql_pw,  # 数据库密码\\n    db=\\'my_mail\\',  # 数据库名\\n    charset=\\'utf8\\'  # 字符集选择utf8   \\n    )\\n    sql_query=f\"SELECT * FROM mailbox WHERE userid = \\'{user_id}\\' ORDER BY date DESC LIMIT {n}\";\\n\\n    try:\\n        with connection.cursor() as cursor:\\n            sql = sql_query\\n            cursor.execute(sql)\\n            results = cursor.fetchall()\\n    finally:\\n        cursor.close()\\n    \\n    column_names = [desc[0] for desc in cursor.description]\\n\\n    # 使用results和column_names创建DataFrame\\n    df = pd.DataFrame(results, columns=column_names)\\n        \\n    return df.to_json(orient = \"records\")     '},\n",
       " {'role': 'user',\n",
       "  'content': '以下是按照您的要求，编写的Python函数，该函数会查询数据库中来自特定发件人的未读邮件，并返回邮件内容。这个例子假设您已经有一个数据库连接对象（这里命名为`db_connection`），并且您的数据库环境已经设置好了。\\n\\n```python\\nimport json\\nimport pymysql  # 或者您使用的其他数据库连接库\\n\\n# 假设已经定义了数据库连接信息\\nhost = \\'localhost\\'\\nuser = \\'gpt\\'\\npasswd = \"gpt\"\\ndb = \\'my_mail\\'\\n\\n# 建立数据库连接\\ndb_connection = pymysql.connect(host=host, user=user, passwd=passwd, db=db)\\n\\ndef check_and_read_unread_mail(user_id=\\'me\\', sender=\\'陆小凤\\'):\\n    \"\"\"\\n    检查指定用户邮箱中来自特定发件人的未读邮件。\\n\\n    参数:\\n    user_id (str): 收件人的用户ID，默认为\\'me\\'。\\n    sender (str): 发件人的名称，默认为\\'陆小凤\\'。\\n\\n    返回:\\n    json: 包含邮件内容的JSON对象。如果未找到邮件，则返回空JSON对象。\\n\\n    示例:\\n    >>> check_and_read_unread_mail(\\'me\\', \\'陆小凤\\')\\n    {\\'snippet\\': \\'邮件内容\\'}\\n    \"\"\"\\n    try:\\n        # 创建一个游标对象\\n        with db_connection.cursor() as cursor:\\n            # 执行SQL查询\\n            query = \"\"\"\\n            SELECT snippet, subject, date\\n            FROM mailbox\\n            WHERE userid = %s AND from_userid = %s AND status = \\'未读\\'\\n            ORDER BY date DESC\\n            LIMIT 1;\\n            \"\"\"\\n            cursor.execute(query, (user_id, sender))\\n            result = cursor.fetchone()\\n            if result:\\n                # 如果找到未读邮件，构建JSON对象\\n                mail_info = {\\n                    \\'snippet\\': result[0],\\n                    \\'subject\\': result[1],\\n                    \\'date\\': result[2]\\n                }\\n                return json.dumps(mail_info, ensure_ascii=False)\\n            else:\\n                # 如果没有找到邮件，返回空JSON对象\\n                return json.dumps({})\\n    except Exception as e:\\n        print(f\"数据库操作出错: {e}\")\\n        return json.dumps({})\\n    finally:\\n        # 关闭数据库连接\\n        db_connection.close()\\n\\n# 调用函数并打印结果\\nprint(check_and_read_unread_mail(\\'me\\', \\'陆小凤\\'))\\n```\\n\\n请注意，这里使用了`pymysql`作为数据库连接库，您可能需要根据实际情况安装这个库或替换成其他数据库连接库，如`sqlite3`、`psycopg2`等。此外，上面的代码中包含了错误处理和数据库连接的关闭操作，确保了资源的正确释放。\\n\\n另外，函数返回的是一个JSON格式的字符串，如果需要返回的是JSON对象，您可以在调用函数后使用`json.loads()`方法来反序列化JSON字符串。'}]"
      ]
     },
     "execution_count": 549,
     "metadata": {},
     "output_type": "execute_result"
    }
   ],
   "source": [
    "few_shot_messages.append({\"role\": \"user\", \"content\": new_req_description})\n",
    "few_shot_messages"
   ]
  },
  {
   "cell_type": "code",
   "execution_count": 550,
   "id": "2c6b71e4-6b32-4a85-92c5-930f74f43aab",
   "metadata": {
    "tags": []
   },
   "outputs": [],
   "source": [
    "response = client.chat.completions.create(\n",
    "                model=\"glm-4\",\n",
    "                messages=few_shot_messages)"
   ]
  },
  {
   "cell_type": "code",
   "execution_count": 551,
   "id": "a250edc9-8442-408f-8c78-52e01dbc98c8",
   "metadata": {
    "tags": []
   },
   "outputs": [
    {
     "data": {
      "text/plain": [
       "'</div><div class=\"answer-title\">Example Response</div><div class=\"answer-content\">\\n\\n如果您需要返回最近的几封邮件的信息，以下是相应的Python函数实现：\\n\\n```python\\nimport pymysql\\nimport json\\n\\ndef get_recent_emails(n, user_id=\\'me\\'):\\n    \"\"\"\\n    获取指定用户最近的几封邮件信息。\\n\\n    参数:\\n    n (str): 要查询的邮件数量，必须为正整数。\\n    user_id (str): 要检索邮件的用户的ID。默认值是\\'me\\'。\\n\\n    返回:\\n    json: 返回一个JSON格式对象，包含查询到的邮件列表。\\n          每封邮件包含以下信息：\\'from_userid\\', \\'date\\', \\'subject\\', \\'snippet\\'。\\n\\n    示例:\\n    >>> get_recent_emails(\\'5\\', \\'me\\')\\n    {\\n        \"emails\": [\\n            {\"from_userid\": \"发件人ID\", \"date\": \"邮件日期\", \"subject\": \"邮件主题\", \"snippet\": \"邮件摘要\"},\\n            ...\\n        ]\\n    }\\n    \"\"\"\\n    # 数据库连接配置\\n    config = {\\n        \\'host\\': \\'localhost\\',\\n        \\'user\\': \\'gpt\\',\\n        \\'passwd\\': \\'gpt\\',\\n        \\'db\\': \\'my_mail\\',\\n        \\'charset\\': \\'utf8\\'\\n    }\\n\\n    try:\\n        # 建立数据库连接\\n        connection = pymysql.connect(**config)\\n        with connection.cursor() as cursor:\\n            # 查询最近的n封邮件\\n            sql = f\"\"\"\\n            SELECT from_userid, date, subject, snippet\\n            FROM mailbox\\n            WHERE userid = %s\\n            ORDER BY date DESC\\n            LIMIT %s;\\n            \"\"\"\\n            cursor.execute(sql, (user_id, int(n)))\\n            results = cursor.fetchall()\\n\\n            # 构造邮件列表\\n            emails = []\\n            for row in results:\\n                email = {\\n                    \\'from_userid\\': row[0],\\n                    \\'date\\': row[1],\\n                    \\'subject\\': row[2],\\n                    \\'snippet\\': row[3]\\n                }\\n                emails.append(email)\\n\\n            # 返回JSON格式数据\\n            return json.dumps({\\'emails\\': emails}, ensure_ascii=False)\\n    except pymysql.MySQLError as e:\\n        print(f\"数据库操作出错: {e}\")\\n        return json.dumps({\\'error\\': str(e)})\\n    finally:\\n        if connection:\\n            connection.close()\\n\\n# 示例调用\\nprint(get_recent_emails(\\'3\\', \\'me\\'))\\n```\\n\\n在这个函数中，我们首先定义了数据库连接配置，然后执行了一个SQL查询来获取指定用户最近的n封邮件。查询结果被转换为列表字典格式，并最终被转换为JSON格式返回。注意，这里的`n`参数被转换为整数以确保它可以被用于SQL查询中的`LIMIT`子句。\\n\\n请确保您的数据库用户名、密码和数据库名与配置中的对应信息匹配，并且您的数据库服务器正在运行。此外，确保您的`my_mail`数据库中有一个名为`mailbox`的表，且表中包含`from_userid`, `date`, `subject`, `snippet`字段。'"
      ]
     },
     "execution_count": 551,
     "metadata": {},
     "output_type": "execute_result"
    }
   ],
   "source": [
    "new_req_function = response.choices[0].message.content\n",
    "new_req_function"
   ]
  },
  {
   "cell_type": "code",
   "execution_count": 552,
   "id": "ee20a898-f58f-4d4a-b8af-957f536cc67d",
   "metadata": {
    "tags": []
   },
   "outputs": [
    {
     "name": "stdout",
     "output_type": "stream",
     "text": [
      "{\"emails\": [{\"from_userid\": \"西门吹雪\", \"date\": \"2024-06-07\", \"subject\": \"开会\", \"snippet\": \"明天10点到海淀区叶青大厦5楼502开会\"}, {\"from_userid\": \"西门吹雪\", \"date\": \"2024-06-06\", \"subject\": \"速回公司\", \"snippet\": \"赶快回来公司\"}, {\"from_userid\": \"陆小凤\", \"date\": \"2024-06-03\", \"subject\": \"2024年Q2规划\", \"snippet\": \"李先生，您好，我是陆小凤，这是我给您发的邮件，里面是Q2规划：聚焦核心业务，优化流程，提升效率。加强团队协作，培养人才。探索新市场，拓宽业务领域。确保目标达成，实现增长。详细见邮箱附件\"}]}\n",
      "def get_recent_emails(n, user_id='me'):\n",
      "    \"\"\"\n",
      "    获取指定用户最近的几封邮件信息。\n",
      "\n",
      "    参数:\n",
      "    n (str): 要查询的邮件数量，必须为正整数。\n",
      "    user_id (str): 要检索邮件的用户的ID。默认值是'me'。\n",
      "\n",
      "    返回:\n",
      "    json: 返回一个JSON格式对象，包含查询到的邮件列表。\n",
      "          每封邮件包含以下信息：'from_userid', 'date', 'subject', 'snippet'。\n",
      "\n",
      "    示例:\n",
      "    >>> get_recent_emails('5', 'me')\n",
      "    {\n",
      "        \"emails\": [\n",
      "            {\"from_userid\": \"发件人ID\", \"date\": \"邮件日期\", \"subject\": \"邮件主题\", \"snippet\": \"邮件摘要\"},\n",
      "            ...\n",
      "        ]\n",
      "    }\n",
      "    \"\"\"\n",
      "    # 数据库连接配置\n",
      "    config = {\n",
      "        'host': 'localhost',\n",
      "        'user': 'gpt',\n",
      "        'passwd': 'gpt',\n",
      "        'db': 'my_mail',\n",
      "        'charset': 'utf8'\n",
      "    }\n",
      "\n",
      "    try:\n",
      "        # 建立数据库连接\n",
      "        connection = pymysql.connect(**config)\n",
      "        with connection.cursor() as cursor:\n",
      "            # 查询最近的n封邮件\n",
      "            sql = f\"\"\"\n",
      "            SELECT from_userid, date, subject, snippet\n",
      "            FROM mailbox\n",
      "            WHERE userid = %s\n",
      "            ORDER BY date DESC\n",
      "            LIMIT %s;\n",
      "            \"\"\"\n",
      "            cursor.execute(sql, (user_id, int(n)))\n",
      "            results = cursor.fetchall()\n",
      "\n",
      "            # 构造邮件列表\n",
      "            emails = []\n",
      "            for row in results:\n",
      "                email = {\n",
      "                    'from_userid': row[0],\n",
      "                    'date': row[1],\n",
      "                    'subject': row[2],\n",
      "                    'snippet': row[3]\n",
      "                }\n",
      "                emails.append(email)\n",
      "\n",
      "            # 返回JSON格式数据\n",
      "            return json.dumps({'emails': emails}, ensure_ascii=False)\n",
      "    except pymysql.MySQLError as e:\n",
      "        print(f\"数据库操作出错: {e}\")\n",
      "        return json.dumps({'error': str(e)})\n",
      "    finally:\n",
      "        if connection:\n",
      "            connection.close()\n",
      "\n",
      "# 示例调用\n",
      "print(get_recent_emails('3', 'me'))\n",
      "\n"
     ]
    },
    {
     "data": {
      "text/plain": [
       "'get_recent_emails'"
      ]
     },
     "execution_count": 552,
     "metadata": {},
     "output_type": "execute_result"
    }
   ],
   "source": [
    "extract_function_code(new_req_function, detail=1, g=globals())"
   ]
  },
  {
   "cell_type": "markdown",
   "id": "23850c41-95e9-4f6a-824d-221971032b51",
   "metadata": {},
   "source": [
    "接下来测试一下code_generate函数"
   ]
  },
  {
   "cell_type": "code",
   "execution_count": 561,
   "id": "ed43cf32-b448-453c-b129-d3da6a8ebded",
   "metadata": {
    "tags": []
   },
   "outputs": [],
   "source": [
    "few_shot_functions = ['get_latest_email', 'get_email_count']"
   ]
  },
  {
   "cell_type": "code",
   "execution_count": 562,
   "id": "a7f28026-1b1b-474f-9cce-3c4f38d3083d",
   "metadata": {
    "tags": []
   },
   "outputs": [],
   "source": [
    "req = \"请查下我的邮箱里是否有来自陆小凤的未读邮件，有的话请解读下这封未读邮件的内容。\""
   ]
  },
  {
   "cell_type": "code",
   "execution_count": 563,
   "id": "25aa0a65-db1a-464a-95e7-c8bc6c56a6d0",
   "metadata": {
    "tags": []
   },
   "outputs": [
    {
     "name": "stdout",
     "output_type": "stream",
     "text": [
      "第一阶段CD环节提示创建完毕，正在进行CD提示...\n",
      "第一阶段CD环节提示完毕\n",
      "第一阶段CM环节提示创建完毕，正在进行第一阶段CM提示...\n",
      "第一阶段CM环节提示完毕\n",
      "第二阶段提示创建完毕，正在进行第二阶段提示...\n",
      "第二阶段提示完毕，准备运行函数并编写提示示例\n",
      "未读邮件内容： {\"userid\": \"me\", \"from_userid\": \"\\u9646\\u5c0f\\u51e4\", \"date\": \"2024-06-03\", \"subject\": \"2024\\u5e74Q2\\u89c4\\u5212\", \"snippet\": \"\\u674e\\u5148\\u751f\\uff0c\\u60a8\\u597d\\uff0c\\u6211\\u662f\\u9646\\u5c0f\\u51e4\\uff0c\\u8fd9\\u662f\\u6211\\u7ed9\\u60a8\\u53d1\\u7684\\u90ae\\u4ef6\\uff0c\\u91cc\\u9762\\u662fQ2\\u89c4\\u5212\\uff1a\\u805a\\u7126\\u6838\\u5fc3\\u4e1a\\u52a1\\uff0c\\u4f18\\u5316\\u6d41\\u7a0b\\uff0c\\u63d0\\u5347\\u6548\\u7387\\u3002\\u52a0\\u5f3a\\u56e2\\u961f\\u534f\\u4f5c\\uff0c\\u57f9\\u517b\\u4eba\\u624d\\u3002\\u63a2\\u7d22\\u65b0\\u5e02\\u573a\\uff0c\\u62d3\\u5bbd\\u4e1a\\u52a1\\u9886\\u57df\\u3002\\u786e\\u4fdd\\u76ee\\u6807\\u8fbe\\u6210\\uff0c\\u5b9e\\u73b0\\u589e\\u957f\\u3002\\u8be6\\u7ec6\\u89c1\\u90ae\\u7bb1\\u9644\\u4ef6\", \"status\": \"\\u672a\\u8bfb\", \"label\": \"\\u89c4\\u5212\"}\n",
      "The function name is:check_unread_mail_from_luxiaofeng\n",
      "新函数保存在./functions/untested functions/check_unread_mail_from_luxiaofeng/check_unread_mail_from_luxiaofeng_module.py文件中\n",
      "新函数提示示例保存在./functions/untested functions/check_unread_mail_from_luxiaofeng/check_unread_mail_from_luxiaofeng_prompt.json文件中\n",
      "done\n"
     ]
    }
   ],
   "source": [
    "function_name = code_generate(req=req, few_shot=few_shot_functions)"
   ]
  },
  {
   "cell_type": "code",
   "execution_count": 564,
   "id": "e4668354-7aa2-452c-849c-122b6cc4095b",
   "metadata": {
    "tags": []
   },
   "outputs": [],
   "source": [
    "functions_list = [check_unread_mail_from_luxiaofeng]"
   ]
  },
  {
   "cell_type": "code",
   "execution_count": 565,
   "id": "5ba30b93-8a18-4846-aa09-08a4a3da9a2d",
   "metadata": {
    "tags": []
   },
   "outputs": [],
   "source": [
    "messages = [{\"role\": \"system\", \"content\": \"我的邮箱号叫me,陆小凤的邮箱号就叫陆小凤\"},\n",
    "            {\"role\": \"user\", \"content\": req}]"
   ]
  },
  {
   "cell_type": "code",
   "execution_count": 567,
   "id": "80175aa0-68ea-4ca2-adde-32c88b2c36db",
   "metadata": {
    "tags": []
   },
   "outputs": [
    {
     "name": "stdout",
     "output_type": "stream",
     "text": [
      "发生错误： Expecting value: line 15 column 29 (char 370)\n",
      "正在重新运行...\n",
      "{'check_unread_mail_from_luxiaofeng': <function check_unread_mail_from_luxiaofeng at 0x7f4df826c550>}\n",
      "CompletionMessage(content='您的邮箱中确实有一封来自陆小凤的未读邮件，邮件的主题是“2024年Q2规划”。邮件的内容简要如下：\\n\\n陆小凤在邮件中提到，这是他给您发送的邮件，内容是关于第二季度的规划：聚焦核心业务，优化流程，提升效率。加强团队协作，培养人才。探索新市场，拓展业务领域。确保目标达成，实现增长。详细内容请查看邮箱附件。\\n\\n这封邮件目前的状态是“未读”，并且被标记为“规划”类别。如果您需要查看详细内容或附件，请登录您的邮箱进行查看。', role='assistant', tool_calls=None)\n"
     ]
    }
   ],
   "source": [
    "final_response = run_conversation(messages=messages, functions_list=functions_list, model=\"glm-4\")"
   ]
  },
  {
   "cell_type": "code",
   "execution_count": 568,
   "id": "50d01f87-7cae-4ea3-a1f2-4c904b8010a4",
   "metadata": {
    "tags": []
   },
   "outputs": [
    {
     "data": {
      "text/plain": [
       "'您的邮箱中确实有一封来自陆小凤的未读邮件，邮件的主题是“2024年Q2规划”。邮件的内容简要如下：\\n\\n陆小凤在邮件中提到，这是他给您发送的邮件，内容是关于第二季度的规划：聚焦核心业务，优化流程，提升效率。加强团队协作，培养人才。探索新市场，拓展业务领域。确保目标达成，实现增长。详细内容请查看邮箱附件。\\n\\n这封邮件目前的状态是“未读”，并且被标记为“规划”类别。如果您需要查看详细内容或附件，请登录您的邮箱进行查看。'"
      ]
     },
     "execution_count": 568,
     "metadata": {},
     "output_type": "execute_result"
    }
   ],
   "source": [
    "final_response"
   ]
  },
  {
   "cell_type": "markdown",
   "id": "daab03c9-5096-48fb-98c7-fed7040dd29d",
   "metadata": {},
   "source": [
    "## 4 额外需求测试"
   ]
  },
  {
   "cell_type": "code",
   "execution_count": 596,
   "id": "78b6e744-16a3-4f39-bd54-124558da1b48",
   "metadata": {
    "tags": []
   },
   "outputs": [],
   "source": [
    "few_shot_functions = ['get_latest_email', 'get_email_count']"
   ]
  },
  {
   "cell_type": "code",
   "execution_count": 601,
   "id": "93313dac-ac06-4cd8-b3f3-94c7b38990d3",
   "metadata": {
    "tags": []
   },
   "outputs": [],
   "source": [
    "req = \"请查下邮箱里，me这个邮箱给陆小凤发过多少封邮件？\""
   ]
  },
  {
   "cell_type": "code",
   "execution_count": 605,
   "id": "714ef557-f137-4d70-8c83-9c0c7e650f76",
   "metadata": {
    "tags": []
   },
   "outputs": [
    {
     "name": "stdout",
     "output_type": "stream",
     "text": [
      "第一阶段CD环节提示创建完毕，正在进行CD提示...\n",
      "第一阶段CD环节提示完毕\n",
      "第一阶段CM环节提示创建完毕，正在进行第一阶段CM提示...\n",
      "第一阶段CM环节提示完毕\n",
      "第二阶段提示创建完毕，正在进行第二阶段提示...\n",
      "第二阶段提示完毕，准备运行函数并编写提示示例\n",
      "{\"count\": 0}\n",
      "The function name is:count_emails_sent_to_user\n",
      "新函数保存在./functions/untested functions/count_emails_sent_to_user/count_emails_sent_to_user_module.py文件中\n",
      "新函数提示示例保存在./functions/untested functions/count_emails_sent_to_user/count_emails_sent_to_user_prompt.json文件中\n",
      "done\n"
     ]
    }
   ],
   "source": [
    "function_name = code_generate(req=req, few_shot=few_shot_functions)"
   ]
  },
  {
   "cell_type": "code",
   "execution_count": 607,
   "id": "da743f9a-1e48-4731-9319-758e48f8f44d",
   "metadata": {
    "tags": []
   },
   "outputs": [],
   "source": [
    "functions_list = [count_emails_sent_to_user]"
   ]
  },
  {
   "cell_type": "code",
   "execution_count": 608,
   "id": "0f7d6fb1-5e66-4682-90fd-69721a7763f0",
   "metadata": {
    "tags": []
   },
   "outputs": [],
   "source": [
    "messages = [{\"role\": \"system\", \"content\": \"我的邮箱号叫me,陆小凤的邮箱号就叫陆小凤\"},\n",
    "            {\"role\": \"user\", \"content\": req}]"
   ]
  },
  {
   "cell_type": "code",
   "execution_count": 609,
   "id": "03c15f46-d484-47bc-a1be-fbcdbeadb3ef",
   "metadata": {
    "tags": []
   },
   "outputs": [
    {
     "name": "stdout",
     "output_type": "stream",
     "text": [
      "{'count_emails_sent_to_user': <function count_emails_sent_to_user at 0x7f4df86c5430>}\n",
      "CompletionMessage(content='me这个邮箱给陆小凤发过0封邮件。', role='assistant', tool_calls=None)\n"
     ]
    }
   ],
   "source": [
    "final_response = run_conversation(messages=messages, functions_list=functions_list, model=\"glm-4\")"
   ]
  },
  {
   "cell_type": "code",
   "execution_count": 610,
   "id": "4ffa2ffe-8b60-4cab-8213-5c76dff487fe",
   "metadata": {
    "tags": []
   },
   "outputs": [
    {
     "data": {
      "text/plain": [
       "'me这个邮箱给陆小凤发过0封邮件。'"
      ]
     },
     "execution_count": 610,
     "metadata": {},
     "output_type": "execute_result"
    }
   ],
   "source": [
    "final_response"
   ]
  },
  {
   "cell_type": "code",
   "execution_count": 611,
   "id": "52cf629c-e1ae-4441-836a-6fe5c8073873",
   "metadata": {
    "tags": []
   },
   "outputs": [],
   "source": [
    "req = \"请查下邮箱里，陆小凤这个邮箱给我发过多少封邮件？\""
   ]
  },
  {
   "cell_type": "code",
   "execution_count": 612,
   "id": "e730e535-41f0-45e8-aea1-a6a22721a0d9",
   "metadata": {
    "tags": []
   },
   "outputs": [],
   "source": [
    "messages = [{\"role\": \"system\", \"content\": \"我的邮箱号叫me,陆小凤的邮箱号就叫陆小凤\"},\n",
    "            {\"role\": \"user\", \"content\": req}]"
   ]
  },
  {
   "cell_type": "code",
   "execution_count": 613,
   "id": "6677e73b-734f-4933-9f6e-25038b502938",
   "metadata": {
    "tags": []
   },
   "outputs": [],
   "source": [
    "functions_list = [count_emails_sent_to_user]"
   ]
  },
  {
   "cell_type": "code",
   "execution_count": 614,
   "id": "ad800f56-2f78-4104-ac1f-e2fc7ec109ac",
   "metadata": {
    "tags": []
   },
   "outputs": [
    {
     "name": "stdout",
     "output_type": "stream",
     "text": [
      "{'count_emails_sent_to_user': <function count_emails_sent_to_user at 0x7f4df86c5430>}\n",
      "CompletionMessage(content='陆小凤这个邮箱给您发过1封邮件。', role='assistant', tool_calls=None)\n"
     ]
    }
   ],
   "source": [
    "final_response = run_conversation(messages=messages, functions_list=functions_list, model=\"glm-4\")"
   ]
  },
  {
   "cell_type": "code",
   "execution_count": 615,
   "id": "085e41b9-b003-4fe7-8a42-b19ac69b8c75",
   "metadata": {
    "tags": []
   },
   "outputs": [
    {
     "data": {
      "text/plain": [
       "'陆小凤这个邮箱给您发过1封邮件。'"
      ]
     },
     "execution_count": 615,
     "metadata": {},
     "output_type": "execute_result"
    }
   ],
   "source": [
    "final_response"
   ]
  },
  {
   "cell_type": "markdown",
   "id": "2fd5be0b-ec26-47b7-8fde-ff2ba7611799",
   "metadata": {},
   "source": [
    "## 5. 总结"
   ]
  },
  {
   "cell_type": "markdown",
   "id": "77d271e0-a156-453d-b4b8-083906bd8351",
   "metadata": {},
   "source": [
    "现在看起来稳定性的确比之前好了很多，但是在实际执行的过程当中，在编写课件过程当中，个别的方法我是运行了多次才获取到正确结果的\n",
    "这个时候也给我们一个启示，就是大模型解决问题的时候，不一定一次性就正确，但是只要我们多运行几次往往就能解决问题\n",
    "所以接下来如果想要让我们的项目更稳定，还需要实现自动Debug的功能。"
   ]
  },
  {
   "cell_type": "code",
   "execution_count": null,
   "id": "c51a1480-b88f-4906-84c5-fa029ffd16f0",
   "metadata": {},
   "outputs": [],
   "source": []
  },
  {
   "cell_type": "code",
   "execution_count": null,
   "id": "5aad9aa8-13eb-4b09-a8db-f65bf72086a9",
   "metadata": {},
   "outputs": [],
   "source": []
  },
  {
   "cell_type": "code",
   "execution_count": null,
   "id": "85149a66-e237-4fdc-812a-970c4d81cfef",
   "metadata": {},
   "outputs": [],
   "source": []
  },
  {
   "cell_type": "code",
   "execution_count": null,
   "id": "dac9cc0c-8050-4672-ac08-9eac008a1306",
   "metadata": {},
   "outputs": [],
   "source": []
  }
 ],
 "metadata": {
  "kernelspec": {
   "display_name": "Python 3 (ipykernel)",
   "language": "python",
   "name": "python3"
  },
  "language_info": {
   "codemirror_mode": {
    "name": "ipython",
    "version": 3
   },
   "file_extension": ".py",
   "mimetype": "text/x-python",
   "name": "python",
   "nbconvert_exporter": "python",
   "pygments_lexer": "ipython3",
   "version": "3.8.10"
  }
 },
 "nbformat": 4,
 "nbformat_minor": 5
}
