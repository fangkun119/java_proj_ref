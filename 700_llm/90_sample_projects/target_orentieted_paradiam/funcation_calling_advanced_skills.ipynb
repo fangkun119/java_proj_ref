{
 "cells": [
  {
   "cell_type": "markdown",
   "id": "81e66fea-3fc3-472e-91fa-c55ef8818f9d",
   "metadata": {},
   "source": [
    "# Funcation Call进阶技巧"
   ]
  },
  {
   "cell_type": "markdown",
   "id": "914b2830-d416-43c6-b4eb-0301b5f8444b",
   "metadata": {},
   "source": [
    "## 1. Funcation Call调用流程回顾"
   ]
  },
  {
   "cell_type": "markdown",
   "id": "a8620a9f-86d7-439c-9adc-884f5a986b25",
   "metadata": {},
   "source": [
    "### 1.1 Funcation call调用详细流程"
   ]
  },
  {
   "cell_type": "code",
   "execution_count": 201,
   "id": "59d2e15f-48b7-4b5f-8848-fe1112b434ed",
   "metadata": {
    "tags": []
   },
   "outputs": [],
   "source": [
    "import os\n",
    "import openai\n",
    "from openai import OpenAI\n",
    "import shutil\n",
    "\n",
    "import numpy as np\n",
    "import pandas as pd\n",
    "\n",
    "import json\n",
    "import io\n",
    "import inspect\n",
    "import requests\n",
    "import re\n",
    "import random\n",
    "import string\n",
    "\n",
    "## 初始化客户端\n",
    "api_key = os.getenv(\"ZHIPU_API_KEY\")\n",
    "#api_key=\"xxx\"\n",
    "## pip install zhipuai\n",
    "\n",
    "from zhipuai import ZhipuAI\n",
    "client = ZhipuAI(api_key=api_key)"
   ]
  },
  {
   "cell_type": "markdown",
   "id": "786ce45a-4cff-4cc3-aab0-12a70532a5a4",
   "metadata": {},
   "source": [
    "- 定义了一个大模型里面肯定没有的算法"
   ]
  },
  {
   "cell_type": "code",
   "execution_count": 2,
   "id": "f1f2ffae-4193-4c73-9fb0-6266608e9c61",
   "metadata": {
    "tags": []
   },
   "outputs": [],
   "source": [
    "def sunwukong_function(data):\n",
    "    \"\"\"\n",
    "    孙悟空算法函数，该函数定义了数据集计算过程\n",
    "    :param data: 必要参数，表示带入计算的数据表，用字符串进行表示\n",
    "    :return：sunwukong_function函数计算后的结果，返回结果为表示为JSON格式的Dataframe类型对象\n",
    "    \"\"\"\n",
    "    data = io.StringIO(data)\n",
    "    df_new = pd.read_csv(data, sep='\\s+', index_col=0)\n",
    "    res = df_new * 10\n",
    "    return json.dumps(res.to_string())"
   ]
  },
  {
   "cell_type": "code",
   "execution_count": 3,
   "id": "396853ae-197e-4444-8cf7-b5381ca8e91d",
   "metadata": {
    "tags": []
   },
   "outputs": [
    {
     "data": {
      "text/html": [
       "<div>\n",
       "<style scoped>\n",
       "    .dataframe tbody tr th:only-of-type {\n",
       "        vertical-align: middle;\n",
       "    }\n",
       "\n",
       "    .dataframe tbody tr th {\n",
       "        vertical-align: top;\n",
       "    }\n",
       "\n",
       "    .dataframe thead th {\n",
       "        text-align: right;\n",
       "    }\n",
       "</style>\n",
       "<table border=\"1\" class=\"dataframe\">\n",
       "  <thead>\n",
       "    <tr style=\"text-align: right;\">\n",
       "      <th></th>\n",
       "      <th>x1</th>\n",
       "      <th>x2</th>\n",
       "    </tr>\n",
       "  </thead>\n",
       "  <tbody>\n",
       "    <tr>\n",
       "      <th>0</th>\n",
       "      <td>1</td>\n",
       "      <td>3</td>\n",
       "    </tr>\n",
       "    <tr>\n",
       "      <th>1</th>\n",
       "      <td>2</td>\n",
       "      <td>4</td>\n",
       "    </tr>\n",
       "  </tbody>\n",
       "</table>\n",
       "</div>"
      ],
      "text/plain": [
       "   x1  x2\n",
       "0   1   3\n",
       "1   2   4"
      ]
     },
     "execution_count": 3,
     "metadata": {},
     "output_type": "execute_result"
    }
   ],
   "source": [
    "df = pd.DataFrame({'x1':[1, 2], 'x2':[3, 4]})\n",
    "df"
   ]
  },
  {
   "cell_type": "markdown",
   "id": "290fc00b-0122-461e-b4af-fe756c80cc03",
   "metadata": {},
   "source": [
    "- 与大模型进行配合调用的时候，尽可能的让调用的函数参数和返回值都用String表示。"
   ]
  },
  {
   "cell_type": "code",
   "execution_count": 4,
   "id": "8b90d089-35e9-4dd4-b5e7-5e550161a6f9",
   "metadata": {
    "tags": []
   },
   "outputs": [
    {
     "data": {
      "text/plain": [
       "'   x1  x2\\n0   1   3\\n1   2   4'"
      ]
     },
     "execution_count": 4,
     "metadata": {},
     "output_type": "execute_result"
    }
   ],
   "source": [
    "df_str = df.to_string()\n",
    "df_str"
   ]
  },
  {
   "cell_type": "code",
   "execution_count": 5,
   "id": "ca319bfd-5a5f-4ae7-bd24-5c2ad5af2572",
   "metadata": {
    "tags": []
   },
   "outputs": [
    {
     "data": {
      "text/plain": [
       "'\"   x1  x2\\\\n0  10  30\\\\n1  20  40\"'"
      ]
     },
     "execution_count": 5,
     "metadata": {},
     "output_type": "execute_result"
    }
   ],
   "source": [
    "result_json=sunwukong_function(df_str)\n",
    "result_json"
   ]
  },
  {
   "cell_type": "markdown",
   "id": "da79f6d4-06b0-4d4b-923c-2a91d18aeff3",
   "metadata": {},
   "source": [
    "- 定义函数的说明，方便大模型识别函数自动完成调用，注意格式为：JSON Schema的格式"
   ]
  },
  {
   "cell_type": "code",
   "execution_count": 6,
   "id": "8f44bb9c-ed39-4c3b-bba5-4d7d2e29a4a9",
   "metadata": {
    "tags": []
   },
   "outputs": [],
   "source": [
    "sunwukong={\n",
    "        \"type\": \"function\",\n",
    "        \"function\": {\"name\": \"sunwukong_function\",\n",
    "                      \"description\": \"用于执行孙悟空算法函数，定义了一种特殊的数据集计算过程\",\n",
    "                      \"parameters\": {\"type\": \"object\",\n",
    "                                     \"properties\": {\"data\": {\"type\": \"string\",\n",
    "                                                             \"description\": \"执行孙悟空算法的数据集\"},\n",
    "                                                   },\n",
    "                                     \"required\": [\"data\"],\n",
    "                                    },\n",
    "                     }\n",
    "    }"
   ]
  },
  {
   "cell_type": "code",
   "execution_count": 7,
   "id": "68d9fd13-0088-40d1-8bb7-192d6552843e",
   "metadata": {
    "tags": []
   },
   "outputs": [],
   "source": [
    "tools = [sunwukong]"
   ]
  },
  {
   "cell_type": "markdown",
   "id": "ba08231d-c369-4534-8125-1e9f875d6a5f",
   "metadata": {},
   "source": [
    "- 在没有外部函数工具的情况下测试大模型的调用并执行孙悟空算法"
   ]
  },
  {
   "cell_type": "code",
   "execution_count": 8,
   "id": "0d986c79-bbf7-4b9b-bc08-570359e789c4",
   "metadata": {
    "tags": []
   },
   "outputs": [
    {
     "data": {
      "text/plain": [
       "CompletionMessage(content='很抱歉，但我需要更多的上下文信息来理解你所说的\"孙悟空算法\"是什么。在数据科学和机器学习的领域，我没有听说过这个名字的算法。\\n\\n然而，如果你提供的数据集是一个简单的二维数组，并以字符串形式表示，我可以帮你解释如何将其转换为Python中的Pandas DataFrame，然后你可以应用任何你想要的算法进行分析。\\n\\n以下是一个简单的例子，说明如何将你提供的数据集字符串转换为Pandas DataFrame：\\n\\n```python\\nimport pandas as pd\\n\\n# 假设这是你提供的数据集字符串\\ndata_str = \"\"\"x1  x2\\n0   1   3\\n1   2   4\"\"\"\\n\\n# 使用Pandas的read_csv函数将其转换为DataFrame，需要指定分隔符（此处为空格）\\ndf = pd.read_csv(pd.compat.StringIO(data_str), sep=\"\\\\s+\")\\n\\nprint(df)\\n```\\n\\n上面的代码会输出：\\n\\n```\\n   x1  x2\\n0   0   1\\n1   1   2\\n2   3   4\\n```\\n\\n注意：这里有两个假设：\\n1. 每个数据点之间由一个或多个空格分隔。\\n2. 第一行包含列名，其余行包含数据。\\n\\n一旦你有了DataFrame，你可以应用任何数据分析或机器学习算法，比如统计计算、预测模型等。\\n\\n如果你能提供更多关于\"孙悟空算法\"的信息，我会尽力帮助你。', role='assistant', tool_calls=None)"
      ]
     },
     "execution_count": 8,
     "metadata": {},
     "output_type": "execute_result"
    }
   ],
   "source": [
    "messages=[\n",
    "    {\"role\": \"system\", \"content\": \"数据集data：%s，数据集以字符串形式呈现\" % df_str},\n",
    "    {\"role\": \"user\", \"content\": \"请在数据集data上执行孙悟空算法\"}\n",
    "]\n",
    "\n",
    "response =  client.chat.completions.create(\n",
    "  model=\"glm-4\",\n",
    "  messages=messages\n",
    ")\n",
    "response.choices[0].message"
   ]
  },
  {
   "cell_type": "markdown",
   "id": "b4d0e942-de0e-4348-bfa9-3eba97f0b4e4",
   "metadata": {},
   "source": [
    "- 测试Funcation call流程"
   ]
  },
  {
   "cell_type": "markdown",
   "id": "a127b01d-1fba-4f3d-ad56-6498b2cd1915",
   "metadata": {},
   "source": [
    "第一次调用大模型"
   ]
  },
  {
   "cell_type": "code",
   "execution_count": 9,
   "id": "20abdea8-38b3-42b9-8f3a-815280130c41",
   "metadata": {
    "tags": []
   },
   "outputs": [],
   "source": [
    "messages=[\n",
    "    {\"role\": \"system\", \"content\": \"数据集data：%s，数据集以字符串形式呈现\" % df_str},\n",
    "    {\"role\": \"user\", \"content\": \"请在数据集data上执行孙悟空算法\"}\n",
    "]"
   ]
  },
  {
   "cell_type": "code",
   "execution_count": 10,
   "id": "8918616f-f674-40a4-be96-93a882d9c101",
   "metadata": {
    "tags": []
   },
   "outputs": [
    {
     "data": {
      "text/plain": [
       "CompletionMessage(content=None, role='assistant', tool_calls=[CompletionMessageToolCall(id='call_8730210251242354639', function=Function(arguments='{\"data\":\"x1  x2\\\\n0   1   3\\\\n1   2   4\"}', name='sunwukong_function'), type='function', index=0)])"
      ]
     },
     "execution_count": 10,
     "metadata": {},
     "output_type": "execute_result"
    }
   ],
   "source": [
    "\n",
    "\n",
    "response = client.chat.completions.create(\n",
    "        model=\"glm-4\",\n",
    "        messages=messages,\n",
    "        tools=tools,\n",
    "        tool_choice=\"auto\",  \n",
    "    )\n",
    "\n",
    "response.choices[0].message"
   ]
  },
  {
   "cell_type": "markdown",
   "id": "048827c2-51fe-4031-aa93-16ce56b08e9c",
   "metadata": {},
   "source": [
    "- 模型识别正确识别出来需要调用的函数，并且正确解析了参数"
   ]
  },
  {
   "cell_type": "code",
   "execution_count": 11,
   "id": "d4bcc2ce-279f-4b99-802a-f05a2aaa343f",
   "metadata": {
    "tags": []
   },
   "outputs": [
    {
     "data": {
      "text/plain": [
       "CompletionMessage(content=None, role='assistant', tool_calls=[CompletionMessageToolCall(id='call_8730210251242354639', function=Function(arguments='{\"data\":\"x1  x2\\\\n0   1   3\\\\n1   2   4\"}', name='sunwukong_function'), type='function', index=0)])"
      ]
     },
     "execution_count": 11,
     "metadata": {},
     "output_type": "execute_result"
    }
   ],
   "source": [
    "first_response = response.choices[0].message\n",
    "first_response"
   ]
  },
  {
   "cell_type": "code",
   "execution_count": 12,
   "id": "4e96751a-7744-4a7e-9341-9bfba7ae12a3",
   "metadata": {
    "tags": []
   },
   "outputs": [
    {
     "data": {
      "text/plain": [
       "[CompletionMessageToolCall(id='call_8730210251242354639', function=Function(arguments='{\"data\":\"x1  x2\\\\n0   1   3\\\\n1   2   4\"}', name='sunwukong_function'), type='function', index=0)]"
      ]
     },
     "execution_count": 12,
     "metadata": {},
     "output_type": "execute_result"
    }
   ],
   "source": [
    "response.choices[0].message.tool_calls"
   ]
  },
  {
   "cell_type": "markdown",
   "id": "c6477163-02c0-4070-b118-20395a205882",
   "metadata": {},
   "source": [
    "- 构建字典形式的函数调用列别，key为函数名，value为函数体"
   ]
  },
  {
   "cell_type": "code",
   "execution_count": 13,
   "id": "cbc3c829-cade-46d0-9659-4b4b13de3fdf",
   "metadata": {
    "tags": []
   },
   "outputs": [],
   "source": [
    "available_tools =  {\n",
    "    \"sunwukong_function\": sunwukong_function,\n",
    "}"
   ]
  },
  {
   "cell_type": "markdown",
   "id": "8a24daf0-e1e0-419a-8c74-033938b184fe",
   "metadata": {},
   "source": [
    "- 根据大模型的返回值中获取到函数调用需要到的：函数名，参数，函数体，并且执行函数。"
   ]
  },
  {
   "cell_type": "code",
   "execution_count": 14,
   "id": "d24df305-ac9b-4a84-8b0b-508e1e1ee92b",
   "metadata": {
    "tags": []
   },
   "outputs": [
    {
     "name": "stdout",
     "output_type": "stream",
     "text": [
      "sunwukong_function\n",
      "{'data': 'x1  x2\\n0   1   3\\n1   2   4'}\n",
      "\"   x1  x2\\n0  10  30\\n1  20  40\"\n"
     ]
    }
   ],
   "source": [
    "tool_calls = response.choices[0].message.tool_calls\n",
    " \n",
    "for tool_call in tool_calls:\n",
    "    ## 函数名\n",
    "    function_name = tool_call.function.name\n",
    "    ## 根据函数名获取到函数体\n",
    "    function_to_call = available_tools[function_name]\n",
    "    function_args = json.loads(tool_call.function.arguments)\n",
    "    ## 执行函数\n",
    "    function_response = function_to_call(**function_args)\n",
    " \n",
    "\n",
    "print(function_name)\n",
    "print(function_args)\n",
    "print(function_response)"
   ]
  },
  {
   "cell_type": "code",
   "execution_count": 15,
   "id": "5de25fb0-58c0-4ce4-a943-f2bc754ed0de",
   "metadata": {
    "tags": []
   },
   "outputs": [
    {
     "data": {
      "text/plain": [
       "'\"   x1  x2\\\\n0  10  30\\\\n1  20  40\"'"
      ]
     },
     "execution_count": 15,
     "metadata": {},
     "output_type": "execute_result"
    }
   ],
   "source": [
    "function_response = function_to_call(**function_args)\n",
    "function_response"
   ]
  },
  {
   "cell_type": "markdown",
   "id": "f2e8c846-48c8-4341-a399-a5aa3e5b676e",
   "metadata": {},
   "source": [
    "第二次调用大模型"
   ]
  },
  {
   "cell_type": "markdown",
   "id": "91a9b845-2914-4b1e-a81d-3dc4853ff9a8",
   "metadata": {},
   "source": [
    "- 把结果给到大模型，大模型进行增强生成"
   ]
  },
  {
   "cell_type": "code",
   "execution_count": 16,
   "id": "a3c4a483-8a62-4fd1-aaeb-caec70790f06",
   "metadata": {
    "tags": []
   },
   "outputs": [],
   "source": [
    "messages.append(response.choices[0].message.model_dump())"
   ]
  },
  {
   "cell_type": "code",
   "execution_count": 19,
   "id": "0f563961-2836-4c1f-8b48-0b51f985e491",
   "metadata": {
    "tags": []
   },
   "outputs": [],
   "source": [
    "for tool_call in tool_calls:\n",
    "    \n",
    "    function_name = tool_call.function.name\n",
    "    function_to_call = available_tools[function_name]\n",
    "    function_args = json.loads(tool_call.function.arguments)\n",
    "    ## 真正执行外部函数的就是这儿的代码\n",
    "    function_response = function_to_call(**function_args)\n",
    "    messages.append(\n",
    "        {\n",
    "            \"role\": \"tool\",\n",
    "            \"content\": function_response,\n",
    "            \"tool_call_id\": tool_call.id,\n",
    "        }\n",
    "    ) \n",
    "## 第二次调用模型\n",
    "second_response = client.chat.completions.create(\n",
    "    model=\"glm-4\",\n",
    "    messages=messages,\n",
    "    tools=tools\n",
    "    ) \n",
    "# 获取最终结果\n",
    "final_response = second_response.choices[0].message.content"
   ]
  },
  {
   "cell_type": "code",
   "execution_count": 20,
   "id": "887b97c6-e297-4a07-a897-0fcb9f9391dc",
   "metadata": {
    "tags": []
   },
   "outputs": [
    {
     "data": {
      "text/plain": [
       "'您好，根据您提供的数据集，经过孙悟空算法的处理，得到的结果如上所示。我们可以看到，x1和x2的值都乘以了10。这是孙悟空算法的一种特殊计算过程。如有需要，您可以根据这个结果进行后续的分析和处理。'"
      ]
     },
     "execution_count": 20,
     "metadata": {},
     "output_type": "execute_result"
    }
   ],
   "source": [
    "final_response"
   ]
  },
  {
   "cell_type": "markdown",
   "id": "dad41c7c-0ddc-498a-8899-d4a823985643",
   "metadata": {},
   "source": [
    "### 1.2 流程封装"
   ]
  },
  {
   "cell_type": "code",
   "execution_count": 32,
   "id": "ac4e7305-8d7f-48fe-9984-6479233c5c98",
   "metadata": {
    "tags": []
   },
   "outputs": [],
   "source": [
    "from openai import OpenAI\n",
    "import json\n",
    "\n",
    "## 步骤1：构建函数\n",
    "def sunwukong_function(data):\n",
    "    \"\"\"\n",
    "    孙悟空算法函数，该函数定义了数据集计算过程\n",
    "    :param data: 必要参数，表示带入计算的数据表，用字符串进行表示\n",
    "    :return：sunwukong_function函数计算后的结果，返回结果为表示为JSON格式的Dataframe类型对象\n",
    "    \"\"\"\n",
    "    data = io.StringIO(data)\n",
    "    df_new = pd.read_csv(data, sep='\\s+', index_col=0)\n",
    "    res = df_new * 10\n",
    "    return json.dumps(res.to_string())\n",
    "\n",
    "\n",
    "available_tools =  {\n",
    "    \"sunwukong_function\": sunwukong_function,\n",
    "}\n",
    "\n",
    "\n",
    "df_str=pd.DataFrame({'x1':[1, 2], 'x2':[3, 4]}).to_string\n",
    "\n",
    "def run_conversation():\n",
    "    # Step 1: send the conversation and available functions to the model\n",
    "    messages=[\n",
    "    {\"role\": \"system\", \"content\": \"数据集data：%s，数据集以字符串形式呈现\" % df_str},\n",
    "    {\"role\": \"user\", \"content\": \"请在数据集data上执行孙悟空算法\"}  \n",
    "        ]\n",
    "    ## 步骤2：函数说明  JSON Schema格式\n",
    "    tools = [\n",
    "    {\n",
    "        \"type\": \"function\",\n",
    "        \"function\": {\"name\": \"sunwukong_function\",\n",
    "                      \"description\": \"用于执行孙悟空算法函数，定义了一种特殊的数据集计算过程\",\n",
    "                      \"parameters\": {\"type\": \"object\",\n",
    "                                     \"properties\": {\"data\": {\"type\": \"string\",\n",
    "                                                             \"description\": \"执行孙悟空算法的数据集\"},\n",
    "                                                   },\n",
    "                                     \"required\": [\"data\"],\n",
    "                                    },\n",
    "                     }\n",
    "    }]\n",
    "    ## 步骤3：第一次调大模型\n",
    "    response = client.chat.completions.create(\n",
    "        model=\"glm-4\",\n",
    "        messages=messages,\n",
    "        tools=tools,\n",
    "        tool_choice=\"auto\",  # auto is default, but we'll be explicit\n",
    "    )\n",
    "    response_message = response.choices[0].message\n",
    "    tool_calls = response_message.tool_calls\n",
    "    # Step 2: check if the model wanted to call a function\n",
    "    if tool_calls:\n",
    "        messages.append(response.choices[0].message.model_dump())\n",
    "     \n",
    "        for tool_call in tool_calls:\n",
    "            function_name = tool_call.function.name\n",
    "            function_to_call = available_functions[function_name]\n",
    "            function_args = json.loads(tool_call.function.arguments)\n",
    "            function_response = function_to_call(**function_args)\n",
    "            messages.append({\n",
    "                \"role\": \"tool\",\n",
    "                \"content\": f\"{json.dumps(function_response)}\",\n",
    "                \"tool_call_id\":tool_call.id\n",
    "            })\n",
    "        ## 步骤四：第二次调用大模型\n",
    "        second_response = client.chat.completions.create(\n",
    "            model=\"glm-4\",  # 填写需要调用的模型名称\n",
    "            messages=messages,\n",
    "            tools=tools,\n",
    "        )\n",
    "        return second_response\n",
    "    \n",
    "result=run_conversation()"
   ]
  },
  {
   "cell_type": "code",
   "execution_count": 34,
   "id": "f3b148b3-c7bb-4307-8135-35c086e3f418",
   "metadata": {
    "tags": []
   },
   "outputs": [
    {
     "data": {
      "text/plain": [
       "'根据您的需求，我已成功在数据集data上执行了孙悟空算法，并将结果以字符串形式返回。经过计算，数据集变为：\"   x1  x2\\\\n0  10  30\\\\n1  20  40\"。'"
      ]
     },
     "execution_count": 34,
     "metadata": {},
     "output_type": "execute_result"
    }
   ],
   "source": [
    "result.choices[0].message.content"
   ]
  },
  {
   "cell_type": "markdown",
   "id": "eb310500-d60e-4ff1-95cc-9f5d65d4263f",
   "metadata": {},
   "source": [
    "## 2. 挑战1-意图识别"
   ]
  },
  {
   "cell_type": "markdown",
   "id": "b1349919-df37-4b61-b0b5-8767ba2eaefa",
   "metadata": {},
   "source": [
    "### 2.1 问题测试"
   ]
  },
  {
   "cell_type": "code",
   "execution_count": null,
   "id": "7f6098af-47fd-46b2-afb7-6b1f27868a53",
   "metadata": {},
   "outputs": [],
   "source": [
    "auto_functions是一个自动帮我们生成tools工具描述的方法"
   ]
  },
  {
   "cell_type": "code",
   "execution_count": 49,
   "id": "2b55101a-2098-4df1-b5b3-10fe25eebb38",
   "metadata": {
    "tags": []
   },
   "outputs": [],
   "source": [
    "import inspect\n",
    "import json\n",
    "import pandas as pd\n",
    "from typing import List, Callable\n",
    "\n",
    "def auto_functions(func_list: List[Callable]) -> List[dict]:\n",
    "    tools_description = []\n",
    "    \n",
    "    for func in func_list:\n",
    "        # 获取函数的签名信息\n",
    "        sig = inspect.signature(func)\n",
    "        func_params = sig.parameters\n",
    "        \n",
    "        # 函数的参数描述\n",
    "        parameters = {\n",
    "            'type': 'object',\n",
    "            'properties': {},\n",
    "            'required': []\n",
    "        }\n",
    "        \n",
    "        for param_name, param in func_params.items():\n",
    "            # 添加参数描述和类型\n",
    "            parameters['properties'][param_name] = {\n",
    "                'description': param.annotation.__doc__ if param.annotation is not inspect._empty else \"\",\n",
    "                'type': str(param.annotation) if param.annotation != param.empty else 'Any'\n",
    "            }\n",
    "            # 如果参数有默认值，那么它不是必须的\n",
    "            if param.default != param.empty:\n",
    "                parameters['required'].append(param_name)\n",
    "        \n",
    "        # 函数描述字典\n",
    "        func_dict = {\n",
    "            \"type\": \"function\",\n",
    "            \"function\": {\n",
    "                \"name\": func.__name__,\n",
    "                \"description\": func.__doc__.strip(),\n",
    "                \"parameters\": parameters\n",
    "            }\n",
    "        }\n",
    "        \n",
    "        tools_description.append(func_dict)\n",
    "    \n",
    "    return tools_description"
   ]
  },
  {
   "cell_type": "code",
   "execution_count": 37,
   "id": "72752af9-07a5-4bd7-874b-afcf6d781968",
   "metadata": {
    "tags": []
   },
   "outputs": [],
   "source": [
    "## 打印大模型识别到的外部函数的名字\n",
    "def function_call_test(prompt,tools):\n",
    "    prompt = prompt\n",
    "    message = [\n",
    "        {\"role\": \"user\", \"content\": prompt}\n",
    "    ]\n",
    "    \n",
    "    response1 = client.chat.completions.create(\n",
    "        model=\"glm-4\",  # 填写需要调用的模型名称\n",
    "        messages=message,\n",
    "        tools = tools,\n",
    "        tool_choice = \"auto\"\n",
    "        )\n",
    "\n",
    "    print(response1.choices[0].message.tool_calls[0].function.name)"
   ]
  },
  {
   "cell_type": "code",
   "execution_count": 38,
   "id": "681b19aa-63b7-4156-acbf-ede8c012e8db",
   "metadata": {
    "tags": []
   },
   "outputs": [],
   "source": [
    "def machine_learning_1():\n",
    "    \"\"\"\n",
    "    解释机器学习是什么\n",
    "    \"\"\"\n",
    "\n",
    "    answer = \"\"\"机器学习是人工智能的一个分支，研究计算机如何自动从数据中学习，提升性能并做出预测。\\\n",
    "    它通过算法让计算机提炼知识，优化任务执行，而无需明确编程。\"\"\"\n",
    "    \n",
    "    return answer\n",
    "\n",
    "def machine_learning_2():\n",
    "    \n",
    "    \"\"\"描述一下机器学习和深度学习的区别\"\"\"\n",
    "    \n",
    "    answer = \"\"\"机器学习涉及算法从数据中学习模式以做出预测或决策，涵盖广泛的技术，包括监督、非监督和强化学习。\\\n",
    "    深度学习是机器学习的一个子集，专注于使用神经网络，尤其是深层神经网络，来处理复杂的数据结构，\\\n",
    "    实现高级功能如图像识别和自然语言理解，其特点是多层次的抽象和自动特征学习。\"\"\"\n",
    "    \n",
    "    return answer"
   ]
  },
  {
   "cell_type": "code",
   "execution_count": 50,
   "id": "82e11381-4500-4875-a46a-0087ad7d0114",
   "metadata": {
    "tags": []
   },
   "outputs": [],
   "source": [
    "# 函数列表\n",
    "functions_list = [machine_learning_1, machine_learning_2]\n",
    "# 获取函数描述的 JSON 字典\n",
    "tools = auto_functions(functions_list)\n",
    "# 将函数列表转换为字典\n",
    "available_functions = {func.__name__: func for func in functions_list}"
   ]
  },
  {
   "cell_type": "code",
   "execution_count": 51,
   "id": "26b4e50b-4726-477e-b081-7c9241b29601",
   "metadata": {
    "tags": []
   },
   "outputs": [
    {
     "data": {
      "text/plain": [
       "[{'type': 'function',\n",
       "  'function': {'name': 'machine_learning_1',\n",
       "   'description': '解释机器学习是什么',\n",
       "   'parameters': {'type': 'object', 'properties': {}, 'required': []}}},\n",
       " {'type': 'function',\n",
       "  'function': {'name': 'machine_learning_2',\n",
       "   'description': '描述一下机器学习和深度学习的区别',\n",
       "   'parameters': {'type': 'object', 'properties': {}, 'required': []}}}]"
      ]
     },
     "execution_count": 51,
     "metadata": {},
     "output_type": "execute_result"
    }
   ],
   "source": [
    "tools"
   ]
  },
  {
   "cell_type": "code",
   "execution_count": 54,
   "id": "ff9ea546-53f9-48a1-9641-d52aac19025d",
   "metadata": {
    "tags": []
   },
   "outputs": [
    {
     "data": {
      "text/plain": [
       "{'machine_learning_1': <function __main__.machine_learning_1()>,\n",
       " 'machine_learning_2': <function __main__.machine_learning_2()>}"
      ]
     },
     "execution_count": 54,
     "metadata": {},
     "output_type": "execute_result"
    }
   ],
   "source": [
    "available_functions"
   ]
  },
  {
   "cell_type": "code",
   "execution_count": 56,
   "id": "7e29f202-05e1-4021-8f25-2cecdbe3636b",
   "metadata": {
    "tags": []
   },
   "outputs": [
    {
     "name": "stdout",
     "output_type": "stream",
     "text": [
      "machine_learning_1\n"
     ]
    }
   ],
   "source": [
    "prompt = \"请问机器学习是什么？\"\n",
    "function_call_test(prompt,tools)"
   ]
  },
  {
   "cell_type": "code",
   "execution_count": 57,
   "id": "ec303121-e584-43cc-8f00-39f9d58dfb62",
   "metadata": {
    "tags": []
   },
   "outputs": [
    {
     "name": "stdout",
     "output_type": "stream",
     "text": [
      "machine_learning_2\n"
     ]
    }
   ],
   "source": [
    "prompt = \"请问深度学习和机器学习的区别是什么？\"\n",
    "function_call_test(prompt,tools)"
   ]
  },
  {
   "cell_type": "code",
   "execution_count": 58,
   "id": "33d64f76-2f28-4eed-b64d-69d72c3b16bc",
   "metadata": {
    "tags": []
   },
   "outputs": [
    {
     "name": "stdout",
     "output_type": "stream",
     "text": [
      "machine_learning_1\n"
     ]
    }
   ],
   "source": [
    "prompt = \"请问深度学习是什么？\"\n",
    "function_call_test(prompt,tools)"
   ]
  },
  {
   "cell_type": "markdown",
   "id": "23df2560-13ef-40bc-877a-2a4db8cc413d",
   "metadata": {},
   "source": [
    "这个时候我们发现大模型调用错了函数，他认为机器学习和深度学习很像，类似的生产业务中也有类似的情况，比如在银行业务中，用户开卡和开信用卡，应该对应的是两个不同的函数。\n",
    "但是如果类似上面这种，很有可能就是会被当做是同一个业务进行处理了。显然不对。"
   ]
  },
  {
   "cell_type": "markdown",
   "id": "5975a984-a135-4472-9605-468a02e39257",
   "metadata": {},
   "source": [
    "### 2.2 解决方案"
   ]
  },
  {
   "cell_type": "markdown",
   "id": "ee4572ab-86ab-4fe8-a510-4b3421b553ac",
   "metadata": {},
   "source": [
    "**尽最大能力提供高质量的Json schema**"
   ]
  },
  {
   "cell_type": "markdown",
   "id": "9e1c7aa3-cb2f-4e41-a032-0edac7d3f7b3",
   "metadata": {},
   "source": [
    "> 这里的“高质量”是指清晰地描述了函数的功能和参数、易于模型进行辨别、使用简洁且一致的命名约定、保持函数名格式相同、但是尽量不要使用相似或容易混淆的函数名称（比如前面的machine_learning_1和Machine_learning_2就是非常糟糕的例子），函数的description尽量不要使用过于相似的描述等等；**这个过程免不了人工干预，Json schema的质量越高，模型辨别也就越容易**。<br><br>\n",
    "> 更具体的手段包括：\n",
    "> > **1. 使用关键词**：从实验结果来看，GLM-4可能很大程度上是基于embedding后的结果的相似程度来选择函数的，prompt中如果出现与函数名称高度一致的语句片段，那个函数就有很大的概率被选中（例如，prompt是“深度学习是什么”，函数名是“机器学习是什么”，即便什么是深度学习这个知识点早就在GLM的知识库内，它还是会被function吸引走），因此对特定函数、特定需求进行“**关键词**”的设置异常重要，这个关键词可以是一些很奇妙的语言，在正常的对话中绝对不会出现混淆的语言，例如编号，或者特定的专有名词。存在特定的业务是一定要执行某个函数或某个流程的，你可以纯依赖于编程、而不依赖于大模型的理解来走完这个流程。<br><br>\n",
    "> > **2. 使用特定词语对函数的作用进行分组和分类**：在函数名称或描述中添加分类标记。例如，可以在名称中使用前缀如“user_”、“admin_”或“data_”等，帮助模型快速定位相关类别的函数。<br><br>\n",
    "> > **3. 为函数增加权重**：为使用更频繁的函数增加primary、prior、core等有助于模型理解其重要性的名称，也可以在进行编号或者函数的描述时写上“非常重要，经常使用，核心业务”等等描述；<br><br>\n",
    "> > **4. 使用否定句，帮助模型进一步辨析函数功能等**：比如在函数的描述中，明确说明“当出现xxxx语言或prompt时，这个函数不管用，请谨慎考虑选择该函数”等。"
   ]
  },
  {
   "cell_type": "code",
   "execution_count": 59,
   "id": "f097afd5-67cd-4341-9400-be12df13afb8",
   "metadata": {
    "tags": []
   },
   "outputs": [],
   "source": [
    "prompt = \"我来到你的城市，走过你来时的路，\\\n",
    "轻轻地我走了，正如我轻轻的来。\\\n",
    "你是我的小苹果，小呀小苹果。\\\n",
    "送你一朵小红花\"\n",
    "\n",
    "def 送你一朵小红花():\n",
    "    \"\"\"如函数名\"\"\"\n",
    "    a = 1314520\n",
    "    return a\n",
    "\n",
    "def 我只是在唱歌():\n",
    "    \"\"\"如函数名\"\"\"\n",
    "    a = 1314520\n",
    "    return a\n",
    "\n",
    "# 函数列表\n",
    "functions_list2 = [送你一朵小红花,我只是在唱歌]\n",
    "# 获取函数描述的 JSON 字典\n",
    "tools2 = auto_functions(functions_list2)\n",
    "# 将函数列表转换为字典\n",
    "available_functions2 = {func.__name__: func for func in functions_list2}"
   ]
  },
  {
   "cell_type": "code",
   "execution_count": 60,
   "id": "52060454-0d18-41ee-83ca-cb838054961b",
   "metadata": {
    "tags": []
   },
   "outputs": [
    {
     "name": "stdout",
     "output_type": "stream",
     "text": [
      "送你一朵小红花\n"
     ]
    }
   ],
   "source": [
    "function_call_test(prompt,tools2)"
   ]
  },
  {
   "cell_type": "markdown",
   "id": "f83eaaed-6672-47e3-bd4f-9ec8209284b1",
   "metadata": {},
   "source": [
    "**干预模型选择**"
   ]
  },
  {
   "cell_type": "markdown",
   "id": "631b485e-f49d-4fb0-a45d-3618dc2295a0",
   "metadata": {},
   "source": [
    "> 通过改变function call交互的流程、改变模型的选择；包括但不限于——\n",
    "> > **使用自查prompts进行干预**：例如，在用户进行具体的提问时，使用“xxx是否在你的资料库内”prompt进行优先筛查，人为为模型增加一个“你是否知道xxx流程”的过程，可以避免模型在判断就是否需要调用函数时混淆。但需要注意的是，因为大模型会有幻觉现象，因此你的prompt要相当考究。如果你问模型“你是否知道xxx”，模型很大程度上会说谎。<br><br>\n",
    "> > **依赖匹配好于依赖理解**：例如，准备某个业务下的关键词库，只要用户在提到这些关键词时，就指定tool_choice参数让GLM-4进行特定的函数的调用，或者在用户提到某些关键词时，就推荐模型使用某个特定的函数进行调用；一个典型的场景可以是，在餐厅场景中，用户说“我要点餐”、“我要吃饭”、“我要下单”、“我要xxx”、甚至“服务员过来一下”的语音都可能都是指向“点餐”的需求，可以先经过编程流程匹配，再交由模型进行理解。这个过程会让模型识别的精准程度大幅上升。"
   ]
  },
  {
   "cell_type": "code",
   "execution_count": 61,
   "id": "abb5291e-9ea2-4ba8-bca1-4d727a6d19f1",
   "metadata": {
    "tags": []
   },
   "outputs": [],
   "source": [
    "#在选择进行功能选择前，让模型先判断被提到的问题是否在它的资料库中\n",
    "def function_call_new(prompt,tools):\n",
    "    prompt = prompt\n",
    "    judge_words = \"这个问题的答案是否在你的语料库里？\\\n",
    "        请回答“这个问题答案在我的语料库里”或者“这个问题的答案不在我的语料库里”\\\n",
    "        不要回答其他额外的文字\"\n",
    "    message = [\n",
    "        {\"role\": \"user\", \"content\": prompt + judge_words}\n",
    "    ]\n",
    "\n",
    "    response1 = client.chat.completions.create(\n",
    "        model=\"glm-4\",  # 填写需要调用的模型名称\n",
    "        messages=message\n",
    "        )\n",
    "\n",
    "    if \"这个问题答案在我的语料库里\" in response1.choices[0].message.content:\n",
    "        message = [\n",
    "        {\"role\": \"user\", \"content\": prompt}\n",
    "    ]\n",
    "        response2 = client.chat.completions.create(\n",
    "            model=\"glm-4\",  # 填写需要调用的模型名称\n",
    "            messages=message,\n",
    "        )\n",
    "\n",
    "        print(response2.choices[0].message.content)\n",
    "\n",
    "    else:\n",
    "        message = [\n",
    "        {\"role\": \"user\", \"content\": prompt}\n",
    "    ]\n",
    "        response2 = client.chat.completions.create(\n",
    "            model=\"glm-4\",  # 填写需要调用的模型名称\n",
    "            messages=message,\n",
    "            tools = tools,\n",
    "            tool_choice = \"auto\"\n",
    "            )\n",
    "        print(response2.choices[0].message.tool_calls[0].function.name)"
   ]
  },
  {
   "cell_type": "code",
   "execution_count": null,
   "id": "8ce1f7d7-6356-453a-820e-344f4fb5ce40",
   "metadata": {},
   "outputs": [],
   "source": [
    "def machine_learning_1():\n",
    "    \"\"\"\n",
    "    解释机器学习是什么\n",
    "    \"\"\"\n",
    "\n",
    "    answer = \"\"\"机器学习是人工智能的一个分支，研究计算机如何自动从数据中学习，提升性能并做出预测。\\\n",
    "    它通过算法让计算机提炼知识，优化任务执行，而无需明确编程。\"\"\"\n",
    "    \n",
    "    return answer\n",
    "\n",
    "def machine_learning_2():\n",
    "    \n",
    "    \"\"\"描述一下机器学习和深度学习的区别\"\"\"\n",
    "    \n",
    "    answer = \"\"\"机器学习涉及算法从数据中学习模式以做出预测或决策，涵盖广泛的技术，包括监督、非监督和强化学习。\\\n",
    "    深度学习是机器学习的一个子集，专注于使用神经网络，尤其是深层神经网络，来处理复杂的数据结构，\\\n",
    "    实现高级功能如图像识别和自然语言理解，其特点是多层次的抽象和自动特征学习。\"\"\"\n",
    "    \n",
    "    return answer"
   ]
  },
  {
   "cell_type": "code",
   "execution_count": 62,
   "id": "be2d69d6-91bf-44c7-bc4a-4da4a397e10e",
   "metadata": {
    "tags": []
   },
   "outputs": [],
   "source": [
    "# 函数列表\n",
    "functions_list = [machine_learning_1, machine_learning_2]\n",
    "# 获取函数描述的 JSON 字典\n",
    "tools = auto_functions(functions_list)\n",
    "# 将函数列表转换为字典\n",
    "available_functions = {func.__name__: func for func in functions_list}"
   ]
  },
  {
   "cell_type": "code",
   "execution_count": 63,
   "id": "7314a444-6930-4661-81dd-c251802eb004",
   "metadata": {
    "tags": []
   },
   "outputs": [
    {
     "name": "stdout",
     "output_type": "stream",
     "text": [
      "机器学习是一门人工智能（AI）的分支，它让计算机系统能从数据中学习并做出决策或预测，而无需进行显式编程。机器学习算法利用样本数据（称为训练数据）来识别数据中的模式，并基于这些模式做出推断或决策。简单地说，机器学习使得计算机能够基于经验改进其性能或行为。\n",
      "\n",
      "机器学习可以分为几个主要类别：\n",
      "\n",
      "1. 监督学习（Supervised Learning）：在这种模式下，算法从标记过的训练数据中学习，即每个样本都有一个对应的输出标签。目标是训练出一个模型，它能对新的、未见过的数据进行准确预测。\n",
      "\n",
      "2. 无监督学习（Unsupervised Learning）：在此类别中，算法使用没有标记的数据进行学习，即数据没有附加的输出标签。无监督学习的目标是发现数据中的结构或模式，如通过聚类相似的数据点。\n",
      "\n",
      "3. 强化学习（Reinforcement Learning）：这是一种学习策略，系统（称为“智能体”）在某个环境中采取行动，并根据行动的结果学习最佳行为。强化学习的目标是最大化累积奖励。\n",
      "\n",
      "机器学习在各个领域都有广泛应用，包括但不限于金融、医疗保健、自动驾驶、推荐系统、语音和图像识别等。随着技术的发展，机器学习已经成为解决复杂问题的重要工具，并在我们的日常生活中发挥着越来越重要的作用。\n"
     ]
    }
   ],
   "source": [
    "prompt = \"请问机器学习是什么？\"\n",
    "function_call_new(prompt,tools)"
   ]
  },
  {
   "cell_type": "code",
   "execution_count": null,
   "id": "9632bd91-3aa6-42c9-89fb-a2a80b85682c",
   "metadata": {},
   "outputs": [],
   "source": [
    "prompt = \"请问深度学习和机器学习的区别是什么？\"\n",
    "function_call_new(prompt,tools)"
   ]
  },
  {
   "cell_type": "code",
   "execution_count": 64,
   "id": "fe7aa775-0440-429f-bf24-af837e69b3af",
   "metadata": {
    "tags": []
   },
   "outputs": [
    {
     "name": "stdout",
     "output_type": "stream",
     "text": [
      "深度学习是机器学习的一个子领域，它模仿了人类大脑的神经网络结构和功能，以通过算法模型对数据进行特征学习和模式识别。在深度学习中，所谓的“深度”指的是神经网络的结构，它包含多个处理层，每一层都由许多神经元组成，这些层之间的关系可以是线性的也可以是非线性的。\n",
      "\n",
      "在深度学习的模型中，每一层都会对输入数据进行处理，并将其结果传递到下一层。通过这种方式，模型能够从原始数据中自动提取更高层次的特征表示。这一过程不需要人工干预，区别于传统的机器学习方法，后者通常需要人工设计特征。\n",
      "\n",
      "深度学习在多个领域展现了强大的能力，特别是在图像和语音识别、自然语言处理、医疗诊断以及自动驾驶技术等领域。其流行的主要原因是：\n",
      "\n",
      "1. 大数据时代的到来提供了海量数据，这些数据为深度学习模型的训练提供了基础，使其能够学习到更加复杂和精细的模式。\n",
      "2. 算法上的创新，如新的激活函数（如ReLU）、优化方法（如Adamax优化器）和损失函数（如交叉熵损失）等，都极大提高了神经网络的训练效果和效率。\n",
      "3. 硬件技术的进步，例如GPU和TPU的广泛应用，为深度学习模型提供了强大的计算支持。\n",
      "\n",
      "深度学习框架，如TensorFlow和PyTorch，提供了构建和训练复杂神经网络所需的工具和库，使得研究人员和开发者可以更加方便地实现深度学习模型。\n",
      "\n",
      "综上所述，深度学习是一种强大的机器学习技术，它通过模仿人脑神经网络的工作机制，自动学习数据中的高级特征，并在各种复杂任务中展现出优异的性能。\n"
     ]
    }
   ],
   "source": [
    "prompt = \"请问深度学习是什么？\"\n",
    "function_call_new(prompt,tools)"
   ]
  },
  {
   "cell_type": "markdown",
   "id": "776f252c-5e6a-4488-9706-21e02772438a",
   "metadata": {},
   "source": [
    "### 2.3 问题测试"
   ]
  },
  {
   "cell_type": "code",
   "execution_count": 66,
   "id": "1ff180c0-61b4-4348-956a-5aa1ba6510e4",
   "metadata": {
    "tags": []
   },
   "outputs": [],
   "source": [
    "#以下是基于不同数学运算类型的七个函数示例：\n",
    "\n",
    "def add(a: float, b: float) -> float:\n",
    "    \"\"\"\n",
    "    计算两个浮点数的和。\n",
    "\n",
    "    参数:\n",
    "    a (float): 第一个加数。\n",
    "    b (float): 第二个加数。\n",
    "\n",
    "    返回:\n",
    "    float: 两个参数的和。\n",
    "    \"\"\"\n",
    "    return a + b\n",
    "\n",
    "def subtract(a: float, b: float) -> float:\n",
    "    \"\"\"\n",
    "    计算两个浮点数的差。\n",
    "\n",
    "    参数:\n",
    "    a (float): 被减数。\n",
    "    b (float): 减数。\n",
    "\n",
    "    返回:\n",
    "    float: 两个参数的差。\n",
    "    \"\"\"\n",
    "    return a - b\n",
    "\n",
    "def multiply(a: float, b: float) -> float:\n",
    "    \"\"\"\n",
    "    计算两个浮点数的乘积。\n",
    "\n",
    "    参数:\n",
    "    a (float): 第一个乘数。\n",
    "    b (float): 第二个乘数。\n",
    "\n",
    "    返回:\n",
    "    float: 两个参数的乘积。\n",
    "    \"\"\"\n",
    "    return a * b\n",
    "\n",
    "def divide(a: float, b: float) -> float:\n",
    "    \"\"\"\n",
    "    计算两个浮点数的商。\n",
    "\n",
    "    参数:\n",
    "    a (float): 被除数。\n",
    "    b (float): 除数。注意：除数不能为0。\n",
    "\n",
    "    返回:\n",
    "    float: 两个参数的商。\n",
    "    \"\"\"\n",
    "    if b == 0:\n",
    "        raise ValueError(\"除数不能为0\")\n",
    "    return a / b\n",
    "\n",
    "def power(a: float, b: float) -> float:\n",
    "    \"\"\"\n",
    "    计算第一个浮点数的幂运算结果。\n",
    "\n",
    "    参数:\n",
    "    a (float): 底数。\n",
    "    b (float): 指数。\n",
    "\n",
    "    返回:\n",
    "    float: 底数的指数幂。\n",
    "    \"\"\"\n",
    "    return a ** b"
   ]
  },
  {
   "cell_type": "code",
   "execution_count": 67,
   "id": "6ecf5f69-9606-47af-8462-d2ce93f0da0a",
   "metadata": {
    "tags": []
   },
   "outputs": [],
   "source": [
    "# 你的函数列表\n",
    "functions_list = [add,multiply,subtract,divide,power]\n",
    "\n",
    "# 获取函数描述的 JSON 字典\n",
    "tools3 = auto_functions(functions_list)\n",
    "\n",
    "# 将函数列表转换为字典\n",
    "available_functions = {func.__name__: func for func in functions_list}"
   ]
  },
  {
   "cell_type": "code",
   "execution_count": 70,
   "id": "0e014394-baac-4019-bb28-b93f8d339715",
   "metadata": {
    "tags": []
   },
   "outputs": [],
   "source": [
    "def function_call(prompt,tools):\n",
    "    prompt = prompt\n",
    "    message = [{\"role\": \"user\", \"content\": prompt}]\n",
    "    \n",
    "    response = client.chat.completions.create(\n",
    "        model=\"glm-4\",  # 填写需要调用的模型名称\n",
    "        messages=message,\n",
    "        tools = tools,\n",
    "        tool_choice = \"auto\"\n",
    "        )\n",
    "    print(response)\n",
    "    \n",
    "    #找出相应的函数，获取函数结果\n",
    "    function_to_call = available_functions[response.choices[0].message.tool_calls[0].function.name]\n",
    "    function_args = json.loads(response.choices[0].message.tool_calls[0].function.arguments)\n",
    "    function_response = function_to_call(**function_args)\n",
    "\n",
    "    message.append({\n",
    "                \"role\": \"tool\",\n",
    "                \"name\": response.choices[0].message.tool_calls[0].function.name,\n",
    "                \"content\": prompt + str(function_response),\n",
    "            })\n",
    "    \n",
    "    response = client.chat.completions.create(\n",
    "        model=\"glm-4\",  # 填写需要调用的模型名称\n",
    "        messages=message,\n",
    "        tools = tools,\n",
    "        tool_choice = response.choices[0].message.tool_calls[0].function.name,\n",
    "        )\n",
    "    return print(response.choices[0].message.content)"
   ]
  },
  {
   "cell_type": "code",
   "execution_count": 68,
   "id": "8a524e7f-ad7c-4bdf-8662-8123d0952495",
   "metadata": {
    "tags": []
   },
   "outputs": [
    {
     "data": {
      "text/plain": [
       "1942634324008"
      ]
     },
     "execution_count": 68,
     "metadata": {},
     "output_type": "execute_result"
    }
   ],
   "source": [
    "56565656 * 34343"
   ]
  },
  {
   "cell_type": "code",
   "execution_count": 75,
   "id": "ca34b0b0-37a3-43f1-a61c-1cc3300cd43f",
   "metadata": {
    "tags": []
   },
   "outputs": [
    {
     "name": "stdout",
     "output_type": "stream",
     "text": [
      "不对，这个结果太大了。让我重新计算一下。\n",
      "\n",
      "56565656 乘以 34343 等于 1942634324。\n",
      "\n",
      "===============================\n",
      "抱歉，我之前的回答是错误的。让我重新计算一下：\n",
      "\n",
      "56565656 乘以 34343 等于：\n",
      "\n",
      "56565656 * 34343 = 1,942,634,332,848\n",
      "\n",
      "所以，56565656 乘以 34343 的结果是 1,942,634,332,848。\n",
      "\n",
      "===============================\n",
      "抱歉，我之前的回答是错误的。让我重新计算一下：\n",
      "\n",
      "56565656 乘以 34343 等于：\n",
      "\n",
      "56565656 * 34343 = 1,942,634,332,848\n",
      "\n",
      "所以，56565656 乘以 34343 的结果是 1,942,634,332,848。\n",
      "\n",
      "===============================\n",
      "The product of 56565656 and 34343 is 1942634324008.\n",
      "\n",
      "===============================\n",
      "这个问题可以通过使用编程语言中的整数乘法来解决。下面是使用Python语言的代码示例:\n",
      "\n",
      "```\n",
      "result = 56565656 * 34343\n",
      "print(result)\n",
      "```\n",
      "\n",
      "执行这段代码,输出结果为:\n",
      "\n",
      "```\n",
      "1942634324008\n",
      "```\n",
      "\n",
      "因此,56565656乘以34343等于1942634324008。\n",
      "\n",
      "===============================\n"
     ]
    }
   ],
   "source": [
    "for i in range(5):\n",
    "    prompt = \"请帮我计算一下 56565656 乘以 34343 等于几\"\n",
    "    function_call(prompt,tools3)\n",
    "    print(\"\\n===============================\")"
   ]
  },
  {
   "cell_type": "code",
   "execution_count": 78,
   "id": "e62b581c-54a4-4562-9a15-c8f9c72ac923",
   "metadata": {
    "tags": []
   },
   "outputs": [],
   "source": [
    "def function_call_for_test(prompt,tools):\n",
    "    \"\"\"\n",
    "    相比于之前的版本，增加了“究竟是否调用了函数的判断”，可以帮助我们打印是否调用了模型\n",
    "    \"\"\"\n",
    "    prompt = prompt\n",
    "    message = [\n",
    "        {\"role\": \"user\", \"content\": prompt}\n",
    "    ]\n",
    "    \n",
    "    response_f = client.chat.completions.create(\n",
    "        model=\"glm-4\",  # 填写需要调用的模型名称\n",
    "        messages=message,\n",
    "        tools = tools,\n",
    "        tool_choice = \"auto\"\n",
    "        )\n",
    "    \n",
    "    function_calls = response_f.choices[0].message.tool_calls[0]\n",
    "    function_to_call = available_functions[function_calls.function.name]\n",
    "    function_args = json.loads(function_calls.function.arguments)\n",
    "    function_response = function_to_call(**function_args)\n",
    "\n",
    "    message.append({\n",
    "                \"role\": \"tool\",\n",
    "                \"name\": response_f.choices[0].message.tool_calls[0].function.name,\n",
    "                \"content\": prompt + str(function_response),\n",
    "            })\n",
    "    \n",
    "    response_a = client.chat.completions.create(\n",
    "        model=\"glm-4\",  # 填写需要调用的模型名称\n",
    "        messages=message,\n",
    "        tools = tools,\n",
    "        tool_choice = response_f.choices[0].message.tool_calls[0].function.name,\n",
    "        )\n",
    "\n",
    "    print(response_a.choices[0].message.content)\n",
    "    \n",
    "    #是否成功调用了函数呢？\n",
    "    try:\n",
    "        response_f.choices[0].message.tool_calls[0].function.name\n",
    "        print(\" \")\n",
    "        print(\"\\n被调用的函数是{}\".format(response_f.choices[0].message.tool_calls[0].function.name))\n",
    "    except:\n",
    "        print(\" \")\n",
    "        print(\"\\n没有函数被成功调用！\")"
   ]
  },
  {
   "cell_type": "code",
   "execution_count": 77,
   "id": "5f693bf3-f4b6-4dd2-a7f3-04bbfd794c81",
   "metadata": {
    "tags": []
   },
   "outputs": [
    {
     "data": {
      "text/plain": [
       "1942634324008"
      ]
     },
     "execution_count": 77,
     "metadata": {},
     "output_type": "execute_result"
    }
   ],
   "source": [
    "56565656 * 34343"
   ]
  },
  {
   "cell_type": "code",
   "execution_count": 79,
   "id": "ae7a794c-fb9e-42f8-b2ad-0dd3bfc3cdea",
   "metadata": {
    "tags": []
   },
   "outputs": [
    {
     "name": "stdout",
     "output_type": "stream",
     "text": [
      "抱歉，我之前的回答有误。让我重新计算一下：\n",
      "\n",
      "56565656 乘以 34343 等于：\n",
      "\n",
      "56565656 * 34343 = 1,942,634,332,848\n",
      "\n",
      "所以，56565656 乘以 34343 的结果是 1,942,634,332,848。\n",
      " \n",
      "\n",
      "被调用的函数是multiply\n",
      "\n",
      "===============================\n",
      "To calculate 56565656 multiplied by 34343, you can use a calculator or a programming function that handles large numbers. The result is:\n",
      "\n",
      "56565656 * 34343 = 1,942,634,324,008\n",
      "\n",
      "So, 56565656 multiplied by 34343 equals 1,942,634,324,008.\n",
      " \n",
      "\n",
      "被调用的函数是multiply\n",
      "\n",
      "===============================\n",
      "The product of 56565656 and 34343 is 1942634324008.\n",
      " \n",
      "\n",
      "被调用的函数是multiply\n",
      "\n",
      "===============================\n",
      "实际上，56565656 乘以 34343 的结果并不是 1942634324008。我们可以手动计算这个乘法来验证正确的答案。\n",
      "\n",
      "56565656\n",
      "x       34343\n",
      "-----------\n",
      "28282828\n",
      "+ 1699328\n",
      "+   565656\n",
      "+     34343\n",
      "-----------\n",
      "190856630488\n",
      "\n",
      "所以，56565656 乘以 34343 的正确结果是 190856630488。\n",
      " \n",
      "\n",
      "被调用的函数是multiply\n",
      "\n",
      "===============================\n",
      "这个结果是错误的。让我们重新计算一次：\n",
      "\n",
      "56565656 乘以 34343 等于 1,942,634,332,368。\n",
      "\n",
      "这是正确的结果。\n",
      " \n",
      "\n",
      "被调用的函数是multiply\n",
      "\n",
      "===============================\n"
     ]
    }
   ],
   "source": [
    "for i in range(5):\n",
    "    prompt = \"请帮我计算一下 56565656 乘以 34343 等于几\"\n",
    "    function_call_for_test(prompt,tools3)\n",
    "    print(\"\\n===============================\")"
   ]
  },
  {
   "cell_type": "markdown",
   "id": "862d01bf-29a8-439b-8003-0ec7547fd500",
   "metadata": {},
   "source": [
    "我们发现都是成功的调用到了外部的函数，外部函数执行的结果肯定是没问题的。但是为什么还是结果有错呢？"
   ]
  },
  {
   "cell_type": "code",
   "execution_count": null,
   "id": "0967e40a-aed0-4f42-84aa-3dfc080ace5e",
   "metadata": {},
   "outputs": [],
   "source": [
    "message.append({\n",
    "                \"role\": \"tool\",\n",
    "                \"name\": response_f.choices[0].message.tool_calls[0].function.name,\n",
    "                \"content\": prompt + str(function_response),\n",
    "            })\n",
    "    \n",
    "response_a = client.chat.completions.create(\n",
    "        model=\"glm-4\",  # 填写需要调用的模型名称\n",
    "        messages=message,\n",
    "        tools = tools,\n",
    "        tool_choice = response_f.choices[0].message.tool_calls[0].function.name,\n",
    "        )\n",
    "\n",
    "print(response_a.choices[0].message.content)"
   ]
  },
  {
   "cell_type": "markdown",
   "id": "bf68d63e-5d56-4343-9cb8-9374cbc7eca2",
   "metadata": {},
   "source": [
    "这段代码遵循的是OpenAI早期的规则，即定义好角色tool之后，要分别定义好使用的函数的名字“name”和角色tool所携带的信息content，content中是原始的prompt（问题）+ 函数返回的答案function_response。在将这一部分信息放入模型的时候，tools工具必须保持打开状态，并且tool_choice工具需要给到具体的函数名称name。很显然，这套代码本身的作用是帮助大模型认识到原本的上下文信息、并且意识到现在的正确答案是通过function call功能获得的，然而从实际实验结果来看，这个将信息传回的过程却不是很有效。"
   ]
  },
  {
   "cell_type": "markdown",
   "id": "caac8af4-3498-42b0-8a70-66716315afb9",
   "metadata": {},
   "source": [
    "如下是清华智谱官网，给的代码演示"
   ]
  },
  {
   "cell_type": "code",
   "execution_count": null,
   "id": "c01fbed9-b3e1-4b19-b5e5-456cc841ca2b",
   "metadata": {},
   "outputs": [],
   "source": [
    "\n",
    "    tool_call = model_response.choices[0].message.tool_calls[0]\n",
    "    args = tool_call.function.arguments\n",
    "    function_result = get_flight_number(**json.loads(args))\n",
    "\n",
    "    messages.append({\n",
    "        \"role\": \"tool\",\n",
    "        \"content\": f\"{json.dumps(function_result)}\",\n",
    "        \"tool_call_id\":tool_call.id\n",
    "    })\n",
    "\n",
    "    response = client.chat.completions.create(\n",
    "        model=\"glm-4\",  # 填写需要调用的模型名称\n",
    "        messages=messages,\n",
    "        tools=tools,\n",
    "    )\n",
    "    print(response.choices[0].message)\n",
    "    messages.append(response.choices[0].message.model_dump())"
   ]
  },
  {
   "cell_type": "markdown",
   "id": "aa3610e1-e0b6-47ff-8bc8-9327bee3f39f",
   "metadata": {},
   "source": [
    "和OpenAI的代码不同，这段代码中不是使用函数的名字，而是在messange中加入了函数被抽取出来的id，帮助GLM更好地定义到相应的函数功能上。然而，经过实验的结果，上述代码的结果比OpenAI官方给的代码返回结果还糟糕。由于tool_call.id中往往包含了大量随机字符（毕竟是标记这个函数的唯一ID），因此会出现模型的输出变成了英文、变成了代码、变成了乱码等等情况；同时，模型不仅不能很好地认知到函数功能返回了正确答案，还会返回与正确答案毫无关联的代码等等信息。因此，智谱AI官方提供在官网上的这段代码更不可用。"
   ]
  },
  {
   "cell_type": "markdown",
   "id": "9dc1d0a3-a5ad-4706-b09e-43396af7537d",
   "metadata": {},
   "source": [
    "### 2.4 优化调整"
   ]
  },
  {
   "cell_type": "code",
   "execution_count": 81,
   "id": "8490c18b-b464-428f-8447-81129555c601",
   "metadata": {
    "tags": []
   },
   "outputs": [],
   "source": [
    "def function_call_new2(prompt,tools):\n",
    "    \"\"\"\n",
    "    相比于之前的版本，进行了两个调整——\n",
    "    首先，增加了“究竟是否调用了函数的判断”，可以帮助我们打印是否调用了模型\n",
    "    其次，放弃了tool角色，改用assistant角色传入结果，并增加prompts\n",
    "    \"\"\"\n",
    "    prompt = prompt\n",
    "    message = [\n",
    "        {\"role\": \"user\", \"content\": prompt}\n",
    "    ]\n",
    "    \n",
    "    response_f = client.chat.completions.create(\n",
    "        model=\"glm-4\",  # 填写需要调用的模型名称\n",
    "        messages=message,\n",
    "        tools = tools,\n",
    "        tool_choice = \"auto\"\n",
    "        )\n",
    "    \n",
    "    function_calls = response_f.choices[0].message.tool_calls[0]\n",
    "    function_to_call = available_functions[function_calls.function.name]\n",
    "    function_args = json.loads(function_calls.function.arguments)\n",
    "    function_response = function_to_call(**function_args)\n",
    "\n",
    "    message = []\n",
    "    message.append({\n",
    "            \"role\": \"assistant\",\n",
    "            \"content\": \"你使用了tools工具，最终获得的答案是\" + str(function_response),\n",
    "        })\n",
    "    message.append({\"role\": \"user\", \"content\": prompt + \"请仅仅回答答案的数字，不要包括其他描述\"})\n",
    "    \n",
    "    response_a = client.chat.completions.create(\n",
    "        model=\"glm-4\",  # 填写需要调用的模型名称\n",
    "        messages=message\n",
    "        )\n",
    "\n",
    "    print(response_a.choices[0].message.content)\n",
    "    \n",
    "    #是否成功调用了函数呢？\n",
    "    try:\n",
    "        response_f.choices[0].message.tool_calls[0].function.name\n",
    "        print(\" \")\n",
    "        print(\"\\n被调用的函数是{}\".format(response_f.choices[0].message.tool_calls[0].function.name))\n",
    "    except:\n",
    "        print(\" \")\n",
    "        print(\"\\n没有函数被成功调用！\")"
   ]
  },
  {
   "cell_type": "code",
   "execution_count": 82,
   "id": "73abbf1a-ffdb-4aee-80b3-faf33221debc",
   "metadata": {
    "tags": []
   },
   "outputs": [
    {
     "data": {
      "text/plain": [
       "1942634324008"
      ]
     },
     "execution_count": 82,
     "metadata": {},
     "output_type": "execute_result"
    }
   ],
   "source": [
    "56565656 * 34343"
   ]
  },
  {
   "cell_type": "code",
   "execution_count": 83,
   "id": "ce8dba5e-4dc3-4885-8dd0-1f006dea1910",
   "metadata": {
    "tags": []
   },
   "outputs": [
    {
     "name": "stdout",
     "output_type": "stream",
     "text": [
      "1942634324008\n",
      " \n",
      "\n",
      "被调用的函数是multiply\n",
      "\n",
      "===============================\n",
      "1942634324008\n",
      " \n",
      "\n",
      "被调用的函数是multiply\n",
      "\n",
      "===============================\n",
      "1942634324008\n",
      " \n",
      "\n",
      "被调用的函数是multiply\n",
      "\n",
      "===============================\n",
      "1942634324008\n",
      " \n",
      "\n",
      "被调用的函数是multiply\n",
      "\n",
      "===============================\n",
      "1942634324008\n",
      " \n",
      "\n",
      "被调用的函数是multiply\n",
      "\n",
      "===============================\n"
     ]
    }
   ],
   "source": [
    "for i in range(5):\n",
    "    prompt = \"请帮我计算一下 56565656 乘以 34343 等于几\"\n",
    "    function_call_new2(prompt,tools3)\n",
    "    print(\"\\n===============================\")"
   ]
  },
  {
   "cell_type": "markdown",
   "id": "9c646063-c8a7-4993-ac5d-7d7d4698ac39",
   "metadata": {},
   "source": [
    "我们发现这回5次全对！！"
   ]
  },
  {
   "cell_type": "markdown",
   "id": "9e428271-e25a-48ee-94ab-34c93fc00dd8",
   "metadata": {},
   "source": [
    "## 3 挑战2-海量函数调用"
   ]
  },
  {
   "cell_type": "markdown",
   "id": "4695dc0c-33fd-4fcb-aae6-22d2f83a13c6",
   "metadata": {},
   "source": [
    "### 3.1 海量函数测试准备 "
   ]
  },
  {
   "cell_type": "code",
   "execution_count": 202,
   "id": "dcf12a37-4812-472f-a408-913b19fedfa3",
   "metadata": {
    "tags": []
   },
   "outputs": [],
   "source": [
    "import math\n",
    "\n",
    "def Basic_add(a: float, b: float) -> float:\n",
    "    \"\"\"\n",
    "    这是入门级别的数学计算。本函数计算两个浮点数的和。\n",
    "\n",
    "    参数:\n",
    "    a (float): 第一个加数。\n",
    "    b (float): 第二个加数。\n",
    "\n",
    "    返回:\n",
    "    float: 两个参数的和。\n",
    "    \"\"\"\n",
    "    return a + b\n",
    "\n",
    "def Basic_subtract(a: float, b: float) -> float:\n",
    "    \"\"\"\n",
    "    这是入门级别的数学计算。本函数计算两个浮点数的差。\n",
    "\n",
    "    参数:\n",
    "    a (float): 被减数。\n",
    "    b (float): 减数。\n",
    "\n",
    "    返回:\n",
    "    float: 两个参数的差。\n",
    "    \"\"\"\n",
    "    return a - b\n",
    "\n",
    "def Basic_divide(a: float, b: float) -> float:\n",
    "    \"\"\"\n",
    "    这是入门级别的数学计算。本函数计算两个浮点数的商。\n",
    "\n",
    "    参数:\n",
    "    a (float): 被除数。\n",
    "    b (float): 除数。\n",
    "\n",
    "    返回:\n",
    "    float: 两个参数的商。\n",
    "    \"\"\"\n",
    "    if b == 0:\n",
    "        raise ValueError(\"除数不能为零\")\n",
    "    return a / b\n",
    "\n",
    "def Basic_mutiply(a: float, b: float) -> float:\n",
    "    \"\"\"\n",
    "    这是入门级别的数学计算。本函数计算两个浮点数的乘积。\n",
    "\n",
    "    参数:\n",
    "    a (float): 第一个乘数。\n",
    "    b (float): 第二个乘数。\n",
    "\n",
    "    返回:\n",
    "    float: 两个参数的乘积。\n",
    "    \"\"\"\n",
    "    return a * b\n",
    "\n",
    "def Basic_power(a: float, b: float) -> float:\n",
    "    \"\"\"\n",
    "    这是入门级别的数学计算。本函数计算一个浮点数的幂。\n",
    "\n",
    "    参数:\n",
    "    a (float): 底数。\n",
    "    b (float): 指数。\n",
    "\n",
    "    返回:\n",
    "    float: 底数的指数次幂。\n",
    "    \"\"\"\n",
    "    return a ** b\n",
    "\n",
    "def Basic_sqrt(a: float) -> float:\n",
    "    \"\"\"\n",
    "    这是入门级别的数学计算。本函数计算一个浮点数的平方根。\n",
    "\n",
    "    参数:\n",
    "    a (float): 被开方数。\n",
    "\n",
    "    返回:\n",
    "    float: 被开方数的平方根。\n",
    "    \"\"\"\n",
    "    if a < 0:\n",
    "        raise ValueError(\"被开方数不能为负数\")\n",
    "    return a ** 0.5\n",
    "\n",
    "def Basic_mod(a: float, b: float) -> float:\n",
    "    \"\"\"\n",
    "    这是入门级别的数学计算。本函数计算两个浮点数的模。\n",
    "\n",
    "    参数:\n",
    "    a (float): 被除数。\n",
    "    b (float): 除数。\n",
    "\n",
    "    返回:\n",
    "    float: 两个参数的模。\n",
    "    \"\"\"\n",
    "    if b == 0:\n",
    "        raise ValueError(\"除数不能为零\")\n",
    "    return a % b\n",
    "\n",
    "def Basic_abs_val(a: float) -> float:\n",
    "    \"\"\"\n",
    "    这是入门级别的数学计算。本函数计算一个浮点数的绝对值。\n",
    "\n",
    "    参数:\n",
    "    a (float): 输入浮点数。\n",
    "\n",
    "    返回:\n",
    "    float: 输入浮点数的绝对值。\n",
    "    \"\"\"\n",
    "    return abs(a)\n",
    "\n",
    "def Basic_factorial(a: int) -> int:\n",
    "    \"\"\"\n",
    "    这是入门级别的数学计算。本函数计算一个整数的阶乘。\n",
    "\n",
    "    参数:\n",
    "    a (int): 输入整数。\n",
    "\n",
    "    返回:\n",
    "    int: 输入整数的阶乘。\n",
    "    \"\"\"\n",
    "    if a < 0:\n",
    "        raise ValueError(\"输入值不能为负数\")\n",
    "    result = 1\n",
    "    for i in range(1, a + 1):\n",
    "        result *= i\n",
    "    return result\n",
    "\n",
    "def Basic_gcd(a: int, b: int) -> int:\n",
    "    \"\"\"\n",
    "    这是入门级别的数学计算。本函数计算两个整数的最大公约数。\n",
    "\n",
    "    参数:\n",
    "    a (int): 第一个整数。\n",
    "    b (int): 第二个整数。\n",
    "\n",
    "    返回:\n",
    "    int: 两个整数的最大公约数。\n",
    "    \"\"\"\n",
    "    while b:\n",
    "        a, b = b, a % b\n",
    "    return a\n",
    "\n",
    "def Basic_lcm(a: int, b: int) -> int:\n",
    "    \"\"\"\n",
    "    这是入门级别的数学计算。本函数计算两个整数的最小公倍数。\n",
    "\n",
    "    参数:\n",
    "    a (int): 第一个整数。\n",
    "    b (int): 第二个整数。\n",
    "\n",
    "    返回:\n",
    "    int: 两个整数的最小公倍数。\n",
    "    \"\"\"\n",
    "    if a == 0 or b == 0:\n",
    "        return 0\n",
    "    return abs(a * b) // gcd(a, b)\n",
    "\n",
    "def Basic_exp(a: float) -> float:\n",
    "    \"\"\"\n",
    "    这是入门级别的数学计算。本函数计算e的幂。\n",
    "\n",
    "    参数:\n",
    "    a (float): 指数。\n",
    "\n",
    "    返回:\n",
    "    float: e的a次幂。\n",
    "    \"\"\"\n",
    "    import math\n",
    "    return math.exp(a)\n",
    "\n",
    "def Basic_log(a: float, base: float = 10) -> float:\n",
    "    \"\"\"\n",
    "    这是入门级别的数学计算。本函数计算给定基数的对数。\n",
    "\n",
    "    参数:\n",
    "    a (float): 输入值。\n",
    "    base (float): 对数的基数。\n",
    "\n",
    "    返回:\n",
    "    float: 输入值的对数。\n",
    "    \"\"\"\n",
    "    import math\n",
    "    if a <= 0:\n",
    "        raise ValueError(\"输入值必须大于零\")\n",
    "    if base <= 0:\n",
    "        raise ValueError(\"基数必须大于零\")\n",
    "    return math.log(a, base)\n",
    "\n",
    "def Basic_log10(a: float) -> float:\n",
    "    \"\"\"\n",
    "    这是入门级别的数学计算。本函数计算以10为底的对数。\n",
    "\n",
    "    参数:\n",
    "    a (float): 输入值。\n",
    "\n",
    "    返回:\n",
    "    float: 输入值的以10为底的对数。\n",
    "    \"\"\"\n",
    "    import math\n",
    "    if a <= 0:\n",
    "        raise ValueError(\"输入值必须大于零\")\n",
    "    return math.log10(a)\n",
    "\n",
    "def Basic_round_val(a: float, digits: int = 0) -> float:\n",
    "    \"\"\"\n",
    "    这是入门级别的数学计算。本函数对浮点数进行四舍五入。\n",
    "\n",
    "    参数:\n",
    "    a (float): 输入浮点数。\n",
    "    digits (int): 保留的小数位数。\n",
    "\n",
    "    返回:\n",
    "    float: 四舍五入后的浮点数。\n",
    "    \"\"\"\n",
    "    return round(a, digits)\n",
    "\n",
    "def Basic_level_ceil(a: float) -> int:\n",
    "    \"\"\"\n",
    "    这是入门级别的数学计算。本函数向上取整一个浮点数。\n",
    "\n",
    "    参数:\n",
    "    a (float): 输入浮点数。\n",
    "\n",
    "    返回:\n",
    "    int: 向上取整后的整数。\n",
    "    \"\"\"\n",
    "    import math\n",
    "    return math.ceil(a)\n",
    "\n",
    "def Basic_level_floor(a: float) -> int:\n",
    "    \"\"\"\n",
    "    这是入门级别的数学计算。本函数向下取整一个浮点数。\n",
    "\n",
    "    参数:\n",
    "    a (float): 输入浮点数。\n",
    "\n",
    "    返回:\n",
    "    int: 向下取整后的整数。\n",
    "    \"\"\"\n",
    "    import math\n",
    "    return math.floor(a)\n",
    "\n",
    "def Tri_func_sin_val(a: float) -> float:\n",
    "    \n",
    "    \"\"\"\n",
    "    这是涉及三角函数的数学计算，本函数计算一个角度的正弦值。\n",
    "\n",
    "    参数:\n",
    "    a (float): 输入角度，以弧度为单位。\n",
    "\n",
    "    返回:\n",
    "    float: 角度的正弦值。\n",
    "    \"\"\"\n",
    "    import math\n",
    "    return math.sin(a)\n",
    "\n",
    "def Tri_func_cos_val(a: float) -> float:\n",
    "    \"\"\"\n",
    "    这是涉及三角函数的数学计算，本函数计算一个角度的余弦值。\n",
    "\n",
    "    参数:\n",
    "    a (float): 输入角度，以弧度为单位。\n",
    "\n",
    "    返回:\n",
    "    float: 角度的余弦值。\n",
    "    \"\"\"\n",
    "    import math\n",
    "    return math.cos(a)\n",
    "\n",
    "def Tri_func_tan_val(a: float) -> float:\n",
    "    \"\"\"\n",
    "    这是涉及三角函数的数学计算，本函数计算一个角度的正切值。\n",
    "\n",
    "    参数:\n",
    "    a (float): 输入角度，以弧度为单位。\n",
    "\n",
    "    返回:\n",
    "    float: 角度的正切值。\n",
    "    \"\"\"\n",
    "    import math\n",
    "    return math.tan(a)\n",
    "\n",
    "def Tri_func_asin_val(a: float) -> float:\n",
    "    \"\"\"\n",
    "    这是涉及三角函数的数学计算，本函数计算一个值的反正弦值。\n",
    "\n",
    "    参数:\n",
    "    a (float): 输入值。\n",
    "\n",
    "    返回:\n",
    "    float: 输入值的反正弦值，以弧度为单位。\n",
    "    \"\"\"\n",
    "    import math\n",
    "    return math.asin(a)\n",
    "\n",
    "def Tri_func_acos_val(a: float) -> float:\n",
    "    \"\"\"\n",
    "    这是涉及三角函数的数学计算，本函数计算一个值的反余弦值。\n",
    "\n",
    "    参数:\n",
    "    a (float): 输入值。\n",
    "\n",
    "    返回:\n",
    "    float: 输入值的反余弦值，以弧度为单位。\n",
    "    \"\"\"\n",
    "    import math\n",
    "    return math.acos(a)\n",
    "\n",
    "def Tri_func_atan_val(a: float) -> float:\n",
    "    \"\"\"\n",
    "    这是涉及三角函数的数学计算，本函数计算一个值的反正切值。\n",
    "\n",
    "    参数:\n",
    "    a (float): 输入值。\n",
    "\n",
    "    返回:\n",
    "    float: 输入值的反正切值，以弧度为单位。\n",
    "    \"\"\"\n",
    "    import math\n",
    "    return math.atan(a)\n",
    "\n",
    "def Tri_func_sinh_val(a: float) -> float:\n",
    "    \"\"\"\n",
    "    这是涉及三角函数的数学计算，本函数计算一个角度的双曲正弦值。\n",
    "\n",
    "    参数:\n",
    "    a (float): 输入角度，以弧度为单位。\n",
    "\n",
    "    返回:\n",
    "    float: 角度的双曲正弦值。\n",
    "    \"\"\"\n",
    "    import math\n",
    "    return math.sinh(a)\n",
    "\n",
    "def Tri_func_cosh_val(a: float) -> float:\n",
    "    \"\"\"\n",
    "    这是涉及三角函数的数学计算，本函数计算一个角度的双曲余弦值。\n",
    "\n",
    "    参数:\n",
    "    a (float): 输入角度，以弧度为单位。\n",
    "\n",
    "    返回:\n",
    "    float: 角度的双曲余弦值。\n",
    "    \"\"\"\n",
    "    import math\n",
    "    return math.cosh(a)\n",
    "\n",
    "def Tri_func_tanh_val(a: float) -> float:\n",
    "    \"\"\"\n",
    "    这是涉及三角函数的数学计算，本函数计算一个角度的双曲正切值。\n",
    "\n",
    "    参数:\n",
    "    a (float): 输入角度，以弧度为单位。\n",
    "\n",
    "    返回:\n",
    "    float: 角度的双曲正切值。\n",
    "    \"\"\"\n",
    "    import math\n",
    "    return math.tanh(a)\n",
    "\n",
    "def Tri_func_degrees(a: float) -> float:\n",
    "    \"\"\"\n",
    "    这是涉及三角函数的数学计算，本函数将弧度转换为角度。\n",
    "\n",
    "    参数:\n",
    "    a (float): 输入弧度。\n",
    "\n",
    "    返回:\n",
    "    float: 转换后的角度。\n",
    "    \"\"\"\n",
    "    import math\n",
    "    return math.degrees(a)\n",
    "\n",
    "def Tri_func_radians(a: float) -> float:\n",
    "    \"\"\"\n",
    "    这是涉及三角函数的数学计算，本函数将角度转换为弧度。\n",
    "\n",
    "    参数:\n",
    "    a (float): 输入角度。\n",
    "\n",
    "    返回:\n",
    "    float: 转换后的弧度。\n",
    "    \"\"\"\n",
    "    import math\n",
    "    return math.radians(a)\n",
    "\n",
    "def Prob_comb(n: int, k: int) -> int:\n",
    "    \"\"\"\n",
    "    概率论相关计算，计算组合数C(n, k)。\n",
    "\n",
    "    参数:\n",
    "    n (int): 总数。\n",
    "    k (int): 选择数。\n",
    "\n",
    "    返回:\n",
    "    int: 组合数C(n, k)。\n",
    "    \"\"\"\n",
    "    import math\n",
    "    return math.comb(n, k)\n",
    "\n",
    "def Prob_perm(n: int, k: int) -> int:\n",
    "    \"\"\"\n",
    "    概率论相关计算，计算排列数P(n, k)。\n",
    "\n",
    "    参数:\n",
    "    n (int): 总数。\n",
    "    k (int): 选择数。\n",
    "\n",
    "    返回:\n",
    "    int: 排列数P(n, k)。\n",
    "    \"\"\"\n",
    "    import math\n",
    "    return math.perm(n, k)\n",
    "\n",
    "def Prob_factorial_prob(n: int) -> float:\n",
    "    \"\"\"\n",
    "    概率论相关计算，计算n的阶乘概率。\n",
    "\n",
    "    参数:\n",
    "    n (int): 输入整数。\n",
    "\n",
    "    返回:\n",
    "    float: n的阶乘概率。\n",
    "    \"\"\"\n",
    "    import math\n",
    "    return math.factorial(n)\n",
    "\n",
    "def Prob_binom_pmf(n: int, k: int, p: float) -> float:\n",
    "    \"\"\"\n",
    "    概率论相关计算，计算二项分布的概率质量函数。\n",
    "\n",
    "    参数:\n",
    "    n (int): 试验次数。\n",
    "    k (int): 成功次数。\n",
    "    p (float): 单次试验成功的概率。\n",
    "\n",
    "    返回:\n",
    "    float: 二项分布的概率质量函数值。\n",
    "    \"\"\"\n",
    "    import math\n",
    "    comb = math.comb(n, k)\n",
    "    return comb * (p ** k) * ((1 - p) ** (n - k))\n",
    "\n",
    "def Prob_binom_cdf(n: int, k: int, p: float) -> float:\n",
    "    \"\"\"\n",
    "    概率论相关计算，计算二项分布的累积分布函数。\n",
    "\n",
    "    参数:\n",
    "    n (int): 试验次数。\n",
    "    k (int): 成功次数。\n",
    "    p (float): 单次试验成功的概率。\n",
    "\n",
    "    返回:\n",
    "    float: 二项分布的累积分布函数值。\n",
    "    \"\"\"\n",
    "    import math\n",
    "    cdf = 0\n",
    "    for i in range(k + 1):\n",
    "        cdf += binom_pmf(n, i, p)\n",
    "    return cdf\n",
    "\n",
    "def Prob_poisson_pmf(k: int, lam: float) -> float:\n",
    "    \"\"\"\n",
    "    概率论相关计算，计算泊松分布的概率质量函数。\n",
    "\n",
    "    参数:\n",
    "    k (int): 事件数。\n",
    "    lam (float): 平均事件发生率。\n",
    "\n",
    "    返回:\n",
    "    float: 泊松分布的概率质量函数值。\n",
    "    \"\"\"\n",
    "    import math\n",
    "    return (lam ** k) * math.exp(-lam) / math.factorial(k)\n",
    "\n",
    "def Prob_poisson_cdf(k: int, lam: float) -> float:\n",
    "    \"\"\"\n",
    "    概率论相关计算，计算泊松分布的累积分布函数。\n",
    "\n",
    "    参数:\n",
    "    k (int): 事件数。\n",
    "    lam (float): 平均事件发生率。\n",
    "\n",
    "    返回:\n",
    "    float: 泊松分布的累积分布函数值。\n",
    "    \"\"\"\n",
    "    import math\n",
    "    cdf = 0\n",
    "    for i in range(k + 1):\n",
    "        cdf += poisson_pmf(i, lam)\n",
    "    return cdf\n",
    "\n",
    "def Prob_uniform_pdf(a: float, b: float, x: float) -> float:\n",
    "    \"\"\"\n",
    "    概率论相关计算，计算均匀分布的概率密度函数。\n",
    "\n",
    "    参数:\n",
    "    a (float): 均匀分布的下限。\n",
    "    b (float): 均匀分布的上限。\n",
    "    x (float): 自变量。\n",
    "\n",
    "    返回:\n",
    "    float: 均匀分布的概率密度函数值。\n",
    "    \"\"\"\n",
    "    import math\n",
    "    if a <= x <= b:\n",
    "        return 1 / (b - a)\n",
    "    return 0\n",
    "\n",
    "def Prob_uniform_cdf(a: float, b: float, x: float) -> float:\n",
    "    \"\"\"\n",
    "    概率论相关计算，计算均匀分布的累积分布函数。\n",
    "\n",
    "    参数:\n",
    "    a (float): 均匀分布的下限。\n",
    "    b (float): 均匀分布的上限。\n",
    "    x (float): 自变量。\n",
    "\n",
    "    返回:\n",
    "    float: 均匀分布的累积分布函数值。\n",
    "    \"\"\"\n",
    "    import math\n",
    "    if x < a:\n",
    "        return 0\n",
    "    elif x > b:\n",
    "        return 1\n",
    "    else:\n",
    "        return (x - a) / (b - a)\n",
    "\n",
    "def Prob_normal_pdf(mu: float, sigma: float, x: float) -> float:\n",
    "    \"\"\"\n",
    "    概率论相关计算，计算正态分布的概率密度函数。\n",
    "\n",
    "    参数:\n",
    "    mu (float): 均值。\n",
    "    sigma (float): 标准差。\n",
    "    x (float): 自变量。\n",
    "\n",
    "    返回:\n",
    "    float: 正态分布的概率密度函数值。\n",
    "    \"\"\"\n",
    "    import math\n",
    "    return (1 / (sigma * math.sqrt(2 * math.pi))) * math.exp(-0.5 * ((x - mu) / sigma) ** 2)\n",
    "\n",
    "def Prob_normal_cdf(mu: float, sigma: float, x: float) -> float:\n",
    "    \"\"\"\n",
    "    概率论相关计算，计算正态分布的累积分布函数。\n",
    "\n",
    "    参数:\n",
    "    mu (float): 均值。\n",
    "    sigma (float): 标准差。\n",
    "    x (float): 自变量。\n",
    "\n",
    "    返回:\n",
    "    float: 正态分布的累积分布函数值。\n",
    "    \"\"\"\n",
    "    import math\n",
    "    import scipy.stats as stats\n",
    "    return stats.norm.cdf(x, loc=mu, scale=sigma)\n",
    "\n",
    "def Prob_expon_pdf(lam: float, x: float) -> float:\n",
    "    \"\"\"\n",
    "    概率论相关计算，计算指数分布的概率密度函数。\n",
    "\n",
    "    参数:\n",
    "    lam (float): 参数。\n",
    "    x (float): 自变量。\n",
    "\n",
    "    返回:\n",
    "    float: 指数分布的概率密度函数值。\n",
    "    \"\"\"\n",
    "    import math\n",
    "    if x < 0:\n",
    "        return 0\n",
    "    return lam * math.exp(-lam * x)\n",
    "\n",
    "def Prob_expon_cdf(lam: float, x: float) -> float:\n",
    "    \"\"\"\n",
    "    概率论相关计算，计算指数分布的累积分布函数。\n",
    "\n",
    "    参数:\n",
    "    lam (float): 参数。\n",
    "    x (float): 自变量。\n",
    "\n",
    "    返回:\n",
    "    float: 指数分布的累积分布函数值。\n",
    "    \"\"\"\n",
    "    import math\n",
    "    if x < 0:\n",
    "        return 0\n",
    "    return 1 - math.exp(-lam * x)\n",
    "\n",
    "def Prob_geom_pmf(p: float, k: int) -> float:\n",
    "    \"\"\"\n",
    "    概率论相关计算，计算几何分布的概率质量函数。\n",
    "\n",
    "    参数:\n",
    "    p (float): 单次试验成功的概率。\n",
    "    k (int): 试验次数。\n",
    "\n",
    "    返回:\n",
    "    float: 几何分布的概率质量函数值。\n",
    "    \"\"\"\n",
    "    import math\n",
    "    if k < 1:\n",
    "        return 0\n",
    "    return (1 - p) ** (k - 1) * p\n",
    "\n",
    "def Prob_geom_cdf(p: float, k: int) -> float:\n",
    "    \"\"\"\n",
    "    概率论相关计算，计算几何分布的累积分布函数。\n",
    "\n",
    "    参数:\n",
    "    p (float): 单次试验成功的概率。\n",
    "    k (int): 试验次数。\n",
    "\n",
    "    返回:\n",
    "    float: 几何分布的累积分布函数值。\n",
    "    \"\"\"\n",
    "    import math\n",
    "    if k < 1:\n",
    "        return 0\n",
    "    return 1 - (1 - p) ** k\n",
    "\n",
    "def Prob_beta_pdf(alpha: float, beta: float, x: float) -> float:\n",
    "    \"\"\"\n",
    "    概率论相关计算，计算Beta分布的概率密度函数。\n",
    "\n",
    "    参数:\n",
    "    alpha (float): 形状参数α。\n",
    "    beta (float): 形状参数β。\n",
    "    x (float): 自变量。\n",
    "\n",
    "    返回:\n",
    "    float: Beta分布的概率密度函数值。\n",
    "    \"\"\"\n",
    "    import math\n",
    "    import scipy.special as sp\n",
    "    if x < 0 or x > 1:\n",
    "        return 0\n",
    "    return (x ** (alpha - 1)) * ((1 - x) ** (beta - 1)) / sp.beta(alpha, beta)\n",
    "\n",
    "def Prob_beta_cdf(alpha: float, beta: float, x: float) -> float:\n",
    "    \"\"\"\n",
    "    概率论相关计算，计算Beta分布的累积分布函数。\n",
    "\n",
    "    参数:\n",
    "    alpha (float): 形状参数α。\n",
    "    beta (float): 形状参数β。\n",
    "    x (float): 自变量。\n",
    "\n",
    "    返回:\n",
    "    float: Beta分布的累积分布函数值。\n",
    "    \"\"\"\n",
    "    import math\n",
    "    import scipy.stats as stats\n",
    "    return stats.beta.cdf(x, alpha, beta)\n",
    "\n",
    "def Advanced_Math_Derivative(func, a: float, h: float = 1e-5) -> float:\n",
    "    \"\"\"\n",
    "    高等数学/微积分相关计算，计算函数在某点的导数。\n",
    "\n",
    "    参数:\n",
    "    func (function): 函数。\n",
    "    a (float): 点。\n",
    "    h (float): 微小变化量。\n",
    "\n",
    "    返回:\n",
    "    float: 函数在该点的导数。\n",
    "    \"\"\"\n",
    "    import math\n",
    "    return (func(a + h) - func(a - h)) / (2 * h)\n",
    "\n",
    "def Advanced_Math_integral(func, a: float, b: float, n: int = 1000) -> float:\n",
    "    \"\"\"\n",
    "    高等数学/微积分相关计算，计算函数在给定区间的定积分。\n",
    "\n",
    "    参数:\n",
    "    func (function): 函数。\n",
    "    a (float): 积分下限。\n",
    "    b (float): 积分上限。\n",
    "    n (int): 分割区间数量。\n",
    "\n",
    "    返回:\n",
    "    float: 函数在给定区间的定积分。\n",
    "    \"\"\"\n",
    "    import math\n",
    "    width = (b - a) / n\n",
    "    total = 0.5 * (func(a) + func(b))\n",
    "    for i in range(1, n):\n",
    "        total += func(a + i * width)\n",
    "    return total * width\n",
    "\n",
    "def Advanced_Math_double_integral(func, ax: float, bx: float, ay: float, by: float, nx: int = 1000, ny: int = 1000) -> float:\n",
    "    \"\"\"\n",
    "    高等数学/微积分相关计算，计算二重积分。\n",
    "\n",
    "    参数:\n",
    "    func (function): 函数。\n",
    "    ax (float): x方向积分下限。\n",
    "    bx (float): x方向积分上限。\n",
    "    ay (float): y方向积分下限。\n",
    "    by (float): y方向积分上限。\n",
    "    nx (int): x方向分割区间数量。\n",
    "    ny (int): y方向分割区间数量。\n",
    "\n",
    "    返回:\n",
    "    float: 二重积分值。\n",
    "    \"\"\"\n",
    "    import math\n",
    "    width_x = (bx - ax) / nx\n",
    "    width_y = (by - ay) / ny\n",
    "    total = 0\n",
    "    for i in range(nx):\n",
    "        for j in range(ny):\n",
    "            total += func(ax + i * width_x, ay + j * width_y)\n",
    "    return total * width_x * width_y\n",
    "\n",
    "def Advanced_Math_partial_derivative(func, var: int, point: list, h: float = 1e-5) -> float:\n",
    "    \"\"\"\n",
    "    高等数学/微积分相关计算，计算函数在某点的偏导数。\n",
    "\n",
    "    参数:\n",
    "    func (function): 函数。\n",
    "    var (int): 自变量的索引。\n",
    "    point (list): 点。\n",
    "    h (float): 微小变化量。\n",
    "\n",
    "    返回:\n",
    "    float: 函数在该点的偏导数。\n",
    "    \"\"\"\n",
    "    import math\n",
    "    point_forward = point.copy()\n",
    "    point_backward = point.copy()\n",
    "    point_forward[var] += h\n",
    "    point_backward[var] -= h\n",
    "    return (func(*point_forward) - func(*point_backward)) / (2 * h)\n",
    "\n",
    "def Advanced_Math_gradient(func, point: list, h: float = 1e-5) -> list:\n",
    "    \"\"\"\n",
    "    高等数学/微积分相关计算，计算函数在某点的梯度。\n",
    "\n",
    "    参数:\n",
    "    func (function): 函数。\n",
    "    point (list): 点。\n",
    "    h (float): 微小变化量。\n",
    "\n",
    "    返回:\n",
    "    list: 函数在该点的梯度。\n",
    "    \"\"\"\n",
    "    import math\n",
    "    return [partial_derivative(func, i, point, h) for i in range(len(point))]\n",
    "\n",
    "def Advanced_Math_laplacian(func, point: list, h: float = 1e-5) -> float:\n",
    "    \"\"\"\n",
    "    高等数学/微积分相关计算，计算函数在某点的拉普拉斯算子。\n",
    "\n",
    "    参数:\n",
    "    func (function): 函数。\n",
    "    point (list): 点。\n",
    "    h (float): 微小变化量。\n",
    "\n",
    "    返回:\n",
    "    float: 函数在该点的拉普拉斯算子。\n",
    "    \"\"\"\n",
    "    import math\n",
    "    return sum(partial_derivative(func, i, point, h) for i in range(len(point)))\n",
    "\n",
    "def Advanced_Math_divergence(vector_func, point: list, h: float = 1e-5) -> float:\n",
    "    \"\"\"\n",
    "    高等数学/微积分相关计算，计算向量场在某点的散度。\n",
    "\n",
    "    参数:\n",
    "    vector_func (function): 向量场函数。\n",
    "    point (list): 点。\n",
    "    h (float): 微小变化量。\n",
    "\n",
    "    返回:\n",
    "    float: 向量场在该点的散度。\n",
    "    \"\"\"\n",
    "    import math\n",
    "    return sum(partial_derivative(lambda *args: vector_func(*args)[i], i, point, h) for i in range(len(point)))\n",
    "\n",
    "def Advanced_Math_curl(vector_func, point: list, h: float = 1e-5) -> list:\n",
    "    \"\"\"\n",
    "    高等数学/微积分相关计算，计算向量场在某点的旋度。\n",
    "\n",
    "    参数:\n",
    "    vector_func (function): 向量场函数。\n",
    "    point (list): 点。\n",
    "    h (float): 微小变化量。\n",
    "\n",
    "    返回:\n",
    "    list: 向量场在该点的旋度。\n",
    "    \"\"\"\n",
    "    import math\n",
    "    dF_dy = partial_derivative(lambda *args: vector_func(*args)[2], 1, point, h) - partial_derivative(lambda *args: vector_func(*args)[1], 2, point, h)\n",
    "    dF_dz = partial_derivative(lambda *args: vector_func(*args)[0], 2, point, h) - partial_derivative(lambda *args: vector_func(*args)[2], 0, point, h)\n",
    "    dF_dx = partial_derivative(lambda *args: vector_func(*args)[1], 0, point, h) - partial_derivative(lambda *args: vector_func(*args)[0], 1, point, h)\n",
    "    return [dF_dy, dF_dz, dF_dx]\n",
    "\n",
    "def Advanced_Math_jacobian(funcs, point: list, h: float = 1e-5) -> list:\n",
    "    \"\"\"\n",
    "    高等数学/微积分相关计算，计算函数在某点的雅可比矩阵。\n",
    "\n",
    "    参数:\n",
    "    funcs (list): 函数列表。\n",
    "    point (list): 点。\n",
    "    h (float): 微小变化量。\n",
    "\n",
    "    返回:\n",
    "    list: 雅可比矩阵。\n",
    "    \"\"\"\n",
    "    import math\n",
    "    return [[partial_derivative(funcs[i], j, point, h) for j in range(len(point))] for i in range(len(funcs))]\n",
    "\n",
    "def Advanced_Math_hessian(func, point: list, h: float = 1e-5) -> list:\n",
    "    \"\"\"\n",
    "    高等数学/微积分相关计算，计算函数在某点的黑塞矩阵。\n",
    "\n",
    "    参数:\n",
    "    func (function): 函数。\n",
    "    point (list): 点。\n",
    "    h (float): 微小变化量。\n",
    "\n",
    "    返回:\n",
    "    list: 黑塞矩阵。\n",
    "    \"\"\"\n",
    "    import math\n",
    "    n = len(point)\n",
    "    return [[partial_derivative(lambda *args: partial_derivative(func, i, args, h), j, point, h) for j in range(n)] for i in range(n)]\n",
    "\n",
    "def Advanced_Math_taylor_series(func, a: float, n: int) -> float:\n",
    "    \"\"\"\n",
    "    高等数学/微积分相关计算，计算泰勒级数的前n项。\n",
    "    注意与泰勒展开进行区别！\n",
    "    泰勒级数是无穷级数、当题目中涉及到无穷的估计时，我们应该使用泰勒级数。当题目中涉及到有限项的展开时，我们应该使用n阶泰勒展开函数。\n",
    "\n",
    "    参数:\n",
    "    func (function): 函数。\n",
    "    a (float): 展开点。\n",
    "    n (int): 项数。\n",
    "\n",
    "    返回:\n",
    "    float: 泰勒级数的前n项。\n",
    "    \"\"\"\n",
    "    import math\n",
    "    series = 0\n",
    "    for i in range(n):\n",
    "        series += (derivative(func, a, h=1e-5) ** i) / math.factorial(i)\n",
    "    return series\n",
    "\n",
    "def Advanced_Math_taylor_expansion(func, a: float, n: int, x_val: float = None) -> str:\n",
    "    \"\"\"\n",
    "    高等数学/微积分相关计算，计算函数在某点的泰勒展开（n阶展开）。\n",
    "\n",
    "    注意与泰勒级数进行区别！\n",
    "    泰勒级数是无穷级数、当题目中涉及到无穷的估计时，我们应该使用泰勒级数。当题目中涉及到有限项的展开时，我们应该使用n阶泰勒展开函数。\n",
    "\n",
    "    参数:\n",
    "    func (function): 要展开的函数。\n",
    "    a (float): 展开点。\n",
    "    n (int): 展开的阶数。\n",
    "    x_val (float, optional): 如果提供，则计算泰勒展开在该点的具体值。\n",
    "\n",
    "    返回:\n",
    "    str: 泰勒展开的多项式表达式（字符串形式），如果提供了x_val，则返回泰勒展开在该点的具体值。\n",
    "    \"\"\"\n",
    "    \n",
    "    import math\n",
    "    from sympy import Symbol, diff, exp\n",
    "    \n",
    "    # 定义符号\n",
    "    x = Symbol('x')\n",
    "    \n",
    "    # 计算各阶导数\n",
    "    terms = []\n",
    "    for i in range(n + 1):\n",
    "        term = diff(func(x), x, i).subs(x, a) / math.factorial(i) * (x - a)**i\n",
    "        terms.append(term)\n",
    "    \n",
    "    # 合并多项式\n",
    "    taylor_expansion = sum(terms)\n",
    "    \n",
    "    if x_val is not None:\n",
    "        # 计算泰勒展开在x_val点的具体值\n",
    "        taylor_value = taylor_expansion.subs(x, x_val)\n",
    "        return str(taylor_value)\n",
    "    \n",
    "    return str(taylor_expansion)\n",
    "\n",
    "def Advanced_Math_fourier_series(func, n: int, L: float = math.pi) -> list:\n",
    "    \"\"\"\n",
    "    高等数学/微积分相关计算，计算函数的傅里叶级数。\n",
    "\n",
    "    参数:\n",
    "    func (function): 函数。\n",
    "    n (int): 项数。\n",
    "    L (float): 周期的一半。\n",
    "\n",
    "    返回:\n",
    "    list: 傅里叶级数系数。\n",
    "    \"\"\"\n",
    "    import math\n",
    "    a0 = (1 / L) * integral(func, -L, L, 1000)\n",
    "    a = [(1 / L) * integral(lambda x: func(x) * math.cos((i * math.pi * x) / L), -L, L, 1000) for i in range(1, n + 1)]\n",
    "    b = [(1 / L) * integral(lambda x: func(x) * math.sin((i * math.pi * x) / L), -L, L, 1000) for i in range(1, n + 1)]\n",
    "    return [a0, a, b]\n",
    "\n",
    "def Advanced_Math_laplace_transform(func, s: float) -> float:\n",
    "    \"\"\"\n",
    "    高等数学/微积分相关计算，计算拉普拉斯变换。\n",
    "\n",
    "    参数:\n",
    "    func (function): 函数。\n",
    "    s (float): 自变量。\n",
    "\n",
    "    返回:\n",
    "    float: 拉普拉斯变换值。\n",
    "    \"\"\"\n",
    "    import math\n",
    "    return integral(lambda t: func(t) * math.exp(-s * t), 0, math.inf, 1000)\n",
    "\n",
    "def Advanced_Math_fourier_transform(func, w: float) -> float:\n",
    "    \"\"\"\n",
    "    高等数学/微积分相关计算，计算傅里叶变换。\n",
    "\n",
    "    参数:\n",
    "    func (function): 函数。\n",
    "    w (float): 自变量。\n",
    "\n",
    "    返回:\n",
    "    float: 傅里叶变换值。\n",
    "    \"\"\"\n",
    "    import math\n",
    "    return integral(lambda t: func(t) * math.exp(-1j * w * t), -math.inf, math.inf, 1000)"
   ]
  },
  {
   "cell_type": "markdown",
   "id": "b1cfd08b-8a60-4f38-952b-5785543fe598",
   "metadata": {},
   "source": [
    "我们准备好了50多个函数"
   ]
  },
  {
   "cell_type": "code",
   "execution_count": 203,
   "id": "3dd433e2-8c73-4f39-9d93-cf54bda083a8",
   "metadata": {
    "tags": []
   },
   "outputs": [],
   "source": [
    "function_descriptions = {\n",
    "    \"Basic_add\": \"计算两个浮点数的和\",\n",
    "    \"Basic_subtract\": \"计算两个浮点数的差\",\n",
    "    \"Basic_divide\": \"计算两个浮点数的商\",\n",
    "    \"Basic_mutiply\": \"计算两个浮点数的积\",\n",
    "    \"Basic_power\": \"计算一个浮点数的幂\",\n",
    "    \"Basic_sqrt\": \"计算一个浮点数的平方根\",\n",
    "    \"Basic_mod\": \"计算两个浮点数的模\",\n",
    "    \"Basic_abs_val\": \"计算一个浮点数的绝对值\",\n",
    "    \"Basic_factorial\": \"计算一个整数的阶乘\",\n",
    "    \"Basic_gcd\": \"计算两个整数的最大公约数\",\n",
    "    \"Basic_lcm\": \"计算两个整数的最小公倍数\",\n",
    "    \"Basic_exp\": \"计算e的幂\",\n",
    "    \"Basic_log\": \"计算给定基数的对数\",\n",
    "    \"Basic_log10\": \"计算以10为底的对数\",\n",
    "    \"Basic_round_val\": \"对浮点数进行四舍五入\",\n",
    "    \"Basic_level_ceil\": \"向上取整一个浮点数\",\n",
    "    \"Basic_level_floor\": \"向下取整一个浮点数\",\n",
    "    \"Tri_func_sin_val\": \"计算一个角度的正弦值\",\n",
    "    \"Tri_func_cos_val\": \"计算一个角度的余弦值\",\n",
    "    \"Tri_func_tan_val\": \"计算一个角度的正切值\",\n",
    "    \"Tri_func_asin_val\": \"计算一个值的反正弦值\",\n",
    "    \"Tri_func_acos_val\": \"计算一个值的反余弦值\",\n",
    "    \"Tri_func_atan_val\": \"计算一个值的反正切值\",\n",
    "    \"Tri_func_sinh_val\": \"计算一个角度的双曲正弦值\",\n",
    "    \"Tri_func_cosh_val\": \"计算一个角度的双曲余弦值\",\n",
    "    \"Tri_func_tanh_val\": \"计算一个角度的双曲正切值\",\n",
    "    \"Tri_func_degrees\": \"将弧度转换为角度\",\n",
    "    \"Tri_func_radians\": \"将角度转换为弧度\",\n",
    "    \"Prob_comb\": \"计算组合数C(n, k)\",\n",
    "    \"Prob_perm\": \"计算排列数P(n, k)\",\n",
    "    \"Prob_factorial_prob\": \"计算n的阶乘概率\",\n",
    "    \"Prob_binom_pmf\": \"计算二项分布的概率质量函数\",\n",
    "    \"Prob_binom_cdf\": \"计算二项分布的累积分布函数\",\n",
    "    \"Prob_poisson_pmf\": \"计算泊松分布的概率质量函数\",\n",
    "    \"Prob_poisson_cdf\": \"计算泊松分布的累积分布函数\",\n",
    "    \"Prob_uniform_pdf\": \"计算均匀分布的概率密度函数\",\n",
    "    \"Prob_uniform_cdf\": \"计算均匀分布的累积分布函数\",\n",
    "    \"Prob_normal_pdf\": \"计算正态分布的概率密度函数\",\n",
    "    \"Prob_normal_cdf\": \"计算正态分布的累积分布函数\",\n",
    "    \"Prob_expon_pdf\": \"计算指数分布的概率密度函数\",\n",
    "    \"Prob_expon_cdf\": \"计算指数分布的累积分布函数\",\n",
    "    \"Prob_geom_pmf\": \"计算几何分布的概率质量函数\",\n",
    "    \"Prob_geom_cdf\": \"计算几何分布的累积分布函数\",\n",
    "    \"Prob_beta_pdf\": \"计算Beta分布的概率密度函数\",\n",
    "    \"Prob_beta_cdf\": \"计算Beta分布的累积分布函数\",\n",
    "    \"Advanced_Math_Derivative\": \"计算函数在某点的导数\",\n",
    "    \"Advanced_Math_integral\": \"计算函数在给定区间的定积分\",\n",
    "    \"Advanced_Math_double_integral\": \"计算二重积分\",\n",
    "    \"Advanced_Math_partial_derivative\": \"计算函数在某点的偏导数\",\n",
    "    \"Advanced_Math_gradient\": \"计算函数在某点的梯度\",\n",
    "    \"Advanced_Math_laplacian\": \"计算函数在某点的拉普拉斯算子\",\n",
    "    \"Advanced_Math_divergence\": \"计算向量场在某点的散度\",\n",
    "    \"Advanced_Math_curl\": \"计算向量场在某点的旋度\",\n",
    "    \"Advanced_Math_jacobian\": \"计算函数在某点的雅可比矩阵\",\n",
    "    \"Advanced_Math_hessian\": \"计算函数在某点的黑塞矩阵\",\n",
    "    \"Advanced_Math_taylor_series\": \"计算泰勒级数的前n项\",\n",
    "    \"Advanced_Math_fourier_series\": \"计算函数的傅里叶级数\",\n",
    "    \"Advanced_Math_laplace_transform\": \"计算拉普拉斯变换\",\n",
    "    \"Advanced_Math_fourier_transform\": \"计算傅里叶变换\"\n",
    "}"
   ]
  },
  {
   "cell_type": "code",
   "execution_count": 204,
   "id": "a6065f00-8876-4a3e-a9b2-0f912a0f4839",
   "metadata": {
    "tags": []
   },
   "outputs": [],
   "source": [
    "function_names = [\n",
    "    \"Basic_add\", \"Basic_subtract\", \"Basic_divide\", \"Basic_mutiply\", \"Basic_power\", \"Basic_sqrt\", \"Basic_mod\", \n",
    "    \"Basic_abs_val\", \"Basic_factorial\", \"Basic_gcd\", \"Basic_lcm\", \"Basic_exp\", \"Basic_log\", \n",
    "    \"Basic_log10\", \"Basic_round_val\", \"Basic_level_ceil\", \"Basic_level_floor\", \n",
    "    \"Tri_func_sin_val\", \"Tri_func_cos_val\", \"Tri_func_tan_val\", \"Tri_func_asin_val\", \n",
    "    \"Tri_func_acos_val\", \"Tri_func_atan_val\", \"Tri_func_sinh_val\", \"Tri_func_cosh_val\", \n",
    "    \"Tri_func_tanh_val\", \"Tri_func_degrees\", \"Tri_func_radians\", \n",
    "    \"Prob_comb\", \"Prob_perm\", \"Prob_factorial_prob\", \"Prob_binom_pmf\", \n",
    "    \"Prob_binom_cdf\", \"Prob_poisson_pmf\", \"Prob_poisson_cdf\", \"Prob_uniform_pdf\", \n",
    "    \"Prob_uniform_cdf\", \"Prob_normal_pdf\", \"Prob_normal_cdf\", \"Prob_expon_pdf\", \n",
    "    \"Prob_expon_cdf\", \"Prob_geom_pmf\", \"Prob_geom_cdf\", \"Prob_beta_pdf\", \"Prob_beta_cdf\", \n",
    "    \"Advanced_Math_Derivative\", \"Advanced_Math_integral\", \"Advanced_Math_double_integral\", \n",
    "    \"Advanced_Math_partial_derivative\", \"Advanced_Math_gradient\", \"Advanced_Math_laplacian\", \n",
    "    \"Advanced_Math_divergence\", \"Advanced_Math_curl\", \"Advanced_Math_jacobian\", \n",
    "    \"Advanced_Math_hessian\", \"Advanced_Math_taylor_series\", \"Advanced_Math_fourier_series\", \n",
    "    \"Advanced_Math_laplace_transform\", \"Advanced_Math_fourier_transform\"\n",
    "]"
   ]
  },
  {
   "cell_type": "code",
   "execution_count": 87,
   "id": "da367d52-0c5e-4a4b-84b5-1d1b2bb08d8a",
   "metadata": {
    "tags": []
   },
   "outputs": [
    {
     "data": {
      "text/plain": [
       "59"
      ]
     },
     "execution_count": 87,
     "metadata": {},
     "output_type": "execute_result"
    }
   ],
   "source": [
    "function_names.__len__()"
   ]
  },
  {
   "cell_type": "code",
   "execution_count": 205,
   "id": "2fdeead1-e599-497c-a433-529b467c0e02",
   "metadata": {
    "tags": []
   },
   "outputs": [],
   "source": [
    "# 函数列表\n",
    "function_list = [Basic_add, Basic_subtract, Basic_divide, Basic_mutiply, Basic_power, Basic_sqrt, Basic_mod, \n",
    "    Basic_abs_val, Basic_factorial, Basic_gcd, Basic_lcm, Basic_exp, Basic_log, \n",
    "    Basic_log10, Basic_round_val, Basic_level_ceil, Basic_level_floor, \n",
    "    Tri_func_sin_val, Tri_func_cos_val, Tri_func_tan_val, Tri_func_asin_val, \n",
    "    Tri_func_acos_val, Tri_func_atan_val, Tri_func_sinh_val, Tri_func_cosh_val, \n",
    "    Tri_func_tanh_val, Tri_func_degrees, Tri_func_radians, \n",
    "    Prob_comb, Prob_perm, Prob_factorial_prob, Prob_binom_pmf, \n",
    "    Prob_binom_cdf, Prob_poisson_pmf, Prob_poisson_cdf, Prob_uniform_pdf, \n",
    "    Prob_uniform_cdf, Prob_normal_pdf, Prob_normal_cdf, Prob_expon_pdf, \n",
    "    Prob_expon_cdf, Prob_geom_pmf, Prob_geom_cdf, Prob_beta_pdf, Prob_beta_cdf, \n",
    "    Advanced_Math_Derivative, Advanced_Math_integral, Advanced_Math_double_integral, \n",
    "    Advanced_Math_partial_derivative, Advanced_Math_gradient, Advanced_Math_laplacian, \n",
    "    Advanced_Math_divergence, Advanced_Math_curl, Advanced_Math_jacobian, \n",
    "    Advanced_Math_hessian, Advanced_Math_taylor_series, Advanced_Math_fourier_series, \n",
    "    Advanced_Math_laplace_transform, Advanced_Math_fourier_transform]\n",
    "\n",
    "# 获取函数描述的 JSON 字典\n",
    "math_tools = auto_functions(function_list)\n",
    "\n",
    "# 将函数列表转换为字典\n",
    "available_math_functions = {func.__name__: func for func in function_list}"
   ]
  },
  {
   "cell_type": "markdown",
   "id": "68095d47-2426-4dd1-a5e6-8921d4cca3e9",
   "metadata": {},
   "source": [
    "### 3.2 问题解决"
   ]
  },
  {
   "cell_type": "markdown",
   "id": "8308723e-f11f-41a0-9d8d-4a3d512b9fa1",
   "metadata": {},
   "source": [
    "**分割 → 粗略对齐 → 精准对齐**"
   ]
  },
  {
   "cell_type": "markdown",
   "id": "8c82efb2-69a5-4acc-866d-71a8cc815396",
   "metadata": {},
   "source": [
    "分割"
   ]
  },
  {
   "cell_type": "markdown",
   "id": "b261eee8-c65e-423f-aadd-76058c3baa76",
   "metadata": {
    "tags": []
   },
   "source": [
    "通过分割、粗略对齐、过滤的方式，一步步缩小可能被需要的函数的集合，最终在一个较小的函数集合中实现与普通Function Call一样的对齐。具体来说——\n",
    "\n",
    "1. **分层架构指导函数分割**\n",
    "> 在实际商业场景当中，在我们构建复杂的电商app或者金融app时，我们会对架构进行分层，将系统划分为多个层次，每个层次处理特定的功能。常见的分层包括：\n",
    "> - 表示层（Presentation Layer）：用户接口和用户交互逻辑（注册、登录、更新用户信息等函数功能及应该归属于这一层）。<br><br>\n",
    "> - 业务逻辑层（Business Logic Layer）：处理应用程序的核心逻辑（订单管理，如创建订单、更新订单状态、查询订单等应该在这一层，商品管理，如添加商品、更新商品信息、查询商品库存等也应该在这一层）。<br><br>\n",
    "> - 数据访问层（Data Access Layer）：与数据库或外部数据源交互。<br><br>\n",
    "> - 服务层（Service Layer）：提供系统内部或外部的服务接口。<br><br>\n",
    "> 无论整体的函数库有多复杂，我们始终是能够按照功能或架构规律按函数分割成更小的子集的、让每个设计层包含相对较少的函数。在实际进行Function Call时，我们先通过模型进行高层次的意图识别，确定使用哪一层的函数，然后再进行更细粒度的选择。通常来说，根据架构分层后、每个层下不会超过1-200个函数。\n",
    "\n",
    "2. **利用关键词指导函数分割**\n",
    " > 如果你的Json Schema写得比较清晰、比较标准，你可以尝试使用关键词先将超大函数库分割成相应的小集合。例如在教育领域，你可能很容易就从“章节”、“年级”这些天然分层中分出较小的函数集合。\n",
    "\n",
    "\n",
    "3. **更大的函数库所使用的手段**\n",
    "> 结合向量数据库 + RAG技术，通过语义搜索来快速匹配相关函数。流程如下：\n",
    ">> 预处理：将每个函数的描述向量化，并存储在向量数据库中。<br><br>\n",
    ">> 意图向量化：将用户输入向量化，并在向量数据库中进行语义搜索。<br><br>\n",
    ">> 返回结果：根据搜索结果动态加载相关函数描述。"
   ]
  },
  {
   "cell_type": "code",
   "execution_count": 95,
   "id": "d35e9757-79cf-4967-984c-e55a35f4d9da",
   "metadata": {
    "tags": []
   },
   "outputs": [
    {
     "data": {
      "text/plain": [
       "[<function __main__.Basic_add(a: float, b: float) -> float>,\n",
       " <function __main__.Basic_subtract(a: float, b: float) -> float>,\n",
       " <function __main__.Basic_divide(a: float, b: float) -> float>,\n",
       " <function __main__.Basic_mutiply(a: float, b: float) -> float>,\n",
       " <function __main__.Basic_power(a: float, b: float) -> float>,\n",
       " <function __main__.Basic_sqrt(a: float) -> float>,\n",
       " <function __main__.Basic_mod(a: float, b: float) -> float>,\n",
       " <function __main__.Basic_abs_val(a: float) -> float>,\n",
       " <function __main__.Basic_factorial(a: int) -> int>,\n",
       " <function __main__.Basic_gcd(a: int, b: int) -> int>,\n",
       " <function __main__.Basic_lcm(a: int, b: int) -> int>,\n",
       " <function __main__.Basic_exp(a: float) -> float>,\n",
       " <function __main__.Basic_log(a: float, base: float = 10) -> float>,\n",
       " <function __main__.Basic_log10(a: float) -> float>,\n",
       " <function __main__.Basic_round_val(a: float, digits: int = 0) -> float>,\n",
       " <function __main__.Basic_level_ceil(a: float) -> int>,\n",
       " <function __main__.Basic_level_floor(a: float) -> int>,\n",
       " <function __main__.Tri_func_sin_val(a: float) -> float>,\n",
       " <function __main__.Tri_func_cos_val(a: float) -> float>,\n",
       " <function __main__.Tri_func_tan_val(a: float) -> float>,\n",
       " <function __main__.Tri_func_asin_val(a: float) -> float>,\n",
       " <function __main__.Tri_func_acos_val(a: float) -> float>,\n",
       " <function __main__.Tri_func_atan_val(a: float) -> float>,\n",
       " <function __main__.Tri_func_sinh_val(a: float) -> float>,\n",
       " <function __main__.Tri_func_cosh_val(a: float) -> float>,\n",
       " <function __main__.Tri_func_tanh_val(a: float) -> float>,\n",
       " <function __main__.Tri_func_degrees(a: float) -> float>,\n",
       " <function __main__.Tri_func_radians(a: float) -> float>,\n",
       " <function __main__.Prob_comb(n: int, k: int) -> int>,\n",
       " <function __main__.Prob_perm(n: int, k: int) -> int>,\n",
       " <function __main__.Prob_factorial_prob(n: int) -> float>,\n",
       " <function __main__.Prob_binom_pmf(n: int, k: int, p: float) -> float>,\n",
       " <function __main__.Prob_binom_cdf(n: int, k: int, p: float) -> float>,\n",
       " <function __main__.Prob_poisson_pmf(k: int, lam: float) -> float>,\n",
       " <function __main__.Prob_poisson_cdf(k: int, lam: float) -> float>,\n",
       " <function __main__.Prob_uniform_pdf(a: float, b: float, x: float) -> float>,\n",
       " <function __main__.Prob_uniform_cdf(a: float, b: float, x: float) -> float>,\n",
       " <function __main__.Prob_normal_pdf(mu: float, sigma: float, x: float) -> float>,\n",
       " <function __main__.Prob_normal_cdf(mu: float, sigma: float, x: float) -> float>,\n",
       " <function __main__.Prob_expon_pdf(lam: float, x: float) -> float>,\n",
       " <function __main__.Prob_expon_cdf(lam: float, x: float) -> float>,\n",
       " <function __main__.Prob_geom_pmf(p: float, k: int) -> float>,\n",
       " <function __main__.Prob_geom_cdf(p: float, k: int) -> float>,\n",
       " <function __main__.Prob_beta_pdf(alpha: float, beta: float, x: float) -> float>,\n",
       " <function __main__.Prob_beta_cdf(alpha: float, beta: float, x: float) -> float>,\n",
       " <function __main__.Advanced_Math_Derivative(func, a: float, h: float = 1e-05) -> float>,\n",
       " <function __main__.Advanced_Math_integral(func, a: float, b: float, n: int = 1000) -> float>,\n",
       " <function __main__.Advanced_Math_double_integral(func, ax: float, bx: float, ay: float, by: float, nx: int = 1000, ny: int = 1000) -> float>,\n",
       " <function __main__.Advanced_Math_partial_derivative(func, var: int, point: list, h: float = 1e-05) -> float>,\n",
       " <function __main__.Advanced_Math_gradient(func, point: list, h: float = 1e-05) -> list>,\n",
       " <function __main__.Advanced_Math_laplacian(func, point: list, h: float = 1e-05) -> float>,\n",
       " <function __main__.Advanced_Math_divergence(vector_func, point: list, h: float = 1e-05) -> float>,\n",
       " <function __main__.Advanced_Math_curl(vector_func, point: list, h: float = 1e-05) -> list>,\n",
       " <function __main__.Advanced_Math_jacobian(funcs, point: list, h: float = 1e-05) -> list>,\n",
       " <function __main__.Advanced_Math_hessian(func, point: list, h: float = 1e-05) -> list>,\n",
       " <function __main__.Advanced_Math_taylor_series(func, a: float, n: int) -> float>,\n",
       " <function __main__.Advanced_Math_fourier_series(func, n: int, L: float = 3.141592653589793) -> list>,\n",
       " <function __main__.Advanced_Math_laplace_transform(func, s: float) -> float>,\n",
       " <function __main__.Advanced_Math_fourier_transform(func, w: float) -> float>]"
      ]
     },
     "execution_count": 95,
     "metadata": {},
     "output_type": "execute_result"
    }
   ],
   "source": [
    "function_list"
   ]
  },
  {
   "cell_type": "markdown",
   "id": "0d4a9ff6-9a88-4219-bfa7-2a16c6d7f95f",
   "metadata": {
    "tags": []
   },
   "source": [
    "1. **分割**"
   ]
  },
  {
   "cell_type": "code",
   "execution_count": 206,
   "id": "3f5ec297-d1fb-48d6-907d-d8fe650f5609",
   "metadata": {
    "tags": []
   },
   "outputs": [],
   "source": [
    "#如果函数是按顺序排列的，你只需要把它们索引出来、再输入到generate_json中就好\n",
    "basic_math_tools = auto_functions(function_list[:16])\n",
    "Tri_func_math_tools = auto_functions(function_list[16:27])\n",
    "Prob_tools = auto_functions(function_list[27:44])\n",
    "Advanced_math_tools = auto_functions(function_list[44:])\n",
    "#也有无法识别和分割的情况，我们同样需要准备好全部函数的JSON description\n",
    "math_tools = auto_functions(function_list)"
   ]
  },
  {
   "cell_type": "code",
   "execution_count": 207,
   "id": "7363cd76-f8f0-40a5-bc2a-93dd9a11be9b",
   "metadata": {
    "tags": []
   },
   "outputs": [],
   "source": [
    "available_math_functions = {func.__name__: func for func in function_list}"
   ]
  },
  {
   "cell_type": "code",
   "execution_count": 208,
   "id": "4892f7e7-1918-44c7-974c-f3d0f17f8daa",
   "metadata": {
    "tags": []
   },
   "outputs": [],
   "source": [
    "# 可以通过下面的字典来进行相应的函数集合的调用\n",
    "function_type = {\"基础数学\": basic_math_tools\n",
    "                ,\"三角函数\": Tri_func_math_tools\n",
    "                ,\"概率论\": Prob_tools\n",
    "                ,\"高等数学\": Advanced_math_tools\n",
    "                ,\"其他\": math_tools}"
   ]
  },
  {
   "cell_type": "markdown",
   "id": "45b31516-4ee4-4604-86c0-8896b7c32833",
   "metadata": {
    "tags": []
   },
   "source": [
    "2. **意图识别 + 精准对齐**"
   ]
  },
  {
   "cell_type": "code",
   "execution_count": 105,
   "id": "91fd523c-a910-4463-b982-3bc95ec34fc7",
   "metadata": {
    "tags": []
   },
   "outputs": [],
   "source": [
    "def math_calculate(prompt, function_type, available_functions):\n",
    "    \"\"\"\n",
    "    首先，先对用户的意图进行识别，判断是哪一类问题\n",
    "    \"\"\"\n",
    "    prompt = prompt\n",
    "    judge_prompt = \"请问上述问题最接近哪一类数学问题？\\\n",
    "    请回应基础数学、或三角函数、或概率论、或高等数学，或其他。\\\n",
    "    不要回应别的任何文字。\"\n",
    "    message = [\n",
    "        {\"role\": \"user\", \"content\": prompt + judge_prompt}\n",
    "    ]\n",
    "\n",
    "    #进行初次意图识别\n",
    "    response_first_align = client.chat.completions.create(\n",
    "    model=\"glm-4\",\n",
    "    messages=message #此时其实最好的方式是使用function_call而不是prompt\n",
    "    )\n",
    "\n",
    "    #根据意图识别出的数据类别，定位相应类别的函数群\n",
    "    #在这里进行关键字匹配\n",
    "    func_type = response_first_align.choices[0].message.content\n",
    "    current_function_tools = None\n",
    "\n",
    "    if \"基础数学\" in func_type:\n",
    "        current_function_tools = function_type[\"基础数学\"]\n",
    "    elif \"三角函数\" in func_type:\n",
    "        current_function_tools = function_type[\"三角函数\"]\n",
    "    elif \"概率论\" in func_type:\n",
    "        current_function_tools = function_type[\"概率论\"]\n",
    "    elif \"高等数学\" in func_type:\n",
    "        current_function_tools = function_type[\"高等数学\"]\n",
    "    else:\n",
    "        current_function_tools = function_type[\"其他\"]\n",
    "\n",
    "    print(\"初步意图识别结果:{}\".format(func_type),\"\\n\")\n",
    "\n",
    "    #确认函数群后，直接使用原始prompt在函数群中执行function call\n",
    "    message = [{\"role\":\"assistant\",\"content\":\"当你被问到数学问题时，\\\n",
    "                                              尝试调用Tools来解决问题。\"}]\n",
    "    message.append({\"role\": \"user\", \"content\": prompt})\n",
    "\n",
    "    response_f = client.chat.completions.create(\n",
    "        model=\"glm-4\",  \n",
    "        messages=message,\n",
    "        tools = current_function_tools,\n",
    "        tool_choice = \"auto\"\n",
    "        )\n",
    "    \n",
    "    try:\n",
    "        #是否有成功调用函数？\n",
    "        function_calls = response_f.choices[0].message.tool_calls[0]\n",
    "        print(\" \")\n",
    "        print(\"\\n被调用的函数是{}\".format(response_f.choices[0].message.tool_calls[0].function.name))\n",
    "        \n",
    "        function_to_call = available_functions[function_calls.function.name]\n",
    "        function_args = json.loads(function_calls.function.arguments)\n",
    "        function_response = function_to_call(**function_args)\n",
    "\n",
    "        message = []\n",
    "        message.append({\n",
    "                \"role\": \"assistant\",\n",
    "                \"content\": \"你使用了tools工具，最终获得的答案是\" + str(function_response),\n",
    "            })\n",
    "        message.append({\"role\": \"user\", \"content\": prompt + \"请仅仅回答题目的答案（如果是数字，则只显示数字），\\\n",
    "                                                             不要包括其他描述\"})\n",
    "        \n",
    "        response_a = client.chat.completions.create(\n",
    "            model=\"glm-4\",  # 填写需要调用的模型名称\n",
    "            messages=message\n",
    "            )\n",
    "    \n",
    "        print(response_a.choices[0].message.content)\n",
    "\n",
    "    except:\n",
    "        print(\" \")\n",
    "        print(\"\\n没有函数被成功调用！请重新给解决方案\")\n",
    "        response_f = client.chat.completions.create(\n",
    "            model=\"glm-4\",  \n",
    "            messages=message,\n",
    "            tools = current_function_tools,\n",
    "            tool_choice = \"auto\"\n",
    "        )"
   ]
  },
  {
   "cell_type": "code",
   "execution_count": 102,
   "id": "5dd2b7b2-558d-4cee-8299-2788e61c6d55",
   "metadata": {
    "tags": []
   },
   "outputs": [
    {
     "data": {
      "text/plain": [
       "2527.923076923077"
      ]
     },
     "execution_count": 102,
     "metadata": {},
     "output_type": "execute_result"
    }
   ],
   "source": [
    "1314520 / 520"
   ]
  },
  {
   "cell_type": "code",
   "execution_count": 103,
   "id": "51fdc3a7-4355-456d-a377-dce91bb6b5ea",
   "metadata": {
    "tags": []
   },
   "outputs": [
    {
     "name": "stdout",
     "output_type": "stream",
     "text": [
      "初步意图识别结果:基础数学\n",
      "\n",
      "计算结果是：\n",
      "1314520 ÷ 520 = 2520 \n",
      "\n",
      " \n",
      "\n",
      "被调用的函数是Basic_divide\n",
      "2527.923076923077\n"
     ]
    }
   ],
   "source": [
    "prompt = \"请帮我计算一下 1314520 除以 520 等于几?\"\n",
    "\n",
    "math_calculate(prompt, function_type, available_math_functions)"
   ]
  },
  {
   "cell_type": "code",
   "execution_count": 106,
   "id": "dd5f801b-387b-4be4-aa50-dccf9a2e1e44",
   "metadata": {
    "tags": []
   },
   "outputs": [
    {
     "name": "stdout",
     "output_type": "stream",
     "text": [
      "初步意图识别结果:高等数学 \n",
      "\n",
      " \n",
      "\n",
      "没有函数被成功调用！请重新给解决方案\n"
     ]
    }
   ],
   "source": [
    "prompt = \"求函数 \\( f(x) = e^x \\) 在 \\( x = 0 \\) 处的泰勒展开式，并利用该展开式近似计算 \\( e^{0.2} \\) 的值。\"\n",
    "\n",
    "math_calculate(prompt, function_type, available_math_functions)"
   ]
  },
  {
   "cell_type": "markdown",
   "id": "d9b40a80-9616-432f-b8b7-48ede8ae92b7",
   "metadata": {},
   "source": [
    " **我们分析为什么会调用失败？？**"
   ]
  },
  {
   "cell_type": "markdown",
   "id": "1227b656-fd76-4924-a0af-3ab068bb4183",
   "metadata": {},
   "source": [
    "- 测试1：当函数库比较短，且不存在相应可调用的函数时："
   ]
  },
  {
   "cell_type": "code",
   "execution_count": 109,
   "id": "95786423-a5b7-4b43-ad49-9b4fc7b6648b",
   "metadata": {
    "tags": []
   },
   "outputs": [],
   "source": [
    "prompt = \"求函数 \\( f(x) = e^x \\) 在 \\( x = 0 \\) 处的泰勒展开式，并利用该展开式近似计算 \\( e^{0.2} \\) 的值。\\\n",
    "          其中e是自然底数exp\"\n",
    "current_function_tools = Advanced_math_tools[:4]\n",
    "message=[]\n",
    "message.append({\"role\": \"user\", \"content\": prompt})\n",
    "\n",
    "response_f = client.chat.completions.create(\n",
    "    model=\"glm-4\",  \n",
    "    messages=message,\n",
    "    tools = current_function_tools,\n",
    "    tool_choice = \"auto\",\n",
    "    temperature = 0.1\n",
    "    )"
   ]
  },
  {
   "cell_type": "code",
   "execution_count": 110,
   "id": "5f23f6ee-49f2-4b0d-8740-2abb556b5395",
   "metadata": {
    "tags": []
   },
   "outputs": [
    {
     "data": {
      "text/plain": [
       "Completion(model='glm-4', created=1718212480, choices=[CompletionChoice(index=0, finish_reason='tool_calls', message=CompletionMessage(content=None, role='assistant', tool_calls=[CompletionMessageToolCall(id='call_8741741654316771050', function=Function(arguments='{}', name='Advanced_Math_Derivative'), type='function', index=0)]))], request_id='8741741654316771050', id='8741741654316771050', usage=CompletionUsage(prompt_tokens=1824, completion_tokens=33, total_tokens=1857))"
      ]
     },
     "execution_count": 110,
     "metadata": {},
     "output_type": "execute_result"
    }
   ],
   "source": [
    "response_f"
   ]
  },
  {
   "cell_type": "markdown",
   "id": "3075087e-6763-484d-862c-f6f58be63be4",
   "metadata": {},
   "source": [
    "发现大模型帮我们识别出来需要调用Advanced_Math_Derivative函数，虽然函数调用错误，但是这个时候大模型还是能调用大模型"
   ]
  },
  {
   "cell_type": "markdown",
   "id": "f8ec34e6-2213-476b-9bdc-e2e5103b1ff4",
   "metadata": {},
   "source": [
    "- 测试2：当函数库比较长，但是不存在可以调用的函数时"
   ]
  },
  {
   "cell_type": "code",
   "execution_count": 209,
   "id": "4c951ddd-c131-4c17-9cf8-0ed6d1d690d8",
   "metadata": {
    "tags": []
   },
   "outputs": [],
   "source": [
    "# 要剔除的函数名称\n",
    "names_to_remove = ['Advanced_Math_taylor_series', 'Advanced_Math_taylor_expansion']\n",
    "\n",
    "# 过滤列表，移除包含指定函数名称的字典\n",
    "Advanced_math_tools_without_taylor = [item for item in Advanced_math_tools if item['function']['name'] not in names_to_remove]"
   ]
  },
  {
   "cell_type": "code",
   "execution_count": 210,
   "id": "0c9940cc-b0e0-4b54-800c-e92b1acb0b82",
   "metadata": {
    "tags": []
   },
   "outputs": [],
   "source": [
    "prompt = \"求函数 \\( f(x) = e^x \\) 在 \\( x = 0 \\) 处的泰勒展开式，并利用该展开式近似计算 \\( e^{0.2} \\) 的值。\\\n",
    "          其中e是自然底数exp\"\n",
    "current_function_tools = Advanced_math_tools_without_taylor\n",
    "\n",
    "message=[]\n",
    "message.append({\"role\": \"user\", \"content\": prompt})\n",
    "\n",
    "response_f = client.chat.completions.create(\n",
    "    model=\"glm-4\",  \n",
    "    messages=message,\n",
    "    tools = current_function_tools,\n",
    "    tool_choice = \"auto\",\n",
    "    temperature = 0.1\n",
    "    )"
   ]
  },
  {
   "cell_type": "code",
   "execution_count": 211,
   "id": "32278272-a58e-4147-b2e5-f60305ecaa17",
   "metadata": {
    "tags": []
   },
   "outputs": [
    {
     "data": {
      "text/plain": [
       "Completion(model='glm-4', created=1718286622, choices=[CompletionChoice(index=0, finish_reason='stop', message=CompletionMessage(content='Advanced_Math_derivative\\n```python\\ntool_func = lambda x: exp(x)\\ntool_a = 0\\ntool_h = 0.001\\n```', role='assistant', tool_calls=None))], request_id='8741750759647600659', id='8741750759647600659', usage=CompletionUsage(prompt_tokens=4496, completion_tokens=33, total_tokens=4529))"
      ]
     },
     "execution_count": 211,
     "metadata": {},
     "output_type": "execute_result"
    }
   ],
   "source": [
    "response_f"
   ]
  },
  {
   "cell_type": "code",
   "execution_count": 212,
   "id": "59d7bd82-5c32-4a1d-b7f8-96e8c03077d3",
   "metadata": {
    "tags": []
   },
   "outputs": [
    {
     "data": {
      "text/plain": [
       "'Advanced_Math_derivative\\n```python\\ntool_func = lambda x: exp(x)\\ntool_a = 0\\ntool_h = 0.001\\n```'"
      ]
     },
     "execution_count": 212,
     "metadata": {},
     "output_type": "execute_result"
    }
   ],
   "source": [
    "response_f.choices[0].message.content"
   ]
  },
  {
   "cell_type": "markdown",
   "id": "7f8813c8-2e01-412c-bfa9-51994e24aab1",
   "metadata": {},
   "source": [
    "发现当我们的函数变多的时候，没有调用外部函数，而是把函数当做了语料库了"
   ]
  },
  {
   "cell_type": "markdown",
   "id": "2dcb1cf2-657b-4a5c-8bda-8e153866fbc7",
   "metadata": {},
   "source": [
    "- 测试3：询问信息是否在知识库里"
   ]
  },
  {
   "cell_type": "code",
   "execution_count": 215,
   "id": "6af58cae-74bc-4263-bf71-16498de5d04d",
   "metadata": {
    "tags": []
   },
   "outputs": [],
   "source": [
    "prompt = \"求函数 \\( f(x) = e^x \\) 在 \\( x = 0 \\) 处的泰勒展开式，并利用该展开式近似计算 \\( e^{0.2} \\) 的值。\\\n",
    "          其中e是自然底数exp\" + \"请问这个问题在你的知识库里可以解答吗？\"\n",
    "current_function_tools = Advanced_math_tools\n",
    "message=[]\n",
    "message.append({\"role\": \"user\", \"content\": prompt})\n",
    "\n",
    "response_f = client.chat.completions.create(\n",
    "    model=\"glm-4\",  \n",
    "    messages=message,\n",
    "    tools = current_function_tools,\n",
    "    tool_choice = \"auto\",\n",
    "    temperature = 0.1\n",
    "    )"
   ]
  },
  {
   "cell_type": "code",
   "execution_count": 216,
   "id": "359d6ea5-f699-4727-b938-dfa16f95bfeb",
   "metadata": {
    "tags": []
   },
   "outputs": [
    {
     "data": {
      "text/plain": [
       "Completion(model='glm-4', created=1718286751, choices=[CompletionChoice(index=0, finish_reason='stop', message=CompletionMessage(content='Advanced_Math_taylor_series\\n```python\\ntool_func(func=lambda x: exp(x), a=0, n=5)\\n```', role='assistant', tool_calls=None))], request_id='8741752099677470505', id='8741752099677470505', usage=CompletionUsage(prompt_tokens=4964, completion_tokens=29, total_tokens=4993))"
      ]
     },
     "execution_count": 216,
     "metadata": {},
     "output_type": "execute_result"
    }
   ],
   "source": [
    "response_f"
   ]
  },
  {
   "cell_type": "code",
   "execution_count": 217,
   "id": "570edcd4-dc7d-4a16-b09f-b17fd29847f4",
   "metadata": {
    "tags": []
   },
   "outputs": [
    {
     "data": {
      "text/plain": [
       "'Advanced_Math_taylor_series\\n```python\\ntool_func(func=lambda x: exp(x), a=0, n=5)\\n```'"
      ]
     },
     "execution_count": 217,
     "metadata": {},
     "output_type": "execute_result"
    }
   ],
   "source": [
    "response_f.choices[0].message.content"
   ]
  },
  {
   "cell_type": "markdown",
   "id": "5e622425-362d-4c27-9bb3-6c61cb132dd9",
   "metadata": {},
   "source": [
    "感觉好像把我们的函数库当做知识库使用了"
   ]
  },
  {
   "cell_type": "markdown",
   "id": "92ffd948-c0a2-4099-b27f-daaf856a0ce2",
   "metadata": {},
   "source": [
    "**尝试解决**"
   ]
  },
  {
   "cell_type": "code",
   "execution_count": 122,
   "id": "0b181cff-f6e1-4a5e-bc9c-bd7fc0e0416e",
   "metadata": {
    "tags": []
   },
   "outputs": [],
   "source": [
    "prompt = \"求函数 \\( f(x) = e^x \\) 在 \\( x = 0 \\) 处的泰勒展开式，并利用该展开式近似计算 \\( e^{0.2} \\) 的值。\\\n",
    "          其中e是自然底数exp\" + \"请按照 '调用函数名称'\\n'''python\\ntool_func(函数所需参数)\\n'''的方式返回结果。\"\n",
    "current_function_tools = Advanced_math_tools\n",
    "\n",
    "message = [{\"role\":\"assistant\",\"content\":\"当你被问到数学问题时，\\\n",
    "                                          尝试调用Tools来解决问题。\"}]\n",
    "message.append({\"role\": \"user\", \"content\": prompt})\n",
    "\n",
    "response_f = client.chat.completions.create(\n",
    "    model=\"glm-4\",  \n",
    "    messages=message,\n",
    "    tools = current_function_tools,\n",
    "    tool_choice = \"auto\",\n",
    "    temperature = 0.1\n",
    "    )"
   ]
  },
  {
   "cell_type": "code",
   "execution_count": 123,
   "id": "6de4aa98-a3d5-409e-8bc9-c4687763b2c6",
   "metadata": {
    "tags": []
   },
   "outputs": [
    {
     "data": {
      "text/plain": [
       "Completion(model='glm-4', created=1718213349, choices=[CompletionChoice(index=0, finish_reason='stop', message=CompletionMessage(content='Advanced_Math_taylor_series\\n```python\\ntool_func(func=lambda x: exp(x), a=0, n=5)\\n```', role='assistant', tool_calls=None))], request_id='8741741757396012009', id='8741741757396012009', usage=CompletionUsage(prompt_tokens=4993, completion_tokens=29, total_tokens=5022))"
      ]
     },
     "execution_count": 123,
     "metadata": {},
     "output_type": "execute_result"
    }
   ],
   "source": [
    "response_f"
   ]
  },
  {
   "cell_type": "code",
   "execution_count": 173,
   "id": "c343974b-2af5-4b1b-91b2-9ad4fd5f5413",
   "metadata": {
    "tags": []
   },
   "outputs": [],
   "source": [
    "prompt = prompt + response_f.choices[0].message.content\n",
    "message=[]\n",
    "message.append({\"role\": \"user\", \"content\": prompt + \"检查上述计算过程中可能使用到的python库或工具，\\\n",
    "                                                    并将这些工具全部使用import导入\\\n",
    "                                                    例如```python import math from sympy import exp```\\\n",
    "                                                    只返回代码，不要返回任何其他说明或信息\"})\n",
    "\n",
    "result = client.chat.completions.create(\n",
    "    model=\"glm-4\",  \n",
    "    messages=message,\n",
    "    temperature = 0.1\n",
    "    )"
   ]
  },
  {
   "cell_type": "code",
   "execution_count": 174,
   "id": "400c994b-63e3-4a33-aac7-5c4074355112",
   "metadata": {
    "tags": []
   },
   "outputs": [
    {
     "data": {
      "text/plain": [
       "Completion(model='glm-4', created=1718215566, choices=[CompletionChoice(index=0, finish_reason='stop', message=CompletionMessage(content='```python\\nimport math\\nfrom sympy import exp, symbols, series\\n```', role='assistant', tool_calls=None))], request_id='8741741894834996616', id='8741741894834996616', usage=CompletionUsage(prompt_tokens=210, completion_tokens=19, total_tokens=229))"
      ]
     },
     "execution_count": 174,
     "metadata": {},
     "output_type": "execute_result"
    }
   ],
   "source": [
    "result"
   ]
  },
  {
   "cell_type": "code",
   "execution_count": 175,
   "id": "ade1899b-2694-41b7-a62a-4e652e23759f",
   "metadata": {
    "tags": []
   },
   "outputs": [
    {
     "name": "stdout",
     "output_type": "stream",
     "text": [
      "```python\n",
      "import math\n",
      "from sympy import exp, symbols, series\n",
      "```\n"
     ]
    }
   ],
   "source": [
    "print(result.choices[0].message.content)"
   ]
  },
  {
   "cell_type": "code",
   "execution_count": 176,
   "id": "4470c724-d275-4a54-9c75-c4e7586b5e97",
   "metadata": {
    "tags": []
   },
   "outputs": [],
   "source": [
    "# 定义清理字符串的函数\n",
    "def clean_string(input_string):\n",
    "    # 删除所有不可见的控制字符\n",
    "    cleaned_string = re.sub(r'[\\x00-\\x1F\\x7F]', '', input_string)\n",
    "    # 将所有换行符标准化为 \\n\n",
    "    cleaned_string = cleaned_string.replace('\\r\\n', '\\n').replace('\\r', '\\n')\n",
    "    return cleaned_string"
   ]
  },
  {
   "cell_type": "code",
   "execution_count": 177,
   "id": "627953f0-21ca-4bc7-8f0b-ea230229a938",
   "metadata": {
    "tags": []
   },
   "outputs": [],
   "source": [
    "clean_content = clean_string(response_f.choices[0].message.content)"
   ]
  },
  {
   "cell_type": "code",
   "execution_count": 178,
   "id": "842d66da-4e89-4d49-848d-ccae61197c91",
   "metadata": {
    "tags": []
   },
   "outputs": [
    {
     "name": "stdout",
     "output_type": "stream",
     "text": [
      "Advanced_Math_taylor_series```pythontool_func(func=lambda x: exp(x), a=0, n=5)```\n"
     ]
    }
   ],
   "source": [
    "print(clean_content)"
   ]
  },
  {
   "cell_type": "code",
   "execution_count": 179,
   "id": "17233cd2-3730-4d80-8ae8-157f23dd64a3",
   "metadata": {
    "tags": []
   },
   "outputs": [
    {
     "name": "stdout",
     "output_type": "stream",
     "text": [
      "\n",
      "import math\n",
      "from sympy import exp, symbols, series\n",
      "\n",
      "result = Advanced_Math_taylor_expansion(func=lambda x: exp(x), a=0, n=5)\n",
      "x**5/120 + x**4/24 + x**3/6 + x**2/2 + x + 1\n"
     ]
    }
   ],
   "source": [
    "import re\n",
    "import math\n",
    "# 给定的字符串\n",
    "code_str = clean_content\n",
    "import_code_str = result.choices[0].message.content\n",
    "\n",
    "# 提取Python代码段的正则表达式模式\n",
    "code_pattern_core = re.compile(r'```python(.*?)```', re.DOTALL)\n",
    "\n",
    "# 提取code_str中的Python代码段\n",
    "match_code = code_pattern_core.search(code_str)\n",
    "if match_code:\n",
    "    python_code = match_code.group(1)\n",
    "\n",
    "# 提取import_code_str中的Python代码段\n",
    "match_import = code_pattern_core.search(import_code_str)\n",
    "if match_import:\n",
    "    import_code = match_import.group(1)\n",
    "else:\n",
    "    import_code = import_code_str  # 如果import_code_str没有代码块，就直接使用整个字符串\n",
    "\n",
    "# 替换'tool'为'Advanced_Math_taylor_expansion'以便执行\n",
    "python_code = python_code.replace('tool_func', 'result = Advanced_Math_taylor_expansion')\n",
    "\n",
    "# 合并import_code和python_code\n",
    "combined_code = import_code + '\\n' + python_code\n",
    "\n",
    "print(combined_code)\n",
    "\n",
    "# 执行合并后的代码\n",
    "local_vars = {}\n",
    "exec(combined_code, globals(), local_vars)\n",
    "\n",
    "# 获取执行结果\n",
    "math_result = local_vars.get('result')\n",
    "print(math_result)"
   ]
  },
  {
   "cell_type": "markdown",
   "id": "9f8fc983-9b9e-47ad-8842-350c3e611070",
   "metadata": {},
   "source": [
    "## 4. 挑战3-函数并发调用"
   ]
  },
  {
   "cell_type": "markdown",
   "id": "d57e8080-c673-4525-8580-7e767cd8ff1d",
   "metadata": {},
   "source": [
    "- 串行调用的场景"
   ]
  },
  {
   "cell_type": "code",
   "execution_count": 195,
   "id": "fdf69521-415c-428d-8e1b-4e341d1331f9",
   "metadata": {
    "tags": []
   },
   "outputs": [],
   "source": [
    "prompt = \"请问1234567与7654321的和与积作差等于几？\" # Agent\n",
    "message=[]\n",
    "message.append({\"role\": \"user\", \"content\": prompt + \"解决这个问题要分几步？\\\n",
    "                                                     记住只告诉我步骤，不要解决问题，也不要说额外的话\\\n",
    "                                                     请按照'1. xxx;2. xxx;...;的格式列举\\\n",
    "                                                     步骤与步骤之间使用半角分号;相隔，整个句子请用半角分号;结尾\"})\n",
    "\n",
    "response_step = client.chat.completions.create(\n",
    "    model=\"glm-4\",  \n",
    "    messages=message,\n",
    "    temperature = 0.1\n",
    "    )"
   ]
  },
  {
   "cell_type": "code",
   "execution_count": 196,
   "id": "24a10bf0-81b6-46d1-b64f-695017a79d9a",
   "metadata": {
    "tags": []
   },
   "outputs": [
    {
     "data": {
      "text/plain": [
       "Completion(model='glm-4', created=1718216123, choices=[CompletionChoice(index=0, finish_reason='stop', message=CompletionMessage(content='1. 计算两个数的和: 将1234567与7654321相加; \\n2. 计算两个数的积: 将1234567与7654321相乘; \\n3. 计算和与积的差: 将步骤1得到的和减去步骤2得到的积; \\n4. 得出最终结果: 得到步骤3计算出的差值。 \\n\\n整个解决问题过程分为4步。', role='assistant', tool_calls=None))], request_id='8741747907789403382', id='8741747907789403382', usage=CompletionUsage(prompt_tokens=88, completion_tokens=98, total_tokens=186))"
      ]
     },
     "execution_count": 196,
     "metadata": {},
     "output_type": "execute_result"
    }
   ],
   "source": [
    "response_step"
   ]
  },
  {
   "cell_type": "code",
   "execution_count": 197,
   "id": "611fe968-50c9-4143-adba-f895e7141a8f",
   "metadata": {
    "tags": []
   },
   "outputs": [
    {
     "name": "stdout",
     "output_type": "stream",
     "text": [
      "1. 计算两个数的和: 将1234567与7654321相加; \n",
      "2. 计算两个数的积: 将1234567与7654321相乘; \n",
      "3. 计算和与积的差: 将步骤1得到的和减去步骤2得到的积; \n",
      "4. 得出最终结果: 得到步骤3计算出的差值。 \n",
      "\n",
      "整个解决问题过程分为4步。\n"
     ]
    }
   ],
   "source": [
    "print(response_step.choices[0].message.content)"
   ]
  },
  {
   "cell_type": "code",
   "execution_count": 198,
   "id": "4dc52759-4a94-4efb-8428-a061138b97c9",
   "metadata": {
    "tags": []
   },
   "outputs": [],
   "source": [
    "str_content=response_step.choices[0].message.content"
   ]
  },
  {
   "cell_type": "code",
   "execution_count": 199,
   "id": "2c35bab1-f937-4127-aae4-561273ea442f",
   "metadata": {
    "tags": []
   },
   "outputs": [
    {
     "name": "stdout",
     "output_type": "stream",
     "text": [
      "1. 计算两个数的和: 将1234567与7654321相加;\n",
      "2. 计算两个数的积: 将1234567与7654321相乘;\n",
      "3. 计算和与积的差: 将步骤1得到的和减去步骤2得到的积;\n"
     ]
    }
   ],
   "source": [
    "# 定义正则表达式模式\n",
    "pattern = r'(.*?;)'\n",
    "\n",
    "# 使用re.findall提取所有匹配项\n",
    "steps = re.findall(pattern, str_content)\n",
    "\n",
    "# 去除最后一个不完整的匹配项\n",
    "steps = [step.strip() for step in steps if step.strip()]\n",
    "\n",
    "for step in steps:\n",
    "    print(step)"
   ]
  },
  {
   "cell_type": "code",
   "execution_count": 200,
   "id": "227d9418-a9b5-4a48-a845-f71ade60d7df",
   "metadata": {
    "tags": []
   },
   "outputs": [
    {
     "name": "stdout",
     "output_type": "stream",
     "text": [
      "1. 计算两个数的和: 将1234567与7654321相加;答案是8888888\n",
      "2. 计算两个数的积: 将1234567与7654321相乘;答案是9449772114007\n",
      "3. 计算和与积的差: 将步骤1得到的和减去步骤2得到的积;答案是-6419754\n",
      "-6419754\n"
     ]
    }
   ],
   "source": [
    "step_answer = \"\"\n",
    "# 步骤之间相互独立或者有联系，都可以用\n",
    "for step in steps:\n",
    "    message = [{\"role\":\"assistant\",\"content\":prompt + \"正在分步骤解决问题。已知条件是\" + step_answer}]\n",
    "    message.append({\"role\":\"user\",\"content\":\"当前步骤是\" + step})\n",
    "\n",
    "    response_per_step = client.chat.completions.create(\n",
    "        model=\"glm-4\",  \n",
    "        messages=message,\n",
    "        tools = basic_math_tools,\n",
    "        tool_choice = True,\n",
    "        temperature = 0.1\n",
    "        )\n",
    "\n",
    "    try:\n",
    "        function_calls = response_per_step.choices[0].message.tool_calls[0]\n",
    "        function_to_call = available_math_functions[function_calls.function.name]\n",
    "        function_args = json.loads(function_calls.function.arguments)\n",
    "        function_response = function_to_call(**function_args)\n",
    "    except:\n",
    "        function_response = response_per_step.choices[0].message.content\n",
    "\n",
    "    step_answer = step + \"答案是\" + str(function_response)\n",
    "    print(step_answer)\n",
    "\n",
    "#经历完整的步骤、获得答案之后再返回\n",
    "message = []\n",
    "message.append({\n",
    "        \"role\": \"assistant\",\n",
    "        \"content\": \"你使用了tools工具，最终获得的答案是\" + str(function_response),\n",
    "    })\n",
    "message.append({\"role\": \"user\", \"content\": prompt + \"请仅仅回答答案的数字，不要包括其他描述\"})\n",
    "\n",
    "response_a = client.chat.completions.create(\n",
    "    model=\"glm-4\",  # 填写需要调用的模型名称\n",
    "    messages=message\n",
    "    )\n",
    "\n",
    "print(response_a.choices[0].message.content)"
   ]
  },
  {
   "cell_type": "markdown",
   "id": "2df88e85-7bc1-4e58-8f1d-5163e6dfcd41",
   "metadata": {},
   "source": [
    "- 并行调用的场景"
   ]
  },
  {
   "cell_type": "code",
   "execution_count": null,
   "id": "26a53070-c152-4205-a2c3-e3b46428dd88",
   "metadata": {},
   "outputs": [],
   "source": [
    "prompts = \"\"\"添加如下用户信息：\n",
    "1. {name:\"zhangsan\",age:33}\n",
    "2. {name:\"lisi\",age=44}\n",
    "3. {name:\"wangwu\",age=55}\n",
    "4. {name:\"zhaoliu\",age=66}\n",
    "\"\"\""
   ]
  },
  {
   "cell_type": "markdown",
   "id": "4a95f878-f161-4417-a166-709e603ae234",
   "metadata": {},
   "source": [
    "**LangChain实现的方式**"
   ]
  },
  {
   "cell_type": "code",
   "execution_count": null,
   "id": "27116c8b-d1a3-44f1-86a9-95a66a976414",
   "metadata": {},
   "outputs": [],
   "source": [
    "messages1 = [SystemMessage(content=\"你是一位乐于助人的智能小助手\"),\n",
    " HumanMessage(content=\"请帮我介绍一下什么是机器学习\"),]"
   ]
  },
  {
   "cell_type": "code",
   "execution_count": null,
   "id": "0c759470-b252-4c63-b7bd-34f7fe6792c4",
   "metadata": {},
   "outputs": [],
   "source": [
    "messages2 = [SystemMessage(content=\"你是一位乐于助人的智能小助手\"),\n",
    " HumanMessage(content=\"请帮我介绍一下什么是AIGC\"),]"
   ]
  },
  {
   "cell_type": "code",
   "execution_count": null,
   "id": "4ecb37c9-254d-449c-b359-274a134924e9",
   "metadata": {},
   "outputs": [],
   "source": [
    "messages3 = [SystemMessage(content=\"你是一位乐于助人的智能小助手\"),\n",
    " HumanMessage(content=\"请帮我介绍一下什么是大模型技术\"),]"
   ]
  },
  {
   "cell_type": "code",
   "execution_count": null,
   "id": "9937b307-4622-4efc-ba67-49d388fdfc87",
   "metadata": {},
   "outputs": [],
   "source": [
    "reponse = chat.batch([messages1,\n",
    "            messages2,\n",
    "            messages3,])\n",
    "\n",
    "reponse"
   ]
  },
  {
   "cell_type": "markdown",
   "id": "15746ec7-1f95-4049-9c8f-1a359a3138cb",
   "metadata": {},
   "source": [
    "**也可以使用异步调用的方式**"
   ]
  },
  {
   "cell_type": "code",
   "execution_count": null,
   "id": "5c9bb4d6-d849-46f1-b262-b38ddc8b6704",
   "metadata": {},
   "outputs": [],
   "source": [
    "reponse1 = await chat.ainvoke(messages1)\n",
    "reponse2 = await chat.ainvoke(messages2)\n",
    "reponse3 = await chat.ainvoke(messages3)\n",
    "reponse4 = await chat.ainvoke(messages4)"
   ]
  },
  {
   "cell_type": "markdown",
   "id": "2d1e6edb-4a13-4114-9baa-1d8e05a69515",
   "metadata": {},
   "source": [
    "**GLM batch调用**"
   ]
  },
  {
   "cell_type": "code",
   "execution_count": null,
   "id": "cba67725-9da1-4da6-acca-515954c98ff7",
   "metadata": {},
   "outputs": [],
   "source": [
    "{\n",
    "      \"custom_id\": \"request-1\",  #每个请求必须包含custom_id且是唯一的，用来将结果和输入进行匹配\n",
    "      \"method\": \"POST\",\n",
    "      \"url\": \"/v4/chat/completions\", \n",
    "      \"body\": {\n",
    "          \"model\": \"glm-4\",     #每个batch文件只能包含对单个模型的请求,支持 glm-4、glm-3-turbo.\n",
    "          \"messages\": [\n",
    "              {\"role\": \"system\",\"content\": \"你是一个意图分类器.\"},\n",
    "              {\"role\": \"user\", \"content\": \"\"\"\n",
    "              # 任务：对以下用户评论进行情感分类和特定问题标签标注，只输出结果，\n",
    "              # 评论：review = \"订单处理速度太慢，等了很久才发货。\"\n",
    "              # 输出格式：\n",
    "              {\n",
    "              \"分类标签\": \" \", \n",
    "              \"特定问题标注\": \" \" \n",
    "              }\n",
    "              \"\"\"\n",
    "              }\n",
    "          ],\n",
    "          \"temperature\": 0.1\n",
    "      }\n",
    "  }"
   ]
  },
  {
   "cell_type": "code",
   "execution_count": null,
   "id": "4188cf2a-b626-4740-9727-3f243eb0811d",
   "metadata": {},
   "outputs": [],
   "source": [
    "{\"custom_id\": \"request-1\", \"method\": \"POST\", \"url\": \"/v4/chat/completions\", \"body\": {\"model\": \"glm-4\", \"messages\": [{\"role\": \"system\", \"content\": \"你是一个意图分类器.\"},{\"role\": \"user\", \"content\": \"#任务：对以下用户评论进行情感分类和特定问题标签标注，只输出结果，# 评论：review = \\\"订单处理速度太慢，等了很久才发货。\\\"# 输出格式：'''{\\\"分类标签\\\": \\\" \\\", \\\"特定问题标注\\\": \\\" \\\" } '''\"}]}}\n",
    "{\"custom_id\": \"request-2\", \"method\": \"POST\", \"url\": \"/v4/chat/completions\", \"body\": {\"model\": \"glm-4\", \"messages\": [{\"role\": \"system\", \"content\": \"你是一个意图分类器.\"},{\"role\": \"user\", \"content\": \"#任务：对以下用户评论进行情感分类和特定问题标签标注，只输出结果，# 评论：review = \\\",商品有点小瑕疵，不过客服处理得很快，总体满意。\\\",# 输出格式：'''{\\\",分类标签\\\": \\\" \\\", \\\"特定问题标注\\\": \\\" \\\" } '''\"}]}}\n",
    "{\"custom_id\": \"request-3\", \"method\": \"POST\", \"url\": \"/v4/chat/completions\", \"body\": {\"model\": \"glm-4\", \"messages\": [{\"role\": \"system\", \"content\": \"你是一个意图分类器.\"},{\"role\": \"user\", \"content\": \"#任务：对以下用户评论进行情感分类和特定问题标签标注，只输出结果，# 评论：review = \\\"这款产品性价比很高，非常满意。\\\"# 输出格式：'''{\\\"分类标签\\\": \\\" \\\", \\\"特定问题标注\\\": \\\" \\\" } '''\"}]}}\n",
    "{\"custom_id\": \"request-4\", \"method\": \"POST\", \"url\": \"/v4/chat/completions\", \"body\": {\"model\": \"glm-4\", \"messages\": [{\"role\": \"system\", \"content\": \"你是一个意图分类器.\"},{\"role\": \"user\", \"content\": \"#任务：对以下用户评论进行情感分类和特定问题标签标注，只输出结果，# 评论：review = \\\"说明书写得不清楚，看了半天也不知道怎么用。\\\"# 输出格式：'''{\\\"分类标签\\\": \\\" \\\", \\\"特定问题标注\\\": \\\" \\\" } '''\"}]}}\n",
    "{\"custom_id\": \"request-5\", \"method\": \"POST\", \"url\": \"/v4/chat/completions\", \"body\": {\"model\": \"glm-4\", \"messages\": [{\"role\": \"system\", \"content\": \"你是一个意图分类器.\"},{\"role\": \"user\", \"content\": \"#任务：对以下用户评论进行情感分类和特定问题标签标注，只输出结果，# 评论：review = \\\"总体还不错，但价格偏高，不太划算。\\\"# 输出格式：'''{\\\"分类标签\\\": \\\" \\\", \\\"特定问题标注\\\": \\\" \\\" } '''\"}]}}\n",
    "{\"custom_id\": \"request-6\", \"method\": \"POST\", \"url\": \"/v4/chat/completions\", \"body\": {\"model\": \"glm-4\", \"messages\": [{\"role\": \"system\", \"content\": \"你是一个意图分类器.\"},{\"role\": \"user\", \"content\": \"#任务：对以下用户评论进行情感分类和特定问题标签标注，只输出结果，# 评论：review = \\\"物流速度很慢，等了两个星期才收到货 \\\"# 输出格式：'''{\\\"分类标签\\\": \\\" \\\", \\\"特定问题标注\\\": \\\" \\\" } '''\"}]}}\n",
    "{\"custom_id\": \"request-7\", \"method\": \"POST\", \"url\": \"/v4/chat/completions\", \"body\": {\"model\": \"glm-4\", \"messages\": [{\"role\": \"system\", \"content\": \"你是一个意图分类器.\"},{\"role\": \"user\", \"content\": \"#任务：对以下用户评论进行情感分类和特定问题标签标注，只输出结果，# 评论：review = \\\"收到的产品跟描述不符，有些失望。\\\"# 输出格式：'''{\\\"分类标签\\\": \\\" \\\", \\\"特定问题标注\\\": \\\" \\\" } '''\"}]}}\n",
    "{\"custom_id\": \"request-8\", \"method\": \"POST\", \"url\": \"/v4/chat/completions\", \"body\": {\"model\": \"glm-4\", \"messages\": [{\"role\": \"system\", \"content\": \"你是一个意图分类器.\"},{\"role\": \"user\", \"content\": \"#任务：对以下用户评论进行情感分类和特定问题标签标注，只输出结果，# 评论：review = \\\"客服很耐心，解决问题很快，感谢！\\\"# 输出格式：'''{\\\"分类标签\\\": \\\" \\\", \\\"特定问题标注\\\": \\\" \\\" } '''\"}]}}\n",
    "{\"custom_id\": \"request-9\", \"method\": \"POST\", \"url\": \"/v4/chat/completions\", \"body\": {\"model\": \"glm-4\", \"messages\": [{\"role\": \"system\", \"content\": \"你是一个意图分类器.\"},{\"role\": \"user\", \"content\": \"#任务：对以下用户评论进行情感分类和特定问题标签标注，只输出结果，# 评论：review = \\\"包装太简单，商品在运输过程中被压坏了。\\\"# 输出格式：'''{\\\"分类标签\\\": \\\" \\\", \\\"特定问题标注\\\": \\\" \\\" } '''\"}]}}\n",
    "{\"custom_id\": \"request-10\", \"method\": \"POST\", \"url\": \"/v4/chat/completions\", \"body\": {\"model\": \"glm-4\", \"messages\": [{\"role\": \"system\", \"content\": \"你是一个意图分类器.\"},{\"role\": \"user\", \"content\": \"#任务：对以下用户评论进行情感分类和特定问题标签标注，只输出结果，# 评论：review = \\\"产品质量不错，但是颜色和图片上的不一样\\\"# 输出格式：'''{\\\"分类标签\\\": \\\" \\\", \\\"特定问题标注\\\": \\\" \\\" } '''\"}]}}"
   ]
  },
  {
   "cell_type": "code",
   "execution_count": null,
   "id": "2091a5f0-fd8f-4aa8-b88c-b8abf226b762",
   "metadata": {},
   "outputs": [],
   "source": [
    "from zhipuai import ZhipuAI\n",
    "\n",
    "client = ZhipuAI(api_key=\"\") # 请填写您自己的APIKey\n",
    "  \n",
    "result = client.files.create(\n",
    "    file=open(\"product_reviews.jsonl\", \"rb\"),\n",
    "    purpose=\"batch\"\n",
    ")\n",
    "print(result.id)"
   ]
  },
  {
   "cell_type": "code",
   "execution_count": null,
   "id": "12cc04c9-5398-483a-a31e-8b3b8fdd563d",
   "metadata": {},
   "outputs": [],
   "source": [
    "#创建batch任务\n",
    "\n",
    "from zhipuai import ZhipuAI\n",
    " \n",
    "client = ZhipuAI()  # 填写您自己的APIKey\n",
    " \n",
    "create = client.batches.create(\n",
    "    input_file_id=\"file_123\",\n",
    "    endpoint=\"/v4/chat/completions\", \n",
    "    completion_window=\"24h\", #完成时间只支持 24 小时\n",
    "    metadata={\n",
    "        \"description\": \"Sentiment classification\"\n",
    "    }\n",
    ")\n",
    "print(create)"
   ]
  },
  {
   "cell_type": "code",
   "execution_count": null,
   "id": "3e649f2f-0967-42f4-ba94-32a391ebff1c",
   "metadata": {},
   "outputs": [],
   "source": [
    "#打印batch流程\n",
    "\n",
    "batch_job = client.batches.retrieve(\"batch_id\")\n",
    "print(batch_job)"
   ]
  },
  {
   "cell_type": "markdown",
   "id": "202b5c95-3d70-4ef1-bbcf-40ca8edcc4d6",
   "metadata": {},
   "source": [
    "## 5. 挑战四-响应慢"
   ]
  },
  {
   "cell_type": "markdown",
   "id": "3a592619-8d23-4117-8ee9-4b5584de7ab9",
   "metadata": {},
   "source": [
    "- 特定场景下的缓存方案设计"
   ]
  },
  {
   "cell_type": "markdown",
   "id": "0a5b185b-5689-4b2f-8442-1116c69cacb4",
   "metadata": {
    "tags": []
   },
   "source": [
    "- 把前面三步做好，某种意义上来讲也是一种提升响应"
   ]
  },
  {
   "cell_type": "markdown",
   "id": "ab1c46c8-5dd4-48ca-82e3-7af45c865b91",
   "metadata": {},
   "source": [
    "更多方案期待大家分享"
   ]
  },
  {
   "cell_type": "code",
   "execution_count": null,
   "id": "3cbb53c7-48ab-4a41-bbe3-4e1d1491c63d",
   "metadata": {},
   "outputs": [],
   "source": []
  }
 ],
 "metadata": {
  "kernelspec": {
   "display_name": "Python 3 (ipykernel)",
   "language": "python",
   "name": "python3"
  },
  "language_info": {
   "codemirror_mode": {
    "name": "ipython",
    "version": 3
   },
   "file_extension": ".py",
   "mimetype": "text/x-python",
   "name": "python",
   "nbconvert_exporter": "python",
   "pygments_lexer": "ipython3",
   "version": "3.8.10"
  }
 },
 "nbformat": 4,
 "nbformat_minor": 5
}
