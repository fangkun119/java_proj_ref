{
 "cells": [
  {
   "cell_type": "markdown",
   "id": "05fa794f-8e3e-43d0-9a95-10411532ebbc",
   "metadata": {},
   "source": [
    "# 面向目标架构案例实践"
   ]
  },
  {
   "cell_type": "markdown",
   "id": "ea482719-5d65-4e43-a663-233601a08189",
   "metadata": {},
   "source": [
    "## 1. 场景数据准备(收邮件，写邮件)"
   ]
  },
  {
   "cell_type": "markdown",
   "id": "ac741557-bf5d-4167-a3ec-a5f9e2b27811",
   "metadata": {},
   "source": [
    "步骤1：安装MySQL数据库\n",
    "\n",
    "sudo apt-get update\n",
    "\n",
    "sudo apt-get install mysql-server\n",
    "\n",
    "sudo service mysql start\n",
    "\n",
    "步骤2：创建数据库用户\n",
    "\n",
    "CREATE USER 'gpt'@'localhost' IDENTIFIED BY 'gpt';\n",
    "\n",
    "步骤3：给数据库用户赋权限\n",
    "\n",
    "GRANT ALL PRIVILEGES ON *.* TO 'gpt'@'localhost';\n",
    "\n",
    "FLUSH PRIVILEGES;\n"
   ]
  },
  {
   "cell_type": "code",
   "execution_count": null,
   "id": "75dffe5c-c563-45c7-a256-029f99fde756",
   "metadata": {},
   "outputs": [],
   "source": [
    "create database my_mail;\n",
    "use my_mail;\n",
    "CREATE TABLE mailbox (\n",
    "    userid VARCHAR(255),\n",
    "    from_userid VARCHAR(255),\n",
    "    date VARCHAR(255),\n",
    "    subject VARCHAR(255),\n",
    "    snippet VARCHAR(255), \n",
    "    status VARCHAR(255),\n",
    "    label VARCHAR(255)\n",
    ");"
   ]
  },
  {
   "cell_type": "code",
   "execution_count": null,
   "id": "a63395cf-00fd-4846-b8d2-bcf375c57159",
   "metadata": {},
   "outputs": [],
   "source": [
    "INSERT INTO mailbox (userid, from_userid, date, subject, snippet, status, label)\n",
    "VALUES ('me', '西门吹雪', '2024-06-06', '速回公司', '赶快回来公司', '未读', '开会');\n",
    "\n",
    "INSERT INTO mailbox (userid, from_userid, date, subject, snippet, status, label)\n",
    "VALUES ('me', '西门吹雪', '2024-06-07', '开会', '明天10点到海淀区叶青大厦5楼502开会', '已读', '开会');\n",
    "\n",
    "INSERT INTO mailbox (userid, from_userid, date, subject, snippet, status, label)\n",
    "VALUES ('西门吹雪', 'me', '2024-06-07', '开会', '收到，准时参加', '已读', '开会');\n",
    "\n",
    "INSERT INTO mailbox (userid, from_userid, date, subject, snippet, status, label)\n",
    "VALUES ('me', '陆小凤', '2024-06-03', '2024年Q2规划', 'Q2规划：聚焦核心业务，优化流程，提升效率。加强团队协作，培养人才。探索新市场，拓宽业务领域。确保目标达成，实现增长。详细见附件', '未读', '规划');\n"
   ]
  },
  {
   "cell_type": "code",
   "execution_count": null,
   "id": "fcbec368-927d-4611-82ce-fddeed92e928",
   "metadata": {},
   "outputs": [],
   "source": [
    "UPDATE mailbox\n",
    "SET snippet = '李先生，您好，我是陆小凤，这是我给您发的邮件，里面是Q2规划：聚焦核心业务，优化流程，提升效率。加强团队协作，培养人才。探索新市场，拓宽业务领域。确保目标达成，实现增长。详细见邮箱附件'\n",
    "WHERE userid = 'me' and from_userid='陆小凤'"
   ]
  },
  {
   "cell_type": "markdown",
   "id": "b87129c8-060d-45ad-89ef-bc4ce59a5e1d",
   "metadata": {},
   "source": [
    "## 2. 体验大模型的外部函数能力"
   ]
  },
  {
   "cell_type": "code",
   "execution_count": null,
   "id": "089d3a66-f481-4c51-bbd7-0fbe5356d0b8",
   "metadata": {},
   "outputs": [],
   "source": [
    "## GLM-4大模型"
   ]
  },
  {
   "cell_type": "code",
   "execution_count": 36,
   "id": "7bbade3e-50dd-4dfc-b43d-cf1f229a022c",
   "metadata": {
    "tags": []
   },
   "outputs": [],
   "source": [
    "import pymysql\n",
    "import numpy as np\n",
    "import pandas as pd\n",
    "\n",
    "def retrieve_emails(n,user_id='me'):\n",
    "    \"\"\"\n",
    "    获取指定数量的最近邮件。\n",
    "    参数:\n",
    "    n: 要检索的邮件的数量,数据格式为int类型。\n",
    "    user_id: 要检索邮件的用户的ID。默认值是'me'，数据格式为字符串类型。\n",
    "\n",
    "    返回:\n",
    "    一个列表，其中每个元素都是一个字典，表示一封邮件。每个字典包含以下键：\n",
    "    'from_userid': 发件人ID。\n",
    "    'date': 邮件的发送日期。\n",
    "    'subject': 邮件的主题。\n",
    "    'snippet': 邮件的摘要（前100个字符）。\n",
    "    \"\"\"\n",
    "    mysql_pw=\"gpt\"\n",
    "    \n",
    "    connection = pymysql.connect(\n",
    "    host='localhost',  # 数据库地址\n",
    "    user='gpt',  # 数据库用户名\n",
    "    passwd=mysql_pw,  # 数据库密码\n",
    "    db='my_mail',  # 数据库名\n",
    "    charset='utf8'  # 字符集选择utf8   \n",
    "    )\n",
    "    sql_query=f\"SELECT * FROM mailbox WHERE userid = '{user_id}' ORDER BY date DESC LIMIT {n}\";\n",
    "\n",
    "    try:\n",
    "        with connection.cursor() as cursor:\n",
    "            sql = sql_query\n",
    "            cursor.execute(sql)\n",
    "            results = cursor.fetchall()\n",
    "    finally:\n",
    "        cursor.close()\n",
    "    \n",
    "    column_names = [desc[0] for desc in cursor.description]\n",
    "\n",
    "    # 使用results和column_names创建DataFrame\n",
    "    df = pd.DataFrame(results, columns=column_names)\n",
    "        \n",
    "    return df.to_json(orient = \"records\")     "
   ]
  },
  {
   "cell_type": "code",
   "execution_count": 7,
   "id": "e15eba5a-ae0e-4929-872e-c645ce5cc960",
   "metadata": {
    "tags": []
   },
   "outputs": [],
   "source": [
    "msg = retrieve_emails(2)"
   ]
  },
  {
   "cell_type": "code",
   "execution_count": 8,
   "id": "eff6459d-bf5b-44ac-9254-554fbfdc71fd",
   "metadata": {
    "tags": []
   },
   "outputs": [
    {
     "data": {
      "text/plain": [
       "'[{\"userid\":\"me\",\"from_userid\":\"\\\\u897f\\\\u95e8\\\\u5439\\\\u96ea\",\"date\":\"2024-06-07\",\"subject\":\"\\\\u5f00\\\\u4f1a\",\"snippet\":\"\\\\u660e\\\\u592910\\\\u70b9\\\\u5230\\\\u6d77\\\\u6dc0\\\\u533a\\\\u53f6\\\\u9752\\\\u5927\\\\u53a65\\\\u697c502\\\\u5f00\\\\u4f1a\",\"status\":\"\\\\u5df2\\\\u8bfb\",\"label\":\"\\\\u5f00\\\\u4f1a\"},{\"userid\":\"me\",\"from_userid\":\"\\\\u897f\\\\u95e8\\\\u5439\\\\u96ea\",\"date\":\"2024-06-06\",\"subject\":\"\\\\u901f\\\\u56de\\\\u516c\\\\u53f8\",\"snippet\":\"\\\\u8d76\\\\u5feb\\\\u56de\\\\u6765\\\\u516c\\\\u53f8\",\"status\":\"\\\\u672a\\\\u8bfb\",\"label\":\"\\\\u5f00\\\\u4f1a\"}]'"
      ]
     },
     "execution_count": 8,
     "metadata": {},
     "output_type": "execute_result"
    }
   ],
   "source": [
    "msg"
   ]
  },
  {
   "cell_type": "code",
   "execution_count": 50,
   "id": "6db49569-f7d4-4a74-b2bb-e72b1c62e85e",
   "metadata": {
    "tags": []
   },
   "outputs": [],
   "source": [
    "import os\n",
    "import openai\n",
    "from openai import OpenAI\n",
    "import shutil\n",
    "\n",
    "import json\n",
    "import io\n",
    "import inspect\n",
    "import requests\n",
    "import re\n",
    "import random\n",
    "import string\n",
    "\n",
    "## 初始化客户端\n",
    "api_key = os.getenv(\"ZHIPU_API_KEY\")\n",
    "#api_key=\"4abxxUM\"\n",
    "## pip install zhipuai\n",
    "\n",
    "from zhipuai import ZhipuAI\n",
    "client = ZhipuAI(api_key=api_key)"
   ]
  },
  {
   "cell_type": "code",
   "execution_count": 10,
   "id": "b19b1d4f-e4b8-4c70-9734-c0e82ee57758",
   "metadata": {
    "tags": []
   },
   "outputs": [],
   "source": [
    "messages=[\n",
    "            {\"role\": \"system\", \"content\": \"这是我的邮箱最近2封邮件的内容：%s\" % msg},\n",
    "            {\"role\": \"system\", \"content\": \"邮件内容是由从my_mail库的mailbox表中获取的\"},\n",
    "            {\"role\": \"user\", \"content\": \"请问我的最近2封邮件是谁发送的，都有什么内容？\"}\n",
    "          ]\n",
    "response = client.chat.completions.create(\n",
    "                        model=\"glm-4\",\n",
    "                        messages=messages)\n",
    "\n",
    "response_message = response.choices[0].message"
   ]
  },
  {
   "cell_type": "code",
   "execution_count": 13,
   "id": "9906c24e-d088-47a7-9947-fbdc8fd809b4",
   "metadata": {
    "tags": []
   },
   "outputs": [
    {
     "name": "stdout",
     "output_type": "stream",
     "text": [
      "根据您提供的邮箱内容信息，以下是两封邮件的概要：\n",
      "\n",
      "1. 第一封邮件：\n",
      "   - 发件人：西門吹雪（根据中文字符转义，实际可能是“西门吹雪”）\n",
      "   - 日期：2024年6月7日\n",
      "   - 主题：开会\n",
      "   - 邮件摘要：明天上午10点到海棠区杉青大厦5楼502室开会。\n",
      "   - 状态：已读\n",
      "   - 标签：开会\n",
      "\n",
      "2. 第二封邮件：\n",
      "   - 发件人：西門吹雪（同样，可能是“西门吹雪”）\n",
      "   - 日期：2024年6月6日\n",
      "   - 主题：速回公司\n",
      "   - 邮件摘要：赶快回到公司。\n",
      "   - 状态：未读\n",
      "   - 标签：开会\n",
      "\n",
      "这些邮件内容是从您的邮箱数据库（my_mail库的mailbox表）中获取的。\n",
      "\n",
      "至于参考信息部分，第一项是关于一个人收到疑似诈骗邮件的咨询及其回复，这和您的邮件内容没有直接关系。第二项是一个假定场景，要求用英文写一封关于关心朋友Tom和他母亲病情的邮件，这也与您邮件内容无关。不过，如果您需要关于如何回复类似的邮件或者如何用英文撰写邮件的建议，可以提供帮助。\n"
     ]
    }
   ],
   "source": [
    "print(response_message.content)"
   ]
  },
  {
   "cell_type": "code",
   "execution_count": 44,
   "id": "3bc45671-58fc-48c1-ad26-5fa03b4a2410",
   "metadata": {
    "tags": []
   },
   "outputs": [],
   "source": [
    "def auto_functions(functions_list):\n",
    "    \"\"\"\n",
    "    Chat模型的functions参数编写函数\n",
    "    :param functions_list: 包含一个或者多个函数对象的列表；\n",
    "    :return：满足Chat模型functions参数要求的functions对象\n",
    "    \"\"\"\n",
    "    def functions_generate(functions_list):\n",
    "        # 创建空列表，用于保存每个函数的描述字典\n",
    "        functions = []\n",
    "        # 对每个外部函数进行循环\n",
    "        for function in functions_list:\n",
    "            # 读取函数对象的函数说明\n",
    "            function_description = inspect.getdoc(function)\n",
    "            # 读取函数的函数名字符串\n",
    "            function_name = function.__name__\n",
    "            ## 提示词 one-shot\n",
    "            system_prompt1=\"\"\"输出结果必须是一个JSON格式的字典,举个例子：\n",
    "            [{'type': 'function', 'function': {'name': 'sunwukong_function', 'description': '该函数定义了数据集计算过程，接收一个数据表字符串参数，并返回一个JSON格式的Dataframe类型对象。', 'parameters': {'type': 'object', 'properties': {'data': {'type': 'string', 'description': '带入计算的数据表，用字符串进行表示'}}, 'required': ['data'], 'additionalProperties': False}}}]\n",
    "            \"\"\"\n",
    "            system_prompt2 = '以下是某的函数说明：%s,输出结果必须是一个JSON格式的字典，只输出这个字典即可，前后不需要任何前后修饰或说明的语句' % function_description\n",
    "            user_prompt = '根据这个函数的函数说明，请帮我创建一个JSON格式的字典，这个字典有如下5点要求：\\\n",
    "                           1.字典总共有三个键值对；\\\n",
    "                           2.第一个键值对的Key是字符串name，value是该函数的名字：%s，也是字符串；\\\n",
    "                           3.第二个键值对的Key是字符串description，value是该函数的函数的功能说明，也是字符串；\\\n",
    "                           4.第三个键值对的Key是字符串parameters，value是一个JSON Schema对象，用于说明该函数的参数输入规范。\\\n",
    "                           5.输出结果必须是一个JSON格式的字典，只输出这个字典即可，前后不需要任何前后修饰或说明的语句' % function_name\n",
    "\n",
    "            response = client.chat.completions.create(\n",
    "                              model=\"glm-4\",\n",
    "                              messages=[\n",
    "                                {\"role\": \"system\", \"content\": system_prompt1},\n",
    "                                {\"role\": \"system\", \"content\": system_prompt2},\n",
    "                                {\"role\": \"user\", \"content\": user_prompt}\n",
    "                              ]\n",
    "                            )\n",
    "            json_str=response.choices[0].message.content.replace(\"```json\",\"\").replace(\"```\",\"\")\n",
    "            json_function_description=json.loads(json_str)\n",
    "            json_str={\"type\": \"function\",\"function\":json_function_description}\n",
    "            functions.append(json_str)\n",
    "        return functions\n",
    "    ## 最大可以尝试4次\n",
    "    max_attempts = 4\n",
    "    attempts = 0\n",
    "\n",
    "    while attempts < max_attempts:\n",
    "        try:\n",
    "            functions = functions_generate(functions_list)\n",
    "            break  # 如果代码成功执行，跳出循环\n",
    "        except Exception as e:\n",
    "            attempts += 1  # 增加尝试次数\n",
    "            print(\"发生错误：\", e)\n",
    "            if attempts == max_attempts:\n",
    "                print(\"已达到最大尝试次数，程序终止。\")\n",
    "                raise  # 重新引发最后一个异常\n",
    "            else:\n",
    "                print(\"正在重新运行...\")\n",
    "    return functions"
   ]
  },
  {
   "cell_type": "code",
   "execution_count": 45,
   "id": "03e8ea88-a106-42ba-91f7-81f22bed647c",
   "metadata": {
    "tags": []
   },
   "outputs": [],
   "source": [
    "functions_list=[retrieve_emails]"
   ]
  },
  {
   "cell_type": "code",
   "execution_count": 46,
   "id": "9c1d5a25-17e8-40b3-be0c-22ce0662dd2a",
   "metadata": {
    "tags": []
   },
   "outputs": [
    {
     "data": {
      "text/plain": [
       "[{'type': 'function',\n",
       "  'function': {'name': 'retrieve_emails',\n",
       "   'description': '获取指定数量的最近邮件。',\n",
       "   'parameters': {'type': 'object',\n",
       "    'properties': {'n': {'type': 'integer', 'description': '要检索的邮件的数量'},\n",
       "     'user_id': {'type': 'string',\n",
       "      'description': '要检索邮件的用户的ID',\n",
       "      'default': 'me'}},\n",
       "    'required': ['n'],\n",
       "    'additionalProperties': False}}}]"
      ]
     },
     "execution_count": 46,
     "metadata": {},
     "output_type": "execute_result"
    }
   ],
   "source": [
    "functions = auto_functions(functions_list)\n",
    "functions"
   ]
  },
  {
   "cell_type": "code",
   "execution_count": 47,
   "id": "63b67f71-7e03-4d8f-8928-cd921c04b581",
   "metadata": {
    "tags": []
   },
   "outputs": [],
   "source": [
    "def run_conversation(messages, functions_list=None, model=\"glm-4\"):\n",
    "    \"\"\"\n",
    "    能够自动执行外部函数调用的对话模型\n",
    "    :param messages: 必要参数，字典类型，输入到Chat模型的messages参数对象\n",
    "    :param functions_list: 可选参数，默认为None，可以设置为包含全部外部函数的列表对象\n",
    "    :param model: Chat模型，可选参数，默认模型为glm-4\n",
    "    :return：Chat模型输出结果\n",
    "    \"\"\"\n",
    "    # 如果没有外部函数库，则执行普通的对话任务\n",
    "    if functions_list == None:\n",
    "        response = client.chat.completions.create(\n",
    "                        model=model,\n",
    "                        messages=messages,\n",
    "                        )\n",
    "        response_message = response.choices[0].message\n",
    "        final_response = response_message.content\n",
    "        \n",
    "    # 若存在外部函数库，则需要灵活选取外部函数并进行回答\n",
    "    else:\n",
    "        # 创建functions对象\n",
    "        tools = auto_functions(functions_list)\n",
    "        \n",
    "        # 创建外部函数库字典\n",
    "        available_functions = {func.__name__: func for func in functions_list}\n",
    "        print(available_functions)\n",
    "\n",
    "        # 第一次调用大模型\n",
    "        response = client.chat.completions.create(\n",
    "                        model=model,\n",
    "                        messages=messages,\n",
    "                        tools=tools,\n",
    "                        tool_choice=\"auto\", )\n",
    "        response_message = response.choices[0].message\n",
    "        \n",
    "       \n",
    "\n",
    "\n",
    "        tool_calls = response_message.tool_calls\n",
    "\n",
    "        if tool_calls:\n",
    "\n",
    "            #messages.append(response.choices[0].message)\n",
    "            ## GLM-4 Function Call的使用方式\n",
    "            messages.append(response.choices[0].message.model_dump())\n",
    "            for tool_call in tool_calls:\n",
    "                function_name = tool_call.function.name\n",
    "                function_to_call = available_functions[function_name]\n",
    "                function_args = json.loads(tool_call.function.arguments)\n",
    "                ## 真正执行外部函数的就是这儿的代码\n",
    "                function_response = function_to_call(**function_args)\n",
    "                messages.append(\n",
    "                    {\n",
    "                        \"role\": \"tool\",\n",
    "                        \"content\": function_response,\n",
    "                        \"tool_call_id\": tool_call.id,\n",
    "                    }\n",
    "                ) \n",
    "            ## 第二次调用模型\n",
    "            second_response = client.chat.completions.create(\n",
    "                model=model,\n",
    "                messages=messages,\n",
    "                tools=tools\n",
    "            ) \n",
    "            # 获取最终结果\n",
    "            print(second_response.choices[0].message)\n",
    "            final_response = second_response.choices[0].message.content\n",
    "        else:\n",
    "            final_response = response_message.content\n",
    "                \n",
    "    return final_response"
   ]
  },
  {
   "cell_type": "code",
   "execution_count": 48,
   "id": "1cc5abc5-68cd-46f8-be5e-ac3690c9ace1",
   "metadata": {
    "tags": []
   },
   "outputs": [],
   "source": [
    "messages=[\n",
    "    {\"role\": \"system\", \"content\": \"你是一个邮件助手，帮我查询各种邮件信息\"},\n",
    "    {\"role\": \"user\", \"content\": \"帮我查询一下，我最近的3封邮件内容\"}\n",
    "]"
   ]
  },
  {
   "cell_type": "code",
   "execution_count": 49,
   "id": "26d3010f-e499-48e4-876a-580676f6ddfe",
   "metadata": {
    "tags": []
   },
   "outputs": [
    {
     "name": "stdout",
     "output_type": "stream",
     "text": [
      "{'retrieve_emails': <function retrieve_emails at 0x7ff852682ee0>}\n",
      "CompletionMessage(content='您最近的3封邮件内容如下：\\n\\n1. 日期：2024-06-07\\n   发件人：西门吹雪\\n   主题：开会\\n   内容摘要：明天10点到海棠区玉兰大饭店5楼502开会\\n   邮件状态：已读\\n   标签：开会\\n\\n2. 日期：2024-06-06\\n   发件人：西门吹雪\\n   主题：速回公司\\n   内容摘要：赶快回来公司\\n   邮件状态：未读\\n   标签：开会\\n\\n3. 日期：2024-06-03\\n   发件人：陆小凤\\n   主题：2024年Q2规划\\n   内容摘要：Q2规划：聚焦核心业务，优化流程，提升效率。加强团队合作，培养人才。探索新市场，拓展业务领域。确保目标达成，实现增长。详细见附件\\n   邮件状态：未读\\n   标签：规划\\n\\n请注意查收。如果您需要阅读详细内容或回复，请告诉我。', role='assistant', tool_calls=None)\n",
      "您最近的3封邮件内容如下：\n",
      "\n",
      "1. 日期：2024-06-07\n",
      "   发件人：西门吹雪\n",
      "   主题：开会\n",
      "   内容摘要：明天10点到海棠区玉兰大饭店5楼502开会\n",
      "   邮件状态：已读\n",
      "   标签：开会\n",
      "\n",
      "2. 日期：2024-06-06\n",
      "   发件人：西门吹雪\n",
      "   主题：速回公司\n",
      "   内容摘要：赶快回来公司\n",
      "   邮件状态：未读\n",
      "   标签：开会\n",
      "\n",
      "3. 日期：2024-06-03\n",
      "   发件人：陆小凤\n",
      "   主题：2024年Q2规划\n",
      "   内容摘要：Q2规划：聚焦核心业务，优化流程，提升效率。加强团队合作，培养人才。探索新市场，拓展业务领域。确保目标达成，实现增长。详细见附件\n",
      "   邮件状态：未读\n",
      "   标签：规划\n",
      "\n",
      "请注意查收。如果您需要阅读详细内容或回复，请告诉我。\n"
     ]
    }
   ],
   "source": [
    "result = run_conversation(messages, functions_list=functions_list, model=\"glm-4\")\n",
    "print(result)"
   ]
  },
  {
   "cell_type": "markdown",
   "id": "0b3c1ad4-ff12-41eb-9d76-336c2185f89b",
   "metadata": {},
   "source": [
    "## 3. 借助大模型实现本地代码编写"
   ]
  },
  {
   "cell_type": "code",
   "execution_count": 51,
   "id": "72d918bb-45cc-46d5-8850-c9380440df78",
   "metadata": {},
   "outputs": [],
   "source": [
    "from zhipuai import ZhipuAI\n",
    "client = ZhipuAI(api_key=api_key)"
   ]
  },
  {
   "cell_type": "code",
   "execution_count": 58,
   "id": "731ec723-65f6-487d-8fb6-25e084de5790",
   "metadata": {
    "tags": []
   },
   "outputs": [],
   "source": [
    "messages=[{\"role\": \"system\", \"content\": \"你是一个python代码编辑器，你的功能是输出python代码，只输出代码即可，请勿输出任何其他内容\"},\n",
    "            {\"role\": \"user\", \"content\": \"请帮我定义一个python函数，输出Hello world字符串，请在函数编写过程中，在函数内部加入中文编写的详细的函数说明文档。\"}\n",
    "  ]\n",
    "response = client.chat.completions.create(\n",
    "                        model=\"glm-4\",\n",
    "                        messages=messages)\n",
    "\n",
    "content = response.choices[0].message.content"
   ]
  },
  {
   "cell_type": "code",
   "execution_count": 59,
   "id": "8551b145-a4a3-43f1-bb4b-c6a3cdbd1188",
   "metadata": {
    "tags": []
   },
   "outputs": [
    {
     "name": "stdout",
     "output_type": "stream",
     "text": [
      "```python\n",
      "def print_hello_world():\n",
      "    \"\"\"\n",
      "    输出\"Hello world\"字符串。\n",
      "\n",
      "    这个函数没有参数，当被调用时会直接打印出\"Hello world\"字符串。\n",
      "    这是一个简单的示例函数，常用于编程初学者的第一个程序示例。\n",
      "\n",
      "    返回值:\n",
      "        无返回值，直接通过print函数输出到控制台。\n",
      "    \"\"\"\n",
      "    print(\"Hello world\")\n",
      "```\n",
      "\n",
      "请注意，根据您的要求，以上代码包含了一个函数定义，以及该函数内部的中文说明文档。当调用`print_hello_world()`函数时，它会输出\"Hello world\"到控制台。\n"
     ]
    }
   ],
   "source": [
    "print(content)"
   ]
  },
  {
   "cell_type": "code",
   "execution_count": 60,
   "id": "4f6aeab7-3a87-4d27-8ab3-e589f0913437",
   "metadata": {
    "tags": []
   },
   "outputs": [],
   "source": [
    "with open('code/helloworld.md', 'a', encoding='utf-8') as f:\n",
    "    f.write(content)"
   ]
  },
  {
   "cell_type": "code",
   "execution_count": 61,
   "id": "02a23ab9-26f6-42e7-abdc-36655a285b7b",
   "metadata": {
    "tags": []
   },
   "outputs": [],
   "source": [
    "def extract_code(s):\n",
    "    \"\"\"\n",
    "    如果输入的字符串s是一个包含Python代码的Markdown格式字符串，提取出代码部分。\n",
    "    否则，返回原字符串。\n",
    "\n",
    "    参数:\n",
    "    s: 输入的字符串。\n",
    "\n",
    "    返回:\n",
    "    提取出的代码部分，或原字符串。\n",
    "    \"\"\"\n",
    "    # 判断字符串是否是Markdown格式\n",
    "    if '```python' in s or 'Python' in s or'PYTHON' in s:\n",
    "        # 找到代码块的开始和结束位置\n",
    "        code_start = s.find('def')\n",
    "        code_end = s.find('```\\n', code_start)\n",
    "        # 提取代码部分\n",
    "        code = s[code_start:code_end]\n",
    "    else:\n",
    "        # 如果字符串不是Markdown格式，返回原字符串\n",
    "        code = s\n",
    "\n",
    "    return code"
   ]
  },
  {
   "cell_type": "code",
   "execution_count": 62,
   "id": "9218b8b6-4bff-49be-92fe-7b41a3005a23",
   "metadata": {
    "tags": []
   },
   "outputs": [
    {
     "data": {
      "text/plain": [
       "'def print_hello_world():\\n    \"\"\"\\n    输出\"Hello world\"字符串。\\n\\n    这个函数没有参数，当被调用时会直接打印出\"Hello world\"字符串。\\n    这是一个简单的示例函数，常用于编程初学者的第一个程序示例。\\n\\n    返回值:\\n        无返回值，直接通过print函数输出到控制台。\\n    \"\"\"\\n    print(\"Hello world\")\\n'"
      ]
     },
     "execution_count": 62,
     "metadata": {},
     "output_type": "execute_result"
    }
   ],
   "source": [
    "code_python = extract_code(content)\n",
    "code_python"
   ]
  },
  {
   "cell_type": "code",
   "execution_count": 63,
   "id": "4c8721a7-7fb4-4948-be98-ee0670cfa62f",
   "metadata": {
    "tags": []
   },
   "outputs": [],
   "source": [
    "with open('code/helloworld.py', 'w', encoding='utf-8') as f:\n",
    "    f.write(code_python)"
   ]
  },
  {
   "cell_type": "code",
   "execution_count": 64,
   "id": "398ae3cd-642d-4504-b717-dec9189c8737",
   "metadata": {
    "tags": []
   },
   "outputs": [
    {
     "name": "stdout",
     "output_type": "stream",
     "text": [
      "def print_hello_world():\n",
      "    \"\"\"\n",
      "    输出\"Hello world\"字符串。\n",
      "\n",
      "    这个函数没有参数，当被调用时会直接打印出\"Hello world\"字符串。\n",
      "    这是一个简单的示例函数，常用于编程初学者的第一个程序示例。\n",
      "\n",
      "    返回值:\n",
      "        无返回值，直接通过print函数输出到控制台。\n",
      "    \"\"\"\n",
      "    print(\"Hello world\")\n",
      "\n"
     ]
    }
   ],
   "source": [
    "with open('code/helloworld.py', encoding='utf-8') as f:\n",
    "    content = f.read()\n",
    "print(content)"
   ]
  },
  {
   "cell_type": "code",
   "execution_count": 65,
   "id": "4a2aafdc-4648-4a49-b8b1-02f42204243a",
   "metadata": {
    "tags": []
   },
   "outputs": [],
   "source": [
    "exec(content)"
   ]
  },
  {
   "cell_type": "code",
   "execution_count": 66,
   "id": "eb18748c-2190-424f-a0c9-98c74ac66dff",
   "metadata": {
    "tags": []
   },
   "outputs": [
    {
     "name": "stdout",
     "output_type": "stream",
     "text": [
      "Hello world\n"
     ]
    }
   ],
   "source": [
    "print_hello_world()"
   ]
  },
  {
   "cell_type": "markdown",
   "id": "6889fff7-9147-49f7-9cf0-bbec2631067b",
   "metadata": {},
   "source": [
    "接下来我们定义一个功能更加完整的extract_function_code函数。该函数可以同时在字符串中提取python代码，并提取该段代码的函数名称，同时对该函数进行同名py文件的本地保存，并在当前环境下执行该代码（定义该函数），同时可以选择打印函数的全部信息或者只是打印函数的名称："
   ]
  },
  {
   "cell_type": "code",
   "execution_count": 67,
   "id": "8743a790-68d5-4a56-ae44-b18af8183bdd",
   "metadata": {
    "tags": []
   },
   "outputs": [],
   "source": [
    "def extract_function_code(s_python, detail=0):\n",
    "    \"\"\"\n",
    "    函数提取函数，同时执行函数内容，可以选择打印函数信息\n",
    "    \"\"\"\n",
    "    def extract_code(s_python):\n",
    "        \"\"\"\n",
    "        如果输入的字符串s是一个包含Python代码的Markdown格式字符串，提取出代码部分。\n",
    "        否则，返回原字符串。\n",
    "\n",
    "        参数:\n",
    "        s: 输入的字符串。\n",
    "\n",
    "        返回:\n",
    "        提取出的代码部分，或原字符串。\n",
    "        \"\"\"\n",
    "        # 判断字符串是否是Markdown格式\n",
    "        if '```python' in s_python or 'Python' in s_python or'PYTHON' in s_python:\n",
    "            # 找到代码块的开始和结束位置\n",
    "            code_start = s_python.find('def')\n",
    "            code_end = s_python.find('```\\n', code_start)\n",
    "            # 提取代码部分\n",
    "            code = s_python[code_start:code_end]\n",
    "        else:\n",
    "            # 如果字符串不是Markdown格式，返回原字符串\n",
    "            code = s_python\n",
    "\n",
    "        return code\n",
    "    \n",
    "    # 提取代码字符串\n",
    "    code = extract_code(s_python)\n",
    "    \n",
    "    # 提取函数名称\n",
    "    match = re.search(r'def (\\w+)', code)\n",
    "    function_name = match.group(1)\n",
    "    \n",
    "    # 将函数写入本地\n",
    "    with open('%s.py' % function_name, 'w', encoding='utf-8') as f:\n",
    "        f.write(code)\n",
    "    \n",
    "    # 执行该函数\n",
    "    try:\n",
    "        exec(code, globals())\n",
    "    except Exception as e:\n",
    "        print(\"An error occurred while executing the code:\")\n",
    "        print(e)\n",
    "    \n",
    "    # 打印函数名称\n",
    "    if detail == 0:\n",
    "        print(\"The function name is:%s\" % function_name)\n",
    "    \n",
    "    if detail == 1:\n",
    "        with open('%s.py' % function_name, encoding='utf-8') as f:\n",
    "            content = f.read()\n",
    "        print(content)"
   ]
  },
  {
   "cell_type": "code",
   "execution_count": 68,
   "id": "b672fd3e-ea68-4ed0-b49e-953e57d70ac3",
   "metadata": {
    "tags": []
   },
   "outputs": [
    {
     "data": {
      "text/plain": [
       "'def print_hello_world():\\n    \"\"\"\\n    输出\"Hello world\"字符串。\\n\\n    这个函数没有参数，当被调用时会直接打印出\"Hello world\"字符串。\\n    这是一个简单的示例函数，常用于编程初学者的第一个程序示例。\\n\\n    返回值:\\n        无返回值，直接通过print函数输出到控制台。\\n    \"\"\"\\n    print(\"Hello world\")\\n'"
      ]
     },
     "execution_count": 68,
     "metadata": {},
     "output_type": "execute_result"
    }
   ],
   "source": [
    "content"
   ]
  },
  {
   "cell_type": "code",
   "execution_count": 69,
   "id": "8fd0609e-3fa5-4ffc-84fe-67f858dfb7b4",
   "metadata": {
    "tags": []
   },
   "outputs": [
    {
     "name": "stdout",
     "output_type": "stream",
     "text": [
      "The function name is:print_hello_world\n"
     ]
    }
   ],
   "source": [
    "extract_function_code(content)"
   ]
  },
  {
   "cell_type": "code",
   "execution_count": 70,
   "id": "64ad3331-b09f-4a2f-a79b-3255ae84794d",
   "metadata": {
    "tags": []
   },
   "outputs": [
    {
     "data": {
      "text/plain": [
       "\u001b[0;31mSignature:\u001b[0m \u001b[0mprint_hello_world\u001b[0m\u001b[0;34m(\u001b[0m\u001b[0;34m)\u001b[0m\u001b[0;34m\u001b[0m\u001b[0;34m\u001b[0m\u001b[0m\n",
       "\u001b[0;31mDocstring:\u001b[0m\n",
       "输出\"Hello world\"字符串。\n",
       "\n",
       "这个函数没有参数，当被调用时会直接打印出\"Hello world\"字符串。\n",
       "这是一个简单的示例函数，常用于编程初学者的第一个程序示例。\n",
       "\n",
       "返回值:\n",
       "    无返回值，直接通过print函数输出到控制台。\n",
       "\u001b[0;31mFile:\u001b[0m      Dynamically generated function. No source code available.\n",
       "\u001b[0;31mType:\u001b[0m      function"
      ]
     },
     "metadata": {},
     "output_type": "display_data"
    }
   ],
   "source": [
    "print_hello_world?"
   ]
  },
  {
   "cell_type": "code",
   "execution_count": 71,
   "id": "fefa3c19-5677-4383-9c48-41bf7ef7772d",
   "metadata": {
    "tags": []
   },
   "outputs": [
    {
     "name": "stdout",
     "output_type": "stream",
     "text": [
      "def print_hello_world():\n",
      "    \"\"\"\n",
      "    输出\"Hello world\"字符串。\n",
      "\n",
      "    这个函数没有参数，当被调用时会直接打印出\"Hello world\"字符串。\n",
      "    这是一个简单的示例函数，常用于编程初学者的第一个程序示例。\n",
      "\n",
      "    返回值:\n",
      "        无返回值，直接通过print函数输出到控制台。\n",
      "    \"\"\"\n",
      "    print(\"Hello world\")\n",
      "\n"
     ]
    }
   ],
   "source": [
    "extract_function_code(content, detail=1)"
   ]
  },
  {
   "cell_type": "markdown",
   "id": "3a2f9fab-d974-4b1e-9e1a-8e19814e360c",
   "metadata": {},
   "source": [
    "## 4. 借助大模型实现统计所有邮件个数的函数 "
   ]
  },
  {
   "cell_type": "code",
   "execution_count": 74,
   "id": "de835012-6a4a-44c5-b53b-9c8e6f49d004",
   "metadata": {
    "tags": []
   },
   "outputs": [],
   "source": [
    "def get_latest_email(userId):\n",
    "    \"\"\"\n",
    "    获取最新的一封邮件\n",
    "    参数:\n",
    "    user_id: 要检索邮件的用户的ID。默认值是'me'，数据格式为字符串类型。\n",
    "\n",
    "    返回:\n",
    "    一个列表，其中每个元素都是一个字典，表示一封邮件。每个字典包含以下键：\n",
    "    'from_userid': 发件人ID。\n",
    "    'date': 邮件的发送日期。\n",
    "    'subject': 邮件的主题。\n",
    "    'snippet': 邮件的摘要（前100个字符）。\n",
    "    \"\"\"\n",
    "    mysql_pw=\"gpt\"\n",
    "    \n",
    "    connection = pymysql.connect(\n",
    "    host='localhost',  # 数据库地址\n",
    "    user='gpt',  # 数据库用户名\n",
    "    passwd=mysql_pw,  # 数据库密码\n",
    "    db='my_mail',  # 数据库名\n",
    "    charset='utf8'  # 字符集选择utf8   \n",
    "    )\n",
    "    sql_query=f\"SELECT * FROM mailbox WHERE userid = '{user_id}' ORDER BY date DESC LIMIT 1\";\n",
    "\n",
    "    try:\n",
    "        with connection.cursor() as cursor:\n",
    "            sql = sql_query\n",
    "            cursor.execute(sql)\n",
    "            results = cursor.fetchall()\n",
    "    finally:\n",
    "        cursor.close()\n",
    "    \n",
    "    column_names = [desc[0] for desc in cursor.description]\n",
    "\n",
    "    # 使用results和column_names创建DataFrame\n",
    "    df = pd.DataFrame(results, columns=column_names)\n",
    "        \n",
    "    return df.to_json(orient = \"records\")  \n",
    "    "
   ]
  },
  {
   "cell_type": "code",
   "execution_count": 75,
   "id": "a8e8b147-84e8-46e8-9eb8-275af4d17341",
   "metadata": {
    "tags": []
   },
   "outputs": [],
   "source": [
    "code = inspect.getsource(get_latest_email)"
   ]
  },
  {
   "cell_type": "code",
   "execution_count": 76,
   "id": "3d85e98a-db7d-4fc3-9bcc-56d1a3c770ec",
   "metadata": {
    "tags": []
   },
   "outputs": [
    {
     "data": {
      "text/plain": [
       "'def get_latest_email(userId):\\n    \"\"\"\\n    获取最新的一封邮件\\n    参数:\\n    user_id: 要检索邮件的用户的ID。默认值是\\'me\\'，数据格式为字符串类型。\\n\\n    返回:\\n    一个列表，其中每个元素都是一个字典，表示一封邮件。每个字典包含以下键：\\n    \\'from_userid\\': 发件人ID。\\n    \\'date\\': 邮件的发送日期。\\n    \\'subject\\': 邮件的主题。\\n    \\'snippet\\': 邮件的摘要（前100个字符）。\\n    \"\"\"\\n    mysql_pw=\"gpt\"\\n    \\n    connection = pymysql.connect(\\n    host=\\'localhost\\',  # 数据库地址\\n    user=\\'gpt\\',  # 数据库用户名\\n    passwd=mysql_pw,  # 数据库密码\\n    db=\\'my_mail\\',  # 数据库名\\n    charset=\\'utf8\\'  # 字符集选择utf8   \\n    )\\n    sql_query=f\"SELECT * FROM mailbox WHERE userid = \\'{user_id}\\' ORDER BY date DESC LIMIT 1\";\\n\\n    try:\\n        with connection.cursor() as cursor:\\n            sql = sql_query\\n            cursor.execute(sql)\\n            results = cursor.fetchall()\\n    finally:\\n        cursor.close()\\n    \\n    column_names = [desc[0] for desc in cursor.description]\\n\\n    # 使用results和column_names创建DataFrame\\n    df = pd.DataFrame(results, columns=column_names)\\n        \\n    return df.to_json(orient = \"records\")  \\n'"
      ]
     },
     "execution_count": 76,
     "metadata": {},
     "output_type": "execute_result"
    }
   ],
   "source": [
    "code"
   ]
  },
  {
   "cell_type": "code",
   "execution_count": 77,
   "id": "cc217cc4-ec70-493c-be15-dab49a6e1a52",
   "metadata": {
    "tags": []
   },
   "outputs": [],
   "source": [
    "# 写入本地\n",
    "with open('%s.py' % 'code/get_latest_email', 'w', encoding='utf-8') as f:\n",
    "    f.write(code)"
   ]
  },
  {
   "cell_type": "code",
   "execution_count": 79,
   "id": "e589e788-24b3-45a4-83f3-162a2db46a97",
   "metadata": {
    "tags": []
   },
   "outputs": [],
   "source": [
    "with open('%s.py' % 'code/get_latest_email', encoding='utf-8') as f:\n",
    "    content = f.read()"
   ]
  },
  {
   "cell_type": "code",
   "execution_count": 81,
   "id": "74d74251-fd43-402c-813c-34d6cd228aed",
   "metadata": {
    "tags": []
   },
   "outputs": [
    {
     "name": "stdout",
     "output_type": "stream",
     "text": [
      "def get_latest_email(userId):\n",
      "    \"\"\"\n",
      "    获取最新的一封邮件\n",
      "    参数:\n",
      "    user_id: 要检索邮件的用户的ID。默认值是'me'，数据格式为字符串类型。\n",
      "\n",
      "    返回:\n",
      "    一个列表，其中每个元素都是一个字典，表示一封邮件。每个字典包含以下键：\n",
      "    'from_userid': 发件人ID。\n",
      "    'date': 邮件的发送日期。\n",
      "    'subject': 邮件的主题。\n",
      "    'snippet': 邮件的摘要（前100个字符）。\n",
      "    \"\"\"\n",
      "    mysql_pw=\"gpt\"\n",
      "    \n",
      "    connection = pymysql.connect(\n",
      "    host='localhost',  # 数据库地址\n",
      "    user='gpt',  # 数据库用户名\n",
      "    passwd=mysql_pw,  # 数据库密码\n",
      "    db='my_mail',  # 数据库名\n",
      "    charset='utf8'  # 字符集选择utf8   \n",
      "    )\n",
      "    sql_query=f\"SELECT * FROM mailbox WHERE userid = '{user_id}' ORDER BY date DESC LIMIT 1\";\n",
      "\n",
      "    try:\n",
      "        with connection.cursor() as cursor:\n",
      "            sql = sql_query\n",
      "            cursor.execute(sql)\n",
      "            results = cursor.fetchall()\n",
      "    finally:\n",
      "        cursor.close()\n",
      "    \n",
      "    column_names = [desc[0] for desc in cursor.description]\n",
      "\n",
      "    # 使用results和column_names创建DataFrame\n",
      "    df = pd.DataFrame(results, columns=column_names)\n",
      "        \n",
      "    return df.to_json(orient = \"records\")  \n",
      "\n"
     ]
    }
   ],
   "source": [
    "print(content)"
   ]
  },
  {
   "cell_type": "markdown",
   "id": "7e2b4cee-bd83-4e7f-add8-673b470bf9dc",
   "metadata": {},
   "source": [
    "接下来是具体的Few-shot提示过程："
   ]
  },
  {
   "cell_type": "code",
   "execution_count": 99,
   "id": "07d69331-bb7b-4aa0-bcde-ee6b258a106c",
   "metadata": {
    "tags": []
   },
   "outputs": [
    {
     "data": {
      "text/plain": [
       "'# my_mail数据字典：my_mail数据库数据字典\\n\\n本数据字典记录了my_mail数据库中各张数据表的基本情况。\\n我的my_mail中\\nhost=\\'localhost\\',\\nuser=\\'gpt\\',\\npasswd=\"gpt\",\\ndb=\\'my_mail\\'\\n\\n## 1.mailbox数据表\\n\\n- 基本解释\\n\\n  \\u200b\\t\\tmailbox数据表记录了邮箱里的信息，包含收件人，发件人，发件时间，邮件主题，邮件内容，邮件状态，邮件标签等。\\n\\n- 数据来源\\n\\n  \\u200b\\tmailbox数据集由系统记录，并且校验过相关信息，数据集的准确性和可信度都非常高。\\n\\n- 各字段说明\\n\\n| Column Name | Description | Value Range | Value Explanation | Type |\\n|-------------|-------------|-------------|-------------------|------|\\n| userid | 收件人 |              | 由字符串组成的 | VARCHAR(255) |\\n| from_userid | 发件人 |  | 由字符串组成 | VARCHAR(255) |\\n| date | 发邮件的时间 |  | 日期格式  | VARCHAR(255) |\\n| subject | 邮件主题 |  | 由字符串组成 | VARCHAR(255) |\\n| snippet | 邮件内容 | | 由字符串组成 | VARCHAR(255) |\\n| status | 邮件状态 | 已读，未读 | 已读，未读 | VARCHAR(255) |\\n| label | 邮件标签 |  | 由字符串组成| VARCHAR(255) |'"
      ]
     },
     "execution_count": 99,
     "metadata": {},
     "output_type": "execute_result"
    }
   ],
   "source": [
    "# 打开并读取Markdown文件\n",
    "with open('/root/autodl-tmp/面向目标架构落地/data/my_mail数据字典.md', 'r', encoding='utf-8') as f:\n",
    "    md_content = f.read()\n",
    "    \n",
    "md_content"
   ]
  },
  {
   "cell_type": "code",
   "execution_count": 92,
   "id": "a1716357-e124-4978-ad74-e341d34f1302",
   "metadata": {
    "tags": []
   },
   "outputs": [],
   "source": [
    "user_example_content = \"请帮我编写一个python函数，用于查看我的mailbox邮箱中最后一封邮件信息，函数要求如下：\\\n",
    "                        1.函数参数userId，userId是字符串参数，默认情况下取值为'me'，表示查看我的邮件；\\\n",
    "                        2.函数返回结果是一个包含最后一封邮件信息的对象，返回结果本身必须是一个json格式对象；\\\n",
    "                        3.请将全部功能封装在一个函数内；\\\n",
    "                        4.请在函数编写过程中，在函数内部加入中文编写的详细的函数说明文档，用于说明函数功能、函数参数情况以及函数返回结果等信息；\""
   ]
  },
  {
   "cell_type": "code",
   "execution_count": 93,
   "id": "720c2b8b-da29-41cb-b332-1ac2c6aac787",
   "metadata": {
    "tags": []
   },
   "outputs": [],
   "source": [
    "with open('%s.py' % 'code/get_latest_email', encoding='utf-8') as f:\n",
    "    assistant_example_content = f.read()"
   ]
  },
  {
   "cell_type": "code",
   "execution_count": 94,
   "id": "04f1b66b-9aec-4170-999a-c615b38f723b",
   "metadata": {
    "tags": []
   },
   "outputs": [
    {
     "name": "stdout",
     "output_type": "stream",
     "text": [
      "def get_latest_email(userId):\n",
      "    \"\"\"\n",
      "    获取最新的一封邮件\n",
      "    参数:\n",
      "    user_id: 要检索邮件的用户的ID。默认值是'me'，数据格式为字符串类型。\n",
      "\n",
      "    返回:\n",
      "    一个列表，其中每个元素都是一个字典，表示一封邮件。每个字典包含以下键：\n",
      "    'from_userid': 发件人ID。\n",
      "    'date': 邮件的发送日期。\n",
      "    'subject': 邮件的主题。\n",
      "    'snippet': 邮件的摘要（前100个字符）。\n",
      "    \"\"\"\n",
      "    mysql_pw=\"gpt\"\n",
      "    \n",
      "    connection = pymysql.connect(\n",
      "    host='localhost',  # 数据库地址\n",
      "    user='gpt',  # 数据库用户名\n",
      "    passwd=mysql_pw,  # 数据库密码\n",
      "    db='my_mail',  # 数据库名\n",
      "    charset='utf8'  # 字符集选择utf8   \n",
      "    )\n",
      "    sql_query=f\"SELECT * FROM mailbox WHERE userid = '{user_id}' ORDER BY date DESC LIMIT 1\";\n",
      "\n",
      "    try:\n",
      "        with connection.cursor() as cursor:\n",
      "            sql = sql_query\n",
      "            cursor.execute(sql)\n",
      "            results = cursor.fetchall()\n",
      "    finally:\n",
      "        cursor.close()\n",
      "    \n",
      "    column_names = [desc[0] for desc in cursor.description]\n",
      "\n",
      "    # 使用results和column_names创建DataFrame\n",
      "    df = pd.DataFrame(results, columns=column_names)\n",
      "        \n",
      "    return df.to_json(orient = \"records\")  \n",
      "\n"
     ]
    }
   ],
   "source": [
    "print(assistant_example_content)"
   ]
  },
  {
   "cell_type": "code",
   "execution_count": 95,
   "id": "341f0b02-e32e-4bcf-b713-0fc859f6f64d",
   "metadata": {
    "tags": []
   },
   "outputs": [],
   "source": [
    "user_content = \"请帮我编写一个python函数，用于查看我的mailbox邮箱中总共有多少封邮件，函数要求如下：\\\n",
    "                1.函数参数userId，userId是字符串参数，默认情况下取值为'me'，表示查看我的邮件；\\\n",
    "                2.函数返回结果是当前邮件总数，返回结果本身必须是一个json格式对象；\\\n",
    "                3.请将全部功能封装在一个函数内；\\\n",
    "                4.请在函数编写过程中，在函数内部加入中文编写的详细的函数说明文档，用于说明函数功能、函数参数情况以及函数返回结果等信息；\""
   ]
  },
  {
   "cell_type": "code",
   "execution_count": 114,
   "id": "45e0d783-d4eb-4295-8da2-7e9e379dca9e",
   "metadata": {
    "tags": []
   },
   "outputs": [],
   "source": [
    "## 2个以上 one-shot few-shot 2个或者以上\n",
    "messages=[{\"role\": \"system\", \"content\": md_content},\n",
    "          {\"role\": \"user\", \"name\":\"example_user\", \"content\": user_example_content},\n",
    "          {\"role\": \"assistant\", \"name\":\"example_assistant\", \"content\": assistant_example_content},\n",
    "          {\"role\": \"user\", \"name\":\"example_user\", \"content\": user_content}]"
   ]
  },
  {
   "cell_type": "code",
   "execution_count": 115,
   "id": "2a4554f1-8ad7-46eb-b9b6-1e44cb22547b",
   "metadata": {
    "tags": []
   },
   "outputs": [],
   "source": [
    "response = client.chat.completions.create(\n",
    "                        model=\"glm-4\",\n",
    "                        messages=messages)\n",
    "\n",
    "content = response.choices[0].message.content"
   ]
  },
  {
   "cell_type": "code",
   "execution_count": 116,
   "id": "b7c3d1f9-cab1-4b65-9fcb-298902dbd148",
   "metadata": {
    "tags": []
   },
   "outputs": [
    {
     "name": "stdout",
     "output_type": "stream",
     "text": [
      "下面是一个Python函数，用于查询指定用户邮箱中的邮件总数，并将结果以JSON格式返回：\n",
      "\n",
      "```python\n",
      "import pymysql\n",
      "import json\n",
      "\n",
      "def get_email_count(userId='me'):\n",
      "    \"\"\"\n",
      "    获取指定用户邮箱中的邮件总数。\n",
      "\n",
      "    参数:\n",
      "    userId: 要查询的用户的ID。默认值是'me'，数据格式为字符串类型。\n",
      "\n",
      "    返回:\n",
      "    一个JSON格式对象，包含一个键值对，键为'count'，值为邮件总数。\n",
      "\n",
      "    示例:\n",
      "    {\n",
      "        \"count\": 123\n",
      "    }\n",
      "    \"\"\"\n",
      "\n",
      "    # 数据库连接配置\n",
      "    config = {\n",
      "        'host': 'localhost',\n",
      "        'user': 'gpt',\n",
      "        'passwd': 'gpt',\n",
      "        'db': 'my_mail',\n",
      "        'charset': 'utf8'\n",
      "    }\n",
      "\n",
      "    # 建立数据库连接\n",
      "    try:\n",
      "        connection = pymysql.connect(**config)\n",
      "        with connection.cursor() as cursor:\n",
      "            # 查询邮件总数\n",
      "            sql = f\"SELECT COUNT(*) FROM mailbox WHERE userid = '{userId}'\"\n",
      "            cursor.execute(sql)\n",
      "            result = cursor.fetchone()\n",
      "            email_count = result[0] if result else 0\n",
      "\n",
      "            # 将结果转换为JSON格式\n",
      "            return json.dumps({'count': email_count})\n",
      "    except pymysql.MySQLError as e:\n",
      "        print(f\"数据库操作出错: {e}\")\n",
      "        return json.dumps({'error': str(e)})\n",
      "    finally:\n",
      "        if connection:\n",
      "            connection.close()\n",
      "\n",
      "# 示例调用\n",
      "# print(get_email_count('me'))\n",
      "```\n",
      "\n",
      "请注意，上述代码中使用了`pymysql`库来连接MySQL数据库，并且默认密码为'gpt'，这显然是不安全的。在实际使用中，你应该从环境变量或配置文件中获取密码，并确保安全地处理数据库连接。\n",
      "\n",
      "在调用函数之前，请确保你已经安装了`pymysql`库，可以通过以下命令安装：\n",
      "\n",
      "```bash\n",
      "pip install pymysql\n",
      "```\n",
      "\n",
      "此外，上述代码假设你已经有了`my_mail`数据库和`mailbox`数据表，并且数据表中有对应的字段和数据。如果这些假设不成立，请根据实际情况修改代码。\n"
     ]
    }
   ],
   "source": [
    "print(content)"
   ]
  },
  {
   "cell_type": "code",
   "execution_count": 117,
   "id": "d71c34b9-2b65-4c18-bc87-aefff817497f",
   "metadata": {
    "tags": []
   },
   "outputs": [
    {
     "name": "stdout",
     "output_type": "stream",
     "text": [
      "The function name is:get_email_count\n"
     ]
    }
   ],
   "source": [
    "extract_function_code(content, detail=0)"
   ]
  },
  {
   "cell_type": "code",
   "execution_count": 118,
   "id": "3128543d-86f8-4092-924c-9f75116ba662",
   "metadata": {
    "tags": []
   },
   "outputs": [
    {
     "name": "stdout",
     "output_type": "stream",
     "text": [
      "def get_email_count(userId='me'):\n",
      "    \"\"\"\n",
      "    获取指定用户邮箱中的邮件总数。\n",
      "\n",
      "    参数:\n",
      "    userId: 要查询的用户的ID。默认值是'me'，数据格式为字符串类型。\n",
      "\n",
      "    返回:\n",
      "    一个JSON格式对象，包含一个键值对，键为'count'，值为邮件总数。\n",
      "\n",
      "    示例:\n",
      "    {\n",
      "        \"count\": 123\n",
      "    }\n",
      "    \"\"\"\n",
      "\n",
      "    # 数据库连接配置\n",
      "    config = {\n",
      "        'host': 'localhost',\n",
      "        'user': 'gpt',\n",
      "        'passwd': 'gpt',\n",
      "        'db': 'my_mail',\n",
      "        'charset': 'utf8'\n",
      "    }\n",
      "\n",
      "    # 建立数据库连接\n",
      "    try:\n",
      "        connection = pymysql.connect(**config)\n",
      "        with connection.cursor() as cursor:\n",
      "            # 查询邮件总数\n",
      "            sql = f\"SELECT COUNT(*) FROM mailbox WHERE userid = '{userId}'\"\n",
      "            cursor.execute(sql)\n",
      "            result = cursor.fetchone()\n",
      "            email_count = result[0] if result else 0\n",
      "\n",
      "            # 将结果转换为JSON格式\n",
      "            return json.dumps({'count': email_count})\n",
      "    except pymysql.MySQLError as e:\n",
      "        print(f\"数据库操作出错: {e}\")\n",
      "        return json.dumps({'error': str(e)})\n",
      "    finally:\n",
      "        if connection:\n",
      "            connection.close()\n",
      "\n",
      "# 示例调用\n",
      "# print(get_email_count('me'))\n",
      "\n"
     ]
    }
   ],
   "source": [
    "extract_function_code(content, detail=1)"
   ]
  },
  {
   "cell_type": "code",
   "execution_count": 119,
   "id": "eaf311aa-45d0-4034-96f9-17e8acc7f535",
   "metadata": {
    "tags": []
   },
   "outputs": [
    {
     "data": {
      "text/plain": [
       "\u001b[0;31mSignature:\u001b[0m \u001b[0mget_email_count\u001b[0m\u001b[0;34m(\u001b[0m\u001b[0muserId\u001b[0m\u001b[0;34m=\u001b[0m\u001b[0;34m'me'\u001b[0m\u001b[0;34m)\u001b[0m\u001b[0;34m\u001b[0m\u001b[0;34m\u001b[0m\u001b[0m\n",
       "\u001b[0;31mDocstring:\u001b[0m\n",
       "获取指定用户邮箱中的邮件总数。\n",
       "\n",
       "参数:\n",
       "userId: 要查询的用户的ID。默认值是'me'，数据格式为字符串类型。\n",
       "\n",
       "返回:\n",
       "一个JSON格式对象，包含一个键值对，键为'count'，值为邮件总数。\n",
       "\n",
       "示例:\n",
       "{\n",
       "    \"count\": 123\n",
       "}\n",
       "\u001b[0;31mFile:\u001b[0m      Dynamically generated function. No source code available.\n",
       "\u001b[0;31mType:\u001b[0m      function"
      ]
     },
     "metadata": {},
     "output_type": "display_data"
    }
   ],
   "source": [
    "get_email_count?"
   ]
  },
  {
   "cell_type": "code",
   "execution_count": 120,
   "id": "914b68fa-247c-4581-ba8e-685e31072712",
   "metadata": {
    "tags": []
   },
   "outputs": [
    {
     "data": {
      "text/plain": [
       "'{\"count\": 3}'"
      ]
     },
     "execution_count": 120,
     "metadata": {},
     "output_type": "execute_result"
    }
   ],
   "source": [
    "get_email_count(userId='me')"
   ]
  },
  {
   "cell_type": "markdown",
   "id": "07684584-67bc-461d-bc96-5342807062bf",
   "metadata": {},
   "source": [
    "上面的答案计算正确，我们把这个函数看做就是一个我们项目里的一个方法，专门用来统计某个人一共有多少封邮件的功能。"
   ]
  },
  {
   "cell_type": "markdown",
   "id": "90bdc1aa-3870-4397-a53e-d5c627acf6d5",
   "metadata": {},
   "source": [
    "接下来我们看一下大模型自动生成的这个外部函数，能不能被正常调用。"
   ]
  },
  {
   "cell_type": "code",
   "execution_count": 121,
   "id": "705c0f2f-cda0-4759-a09c-95e8d9db1e75",
   "metadata": {
    "tags": []
   },
   "outputs": [],
   "source": [
    "functions_list = [get_email_count]"
   ]
  },
  {
   "cell_type": "code",
   "execution_count": 122,
   "id": "ef49b556-06f9-42c0-8ea0-a634785cb4bb",
   "metadata": {
    "tags": []
   },
   "outputs": [
    {
     "data": {
      "text/plain": [
       "[{'type': 'function',\n",
       "  'function': {'name': 'get_email_count',\n",
       "   'description': '获取指定用户邮箱中的邮件总数。',\n",
       "   'parameters': {'type': 'object',\n",
       "    'properties': {'userId': {'type': 'string',\n",
       "      'description': \"要查询的用户的ID。默认值是'me'。\",\n",
       "      'default': 'me'}},\n",
       "    'required': ['userId'],\n",
       "    'additionalProperties': False}}}]"
      ]
     },
     "execution_count": 122,
     "metadata": {},
     "output_type": "execute_result"
    }
   ],
   "source": [
    "functions = auto_functions(functions_list)\n",
    "functions"
   ]
  },
  {
   "cell_type": "code",
   "execution_count": 124,
   "id": "9060610f-7505-4a67-ba8e-6a63d3a3a5c5",
   "metadata": {
    "tags": []
   },
   "outputs": [],
   "source": [
    "def chat_with_model(functions_list=None, \n",
    "                    prompt=\"你好\", \n",
    "                    model=\"glm-4\", \n",
    "                    system_message=[{\"role\": \"system\", \"content\": \"你是小智助手。\"}]):\n",
    "    \n",
    "    messages = system_message\n",
    "    messages.append({\"role\": \"user\", \"content\": prompt})\n",
    "    \n",
    "    while True:           \n",
    "        answer = run_conversation(messages=messages, \n",
    "                                    functions_list=functions_list, \n",
    "                                    model=model)\n",
    "        \n",
    "        print(f\"智能助手回答: {answer}\")\n",
    "        \n",
    "        \n",
    "        # 询问用户是否还有其他问题\n",
    "        user_input = input(\"您还有其他问题吗？(输入退出以结束对话): \")\n",
    "        if user_input == \"退出\":\n",
    "            break\n",
    "\n",
    "        # 记录用户回答\n",
    "        messages.append({\"role\": \"user\", \"content\": user_input})"
   ]
  },
  {
   "cell_type": "code",
   "execution_count": 125,
   "id": "8c0a898e-1fab-4d28-9e8a-096d1bb3ca0e",
   "metadata": {
    "tags": []
   },
   "outputs": [
    {
     "name": "stdout",
     "output_type": "stream",
     "text": [
      "{'get_email_count': <function get_email_count at 0x7ff85236b550>}\n",
      "智能助手回答: ，我是人工智能助手，可以叫我小智🤖，很高兴见到你，欢迎问我任何问题。\n"
     ]
    },
    {
     "name": "stdin",
     "output_type": "stream",
     "text": [
      "您还有其他问题吗？(输入退出以结束对话):  请帮我查询一下，邮箱里我的邮件有多少封？\n"
     ]
    },
    {
     "name": "stdout",
     "output_type": "stream",
     "text": [
      "{'get_email_count': <function get_email_count at 0x7ff85236b550>}\n",
      "智能助手回答: 好的，我可以帮你查询邮件总数。请问你的用户ID是多少呢？\n"
     ]
    },
    {
     "name": "stdin",
     "output_type": "stream",
     "text": [
      "您还有其他问题吗？(输入退出以结束对话):  me\n"
     ]
    },
    {
     "name": "stdout",
     "output_type": "stream",
     "text": [
      "{'get_email_count': <function get_email_count at 0x7ff85236b550>}\n",
      "CompletionMessage(content='您邮箱里的邮件总数是3封。', role='assistant', tool_calls=None)\n",
      "智能助手回答: 您邮箱里的邮件总数是3封。\n"
     ]
    },
    {
     "name": "stdin",
     "output_type": "stream",
     "text": [
      "您还有其他问题吗？(输入退出以结束对话):  退出\n"
     ]
    }
   ],
   "source": [
    "chat_with_model(functions_list=functions_list)"
   ]
  },
  {
   "cell_type": "markdown",
   "id": "8c3f368b-7426-405f-8905-5341eb353dda",
   "metadata": {},
   "source": [
    "至此，我们就完成了统计邮件总数的函数编写。当前外部函数编写的效率在extract_function_code函数加持下已经非常高了，我们只需要少量的人工来编写prompt、并围绕新函数进行测试，即可完成外部函数的编写。"
   ]
  },
  {
   "cell_type": "markdown",
   "id": "c08c0321-6446-400f-8643-18059e570183",
   "metadata": {},
   "source": [
    "&emsp;&emsp;但是，大家有没有想过，当前AI应用的开发流程其实还可以更加高效一些——面对大量潜在的未知用户需求（比如现在我想查看下邮箱里是否有陆小凤发来的未读邮件），我们或许可以借助大语言模型，即时将用户的需求翻译成外部函数创建的prompt，然后即时创建外部函数加入到Chat模型中来实时更新Chat模型能力，并最终提供更加完善的解决方案。这其实是一种更高级的自动化形式——大模型不仅可以编写功能实现的代码，而且需求到功能的过程也可以由大模型自己来进行总结。而若能做到这一点，此时这个产品的功能就相当于是可以实现自生长（根据用户的需求实时成长），毫无疑问，这样的一个开发过程，才更加贴近我们想象中的智能化开发过程。"
   ]
  },
  {
   "cell_type": "markdown",
   "id": "407be49e-7a49-4cec-8504-74b9e001c599",
   "metadata": {
    "tags": []
   },
   "source": [
    "智能化的路上我们一起加油！"
   ]
  },
  {
   "cell_type": "code",
   "execution_count": null,
   "id": "859739b6-cc71-45a4-867e-9dd16bfc3aec",
   "metadata": {},
   "outputs": [],
   "source": []
  }
 ],
 "metadata": {
  "kernelspec": {
   "display_name": "Python 3 (ipykernel)",
   "language": "python",
   "name": "python3"
  },
  "language_info": {
   "codemirror_mode": {
    "name": "ipython",
    "version": 3
   },
   "file_extension": ".py",
   "mimetype": "text/x-python",
   "name": "python",
   "nbconvert_exporter": "python",
   "pygments_lexer": "ipython3",
   "version": "3.8.10"
  }
 },
 "nbformat": 4,
 "nbformat_minor": 5
}
