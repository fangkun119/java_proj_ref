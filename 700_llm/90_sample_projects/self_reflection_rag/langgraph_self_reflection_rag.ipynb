{
 "cells": [
  {
   "cell_type": "markdown",
   "id": "5afcaed0-3d55-4e1f-95d3-c32c751c29d8",
   "metadata": {
    "id": "5afcaed0-3d55-4e1f-95d3-c32c751c29d8"
   },
   "source": [
    "# LangGraph自适应RAG\n",
    "\n",
    "## 1. 介绍\n",
    "\n",
    "自适应 RAG 是一种 RAG 策略，它将 (1) [查询分析](https://blog.langchain.dev/query-construction/) 与 (2) [主动/自我纠正 RAG](https://blog.langchain.dev/agentic-rag-with-langgraph/) 结合起来。\n",
    "\n",
    "这里实现的一个自适应RAG，它能够通过三种途径回答问题：\n",
    "\n",
    "* 无检索，直接回答问题\n",
    "* 网络搜索，回答问题\n",
    "* 查询向量数据库，回答问题\n",
    "\n",
    "它的执行过程如下：\n",
    "\n",
    "* 问题路由：\n",
    "    * vectorstore - 回答知识库所覆盖的问题\n",
    "    * web_search - 回答知识库不能覆盖的问题\n",
    "    * llm_fallback - 用于日常闲聊，以及查询知识库或者web_search但是查不到相关文档时进行fall back，例如“你是谁”\n",
    "* 文档检查：对vectorstore和web_search查到的文档进行相关性检查，如果所有文档都不相关则进行fall back\n",
    "    * vectorstore会fallback到web_search\n",
    "    * web_search会fallback到llm_fallback\n",
    "    * llm_fallbck只回答大模型知道答案的问题（并注明没有查到相关文档），其他问题一律回答“I don't know”\n",
    "* 答案可靠性检查：如果答案与查到的事实不符，出现了大模型杜撰的内容（幻觉），则重新生成答案\n",
    "* 答案有效性检测：如果生成内容不足以回答问题，则重新生成答案"
   ]
  },
  {
   "cell_type": "markdown",
   "id": "259c7e82-0158-4c41-9fdf-59ac84769314",
   "metadata": {},
   "source": [
    "## 2. 准备工作\n",
    "\n",
    "### 2.1 安装依赖"
   ]
  },
  {
   "cell_type": "code",
   "id": "dfa11188-cf97-415f-b2fa-19c1d9713c46",
   "metadata": {
    "ExecuteTime": {
     "end_time": "2024-09-01T10:55:09.081453Z",
     "start_time": "2024-09-01T10:55:09.078121Z"
    }
   },
   "source": [
    "with open('./requirements.txt', 'r') as file:\n",
    "    for line in file:\n",
    "        print(line.strip())"
   ],
   "outputs": [
    {
     "name": "stdout",
     "output_type": "stream",
     "text": [
      "protobuf\n",
      "langchain\n",
      "langchain-openai\n",
      "tiktoken\n",
      "langchainhub\n",
      "chromadb\n",
      "langgraph\n",
      "langchain-community\n",
      "langchain-core\n",
      "zhipuai\n",
      "httpx_sse\n",
      "bs4\n",
      "lxml\n",
      "faiss-cpu\n",
      "streamlit\n",
      "gradio\n",
      "fitz\n",
      "pil-utils\n",
      "PyPDF2\n",
      "langserve\n",
      "pinecone\n",
      "sse_starlette\n",
      "uvicorn\n"
     ]
    }
   ],
   "execution_count": 1
  },
  {
   "cell_type": "code",
   "id": "41a813c5-0139-46af-830b-704235311817",
   "metadata": {
    "ExecuteTime": {
     "end_time": "2024-09-01T10:55:09.092498Z",
     "start_time": "2024-09-01T10:55:09.090724Z"
    }
   },
   "source": "# ! pip3 install -r ./requirements.txt --trusted-host pypi.org --trusted-host pypi.python.org --trusted-host files.pythonhosted.org",
   "outputs": [],
   "execution_count": 2
  },
  {
   "cell_type": "markdown",
   "id": "49671ba5-96f0-4f63-9f2b-a84147bf6cfb",
   "metadata": {},
   "source": [
    "### 2.2 准备API Key\n",
    "\n",
    "获取或购买API Key\n",
    "\n",
    "* ChatGLM: [https://open.bigmodel.cn/](https://open.bigmodel.cn/)\n",
    "* Open AI: [https://api.xty.app/](https://api.xty.app/)\n",
    "* TAVILY: [https://tavily.com/](https://tavily.com/)\n",
    "* KIMI: [https://platform.moonshot.cn/](https://platform.moonshot.cn/)\n",
    "* Langchain (for Langsmith): 见下一小节\n",
    "\n",
    "设置API Key\n",
    "\n",
    "1. 替换`API KEY`的值、然后把下列命令添加到`~/.bash_profile`文件中\n",
    "\n",
    "~~~bash\n",
    "export OPENAI_API_KEY=\"sk-mt...vjl\" \n",
    "export ZHIPU_API_KEY=\"210...w5y\"\n",
    "export TAVILY_API_KEY=\"tvly...E1R\" # free API key with 1000 requests \n",
    "export LANGCHAIN_API_KEY=\"lsv2...599\"\n",
    "export KIMI_API_KEY=\"sk-...h59\"\n",
    "~~~\n",
    "\n",
    "2. 在`shell`中按`Cmd + C`退出jupyter notebook\n",
    "3. 载入`API KEY`然后重启`jupyter nootbook`\n",
    "\n",
    "~~~bash\n",
    "source ~/.bash_profile\n",
    "jupyter notebook \n",
    "~~~\n",
    "\n",
    "详细配置参考[setup.sh](setup.sh)\n",
    "如果使用IDE，则将上述环境变量配置在IDE的运行设置中"
   ]
  },
  {
   "cell_type": "code",
   "id": "95c7cc80-2176-4c93-a650-dd9148e94bb7",
   "metadata": {
    "ExecuteTime": {
     "end_time": "2024-09-01T10:55:09.107741Z",
     "start_time": "2024-09-01T10:55:09.105081Z"
    }
   },
   "source": [
    "# 测试API KEY是否已经在环境变量中 (不包括langsmith相关的）\n",
    "from lib.config.environment import Environment\n",
    "Environment.print_env_vars()"
   ],
   "outputs": [
    {
     "name": "stdout",
     "output_type": "stream",
     "text": [
      "ZHIPU_API_KEY\t: 210ba... \n",
      "OPENAI_API_KEY\t: sk-mt...\n",
      "TAVILY_API_KEY\t: tvly-...\n",
      "LANGCHAIN_API_KEY\t: lsv2_...\n",
      "KIMI_API_KEY\t: sk-Jb...\n",
      "LANGCHAIN_TRACING_V2\t: false\n",
      "LANGCHAIN_PROJECT\t: \n",
      "LANGCHAIN_ENDPOINT\t: \n"
     ]
    }
   ],
   "execution_count": 3
  },
  {
   "cell_type": "markdown",
   "id": "1f34306c-9140-457a-9fca-f9c91ac1cc62",
   "metadata": {},
   "source": [
    "### 2.3 准备langsmith\n",
    "\n",
    "访问[https://smith.langchain.com/](https://smith.langchain.com/)\n",
    "\n",
    "* 注册账号\n",
    "* 点击`Setting`->`API Key`创建API Key，添加到环境变量中（参考上一小节）\n",
    "* 点击`Projects`->`Create New Project`查看创建Project的代码，主要是设置下面的一组环境变量，包括LANGCHAIN_TRACING_V2、LANGCHAIN_ENDPOINT、LANGCHAIN_API_KEY、LANGCHAIN_PROJECT\n",
    "\n",
    "上述方法，会将日志发送到langchain官网，在官网上进入相对应的project，就能查看tracing数据\n",
    "\n",
    "如果不希望、可以使用官方提供的LangSmith Docker，将日志存储在本地，具体参考：[https://docs.smith.langchain.com/self_hosting/installation](https://docs.smith.langchain.com/self_hosting/installation)"
   ]
  },
  {
   "cell_type": "code",
   "id": "eebe2b40-92c6-4106-a98c-82b249c3032c",
   "metadata": {
    "ExecuteTime": {
     "end_time": "2024-09-01T10:55:09.131654Z",
     "start_time": "2024-09-01T10:55:09.129454Z"
    }
   },
   "source": [
    "from lib.config.environment import Environment\n",
    "\n",
    "Environment.setup_up_env_vars(enable_langsmith=False, langsmith_proj='rag_demo_notebook')\n",
    "Environment.print_env_vars()"
   ],
   "outputs": [
    {
     "name": "stdout",
     "output_type": "stream",
     "text": [
      "ZHIPU_API_KEY\t: 210ba... \n",
      "OPENAI_API_KEY\t: sk-mt...\n",
      "TAVILY_API_KEY\t: tvly-...\n",
      "LANGCHAIN_API_KEY\t: lsv2_...\n",
      "KIMI_API_KEY\t: sk-Jb...\n",
      "LANGCHAIN_TRACING_V2\t: false\n",
      "LANGCHAIN_PROJECT\t: rag_demo_notebook\n",
      "LANGCHAIN_ENDPOINT\t: https://api.smith.langchain.com\n"
     ]
    }
   ],
   "execution_count": 4
  },
  {
   "cell_type": "markdown",
   "id": "9ac1c2cd-81fb-40eb-8ba1-e9197800cba6",
   "metadata": {
    "id": "9ac1c2cd-81fb-40eb-8ba1-e9197800cba6"
   },
   "source": [
    "### 2.3 知识库索引\n",
    "\n",
    "需要安装`zhipuai`和`langchain_community`，安装后重启kernel就可以加载了\n",
    "\n",
    "代码参考文档：\n",
    "\n",
    "* ZhipuAIEmbedding：[https://api.python.langchain.com/en/latest/embeddings/langchain_community.embeddings.zhipuai.ZhipuAIEmbeddings.html](https://api.python.langchain.com/en/latest/embeddings/langchain_community.embeddings.zhipuai.ZhipuAIEmbeddings.html#langchain_community.embeddings.zhipuai.ZhipuAIEmbeddings)\n",
    "* Chroma: [https://python.langchain.com/v0.2/docs/integrations/vectorstores/chroma/](https://python.langchain.com/v0.2/docs/integrations/vectorstores/chroma/)\n",
    "* Load Html: [https://python.langchain.com/v0.2/docs/how_to/document_loader_html/](https://python.langchain.com/v0.2/docs/how_to/document_loader_html/)"
   ]
  },
  {
   "cell_type": "code",
   "id": "b224e5ba-50ca-495a-a7fa-0f75a080e03c",
   "metadata": {
    "id": "b224e5ba-50ca-495a-a7fa-0f75a080e03c",
    "ExecuteTime": {
     "end_time": "2024-09-01T10:55:16.814369Z",
     "start_time": "2024-09-01T10:55:09.185052Z"
    }
   },
   "source": [
    "### 建立索引\n",
    "from langchain.text_splitter import RecursiveCharacterTextSplitter\n",
    "from lib.util.llm_utils import EmbeddingUtil\n",
    "\n",
    "# 初始化embedding\n",
    "embd = EmbeddingUtil.getDefaultEmbeddingModel()\n",
    "\n",
    "# 要加载文件的目录\n",
    "file_dir = \"data/file\"\n",
    "\n",
    "from langchain_community.document_loaders import TextLoader\n",
    "txt_files = [\n",
    "    f\"{file_dir}/2023-03-15-prompt-engineering.txt\",\n",
    "    f\"{file_dir}/2023-06-23-agent.txt\",\n",
    "    f\"{file_dir}/2023-10-25-adv-attack-llm.txt\",\n",
    "]\n",
    "docs = [TextLoader(text_file).load() for text_file in txt_files]\n",
    "docs_list = [item for sublist in docs for item in sublist]\n",
    "\n",
    "# 切分\n",
    "text_splitter = RecursiveCharacterTextSplitter.from_tiktoken_encoder(chunk_size=512, chunk_overlap=0)\n",
    "doc_splits = text_splitter.split_documents(docs_list)\n",
    "\n",
    "# 日志\n",
    "print(f\"\\nembedding model: \\n{embd}\")\n",
    "print(f\"\\ndocument chunks: {len(doc_splits)}\")\n",
    "\n",
    "\n",
    "# 加载文件\n",
    "# from langchain_community.document_loaders import WebBaseLoader\n",
    "# loader = WebBaseLoader(\"https://lilianweng.github.io/posts/2023-06-23-agent/\")\n",
    "# docs_list = loader.load()\n",
    "\n",
    "# from langchain_community.document_loaders import BSHTMLLoader\n",
    "# backlog_file_dir=\"../backlog/data/file\"\n",
    "# loader = BSHTMLLoader(file_path=f\"{backlog_file_dir}/2023-03-15-prompt-engineering.html\")\n",
    "# docs_list = loader.load()\n",
    "\n",
    "# from langchain_community.document_loaders import MHTMLLoader\n",
    "# backlog_file_dir=\"../backlog/data/file\"\n",
    "# loader = MHTMLLoader(file_path=f\"{backlog_file_dir}/2023-03-15-prompt-engineering.mhtml\")\n",
    "# docs_list = loader.load()"
   ],
   "outputs": [
    {
     "name": "stdout",
     "output_type": "stream",
     "text": [
      "ZHIPU_API_KEY\t: 210ba... \n",
      "\n",
      "embedding model: \n",
      "client=<zhipuai._client.ZhipuAI object at 0x105b18320> model='embedding-2' api_key='210ba5bda6c6db7b3025b517addf684c.JKB3YnpY6QD1nw5y' dimensions=None\n",
      "\n",
      "document chunks: 62\n"
     ]
    }
   ],
   "execution_count": 5
  },
  {
   "metadata": {
    "ExecuteTime": {
     "end_time": "2024-09-01T10:55:17.329789Z",
     "start_time": "2024-09-01T10:55:16.815535Z"
    }
   },
   "cell_type": "code",
   "source": [
    "from lib.util.vector_store_utils import VectorStoreUtil\n",
    "from lib.util.llm_utils import EmbeddingUtil\n",
    "from lib.config.app_config import Config\n",
    "\n",
    "# 初始化\n",
    "embd = EmbeddingUtil.getDefaultEmbeddingModel()\n",
    "vectorstore_wrapper = VectorStoreUtil.create_default_vectorstore_wrapper()\n",
    "\n",
    "print(f\"embedding model: {embd}\\n\")\n",
    "print(f\"vectorstore wrapper: {vectorstore_wrapper}\\n\")"
   ],
   "id": "a392cecb0578ceda",
   "outputs": [
    {
     "name": "stdout",
     "output_type": "stream",
     "text": [
      "ZHIPU_API_KEY\t: 210ba... \n",
      "ZHIPU_API_KEY\t: 210ba... \n",
      "init FAISS\n",
      "load_chunk: 0\n",
      "init vector store and load document\n",
      "vector store load complete\n",
      "embedding model: client=<zhipuai._client.ZhipuAI object at 0x12e1cc950> model='embedding-2' api_key='210ba5bda6c6db7b3025b517addf684c.JKB3YnpY6QD1nw5y' dimensions=None\n",
      "\n",
      "vectorstore wrapper: <lib.util.vector_store_utils.FAISSWrapper object at 0x12e1ccaa0>\n",
      "\n"
     ]
    }
   ],
   "execution_count": 6
  },
  {
   "metadata": {
    "ExecuteTime": {
     "end_time": "2024-09-01T10:55:17.333179Z",
     "start_time": "2024-09-01T10:55:17.330700Z"
    }
   },
   "cell_type": "code",
   "source": [
    "# 对文档进行embedding，添加到向量数据库，并备份到本地dump文件\n",
    "# vectorstore_wrapper.init_from_docs(docs=doc_splits, embedding=embd)\n",
    "# vectorstore_wrapper.trigger_dump(base_dir=default_vectorstore_dump_base_dir())"
   ],
   "id": "36e2d1dcd26d6a52",
   "outputs": [],
   "execution_count": 7
  },
  {
   "metadata": {
    "ExecuteTime": {
     "end_time": "2024-09-01T10:55:17.341489Z",
     "start_time": "2024-09-01T10:55:17.335380Z"
    }
   },
   "cell_type": "code",
   "source": [
    "# 从dump文件中加载向量数据库\n",
    "vectorstore_wrapper.init_from_dump(base_dir=Config.vectorstore_dump_dir())\n",
    "\n",
    "# 返回langchain object给其它模块使用\n",
    "vectorstore = vectorstore_wrapper.get_vector_store()\n",
    "retriever = vectorstore.as_retriever()\n",
    "retriever"
   ],
   "id": "3d0e3c13b39ed9b4",
   "outputs": [
    {
     "name": "stdout",
     "output_type": "stream",
     "text": [
      "load from data/vector_store/faiss_dump\n",
      "load compete\n"
     ]
    },
    {
     "data": {
      "text/plain": [
       "VectorStoreRetriever(tags=['FAISS', 'ZhipuAIEmbeddings'], vectorstore=<langchain_community.vectorstores.faiss.FAISS object at 0x12e0ad340>)"
      ]
     },
     "execution_count": 8,
     "metadata": {},
     "output_type": "execute_result"
    }
   ],
   "execution_count": 8
  },
  {
   "cell_type": "markdown",
   "id": "0f52b427-750c-40f8-8893-e9caab3afd8d",
   "metadata": {
    "id": "0f52b427-750c-40f8-8893-e9caab3afd8d"
   },
   "source": [
    "## 3 RAG子模块\n",
    "### 3.1 LLM Query意图分析及路由"
   ]
  },
  {
   "cell_type": "markdown",
   "id": "H5CztTqsBOTZ",
   "metadata": {
    "id": "H5CztTqsBOTZ"
   },
   "source": [
    "使用路由器在工具之间进行选择，让大模型根据用户提问来判断使用哪条路由\n",
    "\n",
    "参考文档\n",
    "\n",
    "* ChatGLM用于langchain框架:[https://open.bigmodel.cn/dev/api#langchain_sdk](https://open.bigmodel.cn/dev/api#langchain_sdk)\n",
    "* Langchain tool calling: [https://python.langchain.com/v0.2/docs/how_to/tool_calling/](https://python.langchain.com/v0.2/docs/how_to/tool_calling/)\n"
   ]
  },
  {
   "metadata": {
    "ExecuteTime": {
     "end_time": "2024-09-01T10:55:17.352370Z",
     "start_time": "2024-09-01T10:55:17.342319Z"
    }
   },
   "cell_type": "code",
   "source": [
    "from lib.util.code_utils import CodeUtils\n",
    "from lib.chains.route_question import create_question_route_chain\n",
    "CodeUtils.print_code(create_question_route_chain)"
   ],
   "id": "8f081824d1b2b6b9",
   "outputs": [
    {
     "name": "stdout",
     "output_type": "stream",
     "text": [
      "def create_question_route_chain() -> RunnableSerializable:\n",
      "    # llm with tools\n",
      "    llm = ChatModelUtil.getDefaultChatModel()\n",
      "    structured_llm_router = llm.bind_tools(tools=[web_search, vectorstore])\n",
      "    # prompt template\n",
      "    route_prompt = ChatPromptTemplate(\n",
      "        messages=[\n",
      "            SystemMessage(\n",
      "                content=f\"\"\"You are an expert at routing a user question to one of below target: {vectorstore} or {web_search} or {llm_fallback}.\\n \n",
      "                        The vectorstore contains documents related to agents, prompt engineering, and adversarial attacks. Use the vectorstore for questions on these topics. Use the vectorstore for questions on these topics.\\n\n",
      "                        The llm_fallback is The llm model used for casual conversation.\\n \n",
      "                        \\n\"\"\"),\n",
      "            HumanMessagePromptTemplate.from_template(\"{question}\")\n",
      "        ]\n",
      "    )\n",
      "    # router chain\n",
      "    question_router = route_prompt | structured_llm_router\n",
      "    return question_router\n",
      "\n"
     ]
    }
   ],
   "execution_count": 9
  },
  {
   "cell_type": "code",
   "id": "bYK-e0diGdPf",
   "metadata": {
    "colab": {
     "base_uri": "https://localhost:8080/"
    },
    "id": "bYK-e0diGdPf",
    "outputId": "8b19f0b8-a4aa-4ff9-c967-128de4f20ccf",
    "ExecuteTime": {
     "end_time": "2024-09-01T10:55:17.449878Z",
     "start_time": "2024-09-01T10:55:17.353135Z"
    }
   },
   "source": "question_router_chain = create_question_route_chain()",
   "outputs": [],
   "execution_count": 10
  },
  {
   "cell_type": "code",
   "id": "ea2e71af-56ba-42d9-bcf9-5b314befa21e",
   "metadata": {
    "ExecuteTime": {
     "end_time": "2024-09-01T10:55:19.389709Z",
     "start_time": "2024-09-01T10:55:17.450436Z"
    }
   },
   "source": [
    "response = question_router_chain.invoke({\"question\": \"Who will the Bears draft first in the NFL draft?\"})\n",
    "print(response.additional_kwargs[\"tool_calls\"])"
   ],
   "outputs": [
    {
     "name": "stdout",
     "output_type": "stream",
     "text": [
      "[{'id': 'call_20240901185518e1e3f2efe5194f1e', 'function': {'arguments': '{\"query\": \"Who will the Bears draft first in the NFL draft?\"}', 'name': 'web_search'}, 'type': 'function', 'index': 0}]\n"
     ]
    }
   ],
   "execution_count": 11
  },
  {
   "cell_type": "code",
   "id": "e5a11cd0-3037-4c9c-ae2c-1d4d71922fb0",
   "metadata": {
    "ExecuteTime": {
     "end_time": "2024-09-01T10:55:20.069967Z",
     "start_time": "2024-09-01T10:55:19.391079Z"
    }
   },
   "source": [
    "response = question_router_chain.invoke({\"question\": \"What are the types of agent memory?\"})\n",
    "print(response.additional_kwargs[\"tool_calls\"])"
   ],
   "outputs": [
    {
     "name": "stdout",
     "output_type": "stream",
     "text": [
      "[{'id': 'call_202409011855191b8c82c0cdd04c97', 'function': {'arguments': '{\"query\": \"types of agent memory\"}', 'name': 'vectorstore'}, 'type': 'function', 'index': 0}]\n"
     ]
    }
   ],
   "execution_count": 12
  },
  {
   "cell_type": "code",
   "id": "f6cced5c-b118-4707-b5cf-e5cda15c9a9c",
   "metadata": {
    "ExecuteTime": {
     "end_time": "2024-09-01T10:55:21.794681Z",
     "start_time": "2024-09-01T10:55:20.072366Z"
    }
   },
   "source": [
    "response = question_router_chain.invoke({\"question\": \"Hi how are you?\"})\n",
    "print(\"tool_calls\" in response.additional_kwargs)"
   ],
   "outputs": [
    {
     "name": "stdout",
     "output_type": "stream",
     "text": [
      "False\n"
     ]
    }
   ],
   "execution_count": 13
  },
  {
   "cell_type": "markdown",
   "id": "05B5I-rgk1yO",
   "metadata": {},
   "source": "### 3.2 评价检索到的文档与提问的相关性"
  },
  {
   "metadata": {
    "ExecuteTime": {
     "end_time": "2024-09-01T10:55:21.805995Z",
     "start_time": "2024-09-01T10:55:21.799307Z"
    }
   },
   "cell_type": "code",
   "source": [
    "from lib.util.code_utils import CodeUtils\n",
    "from lib.chains.check_doc import create_doc_relevance_check_chain\n",
    "CodeUtils.print_code(create_doc_relevance_check_chain)"
   ],
   "id": "8d74f05f2bd760be",
   "outputs": [
    {
     "name": "stdout",
     "output_type": "stream",
     "text": [
      "def create_doc_relevance_check_chain() -> RunnableSerializable:\n",
      "    # llm\n",
      "    llm = ChatModelUtil.getDefaultChatModel()\n",
      "\n",
      "    # structure output\n",
      "    structured_llm_grader = llm.with_structured_output(\n",
      "        schema=YesOrNoUtil.YesOrNo, method=\"json_mode\", include_raw=False)\n",
      "\n",
      "    # ensemble chain\n",
      "    grade_prompt = ChatPromptTemplate(\n",
      "        messages=[\n",
      "            SystemMessage(content=f\"\"\"You are a grader assessing relevance of a retrieved-document to a user-question. \n",
      "            If the document contains keyword(s) or semantic meaning related to the user question, \n",
      "            grade it as relevant. \\n \n",
      "            {YesOrNoUtil.json_mode_prompt(yes_means=\"the document is relevant to the question\")}.\"\"\"),\n",
      "            HumanMessagePromptTemplate.from_template(\n",
      "                \"retrieved-document: \\n\\n {document} \\n\\n User question: {question}\")\n",
      "        ]\n",
      "    )\n",
      "    retrieval_grader = grade_prompt | structured_llm_grader\n",
      "    return retrieval_grader\n",
      "\n"
     ]
    }
   ],
   "execution_count": 14
  },
  {
   "cell_type": "code",
   "id": "oaLWNbWxBgjE",
   "metadata": {
    "colab": {
     "base_uri": "https://localhost:8080/"
    },
    "id": "oaLWNbWxBgjE",
    "outputId": "8a1a0330-d0c9-4ff8-d0a0-5a8909544de9",
    "ExecuteTime": {
     "end_time": "2024-09-01T10:55:21.865302Z",
     "start_time": "2024-09-01T10:55:21.807141Z"
    }
   },
   "source": "doc_relevance_check_chain = create_doc_relevance_check_chain()",
   "outputs": [],
   "execution_count": 15
  },
  {
   "cell_type": "code",
   "id": "4edae639ec8ab105",
   "metadata": {
    "ExecuteTime": {
     "end_time": "2024-09-01T10:55:22.145351Z",
     "start_time": "2024-09-01T10:55:21.866019Z"
    }
   },
   "source": [
    "question = \"introduce prompt engineering\"\n",
    "docs = retriever.invoke(question)\n",
    "doc_txt = docs[0].page_content\n",
    "f'{doc_txt[:500]}...'"
   ],
   "outputs": [
    {
     "data": {
      "text/plain": [
       "'Prompt Engineering\\n\\nDate: March 15, 2023 | Estimated Reading Time: 21 min | Author: Lilian Weng\\nTable of Contents\\nPrompt Engineering, also known as In-Context Prompting, refers to methods for how to communicate with LLM to steer its behavior for desired outcomes without updating the model weights. It is an empirical science and the effect of prompt engineering methods can vary a lot among models, thus requiring heavy experimentation and heuristics.\\n\\nThis post only focuses on prompt engineering f...'"
      ]
     },
     "execution_count": 16,
     "metadata": {},
     "output_type": "execute_result"
    }
   ],
   "execution_count": 16
  },
  {
   "cell_type": "code",
   "id": "6d86547e-a20a-413f-a919-57ddb0b6bb65",
   "metadata": {
    "ExecuteTime": {
     "end_time": "2024-09-01T10:55:23.375129Z",
     "start_time": "2024-09-01T10:55:22.146002Z"
    }
   },
   "source": [
    "response = doc_relevance_check_chain.invoke({\"question\": \"introduce prompt engineering\", \"document\": doc_txt})\n",
    "print(response)"
   ],
   "outputs": [
    {
     "name": "stdout",
     "output_type": "stream",
     "text": [
      "binary_score='yes'\n"
     ]
    }
   ],
   "execution_count": 17
  },
  {
   "cell_type": "code",
   "id": "5551bbbd-8ec6-42b1-a524-d3cdee4c4508",
   "metadata": {
    "ExecuteTime": {
     "end_time": "2024-09-01T10:55:24.195027Z",
     "start_time": "2024-09-01T10:55:23.376016Z"
    }
   },
   "source": [
    "response = doc_relevance_check_chain.invoke({\"question\": \"types of ice cream\", \"document\": doc_txt})\n",
    "print(response)"
   ],
   "outputs": [
    {
     "name": "stdout",
     "output_type": "stream",
     "text": [
      "binary_score='no'\n"
     ]
    }
   ],
   "execution_count": 18
  },
  {
   "cell_type": "markdown",
   "id": "D43a7vM4EElX",
   "metadata": {
    "id": "D43a7vM4EElX"
   },
   "source": [
    "### 3.3 让LLM回答问题: (1) RAG Chain\n",
    "\n",
    "当拿到向量数据库中的Document，以及用户提问后，就可以用它们来回答问题"
   ]
  },
  {
   "cell_type": "code",
   "id": "BTIUdjRMEq_h",
   "metadata": {
    "colab": {
     "base_uri": "https://localhost:8080/"
    },
    "id": "BTIUdjRMEq_h",
    "outputId": "a7288c38-9dad-434f-a7d6-07b7326eb3e3",
    "ExecuteTime": {
     "end_time": "2024-09-01T10:55:24.202034Z",
     "start_time": "2024-09-01T10:55:24.196567Z"
    }
   },
   "source": [
    "from lib.chains.answer_question import create_answer_with_doc_chain\n",
    "CodeUtils.print_code(create_answer_with_doc_chain)"
   ],
   "outputs": [
    {
     "name": "stdout",
     "output_type": "stream",
     "text": [
      "def create_answer_with_doc_chain(get_by_session_id: Optional[GetSessionHistoryCallable] = None) -> Runnable:\n",
      "    # llm and background message\n",
      "    llm = ChatModelUtil.getDefaultChatModel()\n",
      "    background_msg = \"\"\"You are an assistant for question-answering tasks. Use the following pieces of \n",
      "            retrieved context to answer the question. \\n Answer 'I don't know' if you do not have information to \n",
      "            answer this question. \\n Use three sentences maximum and keep the answer concise if you have information \n",
      "            to answer this question.\"\"\"\n",
      "    if get_by_session_id is None:\n",
      "        # rag without chat history, require upstream input has below fields\n",
      "        # * question  : user question\n",
      "        # * documents : documents retrieved for answer this question\n",
      "        non_history_template: Callable[[Any], ChatPromptTemplate] \\\n",
      "                = lambda upstream_input: ChatPromptTemplate.from_messages([\n",
      "                    SystemMessage(content=background_msg),\n",
      "                    HumanMessage(\n",
      "                        f\"Question: {upstream_input['question']} \\nAnswer: \",\n",
      "                        additional_kwargs={\"documents\": upstream_input[\"documents\"]},\n",
      "                    )\n",
      "                ])\n",
      "        return non_history_template | llm | StrOutputParser()\n",
      "    else:\n",
      "        # rag with chat history, require upstream message provides below fields\n",
      "        # * question  : user question\n",
      "        # * documents : documents retrieved for answer this question\n",
      "        # https://api.python.langchain.com/en/latest/runnables/langchain_core.runnables.history.RunnableWithMessageHistory.html\n",
      "        history_template: Callable[[Any], ChatPromptTemplate] \\\n",
      "            = lambda upstream_input: ChatPromptTemplate.from_messages([\n",
      "                SystemMessage(content=background_msg),\n",
      "                MessagesPlaceholder(variable_name=\"history\"),\n",
      "                HumanMessage(\n",
      "                    f\"Question: {upstream_input['question']} \\nAnswer: \",\n",
      "                    additional_kwargs={\"documents\": upstream_input[\"documents\"]},\n",
      "                )\n",
      "            ]\n",
      "        )\n",
      "        return RunnableWithMessageHistory(\n",
      "            history_template | llm | StrOutputParser(),\n",
      "            get_by_session_id,\n",
      "            input_messages_key=\"question\",\n",
      "            history_messages_key=\"history\",\n",
      "        )\n",
      "\n"
     ]
    }
   ],
   "execution_count": 19
  },
  {
   "metadata": {
    "ExecuteTime": {
     "end_time": "2024-09-01T10:55:24.259470Z",
     "start_time": "2024-09-01T10:55:24.203578Z"
    }
   },
   "cell_type": "code",
   "source": "answer_with_doc_chain = create_answer_with_doc_chain(get_by_session_id = None)",
   "id": "e47d866bf0d14f2f",
   "outputs": [],
   "execution_count": 20
  },
  {
   "metadata": {
    "ExecuteTime": {
     "end_time": "2024-09-01T10:55:26.257709Z",
     "start_time": "2024-09-01T10:55:24.260277Z"
    }
   },
   "cell_type": "code",
   "source": [
    "# test: an answer that covered by document\n",
    "question = \"introduce prompt engineering\"\n",
    "generation = answer_with_doc_chain.invoke({\"documents\": docs, \"question\": question})\n",
    "print(generation)"
   ],
   "id": "a8863311fee557a6",
   "outputs": [
    {
     "name": "stdout",
     "output_type": "stream",
     "text": [
      "Prompt engineering is the practice of crafting and fine-tuning prompts to guide AI models like language generators to produce desired outputs. It involves understanding the capabilities and limitations of AI to optimize the way users communicate with these systems. This technique is crucial for improving the relevance and quality of the responses generated by AI.\n"
     ]
    }
   ],
   "execution_count": 21
  },
  {
   "metadata": {
    "ExecuteTime": {
     "end_time": "2024-09-01T10:55:27.073003Z",
     "start_time": "2024-09-01T10:55:26.258813Z"
    }
   },
   "cell_type": "code",
   "source": [
    "# test: an answer that model does not know\n",
    "question = \"What is the job of the person named RJXACAGEDSG LAMUX?\"\n",
    "generation = answer_with_doc_chain.invoke({\"documents\": docs, \"question\": question})\n",
    "print(generation)"
   ],
   "id": "39c35275c3c1a600",
   "outputs": [
    {
     "name": "stdout",
     "output_type": "stream",
     "text": [
      "I don't know.\n"
     ]
    }
   ],
   "execution_count": 22
  },
  {
   "metadata": {},
   "cell_type": "markdown",
   "source": "### 3.4 让LLM回答问题: (2) Non RAG Chain",
   "id": "9c229c42d4b0625a"
  },
  {
   "cell_type": "code",
   "id": "bc000a7d-84b6-4eb2-88ad-65cc62a44431",
   "metadata": {
    "colab": {
     "base_uri": "https://localhost:8080/"
    },
    "id": "bc000a7d-84b6-4eb2-88ad-65cc62a44431",
    "outputId": "55ddd812-6626-4444-e5f4-53a9911c4d4c",
    "ExecuteTime": {
     "end_time": "2024-09-01T10:55:27.076943Z",
     "start_time": "2024-09-01T10:55:27.073975Z"
    }
   },
   "source": [
    "from lib.chains.answer_question import create_answer_with_llm_chain\n",
    "CodeUtils.print_code(create_answer_with_llm_chain)"
   ],
   "outputs": [
    {
     "name": "stdout",
     "output_type": "stream",
     "text": [
      "def create_answer_with_llm_chain(get_by_session_id: Optional[GetSessionHistoryCallable] = None) -> Runnable:\n",
      "    # llm and background message\n",
      "    llm = ChatModelUtil.getDefaultChatModel()\n",
      "    background_msg = \"\"\"You are an assistant for question-answering tasks. Answer the question based upon your \n",
      "    knowledge. Use three sentences maximum and keep the answer concise.\"\"\"\n",
      "    if get_by_session_id is None:\n",
      "        # answer question without chat history, require upstream message provides below fields\n",
      "        # * question  : user question\n",
      "        non_history_template: Callable[[Any], ChatPromptTemplate] \\\n",
      "            = lambda x: ChatPromptTemplate.from_messages([\n",
      "                SystemMessage(content=background_msg),\n",
      "                HumanMessage(f\"Question: {x['question']} \\nAnswer: \")\n",
      "            ]\n",
      "        )\n",
      "        return non_history_template | llm | StrOutputParser()\n",
      "    else:\n",
      "        # https://api.python.langchain.com/en/latest/runnables/langchain_core.runnables.history.RunnableWithMessageHistory.html\n",
      "        # answer question with chat history, require upstream message provides below fields\n",
      "        # * question : user question\n",
      "        # * history  : chat history\n",
      "        history_template: Callable[[Any], ChatPromptTemplate] \\\n",
      "            = lambda x: ChatPromptTemplate.from_messages([\n",
      "                SystemMessage(content=background_msg),\n",
      "                HumanMessage(f\"Question: {x['question']} \\nAnswer: \")\n",
      "            ]\n",
      "        )\n",
      "        return RunnableWithMessageHistory(\n",
      "            history_template | llm | StrOutputParser(),\n",
      "            get_by_session_id,\n",
      "            input_messages_key=\"question\",\n",
      "            history_messages_key=\"history\",\n",
      "        )\n",
      "\n"
     ]
    }
   ],
   "execution_count": 23
  },
  {
   "metadata": {
    "ExecuteTime": {
     "end_time": "2024-09-01T10:55:27.126146Z",
     "start_time": "2024-09-01T10:55:27.085964Z"
    }
   },
   "cell_type": "code",
   "source": "answer_with_llm_chain = create_answer_with_llm_chain(get_by_session_id=None)",
   "id": "f943188e66c2cb29",
   "outputs": [],
   "execution_count": 24
  },
  {
   "metadata": {
    "ExecuteTime": {
     "end_time": "2024-09-01T10:55:28.344174Z",
     "start_time": "2024-09-01T10:55:27.126789Z"
    }
   },
   "cell_type": "code",
   "source": [
    "question = \"Who are you?\"\n",
    "generation = answer_with_llm_chain.invoke({\"question\": question})\n",
    "print(generation)"
   ],
   "id": "91e6b2b0f2f0caad",
   "outputs": [
    {
     "name": "stdout",
     "output_type": "stream",
     "text": [
      "I am an AI assistant designed to provide information and answer questions based on the knowledge programmed into me. I don't have personal experiences or consciousness. How can I assist you today?\n"
     ]
    }
   ],
   "execution_count": 25
  },
  {
   "cell_type": "markdown",
   "id": "LiuxmvHfx6sX",
   "metadata": {
    "id": "LiuxmvHfx6sX"
   },
   "source": "### 3.5 幻觉判定"
  },
  {
   "cell_type": "code",
   "id": "y0msuR2DHQkY",
   "metadata": {
    "colab": {
     "base_uri": "https://localhost:8080/"
    },
    "id": "y0msuR2DHQkY",
    "outputId": "8e58d1d6-0ba5-4dc3-9fd5-f51a5a15cf35",
    "ExecuteTime": {
     "end_time": "2024-09-01T10:55:28.348416Z",
     "start_time": "2024-09-01T10:55:28.344972Z"
    }
   },
   "source": [
    "from lib.chains.check_answer import create_trustworthiness_check_chain\n",
    "CodeUtils.print_code(create_trustworthiness_check_chain)"
   ],
   "outputs": [
    {
     "name": "stdout",
     "output_type": "stream",
     "text": [
      "def create_trustworthiness_check_chain() -> RunnableSerializable:\n",
      "    # llm\n",
      "    llm = ChatModelUtil.getDefaultChatModel()\n",
      "    structured_llm_grader = llm.with_structured_output(YesOrNoUtil.YesOrNo, method='json_mode', include_raw=False)\n",
      "    # prompt\n",
      "    hallucination_prompt = ChatPromptTemplate.from_messages(\n",
      "        [\n",
      "            SystemMessage(content=f\"\"\"You are a grader assessing whether all content in LLM-generation is grounded in the set-of-facts and the information within this set of facts is sufficiently robust to substantiate. \\n \n",
      "            {YesOrNoUtil.json_mode_prompt(\n",
      "                yes_means=\"all content in LLM-generation is grounded in the set-of-facts and the information within this set-of-facts is sufficiently robust to substantiate.\")}\"\"\"),\n",
      "            HumanMessagePromptTemplate.from_template(\n",
      "                \"LLM-generation: \\n\\n {generation} \\n\\n\"\n",
      "                \"set-of-facts: \\n\\n {documents}\"),\n",
      "        ]\n",
      "    )\n",
      "    chain = hallucination_prompt | structured_llm_grader\n",
      "    return chain\n",
      "\n"
     ]
    }
   ],
   "execution_count": 26
  },
  {
   "metadata": {
    "ExecuteTime": {
     "end_time": "2024-09-01T10:55:28.385359Z",
     "start_time": "2024-09-01T10:55:28.349242Z"
    }
   },
   "cell_type": "code",
   "source": "trustworthiness_check_chain = create_trustworthiness_check_chain()",
   "id": "297f4723e51521f2",
   "outputs": [],
   "execution_count": 27
  },
  {
   "metadata": {
    "ExecuteTime": {
     "end_time": "2024-09-01T10:55:29.972165Z",
     "start_time": "2024-09-01T10:55:28.385884Z"
    }
   },
   "cell_type": "code",
   "source": [
    "# test 1: an answer related with the documents\n",
    "response = trustworthiness_check_chain.invoke({\"documents\": docs, \"generation\": \"Prompt engineering is the process of crafting and fine-tuning natural language prompts to guide AI models like GPT-3 towards generating desired outputs. It involves understanding the model's capabilities and limitations to elicit more accurate, relevant, and contextually appropriate responses. This technique is crucial for improving the performance and utility of AI in various applications.\"})\n",
    "\n",
    "print(f'Reliability: {response}\\n')\n",
    "print(f'Reference documents: \\n {docs[0].to_json().get('kwargs')}\\n'[:300])"
   ],
   "id": "8f111c7c97a1345d",
   "outputs": [
    {
     "name": "stdout",
     "output_type": "stream",
     "text": [
      "Reliability: binary_score='yes'\n",
      "\n",
      "Reference documents: \n",
      " {'metadata': {'source': '../data/file/2023-03-15-prompt-engineering.txt'}, 'page_content': \"Prompt Engineering\\n\\nDate: March 15, 2023 | Estimated Reading Time: 21 min | Author: Lilian Weng\\nTable of Contents\\nPrompt Engineering, also known as In-Context Prompting, refers to m\n"
     ]
    }
   ],
   "execution_count": 28
  },
  {
   "metadata": {
    "ExecuteTime": {
     "end_time": "2024-09-01T10:55:31.386112Z",
     "start_time": "2024-09-01T10:55:29.973580Z"
    }
   },
   "cell_type": "code",
   "source": [
    "# test 2: an answer not related with the documents\n",
    "response = trustworthiness_check_chain.invoke({\"documents\": docs, \"generation\": \"Prompt engineering is a technique for promoting and motivating subordinates.\"})\n",
    "\n",
    "print(f'Reliability: {response}\\n')\n",
    "print(f'Reference documents: \\n {docs[0].to_json().get('kwargs')}\\n'[:300])"
   ],
   "id": "9f0827d2763ba0a",
   "outputs": [
    {
     "name": "stdout",
     "output_type": "stream",
     "text": [
      "Reliability: binary_score='no'\n",
      "\n",
      "Reference documents: \n",
      " {'metadata': {'source': '../data/file/2023-03-15-prompt-engineering.txt'}, 'page_content': \"Prompt Engineering\\n\\nDate: March 15, 2023 | Estimated Reading Time: 21 min | Author: Lilian Weng\\nTable of Contents\\nPrompt Engineering, also known as In-Context Prompting, refers to m\n"
     ]
    }
   ],
   "execution_count": 29
  },
  {
   "cell_type": "markdown",
   "id": "JwPCwB_SzMmx",
   "metadata": {
    "id": "JwPCwB_SzMmx"
   },
   "source": "### 3.6 回答质量评价"
  },
  {
   "metadata": {
    "ExecuteTime": {
     "end_time": "2024-09-01T10:55:31.390634Z",
     "start_time": "2024-09-01T10:55:31.387349Z"
    }
   },
   "cell_type": "code",
   "source": [
    "from lib.chains.check_answer import create_effectiveness_check_chain\n",
    "CodeUtils.print_code(create_effectiveness_check_chain)"
   ],
   "id": "379a394058bb51b8",
   "outputs": [
    {
     "name": "stdout",
     "output_type": "stream",
     "text": [
      "def create_effectiveness_check_chain() -> RunnableSerializable:\n",
      "    # llm with structure output\n",
      "    llm = ChatModelUtil.getDefaultChatModel()\n",
      "    structured_llm_grader = llm.with_structured_output(YesOrNoUtil.YesOrNo, method='json_mode', include_raw=False)\n",
      "    # prompt\n",
      "    answer_prompt = ChatPromptTemplate.from_messages(\n",
      "        [\n",
      "            SystemMessage(\n",
      "                content=f\"\"\"\n",
      "                You are a grader assessing whether an LLM-generation addresses / resolves the user-question. \n",
      "                {YesOrNoUtil.json_mode_prompt(yes_means=\"the LLM-generation resolves the user-question\")}\n",
      "                \"\"\"),\n",
      "            HumanMessagePromptTemplate.from_template(\n",
      "                \"user-question: \\n\\n {question} \\n\\n LLM-generation: {generation}\")\n",
      "        ]\n",
      "    )\n",
      "    # chain\n",
      "    effectiveness_grader = answer_prompt | structured_llm_grader\n",
      "    return effectiveness_grader\n",
      "\n"
     ]
    }
   ],
   "execution_count": 30
  },
  {
   "cell_type": "code",
   "id": "f0c08d14-77a0-4eed-b882-2d636abb22a3",
   "metadata": {
    "colab": {
     "base_uri": "https://localhost:8080/"
    },
    "id": "f0c08d14-77a0-4eed-b882-2d636abb22a3",
    "outputId": "c567a109-1cca-4961-c0fa-86ed0e70c30c",
    "ExecuteTime": {
     "end_time": "2024-09-01T10:55:31.440895Z",
     "start_time": "2024-09-01T10:55:31.391793Z"
    }
   },
   "source": "effectiveness_check_chain = create_effectiveness_check_chain()",
   "outputs": [],
   "execution_count": 31
  },
  {
   "metadata": {
    "ExecuteTime": {
     "end_time": "2024-09-01T10:55:33.108506Z",
     "start_time": "2024-09-01T10:55:31.444966Z"
    }
   },
   "cell_type": "code",
   "source": [
    "# test\n",
    "response=effectiveness_check_chain.invoke({\"question\": \"who am i\", \"generation\": \"I am an AI assistant designed to provide information and answer questions based on the knowledge programmed into me. I don't have personal experiences or consciousness. How can I assist you today?\"})\n",
    "response"
   ],
   "id": "ae45dca2d3f307db",
   "outputs": [
    {
     "data": {
      "text/plain": [
       "YesOrNo(binary_score='no')"
      ]
     },
     "execution_count": 32,
     "metadata": {},
     "output_type": "execute_result"
    }
   ],
   "execution_count": 32
  },
  {
   "metadata": {
    "ExecuteTime": {
     "end_time": "2024-09-01T10:55:33.799755Z",
     "start_time": "2024-09-01T10:55:33.109838Z"
    }
   },
   "cell_type": "code",
   "source": [
    "response=effectiveness_check_chain.invoke({\"question\": \"who are u\", \"generation\": \"I am an AI assistant designed to provide information and answer questions based on the knowledge programmed into me. I don't have personal experiences or consciousness. How can I assist you today?\"})\n",
    "response"
   ],
   "id": "9ff0747a64169555",
   "outputs": [
    {
     "data": {
      "text/plain": [
       "YesOrNo(binary_score='yes')"
      ]
     },
     "execution_count": 33,
     "metadata": {},
     "output_type": "execute_result"
    }
   ],
   "execution_count": 33
  },
  {
   "metadata": {
    "ExecuteTime": {
     "end_time": "2024-09-01T10:55:34.436631Z",
     "start_time": "2024-09-01T10:55:33.801358Z"
    }
   },
   "cell_type": "code",
   "source": [
    "response=effectiveness_check_chain.invoke({\"question\": \"introduce prompt engineering\", \"generation\": \"Prompt engineering is the process of crafting and fine-tuning natural language prompts to guide AI models like GPT-3 towards generating desired outputs. It involves understanding the model's capabilities and limitations to elicit more accurate, relevant, and contextually appropriate responses. This technique is crucial for improving the performance and utility of AI in various applications.\"})\n",
    "response"
   ],
   "id": "473bace954b99d4c",
   "outputs": [
    {
     "data": {
      "text/plain": [
       "YesOrNo(binary_score='yes')"
      ]
     },
     "execution_count": 34,
     "metadata": {},
     "output_type": "execute_result"
    }
   ],
   "execution_count": 34
  },
  {
   "cell_type": "markdown",
   "id": "d07c0b31-b919-4498-869f-9673125c2473",
   "metadata": {
    "id": "d07c0b31-b919-4498-869f-9673125c2473"
   },
   "source": "### 3.7 网页搜索工具"
  },
  {
   "metadata": {
    "ExecuteTime": {
     "end_time": "2024-09-01T10:55:34.528982Z",
     "start_time": "2024-09-01T10:55:34.437965Z"
    }
   },
   "cell_type": "code",
   "source": [
    "from lib.util.web_search_utils import create_web_search_tool\n",
    "CodeUtils.print_code(create_web_search_tool)"
   ],
   "id": "b055efd0cb698f43",
   "outputs": [
    {
     "name": "stdout",
     "output_type": "stream",
     "text": [
      "def create_web_search_tool() -> BaseTool:\n",
      "    # check API key\n",
      "    print(os.environ['TAVILY_API_KEY'][:5])\n",
      "    # sample search\n",
      "    web_search_tool = TavilySearchResults()\n",
      "    return web_search_tool\n",
      "\n"
     ]
    }
   ],
   "execution_count": 35
  },
  {
   "metadata": {
    "ExecuteTime": {
     "end_time": "2024-09-01T10:55:34.531365Z",
     "start_time": "2024-09-01T10:55:34.529724Z"
    }
   },
   "cell_type": "code",
   "source": "web_search_tool = create_web_search_tool()",
   "id": "88787e0c519b47c5",
   "outputs": [
    {
     "name": "stdout",
     "output_type": "stream",
     "text": [
      "tvly-\n"
     ]
    }
   ],
   "execution_count": 36
  },
  {
   "cell_type": "code",
   "id": "01d829bb-1074-4976-b650-ead41dcb9788",
   "metadata": {
    "id": "01d829bb-1074-4976-b650-ead41dcb9788",
    "ExecuteTime": {
     "end_time": "2024-09-01T10:55:34.533169Z",
     "start_time": "2024-09-01T10:55:34.531915Z"
    }
   },
   "source": [
    "# search_result=web_search_tool.invoke(\"Tom and Jerry\")\n",
    "# search_result[0]"
   ],
   "outputs": [],
   "execution_count": 37
  },
  {
   "cell_type": "markdown",
   "id": "efbbff0e-8843-45bb-b2ff-137bef707ef4",
   "metadata": {
    "id": "efbbff0e-8843-45bb-b2ff-137bef707ef4"
   },
   "source": [
    "## 4 Graph组成\n",
    "\n",
    "以图表形式捕获流程"
   ]
  },
  {
   "metadata": {},
   "cell_type": "markdown",
   "source": [
    "### 4.1 定义Graph State\n",
    "\n",
    "#### (1) graph state"
   ],
   "id": "4f2cf141d52ad073"
  },
  {
   "cell_type": "code",
   "id": "e723fcdb-06e6-402d-912e-899795b78408",
   "metadata": {
    "id": "e723fcdb-06e6-402d-912e-899795b78408",
    "ExecuteTime": {
     "end_time": "2024-09-01T10:55:34.536400Z",
     "start_time": "2024-09-01T10:55:34.533858Z"
    }
   },
   "source": [
    "from lib.graph.self_reflection_rag.state.graph_state import RagGraphState\n",
    "CodeUtils.print_code(RagGraphState)"
   ],
   "outputs": [
    {
     "name": "stdout",
     "output_type": "stream",
     "text": [
      "class RagGraphState(TypedDict):\n",
      "    \"\"\"\n",
      "    表示图表的状态。在Graph运行过程中，存储各个Node产生的数据，\n",
      "    - 用作Node的输入和输出。\n",
      "    - 用作Edge的输入，帮助Edge决定路由到哪个Node上\n",
      "\n",
      "    属性：\n",
      "    - question：用户提问\n",
      "    - generation：LLM生成的答案\n",
      "    - documents：从向量数据库中检索到的文档列表\n",
      "    \"\"\"\n",
      "\n",
      "    question: str\n",
      "    generation: str\n",
      "    documents: List[str]\n",
      "\n"
     ]
    }
   ],
   "execution_count": 38
  },
  {
   "cell_type": "markdown",
   "id": "7e2d6c0d-42e8-4399-9751-e315be16607a",
   "metadata": {
    "id": "7e2d6c0d-42e8-4399-9751-e315be16607a"
   },
   "source": [
    "### 4.2 定义Graph Node\n",
    "\n",
    "#### (1) retrieve_node：查询vector store"
   ]
  },
  {
   "metadata": {
    "ExecuteTime": {
     "end_time": "2024-09-01T10:55:34.540166Z",
     "start_time": "2024-09-01T10:55:34.537085Z"
    }
   },
   "cell_type": "code",
   "source": [
    "from lib.graph.self_reflection_rag.node.retrieve_doc import create_retrieve_node\n",
    "CodeUtils.print_code(create_retrieve_node)"
   ],
   "id": "680afca8eb736a38",
   "outputs": [
    {
     "name": "stdout",
     "output_type": "stream",
     "text": [
      "def create_retrieve_node(vector_store_wrapper: VectorStoreWrapper) -> RunnableLike:\n",
      "    def retrieve(state: RagGraphState, retriever: VectorStoreRetriever):\n",
      "        \"\"\"\n",
      "        检索文档，从向量数据库查询与用户提问有关的内容\n",
      "\n",
      "        参数： state (dict)：当前图形状态\n",
      "        返回： state (dict)：添加到包含已检索文档的状态文档的新键\n",
      "        \"\"\"\n",
      "        print(\"---检索---\")\n",
      "        question = state[\"question\"]\n",
      "\n",
      "        # 检索\n",
      "        documents = retriever.invoke(question)\n",
      "\n",
      "        # 返回更新后的graph state\n",
      "        return {\"documents\": documents, \"question\": question}\\\n",
      "\n",
      "    print(vector_store_wrapper)\n",
      "    print(vector_store_wrapper.get_vector_store())\n",
      "    vector_store = vector_store_wrapper.get_vector_store()\n",
      "    return lambda state: retrieve(state, vector_store.as_retriever())\n",
      "\n"
     ]
    }
   ],
   "execution_count": 39
  },
  {
   "metadata": {
    "ExecuteTime": {
     "end_time": "2024-09-01T10:55:34.544406Z",
     "start_time": "2024-09-01T10:55:34.541071Z"
    }
   },
   "cell_type": "code",
   "source": [
    "retrieve_node = create_retrieve_node(vectorstore_wrapper)\n",
    "retrieve_node"
   ],
   "id": "5ed735f139cc3e65",
   "outputs": [
    {
     "name": "stdout",
     "output_type": "stream",
     "text": [
      "<lib.util.vector_store_utils.FAISSWrapper object at 0x12e1ccaa0>\n",
      "<langchain_community.vectorstores.faiss.FAISS object at 0x12e0ad340>\n"
     ]
    },
    {
     "data": {
      "text/plain": [
       "<function lib.graph.self_reflection_rag.node.retrieve_doc.create_retrieve_node.<locals>.<lambda>(state)>"
      ]
     },
     "execution_count": 40,
     "metadata": {},
     "output_type": "execute_result"
    }
   ],
   "execution_count": 40
  },
  {
   "metadata": {},
   "cell_type": "markdown",
   "source": "#### (2) answer_with_doc_node: 使用LLM和vector store生成答案",
   "id": "60095aeee514bae1"
  },
  {
   "metadata": {
    "ExecuteTime": {
     "end_time": "2024-09-01T10:55:34.579332Z",
     "start_time": "2024-09-01T10:55:34.544925Z"
    }
   },
   "cell_type": "code",
   "source": [
    "from lib.graph.self_reflection_rag.node.answer_question import create_answer_with_doc_node\n",
    "CodeUtils.print_code(create_answer_with_doc_node())"
   ],
   "id": "d87e624a37a9e7ab",
   "outputs": [
    {
     "name": "stdout",
     "output_type": "stream",
     "text": [
      "    return lambda state: answer_with_doc(state, answer_with_doc_chain)\n",
      "\n"
     ]
    }
   ],
   "execution_count": 41
  },
  {
   "metadata": {
    "ExecuteTime": {
     "end_time": "2024-09-01T10:55:34.614018Z",
     "start_time": "2024-09-01T10:55:34.580166Z"
    }
   },
   "cell_type": "code",
   "source": [
    "answer_with_doc_node = create_answer_with_doc_node()\n",
    "answer_with_doc_node"
   ],
   "id": "25f82779247aad79",
   "outputs": [
    {
     "data": {
      "text/plain": [
       "<function lib.graph.self_reflection_rag.node.answer_question.create_answer_with_doc_node.<locals>.<lambda>(state)>"
      ]
     },
     "execution_count": 42,
     "metadata": {},
     "output_type": "execute_result"
    }
   ],
   "execution_count": 42
  },
  {
   "metadata": {},
   "cell_type": "markdown",
   "source": "#### (3) answer_with_llm_node：只用LLM生成答案",
   "id": "59a08e00691198e1"
  },
  {
   "metadata": {
    "ExecuteTime": {
     "end_time": "2024-09-01T10:55:34.617285Z",
     "start_time": "2024-09-01T10:55:34.614642Z"
    }
   },
   "cell_type": "code",
   "source": [
    "from lib.graph.self_reflection_rag.node.answer_question import create_answer_with_llm_node\n",
    "CodeUtils.print_code(create_answer_with_llm_node)"
   ],
   "id": "718b0e477c2d477",
   "outputs": [
    {
     "name": "stdout",
     "output_type": "stream",
     "text": [
      "def create_answer_with_llm_node(get_by_session_id: Optional[GetSessionHistoryCallable] = None) -> RunnableLike:\n",
      "    def answer_with_llm(state : RagGraphState, chain: Runnable):\n",
      "        \"\"\"\n",
      "        只使用LLM生成答案\n",
      "\n",
      "        参数：state (dict)：当前图形状态\n",
      "        返回：state (dict)：添加到状态、generation 的新键，其中包含 LLM Generation\n",
      "        \"\"\"\n",
      "        print(\"---LLM Fallback---\")\n",
      "        question = state[\"question\"]\n",
      "        generation = f\"{chain.invoke({\"question\": question})} (no support document)\"\n",
      "        print(f\"question: {question}\")\n",
      "        print(f\"generation: {generation}\")\n",
      "        return {\"question\": question, \"generation\": generation}\n",
      "\n",
      "    answer_with_llm_chain = create_answer_with_llm_chain(get_by_session_id)\n",
      "    return lambda state: answer_with_llm(state, answer_with_llm_chain)\n",
      "\n"
     ]
    }
   ],
   "execution_count": 43
  },
  {
   "metadata": {
    "ExecuteTime": {
     "end_time": "2024-09-01T10:55:34.650732Z",
     "start_time": "2024-09-01T10:55:34.617790Z"
    }
   },
   "cell_type": "code",
   "source": [
    "answer_with_llm_node = create_answer_with_llm_node()\n",
    "answer_with_llm_node"
   ],
   "id": "302837b91d1242b6",
   "outputs": [
    {
     "data": {
      "text/plain": [
       "<function lib.graph.self_reflection_rag.node.answer_question.create_answer_with_llm_node.<locals>.<lambda>(state)>"
      ]
     },
     "execution_count": 44,
     "metadata": {},
     "output_type": "execute_result"
    }
   ],
   "execution_count": 44
  },
  {
   "metadata": {},
   "cell_type": "markdown",
   "source": "#### (4) check_doc_relevance_node: 检测文档与提问是否相",
   "id": "6f2c978d9429e021"
  },
  {
   "cell_type": "code",
   "id": "b76b5ec3-0720-443d-85b1-c0e79659ca0a",
   "metadata": {
    "id": "b76b5ec3-0720-443d-85b1-c0e79659ca0a",
    "ExecuteTime": {
     "end_time": "2024-09-01T10:55:34.653514Z",
     "start_time": "2024-09-01T10:55:34.651464Z"
    }
   },
   "source": [
    "from lib.graph.self_reflection_rag.node.check_doc import create_doc_relevance_check_node\n",
    "CodeUtils.print_code(create_doc_relevance_check_node)"
   ],
   "outputs": [
    {
     "name": "stdout",
     "output_type": "stream",
     "text": [
      "def create_doc_relevance_check_node() -> RunnableLike:\n",
      "    doc_relevance_check_chain = create_doc_relevance_check_chain()\n",
      "    return lambda state: check_relevance(state, doc_relevance_check_chain)\n",
      "\n"
     ]
    }
   ],
   "execution_count": 45
  },
  {
   "metadata": {
    "ExecuteTime": {
     "end_time": "2024-09-01T10:55:34.687305Z",
     "start_time": "2024-09-01T10:55:34.653978Z"
    }
   },
   "cell_type": "code",
   "source": [
    "doc_relevance_check_node = create_doc_relevance_check_node()\n",
    "doc_relevance_check_node"
   ],
   "id": "5bdc985792e8e94",
   "outputs": [
    {
     "data": {
      "text/plain": [
       "<function lib.graph.self_reflection_rag.node.check_doc.create_doc_relevance_check_node.<locals>.<lambda>(state)>"
      ]
     },
     "execution_count": 46,
     "metadata": {},
     "output_type": "execute_result"
    }
   ],
   "execution_count": 46
  },
  {
   "metadata": {},
   "cell_type": "markdown",
   "source": "#### (5) web_search: 网页搜索",
   "id": "1f7e48d43132ce4c"
  },
  {
   "metadata": {
    "ExecuteTime": {
     "end_time": "2024-09-01T10:55:34.691152Z",
     "start_time": "2024-09-01T10:55:34.687936Z"
    }
   },
   "cell_type": "code",
   "source": [
    "from lib.graph.self_reflection_rag.node.web_search import create_web_search_node\n",
    "CodeUtils.print_code(create_web_search_node)"
   ],
   "id": "cd159773a525dcf9",
   "outputs": [
    {
     "name": "stdout",
     "output_type": "stream",
     "text": [
      "def create_web_search_node() -> RunnableLike:\n",
      "    def web_search(state, tool):\n",
      "        \"\"\"\n",
      "        根据重新表述的问题进行网络搜索。\n",
      "\n",
      "        参数：state (dict)：当前图形状态\n",
      "        返回：state (dict)：使用附加的网络结果更新文档键\n",
      "        \"\"\"\n",
      "\n",
      "        print(\"---网络搜索---\")\n",
      "        question = state[\"question\"]\n",
      "\n",
      "        # 网络搜索\n",
      "        docs = tool.invoke({\"query\": question})\n",
      "        print(f\"web_results: {docs}\"[:300])\n",
      "\n",
      "        web_results = \"\\n\".join([d[\"content\"] for d in docs])\n",
      "        web_results = Document(page_content=web_results)\n",
      "        return {\"documents\": web_results, \"question\": question}\n",
      "\n",
      "    web_search_tool = create_web_search_tool()\n",
      "    return lambda state: web_search(state, web_search_tool)\n",
      "\n"
     ]
    }
   ],
   "execution_count": 47
  },
  {
   "metadata": {
    "ExecuteTime": {
     "end_time": "2024-09-01T10:55:34.693955Z",
     "start_time": "2024-09-01T10:55:34.691763Z"
    }
   },
   "cell_type": "code",
   "source": [
    "web_search_node = create_web_search_node()\n",
    "web_search_node"
   ],
   "id": "c2b78d58031accf1",
   "outputs": [
    {
     "name": "stdout",
     "output_type": "stream",
     "text": [
      "tvly-\n"
     ]
    },
    {
     "data": {
      "text/plain": [
       "<function lib.graph.self_reflection_rag.node.web_search.create_web_search_node.<locals>.<lambda>(state)>"
      ]
     },
     "execution_count": 48,
     "metadata": {},
     "output_type": "execute_result"
    }
   ],
   "execution_count": 48
  },
  {
   "cell_type": "markdown",
   "id": "ooMcwOk--2Aw",
   "metadata": {
    "id": "ooMcwOk--2Aw"
   },
   "source": [
    "### 4.3 定义Graph Edge Router\n",
    "\n",
    "Edge的输入是Graph State，输出是Node注册在Graph中的Key（4.3小节介绍）\n",
    "\n",
    "有些Edge会根据条件，将调用路由到不同Node上，需要为它们编写路由"
   ]
  },
  {
   "metadata": {},
   "cell_type": "markdown",
   "source": [
    "#### (1) question_router: 根据问题类型决定回答方式\n",
    "\n",
    "判断用户提问的类型\n",
    "\n",
    "`web_search`：时事类问题，需要借助网络搜索才能回答\n",
    "\n",
    "`vectorstore`：知识库里面的专业问题，需要借助向量数据库才能回答\n",
    "\n",
    "`llm`：普通问题，由LLM独立回答"
   ],
   "id": "791a155440cb813b"
  },
  {
   "metadata": {
    "ExecuteTime": {
     "end_time": "2024-09-01T10:55:34.697158Z",
     "start_time": "2024-09-01T10:55:34.694469Z"
    }
   },
   "cell_type": "code",
   "source": [
    "from lib.graph.self_reflection_rag.edge_router.route_by_question_type import create_question_router\n",
    "CodeUtils.print_code(create_question_router)"
   ],
   "id": "fa803d5640645d5d",
   "outputs": [
    {
     "name": "stdout",
     "output_type": "stream",
     "text": [
      "def create_question_router() -> RunnableLike:\n",
      "    def route_question(state: RagGraphState, chain: RunnableSerializable):\n",
      "        \"\"\"\n",
      "        将问题路由到网络搜索或 RAG。\n",
      "\n",
      "        参数： state (dict)：当前图形状态\n",
      "        返回： str：路由结论，包括web_search, vectorstore, llm_fallback\n",
      "        \"\"\"\n",
      "\n",
      "        print(\"---路由用户问题---\")\n",
      "        question = state[\"question\"]\n",
      "        source = chain.invoke({\"question\": question})\n",
      "\n",
      "        # 如果没有决定则返回 LLM 或引发错误\n",
      "        if \"tool_calls\" not in source.additional_kwargs:\n",
      "            print(\"---把问题路由到LLM---\")\n",
      "            return \"llm_fallback\"\n",
      "        if len(source.additional_kwargs[\"tool_calls\"]) == 0:\n",
      "            raise \"路由无法确定来源\"\n",
      "\n",
      "        # 选择数据源\n",
      "        datasource = source.additional_kwargs[\"tool_calls\"][0][\"function\"][\"name\"]\n",
      "        if datasource == \"web_search\":\n",
      "            print(\"---把问题路由到网络搜索---\")\n",
      "            return \"web_search\"\n",
      "        elif datasource == \"vectorstore\":\n",
      "            print(\"---把问题路由到数据库---\")\n",
      "            return \"vectorstore\"\n",
      "        else:\n",
      "            print(\"---把问题路由到LLM---\")\n",
      "            return \"llm_fallback\"\n",
      "\n",
      "    question_route_chain = create_question_route_chain()\n",
      "    return lambda state: route_question(state, question_route_chain)\n",
      "\n"
     ]
    }
   ],
   "execution_count": 49
  },
  {
   "metadata": {
    "ExecuteTime": {
     "end_time": "2024-09-01T10:55:34.733799Z",
     "start_time": "2024-09-01T10:55:34.697685Z"
    }
   },
   "cell_type": "code",
   "source": [
    "question_router = create_question_router()\n",
    "question_router"
   ],
   "id": "67c0d5aea09a590b",
   "outputs": [
    {
     "data": {
      "text/plain": [
       "<function lib.graph.self_reflection_rag.edge_router.route_by_question_type.create_question_router.<locals>.<lambda>(state)>"
      ]
     },
     "execution_count": 50,
     "metadata": {},
     "output_type": "execute_result"
    }
   ],
   "execution_count": 50
  },
  {
   "metadata": {},
   "cell_type": "markdown",
   "source": "#### (2) doc_relevance_check_router：检查文档是否有足够的文档用于生成答案",
   "id": "5fccd488fd7bbae3"
  },
  {
   "metadata": {
    "ExecuteTime": {
     "end_time": "2024-09-01T10:55:34.737003Z",
     "start_time": "2024-09-01T10:55:34.734310Z"
    }
   },
   "cell_type": "code",
   "source": [
    "from lib.graph.self_reflection_rag.edge_router.route_by_doc_relevance import create_doc_relevance_check_router\n",
    "CodeUtils.print_code(create_doc_relevance_check_router)"
   ],
   "id": "9629e8ba5602c1e1",
   "outputs": [
    {
     "name": "stdout",
     "output_type": "stream",
     "text": [
      "def create_doc_relevance_check_router() -> RunnableLike:\n",
      "    def decide_to_generate(state: RagGraphState):\n",
      "        \"\"\"\n",
      "        确定是否生成答案或重新生成问题。\n",
      "\n",
      "        参数：state (dict)：当前图形状态\n",
      "        返回：str：路由结论， web_search (所有文档都和问题无关，尝试网络搜索), generate (生成答案)\n",
      "        \"\"\"\n",
      "\n",
      "        print(\"---评估已评分文件---\")\n",
      "        filtered_documents = state[\"documents\"]\n",
      "\n",
      "        if not filtered_documents or len(filtered_documents) == 0:\n",
      "            # 所有文档都已过滤 check_relevance\n",
      "            # 我们将重新生成一个新查询\n",
      "            print(\"---所有文件与问题无关 ---\")\n",
      "            return \"no_relevance\"\n",
      "        else:\n",
      "            # 我们有相关文件，因此生成答案\n",
      "            print(f\"---{len(filtered_documents)}个文件与问题相关---\")\n",
      "            return \"has_relevance\"\n",
      "\n",
      "    return lambda state: decide_to_generate(state)\n",
      "\n"
     ]
    }
   ],
   "execution_count": 51
  },
  {
   "metadata": {
    "ExecuteTime": {
     "end_time": "2024-09-01T10:55:34.739889Z",
     "start_time": "2024-09-01T10:55:34.737618Z"
    }
   },
   "cell_type": "code",
   "source": [
    "doc_relevance_check_router = create_doc_relevance_check_router()\n",
    "doc_relevance_check_router"
   ],
   "id": "8379f462b6091711",
   "outputs": [
    {
     "data": {
      "text/plain": [
       "<function lib.graph.self_reflection_rag.edge_router.route_by_doc_relevance.create_doc_relevance_check_router.<locals>.<lambda>(state)>"
      ]
     },
     "execution_count": 52,
     "metadata": {},
     "output_type": "execute_result"
    }
   ],
   "execution_count": 52
  },
  {
   "metadata": {},
   "cell_type": "markdown",
   "source": "#### (3) answer_check_router：检测文档及回答",
   "id": "c0317b60bbfa9575"
  },
  {
   "cell_type": "code",
   "id": "IDysC03g-47F",
   "metadata": {
    "id": "IDysC03g-47F",
    "ExecuteTime": {
     "end_time": "2024-09-01T10:55:34.743327Z",
     "start_time": "2024-09-01T10:55:34.740525Z"
    }
   },
   "source": [
    "from lib.graph.self_reflection_rag.edge_router.route_by_answer_trustworthiness_and_effectiveness import create_answer_check_router\n",
    "\n",
    "CodeUtils.print_code(create_answer_check_router)"
   ],
   "outputs": [
    {
     "name": "stdout",
     "output_type": "stream",
     "text": [
      "def create_answer_check_router() -> RunnableLike:\n",
      "    def check_answer(state: RagGraphState, trustworthiness_check_chain: RunnableSerializable, effectiveness_check_chain: RunnableSerializable):\n",
      "        \"\"\"\n",
      "        确定生成是否基于文档并回答问题。\n",
      "\n",
      "        参数： state (dict)：当前图形状态\n",
      "        返回： str：路由结论，useful (答案能够解答问题）, not useful (答案不能解答问题），not support（大模型没有足够的信息，无法回答该问题，产生了幻觉）\n",
      "        \"\"\"\n",
      "        question = state[\"question\"]\n",
      "        documents = state[\"documents\"] if \"documents\" in state else None\n",
      "        generation = state[\"generation\"]\n",
      "        print(f\"question: {question}\")\n",
      "        print(f\"generation: {generation}\"[:200])\n",
      "\n",
      "        # 检查幻觉\n",
      "        if documents is not None and len(documents) > 0:\n",
      "            print(\"---检查幻觉---\")\n",
      "            score = trustworthiness_check_chain.invoke(\n",
      "                {\"documents\": documents, \"generation\": generation}\n",
      "            )\n",
      "            print(f\"documents: {documents}\")\n",
      "            print(f\"generation: {generation}\")\n",
      "            grade = score.binary_score\n",
      "            if grade == \"yes\":\n",
      "                print(\"* 答案被文件内容支持\")\n",
      "            else:\n",
      "                print(\"* 答案不能被文件支持\")\n",
      "                return \"not supported\"\n",
      "\n",
      "        # 回答有效性\n",
      "        print(\"---生成评价&问题---\")\n",
      "        score = effectiveness_check_chain.invoke({\"question\": question, \"generation\": generation})\n",
      "        grade = score.binary_score\n",
      "        print(f\"question: {question}\")\n",
      "        print(f\"generation: {generation}\")\n",
      "        if grade == \"yes\":\n",
      "            print(\"* 答案解决了问题\")\n",
      "            return \"useful\"\n",
      "        else:\n",
      "            print(\"* 答案不能解决问题\")\n",
      "            return \"not useful\"\n",
      "\n",
      "    trustworthiness_chain = create_trustworthiness_check_chain()\n",
      "    effectiveness_chain = create_effectiveness_check_chain()\n",
      "    return lambda state: check_answer(state, trustworthiness_chain, effectiveness_chain)\n",
      "\n"
     ]
    }
   ],
   "execution_count": 53
  },
  {
   "metadata": {
    "ExecuteTime": {
     "end_time": "2024-09-01T10:55:34.807802Z",
     "start_time": "2024-09-01T10:55:34.743984Z"
    }
   },
   "cell_type": "code",
   "source": "answer_check_router = create_answer_check_router()",
   "id": "4f65714c66dfb157",
   "outputs": [],
   "execution_count": 54
  },
  {
   "cell_type": "markdown",
   "id": "3ab01f36-5628-49ab-bfd3-84bb6f1a1b0f",
   "metadata": {
    "id": "3ab01f36-5628-49ab-bfd3-84bb6f1a1b0f"
   },
   "source": [
    "## 5. 构建和调用Graph\n",
    "\n",
    "### 5.1 构建Graph"
   ]
  },
  {
   "cell_type": "code",
   "id": "67854e07-9293-4c3c-bf9a-bc9a605570ee",
   "metadata": {
    "id": "67854e07-9293-4c3c-bf9a-bc9a605570ee",
    "ExecuteTime": {
     "end_time": "2024-09-01T10:55:35.054270Z",
     "start_time": "2024-09-01T10:55:34.808425Z"
    }
   },
   "source": [
    "from lib.graph.self_reflection_rag.graph import RAGGraphWrapper \n",
    "\n",
    "graph_wrapper = RAGGraphWrapper(vectorstore_wrapper)\n",
    "app = graph_wrapper.get_graph()\n",
    "app"
   ],
   "outputs": [
    {
     "name": "stdout",
     "output_type": "stream",
     "text": [
      "<langchain_community.vectorstores.faiss.FAISS object at 0x12e0ad340>\n",
      "tvly-\n",
      "<lib.util.vector_store_utils.FAISSWrapper object at 0x12e1ccaa0>\n",
      "<langchain_community.vectorstores.faiss.FAISS object at 0x12e0ad340>\n"
     ]
    },
    {
     "data": {
      "text/plain": [
       "CompiledStateGraph(nodes={'__start__': PregelNode(config={'tags': ['langsmith:hidden'], 'metadata': {}, 'configurable': {}}, channels=['__start__'], triggers=['__start__'], writers=[ChannelWrite<question,generation,documents>(recurse=True, writes=[ChannelWriteEntry(channel='question', value=<object object at 0x1078bb3d0>, skip_none=False, mapper=_get_state_key(recurse=False)), ChannelWriteEntry(channel='generation', value=<object object at 0x1078bb3d0>, skip_none=False, mapper=_get_state_key(recurse=False)), ChannelWriteEntry(channel='documents', value=<object object at 0x1078bb3d0>, skip_none=False, mapper=_get_state_key(recurse=False))], require_at_least_one_of=['question', 'generation', 'documents']), _route(recurse=True, _is_channel_writer=True)]), 'web_search_node': PregelNode(config={'tags': [], 'metadata': {}, 'configurable': {}}, channels={'question': 'question', 'generation': 'generation', 'documents': 'documents'}, triggers=['branch:__start__:condition:web_search_node', 'branch:doc_relevance_check_node:condition:web_search_node'], mapper=functools.partial(<function _coerce_state at 0x12ead6ac0>, <class 'lib.graph.self_reflection_rag.state.graph_state.RagGraphState'>), writers=[ChannelWrite<web_search_node,question,generation,documents>(recurse=True, writes=[ChannelWriteEntry(channel='web_search_node', value='web_search_node', skip_none=False, mapper=None), ChannelWriteEntry(channel='question', value=<object object at 0x1078bb3d0>, skip_none=False, mapper=_get_state_key(recurse=False)), ChannelWriteEntry(channel='generation', value=<object object at 0x1078bb3d0>, skip_none=False, mapper=_get_state_key(recurse=False)), ChannelWriteEntry(channel='documents', value=<object object at 0x1078bb3d0>, skip_none=False, mapper=_get_state_key(recurse=False))], require_at_least_one_of=['question', 'generation', 'documents'])]), 'retrieve_node': PregelNode(config={'tags': [], 'metadata': {}, 'configurable': {}}, channels={'question': 'question', 'generation': 'generation', 'documents': 'documents'}, triggers=['branch:__start__:condition:retrieve_node'], mapper=functools.partial(<function _coerce_state at 0x12ead6ac0>, <class 'lib.graph.self_reflection_rag.state.graph_state.RagGraphState'>), writers=[ChannelWrite<retrieve_node,question,generation,documents>(recurse=True, writes=[ChannelWriteEntry(channel='retrieve_node', value='retrieve_node', skip_none=False, mapper=None), ChannelWriteEntry(channel='question', value=<object object at 0x1078bb3d0>, skip_none=False, mapper=_get_state_key(recurse=False)), ChannelWriteEntry(channel='generation', value=<object object at 0x1078bb3d0>, skip_none=False, mapper=_get_state_key(recurse=False)), ChannelWriteEntry(channel='documents', value=<object object at 0x1078bb3d0>, skip_none=False, mapper=_get_state_key(recurse=False))], require_at_least_one_of=['question', 'generation', 'documents'])]), 'doc_relevance_check_node': PregelNode(config={'tags': [], 'metadata': {}, 'configurable': {}}, channels={'question': 'question', 'generation': 'generation', 'documents': 'documents'}, triggers=['retrieve_node'], mapper=functools.partial(<function _coerce_state at 0x12ead6ac0>, <class 'lib.graph.self_reflection_rag.state.graph_state.RagGraphState'>), writers=[ChannelWrite<doc_relevance_check_node,question,generation,documents>(recurse=True, writes=[ChannelWriteEntry(channel='doc_relevance_check_node', value='doc_relevance_check_node', skip_none=False, mapper=None), ChannelWriteEntry(channel='question', value=<object object at 0x1078bb3d0>, skip_none=False, mapper=_get_state_key(recurse=False)), ChannelWriteEntry(channel='generation', value=<object object at 0x1078bb3d0>, skip_none=False, mapper=_get_state_key(recurse=False)), ChannelWriteEntry(channel='documents', value=<object object at 0x1078bb3d0>, skip_none=False, mapper=_get_state_key(recurse=False))], require_at_least_one_of=['question', 'generation', 'documents']), _route(recurse=True, _is_channel_writer=True)]), 'web_relevance_check_node': PregelNode(config={'tags': [], 'metadata': {}, 'configurable': {}}, channels={'question': 'question', 'generation': 'generation', 'documents': 'documents'}, triggers=['web_search_node'], mapper=functools.partial(<function _coerce_state at 0x12ead6ac0>, <class 'lib.graph.self_reflection_rag.state.graph_state.RagGraphState'>), writers=[ChannelWrite<web_relevance_check_node,question,generation,documents>(recurse=True, writes=[ChannelWriteEntry(channel='web_relevance_check_node', value='web_relevance_check_node', skip_none=False, mapper=None), ChannelWriteEntry(channel='question', value=<object object at 0x1078bb3d0>, skip_none=False, mapper=_get_state_key(recurse=False)), ChannelWriteEntry(channel='generation', value=<object object at 0x1078bb3d0>, skip_none=False, mapper=_get_state_key(recurse=False)), ChannelWriteEntry(channel='documents', value=<object object at 0x1078bb3d0>, skip_none=False, mapper=_get_state_key(recurse=False))], require_at_least_one_of=['question', 'generation', 'documents']), _route(recurse=True, _is_channel_writer=True)]), 'answer_with_doc_node': PregelNode(config={'tags': [], 'metadata': {}, 'configurable': {}}, channels={'question': 'question', 'generation': 'generation', 'documents': 'documents'}, triggers=['branch:doc_relevance_check_node:condition:answer_with_doc_node', 'branch:web_relevance_check_node:condition:answer_with_doc_node', 'branch:answer_with_doc_node:condition:answer_with_doc_node', 'branch:answer_with_doc_node:condition:answer_with_doc_node'], mapper=functools.partial(<function _coerce_state at 0x12ead6ac0>, <class 'lib.graph.self_reflection_rag.state.graph_state.RagGraphState'>), writers=[ChannelWrite<answer_with_doc_node,question,generation,documents>(recurse=True, writes=[ChannelWriteEntry(channel='answer_with_doc_node', value='answer_with_doc_node', skip_none=False, mapper=None), ChannelWriteEntry(channel='question', value=<object object at 0x1078bb3d0>, skip_none=False, mapper=_get_state_key(recurse=False)), ChannelWriteEntry(channel='generation', value=<object object at 0x1078bb3d0>, skip_none=False, mapper=_get_state_key(recurse=False)), ChannelWriteEntry(channel='documents', value=<object object at 0x1078bb3d0>, skip_none=False, mapper=_get_state_key(recurse=False))], require_at_least_one_of=['question', 'generation', 'documents']), _route(recurse=True, _is_channel_writer=True)]), 'answer_with_llm_node': PregelNode(config={'tags': [], 'metadata': {}, 'configurable': {}}, channels={'question': 'question', 'generation': 'generation', 'documents': 'documents'}, triggers=['branch:__start__:condition:answer_with_llm_node', 'branch:web_relevance_check_node:condition:answer_with_llm_node'], mapper=functools.partial(<function _coerce_state at 0x12ead6ac0>, <class 'lib.graph.self_reflection_rag.state.graph_state.RagGraphState'>), writers=[ChannelWrite<answer_with_llm_node,question,generation,documents>(recurse=True, writes=[ChannelWriteEntry(channel='answer_with_llm_node', value='answer_with_llm_node', skip_none=False, mapper=None), ChannelWriteEntry(channel='question', value=<object object at 0x1078bb3d0>, skip_none=False, mapper=_get_state_key(recurse=False)), ChannelWriteEntry(channel='generation', value=<object object at 0x1078bb3d0>, skip_none=False, mapper=_get_state_key(recurse=False)), ChannelWriteEntry(channel='documents', value=<object object at 0x1078bb3d0>, skip_none=False, mapper=_get_state_key(recurse=False))], require_at_least_one_of=['question', 'generation', 'documents'])])}, channels={'question': <langgraph.channels.last_value.LastValue object at 0x12ea7dee0>, 'generation': <langgraph.channels.last_value.LastValue object at 0x12ed4cad0>, 'documents': <langgraph.channels.last_value.LastValue object at 0x12ed4e8a0>, '__start__': <langgraph.channels.ephemeral_value.EphemeralValue object at 0x12ed7f890>, 'web_search_node': <langgraph.channels.ephemeral_value.EphemeralValue object at 0x12e547020>, 'retrieve_node': <langgraph.channels.ephemeral_value.EphemeralValue object at 0x12ed63d40>, 'doc_relevance_check_node': <langgraph.channels.ephemeral_value.EphemeralValue object at 0x12ed7faa0>, 'web_relevance_check_node': <langgraph.channels.ephemeral_value.EphemeralValue object at 0x12ed7fc20>, 'answer_with_doc_node': <langgraph.channels.ephemeral_value.EphemeralValue object at 0x12ed7fd10>, 'answer_with_llm_node': <langgraph.channels.ephemeral_value.EphemeralValue object at 0x12ed7fe00>, 'branch:__start__:condition:retrieve_node': <langgraph.channels.ephemeral_value.EphemeralValue object at 0x12ed7f8f0>, 'branch:__start__:condition:web_search_node': <langgraph.channels.ephemeral_value.EphemeralValue object at 0x12ed7ff50>, 'branch:__start__:condition:answer_with_llm_node': <langgraph.channels.ephemeral_value.EphemeralValue object at 0x12ed7ff80>, 'branch:doc_relevance_check_node:condition:answer_with_doc_node': <langgraph.channels.ephemeral_value.EphemeralValue object at 0x12ed98110>, 'branch:doc_relevance_check_node:condition:web_search_node': <langgraph.channels.ephemeral_value.EphemeralValue object at 0x12ed98140>, 'branch:web_relevance_check_node:condition:answer_with_doc_node': <langgraph.channels.ephemeral_value.EphemeralValue object at 0x12ed98290>, 'branch:web_relevance_check_node:condition:answer_with_llm_node': <langgraph.channels.ephemeral_value.EphemeralValue object at 0x12ed982c0>, 'branch:answer_with_doc_node:condition:answer_with_doc_node': <langgraph.channels.ephemeral_value.EphemeralValue object at 0x12ed98440>}, auto_validate=False, stream_mode='updates', output_channels=['question', 'generation', 'documents'], stream_channels=['question', 'generation', 'documents'], input_channels='__start__', builder=<langgraph.graph.state.StateGraph object at 0x12ed60bf0>)"
      ]
     },
     "execution_count": 55,
     "metadata": {},
     "output_type": "execute_result"
    }
   ],
   "execution_count": 55
  },
  {
   "metadata": {},
   "cell_type": "markdown",
   "source": [
    "### 5.2 测试\n",
    "\n",
    "#### (1) 需要查询网页来回答的问题"
   ],
   "id": "3b1a291084bdae2c"
  },
  {
   "cell_type": "code",
   "id": "29acc541-d726-4b75-84d1-a215845fe88a",
   "metadata": {
    "colab": {
     "base_uri": "https://localhost:8080/"
    },
    "id": "29acc541-d726-4b75-84d1-a215845fe88a",
    "outputId": "38e9648d-225a-4f85-c280-80d0b7ac179b",
    "ExecuteTime": {
     "end_time": "2024-09-01T10:56:37.962458Z",
     "start_time": "2024-09-01T10:56:25.791602Z"
    }
   },
   "source": [
    "import pprint\n",
    "\n",
    "def run_with_web_search(inputs): \n",
    "    for output in app.stream(inputs):\n",
    "        for key, value in output.items():\n",
    "            # 节点\n",
    "            pprint.pprint(f\"Node '{key}':\")\n",
    "            # 可选：打印每个节点的完整状态\n",
    "        pprint.pprint(\"\\n---\\n\")\n",
    "    # 最终生成\n",
    "    pprint.pprint(value[\"generation\"])\n",
    "    \n",
    "inputs = {\n",
    "    \"question\": \"introduce the latest game named Black Myth: Wukong\"\n",
    "}\n",
    "# run_with_web_search(inputs)"
   ],
   "outputs": [
    {
     "name": "stdout",
     "output_type": "stream",
     "text": [
      "---路由用户问题---\n",
      "---把问题路由到网络搜索---\n",
      "---网络搜索---\n",
      "web_results: [{'url': 'https://www.thatsmandarin.com/blog-posts/black-myth-wukong/', 'content': 'Black Myth: Wukong is an action role-playing game that brings Chinese mythology to life. Developed by Game Science, the game takes players on an adventure with Sun Wukong (孙悟空 Sūn Wùkōng), who is a well-\n",
      "\"Node 'web_search_node':\"\n",
      "'\\n---\\n'\n",
      "---检查文件与问题的相关性---\n",
      "Question: introduce the latest game named Black Myth: Wukong\n",
      "Documents: page_content='Black Myth: Wukong is an action role...\n",
      "---打分：文档不相关---\n",
      "('id', None)\n",
      "---打分：文档不相关---\n",
      "('metadata', {})\n",
      "---打分：文档相关---\n",
      "---打分：文档相关---\n",
      "---评估已评分文件---\n",
      "---2个文件与问题相关---\n",
      "\"Node 'web_relevance_check_node':\"\n",
      "'\\n---\\n'\n",
      "---GENERATE---\n",
      "question: introduce the latest game named Black Myth: Wukong\n",
      "generation: Black Myth: Wukong is an upcoming action role-playing game developed by Game Science Studio, featuring stunning visuals and fast-paced combat inspired by Chinese mythology, with its protag\n",
      "---检查幻觉---\n",
      "documents: [('page_content', \"Black Myth: Wukong is an action role-playing game that brings Chinese mythology to life. Developed by Game Science, the game takes players on an adventure with Sun Wukong (孙悟空 Sūn Wùkōng), who is a well-known character from the famous Chinese novel Journey to the West. 黑神话：悟空. Hēi Shénhuà: Wùkōng.\\nBlack Myth: Wukong is an action RPG rooted in Chinese mythology. The story is based on Journey to the West, one of the Four Great Classical Novels of Chinese literature. You shall set out as the Destined One to venture into the challenges and marvels ahead, to uncover the obscured truth beneath the veil of a glorious legend from the past.\\nThe Black Myth: Wukong map mod is here to make your Journey to the West a little easier Steam surpasses 37 million concurrent users for the first time ever thanks to Black Myth: Wukong Latest\\nBlack Myth: Wukong is the latest action RPG to release and players are quickly learning that there are multiple endings to the game's story.. Black Myth: Wukong continues the story of Sun Wukong, which was made famous in the classic Chinese tale, Journey to the West.. Picking up after the events of the original adventure, players will find themselves controlling not the fabled Sun Wukong but ...\\nWith Black Myth: Wukong out now, players might know the lore inspiration behind the latest action game. But knowing the secrets of Journey to the West only enhances the whole experience.\"), ('type', 'Document')]\n",
      "generation: Black Myth: Wukong is an upcoming action role-playing game developed by Game Science Studio, featuring stunning visuals and fast-paced combat inspired by Chinese mythology, with its protagonist based on the Monkey King, Sun Wukong. The game has garnered attention for its high-quality graphics and fluid gameplay mechanics. It aims to blend traditional mythological elements with modern gaming technology.\n",
      "* 答案被文件内容支持\n",
      "---生成评价&问题---\n",
      "question: introduce the latest game named Black Myth: Wukong\n",
      "generation: Black Myth: Wukong is an upcoming action role-playing game developed by Game Science Studio, featuring stunning visuals and fast-paced combat inspired by Chinese mythology, with its protagonist based on the Monkey King, Sun Wukong. The game has garnered attention for its high-quality graphics and fluid gameplay mechanics. It aims to blend traditional mythological elements with modern gaming technology.\n",
      "* 答案解决了问题\n",
      "\"Node 'answer_with_doc_node':\"\n",
      "'\\n---\\n'\n",
      "('Black Myth: Wukong is an upcoming action role-playing game developed by Game '\n",
      " 'Science Studio, featuring stunning visuals and fast-paced combat inspired by '\n",
      " 'Chinese mythology, with its protagonist based on the Monkey King, Sun '\n",
      " 'Wukong. The game has garnered attention for its high-quality graphics and '\n",
      " 'fluid gameplay mechanics. It aims to blend traditional mythological elements '\n",
      " 'with modern gaming technology.')\n"
     ]
    }
   ],
   "execution_count": 68
  },
  {
   "metadata": {},
   "cell_type": "markdown",
   "source": "#### (2) 需要查向量数据库来回答的问题",
   "id": "e71031150d2660c3"
  },
  {
   "cell_type": "code",
   "id": "69a985dd-03c6-45af-a67b-b15746a2cb5f",
   "metadata": {
    "colab": {
     "base_uri": "https://localhost:8080/"
    },
    "id": "69a985dd-03c6-45af-a67b-b15746a2cb5f",
    "outputId": "d0d4d693-1ab0-43ed-a721-d45446ff1830",
    "ExecuteTime": {
     "end_time": "2024-09-01T10:55:44.012055Z",
     "start_time": "2024-09-01T10:55:35.057478Z"
    }
   },
   "source": [
    "# Run\n",
    "inputs = {\"question\": \"What are the types of agent memory?\"}\n",
    "for output in app.stream(inputs):\n",
    "    for key, value in output.items():\n",
    "        # 节点\n",
    "        pprint.pprint(f\"Node '{key}':\")\n",
    "        # 可选：打印每个节点的完整状态\n",
    "        # pprint.pprint(value[\"keys\"], indent=2, width=80, depth=None)\n",
    "    pprint.pprint(\"\\n---\\n\")\n",
    "\n",
    "# 最终生成\n",
    "pprint.pprint(value[\"generation\"])"
   ],
   "outputs": [
    {
     "name": "stdout",
     "output_type": "stream",
     "text": [
      "---路由用户问题---\n",
      "---把问题路由到数据库---\n",
      "---检索---\n",
      "\"Node 'retrieve_node':\"\n",
      "'\\n---\\n'\n",
      "---检查文件与问题的相关性---\n",
      "Question: What are the types of agent memory?\n",
      "Documents: [Document(metadata={'source': '../data/file/2023-0...\n",
      "---打分：文档相关---\n",
      "---打分：文档不相关---\n",
      "page_content='Finite context length: The restricted context capacity limits the inclusion of historical information, detailed instructions, API call context, and responses. The design of the system has to work with this limited communication bandwidth, while mechanisms like self-reflection to learn from past mistakes would benefit a lot from long or infinite context windows. Although vector stores and retrieval can provide access to a larger knowledge pool, their representation power is not as powerful as full attention.\n",
      "\n",
      "Challenges in long-term planning and task decomposition: Planning over a lengthy history and effectively exploring the solution space remain challenging. LLMs struggle to adjust plans when faced with unexpected errors, making them less robust compared to humans who learn from trial and error.\n",
      "\n",
      "Reliability of natural language interface: Current agent system relies on natural language as an interface between LLMs and external components such as memory and tools. However, the reliability of model outputs is questionable, as LLMs may make formatting errors and occasionally exhibit rebellious behavior (e.g. refuse to follow an instruction). Consequently, much of the agent demo code focuses on parsing model output.\n",
      "\n",
      "Citation\n",
      "Cited as:\n",
      "\n",
      "Weng, Lilian. (Jun 2023). “LLM-powered Autonomous Agents”. Lil’Log. https://lilianweng.github.io/posts/2023-06-23-agent/.\n",
      "\n",
      "\n",
      "References\n",
      "[1] Wei et al. “Chain of thought prompting elicits reasoning in large language models.” NeurIPS 2022\n",
      "\n",
      "[2] Yao et al. “Tree of Thoughts: Dliberate Problem Solving with Large Language Models.” arXiv preprint arXiv:2305.10601 (2023).\n",
      "\n",
      "[3] Liu et al. “Chain of Hindsight Aligns Language Models with Feedback “ arXiv preprint arXiv:2302.02676 (2023).\n",
      "\n",
      "[4] Liu et al. “LLM+P: Empowering Large Language Models with Optimal Planning Proficiency” arXiv preprint arXiv:2304.11477 (2023).\n",
      "\n",
      "[5] Yao et al. “ReAct: Synergizing reasoning and acting in language models.” ICLR 2023.\n",
      "\n",
      "[6] Google Blog. “Announcing ScaNN: Efficient Vector Similarity Search” July 28, 2020.' metadata={'source': '../data/file/2023-06-23-agent.txt'}\n",
      "---打分：文档相关---\n",
      "---打分：文档相关---\n",
      "---评估已评分文件---\n",
      "---3个文件与问题相关---\n",
      "\"Node 'doc_relevance_check_node':\"\n",
      "'\\n---\\n'\n",
      "---GENERATE---\n",
      "question: What are the types of agent memory?\n",
      "generation: Agent memory types include sensory memory, short-term memory, and long-term memory. Sensory memory briefly holds sensory information, short-term memory temporarily stores and manipulates i\n",
      "---检查幻觉---\n",
      "documents: [Document(metadata={'source': '../data/file/2023-06-23-agent.txt'}, page_content='Sensory Memory: This is the earliest stage of memory, providing the ability to retain impressions of sensory information (visual, auditory, etc) after the original stimuli have ended. Sensory memory typically only lasts for up to a few seconds. Subcategories include iconic memory (visual), echoic memory (auditory), and haptic memory (touch).\\n\\nShort-Term Memory (STM) or Working Memory: It stores information that we are currently aware of and needed to carry out complex cognitive tasks such as learning and reasoning. Short-term memory is believed to have the capacity of about 7 items (Miller 1956) and lasts for 20-30 seconds.\\n\\nLong-Term Memory (LTM): Long-term memory can store information for a remarkably long time, ranging from a few days to decades, with an essentially unlimited storage capacity. There are two subtypes of LTM:\\n\\nExplicit / declarative memory: This is memory of facts and events, and refers to those memories that can be consciously recalled, including episodic memory (events and experiences) and semantic memory (facts and concepts).\\nImplicit / procedural memory: This type of memory is unconscious and involves skills and routines that are performed automatically, like riding a bike or typing on a keyboard.\\n\\nFig. 8. Categorization of human memory.\\nWe can roughly consider the following mappings:\\n\\nSensory memory as learning embedding representations for raw inputs, including text, image or other modalities;\\nShort-term memory as in-context learning. It is short and finite, as it is restricted by the finite context window length of Transformer.\\nLong-term memory as the external vector store that the agent can attend to at query time, accessible via fast retrieval.\\nMaximum Inner Product Search (MIPS)\\nThe external memory can alleviate the restriction of finite attention span. A standard practice is to save the embedding representation of information into a vector store database that can support fast maximum inner-product search (MIPS). To optimize the retrieval speed, the common choice is the approximate nearest neighbors (ANN)\\u200b algorithm to return approximately top k nearest neighbors to trade off a little accuracy lost for a huge speedup.\\n\\nA couple common choices of ANN algorithms for fast MIPS:'), Document(metadata={'source': '../data/file/2023-06-23-agent.txt'}, page_content='LLM Powered Autonomous Agents\\n\\nDate: June 23, 2023 | Estimated Reading Time: 31 min | Author: Lilian Weng\\nTable of Contents\\nBuilding agents with LLM (large language model) as its core controller is a cool concept. Several proof-of-concepts demos, such as AutoGPT, GPT-Engineer and BabyAGI, serve as inspiring examples. The potentiality of LLM extends beyond generating well-written copies, stories, essays and programs; it can be framed as a powerful general problem solver.\\n\\nAgent System Overview\\nIn a LLM-powered autonomous agent system, LLM functions as the agent’s brain, complemented by several key components:\\n\\nPlanning\\nSubgoal and decomposition: The agent breaks down large tasks into smaller, manageable subgoals, enabling efficient handling of complex tasks.\\nReflection and refinement: The agent can do self-criticism and self-reflection over past actions, learn from mistakes and refine them for future steps, thereby improving the quality of final results.\\nMemory\\nShort-term memory: I would consider all the in-context learning (See Prompt Engineering) as utilizing short-term memory of the model to learn.\\nLong-term memory: This provides the agent with the capability to retain and recall (infinite) information over extended periods, often by leveraging an external vector store and fast retrieval.\\nTool use\\nThe agent learns to call external APIs for extra information that is missing from the model weights (often hard to change after pre-training), including current information, code execution capability, access to proprietary information sources and more.\\n\\nFig. 1. Overview of a LLM-powered autonomous agent system.\\nComponent One: Planning\\nA complicated task usually involves many steps. An agent needs to know what they are and plan ahead.\\n\\nTask Decomposition\\nChain of thought (CoT; Wei et al. 2022) has become a standard prompting technique for enhancing model performance on complex tasks. The model is instructed to “think step by step” to utilize more test-time computation to decompose hard tasks into smaller and simpler steps. CoT transforms big tasks into multiple manageable tasks and shed lights into an interpretation of the model’s thinking process.'), Document(metadata={'source': '../data/file/2023-06-23-agent.txt'}, page_content=\"Memory stream: is a long-term memory module (external database) that records a comprehensive list of agents’ experience in natural language.\\nEach element is an observation, an event directly provided by the agent. - Inter-agent communication can trigger new natural language statements.\\nRetrieval model: surfaces the context to inform the agent’s behavior, according to relevance, recency and importance.\\nRecency: recent events have higher scores\\nImportance: distinguish mundane from core memories. Ask LM directly.\\nRelevance: based on how related it is to the current situation / query.\\nReflection mechanism: synthesizes memories into higher level inferences over time and guides the agent’s future behavior. They are higher-level summaries of past events (<- note that this is a bit different from self-reflection above)\\nPrompt LM with 100 most recent observations and to generate 3 most salient high-level questions given a set of observations/statements. Then ask LM to answer those questions.\\nPlanning & Reacting: translate the reflections and the environment information into actions\\nPlanning is essentially in order to optimize believability at the moment vs in time.\\nPrompt template: {Intro of an agent X}. Here is X's plan today in broad strokes: 1)\\nRelationships between agents and observations of one agent by another are all taken into consideration for planning and reacting.\\nEnvironment information is present in a tree structure.\\n\\nFig. 13. The generative agent architecture. (Image source: Park et al. 2023)\\nThis fun simulation results in emergent social behavior, such as information diffusion, relationship memory (e.g. two agents continuing the conversation topic) and coordination of social events (e.g. host a party and invite many others).\\n\\nProof-of-Concept Examples\\nAutoGPT has drawn a lot of attention into the possibility of setting up autonomous agents with LLM as the main controller. It has quite a lot of reliability issues given the natural language interface, but nevertheless a cool proof-of-concept demo. A lot of code in AutoGPT is about format parsing.\\n\\nHere is the system message used by AutoGPT, where {{...}} are user inputs:\")]\n",
      "generation: Agent memory types include sensory memory, short-term memory, and long-term memory. Sensory memory briefly holds sensory information, short-term memory temporarily stores and manipulates information, and long-term memory provides permanent storage of information.\n",
      "* 答案被文件内容支持\n",
      "---生成评价&问题---\n",
      "question: What are the types of agent memory?\n",
      "generation: Agent memory types include sensory memory, short-term memory, and long-term memory. Sensory memory briefly holds sensory information, short-term memory temporarily stores and manipulates information, and long-term memory provides permanent storage of information.\n",
      "* 答案解决了问题\n",
      "\"Node 'answer_with_doc_node':\"\n",
      "'\\n---\\n'\n",
      "('Agent memory types include sensory memory, short-term memory, and long-term '\n",
      " 'memory. Sensory memory briefly holds sensory information, short-term memory '\n",
      " 'temporarily stores and manipulates information, and long-term memory '\n",
      " 'provides permanent storage of information.')\n"
     ]
    }
   ],
   "execution_count": 57
  },
  {
   "metadata": {},
   "cell_type": "markdown",
   "source": "#### (3) 需要由LLM直接回答的问题",
   "id": "ff38a8b600c3c6a9"
  },
  {
   "cell_type": "code",
   "id": "qPwP_2PNiOjQ",
   "metadata": {
    "colab": {
     "base_uri": "https://localhost:8080/"
    },
    "id": "qPwP_2PNiOjQ",
    "outputId": "98b70389-0ba3-4a8b-d295-e72749489327",
    "ExecuteTime": {
     "end_time": "2024-09-01T10:55:46.441029Z",
     "start_time": "2024-09-01T10:55:44.012893Z"
    }
   },
   "source": [
    "# Run\n",
    "inputs = {\"question\": \"Hello, who I am talking to?\"}\n",
    "for output in app.stream(inputs):\n",
    "    for key, value in output.items():\n",
    "        # 节点\n",
    "        pprint.pprint(f\"Node '{key}':\")\n",
    "        # 可选：打印每个节点的完整状态\n",
    "        # pprint.pprint(value[\"keys\"], indent=2, width=80, depth=None)\n",
    "    pprint.pprint(\"\\n---\\n\")\n",
    "\n",
    "# 最终生成\n",
    "pprint.pprint(value[\"generation\"])"
   ],
   "outputs": [
    {
     "name": "stdout",
     "output_type": "stream",
     "text": [
      "---路由用户问题---\n",
      "---把问题路由到LLM---\n",
      "---LLM Fallback---\n",
      "question: Hello, who I am talking to?\n",
      "generation: Hello, you're talking to an AI assistant designed to help with question-answering tasks. How can I assist you today? (no support document)\n",
      "\"Node 'answer_with_llm_node':\"\n",
      "'\\n---\\n'\n",
      "(\"Hello, you're talking to an AI assistant designed to help with \"\n",
      " 'question-answering tasks. How can I assist you today? (no support document)')\n"
     ]
    }
   ],
   "execution_count": 58
  },
  {
   "metadata": {},
   "cell_type": "markdown",
   "source": "#### (4) 同时使用Chat History以及Documents时，Response的结构",
   "id": "24378c3bab3c3c9d"
  },
  {
   "metadata": {
    "ExecuteTime": {
     "end_time": "2024-09-01T10:55:46.685552Z",
     "start_time": "2024-09-01T10:55:46.442718Z"
    }
   },
   "cell_type": "code",
   "source": [
    "from typing import Optional\n",
    "from lib.graph.self_reflection_rag.graph import RAGGraphWrapper \n",
    "from langchain_core.chat_history import BaseChatMessageHistory, InMemoryChatMessageHistory\n",
    "\n",
    "g_history = InMemoryChatMessageHistory()\n",
    "def get_by_session_id(session_id: Optional[str]=None) -> BaseChatMessageHistory:\n",
    "    return g_history\n",
    "\n",
    "graph_wrapper_with_history = RAGGraphWrapper(\n",
    "    vector_store_wrapper = vectorstore_wrapper, get_by_session_id = get_by_session_id)\n",
    "app_with_history = graph_wrapper.get_graph()"
   ],
   "id": "a5cd18c563012ee2",
   "outputs": [
    {
     "name": "stdout",
     "output_type": "stream",
     "text": [
      "<langchain_community.vectorstores.faiss.FAISS object at 0x12e0ad340>\n",
      "tvly-\n",
      "<lib.util.vector_store_utils.FAISSWrapper object at 0x12e1ccaa0>\n",
      "<langchain_community.vectorstores.faiss.FAISS object at 0x12e0ad340>\n"
     ]
    }
   ],
   "execution_count": 59
  },
  {
   "metadata": {
    "ExecuteTime": {
     "end_time": "2024-09-01T10:55:46.687794Z",
     "start_time": "2024-09-01T10:55:46.686119Z"
    }
   },
   "cell_type": "code",
   "source": [
    "def ask_question_with_history(question : str): \n",
    "    r = app_with_history.invoke({\"question\": question})\n",
    "    get_by_session_id().add_user_message(question)\n",
    "    get_by_session_id().add_ai_message(r['generation'])\n",
    "    return r"
   ],
   "id": "96a801af096a4744",
   "outputs": [],
   "execution_count": 60
  },
  {
   "metadata": {
    "ExecuteTime": {
     "end_time": "2024-09-01T10:55:49.157662Z",
     "start_time": "2024-09-01T10:55:46.688638Z"
    }
   },
   "cell_type": "code",
   "source": [
    "resp = ask_question_with_history(\"What are you?\")\n",
    "resp"
   ],
   "id": "8498d9d254b23938",
   "outputs": [
    {
     "name": "stdout",
     "output_type": "stream",
     "text": [
      "---路由用户问题---\n",
      "---把问题路由到LLM---\n",
      "---LLM Fallback---\n",
      "question: What are you?\n",
      "generation: I am an AI assistant designed to provide information and answer questions based on my programming and available data. I do not have consciousness or emotions. My responses are generated through algorithms and natural language processing. (no support document)\n"
     ]
    },
    {
     "data": {
      "text/plain": [
       "{'question': 'What are you?',\n",
       " 'generation': 'I am an AI assistant designed to provide information and answer questions based on my programming and available data. I do not have consciousness or emotions. My responses are generated through algorithms and natural language processing. (no support document)'}"
      ]
     },
     "execution_count": 61,
     "metadata": {},
     "output_type": "execute_result"
    }
   ],
   "execution_count": 61
  },
  {
   "metadata": {
    "ExecuteTime": {
     "end_time": "2024-09-01T10:58:14.490882Z",
     "start_time": "2024-09-01T10:56:56.690137Z"
    }
   },
   "cell_type": "code",
   "source": [
    "# 因为只使用了snippet，提供给大模型的信息非常有限，导致大模型对于比较难回答的问题产生了幻觉\n",
    "# 幻觉检查模块发现了这个问题，并要求graph route back并进行重试\n",
    "# resp = ask_question_with_history(\"Who's Lvcai Xu?\")\n",
    "# resp"
   ],
   "id": "d2dc913c8eaf496",
   "outputs": [
    {
     "name": "stdout",
     "output_type": "stream",
     "text": [
      "---路由用户问题---\n",
      "---把问题路由到网络搜索---\n",
      "---网络搜索---\n",
      "web_results: [{'url': 'https://www.usenix.net/conference/usenixatc11/order-object-centric-deterministic-replay-java', 'content': 'Lvcai Xu, Fudan University. Haibo Chen, Fudan University. Binyu Zang, Fudan University. Open Access Media. USENIX is committed to Open Access to the research presented at\n",
      "---检查文件与问题的相关性---\n",
      "Question: Who's Lvcai Xu?\n",
      "Documents: page_content='Lvcai Xu, Fudan University. Haibo Ch...\n",
      "---打分：文档不相关---\n",
      "('id', None)\n",
      "---打分：文档不相关---\n",
      "('metadata', {})\n",
      "---打分：文档相关---\n",
      "---打分：文档相关---\n",
      "---评估已评分文件---\n",
      "---2个文件与问题相关---\n",
      "---GENERATE---\n",
      "question: Who's Lvcai Xu?\n",
      "generation: Lvcai Xu is a Chinese engineer and entrepreneur known for his work in the field of autonomous vehicles and as the co-founder of AutoX, a company focused on developing Level 4 autonomous dr\n",
      "---检查幻觉---\n",
      "documents: [('page_content', 'Lvcai Xu, Fudan University. Haibo Chen, Fudan University. Binyu Zang, Fudan University. Open Access Media. USENIX is committed to Open Access to the research presented at our events. Papers and proceedings are freely available to everyone once the event begins. Any video, audio, and/or slides that are posted after the event are also free and ...\\nYou are here. Home » Lvcai Xu, Fudan University. Tweet\\nObsidian operates on a folder of text documents; each new note in Obsidian generates a new text document, and all the documents can be searched from within the app.[6][3] Obsidian allows internal linking between notes and creates an interactive graph that visualizes the relationships between notes.[6][8][3] Text formatting in Obsidian is achieved through Markdown, but Obsidian provides the instantaneous previewing of formatted text.[6]\\nObsidian\\'s customer support is accessible only through email.[8] It is a cross-platform application that runs on Windows, Linux, and macOS, as well as mobile operating systems such as Android and iOS.[6] There is no web-based version of the software.[8] Obsidian can be customized by adding plugins and themes, which are also accessible from the mobile app, and which enable users to extend the software\\'s functionality with additional features or integration with other tools.[6] Obsidian differentiates between core plugins, which are released and maintained by the Obsidian team, and community plugins, which are contributed by users.[13] Examples of community plugins include a Kanban-style task board and a calendar widget.[3] There are over 200 community made themes to use with the app.\\n Li and Xu, who had met while studying at the University of Waterloo, had already collaborated on several development projects.[8] Obsidian was initially released on 30 March 2020.[9] Version 1.0.0 was released in October 2022.[10][11] Version 1.1, which added the Canvas core plugin, released in December 2022.[12]\\nFeatures[edit]\\nObsidian is built on Electron.[6] Contents\\nObsidian (software)\\nObsidian is a personal knowledge base and note-taking software application that operates on Markdown files.[2][3] It allows users to make internal links for notes and then to visualize the connections as a graph.[4][5]\\nDuring Xu\\'s two years at the helm, the Three Body Universe tapped talent from The Walt Disney Co. who specialized in IP development. In 2017, Lin got in touch with executives at Netflix Inc. after discussions with many production companies in Hollywood. On Sept. 1, 2020, Netflix announced a series based on \"The Three Body Problem.\"\\n2011 USENIX Annual Technical Conference June 15-17, 2011 Portland, OR, USA Message from the Program Co-Chairs ...'), ('type', 'Document')]\n",
      "generation: Lvcai Xu is a Chinese engineer and entrepreneur known for his work in the field of autonomous vehicles and as the co-founder of AutoX, a company focused on developing Level 4 autonomous driving technology.\n",
      "* 答案不能被文件支持\n",
      "---GENERATE---\n",
      "question: Who's Lvcai Xu?\n",
      "generation: Lvcai Xu is a Chinese engineer and entrepreneur known for his work in the field of autonomous vehicles and his role in the company AutoX.\n",
      "---检查幻觉---\n",
      "documents: [('page_content', 'Lvcai Xu, Fudan University. Haibo Chen, Fudan University. Binyu Zang, Fudan University. Open Access Media. USENIX is committed to Open Access to the research presented at our events. Papers and proceedings are freely available to everyone once the event begins. Any video, audio, and/or slides that are posted after the event are also free and ...\\nYou are here. Home » Lvcai Xu, Fudan University. Tweet\\nObsidian operates on a folder of text documents; each new note in Obsidian generates a new text document, and all the documents can be searched from within the app.[6][3] Obsidian allows internal linking between notes and creates an interactive graph that visualizes the relationships between notes.[6][8][3] Text formatting in Obsidian is achieved through Markdown, but Obsidian provides the instantaneous previewing of formatted text.[6]\\nObsidian\\'s customer support is accessible only through email.[8] It is a cross-platform application that runs on Windows, Linux, and macOS, as well as mobile operating systems such as Android and iOS.[6] There is no web-based version of the software.[8] Obsidian can be customized by adding plugins and themes, which are also accessible from the mobile app, and which enable users to extend the software\\'s functionality with additional features or integration with other tools.[6] Obsidian differentiates between core plugins, which are released and maintained by the Obsidian team, and community plugins, which are contributed by users.[13] Examples of community plugins include a Kanban-style task board and a calendar widget.[3] There are over 200 community made themes to use with the app.\\n Li and Xu, who had met while studying at the University of Waterloo, had already collaborated on several development projects.[8] Obsidian was initially released on 30 March 2020.[9] Version 1.0.0 was released in October 2022.[10][11] Version 1.1, which added the Canvas core plugin, released in December 2022.[12]\\nFeatures[edit]\\nObsidian is built on Electron.[6] Contents\\nObsidian (software)\\nObsidian is a personal knowledge base and note-taking software application that operates on Markdown files.[2][3] It allows users to make internal links for notes and then to visualize the connections as a graph.[4][5]\\nDuring Xu\\'s two years at the helm, the Three Body Universe tapped talent from The Walt Disney Co. who specialized in IP development. In 2017, Lin got in touch with executives at Netflix Inc. after discussions with many production companies in Hollywood. On Sept. 1, 2020, Netflix announced a series based on \"The Three Body Problem.\"\\n2011 USENIX Annual Technical Conference June 15-17, 2011 Portland, OR, USA Message from the Program Co-Chairs ...'), ('type', 'Document')]\n",
      "generation: Lvcai Xu is a Chinese engineer and entrepreneur known for his work in the field of autonomous vehicles and his role in the company AutoX.\n",
      "* 答案不能被文件支持\n",
      "---GENERATE---\n",
      "question: Who's Lvcai Xu?\n",
      "generation: Lvcai Xu is a Chinese engineer and entrepreneur known for his work in the field of autonomous vehicles and as the co-founder of AutoX, a company focused on developing Level 4 autonomous dr\n",
      "---检查幻觉---\n",
      "documents: [('page_content', 'Lvcai Xu, Fudan University. Haibo Chen, Fudan University. Binyu Zang, Fudan University. Open Access Media. USENIX is committed to Open Access to the research presented at our events. Papers and proceedings are freely available to everyone once the event begins. Any video, audio, and/or slides that are posted after the event are also free and ...\\nYou are here. Home » Lvcai Xu, Fudan University. Tweet\\nObsidian operates on a folder of text documents; each new note in Obsidian generates a new text document, and all the documents can be searched from within the app.[6][3] Obsidian allows internal linking between notes and creates an interactive graph that visualizes the relationships between notes.[6][8][3] Text formatting in Obsidian is achieved through Markdown, but Obsidian provides the instantaneous previewing of formatted text.[6]\\nObsidian\\'s customer support is accessible only through email.[8] It is a cross-platform application that runs on Windows, Linux, and macOS, as well as mobile operating systems such as Android and iOS.[6] There is no web-based version of the software.[8] Obsidian can be customized by adding plugins and themes, which are also accessible from the mobile app, and which enable users to extend the software\\'s functionality with additional features or integration with other tools.[6] Obsidian differentiates between core plugins, which are released and maintained by the Obsidian team, and community plugins, which are contributed by users.[13] Examples of community plugins include a Kanban-style task board and a calendar widget.[3] There are over 200 community made themes to use with the app.\\n Li and Xu, who had met while studying at the University of Waterloo, had already collaborated on several development projects.[8] Obsidian was initially released on 30 March 2020.[9] Version 1.0.0 was released in October 2022.[10][11] Version 1.1, which added the Canvas core plugin, released in December 2022.[12]\\nFeatures[edit]\\nObsidian is built on Electron.[6] Contents\\nObsidian (software)\\nObsidian is a personal knowledge base and note-taking software application that operates on Markdown files.[2][3] It allows users to make internal links for notes and then to visualize the connections as a graph.[4][5]\\nDuring Xu\\'s two years at the helm, the Three Body Universe tapped talent from The Walt Disney Co. who specialized in IP development. In 2017, Lin got in touch with executives at Netflix Inc. after discussions with many production companies in Hollywood. On Sept. 1, 2020, Netflix announced a series based on \"The Three Body Problem.\"\\n2011 USENIX Annual Technical Conference June 15-17, 2011 Portland, OR, USA Message from the Program Co-Chairs ...'), ('type', 'Document')]\n",
      "generation: Lvcai Xu is a Chinese engineer and entrepreneur known for his work in the field of autonomous vehicles and as the co-founder of AutoX, a company focused on developing Level 4 autonomous driving technology.\n",
      "* 答案不能被文件支持\n",
      "---GENERATE---\n",
      "question: Who's Lvcai Xu?\n",
      "generation: Lvcai Xu is a Chinese engineer and entrepreneur known for his work in the field of autonomous vehicles and as the co-founder of AutoX, a company focused on developing Level 4 autonomous dr\n",
      "---检查幻觉---\n",
      "documents: [('page_content', 'Lvcai Xu, Fudan University. Haibo Chen, Fudan University. Binyu Zang, Fudan University. Open Access Media. USENIX is committed to Open Access to the research presented at our events. Papers and proceedings are freely available to everyone once the event begins. Any video, audio, and/or slides that are posted after the event are also free and ...\\nYou are here. Home » Lvcai Xu, Fudan University. Tweet\\nObsidian operates on a folder of text documents; each new note in Obsidian generates a new text document, and all the documents can be searched from within the app.[6][3] Obsidian allows internal linking between notes and creates an interactive graph that visualizes the relationships between notes.[6][8][3] Text formatting in Obsidian is achieved through Markdown, but Obsidian provides the instantaneous previewing of formatted text.[6]\\nObsidian\\'s customer support is accessible only through email.[8] It is a cross-platform application that runs on Windows, Linux, and macOS, as well as mobile operating systems such as Android and iOS.[6] There is no web-based version of the software.[8] Obsidian can be customized by adding plugins and themes, which are also accessible from the mobile app, and which enable users to extend the software\\'s functionality with additional features or integration with other tools.[6] Obsidian differentiates between core plugins, which are released and maintained by the Obsidian team, and community plugins, which are contributed by users.[13] Examples of community plugins include a Kanban-style task board and a calendar widget.[3] There are over 200 community made themes to use with the app.\\n Li and Xu, who had met while studying at the University of Waterloo, had already collaborated on several development projects.[8] Obsidian was initially released on 30 March 2020.[9] Version 1.0.0 was released in October 2022.[10][11] Version 1.1, which added the Canvas core plugin, released in December 2022.[12]\\nFeatures[edit]\\nObsidian is built on Electron.[6] Contents\\nObsidian (software)\\nObsidian is a personal knowledge base and note-taking software application that operates on Markdown files.[2][3] It allows users to make internal links for notes and then to visualize the connections as a graph.[4][5]\\nDuring Xu\\'s two years at the helm, the Three Body Universe tapped talent from The Walt Disney Co. who specialized in IP development. In 2017, Lin got in touch with executives at Netflix Inc. after discussions with many production companies in Hollywood. On Sept. 1, 2020, Netflix announced a series based on \"The Three Body Problem.\"\\n2011 USENIX Annual Technical Conference June 15-17, 2011 Portland, OR, USA Message from the Program Co-Chairs ...'), ('type', 'Document')]\n",
      "generation: Lvcai Xu is a Chinese engineer and entrepreneur known for his work in the field of autonomous vehicles and as the co-founder of AutoX, a company focused on developing Level 4 autonomous driving technology.\n",
      "* 答案不能被文件支持\n",
      "---GENERATE---\n",
      "question: Who's Lvcai Xu?\n",
      "generation: Lvcai Xu is a Chinese engineer and entrepreneur known for his work in the field of optoelectronics and his role in the development of fiber optic technology. He is recognized for co-foundi\n",
      "---检查幻觉---\n",
      "documents: [('page_content', 'Lvcai Xu, Fudan University. Haibo Chen, Fudan University. Binyu Zang, Fudan University. Open Access Media. USENIX is committed to Open Access to the research presented at our events. Papers and proceedings are freely available to everyone once the event begins. Any video, audio, and/or slides that are posted after the event are also free and ...\\nYou are here. Home » Lvcai Xu, Fudan University. Tweet\\nObsidian operates on a folder of text documents; each new note in Obsidian generates a new text document, and all the documents can be searched from within the app.[6][3] Obsidian allows internal linking between notes and creates an interactive graph that visualizes the relationships between notes.[6][8][3] Text formatting in Obsidian is achieved through Markdown, but Obsidian provides the instantaneous previewing of formatted text.[6]\\nObsidian\\'s customer support is accessible only through email.[8] It is a cross-platform application that runs on Windows, Linux, and macOS, as well as mobile operating systems such as Android and iOS.[6] There is no web-based version of the software.[8] Obsidian can be customized by adding plugins and themes, which are also accessible from the mobile app, and which enable users to extend the software\\'s functionality with additional features or integration with other tools.[6] Obsidian differentiates between core plugins, which are released and maintained by the Obsidian team, and community plugins, which are contributed by users.[13] Examples of community plugins include a Kanban-style task board and a calendar widget.[3] There are over 200 community made themes to use with the app.\\n Li and Xu, who had met while studying at the University of Waterloo, had already collaborated on several development projects.[8] Obsidian was initially released on 30 March 2020.[9] Version 1.0.0 was released in October 2022.[10][11] Version 1.1, which added the Canvas core plugin, released in December 2022.[12]\\nFeatures[edit]\\nObsidian is built on Electron.[6] Contents\\nObsidian (software)\\nObsidian is a personal knowledge base and note-taking software application that operates on Markdown files.[2][3] It allows users to make internal links for notes and then to visualize the connections as a graph.[4][5]\\nDuring Xu\\'s two years at the helm, the Three Body Universe tapped talent from The Walt Disney Co. who specialized in IP development. In 2017, Lin got in touch with executives at Netflix Inc. after discussions with many production companies in Hollywood. On Sept. 1, 2020, Netflix announced a series based on \"The Three Body Problem.\"\\n2011 USENIX Annual Technical Conference June 15-17, 2011 Portland, OR, USA Message from the Program Co-Chairs ...'), ('type', 'Document')]\n",
      "generation: Lvcai Xu is a Chinese engineer and entrepreneur known for his work in the field of optoelectronics and his role in the development of fiber optic technology. He is recognized for co-founding the company Huacai Optoelectronics.\n",
      "* 答案不能被文件支持\n",
      "---GENERATE---\n",
      "question: Who's Lvcai Xu?\n",
      "generation: Lvcai Xu is a Chinese engineer and entrepreneur known for his work in the field of autonomous vehicles and his role in the company AutoX.\n",
      "---检查幻觉---\n",
      "documents: [('page_content', 'Lvcai Xu, Fudan University. Haibo Chen, Fudan University. Binyu Zang, Fudan University. Open Access Media. USENIX is committed to Open Access to the research presented at our events. Papers and proceedings are freely available to everyone once the event begins. Any video, audio, and/or slides that are posted after the event are also free and ...\\nYou are here. Home » Lvcai Xu, Fudan University. Tweet\\nObsidian operates on a folder of text documents; each new note in Obsidian generates a new text document, and all the documents can be searched from within the app.[6][3] Obsidian allows internal linking between notes and creates an interactive graph that visualizes the relationships between notes.[6][8][3] Text formatting in Obsidian is achieved through Markdown, but Obsidian provides the instantaneous previewing of formatted text.[6]\\nObsidian\\'s customer support is accessible only through email.[8] It is a cross-platform application that runs on Windows, Linux, and macOS, as well as mobile operating systems such as Android and iOS.[6] There is no web-based version of the software.[8] Obsidian can be customized by adding plugins and themes, which are also accessible from the mobile app, and which enable users to extend the software\\'s functionality with additional features or integration with other tools.[6] Obsidian differentiates between core plugins, which are released and maintained by the Obsidian team, and community plugins, which are contributed by users.[13] Examples of community plugins include a Kanban-style task board and a calendar widget.[3] There are over 200 community made themes to use with the app.\\n Li and Xu, who had met while studying at the University of Waterloo, had already collaborated on several development projects.[8] Obsidian was initially released on 30 March 2020.[9] Version 1.0.0 was released in October 2022.[10][11] Version 1.1, which added the Canvas core plugin, released in December 2022.[12]\\nFeatures[edit]\\nObsidian is built on Electron.[6] Contents\\nObsidian (software)\\nObsidian is a personal knowledge base and note-taking software application that operates on Markdown files.[2][3] It allows users to make internal links for notes and then to visualize the connections as a graph.[4][5]\\nDuring Xu\\'s two years at the helm, the Three Body Universe tapped talent from The Walt Disney Co. who specialized in IP development. In 2017, Lin got in touch with executives at Netflix Inc. after discussions with many production companies in Hollywood. On Sept. 1, 2020, Netflix announced a series based on \"The Three Body Problem.\"\\n2011 USENIX Annual Technical Conference June 15-17, 2011 Portland, OR, USA Message from the Program Co-Chairs ...'), ('type', 'Document')]\n",
      "generation: Lvcai Xu is a Chinese engineer and entrepreneur known for his work in the field of autonomous vehicles and his role in the company AutoX.\n",
      "* 答案不能被文件支持\n",
      "---GENERATE---\n",
      "question: Who's Lvcai Xu?\n",
      "generation: Certainly, Lvcai Xu is a Chinese engineer and entrepreneur known for co-founding DJI, a leading company in the consumer drone and aerial photography market. He serves as the company's vice\n",
      "---检查幻觉---\n",
      "documents: [('page_content', 'Lvcai Xu, Fudan University. Haibo Chen, Fudan University. Binyu Zang, Fudan University. Open Access Media. USENIX is committed to Open Access to the research presented at our events. Papers and proceedings are freely available to everyone once the event begins. Any video, audio, and/or slides that are posted after the event are also free and ...\\nYou are here. Home » Lvcai Xu, Fudan University. Tweet\\nObsidian operates on a folder of text documents; each new note in Obsidian generates a new text document, and all the documents can be searched from within the app.[6][3] Obsidian allows internal linking between notes and creates an interactive graph that visualizes the relationships between notes.[6][8][3] Text formatting in Obsidian is achieved through Markdown, but Obsidian provides the instantaneous previewing of formatted text.[6]\\nObsidian\\'s customer support is accessible only through email.[8] It is a cross-platform application that runs on Windows, Linux, and macOS, as well as mobile operating systems such as Android and iOS.[6] There is no web-based version of the software.[8] Obsidian can be customized by adding plugins and themes, which are also accessible from the mobile app, and which enable users to extend the software\\'s functionality with additional features or integration with other tools.[6] Obsidian differentiates between core plugins, which are released and maintained by the Obsidian team, and community plugins, which are contributed by users.[13] Examples of community plugins include a Kanban-style task board and a calendar widget.[3] There are over 200 community made themes to use with the app.\\n Li and Xu, who had met while studying at the University of Waterloo, had already collaborated on several development projects.[8] Obsidian was initially released on 30 March 2020.[9] Version 1.0.0 was released in October 2022.[10][11] Version 1.1, which added the Canvas core plugin, released in December 2022.[12]\\nFeatures[edit]\\nObsidian is built on Electron.[6] Contents\\nObsidian (software)\\nObsidian is a personal knowledge base and note-taking software application that operates on Markdown files.[2][3] It allows users to make internal links for notes and then to visualize the connections as a graph.[4][5]\\nDuring Xu\\'s two years at the helm, the Three Body Universe tapped talent from The Walt Disney Co. who specialized in IP development. In 2017, Lin got in touch with executives at Netflix Inc. after discussions with many production companies in Hollywood. On Sept. 1, 2020, Netflix announced a series based on \"The Three Body Problem.\"\\n2011 USENIX Annual Technical Conference June 15-17, 2011 Portland, OR, USA Message from the Program Co-Chairs ...'), ('type', 'Document')]\n",
      "generation: Certainly, Lvcai Xu is a Chinese engineer and entrepreneur known for co-founding DJI, a leading company in the consumer drone and aerial photography market. He serves as the company's vice chairman.\n",
      "* 答案不能被文件支持\n",
      "---GENERATE---\n",
      "question: Who's Lvcai Xu?\n",
      "generation: Lvcai Xu is a Chinese engineer and entrepreneur known for his work in the field of autonomous vehicles and as the co-founder of AutoX, a company focused on developing Level 4 autonomous dr\n",
      "---检查幻觉---\n",
      "documents: [('page_content', 'Lvcai Xu, Fudan University. Haibo Chen, Fudan University. Binyu Zang, Fudan University. Open Access Media. USENIX is committed to Open Access to the research presented at our events. Papers and proceedings are freely available to everyone once the event begins. Any video, audio, and/or slides that are posted after the event are also free and ...\\nYou are here. Home » Lvcai Xu, Fudan University. Tweet\\nObsidian operates on a folder of text documents; each new note in Obsidian generates a new text document, and all the documents can be searched from within the app.[6][3] Obsidian allows internal linking between notes and creates an interactive graph that visualizes the relationships between notes.[6][8][3] Text formatting in Obsidian is achieved through Markdown, but Obsidian provides the instantaneous previewing of formatted text.[6]\\nObsidian\\'s customer support is accessible only through email.[8] It is a cross-platform application that runs on Windows, Linux, and macOS, as well as mobile operating systems such as Android and iOS.[6] There is no web-based version of the software.[8] Obsidian can be customized by adding plugins and themes, which are also accessible from the mobile app, and which enable users to extend the software\\'s functionality with additional features or integration with other tools.[6] Obsidian differentiates between core plugins, which are released and maintained by the Obsidian team, and community plugins, which are contributed by users.[13] Examples of community plugins include a Kanban-style task board and a calendar widget.[3] There are over 200 community made themes to use with the app.\\n Li and Xu, who had met while studying at the University of Waterloo, had already collaborated on several development projects.[8] Obsidian was initially released on 30 March 2020.[9] Version 1.0.0 was released in October 2022.[10][11] Version 1.1, which added the Canvas core plugin, released in December 2022.[12]\\nFeatures[edit]\\nObsidian is built on Electron.[6] Contents\\nObsidian (software)\\nObsidian is a personal knowledge base and note-taking software application that operates on Markdown files.[2][3] It allows users to make internal links for notes and then to visualize the connections as a graph.[4][5]\\nDuring Xu\\'s two years at the helm, the Three Body Universe tapped talent from The Walt Disney Co. who specialized in IP development. In 2017, Lin got in touch with executives at Netflix Inc. after discussions with many production companies in Hollywood. On Sept. 1, 2020, Netflix announced a series based on \"The Three Body Problem.\"\\n2011 USENIX Annual Technical Conference June 15-17, 2011 Portland, OR, USA Message from the Program Co-Chairs ...'), ('type', 'Document')]\n",
      "generation: Lvcai Xu is a Chinese engineer and entrepreneur known for his work in the field of autonomous vehicles and as the co-founder of AutoX, a company focused on developing Level 4 autonomous driving technology.\n",
      "* 答案不能被文件支持\n",
      "---GENERATE---\n",
      "question: Who's Lvcai Xu?\n",
      "generation: Lvcai Xu is a Chinese scientist known for his work in the field of optoelectronics, particularly for his contributions to the development of the laser. He is recognized for his pioneering \n",
      "---检查幻觉---\n",
      "documents: [('page_content', 'Lvcai Xu, Fudan University. Haibo Chen, Fudan University. Binyu Zang, Fudan University. Open Access Media. USENIX is committed to Open Access to the research presented at our events. Papers and proceedings are freely available to everyone once the event begins. Any video, audio, and/or slides that are posted after the event are also free and ...\\nYou are here. Home » Lvcai Xu, Fudan University. Tweet\\nObsidian operates on a folder of text documents; each new note in Obsidian generates a new text document, and all the documents can be searched from within the app.[6][3] Obsidian allows internal linking between notes and creates an interactive graph that visualizes the relationships between notes.[6][8][3] Text formatting in Obsidian is achieved through Markdown, but Obsidian provides the instantaneous previewing of formatted text.[6]\\nObsidian\\'s customer support is accessible only through email.[8] It is a cross-platform application that runs on Windows, Linux, and macOS, as well as mobile operating systems such as Android and iOS.[6] There is no web-based version of the software.[8] Obsidian can be customized by adding plugins and themes, which are also accessible from the mobile app, and which enable users to extend the software\\'s functionality with additional features or integration with other tools.[6] Obsidian differentiates between core plugins, which are released and maintained by the Obsidian team, and community plugins, which are contributed by users.[13] Examples of community plugins include a Kanban-style task board and a calendar widget.[3] There are over 200 community made themes to use with the app.\\n Li and Xu, who had met while studying at the University of Waterloo, had already collaborated on several development projects.[8] Obsidian was initially released on 30 March 2020.[9] Version 1.0.0 was released in October 2022.[10][11] Version 1.1, which added the Canvas core plugin, released in December 2022.[12]\\nFeatures[edit]\\nObsidian is built on Electron.[6] Contents\\nObsidian (software)\\nObsidian is a personal knowledge base and note-taking software application that operates on Markdown files.[2][3] It allows users to make internal links for notes and then to visualize the connections as a graph.[4][5]\\nDuring Xu\\'s two years at the helm, the Three Body Universe tapped talent from The Walt Disney Co. who specialized in IP development. In 2017, Lin got in touch with executives at Netflix Inc. after discussions with many production companies in Hollywood. On Sept. 1, 2020, Netflix announced a series based on \"The Three Body Problem.\"\\n2011 USENIX Annual Technical Conference June 15-17, 2011 Portland, OR, USA Message from the Program Co-Chairs ...'), ('type', 'Document')]\n",
      "generation: Lvcai Xu is a Chinese scientist known for his work in the field of optoelectronics, particularly for his contributions to the development of the laser. He is recognized for his pioneering research in the early stages of laser technology. Additionally, he has been involved in the academic community, contributing to the education and mentorship of future scientists.\n",
      "* 答案不能被文件支持\n",
      "---GENERATE---\n",
      "question: Who's Lvcai Xu?\n",
      "generation: Lvcai Xu is a Chinese scientist known for his work in the field of optoelectronics, particularly for his contributions to the development of the laser. He is recognized for his pioneering \n",
      "---检查幻觉---\n",
      "documents: [('page_content', 'Lvcai Xu, Fudan University. Haibo Chen, Fudan University. Binyu Zang, Fudan University. Open Access Media. USENIX is committed to Open Access to the research presented at our events. Papers and proceedings are freely available to everyone once the event begins. Any video, audio, and/or slides that are posted after the event are also free and ...\\nYou are here. Home » Lvcai Xu, Fudan University. Tweet\\nObsidian operates on a folder of text documents; each new note in Obsidian generates a new text document, and all the documents can be searched from within the app.[6][3] Obsidian allows internal linking between notes and creates an interactive graph that visualizes the relationships between notes.[6][8][3] Text formatting in Obsidian is achieved through Markdown, but Obsidian provides the instantaneous previewing of formatted text.[6]\\nObsidian\\'s customer support is accessible only through email.[8] It is a cross-platform application that runs on Windows, Linux, and macOS, as well as mobile operating systems such as Android and iOS.[6] There is no web-based version of the software.[8] Obsidian can be customized by adding plugins and themes, which are also accessible from the mobile app, and which enable users to extend the software\\'s functionality with additional features or integration with other tools.[6] Obsidian differentiates between core plugins, which are released and maintained by the Obsidian team, and community plugins, which are contributed by users.[13] Examples of community plugins include a Kanban-style task board and a calendar widget.[3] There are over 200 community made themes to use with the app.\\n Li and Xu, who had met while studying at the University of Waterloo, had already collaborated on several development projects.[8] Obsidian was initially released on 30 March 2020.[9] Version 1.0.0 was released in October 2022.[10][11] Version 1.1, which added the Canvas core plugin, released in December 2022.[12]\\nFeatures[edit]\\nObsidian is built on Electron.[6] Contents\\nObsidian (software)\\nObsidian is a personal knowledge base and note-taking software application that operates on Markdown files.[2][3] It allows users to make internal links for notes and then to visualize the connections as a graph.[4][5]\\nDuring Xu\\'s two years at the helm, the Three Body Universe tapped talent from The Walt Disney Co. who specialized in IP development. In 2017, Lin got in touch with executives at Netflix Inc. after discussions with many production companies in Hollywood. On Sept. 1, 2020, Netflix announced a series based on \"The Three Body Problem.\"\\n2011 USENIX Annual Technical Conference June 15-17, 2011 Portland, OR, USA Message from the Program Co-Chairs ...'), ('type', 'Document')]\n",
      "generation: Lvcai Xu is a Chinese scientist known for his work in the field of optoelectronics, particularly for his contributions to the development of the laser. He is recognized for his pioneering research in the early stages of laser technology. Additionally, he has been involved in the academic community, authoring numerous papers and contributing to the scientific discourse in his field.\n",
      "* 答案不能被文件支持\n",
      "---GENERATE---\n",
      "question: Who's Lvcai Xu?\n",
      "generation: Lvcai Xu is a Chinese engineer and entrepreneur known for his work in the field of autonomous vehicles and as the co-founder of AutoX, a company focused on developing Level 4 autonomous dr\n",
      "---检查幻觉---\n",
      "documents: [('page_content', 'Lvcai Xu, Fudan University. Haibo Chen, Fudan University. Binyu Zang, Fudan University. Open Access Media. USENIX is committed to Open Access to the research presented at our events. Papers and proceedings are freely available to everyone once the event begins. Any video, audio, and/or slides that are posted after the event are also free and ...\\nYou are here. Home » Lvcai Xu, Fudan University. Tweet\\nObsidian operates on a folder of text documents; each new note in Obsidian generates a new text document, and all the documents can be searched from within the app.[6][3] Obsidian allows internal linking between notes and creates an interactive graph that visualizes the relationships between notes.[6][8][3] Text formatting in Obsidian is achieved through Markdown, but Obsidian provides the instantaneous previewing of formatted text.[6]\\nObsidian\\'s customer support is accessible only through email.[8] It is a cross-platform application that runs on Windows, Linux, and macOS, as well as mobile operating systems such as Android and iOS.[6] There is no web-based version of the software.[8] Obsidian can be customized by adding plugins and themes, which are also accessible from the mobile app, and which enable users to extend the software\\'s functionality with additional features or integration with other tools.[6] Obsidian differentiates between core plugins, which are released and maintained by the Obsidian team, and community plugins, which are contributed by users.[13] Examples of community plugins include a Kanban-style task board and a calendar widget.[3] There are over 200 community made themes to use with the app.\\n Li and Xu, who had met while studying at the University of Waterloo, had already collaborated on several development projects.[8] Obsidian was initially released on 30 March 2020.[9] Version 1.0.0 was released in October 2022.[10][11] Version 1.1, which added the Canvas core plugin, released in December 2022.[12]\\nFeatures[edit]\\nObsidian is built on Electron.[6] Contents\\nObsidian (software)\\nObsidian is a personal knowledge base and note-taking software application that operates on Markdown files.[2][3] It allows users to make internal links for notes and then to visualize the connections as a graph.[4][5]\\nDuring Xu\\'s two years at the helm, the Three Body Universe tapped talent from The Walt Disney Co. who specialized in IP development. In 2017, Lin got in touch with executives at Netflix Inc. after discussions with many production companies in Hollywood. On Sept. 1, 2020, Netflix announced a series based on \"The Three Body Problem.\"\\n2011 USENIX Annual Technical Conference June 15-17, 2011 Portland, OR, USA Message from the Program Co-Chairs ...'), ('type', 'Document')]\n",
      "generation: Lvcai Xu is a Chinese engineer and entrepreneur known for his work in the field of autonomous vehicles and as the co-founder of AutoX, a company focused on developing Level 4 autonomous driving technology.\n",
      "* 答案不能被文件支持\n",
      "---GENERATE---\n",
      "question: Who's Lvcai Xu?\n",
      "generation: Lvcai Xu is a Chinese engineer and entrepreneur known for his work in the field of autonomous vehicles and his role in the company AutoX.\n",
      "---检查幻觉---\n",
      "documents: [('page_content', 'Lvcai Xu, Fudan University. Haibo Chen, Fudan University. Binyu Zang, Fudan University. Open Access Media. USENIX is committed to Open Access to the research presented at our events. Papers and proceedings are freely available to everyone once the event begins. Any video, audio, and/or slides that are posted after the event are also free and ...\\nYou are here. Home » Lvcai Xu, Fudan University. Tweet\\nObsidian operates on a folder of text documents; each new note in Obsidian generates a new text document, and all the documents can be searched from within the app.[6][3] Obsidian allows internal linking between notes and creates an interactive graph that visualizes the relationships between notes.[6][8][3] Text formatting in Obsidian is achieved through Markdown, but Obsidian provides the instantaneous previewing of formatted text.[6]\\nObsidian\\'s customer support is accessible only through email.[8] It is a cross-platform application that runs on Windows, Linux, and macOS, as well as mobile operating systems such as Android and iOS.[6] There is no web-based version of the software.[8] Obsidian can be customized by adding plugins and themes, which are also accessible from the mobile app, and which enable users to extend the software\\'s functionality with additional features or integration with other tools.[6] Obsidian differentiates between core plugins, which are released and maintained by the Obsidian team, and community plugins, which are contributed by users.[13] Examples of community plugins include a Kanban-style task board and a calendar widget.[3] There are over 200 community made themes to use with the app.\\n Li and Xu, who had met while studying at the University of Waterloo, had already collaborated on several development projects.[8] Obsidian was initially released on 30 March 2020.[9] Version 1.0.0 was released in October 2022.[10][11] Version 1.1, which added the Canvas core plugin, released in December 2022.[12]\\nFeatures[edit]\\nObsidian is built on Electron.[6] Contents\\nObsidian (software)\\nObsidian is a personal knowledge base and note-taking software application that operates on Markdown files.[2][3] It allows users to make internal links for notes and then to visualize the connections as a graph.[4][5]\\nDuring Xu\\'s two years at the helm, the Three Body Universe tapped talent from The Walt Disney Co. who specialized in IP development. In 2017, Lin got in touch with executives at Netflix Inc. after discussions with many production companies in Hollywood. On Sept. 1, 2020, Netflix announced a series based on \"The Three Body Problem.\"\\n2011 USENIX Annual Technical Conference June 15-17, 2011 Portland, OR, USA Message from the Program Co-Chairs ...'), ('type', 'Document')]\n",
      "generation: Lvcai Xu is a Chinese engineer and entrepreneur known for his work in the field of autonomous vehicles and his role in the company AutoX.\n",
      "* 答案不能被文件支持\n",
      "---GENERATE---\n",
      "question: Who's Lvcai Xu?\n",
      "generation: Lvcai Xu is a Chinese scientist known for his work in the field of optoelectronics, particularly for his contributions to the development of the laser. He is recognized for his pioneering \n",
      "---检查幻觉---\n",
      "documents: [('page_content', 'Lvcai Xu, Fudan University. Haibo Chen, Fudan University. Binyu Zang, Fudan University. Open Access Media. USENIX is committed to Open Access to the research presented at our events. Papers and proceedings are freely available to everyone once the event begins. Any video, audio, and/or slides that are posted after the event are also free and ...\\nYou are here. Home » Lvcai Xu, Fudan University. Tweet\\nObsidian operates on a folder of text documents; each new note in Obsidian generates a new text document, and all the documents can be searched from within the app.[6][3] Obsidian allows internal linking between notes and creates an interactive graph that visualizes the relationships between notes.[6][8][3] Text formatting in Obsidian is achieved through Markdown, but Obsidian provides the instantaneous previewing of formatted text.[6]\\nObsidian\\'s customer support is accessible only through email.[8] It is a cross-platform application that runs on Windows, Linux, and macOS, as well as mobile operating systems such as Android and iOS.[6] There is no web-based version of the software.[8] Obsidian can be customized by adding plugins and themes, which are also accessible from the mobile app, and which enable users to extend the software\\'s functionality with additional features or integration with other tools.[6] Obsidian differentiates between core plugins, which are released and maintained by the Obsidian team, and community plugins, which are contributed by users.[13] Examples of community plugins include a Kanban-style task board and a calendar widget.[3] There are over 200 community made themes to use with the app.\\n Li and Xu, who had met while studying at the University of Waterloo, had already collaborated on several development projects.[8] Obsidian was initially released on 30 March 2020.[9] Version 1.0.0 was released in October 2022.[10][11] Version 1.1, which added the Canvas core plugin, released in December 2022.[12]\\nFeatures[edit]\\nObsidian is built on Electron.[6] Contents\\nObsidian (software)\\nObsidian is a personal knowledge base and note-taking software application that operates on Markdown files.[2][3] It allows users to make internal links for notes and then to visualize the connections as a graph.[4][5]\\nDuring Xu\\'s two years at the helm, the Three Body Universe tapped talent from The Walt Disney Co. who specialized in IP development. In 2017, Lin got in touch with executives at Netflix Inc. after discussions with many production companies in Hollywood. On Sept. 1, 2020, Netflix announced a series based on \"The Three Body Problem.\"\\n2011 USENIX Annual Technical Conference June 15-17, 2011 Portland, OR, USA Message from the Program Co-Chairs ...'), ('type', 'Document')]\n",
      "generation: Lvcai Xu is a Chinese scientist known for his work in the field of optoelectronics, particularly for his contributions to the development of the laser. He is recognized for his pioneering research in the early stages of laser technology. Additionally, he has been involved in the academic community, contributing to the education and mentorship of future scientists.\n",
      "* 答案不能被文件支持\n",
      "---GENERATE---\n",
      "question: Who's Lvcai Xu?\n",
      "generation: Lvcai Xu is a Chinese engineer and entrepreneur known for his work in the field of autonomous vehicles and as the co-founder of AutoX, a company focused on developing Level 4 autonomous dr\n",
      "---检查幻觉---\n",
      "documents: [('page_content', 'Lvcai Xu, Fudan University. Haibo Chen, Fudan University. Binyu Zang, Fudan University. Open Access Media. USENIX is committed to Open Access to the research presented at our events. Papers and proceedings are freely available to everyone once the event begins. Any video, audio, and/or slides that are posted after the event are also free and ...\\nYou are here. Home » Lvcai Xu, Fudan University. Tweet\\nObsidian operates on a folder of text documents; each new note in Obsidian generates a new text document, and all the documents can be searched from within the app.[6][3] Obsidian allows internal linking between notes and creates an interactive graph that visualizes the relationships between notes.[6][8][3] Text formatting in Obsidian is achieved through Markdown, but Obsidian provides the instantaneous previewing of formatted text.[6]\\nObsidian\\'s customer support is accessible only through email.[8] It is a cross-platform application that runs on Windows, Linux, and macOS, as well as mobile operating systems such as Android and iOS.[6] There is no web-based version of the software.[8] Obsidian can be customized by adding plugins and themes, which are also accessible from the mobile app, and which enable users to extend the software\\'s functionality with additional features or integration with other tools.[6] Obsidian differentiates between core plugins, which are released and maintained by the Obsidian team, and community plugins, which are contributed by users.[13] Examples of community plugins include a Kanban-style task board and a calendar widget.[3] There are over 200 community made themes to use with the app.\\n Li and Xu, who had met while studying at the University of Waterloo, had already collaborated on several development projects.[8] Obsidian was initially released on 30 March 2020.[9] Version 1.0.0 was released in October 2022.[10][11] Version 1.1, which added the Canvas core plugin, released in December 2022.[12]\\nFeatures[edit]\\nObsidian is built on Electron.[6] Contents\\nObsidian (software)\\nObsidian is a personal knowledge base and note-taking software application that operates on Markdown files.[2][3] It allows users to make internal links for notes and then to visualize the connections as a graph.[4][5]\\nDuring Xu\\'s two years at the helm, the Three Body Universe tapped talent from The Walt Disney Co. who specialized in IP development. In 2017, Lin got in touch with executives at Netflix Inc. after discussions with many production companies in Hollywood. On Sept. 1, 2020, Netflix announced a series based on \"The Three Body Problem.\"\\n2011 USENIX Annual Technical Conference June 15-17, 2011 Portland, OR, USA Message from the Program Co-Chairs ...'), ('type', 'Document')]\n",
      "generation: Lvcai Xu is a Chinese engineer and entrepreneur known for his work in the field of autonomous vehicles and as the co-founder of AutoX, a company focused on developing Level 4 autonomous driving technology.\n",
      "* 答案不能被文件支持\n",
      "---GENERATE---\n",
      "question: Who's Lvcai Xu?\n",
      "generation: Lvcai Xu is a Chinese engineer and entrepreneur known for his work in the field of autonomous vehicles and his role in the company AutoX.\n",
      "---检查幻觉---\n",
      "documents: [('page_content', 'Lvcai Xu, Fudan University. Haibo Chen, Fudan University. Binyu Zang, Fudan University. Open Access Media. USENIX is committed to Open Access to the research presented at our events. Papers and proceedings are freely available to everyone once the event begins. Any video, audio, and/or slides that are posted after the event are also free and ...\\nYou are here. Home » Lvcai Xu, Fudan University. Tweet\\nObsidian operates on a folder of text documents; each new note in Obsidian generates a new text document, and all the documents can be searched from within the app.[6][3] Obsidian allows internal linking between notes and creates an interactive graph that visualizes the relationships between notes.[6][8][3] Text formatting in Obsidian is achieved through Markdown, but Obsidian provides the instantaneous previewing of formatted text.[6]\\nObsidian\\'s customer support is accessible only through email.[8] It is a cross-platform application that runs on Windows, Linux, and macOS, as well as mobile operating systems such as Android and iOS.[6] There is no web-based version of the software.[8] Obsidian can be customized by adding plugins and themes, which are also accessible from the mobile app, and which enable users to extend the software\\'s functionality with additional features or integration with other tools.[6] Obsidian differentiates between core plugins, which are released and maintained by the Obsidian team, and community plugins, which are contributed by users.[13] Examples of community plugins include a Kanban-style task board and a calendar widget.[3] There are over 200 community made themes to use with the app.\\n Li and Xu, who had met while studying at the University of Waterloo, had already collaborated on several development projects.[8] Obsidian was initially released on 30 March 2020.[9] Version 1.0.0 was released in October 2022.[10][11] Version 1.1, which added the Canvas core plugin, released in December 2022.[12]\\nFeatures[edit]\\nObsidian is built on Electron.[6] Contents\\nObsidian (software)\\nObsidian is a personal knowledge base and note-taking software application that operates on Markdown files.[2][3] It allows users to make internal links for notes and then to visualize the connections as a graph.[4][5]\\nDuring Xu\\'s two years at the helm, the Three Body Universe tapped talent from The Walt Disney Co. who specialized in IP development. In 2017, Lin got in touch with executives at Netflix Inc. after discussions with many production companies in Hollywood. On Sept. 1, 2020, Netflix announced a series based on \"The Three Body Problem.\"\\n2011 USENIX Annual Technical Conference June 15-17, 2011 Portland, OR, USA Message from the Program Co-Chairs ...'), ('type', 'Document')]\n",
      "generation: Lvcai Xu is a Chinese engineer and entrepreneur known for his work in the field of autonomous vehicles and his role in the company AutoX.\n",
      "* 答案不能被文件支持\n",
      "---GENERATE---\n",
      "question: Who's Lvcai Xu?\n",
      "generation: Lvcai Xu is a Chinese engineer and entrepreneur known for his work in the field of autonomous vehicles and as the co-founder of AutoX, a company focused on developing Level 4 autonomous dr\n",
      "---检查幻觉---\n",
      "documents: [('page_content', 'Lvcai Xu, Fudan University. Haibo Chen, Fudan University. Binyu Zang, Fudan University. Open Access Media. USENIX is committed to Open Access to the research presented at our events. Papers and proceedings are freely available to everyone once the event begins. Any video, audio, and/or slides that are posted after the event are also free and ...\\nYou are here. Home » Lvcai Xu, Fudan University. Tweet\\nObsidian operates on a folder of text documents; each new note in Obsidian generates a new text document, and all the documents can be searched from within the app.[6][3] Obsidian allows internal linking between notes and creates an interactive graph that visualizes the relationships between notes.[6][8][3] Text formatting in Obsidian is achieved through Markdown, but Obsidian provides the instantaneous previewing of formatted text.[6]\\nObsidian\\'s customer support is accessible only through email.[8] It is a cross-platform application that runs on Windows, Linux, and macOS, as well as mobile operating systems such as Android and iOS.[6] There is no web-based version of the software.[8] Obsidian can be customized by adding plugins and themes, which are also accessible from the mobile app, and which enable users to extend the software\\'s functionality with additional features or integration with other tools.[6] Obsidian differentiates between core plugins, which are released and maintained by the Obsidian team, and community plugins, which are contributed by users.[13] Examples of community plugins include a Kanban-style task board and a calendar widget.[3] There are over 200 community made themes to use with the app.\\n Li and Xu, who had met while studying at the University of Waterloo, had already collaborated on several development projects.[8] Obsidian was initially released on 30 March 2020.[9] Version 1.0.0 was released in October 2022.[10][11] Version 1.1, which added the Canvas core plugin, released in December 2022.[12]\\nFeatures[edit]\\nObsidian is built on Electron.[6] Contents\\nObsidian (software)\\nObsidian is a personal knowledge base and note-taking software application that operates on Markdown files.[2][3] It allows users to make internal links for notes and then to visualize the connections as a graph.[4][5]\\nDuring Xu\\'s two years at the helm, the Three Body Universe tapped talent from The Walt Disney Co. who specialized in IP development. In 2017, Lin got in touch with executives at Netflix Inc. after discussions with many production companies in Hollywood. On Sept. 1, 2020, Netflix announced a series based on \"The Three Body Problem.\"\\n2011 USENIX Annual Technical Conference June 15-17, 2011 Portland, OR, USA Message from the Program Co-Chairs ...'), ('type', 'Document')]\n",
      "generation: Lvcai Xu is a Chinese engineer and entrepreneur known for his work in the field of autonomous vehicles and as the co-founder of AutoX, a company focused on developing Level 4 autonomous driving technology.\n",
      "* 答案不能被文件支持\n",
      "---GENERATE---\n",
      "question: Who's Lvcai Xu?\n",
      "generation: Lvcai Xu is a Chinese engineer and entrepreneur known for his work in the field of autonomous vehicles and as the co-founder of AutoX, a company focused on developing Level 4 autonomous dr\n",
      "---检查幻觉---\n",
      "documents: [('page_content', 'Lvcai Xu, Fudan University. Haibo Chen, Fudan University. Binyu Zang, Fudan University. Open Access Media. USENIX is committed to Open Access to the research presented at our events. Papers and proceedings are freely available to everyone once the event begins. Any video, audio, and/or slides that are posted after the event are also free and ...\\nYou are here. Home » Lvcai Xu, Fudan University. Tweet\\nObsidian operates on a folder of text documents; each new note in Obsidian generates a new text document, and all the documents can be searched from within the app.[6][3] Obsidian allows internal linking between notes and creates an interactive graph that visualizes the relationships between notes.[6][8][3] Text formatting in Obsidian is achieved through Markdown, but Obsidian provides the instantaneous previewing of formatted text.[6]\\nObsidian\\'s customer support is accessible only through email.[8] It is a cross-platform application that runs on Windows, Linux, and macOS, as well as mobile operating systems such as Android and iOS.[6] There is no web-based version of the software.[8] Obsidian can be customized by adding plugins and themes, which are also accessible from the mobile app, and which enable users to extend the software\\'s functionality with additional features or integration with other tools.[6] Obsidian differentiates between core plugins, which are released and maintained by the Obsidian team, and community plugins, which are contributed by users.[13] Examples of community plugins include a Kanban-style task board and a calendar widget.[3] There are over 200 community made themes to use with the app.\\n Li and Xu, who had met while studying at the University of Waterloo, had already collaborated on several development projects.[8] Obsidian was initially released on 30 March 2020.[9] Version 1.0.0 was released in October 2022.[10][11] Version 1.1, which added the Canvas core plugin, released in December 2022.[12]\\nFeatures[edit]\\nObsidian is built on Electron.[6] Contents\\nObsidian (software)\\nObsidian is a personal knowledge base and note-taking software application that operates on Markdown files.[2][3] It allows users to make internal links for notes and then to visualize the connections as a graph.[4][5]\\nDuring Xu\\'s two years at the helm, the Three Body Universe tapped talent from The Walt Disney Co. who specialized in IP development. In 2017, Lin got in touch with executives at Netflix Inc. after discussions with many production companies in Hollywood. On Sept. 1, 2020, Netflix announced a series based on \"The Three Body Problem.\"\\n2011 USENIX Annual Technical Conference June 15-17, 2011 Portland, OR, USA Message from the Program Co-Chairs ...'), ('type', 'Document')]\n",
      "generation: Lvcai Xu is a Chinese engineer and entrepreneur known for his work in the field of autonomous vehicles and as the co-founder of AutoX, a company focused on developing Level 4 autonomous driving technology.\n",
      "* 答案不能被文件支持\n",
      "---GENERATE---\n",
      "question: Who's Lvcai Xu?\n",
      "generation: Lvcai Xu is a Chinese engineer and entrepreneur known for his work in the field of autonomous vehicles and as the co-founder of AutoX, a company focused on developing Level 4 autonomous dr\n",
      "---检查幻觉---\n",
      "documents: [('page_content', 'Lvcai Xu, Fudan University. Haibo Chen, Fudan University. Binyu Zang, Fudan University. Open Access Media. USENIX is committed to Open Access to the research presented at our events. Papers and proceedings are freely available to everyone once the event begins. Any video, audio, and/or slides that are posted after the event are also free and ...\\nYou are here. Home » Lvcai Xu, Fudan University. Tweet\\nObsidian operates on a folder of text documents; each new note in Obsidian generates a new text document, and all the documents can be searched from within the app.[6][3] Obsidian allows internal linking between notes and creates an interactive graph that visualizes the relationships between notes.[6][8][3] Text formatting in Obsidian is achieved through Markdown, but Obsidian provides the instantaneous previewing of formatted text.[6]\\nObsidian\\'s customer support is accessible only through email.[8] It is a cross-platform application that runs on Windows, Linux, and macOS, as well as mobile operating systems such as Android and iOS.[6] There is no web-based version of the software.[8] Obsidian can be customized by adding plugins and themes, which are also accessible from the mobile app, and which enable users to extend the software\\'s functionality with additional features or integration with other tools.[6] Obsidian differentiates between core plugins, which are released and maintained by the Obsidian team, and community plugins, which are contributed by users.[13] Examples of community plugins include a Kanban-style task board and a calendar widget.[3] There are over 200 community made themes to use with the app.\\n Li and Xu, who had met while studying at the University of Waterloo, had already collaborated on several development projects.[8] Obsidian was initially released on 30 March 2020.[9] Version 1.0.0 was released in October 2022.[10][11] Version 1.1, which added the Canvas core plugin, released in December 2022.[12]\\nFeatures[edit]\\nObsidian is built on Electron.[6] Contents\\nObsidian (software)\\nObsidian is a personal knowledge base and note-taking software application that operates on Markdown files.[2][3] It allows users to make internal links for notes and then to visualize the connections as a graph.[4][5]\\nDuring Xu\\'s two years at the helm, the Three Body Universe tapped talent from The Walt Disney Co. who specialized in IP development. In 2017, Lin got in touch with executives at Netflix Inc. after discussions with many production companies in Hollywood. On Sept. 1, 2020, Netflix announced a series based on \"The Three Body Problem.\"\\n2011 USENIX Annual Technical Conference June 15-17, 2011 Portland, OR, USA Message from the Program Co-Chairs ...'), ('type', 'Document')]\n",
      "generation: Lvcai Xu is a Chinese engineer and entrepreneur known for his work in the field of autonomous vehicles and as the co-founder of AutoX, a company focused on developing Level 4 autonomous driving technology.\n",
      "* 答案不能被文件支持\n",
      "---GENERATE---\n",
      "question: Who's Lvcai Xu?\n",
      "generation: Lvcai Xu is a Chinese engineer and entrepreneur known for his work in the field of autonomous vehicles and as the co-founder of AutoX, a company focused on developing Level 4 autonomous dr\n",
      "---检查幻觉---\n",
      "documents: [('page_content', 'Lvcai Xu, Fudan University. Haibo Chen, Fudan University. Binyu Zang, Fudan University. Open Access Media. USENIX is committed to Open Access to the research presented at our events. Papers and proceedings are freely available to everyone once the event begins. Any video, audio, and/or slides that are posted after the event are also free and ...\\nYou are here. Home » Lvcai Xu, Fudan University. Tweet\\nObsidian operates on a folder of text documents; each new note in Obsidian generates a new text document, and all the documents can be searched from within the app.[6][3] Obsidian allows internal linking between notes and creates an interactive graph that visualizes the relationships between notes.[6][8][3] Text formatting in Obsidian is achieved through Markdown, but Obsidian provides the instantaneous previewing of formatted text.[6]\\nObsidian\\'s customer support is accessible only through email.[8] It is a cross-platform application that runs on Windows, Linux, and macOS, as well as mobile operating systems such as Android and iOS.[6] There is no web-based version of the software.[8] Obsidian can be customized by adding plugins and themes, which are also accessible from the mobile app, and which enable users to extend the software\\'s functionality with additional features or integration with other tools.[6] Obsidian differentiates between core plugins, which are released and maintained by the Obsidian team, and community plugins, which are contributed by users.[13] Examples of community plugins include a Kanban-style task board and a calendar widget.[3] There are over 200 community made themes to use with the app.\\n Li and Xu, who had met while studying at the University of Waterloo, had already collaborated on several development projects.[8] Obsidian was initially released on 30 March 2020.[9] Version 1.0.0 was released in October 2022.[10][11] Version 1.1, which added the Canvas core plugin, released in December 2022.[12]\\nFeatures[edit]\\nObsidian is built on Electron.[6] Contents\\nObsidian (software)\\nObsidian is a personal knowledge base and note-taking software application that operates on Markdown files.[2][3] It allows users to make internal links for notes and then to visualize the connections as a graph.[4][5]\\nDuring Xu\\'s two years at the helm, the Three Body Universe tapped talent from The Walt Disney Co. who specialized in IP development. In 2017, Lin got in touch with executives at Netflix Inc. after discussions with many production companies in Hollywood. On Sept. 1, 2020, Netflix announced a series based on \"The Three Body Problem.\"\\n2011 USENIX Annual Technical Conference June 15-17, 2011 Portland, OR, USA Message from the Program Co-Chairs ...'), ('type', 'Document')]\n",
      "generation: Lvcai Xu is a Chinese engineer and entrepreneur known for his work in the field of autonomous vehicles and as the co-founder of AutoX, a company focused on developing Level 4 autonomous driving technology.\n",
      "* 答案不能被文件支持\n",
      "---GENERATE---\n",
      "question: Who's Lvcai Xu?\n",
      "generation: Lvcai Xu is a Chinese engineer and entrepreneur known for his work in the field of autonomous vehicles and as the co-founder of AutoX, a company focused on developing Level 4 autonomous dr\n",
      "---检查幻觉---\n",
      "documents: [('page_content', 'Lvcai Xu, Fudan University. Haibo Chen, Fudan University. Binyu Zang, Fudan University. Open Access Media. USENIX is committed to Open Access to the research presented at our events. Papers and proceedings are freely available to everyone once the event begins. Any video, audio, and/or slides that are posted after the event are also free and ...\\nYou are here. Home » Lvcai Xu, Fudan University. Tweet\\nObsidian operates on a folder of text documents; each new note in Obsidian generates a new text document, and all the documents can be searched from within the app.[6][3] Obsidian allows internal linking between notes and creates an interactive graph that visualizes the relationships between notes.[6][8][3] Text formatting in Obsidian is achieved through Markdown, but Obsidian provides the instantaneous previewing of formatted text.[6]\\nObsidian\\'s customer support is accessible only through email.[8] It is a cross-platform application that runs on Windows, Linux, and macOS, as well as mobile operating systems such as Android and iOS.[6] There is no web-based version of the software.[8] Obsidian can be customized by adding plugins and themes, which are also accessible from the mobile app, and which enable users to extend the software\\'s functionality with additional features or integration with other tools.[6] Obsidian differentiates between core plugins, which are released and maintained by the Obsidian team, and community plugins, which are contributed by users.[13] Examples of community plugins include a Kanban-style task board and a calendar widget.[3] There are over 200 community made themes to use with the app.\\n Li and Xu, who had met while studying at the University of Waterloo, had already collaborated on several development projects.[8] Obsidian was initially released on 30 March 2020.[9] Version 1.0.0 was released in October 2022.[10][11] Version 1.1, which added the Canvas core plugin, released in December 2022.[12]\\nFeatures[edit]\\nObsidian is built on Electron.[6] Contents\\nObsidian (software)\\nObsidian is a personal knowledge base and note-taking software application that operates on Markdown files.[2][3] It allows users to make internal links for notes and then to visualize the connections as a graph.[4][5]\\nDuring Xu\\'s two years at the helm, the Three Body Universe tapped talent from The Walt Disney Co. who specialized in IP development. In 2017, Lin got in touch with executives at Netflix Inc. after discussions with many production companies in Hollywood. On Sept. 1, 2020, Netflix announced a series based on \"The Three Body Problem.\"\\n2011 USENIX Annual Technical Conference June 15-17, 2011 Portland, OR, USA Message from the Program Co-Chairs ...'), ('type', 'Document')]\n",
      "generation: Lvcai Xu is a Chinese engineer and entrepreneur known for his work in the field of autonomous vehicles and as the co-founder of AutoX, a company focused on developing Level 4 autonomous driving technology.\n",
      "* 答案不能被文件支持\n",
      "---GENERATE---\n",
      "question: Who's Lvcai Xu?\n",
      "generation: Lvcai Xu is a Chinese engineer and entrepreneur known for his work in the field of autonomous vehicles and his role in the company AutoX.\n",
      "---检查幻觉---\n",
      "documents: [('page_content', 'Lvcai Xu, Fudan University. Haibo Chen, Fudan University. Binyu Zang, Fudan University. Open Access Media. USENIX is committed to Open Access to the research presented at our events. Papers and proceedings are freely available to everyone once the event begins. Any video, audio, and/or slides that are posted after the event are also free and ...\\nYou are here. Home » Lvcai Xu, Fudan University. Tweet\\nObsidian operates on a folder of text documents; each new note in Obsidian generates a new text document, and all the documents can be searched from within the app.[6][3] Obsidian allows internal linking between notes and creates an interactive graph that visualizes the relationships between notes.[6][8][3] Text formatting in Obsidian is achieved through Markdown, but Obsidian provides the instantaneous previewing of formatted text.[6]\\nObsidian\\'s customer support is accessible only through email.[8] It is a cross-platform application that runs on Windows, Linux, and macOS, as well as mobile operating systems such as Android and iOS.[6] There is no web-based version of the software.[8] Obsidian can be customized by adding plugins and themes, which are also accessible from the mobile app, and which enable users to extend the software\\'s functionality with additional features or integration with other tools.[6] Obsidian differentiates between core plugins, which are released and maintained by the Obsidian team, and community plugins, which are contributed by users.[13] Examples of community plugins include a Kanban-style task board and a calendar widget.[3] There are over 200 community made themes to use with the app.\\n Li and Xu, who had met while studying at the University of Waterloo, had already collaborated on several development projects.[8] Obsidian was initially released on 30 March 2020.[9] Version 1.0.0 was released in October 2022.[10][11] Version 1.1, which added the Canvas core plugin, released in December 2022.[12]\\nFeatures[edit]\\nObsidian is built on Electron.[6] Contents\\nObsidian (software)\\nObsidian is a personal knowledge base and note-taking software application that operates on Markdown files.[2][3] It allows users to make internal links for notes and then to visualize the connections as a graph.[4][5]\\nDuring Xu\\'s two years at the helm, the Three Body Universe tapped talent from The Walt Disney Co. who specialized in IP development. In 2017, Lin got in touch with executives at Netflix Inc. after discussions with many production companies in Hollywood. On Sept. 1, 2020, Netflix announced a series based on \"The Three Body Problem.\"\\n2011 USENIX Annual Technical Conference June 15-17, 2011 Portland, OR, USA Message from the Program Co-Chairs ...'), ('type', 'Document')]\n",
      "generation: Lvcai Xu is a Chinese engineer and entrepreneur known for his work in the field of autonomous vehicles and his role in the company AutoX.\n",
      "* 答案不能被文件支持\n",
      "---GENERATE---\n",
      "question: Who's Lvcai Xu?\n",
      "generation: Lvcai Xu is a Chinese engineer and entrepreneur known for his work in the field of autonomous vehicles and as the co-founder of AutoX, a company focused on developing Level 4 autonomous dr\n",
      "---检查幻觉---\n",
      "documents: [('page_content', 'Lvcai Xu, Fudan University. Haibo Chen, Fudan University. Binyu Zang, Fudan University. Open Access Media. USENIX is committed to Open Access to the research presented at our events. Papers and proceedings are freely available to everyone once the event begins. Any video, audio, and/or slides that are posted after the event are also free and ...\\nYou are here. Home » Lvcai Xu, Fudan University. Tweet\\nObsidian operates on a folder of text documents; each new note in Obsidian generates a new text document, and all the documents can be searched from within the app.[6][3] Obsidian allows internal linking between notes and creates an interactive graph that visualizes the relationships between notes.[6][8][3] Text formatting in Obsidian is achieved through Markdown, but Obsidian provides the instantaneous previewing of formatted text.[6]\\nObsidian\\'s customer support is accessible only through email.[8] It is a cross-platform application that runs on Windows, Linux, and macOS, as well as mobile operating systems such as Android and iOS.[6] There is no web-based version of the software.[8] Obsidian can be customized by adding plugins and themes, which are also accessible from the mobile app, and which enable users to extend the software\\'s functionality with additional features or integration with other tools.[6] Obsidian differentiates between core plugins, which are released and maintained by the Obsidian team, and community plugins, which are contributed by users.[13] Examples of community plugins include a Kanban-style task board and a calendar widget.[3] There are over 200 community made themes to use with the app.\\n Li and Xu, who had met while studying at the University of Waterloo, had already collaborated on several development projects.[8] Obsidian was initially released on 30 March 2020.[9] Version 1.0.0 was released in October 2022.[10][11] Version 1.1, which added the Canvas core plugin, released in December 2022.[12]\\nFeatures[edit]\\nObsidian is built on Electron.[6] Contents\\nObsidian (software)\\nObsidian is a personal knowledge base and note-taking software application that operates on Markdown files.[2][3] It allows users to make internal links for notes and then to visualize the connections as a graph.[4][5]\\nDuring Xu\\'s two years at the helm, the Three Body Universe tapped talent from The Walt Disney Co. who specialized in IP development. In 2017, Lin got in touch with executives at Netflix Inc. after discussions with many production companies in Hollywood. On Sept. 1, 2020, Netflix announced a series based on \"The Three Body Problem.\"\\n2011 USENIX Annual Technical Conference June 15-17, 2011 Portland, OR, USA Message from the Program Co-Chairs ...'), ('type', 'Document')]\n",
      "generation: Lvcai Xu is a Chinese engineer and entrepreneur known for his work in the field of autonomous vehicles and as the co-founder of AutoX, a company focused on developing Level 4 autonomous driving technology.\n",
      "* 答案不能被文件支持\n",
      "---GENERATE---\n",
      "question: Who's Lvcai Xu?\n",
      "generation: Lvcai Xu is a Chinese scientist known for his work in the field of optoelectronics, particularly for his contributions to the development of the laser. He is recognized for his pioneering \n",
      "---检查幻觉---\n",
      "documents: [('page_content', 'Lvcai Xu, Fudan University. Haibo Chen, Fudan University. Binyu Zang, Fudan University. Open Access Media. USENIX is committed to Open Access to the research presented at our events. Papers and proceedings are freely available to everyone once the event begins. Any video, audio, and/or slides that are posted after the event are also free and ...\\nYou are here. Home » Lvcai Xu, Fudan University. Tweet\\nObsidian operates on a folder of text documents; each new note in Obsidian generates a new text document, and all the documents can be searched from within the app.[6][3] Obsidian allows internal linking between notes and creates an interactive graph that visualizes the relationships between notes.[6][8][3] Text formatting in Obsidian is achieved through Markdown, but Obsidian provides the instantaneous previewing of formatted text.[6]\\nObsidian\\'s customer support is accessible only through email.[8] It is a cross-platform application that runs on Windows, Linux, and macOS, as well as mobile operating systems such as Android and iOS.[6] There is no web-based version of the software.[8] Obsidian can be customized by adding plugins and themes, which are also accessible from the mobile app, and which enable users to extend the software\\'s functionality with additional features or integration with other tools.[6] Obsidian differentiates between core plugins, which are released and maintained by the Obsidian team, and community plugins, which are contributed by users.[13] Examples of community plugins include a Kanban-style task board and a calendar widget.[3] There are over 200 community made themes to use with the app.\\n Li and Xu, who had met while studying at the University of Waterloo, had already collaborated on several development projects.[8] Obsidian was initially released on 30 March 2020.[9] Version 1.0.0 was released in October 2022.[10][11] Version 1.1, which added the Canvas core plugin, released in December 2022.[12]\\nFeatures[edit]\\nObsidian is built on Electron.[6] Contents\\nObsidian (software)\\nObsidian is a personal knowledge base and note-taking software application that operates on Markdown files.[2][3] It allows users to make internal links for notes and then to visualize the connections as a graph.[4][5]\\nDuring Xu\\'s two years at the helm, the Three Body Universe tapped talent from The Walt Disney Co. who specialized in IP development. In 2017, Lin got in touch with executives at Netflix Inc. after discussions with many production companies in Hollywood. On Sept. 1, 2020, Netflix announced a series based on \"The Three Body Problem.\"\\n2011 USENIX Annual Technical Conference June 15-17, 2011 Portland, OR, USA Message from the Program Co-Chairs ...'), ('type', 'Document')]\n",
      "generation: Lvcai Xu is a Chinese scientist known for his work in the field of optoelectronics, particularly for his contributions to the development of the laser. He is recognized for his pioneering research in the early stages of laser technology. Additionally, he has been involved in the academic community, contributing to the education and mentorship of future scientists.\n",
      "* 答案不能被文件支持\n"
     ]
    },
    {
     "ename": "GraphRecursionError",
     "evalue": "Recursion limit of 25 reached without hitting a stop condition. You can increase the limit by setting the `recursion_limit` config key.",
     "output_type": "error",
     "traceback": [
      "\u001B[0;31m---------------------------------------------------------------------------\u001B[0m",
      "\u001B[0;31mGraphRecursionError\u001B[0m                       Traceback (most recent call last)",
      "Cell \u001B[0;32mIn[69], line 3\u001B[0m\n\u001B[1;32m      1\u001B[0m \u001B[38;5;66;03m# 因为只使用了snippet，提供给大模型的信息非常有限，导致大模型对于比较难回答的问题产生了幻觉\u001B[39;00m\n\u001B[1;32m      2\u001B[0m \u001B[38;5;66;03m# 幻觉检查模块发现了这个问题，并要求graph route back并进行重试\u001B[39;00m\n\u001B[0;32m----> 3\u001B[0m resp \u001B[38;5;241m=\u001B[39m \u001B[43mask_question_with_history\u001B[49m\u001B[43m(\u001B[49m\u001B[38;5;124;43m\"\u001B[39;49m\u001B[38;5;124;43mWho\u001B[39;49m\u001B[38;5;124;43m'\u001B[39;49m\u001B[38;5;124;43ms Lvcai Xu?\u001B[39;49m\u001B[38;5;124;43m\"\u001B[39;49m\u001B[43m)\u001B[49m\n\u001B[1;32m      4\u001B[0m resp\n",
      "Cell \u001B[0;32mIn[60], line 2\u001B[0m, in \u001B[0;36mask_question_with_history\u001B[0;34m(question)\u001B[0m\n\u001B[1;32m      1\u001B[0m \u001B[38;5;28;01mdef\u001B[39;00m \u001B[38;5;21mask_question_with_history\u001B[39m(question : \u001B[38;5;28mstr\u001B[39m): \n\u001B[0;32m----> 2\u001B[0m     r \u001B[38;5;241m=\u001B[39m \u001B[43mapp_with_history\u001B[49m\u001B[38;5;241;43m.\u001B[39;49m\u001B[43minvoke\u001B[49m\u001B[43m(\u001B[49m\u001B[43m{\u001B[49m\u001B[38;5;124;43m\"\u001B[39;49m\u001B[38;5;124;43mquestion\u001B[39;49m\u001B[38;5;124;43m\"\u001B[39;49m\u001B[43m:\u001B[49m\u001B[43m \u001B[49m\u001B[43mquestion\u001B[49m\u001B[43m}\u001B[49m\u001B[43m)\u001B[49m\n\u001B[1;32m      3\u001B[0m     get_by_session_id()\u001B[38;5;241m.\u001B[39madd_user_message(question)\n\u001B[1;32m      4\u001B[0m     get_by_session_id()\u001B[38;5;241m.\u001B[39madd_ai_message(r[\u001B[38;5;124m'\u001B[39m\u001B[38;5;124mgeneration\u001B[39m\u001B[38;5;124m'\u001B[39m])\n",
      "File \u001B[0;32m~/Desktop/LLM/llm_lab/venv/lib/python3.12/site-packages/langgraph/pregel/__init__.py:1333\u001B[0m, in \u001B[0;36mPregel.invoke\u001B[0;34m(self, input, config, stream_mode, output_keys, interrupt_before, interrupt_after, debug, **kwargs)\u001B[0m\n\u001B[1;32m   1331\u001B[0m \u001B[38;5;28;01melse\u001B[39;00m:\n\u001B[1;32m   1332\u001B[0m     chunks \u001B[38;5;241m=\u001B[39m []\n\u001B[0;32m-> 1333\u001B[0m \u001B[43m\u001B[49m\u001B[38;5;28;43;01mfor\u001B[39;49;00m\u001B[43m \u001B[49m\u001B[43mchunk\u001B[49m\u001B[43m \u001B[49m\u001B[38;5;129;43;01min\u001B[39;49;00m\u001B[43m \u001B[49m\u001B[38;5;28;43mself\u001B[39;49m\u001B[38;5;241;43m.\u001B[39;49m\u001B[43mstream\u001B[49m\u001B[43m(\u001B[49m\n\u001B[1;32m   1334\u001B[0m \u001B[43m    \u001B[49m\u001B[38;5;28;43minput\u001B[39;49m\u001B[43m,\u001B[49m\n\u001B[1;32m   1335\u001B[0m \u001B[43m    \u001B[49m\u001B[43mconfig\u001B[49m\u001B[43m,\u001B[49m\n\u001B[1;32m   1336\u001B[0m \u001B[43m    \u001B[49m\u001B[43mstream_mode\u001B[49m\u001B[38;5;241;43m=\u001B[39;49m\u001B[43mstream_mode\u001B[49m\u001B[43m,\u001B[49m\n\u001B[1;32m   1337\u001B[0m \u001B[43m    \u001B[49m\u001B[43moutput_keys\u001B[49m\u001B[38;5;241;43m=\u001B[39;49m\u001B[43moutput_keys\u001B[49m\u001B[43m,\u001B[49m\n\u001B[1;32m   1338\u001B[0m \u001B[43m    \u001B[49m\u001B[43minterrupt_before\u001B[49m\u001B[38;5;241;43m=\u001B[39;49m\u001B[43minterrupt_before\u001B[49m\u001B[43m,\u001B[49m\n\u001B[1;32m   1339\u001B[0m \u001B[43m    \u001B[49m\u001B[43minterrupt_after\u001B[49m\u001B[38;5;241;43m=\u001B[39;49m\u001B[43minterrupt_after\u001B[49m\u001B[43m,\u001B[49m\n\u001B[1;32m   1340\u001B[0m \u001B[43m    \u001B[49m\u001B[43mdebug\u001B[49m\u001B[38;5;241;43m=\u001B[39;49m\u001B[43mdebug\u001B[49m\u001B[43m,\u001B[49m\n\u001B[1;32m   1341\u001B[0m \u001B[43m    \u001B[49m\u001B[38;5;241;43m*\u001B[39;49m\u001B[38;5;241;43m*\u001B[39;49m\u001B[43mkwargs\u001B[49m\u001B[43m,\u001B[49m\n\u001B[1;32m   1342\u001B[0m \u001B[43m\u001B[49m\u001B[43m)\u001B[49m\u001B[43m:\u001B[49m\n\u001B[1;32m   1343\u001B[0m \u001B[43m    \u001B[49m\u001B[38;5;28;43;01mif\u001B[39;49;00m\u001B[43m \u001B[49m\u001B[43mstream_mode\u001B[49m\u001B[43m \u001B[49m\u001B[38;5;241;43m==\u001B[39;49m\u001B[43m \u001B[49m\u001B[38;5;124;43m\"\u001B[39;49m\u001B[38;5;124;43mvalues\u001B[39;49m\u001B[38;5;124;43m\"\u001B[39;49m\u001B[43m:\u001B[49m\n\u001B[1;32m   1344\u001B[0m \u001B[43m        \u001B[49m\u001B[43mlatest\u001B[49m\u001B[43m \u001B[49m\u001B[38;5;241;43m=\u001B[39;49m\u001B[43m \u001B[49m\u001B[43mchunk\u001B[49m\n",
      "File \u001B[0;32m~/Desktop/LLM/llm_lab/venv/lib/python3.12/site-packages/langgraph/pregel/__init__.py:1038\u001B[0m, in \u001B[0;36mPregel.stream\u001B[0;34m(self, input, config, stream_mode, output_keys, interrupt_before, interrupt_after, debug)\u001B[0m\n\u001B[1;32m   1036\u001B[0m \u001B[38;5;66;03m# handle exit\u001B[39;00m\n\u001B[1;32m   1037\u001B[0m \u001B[38;5;28;01mif\u001B[39;00m loop\u001B[38;5;241m.\u001B[39mstatus \u001B[38;5;241m==\u001B[39m \u001B[38;5;124m\"\u001B[39m\u001B[38;5;124mout_of_steps\u001B[39m\u001B[38;5;124m\"\u001B[39m:\n\u001B[0;32m-> 1038\u001B[0m     \u001B[38;5;28;01mraise\u001B[39;00m GraphRecursionError(\n\u001B[1;32m   1039\u001B[0m         \u001B[38;5;124mf\u001B[39m\u001B[38;5;124m\"\u001B[39m\u001B[38;5;124mRecursion limit of \u001B[39m\u001B[38;5;132;01m{\u001B[39;00mconfig[\u001B[38;5;124m'\u001B[39m\u001B[38;5;124mrecursion_limit\u001B[39m\u001B[38;5;124m'\u001B[39m]\u001B[38;5;132;01m}\u001B[39;00m\u001B[38;5;124m reached \u001B[39m\u001B[38;5;124m\"\u001B[39m\n\u001B[1;32m   1040\u001B[0m         \u001B[38;5;124m\"\u001B[39m\u001B[38;5;124mwithout hitting a stop condition. You can increase the \u001B[39m\u001B[38;5;124m\"\u001B[39m\n\u001B[1;32m   1041\u001B[0m         \u001B[38;5;124m\"\u001B[39m\u001B[38;5;124mlimit by setting the `recursion_limit` config key.\u001B[39m\u001B[38;5;124m\"\u001B[39m\n\u001B[1;32m   1042\u001B[0m     )\n\u001B[1;32m   1043\u001B[0m \u001B[38;5;66;03m# set final channel values as run output\u001B[39;00m\n\u001B[1;32m   1044\u001B[0m run_manager\u001B[38;5;241m.\u001B[39mon_chain_end(read_channels(loop\u001B[38;5;241m.\u001B[39mchannels, output_keys))\n",
      "\u001B[0;31mGraphRecursionError\u001B[0m: Recursion limit of 25 reached without hitting a stop condition. You can increase the limit by setting the `recursion_limit` config key."
     ]
    }
   ],
   "execution_count": 69
  },
  {
   "metadata": {
    "ExecuteTime": {
     "end_time": "2024-09-01T10:58:32.564820Z",
     "start_time": "2024-09-01T10:58:20.375478Z"
    }
   },
   "cell_type": "code",
   "source": [
    "resp = ask_question_with_history(\"Introduce Java programming\")\n",
    "resp"
   ],
   "id": "fd6e544a6eabb1e1",
   "outputs": [
    {
     "name": "stdout",
     "output_type": "stream",
     "text": [
      "---路由用户问题---\n",
      "---把问题路由到网络搜索---\n",
      "---网络搜索---\n",
      "web_results: [{'url': 'https://introcs.cs.princeton.edu/java/home/', 'content': 'Introduction to Programming in Java. Our textbook Introduction to Programming in Java [ Amazon · Pearson · InformIT] is an interdisciplinary approach to the traditional CS1 curriculum with Java. We teach the classic ele\n",
      "---检查文件与问题的相关性---\n",
      "Question: Introduce Java programming\n",
      "Documents: page_content='Introduction to Programming in Java....\n",
      "---打分：文档不相关---\n",
      "('id', None)\n",
      "---打分：文档不相关---\n",
      "('metadata', {})\n",
      "---打分：文档相关---\n",
      "---打分：文档相关---\n",
      "---评估已评分文件---\n",
      "---2个文件与问题相关---\n",
      "---GENERATE---\n",
      "question: Introduce Java programming\n",
      "generation: Java is a widely-used, object-oriented programming language known for its portability and platform independence, enabling developers to write code that runs on any device with a Java Virtu\n",
      "---检查幻觉---\n",
      "documents: [('page_content', 'Introduction to Programming in Java. Our textbook Introduction to Programming in Java [ Amazon · Pearson · InformIT] is an interdisciplinary approach to the traditional CS1 curriculum with Java. We teach the classic elements of programming, using an \"objects-in-the-middle\" approach that emphasizes data abstraction. We motivate each ...\\nGet started with Java by learning about the basics of a Java program and variables! 4.6. 1,311 ratings. Start. 35,567 learners enrolled. This course includes. AI assistance for guided coding help. Projects to apply new skills. Quizzes to test your knowledge.\\nData Structures and Algorithms\\nML & Data Science\\nWeb Development\\nLanguages\\nInterview Corner\\nCS Subjects\\nJobs\\nPractice\\nContests\\nOverview of Java\\nBasics of Java\\nInput/Output in Java\\nFlow Control in Java\\nOperators in Java\\nStrings in Java\\nArrays in Java\\nOOPS in Java\\nInheritance in Java\\nAbstraction in Java\\nEncapsulation in Java\\nPolymorphism in Java\\nConstructors in Java\\nMethods in Java\\nInterfaces in Java\\nWrapper Classes in Java\\nKeywords in Java\\nAccess Modifiers in Java\\nMemory Allocation in Java\\nClasses of Java\\nPackages in Java\\nException Handling in Java\\nMultithreading in Java\\nSynchronization in Java\\nFile Handling in Java\\nJava Regex\\nJava IO\\nJava Networking\\nOverview of Java\\nBasics of Java\\nInput/Output in Java\\nFlow Control in Java\\nOperators in Java\\nStrings in Java\\nArrays in Java\\nOOPS in Java\\nInheritance in Java\\nAbstraction in Java\\nEncapsulation in Java\\nPolymorphism in Java\\nConstructors in Java\\nMethods in Java\\nInterfaces in Java\\nWrapper Classes in Java\\nKeywords in Java\\nAccess Modifiers in Java\\nMemory Allocation in Java\\nClasses of Java\\nPackages in Java\\nException Handling in Java\\nMultithreading in Java\\nSynchronization in Java\\nFile Handling in Java\\nJava Regex\\nJava IO\\nJava Networking\\nIntroduction to Java\\nJava is a class-based, object-oriented programming language that is designed to have as few implementation dependencies as possible. Example\\nJava\\nJava\\nJava\\nJava\\nJava\\nJava\\nExplanation:\\n1. \\xa0Comments: Comments are used for explaining code and are used in a similar manner in Java or C or C++. We can create a program using Text Editor (Notepad) or IDE (NetBeans)\\xa0 \\xa0 \\xa0 \\xa0 \\xa0 class Test\\xa0 \\xa0 \\xa0 \\xa0 \\xa0 {\\xa0 \\xa0 \\xa0 \\xa0 \\xa0 \\xa0 \\xa0 \\xa0 \\xa0 \\xa0 \\xa0public static void main(String []args)\\xa0 \\xa0 \\xa0 \\xa0 \\xa0 \\xa0 \\xa0 \\xa0 \\xa0 \\xa0 \\xa0{\\xa0 \\xa0 \\xa0 \\xa0 \\xa0 \\xa0 \\xa0 \\xa0 \\xa0 \\xa0 \\xa0 \\xa0 \\xa0 \\xa0 \\xa0 \\xa0 \\xa0 \\xa0System.out.println(“My First Java Program.”);\\xa0 \\xa0 \\xa0 \\xa0 \\xa0 \\xa0 \\xa0 \\xa0 \\xa0 \\xa0 \\xa0}\\xa0 \\xa0 \\xa0 \\xa0 \\xa0 };\\nFile -> Save -> d:\\\\Test.java\\n• Compiling the program\\xa0 To compile the program, we must run the Java compiler (javac), with the name of the source file on “command prompt” like as follows\\nIf everything is OK, the “javac” compiler creates a file called “Test.class” containing byte code of the program.\\n IMPORTANT POINTS OF JAVA:\\nHere are some important points about Java:\\nAdvantages of Java:\\nDisadvantages of Java:\\nPlease Login to comment...\\nG\\nWhat kind of Experience do you want to share? Java architecture is defined in such a way that it reduces overhead during the runtime and at some times java uses Just In Time (JIT) compiler where the compiler compiles code on-demand basics where it only compiles those methods that are called making applications to execute faster.\\n\\nplete Java programs and encourage readers to use them. We focus on programming by individuals, not library programming or programming in the large (which we treat brieﬂy in an appendix). Use in the Curriculum This book is intended for a ﬁrst-year college course aimed at teaching novices to program in the context of scientiﬁc applications.\\nCongratulations on taking the first step towards learning Java! As an AI and machine learning expert, I\\'ll be providing my insights to help you start coding Java the right way. Java is one of the most in-demand programming languages - used by 9+ million developers in roles ranging from application development to cutting-edge machine ...'), ('type', 'Document')]\n",
      "generation: Java is a widely-used, object-oriented programming language known for its portability and platform independence, enabling developers to write code that runs on any device with a Java Virtual Machine (JVM). It is commonly used for developing enterprise-level applications, web applications, and Android apps. Java emphasizes readability and simplicity, with a syntax similar to C++, and provides a robust standard library.\n",
      "* 答案被文件内容支持\n",
      "---生成评价&问题---\n",
      "question: Introduce Java programming\n",
      "generation: Java is a widely-used, object-oriented programming language known for its portability and platform independence, enabling developers to write code that runs on any device with a Java Virtual Machine (JVM). It is commonly used for developing enterprise-level applications, web applications, and Android apps. Java emphasizes readability and simplicity, with a syntax similar to C++, and provides a robust standard library.\n",
      "* 答案解决了问题\n"
     ]
    },
    {
     "data": {
      "text/plain": [
       "{'question': 'Introduce Java programming',\n",
       " 'generation': 'Java is a widely-used, object-oriented programming language known for its portability and platform independence, enabling developers to write code that runs on any device with a Java Virtual Machine (JVM). It is commonly used for developing enterprise-level applications, web applications, and Android apps. Java emphasizes readability and simplicity, with a syntax similar to C++, and provides a robust standard library.',\n",
       " 'documents': [('page_content',\n",
       "   'Introduction to Programming in Java. Our textbook Introduction to Programming in Java [ Amazon · Pearson · InformIT] is an interdisciplinary approach to the traditional CS1 curriculum with Java. We teach the classic elements of programming, using an \"objects-in-the-middle\" approach that emphasizes data abstraction. We motivate each ...\\nGet started with Java by learning about the basics of a Java program and variables! 4.6. 1,311 ratings. Start. 35,567 learners enrolled. This course includes. AI assistance for guided coding help. Projects to apply new skills. Quizzes to test your knowledge.\\nData Structures and Algorithms\\nML & Data Science\\nWeb Development\\nLanguages\\nInterview Corner\\nCS Subjects\\nJobs\\nPractice\\nContests\\nOverview of Java\\nBasics of Java\\nInput/Output in Java\\nFlow Control in Java\\nOperators in Java\\nStrings in Java\\nArrays in Java\\nOOPS in Java\\nInheritance in Java\\nAbstraction in Java\\nEncapsulation in Java\\nPolymorphism in Java\\nConstructors in Java\\nMethods in Java\\nInterfaces in Java\\nWrapper Classes in Java\\nKeywords in Java\\nAccess Modifiers in Java\\nMemory Allocation in Java\\nClasses of Java\\nPackages in Java\\nException Handling in Java\\nMultithreading in Java\\nSynchronization in Java\\nFile Handling in Java\\nJava Regex\\nJava IO\\nJava Networking\\nOverview of Java\\nBasics of Java\\nInput/Output in Java\\nFlow Control in Java\\nOperators in Java\\nStrings in Java\\nArrays in Java\\nOOPS in Java\\nInheritance in Java\\nAbstraction in Java\\nEncapsulation in Java\\nPolymorphism in Java\\nConstructors in Java\\nMethods in Java\\nInterfaces in Java\\nWrapper Classes in Java\\nKeywords in Java\\nAccess Modifiers in Java\\nMemory Allocation in Java\\nClasses of Java\\nPackages in Java\\nException Handling in Java\\nMultithreading in Java\\nSynchronization in Java\\nFile Handling in Java\\nJava Regex\\nJava IO\\nJava Networking\\nIntroduction to Java\\nJava is a class-based, object-oriented programming language that is designed to have as few implementation dependencies as possible. Example\\nJava\\nJava\\nJava\\nJava\\nJava\\nJava\\nExplanation:\\n1. \\xa0Comments: Comments are used for explaining code and are used in a similar manner in Java or C or C++. We can create a program using Text Editor (Notepad) or IDE (NetBeans)\\xa0 \\xa0 \\xa0 \\xa0 \\xa0 class Test\\xa0 \\xa0 \\xa0 \\xa0 \\xa0 {\\xa0 \\xa0 \\xa0 \\xa0 \\xa0 \\xa0 \\xa0 \\xa0 \\xa0 \\xa0 \\xa0public static void main(String []args)\\xa0 \\xa0 \\xa0 \\xa0 \\xa0 \\xa0 \\xa0 \\xa0 \\xa0 \\xa0 \\xa0{\\xa0 \\xa0 \\xa0 \\xa0 \\xa0 \\xa0 \\xa0 \\xa0 \\xa0 \\xa0 \\xa0 \\xa0 \\xa0 \\xa0 \\xa0 \\xa0 \\xa0 \\xa0System.out.println(“My First Java Program.”);\\xa0 \\xa0 \\xa0 \\xa0 \\xa0 \\xa0 \\xa0 \\xa0 \\xa0 \\xa0 \\xa0}\\xa0 \\xa0 \\xa0 \\xa0 \\xa0 };\\nFile -> Save -> d:\\\\Test.java\\n• Compiling the program\\xa0 To compile the program, we must run the Java compiler (javac), with the name of the source file on “command prompt” like as follows\\nIf everything is OK, the “javac” compiler creates a file called “Test.class” containing byte code of the program.\\n IMPORTANT POINTS OF JAVA:\\nHere are some important points about Java:\\nAdvantages of Java:\\nDisadvantages of Java:\\nPlease Login to comment...\\nG\\nWhat kind of Experience do you want to share? Java architecture is defined in such a way that it reduces overhead during the runtime and at some times java uses Just In Time (JIT) compiler where the compiler compiles code on-demand basics where it only compiles those methods that are called making applications to execute faster.\\n\\nplete Java programs and encourage readers to use them. We focus on programming by individuals, not library programming or programming in the large (which we treat brieﬂy in an appendix). Use in the Curriculum This book is intended for a ﬁrst-year college course aimed at teaching novices to program in the context of scientiﬁc applications.\\nCongratulations on taking the first step towards learning Java! As an AI and machine learning expert, I\\'ll be providing my insights to help you start coding Java the right way. Java is one of the most in-demand programming languages - used by 9+ million developers in roles ranging from application development to cutting-edge machine ...'),\n",
       "  ('type', 'Document')]}"
      ]
     },
     "execution_count": 70,
     "metadata": {},
     "output_type": "execute_result"
    }
   ],
   "execution_count": 70
  },
  {
   "metadata": {
    "ExecuteTime": {
     "end_time": "2024-09-01T10:59:02.353706Z",
     "start_time": "2024-09-01T10:58:52.553298Z"
    }
   },
   "cell_type": "code",
   "source": [
    "resp = ask_question_with_history(\"who is WQXTEXVS\")\n",
    "resp"
   ],
   "id": "5e53e58fced87e06",
   "outputs": [
    {
     "name": "stdout",
     "output_type": "stream",
     "text": [
      "---路由用户问题---\n",
      "---把问题路由到网络搜索---\n",
      "---网络搜索---\n",
      "web_results: [{'url': 'https://www.whois.com/whois/', 'content': \"The Whois database contains details such as the registration date of the domain name, when it expires, ownership and contact information, nameserver information of the domain, the registrar via which the domain was purchased, etc.\\n A\n",
      "---检查文件与问题的相关性---\n",
      "Question: who is WQXTEXVS\n",
      "Documents: page_content='The Whois database contains details ...\n",
      "---打分：文档不相关---\n",
      "('id', None)\n",
      "---打分：文档不相关---\n",
      "('metadata', {})\n",
      "---打分：文档不相关---\n",
      "('page_content', \"The Whois database contains details such as the registration date of the domain name, when it expires, ownership and contact information, nameserver information of the domain, the registrar via which the domain was purchased, etc.\\n Alternatively, if the domain name has already been registered, you can either register similar available domain names that we suggest, or use the contact information provided in order to get in touch with the owner and respectfully negotiate a sale. Similar to how a telephone number allows you to connect to a specific phone on the telecom network, similarly, an IP address allows your computer to connect to a specific server on the internet.\\n If you have purchased a domain, the information stored with your Domain registrar is what is passed on to the Registry for the Whois database. According to the rules established by ICANN, Registrars are expected to maintain the accuracy of the domain name owner's contact details in the Whois database.\\nPerform a WHOIS lookup by entering a domain or IP address above. This tool performs a WHOIS lookup on a remote address. A WHOIS lookup can help determine the owner of a domain name or an IP address on the Internet. Currently, the WHOIS lookup tool is limited to .com, .net, and .edu domains. ©2009 Kirk Ouimet Design.\\nFind a domain with the best domain registrar on the web. Start your domain search at Name.com. Find information on any domain name or website. Large database of whois information, DNS, domain names, name servers, IPs, and tools for searching and monitoring domain names.\\nThe IANA WHOIS Service is provided using the WHOIS protocol on port 43. This web gateway will query this server and return the results. Accepted query arguments are domain names, IP addresses and AS numbers. By submitting any personal data, you acknowledge and agree that the personal data submitted will be processed in accordance with our ...\\n“Very useful for investigations, we can go back in history and see when domains were registered and who owned them at a certain time.”\\n“WhoisXML API builds out data sets that help users correlate attack infrastructure with related IP and WHOIS information.”\\nPremium API Services\\nOur APIs are available in an enhanced version that offers better performance with a dedicated load balancer and a premium endpoint to enable faster throttling for large-scale API deployments.\\n We look forward to continuing our collaboration with WhoisXML API to help customer leverage critical domain insights in a secure cloud environment that aligns with their data privacy and governance requirements.”\\n“WhoisXML API is amazing for checking out the historic registration information of a domain, pivoting to locate the alternate registrations with the same details and also my cyber investigations. Working with them is smooth and straightforward.”\\n“WhoisXML API’s domain intelligence allows us to quickly integrate WHOIS lookups into our security heuristics and algorithms without having to worry about hosting services, staging and merging data, and the complicated task of normalization.”\\n Domain brokers and registrars can double-check a domain name’s latest details and verify ownership\\nbefore finalizing a sale and proceeding with the domain transfer.\\n WHOIS Lookup: Search for the owner of a domain, IP or email address\\nGather all the registration information from a domain’s or an IP address’s corresponding WHOIS\\nrecords.\")\n",
      "---打分：文档不相关---\n",
      "('type', 'Document')\n",
      "---评估已评分文件---\n",
      "---所有文件与问题无关 ---\n",
      "---LLM Fallback---\n",
      "question: who is WQXTEXVS\n",
      "generation: WQXTEXVS does not refer to a known individual or recognized entity; it appears to be a random or encrypted sequence of characters. Without additional context, it is impossible to determine who or what WQXTEXVS is. (no support document)\n"
     ]
    },
    {
     "data": {
      "text/plain": [
       "{'question': 'who is WQXTEXVS',\n",
       " 'generation': 'WQXTEXVS does not refer to a known individual or recognized entity; it appears to be a random or encrypted sequence of characters. Without additional context, it is impossible to determine who or what WQXTEXVS is. (no support document)',\n",
       " 'documents': []}"
      ]
     },
     "execution_count": 71,
     "metadata": {},
     "output_type": "execute_result"
    }
   ],
   "execution_count": 71
  },
  {
   "metadata": {
    "ExecuteTime": {
     "end_time": "2024-09-01T10:59:23.312709Z",
     "start_time": "2024-09-01T10:59:13.487847Z"
    }
   },
   "cell_type": "code",
   "source": [
    "resp = ask_question_with_history(\"Introduce prompt engineering\")\n",
    "resp"
   ],
   "id": "18d6e03b2eceaab1",
   "outputs": [
    {
     "name": "stdout",
     "output_type": "stream",
     "text": [
      "---路由用户问题---\n",
      "---把问题路由到数据库---\n",
      "---检索---\n",
      "---检查文件与问题的相关性---\n",
      "Question: Introduce prompt engineering\n",
      "Documents: [Document(metadata={'source': '../data/file/2023-0...\n",
      "---打分：文档相关---\n",
      "---打分：文档相关---\n",
      "---打分：文档相关---\n",
      "---打分：文档相关---\n",
      "---评估已评分文件---\n",
      "---4个文件与问题相关---\n",
      "---GENERATE---\n",
      "question: Introduce prompt engineering\n",
      "generation: Prompt engineering is a technique used in artificial intelligence where a user crafts and fine-tunes prompts to guide the AI's responses, enhancing the quality and relevance of the output.\n",
      "---检查幻觉---\n",
      "documents: [Document(metadata={'source': '../data/file/2023-03-15-prompt-engineering.txt'}, page_content=\"Prompt Engineering\\n\\nDate: March 15, 2023 | Estimated Reading Time: 21 min | Author: Lilian Weng\\nTable of Contents\\nPrompt Engineering, also known as In-Context Prompting, refers to methods for how to communicate with LLM to steer its behavior for desired outcomes without updating the model weights. It is an empirical science and the effect of prompt engineering methods can vary a lot among models, thus requiring heavy experimentation and heuristics.\\n\\nThis post only focuses on prompt engineering for autoregressive language models, so nothing with Cloze tests, image generation or multimodality models. At its core, the goal of prompt engineering is about alignment and model steerability. Check my previous post on controllable text generation.\\n\\n[My personal spicy take] In my opinion, some prompt engineering papers are not worthy 8 pages long, since those tricks can be explained in one or a few sentences and the rest is all about benchmarking. An easy-to-use and shared benchmark infrastructure should be more beneficial to the community. Iterative prompting or external tool use would not be trivial to set up. Also non-trivial to align the whole research community to adopt it.\\n\\nBasic Prompting\\nZero-shot and few-shot learning are two most basic approaches for prompting the model, pioneered by many LLM papers and commonly used for benchmarking LLM performance.\\n\\nZero-Shot\\nZero-shot learning is to simply feed the task text to the model and ask for results.\\n\\n(All the sentiment analysis examples are from SST-2)\\n\\nText: i'll bet the video game is a lot more fun than the film.\\nSentiment:\\nFew-shot\\nFew-shot learning presents a set of high-quality demonstrations, each consisting of both input and desired output, on the target task. As the model first sees good examples, it can better understand human intention and criteria for what kinds of answers are wanted. Therefore, few-shot learning often leads to better performance than zero-shot. However, it comes at the cost of more token consumption and may hit the context length limit when input and output text are long.\\n\\nText: (lawrence bounces) all over the stage, dancing, running, sweating, mopping his face and generally displaying the wacky talent that brought him fame in the first place.\\nSentiment: positive\"), Document(metadata={'source': '../data/file/2023-03-15-prompt-engineering.txt'}, page_content='Self-Ask (Press et al. 2022) is a method to repeatedly prompt the model to ask following-up questions to construct the thought process iteratively. Follow-up questions can be answered by search engine results. Similarly, IRCoT (Interleaving Retrieval CoT; Trivedi et al. 2022) and ReAct (Reason + Act; Yao et al. 2023) combines iterative CoT prompting with queries to Wikipedia APIs to search for relevant entities and content and then add it back into the context.\\n\\n\\nFig. 1. How Self-Ask works with external search queries.\\n(Image source: Press et al. 2022).\\nTree of Thoughts (Yao et al. 2023) extends CoT by exploring multiple reasoning possibilities at each step. It first decomposes the problem into multiple thought steps and generates multiple thoughts per step, essentially creating a tree structure. The search process can be BFS or DFS while each state is evaluated by a classifier (via a prompt) or majority vote.\\n\\nFig. 2. How Self-Ask works with external search queries.\\n(Image source: Yao et al. 2022).\\nAutomatic Prompt Design\\nPrompt is a sequence of prefix tokens that increase the probability of getting desired output given input. Therefore we can treat them as trainable parameters and optimize them directly on the embedding space via gradient descent, such as AutoPrompt (Shin et al., 2020, Prefix-Tuning (Li & Liang (2021)), P-tuning (Liu et al. 2021) and Prompt-Tuning (Lester et al. 2021). This section in my “Controllable Neural Text Generation” post has a good coverage of them. The trend from AutoPrompt to Prompt-Tuning is that the setup gets gradually simplified.\\n\\nAPE (Automatic Prompt Engineer; Zhou et al. 2022) is a method to search over a pool of model-generated instruction candidates and then filters the candidate set according to a chosen score function to ultimately choose the best candidate with highest score.\\n\\nPrompt LLM to generate instruction candidates based on a small set of demonstrations in the form of input-output pairs. E.g. {{Given desired input-output pairs}}\\\\n\\\\nThe instruction is.'), Document(metadata={'source': '../data/file/2023-03-15-prompt-engineering.txt'}, page_content='Please label the sentiment towards the movie of the given movie review. The sentiment label should be \"positive\" or \"negative\". \\nText: i\\'ll bet the video game is a lot more fun than the film. \\nSentiment:\\nExplaining the desired audience is another smart way to give instructions\\n\\nFor example to produce education materials for kids,\\nDescribe what is quantum physics to a 6-year-old.\\nAnd safe content,\\n... in language that is safe for work.\\nIn-context instruction learning (Ye et al. 2023) combines few-shot learning with instruction prompting. It incorporates multiple demonstration examples across different tasks in the prompt, each demonstration consisting of instruction, task input and output. Note that their experiments were only on classification tasks and the instruction prompt contains all label options.\\n\\nDefinition: Determine the speaker of the dialogue, \"agent\" or \"customer\".\\nInput: I have successfully booked your tickets.\\nOuput: agent\\n\\nDefinition: Determine which category the question asks for, \"Quantity\" or \"Location\".\\nInput: What\\'s the oldest building in US?\\nOuput: Location\\n\\nDefinition: Classify the sentiment of the given movie review, \"positive\" or \"negative\".\\nInput: i\\'ll bet the video game is a lot more fun than the film.\\nOutput:\\nSelf-Consistency Sampling\\nSelf-consistency sampling (Wang et al. 2022a) is to sample multiple outputs with temperature > 0 and then selecting the best one out of these candidates. The criteria for selecting the best candidate can vary from task to task. A general solution is to pick majority vote. For tasks that are easy to validate such as a programming question with unit tests, we can simply run through the interpreter and verify the correctness with unit tests.\\n\\nChain-of-Thought (CoT)\\nChain-of-thought (CoT) prompting (Wei et al. 2022) generates a sequence of short sentences to describe reasoning logics step by step, known as reasoning chains or rationales, to eventually lead to the final answer. The benefit of CoT is more pronounced for complicated reasoning tasks, while using large models (e.g. with more than 50B parameters). Simple tasks only benefit slightly from CoT prompting.\\n\\nTypes of CoT prompts\\nTwo main types of CoT prompting:'), Document(metadata={'source': '../data/file/2023-03-15-prompt-engineering.txt'}, page_content='Given a dataset of \\n, we would like to find an instruction \\n such that \\n, where \\n is a per-sample score function, such as execution accuracy 𝟙\\n or log probability: \\n.\\n\\nUse an iterative Monte Carlo search method to improve the best candidates by proposing semantically similar variants via prompts like Generate a variation of the following instruction while keeping the semantic meaning.\\\\n\\\\nInput: ...\\\\n\\\\nOutput:...\\n\\nTo construct chain-of-thought prompts automatically, Shum et al. (2023) suggested augment-prune-select, a three-step process:\\n\\nAugment: Generate multiple pseudo-chains of thought given question using few-shot or zero-shot CoT prompts;\\nPrune: Prune pseudo chains based on whether generated answers match ground truths.\\nSelect: Apply a variance-reduced policy gradient strategy to learn the probability distribution over selected examples, while considering the probability distribution over examples as policy and the validation set accuracy as reward.\\nZhang et al. (2023) instead adopted clustering techniques to sample questions and then generates chains. They observed that LLMs tend to make certain types of mistakes. One type of errors can be similar in the emebedding space and thus get grouped together. By only sampling one or a few from frequent-error clusters, we can prevent too many wrong demonstrations of one error type and collect a diverse set of examples.\\n\\nQuestion clustering: Embed questions and run \\n-means for clustering.\\nDemonstration selection: Select a set of representative questions from each cluster; i.e. one demonstration from one cluster. Samples in each cluster are sorted by distance to the cluster centroid and those closer to the centroid are selected first.\\nRationale generation: Use zero-shot CoT to generate reasoning chains for selected questions and construct few-shot prompt to run inference.\\nAugmented Language Models\\nA survey on augmented language models by Mialon et al. (2023) has great coverage over multiple categories of language models augmented with reasoning skills and the ability of using external tools. Recommend it.')]\n",
      "generation: Prompt engineering is a technique used in artificial intelligence where a user crafts and fine-tunes prompts to guide the AI's responses, enhancing the quality and relevance of the output. It involves understanding how to elicit the desired information or behavior from an AI model by carefully designing the input. This method is particularly useful in improving the performance of language models on specific tasks.\n",
      "* 答案被文件内容支持\n",
      "---生成评价&问题---\n",
      "question: Introduce prompt engineering\n",
      "generation: Prompt engineering is a technique used in artificial intelligence where a user crafts and fine-tunes prompts to guide the AI's responses, enhancing the quality and relevance of the output. It involves understanding how to elicit the desired information or behavior from an AI model by carefully designing the input. This method is particularly useful in improving the performance of language models on specific tasks.\n",
      "* 答案解决了问题\n"
     ]
    },
    {
     "data": {
      "text/plain": [
       "{'question': 'Introduce prompt engineering',\n",
       " 'generation': \"Prompt engineering is a technique used in artificial intelligence where a user crafts and fine-tunes prompts to guide the AI's responses, enhancing the quality and relevance of the output. It involves understanding how to elicit the desired information or behavior from an AI model by carefully designing the input. This method is particularly useful in improving the performance of language models on specific tasks.\",\n",
       " 'documents': [Document(metadata={'source': '../data/file/2023-03-15-prompt-engineering.txt'}, page_content=\"Prompt Engineering\\n\\nDate: March 15, 2023 | Estimated Reading Time: 21 min | Author: Lilian Weng\\nTable of Contents\\nPrompt Engineering, also known as In-Context Prompting, refers to methods for how to communicate with LLM to steer its behavior for desired outcomes without updating the model weights. It is an empirical science and the effect of prompt engineering methods can vary a lot among models, thus requiring heavy experimentation and heuristics.\\n\\nThis post only focuses on prompt engineering for autoregressive language models, so nothing with Cloze tests, image generation or multimodality models. At its core, the goal of prompt engineering is about alignment and model steerability. Check my previous post on controllable text generation.\\n\\n[My personal spicy take] In my opinion, some prompt engineering papers are not worthy 8 pages long, since those tricks can be explained in one or a few sentences and the rest is all about benchmarking. An easy-to-use and shared benchmark infrastructure should be more beneficial to the community. Iterative prompting or external tool use would not be trivial to set up. Also non-trivial to align the whole research community to adopt it.\\n\\nBasic Prompting\\nZero-shot and few-shot learning are two most basic approaches for prompting the model, pioneered by many LLM papers and commonly used for benchmarking LLM performance.\\n\\nZero-Shot\\nZero-shot learning is to simply feed the task text to the model and ask for results.\\n\\n(All the sentiment analysis examples are from SST-2)\\n\\nText: i'll bet the video game is a lot more fun than the film.\\nSentiment:\\nFew-shot\\nFew-shot learning presents a set of high-quality demonstrations, each consisting of both input and desired output, on the target task. As the model first sees good examples, it can better understand human intention and criteria for what kinds of answers are wanted. Therefore, few-shot learning often leads to better performance than zero-shot. However, it comes at the cost of more token consumption and may hit the context length limit when input and output text are long.\\n\\nText: (lawrence bounces) all over the stage, dancing, running, sweating, mopping his face and generally displaying the wacky talent that brought him fame in the first place.\\nSentiment: positive\"),\n",
       "  Document(metadata={'source': '../data/file/2023-03-15-prompt-engineering.txt'}, page_content='Self-Ask (Press et al. 2022) is a method to repeatedly prompt the model to ask following-up questions to construct the thought process iteratively. Follow-up questions can be answered by search engine results. Similarly, IRCoT (Interleaving Retrieval CoT; Trivedi et al. 2022) and ReAct (Reason + Act; Yao et al. 2023) combines iterative CoT prompting with queries to Wikipedia APIs to search for relevant entities and content and then add it back into the context.\\n\\n\\nFig. 1. How Self-Ask works with external search queries.\\n(Image source: Press et al. 2022).\\nTree of Thoughts (Yao et al. 2023) extends CoT by exploring multiple reasoning possibilities at each step. It first decomposes the problem into multiple thought steps and generates multiple thoughts per step, essentially creating a tree structure. The search process can be BFS or DFS while each state is evaluated by a classifier (via a prompt) or majority vote.\\n\\nFig. 2. How Self-Ask works with external search queries.\\n(Image source: Yao et al. 2022).\\nAutomatic Prompt Design\\nPrompt is a sequence of prefix tokens that increase the probability of getting desired output given input. Therefore we can treat them as trainable parameters and optimize them directly on the embedding space via gradient descent, such as AutoPrompt (Shin et al., 2020, Prefix-Tuning (Li & Liang (2021)), P-tuning (Liu et al. 2021) and Prompt-Tuning (Lester et al. 2021). This section in my “Controllable Neural Text Generation” post has a good coverage of them. The trend from AutoPrompt to Prompt-Tuning is that the setup gets gradually simplified.\\n\\nAPE (Automatic Prompt Engineer; Zhou et al. 2022) is a method to search over a pool of model-generated instruction candidates and then filters the candidate set according to a chosen score function to ultimately choose the best candidate with highest score.\\n\\nPrompt LLM to generate instruction candidates based on a small set of demonstrations in the form of input-output pairs. E.g. {{Given desired input-output pairs}}\\\\n\\\\nThe instruction is.'),\n",
       "  Document(metadata={'source': '../data/file/2023-03-15-prompt-engineering.txt'}, page_content='Please label the sentiment towards the movie of the given movie review. The sentiment label should be \"positive\" or \"negative\". \\nText: i\\'ll bet the video game is a lot more fun than the film. \\nSentiment:\\nExplaining the desired audience is another smart way to give instructions\\n\\nFor example to produce education materials for kids,\\nDescribe what is quantum physics to a 6-year-old.\\nAnd safe content,\\n... in language that is safe for work.\\nIn-context instruction learning (Ye et al. 2023) combines few-shot learning with instruction prompting. It incorporates multiple demonstration examples across different tasks in the prompt, each demonstration consisting of instruction, task input and output. Note that their experiments were only on classification tasks and the instruction prompt contains all label options.\\n\\nDefinition: Determine the speaker of the dialogue, \"agent\" or \"customer\".\\nInput: I have successfully booked your tickets.\\nOuput: agent\\n\\nDefinition: Determine which category the question asks for, \"Quantity\" or \"Location\".\\nInput: What\\'s the oldest building in US?\\nOuput: Location\\n\\nDefinition: Classify the sentiment of the given movie review, \"positive\" or \"negative\".\\nInput: i\\'ll bet the video game is a lot more fun than the film.\\nOutput:\\nSelf-Consistency Sampling\\nSelf-consistency sampling (Wang et al. 2022a) is to sample multiple outputs with temperature > 0 and then selecting the best one out of these candidates. The criteria for selecting the best candidate can vary from task to task. A general solution is to pick majority vote. For tasks that are easy to validate such as a programming question with unit tests, we can simply run through the interpreter and verify the correctness with unit tests.\\n\\nChain-of-Thought (CoT)\\nChain-of-thought (CoT) prompting (Wei et al. 2022) generates a sequence of short sentences to describe reasoning logics step by step, known as reasoning chains or rationales, to eventually lead to the final answer. The benefit of CoT is more pronounced for complicated reasoning tasks, while using large models (e.g. with more than 50B parameters). Simple tasks only benefit slightly from CoT prompting.\\n\\nTypes of CoT prompts\\nTwo main types of CoT prompting:'),\n",
       "  Document(metadata={'source': '../data/file/2023-03-15-prompt-engineering.txt'}, page_content='Given a dataset of \\n, we would like to find an instruction \\n such that \\n, where \\n is a per-sample score function, such as execution accuracy 𝟙\\n or log probability: \\n.\\n\\nUse an iterative Monte Carlo search method to improve the best candidates by proposing semantically similar variants via prompts like Generate a variation of the following instruction while keeping the semantic meaning.\\\\n\\\\nInput: ...\\\\n\\\\nOutput:...\\n\\nTo construct chain-of-thought prompts automatically, Shum et al. (2023) suggested augment-prune-select, a three-step process:\\n\\nAugment: Generate multiple pseudo-chains of thought given question using few-shot or zero-shot CoT prompts;\\nPrune: Prune pseudo chains based on whether generated answers match ground truths.\\nSelect: Apply a variance-reduced policy gradient strategy to learn the probability distribution over selected examples, while considering the probability distribution over examples as policy and the validation set accuracy as reward.\\nZhang et al. (2023) instead adopted clustering techniques to sample questions and then generates chains. They observed that LLMs tend to make certain types of mistakes. One type of errors can be similar in the emebedding space and thus get grouped together. By only sampling one or a few from frequent-error clusters, we can prevent too many wrong demonstrations of one error type and collect a diverse set of examples.\\n\\nQuestion clustering: Embed questions and run \\n-means for clustering.\\nDemonstration selection: Select a set of representative questions from each cluster; i.e. one demonstration from one cluster. Samples in each cluster are sorted by distance to the cluster centroid and those closer to the centroid are selected first.\\nRationale generation: Use zero-shot CoT to generate reasoning chains for selected questions and construct few-shot prompt to run inference.\\nAugmented Language Models\\nA survey on augmented language models by Mialon et al. (2023) has great coverage over multiple categories of language models augmented with reasoning skills and the ability of using external tools. Recommend it.')]}"
      ]
     },
     "execution_count": 72,
     "metadata": {},
     "output_type": "execute_result"
    }
   ],
   "execution_count": 72
  },
  {
   "metadata": {
    "ExecuteTime": {
     "end_time": "2024-09-01T10:59:29.263845Z",
     "start_time": "2024-09-01T10:59:29.260413Z"
    }
   },
   "cell_type": "code",
   "source": "get_by_session_id() ",
   "id": "a15d322cb3d03ee2",
   "outputs": [
    {
     "data": {
      "text/plain": [
       "InMemoryChatMessageHistory(messages=[HumanMessage(content='What are you?'), AIMessage(content='I am an AI assistant designed to provide information and answer questions based on my programming and available data. I do not have consciousness or emotions. My responses are generated through algorithms and natural language processing. (no support document)'), HumanMessage(content='Introduce \"tom and jerry\"'), AIMessage(content='Tom and Jerry are iconic animated characters created by William Hanna and Joseph Barbera. They star in a series of comedic short films where Tom, the cat, often chases Jerry, the mouse, leading to a variety of slapstick scenarios. The series is known for its clever humor and enduring popularity since its debut in 1940.'), HumanMessage(content='Introduce Java programming'), AIMessage(content='Java is a widely-used, object-oriented programming language known for its portability and platform independence, enabling developers to write code that runs on any device with a Java Virtual Machine (JVM). It is commonly used for developing enterprise-level applications, web applications, and Android apps. Java emphasizes readability and simplicity, with a syntax similar to C++, and provides a robust standard library.'), HumanMessage(content='Introduce prompt engineering'), AIMessage(content=\"Prompt engineering is a technique used in artificial intelligence where a user crafts and fine-tunes prompts to guide the AI's responses, enhancing the quality and relevance of the output. It involves understanding how to elicit desired behaviors from AI models by carefully designing the input text. This approach is particularly useful in improving the performance of language models on specific tasks.\"), HumanMessage(content='Introduce Java programming'), AIMessage(content='Java is a widely-used, object-oriented programming language known for its portability and platform independence, enabling developers to write code that runs on any device with a Java Virtual Machine (JVM). It is commonly used for developing enterprise-level applications, web applications, and Android apps. Java emphasizes readability and simplicity, with a syntax similar to C++, and provides a robust standard library.'), HumanMessage(content='who is WQXTEXVS'), AIMessage(content='WQXTEXVS does not refer to a known individual or recognized entity; it appears to be a random or encrypted sequence of characters. Without additional context, it is impossible to determine who or what WQXTEXVS is. (no support document)'), HumanMessage(content='Introduce prompt engineering'), AIMessage(content=\"Prompt engineering is a technique used in artificial intelligence where a user crafts and fine-tunes prompts to guide the AI's responses, enhancing the quality and relevance of the output. It involves understanding how to elicit the desired information or behavior from an AI model by carefully designing the input. This method is particularly useful in improving the performance of language models on specific tasks.\")])"
      ]
     },
     "execution_count": 73,
     "metadata": {},
     "output_type": "execute_result"
    }
   ],
   "execution_count": 73
  },
  {
   "metadata": {
    "ExecuteTime": {
     "end_time": "2024-09-01T10:59:34.847768Z",
     "start_time": "2024-09-01T10:59:34.844551Z"
    }
   },
   "cell_type": "code",
   "source": [
    "print(get_by_session_id().messages[0].type)\n",
    "print(get_by_session_id().messages[1].type)"
   ],
   "id": "2cfabbb246785a91",
   "outputs": [
    {
     "name": "stdout",
     "output_type": "stream",
     "text": [
      "human\n",
      "ai\n"
     ]
    }
   ],
   "execution_count": 74
  }
 ],
 "metadata": {
  "colab": {
   "provenance": []
  },
  "kernelspec": {
   "display_name": "Python (myenv)",
   "language": "python",
   "name": "myenv"
  },
  "language_info": {
   "codemirror_mode": {
    "name": "ipython",
    "version": 3
   },
   "file_extension": ".py",
   "mimetype": "text/x-python",
   "name": "python",
   "nbconvert_exporter": "python",
   "pygments_lexer": "ipython3",
   "version": "3.12.0"
  }
 },
 "nbformat": 4,
 "nbformat_minor": 5
}
