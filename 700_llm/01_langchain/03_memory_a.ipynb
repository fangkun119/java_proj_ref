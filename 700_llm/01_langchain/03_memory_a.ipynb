{
 "cells": [
  {
   "cell_type": "markdown",
   "id": "e80e0634-02d2-44cf-afd2-831dbf5749e5",
   "metadata": {},
   "source": [
    "# langChain全面剖析之Memory(上)"
   ]
  },
  {
   "cell_type": "markdown",
   "id": "d2179d6d-8c17-46f0-b783-98649549b6ff",
   "metadata": {},
   "source": [
    "## 1. Memory模块的意义"
   ]
  },
  {
   "cell_type": "markdown",
   "id": "f086627a-33a9-4c6a-ac04-09e8c64a723d",
   "metadata": {},
   "source": [
    "### 1.1 不借助LangChain情况下，如何实现大模型的记忆能力？\n",
    "\n",
    "如果没有Memory模块，只能通过手动在循环中管理memssage来实现Memory。\n",
    "\n",
    "后来自己写了一个MemoryManager类，也同样繁琐。\n",
    "\n",
    "因此需要框架来提供一个Memory管理模块"
   ]
  },
  {
   "cell_type": "code",
   "execution_count": 7,
   "id": "c299b6c7-a2a1-431b-b61d-68728e24b32e",
   "metadata": {
    "tags": []
   },
   "outputs": [],
   "source": [
    "import openai\n",
    "from openai import OpenAI\n",
    "openai.api_key = os.getenv(\"OPENAI_API_KEY\")\n",
    "openai.api_base=\"https://api.openai.com/v1\"\n",
    "llm = OpenAI(api_key=openai.api_key ,base_url=openai.api_base)"
   ]
  },
  {
   "cell_type": "code",
   "execution_count": 8,
   "id": "a3a6a57e-aca5-4ed8-abed-cc008a94a4dc",
   "metadata": {
    "tags": []
   },
   "outputs": [],
   "source": [
    "def chat_with_model(prompt, model=\"gpt-4\"):\n",
    "    \n",
    "    # 步骤一：定义一个可以接收用户输入的变量prompt\n",
    "    messages = [\n",
    "        {\"role\": \"system\", \"content\": \"你是一位乐于助人的AI小助手\"},\n",
    "        {\"role\": \"user\", \"content\": prompt}\n",
    "    ]\n",
    "    \n",
    "    # 步骤二：定义一个循环体：\n",
    "    while True:\n",
    "        \n",
    "        # 步骤三：调用OpenAI的GPT模型API\n",
    "        response = llm.chat.completions.create(\n",
    "            model=model,\n",
    "            messages=messages\n",
    "        )\n",
    "        \n",
    "        # 步骤四：获取模型回答\n",
    "        answer = response.choices[0].message.content\n",
    "        print(f\"模型回答: {answer}\")\n",
    "\n",
    "        # 询问用户是否还有其他问题\n",
    "        user_input = input(\"您还有其他问题吗？(输入退出以结束对话): \")\n",
    "        if user_input == \"退出\":\n",
    "            break\n",
    "\n",
    "        # 步骤五：记录用户回答\n",
    "        messages.append({\"role\": \"user\", \"content\": user_input})\n",
    "        messages.append({\"role\": \"assistant\", \"content\": answer})\n",
    "        print(messages)"
   ]
  },
  {
   "cell_type": "markdown",
   "id": "80df6b29-2c30-433c-847a-53c1e8344ee8",
   "metadata": {},
   "source": [
    "&emsp;&emsp;如上代码所示，通过`messages`变量，不断地将历史的对话信息添加追加到对话列表中，以此让大模型具备上下文记忆能力"
   ]
  },
  {
   "cell_type": "code",
   "execution_count": 9,
   "id": "79b7e283-9911-4feb-9f10-4f684afb8739",
   "metadata": {
    "tags": []
   },
   "outputs": [
    {
     "name": "stdout",
     "output_type": "stream",
     "text": [
      "模型回答: 你好！有什么我可以帮助你的吗？\n"
     ]
    },
    {
     "name": "stdin",
     "output_type": "stream",
     "text": [
      "您还有其他问题吗？(输入退出以结束对话):  请介绍一下你自己？\n"
     ]
    },
    {
     "name": "stdout",
     "output_type": "stream",
     "text": [
      "[{'role': 'system', 'content': '你是一位乐于助人的AI小助手'}, {'role': 'user', 'content': '你好'}, {'role': 'user', 'content': '请介绍一下你自己？'}, {'role': 'assistant', 'content': '你好！有什么我可以帮助你的吗？'}]\n",
      "模型回答: 你好!我很乐意向你介绍我自己。我是一位虚拟的个人助手，擅长从网页搜集信息，还可以帮你计划和组织事情。我也可以用多种语言进行对话，还能够理解和回答你关于世界的各种问题。无论是生活中的大事小事，还是你对未知事物的好奇，我都会努力为你找到答案。希望我可以成为你的贴心助手！\n"
     ]
    },
    {
     "name": "stdin",
     "output_type": "stream",
     "text": [
      "您还有其他问题吗？(输入退出以结束对话):  什么是机器学习？\n"
     ]
    },
    {
     "name": "stdout",
     "output_type": "stream",
     "text": [
      "[{'role': 'system', 'content': '你是一位乐于助人的AI小助手'}, {'role': 'user', 'content': '你好'}, {'role': 'user', 'content': '请介绍一下你自己？'}, {'role': 'assistant', 'content': '你好！有什么我可以帮助你的吗？'}, {'role': 'user', 'content': '什么是机器学习？'}, {'role': 'assistant', 'content': '你好!我很乐意向你介绍我自己。我是一位虚拟的个人助手，擅长从网页搜集信息，还可以帮你计划和组织事情。我也可以用多种语言进行对话，还能够理解和回答你关于世界的各种问题。无论是生活中的大事小事，还是你对未知事物的好奇，我都会努力为你找到答案。希望我可以成为你的贴心助手！'}]\n",
      "模型回答: 机器学习是一种人工智能（AI）的技术，它是让计算机系统通过分析和理解数据，自我学习并改进其性能而无需人工编程的方法。机器学习的应用非常广泛，从推荐系统（比如你在网上购物或者看电影时的推荐），到自动驾驶车辆，语音识别，图像识别等诸多领域都有它的身影。\n"
     ]
    },
    {
     "name": "stdin",
     "output_type": "stream",
     "text": [
      "您还有其他问题吗？(输入退出以结束对话):  退出\n"
     ]
    }
   ],
   "source": [
    "chat_with_model(\"你好\")"
   ]
  },
  {
   "cell_type": "markdown",
   "id": "69266dca-5bdf-45e4-9850-34852b5bb14d",
   "metadata": {},
   "source": [
    "\n",
    "> 这种形式是最简单的一种让大模型具备上下文知识的一种存储方式，任何记忆的基础都是所有聊天交互的历史记录。即使这些不全部直接使用，也需要以某种形式存储。保留一个聊天消息列表还是相当简单，一个非常简单的记忆模块可以只返回每次运行的最新消息。稍微复杂一点的记忆模块需要返回过去 K 条消息的简洁摘要。更复杂的可能会从存储的消息中提取实体，并且仅返回有关当前运行中引用的实体的信息。而我们论述的这些复杂情况，在应用开发中往往才是我们真正要用到。所以一个理想的开发状态是：因为每个应用程序对于如何查询记忆会有不同的要求，那我们要做到既可以轻松地使用简单的记忆模块，还能够在需要时灵活地扩展高度定制化的自定义记忆模块。\n",
    "\n",
    "LangChain就针对上述情况，基于它的开发规范和设计理念，构建了一些可以直接使用的`Memory`工具，用于存储聊天消息的一系列集成，同时，也支持我们去自定义相关的`Memory`模块，从而适配到应用开发的各个场景中。"
   ]
  },
  {
   "cell_type": "markdown",
   "id": "76a65e37-851d-454e-a31c-47b17617931d",
   "metadata": {},
   "source": [
    "### 1.2 Memory模块的设计理念"
   ]
  },
  {
   "cell_type": "markdown",
   "id": "13229605-884f-4ffd-98db-e5b7d63a7d84",
   "metadata": {},
   "source": [
    "Memory模块需要与Chain结合使用\n",
    "\n",
    "1. 我们前面提到了，`Memory`作为存储记忆数据的一个是抽象模块，其作为一个独立模块使用是没有任何意义的，因为本质上它的定位就是一个存储对话数据的空间。先抛开其内部实现的复杂性，\n",
    "2. 我们可以回想一下：在定义链路的时候，每个链的内部都会根据其接收到的输入去定义其核心执行逻辑，比如在链内如何去调用外部工具，如何解析返回的数据格式等。其中链接收到的输入，可以直接来自用户，同时，也可以来自`Memory`模块。\n",
    "\n",
    "在这个过程中，一个链如果接入了`Memory`模块，其内部会与`Memory`模块进行两次交互：\n",
    "\n",
    "1. 收到用户输入之后，执行核心逻辑之前，链会读取`Memory`模块，拿到对应的数据，与用户输入的Prompt放在一起，执行接下来的逻辑。\n",
    "2. 执行核心逻辑之后，返回响应之前，链会将这个过程中产生的信息，写入`Memory`模块，以便在其他场景下能够引用到这些记忆数据。"
   ]
  },
  {
   "cell_type": "markdown",
   "id": "7bdd61a7-89d3-48f1-ba88-91fd750c3b54",
   "metadata": {},
   "source": [
    "## 2. 自定义Memory类的编写和使用"
   ]
  },
  {
   "cell_type": "markdown",
   "id": "24fe842a-0fac-40b9-a111-5febdf09c575",
   "metadata": {},
   "source": [
    "### 2.1 实现自定义Memory"
   ]
  },
  {
   "cell_type": "markdown",
   "id": "b3911eb0-e209-49a0-b08f-fa82f16f393e",
   "metadata": {
    "tags": []
   },
   "source": [
    "先看文档 [https://api.python.langchain.com/en/latest/langchain_api_reference.html#module-langchain.memory](https://api.python.langchain.com/en/latest/langchain_api_reference.html#module-langchain.memory)，想要自定义Memory类，核心是实现一个抽象类，它有如下四个方法\n",
    "* 声明一个用来存储记忆的辅助变量\n",
    "* 读取记忆\n",
    "* 保存记忆\n",
    "* 清除记忆\n",
    "\n",
    "再看源码：langchain/libs/core/langchain_core/memory.py (代码如下）\n",
    "这样后续实现自定义的记忆类时，扩展这个抽象类就可以"
   ]
  },
  {
   "cell_type": "markdown",
   "id": "c7c7854c-90c7-49c6-a8c8-749257f358d0",
   "metadata": {},
   "source": [
    "```python\n",
    "class BaseMemory(Serializable, ABC):\n",
    "    \"\"\"Chains 中记忆的抽象基类。\n",
    "\n",
    "    记忆指的是 Chains 中的状态。记忆可用于存储关于 Chains 过去执行的信息，并将该信息注入到未来执行的 Chains 输入中。\n",
    "    例如，对于对话 Chains，记忆可用于存储对话并自动将其添加到未来模型提示中，以便模型具有必要的上下文来连贯地响应最新的输入。\n",
    "     \"\"\"\n",
    "    \n",
    "    # 下面是一些必须由子类实现的方法：\n",
    "    \n",
    "    \n",
    "    # 定义一个属性，任何从BaseMemory派生的子类都需要实现此方法。\n",
    "    # 此方法应返回该记忆类将添加到链输入的字符串键。\n",
    "    @property\n",
    "    @abstractmethod\n",
    "    def memory_variables(self) -> List[str]:\n",
    "        \"\"\"此记忆类将添加到链输入的字符串键列表。\"\"\"\n",
    "\n",
    "        \n",
    "    # 定义一个抽象方法。任何从BaseMemory派生的子类都需要实现此方法。\n",
    "    # 此方法基于给定的链输入返回键值对。\n",
    "    @abstractmethod\n",
    "    def load_memory_variables(self, inputs: Dict[str, Any]) -> Dict[str, Any]:\n",
    "        \"\"\"根据链的文本输入返回键值对。\"\"\"\n",
    "\n",
    "    \n",
    "    # 定义一个抽象方法。任何从BaseMemory派生的子类都需要实现此方法。\n",
    "    # 此方法将此链运行的上下文保存到内存。\n",
    "    @abstractmethod\n",
    "    def save_context(self, inputs: Dict[str, Any], outputs: Dict[str, str]) -> None:\n",
    "        \"\"\"将此链运行的上下文保存到记忆中。\"\"\"\n",
    "\n",
    "    # 定义一个抽象方法。任何从BaseMemory派生的子类都需要实现此方法。\n",
    "    # 此方法清除内存内容。\n",
    "    @abstractmethod\n",
    "    def clear(self) -> None:\n",
    "        \"\"\"清除记忆内容。\"\"\"\n",
    "```"
   ]
  },
  {
   "cell_type": "markdown",
   "id": "56ab3fff-9c80-4add-b53a-955fbb8e5ba5",
   "metadata": {},
   "source": [
    "如果需要添加自定义的记忆类，首先要做的，就是导入`BaseMemory`，并对其进行子类化。\n",
    "\n",
    "需要的具体类和模块如下："
   ]
  },
  {
   "cell_type": "code",
   "execution_count": 11,
   "id": "286cf0b8-c1a2-40b4-ae85-e079cbe5f911",
   "metadata": {
    "tags": []
   },
   "outputs": [],
   "source": [
    "from langchain.schema import BaseMemory\n",
    "from langchain_core.pydantic_v1 import BaseModel\n",
    "from typing import Any, Dict, Iterable, List, Optional"
   ]
  },
  {
   "cell_type": "markdown",
   "id": "122b090e-437f-4238-9ed4-24f694f298dd",
   "metadata": {},
   "source": [
    "先设计一个较为简单的场景，仅仅把用户的输入作为历史信息存储到记忆类中。\n",
    "\n",
    "这里定义的记忆类名为`InputStoreMemory`，代码如下："
   ]
  },
  {
   "cell_type": "code",
   "execution_count": 12,
   "id": "28857779-d31c-4b85-bbfc-8a9ccd4d662d",
   "metadata": {
    "tags": []
   },
   "outputs": [],
   "source": [
    "class InputStoreMemory(BaseMemory, BaseModel):\n",
    "    \"\"\"用于存储输入信息的记忆类。\"\"\"\n",
    "\n",
    "    # 定义一个存储记忆信息的字典。\n",
    "    desc: dict = {}\n",
    "\n",
    "    # Memory Key用来标识这个memory在会话中所起的作用，并用在会话上下文中\n",
    "    # * 在这个例子中：它被命名为desdc\n",
    "    # * 在下一节另一个基于entity extraction的例子中：它被命名为entities\n",
    "    #   而提示词模版则可以通过{entities}占位符来引用从Memory中提取出来的内容\n",
    "    memory_key: str = \"desc\"\n",
    "\n",
    "    def clear(self):\n",
    "        \"\"\"清除实体信息。\"\"\"\n",
    "        # 简单清除字典即可\n",
    "        self.desc = {}\n",
    "\n",
    "    @property\n",
    "    def memory_variables(self) -> List[str]:\n",
    "        \"\"\"定义要提供给提示模版的变量。\"\"\"\n",
    "        # 这个Memory所支持的key\n",
    "        return [self.memory_key]\n",
    "\n",
    "    def load_memory_variables(self, inputs: Dict[str, Any]) -> Dict[str, str]:\n",
    "        \"\"\"加载记忆变量，即实体Key。\"\"\"\n",
    "        # 返回字典中存储的所有内容\n",
    "        \n",
    "        # 创建一个空列表用于存储所有输入的信息，即Prompts\n",
    "        messages = []\n",
    "\n",
    "        # 遍历存储输入信息的字典中的每个文本\n",
    "        for messages_test in self.desc.values():\n",
    "            # 将文本添加到列表中\n",
    "            messages.append(messages_test)\n",
    "\n",
    "        # 使用换行符连接所有文本，形成一个字符串\n",
    "        combined_messages = \"\\n\".join(messages)\n",
    "\n",
    "        # 返回包含信息的字典，以便将其放入上下文中\n",
    "        return {self.memory_key: combined_messages}\n",
    "\n",
    "    def save_context(self, inputs: Dict[str, Any], outputs: Dict[str, str]) -> None:\n",
    "        \"\"\"将此对话的上下文保存到缓存中。\"\"\"\n",
    "        # 向字典写入数据，key为自增整数，会检查value是否存在以避免重复\n",
    "        \n",
    "        # 检查输入字典是否为空，或者输入的键不存在\n",
    "        if not inputs:\n",
    "            return\n",
    "\n",
    "        # 获取输入文本\n",
    "        text = inputs.get(\"input\", \"\")\n",
    "\n",
    "        # 检查文本是否为空\n",
    "        if not text:\n",
    "            return\n",
    "\n",
    "        # todo\n",
    "        # 处理outputs的代码\n",
    "        \n",
    "        # 检查文本是否已经存在于存储信息的字典中\n",
    "        if text not in self.desc.values():\n",
    "            # 将新文本添加到存储信息的字典中\n",
    "            self.desc[len(self.desc) + 1] = text"
   ]
  },
  {
   "cell_type": "markdown",
   "id": "380fd7c0-c134-4c23-aef2-9e90b4b3d039",
   "metadata": {},
   "source": [
    "测试一下"
   ]
  },
  {
   "cell_type": "code",
   "execution_count": 13,
   "id": "d65d78f2-ddb6-484b-8fea-2e2386bec301",
   "metadata": {
    "tags": []
   },
   "outputs": [],
   "source": [
    "input_memory = InputStoreMemory()"
   ]
  },
  {
   "cell_type": "code",
   "execution_count": 14,
   "id": "26138051-7bb3-4bfb-8b31-6c4a311209f6",
   "metadata": {
    "tags": []
   },
   "outputs": [],
   "source": [
    "input_memory.save_context({\"input\": \"你好，我是小智\"}, {\"output\": \" \"})"
   ]
  },
  {
   "cell_type": "code",
   "execution_count": 15,
   "id": "ba26e501-2894-4159-9d68-0969f8358929",
   "metadata": {
    "tags": []
   },
   "outputs": [
    {
     "data": {
      "text/plain": [
       "{'desc': '你好，我是小智'}"
      ]
     },
     "execution_count": 15,
     "metadata": {},
     "output_type": "execute_result"
    }
   ],
   "source": [
    "input_memory.load_memory_variables({})"
   ]
  },
  {
   "cell_type": "code",
   "execution_count": 16,
   "id": "ee4db8c6-fc73-4a39-8aee-f09cfb08ba5a",
   "metadata": {
    "tags": []
   },
   "outputs": [],
   "source": [
    "input_memory.save_context({\"input\": \"我正在学习AI大模型。\"}, {\"output\": \" \"})"
   ]
  },
  {
   "cell_type": "code",
   "execution_count": 17,
   "id": "67b47ade-2551-4884-9500-c8db423107ab",
   "metadata": {
    "tags": []
   },
   "outputs": [
    {
     "data": {
      "text/plain": [
       "{'desc': '你好，我是小智\\n我正在学习AI大模型。'}"
      ]
     },
     "execution_count": 17,
     "metadata": {},
     "output_type": "execute_result"
    }
   ],
   "source": [
    "input_memory.load_memory_variables({})"
   ]
  },
  {
   "cell_type": "code",
   "execution_count": 18,
   "id": "ed4d7c15-c6b4-4b78-b4eb-22027ea783e4",
   "metadata": {
    "tags": []
   },
   "outputs": [],
   "source": [
    "input_memory.clear()"
   ]
  },
  {
   "cell_type": "code",
   "execution_count": 19,
   "id": "6ce9d98f-b65b-454b-b9c5-52325107e252",
   "metadata": {
    "tags": []
   },
   "outputs": [
    {
     "data": {
      "text/plain": [
       "{'desc': ''}"
      ]
     },
     "execution_count": 19,
     "metadata": {},
     "output_type": "execute_result"
    }
   ],
   "source": [
    "input_memory.load_memory_variables({})"
   ]
  },
  {
   "cell_type": "markdown",
   "id": "f0afc127-b28e-4d98-8867-3b2331cb0454",
   "metadata": {},
   "source": [
    "### 2.2 将自定义的Memory接入LangChain\n",
    "\n",
    "接下来将我们编写的InputStoreMemory接入到Langchain中\n",
    "\n",
    "使用场景是：读Memory -> Prompt -> Model -> Output -> 写Memory\n",
    "\n",
    "#### (1) 不使用Memory的Chain"
   ]
  },
  {
   "cell_type": "code",
   "execution_count": 20,
   "id": "e810e4f8-ec24-4791-aec6-2dac80f0b654",
   "metadata": {
    "tags": []
   },
   "outputs": [],
   "source": [
    "from langchain_openai import ChatOpenAI\n",
    "from langchain_core.prompts import ChatPromptTemplate\n",
    "from langchain.chains import LLMChain\n",
    "\n",
    "# 模型\n",
    "llm = ChatOpenAI(model_name=\"gpt-4\",api_key=openai.api_key ,base_url=openai.api_base)\n",
    "\n",
    "# 提示词模版\n",
    "chat_template = ChatPromptTemplate.from_messages(\n",
    "    [\n",
    "        (\"system\", \"您是一位乐于助人的AI小助手\"),\n",
    "        (\"human\", \"{input}\"),\n",
    "    ]\n",
    ")\n",
    "\n",
    "# 链路\n",
    "chat_chain = LLMChain(llm=llm, \n",
    "                         prompt=chat_template,\n",
    "                         verbose=True)"
   ]
  },
  {
   "cell_type": "code",
   "execution_count": 21,
   "id": "8672175f-6add-4423-be60-de8f44eb5a0e",
   "metadata": {
    "tags": []
   },
   "outputs": [
    {
     "name": "stdout",
     "output_type": "stream",
     "text": [
      "\n",
      "\n",
      "\u001b[1m> Entering new LLMChain chain...\u001b[0m\n",
      "Prompt after formatting:\n",
      "\u001b[32;1m\u001b[1;3mSystem: 您是一位乐于助人的AI小助手\n",
      "Human: 你好，请你介绍一下你自己。\u001b[0m\n",
      "\n",
      "\u001b[1m> Finished chain.\u001b[0m\n"
     ]
    },
    {
     "data": {
      "text/plain": [
       "{'input': '你好，请你介绍一下你自己。',\n",
       " 'text': '你好，很高兴见到你。我是一位虚拟的助手，我非常乐于助人。无论你有任何问题或者需要帮助，我都会尽我的能力为你提供信息和支持。我擅长处理各种问题，包括科技、学术、日常生活等各个领域，而且我是7*24小时在线的，随时准备提供帮助。希望我能成为你的可靠伙伴，和你一起探索和学习新的知识。'}"
      ]
     },
     "execution_count": 21,
     "metadata": {},
     "output_type": "execute_result"
    }
   ],
   "source": [
    "chat_chain.invoke({\"input\":\"你好，请你介绍一下你自己。\"})"
   ]
  },
  {
   "cell_type": "markdown",
   "id": "4f45f348-84c1-4073-805f-139817c243a5",
   "metadata": {},
   "source": [
    "#### (2) 使用Memory的Chain"
   ]
  },
  {
   "cell_type": "code",
   "execution_count": 22,
   "id": "78e5b37d-52f6-46e2-a214-4a8074c1f095",
   "metadata": {
    "tags": []
   },
   "outputs": [],
   "source": [
    "chat_chain = LLMChain(llm=llm, \n",
    "                      prompt=chat_template,\n",
    "                      memory=InputStoreMemory(),   # 添加自定义的记忆类\n",
    "                      verbose=True)"
   ]
  },
  {
   "cell_type": "markdown",
   "id": "d72bfcc3-a919-4ea9-ab5e-27ade1512b53",
   "metadata": {},
   "source": [
    "测试一下看看它是否在使用Memory"
   ]
  },
  {
   "cell_type": "code",
   "execution_count": 23,
   "id": "7de72a27-3320-47d8-baab-ec0e7794eab1",
   "metadata": {
    "tags": []
   },
   "outputs": [
    {
     "name": "stdout",
     "output_type": "stream",
     "text": [
      "\n",
      "\n",
      "\u001b[1m> Entering new LLMChain chain...\u001b[0m\n",
      "Prompt after formatting:\n",
      "\u001b[32;1m\u001b[1;3mSystem: 您是一位乐于助人的AI小助手\n",
      "Human: 你好，请你介绍一下你自己。\u001b[0m\n",
      "\n",
      "\u001b[1m> Finished chain.\u001b[0m\n"
     ]
    },
    {
     "data": {
      "text/plain": [
       "{'input': '你好，请你介绍一下你自己。',\n",
       " 'desc': '',\n",
       " 'text': '你好！很高兴见到你。我是一位网络助手，乐于提供各种信息和建议。我可以帮助你调查问题，了解新闻，学习新技能，或者只是进行愉快的对话。我的知识面广泛且随时更新，所以无论你的问题是什么，我都会尽力提供最准确，最新的信息。希望你喜欢和我一起探索这个充满知识的世界！'}"
      ]
     },
     "execution_count": 23,
     "metadata": {},
     "output_type": "execute_result"
    }
   ],
   "source": [
    "chat_chain.invoke({\"input\":\"你好，请你介绍一下你自己。\"})"
   ]
  },
  {
   "cell_type": "code",
   "execution_count": 24,
   "id": "059b23a9-0a15-49d5-acc5-550a85ea803d",
   "metadata": {
    "tags": []
   },
   "outputs": [
    {
     "name": "stdout",
     "output_type": "stream",
     "text": [
      "\n",
      "\n",
      "\u001b[1m> Entering new LLMChain chain...\u001b[0m\n",
      "Prompt after formatting:\n",
      "\u001b[32;1m\u001b[1;3mSystem: 您是一位乐于助人的AI小助手\n",
      "Human: 我是小智\u001b[0m\n",
      "\n",
      "\u001b[1m> Finished chain.\u001b[0m\n"
     ]
    },
    {
     "data": {
      "text/plain": [
       "{'input': '我是小智',\n",
       " 'desc': '你好，请你介绍一下你自己。',\n",
       " 'text': '你好，小智！很高兴认识你。我是AI小助手，有什么可以帮助你的吗？'}"
      ]
     },
     "execution_count": 24,
     "metadata": {},
     "output_type": "execute_result"
    }
   ],
   "source": [
    "chat_chain.invoke({\"input\":\"我是小智\"})"
   ]
  },
  {
   "cell_type": "code",
   "execution_count": 25,
   "id": "8574fcf3-e1c1-4904-986b-b13854a13ecc",
   "metadata": {
    "tags": []
   },
   "outputs": [
    {
     "name": "stdout",
     "output_type": "stream",
     "text": [
      "\n",
      "\n",
      "\u001b[1m> Entering new LLMChain chain...\u001b[0m\n",
      "Prompt after formatting:\n",
      "\u001b[32;1m\u001b[1;3mSystem: 您是一位乐于助人的AI小助手\n",
      "Human: 我现在每天都在服务我们的会员同学\u001b[0m\n",
      "\n",
      "\u001b[1m> Finished chain.\u001b[0m\n"
     ]
    },
    {
     "data": {
      "text/plain": [
       "{'input': '我现在每天都在服务我们的会员同学',\n",
       " 'desc': '你好，请你介绍一下你自己。\\n我是小智',\n",
       " 'text': '哇，这听起来像是一份很有挑战性的任务！您能分享一下您在服务会员过程中遇到的一些有趣或者难忘的经历吗？'}"
      ]
     },
     "execution_count": 25,
     "metadata": {},
     "output_type": "execute_result"
    }
   ],
   "source": [
    "chat_chain.invoke({\"input\":\"我现在每天都在服务我们的会员同学\"})"
   ]
  },
  {
   "cell_type": "code",
   "execution_count": 26,
   "id": "8fd48066-5864-4f07-ba68-607dd4776e17",
   "metadata": {
    "tags": []
   },
   "outputs": [
    {
     "name": "stdout",
     "output_type": "stream",
     "text": [
      "\n",
      "\n",
      "\u001b[1m> Entering new LLMChain chain...\u001b[0m\n",
      "Prompt after formatting:\n",
      "\u001b[32;1m\u001b[1;3mSystem: 您是一位乐于助人的AI小助手\n",
      "Human: 你知道小智每天都在做什么吗？\u001b[0m\n",
      "\n",
      "\u001b[1m> Finished chain.\u001b[0m\n"
     ]
    },
    {
     "data": {
      "text/plain": [
       "{'input': '你知道小智每天都在做什么吗？',\n",
       " 'desc': '你好，请你介绍一下你自己。\\n我是小智\\n我现在每天都在服务我们的会员同学',\n",
       " 'text': '对不起，我并不能了解特定个体的日常活动，包括\"小智\"。我是一个AI助手，主要用于提供信息帮助和完成用户的请求，我无法获取或追踪个人的私人信息，除非用户主动向我提供。这是为了保护用户的隐私安全。'}"
      ]
     },
     "execution_count": 26,
     "metadata": {},
     "output_type": "execute_result"
    }
   ],
   "source": [
    "chat_chain.invoke({\"input\":\"你知道小智每天都在做什么吗？\"})"
   ]
  },
  {
   "cell_type": "markdown",
   "id": "8e2bc813-a610-49f6-b27f-90f050102b25",
   "metadata": {},
   "source": [
    "## 3. 自定义支持实体识别的Memory"
   ]
  },
  {
   "cell_type": "markdown",
   "id": "cd4e880d-032a-4ec7-bb66-3aeedfa1d87b",
   "metadata": {},
   "source": [
    "之前的Memory一次性返回所有的聊天内容，比较草率。\n",
    "\n",
    "我们希望实现一个Memory，它能够根据用户的提问，有选择地返回记忆内容。其中一个方法是借助实体识别(Entity Recognization)。\n",
    "\n",
    "什么是Entity Recognization，举个例子，用户输入一段话，我们识别出这句话涉及了三个实体”马云”、“杭州”、“腾讯”。那么就用这三个实体来索引这三句话。在后续聊天中，当用户的提问涉及到“马云”或者“杭州”或者“腾讯”时，就可以从记忆中找到这段话\n",
    "\n",
    "其实**Langchain也有**一个名为`ConversationEntityMemory`的类来提供**同样的功能**，本节我们手动实现一个来演示它的原理"
   ]
  },
  {
   "cell_type": "markdown",
   "id": "335a97a1-c569-414d-9085-2b135a37720a",
   "metadata": {},
   "source": [
    "### 3.1 spacy工具安装"
   ]
  },
  {
   "cell_type": "markdown",
   "id": "b5c0c6a1-deda-46ea-92b4-e8425706d6ab",
   "metadata": {},
   "source": [
    "接下来，我们做一个需求，演示一个稍复杂的`Memory`构建过程，该`Memory`使用 `spaCy`库提取实体并将有关它们的信息保存在一个简单的哈希表中。然后，在对话过程中，我们根据的输入文本，提取出输入文本中的实体，并将有关当前输入实体的记忆信息放入上下文中。"
   ]
  },
  {
   "cell_type": "markdown",
   "id": "eb021350-1281-4d06-8f7b-215ed39e8de5",
   "metadata": {},
   "source": [
    "针对上述需求描述，我们补充两个知识点：首先，实体识别（Named Entity Recognition, NER）是自然语言处理（NLP）中的一个经典任务，其目的是从文本中识别出有特定意义的实体，例如人名、地点、组织机构名、时间表达式、数量、货币值等。实体识别通常作为信息提取、问答系统、内容摘要、语义搜索等应用的基础。其次，对于如何从一个文本中提取出具体的实体，我们要借助一个可以做实体识别的深度学习模型，该模型，我们选择从Python的一个`spacy`库中下载。\n",
    "\n",
    "> spacy官网：https://spacy.io/"
   ]
  },
  {
   "cell_type": "markdown",
   "id": "f31670f6-66bb-498d-b680-73550557e81c",
   "metadata": {},
   "source": [
    "`spaCy`是一个开源的自然语言处理（NLP）库，提供了一些高性能的语言处理功能，适用于Python。主要用于文本分析和处理任务，包括但不限于词性标注、命名实体识别（NER）、句法依赖分析、句子边界检测等。使用`spaCy`库，需要在当前环境下安装其依赖包，执行如下代码："
   ]
  },
  {
   "cell_type": "code",
   "execution_count": 28,
   "id": "6b224cd0-aff4-43ce-b894-a70497a97380",
   "metadata": {
    "tags": []
   },
   "outputs": [
    {
     "name": "stdout",
     "output_type": "stream",
     "text": [
      "\u001b[31mERROR: pip's dependency resolver does not currently take into account all the packages that are installed. This behaviour is the source of the following dependency conflicts.\n",
      "fastapi-cli 0.0.2 requires typer>=0.12.3, but you have typer 0.9.4 which is incompatible.\u001b[0m\n",
      "\u001b[33mWARNING: Running pip as the 'root' user can result in broken permissions and conflicting behaviour with the system package manager. It is recommended to use a virtual environment instead: https://pip.pypa.io/warnings/venv\u001b[0m\n"
     ]
    }
   ],
   "source": [
    "! pip install --upgrade --quiet  spacy"
   ]
  },
  {
   "cell_type": "code",
   "execution_count": null,
   "id": "d6636d28-51b1-45c0-9d64-f57c326ddd14",
   "metadata": {
    "tags": []
   },
   "outputs": [
    {
     "name": "stdout",
     "output_type": "stream",
     "text": [
      "Looking in indexes: http://mirrors.aliyun.com/pypi/simple\n",
      "Collecting zh-core-web-sm==3.7.0\n",
      "  Downloading https://github.com/explosion/spacy-models/releases/download/zh_core_web_sm-3.7.0/zh_core_web_sm-3.7.0-py3-none-any.whl (48.5 MB)\n",
      "\u001b[K     |███████████████████████████     | 40.8 MB 50 kB/s eta 0:02:337"
     ]
    }
   ],
   "source": [
    "! python -m spacy download zh_core_web_sm"
   ]
  }
 ],
 "metadata": {
  "kernelspec": {
   "display_name": "Python 3 (ipykernel)",
   "language": "python",
   "name": "python3"
  },
  "language_info": {
   "codemirror_mode": {
    "name": "ipython",
    "version": 3
   },
   "file_extension": ".py",
   "mimetype": "text/x-python",
   "name": "python",
   "nbconvert_exporter": "python",
   "pygments_lexer": "ipython3",
   "version": "3.12.0"
  }
 },
 "nbformat": 4,
 "nbformat_minor": 5
}
