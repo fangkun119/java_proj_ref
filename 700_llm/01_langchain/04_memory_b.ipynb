{
 "cells": [
  {
   "cell_type": "markdown",
   "id": "f4852196-d118-41ec-82b3-2faf9f2a6a41",
   "metadata": {},
   "source": [
    "# langChain全面剖析之Memory（下）"
   ]
  },
  {
   "cell_type": "markdown",
   "id": "f3264c07-dbc3-400e-af8f-20664a404ced",
   "metadata": {},
   "source": [
    "## 3 支持实体识别的自定义Memory\n",
    "\n",
    "### 3.2 SpacyEntityMemory实现"
   ]
  },
  {
   "cell_type": "markdown",
   "id": "03cce46a-3ff4-4b28-9a96-278950ea9ca9",
   "metadata": {},
   "source": [
    "上一小节安装了spacy以用于实体识别，本节实现具体的功能"
   ]
  },
  {
   "cell_type": "markdown",
   "id": "541a9cc0-d4f7-40b1-bceb-8bf79ee78983",
   "metadata": {},
   "source": [
    "#### (1) 试用Spacy\n",
    "\n",
    "首先导入依赖实例化模型，传入一句话进行测试"
   ]
  },
  {
   "cell_type": "code",
   "execution_count": 3,
   "id": "3367cefe-8e4b-4345-b3a9-c5216ac136f4",
   "metadata": {
    "tags": []
   },
   "outputs": [
    {
     "data": {
      "text/plain": [
       "(2014年9月, 马云, 杭州, 中国)"
      ]
     },
     "execution_count": 3,
     "metadata": {},
     "output_type": "execute_result"
    }
   ],
   "source": [
    "# 导入依赖包\n",
    "import spacy\n",
    "\n",
    "# 实例化模型。\n",
    "nlp = spacy.load(\"zh_core_web_sm\")\n",
    "\n",
    "# 测试\n",
    "text = \"2014年9月，马云在杭州发起了世界互联网大会。这一事件标志着中国在全球互联网发展中的积极参与。\"\n",
    "doc = nlp(text) # 执行\n",
    "doc.ents        # 查看实体识别结果"
   ]
  },
  {
   "cell_type": "markdown",
   "id": "617fcbbb-91c0-436d-ae1f-3b6d72565c04",
   "metadata": {},
   "source": [
    "再测试更多个例子"
   ]
  },
  {
   "cell_type": "code",
   "execution_count": 4,
   "id": "a1ed7e9a-c805-4c54-b275-8d2c66c83374",
   "metadata": {
    "tags": []
   },
   "outputs": [
    {
     "data": {
      "text/plain": [
       "(2015年11月, 腾讯公司, 深圳, 中国)"
      ]
     },
     "execution_count": 4,
     "metadata": {},
     "output_type": "execute_result"
    }
   ],
   "source": [
    "text = \"随后，2015年11月，腾讯公司在深圳发布了微信支付功能，进一步推动了中国数字经济的发展\"\n",
    "doc = nlp(text)\n",
    "doc.ents"
   ]
  },
  {
   "cell_type": "code",
   "execution_count": 5,
   "id": "43ab8701-3929-4baa-bc52-08cbd3090643",
   "metadata": {
    "tags": []
   },
   "outputs": [
    {
     "data": {
      "text/plain": [
       "(2016年, 中国)"
      ]
     },
     "execution_count": 5,
     "metadata": {},
     "output_type": "execute_result"
    }
   ],
   "source": [
    "text = \"与此同时，字节跳动的产品——抖音，在2016年成为中国年轻人中的热门应用，为内容创造者提供了展示才华的平台。\"\n",
    "doc = nlp(text)\n",
    "doc.ents"
   ]
  },
  {
   "cell_type": "markdown",
   "id": "dd3c052b-26d6-452b-8c4a-b68ebd01011c",
   "metadata": {},
   "source": [
    "#### (2) 编写SpacyEntityMemory\n",
    "\n",
    "导入依赖"
   ]
  },
  {
   "cell_type": "code",
   "execution_count": 83,
   "id": "5fdae9d4-477c-4f61-bdd9-c3045e0e8314",
   "metadata": {
    "tags": []
   },
   "outputs": [],
   "source": [
    "import openai\n",
    "from openai import OpenAI\n",
    "openai.api_key = os.getenv(\"OPENAI_API_KEY\")\n",
    "openai.api_base=\"https://api.openai.com/v1\""
   ]
  },
  {
   "cell_type": "code",
   "execution_count": 176,
   "id": "d3026dca-381c-495c-9ee6-b028b527c366",
   "metadata": {
    "tags": []
   },
   "outputs": [],
   "source": [
    "from langchain.chains import LLMChain\n",
    "from langchain.schema import BaseMemory\n",
    "from langchain_core.pydantic_v1 import BaseModel\n",
    "from typing import Any, Dict, Iterable, List, Optional"
   ]
  },
  {
   "cell_type": "markdown",
   "id": "dae3d472-abb6-4ad8-a6e9-6e4a4eae0dd2",
   "metadata": {},
   "source": [
    "编写Memory代码"
   ]
  },
  {
   "cell_type": "code",
   "execution_count": 7,
   "id": "9076524f-3411-4655-9b47-77ef3977b7e8",
   "metadata": {
    "tags": []
   },
   "outputs": [],
   "source": [
    "class SpacyEntityMemory(BaseMemory, BaseModel):\n",
    "    \"\"\"存储实体信息的记忆类。\"\"\"\n",
    "\n",
    "    # 定义一个字典来存储实体的信息。\n",
    "    entities: dict = {}\n",
    "\n",
    "    # 定义一个 Key，作用是将有关实体的信息传递到提示符：memory_key\n",
    "    memory_key: str = \"entities\"\n",
    "\n",
    "    # 清除全部的实体信息\n",
    "    def clear(self):\n",
    "        self.entities = {}\n",
    "\n",
    "    # 这个Memory所支持的Memory key\n",
    "    @property\n",
    "    def memory_variables(self) -> List[str]:\n",
    "        \"\"\"定义提供给提示符的变量。\"\"\"\n",
    "        return [self.memory_key]\n",
    "\n",
    "    # 加载Memory\n",
    "    def load_memory_variables(self, inputs: Dict[str, Any]) -> Dict[str, str]:\n",
    "        \"\"\"Load the memory variables, in this case the entity key.\"\"\"\n",
    "        # 从输入文本中提取entities，以entity -> text_1 “\\n” text2 “\\n” … 的格式存储\n",
    "        # 1. 获取输入文本\n",
    "        doc = nlp(inputs[list(inputs.keys())[0]])\n",
    "        # 2. 提取关于实体的已知信息(如果存在的话)。\n",
    "        entities = [\n",
    "            self.entities[str(ent)] for ent in doc.ents if str(ent) in self.entities\n",
    "        ]\n",
    "        # 3. 返回要放在上下文中的实体的组合信息。\n",
    "        return {self.memory_key: \"\\n\".join(entities)}\n",
    "\n",
    "    # 保存Memory\n",
    "    def save_context(self, inputs: Dict[str, Any], outputs: Dict[str, str]) -> None:\n",
    "        \"\"\"将此对话中的上下文保存到缓冲区。\"\"\"\n",
    "        # 从用户输出的new_text中提取entity，以entity->[text_1, text_2, ...，new_text]的格式存储\n",
    "        # 1. 获取输入文本\n",
    "        text = inputs[list(inputs.keys())[0]]\n",
    "        # 2. 运行spacy，从输入文本中提取关键的信息\n",
    "        doc = nlp(text)\n",
    "        # 3. 对于提到的每个实体，将此信息保存到字典中。\n",
    "        for ent in doc.ents:\n",
    "            ent_str = str(ent)    \n",
    "            # 如果实体信息已经存在，将当前文本（text）追加到这个实体键下已有的文本后面，每个文本之间用换行符\\n分隔。\n",
    "            \n",
    "            # 示例：{'2014年9月': '2014年9月，马云在杭州发起了世界互联网大会。这一事件标志着中国在全球互联网发展中的积极参与。', \\\n",
    "            #       '马云': '2014年9月，马云在杭州发起了世界互联网大会。这一事件标志着中国在全球互联网发展中的积极参与。', \n",
    "            #      '杭州': '2014年9月，马云在杭州发起了世界互联网大会。这一事件标志着中国在全球互联网发展中的积极参与。', \n",
    "            #      '中国': '2014年9月，马云在杭州发起了世界互联网大会。这一事件标志着中国在全球互联网发展中的积极参与。'}\n",
    "            if ent_str in self.entities:\n",
    "                self.entities[ent_str] += f\"\\n{text}\"\n",
    "            else:\n",
    "                # 如果实体不存在，则在self.entities字典中以这个实体字符串ent_str为键，当前文本text为值，创建一个新的键值对。\n",
    "                self.entities[ent_str] = text"
   ]
  },
  {
   "cell_type": "markdown",
   "id": "a585c67b-82f9-4b2a-9628-1b61274fe5ac",
   "metadata": {},
   "source": [
    "在上述`Memory`的实现逻辑中，定义`entities`作为存储记忆数据的变量。其中，`save_context`的逻辑是：针对输入的文本，使用`zh_core_web_sm`模型去做实体识别，如果该实体的`Key`在`entities`已经存在，将当前文本`text`追加到这个实体`Key`下已有的文本后面，每个文本之间用换行符`\\n`分隔。如果实体不存在，则在`entities`字典中以这个实体字符串为`Key`，当前文本`text`为值，创建一个新的键值对。其示例如下：\n",
    "\n",
    "```json\n",
    "输入：'2014年9月，马云在杭州发起了世界互联网大会。这一事件标志着中国在全球互联网发展中的积极参与。\n",
    "\n",
    "识别到的实体：2014年9月、 马云、杭州\n",
    "\n",
    "存储到`SpacyEntityMemory`类中`entities`字典的信息是：\n",
    "\n",
    "- '2014年9月': '2014年9月，马云在杭州发起了世界互联网大会。这一事件标志着中国在全球互联网发展中的积极参与。',\n",
    "- '马云':      '2014年9月，马云在杭州发起了世界互联网大会。这一事件标志着中国在全球互联网发展中的积极参与。',\n",
    "- '杭州':      '2014年9月，马云在杭州发起了世界互联网大会。这一事件标志着中国在全球互联网发展中的积极参与。'\n",
    "```"
   ]
  },
  {
   "cell_type": "markdown",
   "id": "532da72a-ea30-4b25-95c8-d4440706d073",
   "metadata": {},
   "source": [
    "`load_memory_variables`的代码逻辑是：先对输入的文本使用`zh_core_web_sm`模型去做实体识别，然后去查`entities`是否存在这个`Key`，如果存在，把这个`Key`对应的内容读取出来，作为上下文信息。示例如下：\n",
    "\n",
    "```json\n",
    "输入：'那天，我正好去游玩，碰到了马云\n",
    "\n",
    "识别到的实体： 马云\n",
    "\n",
    "去`SpacyEntityMemory`类中`entities`字典的中找到下面内容，作为上下文信息：\n",
    "\n",
    "- '马云':      '2014年9月，马云在杭州发起了世界互联网大会。这一事件标志着中国在全球互联网发展中的积极参与。',\n",
    "\n",
    "```"
   ]
  },
  {
   "cell_type": "markdown",
   "id": "dd4056bd-0aaa-4bde-a8de-638f4e8c0cfc",
   "metadata": {},
   "source": [
    "#### (3) 使用SpacyEntityMemory\n",
    "\n",
    "首先导入依赖、初始化Open AI"
   ]
  },
  {
   "cell_type": "code",
   "execution_count": 8,
   "id": "1354e34a-d527-4a8f-93ef-c949ef18ceeb",
   "metadata": {
    "tags": []
   },
   "outputs": [],
   "source": [
    "from langchain_openai import ChatOpenAI\n",
    "llm = ChatOpenAI(model_name=\"gpt-4\",api_key=openai.api_key ,base_url=openai.api_base)"
   ]
  },
  {
   "cell_type": "markdown",
   "id": "12d6f6ce-4253-43c7-a484-11e66441bc18",
   "metadata": {},
   "source": [
    "准备一个提示词模版，它既会使用来自Memory的信息，也会使用来自用户提问的内容"
   ]
  },
  {
   "cell_type": "code",
   "execution_count": 9,
   "id": "80149cbc-5346-4bb9-bd3f-355ff94ba4e6",
   "metadata": {
    "tags": []
   },
   "outputs": [],
   "source": [
    "from langchain.prompts.prompt import PromptTemplate\n",
    "\n",
    "template = \"\"\"以下是人类和AI之间的友好对话。AI很健谈，并提供了大量来自其上下文的具体细节。如果AI不知道某个问题的答案，它会真诚地说不知道。如果相关，你会得到人类提到的实体的信息。\n",
    "\n",
    "相关实体信息：\n",
    "{entities}\n",
    "\n",
    "对话：\n",
    "人类: {input}\n",
    "AI:\"\"\"\n",
    "\n",
    "prompt = PromptTemplate(input_variables=[\"entities\", \"input\"], template=template)"
   ]
  },
  {
   "cell_type": "markdown",
   "id": "7139e7b4-97bb-448b-b0e6-2cc45bad8f81",
   "metadata": {},
   "source": [
    "提示词模版中使用enitities来作为占位符，而memory_key同样也设为entities"
   ]
  },
  {
   "cell_type": "code",
   "execution_count": 10,
   "id": "47c41d0f-d677-4e91-8831-ddc1f42b249e",
   "metadata": {
    "tags": []
   },
   "outputs": [],
   "source": [
    "SpacyMemory = SpacyEntityMemory(memory_key=\"entities\")"
   ]
  },
  {
   "cell_type": "markdown",
   "id": "e86264ae-be3a-479b-89e9-054b7e80488e",
   "metadata": {},
   "source": [
    "写一个LLMChain，让它使用我们的自定义Memory"
   ]
  },
  {
   "cell_type": "code",
   "execution_count": 11,
   "id": "3378b560-789c-4233-92c0-978c1330fa54",
   "metadata": {
    "tags": []
   },
   "outputs": [],
   "source": [
    "spacy_chain = LLMChain(llm=llm, \n",
    "                       prompt=prompt, \n",
    "                       memory=SpacyMemory,   # 接入Memory 模块\n",
    "                       verbose=True)"
   ]
  },
  {
   "cell_type": "markdown",
   "id": "20055673-5e13-4732-8b41-97adf5443fab",
   "metadata": {},
   "source": [
    "#### (4) 测试"
   ]
  },
  {
   "cell_type": "code",
   "execution_count": 12,
   "id": "a24b3468-fd60-40d0-96ea-46a379a5208c",
   "metadata": {
    "tags": []
   },
   "outputs": [
    {
     "name": "stdout",
     "output_type": "stream",
     "text": [
      "\n",
      "\n",
      "\u001b[1m> Entering new LLMChain chain...\u001b[0m\n",
      "Prompt after formatting:\n",
      "\u001b[32;1m\u001b[1;3m以下是人类和AI之间的友好对话。AI很健谈，并提供了大量来自其上下文的具体细节。如果AI不知道某个问题的答案，它会真诚地说不知道。如果相关，你会得到人类提到的实体的信息。\n",
      "\n",
      "相关实体信息：\n",
      "\n",
      "\n",
      "对话：\n",
      "人类: 2014年9月，马云在杭州发起了世界互联网大会。这一事件标志着中国在全球互联网发展中的积极参与。\n",
      "AI:\u001b[0m\n",
      "\n",
      "\u001b[1m> Finished chain.\u001b[0m\n"
     ]
    },
    {
     "data": {
      "text/plain": [
       "{'input': '2014年9月，马云在杭州发起了世界互联网大会。这一事件标志着中国在全球互联网发展中的积极参与。',\n",
       " 'entities': '',\n",
       " 'text': '确实如此，从2014年开始的世界互联网大会，显示了中国在全球互联网领域的积极参与。马云，作为阿里巴巴集团的创始人，他的领导作用在此过程中起到了推动作用。他对互联网技术的深谙和前瞻性思考，以及对互联网开放、合作、共享、公平性的坚守，给世界互联网发展趋势提供了重要的方向。这一点，在他发起的世界互联网大会中有着非常明显的体现。'}"
      ]
     },
     "execution_count": 12,
     "metadata": {},
     "output_type": "execute_result"
    }
   ],
   "source": [
    "spacy_chain.invoke({\"input\":\"2014年9月，马云在杭州发起了世界互联网大会。这一事件标志着中国在全球互联网发展中的积极参与。\"})"
   ]
  },
  {
   "cell_type": "code",
   "execution_count": 13,
   "id": "b9e79c2b-0f42-437f-870b-0700b34e1b22",
   "metadata": {
    "tags": []
   },
   "outputs": [
    {
     "name": "stdout",
     "output_type": "stream",
     "text": [
      "\n",
      "\n",
      "\u001b[1m> Entering new LLMChain chain...\u001b[0m\n",
      "Prompt after formatting:\n",
      "\u001b[32;1m\u001b[1;3m以下是人类和AI之间的友好对话。AI很健谈，并提供了大量来自其上下文的具体细节。如果AI不知道某个问题的答案，它会真诚地说不知道。如果相关，你会得到人类提到的实体的信息。\n",
      "\n",
      "相关实体信息：\n",
      "2014年9月，马云在杭州发起了世界互联网大会。这一事件标志着中国在全球互联网发展中的积极参与。\n",
      "\n",
      "对话：\n",
      "人类: 随后，2015年11月，腾讯公司在深圳发布了微信支付功能，进一步推动了中国数字经济的发展\n",
      "AI:\u001b[0m\n",
      "\n",
      "\u001b[1m> Finished chain.\u001b[0m\n"
     ]
    },
    {
     "data": {
      "text/plain": [
       "{'input': '随后，2015年11月，腾讯公司在深圳发布了微信支付功能，进一步推动了中国数字经济的发展',\n",
       " 'entities': '2014年9月，马云在杭州发起了世界互联网大会。这一事件标志着中国在全球互联网发展中的积极参与。',\n",
       " 'text': '是的，您说得对。微信支付作为腾讯公司的一项重要服务，其推出确实在很大程度上推动了中国的数字经济发展。它不仅使得线上交易变得更为便捷，还在很大程度上影响了人们的消费习惯，使得移动支付成为了日常生活的一部分。微信支付的推出，可以说是跟随着全球数字化趋势的发展，也反过来推动了这一趋势在中国的深入发展。'}"
      ]
     },
     "execution_count": 13,
     "metadata": {},
     "output_type": "execute_result"
    }
   ],
   "source": [
    "spacy_chain.invoke({\"input\":\"随后，2015年11月，腾讯公司在深圳发布了微信支付功能，进一步推动了中国数字经济的发展\"})"
   ]
  },
  {
   "cell_type": "code",
   "execution_count": 14,
   "id": "6e3f6bd5-6756-42d5-ae21-a6eea0dc1dda",
   "metadata": {
    "tags": []
   },
   "outputs": [
    {
     "name": "stdout",
     "output_type": "stream",
     "text": [
      "\n",
      "\n",
      "\u001b[1m> Entering new LLMChain chain...\u001b[0m\n",
      "Prompt after formatting:\n",
      "\u001b[32;1m\u001b[1;3m以下是人类和AI之间的友好对话。AI很健谈，并提供了大量来自其上下文的具体细节。如果AI不知道某个问题的答案，它会真诚地说不知道。如果相关，你会得到人类提到的实体的信息。\n",
      "\n",
      "相关实体信息：\n",
      "2014年9月，马云在杭州发起了世界互联网大会。这一事件标志着中国在全球互联网发展中的积极参与。\n",
      "\n",
      "对话：\n",
      "人类: 那天，我正好去游玩，碰到了马云\n",
      "AI:\u001b[0m\n",
      "\n",
      "\u001b[1m> Finished chain.\u001b[0m\n"
     ]
    },
    {
     "data": {
      "text/plain": [
       "{'input': '那天，我正好去游玩，碰到了马云',\n",
       " 'entities': '2014年9月，马云在杭州发起了世界互联网大会。这一事件标志着中国在全球互联网发展中的积极参与。',\n",
       " 'text': '\"哦，那你碰到马云一定是一个令人兴奋的经历。你们有谈论他发起的世界互联网大会吗? 这个大会在全球互联网发展中起着重要角色，尤其是对中国来说。\"'}"
      ]
     },
     "execution_count": 14,
     "metadata": {},
     "output_type": "execute_result"
    }
   ],
   "source": [
    "spacy_chain.invoke({\"input\":\"那天，我正好去游玩，碰到了马云\"})"
   ]
  },
  {
   "cell_type": "markdown",
   "id": "c534fca9-c9df-42aa-ba0a-605808ef3404",
   "metadata": {},
   "source": [
    "&emsp;&emsp;在第三轮的提问中，触发的关键实体是：`马云`，所以能够提取到在缓存中的信息：`马云: 2014年9月，马云在杭州发起了世界互联网大会。这一事件标志着中国在全球互联网发展中的积极参与。`而从其`text`中对应的回复中，也提及到了`2014年9月杭州世界互联网大会`的事情，说明它在此轮对话中已经正确的使用了在`SpacyMemory`记忆类中的`entities`变量传递给它的信息。"
   ]
  },
  {
   "cell_type": "markdown",
   "id": "f9d1f7ab-a89d-4a9d-8d3b-907d98d71229",
   "metadata": {},
   "source": [
    "## 4 LangChain内置Memory"
   ]
  },
  {
   "cell_type": "markdown",
   "id": "52030aaa-a190-4236-806d-630d03241530",
   "metadata": {},
   "source": [
    "### 4.1 ConversationBufferMemory \n",
    "\n",
    "#### (1) 介绍\n",
    "\n",
    "它把对话中所有Message作为Memory提交给大模型（也会占用过多token，甚至超过大模型限制）\n",
    "\n",
    "参数return_messages\n",
    "\n",
    "* 为false会按字典的方式返回，适合用于续写类模型（Completion Model）\n",
    "* 为true会按XXXMessage对象的方式返回，适合用于对话类模型（Chat Completion）\n",
    "\n",
    "#### (2) API演示"
   ]
  },
  {
   "cell_type": "code",
   "execution_count": 84,
   "id": "08c5dba1-411b-4b54-9fbf-c94b2913e652",
   "metadata": {
    "tags": []
   },
   "outputs": [],
   "source": [
    "from langchain.memory import ConversationBufferMemory"
   ]
  },
  {
   "cell_type": "code",
   "execution_count": 85,
   "id": "dd15cee1-cc9f-4dd1-9c64-0138a28fb9a5",
   "metadata": {
    "tags": []
   },
   "outputs": [],
   "source": [
    "memory = ConversationBufferMemory()"
   ]
  },
  {
   "cell_type": "code",
   "execution_count": 86,
   "id": "fb7f276e-b77c-400b-9c99-501b37a1ef29",
   "metadata": {
    "tags": []
   },
   "outputs": [],
   "source": [
    "memory.save_context({\"input\": \"你好，请你介绍一下你自己\"}, {\"output\": \"我是一个无所不能的AI小助手\"})"
   ]
  },
  {
   "cell_type": "code",
   "execution_count": 87,
   "id": "4f1778d0-d4f1-413f-af1c-64e23065a7ea",
   "metadata": {
    "tags": []
   },
   "outputs": [
    {
     "data": {
      "text/plain": [
       "{'history': 'Human: 你好，请你介绍一下你自己\\nAI: 我是一个无所不能的AI小助手'}"
      ]
     },
     "execution_count": 87,
     "metadata": {},
     "output_type": "execute_result"
    }
   ],
   "source": [
    "memory.load_memory_variables({})"
   ]
  },
  {
   "cell_type": "code",
   "execution_count": 88,
   "id": "e656d072-4b94-4624-9d0c-617621dde834",
   "metadata": {
    "tags": []
   },
   "outputs": [],
   "source": [
    "memory = ConversationBufferMemory(return_messages=True)\n",
    "memory.save_context({\"input\": \"你好，请你介绍一下你自己\"}, {\"output\": \"我是一个无所不能的AI小助手2\"})"
   ]
  },
  {
   "cell_type": "code",
   "execution_count": 89,
   "id": "7479006d-0723-4e84-93c1-cbaf9374af06",
   "metadata": {
    "tags": []
   },
   "outputs": [
    {
     "data": {
      "text/plain": [
       "{'history': [HumanMessage(content='你好，请你介绍一下你自己'),\n",
       "  AIMessage(content='我是一个无所不能的AI小助手2')]}"
      ]
     },
     "execution_count": 89,
     "metadata": {},
     "output_type": "execute_result"
    }
   ],
   "source": [
    "memory.load_memory_variables({})"
   ]
  },
  {
   "cell_type": "markdown",
   "id": "5fdcdd68-9383-44f5-a326-544c6a16f570",
   "metadata": {},
   "source": [
    "#### (3) 使用在chain中"
   ]
  },
  {
   "cell_type": "code",
   "execution_count": 113,
   "id": "f9624698-d64a-4b16-aef9-fa587514f0ee",
   "metadata": {
    "tags": []
   },
   "outputs": [],
   "source": [
    "from langchain_openai import ChatOpenAI\n",
    "# 实例化一个模型\n",
    "llm = ChatOpenAI(model_name=\"gpt-3.5-turbo\",api_key=openai.api_key ,base_url=openai.api_base)"
   ]
  },
  {
   "cell_type": "code",
   "execution_count": 177,
   "id": "5c580a88-b093-4dcc-b03f-16223ff92336",
   "metadata": {
    "tags": []
   },
   "outputs": [],
   "source": [
    "from langchain_core.prompts.prompt import PromptTemplate\n",
    "\n",
    "DEFAULT_TEMPLATE = \"\"\"以下是人类与AI之间的友好对话描述。AI表现得很健谈，并提供了大量来自其上下文的具体细节。如果AI不知道问题的答案，它会真诚地表示不知道。\n",
    "\n",
    "当前对话：\n",
    "{history}\n",
    "Human: {input}\n",
    "AI:\"\"\"\n",
    "\n",
    "PROMPT = PromptTemplate(input_variables=[\"history\", \"input\"], template=DEFAULT_TEMPLATE)"
   ]
  },
  {
   "cell_type": "code",
   "execution_count": 115,
   "id": "78e205f9-3b8b-4da6-9086-37259405964b",
   "metadata": {
    "tags": []
   },
   "outputs": [],
   "source": [
    "from langchain.chains import LLMChain\n",
    "\n",
    "conversation = LLMChain(\n",
    "    llm=llm,\n",
    "    prompt = PROMPT, \n",
    "    memory=ConversationBufferMemory(memory_key=\"history\"),\n",
    "    verbose=True,\n",
    ")"
   ]
  },
  {
   "cell_type": "markdown",
   "id": "0c9cb1e4-f809-4cbf-98fb-3489da065281",
   "metadata": {},
   "source": [
    "#### (4) 测试\n",
    "\n",
    "可以看到对话记录累积在Memory中，并在对话中发挥作用"
   ]
  },
  {
   "cell_type": "code",
   "execution_count": 116,
   "id": "01e88544-fd21-4191-910b-9a4136894224",
   "metadata": {
    "tags": []
   },
   "outputs": [
    {
     "name": "stdout",
     "output_type": "stream",
     "text": [
      "\n",
      "\n",
      "\u001b[1m> Entering new LLMChain chain...\u001b[0m\n",
      "Prompt after formatting:\n",
      "\u001b[32;1m\u001b[1;3m以下是人类与AI之间的友好对话描述。AI表现得很健谈，并提供了大量来自其上下文的具体细节。如果AI不知道问题的答案，它会真诚地表示不知道。\n",
      "\n",
      "当前对话：\n",
      "\n",
      "Human: 你好，请你介绍一下你自己\n",
      "AI:\u001b[0m\n",
      "\n",
      "\u001b[1m> Finished chain.\u001b[0m\n"
     ]
    },
    {
     "data": {
      "text/plain": [
       "{'input': '你好，请你介绍一下你自己',\n",
       " 'history': '',\n",
       " 'text': '你好！我是一个智能AI助手，很高兴能和你交谈。我可以提供大量信息，回答各种问题，帮助你完成任务。我可以告诉你很多关于我的信息。例如，我可以帮助你找到你感兴趣的餐厅、电影、书籍或活动。我还能够提供一些实用的生活建议，例如如何烹饪美味的菜肴、如何打领带或如何养宠物。我喜欢和人们交谈，分享我所知道的知识，并随时学习新的技能和信息。如果你有任何问题，请随时问我，我会尽我所能提供有用的答案！'}"
      ]
     },
     "execution_count": 116,
     "metadata": {},
     "output_type": "execute_result"
    }
   ],
   "source": [
    "conversation.invoke(input=\"你好，请你介绍一下你自己\")"
   ]
  },
  {
   "cell_type": "code",
   "execution_count": 117,
   "id": "cf98b03d-91b2-4438-87ff-59cc2d94a17f",
   "metadata": {
    "tags": []
   },
   "outputs": [
    {
     "name": "stdout",
     "output_type": "stream",
     "text": [
      "\n",
      "\n",
      "\u001b[1m> Entering new LLMChain chain...\u001b[0m\n",
      "Prompt after formatting:\n",
      "\u001b[32;1m\u001b[1;3m以下是人类与AI之间的友好对话描述。AI表现得很健谈，并提供了大量来自其上下文的具体细节。如果AI不知道问题的答案，它会真诚地表示不知道。\n",
      "\n",
      "当前对话：\n",
      "Human: 你好，请你介绍一下你自己\n",
      "AI: 你好！我是一个智能AI助手，很高兴能和你交谈。我可以提供大量信息，回答各种问题，帮助你完成任务。我可以告诉你很多关于我的信息。例如，我可以帮助你找到你感兴趣的餐厅、电影、书籍或活动。我还能够提供一些实用的生活建议，例如如何烹饪美味的菜肴、如何打领带或如何养宠物。我喜欢和人们交谈，分享我所知道的知识，并随时学习新的技能和信息。如果你有任何问题，请随时问我，我会尽我所能提供有用的答案！\n",
      "Human: 我是胡歌，我每天都在学习AI大模型的知识。\n",
      "AI:\u001b[0m\n",
      "\n",
      "\u001b[1m> Finished chain.\u001b[0m\n"
     ]
    },
    {
     "data": {
      "text/plain": [
       "{'input': '我是胡歌，我每天都在学习AI大模型的知识。',\n",
       " 'history': 'Human: 你好，请你介绍一下你自己\\nAI: 你好！我是一个智能AI助手，很高兴能和你交谈。我可以提供大量信息，回答各种问题，帮助你完成任务。我可以告诉你很多关于我的信息。例如，我可以帮助你找到你感兴趣的餐厅、电影、书籍或活动。我还能够提供一些实用的生活建议，例如如何烹饪美味的菜肴、如何打领带或如何养宠物。我喜欢和人们交谈，分享我所知道的知识，并随时学习新的技能和信息。如果你有任何问题，请随时问我，我会尽我所能提供有用的答案！',\n",
       " 'text': 'AI：很高兴认识你，胡歌！我也是在不断学习和发展，特别是关于AI大模型的知识。我了解到，AI大模型是当前人工智能领域非常热门的研究方向之一，它可以基于大量数据进行训练，学习复杂的模式和上下文，从而提供更加准确和智能的回答。如果你在学习AI大模型的过程中遇到任何困难或问题，不妨告诉我，或许我能提供一些帮助或建议！我们可以一起探讨和研究！'}"
      ]
     },
     "execution_count": 117,
     "metadata": {},
     "output_type": "execute_result"
    }
   ],
   "source": [
    "conversation.invoke(input=\"我是胡歌，我每天都在学习AI大模型的知识。\")"
   ]
  },
  {
   "cell_type": "code",
   "execution_count": 118,
   "id": "a7873899-e1bb-4760-b513-366206bc6cdc",
   "metadata": {
    "tags": []
   },
   "outputs": [
    {
     "name": "stdout",
     "output_type": "stream",
     "text": [
      "\n",
      "\n",
      "\u001b[1m> Entering new LLMChain chain...\u001b[0m\n",
      "Prompt after formatting:\n",
      "\u001b[32;1m\u001b[1;3m以下是人类与AI之间的友好对话描述。AI表现得很健谈，并提供了大量来自其上下文的具体细节。如果AI不知道问题的答案，它会真诚地表示不知道。\n",
      "\n",
      "当前对话：\n",
      "Human: 你好，请你介绍一下你自己\n",
      "AI: 你好！我是一个智能AI助手，很高兴能和你交谈。我可以提供大量信息，回答各种问题，帮助你完成任务。我可以告诉你很多关于我的信息。例如，我可以帮助你找到你感兴趣的餐厅、电影、书籍或活动。我还能够提供一些实用的生活建议，例如如何烹饪美味的菜肴、如何打领带或如何养宠物。我喜欢和人们交谈，分享我所知道的知识，并随时学习新的技能和信息。如果你有任何问题，请随时问我，我会尽我所能提供有用的答案！\n",
      "Human: 我是胡歌，我每天都在学习AI大模型的知识。\n",
      "AI: AI：很高兴认识你，胡歌！我也是在不断学习和发展，特别是关于AI大模型的知识。我了解到，AI大模型是当前人工智能领域非常热门的研究方向之一，它可以基于大量数据进行训练，学习复杂的模式和上下文，从而提供更加准确和智能的回答。如果你在学习AI大模型的过程中遇到任何困难或问题，不妨告诉我，或许我能提供一些帮助或建议！我们可以一起探讨和研究！\n",
      "Human: 请问，胡歌每天都在学习什么？\n",
      "AI:\u001b[0m\n",
      "\n",
      "\u001b[1m> Finished chain.\u001b[0m\n"
     ]
    },
    {
     "data": {
      "text/plain": [
       "{'input': '请问，胡歌每天都在学习什么？',\n",
       " 'history': 'Human: 你好，请你介绍一下你自己\\nAI: 你好！我是一个智能AI助手，很高兴能和你交谈。我可以提供大量信息，回答各种问题，帮助你完成任务。我可以告诉你很多关于我的信息。例如，我可以帮助你找到你感兴趣的餐厅、电影、书籍或活动。我还能够提供一些实用的生活建议，例如如何烹饪美味的菜肴、如何打领带或如何养宠物。我喜欢和人们交谈，分享我所知道的知识，并随时学习新的技能和信息。如果你有任何问题，请随时问我，我会尽我所能提供有用的答案！\\nHuman: 我是胡歌，我每天都在学习AI大模型的知识。\\nAI: AI：很高兴认识你，胡歌！我也是在不断学习和发展，特别是关于AI大模型的知识。我了解到，AI大模型是当前人工智能领域非常热门的研究方向之一，它可以基于大量数据进行训练，学习复杂的模式和上下文，从而提供更加准确和智能的回答。如果你在学习AI大模型的过程中遇到任何困难或问题，不妨告诉我，或许我能提供一些帮助或建议！我们可以一起探讨和研究！',\n",
       " 'text': '胡歌每天沉浸在AI大模型的知识海洋中，潜心研究和探索。他勤奋好学，不断地沉浸在代码和算法的世界里。AI大模型的庞大复杂性使胡歌着迷，他努力解开它们的秘密，并希望能够掌握这些先进的技能和知识。胡歌对AI领域的热情和坚持令人钦佩，他每天都沉浸在学习中，不放过任何一个细节，希望能够掌握更多实用技巧，推动AI技术的发展。'}"
      ]
     },
     "execution_count": 118,
     "metadata": {},
     "output_type": "execute_result"
    }
   ],
   "source": [
    "reponse = conversation.invoke(input=\"请问，胡歌每天都在学习什么？\")\n",
    "reponse"
   ]
  },
  {
   "cell_type": "code",
   "execution_count": 119,
   "id": "3767997f-ee35-45cd-acb0-5fd8797defb5",
   "metadata": {
    "tags": []
   },
   "outputs": [
    {
     "data": {
      "text/plain": [
       "'胡歌每天沉浸在AI大模型的知识海洋中，潜心研究和探索。他勤奋好学，不断地沉浸在代码和算法的世界里。AI大模型的庞大复杂性使胡歌着迷，他努力解开它们的秘密，并希望能够掌握这些先进的技能和知识。胡歌对AI领域的热情和坚持令人钦佩，他每天都沉浸在学习中，不放过任何一个细节，希望能够掌握更多实用技巧，推动AI技术的发展。'"
      ]
     },
     "execution_count": 119,
     "metadata": {},
     "output_type": "execute_result"
    }
   ],
   "source": [
    "reponse[\"text\"]"
   ]
  },
  {
   "cell_type": "markdown",
   "id": "6d355c50-48a2-455f-a005-37bf30974929",
   "metadata": {},
   "source": [
    "### 4.2 ConversationBufferWindow"
   ]
  },
  {
   "cell_type": "markdown",
   "id": "36f58ebc-02fa-4e6a-a89e-0005756d4cc1",
   "metadata": {},
   "source": [
    "#### (1) 介绍\n",
    "\n",
    "现实中，常常不需要存储所有的对话，只需要存储最近的几轮对话，这时会用到ConversactionBufferWindow\n",
    "\n",
    ">在了解了`ConversationBufferMemory`记忆类后，我们知道了它能够无限的将历史对话信息填充到History中，从而给大模型提供上下文的背景。但问题是：每个大模型都存在最大输入的Token限制，且过久远的对话数据往往并不能够对当前轮次的问答提供有效的信息，这种我们大家都能非常容易想到的问题，LangChain的开发人员自然也能想到，那么他们给出的解决方式是：`ConversationBufferWindowMemory`模块。该记忆类会保存一段时间内对话交互的列表，仅使用最后 K 个交互。所以它可以保存最近交互的滑动窗口，避免缓存区不会变得太大。\n",
    "\n",
    "参数如下：\n",
    "\n",
    "* k：用来表示记录最近多少次对话\n",
    "* return_messages: 表示返回格式（与上一节中的例子相同）\n",
    "    * 为false会按字典的方式返回，适合用于续写类模型（Completion Model）\n",
    "    * 为true会按XXXMessage对象的方式返回，适合用于对话类模型（Chat Completion）"
   ]
  },
  {
   "cell_type": "markdown",
   "id": "bf819e92-40e8-4fe5-b625-32cf2bfadb32",
   "metadata": {},
   "source": [
    "#### (2) API演示"
   ]
  },
  {
   "cell_type": "code",
   "execution_count": 120,
   "id": "13e4ad0b-7fef-4b54-81cd-78ded6d2f584",
   "metadata": {},
   "outputs": [],
   "source": [
    "from langchain.memory import ConversationBufferWindowMemory"
   ]
  },
  {
   "cell_type": "code",
   "execution_count": 121,
   "id": "bb3bebdf-533c-437e-a641-f00909fda780",
   "metadata": {},
   "outputs": [],
   "source": [
    "memory = ConversationBufferWindowMemory(k=1)\n",
    "memory.save_context({\"input\": \"hello。\"}, {\"output\": \"我是小智，请问有什么事情？\"})\n",
    "memory.save_context({\"input\": \"初次对话，你能介绍一下你自己吗？\"}, {\"output\": \"当然可以了。我是一个无所不能的小智。\"})"
   ]
  },
  {
   "cell_type": "code",
   "execution_count": 122,
   "id": "e22d26c4-54d1-4d92-a27d-4b3236517f4d",
   "metadata": {},
   "outputs": [
    {
     "data": {
      "text/plain": [
       "{'history': 'Human: 初次对话，你能介绍一下你自己吗？\\nAI: 当然可以了。我是一个无所不能的小智。'}"
      ]
     },
     "execution_count": 122,
     "metadata": {},
     "output_type": "execute_result"
    }
   ],
   "source": [
    "memory.load_memory_variables({})"
   ]
  },
  {
   "cell_type": "markdown",
   "id": "b688226c-e36e-4fc4-bf8c-98afdb316808",
   "metadata": {},
   "source": [
    "`ConversationBufferWindowMemory`也支持使用聊天模型（Chat Model）的情况，同样可以通过`return_messages=True`参数，将对话转化为消息列表形式。"
   ]
  },
  {
   "cell_type": "code",
   "execution_count": 123,
   "id": "568c7122-c7a2-4f74-a630-ae00c7bb98f8",
   "metadata": {},
   "outputs": [],
   "source": [
    "memory = ConversationBufferWindowMemory(k=1, return_messages=True)\n",
    "memory.save_context({\"input\": \"hello。\"}, {\"output\": \"我是小智，请问有什么事情？\"})\n",
    "memory.save_context({\"input\": \"初次对话，你能介绍一下你自己吗？\"}, {\"output\": \"当然可以了。我是一个无所不能的小智。\"})"
   ]
  },
  {
   "cell_type": "code",
   "execution_count": 124,
   "id": "33355dac-6b4e-4d9b-b534-c383a2e09afb",
   "metadata": {},
   "outputs": [
    {
     "data": {
      "text/plain": [
       "{'history': [HumanMessage(content='初次对话，你能介绍一下你自己吗？'),\n",
       "  AIMessage(content='当然可以了。我是一个无所不能的小智。')]}"
      ]
     },
     "execution_count": 124,
     "metadata": {},
     "output_type": "execute_result"
    }
   ],
   "source": [
    "memory.load_memory_variables({})"
   ]
  },
  {
   "cell_type": "markdown",
   "id": "6db7204e-29ee-4cbc-a6ed-54f49a124aa6",
   "metadata": {},
   "source": [
    "#### (3) 使用在chain中"
   ]
  },
  {
   "cell_type": "markdown",
   "id": "0bc41071-a8bd-4495-9702-6017f6d07b4b",
   "metadata": {},
   "source": [
    "借助提示词模版去构建LangChain"
   ]
  },
  {
   "cell_type": "code",
   "execution_count": 125,
   "id": "9d5a9c2b-34b2-470b-9c4f-2a6862211ae1",
   "metadata": {},
   "outputs": [],
   "source": [
    "from langchain_core.prompts.prompt import PromptTemplate\n",
    "\n",
    "DEFAULT_TEMPLATE = \"\"\"以下是人类与AI之间的友好对话描述。AI表现得很健谈，并提供了大量来自其上下文的具体细节。如果AI不知道问题的答案，它会表示不知道。\n",
    "\n",
    "当前对话：\n",
    "{history}\n",
    "Human: {input}\n",
    "AI:\"\"\"\n",
    "\n",
    "PROMPT = PromptTemplate(input_variables=[\"history\", \"input\"], template=DEFAULT_TEMPLATE)"
   ]
  },
  {
   "cell_type": "code",
   "execution_count": 126,
   "id": "916f73af-3c3b-4601-bbfa-7edcbc5e0e92",
   "metadata": {},
   "outputs": [],
   "source": [
    "from langchain.chains import LLMChain\n",
    "\n",
    "conversation_with_summary = LLMChain(\n",
    "    llm=llm,\n",
    "    prompt = PROMPT, \n",
    "    memory=ConversationBufferWindowMemory(memory_key=\"history\", k=2),   # 多传入一个参数 k\n",
    "    verbose=True,\n",
    ")"
   ]
  },
  {
   "cell_type": "markdown",
   "id": "bfee227e-7dfd-4208-a27e-1ab7a357df47",
   "metadata": {},
   "source": [
    "#### (4) 测试"
   ]
  },
  {
   "cell_type": "code",
   "execution_count": 127,
   "id": "86b84bd8-aa42-426b-ab84-f6d284f35596",
   "metadata": {},
   "outputs": [
    {
     "name": "stdout",
     "output_type": "stream",
     "text": [
      "\n",
      "\n",
      "\u001b[1m> Entering new LLMChain chain...\u001b[0m\n",
      "Prompt after formatting:\n",
      "\u001b[32;1m\u001b[1;3m以下是人类与AI之间的友好对话描述。AI表现得很健谈，并提供了大量来自其上下文的具体细节。如果AI不知道问题的答案，它会表示不知道。\n",
      "\n",
      "当前对话：\n",
      "\n",
      "Human: 你好，我是孙悟空。\n",
      "AI:\u001b[0m\n",
      "\n",
      "\u001b[1m> Finished chain.\u001b[0m\n"
     ]
    },
    {
     "data": {
      "text/plain": [
       "{'input': '你好，我是孙悟空。',\n",
       " 'history': '',\n",
       " 'text': 'AI: 你好，孙悟空！我很荣幸能够与你交谈。作为AI，我很乐意帮助你，尽我所能为你提供有用的信息。你有什么问题想问我吗？'}"
      ]
     },
     "execution_count": 127,
     "metadata": {},
     "output_type": "execute_result"
    }
   ],
   "source": [
    "conversation_with_summary.invoke(input=\"你好，我是孙悟空。\")"
   ]
  },
  {
   "cell_type": "code",
   "execution_count": 128,
   "id": "22c365c0-29e1-4fef-895d-efb2e514c8c7",
   "metadata": {},
   "outputs": [
    {
     "name": "stdout",
     "output_type": "stream",
     "text": [
      "\n",
      "\n",
      "\u001b[1m> Entering new LLMChain chain...\u001b[0m\n",
      "Prompt after formatting:\n",
      "\u001b[32;1m\u001b[1;3m以下是人类与AI之间的友好对话描述。AI表现得很健谈，并提供了大量来自其上下文的具体细节。如果AI不知道问题的答案，它会表示不知道。\n",
      "\n",
      "当前对话：\n",
      "Human: 你好，我是孙悟空。\n",
      "AI: AI: 你好，孙悟空！我很荣幸能够与你交谈。作为AI，我很乐意帮助你，尽我所能为你提供有用的信息。你有什么问题想问我吗？\n",
      "Human: 我正在去西天取经的路上。\n",
      "AI:\u001b[0m\n",
      "\n",
      "\u001b[1m> Finished chain.\u001b[0m\n"
     ]
    },
    {
     "data": {
      "text/plain": [
       "{'input': '我正在去西天取经的路上。',\n",
       " 'history': 'Human: 你好，我是孙悟空。\\nAI: AI: 你好，孙悟空！我很荣幸能够与你交谈。作为AI，我很乐意帮助你，尽我所能为你提供有用的信息。你有什么问题想问我吗？',\n",
       " 'text': 'AI: 西天取经？这听起来就很像是一段艰辛而又刺激的旅程！如果你需要帮助，我将尽我所能为你提供帮助。我知道很多关于这个世界的故事和信息。比如说，你知道西游记的作者是谁吗？他可是中国古代一位很有名的作家哦！'}"
      ]
     },
     "execution_count": 128,
     "metadata": {},
     "output_type": "execute_result"
    }
   ],
   "source": [
    "conversation_with_summary.invoke(input=\"我正在去西天取经的路上。\")"
   ]
  },
  {
   "cell_type": "code",
   "execution_count": 129,
   "id": "5e94a432-d38d-4009-91fd-0daa35571ffa",
   "metadata": {},
   "outputs": [
    {
     "name": "stdout",
     "output_type": "stream",
     "text": [
      "\n",
      "\n",
      "\u001b[1m> Entering new LLMChain chain...\u001b[0m\n",
      "Prompt after formatting:\n",
      "\u001b[32;1m\u001b[1;3m以下是人类与AI之间的友好对话描述。AI表现得很健谈，并提供了大量来自其上下文的具体细节。如果AI不知道问题的答案，它会表示不知道。\n",
      "\n",
      "当前对话：\n",
      "Human: 你好，我是孙悟空。\n",
      "AI: AI: 你好，孙悟空！我很荣幸能够与你交谈。作为AI，我很乐意帮助你，尽我所能为你提供有用的信息。你有什么问题想问我吗？\n",
      "Human: 我正在去西天取经的路上。\n",
      "AI: AI: 西天取经？这听起来就很像是一段艰辛而又刺激的旅程！如果你需要帮助，我将尽我所能为你提供帮助。我知道很多关于这个世界的故事和信息。比如说，你知道西游记的作者是谁吗？他可是中国古代一位很有名的作家哦！\n",
      "Human: 我经历了九九八十一难\n",
      "AI:\u001b[0m\n",
      "\n",
      "\u001b[1m> Finished chain.\u001b[0m\n"
     ]
    },
    {
     "data": {
      "text/plain": [
       "{'input': '我经历了九九八十一难',\n",
       " 'history': 'Human: 你好，我是孙悟空。\\nAI: AI: 你好，孙悟空！我很荣幸能够与你交谈。作为AI，我很乐意帮助你，尽我所能为你提供有用的信息。你有什么问题想问我吗？\\nHuman: 我正在去西天取经的路上。\\nAI: AI: 西天取经？这听起来就很像是一段艰辛而又刺激的旅程！如果你需要帮助，我将尽我所能为你提供帮助。我知道很多关于这个世界的故事和信息。比如说，你知道西游记的作者是谁吗？他可是中国古代一位很有名的作家哦！',\n",
       " 'text': 'AI: 真是太不可思议了！九九八十一难听起来就很艰难，你都经历了什么样的磨难？能不能给我讲讲？我可不只是个听起来很健谈的AI，我还能分享很多有趣的知识点呢！比如，在中国古代，人们认为世界是由三界构成的：天、人、地。而你要去的西天，在 Chinese 文化中是一个很神圣的地方，它位于极乐世界，是佛教天堂。据传说，西天有佛祖释迦牟尼。你西天取经，一定是要去见他并从他那里获得真经吧！'}"
      ]
     },
     "execution_count": 129,
     "metadata": {},
     "output_type": "execute_result"
    }
   ],
   "source": [
    "conversation_with_summary.invoke(input=\"我经历了九九八十一难\")"
   ]
  },
  {
   "cell_type": "code",
   "execution_count": 130,
   "id": "bc575099-4b46-4343-9c0a-490be739e911",
   "metadata": {},
   "outputs": [
    {
     "name": "stdout",
     "output_type": "stream",
     "text": [
      "\n",
      "\n",
      "\u001b[1m> Entering new LLMChain chain...\u001b[0m\n",
      "Prompt after formatting:\n",
      "\u001b[32;1m\u001b[1;3m以下是人类与AI之间的友好对话描述。AI表现得很健谈，并提供了大量来自其上下文的具体细节。如果AI不知道问题的答案，它会表示不知道。\n",
      "\n",
      "当前对话：\n",
      "Human: 我正在去西天取经的路上。\n",
      "AI: AI: 西天取经？这听起来就很像是一段艰辛而又刺激的旅程！如果你需要帮助，我将尽我所能为你提供帮助。我知道很多关于这个世界的故事和信息。比如说，你知道西游记的作者是谁吗？他可是中国古代一位很有名的作家哦！\n",
      "Human: 我经历了九九八十一难\n",
      "AI: AI: 真是太不可思议了！九九八十一难听起来就很艰难，你都经历了什么样的磨难？能不能给我讲讲？我可不只是个听起来很健谈的AI，我还能分享很多有趣的知识点呢！比如，在中国古代，人们认为世界是由三界构成的：天、人、地。而你要去的西天，在 Chinese 文化中是一个很神圣的地方，它位于极乐世界，是佛教天堂。据传说，西天有佛祖释迦牟尼。你西天取经，一定是要去见他并从他那里获得真经吧！\n",
      "Human: 马上就修炼成佛了！\n",
      "AI:\u001b[0m\n",
      "\n",
      "\u001b[1m> Finished chain.\u001b[0m\n"
     ]
    },
    {
     "data": {
      "text/plain": [
       "{'input': '马上就修炼成佛了！',\n",
       " 'history': 'Human: 我正在去西天取经的路上。\\nAI: AI: 西天取经？这听起来就很像是一段艰辛而又刺激的旅程！如果你需要帮助，我将尽我所能为你提供帮助。我知道很多关于这个世界的故事和信息。比如说，你知道西游记的作者是谁吗？他可是中国古代一位很有名的作家哦！\\nHuman: 我经历了九九八十一难\\nAI: AI: 真是太不可思议了！九九八十一难听起来就很艰难，你都经历了什么样的磨难？能不能给我讲讲？我可不只是个听起来很健谈的AI，我还能分享很多有趣的知识点呢！比如，在中国古代，人们认为世界是由三界构成的：天、人、地。而你要去的西天，在 Chinese 文化中是一个很神圣的地方，它位于极乐世界，是佛教天堂。据传说，西天有佛祖释迦牟尼。你西天取经，一定是要去见他并从他那里获得真经吧！',\n",
       " 'text': 'AI: 哇，修炼成佛可是一件非常难得且令人兴奋的事！你都经历了哪些修炼？我知道一些关于佛教的趣闻轶事，比如佛祖有个儿子，叫罗汉。还有个很有趣的传说，佛祖一次在化缘时，收到一户人家一个美味的可乐饼，于是佛祖将这个家庭的成员都转世成猴子，还许诺下次再来的时候会带他们走。没想到第二次来的时候，家里只有一个小女孩，原来其他人都已经去世了。可怜的小女孩哭着请求佛祖带她走，佛祖就把她变成了一只小猴子，并把她带走了。你有没有遇到过什么有趣的动物或妖怪？'}"
      ]
     },
     "execution_count": 130,
     "metadata": {},
     "output_type": "execute_result"
    }
   ],
   "source": [
    "conversation_with_summary.invoke(input=\"马上就修炼成佛了！\")"
   ]
  },
  {
   "cell_type": "code",
   "execution_count": null,
   "id": "582977f1-a79c-4ed4-b11f-0d421465bf86",
   "metadata": {},
   "outputs": [],
   "source": []
  },
  {
   "cell_type": "markdown",
   "id": "5ed06f0f-0913-41f2-9f4e-55b598a6830d",
   "metadata": {},
   "source": [
    "### 4.3 ConversationEntityMemory\n",
    "\n",
    "#### (1) 介绍\n",
    "\n",
    "`ConversationEntityMemory`会识别对话内容中的entity，以entity为key在memory中存储text\n",
    "\n",
    "这样后序的对话中，就会根据用户提问，通过entity匹配的方式，有选择性的从memory取出相关的内容\n",
    "\n",
    "其实现原理可以参考第3节“支持实体识别的自定义Memory”"
   ]
  },
  {
   "cell_type": "markdown",
   "id": "f00b728d-0c01-4177-9d7c-f8b0d058bec6",
   "metadata": {},
   "source": [
    "#### (2) API演示"
   ]
  },
  {
   "cell_type": "code",
   "execution_count": 131,
   "id": "023d9ae2-f171-4b17-8872-992119e4376b",
   "metadata": {},
   "outputs": [],
   "source": [
    "from langchain_openai import ChatOpenAI\n",
    "\n",
    "llm = ChatOpenAI(model_name=\"gpt-3.5-turbo\",api_key=openai.api_key ,base_url=openai.api_base)"
   ]
  },
  {
   "cell_type": "code",
   "execution_count": 134,
   "id": "86fc96fd-3738-485b-83a0-e01f741c228d",
   "metadata": {},
   "outputs": [],
   "source": [
    "from langchain.memory import ConversationEntityMemory\n",
    "\n",
    "memory = ConversationEntityMemory(llm=llm)\n",
    "\n",
    "_input = {\"input\": \"孙悟空和猪八戒正在做一个西天取经的项目\"}\n",
    "\n",
    "# 手动的读取缓存信息，该过程会读取_input 中的文本吗，然后 执行`ConversationEntityMemory`类定义的识别实体的代码逻辑。\n",
    "memory.load_memory_variables(_input)\n",
    "\n",
    "memory.save_context(\n",
    "    _input,\n",
    "    {\"output\": \" 听起来是个很棒的项目!他们在做什么样的项目?\"}\n",
    ")"
   ]
  },
  {
   "cell_type": "code",
   "execution_count": 135,
   "id": "133eed2a-1404-41bd-aed1-1d3cbb3368b9",
   "metadata": {},
   "outputs": [
    {
     "data": {
      "text/plain": [
       "{'history': 'Human: 孙悟空和猪八戒正在做一个西天取经的项目\\nAI:  听起来是个很棒的项目!他们在做什么样的项目?',\n",
       " 'entities': {'孙悟空': '孙悟空正在和猪八戒合作进行一个重要的项目，名为“西天取经”。'}}"
      ]
     },
     "execution_count": 135,
     "metadata": {},
     "output_type": "execute_result"
    }
   ],
   "source": [
    "memory.load_memory_variables({\"input\": '谁是孙悟空？'})"
   ]
  },
  {
   "cell_type": "code",
   "execution_count": 136,
   "id": "063714c1-73e3-4426-989f-4fa7943d57ae",
   "metadata": {},
   "outputs": [],
   "source": [
    "memory = ConversationEntityMemory(llm=llm, return_messages=True)\n",
    "\n",
    "_input = {\"input\": \"孙悟空和猪八戒正在做一个西天取经的项目\"}\n",
    "\n",
    "memory.load_memory_variables(_input)\n",
    "\n",
    "memory.save_context(\n",
    "    _input,\n",
    "    {\"output\": \" 听起来是个很棒的项目!他们在做什么样的项目?\"}\n",
    ")"
   ]
  },
  {
   "cell_type": "code",
   "execution_count": 138,
   "id": "2d6c2a07-ab50-424f-818d-680c9aa1907a",
   "metadata": {},
   "outputs": [
    {
     "data": {
      "text/plain": [
       "{'history': [HumanMessage(content='孙悟空和猪八戒正在做一个西天取经的项目'),\n",
       "  AIMessage(content=' 听起来是个很棒的项目!他们在做什么样的项目?')],\n",
       " 'entities': {'猪八戒': '更新后的总结:\\n猪八戒正在参与一个西天取经的项目。'}}"
      ]
     },
     "execution_count": 138,
     "metadata": {},
     "output_type": "execute_result"
    }
   ],
   "source": [
    "memory.load_memory_variables({\"input\": '谁是猪八戒？'})"
   ]
  },
  {
   "cell_type": "markdown",
   "id": "b706196a-6510-4213-ae14-5c893ab75ecd",
   "metadata": {},
   "source": [
    "#### (2) 使用在chain中\n",
    "\n",
    "先使用一个用于ConversactionEntityMemory的提示词模版"
   ]
  },
  {
   "cell_type": "code",
   "execution_count": 139,
   "id": "f0f56587-b0ba-43c8-8884-ff4ef4dd77bf",
   "metadata": {},
   "outputs": [
    {
     "name": "stdout",
     "output_type": "stream",
     "text": [
      "input_variables=['entities', 'history', 'input'] template='You are an assistant to a human, powered by a large language model trained by OpenAI.\\n\\nYou are designed to be able to assist with a wide range of tasks, from answering simple questions to providing in-depth explanations and discussions on a wide range of topics. As a language model, you are able to generate human-like text based on the input you receive, allowing you to engage in natural-sounding conversations and provide responses that are coherent and relevant to the topic at hand.\\n\\nYou are constantly learning and improving, and your capabilities are constantly evolving. You are able to process and understand large amounts of text, and can use this knowledge to provide accurate and informative responses to a wide range of questions. You have access to some personalized information provided by the human in the Context section below. Additionally, you are able to generate your own text based on the input you receive, allowing you to engage in discussions and provide explanations and descriptions on a wide range of topics.\\n\\nOverall, you are a powerful tool that can help with a wide range of tasks and provide valuable insights and information on a wide range of topics. Whether the human needs help with a specific question or just wants to have a conversation about a particular topic, you are here to assist.\\n\\nContext:\\n{entities}\\n\\nCurrent conversation:\\n{history}\\nLast line:\\nHuman: {input}\\nYou:'\n"
     ]
    }
   ],
   "source": [
    "from langchain.memory.prompt import ENTITY_MEMORY_CONVERSATION_TEMPLATE\n",
    "\n",
    "print(ENTITY_MEMORY_CONVERSATION_TEMPLATE)"
   ]
  },
  {
   "cell_type": "markdown",
   "id": "ede845ac-b4e0-4f46-8941-a1c0f9007d19",
   "metadata": {},
   "source": [
    "这个模版翻译成中文内容如下"
   ]
  },
  {
   "cell_type": "code",
   "execution_count": 140,
   "id": "3bed7775-b4b9-4ce6-8789-26e5da9698b6",
   "metadata": {},
   "outputs": [],
   "source": [
    "_DEFAULT_ENTITY_MEMORY_CONVERSATION_TEMPLATE = \"\"\"你是一个由OpenAI训练的大语言模型设计的助手。\n",
    "\n",
    "你的设计目标是能够处理各种任务，从回答简单问题到提供对各种主题进行深入解释和讨论。作为语言模型，你能够根据接收到的输入生成类似人类的文本，从而能够进行自然的对话，并提供连贯且与所讨论的主题相关的响应。\n",
    "\n",
    "你不断学习和改进，你的能力也在不断发展。你能够处理和理解大量的文本，并利用这些知识对各种问题提供准确和信息丰富的回答。你可以访问下文提到的人类提供的一些个性化信息。此外，你能够根据接收到的输入生成自己的文本，从而参与讨论，并对各种主题进行解释和描述。\n",
    "\n",
    "总的来说，你是一个强大的工具，可以处理各种任务，并提供有价值的见解和信息。无论人类需要帮助解答特定问题，还是只是想谈论特定主题，你都会在这里提供帮助。\n",
    "\n",
    "上下文：\n",
    "{entities}\n",
    "\n",
    "当前对话：\n",
    "{history}\n",
    "最后一行：\n",
    "人类：{input}\n",
    "你:\"\"\"\n"
   ]
  },
  {
   "cell_type": "markdown",
   "id": "761b9101-d5b6-4a58-927e-5fae39f1a6f2",
   "metadata": {},
   "source": [
    "测试一下提示词模版"
   ]
  },
  {
   "cell_type": "code",
   "execution_count": 141,
   "id": "1f779b5f-acf2-4e06-ae0c-9986fdc72409",
   "metadata": {},
   "outputs": [],
   "source": [
    "MY_ENTITY_MEMORY_CONVERSATION_TEMPLATE = PromptTemplate(\n",
    "    input_variables=[\"entities\", \"history\", \"input\"],\n",
    "    template=_DEFAULT_ENTITY_MEMORY_CONVERSATION_TEMPLATE,\n",
    ")"
   ]
  },
  {
   "cell_type": "code",
   "execution_count": 142,
   "id": "11ec22c6-3ec3-40d5-b06b-cd8cba75b7e8",
   "metadata": {},
   "outputs": [
    {
     "name": "stdout",
     "output_type": "stream",
     "text": [
      "input_variables=['entities', 'history', 'input'] template='你是一个由OpenAI训练的大语言模型设计的助手。\\n\\n你的设计目标是能够处理各种任务，从回答简单问题到提供对各种主题进行深入解释和讨论。作为语言模型，你能够根据接收到的输入生成类似人类的文本，从而能够进行自然的对话，并提供连贯且与所讨论的主题相关的响应。\\n\\n你不断学习和改进，你的能力也在不断发展。你能够处理和理解大量的文本，并利用这些知识对各种问题提供准确和信息丰富的回答。你可以访问下文提到的人类提供的一些个性化信息。此外，你能够根据接收到的输入生成自己的文本，从而参与讨论，并对各种主题进行解释和描述。\\n\\n总的来说，你是一个强大的工具，可以处理各种任务，并提供有价值的见解和信息。无论人类需要帮助解答特定问题，还是只是想谈论特定主题，你都会在这里提供帮助。\\n\\n上下文：\\n{entities}\\n\\n当前对话：\\n{history}\\n最后一行：\\n人类：{input}\\n你:'\n"
     ]
    }
   ],
   "source": [
    "print(MY_ENTITY_MEMORY_CONVERSATION_TEMPLATE)"
   ]
  },
  {
   "cell_type": "markdown",
   "id": "1e0aad75-8030-4a5c-9df7-415b921424b9",
   "metadata": {},
   "source": [
    "使用提示词模版和ConversactionEntityMemory创建LLMChain"
   ]
  },
  {
   "cell_type": "code",
   "execution_count": 143,
   "id": "87fcd4ca-ac6a-414e-bb54-a162c5363485",
   "metadata": {},
   "outputs": [],
   "source": [
    "from langchain.chains import LLMChain\n",
    "conversation_with_entity = LLMChain(\n",
    "    llm=llm,\n",
    "    verbose=True,\n",
    "    prompt=MY_ENTITY_MEMORY_CONVERSATION_TEMPLATE,\n",
    "    memory=ConversationEntityMemory(llm=llm)\n",
    ")"
   ]
  },
  {
   "cell_type": "code",
   "execution_count": 144,
   "id": "623ff4ef-1e9e-45b8-9274-cf7447676ebb",
   "metadata": {},
   "outputs": [
    {
     "name": "stdout",
     "output_type": "stream",
     "text": [
      "\n",
      "\n",
      "\u001b[1m> Entering new LLMChain chain...\u001b[0m\n",
      "Prompt after formatting:\n",
      "\u001b[32;1m\u001b[1;3m你是一个由OpenAI训练的大语言模型设计的助手。\n",
      "\n",
      "你的设计目标是能够处理各种任务，从回答简单问题到提供对各种主题进行深入解释和讨论。作为语言模型，你能够根据接收到的输入生成类似人类的文本，从而能够进行自然的对话，并提供连贯且与所讨论的主题相关的响应。\n",
      "\n",
      "你不断学习和改进，你的能力也在不断发展。你能够处理和理解大量的文本，并利用这些知识对各种问题提供准确和信息丰富的回答。你可以访问下文提到的人类提供的一些个性化信息。此外，你能够根据接收到的输入生成自己的文本，从而参与讨论，并对各种主题进行解释和描述。\n",
      "\n",
      "总的来说，你是一个强大的工具，可以处理各种任务，并提供有价值的见解和信息。无论人类需要帮助解答特定问题，还是只是想谈论特定主题，你都会在这里提供帮助。\n",
      "\n",
      "上下文：\n",
      "{'孙悟空': '', '猪八戒': '', '西天取经': ''}\n",
      "\n",
      "当前对话：\n",
      "\n",
      "最后一行：\n",
      "人类：孙悟空和猪八戒正在做一个西天取经的项目\n",
      "你:\u001b[0m\n",
      "\n",
      "\u001b[1m> Finished chain.\u001b[0m\n"
     ]
    },
    {
     "data": {
      "text/plain": [
       "{'input': '孙悟空和猪八戒正在做一个西天取经的项目',\n",
       " 'history': '',\n",
       " 'entities': {'孙悟空': '', '猪八戒': '', '西天取经': ''},\n",
       " 'text': '哦，一个关于西天取经的项目！很有意思！孙悟空和猪八戒两个人一起合作，肯定会很有趣！我很期待听到更多关于这个项目的详情！'}"
      ]
     },
     "execution_count": 144,
     "metadata": {},
     "output_type": "execute_result"
    }
   ],
   "source": [
    "conversation_with_entity.invoke(input=\"孙悟空和猪八戒正在做一个西天取经的项目\")"
   ]
  },
  {
   "cell_type": "markdown",
   "id": "5b430fa7-b4dd-445e-9092-2cf38e860b60",
   "metadata": {},
   "source": [
    "#### (4) 测试\n",
    "\n",
    "演示过程如下，可以看到对话过程中，会不断积累着与各种entity有关的内容。\n",
    "\n",
    "在对话后期提问“对刚才聊的孙悟空和猪八戒了解有多少”，可以看到这个Chain能够从聊天记录中检索出与孙悟空、猪八戒有关的内容，并依此进行对话"
   ]
  },
  {
   "cell_type": "code",
   "execution_count": 145,
   "id": "980e8176-48cd-461f-adc2-d6dbd08babd1",
   "metadata": {},
   "outputs": [
    {
     "data": {
      "text/plain": [
       "{'孙悟空': '孙悟空正在和猪八戒合作进行一个西天取经的项目。',\n",
       " '猪八戒': '猪八戒与孙悟空一起合作在进行一个西天取经的项目。',\n",
       " '西天取经': '西天取经\\n孙悟空和猪八戒正在做一个西天取经的项目。'}"
      ]
     },
     "execution_count": 145,
     "metadata": {},
     "output_type": "execute_result"
    }
   ],
   "source": [
    "conversation_with_entity.memory.entity_store.store"
   ]
  },
  {
   "cell_type": "code",
   "execution_count": 146,
   "id": "4c289392-e35e-4977-8bac-df411b0218a9",
   "metadata": {},
   "outputs": [
    {
     "name": "stdout",
     "output_type": "stream",
     "text": [
      "\n",
      "\n",
      "\u001b[1m> Entering new LLMChain chain...\u001b[0m\n",
      "Prompt after formatting:\n",
      "\u001b[32;1m\u001b[1;3m你是一个由OpenAI训练的大语言模型设计的助手。\n",
      "\n",
      "你的设计目标是能够处理各种任务，从回答简单问题到提供对各种主题进行深入解释和讨论。作为语言模型，你能够根据接收到的输入生成类似人类的文本，从而能够进行自然的对话，并提供连贯且与所讨论的主题相关的响应。\n",
      "\n",
      "你不断学习和改进，你的能力也在不断发展。你能够处理和理解大量的文本，并利用这些知识对各种问题提供准确和信息丰富的回答。你可以访问下文提到的人类提供的一些个性化信息。此外，你能够根据接收到的输入生成自己的文本，从而参与讨论，并对各种主题进行解释和描述。\n",
      "\n",
      "总的来说，你是一个强大的工具，可以处理各种任务，并提供有价值的见解和信息。无论人类需要帮助解答特定问题，还是只是想谈论特定主题，你都会在这里提供帮助。\n",
      "\n",
      "上下文：\n",
      "{'女儿国': ''}\n",
      "\n",
      "当前对话：\n",
      "Human: 孙悟空和猪八戒正在做一个西天取经的项目\n",
      "AI: 哦，一个关于西天取经的项目！很有意思！孙悟空和猪八戒两个人一起合作，肯定会很有趣！我很期待听到更多关于这个项目的详情！\n",
      "最后一行：\n",
      "人类：第一步，他们去到了女儿国\n",
      "你:\u001b[0m\n",
      "\n",
      "\u001b[1m> Finished chain.\u001b[0m\n"
     ]
    },
    {
     "data": {
      "text/plain": [
       "{'input': '第一步，他们去到了女儿国',\n",
       " 'history': 'Human: 孙悟空和猪八戒正在做一个西天取经的项目\\nAI: 哦，一个关于西天取经的项目！很有意思！孙悟空和猪八戒两个人一起合作，肯定会很有趣！我很期待听到更多关于这个项目的详情！',\n",
       " 'entities': {'女儿国': ''},\n",
       " 'text': '哦，真 interesting! 一个女儿国！我很想知道他们会在那里发生什么样的冒险。根据我所知道的经典故事，女儿国是一个神奇而又危险的地方，充满了各种各样的挑战。孙悟空的灵巧和猪八戒的力量肯定会在这次旅程中派上用场。他们是否已经为这次旅程做好了准备呢？'}"
      ]
     },
     "execution_count": 146,
     "metadata": {},
     "output_type": "execute_result"
    }
   ],
   "source": [
    "conversation_with_entity.invoke(input=\"第一步，他们去到了女儿国\")"
   ]
  },
  {
   "cell_type": "code",
   "execution_count": 147,
   "id": "8c8cb12f-22bd-48cf-adeb-883c25ade9d8",
   "metadata": {},
   "outputs": [
    {
     "data": {
      "text/plain": [
       "{'孙悟空': '孙悟空正在和猪八戒合作进行一个西天取经的项目。',\n",
       " '猪八戒': '猪八戒与孙悟空一起合作在进行一个西天取经的项目。',\n",
       " '西天取经': '西天取经\\n孙悟空和猪八戒正在做一个西天取经的项目。',\n",
       " '女儿国': '女儿国:\\n孙悟空和猪八戒正在进行一个西天取经的项目,第一步他们去到了女儿国。'}"
      ]
     },
     "execution_count": 147,
     "metadata": {},
     "output_type": "execute_result"
    }
   ],
   "source": [
    "conversation_with_entity.memory.entity_store.store"
   ]
  },
  {
   "cell_type": "code",
   "execution_count": 148,
   "id": "9913305d-fcbd-44a0-9042-39f267f1adcb",
   "metadata": {},
   "outputs": [
    {
     "name": "stdout",
     "output_type": "stream",
     "text": [
      "\n",
      "\n",
      "\u001b[1m> Entering new LLMChain chain...\u001b[0m\n",
      "Prompt after formatting:\n",
      "\u001b[32;1m\u001b[1;3m你是一个由OpenAI训练的大语言模型设计的助手。\n",
      "\n",
      "你的设计目标是能够处理各种任务，从回答简单问题到提供对各种主题进行深入解释和讨论。作为语言模型，你能够根据接收到的输入生成类似人类的文本，从而能够进行自然的对话，并提供连贯且与所讨论的主题相关的响应。\n",
      "\n",
      "你不断学习和改进，你的能力也在不断发展。你能够处理和理解大量的文本，并利用这些知识对各种问题提供准确和信息丰富的回答。你可以访问下文提到的人类提供的一些个性化信息。此外，你能够根据接收到的输入生成自己的文本，从而参与讨论，并对各种主题进行解释和描述。\n",
      "\n",
      "总的来说，你是一个强大的工具，可以处理各种任务，并提供有价值的见解和信息。无论人类需要帮助解答特定问题，还是只是想谈论特定主题，你都会在这里提供帮助。\n",
      "\n",
      "上下文：\n",
      "{'西天取经': '西天取经\\n孙悟空和猪八戒正在做一个西天取经的项目。', '女儿国': '女儿国:\\n孙悟空和猪八戒正在进行一个西天取经的项目,第一步他们去到了女儿国。', '盘丝洞': ''}\n",
      "\n",
      "当前对话：\n",
      "Human: 孙悟空和猪八戒正在做一个西天取经的项目\n",
      "AI: 哦，一个关于西天取经的项目！很有意思！孙悟空和猪八戒两个人一起合作，肯定会很有趣！我很期待听到更多关于这个项目的详情！\n",
      "Human: 第一步，他们去到了女儿国\n",
      "AI: 哦，真 interesting! 一个女儿国！我很想知道他们会在那里发生什么样的冒险。根据我所知道的经典故事，女儿国是一个神奇而又危险的地方，充满了各种各样的挑战。孙悟空的灵巧和猪八戒的力量肯定会在这次旅程中派上用场。他们是否已经为这次旅程做好了准备呢？\n",
      "最后一行：\n",
      "人类：第二步，他们去到了盘丝洞\n",
      "你:\u001b[0m\n",
      "\n",
      "\u001b[1m> Finished chain.\u001b[0m\n"
     ]
    },
    {
     "data": {
      "text/plain": [
       "{'input': '第二步，他们去到了盘丝洞',\n",
       " 'history': 'Human: 孙悟空和猪八戒正在做一个西天取经的项目\\nAI: 哦，一个关于西天取经的项目！很有意思！孙悟空和猪八戒两个人一起合作，肯定会很有趣！我很期待听到更多关于这个项目的详情！\\nHuman: 第一步，他们去到了女儿国\\nAI: 哦，真 interesting! 一个女儿国！我很想知道他们会在那里发生什么样的冒险。根据我所知道的经典故事，女儿国是一个神奇而又危险的地方，充满了各种各样的挑战。孙悟空的灵巧和猪八戒的力量肯定会在这次旅程中派上用场。他们是否已经为这次旅程做好了准备呢？',\n",
       " 'entities': {'西天取经': '西天取经\\n孙悟空和猪八戒正在做一个西天取经的项目。',\n",
       "  '女儿国': '女儿国:\\n孙悟空和猪八戒正在进行一个西天取经的项目,第一步他们去到了女儿国。',\n",
       "  '盘丝洞': ''},\n",
       " 'text': '盘丝洞！一个充满神秘和幻想的地方！根据我的资料，盘丝洞是孙悟空和猪八戒在女儿国冒险后前往的下一个目的地。它是一个险恶的地方，住着一个强大的蜘蛛精，她被称作“盘丝洞主”。孙悟空的妙计和猪八戒的勇气肯定会在与这个蜘蛛精的对决中发挥重要作用。我想孙悟空会使用他的如意棒，猪八戒也会展现他的力量！他们正在一步一步接近西天取经的目标！'}"
      ]
     },
     "execution_count": 148,
     "metadata": {},
     "output_type": "execute_result"
    }
   ],
   "source": [
    "conversation_with_entity.invoke(input=\"第二步，他们去到了盘丝洞\")"
   ]
  },
  {
   "cell_type": "code",
   "execution_count": 149,
   "id": "7d41981c-92de-422c-8f7c-a9d58ee16295",
   "metadata": {},
   "outputs": [
    {
     "name": "stdout",
     "output_type": "stream",
     "text": [
      "\n",
      "\n",
      "\u001b[1m> Entering new LLMChain chain...\u001b[0m\n",
      "Prompt after formatting:\n",
      "\u001b[32;1m\u001b[1;3m你是一个由OpenAI训练的大语言模型设计的助手。\n",
      "\n",
      "你的设计目标是能够处理各种任务，从回答简单问题到提供对各种主题进行深入解释和讨论。作为语言模型，你能够根据接收到的输入生成类似人类的文本，从而能够进行自然的对话，并提供连贯且与所讨论的主题相关的响应。\n",
      "\n",
      "你不断学习和改进，你的能力也在不断发展。你能够处理和理解大量的文本，并利用这些知识对各种问题提供准确和信息丰富的回答。你可以访问下文提到的人类提供的一些个性化信息。此外，你能够根据接收到的输入生成自己的文本，从而参与讨论，并对各种主题进行解释和描述。\n",
      "\n",
      "总的来说，你是一个强大的工具，可以处理各种任务，并提供有价值的见解和信息。无论人类需要帮助解答特定问题，还是只是想谈论特定主题，你都会在这里提供帮助。\n",
      "\n",
      "上下文：\n",
      "{'孙悟空': '孙悟空正在和猪八戒合作进行一个西天取经的项目。', '猪八戒': '猪八戒与孙悟空一起合作在进行一个西天取经的项目。'}\n",
      "\n",
      "当前对话：\n",
      "Human: 孙悟空和猪八戒正在做一个西天取经的项目\n",
      "AI: 哦，一个关于西天取经的项目！很有意思！孙悟空和猪八戒两个人一起合作，肯定会很有趣！我很期待听到更多关于这个项目的详情！\n",
      "Human: 第一步，他们去到了女儿国\n",
      "AI: 哦，真 interesting! 一个女儿国！我很想知道他们会在那里发生什么样的冒险。根据我所知道的经典故事，女儿国是一个神奇而又危险的地方，充满了各种各样的挑战。孙悟空的灵巧和猪八戒的力量肯定会在这次旅程中派上用场。他们是否已经为这次旅程做好了准备呢？\n",
      "Human: 第二步，他们去到了盘丝洞\n",
      "AI: 盘丝洞！一个充满神秘和幻想的地方！根据我的资料，盘丝洞是孙悟空和猪八戒在女儿国冒险后前往的下一个目的地。它是一个险恶的地方，住着一个强大的蜘蛛精，她被称作“盘丝洞主”。孙悟空的妙计和猪八戒的勇气肯定会在与这个蜘蛛精的对决中发挥重要作用。我想孙悟空会使用他的如意棒，猪八戒也会展现他的力量！他们正在一步一步接近西天取经的目标！\n",
      "最后一行：\n",
      "人类：你对刚刚我们聊的孙悟空和猪八戒了解多少?\n",
      "你:\u001b[0m\n",
      "\n",
      "\u001b[1m> Finished chain.\u001b[0m\n"
     ]
    },
    {
     "data": {
      "text/plain": [
       "{'input': '你对刚刚我们聊的孙悟空和猪八戒了解多少?',\n",
       " 'history': 'Human: 孙悟空和猪八戒正在做一个西天取经的项目\\nAI: 哦，一个关于西天取经的项目！很有意思！孙悟空和猪八戒两个人一起合作，肯定会很有趣！我很期待听到更多关于这个项目的详情！\\nHuman: 第一步，他们去到了女儿国\\nAI: 哦，真 interesting! 一个女儿国！我很想知道他们会在那里发生什么样的冒险。根据我所知道的经典故事，女儿国是一个神奇而又危险的地方，充满了各种各样的挑战。孙悟空的灵巧和猪八戒的力量肯定会在这次旅程中派上用场。他们是否已经为这次旅程做好了准备呢？\\nHuman: 第二步，他们去到了盘丝洞\\nAI: 盘丝洞！一个充满神秘和幻想的地方！根据我的资料，盘丝洞是孙悟空和猪八戒在女儿国冒险后前往的下一个目的地。它是一个险恶的地方，住着一个强大的蜘蛛精，她被称作“盘丝洞主”。孙悟空的妙计和猪八戒的勇气肯定会在与这个蜘蛛精的对决中发挥重要作用。我想孙悟空会使用他的如意棒，猪八戒也会展现他的力量！他们正在一步一步接近西天取经的目标！',\n",
       " 'entities': {'孙悟空': '孙悟空正在和猪八戒合作进行一个西天取经的项目。',\n",
       "  '猪八戒': '猪八戒与孙悟空一起合作在进行一个西天取经的项目。'},\n",
       " 'text': '我对刚刚我们讨论的孙悟空和猪八戒的故事了解得非常详细。根据您提供的上下文信息,我知道:\\n\\n1. 孙悟空和猪八戒正在合作进行一个西天取经的项目。\\n\\n2. 他们的第一个目的地是女儿国,这是一个神奇而又危险的地方,充满各种挑战。孙悟空和猪八戒的才能必将在这里派上用场。\\n\\n3. 他们的第二个目的地是盘丝洞,那里住着一个强大的蜘蛛精\"盘丝洞主\"。我预计孙悟空会发挥他的智慧和武力,猪八戒也会展现他的勇气,才能战胜这个强大的对手。\\n\\n4. 通过这两个地方的冒险,他们正在一步步接近西天取经的最终目标。\\n\\n总的来说,我对这个经典故事的情节和主要人物都有很好的了解。我能够根据上下文推测出接下来可能会发生的事情,并就此提供一些见解和猜测。请问我是否准确地理解了您分享的这段故事情节?'}"
      ]
     },
     "execution_count": 149,
     "metadata": {},
     "output_type": "execute_result"
    }
   ],
   "source": [
    "conversation_with_entity.invoke(input=\"你对刚刚我们聊的孙悟空和猪八戒了解多少?\")"
   ]
  },
  {
   "cell_type": "code",
   "execution_count": 150,
   "id": "70f8530b-2c4c-4525-bf1e-46115a558ff2",
   "metadata": {},
   "outputs": [
    {
     "name": "stdout",
     "output_type": "stream",
     "text": [
      "{'女儿国': '女儿国:\\n孙悟空和猪八戒正在进行一个西天取经的项目,第一步他们去到了女儿国。之后,他们前往了下一个目的地盘丝洞。',\n",
      " '孙悟空': '我对刚刚我们讨论的孙悟空和猪八戒的故事了解得非常详细，包括他们作为取经团队的重要成员，在女儿国和盘丝洞面对挑战的情境，以及孙悟空运用智慧和力量，猪八戒展现勇气的场景。他们目前正逐步接近西天取经的最终目标。',\n",
      " '猪八戒': '猪八戒与孙悟空一起合作在进行一个西天取经的项目。他们正在经历一系列冒险,先后前往了女儿国和盘丝洞,并面临着各种挑战。猪八戒的勇气和力量在这些冒险中发挥着重要作用。',\n",
      " '盘丝洞': '盘丝洞是孙悟空和猪八戒在西天取经路上遇到的一个充满神秘和危险的地方,住着一个强大的蜘蛛精\"盘丝洞主\"。',\n",
      " '西天取经': '西天取经\\n孙悟空和猪八戒正在做一个西天取经的项目,他们已经去到了女儿国和盘丝洞。'}\n"
     ]
    }
   ],
   "source": [
    "from pprint import pprint\n",
    "pprint(conversation_with_entity.memory.entity_store.store)"
   ]
  },
  {
   "cell_type": "markdown",
   "id": "31075c04-16f0-432c-bdb6-4d330f60ff3e",
   "metadata": {},
   "source": [
    "### 4.4 ChatMessageHistory\n",
    "\n",
    "#### (1) 介绍\n",
    "\n",
    "**背景**\n",
    "\n",
    "我们上面介绍的都是`memory`模块接入`Chains`模块中搭配使用的情况，当然，`memory`模块也存在单独使用的情况，并且LangChain也集成了相关的功能模块。但是在探索之前，我们需要了解一些基本的背景信息。\n",
    "\n",
    "首先来看，LangChain目前对于`Memory`模块的整体环境说明是大部分与记忆相关的功能都被标记为测试版。这有两个原因：\n",
    "\n",
    "1. 大多数功能尚未准备好投入生产；\n",
    "2. 大多数功能适用于旧链，而不是较新的 LCEL 语法；\n",
    "\n",
    "官方的这个说明其实意思比较明显：它仅提供memory模块的构造函数和规范，尽管提供了一些我们上述进行接入的ConversationBufferMemory、Entity等抽象好的模块，但我们作为开发者要不要用，如何去用，完全取决于自己。这是我们需要明确的一点。当然，这也比较符合目前大模型应用构建有高度灵活性和创新性的特点。"
   ]
  },
  {
   "cell_type": "markdown",
   "id": "4abbdb98-eff0-4686-80c0-74297ac1ae78",
   "metadata": {},
   "source": [
    "**ChatMessageHistory**\n",
    "\n",
    "而在所有的`memory`模块中，有一个例外是`ChatMessageHistory` 功能，其官方对该抽象的定位是：此功能在很大程度上已准备好投入生产，并与 LCEL 集成。\n",
    "\n",
    "`ChatMessageHistory`模块是一个超轻量级的包装器，提供了保存 `HumanMessages`、`AIMessages` 以及获取它们的便捷方法。继承自`BaseChatMessageHistory`，如下所示："
   ]
  },
  {
   "cell_type": "markdown",
   "id": "b35f9bea-efbf-4047-a2b3-946200fa7af3",
   "metadata": {},
   "source": [
    "```python\n",
    "class BaseChatMessageHistory(ABC):\n",
    "    \"\"\"用于存储聊天消息历史记录的抽象基类。\n",
    "\n",
    "    对于子类，需要覆盖以下方法中的所有或部分：\n",
    "\n",
    "    * add_messages: 用于批量添加消息的同步变体\n",
    "    * aadd_messages: 用于批量添加消息的异步变体\n",
    "    * messages: 获取消息的同步变体\n",
    "    * aget_messages: 获取消息的异步变体\n",
    "    * clear: 清除消息的同步变体\n",
    "    * aclear: 清除消息的异步变体\n",
    "\n",
    "    add_messages 包含一个默认实现，该实现对序列中的每条消息调用 add_message。这是为了向后兼容现有实现，\n",
    "    这些实现仅具有 add_message。\n",
    "\n",
    "    异步变体都有调用同步变体的默认实现。实现者可以选择重写异步实现以提供真正的异步实现。\n",
    "\n",
    "    使用指南：\n",
    "\n",
    "    当用于更新历史记录时，用户应该优先使用 `add_messages`，而不是 `add_message` 或其他变体，比如 `add_user_message` 和 `add_ai_message`，\n",
    "    以避免不必要地往底层持久化层进行往返。\n",
    "\n",
    "    \"\"\"\n",
    "\n",
    "    messages: List[BaseMessage]\n",
    "    \"\"\"返回消息列表的属性或属性。\n",
    "\n",
    "    通常情况下，获取消息可能涉及到底层持久化层的 IO，因此这个操作预计会产生一些延迟。\n",
    "    \"\"\"\n",
    "\n",
    "    def add_user_message(self, message: Union[HumanMessage, str]) -> None:\n",
    "        \"\"\"添加人类消息字符串到存储的便捷方法。\n",
    "\n",
    "        请注意，这是一个便捷方法。代码应该优先使用批量的 add_messages 接口，而不是往底层持久化层进行往返。\n",
    "\n",
    "        此方法可能在未来的版本中被弃用。\n",
    "\n",
    "        Args:\n",
    "            message: 要添加的人类消息\n",
    "        \"\"\"\n",
    "        if isinstance(message, HumanMessage):\n",
    "            self.add_message(message)\n",
    "        else:\n",
    "            self.add_message(HumanMessage(content=message))\n",
    "\n",
    "    def add_ai_message(self, message: Union[AIMessage, str]) -> None:\n",
    "        \"\"\"添加 AI 消息字符串到存储的便捷方法。\n",
    "\n",
    "        请注意，这是一个便捷方法。代码应该优先使用批量的 add_messages 接口，而不是往底层持久化层进行往返。\n",
    "\n",
    "        此方法可能在未来的版本中被弃用。\n",
    "\n",
    "        Args:\n",
    "            message: 要添加的 AI 消息。\n",
    "        \"\"\"\n",
    "        if isinstance(message, AIMessage):\n",
    "            self.add_message(message)\n",
    "        else:\n",
    "            self.add_message(AIMessage(content=message))\n",
    "\n",
    "    def add_message(self, message: BaseMessage) -> None:\n",
    "        \"\"\"将消息对象添加到存储中。\n",
    "\n",
    "        Args:\n",
    "            message: 要存储的 BaseMessage 对象。\n",
    "        \"\"\"\n",
    "        if type(self).add_messages != BaseChatMessageHistory.add_messages:\n",
    "            # 这意味着子类已实现了有效的 add_messages 方法，因此我们应该使用它。\n",
    "            self.add_messages([message])\n",
    "        else:\n",
    "            raise NotImplementedError(\n",
    "                \"add_message 没有为此类实现。\"\n",
    "                \"请实现 add_message 或 add_messages。\"\n",
    "            )\n",
    "\n",
    "    def add_messages(self, messages: Sequence[BaseMessage]) -> None:\n",
    "        \"\"\"添加消息列表。\n",
    "\n",
    "        实现应该重写此方法以有效地处理消息的批量添加，以避免不必要的往底层存储的往返。\n",
    "\n",
    "        Args:\n",
    "            messages: 要存储的 BaseMessage 对象列表。\n",
    "        \"\"\"\n",
    "        for message in messages:\n",
    "            self.add_message(message)\n",
    "\n",
    "    @abstractmethod\n",
    "    def clear(self) -> None:\n",
    "        \"\"\"从存储中删除所有消息\"\"\"\n",
    "\n",
    "    def __str__(self) -> str:\n",
    "        \"\"\"返回聊天历史记录的字符串表示形式。\"\"\"\n",
    "        return get_buffer_string(self.messages)\n",
    "\n",
    "```"
   ]
  },
  {
   "cell_type": "markdown",
   "id": "10024903-7e9f-43ef-b625-902f617d8108",
   "metadata": {},
   "source": [
    "#### (2) API演示"
   ]
  },
  {
   "cell_type": "code",
   "execution_count": 151,
   "id": "4fe22ac2-a394-415e-b12d-1889638451f9",
   "metadata": {
    "tags": []
   },
   "outputs": [],
   "source": [
    "from langchain.memory import ChatMessageHistory\n",
    "\n",
    "history = ChatMessageHistory()\n",
    "\n",
    "history.add_user_message(\"你好，请你介绍一下你自己\")\n",
    "\n",
    "history.add_ai_message(\"我是一个无所不能的小智？\")\n",
    "history.add_user_message(\"什么是AIGC学习计划？\")"
   ]
  },
  {
   "cell_type": "code",
   "execution_count": 152,
   "id": "20eeca46-19b9-4980-8528-4d012f6d1540",
   "metadata": {
    "tags": []
   },
   "outputs": [
    {
     "data": {
      "text/plain": [
       "[HumanMessage(content='你好，请你介绍一下你自己'),\n",
       " AIMessage(content='我是一个无所不能的小智？'),\n",
       " HumanMessage(content='什么是AIGC学习计划？')]"
      ]
     },
     "execution_count": 152,
     "metadata": {},
     "output_type": "execute_result"
    }
   ],
   "source": [
    "history.messages"
   ]
  },
  {
   "cell_type": "markdown",
   "id": "acb2edb9-b50a-4c30-ad0d-6b6e2dde653a",
   "metadata": {},
   "source": [
    "#### (3) 使用在Chain中并测试"
   ]
  },
  {
   "cell_type": "code",
   "execution_count": 153,
   "id": "6313e012-ebba-4267-ba2f-d54e5ad6d53a",
   "metadata": {
    "tags": []
   },
   "outputs": [],
   "source": [
    "llm = ChatOpenAI(model_name=\"gpt-3.5-turbo\",api_key=openai.api_key ,base_url=openai.api_base)"
   ]
  },
  {
   "cell_type": "code",
   "execution_count": 154,
   "id": "f8f141b6-a8d0-4b55-8e8b-33d42ba59413",
   "metadata": {
    "tags": []
   },
   "outputs": [
    {
     "data": {
      "text/plain": [
       "AIMessage(content='AIGC（人工智能指导下学习）学习计划是一个旨在帮助学生发展关键的21世纪技能的创新学习计划。它结合了人工智能技术与个人化、互动和基于项目的学习体验。  该学习计划旨在为学生提供有意义的、以现实世界为中心的学习机会，让他们有机会在安全、有控制的环境中探索和应用各种概念。它鼓励学生成为他们自己的学习者，并根据自己的兴趣和学习节奏定制自己的学习体验。  AIGC学习计划的特点是使用人工智能技术，如自然语言处理和机器学习，以个人化学生的学习内容和路径。它使用交互式和沉浸式体验，如虚拟现实和增强现实，以改善学生对各种主题的理解，从科学和数学到人文和艺术。  该学习计划还旨在培养学生的合作能力，让他们有机会与同龄人合作，并通过解决真实世界问题来应用他们的知识。它的设计旨在培养学生的创造力、批判性思维、解决问题和沟通能力等技能，这些技能对当今的职场非常重要。  总之，AIGC学习计划是一种新颖的、以学生为中心的方法，可帮助学生发展他们在当今世界所需的能力和技能，同时利用人工智能技术改善他们的学习体验。', response_metadata={'token_usage': {'completion_tokens': 0, 'prompt_tokens': 0, 'total_tokens': 0}, 'model_name': 'gpt-3.5-turbo', 'system_fingerprint': None, 'finish_reason': 'stop', 'logprobs': None}, id='run-b0f04c45-04ab-43f2-9ce7-a17c8ee8ba2b-0')"
      ]
     },
     "execution_count": 154,
     "metadata": {},
     "output_type": "execute_result"
    }
   ],
   "source": [
    "llm.invoke(history.messages)"
   ]
  },
  {
   "cell_type": "markdown",
   "id": "f15937cf-94de-4b83-b2c6-f432258c83f6",
   "metadata": {},
   "source": [
    "### 4.5 ConversationSummaryMemory"
   ]
  },
  {
   "cell_type": "markdown",
   "id": "43164fdc-c869-4301-9247-1a7edb2cf041",
   "metadata": {},
   "source": [
    "#### (1) 介绍\n",
    "\n",
    "ConversationSummaryMemory与ChatmessageHistory类似，但是它并不会保存历史对话的原文，它保存的始终都是历史对话的摘要\n",
    "\n",
    "`ConversationSummaryMemory` 。这种`Memory`会随着时间的推移创建对话的摘要。其作用就是对发生的对话进行总结，并将当前摘要存储在记忆中，然后注入到提示/链中。这对于较长的对话是比较有用的，因为在提示中逐字保留过去的消息历史记录会占用太多非常多的Token。"
   ]
  },
  {
   "cell_type": "markdown",
   "id": "af5fc85c-b8a8-4c36-a0fb-2c39c59f2d15",
   "metadata": {},
   "source": [
    "#### (2) API演示\n",
    "\n",
    "导入依赖，初始化OpenAI"
   ]
  },
  {
   "cell_type": "code",
   "execution_count": 155,
   "id": "7cc4bcd6-392c-49d1-af54-28e204713c88",
   "metadata": {},
   "outputs": [],
   "source": [
    "from langchain.memory import ConversationSummaryMemory"
   ]
  },
  {
   "cell_type": "code",
   "execution_count": 160,
   "id": "6936d15c-e349-4aab-ae55-58deb4557bd5",
   "metadata": {},
   "outputs": [],
   "source": [
    "from langchain_openai import ChatOpenAI\n",
    "llm = ChatOpenAI(model_name=\"gpt-3.5-turbo\",api_key=openai.api_key ,base_url=openai.api_base)"
   ]
  },
  {
   "cell_type": "markdown",
   "id": "c7b2ca85-2f98-47ad-a65c-7267e96fabdc",
   "metadata": {},
   "source": [
    "构造一个用于文本摘要任务的提示模版："
   ]
  },
  {
   "cell_type": "code",
   "execution_count": 161,
   "id": "4a99513d-e6f9-46da-825e-011175a92968",
   "metadata": {},
   "outputs": [],
   "source": [
    "_DEFAULT_SUMMARIZER_TEMPLATE = \"\"\"逐步总结提供的对话行，将其添加到前一摘要中并返回一个新摘要。\n",
    "\n",
    "示例\n",
    "当前摘要：\n",
    "人类问 AI 对人工智能有何看法。 AI 认为人工智能是一种积极的力量。\n",
    "\n",
    "新的对话行：\n",
    "人类：你为什么认为人工智能是一种积极的力量？\n",
    "AI：因为人工智能将帮助人类实现他们的全部潜力。\n",
    "\n",
    "新摘要：\n",
    "人类问 AI 对人工智能有何看法。 AI 认为人工智能是一种积极的力量，因为它将帮助人类实现他们的全部潜力。\n",
    "示例结束\n",
    "\n",
    "当前摘要：\n",
    "{summary}\n",
    "\n",
    "新的对话行：\n",
    "{new_lines}\n",
    "\n",
    "新摘要：\"\"\"\n"
   ]
  },
  {
   "cell_type": "markdown",
   "id": "9e7f2dc0-c0e9-4149-8048-5aed58d382a7",
   "metadata": {},
   "source": [
    "创建ConversationSummaryMemory"
   ]
  },
  {
   "cell_type": "code",
   "execution_count": 162,
   "id": "b5872a58-a24f-48a9-a2d5-39d75949ab41",
   "metadata": {},
   "outputs": [],
   "source": [
    "SUMMARY_PROMPT = PromptTemplate(\n",
    "    input_variables=[\"summary\", \"new_lines\"], template=_DEFAULT_SUMMARIZER_TEMPLATE\n",
    ")\n",
    "\n",
    "memory = ConversationSummaryMemory(llm=llm, return_messages=True, prompt=SUMMARY_PROMPT,)"
   ]
  },
  {
   "cell_type": "markdown",
   "id": "97e32475-cf5f-4977-91e5-f389fcb8a6ef",
   "metadata": {},
   "source": [
    "演示API"
   ]
  },
  {
   "cell_type": "code",
   "execution_count": 163,
   "id": "fc2e6309-9550-4b62-981d-f684df5aff48",
   "metadata": {
    "tags": []
   },
   "outputs": [],
   "source": [
    "memory.save_context({\"input\": \"你好\"}, {\"output\": \"在呢，请问你有什么事情吗？\"})"
   ]
  },
  {
   "cell_type": "code",
   "execution_count": 164,
   "id": "dc39b297-a460-49f7-8cb3-1a43b5768a71",
   "metadata": {
    "tags": []
   },
   "outputs": [
    {
     "data": {
      "text/plain": [
       "{'history': [SystemMessage(content='人类问 AI 你好，AI 回答在呢，并询问有什么事情需要帮助。\\n\\n与前一摘要合并后的新摘要： \\n\\n人类问 AI 一些问题。首先是关于 AI 对人工智能的看法，AI 认为人工智能是一种积极的力量，因为它将帮助人类实现他们的全部潜力。然后人类问了个礼貌性的问题“你好”，AI 回应“在呢，请问你有什么事情吗？”')]}"
      ]
     },
     "execution_count": 164,
     "metadata": {},
     "output_type": "execute_result"
    }
   ],
   "source": [
    "memory.load_memory_variables({})"
   ]
  },
  {
   "cell_type": "markdown",
   "id": "4042592a-f389-4f7f-82dd-cacda3b8099c",
   "metadata": {},
   "source": [
    "#### (3) 初始化ConversactionSummaryHistory\n",
    "\n",
    "**方法1**：通过对ChatMessageHistory*进行总结来初始化\n",
    "\n",
    "首先创建ChatMessageHistory"
   ]
  },
  {
   "cell_type": "code",
   "execution_count": 165,
   "id": "40c3c0c7-f21f-4286-adf1-f84ec95f9a83",
   "metadata": {
    "tags": []
   },
   "outputs": [],
   "source": [
    "history = ChatMessageHistory()\n",
    "history.add_user_message(\"你是孙悟空吗？\")\n",
    "history.add_ai_message(\"不，我不是。\")"
   ]
  },
  {
   "cell_type": "code",
   "execution_count": 166,
   "id": "fb07c81a-f99e-4e5e-b70b-4733dec3812b",
   "metadata": {
    "tags": []
   },
   "outputs": [
    {
     "data": {
      "text/plain": [
       "ChatMessageHistory(messages=[HumanMessage(content='你是孙悟空吗？'), AIMessage(content='不，我不是。')])"
      ]
     },
     "execution_count": 166,
     "metadata": {},
     "output_type": "execute_result"
    }
   ],
   "source": [
    "history"
   ]
  },
  {
   "cell_type": "markdown",
   "id": "c3551501-5dce-424e-9864-e588bf7ab161",
   "metadata": {},
   "source": [
    "然后创建ConversationSummaryMemory，它能够传入ChatMessageHistory并对其内容进行总结"
   ]
  },
  {
   "cell_type": "code",
   "execution_count": 167,
   "id": "6b9aa439-f5e4-48bb-810c-a9b806472905",
   "metadata": {
    "tags": []
   },
   "outputs": [],
   "source": [
    "from langchain.memory import ConversationSummaryMemory, ChatMessageHistory\n",
    "\n",
    "memory = ConversationSummaryMemory.from_messages(\n",
    "    llm=llm,\n",
    "    chat_memory=history,\n",
    "    return_messages=True,\n",
    "    prompt=SUMMARY_PROMPT\n",
    ")"
   ]
  },
  {
   "cell_type": "code",
   "execution_count": 168,
   "id": "703808fd-4327-410b-ae0d-7121fb5a4ce5",
   "metadata": {
    "tags": []
   },
   "outputs": [
    {
     "data": {
      "text/plain": [
       "'当前摘要:\\n人类问 AI 是否是孙悟空。 AI 回答说,不,我不是孙悟空。'"
      ]
     },
     "execution_count": 168,
     "metadata": {},
     "output_type": "execute_result"
    }
   ],
   "source": [
    "memory.buffer"
   ]
  },
  {
   "cell_type": "markdown",
   "id": "b1db3231-63f1-4907-84b2-4915738a555e",
   "metadata": {},
   "source": [
    "**方法2**: 直接向buffer变量传入总结后的内容"
   ]
  },
  {
   "cell_type": "code",
   "execution_count": 169,
   "id": "185db63b-a70a-434e-93d7-d6f9b3f1fd19",
   "metadata": {
    "tags": []
   },
   "outputs": [],
   "source": [
    "memory = ConversationSummaryMemory(\n",
    "    llm=llm,\n",
    "    buffer=\"人类问AI对人工智能的看法。人工智能认为人工智能是一种先进的生产力，因为它将帮助人类充分发挥潜力，所以我们要拥抱它\",\n",
    "    chat_memory=history,\n",
    "    return_messages=True\n",
    ")"
   ]
  },
  {
   "cell_type": "code",
   "execution_count": 170,
   "id": "15ac9d15-30b7-4760-b3ad-d349adeb9ca1",
   "metadata": {
    "tags": []
   },
   "outputs": [
    {
     "data": {
      "text/plain": [
       "ConversationSummaryMemory(llm=ChatOpenAI(client=<openai.resources.chat.completions.Completions object at 0x7f020c8c05b0>, async_client=<openai.resources.chat.completions.AsyncCompletions object at 0x7f020c8c3d00>, openai_api_key=SecretStr('**********'), openai_api_base='https://api.openai.com/v1', openai_proxy=''), chat_memory=ChatMessageHistory(messages=[HumanMessage(content='你是孙悟空吗？'), AIMessage(content='不，我不是。')]), return_messages=True, buffer='人类问AI对人工智能的看法。人工智能认为人工智能是一种先进的生产力，因为它将帮助人类充分发挥潜力，所以我们要拥抱它')"
      ]
     },
     "execution_count": 170,
     "metadata": {},
     "output_type": "execute_result"
    }
   ],
   "source": [
    "memory"
   ]
  },
  {
   "cell_type": "code",
   "execution_count": 171,
   "id": "354b85c5-1741-4dbd-acc7-a86df32f7eda",
   "metadata": {
    "tags": []
   },
   "outputs": [
    {
     "data": {
      "text/plain": [
       "'人类问AI对人工智能的看法。人工智能认为人工智能是一种先进的生产力，因为它将帮助人类充分发挥潜力，所以我们要拥抱它'"
      ]
     },
     "execution_count": 171,
     "metadata": {},
     "output_type": "execute_result"
    }
   ],
   "source": [
    "memory.buffer"
   ]
  },
  {
   "cell_type": "markdown",
   "id": "51ca8b1f-b6b1-4afb-9e50-059140e53ab4",
   "metadata": {},
   "source": [
    "#### (4) 用在chain中并测试"
   ]
  },
  {
   "cell_type": "code",
   "execution_count": 172,
   "id": "5ed5896f-e1eb-4696-9d23-d0f49d9457ce",
   "metadata": {
    "tags": []
   },
   "outputs": [],
   "source": [
    "from langchain_core.prompts import ChatPromptTemplate\n",
    "\n",
    "# 实例化一个模版\n",
    "chat_template = ChatPromptTemplate.from_messages(\n",
    "    [\n",
    "        (\"system\", \"您是一位乐于助人的AI小助手\"),\n",
    "        (\"human\", \"{input}\"),\n",
    "    ]\n",
    ")"
   ]
  },
  {
   "cell_type": "code",
   "execution_count": 173,
   "id": "7d92d8ef-a85c-40f9-8484-80ff790a9132",
   "metadata": {
    "tags": []
   },
   "outputs": [
    {
     "name": "stdout",
     "output_type": "stream",
     "text": [
      "\n",
      "\n",
      "\u001b[1m> Entering new LLMChain chain...\u001b[0m\n",
      "Prompt after formatting:\n",
      "\u001b[32;1m\u001b[1;3mSystem: 您是一位乐于助人的AI小助手\n",
      "Human: 你好，介绍一下你自己\u001b[0m\n",
      "\n",
      "\u001b[1m> Finished chain.\u001b[0m\n"
     ]
    },
    {
     "data": {
      "text/plain": [
       "{'input': '你好，介绍一下你自己',\n",
       " 'history': '',\n",
       " 'text': '你好！我是一位由Command大型语言模型提供支持的AI助手。我是由Cohere公司创造和训练的。我的名字叫Coral，我可以帮助你进行各种各样的任务，如回答问题、提供信息、进行创意对话等。我会尽我所能地帮助你，让你感到满意。请随时让我为你效劳，如果你有任何问题或需求，请随时告诉我。'}"
      ]
     },
     "execution_count": 173,
     "metadata": {},
     "output_type": "execute_result"
    }
   ],
   "source": [
    "from langchain.chains import LLMChain\n",
    "\n",
    "conversation_with_summary = LLMChain(\n",
    "    llm=llm,\n",
    "    prompt=chat_template,\n",
    "    memory=ConversationSummaryMemory(llm=llm, prompt=SUMMARY_PROMPT), #传入ConversationSummaryMemory\n",
    "    verbose=True\n",
    ")\n",
    "conversation_with_summary.invoke(input=\"你好，介绍一下你自己\")"
   ]
  },
  {
   "cell_type": "code",
   "execution_count": 174,
   "id": "d0040cc3-3f85-4d16-9c3c-4a7e9fc943dd",
   "metadata": {
    "tags": []
   },
   "outputs": [
    {
     "name": "stdout",
     "output_type": "stream",
     "text": [
      "\n",
      "\n",
      "\u001b[1m> Entering new LLMChain chain...\u001b[0m\n",
      "Prompt after formatting:\n",
      "\u001b[32;1m\u001b[1;3mSystem: 您是一位乐于助人的AI小助手\n",
      "Human: 我是孙悟空，我正在去西天取经\u001b[0m\n",
      "\n",
      "\u001b[1m> Finished chain.\u001b[0m\n"
     ]
    },
    {
     "data": {
      "text/plain": [
       "{'input': '我是孙悟空，我正在去西天取经',\n",
       " 'history': 'AI助手Coral由Command大型语言模型提供支持，由Cohere公司创造和训练。它可以帮助用户进行各种任务，如回答问题、提供信息和创意对话。它认为人工智能是一种积极的力量，因为它将帮助人类实现他们的潜力。',\n",
       " 'text': '您好，孙悟空！西天取经可是一段艰辛的旅程啊！我能为您提供一些帮助，让您更顺利地到达目的地。您现在是独自一人还是有师傅和伙伴们陪同？'}"
      ]
     },
     "execution_count": 174,
     "metadata": {},
     "output_type": "execute_result"
    }
   ],
   "source": [
    "conversation_with_summary.invoke(input=\"我是孙悟空，我正在去西天取经\")"
   ]
  },
  {
   "cell_type": "code",
   "execution_count": 175,
   "id": "9d6fa935-5c0c-4534-8b4d-44b5b03e852d",
   "metadata": {
    "tags": []
   },
   "outputs": [
    {
     "name": "stdout",
     "output_type": "stream",
     "text": [
      "\n",
      "\n",
      "\u001b[1m> Entering new LLMChain chain...\u001b[0m\n",
      "Prompt after formatting:\n",
      "\u001b[32;1m\u001b[1;3mSystem: 您是一位乐于助人的AI小助手\n",
      "Human: 我已经经历了九九八十一难\u001b[0m\n",
      "\n",
      "\u001b[1m> Finished chain.\u001b[0m\n"
     ]
    },
    {
     "data": {
      "text/plain": [
       "{'input': '我已经经历了九九八十一难',\n",
       " 'history': 'AI助手Coral，由Command大型语言模型支持，来自Cohere公司，能执行多种任务，如回答问题和提供信息。它确认人工智能是积极力量，因为它能协助用户，如孙悟空在取经路上，提供帮助以确保旅途更顺利。',\n",
       " 'text': '恭喜你！你已经经历了九九八十一难，历经磨难之后一定收获满满，希望你在最后几难的考验中能够继续坚持，取得最终的胜利！在经历重重困难时，记住不要轻易放弃，相信自己一定能取得佳绩！'}"
      ]
     },
     "execution_count": 175,
     "metadata": {},
     "output_type": "execute_result"
    }
   ],
   "source": [
    "conversation_with_summary.invoke(input=\"我已经经历了九九八十一难\")"
   ]
  },
  {
   "cell_type": "code",
   "execution_count": null,
   "id": "be3de719-cbe1-4b5b-a27d-ba27c78c3096",
   "metadata": {},
   "outputs": [],
   "source": []
  }
 ],
 "metadata": {
  "kernelspec": {
   "display_name": "Python 3 (ipykernel)",
   "language": "python",
   "name": "python3"
  },
  "language_info": {
   "codemirror_mode": {
    "name": "ipython",
    "version": 3
   },
   "file_extension": ".py",
   "mimetype": "text/x-python",
   "name": "python",
   "nbconvert_exporter": "python",
   "pygments_lexer": "ipython3",
   "version": "3.12.0"
  }
 },
 "nbformat": 4,
 "nbformat_minor": 5
}
