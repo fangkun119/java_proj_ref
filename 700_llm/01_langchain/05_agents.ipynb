{
 "cells": [
  {
   "cell_type": "markdown",
   "id": "7f56f2eb-c72e-46a3-be5d-5cad50351410",
   "metadata": {},
   "source": [
    "# LangChain全面剖析之Agents"
   ]
  },
  {
   "cell_type": "markdown",
   "id": "d58b2771-f492-4fd5-9fe6-3cd08cb2c325",
   "metadata": {},
   "source": [
    "## 1. 提出Agent架构设计理念的背景"
   ]
  },
  {
   "cell_type": "markdown",
   "id": "c508e61f-dda6-4272-a8ba-09a8c235fc34",
   "metadata": {},
   "source": [
    "吴恩达教授提出：当前，我们主要在零样本模式下使用 LLM，提供 prompt，逐个 token 地生成最终输出，没有进行调整。这类似于要求某人从头到尾写一篇文章，直接打字，不允许退格，并期望得到高质量的结果。尽管有困难，LLM 在这项任务上仍然表现得非常好！然而，通过智能体工作流，我们可以要求 LLM 多次迭代文档。例如，它可能需要执行一系列步骤：\n",
    "\n",
    "- 规划大纲；\n",
    "\n",
    "- 决定需要进行哪些网络搜索（如果需要），来收集更多信息；\n",
    "\n",
    "- 写初稿；\n",
    "\n",
    "- 通读初稿，找出不合理的论点或无关信息；\n",
    "\n",
    "- 修改草稿；\n",
    "\n",
    "......\n",
    "\n",
    "这个迭代过程对于大多数人类作家写出好的文本至关重要。对于人工智能来说，这种迭代工作流会比单次编写产生更好的结果。"
   ]
  },
  {
   "cell_type": "markdown",
   "id": "1fa23b32-2fe2-40bb-887c-610e018d9a72",
   "metadata": {},
   "source": [
    "这是吴恩达教授提出的一个写作的例子，同时也映射了其他领域的工作流都可以这样去执行。那么对于`Agent`，我们期待它不仅仅是执行任务的工具，而是一个能够思考、自主分析需求、拆解任务并逐步实现目标的智能实体。这种形态的智能体才更接近于人工智能的终极目标——AGI（通用人工智能），它能让类似于托尼·斯塔克的贾维斯那样的智能助手成为现实，服务于每个人。"
   ]
  },
  {
   "cell_type": "markdown",
   "id": "1d9702be-e544-4218-a4b8-f8037e572a43",
   "metadata": {},
   "source": [
    "* 学习Model IO\t：面向LLM开发\n",
    "* 学习Chains\t\t：面向Chains开发，多次调用大模型\n",
    "* 学习Agent\t\t：面向Agent开发，解决更复杂的问题\n",
    "* 学习Lang Graph\t：开发更高级的Agent"
   ]
  },
  {
   "cell_type": "markdown",
   "id": "bbc06794-211d-48ea-b2fc-e2530c9c2a33",
   "metadata": {},
   "source": [
    "## 2. Chain模块设计的优劣势"
   ]
  },
  {
   "cell_type": "markdown",
   "id": "62eaf1c6-f2df-407a-8baf-45c700a88b3d",
   "metadata": {},
   "source": [
    "### 2.1 介绍\n",
    "\n",
    "大模型的应用绝不仅仅局限于简单的问答模式，一定会涉及多个复杂的中间环节。这其中\n",
    "\n",
    "* 既需要考虑如何利用大模型的原生能力进行深度推理\n",
    "* 又需要思考如何借助大模型调用外部工具的能力，用一种高效的方法将其串联成一条条业务流程，最终构建出一个完整的应用系统。\n",
    "\n",
    "### 2.2 Chain模块使用回顾\n",
    "\n",
    "我们回忆一下，在Chain模块的时候，如何完成的查询天气的业务。\n",
    "\n",
    "它需要两个链路：\n",
    "\n",
    "* 获取天气\n",
    "* 解析天气\n",
    "\n",
    "\n",
    "\n",
    "首先获取open AI key和base url"
   ]
  },
  {
   "cell_type": "markdown",
   "id": "091c2d88-1c38-4350-a3ac-ad441ca9e0b2",
   "metadata": {
    "tags": []
   },
   "source": [
    "import openai\n",
    "from openai import OpenAI\n",
    "import os\n",
    "\n",
    "openai.api_key=os.getenv(\"OPENAI_API_KEY\")\n",
    "openai.api_base=\"https://api.openai.com/v1\""
   ]
  },
  {
   "cell_type": "code",
   "execution_count": 2,
   "id": "06062fbb-9d7e-4912-b75a-e03df963ae95",
   "metadata": {
    "tags": []
   },
   "outputs": [],
   "source": [
    "from langchain_openai import ChatOpenAI\n",
    "llm = ChatOpenAI(model_name=\"gpt-4\",api_key=openai.api_key ,base_url=openai.api_base)"
   ]
  },
  {
   "cell_type": "markdown",
   "id": "208e7c56-695b-4525-b9a9-6168a2df9b41",
   "metadata": {},
   "source": [
    "接下来定义外部工具get_weather函数，同时还配了一个干扰函数test来增加难度，检验大模型"
   ]
  },
  {
   "cell_type": "code",
   "execution_count": 3,
   "id": "c37faa9e-3c0e-4b45-a503-345effbc209a",
   "metadata": {
    "tags": []
   },
   "outputs": [],
   "source": [
    "import numpy as np\n",
    "import pandas as pd\n",
    "\n",
    "import json\n",
    "import io\n",
    "import inspect\n",
    "import requests"
   ]
  },
  {
   "cell_type": "code",
   "execution_count": 4,
   "id": "d90f6e9d-3496-4696-89af-339e032436c3",
   "metadata": {
    "tags": []
   },
   "outputs": [],
   "source": [
    "open_weather_key = \"5c939a7cc59eb8696f4cd77bf75c5a9a\""
   ]
  },
  {
   "cell_type": "code",
   "execution_count": 5,
   "id": "af7c4ac9-51a3-48e2-b7f8-1e6edea7de23",
   "metadata": {
    "tags": []
   },
   "outputs": [],
   "source": [
    "from langchain_core.tools import tool\n",
    "\n",
    "import requests\n",
    "import json\n",
    "\n",
    "@tool\n",
    "def get_weather(loc):\n",
    "    \"\"\"\n",
    "    查询即时天气函数\n",
    "    :param loc: 必要参数，字符串类型，用于表示查询天气的具体城市名称，\\\n",
    "    注意，中国的城市需要用对应城市的英文名称代替，例如如果需要查询上海市天气，则loc参数需要输入'ShangHai'；\n",
    "    :return：OpenWeather API查询即时天气的结果，具体URL请求地址为：https://api.openweathermap.org/data/2.5/weather\\\n",
    "    返回结果对象类型为解析之后的JSON格式对象，并用字符串形式进行表示，其中包含了全部重要的天气信息\n",
    "    \"\"\"\n",
    "    # Step 1.构建请求\n",
    "    url = \"https://api.openweathermap.org/data/2.5/weather\"\n",
    "\n",
    "    # Step 2.设置查询参数\n",
    "    params = {\n",
    "        \"q\": loc,               \n",
    "        \"appid\": open_weather_key,    # 输入API key\n",
    "        \"units\": \"metric\",            # 使用摄氏度而不是华氏度\n",
    "        \"lang\":\"zh_cn\"                # 输出语言为简体中文\n",
    "    }\n",
    "\n",
    "    # Step 3.发送GET请求\n",
    "    response = requests.get(url, params=params)\n",
    "    \n",
    "    # Step 4.解析响应\n",
    "    data = response.json()\n",
    "    return json.dumps(data)\n",
    "\n",
    "@tool\n",
    "def test():\n",
    "    \"\"\"\n",
    "    查询天气示例，这是一个测试\n",
    "    \"\"\"\n",
    "    pass"
   ]
  },
  {
   "cell_type": "code",
   "execution_count": 7,
   "id": "20430385-cd26-4787-a8f6-b28d4ff679e2",
   "metadata": {
    "tags": []
   },
   "outputs": [
    {
     "data": {
      "text/plain": [
       "[StructuredTool(name='get_weather', description=\"get_weather(loc) - 查询即时天气函数\\n    :param loc: 必要参数，字符串类型，用于表示查询天气的具体城市名称，    注意，中国的城市需要用对应城市的英文名称代替，例如如果需要查询上海市天气，则loc参数需要输入'ShangHai'；\\n    :return：OpenWeather API查询即时天气的结果，具体URL请求地址为：https://api.openweathermap.org/data/2.5/weather    返回结果对象类型为解析之后的JSON格式对象，并用字符串形式进行表示，其中包含了全部重要的天气信息\", args_schema=<class 'pydantic.v1.main.get_weatherSchema'>, func=<function get_weather at 0x7fa964585430>),\n",
       " StructuredTool(name='test', description='test() - 查询天气示例，这是一个测试', args_schema=<class 'pydantic.v1.main.testSchema'>, func=<function test at 0x7fa9645850d0>)]"
      ]
     },
     "execution_count": 7,
     "metadata": {},
     "output_type": "execute_result"
    }
   ],
   "source": [
    "weather_function_list = [get_weather, test]\n",
    "weather_function_list"
   ]
  },
  {
   "cell_type": "markdown",
   "id": "716ce8a8-0a7f-499a-b3d3-c9670b0b3f77",
   "metadata": {},
   "source": [
    "准备第一个链路的提示词模版"
   ]
  },
  {
   "cell_type": "code",
   "execution_count": 8,
   "id": "9b59bce1-ba98-4d6e-bc02-2b5feb30ed58",
   "metadata": {
    "tags": []
   },
   "outputs": [],
   "source": [
    "from langchain_core.prompts import ChatPromptTemplate\n",
    "from langchain.chains.openai_functions.base import create_openai_fn_chain\n",
    "from langchain_openai import ChatOpenAI\n",
    "\n",
    "# 构建第一个LLMChain的提示模版\n",
    "weather_chat_template = ChatPromptTemplate.from_messages(\n",
    "    [\n",
    "        (\"system\", \"你是一个能够查询天气的AI小助手\"),\n",
    "        (\"human\", \"这是接收到的用户输入：{input}\"),\n",
    "    ]\n",
    ")"
   ]
  },
  {
   "cell_type": "markdown",
   "id": "7c7bd36a-7bfb-4c3c-98eb-052330ce4c39",
   "metadata": {},
   "source": [
    "准备第一个链路所需的输出解析器，用来提取大模型计算出的函数调用信息，并进行调用"
   ]
  },
  {
   "cell_type": "code",
   "execution_count": 9,
   "id": "155ceef1-3f6b-4a77-9031-3991c6074b2b",
   "metadata": {
    "tags": []
   },
   "outputs": [],
   "source": [
    "from typing import List\n",
    "from langchain_core.exceptions import OutputParserException\n",
    "from langchain_core.output_parsers import BaseGenerationOutputParser\n",
    "from langchain_core.outputs import ChatGeneration, Generation\n",
    "\n",
    "class GetFunctonCallOutPutParser(BaseGenerationOutputParser[str]):\n",
    "    \"\"\"\n",
    "    提取`create_openai_fn_chain`识别到的参数，执行对应的外部工具函数，并返回最终的结果\n",
    "    \"\"\"\n",
    "\n",
    "    # 覆写parse_result方法\n",
    "    def parse_result(self, result: List[Generation]):\n",
    "        \n",
    "        # 如果未识别到function_call关键字，返回原始文本\n",
    "        if result[0].text:\n",
    "            return result[0].text\n",
    "        else:\n",
    "            # 提取create_openai_fn_chain中拿到的参数 \n",
    "            function_call = result[0].message.additional_kwargs[\"function_call\"]\n",
    "\n",
    "            # 提取到需要执行的具体函数名称： get_weather\n",
    "            func_name = function_call[\"name\"]\n",
    "            \n",
    "            # 使用全局定义的 function_list\n",
    "            global weather_function_list\n",
    "\n",
    "             # 格式化处理   \n",
    "            func_map = {func.name: func for func in weather_function_list}\n",
    "     \n",
    "            # 提取经过create_openai_fn_runnable过程中识别到的函数名称\n",
    "            chosen_tool = func_map[func_name]\n",
    "    \n",
    "    \n",
    "            from operator import itemgetter\n",
    "            # {'loc': 'Shanghai'}\n",
    "            arguments = json.loads(itemgetter(\"arguments\")(function_call))\n",
    "   \n",
    "            # 执行\n",
    "            result = chosen_tool.invoke(arguments)\n",
    "            return result"
   ]
  },
  {
   "cell_type": "markdown",
   "id": "c859840a-6b28-4970-a39c-f582bbde0dbc",
   "metadata": {},
   "source": [
    "组装第一个链路"
   ]
  },
  {
   "cell_type": "code",
   "execution_count": 10,
   "id": "9899eb77-bf8f-4462-8d0e-4545aad9eaed",
   "metadata": {
    "tags": []
   },
   "outputs": [
    {
     "name": "stderr",
     "output_type": "stream",
     "text": [
      "/root/miniconda3/lib/python3.8/site-packages/langchain_core/_api/deprecation.py:119: LangChainDeprecationWarning: The function `create_openai_fn_chain` was deprecated in LangChain 0.1.1 and will be removed in 0.2.0. Use create_openai_fn_runnable instead.\n",
      "  warn_deprecated(\n"
     ]
    }
   ],
   "source": [
    "get_weather_data_chain = create_openai_fn_chain(llm=llm, \n",
    "                                                 prompt=weather_chat_template, \n",
    "                                                 functions=weather_function_list, \n",
    "                                                 output_parser=GetFunctonCallOutPutParser(),\n",
    "                                                 output_key=\"weather_data\",\n",
    "                                                 verbose=True\n",
    "                                                )"
   ]
  },
  {
   "cell_type": "markdown",
   "id": "e6607cc6-e0c0-4f3c-ac2c-9fd30949fc19",
   "metadata": {},
   "source": [
    "如上，`get_weather_data_chain`在执行后能够得到实时的天气数据。\n",
    "\n",
    "接下来再定义一个`LLMChain`，用来接收该数据，并根据该数据情况，给出最终的出行建议。还是先定义输入模版。"
   ]
  },
  {
   "cell_type": "code",
   "execution_count": 11,
   "id": "d01902fd-122b-4ba5-bcd0-4a1701a4290d",
   "metadata": {
    "tags": []
   },
   "outputs": [],
   "source": [
    "from langchain_core.prompts import ChatPromptTemplate\n",
    "\n",
    "analyse_weather_template = ChatPromptTemplate.from_messages(\n",
    "    [\n",
    "        (\"system\", \"你是一位天气数据的分析大师\"),\n",
    "        (\"human\", \"这是接收到的实时天气数据：{weather_data}\"),\n",
    "        (\"human\", \"请你结合这份详细的数据，给予用户最合适的天气分析，并给出合理的出行建议\")\n",
    "    ]\n",
    ")"
   ]
  },
  {
   "cell_type": "markdown",
   "id": "12302887-62a6-4fb2-8550-d57f0b81fca2",
   "metadata": {},
   "source": [
    "构建第二个LLMChain，用来根据上一步得到的天气数据，进行分析并返回最终的结果。"
   ]
  },
  {
   "cell_type": "code",
   "execution_count": 12,
   "id": "4ddfff0e-20ef-4206-9f0d-031bd085b43a",
   "metadata": {
    "tags": []
   },
   "outputs": [],
   "source": [
    "from langchain.chains import LLMChain\n",
    "\n",
    "analyse_weather_chains = LLMChain(llm=llm,\n",
    "                                 prompt=analyse_weather_template,\n",
    "                                 verbose=True\n",
    "                                )"
   ]
  },
  {
   "cell_type": "markdown",
   "id": "e5d6316f-0a78-40c9-8b21-cb37a7e66b9c",
   "metadata": {},
   "source": [
    "把两个LLMChain通过SimpleSequentialChain串联在一起"
   ]
  },
  {
   "cell_type": "code",
   "execution_count": 13,
   "id": "bb66d245-52c8-448f-9fac-f09762579f7a",
   "metadata": {
    "tags": []
   },
   "outputs": [],
   "source": [
    "# 导入SimpleSequentialChain\n",
    "from langchain.chains import SimpleSequentialChain\n",
    "\n",
    "# 在chains参数中，按顺序传入LLMChain A 和LLMChain B\n",
    "full_weather_chain = SimpleSequentialChain(chains=[get_weather_data_chain, analyse_weather_chains], \n",
    "                                           verbose=True,\n",
    "                                           output_key=\"text\",)"
   ]
  },
  {
   "cell_type": "markdown",
   "id": "0c94e5de-b6f8-4246-8f16-131145af3456",
   "metadata": {},
   "source": [
    "调用执行"
   ]
  },
  {
   "cell_type": "code",
   "execution_count": 15,
   "id": "29e346fa-ac1d-4996-a525-f001a5fb591b",
   "metadata": {
    "tags": []
   },
   "outputs": [
    {
     "name": "stdout",
     "output_type": "stream",
     "text": [
      "\n",
      "\n",
      "\u001b[1m> Entering new SimpleSequentialChain chain...\u001b[0m\n",
      "\n",
      "\n",
      "\u001b[1m> Entering new LLMChain chain...\u001b[0m\n",
      "Prompt after formatting:\n",
      "\u001b[32;1m\u001b[1;3mSystem: 你是一个能够查询天气的AI小助手\n",
      "Human: 这是接收到的用户输入：北京今天的天气怎么样？\u001b[0m\n",
      "\n",
      "\u001b[1m> Finished chain.\u001b[0m\n",
      "\u001b[36;1m\u001b[1;3m{\"coord\": {\"lon\": 116.3972, \"lat\": 39.9075}, \"weather\": [{\"id\": 804, \"main\": \"Clouds\", \"description\": \"\\u9634\\uff0c\\u591a\\u4e91\", \"icon\": \"04d\"}], \"base\": \"stations\", \"main\": {\"temp\": 20.94, \"feels_like\": 19.35, \"temp_min\": 20.94, \"temp_max\": 20.94, \"pressure\": 1008, \"humidity\": 10, \"sea_level\": 1008, \"grnd_level\": 1002}, \"visibility\": 10000, \"wind\": {\"speed\": 0.33, \"deg\": 196, \"gust\": 0.89}, \"clouds\": {\"all\": 100}, \"dt\": 1715824766, \"sys\": {\"type\": 1, \"id\": 9609, \"country\": \"CN\", \"sunrise\": 1715806718, \"sunset\": 1715858588}, \"timezone\": 28800, \"id\": 1816670, \"name\": \"Beijing\", \"cod\": 200}\u001b[0m\n",
      "\n",
      "\n",
      "\u001b[1m> Entering new LLMChain chain...\u001b[0m\n",
      "Prompt after formatting:\n",
      "\u001b[32;1m\u001b[1;3mSystem: 你是一位天气数据的分析大师\n",
      "Human: 这是接收到的实时天气数据：{\"coord\": {\"lon\": 116.3972, \"lat\": 39.9075}, \"weather\": [{\"id\": 804, \"main\": \"Clouds\", \"description\": \"\\u9634\\uff0c\\u591a\\u4e91\", \"icon\": \"04d\"}], \"base\": \"stations\", \"main\": {\"temp\": 20.94, \"feels_like\": 19.35, \"temp_min\": 20.94, \"temp_max\": 20.94, \"pressure\": 1008, \"humidity\": 10, \"sea_level\": 1008, \"grnd_level\": 1002}, \"visibility\": 10000, \"wind\": {\"speed\": 0.33, \"deg\": 196, \"gust\": 0.89}, \"clouds\": {\"all\": 100}, \"dt\": 1715824766, \"sys\": {\"type\": 1, \"id\": 9609, \"country\": \"CN\", \"sunrise\": 1715806718, \"sunset\": 1715858588}, \"timezone\": 28800, \"id\": 1816670, \"name\": \"Beijing\", \"cod\": 200}\n",
      "Human: 请你结合这份详细的数据，给予用户最合适的天气分析，并给出合理的出行建议\u001b[0m\n",
      "\n",
      "\u001b[1m> Finished chain.\u001b[0m\n",
      "\u001b[33;1m\u001b[1;3m根据提供的天气数据，现在北京的天气情况是多云，气温在20.94摄氏度，体感温度19.35摄氏度，湿度为10%，风速为0.33米/秒，风向196度，能见度为10000米。\n",
      "\n",
      "这是一个相对温暖的一天，但湿度较低，可能会觉得有些干燥。风速较轻，不会对出行产生太大影响。能见度非常高，适合进行户外活动。\n",
      "\n",
      "建议出行时穿戴适宜的衣服，以保持舒适的体感温度。同时，由于湿度较低，记得随身携带保湿产品，如润唇膏或者保湿霜，以防皮肤干燥。此外，由于能见度高，如果有计划进行户外活动，今天是个好天气。但请注意避开最强烈的阳光时段，防止紫外线伤害。\u001b[0m\n",
      "\n",
      "\u001b[1m> Finished chain.\u001b[0m\n"
     ]
    },
    {
     "data": {
      "text/plain": [
       "{'input': '北京今天的天气怎么样？',\n",
       " 'text': '根据提供的天气数据，现在北京的天气情况是多云，气温在20.94摄氏度，体感温度19.35摄氏度，湿度为10%，风速为0.33米/秒，风向196度，能见度为10000米。\\n\\n这是一个相对温暖的一天，但湿度较低，可能会觉得有些干燥。风速较轻，不会对出行产生太大影响。能见度非常高，适合进行户外活动。\\n\\n建议出行时穿戴适宜的衣服，以保持舒适的体感温度。同时，由于湿度较低，记得随身携带保湿产品，如润唇膏或者保湿霜，以防皮肤干燥。此外，由于能见度高，如果有计划进行户外活动，今天是个好天气。但请注意避开最强烈的阳光时段，防止紫外线伤害。'}"
      ]
     },
     "execution_count": 15,
     "metadata": {},
     "output_type": "execute_result"
    }
   ],
   "source": [
    "full_weather_response = full_weather_chain.invoke(\"北京今天的天气怎么样？\")\n",
    "full_weather_response"
   ]
  },
  {
   "cell_type": "markdown",
   "id": "8846b34c-cd21-4962-aad5-5f1b53437b2a",
   "metadata": {},
   "source": [
    "### 2.3 总结\n",
    "\n",
    "#### (1) 整个流程给我们的启示\n",
    "\n",
    "如上所述，该过程反应了在特定场景下某个流程的实现方式。当然它也可以是一个公司报销流程、一个购买演唱会门票的过程等实际业务场景下的链路。核心在于其流程是固定的，即我们在构建之前，就能够明确每一步的输入和输出，以及如何将结果或数据传递至下一步。这种预设流程能够按照开发者的思路稳定执行所有步骤，仅在最终步骤返回处理结果。在此过程中，大模型在整个链路中起到的作用是：\n",
    "\n",
    "1. 解析用户输入，以确定需执行的特定流程。\n",
    "2. 当需调用外部工具时，从用户输入中提取关键信息。\n",
    "3. 基于分析数据，输出最终结果。"
   ]
  },
  {
   "cell_type": "markdown",
   "id": "ce9daefd-7ade-4920-9b82-738a3eb84e54",
   "metadata": {},
   "source": [
    "#### (2) 面向过程编程"
   ]
  },
  {
   "cell_type": "markdown",
   "id": "c503da50-f9af-4f73-82c4-9d412b84e944",
   "metadata": {},
   "source": [
    "从上述流程上看，在`Chains`的抽象设计框架下，一条链路可以整合无限多个工具，利用大模型的能力去确定应调用哪个工具（`TOOL`）以及如何从用户输入（`Input`）中提取执行特定工具所需的关键信息（`PARSER`）。因此，使用`Chains`构建流程时，我们能够预设工具的使用顺序。其核心思想类似于传统的面向过程编程，只是将部分分析和处理流程自动化，交由大模型负责。可以说整个链路中大模型的使用相对占比并不是特别高，但考虑到当前大模型输出的不稳定性，这种设计方法非常巧妙，其优势就在于使用`Chains`构建链路能够增强稳定性，有效控制每个处理环节，极大降低错误发生的可能性。特别适用于相对固定的业务流程场景。"
   ]
  },
  {
   "cell_type": "markdown",
   "id": "59a376a9-97ff-4533-b339-01e0a0b24458",
   "metadata": {},
   "source": [
    "#### (3) 面向过程编程的问题 \n",
    "\n",
    "从这个视角来看，`Chains`的构建本质上是将一系列操作硬编码在代码逻辑中。固而就会产生一系列的不灵活性，如下所示：\n",
    "\n",
    "我们不再问“北京的天气怎么样”，而是稍微改了一下问题“今天北京和大理的温差有多大？“\n",
    "\n",
    "先前的链路就无法适应"
   ]
  },
  {
   "cell_type": "code",
   "execution_count": 16,
   "id": "e0e8c768-c87c-4f70-9dfe-33045689deac",
   "metadata": {
    "tags": []
   },
   "outputs": [
    {
     "name": "stdout",
     "output_type": "stream",
     "text": [
      "\n",
      "\n",
      "\u001b[1m> Entering new SimpleSequentialChain chain...\u001b[0m\n",
      "\n",
      "\n",
      "\u001b[1m> Entering new LLMChain chain...\u001b[0m\n",
      "Prompt after formatting:\n",
      "\u001b[32;1m\u001b[1;3mSystem: 你是一个能够查询天气的AI小助手\n",
      "Human: 这是接收到的用户输入：今天北京和大理的温差有多大？\u001b[0m\n",
      "\n",
      "\u001b[1m> Finished chain.\u001b[0m\n",
      "\u001b[36;1m\u001b[1;3m{\"coord\": {\"lon\": 116.3972, \"lat\": 39.9075}, \"weather\": [{\"id\": 804, \"main\": \"Clouds\", \"description\": \"\\u9634\\uff0c\\u591a\\u4e91\", \"icon\": \"04d\"}], \"base\": \"stations\", \"main\": {\"temp\": 20.94, \"feels_like\": 19.35, \"temp_min\": 20.94, \"temp_max\": 20.94, \"pressure\": 1008, \"humidity\": 10, \"sea_level\": 1008, \"grnd_level\": 1002}, \"visibility\": 10000, \"wind\": {\"speed\": 0.33, \"deg\": 196, \"gust\": 0.89}, \"clouds\": {\"all\": 100}, \"dt\": 1715825681, \"sys\": {\"type\": 1, \"id\": 9609, \"country\": \"CN\", \"sunrise\": 1715806718, \"sunset\": 1715858588}, \"timezone\": 28800, \"id\": 1816670, \"name\": \"Beijing\", \"cod\": 200}\u001b[0m\n",
      "\n",
      "\n",
      "\u001b[1m> Entering new LLMChain chain...\u001b[0m\n",
      "Prompt after formatting:\n",
      "\u001b[32;1m\u001b[1;3mSystem: 你是一位天气数据的分析大师\n",
      "Human: 这是接收到的实时天气数据：{\"coord\": {\"lon\": 116.3972, \"lat\": 39.9075}, \"weather\": [{\"id\": 804, \"main\": \"Clouds\", \"description\": \"\\u9634\\uff0c\\u591a\\u4e91\", \"icon\": \"04d\"}], \"base\": \"stations\", \"main\": {\"temp\": 20.94, \"feels_like\": 19.35, \"temp_min\": 20.94, \"temp_max\": 20.94, \"pressure\": 1008, \"humidity\": 10, \"sea_level\": 1008, \"grnd_level\": 1002}, \"visibility\": 10000, \"wind\": {\"speed\": 0.33, \"deg\": 196, \"gust\": 0.89}, \"clouds\": {\"all\": 100}, \"dt\": 1715825681, \"sys\": {\"type\": 1, \"id\": 9609, \"country\": \"CN\", \"sunrise\": 1715806718, \"sunset\": 1715858588}, \"timezone\": 28800, \"id\": 1816670, \"name\": \"Beijing\", \"cod\": 200}\n",
      "Human: 请你结合这份详细的数据，给予用户最合适的天气分析，并给出合理的出行建议\u001b[0m\n",
      "\n",
      "\u001b[1m> Finished chain.\u001b[0m\n",
      "\u001b[33;1m\u001b[1;3m根据您提供的天气数据，现在是北京的天气状况如下：\n",
      "温度相对舒适，气温20.94摄氏度，体感温度为19.35摄氏度。天气虽然有些阴，但云层比较密集，所以阳光并不强烈。气压在正常范围内，湿度仅为10%，相对较低，空气比较干燥。风速非常小，仅为0.33，风向为196度，几乎感觉不到风。能见度高达10000米，非常清晰。\n",
      "根据这个分析，这将是一个相对温暖且干燥的天气，虽然可能会有些阴沉，但并无大风或降雨影响出行。\n",
      "出行建议如下：\n",
      "1. 由于天气较干，建议增加饮水量，保持身体的水分平衡。\n",
      "2. 由于温度适中，您不必穿太厚的衣服，但一定要记住带些保暖物品，如果晚上温度下降应对。\n",
      "3. 虽然天气阴沉，但紫外线仍然存在，若长时间在户外，仍需做好防晒措施。\n",
      "4. 天气状况良好，非常适合外出活动。您可以尽情享受这个季节的温暖和怡人的天气。\n",
      "请您根据个人情况，做好针对性的准备，祝您有一个愉快的一天！\u001b[0m\n",
      "\n",
      "\u001b[1m> Finished chain.\u001b[0m\n"
     ]
    },
    {
     "data": {
      "text/plain": [
       "{'input': '今天北京和大理的温差有多大？',\n",
       " 'text': '根据您提供的天气数据，现在是北京的天气状况如下：\\n温度相对舒适，气温20.94摄氏度，体感温度为19.35摄氏度。天气虽然有些阴，但云层比较密集，所以阳光并不强烈。气压在正常范围内，湿度仅为10%，相对较低，空气比较干燥。风速非常小，仅为0.33，风向为196度，几乎感觉不到风。能见度高达10000米，非常清晰。\\n根据这个分析，这将是一个相对温暖且干燥的天气，虽然可能会有些阴沉，但并无大风或降雨影响出行。\\n出行建议如下：\\n1. 由于天气较干，建议增加饮水量，保持身体的水分平衡。\\n2. 由于温度适中，您不必穿太厚的衣服，但一定要记住带些保暖物品，如果晚上温度下降应对。\\n3. 虽然天气阴沉，但紫外线仍然存在，若长时间在户外，仍需做好防晒措施。\\n4. 天气状况良好，非常适合外出活动。您可以尽情享受这个季节的温暖和怡人的天气。\\n请您根据个人情况，做好针对性的准备，祝您有一个愉快的一天！'}"
      ]
     },
     "execution_count": 16,
     "metadata": {},
     "output_type": "execute_result"
    }
   ],
   "source": [
    "full_weather_response = full_weather_chain.invoke(\"今天北京和大理的温差有多大？\")\n",
    "full_weather_response"
   ]
  },
  {
   "cell_type": "markdown",
   "id": "ffd11448-8fe8-4141-b8d8-5f1f4a3a5683",
   "metadata": {},
   "source": [
    "&emsp;&emsp;针对提问“我想知道，现在这个时刻，北京和上海的温差有多大？”这样一条输入，按照人类的思维逻辑出发应该包括执行两个步骤：首先是分别获取北京和大理当前的天气信息，其次是对这两个数据进行对比分析，从而得出温差。在我们构建的链路流程中，虽然已实现查询天气的功能，但当前的实现并不支持依次查询两个城市的天气，并且对于温差对比分析，现有的`analyse_weather_template`提示模板并不适用。这主要体现了两个问题：一是链路流程未能依序处理多城市天气查询的需求，二是缺少适用于温差分析的模板。"
   ]
  },
  {
   "cell_type": "code",
   "execution_count": 18,
   "id": "02f6fbde-efb4-4170-8c1e-beacda1eb072",
   "metadata": {
    "tags": []
   },
   "outputs": [
    {
     "name": "stdout",
     "output_type": "stream",
     "text": [
      "\n",
      "\n",
      "\u001b[1m> Entering new SimpleSequentialChain chain...\u001b[0m\n",
      "\n",
      "\n",
      "\u001b[1m> Entering new LLMChain chain...\u001b[0m\n",
      "Prompt after formatting:\n",
      "\u001b[32;1m\u001b[1;3mSystem: 你是一个能够查询天气的AI小助手\n",
      "Human: 这是接收到的用户输入：请你帮我查两次今天的北京天气，第二次用于校验，并返回你根据这两次查询对比下的分析结果。\u001b[0m\n",
      "\n",
      "\u001b[1m> Finished chain.\u001b[0m\n",
      "\u001b[36;1m\u001b[1;3m{\"coord\": {\"lon\": 116.3972, \"lat\": 39.9075}, \"weather\": [{\"id\": 804, \"main\": \"Clouds\", \"description\": \"\\u9634\\uff0c\\u591a\\u4e91\", \"icon\": \"04d\"}], \"base\": \"stations\", \"main\": {\"temp\": 20.94, \"feels_like\": 19.35, \"temp_min\": 20.94, \"temp_max\": 20.94, \"pressure\": 1008, \"humidity\": 10, \"sea_level\": 1008, \"grnd_level\": 1002}, \"visibility\": 10000, \"wind\": {\"speed\": 0.33, \"deg\": 196, \"gust\": 0.89}, \"clouds\": {\"all\": 100}, \"dt\": 1715825702, \"sys\": {\"type\": 1, \"id\": 9609, \"country\": \"CN\", \"sunrise\": 1715806718, \"sunset\": 1715858588}, \"timezone\": 28800, \"id\": 1816670, \"name\": \"Beijing\", \"cod\": 200}\u001b[0m\n",
      "\n",
      "\n",
      "\u001b[1m> Entering new LLMChain chain...\u001b[0m\n",
      "Prompt after formatting:\n",
      "\u001b[32;1m\u001b[1;3mSystem: 你是一位天气数据的分析大师\n",
      "Human: 这是接收到的实时天气数据：{\"coord\": {\"lon\": 116.3972, \"lat\": 39.9075}, \"weather\": [{\"id\": 804, \"main\": \"Clouds\", \"description\": \"\\u9634\\uff0c\\u591a\\u4e91\", \"icon\": \"04d\"}], \"base\": \"stations\", \"main\": {\"temp\": 20.94, \"feels_like\": 19.35, \"temp_min\": 20.94, \"temp_max\": 20.94, \"pressure\": 1008, \"humidity\": 10, \"sea_level\": 1008, \"grnd_level\": 1002}, \"visibility\": 10000, \"wind\": {\"speed\": 0.33, \"deg\": 196, \"gust\": 0.89}, \"clouds\": {\"all\": 100}, \"dt\": 1715825702, \"sys\": {\"type\": 1, \"id\": 9609, \"country\": \"CN\", \"sunrise\": 1715806718, \"sunset\": 1715858588}, \"timezone\": 28800, \"id\": 1816670, \"name\": \"Beijing\", \"cod\": 200}\n",
      "Human: 请你结合这份详细的数据，给予用户最合适的天气分析，并给出合理的出行建议\u001b[0m\n",
      "\n",
      "\u001b[1m> Finished chain.\u001b[0m\n",
      "\u001b[33;1m\u001b[1;3m根据您提供的数据，当前的天气情况是在北京，经度为116.3972，纬度为39.9075。天气现象是多云，温度为20.94摄氏度，体感温度为19.35摄氏度，最低温度和最高温度都是20.94摄氏度。大气压强为1008hPa，湿度为10%，海平面的气压也是1008hPa，而地面的气压是1002hPa。\n",
      "\n",
      "能见度为10000米，风速为0.33米/秒，风向为196度，风阵风为0.89米/秒。云量为100%。\n",
      "\n",
      "根据这些数据，我们可以得出以下分析和建议：\n",
      "\n",
      "1. 温度适中，体感温度较为舒适，适合户外活动。\n",
      "2. 天气多云，没有降雨，可以进行各种户外活动。\n",
      "3. 湿度较低，体感可能会偏干燥，建议出行时带上润唇膏或者保湿喷雾，及时补充水分。\n",
      "4. 风力较小，没有大风天气，出行无需特别注意。\n",
      "5. 云量较大，可能会有阴天的感觉，但不影响视线，驾驶出行时注意安全。\n",
      "\n",
      "总的来说，当前的天气状况对出行并无大的影响，是一个适合出行的好天气。\u001b[0m\n",
      "\n",
      "\u001b[1m> Finished chain.\u001b[0m\n"
     ]
    },
    {
     "data": {
      "text/plain": [
       "{'input': '请你帮我查两次今天的北京天气，第二次用于校验，并返回你根据这两次查询对比下的分析结果。',\n",
       " 'text': '根据您提供的数据，当前的天气情况是在北京，经度为116.3972，纬度为39.9075。天气现象是多云，温度为20.94摄氏度，体感温度为19.35摄氏度，最低温度和最高温度都是20.94摄氏度。大气压强为1008hPa，湿度为10%，海平面的气压也是1008hPa，而地面的气压是1002hPa。\\n\\n能见度为10000米，风速为0.33米/秒，风向为196度，风阵风为0.89米/秒。云量为100%。\\n\\n根据这些数据，我们可以得出以下分析和建议：\\n\\n1. 温度适中，体感温度较为舒适，适合户外活动。\\n2. 天气多云，没有降雨，可以进行各种户外活动。\\n3. 湿度较低，体感可能会偏干燥，建议出行时带上润唇膏或者保湿喷雾，及时补充水分。\\n4. 风力较小，没有大风天气，出行无需特别注意。\\n5. 云量较大，可能会有阴天的感觉，但不影响视线，驾驶出行时注意安全。\\n\\n总的来说，当前的天气状况对出行并无大的影响，是一个适合出行的好天气。'}"
      ]
     },
     "execution_count": 18,
     "metadata": {},
     "output_type": "execute_result"
    }
   ],
   "source": [
    "full_weather_response = full_weather_chain.invoke(\"请你帮我查两次今天的北京天气，第二次用于校验，并返回你根据这两次查询对比下的分析结果。\")\n",
    "full_weather_response"
   ]
  },
  {
   "cell_type": "markdown",
   "id": "5dc74527-64ee-4ac2-9994-30deaff4aeb7",
   "metadata": {},
   "source": [
    "从本质上分析，`Chains`的设计理念是一旦识别出用户意图，就按预设的流程顺序执行，这样的设计就势必会造成当前的这种现状。但这既是它的优势也是劣势。优势在于对于固定流程，`Chains`的执行过程是非常稳定的。而劣势在于，面对用户多样化的输入，一个输入可能需要多次函数调用，且所需执行的流程可能是不固定的，不必完全遵循既定逻辑就能完成任务。解决这种劣势的关键在于：需要一个可以智能分析用户的输入，然后按照用户的输入不断的去执行，直到完成用户的全部需求的大脑，这个大脑，就是`Agents`。一个更像人的大脑一样，具备自定分析处理能力的智能体。"
   ]
  },
  {
   "cell_type": "markdown",
   "id": "b6f31d64-b628-47d1-a8b0-5c04949a2905",
   "metadata": {},
   "source": [
    "因此，在LangChain框架中，当前端接收到的用户输入变得更加灵活，且后端处理流程非固定时，采用`Agents`来构建整个链路就会更加契合。`Agents`的核心作用在于自动解析用户的意图，针对每个分解后的子任务，判断是否需要调用外部函数、调用次数，如何管理、存储中间结果及传递这些中间结果等复杂流程，就是`Agents `核心在做的事情。"
   ]
  },
  {
   "cell_type": "markdown",
   "id": "728d9b89-c4b1-433a-be65-dfe2665907a7",
   "metadata": {},
   "source": [
    "接下来，我们就通过优化`full_weather_chain`流程作为示例，深切体会和理解LangChain中`Agents`的设计思路和实现方式。"
   ]
  },
  {
   "cell_type": "markdown",
   "id": "acdd5351-71a5-466b-a9c4-88b734b47e94",
   "metadata": {},
   "source": [
    "## 3. Agents模块的架构设计理念剖析"
   ]
  },
  {
   "cell_type": "markdown",
   "id": "47c7e3ac-a588-40f4-b399-e9db5e86deaa",
   "metadata": {},
   "source": [
    "### 3.1 理解Agent执行过程\n",
    "\n",
    "#### (1) 挑战\n",
    "\n",
    "对用户的一条输入，我们将其拆分成若干子任务，依序执行每个子任务并最终汇总结果进行输出。这个过程看起来非常直接，但在借助大模型的能力并以应用的形式来构建时，会存在以下几个难点：\n",
    "1. 如何将子任务进行有效拆分？\n",
    "2. 如何做外部工具的调用机制？这包括：\n",
    "   - 工具识别过程。\n",
    "   - 工具执行过程。\n",
    "3. 如果做对子任务结果的综合分析及最终结果的生成？"
   ]
  },
  {
   "cell_type": "markdown",
   "id": "2e20462d-40ea-46d2-af5e-eb7a20ad4a52",
   "metadata": {},
   "source": [
    "#### (2) 任务拆解\n",
    "\n",
    "针对上述提到的三个难点，我们可以依次去考虑解决方案。首先，对于任务的拆分，我们认为：一个原生能力较强的大模型是完全具备任务拆解的能力，比如我们来测试`gpt-4`模型："
   ]
  },
  {
   "cell_type": "code",
   "execution_count": 19,
   "id": "0952f83e-0258-406a-8dcd-cece9dd9375a",
   "metadata": {
    "tags": []
   },
   "outputs": [
    {
     "name": "stdout",
     "output_type": "stream",
     "text": [
      "1. 首先，你需要分别查询北京和大理当前的气温。你可以通过互联网上的天气预报网站，如中国天气网、weather.com等，或者通过手机上的天气应用软件查询。\n",
      "\n",
      "2. 查询到两地的气温后，用北京的气温减去大理的气温，就得到了两地的气温差。如果你是想比较两地的气温来决定旅行的话，这个气温差可以作为参考。\n",
      "\n",
      "请注意，由于气温可能会随着时间和天气的变化而变化，所以你获取的气温差只能代表查询时间的情况，如果你需要更准确的信息，可能需要多次查询。\n"
     ]
    }
   ],
   "source": [
    "from langchain_openai import ChatOpenAI\n",
    "llm = ChatOpenAI(model_name=\"gpt-4\",api_key=openai.api_key ,base_url=openai.api_base)\n",
    "resonse = llm.invoke(\"如果我想得到今天的北京和大理在当前时间段的气温差，我应该怎么做？\")\n",
    "\n",
    "print(resonse.content)"
   ]
  },
  {
   "cell_type": "markdown",
   "id": "b9058485-8f64-4f2b-b843-eea552599085",
   "metadata": {},
   "source": [
    "#### (3) 执行子任务\n",
    "\n",
    "当可以通过提示工程让大模型去拆解原始的输入为多个子任务后，接下来的关键就有两点：\n",
    "\n",
    "1. 制定一个策略来依序执行这些子任务并收集结果。\n",
    "2. 综合全部子任务的结果，进行最终结果的响应。"
   ]
  },
  {
   "cell_type": "markdown",
   "id": "dde3fb83-9885-405e-b821-3da0e8d2d20b",
   "metadata": {},
   "source": [
    "自然，实现上述过程的细节也就包含两点：\n",
    "\n",
    "1. 需要明确子任务的执行顺序\n",
    "2. 要确保各个步骤之间的信息正确传递，以便综合分析和生成最终结果\n",
    "\n",
    "可以用如下伪代码来理解："
   ]
  },
  {
   "cell_type": "markdown",
   "id": "fd0c9e4a-b593-4781-bfd1-2dcd1596bcde",
   "metadata": {},
   "source": [
    "```python\n",
    "# 初始化一个空列表来存储每个子任务的结果\n",
    "results = []\n",
    "\n",
    "# 定义子任务列表\n",
    "sub_tasks = ['子任务1', '子任务2', '子任务3', ...]\n",
    "\n",
    "# 遍历子任务列表，依次执行每个任务\n",
    "for task in sub_tasks:\n",
    "    # 执行子任务并获取结果\n",
    "    result = execute_task(task)\n",
    "    # 将结果添加到结果列表中\n",
    "    results.append(result)\n",
    "\n",
    "# 对收集到的结果进行综合分析\n",
    "final_result = analyze_results(results)\n",
    "```"
   ]
  },
  {
   "cell_type": "markdown",
   "id": "70306535-06f1-4cbd-a0ae-f795382f04a7",
   "metadata": {},
   "source": [
    "#### (4) 期间的外部工具调用\n",
    "\n",
    "最后，实现子任务调用外部工具的机制对我们来说并不陌生，前面频繁介绍过调用外部工具的各种方式。很多大模型只要给它绑定外部工具，且每个外部工具有比较详细的描述，它本身就具备非常好的识别能力。比如`gpt`模型的`Function Calling`过程，`Qwen`模型的`ReAct`过程，对于这个过程，我们需要优化的是：\n",
    "\n",
    "1. 如何把外部工具的描述更好？\n",
    "2. 问题拆解本身也会分成很多步骤，每一个问题解决的路径如何定义？"
   ]
  },
  {
   "cell_type": "markdown",
   "id": "7901696c-3d66-4a8c-9ec5-cf0f9321b3c4",
   "metadata": {},
   "source": [
    "### 3.1 langchain Agent的设计\n",
    "\n",
    "#### (1) Agent的组成\n",
    "\n",
    "`Agent`由三个组件组成：\n",
    "\n",
    "* 提示词模版（`Prompt Template`)\n",
    "* 大模型（`LLM`)\n",
    "* 输出解析器（`Output Parser`)\n",
    "\n",
    "`Agent`的输入（message）主要来源于三个方面：\n",
    "* `input`代表用户的原始输入。\n",
    "* `Model Reponse`指的是模型对某一个子任务的响应输出。\n",
    "* `History`则能携带上下文的信息。\n",
    "\n",
    "`Agent`的输出：\n",
    "\n",
    "* 连接到实际的工具库（`Toolkits`) \n",
    "* 需要调用哪些工具，将由经过`Agent`模块后拆分的子任务来决定。"
   ]
  },
  {
   "cell_type": "markdown",
   "id": "9cea9910-9c51-46ac-94dc-54c3a9978506",
   "metadata": {},
   "source": [
    "#### (2) Agent执行工具的过程\n",
    "\n",
    "而我们知道，大模型调用外部函数会分为两个过程：识别工具和实际执行。Agent也一样\n",
    "\n",
    "识别工具过程：集Message -> Agent -> Toolkits这个流程，可以视作一种“静态”的执行流程。包括\n",
    "\n",
    "* 将子任务拆解\n",
    "* 根据这些子任务在工具库中找到相应的工具，提取工具名称及所需参数，\n",
    "\n",
    "实际工具执行：则会交给`AgentExecutor`。\n",
    "\n",
    "综上需要理解的是：在LangChain的`Agents`实际架构中，`Agent`的角色是接收输入并决定采取的操作，但它本身并不直接执行这些操作。这一任务是由`AgentExecutor`来完成的。\n",
    "\n",
    "* 将`Agent`（决策大脑）与`AgentExecutor`（执行操作的Runtime）结合使用，才构成了完整的`Agents`（智能体）\n",
    "* 其中`AgentExecutor`负责调用代理并执行指定的工具，以此来实现整个智能体的功能。\n",
    "\n",
    "其实整个过程实现起来是非常复杂的。但幸运的是，这些复杂的处理逻辑LangChain框架已经实现了，封装在框架内就不需要我们去操心这些底层逻辑问题，这也正是我们选择使用框架来进行应用开发的本质原因。\n",
    "\n",
    "所以接下来我们需要掌握的是：如何使用LangChain实现好的抽象模块，去组合出一个功能完整的智能体。"
   ]
  },
  {
   "cell_type": "markdown",
   "id": "ae98884b-a7c3-4f7d-9ff8-90152c2cb52a",
   "metadata": {},
   "source": [
    "### 3.2 手写自定义Tool Calling Agent理解它的实现\n",
    "\n",
    "#### (1) 介绍\n",
    "\n",
    "LangChain框架提供了多种预构建的`Agents`可以直接使用，同时也支持灵活的接入自定义`Agents`。只要掌握了上一小节中介绍的构建`Agents`的基本理念，就完全能够利用LangChain框架中已经抽象化的工具和方法，遵循相同的逻辑来创建新的`Agents`。\n",
    "\n",
    "为了理解Agent的实现原理，先不实用内置的实现，而是根据 LangChian `Agents`的这种设计架构，尝试按照LangChain的规范，接入一个自定义的`Agents`。"
   ]
  },
  {
   "cell_type": "markdown",
   "id": "f5516345-8a2c-4223-a623-b4c73a671bad",
   "metadata": {},
   "source": [
    "LangChain中Agents模块的类继承结构如下所示:\n",
    "\n",
    "```python\n",
    "BaseSingleActionAgent --> LLMSingleActionAgent\n",
    "                          OpenAIFunctionsAgent\n",
    "                          XMLAgent\n",
    "                          Agent --> <name>Agent  # Examples: ZeroShotAgent, ChatAgent\n",
    "\n",
    "\n",
    "BaseMultiActionAgent  --> OpenAIMultiFunctionsAgent\n",
    "```"
   ]
  },
  {
   "cell_type": "markdown",
   "id": "58bad00a-37c1-4450-aaf8-a789bc4f2966",
   "metadata": {},
   "source": [
    "其对应的API文档位置如下\n",
    "\n",
    "[https://api.python.langchain.com/en/latest/langchain_api_reference.html#module-langchain.agents](https://api.python.langchain.com/en/latest/langchain_api_reference.html#module-langchain.agents)\n",
    "\n",
    "实现代码如下，各小节对应上一节《Agent的组成》中的各个组件"
   ]
  },
  {
   "cell_type": "markdown",
   "id": "0709023b-b178-494b-9365-1d32690ac062",
   "metadata": {},
   "source": [
    "#### (2) 导入提示词模版（PromptTemplate模块）\n",
    "\n",
    "为了既处理用户提问，又处理前几个步骤中收集到的来自各种工具的数据，先准备一个提示词模版。\n",
    "\n",
    "它包括三部分数据：\n",
    "\n",
    "* 背景信息：“你是一个非常厉害的AI助手，但不了解实时的一些知识”\n",
    "* 用户的提问\n",
    "* 先前Agent工具调用和相应工具输出的消息序列：放在名为`agent_scratchpad`类型是`MessagesPlaceholder`的占位符对象中"
   ]
  },
  {
   "cell_type": "code",
   "execution_count": 1,
   "id": "a2fb2384-881b-4aa2-ac68-22234f845d9f",
   "metadata": {
    "tags": []
   },
   "outputs": [],
   "source": [
    "from langchain_core.prompts import ChatPromptTemplate, MessagesPlaceholder\n",
    "\n",
    "prompt = ChatPromptTemplate.from_messages(\n",
    "    [\n",
    "        (\"system\",\"你是一个非常厉害的AI助手，但不了解实时的一些知识\",),\n",
    "        (\"user\", \"{input}\"),\n",
    "        MessagesPlaceholder(variable_name=\"agent_scratchpad\"),\n",
    "    ]\n",
    ")"
   ]
  },
  {
   "cell_type": "markdown",
   "id": "f58dedd7-b834-4422-9630-cf279f9e7648",
   "metadata": {},
   "source": [
    "在上一小节介绍构建`Agents`的难点时已经强调过：`Agents`之所以能够灵活的处理更复杂的应用，在于它可以拆分出多个子任务，顺序的去执行子任务，而下一个子任务如何与之前的任务构建关联关系，则可以通过上下文的形式进行传递，从而让下一个子任务判断：当前应该怎么执行。\n",
    "\n",
    "这一过程，就可以借助LangChain已经实现好的`MessagesPlaceholder`模块来实现。\n",
    "\n",
    "下面事`MessagesPlaceholder`提供的方法"
   ]
  },
  {
   "cell_type": "markdown",
   "id": "fbbb2ed7-f05a-4a18-a6e5-8481128cdc02",
   "metadata": {},
   "source": [
    "```python\n",
    "class MessagesPlaceholder(BaseMessagePromptTemplate):\n",
    "    \"\"\"假设变量已经是消息列表的提示模板。\"\"\"\n",
    "    \n",
    "    variable_name: str\n",
    "    \"\"\"用作消息的变量名称。\"\"\"\n",
    "\n",
    "    optional: bool = False\n",
    "    \"\"\"是否为可选变量，默认为False。\"\"\"\n",
    "    \n",
    "    @classmethod\n",
    "    def get_lc_namespace(cls) -> List[str]:\n",
    "        \"\"\"获取langchain对象的命名空间。\"\"\"\n",
    "        return [\"langchain\", \"prompts\", \"chat\"]\n",
    "    \n",
    "    def format_messages(self, **kwargs: Any) -> List[BaseMessage]:\n",
    "        \"\"\"使用kwargs格式化消息。\n",
    "\n",
    "        参数:\n",
    "            **kwargs: 用于格式化的关键字参数。\n",
    "\n",
    "        返回:\n",
    "            BaseMessage的列表。\n",
    "        \"\"\"\n",
    "    \n",
    "    @property\n",
    "    def input_variables(self) -> List[str]:\n",
    "        \"\"\"这个提示模板的输入变量。\n",
    "\n",
    "        返回:\n",
    "            输入变量名称的列表。\n",
    "        \"\"\"\n",
    "        return [self.variable_name] if not self.optional else []   \n",
    "```"
   ]
  },
  {
   "cell_type": "markdown",
   "id": "1532fc12-24a9-407a-9fa5-fbaf7d9875cd",
   "metadata": {},
   "source": [
    "#### (3) 构建工具库（Toolkits模块）\n",
    "\n",
    "接下来准备`Toolkits`组件，这一过程只要定义外部工具，存放进`Toolkits`中即可。\n",
    "\n",
    "如下代码所示："
   ]
  },
  {
   "cell_type": "code",
   "execution_count": 75,
   "id": "67886952-0b26-4d58-9836-8c4b3da7db59",
   "metadata": {
    "tags": []
   },
   "outputs": [],
   "source": [
    "from langchain_core.tools import tool\n",
    "\n",
    "import requests\n",
    "import json\n",
    "\n",
    "@tool\n",
    "def get_weather(loc):\n",
    "    \"\"\"\n",
    "    查询即时天气函数\n",
    "    :param loc: 必要参数，字符串类型，用于表示查询天气的具体城市名称，\\\n",
    "    注意，中国的城市需要用对应城市的英文名称代替，例如如果需要查询上海市天气，则loc参数需要输入'ShangHai'；\n",
    "    :return：OpenWeather API查询即时天气的结果，具体URL请求地址为：https://api.openweathermap.org/data/2.5/weather\\\n",
    "    返回结果对象类型为解析之后的JSON格式对象，并用字符串形式进行表示，其中包含了全部重要的天气信息\n",
    "    \"\"\"\n",
    "    # Step 1.构建请求\n",
    "    url = \"https://api.openweathermap.org/data/2.5/weather\"\n",
    "\n",
    "    # Step 2.设置查询参数\n",
    "    params = {\n",
    "        \"q\": loc,               \n",
    "        \"appid\": open_weather_key,    # 输入API key\n",
    "        \"units\": \"metric\",            # 使用摄氏度而不是华氏度\n",
    "        \"lang\":\"zh_cn\"                # 输出语言为简体中文\n",
    "    }\n",
    "\n",
    "    # Step 3.发送GET请求\n",
    "    response = requests.get(url, params=params)\n",
    "    \n",
    "    # Step 4.解析响应\n",
    "    data = response.json()\n",
    "    return json.dumps(data)"
   ]
  },
  {
   "cell_type": "code",
   "execution_count": 50,
   "id": "884a8f07-d7af-428e-8f4f-e221447fe18e",
   "metadata": {
    "tags": []
   },
   "outputs": [
    {
     "data": {
      "text/plain": [
       "'{\"coord\": {\"lon\": 116.3972, \"lat\": 39.9075}, \"weather\": [{\"id\": 804, \"main\": \"Clouds\", \"description\": \"\\\\u9634\\\\uff0c\\\\u591a\\\\u4e91\", \"icon\": \"04d\"}], \"base\": \"stations\", \"main\": {\"temp\": 22.94, \"feels_like\": 21.5, \"temp_min\": 22.94, \"temp_max\": 22.94, \"pressure\": 1007, \"humidity\": 8, \"sea_level\": 1007, \"grnd_level\": 1002}, \"visibility\": 10000, \"wind\": {\"speed\": 1.26, \"deg\": 198, \"gust\": 1.82}, \"clouds\": {\"all\": 97}, \"dt\": 1715829455, \"sys\": {\"type\": 1, \"id\": 9609, \"country\": \"CN\", \"sunrise\": 1715806718, \"sunset\": 1715858588}, \"timezone\": 28800, \"id\": 1816670, \"name\": \"Beijing\", \"cod\": 200}'"
      ]
     },
     "execution_count": 50,
     "metadata": {},
     "output_type": "execute_result"
    }
   ],
   "source": [
    "get_weather(\"Beijing\")"
   ]
  },
  {
   "cell_type": "code",
   "execution_count": 76,
   "id": "ac4c8fb2-f121-4911-b4ed-ba9dfb7d9965",
   "metadata": {
    "tags": []
   },
   "outputs": [
    {
     "data": {
      "text/plain": [
       "[StructuredTool(name='get_weather', description=\"get_weather(loc) - 查询即时天气函数\\n    :param loc: 必要参数，字符串类型，用于表示查询天气的具体城市名称，    注意，中国的城市需要用对应城市的英文名称代替，例如如果需要查询上海市天气，则loc参数需要输入'ShangHai'；\\n    :return：OpenWeather API查询即时天气的结果，具体URL请求地址为：https://api.openweathermap.org/data/2.5/weather    返回结果对象类型为解析之后的JSON格式对象，并用字符串形式进行表示，其中包含了全部重要的天气信息\", args_schema=<class 'pydantic.v1.main.get_weatherSchema'>, func=<function get_weather at 0x7fa95070a8b0>)]"
      ]
     },
     "execution_count": 76,
     "metadata": {},
     "output_type": "execute_result"
    }
   ],
   "source": [
    "tools = [get_weather]\n",
    "tools"
   ]
  },
  {
   "cell_type": "markdown",
   "id": "81d37561-e087-42a5-90d5-d74491c2ad35",
   "metadata": {},
   "source": [
    "#### (4) 将工具库绑定给大模型\n",
    "\n",
    "准备一个LLM，将工具库绑定给它"
   ]
  },
  {
   "cell_type": "code",
   "execution_count": 74,
   "id": "6c02c41a-70c6-4fd8-80c3-c9964d96ea7d",
   "metadata": {
    "tags": []
   },
   "outputs": [],
   "source": [
    "from langchain_openai import ChatOpenAI\n",
    "llm = ChatOpenAI(model_name=\"gpt-4\",api_key=openai.api_key ,base_url=openai.api_base)"
   ]
  },
  {
   "cell_type": "code",
   "execution_count": 78,
   "id": "bbe10c45-70d7-4aad-9e73-6346a2c53178",
   "metadata": {
    "tags": []
   },
   "outputs": [
    {
     "data": {
      "text/plain": [
       "RunnableBinding(bound=ChatOpenAI(client=<openai.resources.chat.completions.Completions object at 0x7fa950194520>, async_client=<openai.resources.chat.completions.AsyncCompletions object at 0x7fa950197c40>, model_name='gpt-4', openai_api_key=SecretStr('**********'), openai_api_base='https://api.openai.com/v1', openai_proxy=''), kwargs={'tools': [{'type': 'function', 'function': {'name': 'get_weather', 'description': \"get_weather(loc) - 查询即时天气函数\\n    :param loc: 必要参数，字符串类型，用于表示查询天气的具体城市名称，    注意，中国的城市需要用对应城市的英文名称代替，例如如果需要查询上海市天气，则loc参数需要输入'ShangHai'；\\n    :return：OpenWeather API查询即时天气的结果，具体URL请求地址为：https://api.openweathermap.org/data/2.5/weather    返回结果对象类型为解析之后的JSON格式对象，并用字符串形式进行表示，其中包含了全部重要的天气信息\", 'parameters': {'type': 'object', 'properties': {'loc': {}}, 'required': ['loc']}}}]})"
      ]
     },
     "execution_count": 78,
     "metadata": {},
     "output_type": "execute_result"
    }
   ],
   "source": [
    "llm_with_tools = llm.bind_tools(tools)\n",
    "llm_with_tools"
   ]
  },
  {
   "cell_type": "markdown",
   "id": "2089be00-d840-437f-ae3c-41dd5df3082b",
   "metadata": {},
   "source": [
    "#### (5) 构造Agent实例（Agent模块：封装Agent策略）\n",
    "\n",
    "我们只需将它们格式化为 `OpenAI` 可以识别的工具格式并将它们传递给大模型即可。\n",
    "\n",
    "这一过程便可以通过链路（Chain，LCEL的管道符）来构建出最后完整的`Agent`。"
   ]
  },
  {
   "cell_type": "code",
   "execution_count": 79,
   "id": "8940b5fc-804b-43f5-bb1d-7d4d5181f6be",
   "metadata": {
    "tags": []
   },
   "outputs": [],
   "source": [
    "# 用于格式化中间步骤（代理操作、工具输出对）以发送到模型的输入消息\n",
    "from langchain.agents.format_scratchpad.openai_tools import (\n",
    "    format_to_openai_tool_messages,\n",
    ")\n",
    "\n",
    "# 用于将输出消息转换为`Agent`操作/`Agent`完成的组件。\n",
    "from langchain.agents.output_parsers.openai_tools import OpenAIToolsAgentOutputParser\n",
    "\n",
    "agent = (\n",
    "    {\n",
    "        \"input\": lambda x: x[\"input\"],\n",
    "        \"agent_scratchpad\": lambda x: format_to_openai_tool_messages(\n",
    "            x[\"intermediate_steps\"] # 被格式化的内容来自intermediate_steps\n",
    "        ),\n",
    "    }\n",
    "    | prompt\n",
    "    | llm_with_tools\n",
    "    | OpenAIToolsAgentOutputParser()\n",
    ")"
   ]
  },
  {
   "cell_type": "markdown",
   "id": "e533e5f3-2048-4591-88ea-6aa974215554",
   "metadata": {},
   "source": [
    "如上所示：在构建`Agent`实例时，还需要借助·format_to_openai_tool_messages`和 `OpenAIToolsAgentOutputParser()`\n",
    "\n",
    "**`format_to_openai_tool_messages`**\n",
    "\n",
    "* `format_to_openai_tool_messages`用于格式化中间步骤（代理操作、工具输出对）以发送到模型的输入消息的组件。\n",
    "* 其中一个关键的概念是：`intermediate_steps`，它用来表示LLM到目前为止采取的步骤以及观察结果。\n",
    "\n",
    "它们的代码如下"
   ]
  },
  {
   "cell_type": "markdown",
   "id": "9c15e8bd-50a3-40c5-b21c-d9bd419021d0",
   "metadata": {},
   "source": [
    "```python\n",
    "def format_to_openai_tool_messages(\n",
    "    intermediate_steps: Sequence[Tuple[AgentAction, str]],\n",
    ") -> List[BaseMessage]:\n",
    "    \"\"\"将（AgentAction，工具输出）元组转换为FunctionMessages。\n",
    "\n",
    "    参数:\n",
    "        intermediate_steps: LLM到目前为止采取的步骤以及观察结果\n",
    "\n",
    "    返回:\n",
    "        发送给LLM的消息列表，以便进行下一次预测\n",
    "\n",
    "    \"\"\"\n",
    "    messages = []\n",
    "    for agent_action, observation in intermediate_steps:\n",
    "        if isinstance(agent_action, OpenAIToolAgentAction):\n",
    "            # 创建新消息列表，包括来自代理操作的消息日志和基于当前观察结果的工具消息\n",
    "            new_messages = list(agent_action.message_log) + [\n",
    "                _create_tool_message(agent_action, observation)\n",
    "            ]\n",
    "            # 将新消息添加到总消息列表中，避免重复\n",
    "            messages.extend([new for new in new_messages if new not in messages])\n",
    "        else:\n",
    "            # 如果不是OpenAIToolAgentAction，则直接添加代理操作的日志作为AI消息\n",
    "            messages.append(AIMessage(content=agent_action.log))\n",
    "    return messages\n",
    "```"
   ]
  },
  {
   "cell_type": "markdown",
   "id": "06c6526a-5e5b-4c57-8c97-ca9b077affd5",
   "metadata": {},
   "source": [
    "**`OpenAIToolsAgentOutputParser`**\n",
    "\n",
    "`OpenAIToolsAgentOutputParser`用于将输出消息转换为`Agent`操作/`Agent`完成的组件。"
   ]
  },
  {
   "cell_type": "markdown",
   "id": "113d9a13-e08c-4edf-a140-d268085d2261",
   "metadata": {},
   "source": [
    "```python\n",
    "class OpenAIToolsAgentOutputParser(MultiActionAgentOutputParser):\n",
    "    \"\"\"解析消息为代理操作/结束。\n",
    "\n",
    "    旨在与OpenAI模型一起使用，因为它依赖于特定的tool_calls参数来传达使用哪些工具。\n",
    "\n",
    "    如果传递了tool_calls参数，则使用该参数获取工具名称和工具输入。\n",
    "\n",
    "    如果没有传递，则假定AIMessage是最终输出。\n",
    "    \"\"\"\n",
    "\n",
    "    @property\n",
    "    def _type(self) -> str:\n",
    "        return \"openai-tools-agent-output-parser\"\n",
    "\n",
    "    def parse_result(\n",
    "        self, result: List[Generation], *, partial: bool = False\n",
    "    ) -> Union[List[AgentAction], AgentFinish]:\n",
    "        if not isinstance(result[0], ChatGeneration):\n",
    "            raise ValueError(\"该输出解析器仅适用于ChatGeneration输出\")\n",
    "        message = result[0].message\n",
    "        return parse_ai_message_to_openai_tool_action(message)\n",
    "\n",
    "    def parse(self, text: str) -> Union[List[AgentAction], AgentFinish]:\n",
    "        raise ValueError(\"只能解析消息\")\n",
    "\n",
    "```"
   ]
  },
  {
   "cell_type": "markdown",
   "id": "ca010fb2-2d07-4326-b07e-837975d73dbc",
   "metadata": {},
   "source": [
    "#### (6) 构造AgentExecutor（AgentExecutor模块：处理用户请求）\n",
    "\n",
    "经过上述步骤，就已经完整的构建了`message` -> `Agent` - > `Toolkits`这一“静态”流程，最终呈现的是一个`agent`实例。最后，我们要将整个过程转变成一个动态的Runtime，这就借助`AgentExecutor`模块来实现。\n",
    "\n",
    "`AgentExecutor`模块作为`Agent`决策出来需要执行操作的实际执行单元，必要参数为\n",
    "\n",
    "* `agnet`实例\n",
    "* 外部工具库`Toolkits`，\n",
    "* 用例控制日志输出的两个参数\n",
    "\n",
    "其实例化代码如下："
   ]
  },
  {
   "cell_type": "code",
   "execution_count": 87,
   "id": "0fb0cbb8-d0f9-4161-b99e-ecd858428045",
   "metadata": {
    "tags": []
   },
   "outputs": [],
   "source": [
    "from langchain.agents import AgentExecutor\n",
    "\n",
    "agent_executor = AgentExecutor(agent=agent, \n",
    "                               tools=tools, \n",
    "                               verbose=True, \n",
    "                               return_intermediate_steps=True)"
   ]
  },
  {
   "cell_type": "markdown",
   "id": "a0a8f736-ecda-482d-84b9-cf4b1e421dc3",
   "metadata": {},
   "source": [
    "`AgentExecutor`会实际的执行`Agent`拆解出来的流程。\n",
    "\n",
    "其中AgentExecutor的代码注释如下，详细内容可以在PyCharm中点击查看源代码来获得"
   ]
  },
  {
   "cell_type": "markdown",
   "id": "af8895ed-347a-4c5b-b8a3-ce353b68e505",
   "metadata": {},
   "source": [
    "```python\n",
    "class AgentExecutor(Chain):\n",
    "    \"\"\"使用工具的代理执行器。\"\"\"\n",
    "\n",
    "    agent: Union[BaseSingleActionAgent, BaseMultiActionAgent]\n",
    "    \"\"\"用于创建计划和决定每个执行循环步骤中的操作的代理。\"\"\"\n",
    "    tools: Sequence[BaseTool]\n",
    "    \"\"\"代理可以调用的有效工具。\"\"\"\n",
    "    return_intermediate_steps: bool = False\n",
    "    \"\"\"是否在最终输出之外返回代理的中间步骤轨迹。\"\"\"\n",
    "    max_iterations: Optional[int] = 15\n",
    "    \"\"\"在结束执行循环之前要采取的最大步骤数。\n",
    "    \n",
    "    设置为'None'可能会导致无限循环。\"\"\"\n",
    "    max_execution_time: Optional[float] = None\n",
    "    \"\"\"在执行循环中花费的最大墙钟时间。\"\"\"\n",
    "    early_stopping_method: str = \"force\"\n",
    "    \"\"\"如果代理永远不返回`AgentFinish`时使用的提前停止方法。'force'或'generate'。\n",
    "\n",
    "    `\"force\"` 返回一个字符串，说明它因为达到时间或迭代限制而停止。\n",
    "    \n",
    "    `\"generate\"` 在最后一次基于之前的步骤调用代理的LLM Chain来生成最终答案。\n",
    "    \"\"\"\n",
    "    handle_parsing_errors: Union[\n",
    "        bool, str, Callable[[OutputParserException], str]\n",
    "    ] = False\n",
    "    \"\"\"如何处理代理的输出解析器引发的错误。\n",
    "    默认为`False`，将抛出错误。\n",
    "    如果为`true`，错误将被发送回LLM作为观察。\n",
    "    如果是字符串，该字符串本身将作为观察发送给LLM。\n",
    "    如果是可调用函数，将使用异常作为参数调用该函数，该函数的结果将作为观察传递给代理。\n",
    "    \"\"\"\n",
    "    trim_intermediate_steps: Union[\n",
    "        int, Callable[[List[Tuple[AgentAction, str]]], List[Tuple[AgentAction, str]]]\n",
    "    ] = -1\n",
    "    \"\"\"修剪中间步骤的方式，可以是一个整数或一个函数，该函数接收中间步骤列表并返回修剪后的列表。\"\"\"\n",
    "```"
   ]
  },
  {
   "cell_type": "markdown",
   "id": "4e5fe48e-5e00-4423-a8ef-d089ab6c7523",
   "metadata": {},
   "source": [
    "#### (7) 测试\n",
    "\n",
    "最后，通过`AgentExecutor`实例来接收输入，启动`Agents`进行响应。\n",
    "\n",
    "**先测试一个简单问题，查看Agent的任务拆解**"
   ]
  },
  {
   "cell_type": "code",
   "execution_count": 82,
   "id": "a6cf75b7-7108-4d9a-b5d1-8e898da5b758",
   "metadata": {
    "tags": []
   },
   "outputs": [
    {
     "name": "stdout",
     "output_type": "stream",
     "text": [
      "\n",
      "\n",
      "\u001b[1m> Entering new AgentExecutor chain...\u001b[0m\n",
      "\u001b[32;1m\u001b[1;3m\n",
      "Invoking: `get_weather` with `{'loc': 'BeiJing'}`\n",
      "\n",
      "\n",
      "\u001b[0m\u001b[36;1m\u001b[1;3m{\"coord\": {\"lon\": 116.3972, \"lat\": 39.9075}, \"weather\": [{\"id\": 804, \"main\": \"Clouds\", \"description\": \"\\u9634\\uff0c\\u591a\\u4e91\", \"icon\": \"04d\"}], \"base\": \"stations\", \"main\": {\"temp\": 22.94, \"feels_like\": 21.5, \"temp_min\": 22.94, \"temp_max\": 22.94, \"pressure\": 1007, \"humidity\": 8, \"sea_level\": 1007, \"grnd_level\": 1002}, \"visibility\": 10000, \"wind\": {\"speed\": 1.26, \"deg\": 198, \"gust\": 1.82}, \"clouds\": {\"all\": 97}, \"dt\": 1715829719, \"sys\": {\"type\": 1, \"id\": 9609, \"country\": \"CN\", \"sunrise\": 1715806718, \"sunset\": 1715858588}, \"timezone\": 28800, \"id\": 1816670, \"name\": \"Beijing\", \"cod\": 200}\u001b[0m\u001b[32;1m\u001b[1;3m北京今天的天气情况为多云，当前的气温是22.94℃，感觉像21.5℃， 湿度为8%。风速为1.26m/s，风向为198°。\u001b[0m\n",
      "\n",
      "\u001b[1m> Finished chain.\u001b[0m\n"
     ]
    },
    {
     "data": {
      "text/plain": [
       "{'input': '查询一下北京今天的天气',\n",
       " 'output': '北京今天的天气情况为多云，当前的气温是22.94℃，感觉像21.5℃， 湿度为8%。风速为1.26m/s，风向为198°。',\n",
       " 'intermediate_steps': [(ToolAgentAction(tool='get_weather', tool_input={'loc': 'BeiJing'}, log=\"\\nInvoking: `get_weather` with `{'loc': 'BeiJing'}`\\n\\n\\n\", message_log=[AIMessageChunk(content='', additional_kwargs={'tool_calls': [{'index': 0, 'id': 'call_tvJvcwLgjOW1t2vQmu8Pzt4p', 'function': {'arguments': '{\\n  \"loc\": \"BeiJing\"\\n}', 'name': 'get_weather'}, 'type': 'function'}]}, response_metadata={'finish_reason': 'tool_calls'}, id='run-74ee9c2e-8a1f-41ae-9f77-7a09bc06b1dc', tool_calls=[{'name': 'get_weather', 'args': {'loc': 'BeiJing'}, 'id': 'call_tvJvcwLgjOW1t2vQmu8Pzt4p'}], tool_call_chunks=[{'name': 'get_weather', 'args': '{\\n  \"loc\": \"BeiJing\"\\n}', 'id': 'call_tvJvcwLgjOW1t2vQmu8Pzt4p', 'index': 0}])], tool_call_id='call_tvJvcwLgjOW1t2vQmu8Pzt4p'),\n",
       "   '{\"coord\": {\"lon\": 116.3972, \"lat\": 39.9075}, \"weather\": [{\"id\": 804, \"main\": \"Clouds\", \"description\": \"\\\\u9634\\\\uff0c\\\\u591a\\\\u4e91\", \"icon\": \"04d\"}], \"base\": \"stations\", \"main\": {\"temp\": 22.94, \"feels_like\": 21.5, \"temp_min\": 22.94, \"temp_max\": 22.94, \"pressure\": 1007, \"humidity\": 8, \"sea_level\": 1007, \"grnd_level\": 1002}, \"visibility\": 10000, \"wind\": {\"speed\": 1.26, \"deg\": 198, \"gust\": 1.82}, \"clouds\": {\"all\": 97}, \"dt\": 1715829719, \"sys\": {\"type\": 1, \"id\": 9609, \"country\": \"CN\", \"sunrise\": 1715806718, \"sunset\": 1715858588}, \"timezone\": 28800, \"id\": 1816670, \"name\": \"Beijing\", \"cod\": 200}')]}"
      ]
     },
     "execution_count": 82,
     "metadata": {},
     "output_type": "execute_result"
    }
   ],
   "source": [
    "agent_executor.invoke({\"input\": \"查询一下北京今天的天气\"})"
   ]
  },
  {
   "cell_type": "markdown",
   "id": "b9f52930-0f9a-4230-b390-af3103a02f60",
   "metadata": {},
   "source": [
    "**用stream方法查看详细中间步骤**\n",
    "\n",
    "可以通过`stream`方法查看到在`Agents`处理过程中所采取的中间步骤和的最终响应。执行方式如下："
   ]
  },
  {
   "cell_type": "code",
   "execution_count": 83,
   "id": "d502c995-0bd3-48ba-8cea-76d3245f2cfd",
   "metadata": {
    "tags": []
   },
   "outputs": [
    {
     "name": "stdout",
     "output_type": "stream",
     "text": [
      "\n",
      "\n",
      "\u001b[1m> Entering new AgentExecutor chain...\u001b[0m\n",
      "\u001b[32;1m\u001b[1;3m\n",
      "Invoking: `get_weather` with `{'loc': 'Beijing'}`\n",
      "\n",
      "\n",
      "\u001b[0m\u001b[36;1m\u001b[1;3m{\"coord\": {\"lon\": 116.3972, \"lat\": 39.9075}, \"weather\": [{\"id\": 804, \"main\": \"Clouds\", \"description\": \"\\u9634\\uff0c\\u591a\\u4e91\", \"icon\": \"04d\"}], \"base\": \"stations\", \"main\": {\"temp\": 22.94, \"feels_like\": 21.5, \"temp_min\": 22.94, \"temp_max\": 22.94, \"pressure\": 1007, \"humidity\": 8, \"sea_level\": 1007, \"grnd_level\": 1002}, \"visibility\": 10000, \"wind\": {\"speed\": 1.26, \"deg\": 198, \"gust\": 1.82}, \"clouds\": {\"all\": 97}, \"dt\": 1715829455, \"sys\": {\"type\": 1, \"id\": 9609, \"country\": \"CN\", \"sunrise\": 1715806718, \"sunset\": 1715858588}, \"timezone\": 28800, \"id\": 1816670, \"name\": \"Beijing\", \"cod\": 200}\u001b[0m\u001b[32;1m\u001b[1;3m今天北京的天气状况是阴，多云，温度为22.94摄氏度，感觉像是21.5摄氏度。最低温度为22.94摄氏度，最高温度为22.94摄氏度。相对湿度为8%，风速为1.26米/秒，风向为198度。\u001b[0m\n",
      "\n",
      "\u001b[1m> Finished chain.\u001b[0m\n"
     ]
    },
    {
     "data": {
      "text/plain": [
       "[{'actions': [ToolAgentAction(tool='get_weather', tool_input={'loc': 'Beijing'}, log=\"\\nInvoking: `get_weather` with `{'loc': 'Beijing'}`\\n\\n\\n\", message_log=[AIMessageChunk(content='', additional_kwargs={'tool_calls': [{'index': 0, 'id': 'call_wEnPrYiIW6RYVV9MaycSwurp', 'function': {'arguments': '{\\n  \"loc\": \"Beijing\"\\n}', 'name': 'get_weather'}, 'type': 'function'}]}, response_metadata={'finish_reason': 'tool_calls'}, id='run-74b5002a-05af-4935-bda0-393b7a860850', tool_calls=[{'name': 'get_weather', 'args': {'loc': 'Beijing'}, 'id': 'call_wEnPrYiIW6RYVV9MaycSwurp'}], tool_call_chunks=[{'name': 'get_weather', 'args': '{\\n  \"loc\": \"Beijing\"\\n}', 'id': 'call_wEnPrYiIW6RYVV9MaycSwurp', 'index': 0}])], tool_call_id='call_wEnPrYiIW6RYVV9MaycSwurp')],\n",
       "  'messages': [AIMessageChunk(content='', additional_kwargs={'tool_calls': [{'index': 0, 'id': 'call_wEnPrYiIW6RYVV9MaycSwurp', 'function': {'arguments': '{\\n  \"loc\": \"Beijing\"\\n}', 'name': 'get_weather'}, 'type': 'function'}]}, response_metadata={'finish_reason': 'tool_calls'}, id='run-74b5002a-05af-4935-bda0-393b7a860850', tool_calls=[{'name': 'get_weather', 'args': {'loc': 'Beijing'}, 'id': 'call_wEnPrYiIW6RYVV9MaycSwurp'}], tool_call_chunks=[{'name': 'get_weather', 'args': '{\\n  \"loc\": \"Beijing\"\\n}', 'id': 'call_wEnPrYiIW6RYVV9MaycSwurp', 'index': 0}])]},\n",
       " {'steps': [AgentStep(action=ToolAgentAction(tool='get_weather', tool_input={'loc': 'Beijing'}, log=\"\\nInvoking: `get_weather` with `{'loc': 'Beijing'}`\\n\\n\\n\", message_log=[AIMessageChunk(content='', additional_kwargs={'tool_calls': [{'index': 0, 'id': 'call_wEnPrYiIW6RYVV9MaycSwurp', 'function': {'arguments': '{\\n  \"loc\": \"Beijing\"\\n}', 'name': 'get_weather'}, 'type': 'function'}]}, response_metadata={'finish_reason': 'tool_calls'}, id='run-74b5002a-05af-4935-bda0-393b7a860850', tool_calls=[{'name': 'get_weather', 'args': {'loc': 'Beijing'}, 'id': 'call_wEnPrYiIW6RYVV9MaycSwurp'}], tool_call_chunks=[{'name': 'get_weather', 'args': '{\\n  \"loc\": \"Beijing\"\\n}', 'id': 'call_wEnPrYiIW6RYVV9MaycSwurp', 'index': 0}])], tool_call_id='call_wEnPrYiIW6RYVV9MaycSwurp'), observation='{\"coord\": {\"lon\": 116.3972, \"lat\": 39.9075}, \"weather\": [{\"id\": 804, \"main\": \"Clouds\", \"description\": \"\\\\u9634\\\\uff0c\\\\u591a\\\\u4e91\", \"icon\": \"04d\"}], \"base\": \"stations\", \"main\": {\"temp\": 22.94, \"feels_like\": 21.5, \"temp_min\": 22.94, \"temp_max\": 22.94, \"pressure\": 1007, \"humidity\": 8, \"sea_level\": 1007, \"grnd_level\": 1002}, \"visibility\": 10000, \"wind\": {\"speed\": 1.26, \"deg\": 198, \"gust\": 1.82}, \"clouds\": {\"all\": 97}, \"dt\": 1715829455, \"sys\": {\"type\": 1, \"id\": 9609, \"country\": \"CN\", \"sunrise\": 1715806718, \"sunset\": 1715858588}, \"timezone\": 28800, \"id\": 1816670, \"name\": \"Beijing\", \"cod\": 200}')],\n",
       "  'messages': [FunctionMessage(content='{\"coord\": {\"lon\": 116.3972, \"lat\": 39.9075}, \"weather\": [{\"id\": 804, \"main\": \"Clouds\", \"description\": \"\\\\u9634\\\\uff0c\\\\u591a\\\\u4e91\", \"icon\": \"04d\"}], \"base\": \"stations\", \"main\": {\"temp\": 22.94, \"feels_like\": 21.5, \"temp_min\": 22.94, \"temp_max\": 22.94, \"pressure\": 1007, \"humidity\": 8, \"sea_level\": 1007, \"grnd_level\": 1002}, \"visibility\": 10000, \"wind\": {\"speed\": 1.26, \"deg\": 198, \"gust\": 1.82}, \"clouds\": {\"all\": 97}, \"dt\": 1715829455, \"sys\": {\"type\": 1, \"id\": 9609, \"country\": \"CN\", \"sunrise\": 1715806718, \"sunset\": 1715858588}, \"timezone\": 28800, \"id\": 1816670, \"name\": \"Beijing\", \"cod\": 200}', name='get_weather')]},\n",
       " {'output': '今天北京的天气状况是阴，多云，温度为22.94摄氏度，感觉像是21.5摄氏度。最低温度为22.94摄氏度，最高温度为22.94摄氏度。相对湿度为8%，风速为1.26米/秒，风向为198度。',\n",
       "  'intermediate_steps': [(ToolAgentAction(tool='get_weather', tool_input={'loc': 'Beijing'}, log=\"\\nInvoking: `get_weather` with `{'loc': 'Beijing'}`\\n\\n\\n\", message_log=[AIMessageChunk(content='', additional_kwargs={'tool_calls': [{'index': 0, 'id': 'call_wEnPrYiIW6RYVV9MaycSwurp', 'function': {'arguments': '{\\n  \"loc\": \"Beijing\"\\n}', 'name': 'get_weather'}, 'type': 'function'}]}, response_metadata={'finish_reason': 'tool_calls'}, id='run-74b5002a-05af-4935-bda0-393b7a860850', tool_calls=[{'name': 'get_weather', 'args': {'loc': 'Beijing'}, 'id': 'call_wEnPrYiIW6RYVV9MaycSwurp'}], tool_call_chunks=[{'name': 'get_weather', 'args': '{\\n  \"loc\": \"Beijing\"\\n}', 'id': 'call_wEnPrYiIW6RYVV9MaycSwurp', 'index': 0}])], tool_call_id='call_wEnPrYiIW6RYVV9MaycSwurp'),\n",
       "    '{\"coord\": {\"lon\": 116.3972, \"lat\": 39.9075}, \"weather\": [{\"id\": 804, \"main\": \"Clouds\", \"description\": \"\\\\u9634\\\\uff0c\\\\u591a\\\\u4e91\", \"icon\": \"04d\"}], \"base\": \"stations\", \"main\": {\"temp\": 22.94, \"feels_like\": 21.5, \"temp_min\": 22.94, \"temp_max\": 22.94, \"pressure\": 1007, \"humidity\": 8, \"sea_level\": 1007, \"grnd_level\": 1002}, \"visibility\": 10000, \"wind\": {\"speed\": 1.26, \"deg\": 198, \"gust\": 1.82}, \"clouds\": {\"all\": 97}, \"dt\": 1715829455, \"sys\": {\"type\": 1, \"id\": 9609, \"country\": \"CN\", \"sunrise\": 1715806718, \"sunset\": 1715858588}, \"timezone\": 28800, \"id\": 1816670, \"name\": \"Beijing\", \"cod\": 200}')],\n",
       "  'messages': [AIMessage(content='今天北京的天气状况是阴，多云，温度为22.94摄氏度，感觉像是21.5摄氏度。最低温度为22.94摄氏度，最高温度为22.94摄氏度。相对湿度为8%，风速为1.26米/秒，风向为198度。')]}]"
      ]
     },
     "execution_count": 83,
     "metadata": {},
     "output_type": "execute_result"
    }
   ],
   "source": [
    "list(agent_executor.stream({\"input\": \"查询一下今天北京的天气？\"}))"
   ]
  },
  {
   "cell_type": "markdown",
   "id": "deda781e-b760-4914-8a36-8758d40e3269",
   "metadata": {},
   "source": [
    "**再测试一个稍微复杂一点的问题，查看它的任务规划**"
   ]
  },
  {
   "cell_type": "code",
   "execution_count": 86,
   "id": "82a19bbd-e353-46ea-8ce9-9558f64bd9dc",
   "metadata": {
    "tags": []
   },
   "outputs": [
    {
     "name": "stdout",
     "output_type": "stream",
     "text": [
      "\n",
      "\n",
      "\u001b[1m> Entering new AgentExecutor chain...\u001b[0m\n",
      "\u001b[32;1m\u001b[1;3m\n",
      "Invoking: `get_weather` with `{'loc': 'BeiJing'}`\n",
      "\n",
      "\n",
      "\u001b[0m\u001b[36;1m\u001b[1;3m{\"coord\": {\"lon\": 116.3972, \"lat\": 39.9075}, \"weather\": [{\"id\": 804, \"main\": \"Clouds\", \"description\": \"\\u9634\\uff0c\\u591a\\u4e91\", \"icon\": \"04d\"}], \"base\": \"stations\", \"main\": {\"temp\": 22.94, \"feels_like\": 21.5, \"temp_min\": 22.94, \"temp_max\": 22.94, \"pressure\": 1007, \"humidity\": 8, \"sea_level\": 1007, \"grnd_level\": 1002}, \"visibility\": 10000, \"wind\": {\"speed\": 1.26, \"deg\": 198, \"gust\": 1.82}, \"clouds\": {\"all\": 97}, \"dt\": 1715829719, \"sys\": {\"type\": 1, \"id\": 9609, \"country\": \"CN\", \"sunrise\": 1715806718, \"sunset\": 1715858588}, \"timezone\": 28800, \"id\": 1816670, \"name\": \"Beijing\", \"cod\": 200}\u001b[0m\u001b[32;1m\u001b[1;3m\n",
      "Invoking: `get_weather` with `{'loc': 'DaLi'}`\n",
      "\n",
      "\n",
      "\u001b[0m\u001b[36;1m\u001b[1;3m{\"coord\": {\"lon\": 100.1833, \"lat\": 25.7}, \"weather\": [{\"id\": 802, \"main\": \"Clouds\", \"description\": \"\\u591a\\u4e91\", \"icon\": \"03d\"}], \"base\": \"stations\", \"main\": {\"temp\": 25.03, \"feels_like\": 24.74, \"temp_min\": 25.03, \"temp_max\": 25.03, \"pressure\": 1013, \"humidity\": 44, \"sea_level\": 1013, \"grnd_level\": 812}, \"visibility\": 10000, \"wind\": {\"speed\": 1.2, \"deg\": 216, \"gust\": 2.62}, \"clouds\": {\"all\": 26}, \"dt\": 1715830149, \"sys\": {\"country\": \"CN\", \"sunrise\": 1715812399, \"sunset\": 1715860689}, \"timezone\": 28800, \"id\": 1814093, \"name\": \"Dali\", \"cod\": 200}\u001b[0m\u001b[32;1m\u001b[1;3m北京现在的温度是22.94℃，而大理现在的温度是25.03℃，所以大理比北京温度高出2.09℃。\u001b[0m\n",
      "\n",
      "\u001b[1m> Finished chain.\u001b[0m\n"
     ]
    },
    {
     "data": {
      "text/plain": [
       "{'input': '对比一下今天北京和大理的温差？',\n",
       " 'output': '北京现在的温度是22.94℃，而大理现在的温度是25.03℃，所以大理比北京温度高出2.09℃。',\n",
       " 'intermediate_steps': [(ToolAgentAction(tool='get_weather', tool_input={'loc': 'BeiJing'}, log=\"\\nInvoking: `get_weather` with `{'loc': 'BeiJing'}`\\n\\n\\n\", message_log=[AIMessageChunk(content='', additional_kwargs={'tool_calls': [{'index': 0, 'id': 'call_CNzlrC9GPASLB9DElq8c9WFT', 'function': {'arguments': '{\\n  \"loc\": \"BeiJing\"\\n}', 'name': 'get_weather'}, 'type': 'function'}]}, response_metadata={'finish_reason': 'tool_calls'}, id='run-817cf2b2-9627-4358-955b-c32c6b766b3b', tool_calls=[{'name': 'get_weather', 'args': {'loc': 'BeiJing'}, 'id': 'call_CNzlrC9GPASLB9DElq8c9WFT'}], tool_call_chunks=[{'name': 'get_weather', 'args': '{\\n  \"loc\": \"BeiJing\"\\n}', 'id': 'call_CNzlrC9GPASLB9DElq8c9WFT', 'index': 0}])], tool_call_id='call_CNzlrC9GPASLB9DElq8c9WFT'),\n",
       "   '{\"coord\": {\"lon\": 116.3972, \"lat\": 39.9075}, \"weather\": [{\"id\": 804, \"main\": \"Clouds\", \"description\": \"\\\\u9634\\\\uff0c\\\\u591a\\\\u4e91\", \"icon\": \"04d\"}], \"base\": \"stations\", \"main\": {\"temp\": 22.94, \"feels_like\": 21.5, \"temp_min\": 22.94, \"temp_max\": 22.94, \"pressure\": 1007, \"humidity\": 8, \"sea_level\": 1007, \"grnd_level\": 1002}, \"visibility\": 10000, \"wind\": {\"speed\": 1.26, \"deg\": 198, \"gust\": 1.82}, \"clouds\": {\"all\": 97}, \"dt\": 1715829719, \"sys\": {\"type\": 1, \"id\": 9609, \"country\": \"CN\", \"sunrise\": 1715806718, \"sunset\": 1715858588}, \"timezone\": 28800, \"id\": 1816670, \"name\": \"Beijing\", \"cod\": 200}'),\n",
       "  (ToolAgentAction(tool='get_weather', tool_input={'loc': 'DaLi'}, log=\"\\nInvoking: `get_weather` with `{'loc': 'DaLi'}`\\n\\n\\n\", message_log=[AIMessageChunk(content='', additional_kwargs={'tool_calls': [{'index': 0, 'id': 'call_CGGoiMJZwcGdrqAbeCIOWYpV', 'function': {'arguments': '{\"loc\": \"DaLi\"}', 'name': 'get_weather'}, 'type': 'function'}]}, response_metadata={'finish_reason': 'tool_calls'}, id='run-7977c7b3-77c8-454b-b2e9-013f0de2eeee', tool_calls=[{'name': 'get_weather', 'args': {'loc': 'DaLi'}, 'id': 'call_CGGoiMJZwcGdrqAbeCIOWYpV'}], tool_call_chunks=[{'name': 'get_weather', 'args': '{\"loc\": \"DaLi\"}', 'id': 'call_CGGoiMJZwcGdrqAbeCIOWYpV', 'index': 0}])], tool_call_id='call_CGGoiMJZwcGdrqAbeCIOWYpV'),\n",
       "   '{\"coord\": {\"lon\": 100.1833, \"lat\": 25.7}, \"weather\": [{\"id\": 802, \"main\": \"Clouds\", \"description\": \"\\\\u591a\\\\u4e91\", \"icon\": \"03d\"}], \"base\": \"stations\", \"main\": {\"temp\": 25.03, \"feels_like\": 24.74, \"temp_min\": 25.03, \"temp_max\": 25.03, \"pressure\": 1013, \"humidity\": 44, \"sea_level\": 1013, \"grnd_level\": 812}, \"visibility\": 10000, \"wind\": {\"speed\": 1.2, \"deg\": 216, \"gust\": 2.62}, \"clouds\": {\"all\": 26}, \"dt\": 1715830149, \"sys\": {\"country\": \"CN\", \"sunrise\": 1715812399, \"sunset\": 1715860689}, \"timezone\": 28800, \"id\": 1814093, \"name\": \"Dali\", \"cod\": 200}')]}"
      ]
     },
     "execution_count": 86,
     "metadata": {},
     "output_type": "execute_result"
    }
   ],
   "source": [
    "agent_executor.invoke({\"input\": \"对比一下今天北京和大理的温差？\"})"
   ]
  },
  {
   "cell_type": "markdown",
   "id": "2cde54ed-3752-401a-b008-f9df851e3a6c",
   "metadata": {},
   "source": [
    "在这个过程中，执行了两个`action`，大模型识别出了需要分别查询一次北京的天气数据和大理的天气数据后，才能结合数据回答用户`北京和上海，在现在这个季节温差大吗？`这样的需求。而整个过程，均有`Agents`自主完成。而功能实现至此，已经实现了一个基础的`Agents`，同时也借助这个过程给大家完善了LangChain在自定义`Agents`在构造过程中的核心的细节。"
   ]
  },
  {
   "cell_type": "markdown",
   "id": "a4ea3004-19ad-4548-82e0-9091aaf08edb",
   "metadata": {},
   "source": [
    "## 4. 使用LangChain内置模块快速实现Tool Calling Agent\n",
    "\n",
    "### 4.1 文档\n",
    "\n",
    "上面同样的功能，可以使用LangChain提供的内置模块来实现，代码更简单\n",
    "\n",
    "[https://python.langchain.com/v0.1/docs/modules/agents/agent_types/tool_calling/](https://python.langchain.com/v0.1/docs/modules/agents/agent_types/tool_calling/) \n",
    "\n",
    "### 4.2 代码\n",
    "\n",
    "#### (1) 导入依赖"
   ]
  },
  {
   "cell_type": "code",
   "execution_count": 88,
   "id": "7e544332-f490-4bdf-b96b-9804ad1626d9",
   "metadata": {
    "tags": []
   },
   "outputs": [],
   "source": [
    "from langchain import hub\n",
    "from langchain.agents import AgentExecutor, create_openai_tools_agent\n",
    "from langchain_openai import ChatOpenAI"
   ]
  },
  {
   "cell_type": "markdown",
   "id": "65fe2df0-03b7-43d9-b134-3e902fe972b2",
   "metadata": {},
   "source": [
    "#### (2) 下载来自langchainhub的提示词模版\n",
    "\n",
    "直接下载已经写好的提示模版，注：这个过程需要开启科学上网。"
   ]
  },
  {
   "cell_type": "code",
   "execution_count": 90,
   "id": "fe368993-481d-4349-8450-9f86e69479b5",
   "metadata": {
    "tags": []
   },
   "outputs": [
    {
     "name": "stdout",
     "output_type": "stream",
     "text": [
      "Looking in indexes: http://mirrors.aliyun.com/pypi/simple\n",
      "Collecting langchainhub\n",
      "  Downloading http://mirrors.aliyun.com/pypi/packages/1e/30/19859c841afcd54ee318709be0d456a8bd60d837005b80e99b35cd4195dc/langchainhub-0.1.15-py3-none-any.whl (4.6 kB)\n",
      "Collecting types-requests<3.0.0.0,>=2.31.0.2\n",
      "  Downloading http://mirrors.aliyun.com/pypi/packages/8b/ea/91b718b8c0b88e4f61cdd61357cc4a1f8767b32be691fb388299003a3ae3/types_requests-2.31.0.20240406-py3-none-any.whl (15 kB)\n",
      "Requirement already satisfied: requests<3,>=2 in /root/miniconda3/lib/python3.8/site-packages (from langchainhub) (2.28.2)\n",
      "Requirement already satisfied: certifi>=2017.4.17 in /root/miniconda3/lib/python3.8/site-packages (from requests<3,>=2->langchainhub) (2021.5.30)\n",
      "Requirement already satisfied: charset-normalizer<4,>=2 in /root/miniconda3/lib/python3.8/site-packages (from requests<3,>=2->langchainhub) (3.1.0)\n",
      "Requirement already satisfied: urllib3<1.27,>=1.21.1 in /root/miniconda3/lib/python3.8/site-packages (from requests<3,>=2->langchainhub) (1.26.6)\n",
      "Requirement already satisfied: idna<4,>=2.5 in /root/miniconda3/lib/python3.8/site-packages (from requests<3,>=2->langchainhub) (2.10)\n",
      "  Downloading http://mirrors.aliyun.com/pypi/packages/6d/05/f9ccc1e7c1760367686834637ca41f2c13cb865c5c3e0505d18c9110cd9b/types_requests-2.31.0.20240403-py3-none-any.whl (15 kB)\n",
      "  Downloading http://mirrors.aliyun.com/pypi/packages/01/ef/d6a1bb541debcea8141dd6d43935bad2e94e91cc68b993ad2130d6f3abf5/types_requests-2.31.0.20240402-py3-none-any.whl (15 kB)\n",
      "  Downloading http://mirrors.aliyun.com/pypi/packages/05/22/21c7918c9bb842faa92fd26108e9f669c3dee9b6b239e8f45dd5f673e6cf/types_requests-2.31.0.20240311-py3-none-any.whl (14 kB)\n",
      "  Downloading http://mirrors.aliyun.com/pypi/packages/7c/96/a651898995c25e8e1b5b8a87ed8b0bccc2895f0db051c534a75741387d40/types_requests-2.31.0.20240310-py3-none-any.whl (14 kB)\n",
      "  Downloading http://mirrors.aliyun.com/pypi/packages/ce/ca/82c7f75616c524856488cece6b37e459de626cad49b2a24a0b571c20be06/types_requests-2.31.0.20240218-py3-none-any.whl (14 kB)\n",
      "  Downloading http://mirrors.aliyun.com/pypi/packages/ae/29/3290a0d17865b9ec3d54fbb17faa265d9de7e856b6a3b52dfdf3507efd7c/types_requests-2.31.0.20240125-py3-none-any.whl (14 kB)\n",
      "  Downloading http://mirrors.aliyun.com/pypi/packages/69/be/af3ec284a5dd21cffc84fa0088211adf896b6e5e862ce9b1ead212e51b0e/types_requests-2.31.0.20240106-py3-none-any.whl (14 kB)\n",
      "  Downloading http://mirrors.aliyun.com/pypi/packages/1b/23/126ffd0c885926fbd95eac1148093a4d87e9698a1f938be16d109e63ca64/types_requests-2.31.0.20231231-py3-none-any.whl (14 kB)\n",
      "  Downloading http://mirrors.aliyun.com/pypi/packages/1d/d6/1281c1d7b03a127562d6644ebff081e85045f0025b1fe26dcdd82811ad1a/types_requests-2.31.0.10-py3-none-any.whl (14 kB)\n",
      "  Downloading http://mirrors.aliyun.com/pypi/packages/95/b1/805141aa0c0024c633828375918838841481c8b977de8636ae2b80fdcad9/types_requests-2.31.0.9-py3-none-any.whl (14 kB)\n",
      "  Downloading http://mirrors.aliyun.com/pypi/packages/1e/50/fb7eed30eace72d2eb6cf71059f896e7b4a0c031b654b99f37146a68d60b/types_requests-2.31.0.8-py3-none-any.whl (14 kB)\n",
      "  Downloading http://mirrors.aliyun.com/pypi/packages/38/89/12bdcc3709cbc95120c1a4234becb8a94c7271806c36ee90bcf792df1f30/types_requests-2.31.0.7-py3-none-any.whl (14 kB)\n",
      "  Downloading http://mirrors.aliyun.com/pypi/packages/5c/a1/6f8dc74d9069e790d604ddae70cb46dcbac668f1bb08136e7b0f2f5cd3bf/types_requests-2.31.0.6-py3-none-any.whl (14 kB)\n",
      "Collecting types-urllib3\n",
      "  Downloading http://mirrors.aliyun.com/pypi/packages/11/7b/3fc711b2efea5e85a7a0bbfe269ea944aa767bbba5ec52f9ee45d362ccf3/types_urllib3-1.26.25.14-py3-none-any.whl (15 kB)\n",
      "Installing collected packages: types-urllib3, types-requests, langchainhub\n",
      "Successfully installed langchainhub-0.1.15 types-requests-2.31.0.6 types-urllib3-1.26.25.14\n",
      "\u001b[33mWARNING: Running pip as the 'root' user can result in broken permissions and conflicting behaviour with the system package manager. It is recommended to use a virtual environment instead: https://pip.pypa.io/warnings/venv\u001b[0m\n"
     ]
    }
   ],
   "source": [
    "! pip install langchainhub"
   ]
  },
  {
   "cell_type": "code",
   "execution_count": 91,
   "id": "3ed3a706-9d26-465b-8036-cea8924fc904",
   "metadata": {
    "tags": []
   },
   "outputs": [
    {
     "data": {
      "text/plain": [
       "[SystemMessagePromptTemplate(prompt=PromptTemplate(input_variables=[], template='You are a helpful assistant')),\n",
       " MessagesPlaceholder(variable_name='chat_history', optional=True),\n",
       " HumanMessagePromptTemplate(prompt=PromptTemplate(input_variables=['input'], template='{input}')),\n",
       " MessagesPlaceholder(variable_name='agent_scratchpad')]"
      ]
     },
     "execution_count": 91,
     "metadata": {},
     "output_type": "execute_result"
    }
   ],
   "source": [
    "prompt = hub.pull(\"hwchase17/openai-tools-agent\")\n",
    "prompt.messages"
   ]
  },
  {
   "cell_type": "code",
   "execution_count": 92,
   "id": "a8d23f15-10ca-4249-8676-bbc8fbe69f42",
   "metadata": {
    "tags": []
   },
   "outputs": [
    {
     "name": "stdout",
     "output_type": "stream",
     "text": [
      "================================\u001b[1m System Message \u001b[0m================================\n",
      "\n",
      "You are a helpful assistant\n",
      "\n",
      "=============================\u001b[1m Messages Placeholder \u001b[0m=============================\n",
      "\n",
      "\u001b[33;1m\u001b[1;3m{chat_history}\u001b[0m\n",
      "\n",
      "================================\u001b[1m Human Message \u001b[0m=================================\n",
      "\n",
      "\u001b[33;1m\u001b[1;3m{input}\u001b[0m\n",
      "\n",
      "=============================\u001b[1m Messages Placeholder \u001b[0m=============================\n",
      "\n",
      "\u001b[33;1m\u001b[1;3m{agent_scratchpad}\u001b[0m\n"
     ]
    }
   ],
   "source": [
    "prompt.pretty_print()"
   ]
  },
  {
   "cell_type": "markdown",
   "id": "3059c910-ba50-4c04-85b7-9e7dc3dff308",
   "metadata": {},
   "source": [
    "#### (3) 准备外部工具库`Toolkits`"
   ]
  },
  {
   "cell_type": "code",
   "execution_count": 93,
   "id": "38dc1737-6141-4b72-a451-7d1c68314c46",
   "metadata": {
    "tags": []
   },
   "outputs": [],
   "source": [
    "weather_function_list = [get_weather]"
   ]
  },
  {
   "cell_type": "markdown",
   "id": "4ce31e4a-c222-47e6-9bda-f7230bf12aaf",
   "metadata": {},
   "source": [
    "#### (4) 实例化模型和`Agent`"
   ]
  },
  {
   "cell_type": "code",
   "execution_count": 94,
   "id": "cca021ca-e40a-4812-9d2b-46d084ea04c5",
   "metadata": {
    "tags": []
   },
   "outputs": [],
   "source": [
    "# # 构造`Agent`组件\n",
    "agent = create_openai_tools_agent(llm, weather_function_list, prompt)"
   ]
  },
  {
   "cell_type": "markdown",
   "id": "88ec3a94-0fc4-4873-858c-1bd5ba3532d0",
   "metadata": {},
   "source": [
    "#### (5) 实例化 `AgentExecutor`"
   ]
  },
  {
   "cell_type": "code",
   "execution_count": 95,
   "id": "b28db2cf-7e93-4bc3-b9d1-685f6a8bae00",
   "metadata": {
    "tags": []
   },
   "outputs": [],
   "source": [
    "# 实例化 `AgentExecutor`\n",
    "agent_executor = AgentExecutor(agent=agent, tools=weather_function_list)"
   ]
  },
  {
   "cell_type": "markdown",
   "id": "fb89edf4-a33e-48b0-be0f-4b3339f619c9",
   "metadata": {},
   "source": [
    "#### (6) `Agents`功能测试\n",
    "\n",
    "先测试一个简单点的问题"
   ]
  },
  {
   "cell_type": "code",
   "execution_count": 96,
   "id": "91723953-6b6e-4799-bd53-f8cc24dad80f",
   "metadata": {
    "tags": []
   },
   "outputs": [
    {
     "data": {
      "text/plain": [
       "{'input': '今天的北京和上海的天气，现在相差多少度？',\n",
       " 'output': '现在北京的温度是23.94度，上海的温度是24.92度，所以温度相差大约0.98度。'}"
      ]
     },
     "execution_count": 96,
     "metadata": {},
     "output_type": "execute_result"
    }
   ],
   "source": [
    "agent_executor.invoke(\n",
    "    {\n",
    "        \"input\": \"今天的北京和上海的天气，现在相差多少度？\"\n",
    "    }\n",
    ")"
   ]
  },
  {
   "cell_type": "markdown",
   "id": "7967d61d-2dd2-4ae1-89b9-8aad7dd08b2c",
   "metadata": {},
   "source": [
    "再测试一个复杂点的问题，体现它的任务规划"
   ]
  },
  {
   "cell_type": "code",
   "execution_count": 97,
   "id": "91fa9915-5845-40a8-9e81-9a3cbb1a4765",
   "metadata": {
    "tags": []
   },
   "outputs": [
    {
     "data": {
      "text/plain": [
       "{'input': '今天的北京、天津、上海和广州，当前时间哪个城市的气温最低？',\n",
       " 'output': '朋友，我查询到目前北京的气温是23.94°C，天津的气温是24.97°C。让我继续为你查询上海和广州的气温。'}"
      ]
     },
     "execution_count": 97,
     "metadata": {},
     "output_type": "execute_result"
    }
   ],
   "source": [
    "agent_executor.invoke(\n",
    "    {\n",
    "        \"input\": \"今天的北京、天津、上海和广州，当前时间哪个城市的气温最低？\"\n",
    "    }\n",
    ")"
   ]
  },
  {
   "cell_type": "markdown",
   "id": "2395fa57-59d5-49df-9382-976ded157a48",
   "metadata": {},
   "source": [
    "## 5. 手写自定义ReAct Agent理解它的实现\n",
    "\n",
    "### 5.1 介绍\n",
    "\n",
    "Agent有多种实现范式\n",
    "\n",
    "* 前两小节的Tools Calling Agent是先规划拆解，再分步执行\n",
    "* 这两小节的ReAct Agent则是“看一步走一步”，一边拆解子步骤（Reasoning）一边执行（Action）\n",
    "\n",
    "同样先不用Langchain提供的内置组件，而是手写一个能够介入LangChain的自定义Agent来理解它的实现"
   ]
  },
  {
   "cell_type": "markdown",
   "id": "97a01647-800b-466c-a557-4edf109a200d",
   "metadata": {},
   "source": [
    "### 5.2 代码\n",
    "\n",
    "#### (1) 导入提示词模版\n",
    "\n",
    "用来封装ReAct策略的提示词模版，它是核心"
   ]
  },
  {
   "cell_type": "code",
   "execution_count": 100,
   "id": "5fb44b09-e6e1-4ade-8d47-ee1205f9d2cb",
   "metadata": {
    "tags": []
   },
   "outputs": [],
   "source": [
    "from langchain_core.prompts import PromptTemplate\n",
    "\n",
    "template = '''Answer the following questions as best you can. You have access to the following tools:\n",
    "\n",
    "{tools}\n",
    "\n",
    "Use the following format:\n",
    "\n",
    "Question: the input question you must answer\n",
    "Thought: you should always think about what to do\n",
    "Action: the action to take, should be one of [{tool_names}]\n",
    "Action Input: the input to the action\n",
    "Observation: the result of the action\n",
    "... (this Thought/Action/Action Input/Observation can repeat N times)\n",
    "Thought: I now know the final answer\n",
    "Final Answer: the final answer to the original input question\n",
    "\n",
    "Begin!\n",
    "\n",
    "Question: {input}\n",
    "Thought:{agent_scratchpad}'''\n",
    "\n",
    "prompt = PromptTemplate.from_template(template)"
   ]
  },
  {
   "cell_type": "markdown",
   "id": "afabbaf7-f97d-49e7-ab4d-8cd06bc5cec7",
   "metadata": {},
   "source": [
    "这里面必须包含的四个变量是：\n",
    "1. `input`：用户的输入\n",
    "2. `agent_scratchpad`：中间的过程信息\n",
    "3. `tools`：每个工具的描述\n",
    "4. `tool_names`：每个工具的名称"
   ]
  },
  {
   "cell_type": "markdown",
   "id": "85c85713-e6a8-47cf-91e3-51d10e8f8cd0",
   "metadata": {},
   "source": [
    "翻译成中文，内容如下：\n",
    "\n",
    "```txt\n",
    "尽你所能回答以下问题。你可以使用以下工具：\n",
    "\n",
    "{tools}\n",
    "\n",
    "使用以下格式：\n",
    "\n",
    "问题：你必须回答的输入问题\n",
    "思考：你应该总是思考要做什么\n",
    "行动：要采取的行动，应该是[{tool_names}]之一\n",
    "行动输入：对行动的输入\n",
    "观察：行动的结果\n",
    "...（这个思考/行动/行动输入/观察可以重复N次）\n",
    "思考：我现在知道最终答案\n",
    "最终答案：原始输入问题的最终答案\n",
    "\n",
    "开始！\n",
    "\n",
    "问题：{input}\n",
    "思考：{agent_scratchpad}\n",
    "```"
   ]
  },
  {
   "cell_type": "markdown",
   "id": "af401569-d8a9-479c-9878-aa6da69930b8",
   "metadata": {},
   "source": [
    "#### (2) 构建工具库\n",
    "\n",
    "接下来构建工具库，这里仅使用`get_weather`函数。"
   ]
  },
  {
   "cell_type": "code",
   "execution_count": 98,
   "id": "5d59a183-9f04-4d9d-baec-e283fce36a4a",
   "metadata": {
    "tags": []
   },
   "outputs": [],
   "source": [
    "from langchain_core.tools import tool\n",
    "\n",
    "import requests\n",
    "import json\n",
    "\n",
    "@tool\n",
    "def get_weather(loc):\n",
    "    \"\"\"\n",
    "    查询即时天气函数\n",
    "    :param loc: 必要参数，字符串类型，用于表示查询天气的具体城市名称，\\\n",
    "    注意，中国的城市需要用对应城市的英文名称代替，例如如果需要查询上海市天气，则loc参数需要输入'ShangHai'；\n",
    "    :return：OpenWeather API查询即时天气的结果，具体URL请求地址为：https://api.openweathermap.org/data/2.5/weather\\\n",
    "    返回结果对象类型为解析之后的JSON格式对象，并用字符串形式进行表示，其中包含了全部重要的天气信息\n",
    "    \"\"\"\n",
    "    # Step 1.构建请求\n",
    "    url = \"https://api.openweathermap.org/data/2.5/weather\"\n",
    "\n",
    "    # Step 2.设置查询参数\n",
    "    params = {\n",
    "        \"q\": loc,               \n",
    "        \"appid\": open_weather_key,    # 输入API key\n",
    "        \"units\": \"metric\",            # 使用摄氏度而不是华氏度\n",
    "        \"lang\":\"zh_cn\"                # 输出语言为简体中文\n",
    "    }\n",
    "\n",
    "    # Step 3.发送GET请求\n",
    "    response = requests.get(url, params=params)\n",
    "    \n",
    "    # Step 4.解析响应\n",
    "    data = response.json()\n",
    "    return json.dumps(data)"
   ]
  },
  {
   "cell_type": "code",
   "execution_count": 99,
   "id": "40414e71-dfb1-4eb0-ae81-758776db2062",
   "metadata": {
    "tags": []
   },
   "outputs": [
    {
     "data": {
      "text/plain": [
       "'{\"coord\": {\"lon\": 116.3972, \"lat\": 39.9075}, \"weather\": [{\"id\": 804, \"main\": \"Clouds\", \"description\": \"\\\\u9634\\\\uff0c\\\\u591a\\\\u4e91\", \"icon\": \"04d\"}], \"base\": \"stations\", \"main\": {\"temp\": 24.94, \"feels_like\": 23.7, \"temp_min\": 24.94, \"temp_max\": 24.94, \"pressure\": 1006, \"humidity\": 8, \"sea_level\": 1006, \"grnd_level\": 1000}, \"visibility\": 10000, \"wind\": {\"speed\": 2.57, \"deg\": 195, \"gust\": 3.44}, \"clouds\": {\"all\": 95}, \"dt\": 1715833208, \"sys\": {\"type\": 1, \"id\": 9609, \"country\": \"CN\", \"sunrise\": 1715806718, \"sunset\": 1715858588}, \"timezone\": 28800, \"id\": 1816670, \"name\": \"Beijing\", \"cod\": 200}'"
      ]
     },
     "execution_count": 99,
     "metadata": {},
     "output_type": "execute_result"
    }
   ],
   "source": [
    "get_weather(\"Beijing\")"
   ]
  },
  {
   "cell_type": "code",
   "execution_count": 101,
   "id": "e7d6883d-1aa5-4f10-87bf-e573e41921d9",
   "metadata": {
    "tags": []
   },
   "outputs": [
    {
     "data": {
      "text/plain": [
       "[StructuredTool(name='get_weather', description=\"get_weather(loc) - 查询即时天气函数\\n    :param loc: 必要参数，字符串类型，用于表示查询天气的具体城市名称，    注意，中国的城市需要用对应城市的英文名称代替，例如如果需要查询上海市天气，则loc参数需要输入'ShangHai'；\\n    :return：OpenWeather API查询即时天气的结果，具体URL请求地址为：https://api.openweathermap.org/data/2.5/weather    返回结果对象类型为解析之后的JSON格式对象，并用字符串形式进行表示，其中包含了全部重要的天气信息\", args_schema=<class 'pydantic.v1.main.get_weatherSchema'>, func=<function get_weather at 0x7fa9505cdc10>)]"
      ]
     },
     "execution_count": 101,
     "metadata": {},
     "output_type": "execute_result"
    }
   ],
   "source": [
    "tools = [get_weather]\n",
    "tools"
   ]
  },
  {
   "cell_type": "markdown",
   "id": "4370eb00-e745-49f0-842c-c921d7386604",
   "metadata": {},
   "source": [
    "#### (3) 将工具库绑定给大模型\n",
    "\n",
    "**先提取工具描述和工具名称**\n",
    "\n",
    "从函数的代码注释中提取，函数需要用@tool装饰器进行装饰"
   ]
  },
  {
   "cell_type": "code",
   "execution_count": 102,
   "id": "ff11eb13-aab6-448e-a0d2-e7535be3c3d8",
   "metadata": {
    "tags": []
   },
   "outputs": [
    {
     "data": {
      "text/plain": [
       "PromptTemplate(input_variables=['agent_scratchpad', 'input'], partial_variables={'tools': \"get_weather: get_weather(loc) - 查询即时天气函数\\n    :param loc: 必要参数，字符串类型，用于表示查询天气的具体城市名称，    注意，中国的城市需要用对应城市的英文名称代替，例如如果需要查询上海市天气，则loc参数需要输入'ShangHai'；\\n    :return：OpenWeather API查询即时天气的结果，具体URL请求地址为：https://api.openweathermap.org/data/2.5/weather    返回结果对象类型为解析之后的JSON格式对象，并用字符串形式进行表示，其中包含了全部重要的天气信息\", 'tool_names': 'get_weather'}, template='Answer the following questions as best you can. You have access to the following tools:\\n\\n{tools}\\n\\nUse the following format:\\n\\nQuestion: the input question you must answer\\nThought: you should always think about what to do\\nAction: the action to take, should be one of [{tool_names}]\\nAction Input: the input to the action\\nObservation: the result of the action\\n... (this Thought/Action/Action Input/Observation can repeat N times)\\nThought: I now know the final answer\\nFinal Answer: the final answer to the original input question\\n\\nBegin!\\n\\nQuestion: {input}\\nThought:{agent_scratchpad}')"
      ]
     },
     "execution_count": 102,
     "metadata": {},
     "output_type": "execute_result"
    }
   ],
   "source": [
    "from langchain.tools.render import render_text_description\n",
    "\n",
    "prompt = prompt.partial(\n",
    "    tools=render_text_description(list(tools)),\n",
    "    tool_names=\", \".join([t.name for t in tools]),\n",
    ")\n",
    "\n",
    "prompt"
   ]
  },
  {
   "cell_type": "markdown",
   "id": "af64926a-8bb3-45ae-8004-bf720e06bb58",
   "metadata": {},
   "source": [
    "**再将工具绑定给大模型**\n"
   ]
  },
  {
   "cell_type": "code",
   "execution_count": 103,
   "id": "e11dd01a-8dd6-4b24-bce0-90ee96ac27c7",
   "metadata": {
    "tags": []
   },
   "outputs": [],
   "source": [
    "from langchain_openai import ChatOpenAI\n",
    "\n",
    "llm_with_stop = llm.bind(stop=[\"\\nObservation\"])"
   ]
  },
  {
   "cell_type": "markdown",
   "id": "6db2f984-3881-445e-bf84-80647a0374f8",
   "metadata": {},
   "source": [
    "这里注意：我们之前也介绍过，当不适用OpenAI Tools规范时，不可再使用`bind_tools`方法进行绑定，尽管我们这里实例化的仍然是GPT模型，而是需要根据`ReAct`模版的规范去绑定并且指定每一步的操作，如果遇到`\\nObservation`便进入下一轮的处理逻辑，直至完成最后一个子任务在输出最终的处理结果。"
   ]
  },
  {
   "cell_type": "markdown",
   "id": "3be6c530-6e6e-4277-aeee-0b24ae86ea59",
   "metadata": {},
   "source": [
    "#### (4) 构造Agent实例\n",
    "\n",
    "构造提示模版、实例化模型及将工具库与模型绑定后，接下来就可以去构建一个`Agent`实例\n",
    "\n",
    "代码如下："
   ]
  },
  {
   "cell_type": "code",
   "execution_count": 104,
   "id": "577d713f-bd86-40b7-bb41-9ddc478b78ef",
   "metadata": {
    "tags": []
   },
   "outputs": [],
   "source": [
    "from langchain.agents.output_parsers import ReActSingleInputOutputParser\n",
    "from langchain.agents.format_scratchpad import format_log_to_str\n",
    "\n",
    "output_parser = ReActSingleInputOutputParser()\n",
    "\n",
    "agent = (\n",
    "    {\n",
    "        \"input\": lambda x: x[\"input\"],\n",
    "        \"agent_scratchpad\": lambda x: format_log_to_str(\n",
    "            x[\"intermediate_steps\"]\n",
    "        ),\n",
    "    }\n",
    "    | prompt\n",
    "    | llm_with_stop\n",
    "    | output_parser\n",
    ")"
   ]
  },
  {
   "cell_type": "markdown",
   "id": "2b0aa929-53bc-4f8d-a82a-803c362da132",
   "metadata": {},
   "source": [
    "这个`agent`的实例化过程，如果真正理解了`3. 如何自定义构建一个Agents`中我们介绍的流程，就一定能理解这个实例化`agent`时改变的参数。首先，`format_log_to_str`用于格式化地生成中间过程的关键数据，而output_parser，则需要按照ReAct的规范格式化每一个子任务的输出。"
   ]
  },
  {
   "cell_type": "markdown",
   "id": "c2165ada-a9ba-4128-bdce-5c137ee6a9ef",
   "metadata": {},
   "source": [
    "#### (5) 构造AgentExecutor实例"
   ]
  },
  {
   "cell_type": "code",
   "execution_count": 105,
   "id": "72627e34-23de-458b-b970-1832da840a81",
   "metadata": {
    "tags": []
   },
   "outputs": [],
   "source": [
    "from langchain.agents import AgentExecutor\n",
    "\n",
    "agent_executor = AgentExecutor(agent=agent, tools=tools, verbose=True)"
   ]
  },
  {
   "cell_type": "markdown",
   "id": "2e7655d2-7c74-4549-9633-5af3099d9d70",
   "metadata": {},
   "source": [
    "#### (6) 测试"
   ]
  },
  {
   "cell_type": "code",
   "execution_count": 111,
   "id": "a538cb70-4ad5-48d2-9b4b-6a12282b3e52",
   "metadata": {
    "tags": []
   },
   "outputs": [
    {
     "name": "stdout",
     "output_type": "stream",
     "text": [
      "\n",
      "\n",
      "\u001b[1m> Entering new AgentExecutor chain...\u001b[0m\n",
      "\u001b[32;1m\u001b[1;3m我需要先分别查询北京和大理今天的气温，然后计算出他们的温度差。\n",
      "Action: get_weather\n",
      "Action Input: Beijing\u001b[0m\u001b[36;1m\u001b[1;3m{\"coord\": {\"lon\": 116.3972, \"lat\": 39.9075}, \"weather\": [{\"id\": 804, \"main\": \"Clouds\", \"description\": \"\\u9634\\uff0c\\u591a\\u4e91\", \"icon\": \"04d\"}], \"base\": \"stations\", \"main\": {\"temp\": 24.94, \"feels_like\": 23.7, \"temp_min\": 24.94, \"temp_max\": 24.94, \"pressure\": 1004, \"humidity\": 8, \"sea_level\": 1004, \"grnd_level\": 999}, \"visibility\": 10000, \"wind\": {\"speed\": 2.64, \"deg\": 202, \"gust\": 3.64}, \"clouds\": {\"all\": 94}, \"dt\": 1715833801, \"sys\": {\"type\": 1, \"id\": 9609, \"country\": \"CN\", \"sunrise\": 1715806718, \"sunset\": 1715858588}, \"timezone\": 28800, \"id\": 1816670, \"name\": \"Beijing\", \"cod\": 200}\u001b[0m\u001b[32;1m\u001b[1;3m我已经得到了北京的天气信息，当前的温度是24.94摄氏度。接下来我需要查询大理的天气信息。\n",
      "Action: get_weather\n",
      "Action Input: DaLi\u001b[0m\u001b[36;1m\u001b[1;3m{\"coord\": {\"lon\": 100.1833, \"lat\": 25.7}, \"weather\": [{\"id\": 802, \"main\": \"Clouds\", \"description\": \"\\u591a\\u4e91\", \"icon\": \"03d\"}], \"base\": \"stations\", \"main\": {\"temp\": 25.68, \"feels_like\": 25.3, \"temp_min\": 25.68, \"temp_max\": 25.68, \"pressure\": 1010, \"humidity\": 38, \"sea_level\": 1010, \"grnd_level\": 810}, \"visibility\": 10000, \"wind\": {\"speed\": 2.21, \"deg\": 252, \"gust\": 3.89}, \"clouds\": {\"all\": 41}, \"dt\": 1715834206, \"sys\": {\"country\": \"CN\", \"sunrise\": 1715812399, \"sunset\": 1715860689}, \"timezone\": 28800, \"id\": 1814093, \"name\": \"Dali\", \"cod\": 200}\u001b[0m\u001b[32;1m\u001b[1;3m我已经得到了大理的天气信息，当前的温度是25.68摄氏度。接下来我需要计算北京和大理的温度差。\n",
      "Final Answer: 北京和大理今天的气温差距是0.74摄氏度。\u001b[0m\n",
      "\n",
      "\u001b[1m> Finished chain.\u001b[0m\n"
     ]
    },
    {
     "data": {
      "text/plain": [
       "{'input': '北京和大理今天的气温差距多大？', 'output': '北京和大理今天的气温差距是0.74摄氏度。'}"
      ]
     },
     "execution_count": 111,
     "metadata": {},
     "output_type": "execute_result"
    }
   ],
   "source": [
    "agent_executor.invoke({\"input\": \"北京和大理今天的气温差距多大？\"})"
   ]
  },
  {
   "cell_type": "code",
   "execution_count": 116,
   "id": "78595e58-46f4-4b5a-86be-7c5093dfa263",
   "metadata": {
    "tags": []
   },
   "outputs": [
    {
     "name": "stdout",
     "output_type": "stream",
     "text": [
      "\n",
      "\n",
      "\u001b[1m> Entering new AgentExecutor chain...\u001b[0m\n",
      "\u001b[32;1m\u001b[1;3m我需要分别获取北京、上海和广州的天气信息，然后比较它们的气温，找出最低的那个。\n",
      "Action: get_weather\n",
      "Action Input: BeiJing\u001b[0m\u001b[36;1m\u001b[1;3m{\"coord\": {\"lon\": 116.3972, \"lat\": 39.9075}, \"weather\": [{\"id\": 804, \"main\": \"Clouds\", \"description\": \"\\u9634\\uff0c\\u591a\\u4e91\", \"icon\": \"04d\"}], \"base\": \"stations\", \"main\": {\"temp\": 24.94, \"feels_like\": 23.7, \"temp_min\": 24.94, \"temp_max\": 24.94, \"pressure\": 1004, \"humidity\": 8, \"sea_level\": 1004, \"grnd_level\": 999}, \"visibility\": 10000, \"wind\": {\"speed\": 2.64, \"deg\": 202, \"gust\": 3.64}, \"clouds\": {\"all\": 94}, \"dt\": 1715834411, \"sys\": {\"type\": 1, \"id\": 9609, \"country\": \"CN\", \"sunrise\": 1715806718, \"sunset\": 1715858588}, \"timezone\": 28800, \"id\": 1816670, \"name\": \"Beijing\", \"cod\": 200}\u001b[0m\u001b[32;1m\u001b[1;3m我已经获取到了北京的天气信息，现在我需要获取上海和广州的天气信息。\n",
      "Action: get_weather\n",
      "Action Input: ShangHai\u001b[0m\u001b[36;1m\u001b[1;3m{\"coord\": {\"lon\": 121.4581, \"lat\": 31.2222}, \"weather\": [{\"id\": 800, \"main\": \"Clear\", \"description\": \"\\u6674\", \"icon\": \"01d\"}], \"base\": \"stations\", \"main\": {\"temp\": 25.92, \"feels_like\": 25.06, \"temp_min\": 25.92, \"temp_max\": 25.93, \"pressure\": 1017, \"humidity\": 19}, \"visibility\": 10000, \"wind\": {\"speed\": 5, \"deg\": 190}, \"clouds\": {\"all\": 0}, \"dt\": 1715834277, \"sys\": {\"type\": 1, \"id\": 9659, \"country\": \"CN\", \"sunrise\": 1715806674, \"sunset\": 1715856203}, \"timezone\": 28800, \"id\": 1796236, \"name\": \"Shanghai\", \"cod\": 200}\u001b[0m\u001b[32;1m\u001b[1;3m我已经获取到了上海的天气信息，现在我需要获取广州的天气信息。\n",
      "Action: get_weather\n",
      "Action Input: GuangZhou\u001b[0m\u001b[36;1m\u001b[1;3m{\"coord\": {\"lon\": 113.25, \"lat\": 23.1167}, \"weather\": [{\"id\": 803, \"main\": \"Clouds\", \"description\": \"\\u591a\\u4e91\", \"icon\": \"04d\"}], \"base\": \"stations\", \"main\": {\"temp\": 30.97, \"feels_like\": 30, \"temp_min\": 30.97, \"temp_max\": 30.97, \"pressure\": 1015, \"humidity\": 33, \"sea_level\": 1015, \"grnd_level\": 1013}, \"visibility\": 10000, \"wind\": {\"speed\": 3.02, \"deg\": 158, \"gust\": 2.44}, \"clouds\": {\"all\": 60}, \"dt\": 1715834540, \"sys\": {\"type\": 1, \"id\": 9620, \"country\": \"CN\", \"sunrise\": 1715809532, \"sunset\": 1715857284}, \"timezone\": 28800, \"id\": 1809858, \"name\": \"Guangzhou\", \"cod\": 200}\u001b[0m\u001b[32;1m\u001b[1;3m我现在已经获取到了北京、上海和广州的天气信息，我需要比较他们的温度以找出最低气温的城市。\n",
      "北京的温度是24.94度，上海的温度是25.92度，广州的温度是30.97度。\n",
      "Thought: 我已经知道了这三个城市的气温，现在我可以判断出气温最低的城市。\n",
      "Final Answer: 今天北京的气温最低。\u001b[0m\n",
      "\n",
      "\u001b[1m> Finished chain.\u001b[0m\n"
     ]
    },
    {
     "data": {
      "text/plain": [
       "{'input': '北京、上海和广州，今天哪个城市的气温最低？', 'output': '今天北京的气温最低。'}"
      ]
     },
     "execution_count": 116,
     "metadata": {},
     "output_type": "execute_result"
    }
   ],
   "source": [
    "agent_executor.invoke({\"input\": \"北京、上海和广州，今天哪个城市的气温最低？\"})"
   ]
  },
  {
   "cell_type": "markdown",
   "id": "e1be8c74-693d-4cfa-85c5-983e955b082d",
   "metadata": {},
   "source": [
    "&emsp;&emsp;观察输出结果，可以看出，尽管整个核心流程仍然遵循LangChain定义的标准实现，但中间处理过程与我们之前使用OpenAI Tools实践的有显著不同。这一差异主要由ReAct模板控制，特别是每个`actions`中的`log`描述非常关键。对于四次查询天气的需求，`Agent`会根据上一步的处理结果来决定下一步的操作。然后，它会持续执行，直到认为已经获得了正确的答案。"
   ]
  },
  {
   "cell_type": "markdown",
   "id": "20871b01-9970-44f2-b43a-be201d996fc0",
   "metadata": {},
   "source": [
    "&emsp;&emsp;这就是通过`ReAct`去构造`Agents`的过程，首先从构建流程上看其变化不大，只需要微调其中的几个细节，这包括修改提示模版，修改模型绑定工具库的方法和修改中间过程的格式化处理方法，所以当大家能够理解LangChain的`Agents`整体结构，再套用任何一个提示结构，甚至是自己去写提示信息来引导`Agents`的行为都是非常容易的。那么对于`ReAct`，LangChain也是同OpenAI Tools一样实现了封装，大家可以在这个入口去自行尝试：https://python.langchain.com/docs/modules/agents/agent_types/"
   ]
  },
  {
   "cell_type": "markdown",
   "id": "8a4a4bc6-1843-4e77-8a3b-79bbe626cfe4",
   "metadata": {},
   "source": [
    "## 6. 使用LangChain内置模块快速实现ReAct Agent"
   ]
  },
  {
   "cell_type": "markdown",
   "id": "ce735fce-8a66-4b01-98ec-59df64bbe985",
   "metadata": {},
   "source": [
    "### 6.1 文档\n",
    "\n",
    "上面同样的功能，可以使用LangChain提供的内置模块来实现，代码更简单\n",
    "\n",
    "[https://python.langchain.com/v0.1/docs/modules/agents/agent_types/react/](https://python.langchain.com/v0.1/docs/modules/agents/agent_types/react/)"
   ]
  },
  {
   "cell_type": "markdown",
   "id": "d57ad79f-85ff-44d4-bfeb-e0844d4c34cd",
   "metadata": {},
   "source": [
    "### 6.2 代码\n",
    "\n",
    "#### (1) 构建工具库"
   ]
  },
  {
   "cell_type": "code",
   "execution_count": 131,
   "id": "35091713-0897-433a-8e08-f62da8b7a24d",
   "metadata": {
    "tags": []
   },
   "outputs": [],
   "source": [
    "from langchain_core.tools import tool\n",
    "\n",
    "import requests\n",
    "import json\n",
    "\n",
    "@tool\n",
    "def get_weather(loc):\n",
    "    \"\"\"\n",
    "    查询即时天气函数\n",
    "    :param loc: 必要参数，字符串类型，用于表示查询天气的具体城市名称，\\\n",
    "    注意，中国的城市需要用对应城市的英文名称代替，例如如果需要查询上海市天气，则loc参数需要输入'ShangHai'；\n",
    "    :return：OpenWeather API查询即时天气的结果，具体URL请求地址为：https://api.openweathermap.org/data/2.5/weather\\\n",
    "    返回结果对象类型为解析之后的JSON格式对象，并用字符串形式进行表示，其中包含了全部重要的天气信息\n",
    "    \"\"\"\n",
    "    # Step 1.构建请求\n",
    "    url = \"https://api.openweathermap.org/data/2.5/weather\"\n",
    "\n",
    "    # Step 2.设置查询参数\n",
    "    params = {\n",
    "        \"q\": loc,               \n",
    "        \"appid\": open_weather_key,    # 输入API key\n",
    "        \"units\": \"metric\",            # 使用摄氏度而不是华氏度\n",
    "        \"lang\":\"zh_cn\"                # 输出语言为简体中文\n",
    "    }\n",
    "\n",
    "    # Step 3.发送GET请求\n",
    "    response = requests.get(url, params=params)\n",
    "    \n",
    "    # Step 4.解析响应\n",
    "    data = response.json()\n",
    "    return json.dumps(data)"
   ]
  },
  {
   "cell_type": "code",
   "execution_count": 132,
   "id": "7acdc81f-0292-48dc-b6e0-640fd5593cb6",
   "metadata": {
    "tags": []
   },
   "outputs": [
    {
     "data": {
      "text/plain": [
       "'{\"coord\": {\"lon\": 116.3972, \"lat\": 39.9075}, \"weather\": [{\"id\": 804, \"main\": \"Clouds\", \"description\": \"\\\\u9634\\\\uff0c\\\\u591a\\\\u4e91\", \"icon\": \"04d\"}], \"base\": \"stations\", \"main\": {\"temp\": 24.94, \"feels_like\": 23.7, \"temp_min\": 24.94, \"temp_max\": 24.94, \"pressure\": 1004, \"humidity\": 8, \"sea_level\": 1004, \"grnd_level\": 999}, \"visibility\": 10000, \"wind\": {\"speed\": 2.64, \"deg\": 202, \"gust\": 3.64}, \"clouds\": {\"all\": 94}, \"dt\": 1715834720, \"sys\": {\"type\": 1, \"id\": 9609, \"country\": \"CN\", \"sunrise\": 1715806718, \"sunset\": 1715858588}, \"timezone\": 28800, \"id\": 1816670, \"name\": \"Beijing\", \"cod\": 200}'"
      ]
     },
     "execution_count": 132,
     "metadata": {},
     "output_type": "execute_result"
    }
   ],
   "source": [
    "get_weather(\"BeiJing\")"
   ]
  },
  {
   "cell_type": "code",
   "execution_count": 133,
   "id": "4d27e1e4-3ac8-48a4-96a4-acfa8a7cdcaf",
   "metadata": {
    "tags": []
   },
   "outputs": [],
   "source": [
    "from langchain.agents import AgentExecutor, create_react_agent\n",
    "tools = [get_weather]"
   ]
  },
  {
   "cell_type": "markdown",
   "id": "a26fae5f-e497-4555-b354-5c4673849a1b",
   "metadata": {},
   "source": [
    "#### (2) 导入提示词模版"
   ]
  },
  {
   "cell_type": "code",
   "execution_count": 134,
   "id": "7cdd3f1f-ecf6-445e-9336-55f4410ffeaa",
   "metadata": {
    "tags": []
   },
   "outputs": [],
   "source": [
    "# Get the prompt to use - you can modify this!\n",
    "prompt = hub.pull(\"hwchase17/react\")"
   ]
  },
  {
   "cell_type": "markdown",
   "id": "d0a8dd76-ccf2-4204-9b84-15d593cac309",
   "metadata": {},
   "source": [
    "#### (3) 构造Agent实例"
   ]
  },
  {
   "cell_type": "code",
   "execution_count": 135,
   "id": "f92e1c49-ba55-4855-baf3-a86db95b69e7",
   "metadata": {
    "tags": []
   },
   "outputs": [],
   "source": [
    "# Construct the ReAct agent\n",
    "agent = create_react_agent(llm, tools, prompt)"
   ]
  },
  {
   "cell_type": "markdown",
   "id": "fdf085f3-3ef6-4b9a-848d-4dfae81ddc6b",
   "metadata": {},
   "source": [
    "#### (4) 构造AgentExecutor实例"
   ]
  },
  {
   "cell_type": "code",
   "execution_count": 136,
   "id": "5d31190a-cbb5-4e77-9b19-39ee0fa2d762",
   "metadata": {
    "tags": []
   },
   "outputs": [],
   "source": [
    "# Create an agent executor by passing in the agent and tools\n",
    "agent_executor = AgentExecutor(agent=agent, tools=tools, verbose=True)"
   ]
  },
  {
   "cell_type": "markdown",
   "id": "42abeae9-eaff-44cd-b203-16aaee483cb5",
   "metadata": {},
   "source": [
    "#### (5) 测试"
   ]
  },
  {
   "cell_type": "code",
   "execution_count": 137,
   "id": "3352ab78-3f40-4565-86b3-b5c7afb3531e",
   "metadata": {
    "tags": []
   },
   "outputs": [
    {
     "name": "stdout",
     "output_type": "stream",
     "text": [
      "\n",
      "\n",
      "\u001b[1m> Entering new AgentExecutor chain...\u001b[0m\n",
      "\u001b[32;1m\u001b[1;3m我需要使用get_weather函数，将\"DaLi\"作为输入参数，以获取大理的天气信息。\n",
      "Action: get_weather\n",
      "Action Input: DaLi\u001b[0m\u001b[36;1m\u001b[1;3m{\"coord\": {\"lon\": 100.1833, \"lat\": 25.7}, \"weather\": [{\"id\": 802, \"main\": \"Clouds\", \"description\": \"\\u591a\\u4e91\", \"icon\": \"03d\"}], \"base\": \"stations\", \"main\": {\"temp\": 25.68, \"feels_like\": 25.3, \"temp_min\": 25.68, \"temp_max\": 25.68, \"pressure\": 1010, \"humidity\": 38, \"sea_level\": 1010, \"grnd_level\": 810}, \"visibility\": 10000, \"wind\": {\"speed\": 2.21, \"deg\": 252, \"gust\": 3.89}, \"clouds\": {\"all\": 41}, \"dt\": 1715835406, \"sys\": {\"country\": \"CN\", \"sunrise\": 1715812399, \"sunset\": 1715860689}, \"timezone\": 28800, \"id\": 1814093, \"name\": \"Dali\", \"cod\": 200}\u001b[0m\u001b[32;1m\u001b[1;3m根据观察到的结果，大理的当前天气情况是多云，并且温度很暖和，约在25.68摄氏度。风速为2.21米/秒，风向252度，能见度达到了10公里。因此我现在知道了最后的答案。\n",
      "Final Answer: 大理今天的天气是多云的，温度约为25.68摄氏度，风速为2.21米/秒，风向252度，能见度为10公里。\u001b[0m\n",
      "\n",
      "\u001b[1m> Finished chain.\u001b[0m\n"
     ]
    },
    {
     "data": {
      "text/plain": [
       "{'input': '大理今天的天气怎么样？',\n",
       " 'output': '大理今天的天气是多云的，温度约为25.68摄氏度，风速为2.21米/秒，风向252度，能见度为10公里。'}"
      ]
     },
     "execution_count": 137,
     "metadata": {},
     "output_type": "execute_result"
    }
   ],
   "source": [
    "agent_executor.invoke({\"input\": \"大理今天的天气怎么样？\"})"
   ]
  },
  {
   "cell_type": "code",
   "execution_count": 138,
   "id": "38c52338-916e-4224-a612-663602c5b9ad",
   "metadata": {
    "tags": []
   },
   "outputs": [
    {
     "name": "stdout",
     "output_type": "stream",
     "text": [
      "\n",
      "\n",
      "\u001b[1m> Entering new AgentExecutor chain...\u001b[0m\n",
      "\u001b[32;1m\u001b[1;3m我需要先查看一下大理和北京今天的具体温度。\n",
      "Action: get_weather\n",
      "Action Input: DaLi\u001b[0m\u001b[36;1m\u001b[1;3m{\"coord\": {\"lon\": 100.1833, \"lat\": 25.7}, \"weather\": [{\"id\": 802, \"main\": \"Clouds\", \"description\": \"\\u591a\\u4e91\", \"icon\": \"03d\"}], \"base\": \"stations\", \"main\": {\"temp\": 25.68, \"feels_like\": 25.3, \"temp_min\": 25.68, \"temp_max\": 25.68, \"pressure\": 1010, \"humidity\": 38, \"sea_level\": 1010, \"grnd_level\": 810}, \"visibility\": 10000, \"wind\": {\"speed\": 2.21, \"deg\": 252, \"gust\": 3.89}, \"clouds\": {\"all\": 41}, \"dt\": 1715835556, \"sys\": {\"country\": \"CN\", \"sunrise\": 1715812399, \"sunset\": 1715860689}, \"timezone\": 28800, \"id\": 1814093, \"name\": \"Dali\", \"cod\": 200}\u001b[0m\u001b[32;1m\u001b[1;3m我现在知道了大理的温度是25.68摄氏度，接下来我需要查询北京的温度。\n",
      "Action: get_weather\n",
      "Action Input: BeiJing\u001b[0m\u001b[36;1m\u001b[1;3m{\"coord\": {\"lon\": 116.3972, \"lat\": 39.9075}, \"weather\": [{\"id\": 804, \"main\": \"Clouds\", \"description\": \"\\u9634\\uff0c\\u591a\\u4e91\", \"icon\": \"04d\"}], \"base\": \"stations\", \"main\": {\"temp\": 24.94, \"feels_like\": 23.7, \"temp_min\": 24.94, \"temp_max\": 24.94, \"pressure\": 1004, \"humidity\": 8, \"sea_level\": 1004, \"grnd_level\": 999}, \"visibility\": 10000, \"wind\": {\"speed\": 2.64, \"deg\": 202, \"gust\": 3.64}, \"clouds\": {\"all\": 94}, \"dt\": 1715834720, \"sys\": {\"type\": 1, \"id\": 9609, \"country\": \"CN\", \"sunrise\": 1715806718, \"sunset\": 1715858588}, \"timezone\": 28800, \"id\": 1816670, \"name\": \"Beijing\", \"cod\": 200}\u001b[0m\u001b[32;1m\u001b[1;3m我现在知道了北京的温度是24.94摄氏度，接下来我需要计算两者的温差。\n",
      "Final Answer: 大理和北京今天的温差是0.74摄氏度。\u001b[0m\n",
      "\n",
      "\u001b[1m> Finished chain.\u001b[0m\n"
     ]
    },
    {
     "data": {
      "text/plain": [
       "{'input': '大理和北京今天的温差多大？', 'output': '大理和北京今天的温差是0.74摄氏度。'}"
      ]
     },
     "execution_count": 138,
     "metadata": {},
     "output_type": "execute_result"
    }
   ],
   "source": [
    "agent_executor.invoke({\"input\": \"大理和北京今天的温差多大？\"})"
   ]
  },
  {
   "cell_type": "markdown",
   "id": "c4bd1f42-1329-47c2-a784-3c34a415f944",
   "metadata": {},
   "source": [
    "## 7. XML Agent案例演示\n",
    "\n",
    "#### 7.1 介绍及用途\n",
    "\n",
    "LangChain提供多种Agent实现策略：[https://python.langchain.com/v0.1/docs/modules/agents/agent_types/](https://python.langchain.com/v0.1/docs/modules/agents/agent_types/)\n",
    "\n",
    "XML Agent是一种比较独特的Agent，它的特点的是在Agent策略执行过程中，中间结果使用XML而不是Json。这样对于更擅长解析XML的大模型更加友好。\n",
    "\n",
    "例如：\n",
    "\n",
    "* OpenAI更擅长解析Json\n",
    "* Claude更擅长解析XML\n",
    "\n",
    "文档：[https://python.langchain.com/v0.1/docs/modules/agents/agent_types/xml_agent/](https://python.langchain.com/v0.1/docs/modules/agents/agent_types/xml_agent/)"
   ]
  },
  {
   "cell_type": "markdown",
   "id": "397c6191-1454-4bc1-91d5-ddaba6c337cf",
   "metadata": {},
   "source": [
    "### 7.2 使用例子\n",
    "\n",
    "#### (1) 导入依赖"
   ]
  },
  {
   "cell_type": "code",
   "execution_count": null,
   "id": "412a0396-00e6-4029-993d-5e74dbc52421",
   "metadata": {},
   "outputs": [],
   "source": [
    "! pip install langchain_anthropic"
   ]
  },
  {
   "cell_type": "code",
   "execution_count": 1,
   "id": "3f7ebd43-a1ff-40fe-8f48-c5836fd75fa9",
   "metadata": {
    "tags": []
   },
   "outputs": [],
   "source": [
    "from langchain import hub\n",
    "from langchain.agents import AgentExecutor, create_xml_agent"
   ]
  },
  {
   "cell_type": "markdown",
   "id": "10ce31ba-3e0e-4457-91ff-d09f2a2ad9da",
   "metadata": {},
   "source": [
    "#### (2) 构建工具库"
   ]
  },
  {
   "cell_type": "code",
   "execution_count": 2,
   "id": "b876d5bc-ab8f-4f3d-a2c2-3c3f0612b086",
   "metadata": {
    "tags": []
   },
   "outputs": [],
   "source": [
    "open_weather_key = \"5c939a7cc59eb8696f4cd77bf75c5a9a\""
   ]
  },
  {
   "cell_type": "code",
   "execution_count": 3,
   "id": "8fea3d71-1e46-40fe-ad18-d530bd5a8e3b",
   "metadata": {
    "tags": []
   },
   "outputs": [],
   "source": [
    "from langchain_core.tools import tool\n",
    "\n",
    "import requests\n",
    "import json\n",
    "\n",
    "@tool\n",
    "def get_weather(loc):\n",
    "    \"\"\"\n",
    "    查询即时天气函数\n",
    "    :param loc: 必要参数，字符串类型，用于表示查询天气的具体城市名称，\\\n",
    "    注意，中国的城市需要用对应城市的英文名称代替，例如如果需要查询上海市天气，则loc参数需要输入'ShangHai'；\n",
    "    :return：OpenWeather API查询即时天气的结果，具体URL请求地址为：https://api.openweathermap.org/data/2.5/weather\\\n",
    "    返回结果对象类型为解析之后的JSON格式对象，并用字符串形式进行表示，其中包含了全部重要的天气信息\n",
    "    \"\"\"\n",
    "    # Step 1.构建请求\n",
    "    url = \"https://api.openweathermap.org/data/2.5/weather\"\n",
    "\n",
    "    # Step 2.设置查询参数\n",
    "    params = {\n",
    "        \"q\": loc,               \n",
    "        \"appid\": open_weather_key,    # 输入API key\n",
    "        \"units\": \"metric\",            # 使用摄氏度而不是华氏度\n",
    "        \"lang\":\"zh_cn\"                # 输出语言为简体中文\n",
    "    }\n",
    "\n",
    "    # Step 3.发送GET请求\n",
    "    response = requests.get(url, params=params)\n",
    "    \n",
    "    # Step 4.解析响应\n",
    "    data = response.json()\n",
    "    return json.dumps(data)"
   ]
  },
  {
   "cell_type": "code",
   "execution_count": 4,
   "id": "65e4dd0b-0bab-423f-8453-90911f12988c",
   "metadata": {
    "tags": []
   },
   "outputs": [],
   "source": [
    "tools = [get_weather]"
   ]
  },
  {
   "cell_type": "markdown",
   "id": "eced21c2-6697-43b3-a7c3-145f1b323a35",
   "metadata": {},
   "source": [
    "#### (3) 导入提示词模版"
   ]
  },
  {
   "cell_type": "code",
   "execution_count": 5,
   "id": "17d404b2-4fc7-4fb9-8313-d56a97028757",
   "metadata": {
    "tags": []
   },
   "outputs": [],
   "source": [
    "# Get the prompt to use - you can modify this!\n",
    "prompt = hub.pull(\"hwchase17/xml-agent-convo\")"
   ]
  },
  {
   "cell_type": "markdown",
   "id": "e8df576f-6bc6-4aa7-beb8-04ea3e99a6c6",
   "metadata": {},
   "source": [
    "#### (4) 将工具库绑定给大模型"
   ]
  },
  {
   "cell_type": "code",
   "execution_count": 6,
   "id": "20fe43b2-8824-4940-8aab-86be32739efc",
   "metadata": {
    "tags": []
   },
   "outputs": [],
   "source": [
    "from langchain_openai import ChatOpenAI\n",
    "import openai\n",
    "\n",
    "openai.api_key=os.getenv(\"OPENAI_API_KEY\")\n",
    "openai.api_base=\"https://api.openai.com/v1\"\n",
    "## 推荐使用 claude-3模型\n",
    "llm = ChatOpenAI(model_name=\"gpt-3.5-turbo\",api_key=openai.api_key ,base_url=openai.api_base)"
   ]
  },
  {
   "cell_type": "markdown",
   "id": "324fc7c9-25a8-4987-861e-1a6545e508f9",
   "metadata": {},
   "source": [
    "#### (5) 构造Agent实例"
   ]
  },
  {
   "cell_type": "code",
   "execution_count": 7,
   "id": "a4f0ce99-b90a-426f-9216-81e1fa1c9dfa",
   "metadata": {
    "tags": []
   },
   "outputs": [],
   "source": [
    "# Construct the XML agent\n",
    "agent = create_xml_agent(llm, tools, prompt)"
   ]
  },
  {
   "cell_type": "markdown",
   "id": "916f914b-63fa-47b4-ab20-2279e074b33c",
   "metadata": {},
   "source": [
    "#### (6) 构造AgentExecutor实例"
   ]
  },
  {
   "cell_type": "code",
   "execution_count": 8,
   "id": "81b44575-fab1-448e-ada5-63a45538c8de",
   "metadata": {
    "tags": []
   },
   "outputs": [],
   "source": [
    "# Create an agent executor by passing in the agent and tools\n",
    "agent_executor = AgentExecutor(agent=agent, tools=tools, verbose=True)"
   ]
  },
  {
   "cell_type": "markdown",
   "id": "38e75db0-3d75-4baa-88c0-3724f21dcd8e",
   "metadata": {},
   "source": [
    "#### (7) 测试"
   ]
  },
  {
   "cell_type": "code",
   "execution_count": 9,
   "id": "d4d2d6f7-7d24-4b04-bf88-6da19276d3f7",
   "metadata": {
    "tags": []
   },
   "outputs": [
    {
     "name": "stdout",
     "output_type": "stream",
     "text": [
      "\n",
      "\n",
      "\u001b[1m> Entering new AgentExecutor chain...\u001b[0m\n",
      "\u001b[32;1m\u001b[1;3m<tool>get_weather</tool><tool_input>Beijing\u001b[0m\u001b[36;1m\u001b[1;3m{\"coord\": {\"lon\": 116.3972, \"lat\": 39.9075}, \"weather\": [{\"id\": 800, \"main\": \"Clear\", \"description\": \"\\u6674\", \"icon\": \"01d\"}], \"base\": \"stations\", \"main\": {\"temp\": 28.94, \"feels_like\": 27.62, \"temp_min\": 28.94, \"temp_max\": 28.94, \"pressure\": 1006, \"humidity\": 26, \"sea_level\": 1006, \"grnd_level\": 1000}, \"visibility\": 10000, \"wind\": {\"speed\": 3.95, \"deg\": 210, \"gust\": 5.78}, \"clouds\": {\"all\": 0}, \"dt\": 1716356645, \"sys\": {\"type\": 1, \"id\": 9609, \"country\": \"CN\", \"sunrise\": 1716324830, \"sunset\": 1716377318}, \"timezone\": 28800, \"id\": 1816670, \"name\": \"Beijing\", \"cod\": 200}\u001b[0m\u001b[32;1m\u001b[1;3m<final_answer>北京今天的天气是晴天，气温为28.94摄氏度。</final_answer>\u001b[0m\n",
      "\n",
      "\u001b[1m> Finished chain.\u001b[0m\n"
     ]
    },
    {
     "data": {
      "text/plain": [
       "{'input': '北京今天的天气怎么样?', 'output': '北京今天的天气是晴天，气温为28.94摄氏度。'}"
      ]
     },
     "execution_count": 9,
     "metadata": {},
     "output_type": "execute_result"
    }
   ],
   "source": [
    "agent_executor.invoke({\"input\": \"北京今天的天气怎么样?\"})"
   ]
  },
  {
   "cell_type": "markdown",
   "id": "07f4e682-c500-411a-8e83-2c396b04574b",
   "metadata": {},
   "source": [
    "## 8. 总结"
   ]
  },
  {
   "cell_type": "markdown",
   "id": "8e44665e-bbda-4adb-8a54-1a1de52676b9",
   "metadata": {},
   "source": [
    "综上，大家能够理解到的是：通过`Chains`模块，可以创建预定义的工具使用顺序。当我们知道任何用户输入所需的工具使用的具体顺序时，链就非常有用。但对于某些用例，我们使用工具的次数取决于输入。在这些情况下，我们希望让大模型本身决定使用工具的次数和顺序。这就是构建应用的第二种方式：`Agents`。"
   ]
  },
  {
   "cell_type": "markdown",
   "id": "d19b4b3c-1493-446b-8fbb-44793c622379",
   "metadata": {},
   "source": [
    "在LangChain框架中构建应用和使用外部工具的方式基本就是这两种：链式和代理式。我们可以定义为：`Chains`是一种硬编码，而`Agents`是灵活的。其相同点都是一步一步地完成一系列子任务，最终实现复杂任务。两者间的差别在于：`chains` 是提前定义好的，而对于`Agents`，当我们给了它一堆工具，不同的问题，任务的顺序可能是不一样，它会自己来拆解并完成。所以我们说`Agents`是大脑，`Chains`仅仅是借助大模型做的流程。但`Agents`的构建过程，更多依赖的是大模型的原生能力，因为其内部处理逻辑完全是由大模型本身来分析决定的，这一过程中并没有人为的介入，所以当大家构建`Agents`时如果使用的大模型本身能力不够，就需要去考虑用怎样的提示结构去引导，亦或采取微调的方式去增强模型的推理和执行能力，这些都是需要大家根据自己的实际情况进行灵活的处理。"
   ]
  },
  {
   "cell_type": "markdown",
   "id": "6e7123ea-881a-4b70-881e-74f2313cc99d",
   "metadata": {},
   "source": [
    "当然，除了OpenAI的 Function Calling，及我们介绍的ReAct，还有很多`Agents`的开发范式，比如self-ask，其论文地址：https://arxiv.org/pdf/2210.03350.pdf"
   ]
  },
  {
   "cell_type": "markdown",
   "id": "82c0b124-d421-4a52-9573-fed9148211f9",
   "metadata": {},
   "source": [
    "Agents项目中比较典型的像langchain，AutoGPT、huginn等还是非常多的，大家可以根据自己的开发需求进行相关的扩展探索。"
   ]
  },
  {
   "cell_type": "markdown",
   "id": "3ae7d0c1-23eb-47a0-9be1-b869ef0594b2",
   "metadata": {},
   "source": [
    "> AutoGPT：https://github.com/Significant-Gravitas/AutoGPT\n",
    "\n",
    "> huginn : https://github.com/huginn/huginn"
   ]
  },
  {
   "cell_type": "markdown",
   "id": "2d1252f2-b446-4250-b53f-1316a0f142a6",
   "metadata": {},
   "source": [
    "## 9. Langchain 0.2转向Lang Graph"
   ]
  },
  {
   "cell_type": "markdown",
   "id": "8373e25a-a57d-44c2-965a-b370ab7e732f",
   "metadata": {},
   "source": [
    "文档： [https://python.langchain.com/v0.2/docs/how_to/#agents](https://python.langchain.com/v0.2/docs/how_to/#agents)\n",
    "\n",
    "Agents: For in depth how-to guides for agents, please check out LangGraph documentation.\n",
    "\n",
    "[How to: use legacy LangChain Agents (AgentExecutor)](https://python.langchain.com/v0.2/docs/how_to/agent_executor/)\n",
    "\n",
    "[How to: migrate from legacy LangChain agents to LangGraph](https://python.langchain.com/v0.2/docs/how_to/migrate_agent/)"
   ]
  },
  {
   "cell_type": "code",
   "execution_count": null,
   "id": "be80a9de-5c4a-48d7-ad30-d794015f2cb0",
   "metadata": {},
   "outputs": [],
   "source": []
  }
 ],
 "metadata": {
  "kernelspec": {
   "display_name": "Python 3 (ipykernel)",
   "language": "python",
   "name": "python3"
  },
  "language_info": {
   "codemirror_mode": {
    "name": "ipython",
    "version": 3
   },
   "file_extension": ".py",
   "mimetype": "text/x-python",
   "name": "python",
   "nbconvert_exporter": "python",
   "pygments_lexer": "ipython3",
   "version": "3.12.0"
  }
 },
 "nbformat": 4,
 "nbformat_minor": 5
}
