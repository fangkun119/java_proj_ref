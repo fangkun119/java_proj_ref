{
 "cells": [
  {
   "cell_type": "markdown",
   "id": "3a7564a8-e6a0-4935-9919-37a10313975c",
   "metadata": {},
   "source": [
    "# <center>三 LangGraph应用程序运维监控"
   ]
  },
  {
   "cell_type": "markdown",
   "id": "de084578-60fe-4327-ad5b-7877fa4288bc",
   "metadata": {},
   "source": [
    "&emsp;&emsp;大模型具有不确定性，尤其是构建复杂`AI Agent`应用程序中，中间会涉及非常多的子步骤，如果想要了解每一步的运行状态和结果，一方面可以通过`Debug`来进行实时控制，而另一方面可以借助一些工具来观察和调试中间的交互流程。`Langsmith`就是这样一个工具平台， 由​​ `LangChain` 和 `LangGraph` 背后的团队创建，**主要作用是：为基于大语言模型构建的应用程序提供全面的监控、调试和可观察性。提供强大的跟踪、日志记录和实时分析功能。**"
   ]
  },
  {
   "cell_type": "markdown",
   "id": "5b2f16d2-4336-4ee1-9a92-61a02b5cabc8",
   "metadata": {},
   "source": [
    "> LangSmith：https://smith.langchain.com/"
   ]
  },
  {
   "cell_type": "markdown",
   "id": "6f1237fe-63d8-4ce2-b81f-265ff84146a6",
   "metadata": {},
   "source": [
    "&emsp;&emsp;通常，对于一个项目而言，可以是单个应用程序或服务。该项目将包含多个跟踪，每个跟踪都是运行的集合 - 一个运行代表应用程序中的一个基本操作，例如对 OpenAI 的 API 调用，或检索操作。如下图所示："
   ]
  },
  {
   "cell_type": "markdown",
   "id": "d03f1b45-82fc-4895-bf1d-9e25df7bfad4",
   "metadata": {},
   "source": [
    "<div align=center><img src=\"../pic/lesson03/1.png\" width=100%></div>"
   ]
  },
  {
   "cell_type": "markdown",
   "id": "d6cf3c97-3572-47cb-9096-8ebb8a392c6b",
   "metadata": {},
   "source": [
    "- **Project (项目)** 蓝色方块代表整个项目，可能是一个单独的应用程序或服务。\n",
    "- **Traces (轨迹)** 绿色方块代表项目在不同条件或配置下的执行路径。每个轨迹可以是一个特定的用户会话、一个功能的执行，或者应用在特定输入下的行为。\n",
    "- **Runs (运行)** 每个轨迹下的黄色方块表示特定轨迹的单次执行。这些是执行的实例，每个实例都是轨迹在特定条件下的实际运行。\n",
    "- **Feedback, Tags, Metadata (反馈、标签、元数据)** 这部分显示了系统如何利用用户或自动化工具生成的反馈、标签和元数据来增强轨迹的管理和过滤。反馈可以用于改进未来的运行，标签和元数据可用于分类和筛选特定的轨迹或运行，以便在LangSmith的用户界面中更容易地管理和审查"
   ]
  },
  {
   "cell_type": "markdown",
   "id": "c27d5428-39c6-4413-8c1d-c0da2eadec92",
   "metadata": {},
   "source": [
    "## 1.1 注册账户"
   ]
  },
  {
   "cell_type": "markdown",
   "id": "b250121d-5297-483c-9aab-bc362ff74cc3",
   "metadata": {},
   "source": [
    "> LangSmith：https://smith.langchain.com/"
   ]
  },
  {
   "cell_type": "markdown",
   "id": "c705c7a2-65f6-471c-af19-ed9d7f120b44",
   "metadata": {},
   "source": [
    "## 1.2 使用"
   ]
  },
  {
   "cell_type": "code",
   "execution_count": 5,
   "id": "80783ff0-9202-4b07-ac6d-4a9cceb6c172",
   "metadata": {},
   "outputs": [],
   "source": [
    "from langchain_openai import ChatOpenAI\n",
    "from langchain_core.prompts import ChatPromptTemplate\n",
    "\n",
    "import getpass\n",
    "import os\n",
    "\n",
    "key=\"sk-kDWtZI5R2tOWLYiREfzzsD7Z3XEsEH5n6SClKqZ4Lxr5GcM\"\n",
    "base_url=\"https://chatapi.littlewheat.com/v1\""
   ]
  },
  {
   "cell_type": "code",
   "execution_count": 22,
   "id": "a031eeb6-505e-4fe8-a890-de8c0157bff5",
   "metadata": {},
   "outputs": [
    {
     "name": "stdout",
     "output_type": "stream",
     "text": [
      "true\n",
      "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\n",
      "chat\n"
     ]
    }
   ],
   "source": [
    "\n",
    "# 设置环境变量\n",
    "os.environ[\"LANGCHAIN_TRACING_V2\"] = \"true\"\n",
    "os.environ[\"LANGCHAIN_API_KEY\"] = \"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\"\n",
    "#os.environ[\"LANGCHAIN_PROJECT\"] = \"chat\"\n",
    "#os.environ[\"LANGCHAIN_ENDPOINT\"]= \"https://api.smith.langchain.com\"\n",
    "\n",
    "# 验证环境变量是否设置成功\n",
    "print(os.getenv(\"LANGCHAIN_TRACING_V2\"))\n",
    "print(os.getenv(\"LANGCHAIN_API_KEY\"))\n",
    "print(os.getenv(\"LANGCHAIN_PROJECT\"))"
   ]
  },
  {
   "cell_type": "code",
   "execution_count": 23,
   "id": "b7f9aeb4-e2ad-4b46-b9b7-87ebe9558350",
   "metadata": {},
   "outputs": [],
   "source": [
    "from typing import Annotated\n",
    "from typing_extensions import TypedDict\n",
    "from langgraph.graph import StateGraph, START, END\n",
    "from langgraph.graph.message import add_messages\n",
    "import getpass\n",
    "import os\n",
    "from langchain_openai import ChatOpenAI\n",
    "from langchain_core.prompts import ChatPromptTemplate\n",
    "\n",
    "\n",
    "class State(TypedDict):\n",
    "    messages: Annotated[list, add_messages]\n",
    "\n",
    "graph_builder = StateGraph(State)\n",
    "\n",
    "\n",
    "\n",
    "llm = ChatOpenAI(model=\"gpt-4o\", api_key=key,base_url=base_url,temperature=0,)\n",
    "\n",
    "def chatbot(state: State):\n",
    "    # print(state)\n",
    "    return {\"messages\": [llm.invoke(state[\"messages\"])]}\n",
    "\n",
    "\n",
    "graph_builder.add_node(\"chatbot\", chatbot)\n",
    "\n",
    "graph_builder.add_edge(START, \"chatbot\")\n",
    "graph_builder.add_edge(\"chatbot\", END)\n",
    "\n",
    "graph = graph_builder.compile()"
   ]
  },
  {
   "cell_type": "code",
   "execution_count": 24,
   "id": "47225e43-985b-47c3-ad93-b91ebb35ff8f",
   "metadata": {},
   "outputs": [
    {
     "name": "stdin",
     "output_type": "stream",
     "text": [
      "用户提问:  你好\n"
     ]
    },
    {
     "name": "stdout",
     "output_type": "stream",
     "text": [
      "模型回复: 你好！有什么我可以帮忙的吗？\n"
     ]
    },
    {
     "name": "stdin",
     "output_type": "stream",
     "text": [
      "用户提问:  介绍一下自己\n"
     ]
    },
    {
     "name": "stdout",
     "output_type": "stream",
     "text": [
      "模型回复: 你好！我是一个大型语言模型助手，由OpenAI训练开发。我可以帮助回答问题、提供信息、撰写文章以及协助许多其他任务。我特别擅长处理和理解各种主题的自然语言。如果你有任何问题或需要帮助的地方，随时可以问我！\n"
     ]
    },
    {
     "name": "stdin",
     "output_type": "stream",
     "text": [
      "用户提问:  退出\n"
     ]
    },
    {
     "name": "stdout",
     "output_type": "stream",
     "text": [
      "下次再见！\n"
     ]
    }
   ],
   "source": [
    "def stream_graph_updates(user_input: str):  \n",
    "    for event in graph.stream({\"messages\": [(\"user\", user_input)]}):\n",
    "        for value in event.values():\n",
    "            print(\"模型回复:\", value[\"messages\"][-1].content)\n",
    "\n",
    "\n",
    "while True:\n",
    "    try:\n",
    "        user_input = input(\"用户提问: \")\n",
    "        if user_input.lower() in [\"退出\"]:\n",
    "            print(\"下次再见！\")\n",
    "            break\n",
    "\n",
    "        stream_graph_updates(user_input)\n",
    "    except:\n",
    "        # fallback if input() is not available  \n",
    "        user_input = \"What do you know about LangGraph?\"\n",
    "        print(\"User: \" + user_input)\n",
    "        stream_graph_updates(user_input)\n",
    "        break"
   ]
  },
  {
   "cell_type": "code",
   "execution_count": null,
   "id": "f9527c30-59a0-49d6-a2a0-ce104b7384ce",
   "metadata": {},
   "outputs": [],
   "source": []
  },
  {
   "cell_type": "code",
   "execution_count": null,
   "id": "80ceb394-75c7-4004-a263-85d15193c5aa",
   "metadata": {},
   "outputs": [],
   "source": []
  },
  {
   "cell_type": "code",
   "execution_count": null,
   "id": "41756ef0-4974-40f5-856f-4efb575679a0",
   "metadata": {},
   "outputs": [],
   "source": []
  }
 ],
 "metadata": {
  "kernelspec": {
   "display_name": "Python 3 (ipykernel)",
   "language": "python",
   "name": "python3"
  },
  "language_info": {
   "codemirror_mode": {
    "name": "ipython",
    "version": 3
   },
   "file_extension": ".py",
   "mimetype": "text/x-python",
   "name": "python",
   "nbconvert_exporter": "python",
   "pygments_lexer": "ipython3",
   "version": "3.12.3"
  }
 },
 "nbformat": 4,
 "nbformat_minor": 5
}
