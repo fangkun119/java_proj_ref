{
 "cells": [
  {
   "cell_type": "markdown",
   "id": "54f9d289-6474-48ff-bd31-d6670db0b4f5",
   "metadata": {},
   "source": [
    "# <center> 七 LangGraph 长短期记忆实现机制及检查点的使用"
   ]
  },
  {
   "cell_type": "markdown",
   "id": "efeccc92-4401-4f78-a8c6-78fd99b7f4fa",
   "metadata": {},
   "source": [
    "&emsp;&emsp;我们已经探索了使用基础图结构来实现大模型交互，并逐步引入了各种代理架构，以构建能够处理更复杂逻辑的图结构。随着节点和功能的不断增加，构建出来的应用程序也具备了处理更复杂问题的能力。但是，不论是简单还是复杂的图，一个明显的限制是：**之前课程中的所有实现都只能执行单一任务。也就是说，一旦图被编译并根据用户的输入运行以后，它虽然可以按照既定的图流程输出结果，但在下一次交互时，这个图将无法记住之前的对话内容**。我们可以通过以下代码进行测试，观察这一现象："
   ]
  },
  {
   "cell_type": "markdown",
   "id": "e84a9931-a213-42e5-8a16-a67d9103adcb",
   "metadata": {},
   "source": [
    "<div align=center><img src=\"../pic/lesson07/1.png\" width=80%></div>"
   ]
  },
  {
   "cell_type": "markdown",
   "id": "b577a807-ed9f-4c04-a602-acfecd1fc68f",
   "metadata": {},
   "source": [
    "&emsp;&emsp;下面的代码中实现的是一个最简单、最基础的基于`LangGraph`构建的图："
   ]
  },
  {
   "cell_type": "code",
   "execution_count": 1,
   "id": "32abef84-9677-4d6d-8ac6-5d74853ac72a",
   "metadata": {},
   "outputs": [],
   "source": [
    "import getpass\n",
    "import os\n",
    "\n",
    "key=\"sk-kDWtZI52tOWLYiREfzzsD7Z3XEsEH5n6SClKqZ4Lxr5GcM\"\n",
    "base_url=\"https://chatapi.littlewheat.com/v1\"\n",
    "\n",
    "from langchain_openai import ChatOpenAI\n",
    "\n",
    "llm = ChatOpenAI(model=\"gpt-4o\", api_key=key,base_url=base_url,temperature=0,)"
   ]
  },
  {
   "cell_type": "code",
   "execution_count": 4,
   "id": "c2d6d26e-2746-45fe-903d-780c4e0f1719",
   "metadata": {},
   "outputs": [
    {
     "data": {
      "image/png": "[encoded data removed]",
      "text/plain": [
       "<IPython.core.display.Image object>"
      ]
     },
     "metadata": {},
     "output_type": "display_data"
    }
   ],
   "source": [
    "import getpass\n",
    "import os\n",
    "from langchain_openai import ChatOpenAI\n",
    "from typing import Annotated\n",
    "from typing_extensions import TypedDict\n",
    "from IPython.display import Image, display\n",
    "from langgraph.graph import StateGraph, MessagesState, START, END\n",
    "from langchain_core.messages import AnyMessage, SystemMessage, HumanMessage, ToolMessage\n",
    "from langgraph.graph.message import add_messages\n",
    "\n",
    "\n",
    "\n",
    "# 定义状态模式\n",
    "class State(TypedDict):\n",
    "    messages: Annotated[list, add_messages]\n",
    "\n",
    "# 定义对话节点\n",
    "def call_model(state: State):\n",
    "    response = llm.invoke(state[\"messages\"])\n",
    "    return {\"messages\": response}\n",
    "\n",
    "# 构建状态图\n",
    "builder = StateGraph(State)\n",
    "\n",
    "# 向图中添加节点\n",
    "builder.add_node(\"call_model\", call_model)\n",
    "\n",
    "# 构建边\n",
    "builder.add_edge(START, \"call_model\")\n",
    "builder.add_edge(\"call_model\", END)\n",
    "\n",
    "# 编译图\n",
    "simple_graph = builder.compile()\n",
    "\n",
    "# 可视化\n",
    "display(Image(simple_graph.get_graph().draw_mermaid_png()))"
   ]
  },
  {
   "cell_type": "markdown",
   "id": "5a4e7107-3c6d-4a9c-a38d-0f7b6249d561",
   "metadata": {},
   "source": [
    "&emsp;&emsp;我们来对这个图进行多轮的问答交互，测试其上下文记忆能力。首先进行第一轮提问："
   ]
  },
  {
   "cell_type": "code",
   "execution_count": 5,
   "id": "53777c15-f3c1-41ee-ad6a-f336db44ea01",
   "metadata": {},
   "outputs": [
    {
     "name": "stdout",
     "output_type": "stream",
     "text": [
      "================================\u001b[1m Human Message \u001b[0m=================================\n",
      "\n",
      "你好，我叫西瓜老师\n",
      "==================================\u001b[1m Ai Message \u001b[0m==================================\n",
      "\n",
      "你好，西瓜老师！很高兴见到你。有什么我可以帮助你的呢？\n"
     ]
    }
   ],
   "source": [
    "async for chunk in simple_graph.astream(input={\"messages\": [\"你好，我叫西瓜老师\"]}, stream_mode=\"values\"):\n",
    "    message = chunk[\"messages\"][-1].pretty_print()"
   ]
  },
  {
   "cell_type": "markdown",
   "id": "fecaef93-8147-46cf-87b2-12eee958469c",
   "metadata": {},
   "source": [
    "&emsp;&emsp;接下来进行第二轮提问："
   ]
  },
  {
   "cell_type": "code",
   "execution_count": 6,
   "id": "6847aea3-9b4d-4e8f-9fba-26b42affb9dd",
   "metadata": {},
   "outputs": [
    {
     "name": "stdout",
     "output_type": "stream",
     "text": [
      "================================\u001b[1m Human Message \u001b[0m=================================\n",
      "\n",
      "你知道我叫什么吗？\n",
      "==================================\u001b[1m Ai Message \u001b[0m==================================\n",
      "\n",
      "对不起，我不知道你的名字。我无法获取个人信息。如果你愿意，可以告诉我你的名字。\n"
     ]
    }
   ],
   "source": [
    "async for chunk in simple_graph.astream(input={\"messages\": [\"你知道我叫什么吗？\"]}, stream_mode=\"values\"):\n",
    "    message = chunk[\"messages\"][-1].pretty_print()"
   ]
  },
  {
   "cell_type": "markdown",
   "id": "e200556f-7ba5-4dbe-88c6-7327ff628129",
   "metadata": {},
   "source": [
    "&emsp;&emsp;第三轮提问继续测试："
   ]
  },
  {
   "cell_type": "code",
   "execution_count": 7,
   "id": "0ec3fe6f-9ee3-46cd-a07c-c3df42d89b3f",
   "metadata": {},
   "outputs": [
    {
     "name": "stdout",
     "output_type": "stream",
     "text": [
      "================================\u001b[1m Human Message \u001b[0m=================================\n",
      "\n",
      "请问我刚才都问了你什么问题？\n",
      "==================================\u001b[1m Ai Message \u001b[0m==================================\n",
      "\n",
      "对不起，我没有办法查看或记住先前的对话记录。如果你有任何问题，请随时再问我！\n"
     ]
    }
   ],
   "source": [
    "async for chunk in simple_graph.astream(input={\"messages\": [\"请问我刚才都问了你什么问题？\"]}, stream_mode=\"values\"):\n",
    "    message = chunk[\"messages\"][-1].pretty_print()"
   ]
  },
  {
   "cell_type": "markdown",
   "id": "34f53155-d1fc-485c-b5c6-36d3ea6b918f",
   "metadata": {},
   "source": [
    "&emsp;&emsp;从上述三轮提问和响应的分析中，我们可以清楚地看到，虽然每轮的问题都是输入到同一个编译后的`graph`实例，但是每次它表现得都像一个\"新图\"一样，完全不知道自己之前做了什么。所以很显然，**当前的图结构是缺乏上下文记忆能力的**。首先要明确的是：**大模型本身是不具备记忆能力的。**在之前的课程中，我们讨论过为大模型赋予记忆能力的方法，通常是通过维护一个消息列表来保存之前的对话内容，然后在每次新的对话时填充到整体的`Prompt`中，从而实现上下文的持续性。比如下面的代码："
   ]
  },
  {
   "cell_type": "code",
   "execution_count": 8,
   "id": "677ba3c3-88a4-44f5-aff4-662b8ff5f025",
   "metadata": {},
   "outputs": [],
   "source": [
    "from openai import OpenAI\n",
    "client = OpenAI(api_key=key,base_url=base_url)"
   ]
  },
  {
   "cell_type": "code",
   "execution_count": 9,
   "id": "dd9417d6-7f6c-4d52-8b0a-bd34f3ae6a14",
   "metadata": {},
   "outputs": [
    {
     "name": "stdout",
     "output_type": "stream",
     "text": [
      "你刚才告诉我你叫西瓜老师。请问有什么我可以帮忙的吗？\n"
     ]
    }
   ],
   "source": [
    "completion = client.chat.completions.create(\n",
    "  model=\"gpt-4o\",\n",
    "  messages=[\n",
    "    {\"role\": \"user\", \"content\": \"你好，我叫西瓜老师\"},\n",
    "    {\"role\": \"assistant\", \"content\": \"你好，西瓜老师，很高兴认识你。\"},\n",
    "    {\"role\": \"user\", \"content\": \"你知道我叫什么吗？\"}\n",
    "  ]\n",
    ")\n",
    "\n",
    "print(completion.choices[0].message.content)"
   ]
  },
  {
   "cell_type": "markdown",
   "id": "95e77cd3-d45a-469f-8d6a-46ddecd833c3",
   "metadata": {},
   "source": [
    "&emsp;&emsp;当我们通过在`Prompt`中填入之前的问答对话，并将其与新一轮的问题一起发送给大模型时，大模型就能够理解并维持对话的上下文。这种方法是我们在多个应用场景中实现大模型记忆功能的经典做法。这里可以有的小伙伴会比较疑惑，在构建图的时候不是通过`State`状态模式中的`add_messages`这个`Reducer`函数维护了一个消息列表吗，看似已经在处理记忆功能，为何不生效？正如下面这样："
   ]
  },
  {
   "cell_type": "code",
   "execution_count": 10,
   "id": "e4cc35f2-42ab-4ed1-87f0-ebbb2b9c0373",
   "metadata": {},
   "outputs": [
    {
     "name": "stdout",
     "output_type": "stream",
     "text": [
      "{'messages': [HumanMessage(content='你好，我叫西瓜老师', additional_kwargs={}, response_metadata={}, id='f1fb0136-eabb-47f4-9059-50fe45454ec5')]}\n",
      "{'messages': [HumanMessage(content='你好，我叫西瓜老师', additional_kwargs={}, response_metadata={}, id='f1fb0136-eabb-47f4-9059-50fe45454ec5'), AIMessage(content='你好，西瓜老师！很高兴见到你。有什么我可以帮助你的吗？', additional_kwargs={'refusal': None}, response_metadata={'token_usage': {'completion_tokens': 20, 'prompt_tokens': 13, 'total_tokens': 33, 'completion_tokens_details': {'accepted_prediction_tokens': None, 'audio_tokens': None, 'reasoning_tokens': None, 'rejected_prediction_tokens': None}, 'prompt_tokens_details': {'audio_tokens': None, 'cached_tokens': None}}, 'model_name': 'gpt-4o-2024-08-06', 'system_fingerprint': 'fp_f3927aa00d', 'finish_reason': 'stop', 'logprobs': None}, id='run-b44ada7e-11f9-41cc-9766-517754d393d3-0', usage_metadata={'input_tokens': 13, 'output_tokens': 20, 'total_tokens': 33, 'input_token_details': {}, 'output_token_details': {}})]}\n"
     ]
    }
   ],
   "source": [
    "async for chunk in simple_graph.astream(input={\"messages\": [\"你好，我叫西瓜老师\"]}, stream_mode=\"values\"):\n",
    "    print(chunk)"
   ]
  },
  {
   "cell_type": "markdown",
   "id": "9166b0fa-7379-4284-8589-8835be32254f",
   "metadata": {},
   "source": [
    "&emsp;&emsp;如上输出所示，在`Start`节点到`call_model`节点之间，在`Messages`中记录了`HumanMessage(content='你好，我叫西瓜老师', ....）`的有效信息，而在`call_model`到`END`节点之间，在在`Messages`中记录了`HumanMessage(content='你好，我叫西瓜老师', ....），AIMessage(content='你好，西瓜老师！很高兴认识你。有什么我可以帮助你的吗？)....'`的有效信息，这看起来是合理的。但是当我们发起一轮新的问答的时候："
   ]
  },
  {
   "cell_type": "code",
   "execution_count": 11,
   "id": "b5473650-5315-4e85-a046-52128a7a1dc5",
   "metadata": {},
   "outputs": [
    {
     "name": "stdout",
     "output_type": "stream",
     "text": [
      "{'messages': [HumanMessage(content='请问你知道我叫什么吗？', additional_kwargs={}, response_metadata={}, id='735fb492-cfdf-4a0e-8dda-22a00571e643')]}\n",
      "{'messages': [HumanMessage(content='请问你知道我叫什么吗？', additional_kwargs={}, response_metadata={}, id='735fb492-cfdf-4a0e-8dda-22a00571e643'), AIMessage(content='对不起，我不能识别你的名字或个人信息。你可以告诉我或问任何其他问题，我会尽力帮助你。', additional_kwargs={'refusal': None}, response_metadata={'token_usage': {'completion_tokens': 28, 'prompt_tokens': 15, 'total_tokens': 43, 'completion_tokens_details': {'accepted_prediction_tokens': 0, 'audio_tokens': 0, 'reasoning_tokens': 0, 'rejected_prediction_tokens': 0}, 'prompt_tokens_details': {'audio_tokens': 0, 'cached_tokens': 0}}, 'model_name': 'gpt-4o-2024-08-06', 'system_fingerprint': 'fp_f3927aa00d', 'finish_reason': 'stop', 'logprobs': None}, id='run-9fb440fa-fb03-41d6-80e6-b87a43c451d9-0', usage_metadata={'input_tokens': 15, 'output_tokens': 28, 'total_tokens': 43, 'input_token_details': {'audio': 0, 'cache_read': 0}, 'output_token_details': {'audio': 0, 'reasoning': 0}})]}\n"
     ]
    }
   ],
   "source": [
    "async for chunk in simple_graph.astream(input={\"messages\": [\"请问你知道我叫什么吗？\"]}, stream_mode=\"values\"):\n",
    "    print(chunk)"
   ]
  },
  {
   "cell_type": "markdown",
   "id": "3ee1d700-ea56-4d86-9c50-80878004ce6d",
   "metadata": {},
   "source": [
    "&emsp;&emsp;如果按照能让该图具备上下文记忆能力的话，其维护的`Messages`应该是：\n",
    "```json\n",
    "{'messages': [HumanMessage(content='你好，我叫西瓜老师') .....]\n",
    "    \n",
    "{'messages': [HumanMessage(content='你好，我叫西瓜老师') , \n",
    "              AIMessage(content='你好，西瓜老师！很高兴认识你。有什么我可以帮助你的吗？') .....]\n",
    "\n",
    "{'messages': [HumanMessage(content='你好，我叫西瓜老师') ,  \n",
    "              AIMessage(content='你好，西瓜老师！很高兴认识你。有什么我可以帮助你的吗？') , \n",
    "              HumanMessage(content='你知道我叫什么吗？')....]\n",
    "```"
   ]
  },
  {
   "cell_type": "markdown",
   "id": "4eab11e2-6f40-474b-883a-35f54db6cbd2",
   "metadata": {},
   "source": [
    "&emsp;&emsp;显然在第二轮提问后，`State`状态中的`messages`字段并未如预期那样更新，这就导致了即使是同一个图连续接收到用户的问题，每一个问题对于它而言都是完全新的，没有任何上下文关联。所以，**在`LangGraph`框架中，`State`状态模式的设计本质上是用于在单次运行期间维持和传递整个图节点的消息状态。每次运行完成后，状态会重置到初始状态。以此确保每次运行的独立性，防止了不同运行间的数据干扰。但这也意味着图无法保留跨次运行的上下文信息**。这是`State`状态模式的一个常见误区，大家要特别注意理解。"
   ]
  },
  {
   "cell_type": "markdown",
   "id": "12e76bca-079f-432c-97df-1d0a4e41f6de",
   "metadata": {},
   "source": [
    "&emsp;&emsp;那如何做到上下文的记忆功能呢？我们就需要深入了解一下`LangGraph`中的`checkpointer`模块设计。这个模块用于**灵活管理`State`状态中产生的有效信息，能够保存历史数据，并在需要时将这些数据传递回图中，从而赋予整个图结构上下文记忆的能力，以此来保持状态信息的连续性。**"
   ]
  },
  {
   "cell_type": "markdown",
   "id": "1b9843d7-097d-4281-ba0c-87bda5d3764c",
   "metadata": {},
   "source": [
    "# 1. AI Agent的记忆认知"
   ]
  },
  {
   "cell_type": "markdown",
   "id": "53f93351-623f-4282-a260-1d38243b7966",
   "metadata": {},
   "source": [
    "&emsp;&emsp;**记忆是一种允许个体存储、检索并利用信息以理解过去和规划未来的关键认知功能**。像人类一样，通过学习、经验获得的知识可以在需要的时候从大脑中检索出来。对于`AI Agent`来说，随着其承担越来越复杂、涉及大量用户交互的任务，通过`State`状态的管理，是可以处理从大任务拆分出来的各个子任务间的记录和阶段性成果，这本质上就是一种记忆形式。而如果我们还期望`AI Agent`能在连续的交互中跨对话理解之前的行为，这同样是一种记忆能力的体现。\n",
    "\n",
    "&emsp;&emsp;总的来说，无论是运行中的状态信息传递还是跨对话间的信息保存，记忆功能都适用于多种场景，并有多种实现方式。**不同的结构框架对`Memory`的实现和定位都会有所不同，但都会将其所实现的记忆功能分为短期记忆和长期记忆两大类，以适应不同的应用需求。**我们**对短期记忆的普遍理解是指那些存储在缓存、内存或程序运行过程中的状态信息**。这类信息通常作为整个大模型或`Agent`的短期记忆，在构建过程中通过数据接口进行临时存储，并在任务完成后直接被清除，就像`LangGraph`的`State`状态机制一样。相对地，**长期记忆通常涉及将重要数据通过特定方式持久化保存在某种存储容器中，任何程序都可以在这里提取到内容，且不受时间的影响**，一般这种常规的实现方法是数据库的本地存储。\n",
    "\n",
    "&emsp;&emsp;我们正在学习的`LangGraph`框架，其官方的设计思路就如下图所示："
   ]
  },
  {
   "cell_type": "markdown",
   "id": "f5ccb790-f939-4f30-88c4-8767da58c9fc",
   "metadata": {},
   "source": [
    "> LangGraph Memory Docs：https://langchain-ai.github.io/langgraph/concepts/memory/#what-is-memory"
   ]
  },
  {
   "cell_type": "markdown",
   "id": "027d6113-0fc3-47c5-9d6a-869137cda355",
   "metadata": {},
   "source": [
    "<div align=center><img src=\"../pic/lesson07/a.png\" width=80%></div>"
   ]
  },
  {
   "cell_type": "markdown",
   "id": "a7643daa-6e0c-4f0c-bf0c-d5cfd80b387a",
   "metadata": {},
   "source": [
    "&emsp;&emsp;上图来自于`LangGraph`的官方文档。**不同的开发框架会因为其整体架构的设计而对长短期记忆有不同的定位，同时也会根据其底层的开发原理来做不同形式的具体实现**。每个`AI Agent`开发框架都会包含记忆模块，但具体应用的方法一定都是不一样的，也势必会产生特有的专业名词来定义这个过程。正如上图所示，`LangGraph` 框架通过`Checkpointer` 和 `Store`分别作为长短期记忆的管理模块，而其整体对这两类记忆的定位则是：\n",
    "\n",
    "- **短期记忆：允许代理访问图中较早步骤中获取的信息，并且可以可以随时从与用户的单个对话线程中调用。**\n",
    "- **长期记忆：使代理能够回忆起之前交互中的信息，例如对话中过去的消息，并且可以在对话线程之间共享，在任何时间、任何线程中调用。**"
   ]
  },
  {
   "cell_type": "markdown",
   "id": "30f11bff-edd4-430a-afdb-94662809d4c3",
   "metadata": {},
   "source": [
    "&emsp;&emsp;因此，无论是想在已有的图中加入短期记忆还是长期记忆，理解它们管理模式的具体实现方法就是我们学习的关键。首先，让我们探讨用于管理短期记忆的`Checkpointer`。"
   ]
  },
  {
   "cell_type": "markdown",
   "id": "1b6eadf1-99ab-4dcb-8a82-c6d52549485d",
   "metadata": {},
   "source": [
    "# 2. 短期记忆及Checkpointer（检查点）"
   ]
  },
  {
   "cell_type": "markdown",
   "id": "42699554-89c6-4770-b022-96a94bfab394",
   "metadata": {},
   "source": [
    "&emsp;&emsp;在介绍`LangGraph`中的`Checkpointer`功能之前，我们先利用已学的知识分析一下图在运行时处理中间过程信息的方式。这里我们构建一个简单的图，包括两个节点：`call_model`节点用于加载一个大模型并回答用户输入的问题，而`translate_message`节点则将`call_model`生成的回答翻译成英文。以下是完整的代码实现："
   ]
  },
  {
   "cell_type": "code",
   "execution_count": 12,
   "id": "7deea33c-ba66-4062-bedd-ccbe33e7101e",
   "metadata": {},
   "outputs": [
    {
     "data": {
      "image/png": "[encoded data removed]",
      "text/plain": [
       "<IPython.core.display.Image object>"
      ]
     },
     "metadata": {},
     "output_type": "display_data"
    }
   ],
   "source": [
    "import getpass\n",
    "import os\n",
    "from langchain_openai import ChatOpenAI\n",
    "from typing import Annotated\n",
    "from typing_extensions import TypedDict\n",
    "from IPython.display import Image, display\n",
    "from langgraph.graph import StateGraph, MessagesState, START, END\n",
    "from langchain_core.messages import AnyMessage, SystemMessage, HumanMessage, ToolMessage\n",
    "from langgraph.graph.message import add_messages\n",
    "\n",
    "\n",
    "llm = ChatOpenAI(model=\"gpt-4o\", api_key=key,base_url=base_url,temperature=0,)\n",
    "\n",
    "# 定义状态模式\n",
    "class State(TypedDict):\n",
    "    messages: Annotated[list, add_messages]\n",
    "\n",
    "# 定义大模型交互节点\n",
    "def call_model(state: State):\n",
    "    response = llm.invoke(state[\"messages\"])\n",
    "    return {\"messages\": response}\n",
    "\n",
    "# 定义翻译节点\n",
    "def translate_message(state: State):\n",
    "    system_prompt = \"\"\"\n",
    "    Please translate the received text in any language into English as output\n",
    "    \"\"\"\n",
    "    messages = state['messages'][-1]\n",
    "    messages = [SystemMessage(content=system_prompt)] + [HumanMessage(content=messages.content)]\n",
    "    response = llm.invoke(messages)\n",
    "    return {\"messages\": response}\n",
    "\n",
    "# 构建状态图\n",
    "builder = StateGraph(State)\n",
    "\n",
    "# 向图中添加节点\n",
    "builder.add_node(\"call_model\", call_model)\n",
    "builder.add_node(\"translate_message\", translate_message)\n",
    "\n",
    "# 构建边\n",
    "builder.add_edge(START, \"call_model\")\n",
    "builder.add_edge(\"call_model\", \"translate_message\")\n",
    "builder.add_edge(\"translate_message\", END)\n",
    "\n",
    "# 编译图\n",
    "simple_short_graph = builder.compile()\n",
    "\n",
    "# 生成可视化图像结构\n",
    "display(Image(simple_short_graph.get_graph().draw_mermaid_png()))"
   ]
  },
  {
   "cell_type": "markdown",
   "id": "793e57a3-a20f-4803-804e-f045f02a9a10",
   "metadata": {},
   "source": [
    "&emsp;&emsp;首先我们测试图的运行流程，这里使用异步的流式输出形式，并指定它的输出模式为`values`。代码如下"
   ]
  },
  {
   "cell_type": "code",
   "execution_count": 13,
   "id": "413bf234-2cdc-4451-98b9-9c16842abde2",
   "metadata": {},
   "outputs": [
    {
     "name": "stdout",
     "output_type": "stream",
     "text": [
      "================================\u001b[1m Human Message \u001b[0m=================================\n",
      "\n",
      "你好，我叫西瓜老师\n",
      "==================================\u001b[1m Ai Message \u001b[0m==================================\n",
      "\n",
      "你好，西瓜老师！很高兴见到你。有什么我可以帮助你的吗？\n",
      "==================================\u001b[1m Ai Message \u001b[0m==================================\n",
      "\n",
      "Hello, Teacher Watermelon! Nice to meet you. Is there anything I can help you with?\n"
     ]
    }
   ],
   "source": [
    "async for chunk in simple_short_graph.astream(input={\"messages\": [\"你好，我叫西瓜老师\"]}, stream_mode=\"values\"):\n",
    "    message = chunk[\"messages\"][-1].pretty_print()"
   ]
  },
  {
   "cell_type": "code",
   "execution_count": 14,
   "id": "455773ae-04fb-4a7c-91ca-c7e8a3af7b6e",
   "metadata": {},
   "outputs": [
    {
     "name": "stdout",
     "output_type": "stream",
     "text": [
      "================================\u001b[1m Human Message \u001b[0m=================================\n",
      "\n",
      "请问，我叫什么？\n",
      "==================================\u001b[1m Ai Message \u001b[0m==================================\n",
      "\n",
      "抱歉，我无法知道你的名字。\n",
      "==================================\u001b[1m Ai Message \u001b[0m==================================\n",
      "\n",
      "Sorry, I can't know your name.\n"
     ]
    }
   ],
   "source": [
    "async for chunk in simple_short_graph.astream(input={\"messages\": [\"请问，我叫什么？\"]}, stream_mode=\"values\"):\n",
    "    message = chunk[\"messages\"][-1].pretty_print()"
   ]
  },
  {
   "cell_type": "markdown",
   "id": "09290087-3a85-4745-9d33-3e53e635ae3f",
   "metadata": {},
   "source": [
    "&emsp;&emsp;这里确定当前的`graph`实例不具备任何的上下文记忆能力。然后我们进入`Debug`模式去分析其中间过程。代码如下："
   ]
  },
  {
   "cell_type": "code",
   "execution_count": 16,
   "id": "4a0c124f-2be0-488e-859b-ce47e953ad53",
   "metadata": {},
   "outputs": [
    {
     "name": "stdout",
     "output_type": "stream",
     "text": [
      "Task id : a3095fc4-8f7d-f3a2-a5b5-12c706a3c09c\n",
      "Message id:77dea20a-eb48-4cd7-a388-405a5bbbfc6e, Message content:你好，我叫西瓜老师\n",
      "------------------------------------------------\n",
      "------------------------------------------------\n",
      "Task id : a3095fc4-8f7d-f3a2-a5b5-12c706a3c09c\n",
      "Message id:run-84a5287a-3ad0-453c-b56d-8c9789aba39a-0, Message content:你好，西瓜老师！很高兴见到你。有什么我可以帮助你的吗？\n",
      "------------------------------------------------\n",
      "------------------------------------------------\n",
      "Task id : ac1f681e-8ff2-4f62-bcda-6f467df25d2d\n",
      "Message id:77dea20a-eb48-4cd7-a388-405a5bbbfc6e, Message content:你好，我叫西瓜老师\n",
      "Message id:run-84a5287a-3ad0-453c-b56d-8c9789aba39a-0, Message content:你好，西瓜老师！很高兴见到你。有什么我可以帮助你的吗？\n",
      "------------------------------------------------\n",
      "------------------------------------------------\n",
      "Task id : ac1f681e-8ff2-4f62-bcda-6f467df25d2d\n",
      "Message id:run-647970e0-b95f-411d-ac98-3a18248c7dd5-0, Message content:Hello, Teacher Watermelon! It's nice to meet you. Is there anything I can help you with?\n",
      "------------------------------------------------\n",
      "------------------------------------------------\n"
     ]
    }
   ],
   "source": [
    "async for chunk in simple_short_graph.astream({\"messages\": [\"你好，我叫西瓜老师\"]}, stream_mode=\"debug\"):\n",
    "     #print(chunk)\n",
    "    print(f\"Task id : {chunk['payload']['id']}\")\n",
    "    if chunk[\"type\"] == \"task\":\n",
    "        for message in chunk[\"payload\"][\"input\"][\"messages\"]:\n",
    "            print(f\"Message id:{message.id}, Message content:{message.content}\")\n",
    "\n",
    "    if chunk[\"type\"] == \"task_result\":\n",
    "         print(f\"Message id:{chunk['payload']['result'][0][1].id}, Message content:{chunk['payload']['result'][0][1].content}\")  # tuple 类型\n",
    "\n",
    "    print(\"------------------------------------------------\")\n",
    "    print(\"------------------------------------------------\")"
   ]
  },
  {
   "cell_type": "markdown",
   "id": "c50b7c76-b70c-43db-8240-24ee210a21a1",
   "metadata": {},
   "source": [
    "观察到任务阶段和任务生成阶段，两个Task是一样的，针对于每一条Message，都会有唯一的一个ID进行标识。"
   ]
  },
  {
   "cell_type": "markdown",
   "id": "97f65a82-d000-45bb-bdcf-f1909e3053a1",
   "metadata": {},
   "source": [
    "&emsp;&emsp;再进行一轮问答：我们去验证刚刚得出来的结论"
   ]
  },
  {
   "cell_type": "code",
   "execution_count": 17,
   "id": "f6a3d374-0135-43b7-9b40-ed00753b4218",
   "metadata": {},
   "outputs": [
    {
     "name": "stdout",
     "output_type": "stream",
     "text": [
      "Task id : 44e52f48-bf04-6dd1-f230-1fab0c13e3ba\n",
      "Message id:375b181c-9171-4d81-94a4-dbac88d386ee, Message content:你知道我叫什么吗?\n",
      "------------------------------------------------\n",
      "------------------------------------------------\n",
      "Task id : 44e52f48-bf04-6dd1-f230-1fab0c13e3ba\n",
      "Message id:run-7da4b6c0-8b8e-4c18-b71a-134485156c68-0, Message content:对不起，我不知道你的名字。你可以告诉我。\n",
      "------------------------------------------------\n",
      "------------------------------------------------\n",
      "Task id : 66de3d36-35d9-b8b0-3baa-8e01830156c4\n",
      "Message id:375b181c-9171-4d81-94a4-dbac88d386ee, Message content:你知道我叫什么吗?\n",
      "Message id:run-7da4b6c0-8b8e-4c18-b71a-134485156c68-0, Message content:对不起，我不知道你的名字。你可以告诉我。\n",
      "------------------------------------------------\n",
      "------------------------------------------------\n",
      "Task id : 66de3d36-35d9-b8b0-3baa-8e01830156c4\n",
      "Message id:run-0fcb9455-37ff-4e15-8493-f88d5a07b102-0, Message content:I'm sorry, I don't know your name. Can you tell me?\n",
      "------------------------------------------------\n",
      "------------------------------------------------\n"
     ]
    }
   ],
   "source": [
    "async for chunk in simple_short_graph.astream({\"messages\": [\"你知道我叫什么吗?\"]}, stream_mode=\"debug\"):\n",
    "    # print(chunk)\n",
    "    print(f\"Task id : {chunk['payload']['id']}\")\n",
    "    if chunk[\"type\"] == \"task\":\n",
    "        for message in chunk[\"payload\"][\"input\"][\"messages\"]:\n",
    "            print(f\"Message id:{message.id}, Message content:{message.content}\")\n",
    "\n",
    "    if chunk[\"type\"] == \"task_result\":\n",
    "         print(f\"Message id:{chunk['payload']['result'][0][1].id}, Message content:{chunk['payload']['result'][0][1].content}\")  # tuple 类型\n",
    "\n",
    "    print(\"------------------------------------------------\")\n",
    "    print(\"------------------------------------------------\")"
   ]
  },
  {
   "cell_type": "markdown",
   "id": "cf80c13e-821d-4087-8ed5-17076bc36521",
   "metadata": {},
   "source": [
    "&emsp;&emsp;观察上面两轮对话中我们打印的关键信息。在`State`状态管理的事件流中，每个阶段都会生成一个`task`，并且每个`task`被分为两个阶段：生成（当前事件）和执行结果（`task_result`）。这两个阶段都有一个唯一的且共同的`task id`。此外，每条消息，无论是用户输入的还是大模型生成的回复，都有一个唯一的ID。"
   ]
  },
  {
   "cell_type": "markdown",
   "id": "cda6819a-6862-4a3e-b72f-61ce77e58cd4",
   "metadata": {},
   "source": [
    "&emsp;&emsp;那么，既然每个消息都有不同的`ID`, 如果想让后面的交互过程知道前面都产生了哪些消息，**如果有一种机制可以把消息维护起来（比如使用字典来存储会话，其中每个会话ID映射到一个消息列表），当新一轮的输入进来，我们把指定的消息列表作为初始状态追加到`State`状态中（默认新一轮`State`状态会重新初始化），借助`State`状态可以全局共享的机制，是不是就能实现上下文记忆了呢？** \n",
    "\n",
    "```json\n",
    "sessions = {\n",
    "    \"会话1\": [\n",
    "        {\n",
    "            \"id\": \"message_1\",\n",
    "            \"content\": \"你好！\",\n",
    "            \"timestamp\": \"2025-10-30T09:00:00\"\n",
    "        },\n",
    "        {\n",
    "            \"id\": \"message_2\",\n",
    "            \"content\": \"请问有什么可以帮助您的？\",\n",
    "            \"timestamp\": \"2025-10-30T09:05:00\"\n",
    "        },\n",
    "        {\n",
    "            \"id\": \"message_3\",\n",
    "            \"content\": \"感谢，再见！\",\n",
    "            \"timestamp\": \"2025-10-30T09:10:00\"\n",
    "        }\n",
    "    ],\n",
    "    \"会话2\": [\n",
    "        {\n",
    "            \"id\": \"message_5\",\n",
    "            \"content\": \"怎么了解更多产品信息？\",\n",
    "            \"timestamp\": \"2025-10-30T10:00:00\"\n",
    "        },\n",
    "        {\n",
    "            \"id\": \"message_7\",\n",
    "            \"content\": \"请查看我们的产品目录。\",\n",
    "            \"timestamp\": \"2025-10-30T10:05:00\"\n",
    "        },\n",
    "        {\n",
    "            \"id\": \"message_3\",\n",
    "            \"content\": \"感谢，再见！\",\n",
    "            \"timestamp\": \"2025-10-30T09:10:00\"\n",
    "        }\n",
    "    ]\n",
    "}\n",
    "\n",
    "```"
   ]
  },
  {
   "cell_type": "markdown",
   "id": "d4484806-12cb-49ff-ab55-789bd52ca519",
   "metadata": {},
   "source": [
    "&emsp;&emsp;理解到这里，现在我们就可以说：`LangGraph`框架中的`checkpointer`做的就是这样的事。具体来说，**它就是通过一些数据结构来存储`State`状态中产生的信息，并且在每个`task`开始时去读取全局的状态**。主要通过以下四种方式来实现：\n",
    "\n",
    "- **MemorySaver：** 用于实验性质的记忆检查点。\n",
    "- **SqliteSaver / AsyncSqliteSaver：** 使用 `SQLite` 数据库 实现的记忆检查点，适合实验性质和本地工作流程。\n",
    "- **PostgresSaver / AsyncPostgresSaver：** 使用 `Postgres` 数据库实现的高级检查点，适合在生产系统中使用。\n",
    "- **支持自定义检查点**。"
   ]
  },
  {
   "cell_type": "markdown",
   "id": "e2c124f9-2e31-4cf5-91d7-db62da0ae3f1",
   "metadata": {},
   "source": [
    "&emsp;&emsp;不同类型的`checkpointer`以不同的形式去管理`State`状态中记录的中间状态信息。但这还不够。为了将一系列产生的消息归属到正确的类别中，就像上面的`会话1`包含一系列的问答，而`会话2`包含另一批系列的回答，`LangGraph`框架引入`Thread`（线程）概念来充当`会话`的角色。每个线程代表一个独特的交互或对话流。而`thread_id`是与特定执行线程关联的唯一标识符各个概念之间的关联如下图所示："
   ]
  },
  {
   "cell_type": "markdown",
   "id": "68cdf321-f691-43a9-b27a-dc9da217b792",
   "metadata": {},
   "source": [
    "<div align=center><img src=\"../pic/lesson07/b.png\" width=80%></div>"
   ]
  },
  {
   "cell_type": "markdown",
   "id": "2e08beb3-cdd8-44f8-b5b5-45bdd8e679a3",
   "metadata": {},
   "source": [
    "&emsp;&emsp;`checkpointer`是`memory`的一种特定实现，它在执行期间保存图在各个点的状态，使系统能够在中断时从该点恢复。这**与 `LangGraph` 中状态的一般概念不同，后者表示应用程序在任何给定时刻的当前快照。虽然状态是动态的并且随着图形的执行而变化，但`checkpointer`提供了一种存储和检索历史状态的方法**，从而促进更复杂的工作流程和人机交互。"
   ]
  },
  {
   "cell_type": "markdown",
   "id": "f95d04b8-f715-4624-92ea-af8a3e491ec2",
   "metadata": {},
   "source": [
    "&emsp;&emsp;接下来，我们以 `MemorySaver` 这个实现`checkpointer`的方法为例，帮助大家理解这个过程。"
   ]
  },
  {
   "cell_type": "markdown",
   "id": "dbfac947-e2e8-44ae-8e8c-9bc58ce0c989",
   "metadata": {},
   "source": [
    "## 2.1 检查点的特定实现类型-MemorySaver"
   ]
  },
  {
   "cell_type": "markdown",
   "id": "cc45845b-6ae9-440b-8861-399ab9bd2749",
   "metadata": {},
   "source": [
    "&emsp;&emsp;`LangGraph` 框架有一个内置的持久层，通过`checkpointer`实现。**当使用`checkpointer`编译图时，检查点会在每个超级步骤中保存图状态的`checkpoint`（可以理解每次State更新，checkpoint就打一次快照）。这些`checkpoint`被保存到一个`thread`中，可以在图执行后访问**。如下图所示："
   ]
  },
  {
   "cell_type": "markdown",
   "id": "d8c220dc-89b9-4730-bafe-ddaa5ee12dac",
   "metadata": {},
   "source": [
    "> 超级步骤可以被认为是图节点上的单次迭代(前面我们看到的一个[Task,TaskResult],就是一个超级步骤)。并行运行的节点是同一超级步骤的一部分，而顺序运行的节点则属于单独的超级步骤。在图执行开始时，所有节点都开始处于inactive状态。当节点在其任何传入边缘（或一个“通道”）上接收到新消息（状态）时，该节点将变为active 。然后，活动节点运行其功能并以更新进行响应。在每个超级步骤结束时，没有传入消息的节点通过将自己标记为inactive 。当所有节点inactive并且没有消息在传输时，图执行终止。"
   ]
  },
  {
   "cell_type": "markdown",
   "id": "f1aecf32-10e9-44ab-9c09-bef65e2d4e98",
   "metadata": {},
   "source": [
    "<div align=center><img src=\"../pic/lesson07/c.png\" width=100%></div>"
   ]
  },
  {
   "cell_type": "markdown",
   "id": "f060c8c0-9bd8-4c2a-ad70-e331a9c72051",
   "metadata": {},
   "source": [
    "&emsp;&emsp;`MemorySaver`是实现上述流程的一种形式，它通过使用 `defaultdict` 将`checkpointer`存储在`memory`中。如下源码所示："
   ]
  },
  {
   "cell_type": "markdown",
   "id": "0c68e173-c673-4fc6-80ce-7bce311ca413",
   "metadata": {},
   "source": [
    "```python\n",
    "class MemorySaver(\n",
    "    BaseCheckpointSaver[str], AbstractContextManager, AbstractAsyncContextManager\n",
    "):\n",
    "    # thread ID ->  checkpoint NS -> checkpoint ID -> checkpoint mapping\r\n",
    "    storage: defaultdict[\r\n",
    "        str,\r\n",
    "        dict[\r\n",
    "            str, dict[str, tuple[tuple[str, bytes], tuple[str, bytes], Optional[str]]]\r\n",
    "        ],\r\n",
    "    ]\r\n",
    "    writes: defaultdict[\r\n",
    "        tuple[str, str, str], dict[tuple[str, int], tuple[str, str, tuple[str, bytes]]]\r\n",
    "    ]\n",
    "```"
   ]
  },
  {
   "cell_type": "markdown",
   "id": "bb55c496-548a-40fa-903c-d38c730bba19",
   "metadata": {},
   "source": [
    "> https://langchain-ai.github.io/langgraph/reference/checkpoints/#langgraph.checkpoint.memory.MemorySaver\n"
   ]
  },
  {
   "cell_type": "markdown",
   "id": "a1419aff-f19b-4b96-b7eb-5d9f4fd03602",
   "metadata": {},
   "source": [
    "&emsp;&emsp;使用的方法非常简单，就是在创建任何 `LangGraph` 图时，通过在编译图时添加`MemorySaver`来将其设置为保留其`State`状态中的数据，即：\n",
    "\n",
    "```python\n",
    "from langgraph.checkpoint.memory import MemorySaver\r\n",
    "\r\n",
    "checkpointer = MemorySaver()\r\n",
    "graph.compile(checkpointer=checkpointer)\n",
    "```"
   ]
  },
  {
   "cell_type": "markdown",
   "id": "1614e2e1-f51f-4ee7-bb3f-f2bdc1573f4d",
   "metadata": {},
   "source": [
    "&emsp;&emsp;我们通过一个图来理解这个中间过程，构建如下图结构。注意：**在编译图的时候，添加`MemorySaver`作为`checkpointer`提供`Memory`功能。**"
   ]
  },
  {
   "cell_type": "code",
   "execution_count": 18,
   "id": "274676af-b825-4565-9287-8aeff120c192",
   "metadata": {},
   "outputs": [
    {
     "data": {
      "image/png": "[encoded data removed]",
      "text/plain": [
       "<IPython.core.display.Image object>"
      ]
     },
     "metadata": {},
     "output_type": "display_data"
    }
   ],
   "source": [
    "# 导入检查点\n",
    "from langgraph.checkpoint.memory import MemorySaver\n",
    "\n",
    "llm = ChatOpenAI(model=\"gpt-4o\", api_key=key,base_url=base_url,temperature=0,)\n",
    "\n",
    "\n",
    "class State(TypedDict):\n",
    "    messages: Annotated[list, add_messages]\n",
    "\n",
    "def call_model(state: State):\n",
    "    response = llm.invoke(state[\"messages\"])\n",
    "    return {\"messages\": response}\n",
    "\n",
    "def translate_message(state: State):\n",
    "    system_prompt = \"\"\"\n",
    "    Please translate the received text in any language into English as output\n",
    "    \"\"\"\n",
    "    messages = state['messages'][-1]\n",
    "    messages = [SystemMessage(content=system_prompt)] + [HumanMessage(content=messages.content)]\n",
    "    response = llm.invoke(messages)\n",
    "    return {\"messages\": response}\n",
    "\n",
    "builder = StateGraph(State)\n",
    "\n",
    "builder.add_node(\"call_model\", call_model)\n",
    "builder.add_node(\"translate_message\", translate_message)\n",
    "\n",
    "builder.add_edge(START, \"call_model\")\n",
    "builder.add_edge(\"call_model\", \"translate_message\")\n",
    "builder.add_edge(\"translate_message\", END)\n",
    "\n",
    "\n",
    "memory = MemorySaver()\n",
    "graph_with_memory = builder.compile(checkpointer=memory)   # 在编译图的时候添加检查点\n",
    "\n",
    "display(Image(graph_with_memory.get_graph().draw_mermaid_png()))"
   ]
  },
  {
   "cell_type": "markdown",
   "id": "833024b3-4804-4dc7-887e-872c81a34349",
   "metadata": {},
   "source": [
    "&emsp;&emsp;当添加了`checkpointer`后，在该图执行的每个超级步骤中会自动创建检查点。即每个节点处理其输入并更新状态后，会当前状态将保存为检查点。但如果像普通图一样，仅传入输入的问题是会报错的，如下所示："
   ]
  },
  {
   "cell_type": "code",
   "execution_count": 19,
   "id": "79c94767-2e93-401b-b4db-041b6e4d26c0",
   "metadata": {
    "scrolled": true
   },
   "outputs": [
    {
     "ename": "ValueError",
     "evalue": "Checkpointer requires one or more of the following 'configurable' keys: ['thread_id', 'checkpoint_ns', 'checkpoint_id']",
     "output_type": "error",
     "traceback": [
      "\u001b[0;31m---------------------------------------------------------------------------\u001b[0m",
      "\u001b[0;31mValueError\u001b[0m                                Traceback (most recent call last)",
      "Cell \u001b[0;32mIn[19], line 1\u001b[0m\n\u001b[0;32m----> 1\u001b[0m \u001b[38;5;28;01masync\u001b[39;00m \u001b[38;5;28;01mfor\u001b[39;00m chunk \u001b[38;5;129;01min\u001b[39;00m graph_with_memory\u001b[38;5;241m.\u001b[39mastream(\u001b[38;5;28minput\u001b[39m\u001b[38;5;241m=\u001b[39m{\u001b[38;5;124m\"\u001b[39m\u001b[38;5;124mmessages\u001b[39m\u001b[38;5;124m\"\u001b[39m: [\u001b[38;5;124m\"\u001b[39m\u001b[38;5;124m你好，我叫西瓜老师\u001b[39m\u001b[38;5;124m\"\u001b[39m]}, stream_mode\u001b[38;5;241m=\u001b[39m\u001b[38;5;124m\"\u001b[39m\u001b[38;5;124mvalues\u001b[39m\u001b[38;5;124m\"\u001b[39m):\n\u001b[1;32m      2\u001b[0m     message \u001b[38;5;241m=\u001b[39m chunk[\u001b[38;5;124m\"\u001b[39m\u001b[38;5;124mmessages\u001b[39m\u001b[38;5;124m\"\u001b[39m][\u001b[38;5;241m-\u001b[39m\u001b[38;5;241m1\u001b[39m]\u001b[38;5;241m.\u001b[39mpretty_print()\n",
      "File \u001b[0;32m~/miniconda3/lib/python3.12/site-packages/langgraph/pregel/__init__.py:1812\u001b[0m, in \u001b[0;36mPregel.astream\u001b[0;34m(self, input, config, stream_mode, output_keys, interrupt_before, interrupt_after, debug, subgraphs)\u001b[0m\n\u001b[1;32m   1794\u001b[0m do_stream \u001b[38;5;241m=\u001b[39m \u001b[38;5;28mnext\u001b[39m(\n\u001b[1;32m   1795\u001b[0m     (\n\u001b[1;32m   1796\u001b[0m         cast(_StreamingCallbackHandler, h)\n\u001b[0;32m   (...)\u001b[0m\n\u001b[1;32m   1800\u001b[0m     \u001b[38;5;28;01mNone\u001b[39;00m,\n\u001b[1;32m   1801\u001b[0m )\n\u001b[1;32m   1802\u001b[0m \u001b[38;5;28;01mtry\u001b[39;00m:\n\u001b[1;32m   1803\u001b[0m     \u001b[38;5;66;03m# assign defaults\u001b[39;00m\n\u001b[1;32m   1804\u001b[0m     (\n\u001b[1;32m   1805\u001b[0m         debug,\n\u001b[1;32m   1806\u001b[0m         stream_modes,\n\u001b[1;32m   1807\u001b[0m         output_keys,\n\u001b[1;32m   1808\u001b[0m         interrupt_before_,\n\u001b[1;32m   1809\u001b[0m         interrupt_after_,\n\u001b[1;32m   1810\u001b[0m         checkpointer,\n\u001b[1;32m   1811\u001b[0m         store,\n\u001b[0;32m-> 1812\u001b[0m     ) \u001b[38;5;241m=\u001b[39m \u001b[38;5;28;43mself\u001b[39;49m\u001b[38;5;241;43m.\u001b[39;49m\u001b[43m_defaults\u001b[49m\u001b[43m(\u001b[49m\n\u001b[1;32m   1813\u001b[0m \u001b[43m        \u001b[49m\u001b[43mconfig\u001b[49m\u001b[43m,\u001b[49m\n\u001b[1;32m   1814\u001b[0m \u001b[43m        \u001b[49m\u001b[43mstream_mode\u001b[49m\u001b[38;5;241;43m=\u001b[39;49m\u001b[43mstream_mode\u001b[49m\u001b[43m,\u001b[49m\n\u001b[1;32m   1815\u001b[0m \u001b[43m        \u001b[49m\u001b[43moutput_keys\u001b[49m\u001b[38;5;241;43m=\u001b[39;49m\u001b[43moutput_keys\u001b[49m\u001b[43m,\u001b[49m\n\u001b[1;32m   1816\u001b[0m \u001b[43m        \u001b[49m\u001b[43minterrupt_before\u001b[49m\u001b[38;5;241;43m=\u001b[39;49m\u001b[43minterrupt_before\u001b[49m\u001b[43m,\u001b[49m\n\u001b[1;32m   1817\u001b[0m \u001b[43m        \u001b[49m\u001b[43minterrupt_after\u001b[49m\u001b[38;5;241;43m=\u001b[39;49m\u001b[43minterrupt_after\u001b[49m\u001b[43m,\u001b[49m\n\u001b[1;32m   1818\u001b[0m \u001b[43m        \u001b[49m\u001b[43mdebug\u001b[49m\u001b[38;5;241;43m=\u001b[39;49m\u001b[43mdebug\u001b[49m\u001b[43m,\u001b[49m\n\u001b[1;32m   1819\u001b[0m \u001b[43m    \u001b[49m\u001b[43m)\u001b[49m\n\u001b[1;32m   1820\u001b[0m     \u001b[38;5;66;03m# set up messages stream mode\u001b[39;00m\n\u001b[1;32m   1821\u001b[0m     \u001b[38;5;28;01mif\u001b[39;00m \u001b[38;5;124m\"\u001b[39m\u001b[38;5;124mmessages\u001b[39m\u001b[38;5;124m\"\u001b[39m \u001b[38;5;129;01min\u001b[39;00m stream_modes:\n",
      "File \u001b[0;32m~/miniconda3/lib/python3.12/site-packages/langgraph/pregel/__init__.py:1455\u001b[0m, in \u001b[0;36mPregel._defaults\u001b[0;34m(self, config, stream_mode, output_keys, interrupt_before, interrupt_after, debug)\u001b[0m\n\u001b[1;32m   1453\u001b[0m     checkpointer \u001b[38;5;241m=\u001b[39m \u001b[38;5;28mself\u001b[39m\u001b[38;5;241m.\u001b[39mcheckpointer\n\u001b[1;32m   1454\u001b[0m \u001b[38;5;28;01mif\u001b[39;00m checkpointer \u001b[38;5;129;01mand\u001b[39;00m \u001b[38;5;129;01mnot\u001b[39;00m config\u001b[38;5;241m.\u001b[39mget(CONF):\n\u001b[0;32m-> 1455\u001b[0m     \u001b[38;5;28;01mraise\u001b[39;00m \u001b[38;5;167;01mValueError\u001b[39;00m(\n\u001b[1;32m   1456\u001b[0m         \u001b[38;5;124mf\u001b[39m\u001b[38;5;124m\"\u001b[39m\u001b[38;5;124mCheckpointer requires one or more of the following \u001b[39m\u001b[38;5;124m'\u001b[39m\u001b[38;5;124mconfigurable\u001b[39m\u001b[38;5;124m'\u001b[39m\u001b[38;5;124m keys: \u001b[39m\u001b[38;5;132;01m{\u001b[39;00m[s\u001b[38;5;241m.\u001b[39mid\u001b[38;5;250m \u001b[39m\u001b[38;5;28;01mfor\u001b[39;00m\u001b[38;5;250m \u001b[39ms\u001b[38;5;250m \u001b[39m\u001b[38;5;129;01min\u001b[39;00m\u001b[38;5;250m \u001b[39mcheckpointer\u001b[38;5;241m.\u001b[39mconfig_specs]\u001b[38;5;132;01m}\u001b[39;00m\u001b[38;5;124m\"\u001b[39m\n\u001b[1;32m   1457\u001b[0m     )\n\u001b[1;32m   1458\u001b[0m \u001b[38;5;28;01mif\u001b[39;00m CONFIG_KEY_STORE \u001b[38;5;129;01min\u001b[39;00m config\u001b[38;5;241m.\u001b[39mget(CONF, {}):\n\u001b[1;32m   1459\u001b[0m     store: Optional[BaseStore] \u001b[38;5;241m=\u001b[39m config[CONF][CONFIG_KEY_STORE]\n",
      "\u001b[0;31mValueError\u001b[0m: Checkpointer requires one or more of the following 'configurable' keys: ['thread_id', 'checkpoint_ns', 'checkpoint_id']"
     ]
    }
   ],
   "source": [
    "async for chunk in graph_with_memory.astream(input={\"messages\": [\"你好，我叫西瓜老师\"]}, stream_mode=\"values\"):\n",
    "    message = chunk[\"messages\"][-1].pretty_print()"
   ]
  },
  {
   "cell_type": "markdown",
   "id": "f57e8a01-f14f-4fc5-b268-3b09fc99137f",
   "metadata": {},
   "source": [
    "&emsp;&emsp;这是因为**当增加了`checkpointer`后，需要`Thread`来作为`checkpointer`保存图中每个检查点的唯一标识，而`Thread`（线程）又是通过`thread_id`来标识某个特定执行线程，所以在使用`checkpointer`调用图时，必须指定`thread_id`，指定的方式是作为配置`configurable`的一部分进行声明。** 正确调用的代码就如下所示："
   ]
  },
  {
   "cell_type": "code",
   "execution_count": 20,
   "id": "5304ccec-b385-4520-802a-66df6d561282",
   "metadata": {},
   "outputs": [
    {
     "name": "stdout",
     "output_type": "stream",
     "text": [
      "================================\u001b[1m Human Message \u001b[0m=================================\n",
      "\n",
      "你好，我叫西瓜老师\n",
      "==================================\u001b[1m Ai Message \u001b[0m==================================\n",
      "\n",
      "你好，西瓜老师！很高兴见到你。请问有什么我可以帮助你的地方吗？\n",
      "==================================\u001b[1m Ai Message \u001b[0m==================================\n",
      "\n",
      "Hello, Teacher Xigua! It's a pleasure to meet you. Is there anything I can help you with?\n",
      "================================\u001b[1m Human Message \u001b[0m=================================\n",
      "\n",
      "请问我叫什么？\n",
      "==================================\u001b[1m Ai Message \u001b[0m==================================\n",
      "\n",
      "你自我介绍时说你叫西瓜老师。不知道我有没有记错？\n",
      "==================================\u001b[1m Ai Message \u001b[0m==================================\n",
      "\n",
      "When you introduced yourself, you said your name is Teacher Watermelon. I'm not sure if I remembered correctly?\n"
     ]
    }
   ],
   "source": [
    "# 这个 thread_id 可以取任意数值\n",
    "config = {\"configurable\": {\"thread_id\": \"1\"}}\n",
    "\n",
    "for chunk in graph_with_memory.stream({\"messages\": [\"你好，我叫西瓜老师\"]}, config, stream_mode=\"values\"):\n",
    "    chunk[\"messages\"][-1].pretty_print()\n",
    "\n",
    "\n",
    "for chunk in graph_with_memory.stream({\"messages\": [\"请问我叫什么？\"]}, config, stream_mode=\"values\"):\n",
    "    chunk[\"messages\"][-1].pretty_print()"
   ]
  },
  {
   "cell_type": "code",
   "execution_count": 21,
   "id": "1a8b31c1-e2ea-4524-a631-c4a37dacc7ea",
   "metadata": {},
   "outputs": [
    {
     "name": "stdout",
     "output_type": "stream",
     "text": [
      "================================\u001b[1m Human Message \u001b[0m=================================\n",
      "\n",
      "我刚才都问了你什么问题？\n",
      "==================================\u001b[1m Ai Message \u001b[0m==================================\n",
      "\n",
      "你刚才问了我两个问题。第一个问题是“请问我叫什么？”第二个问题是“我刚才都问了你什么问题？”\n",
      "==================================\u001b[1m Ai Message \u001b[0m==================================\n",
      "\n",
      "You just asked me two questions. The first question was \"What is my name?\" The second question was \"What questions did I just ask you?\"\n"
     ]
    }
   ],
   "source": [
    "for chunk in graph_with_memory.stream({\"messages\": [\"我刚才都问了你什么问题？\"]}, config, stream_mode=\"values\"):\n",
    "    chunk[\"messages\"][-1].pretty_print()"
   ]
  },
  {
   "cell_type": "markdown",
   "id": "03e16a8a-aad3-40e7-a83c-7731ea896569",
   "metadata": {},
   "source": [
    "&emsp;&emsp;现在可以发现与`Agent`的交互中每次它都能记住之前的消息。然后我们再深入细节了解一下，当添加了检查点后，其中间状态的信息会有什么变化。如下代码所示："
   ]
  },
  {
   "cell_type": "code",
   "execution_count": 22,
   "id": "1297dd87-60bd-48ad-943d-039f520b35a6",
   "metadata": {},
   "outputs": [
    {
     "name": "stdout",
     "output_type": "stream",
     "text": [
      "{'type': 'checkpoint', 'timestamp': '2025-01-04T03:08:49.778059+00:00', 'step': -1, 'payload': {'config': {'tags': [], 'metadata': ChainMap({'thread_id': '2'}), 'callbacks': None, 'recursion_limit': 25, 'configurable': {'checkpoint_ns': '', 'thread_id': '2', 'checkpoint_id': '1efca493-84d3-60a1-bfff-c5514f3d5686'}}, 'parent_config': None, 'values': {'messages': []}, 'metadata': {'source': 'input', 'writes': {'__start__': {'messages': ['你好,我叫西瓜老师']}}, 'thread_id': '2', 'step': -1, 'parents': {}}, 'next': ['__start__'], 'tasks': [{'id': '2426e2d1-9344-3655-2992-c1e5e1d79230', 'name': '__start__', 'interrupts': (), 'state': None}]}}\n",
      "{'type': 'checkpoint', 'timestamp': '2025-01-04T03:08:49.793898+00:00', 'step': 0, 'payload': {'config': {'tags': [], 'metadata': ChainMap({'thread_id': '2'}), 'callbacks': None, 'recursion_limit': 25, 'configurable': {'checkpoint_ns': '', 'thread_id': '2', 'checkpoint_id': '1efca493-84f9-6c30-8000-1f3fa4688cc6'}}, 'parent_config': {'tags': [], 'metadata': ChainMap({'thread_id': '2'}), 'callbacks': None, 'recursion_limit': 25, 'configurable': {'checkpoint_ns': '', 'thread_id': '2', 'checkpoint_id': '1efca493-84d3-60a1-bfff-c5514f3d5686'}}, 'values': {'messages': [HumanMessage(content='你好,我叫西瓜老师', additional_kwargs={}, response_metadata={}, id='7cfa2739-6253-4058-ad18-aa9cea6e62e4')]}, 'metadata': {'source': 'loop', 'writes': None, 'thread_id': '2', 'step': 0, 'parents': {}}, 'next': ['call_model'], 'tasks': [{'id': 'd2f9c447-df59-82d9-0c38-616cf4f6708e', 'name': 'call_model', 'interrupts': (), 'state': None}]}}\n",
      "{'type': 'task', 'timestamp': '2025-01-04T03:08:49.799100+00:00', 'step': 1, 'payload': {'id': 'd2f9c447-df59-82d9-0c38-616cf4f6708e', 'name': 'call_model', 'input': {'messages': [HumanMessage(content='你好,我叫西瓜老师', additional_kwargs={}, response_metadata={}, id='7cfa2739-6253-4058-ad18-aa9cea6e62e4')]}, 'triggers': ['start:call_model']}}\n",
      "{'type': 'task_result', 'timestamp': '2025-01-04T03:08:51.008388+00:00', 'step': 1, 'payload': {'id': 'd2f9c447-df59-82d9-0c38-616cf4f6708e', 'name': 'call_model', 'error': None, 'result': [('messages', AIMessage(content='你好，西瓜老师！很高兴认识你。有什么我可以帮忙的吗？', additional_kwargs={'refusal': None}, response_metadata={'token_usage': {'completion_tokens': 19, 'prompt_tokens': 14, 'total_tokens': 33, 'completion_tokens_details': {'accepted_prediction_tokens': 0, 'audio_tokens': 0, 'reasoning_tokens': 0, 'rejected_prediction_tokens': 0}, 'prompt_tokens_details': {'audio_tokens': 0, 'cached_tokens': 0}}, 'model_name': 'gpt-4o-2024-08-06', 'system_fingerprint': 'fp_f3927aa00d', 'finish_reason': 'stop', 'logprobs': None}, id='run-772d6a6b-abb2-498b-a351-c6cfd39c66f7-0', usage_metadata={'input_tokens': 14, 'output_tokens': 19, 'total_tokens': 33, 'input_token_details': {'audio': 0, 'cache_read': 0}, 'output_token_details': {'audio': 0, 'reasoning': 0}}))], 'interrupts': []}}\n",
      "{'type': 'checkpoint', 'timestamp': '2025-01-04T03:08:51.008794+00:00', 'step': 1, 'payload': {'config': {'tags': [], 'metadata': ChainMap({'thread_id': '2'}), 'callbacks': None, 'recursion_limit': 25, 'configurable': {'checkpoint_ns': '', 'thread_id': '2', 'checkpoint_id': '1efca493-908f-6d41-8001-6d6971b9be1b'}}, 'parent_config': {'tags': [], 'metadata': ChainMap({'thread_id': '2'}), 'callbacks': None, 'recursion_limit': 25, 'configurable': {'checkpoint_ns': '', 'thread_id': '2', 'checkpoint_id': '1efca493-84f9-6c30-8000-1f3fa4688cc6'}}, 'values': {'messages': [HumanMessage(content='你好,我叫西瓜老师', additional_kwargs={}, response_metadata={}, id='7cfa2739-6253-4058-ad18-aa9cea6e62e4'), AIMessage(content='你好，西瓜老师！很高兴认识你。有什么我可以帮忙的吗？', additional_kwargs={'refusal': None}, response_metadata={'token_usage': {'completion_tokens': 19, 'prompt_tokens': 14, 'total_tokens': 33, 'completion_tokens_details': {'accepted_prediction_tokens': 0, 'audio_tokens': 0, 'reasoning_tokens': 0, 'rejected_prediction_tokens': 0}, 'prompt_tokens_details': {'audio_tokens': 0, 'cached_tokens': 0}}, 'model_name': 'gpt-4o-2024-08-06', 'system_fingerprint': 'fp_f3927aa00d', 'finish_reason': 'stop', 'logprobs': None}, id='run-772d6a6b-abb2-498b-a351-c6cfd39c66f7-0', usage_metadata={'input_tokens': 14, 'output_tokens': 19, 'total_tokens': 33, 'input_token_details': {'audio': 0, 'cache_read': 0}, 'output_token_details': {'audio': 0, 'reasoning': 0}})]}, 'metadata': {'source': 'loop', 'writes': {'call_model': {'messages': AIMessage(content='你好，西瓜老师！很高兴认识你。有什么我可以帮忙的吗？', additional_kwargs={'refusal': None}, response_metadata={'token_usage': {'completion_tokens': 19, 'prompt_tokens': 14, 'total_tokens': 33, 'completion_tokens_details': {'accepted_prediction_tokens': 0, 'audio_tokens': 0, 'reasoning_tokens': 0, 'rejected_prediction_tokens': 0}, 'prompt_tokens_details': {'audio_tokens': 0, 'cached_tokens': 0}}, 'model_name': 'gpt-4o-2024-08-06', 'system_fingerprint': 'fp_f3927aa00d', 'finish_reason': 'stop', 'logprobs': None}, id='run-772d6a6b-abb2-498b-a351-c6cfd39c66f7-0', usage_metadata={'input_tokens': 14, 'output_tokens': 19, 'total_tokens': 33, 'input_token_details': {'audio': 0, 'cache_read': 0}, 'output_token_details': {'audio': 0, 'reasoning': 0}})}}, 'thread_id': '2', 'step': 1, 'parents': {}}, 'next': ['translate_message'], 'tasks': [{'id': '2d0e37d4-c88b-42ae-f4ef-7d3e95bd8735', 'name': 'translate_message', 'interrupts': (), 'state': None}]}}\n",
      "{'type': 'task', 'timestamp': '2025-01-04T03:08:51.014572+00:00', 'step': 2, 'payload': {'id': '2d0e37d4-c88b-42ae-f4ef-7d3e95bd8735', 'name': 'translate_message', 'input': {'messages': [HumanMessage(content='你好,我叫西瓜老师', additional_kwargs={}, response_metadata={}, id='7cfa2739-6253-4058-ad18-aa9cea6e62e4'), AIMessage(content='你好，西瓜老师！很高兴认识你。有什么我可以帮忙的吗？', additional_kwargs={'refusal': None}, response_metadata={'token_usage': {'completion_tokens': 19, 'prompt_tokens': 14, 'total_tokens': 33, 'completion_tokens_details': {'accepted_prediction_tokens': 0, 'audio_tokens': 0, 'reasoning_tokens': 0, 'rejected_prediction_tokens': 0}, 'prompt_tokens_details': {'audio_tokens': 0, 'cached_tokens': 0}}, 'model_name': 'gpt-4o-2024-08-06', 'system_fingerprint': 'fp_f3927aa00d', 'finish_reason': 'stop', 'logprobs': None}, id='run-772d6a6b-abb2-498b-a351-c6cfd39c66f7-0', usage_metadata={'input_tokens': 14, 'output_tokens': 19, 'total_tokens': 33, 'input_token_details': {'audio': 0, 'cache_read': 0}, 'output_token_details': {'audio': 0, 'reasoning': 0}})]}, 'triggers': ['call_model']}}\n",
      "{'type': 'task_result', 'timestamp': '2025-01-04T03:08:52.181427+00:00', 'step': 2, 'payload': {'id': '2d0e37d4-c88b-42ae-f4ef-7d3e95bd8735', 'name': 'translate_message', 'error': None, 'result': [('messages', AIMessage(content=\"Hello, Teacher Watermelon! It's nice to meet you. Is there anything I can help you with?\", additional_kwargs={'refusal': None}, response_metadata={'token_usage': {'completion_tokens': 21, 'prompt_tokens': 46, 'total_tokens': 67, 'completion_tokens_details': {'accepted_prediction_tokens': 0, 'audio_tokens': 0, 'reasoning_tokens': 0, 'rejected_prediction_tokens': 0}, 'prompt_tokens_details': {'audio_tokens': 0, 'cached_tokens': 0}}, 'model_name': 'gpt-4o-2024-08-06', 'system_fingerprint': 'fp_f3927aa00d', 'finish_reason': 'stop', 'logprobs': None}, id='run-9c33dc9a-8d46-4571-93e5-6fbaca8aed8f-0', usage_metadata={'input_tokens': 46, 'output_tokens': 21, 'total_tokens': 67, 'input_token_details': {'audio': 0, 'cache_read': 0}, 'output_token_details': {'audio': 0, 'reasoning': 0}}))], 'interrupts': []}}\n",
      "{'type': 'checkpoint', 'timestamp': '2025-01-04T03:08:52.181829+00:00', 'step': 2, 'payload': {'config': {'tags': [], 'metadata': ChainMap({'thread_id': '2'}), 'callbacks': None, 'recursion_limit': 25, 'configurable': {'checkpoint_ns': '', 'thread_id': '2', 'checkpoint_id': '1efca493-9bbf-6af4-8002-40ce7703b2b3'}}, 'parent_config': {'tags': [], 'metadata': ChainMap({'thread_id': '2'}), 'callbacks': None, 'recursion_limit': 25, 'configurable': {'checkpoint_ns': '', 'thread_id': '2', 'checkpoint_id': '1efca493-908f-6d41-8001-6d6971b9be1b'}}, 'values': {'messages': [HumanMessage(content='你好,我叫西瓜老师', additional_kwargs={}, response_metadata={}, id='7cfa2739-6253-4058-ad18-aa9cea6e62e4'), AIMessage(content='你好，西瓜老师！很高兴认识你。有什么我可以帮忙的吗？', additional_kwargs={'refusal': None}, response_metadata={'token_usage': {'completion_tokens': 19, 'prompt_tokens': 14, 'total_tokens': 33, 'completion_tokens_details': {'accepted_prediction_tokens': 0, 'audio_tokens': 0, 'reasoning_tokens': 0, 'rejected_prediction_tokens': 0}, 'prompt_tokens_details': {'audio_tokens': 0, 'cached_tokens': 0}}, 'model_name': 'gpt-4o-2024-08-06', 'system_fingerprint': 'fp_f3927aa00d', 'finish_reason': 'stop', 'logprobs': None}, id='run-772d6a6b-abb2-498b-a351-c6cfd39c66f7-0', usage_metadata={'input_tokens': 14, 'output_tokens': 19, 'total_tokens': 33, 'input_token_details': {'audio': 0, 'cache_read': 0}, 'output_token_details': {'audio': 0, 'reasoning': 0}}), AIMessage(content=\"Hello, Teacher Watermelon! It's nice to meet you. Is there anything I can help you with?\", additional_kwargs={'refusal': None}, response_metadata={'token_usage': {'completion_tokens': 21, 'prompt_tokens': 46, 'total_tokens': 67, 'completion_tokens_details': {'accepted_prediction_tokens': 0, 'audio_tokens': 0, 'reasoning_tokens': 0, 'rejected_prediction_tokens': 0}, 'prompt_tokens_details': {'audio_tokens': 0, 'cached_tokens': 0}}, 'model_name': 'gpt-4o-2024-08-06', 'system_fingerprint': 'fp_f3927aa00d', 'finish_reason': 'stop', 'logprobs': None}, id='run-9c33dc9a-8d46-4571-93e5-6fbaca8aed8f-0', usage_metadata={'input_tokens': 46, 'output_tokens': 21, 'total_tokens': 67, 'input_token_details': {'audio': 0, 'cache_read': 0}, 'output_token_details': {'audio': 0, 'reasoning': 0}})]}, 'metadata': {'source': 'loop', 'writes': {'translate_message': {'messages': AIMessage(content=\"Hello, Teacher Watermelon! It's nice to meet you. Is there anything I can help you with?\", additional_kwargs={'refusal': None}, response_metadata={'token_usage': {'completion_tokens': 21, 'prompt_tokens': 46, 'total_tokens': 67, 'completion_tokens_details': {'accepted_prediction_tokens': 0, 'audio_tokens': 0, 'reasoning_tokens': 0, 'rejected_prediction_tokens': 0}, 'prompt_tokens_details': {'audio_tokens': 0, 'cached_tokens': 0}}, 'model_name': 'gpt-4o-2024-08-06', 'system_fingerprint': 'fp_f3927aa00d', 'finish_reason': 'stop', 'logprobs': None}, id='run-9c33dc9a-8d46-4571-93e5-6fbaca8aed8f-0', usage_metadata={'input_tokens': 46, 'output_tokens': 21, 'total_tokens': 67, 'input_token_details': {'audio': 0, 'cache_read': 0}, 'output_token_details': {'audio': 0, 'reasoning': 0}})}}, 'thread_id': '2', 'step': 2, 'parents': {}}, 'next': [], 'tasks': []}}\n"
     ]
    }
   ],
   "source": [
    "config = {\"configurable\": {\"thread_id\": \"2\"}}\n",
    "\n",
    "for chunk in graph_with_memory.stream({\"messages\": [\"你好,我叫西瓜老师\"]}, config, stream_mode=\"debug\"):\n",
    "     print(chunk)\n",
    "    # if chunk[\"type\"] == \"checkpoint\":\n",
    "\n",
    "    #     print(f\"Thread id:{chunk['payload']['config']['configurable']['thread_id']}\")\n",
    "    #     print(f\"CheckPoint id :{chunk['payload']['config']['configurable']['checkpoint_id']}\")\n",
    "\n",
    "    #     for message in chunk['payload']['values']['messages']:\n",
    "    #         print(f\"Message id:{message.id}，Message content:{message.content}\")\n",
    "      \n",
    "    # print(f\"Task id : {chunk['payload']['id']}\")\n",
    "    # if chunk[\"type\"] == \"task\":\n",
    "    #     for message in chunk[\"payload\"][\"input\"][\"messages\"]:\n",
    "    #         print(f\"Message id:{message.id}, Message content:{message.content}\")\n",
    "\n",
    "    # if chunk[\"type\"] == \"task_result\":\n",
    "    #      print(f\"Message id:{chunk['payload']['result'][0][1].id}, Message content:{chunk['payload']['result'][0][1].content}\")  # tuple 类型\n",
    "\n",
    "    # print(\"------------------------------------------------\")\n",
    "    # print(\"------------------------------------------------\")"
   ]
  },
  {
   "cell_type": "markdown",
   "id": "a647f78f-89be-4443-a821-030e1ae69ef0",
   "metadata": {},
   "source": [
    "&emsp;&emsp;每个`super-step`后，都会生成一个`checkpointer`存储中间信息，而一次交互中，只会存在一个`thread_id`，也就是我们在`config = {\"configurable\": {\"thread_id\": \"2\"}}`中自定义的线程ID，当我们再次使用相同的`thread_id`进行问答时，图在执行前后自动加载该`thread_id`之前存储的所有的信息，添加到新一轮问答的初始状态中，比如下面的代码，我们仍然使用`{\"thread_id\": \"2\"}`再次进行交互；"
   ]
  },
  {
   "cell_type": "code",
   "execution_count": 23,
   "id": "06df7d2e-6cd9-4282-bfd6-2af4db658df2",
   "metadata": {},
   "outputs": [
    {
     "name": "stdout",
     "output_type": "stream",
     "text": [
      "Thread id:2\n",
      "CheckPoint id :1efca497-a33e-6212-8003-3e95ac51217c\n",
      "Message id:7cfa2739-6253-4058-ad18-aa9cea6e62e4，Message content:你好,我叫西瓜老师\n",
      "Message id:run-772d6a6b-abb2-498b-a351-c6cfd39c66f7-0，Message content:你好，西瓜老师！很高兴认识你。有什么我可以帮忙的吗？\n",
      "Message id:run-9c33dc9a-8d46-4571-93e5-6fbaca8aed8f-0，Message content:Hello, Teacher Watermelon! It's nice to meet you. Is there anything I can help you with?\n",
      "------------------------------------------------\n",
      "------------------------------------------------\n",
      "Thread id:2\n",
      "CheckPoint id :1efca497-a34a-67c5-8004-92304f9cda01\n",
      "Message id:7cfa2739-6253-4058-ad18-aa9cea6e62e4，Message content:你好,我叫西瓜老师\n",
      "Message id:run-772d6a6b-abb2-498b-a351-c6cfd39c66f7-0，Message content:你好，西瓜老师！很高兴认识你。有什么我可以帮忙的吗？\n",
      "Message id:run-9c33dc9a-8d46-4571-93e5-6fbaca8aed8f-0，Message content:Hello, Teacher Watermelon! It's nice to meet you. Is there anything I can help you with?\n",
      "Message id:64415e95-a694-4320-a960-0b1c0a65a995，Message content:请问我叫什么？\n",
      "------------------------------------------------\n",
      "------------------------------------------------\n",
      "------------------------------------------------\n",
      "------------------------------------------------\n",
      "------------------------------------------------\n",
      "------------------------------------------------\n",
      "Thread id:2\n",
      "CheckPoint id :1efca497-ad85-6b96-8005-5d7c3f2b15a4\n",
      "Message id:7cfa2739-6253-4058-ad18-aa9cea6e62e4，Message content:你好,我叫西瓜老师\n",
      "Message id:run-772d6a6b-abb2-498b-a351-c6cfd39c66f7-0，Message content:你好，西瓜老师！很高兴认识你。有什么我可以帮忙的吗？\n",
      "Message id:run-9c33dc9a-8d46-4571-93e5-6fbaca8aed8f-0，Message content:Hello, Teacher Watermelon! It's nice to meet you. Is there anything I can help you with?\n",
      "Message id:64415e95-a694-4320-a960-0b1c0a65a995，Message content:请问我叫什么？\n",
      "Message id:run-0f5e74f6-7099-4fa1-bddd-d7fe163361a6-0，Message content:你自我介绍时说你叫西瓜老师。有什么我可以帮忙的吗？\n",
      "------------------------------------------------\n",
      "------------------------------------------------\n",
      "------------------------------------------------\n",
      "------------------------------------------------\n",
      "------------------------------------------------\n",
      "------------------------------------------------\n",
      "Thread id:2\n",
      "CheckPoint id :1efca497-ba06-6eb1-8006-478d5232e236\n",
      "Message id:7cfa2739-6253-4058-ad18-aa9cea6e62e4，Message content:你好,我叫西瓜老师\n",
      "Message id:run-772d6a6b-abb2-498b-a351-c6cfd39c66f7-0，Message content:你好，西瓜老师！很高兴认识你。有什么我可以帮忙的吗？\n",
      "Message id:run-9c33dc9a-8d46-4571-93e5-6fbaca8aed8f-0，Message content:Hello, Teacher Watermelon! It's nice to meet you. Is there anything I can help you with?\n",
      "Message id:64415e95-a694-4320-a960-0b1c0a65a995，Message content:请问我叫什么？\n",
      "Message id:run-0f5e74f6-7099-4fa1-bddd-d7fe163361a6-0，Message content:你自我介绍时说你叫西瓜老师。有什么我可以帮忙的吗？\n",
      "Message id:run-40dd6e75-7f41-4856-9c4e-e3a04559b3ee-0，Message content:When you introduced yourself, you said your name is Teacher Watermelon. Is there anything I can help with?\n",
      "------------------------------------------------\n",
      "------------------------------------------------\n"
     ]
    }
   ],
   "source": [
    "config = {\"configurable\": {\"thread_id\": \"2\"}}\n",
    "\n",
    "for chunk in graph_with_memory.stream({\"messages\": [\"请问我叫什么？\"]}, config, stream_mode=\"debug\"):\n",
    "    if chunk[\"type\"] == \"checkpoint\":\n",
    "        # print(chunk)\n",
    "        print(f\"Thread id:{chunk['payload']['config']['configurable']['thread_id']}\")\n",
    "        print(f\"CheckPoint id :{chunk['payload']['config']['configurable']['checkpoint_id']}\")\n",
    "\n",
    "        for message in chunk['payload']['values']['messages']:\n",
    "            print(f\"Message id:{message.id}，Message content:{message.content}\")\n",
    "      \n",
    "    # print(f\"Task id : {chunk['payload']['id']}\")\n",
    "    # if chunk[\"type\"] == \"task\":\n",
    "    #     for message in chunk[\"payload\"][\"input\"][\"messages\"]:\n",
    "    #         print(f\"Message id:{message.id}, Message content:{message.content}\")\n",
    "\n",
    "    # if chunk[\"type\"] == \"task_result\":\n",
    "    #      print(f\"Message id:{chunk['payload']['result'][0][1].id}, Message content:{chunk['payload']['result'][0][1].content}\")  # tuple 类型\n",
    "\n",
    "    print(\"------------------------------------------------\")\n",
    "    print(\"------------------------------------------------\")"
   ]
  },
  {
   "cell_type": "markdown",
   "id": "8f00df20-8eec-46d9-b57e-6913149dd6dd",
   "metadata": {},
   "source": [
    "&emsp;&emsp;**由此可以印证检查点的机制是：当调用图或完成一个步骤时，其记忆会更新，而如果线程相同，则会在每个步骤开始时读取全部的状态。**如果我们把`thread_id`换成其他的，则会开启全新的一个线程进行对话，比如："
   ]
  },
  {
   "cell_type": "code",
   "execution_count": 24,
   "id": "a89aff37-2778-43ea-a33a-1dd5ca08f26f",
   "metadata": {},
   "outputs": [
    {
     "name": "stdout",
     "output_type": "stream",
     "text": [
      "Thread id:3\n",
      "CheckPoint id :1efca49a-e629-61ff-bfff-9be780ea943d\n",
      "Thread id:3\n",
      "CheckPoint id :1efca49a-e632-6da1-8000-c3d7a2a1b57f\n",
      "Message id:0845ca1b-8753-4ebe-aa49-d12dce41d8de，Message content:请问我叫什么？\n",
      "Thread id:3\n",
      "CheckPoint id :1efca49a-ef3e-6de9-8001-3650076583fd\n",
      "Message id:0845ca1b-8753-4ebe-aa49-d12dce41d8de，Message content:请问我叫什么？\n",
      "Message id:run-bb835975-1196-42af-92c0-cb9dab41993b-0，Message content:抱歉，我无法知道你的名字。\n",
      "Thread id:3\n",
      "CheckPoint id :1efca49a-fecb-6709-8002-670f1987258c\n",
      "Message id:0845ca1b-8753-4ebe-aa49-d12dce41d8de，Message content:请问我叫什么？\n",
      "Message id:run-bb835975-1196-42af-92c0-cb9dab41993b-0，Message content:抱歉，我无法知道你的名字。\n",
      "Message id:run-f5eec8ff-acc3-43f9-8787-43c7e356dd19-0，Message content:Sorry, I can't know your name.\n"
     ]
    }
   ],
   "source": [
    "config = {\"configurable\": {\"thread_id\": \"3\"}}\n",
    "\n",
    "for chunk in graph_with_memory.stream({\"messages\": [\"请问我叫什么？\"]}, config, stream_mode=\"debug\"):\n",
    "    if chunk[\"type\"] == \"checkpoint\":\n",
    "        # print(chunk)\n",
    "        print(f\"Thread id:{chunk['payload']['config']['configurable']['thread_id']}\")\n",
    "        print(f\"CheckPoint id :{chunk['payload']['config']['configurable']['checkpoint_id']}\")\n",
    "\n",
    "        for message in chunk['payload']['values']['messages']:\n",
    "            print(f\"Message id:{message.id}，Message content:{message.content}\")"
   ]
  },
  {
   "cell_type": "markdown",
   "id": "8e006c4b-5a51-425b-93ec-266ed95d9c90",
   "metadata": {},
   "source": [
    "&emsp;&emsp;因为`thread_id`变成了3，所以它是完全不具备`thread_id == 2`这个线程中的任何信息的，但我们可以恢复以前的线程并继续进行对话，即："
   ]
  },
  {
   "cell_type": "code",
   "execution_count": 25,
   "id": "4dde20a7-4678-4b63-83fe-6539da3345a8",
   "metadata": {},
   "outputs": [
    {
     "name": "stdout",
     "output_type": "stream",
     "text": [
      "================================\u001b[1m Human Message \u001b[0m=================================\n",
      "\n",
      "你还知道我叫什么吗？\n",
      "==================================\u001b[1m Ai Message \u001b[0m==================================\n",
      "\n",
      "除了你之前提到的“西瓜老师”之外，我没有其他关于你名字的信息。如果有需要帮助的地方，请随时告诉我！\n",
      "==================================\u001b[1m Ai Message \u001b[0m==================================\n",
      "\n",
      "Apart from the \"Teacher Watermelon\" you mentioned before, I don't have any other information about your name. If there's anything you need help with, please feel free to let me know!\n"
     ]
    }
   ],
   "source": [
    "config = {\"configurable\": {\"thread_id\": \"2\"}}\n",
    "\n",
    "for chunk in graph_with_memory.stream({\"messages\": [\"你还知道我叫什么吗？\"]}, config, stream_mode=\"values\"):\n",
    "    chunk[\"messages\"][-1].pretty_print()"
   ]
  },
  {
   "cell_type": "markdown",
   "id": "35db44d5-a3f3-4f07-aaa5-6c96998122c5",
   "metadata": {},
   "source": [
    "&emsp;&emsp;**短期记忆可让应用程序记住单个线程或对话中先前的交互，并且可以随时找到某个对话线程中继续之前的问答。**这种情况其实就是我们在使用`Web`端应用程序的时候，可以切回到历史的聊天框继续问答的场景。`LangGraph` 将短期记忆作为代理状态的一部分进行管理，并通过线程范围的检查点进行持久化。此状态通常可以包括对话历史记录以及其他状态数据，例如上传的文件、检索的文档或生成的工件。通过将这些存储在图的状态中，程序可以访问给定对话的完整上下文，同时保持不同线程之间的分离。这就是其现实应用价值的体现。\n",
    "\n",
    "&emsp;&emsp;那么接下来要考虑的是： 既然所实际进行存储的是 `Checkpointer`， 那么`Checkpointer`如何去做持久化的存储呢？正如我们上面使用的 `MemorySaver`， 虽然在当前的代码运行环境下可以去指定线程ID，获取到具体的历史信息，但是，一旦我们重启代码环境，则所有的数据都将被抹除。那么一种持久化的方法就是把每个`checkpointer`存储到本地的数据库中。"
   ]
  },
  {
   "cell_type": "markdown",
   "id": "c848f7b7-5d0b-4ef9-a916-c2b6661c1caa",
   "metadata": {},
   "source": [
    "## 2.2 检查点的特定实现类型-SqliteSaver"
   ]
  },
  {
   "cell_type": "markdown",
   "id": "12504a6c-8b3f-406b-9ff1-1a69c5b79265",
   "metadata": {},
   "source": [
    "&emsp;&emsp;`SqliteSaver`是`checkponiter`的第二种实现形式，不同于`MemorySaver`仅通过字典的形式将状态信息存储在当前的运行环境下，`SqliteSaver`做的是持久化存储，这个方法会把`checkponiter`实际的存储在本地的`SQLite` 数据库中，同时提供了异步环境下的实现`AsyncSqliteSaver`，适用于轻量级的应用落地场景。"
   ]
  },
  {
   "cell_type": "markdown",
   "id": "bcecd29e-9e17-4a27-a5ac-dda4dc5c3347",
   "metadata": {},
   "source": [
    "> https://langchain-ai.github.io/langgraph/reference/checkpoints/?h=memory+saver#langgraph.checkpoint.sqlite.SqliteSaver"
   ]
  },
  {
   "cell_type": "markdown",
   "id": "e210ef6c-acb8-49c4-97ba-6400a7e5b507",
   "metadata": {},
   "source": [
    "&emsp;&emsp;`SqliteSaver`源码定义如下：\n",
    "```python\n",
    "class SqliteSaver(BaseCheckpointSaver[str]):\n",
    "    \"\"\"A checkpoint saver that stores checkpoints in a SQLite database.\n",
    "\n",
    "    Note:\n",
    "        This class is meant for lightweight, synchronous use cases\n",
    "        (demos and small projects) and does not\n",
    "        scale to multiple threads.\n",
    "        For a similar sqlite saver with `async` support,\n",
    "        consider using [AsyncSqliteSaver][langgraph.checkpoint.sqlite.aio.AsyncSqliteSaver].\n",
    "\n",
    "    Args:\n",
    "        conn (sqlite3.Connection): The SQLite database connection.\n",
    "        serde (Optional[SerializerProtocol]): The serializer to use for serializing and deserializing checkpoints. Defaults to JsonPlusSerializerCompat.\n",
    "```"
   ]
  },
  {
   "cell_type": "markdown",
   "id": "024364b1-a0e6-412d-9d92-a9980e291ad9",
   "metadata": {},
   "source": [
    "&emsp;&emsp;`SqliteSaver`有两种存储形式，一种是类似于`MemorySaver`将`checkpointer`存储在内存中，另外一种是存储在`sqlite`数据库中。首先来看第一种："
   ]
  },
  {
   "cell_type": "markdown",
   "id": "a5a87ea3-490b-4644-b911-98c92cb77024",
   "metadata": {},
   "source": [
    "&emsp;&emsp;内存存储（in-Memory Storage）是指存储在计算机主存储器 (RAM) 中的数据，这种类型的存储允许非常快速地访问和检索数据，因为它不涉及磁盘 I/O 操作。这个过程是将`checkpointer`最初保存到内存中，在需要时从内存中进行检索。内部完整的实现思路如下："
   ]
  },
  {
   "cell_type": "markdown",
   "id": "eb4b04c9-29bf-43f7-8bfe-ae71b62ced48",
   "metadata": {},
   "source": [
    "- **Step 1. 安装依赖库**"
   ]
  },
  {
   "cell_type": "markdown",
   "id": "36158b4f-dace-4c8c-91fa-431767182630",
   "metadata": {},
   "source": [
    "&emsp;&emsp;需要单独安装`langgraph-checkpoint-sqlite`库。"
   ]
  },
  {
   "cell_type": "code",
   "execution_count": 32,
   "id": "eccdd28b-27ac-40db-a83e-6b213fb928b5",
   "metadata": {},
   "outputs": [
    {
     "name": "stdout",
     "output_type": "stream",
     "text": [
      "Name: langgraph-checkpoint-sqlite\n",
      "Version: 2.0.1\n",
      "Summary: Library with a SQLite implementation of LangGraph checkpoint saver.\n",
      "Home-page: https://www.github.com/langchain-ai/langgraph\n",
      "Author: \n",
      "Author-email: \n",
      "License: MIT\n",
      "Location: /root/miniconda3/lib/python3.12/site-packages\n",
      "Requires: aiosqlite, langgraph-checkpoint\n",
      "Required-by: \n"
     ]
    }
   ],
   "source": [
    "! pip show langgraph-checkpoint-sqlite"
   ]
  },
  {
   "cell_type": "code",
   "execution_count": 31,
   "id": "de925f2e-74fb-480a-8e36-b847fe414ea4",
   "metadata": {
    "collapsed": true,
    "jupyter": {
     "outputs_hidden": true
    }
   },
   "outputs": [
    {
     "name": "stdout",
     "output_type": "stream",
     "text": [
      "Looking in indexes: http://mirrors.aliyun.com/pypi/simple\n",
      "Collecting langgraph-checkpoint-sqlite\n",
      "  Downloading http://mirrors.aliyun.com/pypi/packages/02/2f/9fff4db273689230f7c5666b778d59282d1c2a0c725edad232260717fc48/langgraph_checkpoint_sqlite-2.0.1-py3-none-any.whl (12 kB)\n",
      "Collecting aiosqlite<0.21.0,>=0.20.0 (from langgraph-checkpoint-sqlite)\n",
      "  Downloading http://mirrors.aliyun.com/pypi/packages/00/c4/c93eb22025a2de6b83263dfe3d7df2e19138e345bca6f18dba7394120930/aiosqlite-0.20.0-py3-none-any.whl (15 kB)\n",
      "Requirement already satisfied: langgraph-checkpoint<3.0.0,>=2.0.2 in /root/miniconda3/lib/python3.12/site-packages (from langgraph-checkpoint-sqlite) (2.0.9)\n",
      "Requirement already satisfied: typing_extensions>=4.0 in /root/miniconda3/lib/python3.12/site-packages (from aiosqlite<0.21.0,>=0.20.0->langgraph-checkpoint-sqlite) (4.12.2)\n",
      "Requirement already satisfied: langchain-core<0.4,>=0.2.38 in /root/miniconda3/lib/python3.12/site-packages (from langgraph-checkpoint<3.0.0,>=2.0.2->langgraph-checkpoint-sqlite) (0.3.28)\n",
      "Requirement already satisfied: msgpack<2.0.0,>=1.1.0 in /root/miniconda3/lib/python3.12/site-packages (from langgraph-checkpoint<3.0.0,>=2.0.2->langgraph-checkpoint-sqlite) (1.1.0)\n",
      "Requirement already satisfied: PyYAML>=5.3 in /root/miniconda3/lib/python3.12/site-packages (from langchain-core<0.4,>=0.2.38->langgraph-checkpoint<3.0.0,>=2.0.2->langgraph-checkpoint-sqlite) (6.0.2)\n",
      "Requirement already satisfied: jsonpatch<2.0,>=1.33 in /root/miniconda3/lib/python3.12/site-packages (from langchain-core<0.4,>=0.2.38->langgraph-checkpoint<3.0.0,>=2.0.2->langgraph-checkpoint-sqlite) (1.33)\n",
      "Requirement already satisfied: langsmith<0.3,>=0.1.125 in /root/miniconda3/lib/python3.12/site-packages (from langchain-core<0.4,>=0.2.38->langgraph-checkpoint<3.0.0,>=2.0.2->langgraph-checkpoint-sqlite) (0.1.147)\n",
      "Requirement already satisfied: packaging<25,>=23.2 in /root/miniconda3/lib/python3.12/site-packages (from langchain-core<0.4,>=0.2.38->langgraph-checkpoint<3.0.0,>=2.0.2->langgraph-checkpoint-sqlite) (23.2)\n",
      "Requirement already satisfied: pydantic<3.0.0,>=2.5.2 in /root/miniconda3/lib/python3.12/site-packages (from langchain-core<0.4,>=0.2.38->langgraph-checkpoint<3.0.0,>=2.0.2->langgraph-checkpoint-sqlite) (2.10.3)\n",
      "Requirement already satisfied: tenacity!=8.4.0,<10.0.0,>=8.1.0 in /root/miniconda3/lib/python3.12/site-packages (from langchain-core<0.4,>=0.2.38->langgraph-checkpoint<3.0.0,>=2.0.2->langgraph-checkpoint-sqlite) (8.5.0)\n",
      "Requirement already satisfied: jsonpointer>=1.9 in /root/miniconda3/lib/python3.12/site-packages (from jsonpatch<2.0,>=1.33->langchain-core<0.4,>=0.2.38->langgraph-checkpoint<3.0.0,>=2.0.2->langgraph-checkpoint-sqlite) (2.1)\n",
      "Requirement already satisfied: httpx<1,>=0.23.0 in /root/miniconda3/lib/python3.12/site-packages (from langsmith<0.3,>=0.1.125->langchain-core<0.4,>=0.2.38->langgraph-checkpoint<3.0.0,>=2.0.2->langgraph-checkpoint-sqlite) (0.27.2)\n",
      "Requirement already satisfied: orjson<4.0.0,>=3.9.14 in /root/miniconda3/lib/python3.12/site-packages (from langsmith<0.3,>=0.1.125->langchain-core<0.4,>=0.2.38->langgraph-checkpoint<3.0.0,>=2.0.2->langgraph-checkpoint-sqlite) (3.10.12)\n",
      "Requirement already satisfied: requests<3,>=2 in /root/miniconda3/lib/python3.12/site-packages (from langsmith<0.3,>=0.1.125->langchain-core<0.4,>=0.2.38->langgraph-checkpoint<3.0.0,>=2.0.2->langgraph-checkpoint-sqlite) (2.31.0)\n",
      "Requirement already satisfied: requests-toolbelt<2.0.0,>=1.0.0 in /root/miniconda3/lib/python3.12/site-packages (from langsmith<0.3,>=0.1.125->langchain-core<0.4,>=0.2.38->langgraph-checkpoint<3.0.0,>=2.0.2->langgraph-checkpoint-sqlite) (1.0.0)\n",
      "Requirement already satisfied: annotated-types>=0.6.0 in /root/miniconda3/lib/python3.12/site-packages (from pydantic<3.0.0,>=2.5.2->langchain-core<0.4,>=0.2.38->langgraph-checkpoint<3.0.0,>=2.0.2->langgraph-checkpoint-sqlite) (0.7.0)\n",
      "Requirement already satisfied: pydantic-core==2.27.1 in /root/miniconda3/lib/python3.12/site-packages (from pydantic<3.0.0,>=2.5.2->langchain-core<0.4,>=0.2.38->langgraph-checkpoint<3.0.0,>=2.0.2->langgraph-checkpoint-sqlite) (2.27.1)\n",
      "Requirement already satisfied: anyio in /root/miniconda3/lib/python3.12/site-packages (from httpx<1,>=0.23.0->langsmith<0.3,>=0.1.125->langchain-core<0.4,>=0.2.38->langgraph-checkpoint<3.0.0,>=2.0.2->langgraph-checkpoint-sqlite) (4.6.2.post1)\n",
      "Requirement already satisfied: certifi in /root/miniconda3/lib/python3.12/site-packages (from httpx<1,>=0.23.0->langsmith<0.3,>=0.1.125->langchain-core<0.4,>=0.2.38->langgraph-checkpoint<3.0.0,>=2.0.2->langgraph-checkpoint-sqlite) (2024.2.2)\n",
      "Requirement already satisfied: httpcore==1.* in /root/miniconda3/lib/python3.12/site-packages (from httpx<1,>=0.23.0->langsmith<0.3,>=0.1.125->langchain-core<0.4,>=0.2.38->langgraph-checkpoint<3.0.0,>=2.0.2->langgraph-checkpoint-sqlite) (1.0.7)\n",
      "Requirement already satisfied: idna in /root/miniconda3/lib/python3.12/site-packages (from httpx<1,>=0.23.0->langsmith<0.3,>=0.1.125->langchain-core<0.4,>=0.2.38->langgraph-checkpoint<3.0.0,>=2.0.2->langgraph-checkpoint-sqlite) (3.7)\n",
      "Requirement already satisfied: sniffio in /root/miniconda3/lib/python3.12/site-packages (from httpx<1,>=0.23.0->langsmith<0.3,>=0.1.125->langchain-core<0.4,>=0.2.38->langgraph-checkpoint<3.0.0,>=2.0.2->langgraph-checkpoint-sqlite) (1.3.1)\n",
      "Requirement already satisfied: h11<0.15,>=0.13 in /root/miniconda3/lib/python3.12/site-packages (from httpcore==1.*->httpx<1,>=0.23.0->langsmith<0.3,>=0.1.125->langchain-core<0.4,>=0.2.38->langgraph-checkpoint<3.0.0,>=2.0.2->langgraph-checkpoint-sqlite) (0.14.0)\n",
      "Requirement already satisfied: charset-normalizer<4,>=2 in /root/miniconda3/lib/python3.12/site-packages (from requests<3,>=2->langsmith<0.3,>=0.1.125->langchain-core<0.4,>=0.2.38->langgraph-checkpoint<3.0.0,>=2.0.2->langgraph-checkpoint-sqlite) (2.0.4)\n",
      "Requirement already satisfied: urllib3<3,>=1.21.1 in /root/miniconda3/lib/python3.12/site-packages (from requests<3,>=2->langsmith<0.3,>=0.1.125->langchain-core<0.4,>=0.2.38->langgraph-checkpoint<3.0.0,>=2.0.2->langgraph-checkpoint-sqlite) (1.26.20)\n",
      "Installing collected packages: aiosqlite, langgraph-checkpoint-sqlite\n",
      "Successfully installed aiosqlite-0.20.0 langgraph-checkpoint-sqlite-2.0.1\n",
      "\u001b[33mWARNING: Running pip as the 'root' user can result in broken permissions and conflicting behaviour with the system package manager. It is recommended to use a virtual environment instead: https://pip.pypa.io/warnings/venv\u001b[0m\u001b[33m\n",
      "\u001b[0m"
     ]
    }
   ],
   "source": [
    "! pip install langgraph-checkpoint-sqlite"
   ]
  },
  {
   "cell_type": "markdown",
   "id": "2b5f7f0d-a7a4-41d1-b226-78a3dc97e3c5",
   "metadata": {},
   "source": [
    "- **Step 2. 定义内存的存储形式**"
   ]
  },
  {
   "cell_type": "markdown",
   "id": "488dfe0e-68a7-4828-ba6b-568ab1b95471",
   "metadata": {},
   "source": [
    "&emsp;&emsp;通过`:memory:`方法指定在内存中存储`checkpointer`。代码如下："
   ]
  },
  {
   "cell_type": "code",
   "execution_count": 26,
   "id": "b1f6e337-7bf7-41ef-a562-305bd2f218c7",
   "metadata": {},
   "outputs": [],
   "source": [
    "from langgraph.checkpoint.sqlite import SqliteSaver\n",
    "\n",
    "# 创建一个内存中的检查点\n",
    "memory = SqliteSaver.from_conn_string(\":memory:\")"
   ]
  },
  {
   "cell_type": "markdown",
   "id": "57c20aa4-5bd8-41df-a8fe-37179ac25a8b",
   "metadata": {},
   "source": [
    "- **Step 3. 构建checkpointer**"
   ]
  },
  {
   "cell_type": "markdown",
   "id": "cd8006ec-5271-4c9d-b0f0-5649f5fa0666",
   "metadata": {},
   "source": [
    "&emsp;&emsp;这里为了演示`SqliteSaver`的执行原理，我们手动构建一个测试的`checkpointer`，其默认实现的是从`State`中进行提取。"
   ]
  },
  {
   "cell_type": "code",
   "execution_count": 27,
   "id": "f1c49bb9-b812-4624-862e-bc2755c16488",
   "metadata": {},
   "outputs": [],
   "source": [
    "checkpoint_data = {\n",
    "    \"thread_id\": \"西瓜老师123\",  \n",
    "    \"thread_ts\": \"2025-10-30T07:23:38.656547+00:00\", \n",
    "    \"checkpoint\": {\n",
    "        \"id\": \"1ef968fe-1eb4-6049-bfff\", \n",
    "    },\n",
    "    \"metadata\": {\"timestamp\": \"2025-10-30T07:23:38.656547+00:00\"}\n",
    "}"
   ]
  },
  {
   "cell_type": "markdown",
   "id": "4c9cb263-b306-42bd-ace0-1bc646d58923",
   "metadata": {},
   "source": [
    "- **Step 3. 存储checkpointer**"
   ]
  },
  {
   "cell_type": "markdown",
   "id": "7ac1255f-60a1-48a6-b890-62d046bf21a0",
   "metadata": {},
   "source": [
    "&emsp;&emsp;在源码中，`from_conn_string`方法使用了`Python`的`contextmanager`装饰器，所以它是一个生成器函数。这个方法创建的实例必须在`with`语句中使用。即我们需要修改其构建的方式，并通过`put`方法进行`checkpointer`配置的写入，代码如下："
   ]
  },
  {
   "cell_type": "code",
   "execution_count": 28,
   "id": "3c077c3e-e216-4f90-9758-ca01f57d4d49",
   "metadata": {},
   "outputs": [],
   "source": [
    "with SqliteSaver.from_conn_string(\":memory:\") as memory:\n",
    "    # 保存检查点，包括时间戳\n",
    "    saved_config = memory.put(\n",
    "        config={\"configurable\": {\"thread_id\": checkpoint_data[\"thread_id\"], \"thread_ts\": checkpoint_data[\"thread_ts\"], \"checkpoint_ns\": \"\"}},\n",
    "        checkpoint=checkpoint_data[\"checkpoint\"],\n",
    "        metadata=checkpoint_data[\"metadata\"],\n",
    "        new_versions= {\"writes\": {\"key\": \"value\"}}\n",
    "    )"
   ]
  },
  {
   "cell_type": "code",
   "execution_count": 29,
   "id": "880d19b6-7f60-482c-91b2-80b609c08ba5",
   "metadata": {},
   "outputs": [
    {
     "name": "stdout",
     "output_type": "stream",
     "text": [
      "{'configurable': {'thread_id': '西瓜老师123', 'checkpoint_ns': '', 'checkpoint_id': '1ef968fe-1eb4-6049-bfff'}}\n"
     ]
    }
   ],
   "source": [
    "print(saved_config)"
   ]
  },
  {
   "cell_type": "markdown",
   "id": "5b3024c6-7fa0-472f-b81c-4dbdba7db0cc",
   "metadata": {},
   "source": [
    "&emsp;&emsp;除此之外，还可以通过`list`方法查看到`thread_id`下所有的检查点信息，代码如下："
   ]
  },
  {
   "cell_type": "code",
   "execution_count": 30,
   "id": "d0e60e71-f0b4-4885-941e-54454d837330",
   "metadata": {},
   "outputs": [
    {
     "name": "stdout",
     "output_type": "stream",
     "text": [
      "CheckpointTuple(config={'configurable': {'thread_id': '西瓜老师123', 'checkpoint_ns': '', 'checkpoint_id': '1ef968fe-1eb4-6049-bfff'}}, checkpoint={'id': '1ef968fe-1eb4-6049-bfff'}, metadata={'timestamp': '2025-10-30T07:23:38.656547+00:00'}, parent_config=None, pending_writes=[])\n"
     ]
    }
   ],
   "source": [
    "with SqliteSaver.from_conn_string(\":memory:\") as memory:\n",
    "    # 保存检查点，包括时间戳\n",
    "    saved_config = memory.put(\n",
    "        config={\"configurable\": {\"thread_id\": checkpoint_data[\"thread_id\"], \"thread_ts\": checkpoint_data[\"thread_ts\"], \"checkpoint_ns\": \"\"}},\n",
    "        checkpoint=checkpoint_data[\"checkpoint\"],\n",
    "        metadata=checkpoint_data[\"metadata\"],\n",
    "        new_versions= {\"writes\": {\"key\": \"value\"}}\n",
    "    )\n",
    "\n",
    "    # 检索检查点的数据\n",
    "    config = {\"configurable\": {\"thread_id\": checkpoint_data[\"thread_id\"]}}\n",
    "    \n",
    "    # 获取给定 thread_id 的所有检查点\n",
    "    checkpoints = list(memory.list(config))  \n",
    "    for checkpoint in checkpoints:\n",
    "        print(checkpoint)"
   ]
  },
  {
   "cell_type": "markdown",
   "id": "8896b97c-46d8-4f71-af12-bc2537e025d1",
   "metadata": {},
   "source": [
    "&emsp;&emsp;内部原理如下图所示："
   ]
  },
  {
   "cell_type": "markdown",
   "id": "cd82c30b-d7f7-477e-94f5-ad475d2ce902",
   "metadata": {},
   "source": [
    "<div align=center><img src=\"../pic/lesson07/d.png\" width=80%></div>"
   ]
  },
  {
   "cell_type": "markdown",
   "id": "4fc672e4-3e5b-4b5d-a2f0-de20571449f0",
   "metadata": {},
   "source": [
    "&emsp;&emsp;除此之外，`SQLiteSaver`还支持持久化存储。这种方式是指存储在非易失性介质上的数据，例如硬盘驱动器、SSD 或云存储，即使应用程序停止或系统断电，这种类型的存储也会保留数据。使用的方式也非常简单，只需要把`from_conn_string`中的`:memory:`更换为指向为本地的`sqlite.db`的文件即可，这允许数据持久保存，便于长期存取。代码如下："
   ]
  },
  {
   "cell_type": "code",
   "execution_count": 31,
   "id": "cbd34d18-7e5a-4ecd-af7b-34f663b2362d",
   "metadata": {},
   "outputs": [
    {
     "name": "stdout",
     "output_type": "stream",
     "text": [
      "CheckpointTuple(config={'configurable': {'thread_id': '西瓜老师123', 'checkpoint_ns': '', 'checkpoint_id': '1ef968fe-1eb4-6049-bfff'}}, checkpoint={'id': '1ef968fe-1eb4-6049-bfff'}, metadata={'timestamp': '2025-10-30T07:23:38.656547+00:00'}, parent_config=None, pending_writes=[])\n"
     ]
    }
   ],
   "source": [
    "import sqlite3\n",
    "from langgraph.checkpoint.sqlite import SqliteSaver \n",
    "\n",
    "with SqliteSaver.from_conn_string(\"checkpoints20251101.sqlite\") as memory:\n",
    "    # 保存检查点，包括时间戳\n",
    "    saved_config = memory.put(\n",
    "        config={\"configurable\": {\"thread_id\": checkpoint_data[\"thread_id\"], \"thread_ts\": checkpoint_data[\"thread_ts\"], \"checkpoint_ns\": \"\"}},\n",
    "        checkpoint=checkpoint_data[\"checkpoint\"],\n",
    "        metadata=checkpoint_data[\"metadata\"],\n",
    "        new_versions= {\"writes\": {\"key\": \"value\"}}\n",
    "    )\n",
    "\n",
    "    # 检索检查点的数据\n",
    "    config = {\"configurable\": {\"thread_id\": checkpoint_data[\"thread_id\"]}}\n",
    "    \n",
    "    # 获取给定 thread_id 的所有检查点\n",
    "    checkpoints = list(memory.list(config))  \n",
    "    for checkpoint in checkpoints:\n",
    "        print(checkpoint)"
   ]
  },
  {
   "cell_type": "markdown",
   "id": "cae705f7-f8b1-48ca-ae66-2ba948800019",
   "metadata": {},
   "source": [
    "&emsp;&emsp;可以使用标准的 `SQL` 语法直接与数据库进行交互。"
   ]
  },
  {
   "cell_type": "code",
   "execution_count": 32,
   "id": "3d97f24c-03ef-48f3-ac3b-0a3c4b256ec8",
   "metadata": {},
   "outputs": [],
   "source": [
    "# 建立数据库连接\n",
    "conn = sqlite3.connect(\"checkpoints20251101.sqlite\")\n",
    "\n",
    "# 创建一个游标对象来执行你的SQL查询\n",
    "cursor = conn.cursor()\n",
    "\n",
    "# 查询数据库中所有表的名称\n",
    "cursor.execute(\"SELECT name FROM sqlite_master WHERE type='table';\")\n",
    "\n",
    "# 获取查询结果\n",
    "tables = cursor.fetchall()"
   ]
  },
  {
   "cell_type": "code",
   "execution_count": 33,
   "id": "8a882138-6baf-4de2-91a8-f395a945d6b1",
   "metadata": {},
   "outputs": [
    {
     "name": "stdout",
     "output_type": "stream",
     "text": [
      "('checkpoints',)\n",
      "('writes',)\n"
     ]
    }
   ],
   "source": [
    "# 打印所有表名\n",
    "for table in tables:\n",
    "    print(table)"
   ]
  },
  {
   "cell_type": "code",
   "execution_count": 34,
   "id": "abc37ec5-d7a7-42b6-a45d-6e3487b1601b",
   "metadata": {},
   "outputs": [
    {
     "name": "stdout",
     "output_type": "stream",
     "text": [
      "Data in the 'checkpoints' table:\n",
      "('西瓜老师123', '', '1ef968fe-1eb4-6049-bfff', None, 'msgpack', b'\\x81\\xa2id\\xb71ef968fe-1eb4-6049-bfff', b'{\"timestamp\": \"2025-10-30T07:23:38.656547+00:00\"}')\n"
     ]
    }
   ],
   "source": [
    "# 从检查点表中检索所有数据\n",
    "cursor.execute(f\"SELECT * FROM checkpoints;\")\n",
    "all_data = cursor.fetchall()\n",
    "\n",
    "# 打印检查点表中的所有数据\n",
    "print(\"Data in the 'checkpoints' table:\")\n",
    "for row in all_data:\n",
    "    print(row)"
   ]
  },
  {
   "cell_type": "markdown",
   "id": "295664bd-82db-405b-b621-e9394534d1a5",
   "metadata": {},
   "source": [
    "## 2.3 通过检查点给图增加持久性记忆"
   ]
  },
  {
   "cell_type": "markdown",
   "id": "b757910b-f828-422c-a566-17ef0992d211",
   "metadata": {},
   "source": [
    "&emsp;&emsp;到目前为止，我们已经探索了`memory`、`checkpointer`、`state`和`thead`的概念，以及如何在内存中存储类似状态的对象。现在我们来看一下如何将不同形式的`memory`集成到`ReAct`代理流程中。"
   ]
  },
  {
   "cell_type": "markdown",
   "id": "b2cf7f10-516a-4388-b43c-db32fb25093a",
   "metadata": {},
   "source": [
    "&emsp;&emsp;之前我们课程里面介绍的`LangGraph`预构建组件`ReAct`，通过`create_react_agent`是内部已经实现了图的编译过程，如果想加入`memory`，则只需要在执行`create_react_agent`方法时，新增一个`checkpointer`参数来接收，如下代码所示："
   ]
  },
  {
   "cell_type": "code",
   "execution_count": 35,
   "id": "9ed438e5-1a41-40d1-8aaa-4225a56ef7c7",
   "metadata": {},
   "outputs": [],
   "source": [
    "from langchain_core.tools import tool\n",
    "from typing import Union, Optional\n",
    "from pydantic import BaseModel, Field\n",
    "import requests\n",
    "import json\n",
    "\n",
    "class WeatherLoc(BaseModel):\n",
    "    location: str = Field(description=\"The location name of the city\")\n",
    "\n",
    "@tool(args_schema=WeatherLoc)\n",
    "def get_weather(location):\n",
    "    \"\"\"\n",
    "    Function to query current weather.\n",
    "    :param loc: Required parameter, of type string, representing the specific city name for the weather query. \\\n",
    "    Note that for cities in China, the corresponding English city name should be used. For example, to query the weather for Beijing, \\\n",
    "    the loc parameter should be input as 'Beijing'.\n",
    "    :return: The result of the OpenWeather API query for current weather, with the specific URL request address being: https://api.openweathermap.org/data/2.5/weather. \\\n",
    "    The return type is a JSON-formatted object after parsing, represented as a string, containing all important weather information.\n",
    "    \"\"\"\n",
    "    # Step 1.构建请求\n",
    "    url = \"https://api.openweathermap.org/data/2.5/weather\"\n",
    "\n",
    "    # Step 2.设置查询参数\n",
    "    params = {\n",
    "        \"q\": location,               \n",
    "        \"appid\": \"5c939a7cc59eb8696f4cd77bf75c5a9a\",    # 输入API key\n",
    "        \"units\": \"metric\",            # 使用摄氏度而不是华氏度\n",
    "        \"lang\":\"zh_cn\"                # 输出语言为简体中文\n",
    "    }\n",
    "\n",
    "    # Step 3.发送GET请求\n",
    "    response = requests.get(url, params=params)\n",
    "    \n",
    "    # Step 4.解析响应\n",
    "    data = response.json()\n",
    "    return json.dumps(data)"
   ]
  },
  {
   "cell_type": "code",
   "execution_count": 36,
   "id": "44d338c9-96b6-44d5-825b-b5b70d2f05d9",
   "metadata": {},
   "outputs": [
    {
     "name": "stderr",
     "output_type": "stream",
     "text": [
      "/tmp/ipykernel_1325/880929365.py:1: LangChainDeprecationWarning: The method `BaseTool.__call__` was deprecated in langchain-core 0.1.47 and will be removed in 1.0. Use :meth:`~invoke` instead.\n",
      "  get_weather(\"Beijing\")\n"
     ]
    },
    {
     "data": {
      "text/plain": [
       "'{\"coord\": {\"lon\": 116.3972, \"lat\": 39.9075}, \"weather\": [{\"id\": 802, \"main\": \"Clouds\", \"description\": \"\\\\u591a\\\\u4e91\", \"icon\": \"03d\"}], \"base\": \"stations\", \"main\": {\"temp\": 1.31, \"feels_like\": 1.31, \"temp_min\": 1.31, \"temp_max\": 1.31, \"pressure\": 1025, \"humidity\": 16, \"sea_level\": 1025, \"grnd_level\": 1020}, \"visibility\": 10000, \"wind\": {\"speed\": 0.54, \"deg\": 292, \"gust\": 1.24}, \"clouds\": {\"all\": 30}, \"dt\": 1735961254, \"sys\": {\"country\": \"CN\", \"sunrise\": 1735947368, \"sunset\": 1735981320}, \"timezone\": 28800, \"id\": 1816670, \"name\": \"Beijing\", \"cod\": 200}'"
      ]
     },
     "execution_count": 36,
     "metadata": {},
     "output_type": "execute_result"
    }
   ],
   "source": [
    "get_weather(\"Beijing\")"
   ]
  },
  {
   "cell_type": "code",
   "execution_count": 37,
   "id": "36f5008c-6d50-41b8-b403-d847a50831ef",
   "metadata": {},
   "outputs": [],
   "source": [
    "tools = [get_weather]"
   ]
  },
  {
   "cell_type": "code",
   "execution_count": 38,
   "id": "a37efd17-aa49-4308-8e7a-83f2c0678fc8",
   "metadata": {},
   "outputs": [],
   "source": [
    "llm = ChatOpenAI(model=\"gpt-4o\", api_key=key,base_url=base_url,temperature=0,)"
   ]
  },
  {
   "cell_type": "markdown",
   "id": "bf0e9e5c-2d72-43d4-996c-6410841feb91",
   "metadata": {},
   "source": [
    "&emsp;&emsp;创建`ReAct`代理的时候添加`memory`，代码如下："
   ]
  },
  {
   "cell_type": "code",
   "execution_count": 39,
   "id": "02fc7520-4c00-4ef5-b18f-213d28168ddb",
   "metadata": {},
   "outputs": [
    {
     "data": {
      "image/png": "[encoded data removed]",
      "text/plain": [
       "<IPython.core.display.Image object>"
      ]
     },
     "metadata": {},
     "output_type": "display_data"
    },
    {
     "name": "stdout",
     "output_type": "stream",
     "text": [
      "================================\u001b[1m Human Message \u001b[0m=================================\n",
      "\n",
      "你好，我叫西瓜老师\n",
      "==================================\u001b[1m Ai Message \u001b[0m==================================\n",
      "\n",
      "你好，西瓜老师！有什么我可以帮助你的吗？\n",
      "================================\u001b[1m Human Message \u001b[0m=================================\n",
      "\n",
      "请问我叫什么？\n",
      "==================================\u001b[1m Ai Message \u001b[0m==================================\n",
      "\n",
      "你告诉我你叫“西瓜老师”。\n"
     ]
    }
   ],
   "source": [
    "from langgraph.checkpoint.sqlite import SqliteSaver\n",
    "from langgraph.prebuilt import create_react_agent\n",
    "\n",
    "with SqliteSaver.from_conn_string(\":memory:\") as checkpointer:\n",
    "    graph = create_react_agent(llm, tools=tools, checkpointer=checkpointer)\n",
    "    display(Image(graph.get_graph().draw_mermaid_png()))\n",
    "    \n",
    "    config = {\"configurable\": {\"thread_id\": \"11\"}}\n",
    "\n",
    "    for chunk in graph.stream({\"messages\": [\"你好，我叫西瓜老师\"]}, config, stream_mode=\"values\"):\n",
    "        chunk[\"messages\"][-1].pretty_print()\n",
    "     \n",
    "    for chunk in graph.stream({\"messages\": [\"请问我叫什么？\"]}, config, stream_mode=\"values\"):\n",
    "        chunk[\"messages\"][-1].pretty_print()"
   ]
  },
  {
   "cell_type": "markdown",
   "id": "dcd1b735-9f7b-4dc3-89db-156af2223d9d",
   "metadata": {},
   "source": [
    "&emsp;&emsp;但这种定义方法是不能跨单元传播的，比如我们在一个新的`cell`中再次对上面创建的图进行问答:"
   ]
  },
  {
   "cell_type": "code",
   "execution_count": 40,
   "id": "80067bed-a443-4be1-9191-2248389d099d",
   "metadata": {
    "scrolled": true
   },
   "outputs": [
    {
     "ename": "ProgrammingError",
     "evalue": "Cannot operate on a closed database.",
     "output_type": "error",
     "traceback": [
      "\u001b[0;31m---------------------------------------------------------------------------\u001b[0m",
      "\u001b[0;31mProgrammingError\u001b[0m                          Traceback (most recent call last)",
      "Cell \u001b[0;32mIn[40], line 1\u001b[0m\n\u001b[0;32m----> 1\u001b[0m \u001b[38;5;28;43;01mfor\u001b[39;49;00m\u001b[43m \u001b[49m\u001b[43mchunk\u001b[49m\u001b[43m \u001b[49m\u001b[38;5;129;43;01min\u001b[39;49;00m\u001b[43m \u001b[49m\u001b[43mgraph\u001b[49m\u001b[38;5;241;43m.\u001b[39;49m\u001b[43mstream\u001b[49m\u001b[43m(\u001b[49m\u001b[43m{\u001b[49m\u001b[38;5;124;43m\"\u001b[39;49m\u001b[38;5;124;43mmessages\u001b[39;49m\u001b[38;5;124;43m\"\u001b[39;49m\u001b[43m:\u001b[49m\u001b[43m \u001b[49m\u001b[43m[\u001b[49m\u001b[38;5;124;43m\"\u001b[39;49m\u001b[38;5;124;43m请问我叫什么？\u001b[39;49m\u001b[38;5;124;43m\"\u001b[39;49m\u001b[43m]\u001b[49m\u001b[43m}\u001b[49m\u001b[43m,\u001b[49m\u001b[43m \u001b[49m\u001b[43mconfig\u001b[49m\u001b[43m,\u001b[49m\u001b[43m \u001b[49m\u001b[43mstream_mode\u001b[49m\u001b[38;5;241;43m=\u001b[39;49m\u001b[38;5;124;43m\"\u001b[39;49m\u001b[38;5;124;43mvalues\u001b[39;49m\u001b[38;5;124;43m\"\u001b[39;49m\u001b[43m)\u001b[49m\u001b[43m:\u001b[49m\n\u001b[1;32m      2\u001b[0m \u001b[43m    \u001b[49m\u001b[43mchunk\u001b[49m\u001b[43m[\u001b[49m\u001b[38;5;124;43m\"\u001b[39;49m\u001b[38;5;124;43mmessages\u001b[39;49m\u001b[38;5;124;43m\"\u001b[39;49m\u001b[43m]\u001b[49m\u001b[43m[\u001b[49m\u001b[38;5;241;43m-\u001b[39;49m\u001b[38;5;241;43m1\u001b[39;49m\u001b[43m]\u001b[49m\u001b[38;5;241;43m.\u001b[39;49m\u001b[43mpretty_print\u001b[49m\u001b[43m(\u001b[49m\u001b[43m)\u001b[49m\n",
      "File \u001b[0;32m~/miniconda3/lib/python3.12/site-packages/langgraph/pregel/__init__.py:1605\u001b[0m, in \u001b[0;36mPregel.stream\u001b[0;34m(self, input, config, stream_mode, output_keys, interrupt_before, interrupt_after, debug, subgraphs)\u001b[0m\n\u001b[1;32m   1601\u001b[0m \u001b[38;5;28;01mif\u001b[39;00m \u001b[38;5;124m\"\u001b[39m\u001b[38;5;124mcustom\u001b[39m\u001b[38;5;124m\"\u001b[39m \u001b[38;5;129;01min\u001b[39;00m stream_modes:\n\u001b[1;32m   1602\u001b[0m     config[CONF][CONFIG_KEY_STREAM_WRITER] \u001b[38;5;241m=\u001b[39m \u001b[38;5;28;01mlambda\u001b[39;00m c: stream\u001b[38;5;241m.\u001b[39mput(\n\u001b[1;32m   1603\u001b[0m         ((), \u001b[38;5;124m\"\u001b[39m\u001b[38;5;124mcustom\u001b[39m\u001b[38;5;124m\"\u001b[39m, c)\n\u001b[1;32m   1604\u001b[0m     )\n\u001b[0;32m-> 1605\u001b[0m \u001b[43m\u001b[49m\u001b[38;5;28;43;01mwith\u001b[39;49;00m\u001b[43m \u001b[49m\u001b[43mSyncPregelLoop\u001b[49m\u001b[43m(\u001b[49m\n\u001b[1;32m   1606\u001b[0m \u001b[43m    \u001b[49m\u001b[38;5;28;43minput\u001b[39;49m\u001b[43m,\u001b[49m\n\u001b[1;32m   1607\u001b[0m \u001b[43m    \u001b[49m\u001b[43mstream\u001b[49m\u001b[38;5;241;43m=\u001b[39;49m\u001b[43mStreamProtocol\u001b[49m\u001b[43m(\u001b[49m\u001b[43mstream\u001b[49m\u001b[38;5;241;43m.\u001b[39;49m\u001b[43mput\u001b[49m\u001b[43m,\u001b[49m\u001b[43m \u001b[49m\u001b[43mstream_modes\u001b[49m\u001b[43m)\u001b[49m\u001b[43m,\u001b[49m\n\u001b[1;32m   1608\u001b[0m \u001b[43m    \u001b[49m\u001b[43mconfig\u001b[49m\u001b[38;5;241;43m=\u001b[39;49m\u001b[43mconfig\u001b[49m\u001b[43m,\u001b[49m\n\u001b[1;32m   1609\u001b[0m \u001b[43m    \u001b[49m\u001b[43mstore\u001b[49m\u001b[38;5;241;43m=\u001b[39;49m\u001b[43mstore\u001b[49m\u001b[43m,\u001b[49m\n\u001b[1;32m   1610\u001b[0m \u001b[43m    \u001b[49m\u001b[43mcheckpointer\u001b[49m\u001b[38;5;241;43m=\u001b[39;49m\u001b[43mcheckpointer\u001b[49m\u001b[43m,\u001b[49m\n\u001b[1;32m   1611\u001b[0m \u001b[43m    \u001b[49m\u001b[43mnodes\u001b[49m\u001b[38;5;241;43m=\u001b[39;49m\u001b[38;5;28;43mself\u001b[39;49m\u001b[38;5;241;43m.\u001b[39;49m\u001b[43mnodes\u001b[49m\u001b[43m,\u001b[49m\n\u001b[1;32m   1612\u001b[0m \u001b[43m    \u001b[49m\u001b[43mspecs\u001b[49m\u001b[38;5;241;43m=\u001b[39;49m\u001b[38;5;28;43mself\u001b[39;49m\u001b[38;5;241;43m.\u001b[39;49m\u001b[43mchannels\u001b[49m\u001b[43m,\u001b[49m\n\u001b[1;32m   1613\u001b[0m \u001b[43m    \u001b[49m\u001b[43moutput_keys\u001b[49m\u001b[38;5;241;43m=\u001b[39;49m\u001b[43moutput_keys\u001b[49m\u001b[43m,\u001b[49m\n\u001b[1;32m   1614\u001b[0m \u001b[43m    \u001b[49m\u001b[43mstream_keys\u001b[49m\u001b[38;5;241;43m=\u001b[39;49m\u001b[38;5;28;43mself\u001b[39;49m\u001b[38;5;241;43m.\u001b[39;49m\u001b[43mstream_channels_asis\u001b[49m\u001b[43m,\u001b[49m\n\u001b[1;32m   1615\u001b[0m \u001b[43m    \u001b[49m\u001b[43minterrupt_before\u001b[49m\u001b[38;5;241;43m=\u001b[39;49m\u001b[43minterrupt_before_\u001b[49m\u001b[43m,\u001b[49m\n\u001b[1;32m   1616\u001b[0m \u001b[43m    \u001b[49m\u001b[43minterrupt_after\u001b[49m\u001b[38;5;241;43m=\u001b[39;49m\u001b[43minterrupt_after_\u001b[49m\u001b[43m,\u001b[49m\n\u001b[1;32m   1617\u001b[0m \u001b[43m    \u001b[49m\u001b[43mmanager\u001b[49m\u001b[38;5;241;43m=\u001b[39;49m\u001b[43mrun_manager\u001b[49m\u001b[43m,\u001b[49m\n\u001b[1;32m   1618\u001b[0m \u001b[43m    \u001b[49m\u001b[43mdebug\u001b[49m\u001b[38;5;241;43m=\u001b[39;49m\u001b[43mdebug\u001b[49m\u001b[43m,\u001b[49m\n\u001b[1;32m   1619\u001b[0m \u001b[43m\u001b[49m\u001b[43m)\u001b[49m\u001b[43m \u001b[49m\u001b[38;5;28;43;01mas\u001b[39;49;00m\u001b[43m \u001b[49m\u001b[43mloop\u001b[49m\u001b[43m:\u001b[49m\n\u001b[1;32m   1620\u001b[0m \u001b[43m    \u001b[49m\u001b[38;5;66;43;03m# create runner\u001b[39;49;00m\n\u001b[1;32m   1621\u001b[0m \u001b[43m    \u001b[49m\u001b[43mrunner\u001b[49m\u001b[43m \u001b[49m\u001b[38;5;241;43m=\u001b[39;49m\u001b[43m \u001b[49m\u001b[43mPregelRunner\u001b[49m\u001b[43m(\u001b[49m\n\u001b[1;32m   1622\u001b[0m \u001b[43m        \u001b[49m\u001b[43msubmit\u001b[49m\u001b[38;5;241;43m=\u001b[39;49m\u001b[43mloop\u001b[49m\u001b[38;5;241;43m.\u001b[39;49m\u001b[43msubmit\u001b[49m\u001b[43m,\u001b[49m\n\u001b[1;32m   1623\u001b[0m \u001b[43m        \u001b[49m\u001b[43mput_writes\u001b[49m\u001b[38;5;241;43m=\u001b[39;49m\u001b[43mloop\u001b[49m\u001b[38;5;241;43m.\u001b[39;49m\u001b[43mput_writes\u001b[49m\u001b[43m,\u001b[49m\n\u001b[1;32m   1624\u001b[0m \u001b[43m        \u001b[49m\u001b[43mschedule_task\u001b[49m\u001b[38;5;241;43m=\u001b[39;49m\u001b[43mloop\u001b[49m\u001b[38;5;241;43m.\u001b[39;49m\u001b[43maccept_push\u001b[49m\u001b[43m,\u001b[49m\n\u001b[1;32m   1625\u001b[0m \u001b[43m        \u001b[49m\u001b[43mnode_finished\u001b[49m\u001b[38;5;241;43m=\u001b[39;49m\u001b[43mconfig\u001b[49m\u001b[43m[\u001b[49m\u001b[43mCONF\u001b[49m\u001b[43m]\u001b[49m\u001b[38;5;241;43m.\u001b[39;49m\u001b[43mget\u001b[49m\u001b[43m(\u001b[49m\u001b[43mCONFIG_KEY_NODE_FINISHED\u001b[49m\u001b[43m)\u001b[49m\u001b[43m,\u001b[49m\n\u001b[1;32m   1626\u001b[0m \u001b[43m    \u001b[49m\u001b[43m)\u001b[49m\n\u001b[1;32m   1627\u001b[0m \u001b[43m    \u001b[49m\u001b[38;5;66;43;03m# enable subgraph streaming\u001b[39;49;00m\n",
      "File \u001b[0;32m~/miniconda3/lib/python3.12/site-packages/langgraph/pregel/loop.py:854\u001b[0m, in \u001b[0;36mSyncPregelLoop.__enter__\u001b[0;34m(self)\u001b[0m\n\u001b[1;32m    852\u001b[0m         \u001b[38;5;28;01mraise\u001b[39;00m CheckpointNotLatest\n\u001b[1;32m    853\u001b[0m \u001b[38;5;28;01melif\u001b[39;00m \u001b[38;5;28mself\u001b[39m\u001b[38;5;241m.\u001b[39mcheckpointer:\n\u001b[0;32m--> 854\u001b[0m     saved \u001b[38;5;241m=\u001b[39m \u001b[38;5;28;43mself\u001b[39;49m\u001b[38;5;241;43m.\u001b[39;49m\u001b[43mcheckpointer\u001b[49m\u001b[38;5;241;43m.\u001b[39;49m\u001b[43mget_tuple\u001b[49m\u001b[43m(\u001b[49m\u001b[38;5;28;43mself\u001b[39;49m\u001b[38;5;241;43m.\u001b[39;49m\u001b[43mcheckpoint_config\u001b[49m\u001b[43m)\u001b[49m\n\u001b[1;32m    855\u001b[0m \u001b[38;5;28;01melse\u001b[39;00m:\n\u001b[1;32m    856\u001b[0m     saved \u001b[38;5;241m=\u001b[39m \u001b[38;5;28;01mNone\u001b[39;00m\n",
      "File \u001b[0;32m~/miniconda3/lib/python3.12/site-packages/langgraph/checkpoint/sqlite/__init__.py:213\u001b[0m, in \u001b[0;36mSqliteSaver.get_tuple\u001b[0;34m(self, config)\u001b[0m\n\u001b[1;32m    178\u001b[0m \u001b[38;5;250m\u001b[39m\u001b[38;5;124;03m\"\"\"Get a checkpoint tuple from the database.\u001b[39;00m\n\u001b[1;32m    179\u001b[0m \n\u001b[1;32m    180\u001b[0m \u001b[38;5;124;03mThis method retrieves a checkpoint tuple from the SQLite database based on the\u001b[39;00m\n\u001b[0;32m   (...)\u001b[0m\n\u001b[1;32m    210\u001b[0m \u001b[38;5;124;03m    CheckpointTuple(...)\u001b[39;00m\n\u001b[1;32m    211\u001b[0m \u001b[38;5;124;03m\"\"\"\u001b[39;00m  \u001b[38;5;66;03m# noqa\u001b[39;00m\n\u001b[1;32m    212\u001b[0m checkpoint_ns \u001b[38;5;241m=\u001b[39m config[\u001b[38;5;124m\"\u001b[39m\u001b[38;5;124mconfigurable\u001b[39m\u001b[38;5;124m\"\u001b[39m]\u001b[38;5;241m.\u001b[39mget(\u001b[38;5;124m\"\u001b[39m\u001b[38;5;124mcheckpoint_ns\u001b[39m\u001b[38;5;124m\"\u001b[39m, \u001b[38;5;124m\"\u001b[39m\u001b[38;5;124m\"\u001b[39m)\n\u001b[0;32m--> 213\u001b[0m \u001b[43m\u001b[49m\u001b[38;5;28;43;01mwith\u001b[39;49;00m\u001b[43m \u001b[49m\u001b[38;5;28;43mself\u001b[39;49m\u001b[38;5;241;43m.\u001b[39;49m\u001b[43mcursor\u001b[49m\u001b[43m(\u001b[49m\u001b[43mtransaction\u001b[49m\u001b[38;5;241;43m=\u001b[39;49m\u001b[38;5;28;43;01mFalse\u001b[39;49;00m\u001b[43m)\u001b[49m\u001b[43m \u001b[49m\u001b[38;5;28;43;01mas\u001b[39;49;00m\u001b[43m \u001b[49m\u001b[43mcur\u001b[49m\u001b[43m:\u001b[49m\n\u001b[1;32m    214\u001b[0m \u001b[43m    \u001b[49m\u001b[38;5;66;43;03m# find the latest checkpoint for the thread_id\u001b[39;49;00m\n\u001b[1;32m    215\u001b[0m \u001b[43m    \u001b[49m\u001b[38;5;28;43;01mif\u001b[39;49;00m\u001b[43m \u001b[49m\u001b[43mcheckpoint_id\u001b[49m\u001b[43m \u001b[49m\u001b[38;5;241;43m:=\u001b[39;49m\u001b[43m \u001b[49m\u001b[43mget_checkpoint_id\u001b[49m\u001b[43m(\u001b[49m\u001b[43mconfig\u001b[49m\u001b[43m)\u001b[49m\u001b[43m:\u001b[49m\n\u001b[1;32m    216\u001b[0m \u001b[43m        \u001b[49m\u001b[43mcur\u001b[49m\u001b[38;5;241;43m.\u001b[39;49m\u001b[43mexecute\u001b[49m\u001b[43m(\u001b[49m\n\u001b[1;32m    217\u001b[0m \u001b[43m            \u001b[49m\u001b[38;5;124;43m\"\u001b[39;49m\u001b[38;5;124;43mSELECT thread_id, checkpoint_id, parent_checkpoint_id, type, checkpoint, metadata FROM checkpoints WHERE thread_id = ? AND checkpoint_ns = ? AND checkpoint_id = ?\u001b[39;49m\u001b[38;5;124;43m\"\u001b[39;49m\u001b[43m,\u001b[49m\n\u001b[1;32m    218\u001b[0m \u001b[43m            \u001b[49m\u001b[43m(\u001b[49m\n\u001b[0;32m   (...)\u001b[0m\n\u001b[1;32m    222\u001b[0m \u001b[43m            \u001b[49m\u001b[43m)\u001b[49m\u001b[43m,\u001b[49m\n\u001b[1;32m    223\u001b[0m \u001b[43m        \u001b[49m\u001b[43m)\u001b[49m\n",
      "File \u001b[0;32m~/miniconda3/lib/python3.12/contextlib.py:137\u001b[0m, in \u001b[0;36m_GeneratorContextManager.__enter__\u001b[0;34m(self)\u001b[0m\n\u001b[1;32m    135\u001b[0m \u001b[38;5;28;01mdel\u001b[39;00m \u001b[38;5;28mself\u001b[39m\u001b[38;5;241m.\u001b[39margs, \u001b[38;5;28mself\u001b[39m\u001b[38;5;241m.\u001b[39mkwds, \u001b[38;5;28mself\u001b[39m\u001b[38;5;241m.\u001b[39mfunc\n\u001b[1;32m    136\u001b[0m \u001b[38;5;28;01mtry\u001b[39;00m:\n\u001b[0;32m--> 137\u001b[0m     \u001b[38;5;28;01mreturn\u001b[39;00m \u001b[38;5;28;43mnext\u001b[39;49m\u001b[43m(\u001b[49m\u001b[38;5;28;43mself\u001b[39;49m\u001b[38;5;241;43m.\u001b[39;49m\u001b[43mgen\u001b[49m\u001b[43m)\u001b[49m\n\u001b[1;32m    138\u001b[0m \u001b[38;5;28;01mexcept\u001b[39;00m \u001b[38;5;167;01mStopIteration\u001b[39;00m:\n\u001b[1;32m    139\u001b[0m     \u001b[38;5;28;01mraise\u001b[39;00m \u001b[38;5;167;01mRuntimeError\u001b[39;00m(\u001b[38;5;124m\"\u001b[39m\u001b[38;5;124mgenerator didn\u001b[39m\u001b[38;5;124m'\u001b[39m\u001b[38;5;124mt yield\u001b[39m\u001b[38;5;124m\"\u001b[39m) \u001b[38;5;28;01mfrom\u001b[39;00m \u001b[38;5;28;01mNone\u001b[39;00m\n",
      "File \u001b[0;32m~/miniconda3/lib/python3.12/site-packages/langgraph/checkpoint/sqlite/__init__.py:169\u001b[0m, in \u001b[0;36mSqliteSaver.cursor\u001b[0;34m(self, transaction)\u001b[0m\n\u001b[1;32m    167\u001b[0m \u001b[38;5;28;01mwith\u001b[39;00m \u001b[38;5;28mself\u001b[39m\u001b[38;5;241m.\u001b[39mlock:\n\u001b[1;32m    168\u001b[0m     \u001b[38;5;28mself\u001b[39m\u001b[38;5;241m.\u001b[39msetup()\n\u001b[0;32m--> 169\u001b[0m     cur \u001b[38;5;241m=\u001b[39m \u001b[38;5;28;43mself\u001b[39;49m\u001b[38;5;241;43m.\u001b[39;49m\u001b[43mconn\u001b[49m\u001b[38;5;241;43m.\u001b[39;49m\u001b[43mcursor\u001b[49m\u001b[43m(\u001b[49m\u001b[43m)\u001b[49m\n\u001b[1;32m    170\u001b[0m     \u001b[38;5;28;01mtry\u001b[39;00m:\n\u001b[1;32m    171\u001b[0m         \u001b[38;5;28;01myield\u001b[39;00m cur\n",
      "\u001b[0;31mProgrammingError\u001b[0m: Cannot operate on a closed database."
     ]
    }
   ],
   "source": [
    "for chunk in graph.stream({\"messages\": [\"请问我叫什么？\"]}, config, stream_mode=\"values\"):\n",
    "    chunk[\"messages\"][-1].pretty_print()"
   ]
  },
  {
   "cell_type": "markdown",
   "id": "db7cd48e-16d5-451b-81f0-101dbe067637",
   "metadata": {},
   "source": [
    "&emsp;&emsp;出现报错的原因是因为脱离了上下文的环境。每次使用 `SqliteSaver.from_conn_string(\":memory:\")` 时，都会创建一个新的内存数据库实例，因此无法保持之前会话的状态。内存数据库（`:memory:`）是临时的，只存在于该数据库连接的生命周期内，一旦连接关闭，数据库就会消失。所以一种比较合适的写法是使用 `contextlib.ExitStack` 来作为管理和组织多个上下文管理器，这个方法可以让我们在一个统一的上下文管理堆栈中注册多个上下文管理器，并确保它们按正确的顺序（即最后进入的首先退出）被关闭。所以代码如下："
   ]
  },
  {
   "cell_type": "code",
   "execution_count": 41,
   "id": "6b100b3f-f767-4183-a407-fc2ef56a78e8",
   "metadata": {},
   "outputs": [],
   "source": [
    "from contextlib import ExitStack\n",
    "\n",
    "stack = ExitStack()\n",
    "checkpointer = stack.enter_context(SqliteSaver.from_conn_string(\":memory:\"))"
   ]
  },
  {
   "cell_type": "markdown",
   "id": "c08ce803-c016-44ed-a5a1-69b3e3a304d1",
   "metadata": {},
   "source": [
    "&emsp;&emsp;上述代码实现的机制是：\n",
    "1. **创建 `ExitStack` 实例：** `stack = ExitStack()` 创建了一个可以管理多个上下文管理器的堆栈。\n",
    "2. **注册上下文管理器：** `checkpointer = stack.enter_context(SqliteSaver.from_conn_string(\":memory:\"))` 这一行将 `SqliteSaver.from_conn_string(\":memory:\")` 注册到了 `stack` 中。`SqliteSaver.from_conn_string` 返回的上下文管理器对象会被 `ExitStack` 管理，这意味着只有退出 `stack` 的上下文（即调用 `stack.close()`），与之相关的 `SqliteSaver` 才会自动关闭。"
   ]
  },
  {
   "cell_type": "code",
   "execution_count": 42,
   "id": "f3c96a5a-bee7-4e1b-9d2b-3d6655c71361",
   "metadata": {},
   "outputs": [],
   "source": [
    "graph = create_react_agent(llm, tools=tools, checkpointer=checkpointer)"
   ]
  },
  {
   "cell_type": "code",
   "execution_count": 43,
   "id": "2e527363-afb8-418a-a8e3-2ec497d6b59c",
   "metadata": {},
   "outputs": [
    {
     "name": "stdout",
     "output_type": "stream",
     "text": [
      "================================\u001b[1m Human Message \u001b[0m=================================\n",
      "\n",
      "你好，我叫西瓜老师\n",
      "==================================\u001b[1m Ai Message \u001b[0m==================================\n",
      "\n",
      "你好，西瓜老师！很高兴见到您。请问有什么我可以帮助您的？\n",
      "================================\u001b[1m Human Message \u001b[0m=================================\n",
      "\n",
      "请问我叫什么？\n",
      "==================================\u001b[1m Ai Message \u001b[0m==================================\n",
      "\n",
      "您刚才介绍自己叫西瓜老师。\n"
     ]
    }
   ],
   "source": [
    "config = {\"configurable\": {\"thread_id\": \"111\"}}\n",
    "\n",
    "for chunk in graph.stream({\"messages\": [\"你好，我叫西瓜老师\"]}, config, stream_mode=\"values\"):\n",
    "    chunk[\"messages\"][-1].pretty_print()\n",
    " \n",
    "for chunk in graph.stream({\"messages\": [\"请问我叫什么？\"]}, config, stream_mode=\"values\"):\n",
    "    chunk[\"messages\"][-1].pretty_print()"
   ]
  },
  {
   "cell_type": "code",
   "execution_count": 47,
   "id": "a3b7c32c-3954-43f0-97e0-ff5e5c3c9495",
   "metadata": {},
   "outputs": [
    {
     "name": "stdout",
     "output_type": "stream",
     "text": [
      "================================\u001b[1m Human Message \u001b[0m=================================\n",
      "\n",
      "帮我查一下北京的天气\n",
      "==================================\u001b[1m Ai Message \u001b[0m==================================\n",
      "Tool Calls:\n",
      "  get_weather (call_JdgOx868y1RNmAoz3j4eNXYU)\n",
      " Call ID: call_JdgOx868y1RNmAoz3j4eNXYU\n",
      "  Args:\n",
      "    location: Beijing\n",
      "=================================\u001b[1m Tool Message \u001b[0m=================================\n",
      "Name: get_weather\n",
      "\n",
      "{\"coord\": {\"lon\": 116.3972, \"lat\": 39.9075}, \"weather\": [{\"id\": 802, \"main\": \"Clouds\", \"description\": \"\\u591a\\u4e91\", \"icon\": \"03d\"}], \"base\": \"stations\", \"main\": {\"temp\": 1.31, \"feels_like\": 1.31, \"temp_min\": 1.31, \"temp_max\": 1.31, \"pressure\": 1025, \"humidity\": 16, \"sea_level\": 1025, \"grnd_level\": 1020}, \"visibility\": 10000, \"wind\": {\"speed\": 0.54, \"deg\": 292, \"gust\": 1.24}, \"clouds\": {\"all\": 30}, \"dt\": 1735961254, \"sys\": {\"country\": \"CN\", \"sunrise\": 1735947368, \"sunset\": 1735981320}, \"timezone\": 28800, \"id\": 1816670, \"name\": \"Beijing\", \"cod\": 200}\n",
      "==================================\u001b[1m Ai Message \u001b[0m==================================\n",
      "\n",
      "北京当前的天气情况如下：\n",
      "\n",
      "- 天气状况：多云\n",
      "- 温度：1.31°C\n",
      "- 体感温度：1.31°C\n",
      "- 最低温度：1.31°C\n",
      "- 最高温度：1.31°C\n",
      "- 气压：1025 hPa\n",
      "- 湿度：16%\n",
      "- 能见度：10000米\n",
      "- 风速：0.54米/秒，风向292度\n",
      "- 云量：30%\n",
      "\n",
      "此外，北京位于东八区，日出时间为 5:56 AM，日落时间为 4:42 PM。\n"
     ]
    }
   ],
   "source": [
    "config = {\"configurable\": {\"thread_id\": \"22\"}}\n",
    "\n",
    "for chunk in graph.stream({\"messages\": [\"帮我查一下北京的天气\"]}, config, stream_mode=\"values\"):\n",
    "    chunk[\"messages\"][-1].pretty_print()"
   ]
  },
  {
   "cell_type": "code",
   "execution_count": 48,
   "id": "65481989-d989-4414-af25-c170d4dac47a",
   "metadata": {},
   "outputs": [
    {
     "name": "stdout",
     "output_type": "stream",
     "text": [
      "================================\u001b[1m Human Message \u001b[0m=================================\n",
      "\n",
      "请问我刚才问了什么问题？\n",
      "==================================\u001b[1m Ai Message \u001b[0m==================================\n",
      "\n",
      "你刚才问的问题是关于北京的天气情况。\n"
     ]
    }
   ],
   "source": [
    "config = {\"configurable\": {\"thread_id\": \"22\"}}\n",
    "\n",
    "for chunk in graph.stream({\"messages\": [\"请问我刚才问了什么问题？\"]}, config, stream_mode=\"values\"):\n",
    "    chunk[\"messages\"][-1].pretty_print()"
   ]
  },
  {
   "cell_type": "code",
   "execution_count": 49,
   "id": "3cc9cc9c-386b-4dde-8895-482ea6a901ea",
   "metadata": {},
   "outputs": [],
   "source": [
    "stack.close()"
   ]
  },
  {
   "cell_type": "markdown",
   "id": "ca0afd83-b1bb-4263-85cc-7d02a74dfbc1",
   "metadata": {},
   "source": [
    "&emsp;&emsp;这是一个更灵活的方法，适用于同步的环境，其中代码可以跨单元传播，并且仍然可以使用上下文信息。异步版本也是类似的实现思路："
   ]
  },
  {
   "cell_type": "code",
   "execution_count": 55,
   "id": "592ab458-10f8-4cff-8f1c-fc6444409ffc",
   "metadata": {},
   "outputs": [
    {
     "name": "stdout",
     "output_type": "stream",
     "text": [
      "================================\u001b[1m Human Message \u001b[0m=================================\n",
      "\n",
      "帮我查一下北京的天气\n",
      "==================================\u001b[1m Ai Message \u001b[0m==================================\n",
      "Tool Calls:\n",
      "  get_weather (call-4Dbk17Li73VeaWbc1xLVPVNOyXO8)\n",
      " Call ID: call-4Dbk17Li73VeaWbc1xLVPVNOyXO8\n",
      "  Args:\n",
      "    location: Beijing\n",
      "=================================\u001b[1m Tool Message \u001b[0m=================================\n",
      "Name: get_weather\n",
      "\n",
      "{\"coord\": {\"lon\": 116.3972, \"lat\": 39.9075}, \"weather\": [{\"id\": 802, \"main\": \"Clouds\", \"description\": \"\\u591a\\u4e91\", \"icon\": \"03d\"}], \"base\": \"stations\", \"main\": {\"temp\": 0.94, \"feels_like\": 0.94, \"temp_min\": 0.94, \"temp_max\": 0.94, \"pressure\": 1024, \"humidity\": 16, \"sea_level\": 1024, \"grnd_level\": 1018}, \"visibility\": 10000, \"wind\": {\"speed\": 0.72, \"deg\": 225, \"gust\": 1.34}, \"clouds\": {\"all\": 40}, \"dt\": 1735961616, \"sys\": {\"type\": 1, \"id\": 9609, \"country\": \"CN\", \"sunrise\": 1735947368, \"sunset\": 1735981320}, \"timezone\": 28800, \"id\": 1816670, \"name\": \"Beijing\", \"cod\": 200}\n",
      "==================================\u001b[1m Ai Message \u001b[0m==================================\n",
      "\n",
      "北京目前的天气情况如下：\n",
      "\n",
      "- 天气描述：多云\n",
      "- 温度：0.94°C\n",
      "- 体感温度：0.94°C\n",
      "- 气压：1024 hPa\n",
      "- 湿度：16%\n",
      "- 风速：0.72 m/s，风向225°\n",
      "- 能见度：10000米\n",
      "- 云量：40%\n",
      "\n",
      "请注意，以上数据可能会随时变化。\n"
     ]
    }
   ],
   "source": [
    "import asyncio\n",
    "from contextlib import AsyncExitStack\n",
    "from langgraph.checkpoint.sqlite.aio import AsyncSqliteSaver\n",
    "\n",
    "stack = AsyncExitStack()\n",
    "memory = await stack.enter_async_context(AsyncSqliteSaver.from_conn_string(\":memory:\"))\n",
    "\n",
    "graph = create_react_agent(llm, tools=tools, checkpointer=memory)\n",
    "\n",
    "config = {\"configurable\": {\"thread_id\": \"44\"}}\n",
    "\n",
    "async for chunk in graph.astream({\"messages\": [\"帮我查一下北京的天气\"]}, config, stream_mode=\"values\"):\n",
    "    chunk[\"messages\"][-1].pretty_print()"
   ]
  },
  {
   "cell_type": "code",
   "execution_count": 56,
   "id": "114e086f-ad2c-4895-ac01-c83d1b086a61",
   "metadata": {},
   "outputs": [
    {
     "name": "stdout",
     "output_type": "stream",
     "text": [
      "================================\u001b[1m Human Message \u001b[0m=================================\n",
      "\n",
      "我刚才问了你什么问题\n",
      "==================================\u001b[1m Ai Message \u001b[0m==================================\n",
      "\n",
      "你刚才问我北京的天气情况。\n"
     ]
    }
   ],
   "source": [
    "async for chunk in graph.astream({\"messages\": [\"我刚才问了你什么问题\"]}, config, stream_mode=\"values\"):\n",
    "    chunk[\"messages\"][-1].pretty_print()"
   ]
  },
  {
   "cell_type": "markdown",
   "id": "fd563e93-cd1c-444c-ad92-dd6c70add510",
   "metadata": {},
   "source": [
    "&emsp;&emsp;自然，也可以去处理图的事件流，比如："
   ]
  },
  {
   "cell_type": "code",
   "execution_count": 57,
   "id": "8a77e3a7-385b-4193-9daf-dc77d3b877af",
   "metadata": {},
   "outputs": [
    {
     "name": "stdout",
     "output_type": "stream",
     "text": [
      "我是|一个|由|先进|的|人工|智能|技术|驱|动|的|语言|模型|助手|，|专|门|设计|来|帮助|用户|处理|各种|请求|和|问题|。|以下|是|一些|关于|我的|详细|信息|：\n",
      "\n",
      "|1|.| **|技术|基础|**|：\n",
      "|  | -| 我|是|基|于|Open|AI|的|GPT|（|Gener|ative| Pre|-trained| Transformer|）|技术|构|建|的|。\n",
      "|  | -| 我|能够|理解|和|生成|自然|语言|，这|使|我|能够|以|对|话|的|形式|与|用户|互动|。\n",
      "\n",
      "|2|.| **|功能|范围|**|：\n",
      "|  | -| 我|可以|帮助|回答|各种|广|泛|的话|题|，包括|但|不限|于|科学|、|历史|、|地|理|、|技术|、|文化|、|娱乐|和|生活|常|识|。\n",
      "|  | -| 我|也|可以|提供|当前|天气|信息|、|翻|译|文本|、|解释|概|念|、|编|写|文本|、|提供|建议|等|。\n",
      "\n",
      "|3|.| **|数据|基础|**|：\n",
      "|  | -| 我的|知识|基础|是|由|大量|文本|数据|训练|而|来的|，|覆盖|了|互联网|的|广|泛|内容|。\n",
      "|  | -| 我的|知识|更新|至|202|3|年|10|月|，因此|在|此|日期|后的|事件|或|变|更|可能|不|在|我的|知识|范围|内|。\n",
      "\n",
      "|4|.| **|交流|能力|**|：\n",
      "|  | -| 我|能够|理解|多|种|语言|，并|可以|进行|多|语言|交流|。\n",
      "|  | -| 我|旨|在|提供|用户|友|好的|互动|体验|，通过|自然|的|语言|处理|来|回应|问题|。\n",
      "\n",
      "|5|.| **|局|限|性|**|：\n",
      "|  | -| 尽|管|我|经过|大量|数据|训练|，但|我|无法|访问|实时|互联网|，也|不能|即时|更新|新闻|或|信息|。\n",
      "|  | -| 有|时候|我|可能|无法|完全|理解|复杂|的|或|模|糊|的问题|，因此|需要|清|晰|或|简|化|的问题|描述|。\n",
      "\n",
      "|6|.| **|隐|私|与|安全|**|：\n",
      "|  | -| 我|不|具|备|存|储|个人|信息|的|能力|，|所有|交|互|都是|一次|性的|，不|会|被|记录|。\n",
      "|  | -| 用户|的|隐|私|对于|我|来说|是|最高|优|先|级|，我|不|建议|或|鼓|励|分享|个人|敏|感|信息|。\n",
      "\n",
      "|如果|你|有|更多|具体|问题|或|需要|帮助|的|地方|，|随|时|可以|问|我|！|"
     ]
    }
   ],
   "source": [
    "async for event in graph.astream_events({\"messages\": [\"请你非常详细的介绍一下你自己\"]}, config, version=\"v2\"):\n",
    "        kind = event[\"event\"]\n",
    "        if kind == \"on_chat_model_stream\":\n",
    "            content = event[\"data\"][\"chunk\"].content\n",
    "            if content:\n",
    "                print(content, end=\"|\")"
   ]
  },
  {
   "cell_type": "code",
   "execution_count": 58,
   "id": "bc40e77a-f41d-4767-8247-537c1d5702b6",
   "metadata": {},
   "outputs": [],
   "source": [
    "await stack.aclose()"
   ]
  },
  {
   "cell_type": "markdown",
   "id": "d01cc84c-b9a2-4a9a-97f3-288f23085a39",
   "metadata": {},
   "source": [
    "&emsp;&emsp;对于`SqliteSaver`的使用也完全是一样的，大家可以自行进行尝试。"
   ]
  },
  {
   "cell_type": "markdown",
   "id": "cdf2c6a6-764a-4496-b81c-847324163a4d",
   "metadata": {},
   "source": [
    "&emsp;&emsp;总的来说，`LangGraph` 框架中的`Memory`通过状态管理与检查点与 `thread_id` 进行绑定，从而隔离不同线程的记忆和状态，防止并发交互之间的干扰，保证每个线程独立运行。总体而言，`thread_id` 是 `LangGraph` 中组织和管理记忆的关键机制，可实现有效的状态跟踪和交互连续性。但是，**通过`thread_id`不能实现的是：跨线程的交互。**我们虽然可以通过`thread_id`去中断或者恢复某个对话，但是让不同线程间共享各自的消息，在`checkpointer`的实现机制下并不能做到，所以有了`LangGraph`的长期记忆的实现模块。"
   ]
  },
  {
   "cell_type": "markdown",
   "id": "b9757652-410e-4fba-b34e-f4986c0946bd",
   "metadata": {},
   "source": [
    "# 3.长期记忆和Store（仓库）"
   ]
  },
  {
   "cell_type": "markdown",
   "id": "95850751-1e79-457c-a900-525c0221ca3e",
   "metadata": {},
   "source": [
    "&emsp;&emsp;仅使用`checkpointer`，我们无法做到跨线程共享信息。这激发了对`Store`的需求。`LangGraph`通过`BaseStore`接口提供内置文档存储。与通过线程 ID 保存状态的`checkpointer`不同，存储使用自定义命名空间来组织数据。常见用例包括存储用户配置文件、构建知识库以及管理所有线程的全局首选项。具体的**实现形式是：`LangGraph` 将长期记忆作为 `JSON` 文档存储在`Store`中，每个`memory`都组织在自定义`namespace`（类似于文件夹）和不同的`key` （例如文件名）下。命名空间通常包含用户或组织 ID 或其他标签，以便更轻松地组织信息。这种结构可以实现存储器的分层组织。然后通过内容过滤器支持跨命名空间搜索。**\n",
    "\n",
    "&emsp;&emsp;**整体而言，`LangGraph` 中的长期记忆允许系统保留不同对话或会话中的信息。与线程范围的短期记忆不同，长期记忆保存在自定义“命名空间”中。**"
   ]
  },
  {
   "cell_type": "markdown",
   "id": "379eb77b-a763-401c-b3f7-8b87e52346cd",
   "metadata": {},
   "source": [
    "<div align=center><img src=\"../pic/lesson07/e.png\" width=70%></div>"
   ]
  },
  {
   "cell_type": "markdown",
   "id": "1e199fbe-cc54-47bc-9261-3693351a979e",
   "metadata": {},
   "source": [
    "> `Store`的实现源码：https://langchain-ai.github.io/langgraph/reference/store/"
   ]
  },
  {
   "cell_type": "markdown",
   "id": "f074e6c6-bf22-423d-99e7-834972cc746b",
   "metadata": {},
   "source": [
    "&emsp;&emsp;具体的实现方法，是我们可以定义一个`InMemoryStore`来跨线程存储有关用户的信息。`InMemoryStore`会与`checkpointer`协同工作：由`checkpointer`将状态保存到线程，而`InMemoryStore`允许我们存储任意信息以供跨线程访问。我们看一下其实现细节："
   ]
  },
  {
   "cell_type": "code",
   "execution_count": 59,
   "id": "70fb0d2f-99bd-458d-a1a0-6112c148bc26",
   "metadata": {},
   "outputs": [],
   "source": [
    "from langgraph.store.memory import InMemoryStore\n",
    "in_memory_store = InMemoryStore()"
   ]
  },
  {
   "cell_type": "markdown",
   "id": "fa9f7bd4-b520-41f3-9f49-78c15069c9e4",
   "metadata": {},
   "source": [
    "&emsp;&emsp;`namespase`的类型是`tuple`，需要一个键值对。可以理解为：我们以 `user_id=1`这个人的电脑创建了一个`memories`文件夹，所有这个人的数据，都存存放在这个文件夹中。"
   ]
  },
  {
   "cell_type": "code",
   "execution_count": 60,
   "id": "5c0422c1-1452-4b8d-a6e9-60f1f06d23ec",
   "metadata": {},
   "outputs": [],
   "source": [
    "user_id = \"1\"\n",
    "namespace_for_memory = (user_id, \"memories\")"
   ]
  },
  {
   "cell_type": "markdown",
   "id": "d88df157-2f13-4541-be30-ff1bf6f5e498",
   "metadata": {},
   "source": [
    "&emsp;&emsp;接下来使用`.put`方法将`memory`保存到存储中的命名空间中。每个`memory`都有唯一的一个对应的`id`."
   ]
  },
  {
   "cell_type": "code",
   "execution_count": 61,
   "id": "c3f19568-d153-4f05-b9d9-3164b68d99d8",
   "metadata": {},
   "outputs": [],
   "source": [
    "import uuid\n",
    "\n",
    "memory_id = str(uuid.uuid4())\n",
    "memory = {\"user\" : \"你好，我叫西瓜老师\"}\n",
    "in_memory_store.put(namespace_for_memory, memory_id,  memory)"
   ]
  },
  {
   "cell_type": "markdown",
   "id": "38007269-0bbf-4fe3-a2e0-783eab58b489",
   "metadata": {},
   "source": [
    "&emsp;&emsp;当创建完成后，可以使用`store.search`读取命名空间中的记忆，这将以列表的形式返回给定用户的所有记忆。最近的记忆是列表中的最后一个。"
   ]
  },
  {
   "cell_type": "code",
   "execution_count": 62,
   "id": "4141b5f1-8886-4421-bb70-0673f4deacf0",
   "metadata": {},
   "outputs": [
    {
     "data": {
      "text/plain": [
       "{'namespace': ['1', 'memories'],\n",
       " 'key': '29ce13ec-214c-4953-87e6-43ead87d0f1d',\n",
       " 'value': {'user': '你好，我叫西瓜老师'},\n",
       " 'created_at': '2025-01-04T04:02:29.603877+00:00',\n",
       " 'updated_at': '2025-01-04T04:02:29.603882+00:00',\n",
       " 'score': None}"
      ]
     },
     "execution_count": 62,
     "metadata": {},
     "output_type": "execute_result"
    }
   ],
   "source": [
    "memories = in_memory_store.search(namespace_for_memory)\n",
    "memories[-1].dict()"
   ]
  },
  {
   "cell_type": "markdown",
   "id": "913fd1b2-469c-43ba-957d-4d90f9e1a4c7",
   "metadata": {},
   "source": [
    "&emsp;&emsp;理解了上述过程后，就可以使用 `LangGraph` 中的`in_memory_store`方法了，当我们在编译图表时传递 `store` 对象，就会允许图中的每个节点访问 `store`，定义节点函数时的时候，就可以定义`store`关键字参数，`LangGraph` 会自动传递编译图时使用的 `store` 对象，代码如下所示："
   ]
  },
  {
   "cell_type": "code",
   "execution_count": 63,
   "id": "5ee6384a-5fa7-43fe-b6a4-ccac120b95d2",
   "metadata": {},
   "outputs": [
    {
     "data": {
      "image/png": "[encoded data removed]",
      "text/plain": [
       "<IPython.core.display.Image object>"
      ]
     },
     "metadata": {},
     "output_type": "display_data"
    }
   ],
   "source": [
    "import getpass\n",
    "import os\n",
    "from langchain_openai import ChatOpenAI\n",
    "from typing import Annotated\n",
    "from typing_extensions import TypedDict\n",
    "from IPython.display import Image, display\n",
    "from langgraph.graph import StateGraph, MessagesState, START, END\n",
    "from langchain_core.messages import AnyMessage, SystemMessage, HumanMessage, ToolMessage\n",
    "from langgraph.graph.message import add_messages\n",
    "from langchain_core.runnables import RunnableConfig\n",
    "from langgraph.store.base import BaseStore\n",
    "from langgraph.store.memory import InMemoryStore\n",
    "\n",
    "\n",
    "in_memory_store = InMemoryStore()\n",
    "memory = MemorySaver()\n",
    "\n",
    "llm = ChatOpenAI(model=\"gpt-4o\", api_key=key,base_url=base_url,temperature=0,)\n",
    "\n",
    "\n",
    "# 定义状态模式\n",
    "class State(TypedDict):\n",
    "    messages: Annotated[list, add_messages]\n",
    "\n",
    "\n",
    "# 定义对话节点， 访问记忆并在模型调用中使用它们。\n",
    "def call_model(state: MessagesState, config: RunnableConfig, *, store: BaseStore):\n",
    "    # 获取用户id\n",
    "    user_id = config[\"configurable\"][\"user_id\"]\n",
    "\n",
    "    # 定义命名空间\n",
    "    namespace = (\"memories\", user_id)\n",
    "\n",
    "    # 根据用户id检索记忆\n",
    "    memories = store.search(namespace)\n",
    "    info = \"\\n\".join([d.value[\"data\"] for d in memories])\n",
    "\n",
    "    # # 存储记忆\n",
    "    last_message = state[\"messages\"][-1]\n",
    "    store.put(namespace, str(uuid.uuid4()), {\"data\": last_message.content})\n",
    "\n",
    "    system_msg = f\"Answer the user's question in context: {info}\"\n",
    "\n",
    "    response = llm.invoke(\n",
    "        [{\"type\": \"system\", \"content\": system_msg}] + state[\"messages\"]\n",
    "    )\n",
    "\n",
    "    # 存储记忆\n",
    "    store.put(namespace, str(uuid.uuid4()), {\"data\": response.content})\n",
    "    return {\"messages\": response}\n",
    "\n",
    "# 构建状态图\n",
    "builder = StateGraph(State)\n",
    "\n",
    "# 向图中添加节点\n",
    "builder.add_node(\"call_model\", call_model)\n",
    "\n",
    "# 构建边\n",
    "builder.add_edge(START, \"call_model\")\n",
    "builder.add_edge(\"call_model\", END)\n",
    "\n",
    "# 编译图\n",
    "graph = builder.compile(checkpointer=memory, store=in_memory_store)\n",
    "\n",
    "# 可视化\n",
    "display(Image(graph.get_graph().draw_mermaid_png()))"
   ]
  },
  {
   "cell_type": "markdown",
   "id": "c95c9c7b-1319-49d6-8ccd-c9c9d2d81ed7",
   "metadata": {},
   "source": [
    "&emsp;&emsp;接下来我们进行测试："
   ]
  },
  {
   "cell_type": "code",
   "execution_count": 68,
   "id": "24c6ba5b-a855-4b2e-a764-afc20e1ef56a",
   "metadata": {},
   "outputs": [
    {
     "name": "stdout",
     "output_type": "stream",
     "text": [
      "================================\u001b[1m Human Message \u001b[0m=================================\n",
      "\n",
      "你好，我是西瓜老师\n",
      "==================================\u001b[1m Ai Message \u001b[0m==================================\n",
      "\n",
      "你好，西瓜老师！有什么我可以帮助你的吗？\n"
     ]
    }
   ],
   "source": [
    "config = {\"configurable\": {\"thread_id\": \"111\"}, \"user_id\": \"8\"}\n",
    "\n",
    "async for chunk in graph.astream({\"messages\": [\"你好，我是西瓜老师\"]}, config, stream_mode=\"values\"):\n",
    "    chunk[\"messages\"][-1].pretty_print()"
   ]
  },
  {
   "cell_type": "code",
   "execution_count": 69,
   "id": "f53ace80-cf2c-42bb-97d5-0aa458dd1871",
   "metadata": {},
   "outputs": [
    {
     "name": "stdout",
     "output_type": "stream",
     "text": [
      "================================\u001b[1m Human Message \u001b[0m=================================\n",
      "\n",
      "你知道我叫什么吗？\n",
      "==================================\u001b[1m Ai Message \u001b[0m==================================\n",
      "\n",
      "你自我介绍是西瓜老师，不过我并不知道你的真实姓名。如果你想分享更多信息或有其他问题需要帮助，请告诉我！\n"
     ]
    }
   ],
   "source": [
    "config = {\"configurable\": {\"thread_id\": \"111\"}, \"user_id\": \"8\"}\n",
    "\n",
    "async for chunk in graph.astream({\"messages\": [\"你知道我叫什么吗？\"]}, config, stream_mode=\"values\"):\n",
    "    chunk[\"messages\"][-1].pretty_print()"
   ]
  },
  {
   "cell_type": "markdown",
   "id": "1d9f88ec-1bf1-4b92-8bef-c896d477d712",
   "metadata": {},
   "source": [
    "&emsp;&emsp;这一次我们传入相同的`user_id`，但开启一个新的线程："
   ]
  },
  {
   "cell_type": "code",
   "execution_count": 70,
   "id": "7951acc2-e92a-4784-903c-216a56f0ad4c",
   "metadata": {},
   "outputs": [
    {
     "name": "stdout",
     "output_type": "stream",
     "text": [
      "================================\u001b[1m Human Message \u001b[0m=================================\n",
      "\n",
      "你知道我叫什么吗？\n",
      "==================================\u001b[1m Ai Message \u001b[0m==================================\n",
      "\n",
      "你自我介绍是西瓜老师，不过我并不知道你的真实姓名。如果你想分享更多信息或有其他问题需要帮助，请告诉我！\n"
     ]
    }
   ],
   "source": [
    "config = {\"configurable\": {\"thread_id\": \"22\"}, \"user_id\": \"8\"}\n",
    "\n",
    "async for chunk in graph.astream({\"messages\": [\"你知道我叫什么吗？\"]}, config, stream_mode=\"values\"):\n",
    "    chunk[\"messages\"][-1].pretty_print()"
   ]
  },
  {
   "cell_type": "markdown",
   "id": "62827f3e-08f2-4ff8-8082-e19b8ffb3bef",
   "metadata": {},
   "source": [
    "&emsp;&emsp;能够发现，我们已经正确的实现了跨线程的记忆能力。而如果使用新的`user_id`，将会开启全新的交互。"
   ]
  },
  {
   "cell_type": "code",
   "execution_count": 71,
   "id": "df0780fa-f613-4518-acb9-1911e8da67cc",
   "metadata": {},
   "outputs": [
    {
     "name": "stdout",
     "output_type": "stream",
     "text": [
      "================================\u001b[1m Human Message \u001b[0m=================================\n",
      "\n",
      "你知道我叫什么吗？\n",
      "==================================\u001b[1m Ai Message \u001b[0m==================================\n",
      "\n",
      "对不起，我无法知道你的名字。你可以告诉我，你想怎么称呼会对你更好。\n"
     ]
    }
   ],
   "source": [
    "config = {\"configurable\": {\"thread_id\": \"22\"}, \"user_id\": \"9\"}\n",
    "\n",
    "async for chunk in graph.astream({\"messages\": [\"你知道我叫什么吗？\"]}, config, stream_mode=\"values\"):\n",
    "    chunk[\"messages\"][-1].pretty_print()"
   ]
  },
  {
   "cell_type": "markdown",
   "id": "9d944130-30c7-4398-8ec3-98081d2638bd",
   "metadata": {},
   "source": [
    "&emsp;&emsp;我们可以直接去访问`store`查看存储的`memory`信息。"
   ]
  },
  {
   "cell_type": "code",
   "execution_count": 72,
   "id": "26c16230-f30d-4f51-800e-05a5d238e12b",
   "metadata": {},
   "outputs": [
    {
     "name": "stdout",
     "output_type": "stream",
     "text": [
      "{'data': '你好，我是西瓜老师'}\n",
      "{'data': '你好，西瓜老师！有什么我可以帮助你的吗？'}\n",
      "{'data': '你知道我叫什么吗？'}\n",
      "{'data': '你自我介绍是西瓜老师，不过我并不知道你的真实姓名。如果你想分享更多信息或有其他问题需要帮助，请告诉我！'}\n",
      "{'data': '你知道我叫什么吗？'}\n",
      "{'data': '你自我介绍是西瓜老师，不过我并不知道你的真实姓名。如果你想分享更多信息或有其他问题需要帮助，请告诉我！'}\n"
     ]
    }
   ],
   "source": [
    "for memory in in_memory_store.search((\"memories\", \"8\")):\n",
    "    print(memory.value)"
   ]
  },
  {
   "cell_type": "code",
   "execution_count": 73,
   "id": "1056ea9e-2aa6-4869-8f3e-42bf65b0519c",
   "metadata": {},
   "outputs": [
    {
     "name": "stdout",
     "output_type": "stream",
     "text": [
      "{'data': '你知道我叫什么吗？'}\n",
      "{'data': '对不起，我无法知道你的名字。你可以告诉我，你想怎么称呼会对你更好。'}\n"
     ]
    }
   ],
   "source": [
    "for memory in in_memory_store.search((\"memories\", \"9\")):\n",
    "    print(memory.value)"
   ]
  },
  {
   "cell_type": "markdown",
   "id": "2a3e473e-a497-499a-9c16-81181f2449da",
   "metadata": {},
   "source": [
    "&emsp;&emsp;有效的记忆管理可以增强代理维护上下文、从过去的经验中学习以及随着时间的推移做出更明智决策的能力。大多数`AI Agent`构建的应用程序都需要记忆来在多个交互中共享上下文。在 `LangGraph` 中，这种记忆就是通过`checkpointer` 和 `store` 来做持久性，从而添加到任何`StateGraph`中。最常见的用例之一是用它来跟踪对话历史记录，但是也有很大的优化空间，因为随着对话变得越来越长，历史记录会累积并占用越来越多的上下文窗口，导致对大模型的调用更加昂贵和耗时，并且可能会出错。为了防止这种情况发生，我们一般是需要借助一些优化手段去管理对话历史记录，同时更加适配生产环境的` PostgresSaver / AsyncPostgresSaver ）`高级检查点，我们也将随着知识点的进一步补充后，再结合实际的案例进行详细的讲解。"
   ]
  }
 ],
 "metadata": {
  "kernelspec": {
   "display_name": "Python 3 (ipykernel)",
   "language": "python",
   "name": "python3"
  },
  "language_info": {
   "codemirror_mode": {
    "name": "ipython",
    "version": 3
   },
   "file_extension": ".py",
   "mimetype": "text/x-python",
   "name": "python",
   "nbconvert_exporter": "python",
   "pygments_lexer": "ipython3",
   "version": "3.12.3"
  }
 },
 "nbformat": 4,
 "nbformat_minor": 5
}
